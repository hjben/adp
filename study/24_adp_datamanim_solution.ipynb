{
 "cells": [
  {
   "cell_type": "markdown",
   "id": "29f76873",
   "metadata": {},
   "source": [
    "### pakages"
   ]
  },
  {
   "cell_type": "code",
   "execution_count": 233,
   "id": "73aba312",
   "metadata": {},
   "outputs": [
    {
     "data": {
      "text/html": [
       "<style>.container {width:95% !important;}</style>"
      ],
      "text/plain": [
       "<IPython.core.display.HTML object>"
      ]
     },
     "metadata": {},
     "output_type": "display_data"
    }
   ],
   "source": [
    "from IPython.display import display,HTML\n",
    "display(HTML(\"<style>.container {width:95% !important;}</style>\"))\n",
    "import pandas as pd\n",
    "pd.set_option('display.max_columns',200)\n",
    "\n",
    "import matplotlib.pyplot as plt\n",
    "import seaborn as sns\n",
    "\n",
    "\n",
    "from scipy import stats\n",
    "\n",
    "\n",
    "#modeling\n",
    "\n",
    "from sklearn.ensemble import RandomForestRegressor \n",
    "from sklearn.linear_model import LinearRegression\n",
    "\n",
    "from sklearn.model_selection import train_test_split\n",
    "from sklearn.metrics import r2_score\n",
    "from sklearn.metrics import mean_squared_error\n",
    "\n",
    "import statsmodels.api as sm\n",
    "\n",
    "\n",
    "#\n",
    "import warnings \n",
    "warnings.filterwarnings('ignore')"
   ]
  },
  {
   "cell_type": "markdown",
   "id": "0a308b4f",
   "metadata": {},
   "source": [
    "# ADP 24회 실기 문제"
   ]
  },
  {
   "cell_type": "markdown",
   "id": "f4420165",
   "metadata": {},
   "source": [
    "```{admonition} 1번\n",
    "**데이터 확인 및 전처리**     \n",
    "- 데이터 설명\n",
    "    - 성별(sex) 바이너리 : 'F' - 여성 또는 'M' - 남성     \n",
    "    - 나이(age) 숫자: 15 - 22     \n",
    "    - 부모님동거여부 (Pstatus) 바이너리: T: 동거 또는 'A': 별거       \n",
    "    - 엄마학력(Medu) 숫자 : 0 : 없음, 1 : 초등 교육, 2 : 5-9학년, 3 - 중등 교육 또는 4 - 고등 교육    \n",
    "    - 아빠학력(Fedu) 숫자 : 0 : 없음, 1 : 초등 교육, 2 : 5-9학년, 3 - 중등 교육 또는 4 - 고등 교육   \n",
    "    - 주보호자(guardian) 명목형 : '어머니', '아버지' 또는 '기타'     \n",
    "    - 등하교시간(traveltime) 숫자 : 1 : 15분이하, 2 : 15 ~ 30분, 3 : 30분 ~ 1시간, 4 : 1시간 이상       \n",
    "    - 학습시간(studytime) 숫자 : 1 : 2시간이하, 2 : 2~5시간, 3 : 5~10시간, 4 : 10시간이상    \n",
    "    - 학고횟수(failures)  숫자 : 1, 2, 3 else 4     \n",
    "    - 자유시간(freetime) 숫자 : 1(매우 낮음), 2, 3, 4, 5(매우 높음)   \n",
    "    - 가족관계(famrel) 숫자 : 1(매우 나쁨), 2, 3, 4, 5(우수)    \n",
    "```"
   ]
  },
  {
   "cell_type": "markdown",
   "id": "2c6b9644",
   "metadata": {},
   "source": [
    "## 1.1 데이터 EDA 및 시각화 "
   ]
  },
  {
   "cell_type": "code",
   "execution_count": 177,
   "id": "6af6cfe8",
   "metadata": {
    "scrolled": false
   },
   "outputs": [
    {
     "data": {
      "text/html": [
       "<div>\n",
       "<style scoped>\n",
       "    .dataframe tbody tr th:only-of-type {\n",
       "        vertical-align: middle;\n",
       "    }\n",
       "\n",
       "    .dataframe tbody tr th {\n",
       "        vertical-align: top;\n",
       "    }\n",
       "\n",
       "    .dataframe thead th {\n",
       "        text-align: right;\n",
       "    }\n",
       "</style>\n",
       "<table border=\"1\" class=\"dataframe\">\n",
       "  <thead>\n",
       "    <tr style=\"text-align: right;\">\n",
       "      <th></th>\n",
       "      <th>sex</th>\n",
       "      <th>age</th>\n",
       "      <th>Pstatus</th>\n",
       "      <th>Fedu</th>\n",
       "      <th>Medu</th>\n",
       "      <th>guardian</th>\n",
       "      <th>studytime</th>\n",
       "      <th>traveltime</th>\n",
       "      <th>failures</th>\n",
       "      <th>famrel</th>\n",
       "      <th>freetime</th>\n",
       "      <th>absences</th>\n",
       "    </tr>\n",
       "  </thead>\n",
       "  <tbody>\n",
       "    <tr>\n",
       "      <th>결측치숫자</th>\n",
       "      <td>0</td>\n",
       "      <td>3</td>\n",
       "      <td>0</td>\n",
       "      <td>0</td>\n",
       "      <td>0</td>\n",
       "      <td>0</td>\n",
       "      <td>0</td>\n",
       "      <td>3</td>\n",
       "      <td>0</td>\n",
       "      <td>0</td>\n",
       "      <td>5</td>\n",
       "      <td>0</td>\n",
       "    </tr>\n",
       "    <tr>\n",
       "      <th>유니크 값 숫자</th>\n",
       "      <td>2</td>\n",
       "      <td>8</td>\n",
       "      <td>2</td>\n",
       "      <td>5</td>\n",
       "      <td>5</td>\n",
       "      <td>3</td>\n",
       "      <td>4</td>\n",
       "      <td>4</td>\n",
       "      <td>4</td>\n",
       "      <td>5</td>\n",
       "      <td>5</td>\n",
       "      <td>34</td>\n",
       "    </tr>\n",
       "    <tr>\n",
       "      <th>types</th>\n",
       "      <td>object</td>\n",
       "      <td>float64</td>\n",
       "      <td>object</td>\n",
       "      <td>int64</td>\n",
       "      <td>int64</td>\n",
       "      <td>object</td>\n",
       "      <td>int64</td>\n",
       "      <td>float64</td>\n",
       "      <td>int64</td>\n",
       "      <td>int64</td>\n",
       "      <td>float64</td>\n",
       "      <td>int64</td>\n",
       "    </tr>\n",
       "    <tr>\n",
       "      <th>unique sample 3</th>\n",
       "      <td>['F', 'M']</td>\n",
       "      <td>[18.0, 17.0, 15.0]</td>\n",
       "      <td>['A', 'T']</td>\n",
       "      <td>[4, 1, 2]</td>\n",
       "      <td>[4, 1, 3]</td>\n",
       "      <td>['mother', 'father', 'other']</td>\n",
       "      <td>[2, 3, 1]</td>\n",
       "      <td>[2.0, 1.0, 3.0]</td>\n",
       "      <td>[0, 3, 2]</td>\n",
       "      <td>[4, 5, 3]</td>\n",
       "      <td>[3.0, 2.0, 4.0]</td>\n",
       "      <td>[6, 4, 10]</td>\n",
       "    </tr>\n",
       "  </tbody>\n",
       "</table>\n",
       "</div>"
      ],
      "text/plain": [
       "                        sex                 age     Pstatus       Fedu  \\\n",
       "결측치숫자                     0                   3           0          0   \n",
       "유니크 값 숫자                  2                   8           2          5   \n",
       "types                object             float64      object      int64   \n",
       "unique sample 3  ['F', 'M']  [18.0, 17.0, 15.0]  ['A', 'T']  [4, 1, 2]   \n",
       "\n",
       "                      Medu                       guardian  studytime  \\\n",
       "결측치숫자                    0                              0          0   \n",
       "유니크 값 숫자                 5                              3          4   \n",
       "types                int64                         object      int64   \n",
       "unique sample 3  [4, 1, 3]  ['mother', 'father', 'other']  [2, 3, 1]   \n",
       "\n",
       "                      traveltime   failures     famrel         freetime  \\\n",
       "결측치숫자                          3          0          0                5   \n",
       "유니크 값 숫자                       4          4          5                5   \n",
       "types                    float64      int64      int64          float64   \n",
       "unique sample 3  [2.0, 1.0, 3.0]  [0, 3, 2]  [4, 5, 3]  [3.0, 2.0, 4.0]   \n",
       "\n",
       "                   absences  \n",
       "결측치숫자                     0  \n",
       "유니크 값 숫자                 34  \n",
       "types                 int64  \n",
       "unique sample 3  [6, 4, 10]  "
      ]
     },
     "metadata": {},
     "output_type": "display_data"
    },
    {
     "data": {
      "image/png": "[encoded data removed]",
      "text/plain": [
       "<Figure size 1500x700 with 11 Axes>"
      ]
     },
     "metadata": {},
     "output_type": "display_data"
    },
    {
     "name": "stdout",
     "output_type": "stream",
     "text": [
      "답안\n",
      "age를 제외한 컬럼들은 모두 범주형 변수이다. sex화 Pstatus의 경우 uniuqe값이 2개이고 그외 범주형 변수들은 그 이상이다.\n",
      "연속형 변수인 age와 absences간의 상관계수는 0.174로 낮은 상관성을 보인다.\n",
      "sex와 Pstatus는 독립표본 t검정을 시행했을때 sex는 p-value가 0.184로 유의수준 0.05하에서 남녀 차이가 없으며\n",
      "Pstatus의 경우 p-value는 0.007로 귀무가설을 기각한다. 즉 A,T사이에 유의한 차이가 존재한다.\n",
      "두개 컬럼을 제외한 범주형 변수는 일원분산분석으로 차이가 존재하는 그룹이 있는지만 확인 한다. p-value가 0.05이하인 컬럼은\n",
      "Medu,guardian,faiures,freetime이다. 그외 범주형 변수는 범주간 차이가 없다고 볼 수 있다.\n",
      "결측치는 age와 traveltime,freetime 3개컬럼에서 존재한다.\n"
     ]
    }
   ],
   "source": [
    "import pandas as pd\n",
    "\n",
    "df= pd.read_csv('https://raw.githubusercontent.com/Datamanim/datarepo/main/adp/24/problem1.csv')\n",
    "df.head()\n",
    "\n",
    "nulls = df.isnull().sum().to_frame().T\n",
    "nulls.index = ['결측치숫자']\n",
    "uniques = df.nunique().to_frame().T\n",
    "uniques.index = ['유니크 값 숫자']\n",
    "types =df.dtypes.to_frame().rename(columns ={0:'types'}).T\n",
    "un = pd.DataFrame([str(list(df[x].unique()[:3])) for x in df.columns],index=df.columns,columns =['unique sample 3']).T\n",
    "\n",
    "t = pd.concat([nulls,uniques,types,un])\n",
    "display(t)\n",
    "\n",
    "\n",
    "\n",
    "fig,axes = plt.subplots(3,4 , figsize=(15,7))\n",
    "for i,ax in enumerate(axes.flat[:-1]): # absences 제거한 11개 plot\n",
    "    \n",
    "    n_col_name = df.columns[i]\n",
    "    target = df[[n_col_name, 'absences']]\n",
    "    \n",
    "    if n_col_name =='age': # numeric columns to scatter\n",
    "        sns.scatterplot(data=target,x = n_col_name, y ='absences',ax=ax)\n",
    "        corr = round(target.corr().iloc[0,1],3)\n",
    "        \n",
    "        ax.set_title(n_col_name+ f'\\ncorr: {corr}')\n",
    "    else:\n",
    "        sns.boxplot(data=target,x = n_col_name, y ='absences',ax=ax)\n",
    "        n_unique = target[n_col_name].nunique()\n",
    "\n",
    "        if n_unique ==2: \n",
    "            # t-test\n",
    "            t_statistic, p_value = stats.ttest_ind(target.query(\\\n",
    "                            f\"{n_col_name} =='{target[n_col_name].unique()[0]}'\")['absences'], \\\n",
    "                        target.query(\\\n",
    "                            f\"{n_col_name} =='{target[n_col_name].unique()[1]}'\")['absences'])           \n",
    "\n",
    "\n",
    "            round_p =round(p_value,3)\n",
    "            ax.set_title(n_col_name + f\"\\nt-test p-value : {round_p}\")\n",
    "\n",
    "        else:\n",
    "            # anova                               \n",
    "            \n",
    "            f_statistic, p_value = stats.f_oneway(*[list(x)[0] for x in target.groupby([n_col_name]).agg(list).values])\n",
    "            round_p =round(p_value,3)\n",
    "            ax.set_title(n_col_name + f\"\\nANOVA p-value : {round_p}\")\n",
    "            \n",
    "            \n",
    "    ax.set_xlabel('')\n",
    "    \n",
    "    \n",
    "axes.flat[-1].remove()\n",
    "fig.tight_layout()\n",
    "plt.show()\n",
    "print('답안\\nage를 제외한 컬럼들은 모두 범주형 변수이다. sex화 Pstatus의 경우 uniuqe값이 2개이고 그외 범주형 변수들은 그 이상이다.')\n",
    "print('연속형 변수인 age와 absences간의 상관계수는 0.174로 낮은 상관성을 보인다.')\n",
    "print('sex와 Pstatus는 독립표본 t검정을 시행했을때 sex는 p-value가 0.184로 유의수준 0.05하에서 남녀 차이가 없으며')\n",
    "print('Pstatus의 경우 p-value는 0.007로 귀무가설을 기각한다. 즉 A,T사이에 유의한 차이가 존재한다.')\n",
    "print('두개 컬럼을 제외한 범주형 변수는 일원분산분석으로 차이가 존재하는 그룹이 있는지만 확인 한다. p-value가 0.05이하인 컬럼은')\n",
    "print('Medu,guardian,faiures,freetime이다. 그외 범주형 변수는 범주간 차이가 없다고 볼 수 있다.')\n",
    "print('결측치는 age와 traveltime,freetime 3개컬럼에서 존재한다.')"
   ]
  },
  {
   "cell_type": "markdown",
   "id": "947b29b1",
   "metadata": {},
   "source": [
    "## 1.2 결측치 처리 및 변화 시각화, 추가 전처리가 필요하다면 이유와 기대효과를 설명하라"
   ]
  },
  {
   "cell_type": "code",
   "execution_count": 178,
   "id": "f8841311",
   "metadata": {},
   "outputs": [
    {
     "name": "stdout",
     "output_type": "stream",
     "text": [
      "답안\n",
      "결측치는 연속형 변수의 경우 평균, 범주형 변수의 경우 최빈값으로 대치한다.\n",
      "숫자형이지 않은 범주형 변수(sex,Pstatus)의 경우 원핫인코딩을 진행한다. 모델학습에 적합한 형태로 전처리한다\n"
     ]
    },
    {
     "data": {
      "text/html": [
       "<div>\n",
       "<style scoped>\n",
       "    .dataframe tbody tr th:only-of-type {\n",
       "        vertical-align: middle;\n",
       "    }\n",
       "\n",
       "    .dataframe tbody tr th {\n",
       "        vertical-align: top;\n",
       "    }\n",
       "\n",
       "    .dataframe thead th {\n",
       "        text-align: right;\n",
       "    }\n",
       "</style>\n",
       "<table border=\"1\" class=\"dataframe\">\n",
       "  <thead>\n",
       "    <tr style=\"text-align: right;\">\n",
       "      <th></th>\n",
       "      <th>sex</th>\n",
       "      <th>age</th>\n",
       "      <th>Pstatus</th>\n",
       "      <th>Fedu</th>\n",
       "      <th>Medu</th>\n",
       "      <th>guardian</th>\n",
       "      <th>studytime</th>\n",
       "      <th>traveltime</th>\n",
       "      <th>failures</th>\n",
       "      <th>famrel</th>\n",
       "      <th>freetime</th>\n",
       "      <th>absences</th>\n",
       "    </tr>\n",
       "  </thead>\n",
       "  <tbody>\n",
       "    <tr>\n",
       "      <th>결측치숫자</th>\n",
       "      <td>0</td>\n",
       "      <td>3</td>\n",
       "      <td>0</td>\n",
       "      <td>0</td>\n",
       "      <td>0</td>\n",
       "      <td>0</td>\n",
       "      <td>0</td>\n",
       "      <td>3</td>\n",
       "      <td>0</td>\n",
       "      <td>0</td>\n",
       "      <td>5</td>\n",
       "      <td>0</td>\n",
       "    </tr>\n",
       "    <tr>\n",
       "      <th>결측치 제거 후 결측치 숫자</th>\n",
       "      <td>0</td>\n",
       "      <td>0</td>\n",
       "      <td>0</td>\n",
       "      <td>0</td>\n",
       "      <td>0</td>\n",
       "      <td>0</td>\n",
       "      <td>0</td>\n",
       "      <td>0</td>\n",
       "      <td>0</td>\n",
       "      <td>0</td>\n",
       "      <td>0</td>\n",
       "      <td>0</td>\n",
       "    </tr>\n",
       "  </tbody>\n",
       "</table>\n",
       "</div>"
      ],
      "text/plain": [
       "                 sex  age  Pstatus  Fedu  Medu  guardian  studytime  \\\n",
       "결측치숫자              0    3        0     0     0         0          0   \n",
       "결측치 제거 후 결측치 숫자    0    0        0     0     0         0          0   \n",
       "\n",
       "                 traveltime  failures  famrel  freetime  absences  \n",
       "결측치숫자                     3         0       0         5         0  \n",
       "결측치 제거 후 결측치 숫자           0         0       0         0         0  "
      ]
     },
     "metadata": {},
     "output_type": "display_data"
    },
    {
     "data": {
      "text/html": [
       "<div>\n",
       "<style scoped>\n",
       "    .dataframe tbody tr th:only-of-type {\n",
       "        vertical-align: middle;\n",
       "    }\n",
       "\n",
       "    .dataframe tbody tr th {\n",
       "        vertical-align: top;\n",
       "    }\n",
       "\n",
       "    .dataframe thead th {\n",
       "        text-align: right;\n",
       "    }\n",
       "</style>\n",
       "<table border=\"1\" class=\"dataframe\">\n",
       "  <thead>\n",
       "    <tr style=\"text-align: right;\">\n",
       "      <th></th>\n",
       "      <th>age</th>\n",
       "      <th>Fedu</th>\n",
       "      <th>Medu</th>\n",
       "      <th>studytime</th>\n",
       "      <th>traveltime</th>\n",
       "      <th>failures</th>\n",
       "      <th>famrel</th>\n",
       "      <th>freetime</th>\n",
       "      <th>absences</th>\n",
       "      <th>sex_F</th>\n",
       "      <th>sex_M</th>\n",
       "      <th>Pstatus_A</th>\n",
       "      <th>Pstatus_T</th>\n",
       "      <th>guardian_father</th>\n",
       "      <th>guardian_mother</th>\n",
       "      <th>guardian_other</th>\n",
       "    </tr>\n",
       "  </thead>\n",
       "  <tbody>\n",
       "    <tr>\n",
       "      <th>0</th>\n",
       "      <td>18.00000</td>\n",
       "      <td>4</td>\n",
       "      <td>4</td>\n",
       "      <td>2</td>\n",
       "      <td>2.0</td>\n",
       "      <td>0</td>\n",
       "      <td>4</td>\n",
       "      <td>3.0</td>\n",
       "      <td>6</td>\n",
       "      <td>1</td>\n",
       "      <td>0</td>\n",
       "      <td>1</td>\n",
       "      <td>0</td>\n",
       "      <td>0</td>\n",
       "      <td>1</td>\n",
       "      <td>0</td>\n",
       "    </tr>\n",
       "    <tr>\n",
       "      <th>1</th>\n",
       "      <td>17.00000</td>\n",
       "      <td>1</td>\n",
       "      <td>1</td>\n",
       "      <td>2</td>\n",
       "      <td>1.0</td>\n",
       "      <td>0</td>\n",
       "      <td>5</td>\n",
       "      <td>3.0</td>\n",
       "      <td>4</td>\n",
       "      <td>1</td>\n",
       "      <td>0</td>\n",
       "      <td>0</td>\n",
       "      <td>1</td>\n",
       "      <td>1</td>\n",
       "      <td>0</td>\n",
       "      <td>0</td>\n",
       "    </tr>\n",
       "    <tr>\n",
       "      <th>2</th>\n",
       "      <td>15.00000</td>\n",
       "      <td>1</td>\n",
       "      <td>1</td>\n",
       "      <td>2</td>\n",
       "      <td>1.0</td>\n",
       "      <td>3</td>\n",
       "      <td>4</td>\n",
       "      <td>3.0</td>\n",
       "      <td>10</td>\n",
       "      <td>1</td>\n",
       "      <td>0</td>\n",
       "      <td>0</td>\n",
       "      <td>1</td>\n",
       "      <td>0</td>\n",
       "      <td>1</td>\n",
       "      <td>0</td>\n",
       "    </tr>\n",
       "    <tr>\n",
       "      <th>3</th>\n",
       "      <td>15.00000</td>\n",
       "      <td>2</td>\n",
       "      <td>4</td>\n",
       "      <td>3</td>\n",
       "      <td>1.0</td>\n",
       "      <td>0</td>\n",
       "      <td>3</td>\n",
       "      <td>2.0</td>\n",
       "      <td>2</td>\n",
       "      <td>1</td>\n",
       "      <td>0</td>\n",
       "      <td>0</td>\n",
       "      <td>1</td>\n",
       "      <td>0</td>\n",
       "      <td>1</td>\n",
       "      <td>0</td>\n",
       "    </tr>\n",
       "    <tr>\n",
       "      <th>4</th>\n",
       "      <td>16.69898</td>\n",
       "      <td>3</td>\n",
       "      <td>3</td>\n",
       "      <td>2</td>\n",
       "      <td>1.0</td>\n",
       "      <td>0</td>\n",
       "      <td>4</td>\n",
       "      <td>3.0</td>\n",
       "      <td>4</td>\n",
       "      <td>1</td>\n",
       "      <td>0</td>\n",
       "      <td>0</td>\n",
       "      <td>1</td>\n",
       "      <td>1</td>\n",
       "      <td>0</td>\n",
       "      <td>0</td>\n",
       "    </tr>\n",
       "  </tbody>\n",
       "</table>\n",
       "</div>"
      ],
      "text/plain": [
       "        age  Fedu  Medu  studytime  traveltime  failures  famrel  freetime  \\\n",
       "0  18.00000     4     4          2         2.0         0       4       3.0   \n",
       "1  17.00000     1     1          2         1.0         0       5       3.0   \n",
       "2  15.00000     1     1          2         1.0         3       4       3.0   \n",
       "3  15.00000     2     4          3         1.0         0       3       2.0   \n",
       "4  16.69898     3     3          2         1.0         0       4       3.0   \n",
       "\n",
       "   absences  sex_F  sex_M  Pstatus_A  Pstatus_T  guardian_father  \\\n",
       "0         6      1      0          1          0                0   \n",
       "1         4      1      0          0          1                1   \n",
       "2        10      1      0          0          1                0   \n",
       "3         2      1      0          0          1                0   \n",
       "4         4      1      0          0          1                1   \n",
       "\n",
       "   guardian_mother  guardian_other  \n",
       "0                1               0  \n",
       "1                0               0  \n",
       "2                1               0  \n",
       "3                1               0  \n",
       "4                0               0  "
      ]
     },
     "metadata": {},
     "output_type": "display_data"
    }
   ],
   "source": [
    "df['age'].fillna(df['age'].mean(),inplace=True)\n",
    "df['traveltime'].fillna(df['traveltime'].mode()[0],inplace=True)\n",
    "df['freetime'].fillna(df['freetime'].mode()[0],inplace=True)\n",
    "\n",
    "\n",
    "\n",
    "after_nulls = df.isnull().sum().to_frame().T\n",
    "after_nulls.index = ['결측치 제거 후 결측치 숫자']\n",
    "\n",
    "t = pd.concat([nulls,after_nulls])\n",
    "\n",
    "print('답안\\n결측치는 연속형 변수의 경우 평균, 범주형 변수의 경우 최빈값으로 대치한다.')\n",
    "print('숫자형이지 않은 범주형 변수(sex,Pstatus)의 경우 원핫인코딩을 진행한다. 모델학습에 적합한 형태로 전처리한다')\n",
    "\n",
    "display(t)\n",
    "df_dummies = pd.get_dummies(df)\n",
    "display(df_dummies.head())"
   ]
  },
  {
   "cell_type": "markdown",
   "id": "fd7a1f74",
   "metadata": {},
   "source": [
    "## 1.3 결석일수 예측모델을 2개 제시하고 선택한 근거 설명"
   ]
  },
  {
   "cell_type": "code",
   "execution_count": 241,
   "id": "ede5febc",
   "metadata": {},
   "outputs": [
    {
     "name": "stdout",
     "output_type": "stream",
     "text": [
      "결석 일수의 경우 회귀 모델을 선택해야한다. 두가지 모델은 랜덤포레스트와 선형 회귀 모델을 선택한다.\n",
      "선형회귀모델의 경우 회귀모델의 가장 기본적인 모델이기 때문에 선택했고\n",
      "랜덤 포레스트 모델의 경우 스케일링이나 범주형 변수 인코딩 유무에 상관없이 강건한 성격을 보이기에 선택했다.\n"
     ]
    }
   ],
   "source": [
    "print('결석 일수의 경우 회귀 모델을 선택해야한다. 두가지 모델은 랜덤포레스트와 선형 회귀 모델을 선택한다.')\n",
    "print('선형회귀모델의 경우 회귀모델의 가장 기본적인 모델이기 때문에 선택했고')\n",
    "print('랜덤 포레스트 모델의 경우 스케일링이나 범주형 변수 인코딩 유무에 상관없이 강건한 성격을 보이기에 선택했다.')"
   ]
  },
  {
   "cell_type": "markdown",
   "id": "455a7692",
   "metadata": {},
   "source": [
    "## 1.4 선정한 모델 2가지 생성 및 모델의 평가 기준을 선정하고 선정 이유 설명"
   ]
  },
  {
   "cell_type": "code",
   "execution_count": 240,
   "id": "9de659a0",
   "metadata": {
    "scrolled": true
   },
   "outputs": [
    {
     "name": "stdout",
     "output_type": "stream",
     "text": [
      "답안\n",
      "train,test분리를 7:3으로 하고 평균제곱오차(mse)값을 기준으로 모델을 평가한다.\n",
      "해당 지표를 선정한 이유는 예측 오차의 제곱으로 계산하기에 오차에 민감하다는 장점이 있다\n",
      "모델의 결과는 아래와 같다. mse값은 그 값이 작을 수록 좋은 모델이다.\n",
      "선형회귀 모델이 랜덤포레스트 모델보다 좋은 결과를 보였다.\n"
     ]
    },
    {
     "data": {
      "text/html": [
       "<div>\n",
       "<style scoped>\n",
       "    .dataframe tbody tr th:only-of-type {\n",
       "        vertical-align: middle;\n",
       "    }\n",
       "\n",
       "    .dataframe tbody tr th {\n",
       "        vertical-align: top;\n",
       "    }\n",
       "\n",
       "    .dataframe thead th {\n",
       "        text-align: right;\n",
       "    }\n",
       "</style>\n",
       "<table border=\"1\" class=\"dataframe\">\n",
       "  <thead>\n",
       "    <tr style=\"text-align: right;\">\n",
       "      <th></th>\n",
       "      <th>r2_score</th>\n",
       "    </tr>\n",
       "  </thead>\n",
       "  <tbody>\n",
       "    <tr>\n",
       "      <th>랜덤포레스트 mse</th>\n",
       "      <td>75.732523</td>\n",
       "    </tr>\n",
       "    <tr>\n",
       "      <th>선형회귀 mse</th>\n",
       "      <td>36.725670</td>\n",
       "    </tr>\n",
       "  </tbody>\n",
       "</table>\n",
       "</div>"
      ],
      "text/plain": [
       "             r2_score\n",
       "랜덤포레스트 mse  75.732523\n",
       "선형회귀 mse    36.725670"
      ]
     },
     "metadata": {},
     "output_type": "display_data"
    }
   ],
   "source": [
    "x = df_dummies.drop(columns =['absences'])\n",
    "y = df_dummies['absences']\n",
    "\n",
    "\n",
    "x_train,x_test,y_train,y_test = train_test_split(x,y,random_state =1,test_size=0.3)\n",
    "\n",
    "\n",
    "rf = RandomForestRegressor(random_state=2)\n",
    "lr = LinearRegression()\n",
    "\n",
    "rf.fit(x_train,y_train)\n",
    "lr.fit(x_train,y_train)\n",
    "\n",
    "pred_rf = rf.predict(x_test)\n",
    "pred_lr = lr.predict(x_test)\n",
    "\n",
    "mse_rf = mean_squared_error(y_test,pred_rf)\n",
    "mse_lr = mean_squared_error(y_test,pred_lr)\n",
    "\n",
    "\n",
    "result =pd.DataFrame([mse_rf,mse_lr],columns =['r2_score'])\n",
    "result.index = ['랜덤포레스트 mse','선형회귀 mse']\n",
    "\n",
    "print('답안\\ntrain,test분리를 7:3으로 하고 평균제곱오차(mse)값을 기준으로 모델을 평가한다.')\n",
    "print('해당 지표를 선정한 이유는 예측 오차의 제곱으로 계산하기에 오차에 민감하다는 장점이 있다')\n",
    "print('모델의 결과는 아래와 같다. mse값은 그 값이 작을 수록 좋은 모델이다.')\n",
    "print('선형회귀 모델이 랜덤포레스트 모델보다 좋은 결과를 보였다.')\n",
    "display(result)"
   ]
  },
  {
   "cell_type": "markdown",
   "id": "f5b7de07",
   "metadata": {},
   "source": [
    "## 1.5 모델이 다양한 일상 상황에서도 잘 동작한다는 것을 설명하고 시각화 하라"
   ]
  },
  {
   "cell_type": "code",
   "execution_count": 256,
   "id": "482da39c",
   "metadata": {},
   "outputs": [
    {
     "name": "stdout",
     "output_type": "stream",
     "text": [
      "답안\n",
      "스터디원 예시1\n",
      "현재 모델성능 좋지 않음 -> 차원 축소 -> 결석일수가 random으로 퍼져있음 확인 -> 다른 독립변수 찾아서 개선시키겠다\n",
      "\n",
      "스터디원 예시2\n",
      "교차 검증을 통해 일반화 능력을 평가하고 과적합 방지 / 다양한 상황에서 잘 동작하는것 확인\n",
      "\n",
      "스터디원 예시3\n",
      "잔차가 rnadom하게 흩어져 있는것을 확인 -> 최적의 모델이 아님 -> 잘 동작 하게 하기 위한 방안 제안\n",
      "\n",
      "스터디원 예시4\n",
      "다른 추가 트리계열 모델로 학습 -> 모델 성능이 좋지 않음을 확인 -> 일상 상황 잘 동작하지 않는다 결론\n"
     ]
    }
   ],
   "source": [
    "print('답안\\n스터디원 예시1')\n",
    "print('현재 모델성능 좋지 않음 -> 차원 축소 -> 결석일수가 random으로 퍼져있음 확인 -> 다른 독립변수 찾아서 개선시키겠다')\n",
    "print('\\n스터디원 예시2')\n",
    "print('교차 검증을 통해 일반화 능력을 평가하고 과적합 방지 / 다양한 상황에서 잘 동작하는것 확인')\n",
    "print('\\n스터디원 예시3')\n",
    "print('잔차가 rnadom하게 흩어져 있는것을 확인 -> 최적의 모델이 아님 -> 잘 동작 하게 하기 위한 방안 제안')\n",
    "print('\\n스터디원 예시4')\n",
    "print('다른 추가 트리계열 모델로 학습 -> 모델 성능이 좋지 않음을 확인 -> 일상 상황 잘 동작하지 않는다 결론')\n"
   ]
  },
  {
   "cell_type": "markdown",
   "id": "535aa3f8",
   "metadata": {},
   "source": [
    "## 1.6 모델 최적화 방안에 대해 구체적으로 설명하라"
   ]
  },
  {
   "cell_type": "code",
   "execution_count": 245,
   "id": "3ce3e08e",
   "metadata": {},
   "outputs": [
    {
     "name": "stdout",
     "output_type": "stream",
     "text": [
      "선형모델의 최적화를 위해서 스케일링과 연속성을 보이지 않는 범주형 변수들에 대한 추가적인 더미화를 진행시킨 후 모델링을 해볼 수 있다.\n",
      "또한 선형 모델의 경우 변수 선택법과 위에서 확인 했던 통계적 검정결과를 종합하여 예측에 최적화된 변수를 선택하는 실험을 해볼 수 있다.\n"
     ]
    }
   ],
   "source": [
    "print('선형모델의 최적화를 위해서 스케일링과 연속성을 보이지 않는 범주형 변수들에 대한 추가적인 더미화를 진행시킨 후 모델링을 해볼 수 있다.')\n",
    "print('또한 선형 모델의 경우 변수 선택법과 위에서 확인 했던 통계적 검정결과를 종합하여 예측에 최적화된 변수를 선택하는 실험을 해볼 수 있다.')"
   ]
  },
  {
   "cell_type": "markdown",
   "id": "8f0ce0ee",
   "metadata": {},
   "source": [
    "```{admonition} 2번\n",
    "**광고횟수와 광고비에 따른 매출액의 데이터이다**     \n",
    "```"
   ]
  },
  {
   "cell_type": "code",
   "execution_count": 122,
   "id": "d2f0306a",
   "metadata": {
    "ExecuteTime": {
     "end_time": "2022-09-04T04:59:53.353886Z",
     "start_time": "2022-09-04T04:59:52.069005Z"
    },
    "tags": [
     "hide-input"
    ]
   },
   "outputs": [
    {
     "data": {
      "text/html": [
       "<div>\n",
       "<style scoped>\n",
       "    .dataframe tbody tr th:only-of-type {\n",
       "        vertical-align: middle;\n",
       "    }\n",
       "\n",
       "    .dataframe tbody tr th {\n",
       "        vertical-align: top;\n",
       "    }\n",
       "\n",
       "    .dataframe thead th {\n",
       "        text-align: right;\n",
       "    }\n",
       "</style>\n",
       "<table border=\"1\" class=\"dataframe\">\n",
       "  <thead>\n",
       "    <tr style=\"text-align: right;\">\n",
       "      <th></th>\n",
       "      <th>광고횟수</th>\n",
       "      <th>광고비</th>\n",
       "      <th>매출액</th>\n",
       "    </tr>\n",
       "  </thead>\n",
       "  <tbody>\n",
       "    <tr>\n",
       "      <th>0</th>\n",
       "      <td>2</td>\n",
       "      <td>낮음</td>\n",
       "      <td>15</td>\n",
       "    </tr>\n",
       "    <tr>\n",
       "      <th>1</th>\n",
       "      <td>3</td>\n",
       "      <td>낮음</td>\n",
       "      <td>16</td>\n",
       "    </tr>\n",
       "    <tr>\n",
       "      <th>2</th>\n",
       "      <td>4</td>\n",
       "      <td>낮음</td>\n",
       "      <td>17</td>\n",
       "    </tr>\n",
       "    <tr>\n",
       "      <th>3</th>\n",
       "      <td>4</td>\n",
       "      <td>높음</td>\n",
       "      <td>18</td>\n",
       "    </tr>\n",
       "    <tr>\n",
       "      <th>4</th>\n",
       "      <td>5</td>\n",
       "      <td>높음</td>\n",
       "      <td>20</td>\n",
       "    </tr>\n",
       "  </tbody>\n",
       "</table>\n",
       "</div>"
      ],
      "text/plain": [
       "   광고횟수 광고비  매출액\n",
       "0     2  낮음   15\n",
       "1     3  낮음   16\n",
       "2     4  낮음   17\n",
       "3     4  높음   18\n",
       "4     5  높음   20"
      ]
     },
     "execution_count": 122,
     "metadata": {},
     "output_type": "execute_result"
    }
   ],
   "source": [
    "import pandas as pd\n",
    "\n",
    "df= pd.read_csv('https://raw.githubusercontent.com/Datamanim/datarepo/main/adp/24/problem2.csv',encoding='cp949')\n",
    "df.head()\n"
   ]
  },
  {
   "cell_type": "markdown",
   "id": "4650328a",
   "metadata": {},
   "source": [
    "## 2.1 광고비 변수를 가변수 처리후 다중회귀를 수행하여 회귀계수가 유의한지 검정"
   ]
  },
  {
   "cell_type": "code",
   "execution_count": 160,
   "id": "b3ddd472",
   "metadata": {},
   "outputs": [
    {
     "data": {
      "text/html": [
       "<table class=\"simpletable\">\n",
       "<tr>\n",
       "    <td></td>       <th>coef</th>     <th>std err</th>      <th>t</th>      <th>P>|t|</th>  <th>[0.025</th>    <th>0.975]</th>  \n",
       "</tr>\n",
       "<tr>\n",
       "  <th>const</th> <td>   12.1641</td> <td>    0.556</td> <td>   21.876</td> <td> 0.000</td> <td>   10.882</td> <td>   13.446</td>\n",
       "</tr>\n",
       "<tr>\n",
       "  <th>광고횟수</th>  <td>    1.4350</td> <td>    0.074</td> <td>   19.518</td> <td> 0.000</td> <td>    1.265</td> <td>    1.605</td>\n",
       "</tr>\n",
       "<tr>\n",
       "  <th>광고비</th>   <td>    0.5227</td> <td>    0.536</td> <td>    0.975</td> <td> 0.358</td> <td>   -0.713</td> <td>    1.759</td>\n",
       "</tr>\n",
       "</table>"
      ],
      "text/plain": [
       "<class 'statsmodels.iolib.table.SimpleTable'>"
      ]
     },
     "metadata": {},
     "output_type": "display_data"
    },
    {
     "name": "stdout",
     "output_type": "stream",
     "text": [
      "답안\n",
      "광고비 변수의 unique값은 낮음과 높음이다. 이를 각각 0과 1로 가변수 처리하고 다중회귀를 수행한 결과이다.\n",
      "상수항과 광고횟수에 대해서는 p-value가 0 광고비는 0.358이다.\n",
      "해당 검정의 귀무가설은 \"해당 독립 변수의 회귀계수는 0이다. 즉, 해당 독립 변수는 종속 변수에 영향을 미치지 않는다\" 이고\n",
      "대립가설은 \"해당 독립 변수의 회귀계수는 0이 아니다. 즉, 해당 독립 변수는 종속 변수에 영향을 미친다.\" 이다\n",
      "유의 수준 0.05하에서 광고비는 유의하지 않은 회귀계수이다\n"
     ]
    }
   ],
   "source": [
    "df= pd.read_csv('https://raw.githubusercontent.com/Datamanim/datarepo/main/adp/24/problem2.csv',encoding='cp949')\n",
    "df['광고비']  =df['광고비'].map({'낮음':0,'높음':1})\n",
    "\n",
    "y= df['매출액']\n",
    "x = df[['광고횟수','광고비']]\n",
    "x = sm.add_constant(x)\n",
    "model = sm.OLS(y, x).fit()\n",
    "display(model.summary().tables[1])\n",
    "print('답안\\n광고비 변수의 unique값은 낮음과 높음이다. 이를 각각 0과 1로 가변수 처리하고 다중회귀를 수행한 결과이다.')\n",
    "print('상수항과 광고횟수에 대해서는 p-value가 0 광고비는 0.358이다.')\n",
    "print('해당 검정의 귀무가설은 \"해당 독립 변수의 회귀계수는 0이다. 즉, 해당 독립 변수는 종속 변수에 영향을 미치지 않는다\" 이고')\n",
    "print('대립가설은 \"해당 독립 변수의 회귀계수는 0이 아니다. 즉, 해당 독립 변수는 종속 변수에 영향을 미친다.\" 이다')\n",
    "print('유의 수준 0.05하에서 광고비는 유의하지 않은 회귀계수이다')"
   ]
  },
  {
   "cell_type": "markdown",
   "id": "b850b6c3",
   "metadata": {},
   "source": [
    "## 2.2 회귀식이 유의한지 판단"
   ]
  },
  {
   "cell_type": "code",
   "execution_count": 140,
   "id": "3e2b1670",
   "metadata": {},
   "outputs": [
    {
     "data": {
      "text/html": [
       "<table class=\"simpletable\">\n",
       "<caption>OLS Regression Results</caption>\n",
       "<tr>\n",
       "  <th>Dep. Variable:</th>           <td>매출액</td>       <th>  R-squared:         </th> <td>   0.982</td>\n",
       "</tr>\n",
       "<tr>\n",
       "  <th>Model:</th>                   <td>OLS</td>       <th>  Adj. R-squared:    </th> <td>   0.978</td>\n",
       "</tr>\n",
       "<tr>\n",
       "  <th>Method:</th>             <td>Least Squares</td>  <th>  F-statistic:       </th> <td>   221.2</td>\n",
       "</tr>\n",
       "<tr>\n",
       "  <th>Date:</th>             <td>Fri, 18 Aug 2023</td> <th>  Prob (F-statistic):</th> <td>9.96e-08</td>\n",
       "</tr>\n",
       "<tr>\n",
       "  <th>Time:</th>                 <td>23:20:47</td>     <th>  Log-Likelihood:    </th> <td> -11.883</td>\n",
       "</tr>\n",
       "<tr>\n",
       "  <th>No. Observations:</th>      <td>    11</td>      <th>  AIC:               </th> <td>   29.77</td>\n",
       "</tr>\n",
       "<tr>\n",
       "  <th>Df Residuals:</th>          <td>     8</td>      <th>  BIC:               </th> <td>   30.96</td>\n",
       "</tr>\n",
       "<tr>\n",
       "  <th>Df Model:</th>              <td>     2</td>      <th>                     </th>     <td> </td>   \n",
       "</tr>\n",
       "<tr>\n",
       "  <th>Covariance Type:</th>      <td>nonrobust</td>    <th>                     </th>     <td> </td>   \n",
       "</tr>\n",
       "</table>"
      ],
      "text/plain": [
       "<class 'statsmodels.iolib.table.SimpleTable'>"
      ]
     },
     "metadata": {},
     "output_type": "display_data"
    },
    {
     "name": "stdout",
     "output_type": "stream",
     "text": [
      "답안\n",
      "회귀분석에서 F-통계량은 다음과 같은 귀무가설과 대립가설에 대한 검정에 사용된다.\n",
      "귀무가설 : \"모든 독립 변수의 회귀계수가 0이다. 즉, 모든 독립 변수들은 종속 변수에 영향을 미치지 않는다.\" 이고\n",
      "대립가설 : \"적어도 하나의 독립 변수의 회귀계수는 0이 아니다. 즉, 적어도 하나의 독립 변수는 종속 변수에 영향을 미친다.\" 이다\n",
      "회귀식에 대한 통계값들은 위 테이블에서 보는것과 같다. F통계량에 대한 p-value값은 9.96e-08이다.\n",
      "그러므로 귀무가설을 기각한다. 즉 적어도 하나의 독립 변수의 회귀계수는 0이 아니며 유의한 회귀식이다.\n",
      "또한 결정계수 (R-squared)값은 0.982로 최대값인 1에 가깝기에 유의하다 볼 수 있다.\n",
      "그러나 전체 데이터 숫자가 11개로 작은 편이므로 추가되는 데이터에 대해 강건하게 반응하지는 않을 수 있다.\n"
     ]
    }
   ],
   "source": [
    "display(model.summary().tables[0])\n",
    "print('답안\\n회귀분석에서 F-통계량은 다음과 같은 귀무가설과 대립가설에 대한 검정에 사용된다.')\n",
    "print('귀무가설 : \"모든 독립 변수의 회귀계수가 0이다. 즉, 모든 독립 변수들은 종속 변수에 영향을 미치지 않는다.\" 이고')\n",
    "print('대립가설 : \"적어도 하나의 독립 변수의 회귀계수는 0이 아니다. 즉, 적어도 하나의 독립 변수는 종속 변수에 영향을 미친다.\" 이다')\n",
    "print('회귀식에 대한 통계값들은 위 테이블에서 보는것과 같다. F통계량에 대한 p-value값은 9.96e-08이다.')\n",
    "print('그러므로 귀무가설을 기각한다. 즉 적어도 하나의 독립 변수의 회귀계수는 0이 아니며 유의한 회귀식이다.')\n",
    "print('또한 결정계수 (R-squared)값은 0.982로 최대값인 1에 가깝기에 유의하다 볼 수 있다.')\n",
    "print('그러나 전체 데이터 숫자가 11개로 작은 편이므로 추가되는 데이터에 대해 강건하게 반응하지는 않을 수 있다.')"
   ]
  },
  {
   "cell_type": "markdown",
   "id": "8ae7aed4",
   "metadata": {},
   "source": [
    "```{admonition} 3번\n",
    "**A생산라인의 12개 제품 평균은 5.7mm이고 표준편차는 0.03, B생산라인의 12개 제품 평균은 5.6mm이고 표준편차는 0.04이다.  5%유의수준으로 두 제품의 평균이 차이가 있는지 여부를 검정하라 Z(0.05) = 1.96**\n",
    "\n",
    "```"
   ]
  },
  {
   "cell_type": "markdown",
   "id": "c97b0f70",
   "metadata": {},
   "source": [
    "## 3.1 귀무가설과 대립가설을 세워라"
   ]
  },
  {
   "cell_type": "code",
   "execution_count": 156,
   "id": "039b103b",
   "metadata": {
    "scrolled": true
   },
   "outputs": [
    {
     "name": "stdout",
     "output_type": "stream",
     "text": [
      "답안\n",
      "위 문제는 두개의 생산라인의 평균에 대한 차이가 있는지 t-검정을 수행한다.\n",
      "귀무가설 :A생산라인의 제품 평균과 B생산라인의 제품 평균은 차이가 없다.\n",
      "대립가설 :A생산라인의 제품 평균과 B생산라인의 제품 평균은 차이가 있다.\n"
     ]
    }
   ],
   "source": [
    "print('답안\\n위 문제는 두개의 생산라인의 평균에 대한 차이가 있는지 t-검정을 수행한다.')\n",
    "print('귀무가설 :A생산라인의 제품 평균과 B생산라인의 제품 평균은 차이가 없다.')\n",
    "print('대립가설 :A생산라인의 제품 평균과 B생산라인의 제품 평균은 차이가 있다.')"
   ]
  },
  {
   "cell_type": "markdown",
   "id": "7de6ac9f",
   "metadata": {},
   "source": [
    "## 3.2 두 평균이 차이가 있는지 검정하라"
   ]
  },
  {
   "cell_type": "code",
   "execution_count": 249,
   "id": "408237bd",
   "metadata": {},
   "outputs": [
    {
     "data": {
      "text/plain": [
       "5.892973662380285e-07"
      ]
     },
     "execution_count": 249,
     "metadata": {},
     "output_type": "execute_result"
    }
   ],
   "source": [
    "# chatgpt 냥냥하게..\n",
    "mean_A = 5.7\n",
    "stddev_A = 0.03\n",
    "mean_B = 5.6\n",
    "stddev_B = 0.04\n",
    "alpha = 0.05\n",
    "n = 12\n",
    "std_error_diff = np.sqrt((stddev_A**2 / n) + (stddev_B**2 / n))\n",
    "t = (mean_A - mean_B) / std_error_diff\n",
    "df = 2*n - 2\n",
    "p_value = 2 * (1 - stats.t.cdf(abs(t), df))\n",
    "p_value"
   ]
  },
  {
   "cell_type": "markdown",
   "id": "1150da37",
   "metadata": {},
   "source": [
    "## 4 바이러스 감염 분류표를 보고 베이지안 분류 방법을 사용해 양성으로 예측된 사람이 실제로 양성일 확률을 구하라\n",
    "- 인구중 양성 비율(사전 확률)이 주어지지 않았었네요 죄송합니다. 0.01로 두고 풀겠습니다."
   ]
  },
  {
   "cell_type": "markdown",
   "id": "5f06db11",
   "metadata": {},
   "source": [
    "![image](https://github.com/Datamanim/datarepo/blob/main/adp/24/problem4.png?raw=true)"
   ]
  },
  {
   "cell_type": "code",
   "execution_count": 174,
   "id": "75ff46a5",
   "metadata": {
    "scrolled": true
   },
   "outputs": [
    {
     "name": "stdout",
     "output_type": "stream",
     "text": [
      "0.4045926735921268\n"
     ]
    }
   ],
   "source": [
    "tp = 370\n",
    "fn = 15\n",
    "fp = 10\n",
    "tn = 690\n",
    "disease_rate = 0.01\n",
    "result = (tp/(tp +fn))*disease_rate/\\\n",
    "        ((tp/(tp +fn))*disease_rate+((fp/(tn+fp))*(1-disease_rate)))\n",
    "print(result)"
   ]
  },
  {
   "cell_type": "markdown",
   "id": "a38e5c28",
   "metadata": {},
   "source": [
    "```{admonition} 5번\n",
    "**주어진 데이터에서 신뢰구간을 구하려한다**     \n",
    "정규분포에서 표폰을 추출함[Z(0.05) = -1.65 , Z(0.025) = -1.96, T(0.05, 8) = 1.860 , T0.025(0.025, 8) = 2.306]       \n",
    "데이터(9개) : [3.1, 3.3, 3.5, 3.7, 3.9, 4.1, 4.3 4.4, 4.7]     \n",
    "```"
   ]
  },
  {
   "cell_type": "markdown",
   "id": "09b433c5",
   "metadata": {},
   "source": [
    "## 5.1 모분산을 모르는 경우 주어진 데이터의 95% 신뢰구간을 구하라"
   ]
  },
  {
   "cell_type": "code",
   "execution_count": 247,
   "id": "a37eaf55",
   "metadata": {
    "scrolled": true
   },
   "outputs": [
    {
     "data": {
      "text/plain": [
       "(3.4777333086019713, 4.300044469175806)"
      ]
     },
     "execution_count": 247,
     "metadata": {},
     "output_type": "execute_result"
    }
   ],
   "source": [
    "# chatgpt 냥냥하게..\n",
    "data = [3.1, 3.3, 3.5, 3.7, 3.9, 4.1, 4.3, 4.4, 4.7]\n",
    "n = len(data)\n",
    "mean = np.mean(data)\n",
    "stddev = np.std(data, ddof=1) \n",
    "SE = stddev / np.sqrt(n)\n",
    "\n",
    "alpha = 0.05\n",
    "degrees_of_freedom = n - 1\n",
    "t_critical = stats.t.ppf(1 - alpha/2, degrees_of_freedom)\n",
    "\n",
    "margin_of_error = t_critical * SE\n",
    "\n",
    "confidence_interval = (mean - margin_of_error, mean + margin_of_error)\n",
    "confidence_interval"
   ]
  },
  {
   "cell_type": "markdown",
   "id": "10efdc30",
   "metadata": {},
   "source": [
    "## 5.2 sigma = 0.04인걸 알고 있을때의 95% 신뢰구간을 구하라"
   ]
  },
  {
   "cell_type": "code",
   "execution_count": 248,
   "id": "67be81c8",
   "metadata": {},
   "outputs": [
    {
     "data": {
      "text/plain": [
       "(3.862756035761688, 3.9150217420160898)"
      ]
     },
     "execution_count": 248,
     "metadata": {},
     "output_type": "execute_result"
    }
   ],
   "source": [
    "# chatgpt 냥냥하게..\n",
    "n = len(data)\n",
    "mean = np.mean(data)\n",
    "sigma = 0.04\n",
    "\n",
    "alpha = 0.05\n",
    "Z_critical = stats.norm.ppf(1 - alpha/2)  \n",
    "\n",
    "margin_of_error = Z_critical * (sigma / np.sqrt(n))\n",
    "\n",
    "confidence_interval = (mean - margin_of_error, mean + margin_of_error)\n",
    "confidence_interval"
   ]
  }
 ],
 "metadata": {
  "celltoolbar": "Edit Metadata",
  "kernelspec": {
   "display_name": "Python 3 (ipykernel)",
   "language": "python",
   "name": "python3"
  },
  "language_info": {
   "codemirror_mode": {
    "name": "ipython",
    "version": 3
   },
   "file_extension": ".py",
   "mimetype": "text/x-python",
   "name": "python",
   "nbconvert_exporter": "python",
   "pygments_lexer": "ipython3",
   "version": "3.8.16"
  }
 },
 "nbformat": 4,
 "nbformat_minor": 5
}
