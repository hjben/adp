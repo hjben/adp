{
 "cells": [
  {
   "cell_type": "markdown",
   "id": "83ced9f1",
   "metadata": {},
   "source": [
    "# jupyter notebook 단축키\n",
    "- 셀위에 셀 생성 : a\n",
    "- 샐아래 셀 생성 : b\n",
    "- 셀 삭제 : dd\n",
    "- 지운셀 복원 : edit -> undo delete cell버튼\n",
    "- 셀합치기 : shift + m\n",
    "- 셀 실행 : shift + enter (다음셀로이동) , shift + control (현재셀 다시실행)\n",
    "- 마크다운 : 셀 비활성화 (파란상태)에서 m버튼"
   ]
  },
  {
   "cell_type": "markdown",
   "id": "7deebeec",
   "metadata": {},
   "source": [
    "### packages"
   ]
  },
  {
   "cell_type": "code",
   "execution_count": 58,
   "id": "a7d66a6e",
   "metadata": {},
   "outputs": [
    {
     "data": {
      "text/html": [
       "<style>.container {width :95% !important;}</style>"
      ],
      "text/plain": [
       "<IPython.core.display.HTML object>"
      ]
     },
     "metadata": {},
     "output_type": "display_data"
    }
   ],
   "source": [
    "from IPython.display import display ,HTML\n",
    "display(HTML(\"<style>.container {width :95% !important;}</style>\"))\n",
    "\n",
    "# 한글 그래프\n",
    "import matplotlib.pyplot as plt\n",
    "import platform\n",
    "if platform.system() == 'Darwin': #맥\n",
    "        plt.rc('font', family='AppleGothic') \n",
    "elif platform.system() == 'Windows': #윈도우\n",
    "        plt.rc('font', family='Malgun Gothic') \n",
    "elif platform.system() == 'Linux': #리눅스 (구글 콜랩)\n",
    "        #!wget \"https://www.wfonts.com/download/data/2016/06/13/malgun-gothic/malgun.ttf\"\n",
    "        #!mv malgun.ttf /usr/share/fonts/truetype/\n",
    "        #import matplotlib.font_manager as fm \n",
    "        #fm._rebuild() \n",
    "        plt.rc('font', family='Malgun Gothic') \n",
    "plt.rcParams['axes.unicode_minus'] = False #한글 폰트 사용시 마이너스 폰트 깨짐 해결\n",
    "import seaborn as sns\n",
    "\n",
    "import pandas as pd\n",
    "pd.set_option('display.max_columns',200)\n",
    "\n",
    "#sample etc.\n",
    "import numpy as np\n",
    "\n",
    "#pca\n",
    "from sklearn.preprocessing import LabelEncoder\n",
    "from sklearn.decomposition import PCA\n",
    "from sklearn.preprocessing import MinMaxScaler\n",
    "\n",
    "#t-test\n",
    "from scipy.stats import ttest_ind\n",
    "\n",
    "\n",
    "#modeling\n",
    "from sklearn.ensemble import RandomForestClassifier,RandomForestRegressor \n",
    "from sklearn.tree import DecisionTreeClassifier , DecisionTreeRegressor\n",
    "from sklearn.model_selection import train_test_split\n",
    "from sklearn.metrics import accuracy_score, mean_squared_error\n",
    "\n",
    "\n",
    "import warnings \n",
    "warnings.filterwarnings('ignore')\n",
    "\n",
    "\n",
    "from imblearn.over_sampling import SMOTE\n",
    "import xgboost as xgb\n",
    "import scipy.stats as stats\n",
    "import math\n",
    "from scipy.stats import chi2_contingency\n",
    "from statsmodels.stats.multicomp import pairwise_tukeyhsd\n",
    "\n",
    "## by datamanim"
   ]
  },
  {
   "cell_type": "markdown",
   "id": "1e530f30",
   "metadata": {},
   "source": [
    "# 29회 ADP 복원 "
   ]
  },
  {
   "cell_type": "markdown",
   "id": "d0c9251b",
   "metadata": {},
   "source": [
    "# 기계학습 (60점)"
   ]
  },
  {
   "cell_type": "markdown",
   "id": "435ce658",
   "metadata": {},
   "source": [
    "## 데이터 설명\n",
    "- 데이터 출처 : https://www.data.go.kr/data/15094266/fileData.do 후처리\n",
    "- 데이터 링크 : https://raw.githubusercontent.com/Datamanim/datarepo/main/adp/29/p1.csv\n",
    "- 데이터 설명 : 대구도시공사_빅데이터_영구임대아파트 입주자 퇴거여부 데이터, 고유번호를 가진 계약자와 특정 아파트에 대해 매년 퇴거여부를 기록한 데이터"
   ]
  },
  {
   "cell_type": "code",
   "execution_count": 2,
   "id": "3ad5d3bb",
   "metadata": {},
   "outputs": [
    {
     "data": {
      "text/html": [
       "<div>\n",
       "<style scoped>\n",
       "    .dataframe tbody tr th:only-of-type {\n",
       "        vertical-align: middle;\n",
       "    }\n",
       "\n",
       "    .dataframe tbody tr th {\n",
       "        vertical-align: top;\n",
       "    }\n",
       "\n",
       "    .dataframe thead th {\n",
       "        text-align: right;\n",
       "    }\n",
       "</style>\n",
       "<table border=\"1\" class=\"dataframe\">\n",
       "  <thead>\n",
       "    <tr style=\"text-align: right;\">\n",
       "      <th></th>\n",
       "      <th>순번</th>\n",
       "      <th>계약구분</th>\n",
       "      <th>재계약횟수</th>\n",
       "      <th>거주개월</th>\n",
       "      <th>아파트 이름</th>\n",
       "      <th>아파트 ID</th>\n",
       "      <th>아파트 평점</th>\n",
       "      <th>호실고유번호</th>\n",
       "      <th>층</th>\n",
       "      <th>평형대</th>\n",
       "      <th>계약자고유번호</th>\n",
       "      <th>계약서고유번호</th>\n",
       "      <th>입주연도</th>\n",
       "      <th>퇴거연도</th>\n",
       "      <th>거주연도</th>\n",
       "      <th>월세(원)</th>\n",
       "      <th>보증금(원)</th>\n",
       "      <th>대표나이</th>\n",
       "      <th>나이</th>\n",
       "      <th>성별</th>\n",
       "      <th>결혼여부</th>\n",
       "      <th>거주자 수</th>\n",
       "      <th>퇴거여부</th>\n",
       "    </tr>\n",
       "  </thead>\n",
       "  <tbody>\n",
       "    <tr>\n",
       "      <th>0</th>\n",
       "      <td>1</td>\n",
       "      <td>유효</td>\n",
       "      <td>10</td>\n",
       "      <td>222</td>\n",
       "      <td>강남아파트</td>\n",
       "      <td>5</td>\n",
       "      <td>7.0</td>\n",
       "      <td>14520</td>\n",
       "      <td>1</td>\n",
       "      <td>12</td>\n",
       "      <td>15468</td>\n",
       "      <td>15865</td>\n",
       "      <td>2003</td>\n",
       "      <td>NaN</td>\n",
       "      <td>2008</td>\n",
       "      <td>47100</td>\n",
       "      <td>3646000</td>\n",
       "      <td>46</td>\n",
       "      <td>33</td>\n",
       "      <td>남</td>\n",
       "      <td>미혼</td>\n",
       "      <td>3</td>\n",
       "      <td>미퇴거</td>\n",
       "    </tr>\n",
       "    <tr>\n",
       "      <th>1</th>\n",
       "      <td>1</td>\n",
       "      <td>유효</td>\n",
       "      <td>10</td>\n",
       "      <td>222</td>\n",
       "      <td>강남아파트</td>\n",
       "      <td>5</td>\n",
       "      <td>7.0</td>\n",
       "      <td>14520</td>\n",
       "      <td>1</td>\n",
       "      <td>12</td>\n",
       "      <td>15468</td>\n",
       "      <td>15865</td>\n",
       "      <td>2003</td>\n",
       "      <td>NaN</td>\n",
       "      <td>2009</td>\n",
       "      <td>56500</td>\n",
       "      <td>4375000</td>\n",
       "      <td>46</td>\n",
       "      <td>34</td>\n",
       "      <td>남</td>\n",
       "      <td>미혼</td>\n",
       "      <td>3</td>\n",
       "      <td>미퇴거</td>\n",
       "    </tr>\n",
       "    <tr>\n",
       "      <th>2</th>\n",
       "      <td>1</td>\n",
       "      <td>유효</td>\n",
       "      <td>10</td>\n",
       "      <td>222</td>\n",
       "      <td>강남아파트</td>\n",
       "      <td>5</td>\n",
       "      <td>7.0</td>\n",
       "      <td>14520</td>\n",
       "      <td>1</td>\n",
       "      <td>12</td>\n",
       "      <td>15468</td>\n",
       "      <td>15865</td>\n",
       "      <td>2003</td>\n",
       "      <td>NaN</td>\n",
       "      <td>2010</td>\n",
       "      <td>56500</td>\n",
       "      <td>4375000</td>\n",
       "      <td>46</td>\n",
       "      <td>35</td>\n",
       "      <td>남</td>\n",
       "      <td>미혼</td>\n",
       "      <td>3</td>\n",
       "      <td>미퇴거</td>\n",
       "    </tr>\n",
       "    <tr>\n",
       "      <th>3</th>\n",
       "      <td>1</td>\n",
       "      <td>유효</td>\n",
       "      <td>10</td>\n",
       "      <td>222</td>\n",
       "      <td>강남아파트</td>\n",
       "      <td>5</td>\n",
       "      <td>7.0</td>\n",
       "      <td>14520</td>\n",
       "      <td>1</td>\n",
       "      <td>12</td>\n",
       "      <td>15468</td>\n",
       "      <td>15865</td>\n",
       "      <td>2003</td>\n",
       "      <td>NaN</td>\n",
       "      <td>2011</td>\n",
       "      <td>69900</td>\n",
       "      <td>5408000</td>\n",
       "      <td>46</td>\n",
       "      <td>36</td>\n",
       "      <td>남</td>\n",
       "      <td>미혼</td>\n",
       "      <td>3</td>\n",
       "      <td>미퇴거</td>\n",
       "    </tr>\n",
       "    <tr>\n",
       "      <th>4</th>\n",
       "      <td>1</td>\n",
       "      <td>유효</td>\n",
       "      <td>10</td>\n",
       "      <td>222</td>\n",
       "      <td>강남아파트</td>\n",
       "      <td>5</td>\n",
       "      <td>7.0</td>\n",
       "      <td>14520</td>\n",
       "      <td>1</td>\n",
       "      <td>12</td>\n",
       "      <td>15468</td>\n",
       "      <td>15865</td>\n",
       "      <td>2003</td>\n",
       "      <td>NaN</td>\n",
       "      <td>2012</td>\n",
       "      <td>69900</td>\n",
       "      <td>5408000</td>\n",
       "      <td>46</td>\n",
       "      <td>37</td>\n",
       "      <td>남</td>\n",
       "      <td>미혼</td>\n",
       "      <td>3</td>\n",
       "      <td>미퇴거</td>\n",
       "    </tr>\n",
       "  </tbody>\n",
       "</table>\n",
       "</div>"
      ],
      "text/plain": [
       "   순번 계약구분  재계약횟수  거주개월 아파트 이름  아파트 ID  아파트 평점  호실고유번호  층  평형대  계약자고유번호  \\\n",
       "0   1   유효     10   222  강남아파트       5     7.0   14520  1   12    15468   \n",
       "1   1   유효     10   222  강남아파트       5     7.0   14520  1   12    15468   \n",
       "2   1   유효     10   222  강남아파트       5     7.0   14520  1   12    15468   \n",
       "3   1   유효     10   222  강남아파트       5     7.0   14520  1   12    15468   \n",
       "4   1   유효     10   222  강남아파트       5     7.0   14520  1   12    15468   \n",
       "\n",
       "   계약서고유번호  입주연도  퇴거연도  거주연도  월세(원)   보증금(원)  대표나이  나이 성별 결혼여부  거주자 수 퇴거여부  \n",
       "0    15865  2003   NaN  2008  47100  3646000    46  33  남   미혼      3  미퇴거  \n",
       "1    15865  2003   NaN  2009  56500  4375000    46  34  남   미혼      3  미퇴거  \n",
       "2    15865  2003   NaN  2010  56500  4375000    46  35  남   미혼      3  미퇴거  \n",
       "3    15865  2003   NaN  2011  69900  5408000    46  36  남   미혼      3  미퇴거  \n",
       "4    15865  2003   NaN  2012  69900  5408000    46  37  남   미혼      3  미퇴거  "
      ]
     },
     "execution_count": 2,
     "metadata": {},
     "output_type": "execute_result"
    }
   ],
   "source": [
    "#encoding = ['utf-8','cp949','utf-8-sig','euc-kr','latin']\n",
    "df =pd.read_csv('https://raw.githubusercontent.com/Datamanim/datarepo/main/adp/29/p1.csv',encoding= 'cp949')\n",
    "df.head()"
   ]
  },
  {
   "cell_type": "markdown",
   "id": "c9373a22",
   "metadata": {},
   "source": [
    "## 1-1  계약자고유번호를 기준으로 거주연도 별 여러개의 데이터가 쌓여 있다. 각 계약자고유번호에 대해 가장 최신의 거주연도 행만 남겨라."
   ]
  },
  {
   "cell_type": "code",
   "execution_count": 3,
   "id": "5c27d862",
   "metadata": {},
   "outputs": [
    {
     "data": {
      "text/html": [
       "<div>\n",
       "<style scoped>\n",
       "    .dataframe tbody tr th:only-of-type {\n",
       "        vertical-align: middle;\n",
       "    }\n",
       "\n",
       "    .dataframe tbody tr th {\n",
       "        vertical-align: top;\n",
       "    }\n",
       "\n",
       "    .dataframe thead th {\n",
       "        text-align: right;\n",
       "    }\n",
       "</style>\n",
       "<table border=\"1\" class=\"dataframe\">\n",
       "  <thead>\n",
       "    <tr style=\"text-align: right;\">\n",
       "      <th></th>\n",
       "      <th>순번</th>\n",
       "      <th>계약구분</th>\n",
       "      <th>재계약횟수</th>\n",
       "      <th>거주개월</th>\n",
       "      <th>아파트 이름</th>\n",
       "      <th>아파트 ID</th>\n",
       "      <th>아파트 평점</th>\n",
       "      <th>호실고유번호</th>\n",
       "      <th>층</th>\n",
       "      <th>평형대</th>\n",
       "      <th>계약자고유번호</th>\n",
       "      <th>계약서고유번호</th>\n",
       "      <th>입주연도</th>\n",
       "      <th>퇴거연도</th>\n",
       "      <th>거주연도</th>\n",
       "      <th>월세(원)</th>\n",
       "      <th>보증금(원)</th>\n",
       "      <th>대표나이</th>\n",
       "      <th>나이</th>\n",
       "      <th>성별</th>\n",
       "      <th>결혼여부</th>\n",
       "      <th>거주자 수</th>\n",
       "      <th>퇴거여부</th>\n",
       "    </tr>\n",
       "  </thead>\n",
       "  <tbody>\n",
       "    <tr>\n",
       "      <th>0</th>\n",
       "      <td>12673</td>\n",
       "      <td>해지</td>\n",
       "      <td>4</td>\n",
       "      <td>88</td>\n",
       "      <td>지산5단지아파트</td>\n",
       "      <td>3</td>\n",
       "      <td>8.0</td>\n",
       "      <td>85369</td>\n",
       "      <td>6</td>\n",
       "      <td>12</td>\n",
       "      <td>1</td>\n",
       "      <td>1</td>\n",
       "      <td>2005</td>\n",
       "      <td>2012.0</td>\n",
       "      <td>2012</td>\n",
       "      <td>77300</td>\n",
       "      <td>5302000</td>\n",
       "      <td>44</td>\n",
       "      <td>35</td>\n",
       "      <td>남</td>\n",
       "      <td>기혼</td>\n",
       "      <td>2</td>\n",
       "      <td>퇴거</td>\n",
       "    </tr>\n",
       "    <tr>\n",
       "      <th>1</th>\n",
       "      <td>12683</td>\n",
       "      <td>해지</td>\n",
       "      <td>7</td>\n",
       "      <td>174</td>\n",
       "      <td>지산5단지아파트</td>\n",
       "      <td>3</td>\n",
       "      <td>8.0</td>\n",
       "      <td>85421</td>\n",
       "      <td>6</td>\n",
       "      <td>15</td>\n",
       "      <td>6</td>\n",
       "      <td>6</td>\n",
       "      <td>2001</td>\n",
       "      <td>2016.0</td>\n",
       "      <td>2016</td>\n",
       "      <td>48600</td>\n",
       "      <td>2144000</td>\n",
       "      <td>32</td>\n",
       "      <td>27</td>\n",
       "      <td>남</td>\n",
       "      <td>미혼</td>\n",
       "      <td>1</td>\n",
       "      <td>퇴거</td>\n",
       "    </tr>\n",
       "    <tr>\n",
       "      <th>2</th>\n",
       "      <td>12702</td>\n",
       "      <td>유효</td>\n",
       "      <td>10</td>\n",
       "      <td>237</td>\n",
       "      <td>지산5단지아파트</td>\n",
       "      <td>3</td>\n",
       "      <td>8.0</td>\n",
       "      <td>85576</td>\n",
       "      <td>7</td>\n",
       "      <td>15</td>\n",
       "      <td>14</td>\n",
       "      <td>14</td>\n",
       "      <td>2001</td>\n",
       "      <td>NaN</td>\n",
       "      <td>2020</td>\n",
       "      <td>81600</td>\n",
       "      <td>5598000</td>\n",
       "      <td>67</td>\n",
       "      <td>66</td>\n",
       "      <td>남</td>\n",
       "      <td>미혼</td>\n",
       "      <td>1</td>\n",
       "      <td>미퇴거</td>\n",
       "    </tr>\n",
       "  </tbody>\n",
       "</table>\n",
       "</div>"
      ],
      "text/plain": [
       "      순번 계약구분  재계약횟수  거주개월    아파트 이름  아파트 ID  아파트 평점  호실고유번호  층  평형대  계약자고유번호  \\\n",
       "0  12673   해지      4    88  지산5단지아파트       3     8.0   85369  6   12        1   \n",
       "1  12683   해지      7   174  지산5단지아파트       3     8.0   85421  6   15        6   \n",
       "2  12702   유효     10   237  지산5단지아파트       3     8.0   85576  7   15       14   \n",
       "\n",
       "   계약서고유번호  입주연도    퇴거연도  거주연도  월세(원)   보증금(원)  대표나이  나이 성별 결혼여부  거주자 수 퇴거여부  \n",
       "0        1  2005  2012.0  2012  77300  5302000    44  35  남   기혼      2   퇴거  \n",
       "1        6  2001  2016.0  2016  48600  2144000    32  27  남   미혼      1   퇴거  \n",
       "2       14  2001     NaN  2020  81600  5598000    67  66  남   미혼      1  미퇴거  "
      ]
     },
     "metadata": {},
     "output_type": "display_data"
    },
    {
     "name": "stdout",
     "output_type": "stream",
     "text": [
      "답안\n",
      "계약자 고유번호 거주연도 기준으로 정렬하고 계약자 고유번호가 중복인 데이터를 제거한다.\n"
     ]
    }
   ],
   "source": [
    "result = df.sort_values(['계약자고유번호','거주연도']).drop_duplicates('계약자고유번호',keep='last').reset_index(drop=True)\n",
    "display(result.head(3))\n",
    "print('답안\\n계약자 고유번호 거주연도 기준으로 정렬하고 계약자 고유번호가 중복인 데이터를 제거한다.')"
   ]
  },
  {
   "cell_type": "markdown",
   "id": "4bd74ff9",
   "metadata": {},
   "source": [
    "## 1-2 결측치 처리"
   ]
  },
  {
   "cell_type": "code",
   "execution_count": 4,
   "id": "e700c789",
   "metadata": {},
   "outputs": [
    {
     "data": {
      "text/html": [
       "<div>\n",
       "<style scoped>\n",
       "    .dataframe tbody tr th:only-of-type {\n",
       "        vertical-align: middle;\n",
       "    }\n",
       "\n",
       "    .dataframe tbody tr th {\n",
       "        vertical-align: top;\n",
       "    }\n",
       "\n",
       "    .dataframe thead th {\n",
       "        text-align: right;\n",
       "    }\n",
       "</style>\n",
       "<table border=\"1\" class=\"dataframe\">\n",
       "  <thead>\n",
       "    <tr style=\"text-align: right;\">\n",
       "      <th></th>\n",
       "      <th>결측치 숫자</th>\n",
       "    </tr>\n",
       "  </thead>\n",
       "  <tbody>\n",
       "    <tr>\n",
       "      <th>계약구분</th>\n",
       "      <td>61</td>\n",
       "    </tr>\n",
       "    <tr>\n",
       "      <th>아파트 평점</th>\n",
       "      <td>141</td>\n",
       "    </tr>\n",
       "    <tr>\n",
       "      <th>퇴거연도</th>\n",
       "      <td>6257</td>\n",
       "    </tr>\n",
       "  </tbody>\n",
       "</table>\n",
       "</div>"
      ],
      "text/plain": [
       "        결측치 숫자\n",
       "계약구분        61\n",
       "아파트 평점     141\n",
       "퇴거연도      6257"
      ]
     },
     "metadata": {},
     "output_type": "display_data"
    },
    {
     "name": "stdout",
     "output_type": "stream",
     "text": [
      "답안\n",
      "기존 데이터의 결측치는 계약구분, 아파트 평점, 퇴거연도 3가지 컬럼에서 존재한다.\n",
      "계약구분의 경우 퇴거여부와 1대1 매핑이 되고, 아파트 평점의 경우에도 아파트 이름에 따라 1대1 매핑됨을 확인했다. 이를 통해 결측치를 대치한다.\n",
      "퇴거 연도의 경우 현재 \"미퇴거\" 상태라면 존재하지 않는 값이기 때문에 컬럼 자체를 제거한다.\n"
     ]
    }
   ],
   "source": [
    "pre_df = result.copy()\n",
    "dic = {'퇴거':'해지','미퇴거':'유효'}\n",
    "\n",
    "pre_df['계약구분'] = pre_df['퇴거여부'].map(dic)\n",
    "dic_apt = {'강남아파트': 7.0, '까치아파트': 10.0, '비둘기아파트': 5.0, '용지아파트': 7.0, '지산5단지아파트': 8.0}\n",
    "pre_df['아파트 평점'] = pre_df['아파트 이름'].map(dic_apt)\n",
    "pre_df = pre_df.drop(columns =['퇴거연도'])\n",
    "display(result.isnull().sum().where(lambda x : x != 0).dropna().to_frame().rename(columns ={0:'결측치 숫자'}).astype('int'))\n",
    "\n",
    "print('답안\\n기존 데이터의 결측치는 계약구분, 아파트 평점, 퇴거연도 3가지 컬럼에서 존재한다.')\n",
    "print('계약구분의 경우 퇴거여부와 1대1 매핑이 되고, 아파트 평점의 경우에도 아파트 이름에 따라 1대1 매핑됨을 확인했다. 이를 통해 결측치를 대치한다.')\n",
    "print('퇴거 연도의 경우 현재 \"미퇴거\" 상태라면 존재하지 않는 값이기 때문에 컬럼 자체를 제거한다.')"
   ]
  },
  {
   "cell_type": "markdown",
   "id": "0265da78",
   "metadata": {},
   "source": [
    "## 1-3 이상치 처리"
   ]
  },
  {
   "cell_type": "code",
   "execution_count": 5,
   "id": "df13b1c8",
   "metadata": {
    "scrolled": false
   },
   "outputs": [
    {
     "data": {
      "image/png": "[encoded data removed]",
      "text/plain": [
       "<Figure size 700x300 with 2 Axes>"
      ]
     },
     "metadata": {},
     "output_type": "display_data"
    },
    {
     "name": "stdout",
     "output_type": "stream",
     "text": [
      "답안\n",
      "\"나이\"컬럼에 대해서 90세 이상의 경우 90대로 변경\n"
     ]
    }
   ],
   "source": [
    "pre_df['나이이상치_제거'] = (pre_df['나이'] //10 *10).map(lambda x : 90 if x >=90 else x)\n",
    "\n",
    "fig,ax = plt.subplots(1,2,figsize=(7,3))\n",
    "ax[0].boxplot(pre_df['나이'])\n",
    "ax[1].boxplot(pre_df['나이이상치_제거'])\n",
    "ax[0].set_title('이상치 제거 전')\n",
    "ax[1].set_title('이상치 제거 후')\n",
    "ax[1].set_ylim(10,130)\n",
    "ax[0].set_xticks([1],['나이'])\n",
    "ax[1].set_xticks([1],['나이'])\n",
    "plt.show()\n",
    "\n",
    "# 추가적으로 필요하다고 생각하는 컬럼에 대해서 변경은 나름대로 판단해서 작업하시길\n",
    "print('답안\\n\"나이\"컬럼에 대해서 90세 이상의 경우 90대로 변경')"
   ]
  },
  {
   "cell_type": "markdown",
   "id": "36befdb1",
   "metadata": {},
   "source": [
    "## 2-1 재계약 횟수의 중앙값을 기준으로 중앙값보다 크거나 같으면 '높음', 작으면 '낮음' 으로 재계약 횟수 이분 변수를 구성하시오."
   ]
  },
  {
   "cell_type": "code",
   "execution_count": 6,
   "id": "4b72425d",
   "metadata": {
    "scrolled": true
   },
   "outputs": [
    {
     "data": {
      "text/html": [
       "<div>\n",
       "<style scoped>\n",
       "    .dataframe tbody tr th:only-of-type {\n",
       "        vertical-align: middle;\n",
       "    }\n",
       "\n",
       "    .dataframe tbody tr th {\n",
       "        vertical-align: top;\n",
       "    }\n",
       "\n",
       "    .dataframe thead th {\n",
       "        text-align: right;\n",
       "    }\n",
       "</style>\n",
       "<table border=\"1\" class=\"dataframe\">\n",
       "  <thead>\n",
       "    <tr style=\"text-align: right;\">\n",
       "      <th></th>\n",
       "      <th>이분변수</th>\n",
       "    </tr>\n",
       "  </thead>\n",
       "  <tbody>\n",
       "    <tr>\n",
       "      <th>높음</th>\n",
       "      <td>5388</td>\n",
       "    </tr>\n",
       "    <tr>\n",
       "      <th>낮음</th>\n",
       "      <td>4960</td>\n",
       "    </tr>\n",
       "  </tbody>\n",
       "</table>\n",
       "</div>"
      ],
      "text/plain": [
       "    이분변수\n",
       "높음  5388\n",
       "낮음  4960"
      ]
     },
     "metadata": {},
     "output_type": "display_data"
    },
    {
     "name": "stdout",
     "output_type": "stream",
     "text": [
      "답안\n",
      "중앙값은 6이다. 이를 기준으로 이분변수를 나누고 새로운 컬럼을 만든다. \n"
     ]
    }
   ],
   "source": [
    "med=pre_df['재계약횟수'].median()\n",
    "\n",
    "pre_df['이분변수'] = pre_df['재계약횟수'].map(lambda x : '높음' if x >= med else '낮음')\n",
    "display(pre_df['이분변수'].value_counts().to_frame())\n",
    "print('답안\\n중앙값은 6이다. 이를 기준으로 이분변수를 나누고 새로운 컬럼을 만든다. ')"
   ]
  },
  {
   "cell_type": "markdown",
   "id": "0b465a8e",
   "metadata": {},
   "source": [
    "## 2-2 차원축소의 필요성을 논하고, 필요에 따라 차원을 축소하고 불필요하다면 그 근거를 논하시오."
   ]
  },
  {
   "cell_type": "code",
   "execution_count": 7,
   "id": "d8e346d0",
   "metadata": {
    "scrolled": true
   },
   "outputs": [
    {
     "data": {
      "text/html": [
       "<div>\n",
       "<style scoped>\n",
       "    .dataframe tbody tr th:only-of-type {\n",
       "        vertical-align: middle;\n",
       "    }\n",
       "\n",
       "    .dataframe tbody tr th {\n",
       "        vertical-align: top;\n",
       "    }\n",
       "\n",
       "    .dataframe thead th {\n",
       "        text-align: right;\n",
       "    }\n",
       "</style>\n",
       "<table border=\"1\" class=\"dataframe\">\n",
       "  <thead>\n",
       "    <tr style=\"text-align: right;\">\n",
       "      <th></th>\n",
       "      <th>PC_1</th>\n",
       "      <th>PC_2</th>\n",
       "      <th>PC_3</th>\n",
       "      <th>PC_4</th>\n",
       "      <th>PC_5</th>\n",
       "      <th>PC_6</th>\n",
       "      <th>PC_7</th>\n",
       "      <th>PC_8</th>\n",
       "      <th>PC_9</th>\n",
       "      <th>PC_10</th>\n",
       "      <th>PC_11</th>\n",
       "      <th>PC_12</th>\n",
       "      <th>PC_13</th>\n",
       "      <th>PC_14</th>\n",
       "      <th>PC_15</th>\n",
       "      <th>PC_16</th>\n",
       "      <th>PC_17</th>\n",
       "    </tr>\n",
       "  </thead>\n",
       "  <tbody>\n",
       "    <tr>\n",
       "      <th>variance_ratio</th>\n",
       "      <td>0.34</td>\n",
       "      <td>0.20</td>\n",
       "      <td>0.15</td>\n",
       "      <td>0.07</td>\n",
       "      <td>0.06</td>\n",
       "      <td>0.05</td>\n",
       "      <td>0.04</td>\n",
       "      <td>0.02</td>\n",
       "      <td>0.02</td>\n",
       "      <td>0.02</td>\n",
       "      <td>0.01</td>\n",
       "      <td>0.0</td>\n",
       "      <td>0.0</td>\n",
       "      <td>0.0</td>\n",
       "      <td>0.0</td>\n",
       "      <td>0.0</td>\n",
       "      <td>0.0</td>\n",
       "    </tr>\n",
       "    <tr>\n",
       "      <th>cumsum</th>\n",
       "      <td>0.34</td>\n",
       "      <td>0.54</td>\n",
       "      <td>0.69</td>\n",
       "      <td>0.77</td>\n",
       "      <td>0.82</td>\n",
       "      <td>0.87</td>\n",
       "      <td>0.92</td>\n",
       "      <td>0.94</td>\n",
       "      <td>0.96</td>\n",
       "      <td>0.98</td>\n",
       "      <td>0.99</td>\n",
       "      <td>1.0</td>\n",
       "      <td>1.0</td>\n",
       "      <td>1.0</td>\n",
       "      <td>1.0</td>\n",
       "      <td>1.0</td>\n",
       "      <td>1.0</td>\n",
       "    </tr>\n",
       "  </tbody>\n",
       "</table>\n",
       "</div>"
      ],
      "text/plain": [
       "                PC_1  PC_2  PC_3  PC_4  PC_5  PC_6  PC_7  PC_8  PC_9  PC_10  \\\n",
       "variance_ratio  0.34  0.20  0.15  0.07  0.06  0.05  0.04  0.02  0.02   0.02   \n",
       "cumsum          0.34  0.54  0.69  0.77  0.82  0.87  0.92  0.94  0.96   0.98   \n",
       "\n",
       "                PC_11  PC_12  PC_13  PC_14  PC_15  PC_16  PC_17  \n",
       "variance_ratio   0.01    0.0    0.0    0.0    0.0    0.0    0.0  \n",
       "cumsum           0.99    1.0    1.0    1.0    1.0    1.0    1.0  "
      ]
     },
     "metadata": {},
     "output_type": "display_data"
    },
    {
     "name": "stdout",
     "output_type": "stream",
     "text": [
      "답안\n",
      "순번,아파트 이름 호실 고유번호, 계약자 고유번호, 계약서 고유번호는 데이터 구분을 위한 특정 PK이기 때문에 제거한다.\n",
      "대표나이의 경우 2020년 기준의 나이이기 때문에 제거한다. 나이 컬럼은 이상치 제거한 컬럼이 있기 때문에 제거한다.\n",
      "범주형 변수에 대해서 라벨인코딩을 진행한 후 min-max 스케일링을 하고 pca를 진행한다.\n",
      "분산설명력의 경우 7개의 주축을 선택할 경우 92% 데이터 설명이 가능하다.\n",
      "전체 컬럼의 숫자가 17개로 많지 않고 데이터 설명을 위한 데이터 주축의 숫자가 많이 필요 하기 때문에 굳이 차원 축소를 하지 않겠다.\n"
     ]
    }
   ],
   "source": [
    "p_df = pre_df.drop(columns = ['순번','아파트 이름','호실고유번호','계약자고유번호','계약서고유번호','대표나이','나이'])\n",
    "p_df['월세(만원)'] = p_df['월세(원)']/10000\n",
    "p_df['보증금(백만원)'] = p_df['보증금(원)']/1000000\n",
    "p_df = p_df.drop(columns = ['월세(원)','보증금(원)'])\n",
    "\n",
    "\n",
    "for col in p_df.select_dtypes(include= object):\n",
    "    lb = LabelEncoder()\n",
    "    \n",
    "    p_df[col] = lb.fit_transform(p_df[col])\n",
    "    \n",
    "\n",
    "pca = PCA()\n",
    "mm = MinMaxScaler()\n",
    "\n",
    "pca_df = pd.DataFrame(mm.fit_transform(p_df))\n",
    "pca_df.columns = p_df.columns\n",
    "\n",
    "pca.fit(pca_df)\n",
    "ratio = pd.DataFrame(pca.explained_variance_ratio_,columns =['ratio'])\n",
    "ratio['cumsum'] =ratio['ratio'].cumsum()\n",
    "\n",
    "ratio.columns = ['variance_ratio','cumsum']\n",
    "ratio.index = ['PC_' + str(i+1) for i in ratio.index] \n",
    "display(ratio.round(2).T)\n",
    "print('답안\\n순번,아파트 이름 호실 고유번호, 계약자 고유번호, 계약서 고유번호는 데이터 구분을 위한 특정 PK이기 때문에 제거한다.')\n",
    "print('대표나이의 경우 2020년 기준의 나이이기 때문에 제거한다. 나이 컬럼은 이상치 제거한 컬럼이 있기 때문에 제거한다.')\n",
    "print('범주형 변수에 대해서 라벨인코딩을 진행한 후 min-max 스케일링을 하고 pca를 진행한다.')\n",
    "print('분산설명력의 경우 7개의 주축을 선택할 경우 92% 데이터 설명이 가능하다.')\n",
    "print('전체 컬럼의 숫자가 17개로 많지 않고 데이터 설명을 위한 데이터 주축의 숫자가 많이 필요 하기 때문에 굳이 차원 축소를 하지 않겠다.')"
   ]
  },
  {
   "cell_type": "markdown",
   "id": "a50e03d7",
   "metadata": {},
   "source": [
    "## 3-1 재계약 횟수 이분변수를 기준으로 세그먼트를 구분하고 각 세그먼트의 특징을 분석하시오."
   ]
  },
  {
   "cell_type": "code",
   "execution_count": 8,
   "id": "1949e69b",
   "metadata": {},
   "outputs": [
    {
     "data": {
      "image/png": "[encoded data removed]",
      "text/plain": [
       "<Figure size 2400x800 with 16 Axes>"
      ]
     },
     "metadata": {},
     "output_type": "display_data"
    },
    {
     "data": {
      "text/html": [
       "<div>\n",
       "<style scoped>\n",
       "    .dataframe tbody tr th:only-of-type {\n",
       "        vertical-align: middle;\n",
       "    }\n",
       "\n",
       "    .dataframe tbody tr th {\n",
       "        vertical-align: top;\n",
       "    }\n",
       "\n",
       "    .dataframe thead th {\n",
       "        text-align: right;\n",
       "    }\n",
       "</style>\n",
       "<table border=\"1\" class=\"dataframe\">\n",
       "  <thead>\n",
       "    <tr style=\"text-align: right;\">\n",
       "      <th></th>\n",
       "      <th>계약구분</th>\n",
       "      <th>재계약횟수</th>\n",
       "      <th>거주개월</th>\n",
       "      <th>아파트 ID</th>\n",
       "      <th>아파트 평점</th>\n",
       "      <th>층</th>\n",
       "      <th>평형대</th>\n",
       "      <th>입주연도</th>\n",
       "      <th>거주연도</th>\n",
       "      <th>성별</th>\n",
       "      <th>결혼여부</th>\n",
       "      <th>거주자 수</th>\n",
       "      <th>퇴거여부</th>\n",
       "      <th>나이이상치_제거</th>\n",
       "      <th>월세(만원)</th>\n",
       "      <th>보증금(백만원)</th>\n",
       "    </tr>\n",
       "  </thead>\n",
       "  <tbody>\n",
       "    <tr>\n",
       "      <th>p-value</th>\n",
       "      <td>0.0</td>\n",
       "      <td>0.0</td>\n",
       "      <td>0.0</td>\n",
       "      <td>0.0</td>\n",
       "      <td>0.0</td>\n",
       "      <td>0.85174</td>\n",
       "      <td>0.0</td>\n",
       "      <td>0.0</td>\n",
       "      <td>0.0</td>\n",
       "      <td>0.0</td>\n",
       "      <td>0.0</td>\n",
       "      <td>0.0</td>\n",
       "      <td>0.0</td>\n",
       "      <td>0.0</td>\n",
       "      <td>0.0</td>\n",
       "      <td>0.0</td>\n",
       "    </tr>\n",
       "  </tbody>\n",
       "</table>\n",
       "</div>"
      ],
      "text/plain": [
       "0        계약구분  재계약횟수  거주개월  아파트 ID  아파트 평점        층  평형대  입주연도  거주연도   성별  \\\n",
       "p-value   0.0    0.0   0.0     0.0     0.0  0.85174  0.0   0.0   0.0  0.0   \n",
       "\n",
       "0        결혼여부  거주자 수  퇴거여부  나이이상치_제거  월세(만원)  보증금(백만원)  \n",
       "p-value   0.0    0.0   0.0       0.0     0.0       0.0  "
      ]
     },
     "metadata": {},
     "output_type": "display_data"
    },
    {
     "name": "stdout",
     "output_type": "stream",
     "text": [
      "답안\n",
      "이분변수를 기준으로 각 컬럼의 분포에 대한 그래프이다. 이분변수를 기준으로 큰 차이를 보이는 것은 재계약 횟수, 거주개월, 입주연도, 월세,보증금이다.\n",
      "이분변수는 재계약 횟수 중앙값을 기준으로 만든것이기에 거주개월에 대해서는 어느정도 상관성을 보임을 추측 할 수 있다. 거주개월이 긴 경우는 입주연도도 길 것이다.\n",
      "보증금과 월세의 경우의 경우 이분변수가 높은 경우 분산이 더 크다.\n",
      "층을 제외하고는 모든 변수에서 유의 수준 0.05하에서 이분변수 간의 차이가 존재한다.\n",
      "아파트 ID와 층에 따라서는 크게 이분변수의 차이가 존재하지 않는다. 나이의 경우 이분변수가 높을 경우 평균 연령이 높다\n"
     ]
    }
   ],
   "source": [
    "\n",
    "p_value_lst = []\n",
    "fig,ax = plt.subplots(3,6,figsize=(24,8))\n",
    "for i,axes in enumerate(ax.flat[:-2]):\n",
    "    target_columns = p_df.drop(columns =['이분변수']).columns[i]\n",
    "    target_df = p_df[[target_columns,'이분변수']]\n",
    "    target_df['이분변수'] = target_df['이분변수'].map({0:'낮음',1:'높음'}) # 라벨인코딩시에 어떤 레이블링을 했는지 확인해야함\n",
    "    \n",
    "    \n",
    "    s,pv = ttest_ind(target_df.query('이분변수 ==\"높음\"')[target_columns],target_df.query('이분변수 ==\"낮음\"')[target_columns])\n",
    "    p_value_lst.append([target_columns,round(pv,5)])\n",
    "    \n",
    "    \n",
    "    \n",
    "    if '월세' not in target_columns and '보증금' not in target_columns:\n",
    "        sns.histplot(data=target_df ,x= target_columns,hue= '이분변수',ax = axes)\n",
    "        axes.set_xlabel('')\n",
    "        axes.set_title(target_columns,fontsize=15)\n",
    "    \n",
    "    else:\n",
    "        sns.kdeplot(data=target_df ,x= target_columns,hue= '이분변수',ax = axes,)\n",
    "        axes.set_xlabel('')\n",
    "        axes.set_title(target_columns,fontsize=15)\n",
    "            \n",
    "ax.flat[-1].remove()\n",
    "ax.flat[-2].remove()\n",
    "fig.suptitle('재계약 횟수 이분변수 기준 분포',fontsize=30)\n",
    "fig.tight_layout()\n",
    "plt.show()\n",
    "\n",
    "pv_df = pd.DataFrame(p_value_lst).set_index(0).T\n",
    "pv_df.index = ['p-value']\n",
    "\n",
    "display(pv_df)\n",
    "\n",
    "print('답안') \n",
    "print('이분변수를 기준으로 각 컬럼의 분포에 대한 그래프이다. 이분변수를 기준으로 큰 차이를 보이는 것은 재계약 횟수, 거주개월, 입주연도, 월세,보증금이다.')\n",
    "print('이분변수는 재계약 횟수 중앙값을 기준으로 만든것이기에 거주개월에 대해서는 어느정도 상관성을 보임을 추측 할 수 있다. 거주개월이 긴 경우는 입주연도도 길 것이다.')\n",
    "print('보증금과 월세의 경우의 경우 이분변수가 높은 경우 분산이 더 크다.')\n",
    "print('층을 제외하고는 모든 변수에서 유의 수준 0.05하에서 이분변수 간의 차이가 존재한다.')\n",
    "print('아파트 ID와 층에 따라서는 크게 이분변수의 차이가 존재하지 않는다. 나이의 경우 이분변수가 높을 경우 평균 연령이 높다')"
   ]
  },
  {
   "cell_type": "markdown",
   "id": "7c145d8f",
   "metadata": {},
   "source": [
    "## 3-2. 재계약횟수 변수를 종속변수로 하는 회귀 분석을 두 가지 이상의 방법론을 통해 수행하고 최종 모델을 결정하시오. 재계약횟수 이분변수를 종속변수로 하는 분류 분석을 두가지 이상의 방법론을 통해 수행하고 최종 모델을 결정하시오. "
   ]
  },
  {
   "cell_type": "code",
   "execution_count": 9,
   "id": "2349d2be",
   "metadata": {
    "scrolled": true
   },
   "outputs": [
    {
     "data": {
      "text/html": [
       "<div>\n",
       "<style scoped>\n",
       "    .dataframe tbody tr th:only-of-type {\n",
       "        vertical-align: middle;\n",
       "    }\n",
       "\n",
       "    .dataframe tbody tr th {\n",
       "        vertical-align: top;\n",
       "    }\n",
       "\n",
       "    .dataframe thead th {\n",
       "        text-align: right;\n",
       "    }\n",
       "</style>\n",
       "<table border=\"1\" class=\"dataframe\">\n",
       "  <thead>\n",
       "    <tr style=\"text-align: right;\">\n",
       "      <th></th>\n",
       "      <th>test_set_accuracy [reg : mse]</th>\n",
       "    </tr>\n",
       "    <tr>\n",
       "      <th>model</th>\n",
       "      <th></th>\n",
       "    </tr>\n",
       "  </thead>\n",
       "  <tbody>\n",
       "    <tr>\n",
       "      <th>randomforest_classification</th>\n",
       "      <td>0.71</td>\n",
       "    </tr>\n",
       "    <tr>\n",
       "      <th>decisiontree_classification</th>\n",
       "      <td>0.69</td>\n",
       "    </tr>\n",
       "    <tr>\n",
       "      <th>randomforest_regressor</th>\n",
       "      <td>7.22</td>\n",
       "    </tr>\n",
       "    <tr>\n",
       "      <th>decisiontree_regressor</th>\n",
       "      <td>11.03</td>\n",
       "    </tr>\n",
       "  </tbody>\n",
       "</table>\n",
       "</div>"
      ],
      "text/plain": [
       "                             test_set_accuracy [reg : mse]\n",
       "model                                                     \n",
       "randomforest_classification                           0.71\n",
       "decisiontree_classification                           0.69\n",
       "randomforest_regressor                                7.22\n",
       "decisiontree_regressor                               11.03"
      ]
     },
     "metadata": {},
     "output_type": "display_data"
    },
    {
     "name": "stdout",
     "output_type": "stream",
     "text": [
      "답안\n",
      "\n",
      "이분변수는 재계약 횟수를 기준으로 만들었고 재계약 횟수는 거주개월과 거주연도 입주연도와 높은 상관성을 띄기에 이 컬럼들을 제거하고 모델을 생성한다.\n",
      "모델의 변수중요도를 확인하기 위해 트리류 모델들로 비교한다. 회귀모델과 분류 모델 각 경우 랜덤포레스트와 결정트리 모델에 대해 학습하고 결과를 비교한다.\n",
      "분류의 경우 정확도로 모델을 평가하고 회귀모델의 경우 평균제곱오차를 통해 모델을 비교한다. 정확도는 숫자가 클수록 좋은 모델이고\n",
      "mse는 그 값이 작을 수록 모델 오차가 작다고 판단 할 수 있다. 67%의 데이터로 학습하고, 33%의 모델로 평가했을 때\n",
      "분류, 회귀 모두 랜덤포레스트 모델이 더 좋은 성능을 가졌다.\n",
      "의사결정나무에 비해 랜덤포레스트 모델은 많은 앙상블 과정을 거치기에 과적합이 적어서 이런 결과가 나온것으로 보인다.\n"
     ]
    }
   ],
   "source": [
    "preprocessing_df = p_df\n",
    "preprocessing_df = preprocessing_df.rename(columns ={'이분변수':'y'})\n",
    "\n",
    "# 스케일링 안해도되는 장점있고, 변수 중요도 확인 가능한 트리류 계열끼리 비교 \n",
    "# 최종 결과의 경우에도 하나의 데이터 프레임으로 정리하는게 좋지 않을까 / 다양한 모델 및 모델 최적화 과정보다 답변 깔끔하게 쓰는게 더 중요 할듯\n",
    "\n",
    "x = preprocessing_df.drop(columns =['y','재계약횟수','거주개월','거주연도','입주연도'])\n",
    "reg_y = preprocessing_df['재계약횟수']\n",
    "cls_y = preprocessing_df['y']\n",
    "\n",
    "cls_rf = RandomForestClassifier(random_state =3)\n",
    "cls_dc = DecisionTreeClassifier(random_state =3)\n",
    "reg_rf = RandomForestRegressor(random_state =3)\n",
    "reg_dc = DecisionTreeRegressor(random_state =3)\n",
    "\n",
    "\n",
    "\n",
    "def model_(model,types,name): \n",
    "    if types =='cls':\n",
    "        X_train, X_test, y_train, y_test = train_test_split(x, cls_y, test_size=0.33, random_state=42)\n",
    "        model.fit(X_train,y_train)\n",
    "        pred = model.predict(X_test)\n",
    "        acc = accuracy_score(y_test,pred)\n",
    "        \n",
    "    elif types =='reg':\n",
    "        X_train, X_test, y_train, y_test = train_test_split(x, reg_y, test_size=0.33, random_state=42)\n",
    "        model.fit(X_train,y_train)\n",
    "        pred = model.predict(X_test)\n",
    "        acc = mean_squared_error(y_test,pred)\n",
    "        \n",
    "    return {name:acc},model\n",
    "\n",
    "lst = {}\n",
    "model_lst = []\n",
    "for models in [[cls_rf,'cls','randomforest_classification'],[cls_dc,'cls','decisiontree_classification'],[reg_rf,'reg','randomforest_regressor'],[reg_dc,'reg','decisiontree_regressor']]:\n",
    "    model = models[0]\n",
    "    types = models[1]\n",
    "    name = models[2]\n",
    "    acc,model = model_(model,types,name)\n",
    "    lst.update(acc)\n",
    "    model_lst.append(model)\n",
    "    \n",
    "models = pd.DataFrame(lst.items(),columns = ['model','test_set_accuracy [reg : mse]']).set_index('model')\n",
    "display(models.round(2))\n",
    "print('답안\\n')\n",
    "print('이분변수는 재계약 횟수를 기준으로 만들었고 재계약 횟수는 거주개월과 거주연도 입주연도와 높은 상관성을 띄기에 이 컬럼들을 제거하고 모델을 생성한다.')\n",
    "print('모델의 변수중요도를 확인하기 위해 트리류 모델들로 비교한다. 회귀모델과 분류 모델 각 경우 랜덤포레스트와 결정트리 모델에 대해 학습하고 결과를 비교한다.')\n",
    "print('분류의 경우 정확도로 모델을 평가하고 회귀모델의 경우 평균제곱오차를 통해 모델을 비교한다. 정확도는 숫자가 클수록 좋은 모델이고')\n",
    "print('mse는 그 값이 작을 수록 모델 오차가 작다고 판단 할 수 있다. 67%의 데이터로 학습하고, 33%의 모델로 평가했을 때')\n",
    "print(\"분류, 회귀 모두 랜덤포레스트 모델이 더 좋은 성능을 가졌다.\")\n",
    "print('의사결정나무에 비해 랜덤포레스트 모델은 많은 앙상블 과정을 거치기에 과적합이 적어서 이런 결과가 나온것으로 보인다.')"
   ]
  },
  {
   "cell_type": "markdown",
   "id": "0384e775",
   "metadata": {},
   "source": [
    "## 3-3 최종 채택한 모델에서 각각 유의하게 작용하는 변수를 확인 하고 설명하시오"
   ]
  },
  {
   "cell_type": "code",
   "execution_count": 10,
   "id": "f8475a63",
   "metadata": {},
   "outputs": [
    {
     "data": {
      "image/png": "[encoded data removed]",
      "text/plain": [
       "<Figure size 1000x400 with 2 Axes>"
      ]
     },
     "metadata": {},
     "output_type": "display_data"
    },
    {
     "name": "stdout",
     "output_type": "stream",
     "text": [
      "답안\n",
      "\n",
      "분류모델의 경우 보증금, 월세, 층 순서로 중요도를 보였고\n",
      "회귀 모델의 경우 보증금, 층, 나이이상치 제거 순서로 변수 중요도를 보였다\n"
     ]
    }
   ],
   "source": [
    "fig,ax = plt.subplots(1,2,figsize=(10,4))\n",
    "ax[0].barh(model_lst[0].feature_names_in_,model_lst[0].feature_importances_)\n",
    "ax[1].barh(model_lst[2].feature_names_in_,model_lst[-1].feature_importances_)\n",
    "\n",
    "ax[0].set_title('분류모델_랜덤포레스트 변수중요도',fontsize=15)\n",
    "ax[1].set_title('회귀모델_랜덤포레스트 변수중요도',fontsize=15)\n",
    "fig.tight_layout()\n",
    "plt.show()\n",
    "\n",
    "print('답안\\n')\n",
    "print('분류모델의 경우 보증금, 월세, 층 순서로 중요도를 보였고')\n",
    "print('회귀 모델의 경우 보증금, 층, 나이이상치 제거 순서로 변수 중요도를 보였다')"
   ]
  },
  {
   "cell_type": "markdown",
   "id": "c8f2a882",
   "metadata": {},
   "source": [
    "## 3-4 해당 데이터 분석결과로 얻을 수 있는 점 제시"
   ]
  },
  {
   "cell_type": "code",
   "execution_count": 11,
   "id": "924c859f",
   "metadata": {},
   "outputs": [
    {
     "data": {
      "text/html": [
       "<div>\n",
       "<style scoped>\n",
       "    .dataframe tbody tr th:only-of-type {\n",
       "        vertical-align: middle;\n",
       "    }\n",
       "\n",
       "    .dataframe tbody tr th {\n",
       "        vertical-align: top;\n",
       "    }\n",
       "\n",
       "    .dataframe thead tr th {\n",
       "        text-align: left;\n",
       "    }\n",
       "</style>\n",
       "<table border=\"1\" class=\"dataframe\">\n",
       "  <thead>\n",
       "    <tr>\n",
       "      <th></th>\n",
       "      <th>월세(만원)</th>\n",
       "      <th>보증금(백만원)</th>\n",
       "      <th>나이이상치_제거</th>\n",
       "      <th>입주연도</th>\n",
       "    </tr>\n",
       "    <tr>\n",
       "      <th></th>\n",
       "      <th>mean</th>\n",
       "      <th>mean</th>\n",
       "      <th>mean</th>\n",
       "      <th>mean</th>\n",
       "    </tr>\n",
       "  </thead>\n",
       "  <tbody>\n",
       "    <tr>\n",
       "      <th>낮음</th>\n",
       "      <td>4.95</td>\n",
       "      <td>2.67</td>\n",
       "      <td>54.57</td>\n",
       "      <td>2011.27</td>\n",
       "    </tr>\n",
       "    <tr>\n",
       "      <th>높음</th>\n",
       "      <td>7.72</td>\n",
       "      <td>4.86</td>\n",
       "      <td>61.38</td>\n",
       "      <td>2003.25</td>\n",
       "    </tr>\n",
       "  </tbody>\n",
       "</table>\n",
       "</div>"
      ],
      "text/plain": [
       "   월세(만원) 보증금(백만원) 나이이상치_제거     입주연도\n",
       "     mean     mean     mean     mean\n",
       "낮음   4.95     2.67    54.57  2011.27\n",
       "높음   7.72     4.86    61.38  2003.25"
      ]
     },
     "metadata": {},
     "output_type": "display_data"
    },
    {
     "name": "stdout",
     "output_type": "stream",
     "text": [
      "재계약 횟수의 중앙값을 기준으로 세그먼트를 나눠 분석해 보았다.\n",
      "층수의 경우 이분변수간 통계적으로 유의한 차이를 보이지 않았지만, 모델에서는 상위 구분을 위한 중요도를 보였다.\n",
      "재계약 횟수가 높은 경우 월세와 보증금의 평균값이 평균 2배 높았고 대표 거주인의 나이도 있고 7살 많았다.\n"
     ]
    }
   ],
   "source": [
    "r= p_df[['이분변수','월세(만원)','보증금(백만원)','나이이상치_제거','입주연도']].groupby(['이분변수']).agg(['mean']).round(2)\n",
    "r.index = ['낮음','높음']\n",
    "display(r)\n",
    "print('재계약 횟수의 중앙값을 기준으로 세그먼트를 나눠 분석해 보았다.')\n",
    "print('층수의 경우 이분변수간 통계적으로 유의한 차이를 보이지 않았지만, 모델에서는 상위 구분을 위한 중요도를 보였다.')\n",
    "print('재계약 횟수가 높은 경우 월세와 보증금의 평균값이 평균 2배 높았고 대표 거주인의 나이도 있고 7살 많았다.')\n",
    "\n",
    "# 뭔가 더 인사이트가 한두줄 더 들어가야 할 것 같습니다 ㅎㅎ;"
   ]
  },
  {
   "cell_type": "markdown",
   "id": "c684b36a",
   "metadata": {},
   "source": [
    "## 데이터 설명\n",
    "- 데이터 출처 : https://www.kaggle.com/datasets/pschale/mlb-pitch-data-20152018 데이터를 후처리\n",
    "- 데이터 링크 : https://raw.githubusercontent.com/Datamanim/datarepo/main/adp/29/p2_.csv\n",
    "- 데이터 설명 : \n",
    "\n",
    "A 야구구단의 시합 결과중 일부를 나타낸다.    \n",
    "각 행은 하나의 경기를 의미(game_id)하며 9회차(= 9이닝) 동안 1번타자, 2번타자의 출루 정보를 의미한다.     \n",
    "각 컬럼에 대한 설명은 아래 이미지와 같으며, value값의 index는 이미지의 '수치 의미' 열을 통해 확인 할 수 있다.\n"
   ]
  },
  {
   "cell_type": "markdown",
   "id": "dbd91d8b",
   "metadata": {},
   "source": [
    "<img src=\"https://github.com/Datamanim/datarepo/blob/main/adp/29/p1_img.png?raw=true\" width=\"500\" height=\"600\">"
   ]
  },
  {
   "cell_type": "markdown",
   "id": "1bc6f69c",
   "metadata": {},
   "source": [
    "## 4-1 각 회차별로 1번 타자의 출루 (1,2,3루타와 사사구(볼넷, 몸에맞는공))가 있는 경우에 대해 득점이 발생 했는지 확인하고자 한다. 이를 위한 전처리를 수행하라. (단, 첫 번째 혹은 두 번째 타자가 홈런을 친 경우 해당 회차 데이터는 제외한다.)     \n",
    "\n",
    "조건1 : 득점여부를 범주형 종속변수로 한다. (1점이상 득점 :1, 무득점 :0)     \n",
    "조건2 : 각 회차 2번 타자의 데이터는 원핫 인코딩한다.    \n",
    "조건3 : 학습에 적절하지 않은 데이터는 제외한다.    "
   ]
  },
  {
   "cell_type": "markdown",
   "id": "9e1cab9f",
   "metadata": {},
   "source": [
    "제가 이해하고 의도한 29회 4-1번 문제에 대한 가이드 입니다.\n",
    "(4-1) 전처리 가이드\n",
    "1. 첫타자와 둘째타자의 각 이닝별 출루현황, 해당 이닝의 득점수를 3columns의 데이터로 변환\n",
    "2. 정수형 값이 아닌 데이터 행를 제거\n",
    "3. 홈런 (4)값을 가지는 행을 제거\n",
    "4. 이닝별 점수를 binary로 변환 (득점 있으면 1 ,없으면 0 )\n",
    "5. 둘째 타자 출루 결과를 one-hot encoding"
   ]
  },
  {
   "cell_type": "code",
   "execution_count": 12,
   "id": "1c315c81",
   "metadata": {},
   "outputs": [
    {
     "data": {
      "text/html": [
       "<div>\n",
       "<style scoped>\n",
       "    .dataframe tbody tr th:only-of-type {\n",
       "        vertical-align: middle;\n",
       "    }\n",
       "\n",
       "    .dataframe tbody tr th {\n",
       "        vertical-align: top;\n",
       "    }\n",
       "\n",
       "    .dataframe thead th {\n",
       "        text-align: right;\n",
       "    }\n",
       "</style>\n",
       "<table border=\"1\" class=\"dataframe\">\n",
       "  <thead>\n",
       "    <tr style=\"text-align: right;\">\n",
       "      <th></th>\n",
       "      <th>game_id</th>\n",
       "      <th>inning</th>\n",
       "      <th>first_hitter</th>\n",
       "      <th>second_hitter_1</th>\n",
       "      <th>second_hitter_2</th>\n",
       "      <th>second_hitter_3</th>\n",
       "      <th>second_hitter_5</th>\n",
       "      <th>second_hitter_6</th>\n",
       "      <th>second_hitter_7</th>\n",
       "      <th>second_hitter_8</th>\n",
       "      <th>second_hitter_9</th>\n",
       "      <th>inning_score</th>\n",
       "    </tr>\n",
       "  </thead>\n",
       "  <tbody>\n",
       "    <tr>\n",
       "      <th>0</th>\n",
       "      <td>201900016</td>\n",
       "      <td>1</td>\n",
       "      <td>0</td>\n",
       "      <td>0</td>\n",
       "      <td>0</td>\n",
       "      <td>0</td>\n",
       "      <td>1</td>\n",
       "      <td>0</td>\n",
       "      <td>0</td>\n",
       "      <td>0</td>\n",
       "      <td>0</td>\n",
       "      <td>0</td>\n",
       "    </tr>\n",
       "    <tr>\n",
       "      <th>1</th>\n",
       "      <td>201900103</td>\n",
       "      <td>1</td>\n",
       "      <td>0</td>\n",
       "      <td>0</td>\n",
       "      <td>0</td>\n",
       "      <td>0</td>\n",
       "      <td>0</td>\n",
       "      <td>1</td>\n",
       "      <td>0</td>\n",
       "      <td>0</td>\n",
       "      <td>0</td>\n",
       "      <td>0</td>\n",
       "    </tr>\n",
       "    <tr>\n",
       "      <th>2</th>\n",
       "      <td>201900112</td>\n",
       "      <td>1</td>\n",
       "      <td>0</td>\n",
       "      <td>0</td>\n",
       "      <td>0</td>\n",
       "      <td>0</td>\n",
       "      <td>0</td>\n",
       "      <td>0</td>\n",
       "      <td>1</td>\n",
       "      <td>0</td>\n",
       "      <td>0</td>\n",
       "      <td>0</td>\n",
       "    </tr>\n",
       "    <tr>\n",
       "      <th>3</th>\n",
       "      <td>201900131</td>\n",
       "      <td>1</td>\n",
       "      <td>0</td>\n",
       "      <td>1</td>\n",
       "      <td>0</td>\n",
       "      <td>0</td>\n",
       "      <td>0</td>\n",
       "      <td>0</td>\n",
       "      <td>0</td>\n",
       "      <td>0</td>\n",
       "      <td>0</td>\n",
       "      <td>0</td>\n",
       "    </tr>\n",
       "    <tr>\n",
       "      <th>4</th>\n",
       "      <td>201900141</td>\n",
       "      <td>1</td>\n",
       "      <td>1</td>\n",
       "      <td>0</td>\n",
       "      <td>0</td>\n",
       "      <td>0</td>\n",
       "      <td>1</td>\n",
       "      <td>0</td>\n",
       "      <td>0</td>\n",
       "      <td>0</td>\n",
       "      <td>0</td>\n",
       "      <td>0</td>\n",
       "    </tr>\n",
       "  </tbody>\n",
       "</table>\n",
       "</div>"
      ],
      "text/plain": [
       "     game_id  inning  first_hitter  second_hitter_1  second_hitter_2  \\\n",
       "0  201900016       1             0                0                0   \n",
       "1  201900103       1             0                0                0   \n",
       "2  201900112       1             0                0                0   \n",
       "3  201900131       1             0                1                0   \n",
       "4  201900141       1             1                0                0   \n",
       "\n",
       "   second_hitter_3  second_hitter_5  second_hitter_6  second_hitter_7  \\\n",
       "0                0                1                0                0   \n",
       "1                0                0                1                0   \n",
       "2                0                0                0                1   \n",
       "3                0                0                0                0   \n",
       "4                0                1                0                0   \n",
       "\n",
       "   second_hitter_8  second_hitter_9  inning_score  \n",
       "0                0                0             0  \n",
       "1                0                0             0  \n",
       "2                0                0             0  \n",
       "3                0                0             0  \n",
       "4                0                0             0  "
      ]
     },
     "execution_count": 12,
     "metadata": {},
     "output_type": "execute_result"
    }
   ],
   "source": [
    "df =pd.read_csv('https://raw.githubusercontent.com/Datamanim/datarepo/main/adp/29/p2_.csv')\n",
    "\n",
    "lst = []\n",
    "for i in range(1,10):\n",
    "    each_innings_df = df[['game_id',f'a{i}_1',f'a{i}_2',f'b{i}']].reset_index(drop=True)\n",
    "    each_innings_df.columns =['game_id','first_hitter','second_hitter','inning_score']\n",
    "    each_innings_df.loc[:,'inning'] = i\n",
    "    lst.append(each_innings_df)\n",
    "    \n",
    "t = pd.concat(lst).reset_index(drop=True)\n",
    "tt = t[t.first_hitter.map(lambda x : str(x).isdigit())].reset_index(drop=True)\n",
    "tt.first_hitter =tt.first_hitter.astype('int')\n",
    "tt.second_hitter =tt.second_hitter.astype('int')\n",
    "\n",
    "tts = tt[(tt.first_hitter != 4) & (tt.second_hitter != 4)].reset_index(drop=True)\n",
    "tts.inning_score =tts.inning_score.map(lambda x : 1 if x >0 else 0)\n",
    "\n",
    "sec = pd.get_dummies(tts.second_hitter.astype('str'))\n",
    "sec.columns = ['second_hitter_' + str(x) for x in sec.columns]\n",
    "\n",
    "g = pd.concat([tts[['game_id','first_hitter','inning_score','inning']],sec],axis=1)\n",
    "result= g[['game_id','inning', 'first_hitter', 'second_hitter_1','second_hitter_2', 'second_hitter_3', 'second_hitter_5','second_hitter_6', 'second_hitter_7', 'second_hitter_8','second_hitter_9','inning_score']]\n",
    "result['first_hitter'] = result['first_hitter'].map(lambda x : 1 if x in [1,2,3,6,8] else 0 )\n",
    "result.head()"
   ]
  },
  {
   "cell_type": "markdown",
   "id": "d95f4e52",
   "metadata": {},
   "source": [
    "## 4-2 4-1 데이터에 대해 Logistic Regression을 적용하고 2번타자의 희생번트 여부에 대한 회귀 계수 검정을 하라"
   ]
  },
  {
   "cell_type": "code",
   "execution_count": 13,
   "id": "8e7beb8e",
   "metadata": {
    "scrolled": false
   },
   "outputs": [
    {
     "data": {
      "text/html": [
       "<table class=\"simpletable\">\n",
       "<tr>\n",
       "         <td></td>            <th>coef</th>     <th>std err</th>      <th>z</th>      <th>P>|z|</th>  <th>[0.025</th>    <th>0.975]</th>  \n",
       "</tr>\n",
       "<tr>\n",
       "  <th>first_hitter</th>    <td>    1.8849</td> <td>    0.138</td> <td>   13.618</td> <td> 0.000</td> <td>    1.614</td> <td>    2.156</td>\n",
       "</tr>\n",
       "<tr>\n",
       "  <th>second_hitter_1</th> <td>   -0.5886</td> <td>    0.146</td> <td>   -4.019</td> <td> 0.000</td> <td>   -0.876</td> <td>   -0.302</td>\n",
       "</tr>\n",
       "<tr>\n",
       "  <th>second_hitter_2</th> <td>    0.2610</td> <td>    0.251</td> <td>    1.041</td> <td> 0.298</td> <td>   -0.230</td> <td>    0.753</td>\n",
       "</tr>\n",
       "<tr>\n",
       "  <th>second_hitter_3</th> <td>    2.0157</td> <td>    1.061</td> <td>    1.900</td> <td> 0.057</td> <td>   -0.064</td> <td>    4.095</td>\n",
       "</tr>\n",
       "<tr>\n",
       "  <th>second_hitter_5</th> <td>   -2.0612</td> <td>    0.122</td> <td>  -16.887</td> <td> 0.000</td> <td>   -2.300</td> <td>   -1.822</td>\n",
       "</tr>\n",
       "<tr>\n",
       "  <th>second_hitter_6</th> <td>   -0.6097</td> <td>    0.200</td> <td>   -3.047</td> <td> 0.002</td> <td>   -1.002</td> <td>   -0.218</td>\n",
       "</tr>\n",
       "<tr>\n",
       "  <th>second_hitter_7</th> <td>   -2.5450</td> <td>    0.181</td> <td>  -14.095</td> <td> 0.000</td> <td>   -2.899</td> <td>   -2.191</td>\n",
       "</tr>\n",
       "<tr>\n",
       "  <th>second_hitter_8</th> <td>   -0.4915</td> <td>    0.579</td> <td>   -0.849</td> <td> 0.396</td> <td>   -1.626</td> <td>    0.643</td>\n",
       "</tr>\n",
       "<tr>\n",
       "  <th>second_hitter_9</th> <td>   -0.9835</td> <td>    0.273</td> <td>   -3.607</td> <td> 0.000</td> <td>   -1.518</td> <td>   -0.449</td>\n",
       "</tr>\n",
       "</table>"
      ],
      "text/plain": [
       "<class 'statsmodels.iolib.table.SimpleTable'>"
      ]
     },
     "metadata": {},
     "output_type": "display_data"
    },
    {
     "name": "stdout",
     "output_type": "stream",
     "text": [
      "답안\n",
      "2번타자의 희생번트의 경우 second_hitter_9 컬럼의 p-value를 보면된다. 이는 0으로 유의수준 0.05하에서 귀무가설을 기각한다.\n",
      "즉 해당 변수는 종속 변수에 영향을 준다\n"
     ]
    }
   ],
   "source": [
    "x = result.drop(columns =['game_id','inning_score','inning'])\n",
    "y = result['inning_score']\n",
    "\n",
    "import statsmodels.api as sm\n",
    "model = sm.Logit(y,x)\n",
    "res = model.fit(disp=False)\n",
    "display(res.summary().tables[1])\n",
    "print('답안\\n2번타자의 희생번트의 경우 second_hitter_9 컬럼의 p-value를 보면된다. 이는 0으로 유의수준 0.05하에서 귀무가설을 기각한다.')\n",
    "print('즉 해당 변수는 종속 변수에 영향을 준다')"
   ]
  },
  {
   "cell_type": "markdown",
   "id": "ced79c7b",
   "metadata": {},
   "source": [
    "## 4-3 SMOTE (random_state =0 지정)를 적용하여 data imbalance를 해결하라"
   ]
  },
  {
   "cell_type": "code",
   "execution_count": 16,
   "id": "28708ace",
   "metadata": {},
   "outputs": [
    {
     "data": {
      "text/html": [
       "<div>\n",
       "<style scoped>\n",
       "    .dataframe tbody tr th:only-of-type {\n",
       "        vertical-align: middle;\n",
       "    }\n",
       "\n",
       "    .dataframe tbody tr th {\n",
       "        vertical-align: top;\n",
       "    }\n",
       "\n",
       "    .dataframe thead th {\n",
       "        text-align: right;\n",
       "    }\n",
       "</style>\n",
       "<table border=\"1\" class=\"dataframe\">\n",
       "  <thead>\n",
       "    <tr style=\"text-align: right;\">\n",
       "      <th></th>\n",
       "      <th>smote 이전 데이터 분포</th>\n",
       "      <th>smote 이후 데이터 분포</th>\n",
       "    </tr>\n",
       "  </thead>\n",
       "  <tbody>\n",
       "    <tr>\n",
       "      <th>레이블 0</th>\n",
       "      <td>1096</td>\n",
       "      <td>1096</td>\n",
       "    </tr>\n",
       "    <tr>\n",
       "      <th>레이블 1</th>\n",
       "      <td>511</td>\n",
       "      <td>1096</td>\n",
       "    </tr>\n",
       "  </tbody>\n",
       "</table>\n",
       "</div>"
      ],
      "text/plain": [
       "        smote 이전 데이터 분포  smote 이후 데이터 분포\n",
       "레이블 0              1096             1096\n",
       "레이블 1               511             1096"
      ]
     },
     "metadata": {},
     "output_type": "display_data"
    },
    {
     "name": "stdout",
     "output_type": "stream",
     "text": [
      "풀이\n",
      "smote를 통해 레이블 1의 숫자에 맞췄다.\n"
     ]
    }
   ],
   "source": [
    "smote = SMOTE(sampling_strategy='auto', random_state=0)\n",
    "X_resampled, y_resampled = smote.fit_resample(x, y)\n",
    "\n",
    "result = pd.concat([y.value_counts(),y_resampled.value_counts()],axis=1)\n",
    "result.columns = ['smote 이전 데이터 분포','smote 이후 데이터 분포']\n",
    "result.index = ['레이블 0 ','레이블 1']\n",
    "display(result)\n",
    "print('풀이\\nsmote를 통해 레이블 1의 숫자에 맞췄다.')"
   ]
  },
  {
   "cell_type": "markdown",
   "id": "0b20a303",
   "metadata": {},
   "source": [
    "## 4-4 4-3 구성 데이터에 Logistic Regression을 적용하고 결과를 분석하라"
   ]
  },
  {
   "cell_type": "code",
   "execution_count": 19,
   "id": "16520555",
   "metadata": {},
   "outputs": [
    {
     "data": {
      "text/html": [
       "<table class=\"simpletable\">\n",
       "<tr>\n",
       "         <td></td>            <th>coef</th>     <th>std err</th>      <th>z</th>      <th>P>|z|</th>  <th>[0.025</th>    <th>0.975]</th>  \n",
       "</tr>\n",
       "<tr>\n",
       "  <th>first_hitter</th>    <td>    1.8849</td> <td>    0.138</td> <td>   13.618</td> <td> 0.000</td> <td>    1.614</td> <td>    2.156</td>\n",
       "</tr>\n",
       "<tr>\n",
       "  <th>second_hitter_1</th> <td>   -0.5886</td> <td>    0.146</td> <td>   -4.019</td> <td> 0.000</td> <td>   -0.876</td> <td>   -0.302</td>\n",
       "</tr>\n",
       "<tr>\n",
       "  <th>second_hitter_2</th> <td>    0.2610</td> <td>    0.251</td> <td>    1.041</td> <td> 0.298</td> <td>   -0.230</td> <td>    0.753</td>\n",
       "</tr>\n",
       "<tr>\n",
       "  <th>second_hitter_3</th> <td>    2.0157</td> <td>    1.061</td> <td>    1.900</td> <td> 0.057</td> <td>   -0.064</td> <td>    4.095</td>\n",
       "</tr>\n",
       "<tr>\n",
       "  <th>second_hitter_5</th> <td>   -2.0612</td> <td>    0.122</td> <td>  -16.887</td> <td> 0.000</td> <td>   -2.300</td> <td>   -1.822</td>\n",
       "</tr>\n",
       "<tr>\n",
       "  <th>second_hitter_6</th> <td>   -0.6097</td> <td>    0.200</td> <td>   -3.047</td> <td> 0.002</td> <td>   -1.002</td> <td>   -0.218</td>\n",
       "</tr>\n",
       "<tr>\n",
       "  <th>second_hitter_7</th> <td>   -2.5450</td> <td>    0.181</td> <td>  -14.095</td> <td> 0.000</td> <td>   -2.899</td> <td>   -2.191</td>\n",
       "</tr>\n",
       "<tr>\n",
       "  <th>second_hitter_8</th> <td>   -0.4915</td> <td>    0.579</td> <td>   -0.849</td> <td> 0.396</td> <td>   -1.626</td> <td>    0.643</td>\n",
       "</tr>\n",
       "<tr>\n",
       "  <th>second_hitter_9</th> <td>   -0.9835</td> <td>    0.273</td> <td>   -3.607</td> <td> 0.000</td> <td>   -1.518</td> <td>   -0.449</td>\n",
       "</tr>\n",
       "</table>"
      ],
      "text/plain": [
       "<class 'statsmodels.iolib.table.SimpleTable'>"
      ]
     },
     "metadata": {},
     "output_type": "display_data"
    },
    {
     "name": "stdout",
     "output_type": "stream",
     "text": [
      "정확도 :  0.712707182320442\n"
     ]
    }
   ],
   "source": [
    "# 문제 표현에 따라 다르게 접근 할듯 / 4-2와의 비교 or 그냥 분류 모델 결과 확인\n",
    "X_train, X_test, y_train, y_test = train_test_split(X_resampled, y_resampled, test_size=0.33, random_state=1,stratify=y_resampled)\n",
    "model = sm.Logit(y_train.reset_index(drop=True), X_train.reset_index(drop=True))   \n",
    "result = model.fit(disp=False)   \n",
    "display(res.summary().tables[1])\n",
    "acc =accuracy_score(y_test.reset_index(drop=True),result.predict(X_test).map(lambda x : 1 if x>=0.5 else 0))\n",
    "print('정확도 : ',acc)"
   ]
  },
  {
   "cell_type": "markdown",
   "id": "9b6327dc",
   "metadata": {},
   "source": [
    "## 4-5 4-3 구성 데이터에 XGB 적용하고 결과를 분석하라"
   ]
  },
  {
   "cell_type": "code",
   "execution_count": 24,
   "id": "c91fbb35",
   "metadata": {},
   "outputs": [
    {
     "data": {
      "image/png": "[encoded data removed]",
      "text/plain": [
       "<Figure size 300x300 with 1 Axes>"
      ]
     },
     "metadata": {},
     "output_type": "display_data"
    },
    {
     "name": "stdout",
     "output_type": "stream",
     "text": [
      "정확도는 69.6 % 이다.\n",
      "첫번쨰 타자의 출루가 가장큰 변수 중요도를 가지며 그다음으로 2번째 타자의 삼진과 그외 아웃들이 순서를 따른다\n"
     ]
    }
   ],
   "source": [
    "model = xgb.XGBClassifier( random_state=42)\n",
    "model.fit(X_train, y_train)\n",
    "y_pred = model.predict(X_test)\n",
    "accuracy = accuracy_score(y_test, y_pred)\n",
    "\n",
    "plt.figure(figsize=(3,3))\n",
    "plt.barh(model.feature_names_in_,model.feature_importances_)\n",
    "plt.title('XGB 변수중요도')\n",
    "plt.show()\n",
    "print(\"정확도는\", round(accuracy*100,1),'% 이다.\\n첫번쨰 타자의 출루가 가장큰 변수 중요도를 가지며 그다음으로 2번째 타자의 삼진과 그외 아웃들이 순서를 따른다')"
   ]
  },
  {
   "cell_type": "markdown",
   "id": "526e7015",
   "metadata": {},
   "source": [
    "# 통계 (40점)"
   ]
  },
  {
   "cell_type": "markdown",
   "id": "862751b7",
   "metadata": {},
   "source": [
    "## 5. 제품 A의 불량률은 0.03이다. 25개의 제품을 뽑았을 때 3개가 불량일 확률을 구하시오. (소수점 다섯 째 자리에서 반올림)"
   ]
  },
  {
   "cell_type": "code",
   "execution_count": 80,
   "id": "93c5952b",
   "metadata": {},
   "outputs": [
    {
     "name": "stdout",
     "output_type": "stream",
     "text": [
      "답안\n",
      "22개는 정상(확률 0.97) 3개는 불량(확률 0.03)인 이항분포 문제이다.\n",
      "이항분포의 확률 질량함수는 n :시행횟수 , k :불량품갯수 , p : 불량률 일때\n",
      "nCk * (p**k) * (1-p)**(n-k)로 계산할 수 있다. 그 결과는 0.03177이다\n"
     ]
    }
   ],
   "source": [
    "# 이항분포 코드 이용한 풀이\n",
    "n = 25 ;k = 3;p = 0.03  \n",
    "binomial_prob = stats.binom.pmf(k, n, p)\n",
    "result = round(binomial_prob, 5)\n",
    "\n",
    "\n",
    "# 확률 풀이\n",
    "p_defective = 0.03 ; p_good = 0.97 ; num_defective = 3\n",
    "num_good = 25 - num_defective\n",
    "\n",
    "probability = (p_defective ** num_defective) * (p_good ** num_good) * math.comb(25, 3)\n",
    "rounded_probability = round(probability, 5)\n",
    "\n",
    "\n",
    "print(f'답안\\n22개는 정상(확률 0.97) 3개는 불량(확률 0.03)인 이항분포 문제이다.') \n",
    "print(f'이항분포의 확률 질량함수는 n :시행횟수 , k :불량품갯수 , p : 불량률 일때')\n",
    "print(f'nCk * (p**k) * (1-p)**(n-k)로 계산할 수 있다. 그 결과는 {rounded_probability}이다')"
   ]
  },
  {
   "cell_type": "markdown",
   "id": "884a2cee",
   "metadata": {},
   "source": [
    "## 6. C사 생산 제품 1000개 중 양품이 600개, D사 생산 제품 500개 중 양품이 200개 이다. 두 회사의 양품률에 차이가 있는지 검정하여라."
   ]
  },
  {
   "cell_type": "code",
   "execution_count": 52,
   "id": "48c548bf",
   "metadata": {},
   "outputs": [
    {
     "name": "stdout",
     "output_type": "stream",
     "text": [
      "답안\n",
      "두 양품률 간의 차이를 검정하기 위해 독립적인 두개의 비율을 카이제곱 독립성 검정을 통해 검정함\n",
      "귀무가설은 \"C사와 D사의 양품률 간에 차이가 없다.\" , 대립가설은 \"C사와 D사의 양품률 간에 차이가 있다로 둔다.\"\n",
      "C/D사의 양품률은 각각 0.6과 0.4이며 양품과 불량품의 숫자를 각각 구해 카이 제곱 검정시 p-value는 3.7481920789578267e-13를 가진다.\n",
      "유의수준 0.05하에 귀무가설을 기각한다. 즉 c사와 d사의 양품률은 차이가 있다\n"
     ]
    }
   ],
   "source": [
    "# sol1. Z검정 p-value\n",
    "p1 = 0.6;p2 = 0.4\n",
    "n1 = 1000;n2 = 500\n",
    "SE = math.sqrt((p1 * (1 - p1) / n1) + (p2 * (1 - p2) / n2)) # 표준 오차 계산\n",
    "Z = (p1 - p2) / SE # Z-점수 계산\n",
    "p_value = 2 * (1 - stats.norm.cdf(abs(Z))) # p-value 계산\n",
    "\n",
    "# sol2. Z 스코어로 비교\n",
    "Z_critical = abs(Z)  # Z-점수가 1.96보다 크면 95% 신뢰수준에서 유의미한 차이 / 문제에서 주어지는 경우\n",
    "\n",
    "\n",
    "# sol3 카이제곱 독립성 검성\n",
    "observed = [[600, 400], [200, 300]]\n",
    "chi2, p_value, dof, expected = chi2_contingency(observed)\n",
    "\n",
    "# 유의수준 0.05하에 차이 존재\n",
    "print('답안\\n두 양품률 간의 차이를 검정하기 위해 독립적인 두개의 비율을 카이제곱 독립성 검정을 통해 검정함')\n",
    "print('귀무가설은 \"C사와 D사의 양품률 간에 차이가 없다.\" , 대립가설은 \"C사와 D사의 양품률 간에 차이가 있다로 둔다.\"')\n",
    "print(f\"C/D사의 양품률은 각각 0.6과 0.4이며 양품과 불량품의 숫자를 각각 구해 카이 제곱 검정시 p-value는 {p_value}를 가진다.\")\n",
    "print('유의수준 0.05하에 귀무가설을 기각한다. 즉 c사와 d사의 양품률은 차이가 있다')"
   ]
  },
  {
   "cell_type": "markdown",
   "id": "c7a58e3e",
   "metadata": {},
   "source": [
    "## 7. 아래 데이터는 a,b,c,d 네 차종 각각 5회 실험 시 범퍼 파손 정도 이다. (단, 각 모집단은 정규분포를 따르며 모집단 간 등분산성을 가정한다.)"
   ]
  },
  {
   "cell_type": "markdown",
   "id": "f8b5ffa3",
   "metadata": {},
   "source": [
    "dataurl : https://raw.githubusercontent.com/Datamanim/datarepo/main/adp/29/p7.csv"
   ]
  },
  {
   "cell_type": "markdown",
   "id": "3036536d",
   "metadata": {},
   "source": [
    "### 7-1. 각 차종 별 범퍼 파손의 정도에 차이가 유의한지 검정하라."
   ]
  },
  {
   "cell_type": "code",
   "execution_count": 57,
   "id": "7471afc5",
   "metadata": {},
   "outputs": [
    {
     "data": {
      "image/png": "[encoded data removed]",
      "text/plain": [
       "<Figure size 300x300 with 1 Axes>"
      ]
     },
     "metadata": {},
     "output_type": "display_data"
    },
    {
     "name": "stdout",
     "output_type": "stream",
     "text": [
      "답안\n",
      "데이터숫자가 적지만 정규분포와 등분산에 대한 가정을 조건으로 주었기 때문에 모수적 검정인 일원 분산분석을 통해서 그룹간 차이가 존재하는지 확인한다.\n",
      "일원분산분석 p-value는 2.8174779556216382e-06로 차이가 유의하다고 볼 수 있다\n"
     ]
    }
   ],
   "source": [
    "df = pd.read_csv('https://raw.githubusercontent.com/Datamanim/datarepo/main/adp/29/p7.csv')\n",
    "plt.figure(figsize=(3,3))\n",
    "sns.boxplot(x ='name', y='ratio',data =df,hue='name')\n",
    "plt.title('차종별 파손 정도 비율')\n",
    "plt.show()\n",
    "# 일원 분산분석 수행\n",
    "f_statistic, p_value = stats.f_oneway(df.query(\"name =='A'\")['ratio'], \n",
    "                                      df.query(\"name =='B'\")['ratio'], \n",
    "                                      df.query(\"name =='C'\")['ratio'], \n",
    "                                      df.query(\"name =='D'\")['ratio'])\n",
    "\n",
    "print('답안\\n데이터숫자가 적지만 정규분포와 등분산에 대한 가정을 조건으로 주었기 때문에 모수적 검정인 일원 분산분석을 통해서 그룹간 차이가 존재하는지 확인한다.')\n",
    "print(f'일원분산분석 p-value는 {p_value}로 차이가 유의하다고 볼 수 있다')"
   ]
  },
  {
   "cell_type": "markdown",
   "id": "85e74e58",
   "metadata": {},
   "source": [
    "### 7-2 귀무가설을 채택한다면 그 의미를 해석하고, 귀무가설을 기각하였다면 사후분석을 시행하라."
   ]
  },
  {
   "cell_type": "code",
   "execution_count": 71,
   "id": "a65bb322",
   "metadata": {
    "scrolled": true
   },
   "outputs": [
    {
     "data": {
      "text/html": [
       "<table class=\"simpletable\">\n",
       "<caption>Multiple Comparison of Means - Tukey HSD, FWER=0.05</caption>\n",
       "<tr>\n",
       "  <th>group1</th> <th>group2</th> <th>meandiff</th>  <th>p-adj</th>   <th>lower</th>   <th>upper</th>  <th>reject</th>\n",
       "</tr>\n",
       "<tr>\n",
       "     <td>A</td>      <td>B</td>    <td>5.3934</td>   <td>0.001</td>  <td>2.1785</td>  <td>8.6083</td>   <td>True</td> \n",
       "</tr>\n",
       "<tr>\n",
       "     <td>A</td>      <td>C</td>    <td>-4.2156</td> <td>0.0085</td>  <td>-7.4305</td> <td>-1.0007</td>  <td>True</td> \n",
       "</tr>\n",
       "<tr>\n",
       "     <td>A</td>      <td>D</td>    <td>-0.7086</td> <td>0.9207</td>  <td>-3.9235</td> <td>2.5063</td>   <td>False</td>\n",
       "</tr>\n",
       "<tr>\n",
       "     <td>B</td>      <td>C</td>    <td>-9.609</td>    <td>0.0</td>  <td>-12.8239</td> <td>-6.3941</td>  <td>True</td> \n",
       "</tr>\n",
       "<tr>\n",
       "     <td>B</td>      <td>D</td>    <td>-6.102</td>  <td>0.0003</td>  <td>-9.3169</td> <td>-2.8871</td>  <td>True</td> \n",
       "</tr>\n",
       "<tr>\n",
       "     <td>C</td>      <td>D</td>     <td>3.507</td>  <td>0.0302</td>  <td>0.2921</td>  <td>6.7219</td>   <td>True</td> \n",
       "</tr>\n",
       "</table>"
      ],
      "text/plain": [
       "<class 'statsmodels.iolib.table.SimpleTable'>"
      ]
     },
     "metadata": {},
     "output_type": "display_data"
    },
    {
     "name": "stdout",
     "output_type": "stream",
     "text": [
      "답안\n",
      "귀무가설은 \"4개 그룹의 차이가 존재하지 않는다\"이고 대립가설은 \"4개 그룹들 중 차이가 있는 그룹이 존재한다\"이다\n",
      "7-1에서 유의수준 0.05하에서 귀무가설을 기각하는 것을 보였다. tukey 사후분석을 진행하면 위의 데이터프레임과 같은 결과를 보인다.\n",
      "결과적으로 A와 D그룹을 비교했을때 p-value는 0.92로 귀무가설을 기각하지 못하고 나머지 모든 그룹쌍 사이에는 차이가 존재하는 것을 확인할 수 있다.\n"
     ]
    }
   ],
   "source": [
    "posthoc = pairwise_tukeyhsd(df['ratio'], df['name'], alpha=0.05)\n",
    "display(posthoc.summary())\n",
    "print('답안\\n귀무가설은 \"4개 그룹의 차이가 존재하지 않는다\"이고 대립가설은 \"4개 그룹들 중 차이가 있는 그룹이 존재한다\"이다')\n",
    "print('7-1에서 유의수준 0.05하에서 귀무가설을 기각하는 것을 보였다. tukey 사후분석을 진행하면 위의 데이터프레임과 같은 결과를 보인다.')\n",
    "print('결과적으로 A와 D그룹을 비교했을때 p-value는 0.92로 귀무가설을 기각하지 못하고 나머지 모든 그룹쌍 사이에는 차이가 존재하는 것을 확인할 수 있다.')"
   ]
  },
  {
   "cell_type": "markdown",
   "id": "5d94251d",
   "metadata": {},
   "source": [
    "## 8. L1,L2,L3 세 개의 생산라인에서 각각 13%, 37%, 50%를 생산하며 각각 1.1% , 2.1%, 3.3% 불량률을 갖는다. 불량 제품이 나왔을 때 L1 라인에서 생산되었을 확률을 구하시오. (소수점 둘째자리에서 반올림)"
   ]
  },
  {
   "cell_type": "code",
   "execution_count": 85,
   "id": "8650f2a7",
   "metadata": {},
   "outputs": [
    {
     "name": "stdout",
     "output_type": "stream",
     "text": [
      "답안\n",
      "베이즈 정리를 이용하면 다음과 같은 확률이 나온다 0.06\n"
     ]
    }
   ],
   "source": [
    "# 주어진 확률\n",
    "l1 = 0.13; l2 = 0.37; l3 = 0.50\n",
    "ratio_l1 = 0.011; ratio_l2 = 0.021; ratio_l3 = 0.033\n",
    "\n",
    "# 불량 제품이 나올 확률\n",
    "ratio_t = ratio_l1 * l1 + ratio_l2 * l2 + ratio_l3 * l3\n",
    "\n",
    "# 베이즈 정리를 사용하여 P(L1|불량) 계산\n",
    "l1_ratio_t = (ratio_l1 * l1) / ratio_t\n",
    "result = round(l1_ratio_t, 2)\n",
    "print(\"답안\\n베이즈 정리를 이용하면 다음과 같은 확률이 나온다\", result)"
   ]
  },
  {
   "cell_type": "markdown",
   "id": "3d6834a0",
   "metadata": {},
   "source": [
    "created by datamanim [web-link](https://www.datamanim.com)"
   ]
  },
  {
   "cell_type": "markdown",
   "id": "2332fe2e",
   "metadata": {},
   "source": [
    "#### 끝. 10페이지"
   ]
  }
 ],
 "metadata": {
  "kernelspec": {
   "display_name": "Python 3 (ipykernel)",
   "language": "python",
   "name": "python3"
  },
  "language_info": {
   "codemirror_mode": {
    "name": "ipython",
    "version": 3
   },
   "file_extension": ".py",
   "mimetype": "text/x-python",
   "name": "python",
   "nbconvert_exporter": "python",
   "pygments_lexer": "ipython3",
   "version": "3.8.16"
  }
 },
 "nbformat": 4,
 "nbformat_minor": 5
}
