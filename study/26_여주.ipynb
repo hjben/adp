{
 "cells": [
  {
   "cell_type": "code",
   "execution_count": 1,
   "metadata": {},
   "outputs": [
    {
     "data": {
      "text/html": [
       "<style>.container {width:95% !important ; }</style>"
      ],
      "text/plain": [
       "<IPython.core.display.HTML object>"
      ]
     },
     "metadata": {},
     "output_type": "display_data"
    }
   ],
   "source": [
    "from IPython.display import display,HTML\n",
    "display(HTML(\"<style>.container {width:95% !important ; }</style>\"))"
   ]
  },
  {
   "cell_type": "code",
   "execution_count": 2,
   "metadata": {},
   "outputs": [],
   "source": [
    "import numpy as np\n",
    "import pandas as pd\n",
    "\n",
    "import matplotlib.pyplot as plt\n",
    "import seaborn as sns\n",
    "\n",
    "import scipy.stats as stats"
   ]
  },
  {
   "cell_type": "markdown",
   "metadata": {},
   "source": [
    "# ADP 26회 실기 문제"
   ]
  },
  {
   "cell_type": "markdown",
   "metadata": {},
   "source": [
    "# 머신러닝 - 데이터 설명\n",
    "- 데이터 설명\n",
    "    - InvoiceNo: Invoice number. Nominal, a 6-digit integral number uniquely assigned to each transaction. If this code starts with letter 'c', it indicates a cancellation.     \n",
    "    - StockCode: Product (item) code. Nominal, a 5-digit integral number uniquely assigned to each distinct product.     \n",
    "    - Description: Product (item) name. Nominal.    \n",
    "    - Quantity: The quantities of each product (item) per transaction. Numeric.     \n",
    "    - InvoiceDate: Invice Date and time. Numeric, the day and time when each transaction was generated.   \n",
    "    - UnitPrice: Unit price. Numeric, Product price per unit in sterling.    \n",
    "    - CustomerID: Customer number. Nominal, a 5-digit integral number uniquely assigned to each customer.     \n",
    "    - Country: Country name. Nominal, the name of the country where each customer resides.  \n",
    "    \n",
    "- 출처 : - https://archive.ics.uci.edu/ml/index.phpm\n",
    "- 데이터url : https://raw.githubusercontent.com/Datamanim/datarepo/main/adp/26/problem1.csv"
   ]
  },
  {
   "cell_type": "markdown",
   "metadata": {
    "tags": []
   },
   "source": [
    "## 문제1.1 \n",
    "결측치를 확인 하고, 결측치 제거할 것"
   ]
  },
  {
   "cell_type": "code",
   "execution_count": 3,
   "metadata": {
    "papermill": {
     "duration": 0.167063,
     "end_time": "2023-01-14T10:05:21.617074",
     "exception": false,
     "start_time": "2023-01-14T10:05:21.450011",
     "status": "completed"
    },
    "tags": []
   },
   "outputs": [
    {
     "data": {
      "text/html": [
       "<div>\n",
       "<style scoped>\n",
       "    .dataframe tbody tr th:only-of-type {\n",
       "        vertical-align: middle;\n",
       "    }\n",
       "\n",
       "    .dataframe tbody tr th {\n",
       "        vertical-align: top;\n",
       "    }\n",
       "\n",
       "    .dataframe thead th {\n",
       "        text-align: right;\n",
       "    }\n",
       "</style>\n",
       "<table border=\"1\" class=\"dataframe\">\n",
       "  <thead>\n",
       "    <tr style=\"text-align: right;\">\n",
       "      <th></th>\n",
       "      <th>InvoiceNo</th>\n",
       "      <th>StockCode</th>\n",
       "      <th>Description</th>\n",
       "      <th>Quantity</th>\n",
       "      <th>InvoiceDate</th>\n",
       "      <th>UnitPrice</th>\n",
       "      <th>CustomerID</th>\n",
       "      <th>Country</th>\n",
       "    </tr>\n",
       "  </thead>\n",
       "  <tbody>\n",
       "    <tr>\n",
       "      <th>0</th>\n",
       "      <td>563808</td>\n",
       "      <td>22432</td>\n",
       "      <td>WATERING CAN PINK BUNNY</td>\n",
       "      <td>6.0</td>\n",
       "      <td>8/19/2011 11:46</td>\n",
       "      <td>1.95</td>\n",
       "      <td>12626.0</td>\n",
       "      <td>Germany</td>\n",
       "    </tr>\n",
       "    <tr>\n",
       "      <th>1</th>\n",
       "      <td>561645</td>\n",
       "      <td>23166</td>\n",
       "      <td>MEDIUM CERAMIC TOP STORAGE JAR</td>\n",
       "      <td>12.0</td>\n",
       "      <td>7/28/2011 15:16</td>\n",
       "      <td>1.25</td>\n",
       "      <td>14911.0</td>\n",
       "      <td>EIRE</td>\n",
       "    </tr>\n",
       "    <tr>\n",
       "      <th>2</th>\n",
       "      <td>568651</td>\n",
       "      <td>20985</td>\n",
       "      <td>HEART CALCULATOR</td>\n",
       "      <td>12.0</td>\n",
       "      <td>9/28/2011 12:04</td>\n",
       "      <td>1.25</td>\n",
       "      <td>12362.0</td>\n",
       "      <td>Belgium</td>\n",
       "    </tr>\n",
       "    <tr>\n",
       "      <th>3</th>\n",
       "      <td>541711</td>\n",
       "      <td>22772</td>\n",
       "      <td>PINK DRAWER KNOB ACRYLIC EDWARDIAN</td>\n",
       "      <td>24.0</td>\n",
       "      <td>1/21/2011 11:18</td>\n",
       "      <td>1.25</td>\n",
       "      <td>14646.0</td>\n",
       "      <td>Netherlands</td>\n",
       "    </tr>\n",
       "    <tr>\n",
       "      <th>4</th>\n",
       "      <td>554134</td>\n",
       "      <td>21154</td>\n",
       "      <td>RED RETROSPOT OVEN GLOVE</td>\n",
       "      <td>10.0</td>\n",
       "      <td>5/23/2011 9:48</td>\n",
       "      <td>1.25</td>\n",
       "      <td>12583.0</td>\n",
       "      <td>France</td>\n",
       "    </tr>\n",
       "  </tbody>\n",
       "</table>\n",
       "</div>"
      ],
      "text/plain": [
       "  InvoiceNo StockCode                         Description  Quantity  \\\n",
       "0    563808     22432             WATERING CAN PINK BUNNY       6.0   \n",
       "1    561645     23166      MEDIUM CERAMIC TOP STORAGE JAR      12.0   \n",
       "2    568651     20985                    HEART CALCULATOR      12.0   \n",
       "3    541711     22772  PINK DRAWER KNOB ACRYLIC EDWARDIAN      24.0   \n",
       "4    554134     21154           RED RETROSPOT OVEN GLOVE       10.0   \n",
       "\n",
       "       InvoiceDate  UnitPrice  CustomerID      Country  \n",
       "0  8/19/2011 11:46       1.95     12626.0      Germany  \n",
       "1  7/28/2011 15:16       1.25     14911.0         EIRE  \n",
       "2  9/28/2011 12:04       1.25     12362.0      Belgium  \n",
       "3  1/21/2011 11:18       1.25     14646.0  Netherlands  \n",
       "4   5/23/2011 9:48       1.25     12583.0       France  "
      ]
     },
     "execution_count": 3,
     "metadata": {},
     "output_type": "execute_result"
    }
   ],
   "source": [
    "df = pd.read_csv('https://raw.githubusercontent.com/Datamanim/datarepo/main/adp/26/problem1.csv')\n",
    "df.head()"
   ]
  },
  {
   "cell_type": "code",
   "execution_count": 9,
   "metadata": {},
   "outputs": [
    {
     "data": {
      "text/plain": [
       "(35679, 8)"
      ]
     },
     "execution_count": 9,
     "metadata": {},
     "output_type": "execute_result"
    }
   ],
   "source": [
    "df.shape"
   ]
  },
  {
   "cell_type": "code",
   "execution_count": 4,
   "metadata": {
    "papermill": {
     "duration": 0.007452,
     "end_time": "2023-01-14T10:05:21.649583",
     "exception": false,
     "start_time": "2023-01-14T10:05:21.642131",
     "status": "completed"
    },
    "tags": []
   },
   "outputs": [
    {
     "data": {
      "text/plain": [
       "InvoiceNo       0\n",
       "StockCode       0\n",
       "Description     0\n",
       "Quantity       25\n",
       "InvoiceDate     0\n",
       "UnitPrice      97\n",
       "CustomerID      0\n",
       "Country         0\n",
       "dtype: int64"
      ]
     },
     "execution_count": 4,
     "metadata": {},
     "output_type": "execute_result"
    }
   ],
   "source": [
    "df.isnull().sum()"
   ]
  },
  {
   "cell_type": "code",
   "execution_count": 8,
   "metadata": {},
   "outputs": [
    {
     "name": "stdout",
     "output_type": "stream",
     "text": [
      "<답안>\n",
      "Quantity와 UnitPrice에 일부 결측치가 존재한다.\n"
     ]
    }
   ],
   "source": [
    "print('<답안>')\n",
    "print('Quantity와 UnitPrice에 일부 결측치가 존재한다.')"
   ]
  },
  {
   "cell_type": "code",
   "execution_count": 6,
   "metadata": {},
   "outputs": [
    {
     "data": {
      "text/plain": [
       "InvoiceNo      0\n",
       "StockCode      0\n",
       "Description    0\n",
       "Quantity       0\n",
       "InvoiceDate    0\n",
       "UnitPrice      0\n",
       "CustomerID     0\n",
       "Country        0\n",
       "dtype: int64"
      ]
     },
     "execution_count": 6,
     "metadata": {},
     "output_type": "execute_result"
    }
   ],
   "source": [
    "df = df.dropna()\n",
    "df.isnull().sum()"
   ]
  },
  {
   "cell_type": "code",
   "execution_count": 10,
   "metadata": {},
   "outputs": [
    {
     "name": "stdout",
     "output_type": "stream",
     "text": [
      "데이터 중 결측치가 있는 데이터는 매우 극소수이고, 데이터가 충분히 많은 것으로 판단되므로 결측치 제거를 진행하고, 모든 변수에 결측치가 없음을 확인하였다.\n"
     ]
    }
   ],
   "source": [
    "print('데이터 중 결측치가 있는 데이터는 매우 극소수이고, 데이터가 충분히 많은 것으로 판단되므로 결측치 제거를 진행하고, 모든 변수에 결측치가 없음을 확인하였다.')"
   ]
  },
  {
   "cell_type": "code",
   "execution_count": null,
   "metadata": {},
   "outputs": [],
   "source": []
  },
  {
   "cell_type": "markdown",
   "metadata": {},
   "source": [
    "## 문제1.2 \n",
    "이상치를 제거하는 방법을 설명하고, 이상치 제거 전 후 결과에 대해 통계적인 방법을 포함하여 설명할 것"
   ]
  },
  {
   "cell_type": "code",
   "execution_count": 11,
   "metadata": {
    "papermill": {
     "duration": 0.00749,
     "end_time": "2023-01-14T10:05:21.680517",
     "exception": false,
     "start_time": "2023-01-14T10:05:21.673027",
     "status": "completed"
    },
    "tags": []
   },
   "outputs": [
    {
     "name": "stdout",
     "output_type": "stream",
     "text": [
      "<답안>\n",
      "IQR method를 활용하여 이상치를 탐지하고자 한다. IQR 방법은 제 1사분위수와 제 3사분위수에서 각각 아래쪽과 위쪽으로 IQR*1.5 이상 차이가 나는 값을 이상치로 처리하는 방법이다. IQR 이상치를 쉽게 확인하는 방법은 boxplot을 그려보는 것이다.\n",
      "연속형 변수를 갖는 Quantity와 UnitPrice에 대하여 boxplot을 그려 이상치를 확인하였다.\n"
     ]
    }
   ],
   "source": [
    "print('<답안>')\n",
    "print('IQR method를 활용하여 이상치를 탐지하고자 한다. IQR 방법은 제 1사분위수와 제 3사분위수에서 각각 아래쪽과 위쪽으로 IQR*1.5 이상 차이가 나는 값을 이상치로 처리하는 방법이다. IQR 이상치를 쉽게 확인하는 방법은 boxplot을 그려보는 것이다.')\n",
    "print('연속형 변수를 갖는 Quantity와 UnitPrice에 대하여 boxplot을 그려 이상치를 확인하였다.')"
   ]
  },
  {
   "cell_type": "code",
   "execution_count": 12,
   "metadata": {},
   "outputs": [
    {
     "name": "stderr",
     "output_type": "stream",
     "text": [
      "/Library/Frameworks/Python.framework/Versions/3.8/lib/python3.8/site-packages/seaborn/_decorators.py:36: FutureWarning: Pass the following variable as a keyword arg: x. From version 0.12, the only valid positional argument will be `data`, and passing other arguments without an explicit keyword will result in an error or misinterpretation.\n",
      "  warnings.warn(\n",
      "/Library/Frameworks/Python.framework/Versions/3.8/lib/python3.8/site-packages/seaborn/_decorators.py:36: FutureWarning: Pass the following variable as a keyword arg: x. From version 0.12, the only valid positional argument will be `data`, and passing other arguments without an explicit keyword will result in an error or misinterpretation.\n",
      "  warnings.warn(\n"
     ]
    },
    {
     "data": {
      "text/plain": [
       "<AxesSubplot:xlabel='UnitPrice'>"
      ]
     },
     "execution_count": 12,
     "metadata": {},
     "output_type": "execute_result"
    },
    {
     "data": {
      "image/png": "[encoded data removed]",
      "text/plain": [
       "<Figure size 576x360 with 2 Axes>"
      ]
     },
     "metadata": {
      "needs_background": "light"
     },
     "output_type": "display_data"
    }
   ],
   "source": [
    "fig, axes = plt.subplots(ncols=2, figsize=(8, 5))\n",
    "sns.boxplot(df['Quantity'], ax=axes[0])\n",
    "sns.boxplot(df['UnitPrice'], ax=axes[1])"
   ]
  },
  {
   "cell_type": "code",
   "execution_count": 13,
   "metadata": {},
   "outputs": [
    {
     "name": "stdout",
     "output_type": "stream",
     "text": [
      "Quantity 변수에 다수의 음수 값이 포착되었다. 이는 취소 주문에서 볼 수 있는 수치인데, 정상 주문과 취소 주문을 합쳐 Quantity를 재성성 해야한다.\n"
     ]
    }
   ],
   "source": [
    "print(\"Quantity 변수에 다수의 음수 값이 포착되었다. 이는 취소 주문에서 볼 수 있는 수치인데, 정상 주문과 취소 주문을 합쳐 Quantity를 재성성 해야한다.\")"
   ]
  },
  {
   "cell_type": "code",
   "execution_count": 14,
   "metadata": {},
   "outputs": [
    {
     "data": {
      "text/html": [
       "<div>\n",
       "<style scoped>\n",
       "    .dataframe tbody tr th:only-of-type {\n",
       "        vertical-align: middle;\n",
       "    }\n",
       "\n",
       "    .dataframe tbody tr th {\n",
       "        vertical-align: top;\n",
       "    }\n",
       "\n",
       "    .dataframe thead th {\n",
       "        text-align: right;\n",
       "    }\n",
       "</style>\n",
       "<table border=\"1\" class=\"dataframe\">\n",
       "  <thead>\n",
       "    <tr style=\"text-align: right;\">\n",
       "      <th></th>\n",
       "      <th>InvoiceNo</th>\n",
       "      <th>StockCode</th>\n",
       "      <th>Description</th>\n",
       "      <th>Quantity</th>\n",
       "      <th>InvoiceDate</th>\n",
       "      <th>UnitPrice</th>\n",
       "      <th>CustomerID</th>\n",
       "      <th>Country</th>\n",
       "    </tr>\n",
       "  </thead>\n",
       "  <tbody>\n",
       "    <tr>\n",
       "      <th>0</th>\n",
       "      <td>563808</td>\n",
       "      <td>22432</td>\n",
       "      <td>WATERING CAN PINK BUNNY</td>\n",
       "      <td>6.0</td>\n",
       "      <td>8/19/2011 11:46</td>\n",
       "      <td>1.95</td>\n",
       "      <td>12626.0</td>\n",
       "      <td>Germany</td>\n",
       "    </tr>\n",
       "    <tr>\n",
       "      <th>1</th>\n",
       "      <td>561645</td>\n",
       "      <td>23166</td>\n",
       "      <td>MEDIUM CERAMIC TOP STORAGE JAR</td>\n",
       "      <td>12.0</td>\n",
       "      <td>7/28/2011 15:16</td>\n",
       "      <td>1.25</td>\n",
       "      <td>14911.0</td>\n",
       "      <td>EIRE</td>\n",
       "    </tr>\n",
       "    <tr>\n",
       "      <th>2</th>\n",
       "      <td>568651</td>\n",
       "      <td>20985</td>\n",
       "      <td>HEART CALCULATOR</td>\n",
       "      <td>12.0</td>\n",
       "      <td>9/28/2011 12:04</td>\n",
       "      <td>1.25</td>\n",
       "      <td>12362.0</td>\n",
       "      <td>Belgium</td>\n",
       "    </tr>\n",
       "    <tr>\n",
       "      <th>3</th>\n",
       "      <td>541711</td>\n",
       "      <td>22772</td>\n",
       "      <td>PINK DRAWER KNOB ACRYLIC EDWARDIAN</td>\n",
       "      <td>24.0</td>\n",
       "      <td>1/21/2011 11:18</td>\n",
       "      <td>1.25</td>\n",
       "      <td>14646.0</td>\n",
       "      <td>Netherlands</td>\n",
       "    </tr>\n",
       "    <tr>\n",
       "      <th>4</th>\n",
       "      <td>554134</td>\n",
       "      <td>21154</td>\n",
       "      <td>RED RETROSPOT OVEN GLOVE</td>\n",
       "      <td>10.0</td>\n",
       "      <td>5/23/2011 9:48</td>\n",
       "      <td>1.25</td>\n",
       "      <td>12583.0</td>\n",
       "      <td>France</td>\n",
       "    </tr>\n",
       "    <tr>\n",
       "      <th>...</th>\n",
       "      <td>...</td>\n",
       "      <td>...</td>\n",
       "      <td>...</td>\n",
       "      <td>...</td>\n",
       "      <td>...</td>\n",
       "      <td>...</td>\n",
       "      <td>...</td>\n",
       "      <td>...</td>\n",
       "    </tr>\n",
       "    <tr>\n",
       "      <th>35796</th>\n",
       "      <td>554137</td>\n",
       "      <td>21668</td>\n",
       "      <td>RED STRIPE CERAMIC DRAWER KNOB</td>\n",
       "      <td>12.0</td>\n",
       "      <td>5/23/2011 10:13</td>\n",
       "      <td>1.25</td>\n",
       "      <td>12708.0</td>\n",
       "      <td>Germany</td>\n",
       "    </tr>\n",
       "    <tr>\n",
       "      <th>35797</th>\n",
       "      <td>572986</td>\n",
       "      <td>22895</td>\n",
       "      <td>SET OF 2 TEA TOWELS APPLE AND PEARS</td>\n",
       "      <td>6.0</td>\n",
       "      <td>10/27/2011 10:51</td>\n",
       "      <td>3.25</td>\n",
       "      <td>12681.0</td>\n",
       "      <td>France</td>\n",
       "    </tr>\n",
       "    <tr>\n",
       "      <th>35798</th>\n",
       "      <td>579927</td>\n",
       "      <td>22734</td>\n",
       "      <td>SET OF 6 RIBBONS VINTAGE CHRISTMAS</td>\n",
       "      <td>6.0</td>\n",
       "      <td>12/1/2011 9:20</td>\n",
       "      <td>2.89</td>\n",
       "      <td>12572.0</td>\n",
       "      <td>Germany</td>\n",
       "    </tr>\n",
       "    <tr>\n",
       "      <th>35799</th>\n",
       "      <td>551163</td>\n",
       "      <td>22431</td>\n",
       "      <td>WATERING CAN BLUE ELEPHANT</td>\n",
       "      <td>1.0</td>\n",
       "      <td>4/26/2011 15:52</td>\n",
       "      <td>1.95</td>\n",
       "      <td>12573.0</td>\n",
       "      <td>France</td>\n",
       "    </tr>\n",
       "    <tr>\n",
       "      <th>35800</th>\n",
       "      <td>559418</td>\n",
       "      <td>22894</td>\n",
       "      <td>TABLECLOTH RED APPLES DESIGN</td>\n",
       "      <td>2.0</td>\n",
       "      <td>7/8/2011 11:36</td>\n",
       "      <td>9.95</td>\n",
       "      <td>12681.0</td>\n",
       "      <td>France</td>\n",
       "    </tr>\n",
       "  </tbody>\n",
       "</table>\n",
       "<p>34688 rows × 8 columns</p>\n",
       "</div>"
      ],
      "text/plain": [
       "      InvoiceNo StockCode                          Description  Quantity  \\\n",
       "0        563808     22432              WATERING CAN PINK BUNNY       6.0   \n",
       "1        561645     23166       MEDIUM CERAMIC TOP STORAGE JAR      12.0   \n",
       "2        568651     20985                     HEART CALCULATOR      12.0   \n",
       "3        541711     22772   PINK DRAWER KNOB ACRYLIC EDWARDIAN      24.0   \n",
       "4        554134     21154            RED RETROSPOT OVEN GLOVE       10.0   \n",
       "...         ...       ...                                  ...       ...   \n",
       "35796    554137     21668       RED STRIPE CERAMIC DRAWER KNOB      12.0   \n",
       "35797    572986     22895  SET OF 2 TEA TOWELS APPLE AND PEARS       6.0   \n",
       "35798    579927     22734   SET OF 6 RIBBONS VINTAGE CHRISTMAS       6.0   \n",
       "35799    551163     22431           WATERING CAN BLUE ELEPHANT       1.0   \n",
       "35800    559418     22894        TABLECLOTH RED APPLES DESIGN        2.0   \n",
       "\n",
       "            InvoiceDate  UnitPrice  CustomerID      Country  \n",
       "0       8/19/2011 11:46       1.95     12626.0      Germany  \n",
       "1       7/28/2011 15:16       1.25     14911.0         EIRE  \n",
       "2       9/28/2011 12:04       1.25     12362.0      Belgium  \n",
       "3       1/21/2011 11:18       1.25     14646.0  Netherlands  \n",
       "4        5/23/2011 9:48       1.25     12583.0       France  \n",
       "...                 ...        ...         ...          ...  \n",
       "35796   5/23/2011 10:13       1.25     12708.0      Germany  \n",
       "35797  10/27/2011 10:51       3.25     12681.0       France  \n",
       "35798    12/1/2011 9:20       2.89     12572.0      Germany  \n",
       "35799   4/26/2011 15:52       1.95     12573.0       France  \n",
       "35800    7/8/2011 11:36       9.95     12681.0       France  \n",
       "\n",
       "[34688 rows x 8 columns]"
      ]
     },
     "execution_count": 14,
     "metadata": {},
     "output_type": "execute_result"
    }
   ],
   "source": [
    "df[df.Quantity > 0]"
   ]
  },
  {
   "cell_type": "code",
   "execution_count": 15,
   "metadata": {},
   "outputs": [
    {
     "name": "stdout",
     "output_type": "stream",
     "text": [
      "취소 주문 중, 기존 주문에 대한 취소는 존재하지 않는다. 그리고 취소 주문의 경우 분석하는 의미가 없는 데이터이므로 제거해 준다.\n",
      "또한, Boxplot에서 많은 값이 이상치로 잡히는 것을 확인하고, Quantity와 UnitPrice의 skewness를 측정해 보니 각각 15.372981283298156, 90.09778268655988으로 확인되었다. 따라서 이상치를 제거하기 전 변수 변환을 통해 왜도를 줄여야 과한 이상치 제거를 막을 수 있다.\n"
     ]
    }
   ],
   "source": [
    "cancel_invoice = [int(invoice_no[1:]) for invoice_no in df[df.Quantity <= 0].InvoiceNo]\n",
    "\n",
    "normal_invoice = df[df.Quantity > 0]\n",
    "for invoice in normal_invoice.InvoiceNo:\n",
    "    if invoice in cancel_invoice:\n",
    "        print(invoice)\n",
    "\n",
    "df = df[df.Quantity > 0]\n",
    "print('취소 주문 중, 기존 주문에 대한 취소는 존재하지 않는다. 그리고 취소 주문의 경우 분석하는 의미가 없는 데이터이므로 제거해 준다.')\n",
    "print(f\"또한, Boxplot에서 많은 값이 이상치로 잡히는 것을 확인하고, Quantity와 UnitPrice의 skewness를 측정해 보니 각각 {df['Quantity'].skew()}, {df['UnitPrice'].skew()}으로 확인되었다. 따라서 이상치를 제거하기 전 변수 변환을 통해 왜도를 줄여야 과한 이상치 제거를 막을 수 있다.\")"
   ]
  },
  {
   "cell_type": "code",
   "execution_count": 16,
   "metadata": {},
   "outputs": [
    {
     "name": "stdout",
     "output_type": "stream",
     "text": [
      "로그 변환을 수행한 다음 Quantity와 UnitPrice의 skewness를 측정해 보니 각각 0.7120770893216234, 1.259242690714804으로 확인되었다. log 변수에 대해 다시 Boxplot을 그리면 아래와 같이 왜도가 완화된 그래프를 볼 수 있다.\n"
     ]
    },
    {
     "name": "stderr",
     "output_type": "stream",
     "text": [
      "/Library/Frameworks/Python.framework/Versions/3.8/lib/python3.8/site-packages/seaborn/_decorators.py:36: FutureWarning: Pass the following variable as a keyword arg: x. From version 0.12, the only valid positional argument will be `data`, and passing other arguments without an explicit keyword will result in an error or misinterpretation.\n",
      "  warnings.warn(\n",
      "/Library/Frameworks/Python.framework/Versions/3.8/lib/python3.8/site-packages/seaborn/_decorators.py:36: FutureWarning: Pass the following variable as a keyword arg: x. From version 0.12, the only valid positional argument will be `data`, and passing other arguments without an explicit keyword will result in an error or misinterpretation.\n",
      "  warnings.warn(\n"
     ]
    },
    {
     "data": {
      "text/plain": [
       "<AxesSubplot:xlabel='UnitPrice'>"
      ]
     },
     "execution_count": 16,
     "metadata": {},
     "output_type": "execute_result"
    },
    {
     "data": {
      "image/png": "[encoded data removed]",
      "text/plain": [
       "<Figure size 576x360 with 2 Axes>"
      ]
     },
     "metadata": {
      "needs_background": "light"
     },
     "output_type": "display_data"
    }
   ],
   "source": [
    "print(f\"로그 변환을 수행한 다음 Quantity와 UnitPrice의 skewness를 측정해 보니 각각 {np.log1p(df['Quantity']).skew()}, {np.log1p(df['UnitPrice']).skew()}으로 확인되었다. log 변수에 대해 다시 Boxplot을 그리면 아래와 같이 왜도가 완화된 그래프를 볼 수 있다.\")\n",
    "fig, axes = plt.subplots(ncols=2, figsize=(8, 5))\n",
    "sns.boxplot(np.log1p(df['Quantity']), ax=axes[0])\n",
    "sns.boxplot(np.log1p(df['UnitPrice']), ax=axes[1])"
   ]
  },
  {
   "cell_type": "code",
   "execution_count": 17,
   "metadata": {},
   "outputs": [],
   "source": [
    "df['Quantity_log'] = np.log1p(df['Quantity'])\n",
    "df['UnitPrice_log'] = np.log1p(df['UnitPrice'])"
   ]
  },
  {
   "cell_type": "code",
   "execution_count": 20,
   "metadata": {},
   "outputs": [],
   "source": [
    "IQR_q = df['Quantity_log'].quantile(0.75) - df['Quantity_log'].quantile(0.25) \n",
    "IQR_p = df['UnitPrice_log'].quantile(0.75) - df['UnitPrice_log'].quantile(0.25) "
   ]
  },
  {
   "cell_type": "code",
   "execution_count": 21,
   "metadata": {},
   "outputs": [
    {
     "name": "stdout",
     "output_type": "stream",
     "text": [
      "이상치로 판단된 개수는 Quantity가 2072개, UnitPrice는 1446개 이다.\n",
      "log를 취한 Boxplot에서도 다수의 이상치가 발견되었다. 이를 모두 제거하는 것은 이상치 자체가 의미가 있을 수도 있기 때문에 위험하다. 따라서 이상치 여부를 파생변수로 생성한다.\n"
     ]
    }
   ],
   "source": [
    "df['Quantity_outlier'] = np.where(df['Quantity_log'] > df['Quantity_log'].quantile(0.75) + (1.5 * IQR_q), 1, 0)\n",
    "df['UnitPrice_outlier'] = np.where(df['UnitPrice_log'] > df['UnitPrice_log'].quantile(0.75) + (1.5 * IQR_p), 1, 0)\n",
    "print(f\"이상치로 판단된 개수는 Quantity가 {df['Quantity_outlier'].sum()}개, UnitPrice는 {df['UnitPrice_outlier'].sum()}개 이다.\")\n",
    "print('log를 취한 Boxplot에서도 다수의 이상치가 발견되었다. 이를 모두 제거하는 것은 이상치 자체가 의미가 있을 수도 있기 때문에 위험하다. 따라서 이상치 여부를 파생변수로 생성한다.')"
   ]
  },
  {
   "cell_type": "code",
   "execution_count": 24,
   "metadata": {},
   "outputs": [
    {
     "name": "stderr",
     "output_type": "stream",
     "text": [
      "/Library/Frameworks/Python.framework/Versions/3.8/lib/python3.8/site-packages/seaborn/_decorators.py:36: FutureWarning: Pass the following variable as a keyword arg: x. From version 0.12, the only valid positional argument will be `data`, and passing other arguments without an explicit keyword will result in an error or misinterpretation.\n",
      "  warnings.warn(\n",
      "/Library/Frameworks/Python.framework/Versions/3.8/lib/python3.8/site-packages/seaborn/_decorators.py:36: FutureWarning: Pass the following variable as a keyword arg: x. From version 0.12, the only valid positional argument will be `data`, and passing other arguments without an explicit keyword will result in an error or misinterpretation.\n",
      "  warnings.warn(\n"
     ]
    },
    {
     "data": {
      "image/png": "[encoded data removed]",
      "text/plain": [
       "<Figure size 720x360 with 2 Axes>"
      ]
     },
     "metadata": {
      "needs_background": "light"
     },
     "output_type": "display_data"
    },
    {
     "name": "stdout",
     "output_type": "stream",
     "text": [
      "파생변수는 범주형 변수이며, 클래스 빈도를 Barplot으로 살펴보면 위와 같다.\n"
     ]
    }
   ],
   "source": [
    "fig, axes = plt.subplots(ncols=2, figsize=(10, 5))\n",
    "\n",
    "sns.countplot(df['Quantity_outlier'], ax=axes[0])\n",
    "sns.countplot(df['UnitPrice_outlier'], ax=axes[1])\n",
    "plt.show()\n",
    "print('파생변수는 범주형 변수이며, 클래스 빈도를 Barplot으로 살펴보면 위와 같다.')"
   ]
  },
  {
   "cell_type": "markdown",
   "metadata": {},
   "source": [
    "## 문제1.3 \n",
    "전처리 완료한 데이터로 Kmeans, DBSCAN 등의 방법으로 군집을 생성하고 각 군집을 생성 할 것"
   ]
  },
  {
   "cell_type": "code",
   "execution_count": 25,
   "metadata": {},
   "outputs": [],
   "source": [
    "from sklearn.cluster import KMeans\n",
    "from sklearn.preprocessing import RobustScaler\n",
    "from sklearn.preprocessing import LabelEncoder\n",
    "\n",
    "scaler = RobustScaler()\n",
    "x_scaled = scaler.fit_transform(df.loc[:, ['Quantity_log', 'UnitPrice_log']])\n",
    "x_scaled_df = pd.DataFrame(x_scaled, columns=['Quantity_log', 'UnitPrice_log'])\n",
    "\n",
    "encoder = LabelEncoder()\n",
    "country_labeled = encoder.fit_transform(df['Country'])"
   ]
  },
  {
   "cell_type": "code",
   "execution_count": 26,
   "metadata": {},
   "outputs": [],
   "source": [
    "x_scaled_df['Country_labeled'] = country_labeled\n",
    "x_scaled_df['Country_labeled'] = x_scaled_df['Country_labeled'].astype('category')"
   ]
  },
  {
   "cell_type": "code",
   "execution_count": 27,
   "metadata": {},
   "outputs": [],
   "source": [
    "x_scaled_df['Quantity_outlier'] = np.where(df['Quantity_log'] > df['Quantity_log'].quantile(0.75) + (1.5 * IQR), 1, 0)\n",
    "x_scaled_df['UnitPrice_outlier'] = np.where(df['UnitPrice_log'] > df['UnitPrice_log'].quantile(0.75) + (1.5 * IQR), 1, 0)\n",
    "\n",
    "x_scaled_df['Quantity_outlier'] = x_scaled_df['Quantity_outlier'].astype('category')\n",
    "x_scaled_df['UnitPrice_outlier'] = x_scaled_df['UnitPrice_outlier'].astype('category')"
   ]
  },
  {
   "cell_type": "code",
   "execution_count": 28,
   "metadata": {},
   "outputs": [],
   "source": [
    "### elbow plot\n",
    "def elbow(x):\n",
    "    sse=[]\n",
    "    for i in range(1, 11):\n",
    "        km = KMeans(n_clusters=i, random_state=1)\n",
    "        km.fit(x)\n",
    "        sse.append(km.inertia_)\n",
    "    \n",
    "    plt.plot(range(1, 11), sse, marker='o')\n",
    "    plt.xlabel('The Number of Clusters')\n",
    "    plt.ylabel('SSE')\n",
    "    plt.show()\n",
    "    \n",
    "    print(sse)"
   ]
  },
  {
   "cell_type": "code",
   "execution_count": 30,
   "metadata": {},
   "outputs": [
    {
     "data": {
      "image/png": "[encoded data removed]",
      "text/plain": [
       "<Figure size 432x288 with 1 Axes>"
      ]
     },
     "metadata": {
      "needs_background": "light"
     },
     "output_type": "display_data"
    },
    {
     "name": "stdout",
     "output_type": "stream",
     "text": [
      "[185383.3864418613, 105909.60727751988, 77952.54736881898, 61239.91557343451, 50065.6337355112, 44286.33991363822, 39172.62068114225, 34701.51733576726, 31745.166114169537, 29528.40798900912]\n"
     ]
    }
   ],
   "source": [
    "elbow(x_scaled_df)"
   ]
  },
  {
   "cell_type": "code",
   "execution_count": 31,
   "metadata": {},
   "outputs": [
    {
     "name": "stdout",
     "output_type": "stream",
     "text": [
      "군집화는 변수 Scale에 영향을 많이 받기 때문에 수행 전 scaling 과정이 필요하다. 이 경우에는 이상치 다수가 존재하고 있으므로 RobustScaler를 사용한다.\n",
      "Quantity_log와 UnitPrice_log 두 변수에 Robust Scaling을 적용하고, 위에서 생성한 Outlier 여부 변수와 Country 변수를 추가하였다.\n",
      "Country 변수는 범주형 변수로, 숫자 형태로 변경하는 Label Encoding 과정을 수행하고, Categorical 변수로 변환하였다. Outlier 여부 변수도 마찬가지로 Catagorical 변수로 변환하였다.\n",
      "전처리 된 최종 데이터에 대해 K-means 클러스터링을 수행했고, elbow plot을 확인하니 n=3에서 elbow가 확인되었다.\n"
     ]
    }
   ],
   "source": [
    "print('군집화는 변수 Scale에 영향을 많이 받기 때문에 수행 전 scaling 과정이 필요하다. 이 경우에는 이상치 다수가 존재하고 있으므로 RobustScaler를 사용한다.')\n",
    "print('Quantity_log와 UnitPrice_log 두 변수에 Robust Scaling을 적용하고, 위에서 생성한 Outlier 여부 변수와 Country 변수를 추가하였다.')\n",
    "print('Country 변수는 범주형 변수로, 숫자 형태로 변경하는 Label Encoding 과정을 수행하고, Categorical 변수로 변환하였다. Outlier 여부 변수도 마찬가지로 Catagorical 변수로 변환하였다.')\n",
    "print('전처리 된 최종 데이터에 대해 K-means 클러스터링을 수행했고, elbow plot을 확인하니 n=3에서 elbow가 확인되었다.')"
   ]
  },
  {
   "cell_type": "code",
   "execution_count": 32,
   "metadata": {},
   "outputs": [],
   "source": [
    "#최적의 k로  K-Means 군집화 실행\n",
    "km = KMeans(n_clusters=3, random_state=1)\n",
    "km.fit(x_scaled_df)\n",
    "\n",
    "# 할당된 군집을 데이터에 추가\n",
    "new_labels = km.labels_\n",
    "df['cluster'] = new_labels"
   ]
  },
  {
   "cell_type": "code",
   "execution_count": 34,
   "metadata": {},
   "outputs": [
    {
     "data": {
      "text/plain": [
       "<AxesSubplot:xlabel='UnitPrice', ylabel='Quantity'>"
      ]
     },
     "execution_count": 34,
     "metadata": {},
     "output_type": "execute_result"
    },
    {
     "data": {
      "image/png": "[encoded data removed]",
      "text/plain": [
       "<Figure size 432x288 with 1 Axes>"
      ]
     },
     "metadata": {
      "needs_background": "light"
     },
     "output_type": "display_data"
    }
   ],
   "source": [
    "sns.scatterplot(x='UnitPrice', y='Quantity', data=df, hue=df['cluster'])"
   ]
  },
  {
   "cell_type": "markdown",
   "metadata": {},
   "source": [
    "## 문제 2.1 \n",
    "위에서 생성한 군집들의 특성을 분석 할 것"
   ]
  },
  {
   "cell_type": "code",
   "execution_count": 39,
   "metadata": {},
   "outputs": [
    {
     "data": {
      "text/plain": [
       "<AxesSubplot:xlabel='Country', ylabel='count'>"
      ]
     },
     "execution_count": 39,
     "metadata": {},
     "output_type": "execute_result"
    },
    {
     "data": {
      "image/png": "[encoded data removed]",
      "text/plain": [
       "<Figure size 1080x360 with 1 Axes>"
      ]
     },
     "metadata": {
      "needs_background": "light"
     },
     "output_type": "display_data"
    }
   ],
   "source": [
    "plt.figure(figsize=(15, 5))\n",
    "sns.countplot(x=df['Country'], data=df, hue=df['cluster'])"
   ]
  },
  {
   "cell_type": "code",
   "execution_count": 36,
   "metadata": {
    "papermill": {
     "duration": 0.007397,
     "end_time": "2023-01-14T10:05:21.756292",
     "exception": false,
     "start_time": "2023-01-14T10:05:21.748895",
     "status": "completed"
    },
    "tags": []
   },
   "outputs": [
    {
     "data": {
      "text/html": [
       "<div>\n",
       "<style scoped>\n",
       "    .dataframe tbody tr th:only-of-type {\n",
       "        vertical-align: middle;\n",
       "    }\n",
       "\n",
       "    .dataframe tbody tr th {\n",
       "        vertical-align: top;\n",
       "    }\n",
       "\n",
       "    .dataframe thead th {\n",
       "        text-align: right;\n",
       "    }\n",
       "</style>\n",
       "<table border=\"1\" class=\"dataframe\">\n",
       "  <thead>\n",
       "    <tr style=\"text-align: right;\">\n",
       "      <th></th>\n",
       "      <th>Quantity</th>\n",
       "      <th>UnitPrice</th>\n",
       "    </tr>\n",
       "    <tr>\n",
       "      <th>cluster</th>\n",
       "      <th></th>\n",
       "      <th></th>\n",
       "    </tr>\n",
       "  </thead>\n",
       "  <tbody>\n",
       "    <tr>\n",
       "      <th>0</th>\n",
       "      <td>31.507493</td>\n",
       "      <td>1.363991</td>\n",
       "    </tr>\n",
       "    <tr>\n",
       "      <th>1</th>\n",
       "      <td>12.571977</td>\n",
       "      <td>3.520458</td>\n",
       "    </tr>\n",
       "    <tr>\n",
       "      <th>2</th>\n",
       "      <td>4.823107</td>\n",
       "      <td>8.221194</td>\n",
       "    </tr>\n",
       "  </tbody>\n",
       "</table>\n",
       "</div>"
      ],
      "text/plain": [
       "          Quantity  UnitPrice\n",
       "cluster                      \n",
       "0        31.507493   1.363991\n",
       "1        12.571977   3.520458\n",
       "2         4.823107   8.221194"
      ]
     },
     "execution_count": 36,
     "metadata": {},
     "output_type": "execute_result"
    }
   ],
   "source": [
    "cal_mean = df.loc[:, [\"Quantity\", \"UnitPrice\", \"cluster\"]].groupby('cluster').mean()\n",
    "cal_mean"
   ]
  },
  {
   "cell_type": "code",
   "execution_count": 37,
   "metadata": {},
   "outputs": [
    {
     "data": {
      "text/plain": [
       "cluster\n",
       "0    42.975943\n",
       "1    44.259113\n",
       "2    39.651694\n",
       "dtype: float64"
      ]
     },
     "execution_count": 37,
     "metadata": {},
     "output_type": "execute_result"
    }
   ],
   "source": [
    "cal_mean['Quantity'] * cal_mean['UnitPrice']"
   ]
  },
  {
   "cell_type": "code",
   "execution_count": 41,
   "metadata": {},
   "outputs": [
    {
     "name": "stdout",
     "output_type": "stream",
     "text": [
      "나라 별 Cluster의 분포를 확인해 보면, Cluster 0과 2는 독일, EIRE, 벨기에, 네덜란드, 프랑스로 구성되어 있고, Cluster 1은 포르투갈, 스위스, 스페인을 구성되어 있다.\n",
      "네덜란드 중에서는 일부 Cluster 1에 포함된 경우도 있는데, Cluster 1의 다른 나라에 비하면 소수이다.\n",
      "Cluster 2는 Quantity 평균이 가장 낮지만, UnitPrice가 평균이 높은 집단이다. 하지만 총 구매액은 가장 적다.\n",
      "Cluster 1는 총 구매액이 가장 높으며, Quantity와 UnitPrice 평균은 중간 수준이다.\n",
      "Cluster 0은 Quantity 평균이 가장 높지만, UnitPrice 평균이 낮다. 총 구매액은 중간 수준이다.\n"
     ]
    }
   ],
   "source": [
    "print('나라 별 Cluster의 분포를 확인해 보면, Cluster 0과 2는 독일, EIRE, 벨기에, 네덜란드, 프랑스로 구성되어 있고, Cluster 1은 포르투갈, 스위스, 스페인을 구성되어 있다.')\n",
    "print('네덜란드 중에서는 일부 Cluster 1에 포함된 경우도 있는데, Cluster 1의 다른 나라에 비하면 소수이다.')\n",
    "print('Cluster 2는 Quantity 평균이 가장 낮지만, UnitPrice가 평균이 높은 집단이다. 하지만 총 구매액은 가장 적다.')\n",
    "print('Cluster 1는 총 구매액이 가장 높으며, Quantity와 UnitPrice 평균은 중간 수준이다.')\n",
    "print('Cluster 0은 Quantity 평균이 가장 높지만, UnitPrice 평균이 낮다. 총 구매액은 중간 수준이다.')"
   ]
  },
  {
   "cell_type": "markdown",
   "metadata": {},
   "source": [
    "## 문제 2.2 \n",
    "각 군집 별 대표 추천 상품을 도출할 것"
   ]
  },
  {
   "cell_type": "code",
   "execution_count": 42,
   "metadata": {},
   "outputs": [],
   "source": [
    "from scipy.spatial import distance"
   ]
  },
  {
   "cell_type": "code",
   "execution_count": 43,
   "metadata": {},
   "outputs": [],
   "source": [
    "min_distance = [np.Inf, np.Inf, np.Inf]\n",
    "min_distance_index = [0, 0, 0]\n",
    "for i in x_scaled_df.index:\n",
    "    for j in range(3):\n",
    "        dist = distance.euclidean(x_scaled_df.iloc[i], km.cluster_centers_[j])\n",
    "        if dist < min_distance[j]:\n",
    "            min_distance[j] = dist\n",
    "            min_distance_index[j] = i"
   ]
  },
  {
   "cell_type": "code",
   "execution_count": 44,
   "metadata": {},
   "outputs": [
    {
     "data": {
      "text/html": [
       "<div>\n",
       "<style scoped>\n",
       "    .dataframe tbody tr th:only-of-type {\n",
       "        vertical-align: middle;\n",
       "    }\n",
       "\n",
       "    .dataframe tbody tr th {\n",
       "        vertical-align: top;\n",
       "    }\n",
       "\n",
       "    .dataframe thead th {\n",
       "        text-align: right;\n",
       "    }\n",
       "</style>\n",
       "<table border=\"1\" class=\"dataframe\">\n",
       "  <thead>\n",
       "    <tr style=\"text-align: right;\">\n",
       "      <th></th>\n",
       "      <th>InvoiceNo</th>\n",
       "      <th>StockCode</th>\n",
       "      <th>Description</th>\n",
       "      <th>Quantity</th>\n",
       "      <th>InvoiceDate</th>\n",
       "      <th>UnitPrice</th>\n",
       "      <th>CustomerID</th>\n",
       "      <th>Country</th>\n",
       "      <th>Quantity_log</th>\n",
       "      <th>UnitPrice_log</th>\n",
       "      <th>Quantity_outlier</th>\n",
       "      <th>UnitPrice_outlier</th>\n",
       "      <th>cluster</th>\n",
       "    </tr>\n",
       "  </thead>\n",
       "  <tbody>\n",
       "    <tr>\n",
       "      <th>502</th>\n",
       "      <td>551539</td>\n",
       "      <td>23077</td>\n",
       "      <td>DOUGHNUT LIP GLOSS</td>\n",
       "      <td>20.0</td>\n",
       "      <td>5/3/2011 8:40</td>\n",
       "      <td>1.25</td>\n",
       "      <td>12598.0</td>\n",
       "      <td>France</td>\n",
       "      <td>3.044522</td>\n",
       "      <td>0.810930</td>\n",
       "      <td>0</td>\n",
       "      <td>0</td>\n",
       "      <td>0</td>\n",
       "    </tr>\n",
       "    <tr>\n",
       "      <th>11891</th>\n",
       "      <td>577039</td>\n",
       "      <td>23163</td>\n",
       "      <td>REGENCY SUGAR TONGS</td>\n",
       "      <td>8.0</td>\n",
       "      <td>11/17/2011 13:30</td>\n",
       "      <td>2.49</td>\n",
       "      <td>12539.0</td>\n",
       "      <td>Spain</td>\n",
       "      <td>2.197225</td>\n",
       "      <td>1.249902</td>\n",
       "      <td>0</td>\n",
       "      <td>0</td>\n",
       "      <td>1</td>\n",
       "    </tr>\n",
       "    <tr>\n",
       "      <th>430</th>\n",
       "      <td>542425</td>\n",
       "      <td>22854</td>\n",
       "      <td>CREAM SWEETHEART EGG HOLDER</td>\n",
       "      <td>4.0</td>\n",
       "      <td>1/28/2011 9:20</td>\n",
       "      <td>4.95</td>\n",
       "      <td>12574.0</td>\n",
       "      <td>France</td>\n",
       "      <td>1.609438</td>\n",
       "      <td>1.783391</td>\n",
       "      <td>0</td>\n",
       "      <td>0</td>\n",
       "      <td>2</td>\n",
       "    </tr>\n",
       "  </tbody>\n",
       "</table>\n",
       "</div>"
      ],
      "text/plain": [
       "      InvoiceNo StockCode                  Description  Quantity  \\\n",
       "502      551539     23077          DOUGHNUT LIP GLOSS       20.0   \n",
       "11891    577039     23163          REGENCY SUGAR TONGS       8.0   \n",
       "430      542425     22854  CREAM SWEETHEART EGG HOLDER       4.0   \n",
       "\n",
       "            InvoiceDate  UnitPrice  CustomerID Country  Quantity_log  \\\n",
       "502       5/3/2011 8:40       1.25     12598.0  France      3.044522   \n",
       "11891  11/17/2011 13:30       2.49     12539.0   Spain      2.197225   \n",
       "430      1/28/2011 9:20       4.95     12574.0  France      1.609438   \n",
       "\n",
       "       UnitPrice_log  Quantity_outlier  UnitPrice_outlier  cluster  \n",
       "502         0.810930                 0                  0        0  \n",
       "11891       1.249902                 0                  0        1  \n",
       "430         1.783391                 0                  0        2  "
      ]
     },
     "execution_count": 44,
     "metadata": {},
     "output_type": "execute_result"
    }
   ],
   "source": [
    "df.iloc[min_distance_index]"
   ]
  },
  {
   "cell_type": "code",
   "execution_count": 46,
   "metadata": {
    "papermill": {
     "duration": 0.007527,
     "end_time": "2023-01-14T10:05:21.787316",
     "exception": false,
     "start_time": "2023-01-14T10:05:21.779789",
     "status": "completed"
    },
    "tags": []
   },
   "outputs": [
    {
     "name": "stdout",
     "output_type": "stream",
     "text": [
      "각 군집별로 중심점과 유클라디안 거리가 가장 가까운 데이터를 도출한 결과, Cluster 0에서는 DOUGHNUT LIP GLOSS, Cluster 1에서는 REGENCY SUGAR TONGS, Cluster 2에서는 CREAM SWEETHEART EGG HOLDER가 대표 상품으로 추천된다.\n"
     ]
    }
   ],
   "source": [
    "print('각 군집별로 중심점과 유클라디안 거리가 가장 가까운 데이터를 도출한 결과, Cluster 0에서는 DOUGHNUT LIP GLOSS, Cluster 1에서는 REGENCY SUGAR TONGS, Cluster 2에서는 CREAM SWEETHEART EGG HOLDER가 대표 상품으로 추천된다.')"
   ]
  },
  {
   "cell_type": "markdown",
   "metadata": {},
   "source": [
    "## 문제 2.3 \n",
    "CustomerID가 12413인 고객을 대상으로 상품을 추천할 것"
   ]
  },
  {
   "cell_type": "code",
   "execution_count": 47,
   "metadata": {},
   "outputs": [
    {
     "data": {
      "text/plain": [
       "1.1578947368421053"
      ]
     },
     "execution_count": 47,
     "metadata": {},
     "output_type": "execute_result"
    }
   ],
   "source": [
    "df.loc[df.CustomerID==12413.0]['cluster'].mean()"
   ]
  },
  {
   "cell_type": "code",
   "execution_count": 48,
   "metadata": {
    "papermill": {
     "duration": 0.007591,
     "end_time": "2023-01-14T10:05:21.833697",
     "exception": false,
     "start_time": "2023-01-14T10:05:21.826106",
     "status": "completed"
    },
    "tags": []
   },
   "outputs": [
    {
     "name": "stdout",
     "output_type": "stream",
     "text": [
      "해당 고객은 Cluster 1에 속할 확률이 가장 높기 때문에, REGENCY SUGAR TONGS를 추천하는 것이 가장 좋아 보인다.\n"
     ]
    }
   ],
   "source": [
    "print(\"해당 고객은 Cluster 1에 속할 확률이 가장 높기 때문에, REGENCY SUGAR TONGS를 추천하는 것이 가장 좋아 보인다.\") "
   ]
  },
  {
   "cell_type": "markdown",
   "metadata": {},
   "source": [
    "# 통계"
   ]
  },
  {
   "cell_type": "markdown",
   "metadata": {},
   "source": [
    "## 문제 3\n",
    "어느 제조업체의 제품 불량률을 조사하려고 한다. 이 회사의 제품 불량률이 실제로는 90%라고 알려져 있다.     \n",
    "이를 표본 조사로 추정하고자 합니다. 추정된 불량률의 추정오차한계가 5% 이내가 되도록 하려면, 어느 정도의 표본 크기가 필요한지 계산하라."
   ]
  },
  {
   "cell_type": "code",
   "execution_count": 50,
   "metadata": {},
   "outputs": [],
   "source": [
    "import math"
   ]
  },
  {
   "cell_type": "code",
   "execution_count": 51,
   "metadata": {
    "papermill": {
     "duration": 0.008322,
     "end_time": "2023-01-14T10:05:21.866177",
     "exception": false,
     "start_time": "2023-01-14T10:05:21.857855",
     "status": "completed"
    },
    "tags": []
   },
   "outputs": [
    {
     "name": "stdout",
     "output_type": "stream",
     "text": [
      "제품의 불량률은 비율 변수이므로, 표본비율의 추정 문제로 판단할 수 있다. 이 때의 오차 한계를 d라고 한다면 표본 크기는 ((Z0.95/d)**2 * p * (1-p))보다 큰 값으로 정의되며, 모비율 p는 0.9로 추정한다.\n",
      "이에 따라 계산한 최소 표본 크기는 139이다.\n"
     ]
    }
   ],
   "source": [
    "print('제품의 불량률은 비율 변수이므로, 표본비율의 추정 문제로 판단할 수 있다. 이 때의 오차 한계를 d라고 한다면 표본 크기는 ((Z0.95/d)**2 * p * (1-p))보다 큰 값으로 정의되며, 모비율 p는 0.9로 추정한다.')\n",
    "print(f'이에 따라 계산한 최소 표본 크기는 {math.ceil(((stats.norm.ppf(0.975)/0.05)**2)*(0.9*0.1))}이다.')"
   ]
  },
  {
   "cell_type": "markdown",
   "metadata": {},
   "source": [
    "## 문제 설명 (4번)\n",
    "![image](https://raw.githubusercontent.com/Datamanim/datarepo/main/adp/26/problem2.png)"
   ]
  },
  {
   "cell_type": "markdown",
   "metadata": {},
   "source": [
    "## 문제 4.1 \n",
    "은의 가격 및 이동평균값 3이 설정된 시계열 그래프를 그려라"
   ]
  },
  {
   "cell_type": "code",
   "execution_count": 2,
   "metadata": {
    "papermill": {
     "duration": 0.008231,
     "end_time": "2023-01-14T10:05:21.916183",
     "exception": false,
     "start_time": "2023-01-14T10:05:21.907952",
     "status": "completed"
    },
    "tags": []
   },
   "outputs": [],
   "source": [
    "silver = pd.DataFrame([12.14, 42.6, 34.4, 35.29, 30.96, 57.12, 37.84, 42.49, 31.38], columns=['USD/oz'])"
   ]
  },
  {
   "cell_type": "code",
   "execution_count": 3,
   "metadata": {},
   "outputs": [
    {
     "data": {
      "text/html": [
       "<div>\n",
       "<style scoped>\n",
       "    .dataframe tbody tr th:only-of-type {\n",
       "        vertical-align: middle;\n",
       "    }\n",
       "\n",
       "    .dataframe tbody tr th {\n",
       "        vertical-align: top;\n",
       "    }\n",
       "\n",
       "    .dataframe thead th {\n",
       "        text-align: right;\n",
       "    }\n",
       "</style>\n",
       "<table border=\"1\" class=\"dataframe\">\n",
       "  <thead>\n",
       "    <tr style=\"text-align: right;\">\n",
       "      <th></th>\n",
       "      <th>USD/oz</th>\n",
       "    </tr>\n",
       "  </thead>\n",
       "  <tbody>\n",
       "    <tr>\n",
       "      <th>0</th>\n",
       "      <td>12.14</td>\n",
       "    </tr>\n",
       "    <tr>\n",
       "      <th>1</th>\n",
       "      <td>42.60</td>\n",
       "    </tr>\n",
       "    <tr>\n",
       "      <th>2</th>\n",
       "      <td>34.40</td>\n",
       "    </tr>\n",
       "    <tr>\n",
       "      <th>3</th>\n",
       "      <td>35.29</td>\n",
       "    </tr>\n",
       "    <tr>\n",
       "      <th>4</th>\n",
       "      <td>30.96</td>\n",
       "    </tr>\n",
       "    <tr>\n",
       "      <th>5</th>\n",
       "      <td>57.12</td>\n",
       "    </tr>\n",
       "    <tr>\n",
       "      <th>6</th>\n",
       "      <td>37.84</td>\n",
       "    </tr>\n",
       "    <tr>\n",
       "      <th>7</th>\n",
       "      <td>42.49</td>\n",
       "    </tr>\n",
       "    <tr>\n",
       "      <th>8</th>\n",
       "      <td>31.38</td>\n",
       "    </tr>\n",
       "  </tbody>\n",
       "</table>\n",
       "</div>"
      ],
      "text/plain": [
       "   USD/oz\n",
       "0   12.14\n",
       "1   42.60\n",
       "2   34.40\n",
       "3   35.29\n",
       "4   30.96\n",
       "5   57.12\n",
       "6   37.84\n",
       "7   42.49\n",
       "8   31.38"
      ]
     },
     "execution_count": 3,
     "metadata": {},
     "output_type": "execute_result"
    }
   ],
   "source": [
    "silver"
   ]
  },
  {
   "cell_type": "code",
   "execution_count": 356,
   "metadata": {},
   "outputs": [
    {
     "name": "stdout",
     "output_type": "stream",
     "text": [
      "이동평균 3 시계열 그래프를 추가로 그리면 아래와 같다. 파란 색이 은의 가격, 빨간 색이 이동평균 3이 적용된 그래프이다.\n"
     ]
    },
    {
     "data": {
      "image/png": "[encoded data removed]",
      "text/plain": [
       "<Figure size 640x480 with 1 Axes>"
      ]
     },
     "metadata": {},
     "output_type": "display_data"
    }
   ],
   "source": [
    "print('이동평균 3 시계열 그래프를 추가로 그리면 아래와 같다. 파란 색이 은의 가격, 빨간 색이 이동평균 3이 적용된 그래프이다.')\n",
    "sns.scatterplot(silver['USD/oz'], color='blue')\n",
    "sns.lineplot(silver['USD/oz'].rolling(3, min_periods=1).mean(), color='red')\n",
    "plt.show()"
   ]
  },
  {
   "cell_type": "markdown",
   "metadata": {},
   "source": [
    "## 문제 4.2\n",
    "1월 대비 9월의 은의 가격은 몇 % 올랐는가? 소수점 두번째 자리에서 반올림"
   ]
  },
  {
   "cell_type": "code",
   "execution_count": 17,
   "metadata": {},
   "outputs": [
    {
     "name": "stdout",
     "output_type": "stream",
     "text": [
      "1월 대비 9월의 은 가격은 258.5% 상승하였다.\n"
     ]
    }
   ],
   "source": [
    "jan_silver = 12.14\n",
    "sep_silver = 31.38\n",
    "\n",
    "print(f'1월 대비 9월의 은 가격은 {round(sep_silver/jan_silver *100, 1)}% 상승하였다.')"
   ]
  },
  {
   "cell_type": "markdown",
   "metadata": {},
   "source": [
    "## 문제설명 (5번)\n",
    "<img src=\"https://github.com/Datamanim/datarepo/blob/main/adp/26/problem3.png?raw=true\" width=\"300\" height=\"300\">\n",
    "\n",
    "위 표는 A,B,C 자치구별 W 의원에 대한 찬성, 반대 지지를 나타낸다. 자치구별 지지율이 같은지에 대해서 검정하라"
   ]
  },
  {
   "cell_type": "markdown",
   "metadata": {},
   "source": [
    "## 문제 5.1 \n",
    "연구가설과 귀무가설을 설정하라"
   ]
  },
  {
   "cell_type": "code",
   "execution_count": 52,
   "metadata": {
    "papermill": {
     "duration": 0.00749,
     "end_time": "2023-01-14T10:05:21.994129",
     "exception": false,
     "start_time": "2023-01-14T10:05:21.986639",
     "status": "completed"
    },
    "tags": []
   },
   "outputs": [
    {
     "name": "stdout",
     "output_type": "stream",
     "text": [
      "<답안>\n",
      "H0: A, B, C 자치구별 W의원에 대한 지지율은 독립이다.\n",
      "H1: A, B, C 자치구별 W의원에 대한 지지율은 독립이 아니다.\n"
     ]
    }
   ],
   "source": [
    "print('<답안>')\n",
    "print('H0: A, B, C 자치구별 W의원에 대한 지지율은 독립이다.')\n",
    "print('H1: A, B, C 자치구별 W의원에 대한 지지율은 독립이 아니다.')"
   ]
  },
  {
   "cell_type": "markdown",
   "metadata": {},
   "source": [
    "## 문제 5.2 \n",
    "검정통계량을 구하고 결론을 내라"
   ]
  },
  {
   "cell_type": "code",
   "execution_count": 53,
   "metadata": {},
   "outputs": [
    {
     "data": {
      "text/html": [
       "<div>\n",
       "<style scoped>\n",
       "    .dataframe tbody tr th:only-of-type {\n",
       "        vertical-align: middle;\n",
       "    }\n",
       "\n",
       "    .dataframe tbody tr th {\n",
       "        vertical-align: top;\n",
       "    }\n",
       "\n",
       "    .dataframe thead th {\n",
       "        text-align: right;\n",
       "    }\n",
       "</style>\n",
       "<table border=\"1\" class=\"dataframe\">\n",
       "  <thead>\n",
       "    <tr style=\"text-align: right;\">\n",
       "      <th></th>\n",
       "      <th>A</th>\n",
       "      <th>B</th>\n",
       "      <th>C</th>\n",
       "    </tr>\n",
       "  </thead>\n",
       "  <tbody>\n",
       "    <tr>\n",
       "      <th>0</th>\n",
       "      <td>176</td>\n",
       "      <td>193</td>\n",
       "      <td>159</td>\n",
       "    </tr>\n",
       "    <tr>\n",
       "      <th>1</th>\n",
       "      <td>124</td>\n",
       "      <td>107</td>\n",
       "      <td>141</td>\n",
       "    </tr>\n",
       "  </tbody>\n",
       "</table>\n",
       "</div>"
      ],
      "text/plain": [
       "     A    B    C\n",
       "0  176  193  159\n",
       "1  124  107  141"
      ]
     },
     "execution_count": 53,
     "metadata": {},
     "output_type": "execute_result"
    }
   ],
   "source": [
    "table = pd.DataFrame({'A':[176, 124], 'B': [193, 107], 'C': [159, 141]})\n",
    "table"
   ]
  },
  {
   "cell_type": "code",
   "execution_count": 54,
   "metadata": {},
   "outputs": [],
   "source": [
    "from scipy.stats import chi2_contingency"
   ]
  },
  {
   "cell_type": "code",
   "execution_count": 55,
   "metadata": {},
   "outputs": [
    {
     "name": "stdout",
     "output_type": "stream",
     "text": [
      "Statistic: 7.945381231671554\n",
      "p-value: 0.01882272023214683\n",
      "df: 2\n",
      "expect: \n",
      " [[176. 176. 176.]\n",
      " [124. 124. 124.]]\n"
     ]
    }
   ],
   "source": [
    "chi, p, df, expect = chi2_contingency(table) \n",
    "print('Statistic:', chi)\n",
    "print('p-value:', p)\n",
    "print('df:', df)\n",
    "print('expect: \\n', expect)"
   ]
  },
  {
   "cell_type": "code",
   "execution_count": 56,
   "metadata": {},
   "outputs": [
    {
     "name": "stdout",
     "output_type": "stream",
     "text": [
      "Chi-sq 검정통계량은 7.945381231671554, p-value 0.01882272023214683로 유의수준 0.05 하에서 귀무가설을 기각한다. A, B, C 자치구별 W의원에 대한 지지율 차이가 있다고 볼 통계적 근거가 있다.\n"
     ]
    }
   ],
   "source": [
    "print(f'Chi-sq 검정통계량은 {chi}, p-value {p}로 유의수준 0.05 하에서 귀무가설을 기각한다. A, B, C 자치구별 W의원에 대한 지지율 차이가 있다고 볼 통계적 근거가 있다.')"
   ]
  },
  {
   "cell_type": "markdown",
   "metadata": {},
   "source": [
    "## 문제설명 (6번)\n",
    "A초등학교 남학생 16명과 여학생 9명의 혈압을 측정한 pressure.csv파일을 가지고 남녀학생의 평균 혈압에 차이가 없는지 확인하려한다.\n",
    "- 데이터 url :https://raw.githubusercontent.com/Datamanim/datarepo/main/adp/26/pressure.csv"
   ]
  },
  {
   "cell_type": "markdown",
   "metadata": {},
   "source": [
    "## 문제 6.2 \n",
    "통계량을 구하고 가설 검정을 수행하라"
   ]
  },
  {
   "cell_type": "code",
   "execution_count": 129,
   "metadata": {
    "papermill": {
     "duration": 0.00734,
     "end_time": "2023-01-14T10:05:22.055266",
     "exception": false,
     "start_time": "2023-01-14T10:05:22.047926",
     "status": "completed"
    },
    "tags": []
   },
   "outputs": [
    {
     "name": "stdout",
     "output_type": "stream",
     "text": [
      "<답안>\n",
      "H0: A 초등학교의 남학생과 여학생은 평균 혈압 차이가 없다.\n",
      "H1: A 초등학교의 남학생과 여학생은 평균 혈압 차이가 있다.\n"
     ]
    }
   ],
   "source": [
    "print('<답안>')\n",
    "print('H0: A 초등학교의 남학생과 여학생은 평균 혈압 차이가 없다.')\n",
    "print('H1: A 초등학교의 남학생과 여학생은 평균 혈압 차이가 있다.')"
   ]
  },
  {
   "cell_type": "code",
   "execution_count": 130,
   "metadata": {},
   "outputs": [
    {
     "data": {
      "text/plain": [
       "Ttest_indResult(statistic=1.598335024574904, pvalue=0.1236171636431485)"
      ]
     },
     "execution_count": 130,
     "metadata": {},
     "output_type": "execute_result"
    }
   ],
   "source": [
    "stats.ttest_ind(df[df.gender=='male']['pressure'], df[df.gender=='female']['pressure'], equal_var=True) "
   ]
  },
  {
   "cell_type": "code",
   "execution_count": 131,
   "metadata": {},
   "outputs": [
    {
     "name": "stdout",
     "output_type": "stream",
     "text": [
      "남학생과 여학생의 혈압 데이터는 정규분포를 따르고 등분산임을 가정하고 있으며, 표본 개수가 25개로 크지 않으므로 독립된 두 집단의 T-test를 수행할 수 있다.\n",
      "T-test 검정통계량은 1.60, p-value 0.12로 귀무가설을 기각하지 않는다. 따라서 A 초등학교 남학생과 여학생의 평균 혈압 차이가 있다고 볼 통계적 근거가 부족하다.\n"
     ]
    }
   ],
   "source": [
    "print('남학생과 여학생의 혈압 데이터는 정규분포를 따르고 등분산임을 가정하고 있으며, 표본 개수가 25개로 크지 않으므로 독립된 두 집단의 T-test를 수행할 수 있다.')\n",
    "print('T-test 검정통계량은 1.60, p-value 0.12로 귀무가설을 기각하지 않는다. 따라서 A 초등학교 남학생과 여학생의 평균 혈압 차이가 있다고 볼 통계적 근거가 부족하다.')"
   ]
  },
  {
   "cell_type": "markdown",
   "metadata": {},
   "source": [
    "## 문제 6.3 \n",
    "6.2의 검정 통계량 값을 바탕으로 6.3 신뢰수준 95%하에서 신뢰구간을 설정하라"
   ]
  },
  {
   "cell_type": "code",
   "execution_count": null,
   "metadata": {
    "papermill": {
     "duration": 0.007707,
     "end_time": "2023-01-14T10:05:22.117715",
     "exception": false,
     "start_time": "2023-01-14T10:05:22.110008",
     "status": "completed"
    },
    "tags": []
   },
   "outputs": [],
   "source": [
    "interval = stats.t.interval(alpha=0.95, df=df, loc=mu, scale=se)"
   ]
  },
  {
   "cell_type": "code",
   "execution_count": 135,
   "metadata": {},
   "outputs": [],
   "source": [
    "data_1 = df[df.gender=='male']['pressure']\n",
    "data_2 = df[df.gender=='female']['pressure']\n",
    "\n",
    "n_1 = len(data_1)\n",
    "n_2 = len(data_2)\n",
    "s_pooled = ((n_1 - 1)*np.var(data_1) + (n_2 - 1)*np.var(data_2)) / (n_1 + n_2 - 2)\n",
    "\n",
    "mean_diff = np.mean(data_1) - np.mean(data_2)"
   ]
  },
  {
   "cell_type": "code",
   "execution_count": 133,
   "metadata": {},
   "outputs": [
    {
     "data": {
      "text/plain": [
       "(-1.5104370071999504, 14.125714784977756)"
      ]
     },
     "execution_count": 133,
     "metadata": {},
     "output_type": "execute_result"
    }
   ],
   "source": [
    "stats.t.interval(alpha=0.95, df=(n_1 + n_2 - 2), loc=mean_diff, scale=np.sqrt(s_pooled)*np.sqrt((1/n_1) + (1/n_2)))"
   ]
  },
  {
   "cell_type": "code",
   "execution_count": 134,
   "metadata": {},
   "outputs": [
    {
     "name": "stdout",
     "output_type": "stream",
     "text": [
      "성별 평균 혈압 차이의 95% 신뢰구간은 (-1.51, 14.13) 이다.\n"
     ]
    }
   ],
   "source": [
    "print('성별 평균 혈압 차이의 95% 신뢰구간은 (-1.51, 14.13) 이다.')"
   ]
  },
  {
   "cell_type": "markdown",
   "metadata": {},
   "source": [
    "## 문제설명 (7번)\n",
    "height(키), weight(몸무게), waist(허리둘레) 컬럼을 가진 problem7.csv파일을 가지고 다음을 분석하라      \n",
    "A시의 20대 남성 411명을 임의로 추출하여 키, 몸무게, 허리둘레를 조사하여 기록한 데이터이다.         \n",
    "이 데이터를 이용하여 20대 남성의 키와 허리둘레가 체중에 영향을 미치는지 알아보고자 한다.     \n",
    "\n",
    "- 데이터 url :https://raw.githubusercontent.com/Datamanim/datarepo/main/adp/26/problem7.csv"
   ]
  },
  {
   "cell_type": "markdown",
   "metadata": {},
   "source": [
    "## 문제 7.1\n",
    "아래 조건을 참고하여 회귀계수(반올림하여 소수점 두자리)를 구하시오.    \n",
    "- 베이지안 회귀   \n",
    "- 시드넘버 1234로 지정\n",
    "- 1000번의 burn-in 이후 10,000의 MCMC를 수행\n",
    "- 회귀계수의 사전분포는 부적절한 균일분포(inproper uniform prior distribution), 오차항의 분산의 사전분포는 역감마 분포로 지정. 이때, 형상(Shape)모수와 척도(Scale)모수는 각각 0.005로 지정."
   ]
  },
  {
   "cell_type": "code",
   "execution_count": 536,
   "metadata": {},
   "outputs": [
    {
     "data": {
      "text/html": [
       "<div>\n",
       "<style scoped>\n",
       "    .dataframe tbody tr th:only-of-type {\n",
       "        vertical-align: middle;\n",
       "    }\n",
       "\n",
       "    .dataframe tbody tr th {\n",
       "        vertical-align: top;\n",
       "    }\n",
       "\n",
       "    .dataframe thead th {\n",
       "        text-align: right;\n",
       "    }\n",
       "</style>\n",
       "<table border=\"1\" class=\"dataframe\">\n",
       "  <thead>\n",
       "    <tr style=\"text-align: right;\">\n",
       "      <th></th>\n",
       "      <th>height</th>\n",
       "      <th>weight</th>\n",
       "      <th>waistline</th>\n",
       "    </tr>\n",
       "  </thead>\n",
       "  <tbody>\n",
       "    <tr>\n",
       "      <th>0</th>\n",
       "      <td>174.396</td>\n",
       "      <td>72.102</td>\n",
       "      <td>79.3787</td>\n",
       "    </tr>\n",
       "    <tr>\n",
       "      <th>1</th>\n",
       "      <td>179.656</td>\n",
       "      <td>81.255</td>\n",
       "      <td>80.6649</td>\n",
       "    </tr>\n",
       "    <tr>\n",
       "      <th>2</th>\n",
       "      <td>175.079</td>\n",
       "      <td>76.207</td>\n",
       "      <td>80.3166</td>\n",
       "    </tr>\n",
       "    <tr>\n",
       "      <th>3</th>\n",
       "      <td>180.804</td>\n",
       "      <td>81.354</td>\n",
       "      <td>80.8794</td>\n",
       "    </tr>\n",
       "    <tr>\n",
       "      <th>4</th>\n",
       "      <td>177.448</td>\n",
       "      <td>78.768</td>\n",
       "      <td>80.3499</td>\n",
       "    </tr>\n",
       "  </tbody>\n",
       "</table>\n",
       "</div>"
      ],
      "text/plain": [
       "    height  weight  waistline\n",
       "0  174.396  72.102    79.3787\n",
       "1  179.656  81.255    80.6649\n",
       "2  175.079  76.207    80.3166\n",
       "3  180.804  81.354    80.8794\n",
       "4  177.448  78.768    80.3499"
      ]
     },
     "execution_count": 536,
     "metadata": {},
     "output_type": "execute_result"
    }
   ],
   "source": [
    "data = pd.read_csv(\"https://raw.githubusercontent.com/ADPclass/ADP_book_ver01/main/data/26_problem7.csv\")\n",
    "data.head()"
   ]
  },
  {
   "cell_type": "code",
   "execution_count": 537,
   "metadata": {},
   "outputs": [
    {
     "data": {
      "text/html": [
       "\n",
       "<style>\n",
       "    /* Turns off some styling */\n",
       "    progress {\n",
       "        /* gets rid of default border in Firefox and Opera. */\n",
       "        border: none;\n",
       "        /* Needs to be in here for Safari polyfill so background images work as expected. */\n",
       "        background-size: auto;\n",
       "    }\n",
       "    progress:not([value]), progress:not([value])::-webkit-progress-bar {\n",
       "        background: repeating-linear-gradient(45deg, #7e7e7e, #7e7e7e 10px, #5c5c5c 10px, #5c5c5c 20px);\n",
       "    }\n",
       "    .progress-bar-interrupted, .progress-bar-interrupted::-webkit-progress-bar {\n",
       "        background: #F44336;\n",
       "    }\n",
       "</style>\n"
      ],
      "text/plain": [
       "<IPython.core.display.HTML object>"
      ]
     },
     "metadata": {},
     "output_type": "display_data"
    },
    {
     "data": {
      "text/html": [
       "\n",
       "    <div>\n",
       "      <progress value='129' class='' max='129' style='width:300px; height:20px; vertical-align: middle;'></progress>\n",
       "      100.00% [129/129 00:00&lt;00:00 logp = -463.49, ||grad|| = 0.43975]\n",
       "    </div>\n",
       "    "
      ],
      "text/plain": [
       "<IPython.core.display.HTML object>"
      ]
     },
     "metadata": {},
     "output_type": "display_data"
    },
    {
     "name": "stdout",
     "output_type": "stream",
     "text": [
      "\n"
     ]
    },
    {
     "name": "stderr",
     "output_type": "stream",
     "text": [
      "Multiprocess sampling (4 chains in 4 jobs)\n",
      "NUTS: [esd, b, w_2, w_1]\n"
     ]
    },
    {
     "data": {
      "text/html": [
       "\n",
       "<style>\n",
       "    /* Turns off some styling */\n",
       "    progress {\n",
       "        /* gets rid of default border in Firefox and Opera. */\n",
       "        border: none;\n",
       "        /* Needs to be in here for Safari polyfill so background images work as expected. */\n",
       "        background-size: auto;\n",
       "    }\n",
       "    progress:not([value]), progress:not([value])::-webkit-progress-bar {\n",
       "        background: repeating-linear-gradient(45deg, #7e7e7e, #7e7e7e 10px, #5c5c5c 10px, #5c5c5c 20px);\n",
       "    }\n",
       "    .progress-bar-interrupted, .progress-bar-interrupted::-webkit-progress-bar {\n",
       "        background: #F44336;\n",
       "    }\n",
       "</style>\n"
      ],
      "text/plain": [
       "<IPython.core.display.HTML object>"
      ]
     },
     "metadata": {},
     "output_type": "display_data"
    },
    {
     "data": {
      "text/html": [
       "\n",
       "    <div>\n",
       "      <progress value='44000' class='' max='44000' style='width:300px; height:20px; vertical-align: middle;'></progress>\n",
       "      100.00% [44000/44000 00:38&lt;00:00 Sampling 4 chains, 5,325 divergences]\n",
       "    </div>\n",
       "    "
      ],
      "text/plain": [
       "<IPython.core.display.HTML object>"
      ]
     },
     "metadata": {},
     "output_type": "display_data"
    },
    {
     "name": "stderr",
     "output_type": "stream",
     "text": [
      "Sampling 4 chains for 1_000 tune and 10_000 draw iterations (4_000 + 40_000 draws total) took 67 seconds.\n",
      "There were 620 divergences after tuning. Increase `target_accept` or reparameterize.\n",
      "The acceptance probability does not match the target. It is 0.718609063058261, but should be close to 0.8. Try to increase the number of tuning steps.\n",
      "There were 1917 divergences after tuning. Increase `target_accept` or reparameterize.\n",
      "The acceptance probability does not match the target. It is 0.5995900657377911, but should be close to 0.8. Try to increase the number of tuning steps.\n",
      "There were 1284 divergences after tuning. Increase `target_accept` or reparameterize.\n",
      "The acceptance probability does not match the target. It is 0.6106822288675913, but should be close to 0.8. Try to increase the number of tuning steps.\n",
      "There were 1504 divergences after tuning. Increase `target_accept` or reparameterize.\n",
      "The acceptance probability does not match the target. It is 0.5999407032000418, but should be close to 0.8. Try to increase the number of tuning steps.\n",
      "The number of effective samples is smaller than 10% for some parameters.\n"
     ]
    }
   ],
   "source": [
    "# 1000번의 burn-in 이후 10,000의 MCMC를 수행\n",
    "# 회귀계수의 사전분포는 부적절한 균일분포(inproper uniform prior distribution),\n",
    "# 오차항의 분산의 사전분포는 역감마 분포로 지정. 형상(Shape)모수와 척도(Scale)모수는 각각 0.005로 지정.\n",
    "# Random seed 1234\n",
    "with pm.Model() as m:\n",
    "    x_1 = pm.Data('x_1', data[\"height\"])\n",
    "    x_2 = pm.Data('x_2', data[\"weight\"])\n",
    "    y = pm.Data('y', data[\"waistline\"])\n",
    "\n",
    "    w_1 = pm.Uniform('w_1')\n",
    "    w_2 = pm.Uniform('w_2')\n",
    "    b = pm.Uniform('b')\n",
    "    esd = pm.InverseGamma('esd', alpha=0.005, beta=0.005)\n",
    "    y_pred = pm.Normal('y_pred', mu=b + (w_1 * x_1) + (w_2 * x_2), sd=esd, observed=y)\n",
    "    \n",
    "    start = pm.find_MAP()\n",
    "    step = pm.NUTS()\n",
    "    trace = pm.sample(10000, step=step, start=start, tune=1000, random_seed=1234) # tune -> burn-in"
   ]
  },
  {
   "cell_type": "markdown",
   "metadata": {},
   "source": [
    "## 문제 7.2\n",
    "위에서 만든 모델을 바탕으로 키 180cm, 허리둘레 85cm인 남성의 몸무게를 추정하라"
   ]
  },
  {
   "cell_type": "code",
   "execution_count": 538,
   "metadata": {},
   "outputs": [
    {
     "data": {
      "text/html": [
       "\n",
       "<style>\n",
       "    /* Turns off some styling */\n",
       "    progress {\n",
       "        /* gets rid of default border in Firefox and Opera. */\n",
       "        border: none;\n",
       "        /* Needs to be in here for Safari polyfill so background images work as expected. */\n",
       "        background-size: auto;\n",
       "    }\n",
       "    progress:not([value]), progress:not([value])::-webkit-progress-bar {\n",
       "        background: repeating-linear-gradient(45deg, #7e7e7e, #7e7e7e 10px, #5c5c5c 10px, #5c5c5c 20px);\n",
       "    }\n",
       "    .progress-bar-interrupted, .progress-bar-interrupted::-webkit-progress-bar {\n",
       "        background: #F44336;\n",
       "    }\n",
       "</style>\n"
      ],
      "text/plain": [
       "<IPython.core.display.HTML object>"
      ]
     },
     "metadata": {},
     "output_type": "display_data"
    },
    {
     "data": {
      "text/html": [
       "\n",
       "    <div>\n",
       "      <progress value='40000' class='' max='40000' style='width:300px; height:20px; vertical-align: middle;'></progress>\n",
       "      100.00% [40000/40000 08:05&lt;00:00]\n",
       "    </div>\n",
       "    "
      ],
      "text/plain": [
       "<IPython.core.display.HTML object>"
      ]
     },
     "metadata": {},
     "output_type": "display_data"
    }
   ],
   "source": [
    "with m:\n",
    "    pm.set_data({'x_1': [180], 'x_2': [85]})\n",
    "    y_test = pm.sample_posterior_predictive(trace)"
   ]
  },
  {
   "cell_type": "code",
   "execution_count": 60,
   "metadata": {},
   "outputs": [
    {
     "data": {
      "text/plain": [
       "82.1938519666769"
      ]
     },
     "execution_count": 539,
     "metadata": {},
     "output_type": "execute_result"
    }
   ],
   "source": [
    "y_test'y_pred'].mean() 82.19"
   ]
  },
  {
   "cell_type": "code",
   "execution_count": 61,
   "metadata": {},
   "outputs": [
    {
     "name": "stdout",
     "output_type": "stream",
     "text": [
      "키 180cm, 허리둘레 85cm인 남성의 몸무게 추정량은 82.19이다.\n"
     ]
    }
   ],
   "source": [
    "print(\"키 180cm, 허리둘레 85cm인 남성의 몸무게 추정량은 82.19이다.\")"
   ]
  },
  {
   "cell_type": "code",
   "execution_count": 62,
   "metadata": {},
   "outputs": [
    {
     "name": "stdout",
     "output_type": "stream",
     "text": [
      "끝. 8페이지\n"
     ]
    }
   ],
   "source": [
    "print(\"끝. 8페이지\")"
   ]
  }
 ],
 "metadata": {
  "celltoolbar": "Edit Metadata",
  "kernelspec": {
   "display_name": "Python 3",
   "language": "python",
   "name": "python3"
  },
  "language_info": {
   "codemirror_mode": {
    "name": "ipython",
    "version": 3
   },
   "file_extension": ".py",
   "mimetype": "text/x-python",
   "name": "python",
   "nbconvert_exporter": "python",
   "pygments_lexer": "ipython3",
   "version": "3.7.6"
  }
 },
 "nbformat": 4,
 "nbformat_minor": 5
}
