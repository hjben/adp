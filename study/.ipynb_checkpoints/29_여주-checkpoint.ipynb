{
 "cells": [
  {
   "cell_type": "markdown",
   "metadata": {},
   "source": [
    "# 29회 ADP 복원 "
   ]
  },
  {
   "cell_type": "code",
   "execution_count": 1,
   "metadata": {},
   "outputs": [],
   "source": [
    "import warnings, platform\n",
    "from IPython.display import display, HTML\n",
    "\n",
    "import matplotlib.pyplot as plt"
   ]
  },
  {
   "cell_type": "code",
   "execution_count": 2,
   "metadata": {},
   "outputs": [
    {
     "data": {
      "text/html": [
       "<style>.container {width :98% !important;}</style>"
      ],
      "text/plain": [
       "<IPython.core.display.HTML object>"
      ]
     },
     "metadata": {},
     "output_type": "display_data"
    }
   ],
   "source": [
    "### HTML display 조정\n",
    "display(HTML(\"<style>.container {width :98% !important;}</style>\"))\n",
    "\n",
    "### Warning 제거\n",
    "warnings.filterwarnings('ignore')"
   ]
  },
  {
   "cell_type": "code",
   "execution_count": 3,
   "metadata": {},
   "outputs": [],
   "source": [
    "### 한글 폰트 설정\n",
    "if platform.system()=='Darwin':\n",
    "    plt.rc('font', family='AppleGothic')\n",
    "elif platform.system()=='Linux':\n",
    "    # !wget \"https://www.wfonts.com/download/data/2016/06/13/malgun-gothic/malgun.ttf\"\n",
    "    # !mv malgun.ttf /usr/share/fonts/truetype/\n",
    "    import matplotlib.font_manager as fm\n",
    "    fm._rebuild()\n",
    "    plt.rc('font', family='Malgun Gothic')\n",
    "plt.rcParams['axes.unicode_minus'] = False # minus 폰트 깨짐 해결"
   ]
  },
  {
   "cell_type": "code",
   "execution_count": 4,
   "metadata": {},
   "outputs": [],
   "source": [
    "import numpy as np\n",
    "import pandas as pd\n",
    "\n",
    "import seaborn as sns"
   ]
  },
  {
   "cell_type": "markdown",
   "metadata": {},
   "source": [
    "# 기계학습 (60점)"
   ]
  },
  {
   "cell_type": "markdown",
   "metadata": {},
   "source": [
    "## 데이터 설명\n",
    "- 데이터 출처 : https://www.data.go.kr/data/15094266/fileData.do 후처리\n",
    "- 데이터 링크 : https://raw.githubusercontent.com/Datamanim/datarepo/main/adp/29/p1.csv\n",
    "- 데이터 설명 : 대구도시공사_빅데이터_영구임대아파트 입주자 퇴거여부 데이터, 고유번호를 가진 계약자와 특정 아파트에 대해 매년 퇴거여부를 기록한 데이터"
   ]
  },
  {
   "cell_type": "markdown",
   "metadata": {},
   "source": [
    "## 1-1  계약자고유번호를 기준으로 거주연도 별 여러개의 데이터가 쌓여 있다. 각 계약자고유번호에 대해 가장 최신의 거주연도 행만 남겨라."
   ]
  },
  {
   "cell_type": "code",
   "execution_count": 5,
   "metadata": {},
   "outputs": [
    {
     "data": {
      "text/html": [
       "<div>\n",
       "<style scoped>\n",
       "    .dataframe tbody tr th:only-of-type {\n",
       "        vertical-align: middle;\n",
       "    }\n",
       "\n",
       "    .dataframe tbody tr th {\n",
       "        vertical-align: top;\n",
       "    }\n",
       "\n",
       "    .dataframe thead th {\n",
       "        text-align: right;\n",
       "    }\n",
       "</style>\n",
       "<table border=\"1\" class=\"dataframe\">\n",
       "  <thead>\n",
       "    <tr style=\"text-align: right;\">\n",
       "      <th></th>\n",
       "      <th>순번</th>\n",
       "      <th>계약구분</th>\n",
       "      <th>재계약횟수</th>\n",
       "      <th>거주개월</th>\n",
       "      <th>아파트 이름</th>\n",
       "      <th>아파트 ID</th>\n",
       "      <th>아파트 평점</th>\n",
       "      <th>호실고유번호</th>\n",
       "      <th>층</th>\n",
       "      <th>평형대</th>\n",
       "      <th>...</th>\n",
       "      <th>퇴거연도</th>\n",
       "      <th>거주연도</th>\n",
       "      <th>월세(원)</th>\n",
       "      <th>보증금(원)</th>\n",
       "      <th>대표나이</th>\n",
       "      <th>나이</th>\n",
       "      <th>성별</th>\n",
       "      <th>결혼여부</th>\n",
       "      <th>거주자 수</th>\n",
       "      <th>퇴거여부</th>\n",
       "    </tr>\n",
       "  </thead>\n",
       "  <tbody>\n",
       "    <tr>\n",
       "      <th>0</th>\n",
       "      <td>1</td>\n",
       "      <td>유효</td>\n",
       "      <td>10</td>\n",
       "      <td>222</td>\n",
       "      <td>강남아파트</td>\n",
       "      <td>5</td>\n",
       "      <td>7.0</td>\n",
       "      <td>14520</td>\n",
       "      <td>1</td>\n",
       "      <td>12</td>\n",
       "      <td>...</td>\n",
       "      <td>NaN</td>\n",
       "      <td>2008</td>\n",
       "      <td>47100</td>\n",
       "      <td>3646000</td>\n",
       "      <td>46</td>\n",
       "      <td>33</td>\n",
       "      <td>남</td>\n",
       "      <td>미혼</td>\n",
       "      <td>3</td>\n",
       "      <td>미퇴거</td>\n",
       "    </tr>\n",
       "    <tr>\n",
       "      <th>1</th>\n",
       "      <td>1</td>\n",
       "      <td>유효</td>\n",
       "      <td>10</td>\n",
       "      <td>222</td>\n",
       "      <td>강남아파트</td>\n",
       "      <td>5</td>\n",
       "      <td>7.0</td>\n",
       "      <td>14520</td>\n",
       "      <td>1</td>\n",
       "      <td>12</td>\n",
       "      <td>...</td>\n",
       "      <td>NaN</td>\n",
       "      <td>2009</td>\n",
       "      <td>56500</td>\n",
       "      <td>4375000</td>\n",
       "      <td>46</td>\n",
       "      <td>34</td>\n",
       "      <td>남</td>\n",
       "      <td>미혼</td>\n",
       "      <td>3</td>\n",
       "      <td>미퇴거</td>\n",
       "    </tr>\n",
       "    <tr>\n",
       "      <th>2</th>\n",
       "      <td>1</td>\n",
       "      <td>유효</td>\n",
       "      <td>10</td>\n",
       "      <td>222</td>\n",
       "      <td>강남아파트</td>\n",
       "      <td>5</td>\n",
       "      <td>7.0</td>\n",
       "      <td>14520</td>\n",
       "      <td>1</td>\n",
       "      <td>12</td>\n",
       "      <td>...</td>\n",
       "      <td>NaN</td>\n",
       "      <td>2010</td>\n",
       "      <td>56500</td>\n",
       "      <td>4375000</td>\n",
       "      <td>46</td>\n",
       "      <td>35</td>\n",
       "      <td>남</td>\n",
       "      <td>미혼</td>\n",
       "      <td>3</td>\n",
       "      <td>미퇴거</td>\n",
       "    </tr>\n",
       "    <tr>\n",
       "      <th>3</th>\n",
       "      <td>1</td>\n",
       "      <td>유효</td>\n",
       "      <td>10</td>\n",
       "      <td>222</td>\n",
       "      <td>강남아파트</td>\n",
       "      <td>5</td>\n",
       "      <td>7.0</td>\n",
       "      <td>14520</td>\n",
       "      <td>1</td>\n",
       "      <td>12</td>\n",
       "      <td>...</td>\n",
       "      <td>NaN</td>\n",
       "      <td>2011</td>\n",
       "      <td>69900</td>\n",
       "      <td>5408000</td>\n",
       "      <td>46</td>\n",
       "      <td>36</td>\n",
       "      <td>남</td>\n",
       "      <td>미혼</td>\n",
       "      <td>3</td>\n",
       "      <td>미퇴거</td>\n",
       "    </tr>\n",
       "    <tr>\n",
       "      <th>4</th>\n",
       "      <td>1</td>\n",
       "      <td>유효</td>\n",
       "      <td>10</td>\n",
       "      <td>222</td>\n",
       "      <td>강남아파트</td>\n",
       "      <td>5</td>\n",
       "      <td>7.0</td>\n",
       "      <td>14520</td>\n",
       "      <td>1</td>\n",
       "      <td>12</td>\n",
       "      <td>...</td>\n",
       "      <td>NaN</td>\n",
       "      <td>2012</td>\n",
       "      <td>69900</td>\n",
       "      <td>5408000</td>\n",
       "      <td>46</td>\n",
       "      <td>37</td>\n",
       "      <td>남</td>\n",
       "      <td>미혼</td>\n",
       "      <td>3</td>\n",
       "      <td>미퇴거</td>\n",
       "    </tr>\n",
       "  </tbody>\n",
       "</table>\n",
       "<p>5 rows × 23 columns</p>\n",
       "</div>"
      ],
      "text/plain": [
       "   순번 계약구분  재계약횟수  거주개월 아파트 이름  아파트 ID  아파트 평점  호실고유번호  층  평형대  ...  퇴거연도  \\\n",
       "0   1   유효     10   222  강남아파트       5     7.0   14520  1   12  ...   NaN   \n",
       "1   1   유효     10   222  강남아파트       5     7.0   14520  1   12  ...   NaN   \n",
       "2   1   유효     10   222  강남아파트       5     7.0   14520  1   12  ...   NaN   \n",
       "3   1   유효     10   222  강남아파트       5     7.0   14520  1   12  ...   NaN   \n",
       "4   1   유효     10   222  강남아파트       5     7.0   14520  1   12  ...   NaN   \n",
       "\n",
       "   거주연도  월세(원)   보증금(원)  대표나이  나이  성별  결혼여부  거주자 수 퇴거여부  \n",
       "0  2008  47100  3646000    46  33   남    미혼      3  미퇴거  \n",
       "1  2009  56500  4375000    46  34   남    미혼      3  미퇴거  \n",
       "2  2010  56500  4375000    46  35   남    미혼      3  미퇴거  \n",
       "3  2011  69900  5408000    46  36   남    미혼      3  미퇴거  \n",
       "4  2012  69900  5408000    46  37   남    미혼      3  미퇴거  \n",
       "\n",
       "[5 rows x 23 columns]"
      ]
     },
     "execution_count": 5,
     "metadata": {},
     "output_type": "execute_result"
    }
   ],
   "source": [
    "estate = pd.read_csv(\"https://raw.githubusercontent.com/Datamanim/datarepo/main/adp/29/p1.csv\", encoding='euc-kr')\n",
    "estate.head()"
   ]
  },
  {
   "cell_type": "code",
   "execution_count": 6,
   "metadata": {},
   "outputs": [
    {
     "name": "stdout",
     "output_type": "stream",
     "text": [
      "<class 'pandas.core.frame.DataFrame'>\n",
      "RangeIndex: 86904 entries, 0 to 86903\n",
      "Data columns (total 23 columns):\n",
      " #   Column   Non-Null Count  Dtype  \n",
      "---  ------   --------------  -----  \n",
      " 0   순번       86904 non-null  int64  \n",
      " 1   계약구분     86396 non-null  object \n",
      " 2   재계약횟수    86904 non-null  int64  \n",
      " 3   거주개월     86904 non-null  int64  \n",
      " 4   아파트 이름   86904 non-null  object \n",
      " 5   아파트 ID   86904 non-null  int64  \n",
      " 6   아파트 평점   85679 non-null  float64\n",
      " 7   호실고유번호   86904 non-null  int64  \n",
      " 8   층        86904 non-null  int64  \n",
      " 9   평형대      86904 non-null  int64  \n",
      " 10  계약자고유번호  86904 non-null  int64  \n",
      " 11  계약서고유번호  86904 non-null  int64  \n",
      " 12  입주연도     86904 non-null  int64  \n",
      " 13  퇴거연도     25762 non-null  float64\n",
      " 14  거주연도     86904 non-null  int64  \n",
      " 15  월세(원)    86904 non-null  int64  \n",
      " 16  보증금(원)   86904 non-null  int64  \n",
      " 17  대표나이     86904 non-null  int64  \n",
      " 18  나이       86904 non-null  int64  \n",
      " 19  성별       86904 non-null  object \n",
      " 20  결혼여부     86904 non-null  object \n",
      " 21  거주자 수    86904 non-null  int64  \n",
      " 22  퇴거여부     86904 non-null  object \n",
      "dtypes: float64(2), int64(16), object(5)\n",
      "memory usage: 15.2+ MB\n"
     ]
    }
   ],
   "source": [
    "estate.info()"
   ]
  },
  {
   "cell_type": "code",
   "execution_count": 7,
   "metadata": {},
   "outputs": [
    {
     "data": {
      "text/plain": [
       "Int64Index([    1,     6,    14,    27,    40,    53,    66,    79,    84,\n",
       "               97,\n",
       "            ...\n",
       "            86861, 86862, 86863, 86864, 86865, 86866, 86867, 86868, 86879,\n",
       "            86892],\n",
       "           dtype='int64', name='계약자고유번호', length=10348)"
      ]
     },
     "execution_count": 7,
     "metadata": {},
     "output_type": "execute_result"
    }
   ],
   "source": [
    "# 최신 index\n",
    "estate.groupby(\"계약자고유번호\")[\"거주연도\"].max().index"
   ]
  },
  {
   "cell_type": "code",
   "execution_count": 8,
   "metadata": {},
   "outputs": [
    {
     "data": {
      "text/html": [
       "<div>\n",
       "<style scoped>\n",
       "    .dataframe tbody tr th:only-of-type {\n",
       "        vertical-align: middle;\n",
       "    }\n",
       "\n",
       "    .dataframe tbody tr th {\n",
       "        vertical-align: top;\n",
       "    }\n",
       "\n",
       "    .dataframe thead th {\n",
       "        text-align: right;\n",
       "    }\n",
       "</style>\n",
       "<table border=\"1\" class=\"dataframe\">\n",
       "  <thead>\n",
       "    <tr style=\"text-align: right;\">\n",
       "      <th></th>\n",
       "      <th>순번</th>\n",
       "      <th>계약구분</th>\n",
       "      <th>재계약횟수</th>\n",
       "      <th>거주개월</th>\n",
       "      <th>아파트 이름</th>\n",
       "      <th>아파트 ID</th>\n",
       "      <th>아파트 평점</th>\n",
       "      <th>호실고유번호</th>\n",
       "      <th>층</th>\n",
       "      <th>평형대</th>\n",
       "      <th>...</th>\n",
       "      <th>퇴거연도</th>\n",
       "      <th>거주연도</th>\n",
       "      <th>월세(원)</th>\n",
       "      <th>보증금(원)</th>\n",
       "      <th>대표나이</th>\n",
       "      <th>나이</th>\n",
       "      <th>성별</th>\n",
       "      <th>결혼여부</th>\n",
       "      <th>거주자 수</th>\n",
       "      <th>퇴거여부</th>\n",
       "    </tr>\n",
       "  </thead>\n",
       "  <tbody>\n",
       "    <tr>\n",
       "      <th>0</th>\n",
       "      <td>1</td>\n",
       "      <td>유효</td>\n",
       "      <td>10</td>\n",
       "      <td>222</td>\n",
       "      <td>강남아파트</td>\n",
       "      <td>5</td>\n",
       "      <td>7.0</td>\n",
       "      <td>14520</td>\n",
       "      <td>1</td>\n",
       "      <td>12</td>\n",
       "      <td>...</td>\n",
       "      <td>NaN</td>\n",
       "      <td>2009</td>\n",
       "      <td>56500</td>\n",
       "      <td>4375000</td>\n",
       "      <td>46</td>\n",
       "      <td>34</td>\n",
       "      <td>남</td>\n",
       "      <td>미혼</td>\n",
       "      <td>3</td>\n",
       "      <td>미퇴거</td>\n",
       "    </tr>\n",
       "    <tr>\n",
       "      <th>1</th>\n",
       "      <td>1</td>\n",
       "      <td>유효</td>\n",
       "      <td>10</td>\n",
       "      <td>222</td>\n",
       "      <td>강남아파트</td>\n",
       "      <td>5</td>\n",
       "      <td>7.0</td>\n",
       "      <td>14520</td>\n",
       "      <td>1</td>\n",
       "      <td>12</td>\n",
       "      <td>...</td>\n",
       "      <td>NaN</td>\n",
       "      <td>2014</td>\n",
       "      <td>83800</td>\n",
       "      <td>6489000</td>\n",
       "      <td>46</td>\n",
       "      <td>39</td>\n",
       "      <td>남</td>\n",
       "      <td>미혼</td>\n",
       "      <td>3</td>\n",
       "      <td>미퇴거</td>\n",
       "    </tr>\n",
       "    <tr>\n",
       "      <th>2</th>\n",
       "      <td>2</td>\n",
       "      <td>해지</td>\n",
       "      <td>5</td>\n",
       "      <td>108</td>\n",
       "      <td>강남아파트</td>\n",
       "      <td>5</td>\n",
       "      <td>7.0</td>\n",
       "      <td>14546</td>\n",
       "      <td>1</td>\n",
       "      <td>12</td>\n",
       "      <td>...</td>\n",
       "      <td>2012.0</td>\n",
       "      <td>2009</td>\n",
       "      <td>56500</td>\n",
       "      <td>4375000</td>\n",
       "      <td>68</td>\n",
       "      <td>56</td>\n",
       "      <td>여</td>\n",
       "      <td>미혼</td>\n",
       "      <td>1</td>\n",
       "      <td>미퇴거</td>\n",
       "    </tr>\n",
       "    <tr>\n",
       "      <th>3</th>\n",
       "      <td>5</td>\n",
       "      <td>유효</td>\n",
       "      <td>10</td>\n",
       "      <td>222</td>\n",
       "      <td>강남아파트</td>\n",
       "      <td>5</td>\n",
       "      <td>7.0</td>\n",
       "      <td>14572</td>\n",
       "      <td>1</td>\n",
       "      <td>15</td>\n",
       "      <td>...</td>\n",
       "      <td>NaN</td>\n",
       "      <td>2009</td>\n",
       "      <td>51300</td>\n",
       "      <td>3553000</td>\n",
       "      <td>77</td>\n",
       "      <td>65</td>\n",
       "      <td>여</td>\n",
       "      <td>미혼</td>\n",
       "      <td>2</td>\n",
       "      <td>미퇴거</td>\n",
       "    </tr>\n",
       "    <tr>\n",
       "      <th>4</th>\n",
       "      <td>6</td>\n",
       "      <td>유효</td>\n",
       "      <td>10</td>\n",
       "      <td>222</td>\n",
       "      <td>강남아파트</td>\n",
       "      <td>5</td>\n",
       "      <td>7.0</td>\n",
       "      <td>14598</td>\n",
       "      <td>1</td>\n",
       "      <td>15</td>\n",
       "      <td>...</td>\n",
       "      <td>NaN</td>\n",
       "      <td>2009</td>\n",
       "      <td>51300</td>\n",
       "      <td>3553000</td>\n",
       "      <td>73</td>\n",
       "      <td>61</td>\n",
       "      <td>남</td>\n",
       "      <td>미혼</td>\n",
       "      <td>3</td>\n",
       "      <td>미퇴거</td>\n",
       "    </tr>\n",
       "    <tr>\n",
       "      <th>...</th>\n",
       "      <td>...</td>\n",
       "      <td>...</td>\n",
       "      <td>...</td>\n",
       "      <td>...</td>\n",
       "      <td>...</td>\n",
       "      <td>...</td>\n",
       "      <td>...</td>\n",
       "      <td>...</td>\n",
       "      <td>...</td>\n",
       "      <td>...</td>\n",
       "      <td>...</td>\n",
       "      <td>...</td>\n",
       "      <td>...</td>\n",
       "      <td>...</td>\n",
       "      <td>...</td>\n",
       "      <td>...</td>\n",
       "      <td>...</td>\n",
       "      <td>...</td>\n",
       "      <td>...</td>\n",
       "      <td>...</td>\n",
       "      <td>...</td>\n",
       "    </tr>\n",
       "    <tr>\n",
       "      <th>10343</th>\n",
       "      <td>12880</td>\n",
       "      <td>유효</td>\n",
       "      <td>9</td>\n",
       "      <td>236</td>\n",
       "      <td>지산5단지아파트</td>\n",
       "      <td>3</td>\n",
       "      <td>8.0</td>\n",
       "      <td>86865</td>\n",
       "      <td>14</td>\n",
       "      <td>15</td>\n",
       "      <td>...</td>\n",
       "      <td>NaN</td>\n",
       "      <td>2010</td>\n",
       "      <td>39700</td>\n",
       "      <td>2082000</td>\n",
       "      <td>60</td>\n",
       "      <td>49</td>\n",
       "      <td>남</td>\n",
       "      <td>미혼</td>\n",
       "      <td>1</td>\n",
       "      <td>미퇴거</td>\n",
       "    </tr>\n",
       "    <tr>\n",
       "      <th>10344</th>\n",
       "      <td>12880</td>\n",
       "      <td>유효</td>\n",
       "      <td>9</td>\n",
       "      <td>236</td>\n",
       "      <td>지산5단지아파트</td>\n",
       "      <td>3</td>\n",
       "      <td>8.0</td>\n",
       "      <td>86865</td>\n",
       "      <td>14</td>\n",
       "      <td>15</td>\n",
       "      <td>...</td>\n",
       "      <td>NaN</td>\n",
       "      <td>2011</td>\n",
       "      <td>39700</td>\n",
       "      <td>2082000</td>\n",
       "      <td>60</td>\n",
       "      <td>50</td>\n",
       "      <td>남</td>\n",
       "      <td>미혼</td>\n",
       "      <td>1</td>\n",
       "      <td>미퇴거</td>\n",
       "    </tr>\n",
       "    <tr>\n",
       "      <th>10345</th>\n",
       "      <td>12880</td>\n",
       "      <td>유효</td>\n",
       "      <td>9</td>\n",
       "      <td>236</td>\n",
       "      <td>지산5단지아파트</td>\n",
       "      <td>3</td>\n",
       "      <td>8.0</td>\n",
       "      <td>86865</td>\n",
       "      <td>14</td>\n",
       "      <td>15</td>\n",
       "      <td>...</td>\n",
       "      <td>NaN</td>\n",
       "      <td>2012</td>\n",
       "      <td>40900</td>\n",
       "      <td>2144000</td>\n",
       "      <td>60</td>\n",
       "      <td>51</td>\n",
       "      <td>남</td>\n",
       "      <td>미혼</td>\n",
       "      <td>1</td>\n",
       "      <td>미퇴거</td>\n",
       "    </tr>\n",
       "    <tr>\n",
       "      <th>10346</th>\n",
       "      <td>12881</td>\n",
       "      <td>유효</td>\n",
       "      <td>11</td>\n",
       "      <td>310</td>\n",
       "      <td>지산5단지아파트</td>\n",
       "      <td>3</td>\n",
       "      <td>8.0</td>\n",
       "      <td>86878</td>\n",
       "      <td>14</td>\n",
       "      <td>19</td>\n",
       "      <td>...</td>\n",
       "      <td>NaN</td>\n",
       "      <td>2010</td>\n",
       "      <td>88800</td>\n",
       "      <td>6888000</td>\n",
       "      <td>68</td>\n",
       "      <td>57</td>\n",
       "      <td>남</td>\n",
       "      <td>미혼</td>\n",
       "      <td>2</td>\n",
       "      <td>미퇴거</td>\n",
       "    </tr>\n",
       "    <tr>\n",
       "      <th>10347</th>\n",
       "      <td>12882</td>\n",
       "      <td>해지</td>\n",
       "      <td>8</td>\n",
       "      <td>180</td>\n",
       "      <td>지산5단지아파트</td>\n",
       "      <td>3</td>\n",
       "      <td>8.0</td>\n",
       "      <td>86891</td>\n",
       "      <td>14</td>\n",
       "      <td>15</td>\n",
       "      <td>...</td>\n",
       "      <td>2018.0</td>\n",
       "      <td>2010</td>\n",
       "      <td>39700</td>\n",
       "      <td>2082000</td>\n",
       "      <td>60</td>\n",
       "      <td>49</td>\n",
       "      <td>남</td>\n",
       "      <td>기혼</td>\n",
       "      <td>2</td>\n",
       "      <td>미퇴거</td>\n",
       "    </tr>\n",
       "  </tbody>\n",
       "</table>\n",
       "<p>10348 rows × 23 columns</p>\n",
       "</div>"
      ],
      "text/plain": [
       "          순번 계약구분  재계약횟수  거주개월    아파트 이름  아파트 ID  아파트 평점  호실고유번호   층  평형대  \\\n",
       "0          1   유효     10   222     강남아파트       5     7.0   14520   1   12   \n",
       "1          1   유효     10   222     강남아파트       5     7.0   14520   1   12   \n",
       "2          2   해지      5   108     강남아파트       5     7.0   14546   1   12   \n",
       "3          5   유효     10   222     강남아파트       5     7.0   14572   1   15   \n",
       "4          6   유효     10   222     강남아파트       5     7.0   14598   1   15   \n",
       "...      ...  ...    ...   ...       ...     ...     ...     ...  ..  ...   \n",
       "10343  12880   유효      9   236  지산5단지아파트       3     8.0   86865  14   15   \n",
       "10344  12880   유효      9   236  지산5단지아파트       3     8.0   86865  14   15   \n",
       "10345  12880   유효      9   236  지산5단지아파트       3     8.0   86865  14   15   \n",
       "10346  12881   유효     11   310  지산5단지아파트       3     8.0   86878  14   19   \n",
       "10347  12882   해지      8   180  지산5단지아파트       3     8.0   86891  14   15   \n",
       "\n",
       "       ...    퇴거연도  거주연도  월세(원)   보증금(원)  대표나이  나이  성별  결혼여부  거주자 수 퇴거여부  \n",
       "0      ...     NaN  2009  56500  4375000    46  34   남    미혼      3  미퇴거  \n",
       "1      ...     NaN  2014  83800  6489000    46  39   남    미혼      3  미퇴거  \n",
       "2      ...  2012.0  2009  56500  4375000    68  56   여    미혼      1  미퇴거  \n",
       "3      ...     NaN  2009  51300  3553000    77  65   여    미혼      2  미퇴거  \n",
       "4      ...     NaN  2009  51300  3553000    73  61   남    미혼      3  미퇴거  \n",
       "...    ...     ...   ...    ...      ...   ...  ..  ..   ...    ...  ...  \n",
       "10343  ...     NaN  2010  39700  2082000    60  49   남    미혼      1  미퇴거  \n",
       "10344  ...     NaN  2011  39700  2082000    60  50   남    미혼      1  미퇴거  \n",
       "10345  ...     NaN  2012  40900  2144000    60  51   남    미혼      1  미퇴거  \n",
       "10346  ...     NaN  2010  88800  6888000    68  57   남    미혼      2  미퇴거  \n",
       "10347  ...  2018.0  2010  39700  2082000    60  49   남    기혼      2  미퇴거  \n",
       "\n",
       "[10348 rows x 23 columns]"
      ]
     },
     "execution_count": 8,
     "metadata": {},
     "output_type": "execute_result"
    }
   ],
   "source": [
    "estate_new = estate.loc[estate.groupby(\"계약자고유번호\")[\"거주연도\"].max().index].reset_index(drop=True)\n",
    "estate_new"
   ]
  },
  {
   "cell_type": "markdown",
   "metadata": {},
   "source": [
    "## 1-2 결측치 처리"
   ]
  },
  {
   "cell_type": "code",
   "execution_count": 9,
   "metadata": {},
   "outputs": [
    {
     "data": {
      "text/plain": [
       "계약구분        61\n",
       "아파트 평점     134\n",
       "퇴거연도      7321\n",
       "dtype: int64"
      ]
     },
     "execution_count": 9,
     "metadata": {},
     "output_type": "execute_result"
    }
   ],
   "source": [
    "# 계약구분, 아파트 평점, 퇴거연도에 결측치가 있음\n",
    "nulls = estate_new.isnull().sum()\n",
    "nulls[nulls>0]"
   ]
  },
  {
   "cell_type": "code",
   "execution_count": 10,
   "metadata": {},
   "outputs": [
    {
     "data": {
      "text/plain": [
       "아파트 ID  아파트 평점\n",
       "1       5.0       3641\n",
       "2       7.0       3604\n",
       "3       8.0       2651\n",
       "4       10.0       200\n",
       "5       7.0        118\n",
       "Name: 아파트 평점, dtype: int64"
      ]
     },
     "execution_count": 10,
     "metadata": {},
     "output_type": "execute_result"
    }
   ],
   "source": [
    "# 아파트별로 평점은 모두 동일하므로, 각 아파트 ID별 평점으로 결측치 처리\n",
    "estate_new.groupby(\"아파트 ID\")[\"아파트 평점\"].value_counts()"
   ]
  },
  {
   "cell_type": "code",
   "execution_count": 11,
   "metadata": {},
   "outputs": [],
   "source": [
    "def add_rate(id):\n",
    "    return estate_new[estate_new[\"아파트 ID\"]==id][\"아파트 평점\"].unique()[0]\n",
    "\n",
    "estate_new[\"아파트 평점\"] = estate_new[\"아파트 평점\"].fillna(estate_new[\"아파트 ID\"].apply(add_rate))"
   ]
  },
  {
   "cell_type": "code",
   "execution_count": 12,
   "metadata": {},
   "outputs": [
    {
     "data": {
      "text/plain": [
       "미퇴거    7321\n",
       "Name: 퇴거여부, dtype: int64"
      ]
     },
     "execution_count": 12,
     "metadata": {},
     "output_type": "execute_result"
    }
   ],
   "source": [
    "# 퇴거연도 확인\n",
    "# 퇴거 연도는 미퇴거 주택의 경우 모두 NA 처리되고 그 개수가 상당히 많은 편이므로 크게 분석에서 유용하게 사용할 변수로 보이지 않음\n",
    "# 퇴거여부 변수에 퇴거 연도의 일부 정보가 들어가고 있으므로 (퇴거/미퇴거) 퇴거여부 변수만 사용하고 퇴거연도는 삭제하는 게 좋겠음\n",
    "estate_new[estate_new[\"퇴거연도\"].isna()][\"퇴거여부\"].value_counts() # 퇴거연도가 없으면 모두 미퇴거"
   ]
  },
  {
   "cell_type": "code",
   "execution_count": 13,
   "metadata": {},
   "outputs": [],
   "source": [
    "estate_new.drop('퇴거연도', axis=1, inplace=True)"
   ]
  },
  {
   "cell_type": "code",
   "execution_count": 14,
   "metadata": {},
   "outputs": [],
   "source": [
    "# 계약구분 확인\n",
    "estate_new.loc[estate_new[estate_new[\"계약구분\"].isna()][estate_new[\"퇴거여부\"]==\"퇴거\"].index, \"계약구분\"] = \"해지\" # 퇴거 완료 계약의 해지 처리"
   ]
  },
  {
   "cell_type": "code",
   "execution_count": 15,
   "metadata": {},
   "outputs": [
    {
     "data": {
      "text/plain": [
       "계약구분    57\n",
       "dtype: int64"
      ]
     },
     "execution_count": 15,
     "metadata": {},
     "output_type": "execute_result"
    }
   ],
   "source": [
    "nulls = estate_new.isnull().sum()\n",
    "nulls[nulls>0]"
   ]
  },
  {
   "cell_type": "code",
   "execution_count": 16,
   "metadata": {},
   "outputs": [
    {
     "data": {
      "text/plain": [
       "미퇴거    57\n",
       "Name: 퇴거여부, dtype: int64"
      ]
     },
     "execution_count": 16,
     "metadata": {},
     "output_type": "execute_result"
    }
   ],
   "source": [
    "# 계약구분이 NA인 변수들의 퇴거여부 다시 확인\n",
    "estate_new[estate_new[\"계약구분\"].isna()][\"퇴거여부\"].value_counts()"
   ]
  },
  {
   "cell_type": "code",
   "execution_count": 17,
   "metadata": {},
   "outputs": [],
   "source": [
    "# 거주연도 + 거주개월이 2023이 넘으면 유효\n",
    "ok_index = estate_new[estate_new[\"계약구분\"].isna()][(estate_new[estate_new[\"계약구분\"].isna()][\"거주개월\"]/12).apply(int) + estate_new[estate_new[\"계약구분\"].isna()][\"거주연도\"] >= 2023].index\n",
    "estate_new.loc[ok_index, \"계약구분\"] = \"유효\""
   ]
  },
  {
   "cell_type": "code",
   "execution_count": 18,
   "metadata": {},
   "outputs": [],
   "source": [
    "# 다른 케이스는 해지\n",
    "estate_new[\"계약구분\"] = estate_new[\"계약구분\"].fillna(\"해지\")"
   ]
  },
  {
   "cell_type": "code",
   "execution_count": 19,
   "metadata": {},
   "outputs": [
    {
     "data": {
      "text/plain": [
       "Series([], dtype: int64)"
      ]
     },
     "execution_count": 19,
     "metadata": {},
     "output_type": "execute_result"
    }
   ],
   "source": [
    "nulls = estate_new.isnull().sum()\n",
    "nulls[nulls>0]"
   ]
  },
  {
   "cell_type": "code",
   "execution_count": 20,
   "metadata": {},
   "outputs": [
    {
     "data": {
      "text/html": [
       "<div>\n",
       "<style scoped>\n",
       "    .dataframe tbody tr th:only-of-type {\n",
       "        vertical-align: middle;\n",
       "    }\n",
       "\n",
       "    .dataframe tbody tr th {\n",
       "        vertical-align: top;\n",
       "    }\n",
       "\n",
       "    .dataframe thead th {\n",
       "        text-align: right;\n",
       "    }\n",
       "</style>\n",
       "<table border=\"1\" class=\"dataframe\">\n",
       "  <thead>\n",
       "    <tr style=\"text-align: right;\">\n",
       "      <th></th>\n",
       "      <th>거주개월</th>\n",
       "      <th>거주연도</th>\n",
       "      <th>거주자 수</th>\n",
       "      <th>결혼여부</th>\n",
       "      <th>계약구분</th>\n",
       "      <th>나이</th>\n",
       "      <th>대표나이</th>\n",
       "      <th>보증금(원)</th>\n",
       "      <th>성별</th>\n",
       "      <th>아파트 ID</th>\n",
       "      <th>아파트 평점</th>\n",
       "      <th>월세(원)</th>\n",
       "      <th>입주연도</th>\n",
       "      <th>재계약횟수</th>\n",
       "      <th>층</th>\n",
       "      <th>퇴거여부</th>\n",
       "      <th>평형대</th>\n",
       "    </tr>\n",
       "  </thead>\n",
       "  <tbody>\n",
       "    <tr>\n",
       "      <th>0</th>\n",
       "      <td>222</td>\n",
       "      <td>2009</td>\n",
       "      <td>3</td>\n",
       "      <td>미혼</td>\n",
       "      <td>유효</td>\n",
       "      <td>34</td>\n",
       "      <td>46</td>\n",
       "      <td>4375000</td>\n",
       "      <td>남</td>\n",
       "      <td>5</td>\n",
       "      <td>7.0</td>\n",
       "      <td>56500</td>\n",
       "      <td>2003</td>\n",
       "      <td>10</td>\n",
       "      <td>1</td>\n",
       "      <td>미퇴거</td>\n",
       "      <td>12</td>\n",
       "    </tr>\n",
       "    <tr>\n",
       "      <th>1</th>\n",
       "      <td>222</td>\n",
       "      <td>2014</td>\n",
       "      <td>3</td>\n",
       "      <td>미혼</td>\n",
       "      <td>유효</td>\n",
       "      <td>39</td>\n",
       "      <td>46</td>\n",
       "      <td>6489000</td>\n",
       "      <td>남</td>\n",
       "      <td>5</td>\n",
       "      <td>7.0</td>\n",
       "      <td>83800</td>\n",
       "      <td>2003</td>\n",
       "      <td>10</td>\n",
       "      <td>1</td>\n",
       "      <td>미퇴거</td>\n",
       "      <td>12</td>\n",
       "    </tr>\n",
       "    <tr>\n",
       "      <th>2</th>\n",
       "      <td>108</td>\n",
       "      <td>2009</td>\n",
       "      <td>1</td>\n",
       "      <td>미혼</td>\n",
       "      <td>해지</td>\n",
       "      <td>56</td>\n",
       "      <td>68</td>\n",
       "      <td>4375000</td>\n",
       "      <td>여</td>\n",
       "      <td>5</td>\n",
       "      <td>7.0</td>\n",
       "      <td>56500</td>\n",
       "      <td>2003</td>\n",
       "      <td>5</td>\n",
       "      <td>1</td>\n",
       "      <td>미퇴거</td>\n",
       "      <td>12</td>\n",
       "    </tr>\n",
       "    <tr>\n",
       "      <th>3</th>\n",
       "      <td>222</td>\n",
       "      <td>2009</td>\n",
       "      <td>2</td>\n",
       "      <td>미혼</td>\n",
       "      <td>유효</td>\n",
       "      <td>65</td>\n",
       "      <td>77</td>\n",
       "      <td>3553000</td>\n",
       "      <td>여</td>\n",
       "      <td>5</td>\n",
       "      <td>7.0</td>\n",
       "      <td>51300</td>\n",
       "      <td>2003</td>\n",
       "      <td>10</td>\n",
       "      <td>1</td>\n",
       "      <td>미퇴거</td>\n",
       "      <td>15</td>\n",
       "    </tr>\n",
       "    <tr>\n",
       "      <th>4</th>\n",
       "      <td>222</td>\n",
       "      <td>2009</td>\n",
       "      <td>3</td>\n",
       "      <td>미혼</td>\n",
       "      <td>유효</td>\n",
       "      <td>61</td>\n",
       "      <td>73</td>\n",
       "      <td>3553000</td>\n",
       "      <td>남</td>\n",
       "      <td>5</td>\n",
       "      <td>7.0</td>\n",
       "      <td>51300</td>\n",
       "      <td>2003</td>\n",
       "      <td>10</td>\n",
       "      <td>1</td>\n",
       "      <td>미퇴거</td>\n",
       "      <td>15</td>\n",
       "    </tr>\n",
       "    <tr>\n",
       "      <th>...</th>\n",
       "      <td>...</td>\n",
       "      <td>...</td>\n",
       "      <td>...</td>\n",
       "      <td>...</td>\n",
       "      <td>...</td>\n",
       "      <td>...</td>\n",
       "      <td>...</td>\n",
       "      <td>...</td>\n",
       "      <td>...</td>\n",
       "      <td>...</td>\n",
       "      <td>...</td>\n",
       "      <td>...</td>\n",
       "      <td>...</td>\n",
       "      <td>...</td>\n",
       "      <td>...</td>\n",
       "      <td>...</td>\n",
       "      <td>...</td>\n",
       "    </tr>\n",
       "    <tr>\n",
       "      <th>10343</th>\n",
       "      <td>236</td>\n",
       "      <td>2010</td>\n",
       "      <td>1</td>\n",
       "      <td>미혼</td>\n",
       "      <td>유효</td>\n",
       "      <td>49</td>\n",
       "      <td>60</td>\n",
       "      <td>2082000</td>\n",
       "      <td>남</td>\n",
       "      <td>3</td>\n",
       "      <td>8.0</td>\n",
       "      <td>39700</td>\n",
       "      <td>2001</td>\n",
       "      <td>9</td>\n",
       "      <td>14</td>\n",
       "      <td>미퇴거</td>\n",
       "      <td>15</td>\n",
       "    </tr>\n",
       "    <tr>\n",
       "      <th>10344</th>\n",
       "      <td>236</td>\n",
       "      <td>2011</td>\n",
       "      <td>1</td>\n",
       "      <td>미혼</td>\n",
       "      <td>유효</td>\n",
       "      <td>50</td>\n",
       "      <td>60</td>\n",
       "      <td>2082000</td>\n",
       "      <td>남</td>\n",
       "      <td>3</td>\n",
       "      <td>8.0</td>\n",
       "      <td>39700</td>\n",
       "      <td>2001</td>\n",
       "      <td>9</td>\n",
       "      <td>14</td>\n",
       "      <td>미퇴거</td>\n",
       "      <td>15</td>\n",
       "    </tr>\n",
       "    <tr>\n",
       "      <th>10345</th>\n",
       "      <td>236</td>\n",
       "      <td>2012</td>\n",
       "      <td>1</td>\n",
       "      <td>미혼</td>\n",
       "      <td>유효</td>\n",
       "      <td>51</td>\n",
       "      <td>60</td>\n",
       "      <td>2144000</td>\n",
       "      <td>남</td>\n",
       "      <td>3</td>\n",
       "      <td>8.0</td>\n",
       "      <td>40900</td>\n",
       "      <td>2001</td>\n",
       "      <td>9</td>\n",
       "      <td>14</td>\n",
       "      <td>미퇴거</td>\n",
       "      <td>15</td>\n",
       "    </tr>\n",
       "    <tr>\n",
       "      <th>10346</th>\n",
       "      <td>310</td>\n",
       "      <td>2010</td>\n",
       "      <td>2</td>\n",
       "      <td>미혼</td>\n",
       "      <td>유효</td>\n",
       "      <td>57</td>\n",
       "      <td>68</td>\n",
       "      <td>6888000</td>\n",
       "      <td>남</td>\n",
       "      <td>3</td>\n",
       "      <td>8.0</td>\n",
       "      <td>88800</td>\n",
       "      <td>1995</td>\n",
       "      <td>11</td>\n",
       "      <td>14</td>\n",
       "      <td>미퇴거</td>\n",
       "      <td>19</td>\n",
       "    </tr>\n",
       "    <tr>\n",
       "      <th>10347</th>\n",
       "      <td>180</td>\n",
       "      <td>2010</td>\n",
       "      <td>2</td>\n",
       "      <td>기혼</td>\n",
       "      <td>해지</td>\n",
       "      <td>49</td>\n",
       "      <td>60</td>\n",
       "      <td>2082000</td>\n",
       "      <td>남</td>\n",
       "      <td>3</td>\n",
       "      <td>8.0</td>\n",
       "      <td>39700</td>\n",
       "      <td>2003</td>\n",
       "      <td>8</td>\n",
       "      <td>14</td>\n",
       "      <td>미퇴거</td>\n",
       "      <td>15</td>\n",
       "    </tr>\n",
       "  </tbody>\n",
       "</table>\n",
       "<p>10348 rows × 17 columns</p>\n",
       "</div>"
      ],
      "text/plain": [
       "       거주개월  거주연도  거주자 수 결혼여부 계약구분  나이  대표나이   보증금(원) 성별  아파트 ID  아파트 평점  \\\n",
       "0       222  2009      3   미혼   유효  34    46  4375000  남       5     7.0   \n",
       "1       222  2014      3   미혼   유효  39    46  6489000  남       5     7.0   \n",
       "2       108  2009      1   미혼   해지  56    68  4375000  여       5     7.0   \n",
       "3       222  2009      2   미혼   유효  65    77  3553000  여       5     7.0   \n",
       "4       222  2009      3   미혼   유효  61    73  3553000  남       5     7.0   \n",
       "...     ...   ...    ...  ...  ...  ..   ...      ... ..     ...     ...   \n",
       "10343   236  2010      1   미혼   유효  49    60  2082000  남       3     8.0   \n",
       "10344   236  2011      1   미혼   유효  50    60  2082000  남       3     8.0   \n",
       "10345   236  2012      1   미혼   유효  51    60  2144000  남       3     8.0   \n",
       "10346   310  2010      2   미혼   유효  57    68  6888000  남       3     8.0   \n",
       "10347   180  2010      2   기혼   해지  49    60  2082000  남       3     8.0   \n",
       "\n",
       "       월세(원)  입주연도  재계약횟수   층 퇴거여부  평형대  \n",
       "0      56500  2003     10   1  미퇴거   12  \n",
       "1      83800  2003     10   1  미퇴거   12  \n",
       "2      56500  2003      5   1  미퇴거   12  \n",
       "3      51300  2003     10   1  미퇴거   15  \n",
       "4      51300  2003     10   1  미퇴거   15  \n",
       "...      ...   ...    ...  ..  ...  ...  \n",
       "10343  39700  2001      9  14  미퇴거   15  \n",
       "10344  39700  2001      9  14  미퇴거   15  \n",
       "10345  40900  2001      9  14  미퇴거   15  \n",
       "10346  88800  1995     11  14  미퇴거   19  \n",
       "10347  39700  2003      8  14  미퇴거   15  \n",
       "\n",
       "[10348 rows x 17 columns]"
      ]
     },
     "execution_count": 20,
     "metadata": {},
     "output_type": "execute_result"
    }
   ],
   "source": [
    "### 분석에 필요한 컬럼만 추출\n",
    "estate_new = estate_new.loc[:, list(estate_new.columns.difference(['순번', '아파트 이름', '호실고유번호', '계약서고유번호', '계약자고유번호']))]\n",
    "estate_new"
   ]
  },
  {
   "cell_type": "code",
   "execution_count": 21,
   "metadata": {},
   "outputs": [],
   "source": [
    "cat_col = ['결혼여부', '계약구분', '성별', '퇴거여부']\n",
    "num_col = list(estate_new.columns.difference(cat_col))"
   ]
  },
  {
   "cell_type": "code",
   "execution_count": 22,
   "metadata": {},
   "outputs": [
    {
     "data": {
      "image/png": "[encoded data removed]",
      "text/plain": [
       "<Figure size 1080x1080 with 4 Axes>"
      ]
     },
     "metadata": {
      "needs_background": "light"
     },
     "output_type": "display_data"
    }
   ],
   "source": [
    "fig, axes = plt.subplots(nrows=2, ncols=2, figsize=(15, 15))\n",
    "\n",
    "for i, col in enumerate(cat_col):\n",
    "    row_ = i//2\n",
    "    col_ = i%2\n",
    "    \n",
    "    sns.countplot(estate_new[col], ax=axes[row_][col_])"
   ]
  },
  {
   "cell_type": "code",
   "execution_count": 23,
   "metadata": {},
   "outputs": [
    {
     "name": "stdout",
     "output_type": "stream",
     "text": [
      "카테고리 변수를 barplot으로 시각화해 본 결과, 각 변수별로 클래스 빈도에 차이가 있는 것을 확인할 수 있다.\n",
      "계약자 중에는 미혼, 여성이 많았으며, 유효한 계약의 건수가 더 많았다. 또한, 아직 퇴거하지 않은 계약이 더 많음을 확인할 수 있다.\n"
     ]
    }
   ],
   "source": [
    "print('카테고리 변수를 barplot으로 시각화해 본 결과, 각 변수별로 클래스 빈도에 차이가 있는 것을 확인할 수 있다.')\n",
    "print('계약자 중에는 미혼, 여성이 많았으며, 유효한 계약의 건수가 더 많았다. 또한, 아직 퇴거하지 않은 계약이 더 많음을 확인할 수 있다.')"
   ]
  },
  {
   "cell_type": "code",
   "execution_count": 24,
   "metadata": {},
   "outputs": [
    {
     "data": {
      "image/png": "[encoded data removed]",
      "text/plain": [
       "<Figure size 1800x1080 with 15 Axes>"
      ]
     },
     "metadata": {
      "needs_background": "light"
     },
     "output_type": "display_data"
    }
   ],
   "source": [
    "fig, axes = plt.subplots(nrows=3, ncols=5, figsize=(25, 15))\n",
    "\n",
    "for i, col in enumerate(num_col):\n",
    "    row_ = i//5\n",
    "    col_ = i%5\n",
    "    \n",
    "    sns.boxplot(estate_new[col], ax=axes[row_][col_])"
   ]
  },
  {
   "cell_type": "code",
   "execution_count": 25,
   "metadata": {},
   "outputs": [
    {
     "name": "stdout",
     "output_type": "stream",
     "text": [
      "수치형 변수는 boxplot으로 시각화했으며, 일부 변수에서 이상치가 다수 발견되고 있음이 확인된다.\n"
     ]
    }
   ],
   "source": [
    "print('수치형 변수는 boxplot으로 시각화했으며, 일부 변수에서 이상치가 다수 발견되고 있음이 확인된다.')"
   ]
  },
  {
   "cell_type": "code",
   "execution_count": 26,
   "metadata": {},
   "outputs": [
    {
     "data": {
      "image/png": "[encoded data removed]",
      "text/plain": [
       "<Figure size 720x576 with 2 Axes>"
      ]
     },
     "metadata": {
      "needs_background": "light"
     },
     "output_type": "display_data"
    }
   ],
   "source": [
    "plt.figure(figsize=[10, 8])\n",
    "sns.heatmap(estate_new.corr(method='spearman'))\n",
    "plt.show()"
   ]
  },
  {
   "cell_type": "code",
   "execution_count": 27,
   "metadata": {},
   "outputs": [
    {
     "name": "stdout",
     "output_type": "stream",
     "text": [
      "각 변수 간 상관계수를 살펴보니, 일부 변수에서 높은 양의 상관, 음의 상관이 존재한다.\n"
     ]
    }
   ],
   "source": [
    "print('각 변수 간 상관계수를 살펴보니, 일부 변수에서 높은 양의 상관, 음의 상관이 존재한다.')"
   ]
  },
  {
   "cell_type": "markdown",
   "metadata": {},
   "source": [
    "## 1-3 이상치 처리\n",
    "- Outlier가 존재하는 column: 거주자 수, 나이, 대표나이, 보증금, 월세, 입주연도\n",
    "- 거주자 수, 입주연도의 경우 처리하지 않아도 되는 outlier\n",
    "- 보증금, 월세의 경우 이상치 영향을 줄이는 변환 (log 변환)\n",
    "- 나이, 대표나이의 경우, 100세 이상인 경우 100으로 조정"
   ]
  },
  {
   "cell_type": "code",
   "execution_count": 28,
   "metadata": {},
   "outputs": [
    {
     "name": "stdout",
     "output_type": "stream",
     "text": [
      "앞선 EDA의 boxplot을 살펴봤을 때 Outlier가 존재하는 column은 거주자 수, 나이, 대표나이, 보증금, 월세, 입주연도이다.\n",
      "거주자 수, 입주연도의 경우 outlier의 값이 합리적이므로 별도 처리가 필요하지 않아 보인다.\n",
      "보증금과 월세의 경우 이상치가 있지만, 이를 실제 이상치로 볼 건지, 어떻게 처리할 것인지에 대한 방법은 현업의 의견이 필요하다. 우선은 이상치의 영향을 줄이기 위해 로그 변환을 수행한다.\n",
      "나이 변수의 경우, 클리핑을 적용하였다. 100세 이상의 경우 100으로 나이를 조정한다.\n"
     ]
    }
   ],
   "source": [
    "print('앞선 EDA의 boxplot을 살펴봤을 때 Outlier가 존재하는 column은 거주자 수, 나이, 대표나이, 보증금, 월세, 입주연도이다.')\n",
    "print('거주자 수, 입주연도의 경우 outlier의 값이 합리적이므로 별도 처리가 필요하지 않아 보인다.')\n",
    "print('보증금과 월세의 경우 이상치가 있지만, 이를 실제 이상치로 볼 건지, 어떻게 처리할 것인지에 대한 방법은 현업의 의견이 필요하다. 우선은 이상치의 영향을 줄이기 위해 로그 변환을 수행한다.')\n",
    "print('나이 변수의 경우, 클리핑을 적용하였다. 100세 이상의 경우 100으로 나이를 조정한다.') "
   ]
  },
  {
   "cell_type": "code",
   "execution_count": 29,
   "metadata": {},
   "outputs": [],
   "source": [
    "### 나이 변환 \n",
    "estate_new.loc[estate_new['나이']>=100, '나이'] = 100\n",
    "estate_new.loc[estate_new['대표나이']>=100, '대표나이'] = 100"
   ]
  },
  {
   "cell_type": "code",
   "execution_count": 30,
   "metadata": {},
   "outputs": [
    {
     "name": "stdout",
     "output_type": "stream",
     "text": [
      "1520000\n",
      "31300\n"
     ]
    }
   ],
   "source": [
    "### 보증금, 월세 log 변환\n",
    "# skew 확인\n",
    "print(estate_new[\"보증금(원)\"].min())\n",
    "print(estate_new['월세(원)'].min())"
   ]
  },
  {
   "cell_type": "code",
   "execution_count": 31,
   "metadata": {},
   "outputs": [],
   "source": [
    "# 모두 양수이므로, log1p 사용하지 않고 log 사용\n",
    "estate_new[\"보증금(원)_log\"] = np.log(estate_new[\"보증금(원)\"])\n",
    "estate_new[\"월세(원)_log\"] = np.log(estate_new[\"월세(원)\"])"
   ]
  },
  {
   "cell_type": "markdown",
   "metadata": {},
   "source": [
    "## 2-1 재계약 횟수의 중앙값을 기준으로 중앙값보다 크거나 같으면 '높음', 작으면 '낮음' 으로 재계약 횟수 이분 변수를 구성하시오."
   ]
  },
  {
   "cell_type": "code",
   "execution_count": 32,
   "metadata": {},
   "outputs": [
    {
     "data": {
      "text/html": [
       "<div>\n",
       "<style scoped>\n",
       "    .dataframe tbody tr th:only-of-type {\n",
       "        vertical-align: middle;\n",
       "    }\n",
       "\n",
       "    .dataframe tbody tr th {\n",
       "        vertical-align: top;\n",
       "    }\n",
       "\n",
       "    .dataframe thead th {\n",
       "        text-align: right;\n",
       "    }\n",
       "</style>\n",
       "<table border=\"1\" class=\"dataframe\">\n",
       "  <thead>\n",
       "    <tr style=\"text-align: right;\">\n",
       "      <th></th>\n",
       "      <th>거주개월</th>\n",
       "      <th>거주연도</th>\n",
       "      <th>거주자 수</th>\n",
       "      <th>결혼여부</th>\n",
       "      <th>계약구분</th>\n",
       "      <th>나이</th>\n",
       "      <th>대표나이</th>\n",
       "      <th>보증금(원)</th>\n",
       "      <th>성별</th>\n",
       "      <th>아파트 ID</th>\n",
       "      <th>아파트 평점</th>\n",
       "      <th>월세(원)</th>\n",
       "      <th>입주연도</th>\n",
       "      <th>재계약횟수</th>\n",
       "      <th>층</th>\n",
       "      <th>퇴거여부</th>\n",
       "      <th>평형대</th>\n",
       "      <th>보증금(원)_log</th>\n",
       "      <th>월세(원)_log</th>\n",
       "      <th>재계약빈도</th>\n",
       "    </tr>\n",
       "  </thead>\n",
       "  <tbody>\n",
       "    <tr>\n",
       "      <th>0</th>\n",
       "      <td>222</td>\n",
       "      <td>2009</td>\n",
       "      <td>3</td>\n",
       "      <td>미혼</td>\n",
       "      <td>유효</td>\n",
       "      <td>34</td>\n",
       "      <td>46</td>\n",
       "      <td>4375000</td>\n",
       "      <td>남</td>\n",
       "      <td>5</td>\n",
       "      <td>7.0</td>\n",
       "      <td>56500</td>\n",
       "      <td>2003</td>\n",
       "      <td>10</td>\n",
       "      <td>1</td>\n",
       "      <td>미퇴거</td>\n",
       "      <td>12</td>\n",
       "      <td>15.291417</td>\n",
       "      <td>10.941996</td>\n",
       "      <td>높음</td>\n",
       "    </tr>\n",
       "    <tr>\n",
       "      <th>1</th>\n",
       "      <td>222</td>\n",
       "      <td>2014</td>\n",
       "      <td>3</td>\n",
       "      <td>미혼</td>\n",
       "      <td>유효</td>\n",
       "      <td>39</td>\n",
       "      <td>46</td>\n",
       "      <td>6489000</td>\n",
       "      <td>남</td>\n",
       "      <td>5</td>\n",
       "      <td>7.0</td>\n",
       "      <td>83800</td>\n",
       "      <td>2003</td>\n",
       "      <td>10</td>\n",
       "      <td>1</td>\n",
       "      <td>미퇴거</td>\n",
       "      <td>12</td>\n",
       "      <td>15.685619</td>\n",
       "      <td>11.336188</td>\n",
       "      <td>높음</td>\n",
       "    </tr>\n",
       "    <tr>\n",
       "      <th>2</th>\n",
       "      <td>108</td>\n",
       "      <td>2009</td>\n",
       "      <td>1</td>\n",
       "      <td>미혼</td>\n",
       "      <td>해지</td>\n",
       "      <td>56</td>\n",
       "      <td>68</td>\n",
       "      <td>4375000</td>\n",
       "      <td>여</td>\n",
       "      <td>5</td>\n",
       "      <td>7.0</td>\n",
       "      <td>56500</td>\n",
       "      <td>2003</td>\n",
       "      <td>5</td>\n",
       "      <td>1</td>\n",
       "      <td>미퇴거</td>\n",
       "      <td>12</td>\n",
       "      <td>15.291417</td>\n",
       "      <td>10.941996</td>\n",
       "      <td>낮음</td>\n",
       "    </tr>\n",
       "    <tr>\n",
       "      <th>3</th>\n",
       "      <td>222</td>\n",
       "      <td>2009</td>\n",
       "      <td>2</td>\n",
       "      <td>미혼</td>\n",
       "      <td>유효</td>\n",
       "      <td>65</td>\n",
       "      <td>77</td>\n",
       "      <td>3553000</td>\n",
       "      <td>여</td>\n",
       "      <td>5</td>\n",
       "      <td>7.0</td>\n",
       "      <td>51300</td>\n",
       "      <td>2003</td>\n",
       "      <td>10</td>\n",
       "      <td>1</td>\n",
       "      <td>미퇴거</td>\n",
       "      <td>15</td>\n",
       "      <td>15.083303</td>\n",
       "      <td>10.845446</td>\n",
       "      <td>높음</td>\n",
       "    </tr>\n",
       "    <tr>\n",
       "      <th>4</th>\n",
       "      <td>222</td>\n",
       "      <td>2009</td>\n",
       "      <td>3</td>\n",
       "      <td>미혼</td>\n",
       "      <td>유효</td>\n",
       "      <td>61</td>\n",
       "      <td>73</td>\n",
       "      <td>3553000</td>\n",
       "      <td>남</td>\n",
       "      <td>5</td>\n",
       "      <td>7.0</td>\n",
       "      <td>51300</td>\n",
       "      <td>2003</td>\n",
       "      <td>10</td>\n",
       "      <td>1</td>\n",
       "      <td>미퇴거</td>\n",
       "      <td>15</td>\n",
       "      <td>15.083303</td>\n",
       "      <td>10.845446</td>\n",
       "      <td>높음</td>\n",
       "    </tr>\n",
       "    <tr>\n",
       "      <th>...</th>\n",
       "      <td>...</td>\n",
       "      <td>...</td>\n",
       "      <td>...</td>\n",
       "      <td>...</td>\n",
       "      <td>...</td>\n",
       "      <td>...</td>\n",
       "      <td>...</td>\n",
       "      <td>...</td>\n",
       "      <td>...</td>\n",
       "      <td>...</td>\n",
       "      <td>...</td>\n",
       "      <td>...</td>\n",
       "      <td>...</td>\n",
       "      <td>...</td>\n",
       "      <td>...</td>\n",
       "      <td>...</td>\n",
       "      <td>...</td>\n",
       "      <td>...</td>\n",
       "      <td>...</td>\n",
       "      <td>...</td>\n",
       "    </tr>\n",
       "    <tr>\n",
       "      <th>10343</th>\n",
       "      <td>236</td>\n",
       "      <td>2010</td>\n",
       "      <td>1</td>\n",
       "      <td>미혼</td>\n",
       "      <td>유효</td>\n",
       "      <td>49</td>\n",
       "      <td>60</td>\n",
       "      <td>2082000</td>\n",
       "      <td>남</td>\n",
       "      <td>3</td>\n",
       "      <td>8.0</td>\n",
       "      <td>39700</td>\n",
       "      <td>2001</td>\n",
       "      <td>9</td>\n",
       "      <td>14</td>\n",
       "      <td>미퇴거</td>\n",
       "      <td>15</td>\n",
       "      <td>14.548840</td>\n",
       "      <td>10.589106</td>\n",
       "      <td>높음</td>\n",
       "    </tr>\n",
       "    <tr>\n",
       "      <th>10344</th>\n",
       "      <td>236</td>\n",
       "      <td>2011</td>\n",
       "      <td>1</td>\n",
       "      <td>미혼</td>\n",
       "      <td>유효</td>\n",
       "      <td>50</td>\n",
       "      <td>60</td>\n",
       "      <td>2082000</td>\n",
       "      <td>남</td>\n",
       "      <td>3</td>\n",
       "      <td>8.0</td>\n",
       "      <td>39700</td>\n",
       "      <td>2001</td>\n",
       "      <td>9</td>\n",
       "      <td>14</td>\n",
       "      <td>미퇴거</td>\n",
       "      <td>15</td>\n",
       "      <td>14.548840</td>\n",
       "      <td>10.589106</td>\n",
       "      <td>높음</td>\n",
       "    </tr>\n",
       "    <tr>\n",
       "      <th>10345</th>\n",
       "      <td>236</td>\n",
       "      <td>2012</td>\n",
       "      <td>1</td>\n",
       "      <td>미혼</td>\n",
       "      <td>유효</td>\n",
       "      <td>51</td>\n",
       "      <td>60</td>\n",
       "      <td>2144000</td>\n",
       "      <td>남</td>\n",
       "      <td>3</td>\n",
       "      <td>8.0</td>\n",
       "      <td>40900</td>\n",
       "      <td>2001</td>\n",
       "      <td>9</td>\n",
       "      <td>14</td>\n",
       "      <td>미퇴거</td>\n",
       "      <td>15</td>\n",
       "      <td>14.578184</td>\n",
       "      <td>10.618885</td>\n",
       "      <td>높음</td>\n",
       "    </tr>\n",
       "    <tr>\n",
       "      <th>10346</th>\n",
       "      <td>310</td>\n",
       "      <td>2010</td>\n",
       "      <td>2</td>\n",
       "      <td>미혼</td>\n",
       "      <td>유효</td>\n",
       "      <td>57</td>\n",
       "      <td>68</td>\n",
       "      <td>6888000</td>\n",
       "      <td>남</td>\n",
       "      <td>3</td>\n",
       "      <td>8.0</td>\n",
       "      <td>88800</td>\n",
       "      <td>1995</td>\n",
       "      <td>11</td>\n",
       "      <td>14</td>\n",
       "      <td>미퇴거</td>\n",
       "      <td>19</td>\n",
       "      <td>15.745291</td>\n",
       "      <td>11.394142</td>\n",
       "      <td>높음</td>\n",
       "    </tr>\n",
       "    <tr>\n",
       "      <th>10347</th>\n",
       "      <td>180</td>\n",
       "      <td>2010</td>\n",
       "      <td>2</td>\n",
       "      <td>기혼</td>\n",
       "      <td>해지</td>\n",
       "      <td>49</td>\n",
       "      <td>60</td>\n",
       "      <td>2082000</td>\n",
       "      <td>남</td>\n",
       "      <td>3</td>\n",
       "      <td>8.0</td>\n",
       "      <td>39700</td>\n",
       "      <td>2003</td>\n",
       "      <td>8</td>\n",
       "      <td>14</td>\n",
       "      <td>미퇴거</td>\n",
       "      <td>15</td>\n",
       "      <td>14.548840</td>\n",
       "      <td>10.589106</td>\n",
       "      <td>높음</td>\n",
       "    </tr>\n",
       "  </tbody>\n",
       "</table>\n",
       "<p>10348 rows × 20 columns</p>\n",
       "</div>"
      ],
      "text/plain": [
       "       거주개월  거주연도  거주자 수 결혼여부 계약구분  나이  대표나이   보증금(원) 성별  아파트 ID  아파트 평점  \\\n",
       "0       222  2009      3   미혼   유효  34    46  4375000  남       5     7.0   \n",
       "1       222  2014      3   미혼   유효  39    46  6489000  남       5     7.0   \n",
       "2       108  2009      1   미혼   해지  56    68  4375000  여       5     7.0   \n",
       "3       222  2009      2   미혼   유효  65    77  3553000  여       5     7.0   \n",
       "4       222  2009      3   미혼   유효  61    73  3553000  남       5     7.0   \n",
       "...     ...   ...    ...  ...  ...  ..   ...      ... ..     ...     ...   \n",
       "10343   236  2010      1   미혼   유효  49    60  2082000  남       3     8.0   \n",
       "10344   236  2011      1   미혼   유효  50    60  2082000  남       3     8.0   \n",
       "10345   236  2012      1   미혼   유효  51    60  2144000  남       3     8.0   \n",
       "10346   310  2010      2   미혼   유효  57    68  6888000  남       3     8.0   \n",
       "10347   180  2010      2   기혼   해지  49    60  2082000  남       3     8.0   \n",
       "\n",
       "       월세(원)  입주연도  재계약횟수   층 퇴거여부  평형대  보증금(원)_log  월세(원)_log 재계약빈도  \n",
       "0      56500  2003     10   1  미퇴거   12   15.291417  10.941996    높음  \n",
       "1      83800  2003     10   1  미퇴거   12   15.685619  11.336188    높음  \n",
       "2      56500  2003      5   1  미퇴거   12   15.291417  10.941996    낮음  \n",
       "3      51300  2003     10   1  미퇴거   15   15.083303  10.845446    높음  \n",
       "4      51300  2003     10   1  미퇴거   15   15.083303  10.845446    높음  \n",
       "...      ...   ...    ...  ..  ...  ...         ...        ...   ...  \n",
       "10343  39700  2001      9  14  미퇴거   15   14.548840  10.589106    높음  \n",
       "10344  39700  2001      9  14  미퇴거   15   14.548840  10.589106    높음  \n",
       "10345  40900  2001      9  14  미퇴거   15   14.578184  10.618885    높음  \n",
       "10346  88800  1995     11  14  미퇴거   19   15.745291  11.394142    높음  \n",
       "10347  39700  2003      8  14  미퇴거   15   14.548840  10.589106    높음  \n",
       "\n",
       "[10348 rows x 20 columns]"
      ]
     },
     "execution_count": 32,
     "metadata": {},
     "output_type": "execute_result"
    }
   ],
   "source": [
    "estate_new[\"재계약빈도\"] = np.where(estate_new[\"재계약횟수\"]>=estate_new[\"재계약횟수\"].median(), '높음', '낮음')\n",
    "estate_new"
   ]
  },
  {
   "cell_type": "markdown",
   "metadata": {},
   "source": [
    "## 2-2 차원축소의 필요성을 논하고, 필요에 따라 차원을 축소하고 불필요하다면 그 근거를 논하시오."
   ]
  },
  {
   "cell_type": "code",
   "execution_count": 33,
   "metadata": {},
   "outputs": [
    {
     "name": "stdout",
     "output_type": "stream",
     "text": [
      "앞선 EDA에서 선형 상관성이 높은 변수가 확인되었으므로, 상관성이 높은 일부 변수를 차원 축소를 통해 제거할 수 있을 것으로 판단된다.\n",
      "나이와 대표나이, 보증금과 월세, 아파트 ID와 평점의 양의 상관성이 높고, 거주개월과 입주연도의 음의 상관성이 높다. 각 변수들 중 더 많은 정보를 담고 있을 것으로 생각되는 나이, 월세, 평점, 거주개월 변수를 선택하고, 선택되지 않은 변수는 제거한다.\n"
     ]
    }
   ],
   "source": [
    "print('앞선 EDA에서 선형 상관성이 높은 변수가 확인되었으므로, 상관성이 높은 일부 변수를 차원 축소를 통해 제거할 수 있을 것으로 판단된다.')\n",
    "print('나이와 대표나이, 보증금과 월세, 아파트 ID와 평점의 양의 상관성이 높고, 거주개월과 입주연도의 음의 상관성이 높다. 각 변수들 중 더 많은 정보를 담고 있을 것으로 생각되는 나이, 월세, 평점, 거주개월 변수를 선택하고, 선택되지 않은 변수는 제거한다.')"
   ]
  },
  {
   "cell_type": "code",
   "execution_count": 34,
   "metadata": {},
   "outputs": [
    {
     "data": {
      "image/png": "[encoded data removed]",
      "text/plain": [
       "<Figure size 720x576 with 2 Axes>"
      ]
     },
     "metadata": {
      "needs_background": "light"
     },
     "output_type": "display_data"
    }
   ],
   "source": [
    "### 수치형 변수 확인\n",
    "plt.figure(figsize=[10, 8])\n",
    "sns.heatmap(estate_new.drop(cat_col + [\"재계약횟수\"], axis=1).corr()) # 종속변수와 일부 문자형 데이터를 제외하고 상관성 확인\n",
    "plt.show()"
   ]
  },
  {
   "cell_type": "code",
   "execution_count": 35,
   "metadata": {},
   "outputs": [],
   "source": [
    "### Label encoding\n",
    "from sklearn.preprocessing import LabelEncoder"
   ]
  },
  {
   "cell_type": "code",
   "execution_count": 36,
   "metadata": {},
   "outputs": [],
   "source": [
    "for col in cat_col:\n",
    "    encoder = LabelEncoder()\n",
    "    encoder.fit(estate_new[col])\n",
    "    estate_new[col] = encoder.transform(estate_new[col])"
   ]
  },
  {
   "cell_type": "code",
   "execution_count": 37,
   "metadata": {},
   "outputs": [
    {
     "data": {
      "image/png": "[encoded data removed]",
      "text/plain": [
       "<Figure size 720x576 with 2 Axes>"
      ]
     },
     "metadata": {
      "needs_background": "light"
     },
     "output_type": "display_data"
    }
   ],
   "source": [
    "# 범주형 변수들의 상관성 확인\n",
    "# 일부 상관성이 보이는 변수들이 있으나, 크지는 않은 편\n",
    "plt.figure(figsize=[10, 8])\n",
    "sns.heatmap(estate_new.loc[:, cat_col].corr(method='spearman'))\n",
    "plt.show()"
   ]
  },
  {
   "cell_type": "code",
   "execution_count": 38,
   "metadata": {},
   "outputs": [],
   "source": [
    "estate_new = estate_new.drop([\"월세(원)\", \"보증금(원)\"], axis=1) # 불필요 변수 제거 "
   ]
  },
  {
   "cell_type": "code",
   "execution_count": 39,
   "metadata": {},
   "outputs": [
    {
     "name": "stdout",
     "output_type": "stream",
     "text": [
      "<class 'pandas.core.frame.DataFrame'>\n",
      "RangeIndex: 10348 entries, 0 to 10347\n",
      "Data columns (total 14 columns):\n",
      " #   Column     Non-Null Count  Dtype  \n",
      "---  ------     --------------  -----  \n",
      " 0   거주개월       10348 non-null  int64  \n",
      " 1   거주연도       10348 non-null  int64  \n",
      " 2   거주자 수      10348 non-null  int64  \n",
      " 3   결혼여부       10348 non-null  int64  \n",
      " 4   계약구분       10348 non-null  int64  \n",
      " 5   나이         10348 non-null  int64  \n",
      " 6   성별         10348 non-null  int64  \n",
      " 7   아파트 평점     10348 non-null  float64\n",
      " 8   재계약횟수      10348 non-null  int64  \n",
      " 9   층          10348 non-null  int64  \n",
      " 10  퇴거여부       10348 non-null  int64  \n",
      " 11  평형대        10348 non-null  int64  \n",
      " 12  월세(원)_log  10348 non-null  float64\n",
      " 13  재계약빈도      10348 non-null  object \n",
      "dtypes: float64(2), int64(11), object(1)\n",
      "memory usage: 1.1+ MB\n"
     ]
    }
   ],
   "source": [
    "# 상관성 높음 변수 제거\n",
    "estate_model = estate_new.drop([\"대표나이\", \"보증금(원)_log\", \"아파트 ID\", \"입주연도\"], axis=1)\n",
    "estate_model.info()"
   ]
  },
  {
   "cell_type": "markdown",
   "metadata": {},
   "source": [
    "## 3-1 재계약 횟수 이분변수를 기준으로 세그먼트를 구분하고 각 세그먼트의 특징을 분석하시오."
   ]
  },
  {
   "cell_type": "code",
   "execution_count": 40,
   "metadata": {},
   "outputs": [
    {
     "data": {
      "text/html": [
       "<div>\n",
       "<style scoped>\n",
       "    .dataframe tbody tr th:only-of-type {\n",
       "        vertical-align: middle;\n",
       "    }\n",
       "\n",
       "    .dataframe tbody tr th {\n",
       "        vertical-align: top;\n",
       "    }\n",
       "\n",
       "    .dataframe thead th {\n",
       "        text-align: right;\n",
       "    }\n",
       "</style>\n",
       "<table border=\"1\" class=\"dataframe\">\n",
       "  <thead>\n",
       "    <tr style=\"text-align: right;\">\n",
       "      <th></th>\n",
       "      <th>거주개월</th>\n",
       "      <th>거주연도</th>\n",
       "      <th>거주자 수</th>\n",
       "      <th>결혼여부</th>\n",
       "      <th>계약구분</th>\n",
       "      <th>나이</th>\n",
       "      <th>성별</th>\n",
       "      <th>아파트 평점</th>\n",
       "      <th>재계약횟수</th>\n",
       "      <th>층</th>\n",
       "      <th>퇴거여부</th>\n",
       "      <th>평형대</th>\n",
       "      <th>월세(원)_log</th>\n",
       "    </tr>\n",
       "    <tr>\n",
       "      <th>재계약빈도</th>\n",
       "      <th></th>\n",
       "      <th></th>\n",
       "      <th></th>\n",
       "      <th></th>\n",
       "      <th></th>\n",
       "      <th></th>\n",
       "      <th></th>\n",
       "      <th></th>\n",
       "      <th></th>\n",
       "      <th></th>\n",
       "      <th></th>\n",
       "      <th></th>\n",
       "      <th></th>\n",
       "    </tr>\n",
       "  </thead>\n",
       "  <tbody>\n",
       "    <tr>\n",
       "      <th>낮음</th>\n",
       "      <td>113.764308</td>\n",
       "      <td>2014.044389</td>\n",
       "      <td>1.813655</td>\n",
       "      <td>0.856242</td>\n",
       "      <td>0.495043</td>\n",
       "      <td>56.792023</td>\n",
       "      <td>0.550023</td>\n",
       "      <td>6.477467</td>\n",
       "      <td>4.675304</td>\n",
       "      <td>8.006084</td>\n",
       "      <td>0.101622</td>\n",
       "      <td>13.362325</td>\n",
       "      <td>10.783225</td>\n",
       "    </tr>\n",
       "    <tr>\n",
       "      <th>높음</th>\n",
       "      <td>220.388494</td>\n",
       "      <td>2013.879357</td>\n",
       "      <td>1.597293</td>\n",
       "      <td>0.843147</td>\n",
       "      <td>0.139932</td>\n",
       "      <td>61.646024</td>\n",
       "      <td>0.625212</td>\n",
       "      <td>6.699154</td>\n",
       "      <td>9.487986</td>\n",
       "      <td>7.963452</td>\n",
       "      <td>0.010152</td>\n",
       "      <td>13.681387</td>\n",
       "      <td>10.962554</td>\n",
       "    </tr>\n",
       "  </tbody>\n",
       "</table>\n",
       "</div>"
      ],
      "text/plain": [
       "             거주개월         거주연도     거주자 수      결혼여부      계약구분         나이  \\\n",
       "재계약빈도                                                                     \n",
       "낮음     113.764308  2014.044389  1.813655  0.856242  0.495043  56.792023   \n",
       "높음     220.388494  2013.879357  1.597293  0.843147  0.139932  61.646024   \n",
       "\n",
       "             성별    아파트 평점     재계약횟수         층      퇴거여부        평형대  월세(원)_log  \n",
       "재계약빈도                                                                          \n",
       "낮음     0.550023  6.477467  4.675304  8.006084  0.101622  13.362325  10.783225  \n",
       "높음     0.625212  6.699154  9.487986  7.963452  0.010152  13.681387  10.962554  "
      ]
     },
     "execution_count": 40,
     "metadata": {},
     "output_type": "execute_result"
    }
   ],
   "source": [
    "estate_model.groupby(\"재계약빈도\").mean(numeric_only=True) "
   ]
  },
  {
   "cell_type": "code",
   "execution_count": 41,
   "metadata": {},
   "outputs": [
    {
     "name": "stdout",
     "output_type": "stream",
     "text": [
      "재계약빈도가 높은 클러스터가 거주 개월수가 높고, 퇴거 비율도 적음. 또한, 거주자 수가 적은 편이며 월세도 상대적으로 높은 편이다. 여성 계약자가 많으며, 퇴거 비율이 상대적으로 낮은 것도 특징이다.\n"
     ]
    }
   ],
   "source": [
    "print('재계약빈도가 높은 클러스터가 거주 개월수가 높고, 퇴거 비율도 적음. 또한, 거주자 수가 적은 편이며 월세도 상대적으로 높은 편이다. 여성 계약자가 많으며, 퇴거 비율이 상대적으로 낮은 것도 특징이다.')"
   ]
  },
  {
   "cell_type": "code",
   "execution_count": 42,
   "metadata": {},
   "outputs": [
    {
     "data": {
      "image/png": "[encoded data removed]",
      "text/plain": [
       "<Figure size 1080x504 with 2 Axes>"
      ]
     },
     "metadata": {
      "needs_background": "light"
     },
     "output_type": "display_data"
    }
   ],
   "source": [
    "### 재계약 빈도에 따른 거주개월과 월세\n",
    "fig, axes = plt.subplots(ncols=2, figsize=(15, 7))\n",
    "\n",
    "sns.boxplot(data=estate_model, x=\"재계약빈도\", y=\"거주개월\", ax=axes[0])\n",
    "sns.boxplot(data=estate_model, x=\"재계약빈도\", y=\"월세(원)_log\", ax=axes[1])\n",
    "plt.show()"
   ]
  },
  {
   "cell_type": "code",
   "execution_count": 43,
   "metadata": {},
   "outputs": [
    {
     "data": {
      "text/plain": [
       "재계약빈도  계약구분\n",
       "낮음     0       0.504957\n",
       "       1       0.495043\n",
       "높음     0       0.860068\n",
       "       1       0.139932\n",
       "Name: 계약구분, dtype: float64"
      ]
     },
     "execution_count": 43,
     "metadata": {},
     "output_type": "execute_result"
    }
   ],
   "source": [
    "# 재계약빈도가 높은 클러스터에서, 유효한 계약이 많음\n",
    "estate_model.groupby(\"재계약빈도\")[\"계약구분\"].value_counts(1)"
   ]
  },
  {
   "cell_type": "code",
   "execution_count": 44,
   "metadata": {},
   "outputs": [
    {
     "data": {
      "text/plain": [
       "재계약빈도  성별\n",
       "낮음     1     0.550023\n",
       "       0     0.449977\n",
       "높음     1     0.625212\n",
       "       0     0.374788\n",
       "Name: 성별, dtype: float64"
      ]
     },
     "execution_count": 44,
     "metadata": {},
     "output_type": "execute_result"
    }
   ],
   "source": [
    "# 재계약빈도가 높은 클러스터에서, 여성이 많음\n",
    "estate_model.groupby(\"재계약빈도\")[\"성별\"].value_counts(1)"
   ]
  },
  {
   "cell_type": "code",
   "execution_count": 45,
   "metadata": {},
   "outputs": [
    {
     "data": {
      "text/plain": [
       "재계약빈도  퇴거여부\n",
       "낮음     0       0.898378\n",
       "       1       0.101622\n",
       "높음     0       0.989848\n",
       "       1       0.010152\n",
       "Name: 퇴거여부, dtype: float64"
      ]
     },
     "execution_count": 45,
     "metadata": {},
     "output_type": "execute_result"
    }
   ],
   "source": [
    "# 재계약빈도가 높은 클러스터에서, 퇴거 비율이 낮음\n",
    "estate_model.groupby(\"재계약빈도\")[\"퇴거여부\"].value_counts(1)"
   ]
  },
  {
   "cell_type": "markdown",
   "metadata": {},
   "source": [
    "## 3-2. 재계약횟수 변수를 종속변수로 하는 회귀 분석을 두 가지 이상의 방법론을 통해 수행하고 최종 모델을 결정하시오. 재계약횟수 이분변수를 종속변수로 하는 분류 분석을 두가지 이상의 방법론을 통해 수행하고 최종 모델을 결정하시오."
   ]
  },
  {
   "cell_type": "code",
   "execution_count": 46,
   "metadata": {},
   "outputs": [],
   "source": [
    "y = estate_model['재계약횟수']\n",
    "x = estate_model.drop(['재계약횟수', '재계약빈도'], axis=1)"
   ]
  },
  {
   "cell_type": "code",
   "execution_count": 47,
   "metadata": {},
   "outputs": [],
   "source": [
    "from sklearn.model_selection import train_test_split"
   ]
  },
  {
   "cell_type": "code",
   "execution_count": 48,
   "metadata": {},
   "outputs": [],
   "source": [
    "train_x, test_x, train_y, test_y = train_test_split(x, y, test_size=0.2)"
   ]
  },
  {
   "cell_type": "code",
   "execution_count": 49,
   "metadata": {},
   "outputs": [
    {
     "data": {
      "text/html": [
       "<div>\n",
       "<style scoped>\n",
       "    .dataframe tbody tr th:only-of-type {\n",
       "        vertical-align: middle;\n",
       "    }\n",
       "\n",
       "    .dataframe tbody tr th {\n",
       "        vertical-align: top;\n",
       "    }\n",
       "\n",
       "    .dataframe thead th {\n",
       "        text-align: right;\n",
       "    }\n",
       "</style>\n",
       "<table border=\"1\" class=\"dataframe\">\n",
       "  <thead>\n",
       "    <tr style=\"text-align: right;\">\n",
       "      <th></th>\n",
       "      <th>결혼여부</th>\n",
       "      <th>계약구분</th>\n",
       "      <th>성별</th>\n",
       "      <th>퇴거여부</th>\n",
       "    </tr>\n",
       "  </thead>\n",
       "  <tbody>\n",
       "    <tr>\n",
       "      <th>0</th>\n",
       "      <td>1</td>\n",
       "      <td>0</td>\n",
       "      <td>0</td>\n",
       "      <td>0</td>\n",
       "    </tr>\n",
       "    <tr>\n",
       "      <th>1</th>\n",
       "      <td>1</td>\n",
       "      <td>0</td>\n",
       "      <td>0</td>\n",
       "      <td>0</td>\n",
       "    </tr>\n",
       "    <tr>\n",
       "      <th>2</th>\n",
       "      <td>1</td>\n",
       "      <td>1</td>\n",
       "      <td>1</td>\n",
       "      <td>0</td>\n",
       "    </tr>\n",
       "    <tr>\n",
       "      <th>3</th>\n",
       "      <td>1</td>\n",
       "      <td>0</td>\n",
       "      <td>1</td>\n",
       "      <td>0</td>\n",
       "    </tr>\n",
       "    <tr>\n",
       "      <th>4</th>\n",
       "      <td>1</td>\n",
       "      <td>0</td>\n",
       "      <td>0</td>\n",
       "      <td>0</td>\n",
       "    </tr>\n",
       "    <tr>\n",
       "      <th>...</th>\n",
       "      <td>...</td>\n",
       "      <td>...</td>\n",
       "      <td>...</td>\n",
       "      <td>...</td>\n",
       "    </tr>\n",
       "    <tr>\n",
       "      <th>10343</th>\n",
       "      <td>1</td>\n",
       "      <td>0</td>\n",
       "      <td>0</td>\n",
       "      <td>0</td>\n",
       "    </tr>\n",
       "    <tr>\n",
       "      <th>10344</th>\n",
       "      <td>1</td>\n",
       "      <td>0</td>\n",
       "      <td>0</td>\n",
       "      <td>0</td>\n",
       "    </tr>\n",
       "    <tr>\n",
       "      <th>10345</th>\n",
       "      <td>1</td>\n",
       "      <td>0</td>\n",
       "      <td>0</td>\n",
       "      <td>0</td>\n",
       "    </tr>\n",
       "    <tr>\n",
       "      <th>10346</th>\n",
       "      <td>1</td>\n",
       "      <td>0</td>\n",
       "      <td>0</td>\n",
       "      <td>0</td>\n",
       "    </tr>\n",
       "    <tr>\n",
       "      <th>10347</th>\n",
       "      <td>0</td>\n",
       "      <td>1</td>\n",
       "      <td>0</td>\n",
       "      <td>0</td>\n",
       "    </tr>\n",
       "  </tbody>\n",
       "</table>\n",
       "<p>10348 rows × 4 columns</p>\n",
       "</div>"
      ],
      "text/plain": [
       "       결혼여부  계약구분  성별  퇴거여부\n",
       "0         1     0   0     0\n",
       "1         1     0   0     0\n",
       "2         1     1   1     0\n",
       "3         1     0   1     0\n",
       "4         1     0   0     0\n",
       "...     ...   ...  ..   ...\n",
       "10343     1     0   0     0\n",
       "10344     1     0   0     0\n",
       "10345     1     0   0     0\n",
       "10346     1     0   0     0\n",
       "10347     0     1   0     0\n",
       "\n",
       "[10348 rows x 4 columns]"
      ]
     },
     "execution_count": 49,
     "metadata": {},
     "output_type": "execute_result"
    }
   ],
   "source": [
    "# 범주형 변수 one-hot encoding\n",
    "estate_cat = estate_model.loc[:, cat_col]\n",
    "estate_cat"
   ]
  },
  {
   "cell_type": "code",
   "execution_count": 50,
   "metadata": {},
   "outputs": [],
   "source": [
    "from xgboost import XGBRegressor, XGBClassifier\n",
    "from sklearn.ensemble import RandomForestRegressor, RandomForestClassifier\n",
    "from sklearn.svm import LinearSVR, LinearSVC\n",
    "from sklearn.linear_model import LinearRegression, LogisticRegression\n",
    "\n",
    "from sklearn.metrics import mean_squared_error, mean_absolute_error, mean_squared_log_error, r2_score\n",
    "from sklearn.metrics import confusion_matrix, classification_report, accuracy_score, precision_score, recall_score, f1_score, precision_recall_curve, roc_curve, roc_auc_score, auc"
   ]
  },
  {
   "cell_type": "code",
   "execution_count": 51,
   "metadata": {},
   "outputs": [
    {
     "name": "stdout",
     "output_type": "stream",
     "text": [
      "[21:21:27] WARNING: src/objective/regression_obj.cu:152: reg:linear is now deprecated in favor of reg:squarederror.\n"
     ]
    }
   ],
   "source": [
    "### 재계약횟수\n",
    "# XGBoostRegreessor\n",
    "# RandomForestRegressor\n",
    "# 성능이 조금 더 우수한 Random Forest 알고리즘 채택\n",
    "rf = RandomForestRegressor()\n",
    "rf.fit(train_x, train_y)\n",
    "pred_rf = rf.predict(test_x)\n",
    "\n",
    "xgb = XGBRegressor()\n",
    "xgb.fit(train_x, train_y)\n",
    "pred_xgb = xgb.predict(test_x)"
   ]
  },
  {
   "cell_type": "code",
   "execution_count": 52,
   "metadata": {},
   "outputs": [
    {
     "name": "stdout",
     "output_type": "stream",
     "text": [
      "Random Forest RMSE: 0.6779\n",
      "XGBoost RMSE: 0.7326\n"
     ]
    }
   ],
   "source": [
    "print(f'Random Forest RMSE: {round(mean_squared_error(pred_rf, test_y, squared=False), 4)}')\n",
    "print(f'XGBoost RMSE: {round(mean_squared_error(pred_xgb, test_y, squared=False), 4)}')"
   ]
  },
  {
   "cell_type": "code",
   "execution_count": 53,
   "metadata": {},
   "outputs": [
    {
     "name": "stdout",
     "output_type": "stream",
     "text": [
      "Random Forest R-sq: 0.9349\n",
      "XGBoost R-sq: 0.923\n"
     ]
    }
   ],
   "source": [
    "print(f'Random Forest R-sq: {round(r2_score(pred_rf, test_y), 4)}')\n",
    "print(f'XGBoost R-sq: {round(r2_score(pred_xgb, test_y), 4)}')"
   ]
  },
  {
   "cell_type": "code",
   "execution_count": 54,
   "metadata": {},
   "outputs": [],
   "source": [
    "y = estate_model['재계약빈도']"
   ]
  },
  {
   "cell_type": "code",
   "execution_count": 55,
   "metadata": {},
   "outputs": [],
   "source": [
    "train_x, test_x, train_y, test_y = train_test_split(x, y, test_size=0.2, stratify=estate_model['재계약빈도'])"
   ]
  },
  {
   "cell_type": "code",
   "execution_count": 56,
   "metadata": {},
   "outputs": [],
   "source": [
    "### 재계약 빈도\n",
    "# XGBoostClassifier\n",
    "# RandomForestClassifier\n",
    "# 분류 모델에서도 XGBoost의 성능이 조금 더 나은 모습\n",
    "rf_cls = RandomForestClassifier()\n",
    "rf_cls.fit(train_x, train_y)\n",
    "pred_rf_cls = rf_cls.predict(test_x)\n",
    "\n",
    "xgb_cls = XGBClassifier()\n",
    "xgb_cls.fit(train_x, train_y)\n",
    "pred_xgb_cls = xgb_cls.predict(test_x)"
   ]
  },
  {
   "cell_type": "code",
   "execution_count": 57,
   "metadata": {},
   "outputs": [
    {
     "name": "stdout",
     "output_type": "stream",
     "text": [
      "              precision    recall  f1-score   support\n",
      "\n",
      "          낮음       0.95      0.98      0.97       855\n",
      "          높음       0.99      0.96      0.97      1215\n",
      "\n",
      "    accuracy                           0.97      2070\n",
      "   macro avg       0.97      0.97      0.97      2070\n",
      "weighted avg       0.97      0.97      0.97      2070\n",
      "\n"
     ]
    }
   ],
   "source": [
    "print(classification_report(pred_rf_cls, test_y))"
   ]
  },
  {
   "cell_type": "code",
   "execution_count": 58,
   "metadata": {},
   "outputs": [
    {
     "name": "stdout",
     "output_type": "stream",
     "text": [
      "              precision    recall  f1-score   support\n",
      "\n",
      "          낮음       0.94      0.98      0.96       851\n",
      "          높음       0.99      0.96      0.97      1219\n",
      "\n",
      "    accuracy                           0.97      2070\n",
      "   macro avg       0.96      0.97      0.97      2070\n",
      "weighted avg       0.97      0.97      0.97      2070\n",
      "\n"
     ]
    }
   ],
   "source": [
    "print(classification_report(pred_xgb_cls, test_y))"
   ]
  },
  {
   "cell_type": "code",
   "execution_count": 59,
   "metadata": {},
   "outputs": [
    {
     "data": {
      "text/plain": [
       "0.9705314009661836"
      ]
     },
     "execution_count": 59,
     "metadata": {},
     "output_type": "execute_result"
    }
   ],
   "source": [
    "accuracy_score(pred_rf_cls, test_y)"
   ]
  },
  {
   "cell_type": "code",
   "execution_count": 60,
   "metadata": {},
   "outputs": [
    {
     "data": {
      "text/plain": [
       "0.9666666666666667"
      ]
     },
     "execution_count": 60,
     "metadata": {},
     "output_type": "execute_result"
    }
   ],
   "source": [
    "accuracy_score(pred_xgb_cls, test_y)"
   ]
  },
  {
   "cell_type": "code",
   "execution_count": 61,
   "metadata": {},
   "outputs": [
    {
     "name": "stdout",
     "output_type": "stream",
     "text": [
      "회귀 분석 방법론 중 성능이 좋다고 알려져 있는 XGBoost와 RandomForest를 활용하여 회귀 분석을 진행하였고, RMSE 값이 더 낮은 Random Forest 알고리즘을 선정하였다.\n"
     ]
    }
   ],
   "source": [
    "print('회귀 분석 방법론 중 성능이 좋다고 알려져 있는 XGBoost와 RandomForest를 활용하여 회귀 분석을 진행하였고, RMSE 값이 더 낮은 Random Forest 알고리즘을 선정하였다.')"
   ]
  },
  {
   "cell_type": "markdown",
   "metadata": {},
   "source": [
    "## 3-3 최종 채택한 모델에서 각각 유의하게 작용하는 변수를 확인 하고 설명하시오\n",
    "- 모델의 변수 중요도를 확인해 본 결과, 재계약 횟수를 종속변수로 하는 회귀분석의 경우 거주개월 변수가 압도적인 영향을 끼치고 있음. 따라서 거주개월이 길수록 재계약 횟수도 높아진다고 볼 수 있음\n",
    "- 재계약 빈도(높음/낮음)을 종속변수로 하는 분류 모델의 경우 그 영향력이 조금은 줄어드는 모습을 보이지만, 그래도 60% 이상의 영향력을 보여주는 변수임"
   ]
  },
  {
   "cell_type": "code",
   "execution_count": 62,
   "metadata": {},
   "outputs": [
    {
     "data": {
      "image/png": "[encoded data removed]",
      "text/plain": [
       "<Figure size 720x432 with 1 Axes>"
      ]
     },
     "metadata": {
      "needs_background": "light"
     },
     "output_type": "display_data"
    }
   ],
   "source": [
    "plt.figure(figsize=(10, 6))\n",
    "sns.barplot(x=train_x.columns, y=rf.feature_importances_) # 회귀\n",
    "plt.show()"
   ]
  },
  {
   "cell_type": "code",
   "execution_count": 63,
   "metadata": {},
   "outputs": [
    {
     "data": {
      "image/png": "[encoded data removed]",
      "text/plain": [
       "<Figure size 720x432 with 1 Axes>"
      ]
     },
     "metadata": {
      "needs_background": "light"
     },
     "output_type": "display_data"
    }
   ],
   "source": [
    "plt.figure(figsize=(10, 6))\n",
    "sns.barplot(x=train_x.columns, y=rf_cls.feature_importances_) # 분류\n",
    "plt.show()"
   ]
  },
  {
   "cell_type": "code",
   "execution_count": 64,
   "metadata": {},
   "outputs": [
    {
     "name": "stdout",
     "output_type": "stream",
     "text": [
      "모델의 변수 중요도를 확인해 본 결과,거주개월 변수가 압도적인 영향을 끼치고 있음. 따라서 거주개월이 길수록 재계약 횟수도 높아진다고 볼 수 있는데, 이는 통념상 당연한 결과로 볼 수 있음\n",
      "그 다음으로 영향도가 높은 변수는 분류분석의 경우 계약구분, 월세, 나이였고, 회귀분석은 월세, 나이로 나타났음.\n"
     ]
    }
   ],
   "source": [
    "print('모델의 변수 중요도를 확인해 본 결과,거주개월 변수가 압도적인 영향을 끼치고 있음. 따라서 거주개월이 길수록 재계약 횟수도 높아진다고 볼 수 있는데, 이는 통념상 당연한 결과로 볼 수 있음')\n",
    "print('그 다음으로 영향도가 높은 변수는 분류분석의 경우 계약구분, 월세, 나이였고, 회귀분석은 월세, 나이로 나타났음.')"
   ]
  },
  {
   "cell_type": "markdown",
   "metadata": {},
   "source": [
    "## 3-4 해당 데이터 분석결과로 얻을 수 있는 점 제시"
   ]
  },
  {
   "cell_type": "code",
   "execution_count": 65,
   "metadata": {},
   "outputs": [
    {
     "name": "stdout",
     "output_type": "stream",
     "text": [
      "재계약율을 높이려면, 거주하는 기간이 길어야 한다. 즉, 거주의 만족도가 높아야 재계약율이 올라간다고 볼 수 있다. 따라서, 거주의 만족도를 높일 수 있는 정책을 펼쳐야 한다.\n",
      "재계약횟수에 영향을 미쳤던 다른 변수로는 거주자 수와 아파트 평점이 있다. 거주자 수가 적고, 아파트 평점이 높을수록 재계약 횟수가 높아지는 경향이 있으므로, 적당한 거주자 수를 유지하여 삶의 질을 높이고, 주기적인 아파트 관리를 통해 주거 환경을 개선하는 것도 중요하다.\n"
     ]
    }
   ],
   "source": [
    "print('재계약율을 높이려면, 거주하는 기간이 길어야 한다. 즉, 거주의 만족도가 높아야 재계약율이 올라간다고 볼 수 있다. 따라서, 거주의 만족도를 높일 수 있는 정책을 펼쳐야 한다.')\n",
    "print('재계약횟수에 영향을 미쳤던 다른 변수로는 거주자 수와 아파트 평점이 있다. 거주자 수가 적고, 아파트 평점이 높을수록 재계약 횟수가 높아지는 경향이 있으므로, 적당한 거주자 수를 유지하여 삶의 질을 높이고, 주기적인 아파트 관리를 통해 주거 환경을 개선하는 것도 중요하다.')"
   ]
  },
  {
   "cell_type": "markdown",
   "metadata": {},
   "source": [
    "## 데이터 설명\n",
    "- 데이터 출처 : https://www.kaggle.com/datasets/pschale/mlb-pitch-data-20152018 데이터를 후처리\n",
    "- 데이터 링크 : https://raw.githubusercontent.com/Datamanim/datarepo/main/adp/29/p2_.csv\n",
    "- 데이터 설명 : \n",
    "\n",
    "A 야구구단의 시합 결과중 일부를 나타낸다.    \n",
    "각 행은 하나의 경기를 의미(game_id)하며 9회차(= 9이닝) 동안 1번타자, 2번타자의 출루 정보를 의미한다.     \n",
    "각 컬럼에 대한 설명은 아래 이미지와 같으며, value값의 index는 이미지의 '수치 의미' 열을 통해 확인 할 수 있다.\n"
   ]
  },
  {
   "cell_type": "markdown",
   "metadata": {},
   "source": [
    "<img src=\"https://github.com/Datamanim/datarepo/blob/main/adp/29/p1_img.png?raw=true\" width=\"500\" height=\"600\">"
   ]
  },
  {
   "cell_type": "markdown",
   "metadata": {},
   "source": [
    "## 4-1 각 회차별로 1번 타자의 출루 (1,2,3루타와 사사구(볼넷, 몸에맞는공))가 있는 경우에 대해 득점이 발생 했는지 확인하고자 한다. 이를 위한 전처리를 수행하라. (단, 첫 번째 혹은 두 번째 타자가 홈런을 친 경우 해당 회차 데이터는 제외한다.)     \n",
    "\n",
    "조건1 : 득점여부를 범주형 종속변수로 한다. (1점이상 득점 :1, 무득점 :0)     \n",
    "조건2 : 각 회차 2번 타자의 데이터는 원핫 인코딩한다.    \n",
    "조건3 : 학습에 적절하지 않은 데이터는 제외한다.    "
   ]
  },
  {
   "cell_type": "code",
   "execution_count": 66,
   "metadata": {},
   "outputs": [
    {
     "data": {
      "text/html": [
       "<div>\n",
       "<style scoped>\n",
       "    .dataframe tbody tr th:only-of-type {\n",
       "        vertical-align: middle;\n",
       "    }\n",
       "\n",
       "    .dataframe tbody tr th {\n",
       "        vertical-align: top;\n",
       "    }\n",
       "\n",
       "    .dataframe thead th {\n",
       "        text-align: right;\n",
       "    }\n",
       "</style>\n",
       "<table border=\"1\" class=\"dataframe\">\n",
       "  <thead>\n",
       "    <tr style=\"text-align: right;\">\n",
       "      <th></th>\n",
       "      <th>game_id</th>\n",
       "      <th>a1_1</th>\n",
       "      <th>a1_2</th>\n",
       "      <th>a2_1</th>\n",
       "      <th>a2_2</th>\n",
       "      <th>a3_1</th>\n",
       "      <th>a3_2</th>\n",
       "      <th>a4_1</th>\n",
       "      <th>a4_2</th>\n",
       "      <th>a5_1</th>\n",
       "      <th>...</th>\n",
       "      <th>a9_2</th>\n",
       "      <th>b1</th>\n",
       "      <th>b2</th>\n",
       "      <th>b3</th>\n",
       "      <th>b4</th>\n",
       "      <th>b5</th>\n",
       "      <th>b6</th>\n",
       "      <th>b7</th>\n",
       "      <th>b8</th>\n",
       "      <th>b9</th>\n",
       "    </tr>\n",
       "  </thead>\n",
       "  <tbody>\n",
       "    <tr>\n",
       "      <th>0</th>\n",
       "      <td>201900016</td>\n",
       "      <td>5</td>\n",
       "      <td>5</td>\n",
       "      <td>5</td>\n",
       "      <td>5</td>\n",
       "      <td>5</td>\n",
       "      <td>5</td>\n",
       "      <td>5</td>\n",
       "      <td>5</td>\n",
       "      <td>5</td>\n",
       "      <td>...</td>\n",
       "      <td>5</td>\n",
       "      <td>0</td>\n",
       "      <td>0</td>\n",
       "      <td>0</td>\n",
       "      <td>0</td>\n",
       "      <td>0</td>\n",
       "      <td>0</td>\n",
       "      <td>0</td>\n",
       "      <td>4</td>\n",
       "      <td>2</td>\n",
       "    </tr>\n",
       "    <tr>\n",
       "      <th>1</th>\n",
       "      <td>201900023</td>\n",
       "      <td>6</td>\n",
       "      <td>4</td>\n",
       "      <td>5</td>\n",
       "      <td>5</td>\n",
       "      <td>2</td>\n",
       "      <td>5</td>\n",
       "      <td>1</td>\n",
       "      <td>1</td>\n",
       "      <td>6</td>\n",
       "      <td>...</td>\n",
       "      <td>7</td>\n",
       "      <td>3</td>\n",
       "      <td>0</td>\n",
       "      <td>0</td>\n",
       "      <td>1</td>\n",
       "      <td>0</td>\n",
       "      <td>1</td>\n",
       "      <td>3</td>\n",
       "      <td>1</td>\n",
       "      <td>0</td>\n",
       "    </tr>\n",
       "    <tr>\n",
       "      <th>2</th>\n",
       "      <td>201900103</td>\n",
       "      <td>5</td>\n",
       "      <td>6</td>\n",
       "      <td>5</td>\n",
       "      <td>5</td>\n",
       "      <td>1</td>\n",
       "      <td>9</td>\n",
       "      <td>5</td>\n",
       "      <td>4</td>\n",
       "      <td>6</td>\n",
       "      <td>...</td>\n",
       "      <td>6</td>\n",
       "      <td>0</td>\n",
       "      <td>0</td>\n",
       "      <td>1</td>\n",
       "      <td>1</td>\n",
       "      <td>4</td>\n",
       "      <td>1</td>\n",
       "      <td>2</td>\n",
       "      <td>0</td>\n",
       "      <td>1</td>\n",
       "    </tr>\n",
       "    <tr>\n",
       "      <th>3</th>\n",
       "      <td>201900112</td>\n",
       "      <td>5</td>\n",
       "      <td>7</td>\n",
       "      <td>6</td>\n",
       "      <td>1</td>\n",
       "      <td>5</td>\n",
       "      <td>5</td>\n",
       "      <td>1</td>\n",
       "      <td>5</td>\n",
       "      <td>1</td>\n",
       "      <td>...</td>\n",
       "      <td>5</td>\n",
       "      <td>0</td>\n",
       "      <td>3</td>\n",
       "      <td>0</td>\n",
       "      <td>0</td>\n",
       "      <td>0</td>\n",
       "      <td>0</td>\n",
       "      <td>1</td>\n",
       "      <td>0</td>\n",
       "      <td>0</td>\n",
       "    </tr>\n",
       "    <tr>\n",
       "      <th>4</th>\n",
       "      <td>201900131</td>\n",
       "      <td>5</td>\n",
       "      <td>1</td>\n",
       "      <td>2</td>\n",
       "      <td>5</td>\n",
       "      <td>2</td>\n",
       "      <td>5</td>\n",
       "      <td>7</td>\n",
       "      <td>2</td>\n",
       "      <td>6</td>\n",
       "      <td>...</td>\n",
       "      <td>6</td>\n",
       "      <td>0</td>\n",
       "      <td>2</td>\n",
       "      <td>4</td>\n",
       "      <td>1</td>\n",
       "      <td>2</td>\n",
       "      <td>2</td>\n",
       "      <td>0</td>\n",
       "      <td>1</td>\n",
       "      <td>0</td>\n",
       "    </tr>\n",
       "    <tr>\n",
       "      <th>...</th>\n",
       "      <td>...</td>\n",
       "      <td>...</td>\n",
       "      <td>...</td>\n",
       "      <td>...</td>\n",
       "      <td>...</td>\n",
       "      <td>...</td>\n",
       "      <td>...</td>\n",
       "      <td>...</td>\n",
       "      <td>...</td>\n",
       "      <td>...</td>\n",
       "      <td>...</td>\n",
       "      <td>...</td>\n",
       "      <td>...</td>\n",
       "      <td>...</td>\n",
       "      <td>...</td>\n",
       "      <td>...</td>\n",
       "      <td>...</td>\n",
       "      <td>...</td>\n",
       "      <td>...</td>\n",
       "      <td>...</td>\n",
       "      <td>...</td>\n",
       "    </tr>\n",
       "    <tr>\n",
       "      <th>195</th>\n",
       "      <td>201902346</td>\n",
       "      <td>7</td>\n",
       "      <td>5</td>\n",
       "      <td>7</td>\n",
       "      <td>4</td>\n",
       "      <td>1</td>\n",
       "      <td>9</td>\n",
       "      <td>5</td>\n",
       "      <td>7</td>\n",
       "      <td>7</td>\n",
       "      <td>...</td>\n",
       "      <td>1</td>\n",
       "      <td>0</td>\n",
       "      <td>1</td>\n",
       "      <td>2</td>\n",
       "      <td>0</td>\n",
       "      <td>0</td>\n",
       "      <td>0</td>\n",
       "      <td>0</td>\n",
       "      <td>0</td>\n",
       "      <td>1</td>\n",
       "    </tr>\n",
       "    <tr>\n",
       "      <th>196</th>\n",
       "      <td>201902365</td>\n",
       "      <td>2</td>\n",
       "      <td>5</td>\n",
       "      <td>1</td>\n",
       "      <td>1</td>\n",
       "      <td>7</td>\n",
       "      <td>5</td>\n",
       "      <td>5</td>\n",
       "      <td>7</td>\n",
       "      <td>5</td>\n",
       "      <td>...</td>\n",
       "      <td>9</td>\n",
       "      <td>0</td>\n",
       "      <td>0</td>\n",
       "      <td>0</td>\n",
       "      <td>0</td>\n",
       "      <td>1</td>\n",
       "      <td>0</td>\n",
       "      <td>0</td>\n",
       "      <td>0</td>\n",
       "      <td>2</td>\n",
       "    </tr>\n",
       "    <tr>\n",
       "      <th>197</th>\n",
       "      <td>201902373</td>\n",
       "      <td></td>\n",
       "      <td>7</td>\n",
       "      <td>5</td>\n",
       "      <td>6</td>\n",
       "      <td>5</td>\n",
       "      <td>9</td>\n",
       "      <td>7</td>\n",
       "      <td>5</td>\n",
       "      <td>1</td>\n",
       "      <td>...</td>\n",
       "      <td>5</td>\n",
       "      <td>0</td>\n",
       "      <td>0</td>\n",
       "      <td>0</td>\n",
       "      <td>0</td>\n",
       "      <td>0</td>\n",
       "      <td>1</td>\n",
       "      <td>0</td>\n",
       "      <td>0</td>\n",
       "      <td>0</td>\n",
       "    </tr>\n",
       "    <tr>\n",
       "      <th>198</th>\n",
       "      <td>201902392</td>\n",
       "      <td>6</td>\n",
       "      <td>5</td>\n",
       "      <td>5</td>\n",
       "      <td>1</td>\n",
       "      <td>1</td>\n",
       "      <td>5</td>\n",
       "      <td>6</td>\n",
       "      <td>5</td>\n",
       "      <td>5</td>\n",
       "      <td>...</td>\n",
       "      <td>7</td>\n",
       "      <td>0</td>\n",
       "      <td>0</td>\n",
       "      <td>2</td>\n",
       "      <td>1</td>\n",
       "      <td>0</td>\n",
       "      <td>0</td>\n",
       "      <td>0</td>\n",
       "      <td>2</td>\n",
       "      <td>1</td>\n",
       "    </tr>\n",
       "    <tr>\n",
       "      <th>199</th>\n",
       "      <td>201902394</td>\n",
       "      <td>2</td>\n",
       "      <td>4</td>\n",
       "      <td>7</td>\n",
       "      <td>4</td>\n",
       "      <td>5</td>\n",
       "      <td>5</td>\n",
       "      <td>7</td>\n",
       "      <td>5</td>\n",
       "      <td>6</td>\n",
       "      <td>...</td>\n",
       "      <td>5</td>\n",
       "      <td>2</td>\n",
       "      <td>1</td>\n",
       "      <td>1</td>\n",
       "      <td>0</td>\n",
       "      <td>0</td>\n",
       "      <td>4</td>\n",
       "      <td>0</td>\n",
       "      <td>0</td>\n",
       "      <td>1</td>\n",
       "    </tr>\n",
       "  </tbody>\n",
       "</table>\n",
       "<p>200 rows × 28 columns</p>\n",
       "</div>"
      ],
      "text/plain": [
       "       game_id a1_1  a1_2 a2_1  a2_2  a3_1  a3_2 a4_1  a4_2  a5_1  ...  a9_2  \\\n",
       "0    201900016    5     5    5     5     5     5    5     5     5  ...     5   \n",
       "1    201900023    6     4    5     5     2     5    1     1     6  ...     7   \n",
       "2    201900103    5     6    5     5     1     9    5     4     6  ...     6   \n",
       "3    201900112    5     7    6     1     5     5    1     5     1  ...     5   \n",
       "4    201900131    5     1    2     5     2     5    7     2     6  ...     6   \n",
       "..         ...  ...   ...  ...   ...   ...   ...  ...   ...   ...  ...   ...   \n",
       "195  201902346    7     5    7     4     1     9    5     7     7  ...     1   \n",
       "196  201902365    2     5    1     1     7     5    5     7     5  ...     9   \n",
       "197  201902373          7    5     6     5     9    7     5     1  ...     5   \n",
       "198  201902392    6     5    5     1     1     5    6     5     5  ...     7   \n",
       "199  201902394    2     4    7     4     5     5    7     5     6  ...     5   \n",
       "\n",
       "     b1  b2 b3  b4  b5  b6  b7  b8  b9  \n",
       "0     0   0  0   0   0   0   0   4   2  \n",
       "1     3   0  0   1   0   1   3   1   0  \n",
       "2     0   0  1   1   4   1   2   0   1  \n",
       "3     0   3  0   0   0   0   1   0   0  \n",
       "4     0   2  4   1   2   2   0   1   0  \n",
       "..   ..  .. ..  ..  ..  ..  ..  ..  ..  \n",
       "195   0   1  2   0   0   0   0   0   1  \n",
       "196   0   0  0   0   1   0   0   0   2  \n",
       "197   0   0  0   0   0   1   0   0   0  \n",
       "198   0   0  2   1   0   0   0   2   1  \n",
       "199   2   1  1   0   0   4   0   0   1  \n",
       "\n",
       "[200 rows x 28 columns]"
      ]
     },
     "execution_count": 66,
     "metadata": {},
     "output_type": "execute_result"
    }
   ],
   "source": [
    "baseball = pd.read_csv(\"https://raw.githubusercontent.com/Datamanim/datarepo/main/adp/29/p2_.csv\")\n",
    "baseball"
   ]
  },
  {
   "cell_type": "code",
   "execution_count": 67,
   "metadata": {},
   "outputs": [],
   "source": [
    "### 출루의 정의\n",
    "# 1루타, 2루타, 3루타, 볼넷, 몸에 맞는 공\n",
    "# 1, 2, 3, 6, 8 코드\n",
    "\n",
    "### 필요한 컬럼들\n",
    "# 1번 타자 출루여부, 득점여부\n",
    "# 2번 타자의 behavior"
   ]
  },
  {
   "cell_type": "code",
   "execution_count": 68,
   "metadata": {},
   "outputs": [],
   "source": [
    "tmp_list = list()\n",
    "for i, game in enumerate(baseball.game_id.unique()):\n",
    "    game_data = baseball[baseball[\"game_id\"]==game]\n",
    "\n",
    "    # 이닝 별로 iter\n",
    "    for j in range(1, 10):\n",
    "        try:\n",
    "            behavior_1 = int(game_data[f'a{j}_1'][i]) # 1번 타자의 해당 이닝 데이터\n",
    "        except ValueError:\n",
    "            behavior_1 = 0\n",
    "        try:\n",
    "            behavior_2 = int(game_data[f'a{j}_2'][i]) # 2번 타자의 해당 이닝 데이터\n",
    "        except ValueError:\n",
    "            behavior_2 = 0\n",
    "\n",
    "        if behavior_1==4 or behavior_2==4: # 홈런이 나왔으면 해당 이닝 패스\n",
    "            continue\n",
    "\n",
    "        try:\n",
    "            score = int(game_data[f'b{j}'][i]) # 득점 데이터\n",
    "        except ValueError:\n",
    "            score = 0\n",
    "\n",
    "        # 1번 타자 출루 여부\n",
    "        if behavior_1 in (1, 2, 3, 6, 8):\n",
    "            choollu = 1\n",
    "        else:\n",
    "            choollu = 0\n",
    "\n",
    "        # 득점 여부\n",
    "        if score > 1:\n",
    "            score = 1\n",
    "        else:\n",
    "            score = 0\n",
    "\n",
    "        inning_data = [game, j, choollu, behavior_2, score]\n",
    "        tmp_list.append(inning_data)"
   ]
  },
  {
   "cell_type": "code",
   "execution_count": 69,
   "metadata": {},
   "outputs": [
    {
     "data": {
      "text/html": [
       "<div>\n",
       "<style scoped>\n",
       "    .dataframe tbody tr th:only-of-type {\n",
       "        vertical-align: middle;\n",
       "    }\n",
       "\n",
       "    .dataframe tbody tr th {\n",
       "        vertical-align: top;\n",
       "    }\n",
       "\n",
       "    .dataframe thead th {\n",
       "        text-align: right;\n",
       "    }\n",
       "</style>\n",
       "<table border=\"1\" class=\"dataframe\">\n",
       "  <thead>\n",
       "    <tr style=\"text-align: right;\">\n",
       "      <th></th>\n",
       "      <th>game_id</th>\n",
       "      <th>inning</th>\n",
       "      <th>fst_choo</th>\n",
       "      <th>snd</th>\n",
       "      <th>score</th>\n",
       "    </tr>\n",
       "  </thead>\n",
       "  <tbody>\n",
       "    <tr>\n",
       "      <th>0</th>\n",
       "      <td>201900016</td>\n",
       "      <td>1</td>\n",
       "      <td>0</td>\n",
       "      <td>5</td>\n",
       "      <td>0</td>\n",
       "    </tr>\n",
       "    <tr>\n",
       "      <th>1</th>\n",
       "      <td>201900016</td>\n",
       "      <td>2</td>\n",
       "      <td>0</td>\n",
       "      <td>5</td>\n",
       "      <td>0</td>\n",
       "    </tr>\n",
       "    <tr>\n",
       "      <th>2</th>\n",
       "      <td>201900016</td>\n",
       "      <td>3</td>\n",
       "      <td>0</td>\n",
       "      <td>5</td>\n",
       "      <td>0</td>\n",
       "    </tr>\n",
       "    <tr>\n",
       "      <th>3</th>\n",
       "      <td>201900016</td>\n",
       "      <td>4</td>\n",
       "      <td>0</td>\n",
       "      <td>5</td>\n",
       "      <td>0</td>\n",
       "    </tr>\n",
       "    <tr>\n",
       "      <th>4</th>\n",
       "      <td>201900016</td>\n",
       "      <td>5</td>\n",
       "      <td>0</td>\n",
       "      <td>5</td>\n",
       "      <td>0</td>\n",
       "    </tr>\n",
       "    <tr>\n",
       "      <th>...</th>\n",
       "      <td>...</td>\n",
       "      <td>...</td>\n",
       "      <td>...</td>\n",
       "      <td>...</td>\n",
       "      <td>...</td>\n",
       "    </tr>\n",
       "    <tr>\n",
       "      <th>1621</th>\n",
       "      <td>201902394</td>\n",
       "      <td>4</td>\n",
       "      <td>0</td>\n",
       "      <td>5</td>\n",
       "      <td>0</td>\n",
       "    </tr>\n",
       "    <tr>\n",
       "      <th>1622</th>\n",
       "      <td>201902394</td>\n",
       "      <td>5</td>\n",
       "      <td>1</td>\n",
       "      <td>7</td>\n",
       "      <td>0</td>\n",
       "    </tr>\n",
       "    <tr>\n",
       "      <th>1623</th>\n",
       "      <td>201902394</td>\n",
       "      <td>6</td>\n",
       "      <td>1</td>\n",
       "      <td>9</td>\n",
       "      <td>1</td>\n",
       "    </tr>\n",
       "    <tr>\n",
       "      <th>1624</th>\n",
       "      <td>201902394</td>\n",
       "      <td>7</td>\n",
       "      <td>0</td>\n",
       "      <td>5</td>\n",
       "      <td>0</td>\n",
       "    </tr>\n",
       "    <tr>\n",
       "      <th>1625</th>\n",
       "      <td>201902394</td>\n",
       "      <td>8</td>\n",
       "      <td>0</td>\n",
       "      <td>6</td>\n",
       "      <td>0</td>\n",
       "    </tr>\n",
       "  </tbody>\n",
       "</table>\n",
       "<p>1626 rows × 5 columns</p>\n",
       "</div>"
      ],
      "text/plain": [
       "        game_id  inning  fst_choo  snd  score\n",
       "0     201900016       1         0    5      0\n",
       "1     201900016       2         0    5      0\n",
       "2     201900016       3         0    5      0\n",
       "3     201900016       4         0    5      0\n",
       "4     201900016       5         0    5      0\n",
       "...         ...     ...       ...  ...    ...\n",
       "1621  201902394       4         0    5      0\n",
       "1622  201902394       5         1    7      0\n",
       "1623  201902394       6         1    9      1\n",
       "1624  201902394       7         0    5      0\n",
       "1625  201902394       8         0    6      0\n",
       "\n",
       "[1626 rows x 5 columns]"
      ]
     },
     "execution_count": 69,
     "metadata": {},
     "output_type": "execute_result"
    }
   ],
   "source": [
    "baseball_df = pd.DataFrame(tmp_list, columns=[\"game_id\", \"inning\", \"fst_choo\", \"snd\", \"score\"])\n",
    "baseball_df"
   ]
  },
  {
   "cell_type": "code",
   "execution_count": 70,
   "metadata": {},
   "outputs": [
    {
     "data": {
      "text/html": [
       "<div>\n",
       "<style scoped>\n",
       "    .dataframe tbody tr th:only-of-type {\n",
       "        vertical-align: middle;\n",
       "    }\n",
       "\n",
       "    .dataframe tbody tr th {\n",
       "        vertical-align: top;\n",
       "    }\n",
       "\n",
       "    .dataframe thead th {\n",
       "        text-align: right;\n",
       "    }\n",
       "</style>\n",
       "<table border=\"1\" class=\"dataframe\">\n",
       "  <thead>\n",
       "    <tr style=\"text-align: right;\">\n",
       "      <th></th>\n",
       "      <th>snd1</th>\n",
       "      <th>snd2</th>\n",
       "      <th>snd3</th>\n",
       "      <th>snd5</th>\n",
       "      <th>snd6</th>\n",
       "      <th>snd7</th>\n",
       "      <th>snd8</th>\n",
       "      <th>snd9</th>\n",
       "    </tr>\n",
       "  </thead>\n",
       "  <tbody>\n",
       "    <tr>\n",
       "      <th>0</th>\n",
       "      <td>0</td>\n",
       "      <td>0</td>\n",
       "      <td>0</td>\n",
       "      <td>1</td>\n",
       "      <td>0</td>\n",
       "      <td>0</td>\n",
       "      <td>0</td>\n",
       "      <td>0</td>\n",
       "    </tr>\n",
       "    <tr>\n",
       "      <th>1</th>\n",
       "      <td>0</td>\n",
       "      <td>0</td>\n",
       "      <td>0</td>\n",
       "      <td>1</td>\n",
       "      <td>0</td>\n",
       "      <td>0</td>\n",
       "      <td>0</td>\n",
       "      <td>0</td>\n",
       "    </tr>\n",
       "    <tr>\n",
       "      <th>2</th>\n",
       "      <td>0</td>\n",
       "      <td>0</td>\n",
       "      <td>0</td>\n",
       "      <td>1</td>\n",
       "      <td>0</td>\n",
       "      <td>0</td>\n",
       "      <td>0</td>\n",
       "      <td>0</td>\n",
       "    </tr>\n",
       "    <tr>\n",
       "      <th>3</th>\n",
       "      <td>0</td>\n",
       "      <td>0</td>\n",
       "      <td>0</td>\n",
       "      <td>1</td>\n",
       "      <td>0</td>\n",
       "      <td>0</td>\n",
       "      <td>0</td>\n",
       "      <td>0</td>\n",
       "    </tr>\n",
       "    <tr>\n",
       "      <th>4</th>\n",
       "      <td>0</td>\n",
       "      <td>0</td>\n",
       "      <td>0</td>\n",
       "      <td>1</td>\n",
       "      <td>0</td>\n",
       "      <td>0</td>\n",
       "      <td>0</td>\n",
       "      <td>0</td>\n",
       "    </tr>\n",
       "    <tr>\n",
       "      <th>...</th>\n",
       "      <td>...</td>\n",
       "      <td>...</td>\n",
       "      <td>...</td>\n",
       "      <td>...</td>\n",
       "      <td>...</td>\n",
       "      <td>...</td>\n",
       "      <td>...</td>\n",
       "      <td>...</td>\n",
       "    </tr>\n",
       "    <tr>\n",
       "      <th>1621</th>\n",
       "      <td>0</td>\n",
       "      <td>0</td>\n",
       "      <td>0</td>\n",
       "      <td>1</td>\n",
       "      <td>0</td>\n",
       "      <td>0</td>\n",
       "      <td>0</td>\n",
       "      <td>0</td>\n",
       "    </tr>\n",
       "    <tr>\n",
       "      <th>1622</th>\n",
       "      <td>0</td>\n",
       "      <td>0</td>\n",
       "      <td>0</td>\n",
       "      <td>0</td>\n",
       "      <td>0</td>\n",
       "      <td>1</td>\n",
       "      <td>0</td>\n",
       "      <td>0</td>\n",
       "    </tr>\n",
       "    <tr>\n",
       "      <th>1623</th>\n",
       "      <td>0</td>\n",
       "      <td>0</td>\n",
       "      <td>0</td>\n",
       "      <td>0</td>\n",
       "      <td>0</td>\n",
       "      <td>0</td>\n",
       "      <td>0</td>\n",
       "      <td>1</td>\n",
       "    </tr>\n",
       "    <tr>\n",
       "      <th>1624</th>\n",
       "      <td>0</td>\n",
       "      <td>0</td>\n",
       "      <td>0</td>\n",
       "      <td>1</td>\n",
       "      <td>0</td>\n",
       "      <td>0</td>\n",
       "      <td>0</td>\n",
       "      <td>0</td>\n",
       "    </tr>\n",
       "    <tr>\n",
       "      <th>1625</th>\n",
       "      <td>0</td>\n",
       "      <td>0</td>\n",
       "      <td>0</td>\n",
       "      <td>0</td>\n",
       "      <td>1</td>\n",
       "      <td>0</td>\n",
       "      <td>0</td>\n",
       "      <td>0</td>\n",
       "    </tr>\n",
       "  </tbody>\n",
       "</table>\n",
       "<p>1626 rows × 8 columns</p>\n",
       "</div>"
      ],
      "text/plain": [
       "      snd1  snd2  snd3  snd5  snd6  snd7  snd8  snd9\n",
       "0        0     0     0     1     0     0     0     0\n",
       "1        0     0     0     1     0     0     0     0\n",
       "2        0     0     0     1     0     0     0     0\n",
       "3        0     0     0     1     0     0     0     0\n",
       "4        0     0     0     1     0     0     0     0\n",
       "...    ...   ...   ...   ...   ...   ...   ...   ...\n",
       "1621     0     0     0     1     0     0     0     0\n",
       "1622     0     0     0     0     0     1     0     0\n",
       "1623     0     0     0     0     0     0     0     1\n",
       "1624     0     0     0     1     0     0     0     0\n",
       "1625     0     0     0     0     1     0     0     0\n",
       "\n",
       "[1626 rows x 8 columns]"
      ]
     },
     "execution_count": 70,
     "metadata": {},
     "output_type": "execute_result"
    }
   ],
   "source": [
    "dummy_col = pd.get_dummies(baseball_df[\"snd\"])\n",
    "dummy_col.columns = [f\"snd{i}\" for i in dummy_col.columns]\n",
    "for col in dummy_col:\n",
    "    dummy_col[col] = np.where(dummy_col[col], 1, 0)\n",
    "dummy_col"
   ]
  },
  {
   "cell_type": "code",
   "execution_count": 71,
   "metadata": {},
   "outputs": [
    {
     "data": {
      "text/html": [
       "<div>\n",
       "<style scoped>\n",
       "    .dataframe tbody tr th:only-of-type {\n",
       "        vertical-align: middle;\n",
       "    }\n",
       "\n",
       "    .dataframe tbody tr th {\n",
       "        vertical-align: top;\n",
       "    }\n",
       "\n",
       "    .dataframe thead th {\n",
       "        text-align: right;\n",
       "    }\n",
       "</style>\n",
       "<table border=\"1\" class=\"dataframe\">\n",
       "  <thead>\n",
       "    <tr style=\"text-align: right;\">\n",
       "      <th></th>\n",
       "      <th>game_id</th>\n",
       "      <th>inning</th>\n",
       "      <th>fst_choo</th>\n",
       "      <th>snd</th>\n",
       "      <th>score</th>\n",
       "      <th>snd1</th>\n",
       "      <th>snd2</th>\n",
       "      <th>snd3</th>\n",
       "      <th>snd5</th>\n",
       "      <th>snd6</th>\n",
       "      <th>snd7</th>\n",
       "      <th>snd8</th>\n",
       "      <th>snd9</th>\n",
       "    </tr>\n",
       "  </thead>\n",
       "  <tbody>\n",
       "    <tr>\n",
       "      <th>0</th>\n",
       "      <td>201900016</td>\n",
       "      <td>1</td>\n",
       "      <td>0</td>\n",
       "      <td>5</td>\n",
       "      <td>0</td>\n",
       "      <td>0</td>\n",
       "      <td>0</td>\n",
       "      <td>0</td>\n",
       "      <td>1</td>\n",
       "      <td>0</td>\n",
       "      <td>0</td>\n",
       "      <td>0</td>\n",
       "      <td>0</td>\n",
       "    </tr>\n",
       "    <tr>\n",
       "      <th>1</th>\n",
       "      <td>201900016</td>\n",
       "      <td>2</td>\n",
       "      <td>0</td>\n",
       "      <td>5</td>\n",
       "      <td>0</td>\n",
       "      <td>0</td>\n",
       "      <td>0</td>\n",
       "      <td>0</td>\n",
       "      <td>1</td>\n",
       "      <td>0</td>\n",
       "      <td>0</td>\n",
       "      <td>0</td>\n",
       "      <td>0</td>\n",
       "    </tr>\n",
       "    <tr>\n",
       "      <th>2</th>\n",
       "      <td>201900016</td>\n",
       "      <td>3</td>\n",
       "      <td>0</td>\n",
       "      <td>5</td>\n",
       "      <td>0</td>\n",
       "      <td>0</td>\n",
       "      <td>0</td>\n",
       "      <td>0</td>\n",
       "      <td>1</td>\n",
       "      <td>0</td>\n",
       "      <td>0</td>\n",
       "      <td>0</td>\n",
       "      <td>0</td>\n",
       "    </tr>\n",
       "    <tr>\n",
       "      <th>3</th>\n",
       "      <td>201900016</td>\n",
       "      <td>4</td>\n",
       "      <td>0</td>\n",
       "      <td>5</td>\n",
       "      <td>0</td>\n",
       "      <td>0</td>\n",
       "      <td>0</td>\n",
       "      <td>0</td>\n",
       "      <td>1</td>\n",
       "      <td>0</td>\n",
       "      <td>0</td>\n",
       "      <td>0</td>\n",
       "      <td>0</td>\n",
       "    </tr>\n",
       "    <tr>\n",
       "      <th>4</th>\n",
       "      <td>201900016</td>\n",
       "      <td>5</td>\n",
       "      <td>0</td>\n",
       "      <td>5</td>\n",
       "      <td>0</td>\n",
       "      <td>0</td>\n",
       "      <td>0</td>\n",
       "      <td>0</td>\n",
       "      <td>1</td>\n",
       "      <td>0</td>\n",
       "      <td>0</td>\n",
       "      <td>0</td>\n",
       "      <td>0</td>\n",
       "    </tr>\n",
       "    <tr>\n",
       "      <th>...</th>\n",
       "      <td>...</td>\n",
       "      <td>...</td>\n",
       "      <td>...</td>\n",
       "      <td>...</td>\n",
       "      <td>...</td>\n",
       "      <td>...</td>\n",
       "      <td>...</td>\n",
       "      <td>...</td>\n",
       "      <td>...</td>\n",
       "      <td>...</td>\n",
       "      <td>...</td>\n",
       "      <td>...</td>\n",
       "      <td>...</td>\n",
       "    </tr>\n",
       "    <tr>\n",
       "      <th>1621</th>\n",
       "      <td>201902394</td>\n",
       "      <td>4</td>\n",
       "      <td>0</td>\n",
       "      <td>5</td>\n",
       "      <td>0</td>\n",
       "      <td>0</td>\n",
       "      <td>0</td>\n",
       "      <td>0</td>\n",
       "      <td>1</td>\n",
       "      <td>0</td>\n",
       "      <td>0</td>\n",
       "      <td>0</td>\n",
       "      <td>0</td>\n",
       "    </tr>\n",
       "    <tr>\n",
       "      <th>1622</th>\n",
       "      <td>201902394</td>\n",
       "      <td>5</td>\n",
       "      <td>1</td>\n",
       "      <td>7</td>\n",
       "      <td>0</td>\n",
       "      <td>0</td>\n",
       "      <td>0</td>\n",
       "      <td>0</td>\n",
       "      <td>0</td>\n",
       "      <td>0</td>\n",
       "      <td>1</td>\n",
       "      <td>0</td>\n",
       "      <td>0</td>\n",
       "    </tr>\n",
       "    <tr>\n",
       "      <th>1623</th>\n",
       "      <td>201902394</td>\n",
       "      <td>6</td>\n",
       "      <td>1</td>\n",
       "      <td>9</td>\n",
       "      <td>1</td>\n",
       "      <td>0</td>\n",
       "      <td>0</td>\n",
       "      <td>0</td>\n",
       "      <td>0</td>\n",
       "      <td>0</td>\n",
       "      <td>0</td>\n",
       "      <td>0</td>\n",
       "      <td>1</td>\n",
       "    </tr>\n",
       "    <tr>\n",
       "      <th>1624</th>\n",
       "      <td>201902394</td>\n",
       "      <td>7</td>\n",
       "      <td>0</td>\n",
       "      <td>5</td>\n",
       "      <td>0</td>\n",
       "      <td>0</td>\n",
       "      <td>0</td>\n",
       "      <td>0</td>\n",
       "      <td>1</td>\n",
       "      <td>0</td>\n",
       "      <td>0</td>\n",
       "      <td>0</td>\n",
       "      <td>0</td>\n",
       "    </tr>\n",
       "    <tr>\n",
       "      <th>1625</th>\n",
       "      <td>201902394</td>\n",
       "      <td>8</td>\n",
       "      <td>0</td>\n",
       "      <td>6</td>\n",
       "      <td>0</td>\n",
       "      <td>0</td>\n",
       "      <td>0</td>\n",
       "      <td>0</td>\n",
       "      <td>0</td>\n",
       "      <td>1</td>\n",
       "      <td>0</td>\n",
       "      <td>0</td>\n",
       "      <td>0</td>\n",
       "    </tr>\n",
       "  </tbody>\n",
       "</table>\n",
       "<p>1626 rows × 13 columns</p>\n",
       "</div>"
      ],
      "text/plain": [
       "        game_id  inning  fst_choo  snd  score  snd1  snd2  snd3  snd5  snd6  \\\n",
       "0     201900016       1         0    5      0     0     0     0     1     0   \n",
       "1     201900016       2         0    5      0     0     0     0     1     0   \n",
       "2     201900016       3         0    5      0     0     0     0     1     0   \n",
       "3     201900016       4         0    5      0     0     0     0     1     0   \n",
       "4     201900016       5         0    5      0     0     0     0     1     0   \n",
       "...         ...     ...       ...  ...    ...   ...   ...   ...   ...   ...   \n",
       "1621  201902394       4         0    5      0     0     0     0     1     0   \n",
       "1622  201902394       5         1    7      0     0     0     0     0     0   \n",
       "1623  201902394       6         1    9      1     0     0     0     0     0   \n",
       "1624  201902394       7         0    5      0     0     0     0     1     0   \n",
       "1625  201902394       8         0    6      0     0     0     0     0     1   \n",
       "\n",
       "      snd7  snd8  snd9  \n",
       "0        0     0     0  \n",
       "1        0     0     0  \n",
       "2        0     0     0  \n",
       "3        0     0     0  \n",
       "4        0     0     0  \n",
       "...    ...   ...   ...  \n",
       "1621     0     0     0  \n",
       "1622     1     0     0  \n",
       "1623     0     0     1  \n",
       "1624     0     0     0  \n",
       "1625     0     0     0  \n",
       "\n",
       "[1626 rows x 13 columns]"
      ]
     },
     "execution_count": 71,
     "metadata": {},
     "output_type": "execute_result"
    }
   ],
   "source": [
    "baseball_df = pd.concat([baseball_df, dummy_col], axis=1)\n",
    "baseball_df"
   ]
  },
  {
   "cell_type": "markdown",
   "metadata": {},
   "source": [
    "## 4-2 4-1 데이터에 대해 Logistic Regression을 적용하고 2번타자의 희생번트 여부에 대한 회귀 계수 검정을 하라"
   ]
  },
  {
   "cell_type": "code",
   "execution_count": 72,
   "metadata": {},
   "outputs": [],
   "source": [
    "# 희생번트: snd9\n",
    "import statsmodels.api as sm\n",
    "import statsmodels.formula.api as smf"
   ]
  },
  {
   "cell_type": "code",
   "execution_count": 73,
   "metadata": {},
   "outputs": [],
   "source": [
    "y = baseball_df[\"score\"]\n",
    "x = baseball_df.drop([\"game_id\", \"inning\", \"score\", \"snd\"], axis=1)"
   ]
  },
  {
   "cell_type": "code",
   "execution_count": 74,
   "metadata": {},
   "outputs": [
    {
     "data": {
      "text/plain": [
       "'snd1 + snd2 + snd3 + snd5 + snd6 + snd7 + snd8 + snd9'"
      ]
     },
     "execution_count": 74,
     "metadata": {},
     "output_type": "execute_result"
    }
   ],
   "source": [
    "dummy_str = \" + \".join([f\"snd{i}\" for i in [1, 2, 3, 5, 6, 7, 8, 9]])\n",
    "dummy_str"
   ]
  },
  {
   "cell_type": "code",
   "execution_count": 75,
   "metadata": {},
   "outputs": [
    {
     "data": {
      "text/html": [
       "<table class=\"simpletable\">\n",
       "<caption>Generalized Linear Model Regression Results</caption>\n",
       "<tr>\n",
       "  <th>Dep. Variable:</th>         <td>score</td>      <th>  No. Observations:  </th>  <td>  1626</td> \n",
       "</tr>\n",
       "<tr>\n",
       "  <th>Model:</th>                  <td>GLM</td>       <th>  Df Residuals:      </th>  <td>  1617</td> \n",
       "</tr>\n",
       "<tr>\n",
       "  <th>Model Family:</th>        <td>Binomial</td>     <th>  Df Model:          </th>  <td>     8</td> \n",
       "</tr>\n",
       "<tr>\n",
       "  <th>Link Function:</th>         <td>Logit</td>      <th>  Scale:             </th> <td>  1.0000</td>\n",
       "</tr>\n",
       "<tr>\n",
       "  <th>Method:</th>                <td>IRLS</td>       <th>  Log-Likelihood:    </th> <td> -624.43</td>\n",
       "</tr>\n",
       "<tr>\n",
       "  <th>Date:</th>            <td>Tue, 31 Oct 2023</td> <th>  Deviance:          </th> <td>  1248.9</td>\n",
       "</tr>\n",
       "<tr>\n",
       "  <th>Time:</th>                <td>21:21:30</td>     <th>  Pearson chi2:      </th> <td>1.49e+03</td>\n",
       "</tr>\n",
       "<tr>\n",
       "  <th>No. Iterations:</th>         <td>100</td>       <th>  Pseudo R-squ. (CS):</th>  <td>0.1608</td> \n",
       "</tr>\n",
       "<tr>\n",
       "  <th>Covariance Type:</th>     <td>nonrobust</td>    <th>                     </th>     <td> </td>   \n",
       "</tr>\n",
       "</table>\n",
       "<table class=\"simpletable\">\n",
       "<tr>\n",
       "      <td></td>         <th>coef</th>     <th>std err</th>      <th>z</th>      <th>P>|z|</th>  <th>[0.025</th>    <th>0.975]</th>  \n",
       "</tr>\n",
       "<tr>\n",
       "  <th>Intercept</th> <td>  3.85e+12</td> <td> 8.34e+12</td> <td>    0.462</td> <td> 0.644</td> <td>-1.25e+13</td> <td> 2.02e+13</td>\n",
       "</tr>\n",
       "<tr>\n",
       "  <th>fst_choo</th>  <td>    1.6166</td> <td>    0.156</td> <td>   10.394</td> <td> 0.000</td> <td>    1.312</td> <td>    1.921</td>\n",
       "</tr>\n",
       "<tr>\n",
       "  <th>snd1</th>      <td> -3.85e+12</td> <td> 8.34e+12</td> <td>   -0.462</td> <td> 0.644</td> <td>-2.02e+13</td> <td> 1.25e+13</td>\n",
       "</tr>\n",
       "<tr>\n",
       "  <th>snd2</th>      <td> -3.85e+12</td> <td> 8.34e+12</td> <td>   -0.462</td> <td> 0.644</td> <td>-2.02e+13</td> <td> 1.25e+13</td>\n",
       "</tr>\n",
       "<tr>\n",
       "  <th>snd3</th>      <td> -3.85e+12</td> <td> 8.34e+12</td> <td>   -0.462</td> <td> 0.644</td> <td>-2.02e+13</td> <td> 1.25e+13</td>\n",
       "</tr>\n",
       "<tr>\n",
       "  <th>snd5</th>      <td> -3.85e+12</td> <td> 8.34e+12</td> <td>   -0.462</td> <td> 0.644</td> <td>-2.02e+13</td> <td> 1.25e+13</td>\n",
       "</tr>\n",
       "<tr>\n",
       "  <th>snd6</th>      <td> -3.85e+12</td> <td> 8.34e+12</td> <td>   -0.462</td> <td> 0.644</td> <td>-2.02e+13</td> <td> 1.25e+13</td>\n",
       "</tr>\n",
       "<tr>\n",
       "  <th>snd7</th>      <td> -3.85e+12</td> <td> 8.34e+12</td> <td>   -0.462</td> <td> 0.644</td> <td>-2.02e+13</td> <td> 1.25e+13</td>\n",
       "</tr>\n",
       "<tr>\n",
       "  <th>snd8</th>      <td> -3.85e+12</td> <td> 8.34e+12</td> <td>   -0.462</td> <td> 0.644</td> <td>-2.02e+13</td> <td> 1.25e+13</td>\n",
       "</tr>\n",
       "<tr>\n",
       "  <th>snd9</th>      <td> -3.85e+12</td> <td> 8.34e+12</td> <td>   -0.462</td> <td> 0.644</td> <td>-2.02e+13</td> <td> 1.25e+13</td>\n",
       "</tr>\n",
       "</table>"
      ],
      "text/plain": [
       "<class 'statsmodels.iolib.summary.Summary'>\n",
       "\"\"\"\n",
       "                 Generalized Linear Model Regression Results                  \n",
       "==============================================================================\n",
       "Dep. Variable:                  score   No. Observations:                 1626\n",
       "Model:                            GLM   Df Residuals:                     1617\n",
       "Model Family:                Binomial   Df Model:                            8\n",
       "Link Function:                  Logit   Scale:                          1.0000\n",
       "Method:                          IRLS   Log-Likelihood:                -624.43\n",
       "Date:                Tue, 31 Oct 2023   Deviance:                       1248.9\n",
       "Time:                        21:21:30   Pearson chi2:                 1.49e+03\n",
       "No. Iterations:                   100   Pseudo R-squ. (CS):             0.1608\n",
       "Covariance Type:            nonrobust                                         \n",
       "==============================================================================\n",
       "                 coef    std err          z      P>|z|      [0.025      0.975]\n",
       "------------------------------------------------------------------------------\n",
       "Intercept    3.85e+12   8.34e+12      0.462      0.644   -1.25e+13    2.02e+13\n",
       "fst_choo       1.6166      0.156     10.394      0.000       1.312       1.921\n",
       "snd1        -3.85e+12   8.34e+12     -0.462      0.644   -2.02e+13    1.25e+13\n",
       "snd2        -3.85e+12   8.34e+12     -0.462      0.644   -2.02e+13    1.25e+13\n",
       "snd3        -3.85e+12   8.34e+12     -0.462      0.644   -2.02e+13    1.25e+13\n",
       "snd5        -3.85e+12   8.34e+12     -0.462      0.644   -2.02e+13    1.25e+13\n",
       "snd6        -3.85e+12   8.34e+12     -0.462      0.644   -2.02e+13    1.25e+13\n",
       "snd7        -3.85e+12   8.34e+12     -0.462      0.644   -2.02e+13    1.25e+13\n",
       "snd8        -3.85e+12   8.34e+12     -0.462      0.644   -2.02e+13    1.25e+13\n",
       "snd9        -3.85e+12   8.34e+12     -0.462      0.644   -2.02e+13    1.25e+13\n",
       "==============================================================================\n",
       "\"\"\""
      ]
     },
     "execution_count": 75,
     "metadata": {},
     "output_type": "execute_result"
    }
   ],
   "source": [
    "# Modeling\n",
    "mod_glm = smf.glm(formula = f\"score ~ fst_choo + {dummy_str}\", data = baseball_df, family=sm.families.Binomial()).fit()\n",
    "mod_glm.summary()"
   ]
  },
  {
   "cell_type": "code",
   "execution_count": 76,
   "metadata": {},
   "outputs": [
    {
     "name": "stdout",
     "output_type": "stream",
     "text": [
      "희생번트 여부의 회귀계수는 거의 0에 가까움. p-value 0.644로 유의미하지 않은 변수임\n"
     ]
    }
   ],
   "source": [
    "print('희생번트 여부의 회귀계수는 거의 0에 가까움. p-value 0.644로 유의미하지 않은 변수임')"
   ]
  },
  {
   "cell_type": "markdown",
   "metadata": {},
   "source": [
    "## 4-3 SMOTE (random_state =0 지정)를 적용하여 data imbalance를 해결하라"
   ]
  },
  {
   "cell_type": "code",
   "execution_count": 77,
   "metadata": {},
   "outputs": [
    {
     "data": {
      "text/plain": [
       "0    1333\n",
       "1     293\n",
       "Name: score, dtype: int64"
      ]
     },
     "execution_count": 77,
     "metadata": {},
     "output_type": "execute_result"
    }
   ],
   "source": [
    "y.value_counts() # imbalance 있음"
   ]
  },
  {
   "cell_type": "code",
   "execution_count": 78,
   "metadata": {},
   "outputs": [],
   "source": [
    "from imblearn.over_sampling import SMOTE\n",
    "from collections import Counter"
   ]
  },
  {
   "cell_type": "code",
   "execution_count": 79,
   "metadata": {},
   "outputs": [
    {
     "name": "stdout",
     "output_type": "stream",
     "text": [
      "Counter({0: 1333, 1: 1333})\n"
     ]
    }
   ],
   "source": [
    "smote_sample = SMOTE(sampling_strategy='minority', random_state=0) \n",
    "x_sm, y_sm = smote_sample.fit_resample(x, y)\n",
    "print(Counter(y_sm))"
   ]
  },
  {
   "cell_type": "markdown",
   "metadata": {},
   "source": [
    "## 4-4 구성 데이터에 Logistic Regression을 적용하고 결과를 분석하라\n",
    "- 회귀 분석의 계수를 분석해보니, 가장 중요한 변수는 두 번째 타자의 삼진 여부이며, 그 다음은 두번째 타자의 3루타 여부로 나타났음\n",
    "- 첫 번째 타자의 출루와 두 번째 타자의 삼진 이외 아웃도 중요한 역할을 하고 있음"
   ]
  },
  {
   "cell_type": "code",
   "execution_count": 80,
   "metadata": {},
   "outputs": [],
   "source": [
    "# Modeling\n",
    "from sklearn.linear_model import LogisticRegression"
   ]
  },
  {
   "cell_type": "code",
   "execution_count": 81,
   "metadata": {},
   "outputs": [],
   "source": [
    "from sklearn.model_selection import train_test_split"
   ]
  },
  {
   "cell_type": "code",
   "execution_count": 82,
   "metadata": {},
   "outputs": [
    {
     "data": {
      "text/plain": [
       "LogisticRegression()"
      ]
     },
     "execution_count": 82,
     "metadata": {},
     "output_type": "execute_result"
    }
   ],
   "source": [
    "reg = LogisticRegression()\n",
    "reg.fit(x_sm, y_sm)"
   ]
  },
  {
   "cell_type": "code",
   "execution_count": 83,
   "metadata": {},
   "outputs": [
    {
     "data": {
      "text/plain": [
       "array([ 1.67599094,  0.39136528,  0.72169839,  1.46639522, -1.30751819,\n",
       "        0.50642016, -1.90125069,  0.8059108 , -0.68391934])"
      ]
     },
     "execution_count": 83,
     "metadata": {},
     "output_type": "execute_result"
    }
   ],
   "source": [
    "reg.coef_[0]"
   ]
  },
  {
   "cell_type": "code",
   "execution_count": 84,
   "metadata": {},
   "outputs": [
    {
     "data": {
      "image/png": "[encoded data removed]",
      "text/plain": [
       "<Figure size 432x288 with 1 Axes>"
      ]
     },
     "metadata": {
      "needs_background": "light"
     },
     "output_type": "display_data"
    }
   ],
   "source": [
    "# 회귀 분석의 계수를 분석해보니, 가장 중요한 변수는 두 번째 타자의 삼진 여부\n",
    "# 그 다음은 두번째 타자의 3루타 여부\n",
    "# 첫 번째 타자의 출루와 두 번째 타자의 삼진 이외 아웃도 중요한 역할을 하고 있음\n",
    "sns.barplot(x=x.columns, y=reg.coef_[0]) \n",
    "plt.show()"
   ]
  },
  {
   "cell_type": "markdown",
   "metadata": {},
   "source": [
    "## 4-5 구성 데이터에 XGB 적용하고 결과를 분석하라"
   ]
  },
  {
   "cell_type": "code",
   "execution_count": 85,
   "metadata": {},
   "outputs": [],
   "source": [
    "from xgboost import XGBClassifier"
   ]
  },
  {
   "cell_type": "code",
   "execution_count": 86,
   "metadata": {},
   "outputs": [
    {
     "data": {
      "text/plain": [
       "XGBClassifier()"
      ]
     },
     "execution_count": 86,
     "metadata": {},
     "output_type": "execute_result"
    }
   ],
   "source": [
    "xgb = XGBClassifier()\n",
    "xgb.fit(x_sm, y_sm)"
   ]
  },
  {
   "cell_type": "code",
   "execution_count": 87,
   "metadata": {},
   "outputs": [
    {
     "data": {
      "image/png": "[encoded data removed]",
      "text/plain": [
       "<Figure size 432x288 with 1 Axes>"
      ]
     },
     "metadata": {
      "needs_background": "light"
     },
     "output_type": "display_data"
    }
   ],
   "source": [
    "sns.barplot(x=x.columns, y=xgb.feature_importances_) # 컬럼 별 중요도\n",
    "plt.show()\n",
    "# snd5, snd7은 각각 삼진과, 삼진 이외의 아웃\n",
    "# 즉, 두 번째 타자가 아웃만 안 당해도 득점 확률이 높아진다\n",
    "# 그 다음 중요한 건 첫 번째 타자의 출루 여부임. 첫 번째 타자가 출루하고, 두 번째 타자가 아웃당하지 않는다면 득점 비율이 높아지고 있음"
   ]
  },
  {
   "cell_type": "markdown",
   "metadata": {},
   "source": [
    "# 통계 (40점)"
   ]
  },
  {
   "cell_type": "code",
   "execution_count": 88,
   "metadata": {},
   "outputs": [],
   "source": [
    "import scipy.stats as stats"
   ]
  },
  {
   "cell_type": "markdown",
   "metadata": {},
   "source": [
    "## 5. 제품 A의 불량률은 0.03이다. 25개의 제품을 뽑았을 때 3개가 불량일 확률을 구하시오. (소수점 다섯 째 자리에서 반올림)"
   ]
  },
  {
   "cell_type": "code",
   "execution_count": 89,
   "metadata": {},
   "outputs": [
    {
     "name": "stdout",
     "output_type": "stream",
     "text": [
      "25개의 제품 중 불량인 제품의 개수를 확률변수 X라고 하면, X~B(25, 0.03)을 따른다.\n",
      "P(X=3) = 0.0318\n"
     ]
    }
   ],
   "source": [
    "print('25개의 제품 중 불량인 제품의 개수를 확률변수 X라고 하면, X~B(25, 0.03)을 따른다.')\n",
    "print(f'P(X=3) = {round(stats.binom.pmf(3, 25, 0.03), 4)}')"
   ]
  },
  {
   "cell_type": "markdown",
   "metadata": {},
   "source": [
    "## 6. C사 생산 제품 1000개 중 양품이 600개, D사 생산 제품 500개 중 양품이 200개 이다. 두 회사의 양품률에 차이가 있는지 검정하여라."
   ]
  },
  {
   "cell_type": "code",
   "execution_count": 90,
   "metadata": {},
   "outputs": [],
   "source": [
    "from statsmodels.stats.proportion import proportions_ztest"
   ]
  },
  {
   "cell_type": "code",
   "execution_count": 91,
   "metadata": {},
   "outputs": [
    {
     "name": "stdout",
     "output_type": "stream",
     "text": [
      "Two sided z-test: z = 7.3193, p value = 0.0000\n"
     ]
    }
   ],
   "source": [
    "### 비율 검정\n",
    "# p1 = 600/1000\n",
    "# p2 = 200/500\n",
    "\n",
    "### Proportion difference test (Z-statistic)\n",
    "success_cnts = np.array([600, 200])\n",
    "total_cnts = np.array([1000, 500])\n",
    "\n",
    "test_stat, pval = proportions_ztest(count=success_cnts, nobs=total_cnts, alternative='two-sided')\n",
    "print('Two sided z-test: z = {:.4f}, p value = {:.4f}'.format(test_stat, pval))"
   ]
  },
  {
   "cell_type": "code",
   "execution_count": 92,
   "metadata": {},
   "outputs": [
    {
     "name": "stdout",
     "output_type": "stream",
     "text": [
      "H0: 두 회사의 양품률에는 차이가 없다.\n",
      "H1: 두 회사의 양품률에는 차이가 있다.\n",
      "Z 통계량 7.3193, p-value 0.0000으로 귀무가설을 기각한다. 따라서 유의수준 0.05 하에서 두 회사에 양품률에는 차이가 있다.\n"
     ]
    }
   ],
   "source": [
    "print('H0: 두 회사의 양품률에는 차이가 없다.')\n",
    "print('H1: 두 회사의 양품률에는 차이가 있다.')\n",
    "\n",
    "print('Z 통계량 7.3193, p-value 0.0000으로 귀무가설을 기각한다. 따라서 유의수준 0.05 하에서 두 회사에 양품률에는 차이가 있다.')"
   ]
  },
  {
   "cell_type": "markdown",
   "metadata": {},
   "source": [
    "## 7. 아래 데이터는 a,b,c,d 네 차종 각각 5회 실험 시 범퍼 파손 정도 이다. (단, 각 모집단은 정규분포를 따르며 모집단 간 등분산성을 가정한다.)"
   ]
  },
  {
   "cell_type": "markdown",
   "metadata": {},
   "source": [
    "dataurl : https://raw.githubusercontent.com/Datamanim/datarepo/main/adp/29/p7.csv"
   ]
  },
  {
   "cell_type": "code",
   "execution_count": 93,
   "metadata": {},
   "outputs": [
    {
     "data": {
      "text/html": [
       "<div>\n",
       "<style scoped>\n",
       "    .dataframe tbody tr th:only-of-type {\n",
       "        vertical-align: middle;\n",
       "    }\n",
       "\n",
       "    .dataframe tbody tr th {\n",
       "        vertical-align: top;\n",
       "    }\n",
       "\n",
       "    .dataframe thead th {\n",
       "        text-align: right;\n",
       "    }\n",
       "</style>\n",
       "<table border=\"1\" class=\"dataframe\">\n",
       "  <thead>\n",
       "    <tr style=\"text-align: right;\">\n",
       "      <th></th>\n",
       "      <th>name</th>\n",
       "      <th>ratio</th>\n",
       "    </tr>\n",
       "  </thead>\n",
       "  <tbody>\n",
       "    <tr>\n",
       "      <th>0</th>\n",
       "      <td>A</td>\n",
       "      <td>10.993428</td>\n",
       "    </tr>\n",
       "    <tr>\n",
       "      <th>1</th>\n",
       "      <td>A</td>\n",
       "      <td>9.723471</td>\n",
       "    </tr>\n",
       "    <tr>\n",
       "      <th>2</th>\n",
       "      <td>A</td>\n",
       "      <td>11.295377</td>\n",
       "    </tr>\n",
       "    <tr>\n",
       "      <th>3</th>\n",
       "      <td>A</td>\n",
       "      <td>13.046060</td>\n",
       "    </tr>\n",
       "    <tr>\n",
       "      <th>4</th>\n",
       "      <td>A</td>\n",
       "      <td>9.531693</td>\n",
       "    </tr>\n",
       "    <tr>\n",
       "      <th>5</th>\n",
       "      <td>B</td>\n",
       "      <td>14.297589</td>\n",
       "    </tr>\n",
       "    <tr>\n",
       "      <th>6</th>\n",
       "      <td>B</td>\n",
       "      <td>19.737638</td>\n",
       "    </tr>\n",
       "    <tr>\n",
       "      <th>7</th>\n",
       "      <td>B</td>\n",
       "      <td>17.302304</td>\n",
       "    </tr>\n",
       "    <tr>\n",
       "      <th>8</th>\n",
       "      <td>B</td>\n",
       "      <td>13.591577</td>\n",
       "    </tr>\n",
       "    <tr>\n",
       "      <th>9</th>\n",
       "      <td>B</td>\n",
       "      <td>16.627680</td>\n",
       "    </tr>\n",
       "    <tr>\n",
       "      <th>10</th>\n",
       "      <td>C</td>\n",
       "      <td>7.304873</td>\n",
       "    </tr>\n",
       "    <tr>\n",
       "      <th>11</th>\n",
       "      <td>C</td>\n",
       "      <td>7.301405</td>\n",
       "    </tr>\n",
       "    <tr>\n",
       "      <th>12</th>\n",
       "      <td>C</td>\n",
       "      <td>8.362943</td>\n",
       "    </tr>\n",
       "    <tr>\n",
       "      <th>13</th>\n",
       "      <td>C</td>\n",
       "      <td>5.130080</td>\n",
       "    </tr>\n",
       "    <tr>\n",
       "      <th>14</th>\n",
       "      <td>C</td>\n",
       "      <td>5.412623</td>\n",
       "    </tr>\n",
       "    <tr>\n",
       "      <th>15</th>\n",
       "      <td>D</td>\n",
       "      <td>10.594281</td>\n",
       "    </tr>\n",
       "    <tr>\n",
       "      <th>16</th>\n",
       "      <td>D</td>\n",
       "      <td>9.467922</td>\n",
       "    </tr>\n",
       "    <tr>\n",
       "      <th>17</th>\n",
       "      <td>D</td>\n",
       "      <td>12.785618</td>\n",
       "    </tr>\n",
       "    <tr>\n",
       "      <th>18</th>\n",
       "      <td>D</td>\n",
       "      <td>9.729940</td>\n",
       "    </tr>\n",
       "    <tr>\n",
       "      <th>19</th>\n",
       "      <td>D</td>\n",
       "      <td>8.469241</td>\n",
       "    </tr>\n",
       "  </tbody>\n",
       "</table>\n",
       "</div>"
      ],
      "text/plain": [
       "   name      ratio\n",
       "0     A  10.993428\n",
       "1     A   9.723471\n",
       "2     A  11.295377\n",
       "3     A  13.046060\n",
       "4     A   9.531693\n",
       "5     B  14.297589\n",
       "6     B  19.737638\n",
       "7     B  17.302304\n",
       "8     B  13.591577\n",
       "9     B  16.627680\n",
       "10    C   7.304873\n",
       "11    C   7.301405\n",
       "12    C   8.362943\n",
       "13    C   5.130080\n",
       "14    C   5.412623\n",
       "15    D  10.594281\n",
       "16    D   9.467922\n",
       "17    D  12.785618\n",
       "18    D   9.729940\n",
       "19    D   8.469241"
      ]
     },
     "execution_count": 93,
     "metadata": {},
     "output_type": "execute_result"
    }
   ],
   "source": [
    "cars = pd.read_csv('https://raw.githubusercontent.com/Datamanim/datarepo/main/adp/29/p7.csv')\n",
    "cars"
   ]
  },
  {
   "cell_type": "code",
   "execution_count": 94,
   "metadata": {},
   "outputs": [],
   "source": [
    "cars_A = cars[cars.name=='A']['ratio']\n",
    "cars_B = cars[cars.name=='B']['ratio']\n",
    "cars_C = cars[cars.name=='C']['ratio']\n",
    "cars_D = cars[cars.name=='D']['ratio']"
   ]
  },
  {
   "cell_type": "markdown",
   "metadata": {},
   "source": [
    "### 7-1. 각 차종 별 범퍼 파손의 정도에 차이가 유의한지 검정하라."
   ]
  },
  {
   "cell_type": "code",
   "execution_count": 95,
   "metadata": {},
   "outputs": [
    {
     "data": {
      "text/plain": [
       "F_onewayResult(statistic=24.976953075185236, pvalue=2.817477955621677e-06)"
      ]
     },
     "execution_count": 95,
     "metadata": {},
     "output_type": "execute_result"
    }
   ],
   "source": [
    "### One-way ANOVA\n",
    "stats.f_oneway(cars_A, cars_B, cars_C, cars_D)"
   ]
  },
  {
   "cell_type": "code",
   "execution_count": 96,
   "metadata": {},
   "outputs": [
    {
     "name": "stdout",
     "output_type": "stream",
     "text": [
      "H0: 각 차종 별 범퍼 파손의 정도에는 차이가 없다.\n",
      "H1: 하나 이상의 차종에서 범퍼 파손의 정도에 차이가 존재한다.\n",
      "F-통계량 24.98, P-value 0.000으로 귀무가설을 기각한다. 즉, 하나 이상의 차종에서 범퍼 파손 정도에는 차이가 있다.\n"
     ]
    }
   ],
   "source": [
    "print('H0: 각 차종 별 범퍼 파손의 정도에는 차이가 없다.')\n",
    "print('H1: 하나 이상의 차종에서 범퍼 파손의 정도에 차이가 존재한다.')\n",
    "print('F-통계량 24.98, P-value 0.000으로 귀무가설을 기각한다. 즉, 하나 이상의 차종에서 범퍼 파손 정도에는 차이가 있다.')"
   ]
  },
  {
   "cell_type": "markdown",
   "metadata": {},
   "source": [
    "### 7-2 귀무가설을 채택한다면 그 의미를 해석하고, 귀무가설을 기각하였다면 사후분석을 시행하라."
   ]
  },
  {
   "cell_type": "code",
   "execution_count": 97,
   "metadata": {},
   "outputs": [],
   "source": [
    "from statsmodels.stats.multicomp import MultiComparison"
   ]
  },
  {
   "cell_type": "code",
   "execution_count": 98,
   "metadata": {},
   "outputs": [],
   "source": [
    "mc = MultiComparison(data=cars[\"ratio\"], groups=cars[\"name\"])"
   ]
  },
  {
   "cell_type": "code",
   "execution_count": 99,
   "metadata": {},
   "outputs": [
    {
     "data": {
      "image/png": "[encoded data removed]",
      "text/plain": [
       "<Figure size 720x432 with 1 Axes>"
      ]
     },
     "metadata": {
      "needs_background": "light"
     },
     "output_type": "display_data"
    }
   ],
   "source": [
    "### Tukey's HSD\n",
    "tukeyhsd = mc.tukeyhsd(alpha=0.05)\n",
    "fig = tukeyhsd.plot_simultaneous()"
   ]
  },
  {
   "cell_type": "code",
   "execution_count": 100,
   "metadata": {},
   "outputs": [
    {
     "data": {
      "text/html": [
       "<table class=\"simpletable\">\n",
       "<caption>Multiple Comparison of Means - Tukey HSD, FWER=0.05</caption>\n",
       "<tr>\n",
       "  <th>group1</th> <th>group2</th> <th>meandiff</th>  <th>p-adj</th>   <th>lower</th>   <th>upper</th>  <th>reject</th>\n",
       "</tr>\n",
       "<tr>\n",
       "     <td>A</td>      <td>B</td>    <td>5.3934</td>   <td>0.001</td>  <td>2.1785</td>  <td>8.6083</td>   <td>True</td> \n",
       "</tr>\n",
       "<tr>\n",
       "     <td>A</td>      <td>C</td>    <td>-4.2156</td> <td>0.0085</td>  <td>-7.4305</td> <td>-1.0007</td>  <td>True</td> \n",
       "</tr>\n",
       "<tr>\n",
       "     <td>A</td>      <td>D</td>    <td>-0.7086</td> <td>0.9207</td>  <td>-3.9235</td> <td>2.5063</td>   <td>False</td>\n",
       "</tr>\n",
       "<tr>\n",
       "     <td>B</td>      <td>C</td>    <td>-9.609</td>    <td>0.0</td>  <td>-12.8239</td> <td>-6.3941</td>  <td>True</td> \n",
       "</tr>\n",
       "<tr>\n",
       "     <td>B</td>      <td>D</td>    <td>-6.102</td>  <td>0.0003</td>  <td>-9.3169</td> <td>-2.8871</td>  <td>True</td> \n",
       "</tr>\n",
       "<tr>\n",
       "     <td>C</td>      <td>D</td>     <td>3.507</td>  <td>0.0302</td>  <td>0.2921</td>  <td>6.7219</td>   <td>True</td> \n",
       "</tr>\n",
       "</table>"
      ],
      "text/plain": [
       "<class 'statsmodels.iolib.table.SimpleTable'>"
      ]
     },
     "execution_count": 100,
     "metadata": {},
     "output_type": "execute_result"
    }
   ],
   "source": [
    "tukeyhsd.summary()"
   ]
  },
  {
   "cell_type": "code",
   "execution_count": 101,
   "metadata": {},
   "outputs": [
    {
     "name": "stdout",
     "output_type": "stream",
     "text": [
      "Tukey HSD method는 가장 강력한 사후 분석 방법이지만, 각 집단의 sample 개수가 모두 동일해야 한다. 이 데이터의 경우 각 그룹의 sample 개수가 모두 동일하므로, Tukey method를 사용한다.\n",
      "Tukey HSD 분석 결과 그룹 A와 그룹 D의 평균에는 차이가 없는 것으로 보이며, 그룹 B, 그룹 C는 모든 각 pair 검정에서 평균의 차이가 있는 것으로 나타났다.\n",
      "그러므로, 각 그룹의 평균은 (A, D) (B) (C)로 묶을 수 있다.\n"
     ]
    }
   ],
   "source": [
    "print('Tukey HSD method는 가장 강력한 사후 분석 방법이지만, 각 집단의 sample 개수가 모두 동일해야 한다. 이 데이터의 경우 각 그룹의 sample 개수가 모두 동일하므로, Tukey method를 사용한다.')\n",
    "print('Tukey HSD 분석 결과 그룹 A와 그룹 D의 평균에는 차이가 없는 것으로 보이며, 그룹 B, 그룹 C는 모든 각 pair 검정에서 평균의 차이가 있는 것으로 나타났다.')\n",
    "print('그러므로, 각 그룹의 평균은 (A, D) (B) (C)로 묶을 수 있다.')"
   ]
  },
  {
   "cell_type": "markdown",
   "metadata": {},
   "source": [
    "## 8. L1,L2,L3 세 개의 생산라인에서 각각 13%, 37%, 50%를 생산하며 각각 1.1% , 2.1%, 3.3% 불량률을 갖는다. 불량 제품이 나왔을 때 L1 라인에서 생산되었을 확률을 구하시오. (소수점 둘째자리에서 반올림)"
   ]
  },
  {
   "cell_type": "code",
   "execution_count": 102,
   "metadata": {},
   "outputs": [
    {
     "data": {
      "text/plain": [
       "0.06"
      ]
     },
     "execution_count": 102,
     "metadata": {},
     "output_type": "execute_result"
    }
   ],
   "source": [
    "### 전체 관점에서의 불량률 계산\n",
    "# P(불량 | L1) = 0.011\n",
    "# P(불량 | L2) = 0.021\n",
    "# P(불량 | L3) = 0.033\n",
    "# P(L1 | 불량) = P(L1)*P(불량 | L1)/P(L1)*P(불량 | L1) + P(L2)*P(불량 | L2) + P(L3)*P(불량 | L3)\n",
    "round((0.011*0.13) / ((0.011*0.13) + (0.021*0.37) + (0.033*0.5)), 2) # 0.06. 6%"
   ]
  },
  {
   "cell_type": "markdown",
   "metadata": {},
   "source": [
    "created by datamanim [web-link](https://www.datamanim.com)"
   ]
  }
 ],
 "metadata": {
  "kernelspec": {
   "display_name": "Python 3",
   "language": "python",
   "name": "python3"
  },
  "language_info": {
   "codemirror_mode": {
    "name": "ipython",
    "version": 3
   },
   "file_extension": ".py",
   "mimetype": "text/x-python",
   "name": "python",
   "nbconvert_exporter": "python",
   "pygments_lexer": "ipython3",
   "version": "3.7.6"
  }
 },
 "nbformat": 4,
 "nbformat_minor": 5
}
