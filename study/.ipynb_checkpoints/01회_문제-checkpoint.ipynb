{
 "cells": [
  {
   "cell_type": "markdown",
   "id": "ad2681d2-2b6a-46c1-928a-8b170c0b1750",
   "metadata": {},
   "source": [
    "# 21회 모의고사\n",
    "\n",
    "## 머신 러닝 (50점)\n",
    "데이터 : 학생 성적에 관한 데이터세트 제공 394행짜리 소규모 데이터.\n",
    "\n",
    "1-1. 시각화 포함 탐색적 자료분석을 시행하시오. (EDA) <br>\n",
    "1-2. 결측치 식별하고 결측치를 예측하는 두 가지 방법 정도를 쓰고, 선택한 이유를 설명하시오.<br>\n",
    "1-3. 범주형 변수 인코딩이 필요한 경우를 식별하고, 변환을 적용하시오. 선택한 이유를 설명하시오.<br>\n",
    "1.4. 데이터 분할 방법을 2가지 쓰고 적절한 데이터 분할을 적용. 선택한 이유 설명하시오.<br>\n",
    "1.5. svm, xgboost, randomforest 3개의 알고리즘 공통점을 쓰고 학생성적 예측 분석에 적합한 알고리즘인지 설명하시오.<br>\n",
    "1.6. 세 가지 모델 모두 모델링 해보고 가장 적합한 알고리즘 선택하고 이유 설명. 한계점 설명하고 보완 가능한 부분 설명하고, <br>\n",
    "현업에서 사용시 주의할 점 등에 대해 기술하시오.<br>"
   ]
  },
  {
   "cell_type": "code",
   "execution_count": 62,
   "id": "5f5993b7-7806-4028-a816-fd2259afbbbf",
   "metadata": {},
   "outputs": [],
   "source": [
    "import pandas as pd\n",
    "import numpy as np\n",
    "\n",
    "import matplotlib.pyplot as plt\n",
    "import seaborn as sns\n",
    "\n",
    "import scipy.stats as stats"
   ]
  },
  {
   "cell_type": "code",
   "execution_count": 131,
   "id": "eac05bd2-fbf5-44b4-870d-e72bd442bf95",
   "metadata": {},
   "outputs": [
    {
     "data": {
      "text/html": [
       "<div>\n",
       "<style scoped>\n",
       "    .dataframe tbody tr th:only-of-type {\n",
       "        vertical-align: middle;\n",
       "    }\n",
       "\n",
       "    .dataframe tbody tr th {\n",
       "        vertical-align: top;\n",
       "    }\n",
       "\n",
       "    .dataframe thead th {\n",
       "        text-align: right;\n",
       "    }\n",
       "</style>\n",
       "<table border=\"1\" class=\"dataframe\">\n",
       "  <thead>\n",
       "    <tr style=\"text-align: right;\">\n",
       "      <th></th>\n",
       "      <th>school</th>\n",
       "      <th>sex</th>\n",
       "      <th>paid</th>\n",
       "      <th>activities</th>\n",
       "      <th>famrel</th>\n",
       "      <th>freetime</th>\n",
       "      <th>goout</th>\n",
       "      <th>Dalc</th>\n",
       "      <th>Walc</th>\n",
       "      <th>health</th>\n",
       "      <th>absences</th>\n",
       "      <th>grade</th>\n",
       "      <th>G1</th>\n",
       "      <th>G2</th>\n",
       "    </tr>\n",
       "  </thead>\n",
       "  <tbody>\n",
       "    <tr>\n",
       "      <th>0</th>\n",
       "      <td>GP</td>\n",
       "      <td>F</td>\n",
       "      <td>no</td>\n",
       "      <td>no</td>\n",
       "      <td>4.0</td>\n",
       "      <td>3.0</td>\n",
       "      <td>4.0</td>\n",
       "      <td>1.0</td>\n",
       "      <td>1.0</td>\n",
       "      <td>3.0</td>\n",
       "      <td>6.0</td>\n",
       "      <td>6</td>\n",
       "      <td>5</td>\n",
       "      <td>6</td>\n",
       "    </tr>\n",
       "    <tr>\n",
       "      <th>1</th>\n",
       "      <td>GP</td>\n",
       "      <td>F</td>\n",
       "      <td>no</td>\n",
       "      <td>no</td>\n",
       "      <td>5.0</td>\n",
       "      <td>3.0</td>\n",
       "      <td>3.0</td>\n",
       "      <td>1.0</td>\n",
       "      <td>1.0</td>\n",
       "      <td>3.0</td>\n",
       "      <td>4.0</td>\n",
       "      <td>5</td>\n",
       "      <td>5</td>\n",
       "      <td>5</td>\n",
       "    </tr>\n",
       "    <tr>\n",
       "      <th>2</th>\n",
       "      <td>GP</td>\n",
       "      <td>F</td>\n",
       "      <td>yes</td>\n",
       "      <td>no</td>\n",
       "      <td>4.0</td>\n",
       "      <td>3.0</td>\n",
       "      <td>2.0</td>\n",
       "      <td>2.0</td>\n",
       "      <td>3.0</td>\n",
       "      <td>3.0</td>\n",
       "      <td>10.0</td>\n",
       "      <td>8</td>\n",
       "      <td>7</td>\n",
       "      <td>8</td>\n",
       "    </tr>\n",
       "    <tr>\n",
       "      <th>3</th>\n",
       "      <td>GP</td>\n",
       "      <td>F</td>\n",
       "      <td>yes</td>\n",
       "      <td>yes</td>\n",
       "      <td>3.0</td>\n",
       "      <td>2.0</td>\n",
       "      <td>2.0</td>\n",
       "      <td>1.0</td>\n",
       "      <td>1.0</td>\n",
       "      <td>5.0</td>\n",
       "      <td>2.0</td>\n",
       "      <td>15</td>\n",
       "      <td>15</td>\n",
       "      <td>14</td>\n",
       "    </tr>\n",
       "    <tr>\n",
       "      <th>4</th>\n",
       "      <td>GP</td>\n",
       "      <td>F</td>\n",
       "      <td>yes</td>\n",
       "      <td>no</td>\n",
       "      <td>4.0</td>\n",
       "      <td>3.0</td>\n",
       "      <td>2.0</td>\n",
       "      <td>1.0</td>\n",
       "      <td>2.0</td>\n",
       "      <td>5.0</td>\n",
       "      <td>4.0</td>\n",
       "      <td>9</td>\n",
       "      <td>6</td>\n",
       "      <td>10</td>\n",
       "    </tr>\n",
       "    <tr>\n",
       "      <th>...</th>\n",
       "      <td>...</td>\n",
       "      <td>...</td>\n",
       "      <td>...</td>\n",
       "      <td>...</td>\n",
       "      <td>...</td>\n",
       "      <td>...</td>\n",
       "      <td>...</td>\n",
       "      <td>...</td>\n",
       "      <td>...</td>\n",
       "      <td>...</td>\n",
       "      <td>...</td>\n",
       "      <td>...</td>\n",
       "      <td>...</td>\n",
       "      <td>...</td>\n",
       "    </tr>\n",
       "    <tr>\n",
       "      <th>390</th>\n",
       "      <td>MS</td>\n",
       "      <td>M</td>\n",
       "      <td>yes</td>\n",
       "      <td>no</td>\n",
       "      <td>5.0</td>\n",
       "      <td>5.0</td>\n",
       "      <td>4.0</td>\n",
       "      <td>4.0</td>\n",
       "      <td>5.0</td>\n",
       "      <td>4.0</td>\n",
       "      <td>11.0</td>\n",
       "      <td>9</td>\n",
       "      <td>9</td>\n",
       "      <td>9</td>\n",
       "    </tr>\n",
       "    <tr>\n",
       "      <th>391</th>\n",
       "      <td>MS</td>\n",
       "      <td>M</td>\n",
       "      <td>no</td>\n",
       "      <td>no</td>\n",
       "      <td>2.0</td>\n",
       "      <td>4.0</td>\n",
       "      <td>5.0</td>\n",
       "      <td>3.0</td>\n",
       "      <td>4.0</td>\n",
       "      <td>2.0</td>\n",
       "      <td>3.0</td>\n",
       "      <td>15</td>\n",
       "      <td>14</td>\n",
       "      <td>16</td>\n",
       "    </tr>\n",
       "    <tr>\n",
       "      <th>392</th>\n",
       "      <td>MS</td>\n",
       "      <td>M</td>\n",
       "      <td>no</td>\n",
       "      <td>no</td>\n",
       "      <td>5.0</td>\n",
       "      <td>5.0</td>\n",
       "      <td>3.0</td>\n",
       "      <td>3.0</td>\n",
       "      <td>3.0</td>\n",
       "      <td>3.0</td>\n",
       "      <td>3.0</td>\n",
       "      <td>8</td>\n",
       "      <td>10</td>\n",
       "      <td>8</td>\n",
       "    </tr>\n",
       "    <tr>\n",
       "      <th>393</th>\n",
       "      <td>MS</td>\n",
       "      <td>M</td>\n",
       "      <td>no</td>\n",
       "      <td>no</td>\n",
       "      <td>4.0</td>\n",
       "      <td>4.0</td>\n",
       "      <td>1.0</td>\n",
       "      <td>3.0</td>\n",
       "      <td>4.0</td>\n",
       "      <td>5.0</td>\n",
       "      <td>0.0</td>\n",
       "      <td>11</td>\n",
       "      <td>11</td>\n",
       "      <td>12</td>\n",
       "    </tr>\n",
       "    <tr>\n",
       "      <th>394</th>\n",
       "      <td>MS</td>\n",
       "      <td>M</td>\n",
       "      <td>no</td>\n",
       "      <td>no</td>\n",
       "      <td>3.0</td>\n",
       "      <td>2.0</td>\n",
       "      <td>3.0</td>\n",
       "      <td>3.0</td>\n",
       "      <td>3.0</td>\n",
       "      <td>5.0</td>\n",
       "      <td>5.0</td>\n",
       "      <td>9</td>\n",
       "      <td>8</td>\n",
       "      <td>9</td>\n",
       "    </tr>\n",
       "  </tbody>\n",
       "</table>\n",
       "<p>395 rows × 14 columns</p>\n",
       "</div>"
      ],
      "text/plain": [
       "    school sex paid activities  famrel  freetime  goout  Dalc  Walc  health  \\\n",
       "0       GP   F   no         no     4.0       3.0    4.0   1.0   1.0     3.0   \n",
       "1       GP   F   no         no     5.0       3.0    3.0   1.0   1.0     3.0   \n",
       "2       GP   F  yes         no     4.0       3.0    2.0   2.0   3.0     3.0   \n",
       "3       GP   F  yes        yes     3.0       2.0    2.0   1.0   1.0     5.0   \n",
       "4       GP   F  yes         no     4.0       3.0    2.0   1.0   2.0     5.0   \n",
       "..     ...  ..  ...        ...     ...       ...    ...   ...   ...     ...   \n",
       "390     MS   M  yes         no     5.0       5.0    4.0   4.0   5.0     4.0   \n",
       "391     MS   M   no         no     2.0       4.0    5.0   3.0   4.0     2.0   \n",
       "392     MS   M   no         no     5.0       5.0    3.0   3.0   3.0     3.0   \n",
       "393     MS   M   no         no     4.0       4.0    1.0   3.0   4.0     5.0   \n",
       "394     MS   M   no         no     3.0       2.0    3.0   3.0   3.0     5.0   \n",
       "\n",
       "     absences  grade  G1  G2  \n",
       "0         6.0      6   5   6  \n",
       "1         4.0      5   5   5  \n",
       "2        10.0      8   7   8  \n",
       "3         2.0     15  15  14  \n",
       "4         4.0      9   6  10  \n",
       "..        ...    ...  ..  ..  \n",
       "390      11.0      9   9   9  \n",
       "391       3.0     15  14  16  \n",
       "392       3.0      8  10   8  \n",
       "393       0.0     11  11  12  \n",
       "394       5.0      9   8   9  \n",
       "\n",
       "[395 rows x 14 columns]"
      ]
     },
     "execution_count": 131,
     "metadata": {},
     "output_type": "execute_result"
    }
   ],
   "source": [
    "df = pd.read_csv(\"./ADP_book_ver01/data/student_data.csv\")\n",
    "df"
   ]
  },
  {
   "cell_type": "markdown",
   "id": "77529587-6337-465e-85ed-2572b7ae948c",
   "metadata": {},
   "source": [
    "## 1-1. 시각화 포함 탐색적 자료분석(EDA)"
   ]
  },
  {
   "cell_type": "code",
   "execution_count": 132,
   "id": "70fb9c10-757d-4bf6-b521-abb926a08e12",
   "metadata": {},
   "outputs": [
    {
     "name": "stdout",
     "output_type": "stream",
     "text": [
      "<class 'pandas.core.frame.DataFrame'>\n",
      "RangeIndex: 395 entries, 0 to 394\n",
      "Data columns (total 14 columns):\n",
      " #   Column      Non-Null Count  Dtype  \n",
      "---  ------      --------------  -----  \n",
      " 0   school      395 non-null    object \n",
      " 1   sex         395 non-null    object \n",
      " 2   paid        395 non-null    object \n",
      " 3   activities  395 non-null    object \n",
      " 4   famrel      394 non-null    float64\n",
      " 5   freetime    393 non-null    float64\n",
      " 6   goout       392 non-null    float64\n",
      " 7   Dalc        391 non-null    float64\n",
      " 8   Walc        393 non-null    float64\n",
      " 9   health      391 non-null    float64\n",
      " 10  absences    392 non-null    float64\n",
      " 11  grade       395 non-null    int64  \n",
      " 12  G1          395 non-null    int64  \n",
      " 13  G2          395 non-null    int64  \n",
      "dtypes: float64(7), int64(3), object(4)\n",
      "memory usage: 43.3+ KB\n"
     ]
    }
   ],
   "source": [
    "df.info()"
   ]
  },
  {
   "cell_type": "code",
   "execution_count": 133,
   "id": "edf3ae35-5cf0-4fc2-aadd-35cc8434b1af",
   "metadata": {},
   "outputs": [
    {
     "data": {
      "text/plain": [
       "(395, 14)"
      ]
     },
     "execution_count": 133,
     "metadata": {},
     "output_type": "execute_result"
    }
   ],
   "source": [
    "df.shape"
   ]
  },
  {
   "cell_type": "code",
   "execution_count": 134,
   "id": "7ed6570e-140c-4140-9b06-2c19c617bec8",
   "metadata": {},
   "outputs": [
    {
     "name": "stdout",
     "output_type": "stream",
     "text": [
      "총 데이터 개수는 294개이며, 변수의 개수는 종속 변수를 포함하여 총 14개이다.\n",
      "이 중 범주형으로 보이는 변수는 school, sex, paid, activities 4가지이며, 나머지 변수는 수치형 변수이다. 범주형 변수는 Barplot으로, 수치형 변수는 Boxplot으로 변수의 분포를 시각화한다.\n"
     ]
    }
   ],
   "source": [
    "print('총 데이터 개수는 294개이며, 변수의 개수는 종속 변수를 포함하여 총 14개이다.')\n",
    "print('이 중 범주형으로 보이는 변수는 school, sex, paid, activities 4가지이며, 나머지 변수는 수치형 변수이다. 범주형 변수는 Barplot으로, 수치형 변수는 Boxplot으로 변수의 분포를 시각화한다.')"
   ]
  },
  {
   "cell_type": "code",
   "execution_count": 135,
   "id": "b49b4ce1-4791-4707-b38f-89806cea341f",
   "metadata": {},
   "outputs": [
    {
     "data": {
      "image/png": "[encoded data removed]",
      "text/plain": [
       "<Figure size 2000x600 with 4 Axes>"
      ]
     },
     "metadata": {},
     "output_type": "display_data"
    },
    {
     "name": "stdout",
     "output_type": "stream",
     "text": [
      "먼저, 범주형 변수들의 분포를 살펴보면, school 변수의 클래스 불균형이 눈에 띈다. 나머지 변수의 분포는 대체적으로 고른 편이다.\n"
     ]
    }
   ],
   "source": [
    "cat_col = [\"school\", \"sex\", \"paid\", \"activities\"]\n",
    "\n",
    "fig, axes = plt.subplots(ncols=4, figsize=(20, 6))\n",
    "for i, col in enumerate(cat_col):\n",
    "    sns.countplot(x=col, data=df, ax=axes[i])\n",
    "plt.show()\n",
    "print(\"먼저, 범주형 변수들의 분포를 살펴보면, school 변수의 클래스 불균형이 눈에 띈다. 나머지 변수의 분포는 대체적으로 고른 편이다.\")"
   ]
  },
  {
   "cell_type": "code",
   "execution_count": 136,
   "id": "1b6e8e23-37f6-43b7-b9ae-eac3d66ccf04",
   "metadata": {},
   "outputs": [
    {
     "data": {
      "image/png": "[encoded data removed]",
      "text/plain": [
       "<Figure size 2000x600 with 10 Axes>"
      ]
     },
     "metadata": {},
     "output_type": "display_data"
    },
    {
     "name": "stdout",
     "output_type": "stream",
     "text": [
      "Boxplot으로 수치형 변수들의 분포를 확인해 보니, absences의 이상치 개수가 특히 눈에 띈다. 일부 학생들이 결석을 집중적으로 많이 하는 케이스로 생각되며, 이상치의 영향을 고려한 분석이 필요하다.\n"
     ]
    }
   ],
   "source": [
    "fig, axes = plt.subplots(nrows=2, ncols=5, figsize=(20, 6))\n",
    "for i, col in enumerate(df.columns.difference(['grade'] + cat_col)):\n",
    "    row_ = i//5\n",
    "    col_ = i%5\n",
    "    sns.boxplot(x=col, data=df, ax=axes[row_][col_])\n",
    "plt.show()\n",
    "print(\"Boxplot으로 수치형 변수들의 분포를 확인해 보니, absences의 이상치 개수가 특히 눈에 띈다. 일부 학생들이 결석을 집중적으로 많이 하는 케이스로 생각되며, 이상치의 영향을 고려한 분석이 필요하다.\")"
   ]
  },
  {
   "cell_type": "code",
   "execution_count": 137,
   "id": "db349479-9bcf-46d0-87a6-79066f4c37e6",
   "metadata": {},
   "outputs": [
    {
     "data": {
      "image/png": "[encoded data removed]",
      "text/plain": [
       "<Figure size 640x480 with 1 Axes>"
      ]
     },
     "metadata": {},
     "output_type": "display_data"
    },
    {
     "name": "stdout",
     "output_type": "stream",
     "text": [
      "학생의 grade 분포는 모양을 봤을 때 거의 정규분포에 가까운 종 모양이며, 평균은 10.660759493670886으로 중간에 위치한다.\n"
     ]
    }
   ],
   "source": [
    "sns.countplot(x='grade', data=df)\n",
    "plt.show()\n",
    "\n",
    "print(f\"학생의 grade 분포는 모양을 봤을 때 거의 정규분포에 가까운 종 모양이며, 평균은 {df.grade.mean()}으로 중간에 위치한다.\")"
   ]
  },
  {
   "cell_type": "markdown",
   "id": "ffc5c83f-3e99-40b6-ab31-4404616d8d75",
   "metadata": {},
   "source": [
    "## 1-2. 결측치 식별하고 결측치를 예측하는 두 가지 방법 정도를 쓰고, 선택한 이유를 설명하시오.\n"
   ]
  },
  {
   "cell_type": "code",
   "execution_count": 138,
   "id": "ddbf4e64-c8dc-4d3e-b355-7dbd6712ee4f",
   "metadata": {},
   "outputs": [
    {
     "data": {
      "text/plain": [
       "school        0\n",
       "sex           0\n",
       "paid          0\n",
       "activities    0\n",
       "famrel        1\n",
       "freetime      2\n",
       "goout         3\n",
       "Dalc          4\n",
       "Walc          2\n",
       "health        4\n",
       "absences      3\n",
       "grade         0\n",
       "G1            0\n",
       "G2            0\n",
       "dtype: int64"
      ]
     },
     "execution_count": 138,
     "metadata": {},
     "output_type": "execute_result"
    }
   ],
   "source": [
    "df.isna().sum()"
   ]
  },
  {
   "cell_type": "code",
   "execution_count": 139,
   "id": "35ccf210-ac18-48f9-8f8c-ff9c74552fde",
   "metadata": {},
   "outputs": [
    {
     "name": "stdout",
     "output_type": "stream",
     "text": [
      "famrel, freetime, goout, Dalc, Walc, health, absences 변수에서 이상치가 발견되었다. 이를 처리하고 예측하는 방법으로는 단순 평균 대치와 특정 값 대치, KNN-Imputer를 사용하는 것이 있다.\n",
      "모든 변수가 K-NN 적용이 용이한 연속형 변수이고, 데이터의 분포와 특성을 고려한 인접 이웃의 값으로 결측치를 보정하는 것이 가장 합리적일 것이라는 생각이 들어 KNN-Imputer를 선택하였다.\n"
     ]
    }
   ],
   "source": [
    "print(\"famrel, freetime, goout, Dalc, Walc, health, absences 변수에서 이상치가 발견되었다. 이를 처리하고 예측하는 방법으로는 단순 평균 대치와 특정 값 대치, KNN-Imputer를 사용하는 것이 있다.\")\n",
    "print(\"모든 변수가 K-NN 적용이 용이한 연속형 변수이고, 데이터의 분포와 특성을 고려한 인접 이웃의 값으로 결측치를 보정하는 것이 가장 합리적일 것이라는 생각이 들어 KNN-Imputer를 선택하였다.\")"
   ]
  },
  {
   "cell_type": "code",
   "execution_count": 140,
   "id": "ff5f8fb9-f467-4bed-b0b2-7247ff2f1a47",
   "metadata": {},
   "outputs": [],
   "source": [
    "from sklearn.impute import KNNImputer\n",
    "\n",
    "imputer = KNNImputer()\n",
    "imputed = pd.DataFrame(imputer.fit_transform(df.loc[:, df.columns.difference(['grade'] + cat_col)]), columns=df.columns.difference(['grade'] + cat_col))\n",
    "\n",
    "for col in imputed.columns:\n",
    "    df.loc[:, col] = imputed[col]"
   ]
  },
  {
   "cell_type": "code",
   "execution_count": 141,
   "id": "cd386c1a-5013-42ce-b5c4-632718c582b9",
   "metadata": {},
   "outputs": [
    {
     "data": {
      "text/plain": [
       "school        0\n",
       "sex           0\n",
       "paid          0\n",
       "activities    0\n",
       "famrel        0\n",
       "freetime      0\n",
       "goout         0\n",
       "Dalc          0\n",
       "Walc          0\n",
       "health        0\n",
       "absences      0\n",
       "grade         0\n",
       "G1            0\n",
       "G2            0\n",
       "dtype: int64"
      ]
     },
     "execution_count": 141,
     "metadata": {},
     "output_type": "execute_result"
    }
   ],
   "source": [
    "df.isna().sum()"
   ]
  },
  {
   "cell_type": "code",
   "execution_count": 142,
   "id": "eaac962a-3070-47ca-a6b4-eeff24e682ba",
   "metadata": {},
   "outputs": [
    {
     "name": "stdout",
     "output_type": "stream",
     "text": [
      "Imputer 적용 후, 모든 변수의 이상치가 제거된 것을 확인하였다.\n"
     ]
    }
   ],
   "source": [
    "print(\"Imputer 적용 후, 모든 변수의 이상치가 제거된 것을 확인하였다.\")"
   ]
  },
  {
   "cell_type": "markdown",
   "id": "227f22b2-5e05-4b3d-9f6a-0d929d4378bf",
   "metadata": {},
   "source": [
    "## 1-3. 범주형 변수 인코딩이 필요한 경우를 식별하고, 변환을 적용하시오. 선택한 이유를 설명."
   ]
  },
  {
   "cell_type": "code",
   "execution_count": 143,
   "id": "a6fd195d-b2d9-4336-a1cc-94235884d3ec",
   "metadata": {},
   "outputs": [
    {
     "name": "stdout",
     "output_type": "stream",
     "text": [
      "현재 데이터의 범주형 변수는 school, sex, paid, activities 4개 있으며, 모두 문자로 되어 있어 모델이 처리할 수 없는 형태이다. 이를 모델이 이해할 수 있는 형태로 변형해야 한다.\n",
      "범주형 변수를 카테고리의 유무로 표현하는 One-hot encoding을 적용하여 범주형 변수들을 변환한다.\n",
      "변환 후, 카테고리 변수들이 1과 0으로 표현된 것을 확인할 수 있으며, 이를 수치형 테이블과 합하여 새로운 테이블을 구성한다.\n"
     ]
    }
   ],
   "source": [
    "print(\"현재 데이터의 범주형 변수는 school, sex, paid, activities 4개 있으며, 모두 문자로 되어 있어 모델이 처리할 수 없는 형태이다. 이를 모델이 이해할 수 있는 형태로 변형해야 한다.\")\n",
    "print(\"범주형 변수를 카테고리의 유무로 표현하는 One-hot encoding을 적용하여 범주형 변수들을 변환한다.\")\n",
    "print(\"변환 후, 카테고리 변수들이 1과 0으로 표현된 것을 확인할 수 있으며, 이를 수치형 테이블과 합하여 새로운 테이블을 구성한다.\")"
   ]
  },
  {
   "cell_type": "code",
   "execution_count": 144,
   "id": "89373b20-43ec-4a76-a6ff-e4f9f42e0892",
   "metadata": {},
   "outputs": [
    {
     "data": {
      "text/html": [
       "<div>\n",
       "<style scoped>\n",
       "    .dataframe tbody tr th:only-of-type {\n",
       "        vertical-align: middle;\n",
       "    }\n",
       "\n",
       "    .dataframe tbody tr th {\n",
       "        vertical-align: top;\n",
       "    }\n",
       "\n",
       "    .dataframe thead th {\n",
       "        text-align: right;\n",
       "    }\n",
       "</style>\n",
       "<table border=\"1\" class=\"dataframe\">\n",
       "  <thead>\n",
       "    <tr style=\"text-align: right;\">\n",
       "      <th></th>\n",
       "      <th>school_GP</th>\n",
       "      <th>school_MS</th>\n",
       "      <th>sex_F</th>\n",
       "      <th>sex_M</th>\n",
       "      <th>paid_no</th>\n",
       "      <th>paid_yes</th>\n",
       "      <th>activities_no</th>\n",
       "      <th>activities_yes</th>\n",
       "    </tr>\n",
       "  </thead>\n",
       "  <tbody>\n",
       "    <tr>\n",
       "      <th>0</th>\n",
       "      <td>1</td>\n",
       "      <td>0</td>\n",
       "      <td>1</td>\n",
       "      <td>0</td>\n",
       "      <td>1</td>\n",
       "      <td>0</td>\n",
       "      <td>1</td>\n",
       "      <td>0</td>\n",
       "    </tr>\n",
       "    <tr>\n",
       "      <th>1</th>\n",
       "      <td>1</td>\n",
       "      <td>0</td>\n",
       "      <td>1</td>\n",
       "      <td>0</td>\n",
       "      <td>1</td>\n",
       "      <td>0</td>\n",
       "      <td>1</td>\n",
       "      <td>0</td>\n",
       "    </tr>\n",
       "    <tr>\n",
       "      <th>2</th>\n",
       "      <td>1</td>\n",
       "      <td>0</td>\n",
       "      <td>1</td>\n",
       "      <td>0</td>\n",
       "      <td>0</td>\n",
       "      <td>1</td>\n",
       "      <td>1</td>\n",
       "      <td>0</td>\n",
       "    </tr>\n",
       "    <tr>\n",
       "      <th>3</th>\n",
       "      <td>1</td>\n",
       "      <td>0</td>\n",
       "      <td>1</td>\n",
       "      <td>0</td>\n",
       "      <td>0</td>\n",
       "      <td>1</td>\n",
       "      <td>0</td>\n",
       "      <td>1</td>\n",
       "    </tr>\n",
       "    <tr>\n",
       "      <th>4</th>\n",
       "      <td>1</td>\n",
       "      <td>0</td>\n",
       "      <td>1</td>\n",
       "      <td>0</td>\n",
       "      <td>0</td>\n",
       "      <td>1</td>\n",
       "      <td>1</td>\n",
       "      <td>0</td>\n",
       "    </tr>\n",
       "    <tr>\n",
       "      <th>...</th>\n",
       "      <td>...</td>\n",
       "      <td>...</td>\n",
       "      <td>...</td>\n",
       "      <td>...</td>\n",
       "      <td>...</td>\n",
       "      <td>...</td>\n",
       "      <td>...</td>\n",
       "      <td>...</td>\n",
       "    </tr>\n",
       "    <tr>\n",
       "      <th>390</th>\n",
       "      <td>0</td>\n",
       "      <td>1</td>\n",
       "      <td>0</td>\n",
       "      <td>1</td>\n",
       "      <td>0</td>\n",
       "      <td>1</td>\n",
       "      <td>1</td>\n",
       "      <td>0</td>\n",
       "    </tr>\n",
       "    <tr>\n",
       "      <th>391</th>\n",
       "      <td>0</td>\n",
       "      <td>1</td>\n",
       "      <td>0</td>\n",
       "      <td>1</td>\n",
       "      <td>1</td>\n",
       "      <td>0</td>\n",
       "      <td>1</td>\n",
       "      <td>0</td>\n",
       "    </tr>\n",
       "    <tr>\n",
       "      <th>392</th>\n",
       "      <td>0</td>\n",
       "      <td>1</td>\n",
       "      <td>0</td>\n",
       "      <td>1</td>\n",
       "      <td>1</td>\n",
       "      <td>0</td>\n",
       "      <td>1</td>\n",
       "      <td>0</td>\n",
       "    </tr>\n",
       "    <tr>\n",
       "      <th>393</th>\n",
       "      <td>0</td>\n",
       "      <td>1</td>\n",
       "      <td>0</td>\n",
       "      <td>1</td>\n",
       "      <td>1</td>\n",
       "      <td>0</td>\n",
       "      <td>1</td>\n",
       "      <td>0</td>\n",
       "    </tr>\n",
       "    <tr>\n",
       "      <th>394</th>\n",
       "      <td>0</td>\n",
       "      <td>1</td>\n",
       "      <td>0</td>\n",
       "      <td>1</td>\n",
       "      <td>1</td>\n",
       "      <td>0</td>\n",
       "      <td>1</td>\n",
       "      <td>0</td>\n",
       "    </tr>\n",
       "  </tbody>\n",
       "</table>\n",
       "<p>395 rows × 8 columns</p>\n",
       "</div>"
      ],
      "text/plain": [
       "     school_GP  school_MS  sex_F  sex_M  paid_no  paid_yes  activities_no  \\\n",
       "0            1          0      1      0        1         0              1   \n",
       "1            1          0      1      0        1         0              1   \n",
       "2            1          0      1      0        0         1              1   \n",
       "3            1          0      1      0        0         1              0   \n",
       "4            1          0      1      0        0         1              1   \n",
       "..         ...        ...    ...    ...      ...       ...            ...   \n",
       "390          0          1      0      1        0         1              1   \n",
       "391          0          1      0      1        1         0              1   \n",
       "392          0          1      0      1        1         0              1   \n",
       "393          0          1      0      1        1         0              1   \n",
       "394          0          1      0      1        1         0              1   \n",
       "\n",
       "     activities_yes  \n",
       "0                 0  \n",
       "1                 0  \n",
       "2                 0  \n",
       "3                 1  \n",
       "4                 0  \n",
       "..              ...  \n",
       "390               0  \n",
       "391               0  \n",
       "392               0  \n",
       "393               0  \n",
       "394               0  \n",
       "\n",
       "[395 rows x 8 columns]"
      ]
     },
     "execution_count": 144,
     "metadata": {},
     "output_type": "execute_result"
    }
   ],
   "source": [
    "dummies = pd.get_dummies(df.loc[:, cat_col])\n",
    "\n",
    "for col in dummies.columns:\n",
    "    dummies[col] = np.where(dummies[col], 1, 0)\n",
    "\n",
    "dummies"
   ]
  },
  {
   "cell_type": "code",
   "execution_count": 145,
   "id": "b04b2b9b-60af-4cbc-9fcc-8066ad61d1dc",
   "metadata": {
    "scrolled": true
   },
   "outputs": [],
   "source": [
    "df = pd.concat([df.loc[:, df.columns.difference(cat_col)], dummies], axis=1)"
   ]
  },
  {
   "cell_type": "markdown",
   "id": "64968b89-bec9-493b-b8b6-fcdd1850f80e",
   "metadata": {},
   "source": [
    "## 1.4. 데이터 분할 방법을 2가지 쓰고 적절한 데이터 분할을 적용. 선택한 이유 설명."
   ]
  },
  {
   "cell_type": "code",
   "execution_count": 147,
   "id": "9cdc76de-421a-48c9-99dc-009e8df0d4a5",
   "metadata": {},
   "outputs": [
    {
     "name": "stdout",
     "output_type": "stream",
     "text": [
      "데이터 분할 방법에는 랜덤 분할과 층화 분할이 있다. 랜덤 분할은 데이터셋을 임의로 사용자가 정한 비율로 나누는 것을 의미하며, 층화 분할은 변수의 class를 고려하여, 동일 비율을 갖도록 하는 분할이다.\n",
      "층화 분할은 train과 test의 클래스 분포를 유사하게 하여, train set의 대표성을 높이고 overfitting의 가능성을 낮출 수 있다. 하지만 본 분석에서는 회귀분석이므로, 층화 분할을 사용하여 클래스의 편향을 막을 필요가 없으므로 랜덤 분할을 사용한다.\n"
     ]
    }
   ],
   "source": [
    "print(\"데이터 분할 방법에는 랜덤 분할과 층화 분할이 있다. 랜덤 분할은 데이터셋을 임의로 사용자가 정한 비율로 나누는 것을 의미하며, 층화 분할은 변수의 class를 고려하여, 동일 비율을 갖도록 하는 분할이다.\")\n",
    "print(\"층화 분할은 train과 test의 클래스 분포를 유사하게 하여, train set의 대표성을 높이고 overfitting의 가능성을 낮출 수 있다. 하지만 본 분석에서는 회귀분석이므로, 층화 분할을 사용하여 클래스의 편향을 막을 필요가 없으므로 랜덤 분할을 사용한다.\")"
   ]
  },
  {
   "cell_type": "code",
   "execution_count": 148,
   "id": "0a244d47-3957-463e-af33-e25725bd6563",
   "metadata": {},
   "outputs": [],
   "source": [
    "from sklearn.model_selection import train_test_split\n",
    "\n",
    "x = df.drop(['grade'], axis=1)\n",
    "y = df['grade']\n",
    "\n",
    "x_train, x_test, y_train, y_test = train_test_split(x, y, test_size=0.2)"
   ]
  },
  {
   "cell_type": "markdown",
   "id": "50e89e9f-931d-4ab6-a601-f1102bc8e46e",
   "metadata": {},
   "source": [
    "## 1.5. svm, xgboost, randomforest 3개의 알고리즘 공통점을 쓰고 이 예측 분석에 적합한 알고리즘인지 설명."
   ]
  },
  {
   "cell_type": "code",
   "execution_count": 116,
   "id": "7c316ab5-8ad6-411b-9734-058de3ab61da",
   "metadata": {},
   "outputs": [
    {
     "name": "stdout",
     "output_type": "stream",
     "text": [
      "세 가지 알고리즘은 분류 모델과 회귀 모델 모두를 구현할 수 있다는 공통점이 있으며, grade 점수를 예측하는 회귀 문제인 이 분석에 모두 적합한 알고리즘으로 판단된다.\n"
     ]
    }
   ],
   "source": [
    "print(\"세 가지 알고리즘은 분류 모델과 회귀 모델 모두를 구현할 수 있다는 공통점이 있으며, grade 점수를 예측하는 회귀 문제인 이 분석에 모두 적합한 알고리즘으로 판단된다.\")"
   ]
  },
  {
   "cell_type": "markdown",
   "id": "02acd7c3-f25b-455a-b3c7-bd9de6c1d703",
   "metadata": {},
   "source": [
    "## 1.6. 세 가지 모델 모두 모델링 해보고 가장 적합한 알고리즘 선택하고 이유 설명. 한계점 설명하고 보완 가능한 부분 설명. 현업에서 사용시 주의할 점 등에 대해 기술."
   ]
  },
  {
   "cell_type": "code",
   "execution_count": 124,
   "id": "8c7689c2-05ec-41e4-b6ec-6733cfcf5142",
   "metadata": {},
   "outputs": [],
   "source": [
    "from sklearn.svm import SVR\n",
    "from sklearn.ensemble import RandomForestRegressor\n",
    "from xgboost import XGBRegressor\n",
    "\n",
    "from sklearn.metrics import mean_squared_error, r2_score"
   ]
  },
  {
   "cell_type": "code",
   "execution_count": 156,
   "id": "8665e489-5758-4f16-9fc1-fa18ce3513a8",
   "metadata": {},
   "outputs": [
    {
     "name": "stdout",
     "output_type": "stream",
     "text": [
      "모델링을 수행하기 전, 수치형 변수에 대하여 각 변수의 scaling을 맞추는 작업을 진행한다. 앞선 EDA에서 이상치의 존재를 확인하였으므로, 이상치의 영향을 적게 받을 수 있는 Robust scaler를 선택한다.\n"
     ]
    }
   ],
   "source": [
    "print(\"모델링을 수행하기 전, 수치형 변수에 대하여 각 변수의 scaling을 맞추는 작업을 진행한다. 앞선 EDA에서 이상치의 존재를 확인하였으므로, 이상치의 영향을 적게 받을 수 있는 Robust scaler를 선택한다.\")"
   ]
  },
  {
   "cell_type": "code",
   "execution_count": 159,
   "id": "9282cfb3-978a-47d5-abba-de1b76a3f163",
   "metadata": {},
   "outputs": [],
   "source": [
    "num_col = x_train.columns.difference(list(dummies.columns))"
   ]
  },
  {
   "cell_type": "code",
   "execution_count": 160,
   "id": "c567f3e1-d6fd-4fb4-963f-f73cc327ff3e",
   "metadata": {},
   "outputs": [],
   "source": [
    "from sklearn.preprocessing import RobustScaler\n",
    "\n",
    "scaler = RobustScaler()\n",
    "\n",
    "x_train_scaled_num = pd.DataFrame(scaler.fit_transform(x_train.loc[:, num_col]), columns=num_col)\n",
    "x_test_scaled_num = pd.DataFrame(scaler.transform(x_test.loc[:, num_col]), columns=num_col)"
   ]
  },
  {
   "cell_type": "code",
   "execution_count": 161,
   "id": "7fe128eb-ed7e-4565-b902-b22e4dfe81d8",
   "metadata": {},
   "outputs": [
    {
     "data": {
      "text/html": [
       "<div>\n",
       "<style scoped>\n",
       "    .dataframe tbody tr th:only-of-type {\n",
       "        vertical-align: middle;\n",
       "    }\n",
       "\n",
       "    .dataframe tbody tr th {\n",
       "        vertical-align: top;\n",
       "    }\n",
       "\n",
       "    .dataframe thead th {\n",
       "        text-align: right;\n",
       "    }\n",
       "</style>\n",
       "<table border=\"1\" class=\"dataframe\">\n",
       "  <thead>\n",
       "    <tr style=\"text-align: right;\">\n",
       "      <th></th>\n",
       "      <th>Dalc</th>\n",
       "      <th>G1</th>\n",
       "      <th>G2</th>\n",
       "      <th>Walc</th>\n",
       "      <th>absences</th>\n",
       "      <th>famrel</th>\n",
       "      <th>freetime</th>\n",
       "      <th>goout</th>\n",
       "      <th>health</th>\n",
       "    </tr>\n",
       "  </thead>\n",
       "  <tbody>\n",
       "    <tr>\n",
       "      <th>0</th>\n",
       "      <td>0.0</td>\n",
       "      <td>-0.8</td>\n",
       "      <td>-2.75</td>\n",
       "      <td>-0.5</td>\n",
       "      <td>-0.3875</td>\n",
       "      <td>1.0</td>\n",
       "      <td>0.0</td>\n",
       "      <td>0.5</td>\n",
       "      <td>0.0</td>\n",
       "    </tr>\n",
       "    <tr>\n",
       "      <th>1</th>\n",
       "      <td>1.0</td>\n",
       "      <td>0.0</td>\n",
       "      <td>0.00</td>\n",
       "      <td>1.5</td>\n",
       "      <td>-0.3875</td>\n",
       "      <td>0.0</td>\n",
       "      <td>0.0</td>\n",
       "      <td>0.5</td>\n",
       "      <td>0.5</td>\n",
       "    </tr>\n",
       "    <tr>\n",
       "      <th>2</th>\n",
       "      <td>0.0</td>\n",
       "      <td>-0.2</td>\n",
       "      <td>-0.50</td>\n",
       "      <td>-0.5</td>\n",
       "      <td>-0.3875</td>\n",
       "      <td>0.0</td>\n",
       "      <td>1.0</td>\n",
       "      <td>0.5</td>\n",
       "      <td>0.0</td>\n",
       "    </tr>\n",
       "    <tr>\n",
       "      <th>3</th>\n",
       "      <td>1.0</td>\n",
       "      <td>1.0</td>\n",
       "      <td>1.00</td>\n",
       "      <td>0.5</td>\n",
       "      <td>-0.3875</td>\n",
       "      <td>-1.0</td>\n",
       "      <td>0.0</td>\n",
       "      <td>0.0</td>\n",
       "      <td>-1.0</td>\n",
       "    </tr>\n",
       "    <tr>\n",
       "      <th>4</th>\n",
       "      <td>3.0</td>\n",
       "      <td>-0.2</td>\n",
       "      <td>-0.50</td>\n",
       "      <td>1.0</td>\n",
       "      <td>0.1125</td>\n",
       "      <td>0.0</td>\n",
       "      <td>1.0</td>\n",
       "      <td>0.5</td>\n",
       "      <td>0.0</td>\n",
       "    </tr>\n",
       "    <tr>\n",
       "      <th>...</th>\n",
       "      <td>...</td>\n",
       "      <td>...</td>\n",
       "      <td>...</td>\n",
       "      <td>...</td>\n",
       "      <td>...</td>\n",
       "      <td>...</td>\n",
       "      <td>...</td>\n",
       "      <td>...</td>\n",
       "      <td>...</td>\n",
       "    </tr>\n",
       "    <tr>\n",
       "      <th>311</th>\n",
       "      <td>0.0</td>\n",
       "      <td>-0.8</td>\n",
       "      <td>-1.00</td>\n",
       "      <td>-0.5</td>\n",
       "      <td>-0.1375</td>\n",
       "      <td>0.0</td>\n",
       "      <td>1.0</td>\n",
       "      <td>0.5</td>\n",
       "      <td>0.5</td>\n",
       "    </tr>\n",
       "    <tr>\n",
       "      <th>312</th>\n",
       "      <td>0.0</td>\n",
       "      <td>0.4</td>\n",
       "      <td>0.75</td>\n",
       "      <td>0.0</td>\n",
       "      <td>0.3625</td>\n",
       "      <td>-1.0</td>\n",
       "      <td>-1.0</td>\n",
       "      <td>0.0</td>\n",
       "      <td>-1.0</td>\n",
       "    </tr>\n",
       "    <tr>\n",
       "      <th>313</th>\n",
       "      <td>0.0</td>\n",
       "      <td>0.8</td>\n",
       "      <td>0.50</td>\n",
       "      <td>-0.5</td>\n",
       "      <td>0.7375</td>\n",
       "      <td>1.0</td>\n",
       "      <td>1.0</td>\n",
       "      <td>0.0</td>\n",
       "      <td>-1.0</td>\n",
       "    </tr>\n",
       "    <tr>\n",
       "      <th>314</th>\n",
       "      <td>1.0</td>\n",
       "      <td>-0.8</td>\n",
       "      <td>-1.25</td>\n",
       "      <td>0.5</td>\n",
       "      <td>0.1125</td>\n",
       "      <td>-1.0</td>\n",
       "      <td>0.0</td>\n",
       "      <td>0.0</td>\n",
       "      <td>-1.0</td>\n",
       "    </tr>\n",
       "    <tr>\n",
       "      <th>315</th>\n",
       "      <td>0.0</td>\n",
       "      <td>-0.6</td>\n",
       "      <td>-0.75</td>\n",
       "      <td>0.0</td>\n",
       "      <td>-0.3875</td>\n",
       "      <td>1.0</td>\n",
       "      <td>0.0</td>\n",
       "      <td>0.0</td>\n",
       "      <td>-1.5</td>\n",
       "    </tr>\n",
       "  </tbody>\n",
       "</table>\n",
       "<p>316 rows × 9 columns</p>\n",
       "</div>"
      ],
      "text/plain": [
       "     Dalc   G1    G2  Walc  absences  famrel  freetime  goout  health\n",
       "0     0.0 -0.8 -2.75  -0.5   -0.3875     1.0       0.0    0.5     0.0\n",
       "1     1.0  0.0  0.00   1.5   -0.3875     0.0       0.0    0.5     0.5\n",
       "2     0.0 -0.2 -0.50  -0.5   -0.3875     0.0       1.0    0.5     0.0\n",
       "3     1.0  1.0  1.00   0.5   -0.3875    -1.0       0.0    0.0    -1.0\n",
       "4     3.0 -0.2 -0.50   1.0    0.1125     0.0       1.0    0.5     0.0\n",
       "..    ...  ...   ...   ...       ...     ...       ...    ...     ...\n",
       "311   0.0 -0.8 -1.00  -0.5   -0.1375     0.0       1.0    0.5     0.5\n",
       "312   0.0  0.4  0.75   0.0    0.3625    -1.0      -1.0    0.0    -1.0\n",
       "313   0.0  0.8  0.50  -0.5    0.7375     1.0       1.0    0.0    -1.0\n",
       "314   1.0 -0.8 -1.25   0.5    0.1125    -1.0       0.0    0.0    -1.0\n",
       "315   0.0 -0.6 -0.75   0.0   -0.3875     1.0       0.0    0.0    -1.5\n",
       "\n",
       "[316 rows x 9 columns]"
      ]
     },
     "execution_count": 161,
     "metadata": {},
     "output_type": "execute_result"
    }
   ],
   "source": [
    "x_train = pd.concat([x_train_scaled_num, dummies], axis=1)"
   ]
  },
  {
   "cell_type": "code",
   "execution_count": 154,
   "id": "d860c386-4054-4c6e-9906-76fe951b8e6a",
   "metadata": {},
   "outputs": [
    {
     "name": "stdout",
     "output_type": "stream",
     "text": [
      "SVR\n",
      "Root MSE: 0.8922902822107854\n",
      "R2 score: 0.9275724858411398\n",
      "\n",
      "RandomForestRegressor\n",
      "Root MSE: 0.723480511577825\n",
      "R2 score: 0.9597218776788592\n",
      "\n",
      "XGBRegressor\n",
      "Root MSE: 0.7538307750601552\n",
      "R2 score: 0.9556300143063786\n",
      "\n"
     ]
    }
   ],
   "source": [
    "svr = SVR()\n",
    "rf = RandomForestRegressor()\n",
    "xgb = XGBRegressor()\n",
    "\n",
    "model_list = [svr, rf, xgb]\n",
    "for model in model_list:\n",
    "    print(str(model.__class__()).split(\"(\")[0])\n",
    "    model.fit(x_train, y_train)\n",
    "    pred = model.predict(x_test)\n",
    "\n",
    "    rmse = mean_squared_error(pred, y_test, squared=False)\n",
    "    r2 = r2_score(pred, y_test)\n",
    "\n",
    "    print(\"Root MSE:\", rmse)\n",
    "    print(\"R2 score:\", r2)\n",
    "    print(\"\")"
   ]
  },
  {
   "cell_type": "code",
   "execution_count": null,
   "id": "68ace2a0-9421-4625-9ff8-049adddf1137",
   "metadata": {},
   "outputs": [],
   "source": [
    "print(\"세 가지 모델을 훈련하고, 테스트 데이터에 대한 R2 score와 Root MSE를 비교해 보니, RandomForest의 R2가 0.96으로 가장 높으며, RMSE는 0.72로 가장 작았다. 새 가지 모델 중에서는 RandomForest 알고리즘이 가장 적합하다고 판단된다.\")\n",
    "print(\"그리고 지금 분석에서는 모든 모델에 대해 기본 파라미터로 학습한 결과이므로, 하이퍼파라미터 튜닝을 진행한다면 최적화된 모델을 도출할 수 있고, 조금 더 나은 성능을 기대해볼 수 있다.\")"
   ]
  },
  {
   "cell_type": "markdown",
   "id": "a1fa81dc-a430-4976-a8a5-8cbf993bf7c9",
   "metadata": {},
   "source": [
    "##  2. 통계분석 (50점) \n",
    "\n",
    "\n",
    "<br>\n",
    "2. 회귀분석 문제. DATA = boston data (연속형 독립변수 1개, 종속변수 1개로 구성된 보스턴 집값 데이터셋)  (총 29점 ) <br>\n",
    "2-1. 데이터 8:2로 분할하고 선형회귀 적용하시오. 결정계수와 rmse 구하시오<br> <br>\n",
    "2-2. 데이터 8:2로 분할하고 릿지 회귀 적용하시오. <br>\n",
    "\n",
    "alpha 값을 0부터 1까지 0.1단위로 모두 탐색해서 결정계수가 가장 높을때의 알파를 찾고, 해당 알파로 다시 모델을 학습해서 결정계수와 rmse를 계산<br> <br>\n",
    "2-3. 데이터 8:2로 분할하고 라쏘 회귀 적용하시오.<br>\n",
    "alpha 값을 0부터 1까지 0.1단위로 모두 탐색해서 결정계수가 가장 높을때의 알파를 찾고, 해당 알파로 다시 모델을 학습해서 결정계수와 rmse를 계산<br>\n"
   ]
  },
  {
   "cell_type": "code",
   "execution_count": 4,
   "id": "9b627b31-8c32-41c3-8fcb-198148b18ad9",
   "metadata": {},
   "outputs": [
    {
     "name": "stderr",
     "output_type": "stream",
     "text": [
      "/Library/Frameworks/Python.framework/Versions/3.8/lib/python3.8/site-packages/sklearn/utils/deprecation.py:87: FutureWarning: Function load_boston is deprecated; `load_boston` is deprecated in 1.0 and will be removed in 1.2.\n",
      "\n",
      "    The Boston housing prices dataset has an ethical problem. You can refer to\n",
      "    the documentation of this function for further details.\n",
      "\n",
      "    The scikit-learn maintainers therefore strongly discourage the use of this\n",
      "    dataset unless the purpose of the code is to study and educate about\n",
      "    ethical issues in data science and machine learning.\n",
      "\n",
      "    In this special case, you can fetch the dataset from the original\n",
      "    source::\n",
      "\n",
      "        import pandas as pd\n",
      "        import numpy as np\n",
      "\n",
      "\n",
      "        data_url = \"http://lib.stat.cmu.edu/datasets/boston\"\n",
      "        raw_df = pd.read_csv(data_url, sep=\"\\s+\", skiprows=22, header=None)\n",
      "        data = np.hstack([raw_df.values[::2, :], raw_df.values[1::2, :2]])\n",
      "        target = raw_df.values[1::2, 2]\n",
      "\n",
      "    Alternative datasets include the California housing dataset (i.e.\n",
      "    :func:`~sklearn.datasets.fetch_california_housing`) and the Ames housing\n",
      "    dataset. You can load the datasets as follows::\n",
      "\n",
      "        from sklearn.datasets import fetch_california_housing\n",
      "        housing = fetch_california_housing()\n",
      "\n",
      "    for the California housing dataset and::\n",
      "\n",
      "        from sklearn.datasets import fetch_openml\n",
      "        housing = fetch_openml(name=\"house_prices\", as_frame=True)\n",
      "\n",
      "    for the Ames housing dataset.\n",
      "    \n",
      "  warnings.warn(msg, category=FutureWarning)\n"
     ]
    }
   ],
   "source": [
    "import mglearn\n",
    "x, y = mglearn.datasets.load_extended_boston()"
   ]
  },
  {
   "cell_type": "code",
   "execution_count": 5,
   "id": "51d69224-d5a9-403a-b20b-b6caa094234e",
   "metadata": {},
   "outputs": [],
   "source": [
    "from sklearn.linear_model import LinearRegression\n",
    "from sklearn.linear_model import Lasso, Ridge\n",
    "\n",
    "from sklearn.model_selection import train_test_split\n",
    "from sklearn.metrics import r2_score, mean_squared_error"
   ]
  },
  {
   "cell_type": "code",
   "execution_count": 6,
   "id": "a8171505-cb0d-42d1-9fb4-112863269b5d",
   "metadata": {},
   "outputs": [],
   "source": [
    "x_train, x_test, y_train, y_test = train_test_split(x, y, test_size=0.2)"
   ]
  },
  {
   "cell_type": "markdown",
   "id": "a1840bbe-43fd-4d1b-86fd-5b32cc69573d",
   "metadata": {},
   "source": [
    "## 2-1. 데이터 8:2로 분할하고 선형회귀 적용하시오. 결정계수와 rmse 구하시오<br>"
   ]
  },
  {
   "cell_type": "code",
   "execution_count": 7,
   "id": "3f42481c-a441-480b-8ef9-0e0cebca653a",
   "metadata": {},
   "outputs": [
    {
     "data": {
      "text/plain": [
       "LinearRegression()"
      ]
     },
     "execution_count": 7,
     "metadata": {},
     "output_type": "execute_result"
    }
   ],
   "source": [
    "lr = LinearRegression()\n",
    "lr.fit(x_train, y_train)"
   ]
  },
  {
   "cell_type": "code",
   "execution_count": 8,
   "id": "1cd07be1-344b-47f8-987f-d717fa6ca601",
   "metadata": {},
   "outputs": [],
   "source": [
    "pred = lr.predict(x_test)"
   ]
  },
  {
   "cell_type": "code",
   "execution_count": 9,
   "id": "32cd9b93-3891-44e7-9ae7-c0fafc639ead",
   "metadata": {},
   "outputs": [],
   "source": [
    "mse = mean_squared_error(pred, y_test, squared=False)\n",
    "r2 = r2_score(pred, y_test)"
   ]
  },
  {
   "cell_type": "code",
   "execution_count": 10,
   "id": "19ceed75-27d7-4f41-8963-e5206ad7cb92",
   "metadata": {},
   "outputs": [
    {
     "name": "stdout",
     "output_type": "stream",
     "text": [
      "Linear Regression의 Test data에 대한 결정계수는 0.8674105885400288, RMSE 값은 3.2169673293020558 이다.\n"
     ]
    }
   ],
   "source": [
    "print(f'Linear Regression의 Test data에 대한 결정계수는 {r2}, RMSE 값은 {mse} 이다.')"
   ]
  },
  {
   "cell_type": "markdown",
   "id": "eb654231-c199-414a-afbb-eb9175307cc7",
   "metadata": {},
   "source": [
    "## 2-2. 데이터 8:2로 분할하고 릿지 회귀 적용하시오."
   ]
  },
  {
   "cell_type": "code",
   "execution_count": 13,
   "id": "3323ce56-4a80-40e7-8314-281f2a26efb9",
   "metadata": {},
   "outputs": [
    {
     "data": {
      "text/plain": [
       "array([0. , 0.1, 0.2, 0.3, 0.4, 0.5, 0.6, 0.7, 0.8, 0.9, 1. ])"
      ]
     },
     "execution_count": 13,
     "metadata": {},
     "output_type": "execute_result"
    }
   ],
   "source": [
    "alpha_list = np.arange(0, 1.1, 0.1)\n",
    "alpha_list"
   ]
  },
  {
   "cell_type": "code",
   "execution_count": 14,
   "id": "2f157323-b1c7-4522-b709-d171147d54ee",
   "metadata": {},
   "outputs": [
    {
     "name": "stdout",
     "output_type": "stream",
     "text": [
      "0.0, 0.8620189901520531\n",
      "0.1, 0.9036904435480558\n"
     ]
    }
   ],
   "source": [
    "r2_before = 0\n",
    "max_a = None\n",
    "for a in alpha_list:\n",
    "    ridge = Ridge(alpha=a)\n",
    "    ridge.fit(x_train, y_train)\n",
    "\n",
    "    pred = ridge.predict(x_test)\n",
    "\n",
    "    r2 = r2_score(pred, y_test)\n",
    "\n",
    "    if r2 > r2_before:\n",
    "        r2_before = r2\n",
    "        max_a = a\n",
    "        print(f'{a}, {r2}')\n",
    "\n",
    "ridge = Ridge(alpha=a)\n",
    "ridge.fit(x_train, y_train)\n",
    "\n",
    "pred = ridge.predict(x_test)\n",
    "\n",
    "r2 = r2_score(pred, y_test)\n",
    "mse = mean_squared_error(pred, y_test, squared=False)"
   ]
  },
  {
   "cell_type": "code",
   "execution_count": 15,
   "id": "def3fd63-2140-41bf-9346-6c5d69b036a4",
   "metadata": {},
   "outputs": [],
   "source": [
    "pred = ridge.predict(x_test)"
   ]
  },
  {
   "cell_type": "code",
   "execution_count": 16,
   "id": "7b207f8e-25fe-4f22-a52a-d88aedbdaa4b",
   "metadata": {},
   "outputs": [],
   "source": [
    "mse = mean_squared_error(pred, y_test, squared=False)\n",
    "r2 = r2_score(pred, y_test)"
   ]
  },
  {
   "cell_type": "code",
   "execution_count": 17,
   "id": "bac89fc0-2de8-44c2-8b85-57748869df3c",
   "metadata": {},
   "outputs": [
    {
     "name": "stdout",
     "output_type": "stream",
     "text": [
      "Ridge Regression의 최대 결정계수 알파는 0.1 이며, 해당 모델의 Test data에 대한 결정계수는 0.9036904435480558, RMSE 값은 2.784835103978304 이다.\n"
     ]
    }
   ],
   "source": [
    "print(f'Ridge Regression의 최대 결정계수 알파는 {max_a} 이며, 해당 모델의 Test data에 대한 결정계수는 {r2_before}, RMSE 값은 {mse} 이다.')"
   ]
  },
  {
   "cell_type": "markdown",
   "id": "c824015f-7cde-452c-9c87-cb07fb55ffb8",
   "metadata": {},
   "source": [
    "## 2-3. 데이터 8:2로 분할하고 라쏘 회귀 적용하시오."
   ]
  },
  {
   "cell_type": "code",
   "execution_count": 18,
   "id": "d60ccf46-d206-47ec-bd1f-5bfe85e2bdfa",
   "metadata": {},
   "outputs": [
    {
     "name": "stdout",
     "output_type": "stream",
     "text": [
      "0.0, 0.8717867328990927\n"
     ]
    },
    {
     "name": "stderr",
     "output_type": "stream",
     "text": [
      "/var/folders/cb/__k37xkx4s324t8t_p2bgr4w0000gn/T/ipykernel_78341/1513970489.py:5: UserWarning: With alpha=0, this algorithm does not converge well. You are advised to use the LinearRegression estimator\n",
      "  lasso.fit(x_train, y_train)\n",
      "/Library/Frameworks/Python.framework/Versions/3.8/lib/python3.8/site-packages/sklearn/linear_model/_coordinate_descent.py:647: UserWarning: Coordinate descent with no regularization may lead to unexpected results and is discouraged.\n",
      "  model = cd_fast.enet_coordinate_descent(\n",
      "/Library/Frameworks/Python.framework/Versions/3.8/lib/python3.8/site-packages/sklearn/linear_model/_coordinate_descent.py:647: ConvergenceWarning: Objective did not converge. You might want to increase the number of iterations, check the scale of the features or consider increasing regularisation. Duality gap: 1.320e+03, tolerance: 3.458e+00 Linear regression models with null weight for the l1 regularization term are more efficiently fitted using one of the solvers implemented in sklearn.linear_model.Ridge/RidgeCV instead.\n",
      "  model = cd_fast.enet_coordinate_descent(\n"
     ]
    }
   ],
   "source": [
    "r2_before = 0\n",
    "max_a = None\n",
    "for a in alpha_list:\n",
    "    lasso = Lasso(alpha=a)\n",
    "    lasso.fit(x_train, y_train)\n",
    "\n",
    "    pred = lasso.predict(x_test)\n",
    "\n",
    "    r2 = r2_score(pred, y_test)\n",
    "\n",
    "    if r2 > r2_before:\n",
    "        r2_before = r2\n",
    "        max_a = a\n",
    "        print(f'{a}, {r2}')\n",
    "\n",
    "lasso = Lasso(alpha=a)\n",
    "lasso.fit(x_train, y_train)\n",
    "\n",
    "pred = lasso.predict(x_test)\n",
    "\n",
    "r2 = r2_score(pred, y_test)\n",
    "mse = mean_squared_error(pred, y_test, squared=False)"
   ]
  },
  {
   "cell_type": "code",
   "execution_count": 19,
   "id": "af13d4f3-40bc-4cb5-a316-4ed6afac712f",
   "metadata": {},
   "outputs": [
    {
     "name": "stdout",
     "output_type": "stream",
     "text": [
      "Lasso Regression의 최대 결정계수 알파는 0.0 이며, 해당 모델의 Test data에 대한 결정계수는 0.8717867328990927, RMSE 값은 7.6852491094299475 이다.\n"
     ]
    }
   ],
   "source": [
    "print(f'Lasso Regression의 최대 결정계수 알파는 {max_a} 이며, 해당 모델의 Test data에 대한 결정계수는 {r2_before}, RMSE 값은 {mse} 이다.')"
   ]
  },
  {
   "cell_type": "markdown",
   "id": "f46419a0-d46a-4051-a39b-dae4328f67a5",
   "metadata": {},
   "source": [
    "# 2. 독립변수 하나 종속변수 하나 소규모 데이터 다항회귀(12점)<br>\n",
    "다항 회귀를 3차까지 적용시켜 계수를 구하고 각 차수별 데이터포인트 스캐터 플롯과 기울기 선을 그리세요."
   ]
  },
  {
   "cell_type": "code",
   "execution_count": 3,
   "id": "a8d973d4-680e-4446-9ebc-c984af3873b8",
   "metadata": {},
   "outputs": [],
   "source": [
    "## 데이터 불러오기 \n",
    "m = 100\n",
    "X = 6 * np.random.rand(m, 1) - 3\n",
    "y = 3 * X**3  + X**2 + 2*X + 2 + np.random.randn(m,1)  #노이즈 포함\n",
    "\n",
    "line = np.linspace(-3, 3, 100, endpoint=False).reshape(-1, 1)"
   ]
  },
  {
   "cell_type": "code",
   "execution_count": 21,
   "id": "7ba3f0bd-a432-4635-9f96-ebb68af49e0b",
   "metadata": {},
   "outputs": [
    {
     "data": {
      "text/plain": [
       "<Axes: >"
      ]
     },
     "execution_count": 21,
     "metadata": {},
     "output_type": "execute_result"
    },
    {
     "data": {
      "image/png": "[encoded data removed]",
      "text/plain": [
       "<Figure size 640x480 with 1 Axes>"
      ]
     },
     "metadata": {},
     "output_type": "display_data"
    }
   ],
   "source": [
    "sns.scatterplot(x=X.ravel(), y=y.ravel())"
   ]
  },
  {
   "cell_type": "code",
   "execution_count": 22,
   "id": "f496042a-754d-413f-a2bd-1b3d52f63b14",
   "metadata": {},
   "outputs": [],
   "source": [
    "from sklearn.preprocessing import PolynomialFeatures\n",
    "from sklearn.linear_model import LinearRegression"
   ]
  },
  {
   "cell_type": "code",
   "execution_count": 38,
   "id": "e37b2a31-633c-470f-859c-f1c2db4f9099",
   "metadata": {},
   "outputs": [
    {
     "data": {
      "text/html": [
       "<style>#sk-container-id-1 {color: black;}#sk-container-id-1 pre{padding: 0;}#sk-container-id-1 div.sk-toggleable {background-color: white;}#sk-container-id-1 label.sk-toggleable__label {cursor: pointer;display: block;width: 100%;margin-bottom: 0;padding: 0.3em;box-sizing: border-box;text-align: center;}#sk-container-id-1 label.sk-toggleable__label-arrow:before {content: \"▸\";float: left;margin-right: 0.25em;color: #696969;}#sk-container-id-1 label.sk-toggleable__label-arrow:hover:before {color: black;}#sk-container-id-1 div.sk-estimator:hover label.sk-toggleable__label-arrow:before {color: black;}#sk-container-id-1 div.sk-toggleable__content {max-height: 0;max-width: 0;overflow: hidden;text-align: left;background-color: #f0f8ff;}#sk-container-id-1 div.sk-toggleable__content pre {margin: 0.2em;color: black;border-radius: 0.25em;background-color: #f0f8ff;}#sk-container-id-1 input.sk-toggleable__control:checked~div.sk-toggleable__content {max-height: 200px;max-width: 100%;overflow: auto;}#sk-container-id-1 input.sk-toggleable__control:checked~label.sk-toggleable__label-arrow:before {content: \"▾\";}#sk-container-id-1 div.sk-estimator input.sk-toggleable__control:checked~label.sk-toggleable__label {background-color: #d4ebff;}#sk-container-id-1 div.sk-label input.sk-toggleable__control:checked~label.sk-toggleable__label {background-color: #d4ebff;}#sk-container-id-1 input.sk-hidden--visually {border: 0;clip: rect(1px 1px 1px 1px);clip: rect(1px, 1px, 1px, 1px);height: 1px;margin: -1px;overflow: hidden;padding: 0;position: absolute;width: 1px;}#sk-container-id-1 div.sk-estimator {font-family: monospace;background-color: #f0f8ff;border: 1px dotted black;border-radius: 0.25em;box-sizing: border-box;margin-bottom: 0.5em;}#sk-container-id-1 div.sk-estimator:hover {background-color: #d4ebff;}#sk-container-id-1 div.sk-parallel-item::after {content: \"\";width: 100%;border-bottom: 1px solid gray;flex-grow: 1;}#sk-container-id-1 div.sk-label:hover label.sk-toggleable__label {background-color: #d4ebff;}#sk-container-id-1 div.sk-serial::before {content: \"\";position: absolute;border-left: 1px solid gray;box-sizing: border-box;top: 0;bottom: 0;left: 50%;z-index: 0;}#sk-container-id-1 div.sk-serial {display: flex;flex-direction: column;align-items: center;background-color: white;padding-right: 0.2em;padding-left: 0.2em;position: relative;}#sk-container-id-1 div.sk-item {position: relative;z-index: 1;}#sk-container-id-1 div.sk-parallel {display: flex;align-items: stretch;justify-content: center;background-color: white;position: relative;}#sk-container-id-1 div.sk-item::before, #sk-container-id-1 div.sk-parallel-item::before {content: \"\";position: absolute;border-left: 1px solid gray;box-sizing: border-box;top: 0;bottom: 0;left: 50%;z-index: -1;}#sk-container-id-1 div.sk-parallel-item {display: flex;flex-direction: column;z-index: 1;position: relative;background-color: white;}#sk-container-id-1 div.sk-parallel-item:first-child::after {align-self: flex-end;width: 50%;}#sk-container-id-1 div.sk-parallel-item:last-child::after {align-self: flex-start;width: 50%;}#sk-container-id-1 div.sk-parallel-item:only-child::after {width: 0;}#sk-container-id-1 div.sk-dashed-wrapped {border: 1px dashed gray;margin: 0 0.4em 0.5em 0.4em;box-sizing: border-box;padding-bottom: 0.4em;background-color: white;}#sk-container-id-1 div.sk-label label {font-family: monospace;font-weight: bold;display: inline-block;line-height: 1.2em;}#sk-container-id-1 div.sk-label-container {text-align: center;}#sk-container-id-1 div.sk-container {/* jupyter's `normalize.less` sets `[hidden] { display: none; }` but bootstrap.min.css set `[hidden] { display: none !important; }` so we also need the `!important` here to be able to override the default hidden behavior on the sphinx rendered scikit-learn.org. See: https://github.com/scikit-learn/scikit-learn/issues/21755 */display: inline-block !important;position: relative;}#sk-container-id-1 div.sk-text-repr-fallback {display: none;}</style><div id=\"sk-container-id-1\" class=\"sk-top-container\"><div class=\"sk-text-repr-fallback\"><pre>LinearRegression()</pre><b>In a Jupyter environment, please rerun this cell to show the HTML representation or trust the notebook. <br />On GitHub, the HTML representation is unable to render, please try loading this page with nbviewer.org.</b></div><div class=\"sk-container\" hidden><div class=\"sk-item\"><div class=\"sk-estimator sk-toggleable\"><input class=\"sk-toggleable__control sk-hidden--visually\" id=\"sk-estimator-id-1\" type=\"checkbox\" checked><label for=\"sk-estimator-id-1\" class=\"sk-toggleable__label sk-toggleable__label-arrow\">LinearRegression</label><div class=\"sk-toggleable__content\"><pre>LinearRegression()</pre></div></div></div></div></div>"
      ],
      "text/plain": [
       "LinearRegression()"
      ]
     },
     "execution_count": 38,
     "metadata": {},
     "output_type": "execute_result"
    }
   ],
   "source": [
    "# 다항식 변환 \n",
    "poly_ftr_2 = PolynomialFeatures(degree=2).fit_transform(X)\n",
    "poly_ftr_3 = PolynomialFeatures(degree=3).fit_transform(X)\n",
    "\n",
    "model_1 = LinearRegression()\n",
    "model_1.fit(X, y)\n",
    "\n",
    "model_2 = LinearRegression()\n",
    "model_2.fit(poly_ftr_2, y)\n",
    "\n",
    "model_3 = LinearRegression()\n",
    "model_3.fit(poly_ftr_3, y)"
   ]
  },
  {
   "cell_type": "code",
   "execution_count": 48,
   "id": "b2585223-d7a1-4fa9-adfc-841f841f3166",
   "metadata": {},
   "outputs": [
    {
     "data": {
      "image/png": "[encoded data removed]",
      "text/plain": [
       "<Figure size 640x480 with 1 Axes>"
      ]
     },
     "metadata": {},
     "output_type": "display_data"
    }
   ],
   "source": [
    "sns.scatterplot(x=X.ravel(), y=y.ravel())\n",
    "color_list = [\"orange\", \"green\", \"red\"]\n",
    "for k, v in {\"1\": [X, model_1], \"2\": [poly_ftr_2, model_2], \"3\": [poly_ftr_3, model_3]}.items():\n",
    "    y_newbig = v[1].predict(v[0])\n",
    "    sns.lineplot(x=X.ravel(), y=y_newbig.ravel(), label=k, color=color_list[int(k) - 1])"
   ]
  },
  {
   "cell_type": "markdown",
   "id": "b145522f-255d-4f4b-9ccc-64700c50280f",
   "metadata": {},
   "source": [
    "## 3. ANOVA분석 (9점)<br>\n",
    "변수 3개(하나는 수치형 변수/ 나머지 두 개는 범주형 변수)<br>\n",
    "이원분산분석을 수행하고 통계표를 작성하시오.<br>"
   ]
  },
  {
   "cell_type": "code",
   "execution_count": 51,
   "id": "bdfbcb65-de9c-47e6-8587-586012539b56",
   "metadata": {},
   "outputs": [
    {
     "data": {
      "text/html": [
       "<div>\n",
       "<style scoped>\n",
       "    .dataframe tbody tr th:only-of-type {\n",
       "        vertical-align: middle;\n",
       "    }\n",
       "\n",
       "    .dataframe tbody tr th {\n",
       "        vertical-align: top;\n",
       "    }\n",
       "\n",
       "    .dataframe thead th {\n",
       "        text-align: right;\n",
       "    }\n",
       "</style>\n",
       "<table border=\"1\" class=\"dataframe\">\n",
       "  <thead>\n",
       "    <tr style=\"text-align: right;\">\n",
       "      <th></th>\n",
       "      <th>AveragePrice</th>\n",
       "      <th>type</th>\n",
       "      <th>region</th>\n",
       "    </tr>\n",
       "  </thead>\n",
       "  <tbody>\n",
       "    <tr>\n",
       "      <th>0</th>\n",
       "      <td>1.13</td>\n",
       "      <td>conventional</td>\n",
       "      <td>Boston</td>\n",
       "    </tr>\n",
       "    <tr>\n",
       "      <th>1</th>\n",
       "      <td>1.07</td>\n",
       "      <td>conventional</td>\n",
       "      <td>Boston</td>\n",
       "    </tr>\n",
       "    <tr>\n",
       "      <th>2</th>\n",
       "      <td>1.01</td>\n",
       "      <td>conventional</td>\n",
       "      <td>Boston</td>\n",
       "    </tr>\n",
       "    <tr>\n",
       "      <th>3</th>\n",
       "      <td>1.02</td>\n",
       "      <td>conventional</td>\n",
       "      <td>Boston</td>\n",
       "    </tr>\n",
       "    <tr>\n",
       "      <th>4</th>\n",
       "      <td>1.19</td>\n",
       "      <td>conventional</td>\n",
       "      <td>Boston</td>\n",
       "    </tr>\n",
       "    <tr>\n",
       "      <th>...</th>\n",
       "      <td>...</td>\n",
       "      <td>...</td>\n",
       "      <td>...</td>\n",
       "    </tr>\n",
       "    <tr>\n",
       "      <th>1009</th>\n",
       "      <td>1.36</td>\n",
       "      <td>organic</td>\n",
       "      <td>Orlando</td>\n",
       "    </tr>\n",
       "    <tr>\n",
       "      <th>1010</th>\n",
       "      <td>1.67</td>\n",
       "      <td>organic</td>\n",
       "      <td>Orlando</td>\n",
       "    </tr>\n",
       "    <tr>\n",
       "      <th>1011</th>\n",
       "      <td>1.53</td>\n",
       "      <td>organic</td>\n",
       "      <td>Orlando</td>\n",
       "    </tr>\n",
       "    <tr>\n",
       "      <th>1012</th>\n",
       "      <td>1.55</td>\n",
       "      <td>organic</td>\n",
       "      <td>Orlando</td>\n",
       "    </tr>\n",
       "    <tr>\n",
       "      <th>1013</th>\n",
       "      <td>1.56</td>\n",
       "      <td>organic</td>\n",
       "      <td>Orlando</td>\n",
       "    </tr>\n",
       "  </tbody>\n",
       "</table>\n",
       "<p>1014 rows × 3 columns</p>\n",
       "</div>"
      ],
      "text/plain": [
       "      AveragePrice          type   region\n",
       "0             1.13  conventional   Boston\n",
       "1             1.07  conventional   Boston\n",
       "2             1.01  conventional   Boston\n",
       "3             1.02  conventional   Boston\n",
       "4             1.19  conventional   Boston\n",
       "...            ...           ...      ...\n",
       "1009          1.36       organic  Orlando\n",
       "1010          1.67       organic  Orlando\n",
       "1011          1.53       organic  Orlando\n",
       "1012          1.55       organic  Orlando\n",
       "1013          1.56       organic  Orlando\n",
       "\n",
       "[1014 rows x 3 columns]"
      ]
     },
     "execution_count": 51,
     "metadata": {},
     "output_type": "execute_result"
    }
   ],
   "source": [
    "avocado = pd.read_csv('./ADP_book_ver01/data/avocado.csv')\n",
    "avocado = avocado[[\"AveragePrice\", \"type\", \"region\"]]\n",
    "avocado = avocado[(avocado['region']=='Orlando') | (avocado['region']=='Boston' )| (avocado['region']=='Chicago')].reset_index(drop=True)\n",
    "avocado"
   ]
  },
  {
   "cell_type": "code",
   "execution_count": 58,
   "id": "739a6c89-d920-442e-a387-439428150a85",
   "metadata": {},
   "outputs": [],
   "source": [
    "from statsmodels.formula.api import ols\n",
    "from statsmodels.stats.anova import anova_lm\n",
    "\n",
    "from statsmodels.graphics.factorplots import interaction_plot"
   ]
  },
  {
   "cell_type": "code",
   "execution_count": 54,
   "id": "a594be60-26aa-407d-b25d-eeaae4066c78",
   "metadata": {},
   "outputs": [
    {
     "data": {
      "text/html": [
       "<div>\n",
       "<style scoped>\n",
       "    .dataframe tbody tr th:only-of-type {\n",
       "        vertical-align: middle;\n",
       "    }\n",
       "\n",
       "    .dataframe tbody tr th {\n",
       "        vertical-align: top;\n",
       "    }\n",
       "\n",
       "    .dataframe thead th {\n",
       "        text-align: right;\n",
       "    }\n",
       "</style>\n",
       "<table border=\"1\" class=\"dataframe\">\n",
       "  <thead>\n",
       "    <tr style=\"text-align: right;\">\n",
       "      <th></th>\n",
       "      <th>sum_sq</th>\n",
       "      <th>df</th>\n",
       "      <th>F</th>\n",
       "      <th>PR(&gt;F)</th>\n",
       "    </tr>\n",
       "  </thead>\n",
       "  <tbody>\n",
       "    <tr>\n",
       "      <th>C(type)</th>\n",
       "      <td>56.111007</td>\n",
       "      <td>1.0</td>\n",
       "      <td>828.218296</td>\n",
       "      <td>1.989417e-133</td>\n",
       "    </tr>\n",
       "    <tr>\n",
       "      <th>C(region)</th>\n",
       "      <td>0.432136</td>\n",
       "      <td>2.0</td>\n",
       "      <td>3.189242</td>\n",
       "      <td>4.161918e-02</td>\n",
       "    </tr>\n",
       "    <tr>\n",
       "      <th>C(type):C(region)</th>\n",
       "      <td>1.878817</td>\n",
       "      <td>2.0</td>\n",
       "      <td>13.866003</td>\n",
       "      <td>1.146622e-06</td>\n",
       "    </tr>\n",
       "    <tr>\n",
       "      <th>Residual</th>\n",
       "      <td>68.291047</td>\n",
       "      <td>1008.0</td>\n",
       "      <td>NaN</td>\n",
       "      <td>NaN</td>\n",
       "    </tr>\n",
       "  </tbody>\n",
       "</table>\n",
       "</div>"
      ],
      "text/plain": [
       "                      sum_sq      df           F         PR(>F)\n",
       "C(type)            56.111007     1.0  828.218296  1.989417e-133\n",
       "C(region)           0.432136     2.0    3.189242   4.161918e-02\n",
       "C(type):C(region)   1.878817     2.0   13.866003   1.146622e-06\n",
       "Residual           68.291047  1008.0         NaN            NaN"
      ]
     },
     "execution_count": 54,
     "metadata": {},
     "output_type": "execute_result"
    }
   ],
   "source": [
    "### Two-way ANOVA\n",
    "formula = 'AveragePrice ~ C(type) + C(region) + C(type):C(region)'\n",
    "model = ols(formula, avocado).fit()\n",
    "\n",
    "aov_table = anova_lm(model, typ=2)\n",
    "aov_table"
   ]
  },
  {
   "cell_type": "code",
   "execution_count": 56,
   "id": "8689910b-1aee-425f-973b-75a500c59c77",
   "metadata": {},
   "outputs": [
    {
     "name": "stdout",
     "output_type": "stream",
     "text": [
      "상호작용 효과를 가장 먼저 검증한다.\n",
      "H0: 아보카도 타입과 지역 변수 사이에 평균 가격에 대한 상호작용 효과가 없다.\n",
      "H1: 아보카도 타입과 지역 변수 사이에 평균 가격에 대한 상호작용 효과가 있다.\n"
     ]
    }
   ],
   "source": [
    "print('상호작용 효과를 가장 먼저 검증한다.')\n",
    "\n",
    "print('H0: 아보카도 타입과 지역 변수 사이에 평균 가격에 대한 상호작용 효과가 없다.')\n",
    "print('H1: 아보카도 타입과 지역 변수 사이에 평균 가격에 대한 상호작용 효과가 있다.')"
   ]
  },
  {
   "cell_type": "code",
   "execution_count": 61,
   "id": "d61e8297-d3ed-430d-8c98-3bc38e4475f0",
   "metadata": {},
   "outputs": [
    {
     "name": "stdout",
     "output_type": "stream",
     "text": [
      "상호작용에 대한 F 검정통계량은 13.87, p-value 0.000으로 귀무가설을 기각한다. 타입과 지역 변수 사이에 상호작용 효과가 있다고 볼 통계적 근거가 충분하다.\n",
      "Intercation plot을 살펴보면, type에 따라 지역의 평균 가격 순위가 뒤바뀌는 것을 볼 수 있다. 이는 두 변수 간 교호작용의 존재를 시사한다.\n"
     ]
    }
   ],
   "source": [
    "print('상호작용에 대한 F 검정통계량은 13.87, p-value 0.000으로 귀무가설을 기각한다. 타입과 지역 변수 사이에 상호작용 효과가 있다고 볼 통계적 근거가 충분하다.')\n",
    "print('Intercation plot을 살펴보면, type에 따라 지역의 평균 가격 순위가 뒤바뀌는 것을 볼 수 있다. 이는 두 변수 간 교호작용의 존재를 시사한다.')"
   ]
  },
  {
   "cell_type": "code",
   "execution_count": 60,
   "id": "d7ae3852-53dd-4b40-bb04-82c085843256",
   "metadata": {},
   "outputs": [
    {
     "data": {
      "image/png": "[encoded data removed]",
      "text/plain": [
       "<Figure size 600x600 with 1 Axes>"
      ]
     },
     "metadata": {},
     "output_type": "display_data"
    }
   ],
   "source": [
    "### interaction plot\n",
    "# 교호작용 확인\n",
    "# 독립변수 cyl,am와 종속변수 mpg을 Series로 변경 \n",
    "type = avocado[\"type\"]\n",
    "region = avocado[\"region\"]\n",
    "price = avocado[\"AveragePrice\"]\n",
    "\n",
    "fig, ax = plt.subplots(figsize=(6, 6))\n",
    "fig = interaction_plot(type, region, price, colors=['red', 'blue', 'green'], markers=['D', '^', 'o'], ms=10, ax=ax) # 변수는 x1, x2 y 순"
   ]
  },
  {
   "cell_type": "code",
   "execution_count": null,
   "id": "fbc2511a-dcc0-4c6c-b72f-47397e8543f7",
   "metadata": {},
   "outputs": [],
   "source": []
  }
 ],
 "metadata": {
  "kernelspec": {
   "display_name": "Python 3 (ipykernel)",
   "language": "python",
   "name": "python3"
  },
  "language_info": {
   "codemirror_mode": {
    "name": "ipython",
    "version": 3
   },
   "file_extension": ".py",
   "mimetype": "text/x-python",
   "name": "python",
   "nbconvert_exporter": "python",
   "pygments_lexer": "ipython3",
   "version": "3.9.6"
  }
 },
 "nbformat": 4,
 "nbformat_minor": 5
}
