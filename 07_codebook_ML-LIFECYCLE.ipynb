{
 "cells": [
  {
   "cell_type": "markdown",
   "id": "3c5faba3-7410-4bdc-947b-d7e37e291b41",
   "metadata": {},
   "source": [
    "# Machine Learning - Lifecycle Samples\n",
    "- Data load -> EDA -> Data Split -> Preprocessing -> Modeling -> Evaluation -> HPO -> Test"
   ]
  },
  {
   "cell_type": "markdown",
   "id": "92f68857-a573-4a1f-b7f0-baaeb5436708",
   "metadata": {
    "tags": []
   },
   "source": [
    "## Regression"
   ]
  },
  {
   "cell_type": "markdown",
   "id": "ffd6f25e-c70f-4ff7-8905-2a6110cabda2",
   "metadata": {},
   "source": [
    "### (1) Housing dataset"
   ]
  },
  {
   "cell_type": "markdown",
   "id": "457b5781-aa88-4c0d-909f-889426ae3058",
   "metadata": {},
   "source": [
    "#### Data Load"
   ]
  },
  {
   "cell_type": "code",
   "execution_count": 78,
   "id": "bfde0bea-e59b-4223-a46a-3bed9d613ce9",
   "metadata": {
    "scrolled": true
   },
   "outputs": [
    {
     "data": {
      "text/html": [
       "<div>\n",
       "<style scoped>\n",
       "    .dataframe tbody tr th:only-of-type {\n",
       "        vertical-align: middle;\n",
       "    }\n",
       "\n",
       "    .dataframe tbody tr th {\n",
       "        vertical-align: top;\n",
       "    }\n",
       "\n",
       "    .dataframe thead th {\n",
       "        text-align: right;\n",
       "    }\n",
       "</style>\n",
       "<table border=\"1\" class=\"dataframe\">\n",
       "  <thead>\n",
       "    <tr style=\"text-align: right;\">\n",
       "      <th></th>\n",
       "      <th>longitude</th>\n",
       "      <th>latitude</th>\n",
       "      <th>housing_median_age</th>\n",
       "      <th>total_rooms</th>\n",
       "      <th>total_bedrooms</th>\n",
       "      <th>population</th>\n",
       "      <th>households</th>\n",
       "      <th>median_income</th>\n",
       "      <th>median_house_value</th>\n",
       "      <th>ocean_proximity</th>\n",
       "    </tr>\n",
       "  </thead>\n",
       "  <tbody>\n",
       "    <tr>\n",
       "      <th>0</th>\n",
       "      <td>-122.23</td>\n",
       "      <td>37.88</td>\n",
       "      <td>41.0</td>\n",
       "      <td>880.0</td>\n",
       "      <td>129.0</td>\n",
       "      <td>322.0</td>\n",
       "      <td>126.0</td>\n",
       "      <td>8.3252</td>\n",
       "      <td>452600.0</td>\n",
       "      <td>NEAR BAY</td>\n",
       "    </tr>\n",
       "    <tr>\n",
       "      <th>1</th>\n",
       "      <td>-122.22</td>\n",
       "      <td>37.86</td>\n",
       "      <td>21.0</td>\n",
       "      <td>7099.0</td>\n",
       "      <td>1106.0</td>\n",
       "      <td>2401.0</td>\n",
       "      <td>1138.0</td>\n",
       "      <td>8.3014</td>\n",
       "      <td>358500.0</td>\n",
       "      <td>NEAR BAY</td>\n",
       "    </tr>\n",
       "    <tr>\n",
       "      <th>2</th>\n",
       "      <td>-122.24</td>\n",
       "      <td>37.85</td>\n",
       "      <td>52.0</td>\n",
       "      <td>1467.0</td>\n",
       "      <td>190.0</td>\n",
       "      <td>496.0</td>\n",
       "      <td>177.0</td>\n",
       "      <td>7.2574</td>\n",
       "      <td>352100.0</td>\n",
       "      <td>NEAR BAY</td>\n",
       "    </tr>\n",
       "    <tr>\n",
       "      <th>3</th>\n",
       "      <td>-122.25</td>\n",
       "      <td>37.85</td>\n",
       "      <td>52.0</td>\n",
       "      <td>1274.0</td>\n",
       "      <td>235.0</td>\n",
       "      <td>558.0</td>\n",
       "      <td>219.0</td>\n",
       "      <td>5.6431</td>\n",
       "      <td>341300.0</td>\n",
       "      <td>NEAR BAY</td>\n",
       "    </tr>\n",
       "    <tr>\n",
       "      <th>4</th>\n",
       "      <td>-122.25</td>\n",
       "      <td>37.85</td>\n",
       "      <td>52.0</td>\n",
       "      <td>1627.0</td>\n",
       "      <td>280.0</td>\n",
       "      <td>565.0</td>\n",
       "      <td>259.0</td>\n",
       "      <td>3.8462</td>\n",
       "      <td>342200.0</td>\n",
       "      <td>NEAR BAY</td>\n",
       "    </tr>\n",
       "  </tbody>\n",
       "</table>\n",
       "</div>"
      ],
      "text/plain": [
       "   longitude  latitude  housing_median_age  total_rooms  total_bedrooms  \\\n",
       "0    -122.23     37.88                41.0        880.0           129.0   \n",
       "1    -122.22     37.86                21.0       7099.0          1106.0   \n",
       "2    -122.24     37.85                52.0       1467.0           190.0   \n",
       "3    -122.25     37.85                52.0       1274.0           235.0   \n",
       "4    -122.25     37.85                52.0       1627.0           280.0   \n",
       "\n",
       "   population  households  median_income  median_house_value ocean_proximity  \n",
       "0       322.0       126.0         8.3252            452600.0        NEAR BAY  \n",
       "1      2401.0      1138.0         8.3014            358500.0        NEAR BAY  \n",
       "2       496.0       177.0         7.2574            352100.0        NEAR BAY  \n",
       "3       558.0       219.0         5.6431            341300.0        NEAR BAY  \n",
       "4       565.0       259.0         3.8462            342200.0        NEAR BAY  "
      ]
     },
     "execution_count": 78,
     "metadata": {},
     "output_type": "execute_result"
    }
   ],
   "source": [
    "housing = pd.read_csv('./handson-ml2/datasets/housing/housing.csv')\n",
    "housing.head()"
   ]
  },
  {
   "cell_type": "markdown",
   "id": "c34b5c3c-db8a-4230-bf61-bfd2ddf494cc",
   "metadata": {},
   "source": [
    "#### Data Split"
   ]
  },
  {
   "cell_type": "code",
   "execution_count": 79,
   "id": "eaf2a885-d952-4e2b-ae13-83a22e557cb4",
   "metadata": {},
   "outputs": [],
   "source": [
    "### 소득 별로 분할하여 Stratified split\n",
    "housing[\"income_cat\"] = pd.cut(housing[\"median_income\"], bins=[0., 1.5, 3.0, 4.5, 6, np.inf], labels=[1, 2, 3, 4, 5])\n",
    "split = StratifiedShuffleSplit(n_splits=1, test_size=0.2, random_state=42)\n",
    "for train_index, test_index in split.split(housing, housing[\"income_cat\"]):\n",
    "    strat_train = housing.loc[train_index]\n",
    "    strat_test = housing.loc[test_index]\n",
    "    \n",
    "for set_ in (strat_train, strat_test):\n",
    "    set_.drop(\"income_cat\", axis=1, inplace=True)"
   ]
  },
  {
   "cell_type": "code",
   "execution_count": 80,
   "id": "8834d423-fbfa-485e-80f8-778ba66b28af",
   "metadata": {},
   "outputs": [],
   "source": [
    "### split X, y\n",
    "housing = strat_train.drop(\"median_house_value\", axis=1)\n",
    "housing_labels = strat_train[\"median_house_value\"].copy()"
   ]
  },
  {
   "cell_type": "code",
   "execution_count": 81,
   "id": "81d10419-61bd-458b-8fce-ee062ff44f31",
   "metadata": {},
   "outputs": [],
   "source": [
    "### pipeline class\n",
    "num_attribs = list(housing.columns.difference([\"ocean_proximity\"]))\n",
    "cat_attribs = [\"ocean_proximity\"]\n",
    "\n",
    "num_pipeline = Pipeline([\n",
    "    ('imputer', SimpleImputer(strategy=\"median\")),\n",
    "    ('std_scaler', StandardScaler())\n",
    "])\n",
    "\n",
    "full_pipeline = ColumnTransformer([ # compose\n",
    "    (\"num\", num_pipeline, num_attribs),\n",
    "    (\"cat\", OneHotEncoder(), cat_attribs)\n",
    "])\n",
    "\n",
    "housing_prepared = full_pipeline.fit_transform(housing)"
   ]
  },
  {
   "cell_type": "markdown",
   "id": "4bf4ff91-93d5-4ffc-bd8a-ca692d6d5119",
   "metadata": {},
   "source": [
    "#### Modeling"
   ]
  },
  {
   "cell_type": "code",
   "execution_count": 82,
   "id": "66af3cd1-5ce6-46d5-a500-9c1975903aa5",
   "metadata": {},
   "outputs": [],
   "source": [
    "from sklearn.linear_model import LinearRegression\n",
    "from sklearn.tree import DecisionTreeRegressor\n",
    "from sklearn.ensemble import RandomForestRegressor\n",
    "from sklearn.svm import SVR"
   ]
  },
  {
   "cell_type": "code",
   "execution_count": 83,
   "id": "815868aa-95e3-4329-8ddd-edc58a7259d6",
   "metadata": {},
   "outputs": [
    {
     "data": {
      "text/plain": [
       "DecisionTreeRegressor()"
      ]
     },
     "execution_count": 83,
     "metadata": {},
     "output_type": "execute_result"
    }
   ],
   "source": [
    "### Linear Regression\n",
    "lin_reg = LinearRegression()\n",
    "lin_reg.fit(housing_prepared, housing_labels)"
   ]
  },
  {
   "cell_type": "code",
   "execution_count": 86,
   "id": "2f6086e4-07dc-42e0-8989-300db85c30ad",
   "metadata": {
    "tags": []
   },
   "outputs": [
    {
     "data": {
      "text/plain": [
       "array([ 88983.14806384, 305351.35385026, 153334.71183453, ...,\n",
       "       221487.30785916, 241041.31494299, 100662.66960931])"
      ]
     },
     "execution_count": 86,
     "metadata": {},
     "output_type": "execute_result"
    }
   ],
   "source": [
    "### Pipeline with modeling\n",
    "full_pipeline_with_predictor = Pipeline([\n",
    "        (\"preparation\", full_pipeline),\n",
    "        (\"linear\", LinearRegression())])\n",
    "\n",
    "full_pipeline_with_predictor.fit(housing, housing_labels)\n",
    "full_pipeline_with_predictor.predict(housing)"
   ]
  },
  {
   "cell_type": "code",
   "execution_count": null,
   "id": "0fb8151e-f488-4310-865d-1ab76322a3b4",
   "metadata": {},
   "outputs": [],
   "source": [
    "### Another models\n",
    "# Decision Tree\n",
    "tree_reg = DecisionTreeRegressor()\n",
    "tree_reg.fit(housing_prepared, housing_labels)\n",
    "\n",
    "# Random Forest\n",
    "forest_reg = RandomForestRegressor(n_estimators=100, random_state=42)\n",
    "forest_reg.fit(housing_prepared, housing_labels)\n",
    "\n",
    "# SVRegressor\n",
    "svm_reg = SVR(kernel=\"linear\")\n",
    "svm_reg.fit(housing_prepared, housing_labels)"
   ]
  },
  {
   "cell_type": "markdown",
   "id": "fe3408d6-6708-48ff-b910-22cfcf1df65e",
   "metadata": {},
   "source": [
    "#### Evaluation"
   ]
  },
  {
   "cell_type": "code",
   "execution_count": 85,
   "id": "57420f89-e666-4130-916e-d1befe24de00",
   "metadata": {
    "tags": []
   },
   "outputs": [
    {
     "name": "stdout",
     "output_type": "stream",
     "text": [
      "Random Forest RMSE: 18354.32660078079\n",
      "SVR RMSE: 334.3690761684062\n"
     ]
    }
   ],
   "source": [
    "### validation\n",
    "housing_predictions = tree_reg.predict(housing_prepared)\n",
    "tree_rmse = mean_squared_error(housing_labels, housing_predictions, squared=False)\n",
    "print('Decision Tree RMSE:', forest_rmse)\n",
    "\n",
    "housing_predictions = forest_reg.predict(housing_prepared)\n",
    "forest_rmse = mean_squared_error(housing_labels, housing_predictions, squared=False)\n",
    "print('Random Forest RMSE:', forest_rmse)\n",
    "\n",
    "housing_predictions = svm_reg.predict(housing_prepared)\n",
    "svm_rmse = mean_squared_error(housing_labels, housing_predictions, squared=False)\n",
    "print('SVR RMSE:', np.sqrt(svm_rmse))"
   ]
  },
  {
   "cell_type": "code",
   "execution_count": 90,
   "id": "32f81efe-d448-4532-8261-4f6bd2377dae",
   "metadata": {},
   "outputs": [
    {
     "name": "stdout",
     "output_type": "stream",
     "text": [
      "Tree model\n",
      "점수: [69849.95776875 69185.54836148 70489.07564732]\n",
      "평균: 69841.52725918274\n",
      "표준 편차: 532.1961739470247\n",
      "\n",
      "Linear Regression model\n",
      "점수: [68499.93941627 70177.76265488 69201.23113026]\n",
      "평균: 69292.97773380253\n",
      "표준 편차: 688.0338094636624\n",
      "\n",
      "Random Forest model\n",
      "점수: [49823.0556125  50532.45470069 51183.65349122]\n",
      "평균: 50513.05460147205\n",
      "표준 편차: 555.6311245051338\n",
      "\n",
      "SVR model\n",
      "점수: [112649.49881834 114393.2710437  115034.92596079]\n",
      "평균: 114025.89860760847\n",
      "표준 편차: 1007.8979918917704\n"
     ]
    }
   ],
   "source": [
    "### Cross Validation\n",
    "def display_scores(scores):\n",
    "    print(\"점수:\", scores)\n",
    "    print(\"평균:\", scores.mean())\n",
    "    print(\"표준 편차:\", scores.std())\n",
    "\n",
    "print('Tree model')\n",
    "score = cross_val_score(tree_reg, housing_prepared, housing_labels, scoring=\"neg_mean_squared_error\", cv=3)\n",
    "tree_rmse_scores = np.sqrt(-score) # error의 경우 부호를 반대로 해야 함\n",
    "display_scores(tree_rmse_scores)\n",
    "\n",
    "print('\\nLinear Regression model')\n",
    "lin_scores = cross_val_score(lin_reg, housing_prepared, housing_labels, scoring=\"neg_mean_squared_error\", cv=3)\n",
    "lin_rmse_scores = np.sqrt(-lin_scores)\n",
    "display_scores(lin_rmse_scores)\n",
    "\n",
    "print('\\nRandom Forest model')\n",
    "forest_scores = cross_val_score(forest_reg, housing_prepared, housing_labels, scoring=\"neg_mean_squared_error\", cv=3)\n",
    "forest_rmse_scores = np.sqrt(-forest_scores)\n",
    "display_scores(forest_rmse_scores)\n",
    "\n",
    "print('\\nSVR model')\n",
    "svr_scores = cross_val_score(svm_reg, housing_prepared, housing_labels, scoring=\"neg_mean_squared_error\", cv=3)\n",
    "svr_rmse_scores = np.sqrt(-svr_scores)\n",
    "display_scores(svr_rmse_scores)"
   ]
  },
  {
   "cell_type": "markdown",
   "id": "61bd3d6d-d431-404c-8138-45c7633abe0a",
   "metadata": {},
   "source": [
    "#### HPO"
   ]
  },
  {
   "cell_type": "code",
   "execution_count": 91,
   "id": "dd91cc22-ee9a-4ed9-960f-e13f4669883d",
   "metadata": {},
   "outputs": [
    {
     "data": {
      "text/plain": [
       "GridSearchCV(cv=3, estimator=RandomForestRegressor(random_state=42),\n",
       "             param_grid=[{'max_features': [2, 4, 6, 8],\n",
       "                          'n_estimators': [3, 10, 30]},\n",
       "                         {'bootstrap': [False], 'max_features': [2, 3, 4],\n",
       "                          'n_estimators': [3, 10]}],\n",
       "             return_train_score=True, scoring='neg_mean_squared_error')"
      ]
     },
     "execution_count": 91,
     "metadata": {},
     "output_type": "execute_result"
    }
   ],
   "source": [
    "### Grid search\n",
    "param_grid = [{'n_estimators': [3, 10, 30], 'max_features': [2, 4, 6, 8]}, # 12(=3×4)개의 하이퍼파라미터 조합을 시도합니다.\n",
    "              {'bootstrap': [False], 'n_estimators': [3, 10], 'max_features': [2, 3, 4]}] # bootstrap은 False로 하고 6(=2×3)개의 조합을 시도합니다.\n",
    "\n",
    "forest_reg = RandomForestRegressor(random_state=42)\n",
    "grid_search = GridSearchCV(forest_reg, param_grid, cv=3, scoring='neg_mean_squared_error', return_train_score=True)\n",
    "grid_search.fit(housing_prepared, housing_labels)"
   ]
  },
  {
   "cell_type": "code",
   "execution_count": 92,
   "id": "8ce94b70-6cb8-401b-91b7-6b95cd20fabe",
   "metadata": {
    "tags": []
   },
   "outputs": [
    {
     "name": "stdout",
     "output_type": "stream",
     "text": [
      "best params: {'max_features': 8, 'n_estimators': 30}\n",
      "best estimator: RandomForestRegressor(max_features=8, n_estimators=30, random_state=42)\n"
     ]
    }
   ],
   "source": [
    "print('best params:', grid_search.best_params_)\n",
    "print('best estimator:', grid_search.best_estimator_)"
   ]
  },
  {
   "cell_type": "code",
   "execution_count": 93,
   "id": "802f8f44-de45-47ff-a55f-ab8550013615",
   "metadata": {
    "tags": []
   },
   "outputs": [
    {
     "name": "stdout",
     "output_type": "stream",
     "text": [
      "63450.32381122495 {'max_features': 2, 'n_estimators': 3}\n",
      "55928.62717586398 {'max_features': 2, 'n_estimators': 10}\n",
      "53602.05766014793 {'max_features': 2, 'n_estimators': 30}\n",
      "60274.67681804967 {'max_features': 4, 'n_estimators': 3}\n",
      "53181.17799369876 {'max_features': 4, 'n_estimators': 10}\n",
      "51088.77876908601 {'max_features': 4, 'n_estimators': 30}\n",
      "61202.48392403287 {'max_features': 6, 'n_estimators': 3}\n",
      "53165.830387170696 {'max_features': 6, 'n_estimators': 10}\n",
      "50853.83092128557 {'max_features': 6, 'n_estimators': 30}\n",
      "60352.1421257307 {'max_features': 8, 'n_estimators': 3}\n",
      "52746.277456108925 {'max_features': 8, 'n_estimators': 10}\n",
      "50727.14790838459 {'max_features': 8, 'n_estimators': 30}\n",
      "62813.005687821016 {'bootstrap': False, 'max_features': 2, 'n_estimators': 3}\n",
      "54973.79417527878 {'bootstrap': False, 'max_features': 2, 'n_estimators': 10}\n",
      "60619.70682327377 {'bootstrap': False, 'max_features': 3, 'n_estimators': 3}\n",
      "53622.092899649375 {'bootstrap': False, 'max_features': 3, 'n_estimators': 10}\n",
      "58124.852818113075 {'bootstrap': False, 'max_features': 4, 'n_estimators': 3}\n",
      "52263.20962439083 {'bootstrap': False, 'max_features': 4, 'n_estimators': 10}\n"
     ]
    }
   ],
   "source": [
    "cvres = grid_search.cv_results_\n",
    "for mean_score, params in zip(cvres[\"mean_test_score\"], cvres[\"params\"]):\n",
    "    print(np.sqrt(-mean_score), params) # Grid search 점수 확인"
   ]
  },
  {
   "cell_type": "code",
   "execution_count": 94,
   "id": "8893691e-7fb9-4893-acfd-791e9d0bdc6f",
   "metadata": {
    "tags": []
   },
   "outputs": [
    {
     "data": {
      "text/plain": [
       "RandomizedSearchCV(cv=3, estimator=RandomForestRegressor(random_state=42),\n",
       "                   param_distributions={'max_features': array([1, 4, 1, 4, 6, 2, 7, 2, 5, 7]),\n",
       "                                        'n_estimators': array([ 89,  76,  86,  42, 190, 186, 160, 118, 134, 191])},\n",
       "                   random_state=42, scoring='neg_mean_squared_error')"
      ]
     },
     "execution_count": 94,
     "metadata": {},
     "output_type": "execute_result"
    }
   ],
   "source": [
    "### Randomized search\n",
    "param_distribs = {'n_estimators': np.random.randint(low=1, high=200, size=10),\n",
    "                  'max_features': np.random.randint(low=1, high=8, size=10)}\n",
    "\n",
    "forest_reg = RandomForestRegressor(random_state=42)\n",
    "rnd_search = RandomizedSearchCV(forest_reg, param_distributions=param_distribs, n_iter=10, cv=3, scoring='neg_mean_squared_error', random_state=42)\n",
    "rnd_search.fit(housing_prepared, housing_labels)"
   ]
  },
  {
   "cell_type": "code",
   "execution_count": 95,
   "id": "b356b10d-889f-4d17-a0b8-d9dd227a3f41",
   "metadata": {},
   "outputs": [],
   "source": [
    "from scipy.stats import randint\n",
    "from scipy.stats import geom, expon"
   ]
  },
  {
   "cell_type": "code",
   "execution_count": 96,
   "id": "80596a65-bc63-442f-95c0-656a5f3e7400",
   "metadata": {
    "tags": []
   },
   "outputs": [
    {
     "data": {
      "image/png": "[encoded data removed]",
      "text/plain": [
       "<Figure size 432x288 with 1 Axes>"
      ]
     },
     "metadata": {
      "needs_background": "light"
     },
     "output_type": "display_data"
    },
    {
     "data": {
      "image/png": "[encoded data removed]",
      "text/plain": [
       "<Figure size 432x288 with 1 Axes>"
      ]
     },
     "metadata": {
      "needs_background": "light"
     },
     "output_type": "display_data"
    }
   ],
   "source": [
    "# geom, exponential parameters\n",
    "geom_distrib = geom(0.5).rvs(1000, random_state=42)\n",
    "expon_distrib = expon(scale=1).rvs(1000, random_state=42)\n",
    "\n",
    "sns.distplot(geom_distrib, bins=50)\n",
    "plt.show()\n",
    "sns.distplot(expon_distrib, bins=50)\n",
    "plt.show()"
   ]
  },
  {
   "cell_type": "code",
   "execution_count": 97,
   "id": "1f79b10f-973b-4816-972b-0357733b4f07",
   "metadata": {
    "tags": []
   },
   "outputs": [
    {
     "name": "stdout",
     "output_type": "stream",
     "text": [
      "50399.07388517163 {'n_estimators': 42, 'max_features': 5}\n",
      "53151.49924606481 {'n_estimators': 42, 'max_features': 2}\n",
      "52500.17992637956 {'n_estimators': 89, 'max_features': 2}\n",
      "49790.8700008532 {'n_estimators': 186, 'max_features': 6}\n",
      "49783.103660502886 {'n_estimators': 190, 'max_features': 6}\n",
      "50126.67179647642 {'n_estimators': 191, 'max_features': 4}\n",
      "54534.37226514882 {'n_estimators': 86, 'max_features': 1}\n",
      "49832.77852609296 {'n_estimators': 89, 'max_features': 5}\n",
      "50394.004875777195 {'n_estimators': 89, 'max_features': 4}\n",
      "54493.35800093847 {'n_estimators': 89, 'max_features': 1}\n"
     ]
    }
   ],
   "source": [
    "cvres = rnd_search.cv_results_\n",
    "for mean_score, params in zip(cvres[\"mean_test_score\"], cvres[\"params\"]):\n",
    "    print(np.sqrt(-mean_score), params)"
   ]
  },
  {
   "cell_type": "code",
   "execution_count": 98,
   "id": "7dc72792-9dec-4e92-adb5-78686e4a4bc2",
   "metadata": {
    "tags": []
   },
   "outputs": [
    {
     "data": {
      "text/plain": [
       "[(0.4499147620859369, 'median_income'),\n",
       " (0.1401204552927923, 'pop_per_hhold'),\n",
       " (0.11308431493871018, 'longitude'),\n",
       " (0.10100077376373191, 'latitude'),\n",
       " (0.04900351622597163, 'housing_median_age'),\n",
       " (0.038638281268360365, 'population'),\n",
       " (0.030800756442082574, 'total_rooms'),\n",
       " (0.028466395086199844, 'total_bedrooms'),\n",
       " (0.02585907088468502, 'households'),\n",
       " (0.011619867281741325, 'rooms_per_hhold'),\n",
       " (0.009239103399093158, 'INLAND'),\n",
       " (0.00218027514438822, '<1H OCEAN'),\n",
       " (7.242818630655396e-05, 'bedrooms_per_room')]"
      ]
     },
     "execution_count": 98,
     "metadata": {},
     "output_type": "execute_result"
    }
   ],
   "source": [
    "### Best model, Feature importance\n",
    "feature_importances = grid_search.best_estimator_.feature_importances_\n",
    "extra_attribs = [\"rooms_per_hhold\", \"pop_per_hhold\", \"bedrooms_per_room\"]\n",
    "\n",
    "cat_encoder = full_pipeline.named_transformers_[\"cat\"]\n",
    "cat_one_hot_attribs = list(cat_encoder.categories_[0])\n",
    "attributes = num_attribs + extra_attribs + cat_one_hot_attribs\n",
    "sorted(zip(feature_importances, attributes), reverse=True)"
   ]
  },
  {
   "cell_type": "markdown",
   "id": "abac712d-17a1-499e-b161-4350fd4bcdd3",
   "metadata": {},
   "source": [
    "#### Model Test"
   ]
  },
  {
   "cell_type": "code",
   "execution_count": 99,
   "id": "8ca04f99-2630-44db-baf5-ca512456bb06",
   "metadata": {
    "tags": []
   },
   "outputs": [
    {
     "name": "stdout",
     "output_type": "stream",
     "text": [
      "47766.34153125065\n"
     ]
    }
   ],
   "source": [
    "### Test set 사용\n",
    "final_model = grid_search.best_estimator_\n",
    "\n",
    "x_test = strat_test.drop(\"median_house_value\", axis=1)\n",
    "y_test = strat_test[\"median_house_value\"].copy()\n",
    "\n",
    "x_test_prepared = full_pipeline.transform(x_test)\n",
    "final_predictions = final_model.predict(x_test_prepared)\n",
    "\n",
    "print(mean_squared_error(y_test, final_predictions, squared=False))"
   ]
  },
  {
   "cell_type": "code",
   "execution_count": 100,
   "id": "b4b52ab5-f802-431a-9a12-2a31c54daba6",
   "metadata": {
    "tags": []
   },
   "outputs": [
    {
     "name": "stdout",
     "output_type": "stream",
     "text": [
      "[45847.46771481 49611.05190076]\n",
      "45848.04225163724 49610.52094316534\n"
     ]
    }
   ],
   "source": [
    "# 95% CI for Test RMSE\n",
    "confidence = 0.95\n",
    "squared_errors = (final_predictions - y_test) ** 2\n",
    "print(np.sqrt(stats.t.interval(confidence, len(squared_errors)-1, loc=squared_errors.mean(), scale=stats.sem(squared_errors))))\n",
    "\n",
    "# z-score\n",
    "mean = squared_errors.mean()\n",
    "zscore = stats.norm.ppf((1 + confidence) / 2)\n",
    "zmargin = zscore * squared_errors.std(ddof=1) / np.sqrt(len(squared_errors))\n",
    "print(np.sqrt(mean - zmargin), np.sqrt(mean + zmargin))"
   ]
  },
  {
   "cell_type": "markdown",
   "id": "7017b838-26c4-443a-b133-19e841687da8",
   "metadata": {},
   "source": [
    "### (2) Boston dataset"
   ]
  },
  {
   "cell_type": "code",
   "execution_count": 200,
   "id": "e917f53e-b7a5-4c6c-9be3-f9a517a902de",
   "metadata": {},
   "outputs": [],
   "source": [
    "x = boston[['CRIM', 'ZN', 'INDUS', 'NOX', 'RM', 'AGE', 'DIS', 'RAD', 'TAX', 'PTRATIO', 'B', 'LSTAT']].values\n",
    "y = boston['MEDV'].values"
   ]
  },
  {
   "cell_type": "code",
   "execution_count": 201,
   "id": "ab1eb66a-c17e-438b-8448-d737820ceb3a",
   "metadata": {},
   "outputs": [
    {
     "name": "stdout",
     "output_type": "stream",
     "text": [
      "alpha 0일 때 5 폴드 세트의 평균 RMSE: 5.773 \n",
      "alpha 0.1일 때 5 폴드 세트의 평균 RMSE: 5.741 \n",
      "alpha 1일 때 5 폴드 세트의 평균 RMSE: 5.645 \n",
      "alpha 10일 때 5 폴드 세트의 평균 RMSE: 5.555 \n",
      "alpha 100일 때 5 폴드 세트의 평균 RMSE: 5.347 \n"
     ]
    }
   ],
   "source": [
    "ridge_alphas = [0, 0.1, 1, 10, 100]\n",
    "\n",
    "for param in ridge_alphas:\n",
    "    model = Ridge(alpha=param)\n",
    "    neg_mse_scores = cross_val_score(model, x, y, scoring=\"neg_mean_squared_error\", cv=5)\n",
    "    avg_rmse = np.mean(np.sqrt(-1 * neg_mse_scores))\n",
    "    print('alpha {0}일 때 5 폴드 세트의 평균 RMSE: {1:.3f} '.format(param, avg_rmse))\n",
    "        \n",
    "    # cross_val_score는 evaluation metric만 반환하므로 모델을 다시 학습하여 회귀 계수 추출\n",
    "    model.fit(x, y)\n",
    "\n",
    "    # alpha에 따른 피처별 회귀 계수를 Series로 변환하고 이를 DataFrame의 컬럼으로 추가. \n",
    "    coeff = pd.Series(data=model.coef_, index=['CRIM', 'ZN', 'INDUS', 'NOX', 'RM', 'AGE', 'DIS', 'RAD', 'TAX', 'PTRATIO', 'B', 'LSTAT'])\n",
    "    colname = 'alpha:' + str(param)"
   ]
  },
  {
   "cell_type": "code",
   "execution_count": 202,
   "id": "c0cb0375-a397-4b89-b83a-4674cae4583f",
   "metadata": {},
   "outputs": [
    {
     "data": {
      "image/png": "[encoded data removed]",
      "text/plain": [
       "<Figure size 1296x432 with 5 Axes>"
      ]
     },
     "metadata": {
      "needs_background": "light"
     },
     "output_type": "display_data"
    }
   ],
   "source": [
    "# 각 alpha에 따른 회귀 계수 값을 시각화하기 위해 5개의 열로 된 축 생성  \n",
    "fig , axs = plt.subplots(figsize=(18, 6) , nrows=1 , ncols=5)\n",
    "coeff_df = pd.DataFrame()\n",
    "\n",
    "# alphas 리스트 값을 차례로 입력해 회귀 계수 값 시각화 및 데이터 저장. pos는 axis의 위치 지정\n",
    "for pos, alpha in enumerate(ridge_alphas):\n",
    "    ridge = Ridge(alpha=alpha)\n",
    "    ridge.fit(x, y)\n",
    "    # alpha에 따른 피처별 회귀 계수를 Series로 변환하고 이를 DataFrame의 컬럼으로 추가.  \n",
    "    coeff = pd.Series(data=ridge.coef_, index=['CRIM', 'ZN', 'INDUS', 'NOX', 'RM', 'AGE', 'DIS', 'RAD', 'TAX', 'PTRATIO', 'B', 'LSTAT'])\n",
    "    colname='alpha:' + str(alpha)\n",
    "    coeff_df[colname] = coeff\n",
    "    \n",
    "    # 막대 그래프로 각 alpha 값에서의 회귀 계수를 시각화. 회귀 계수값이 높은 순으로 표현\n",
    "    coeff = coeff.sort_values(ascending=False)\n",
    "    axs[pos].set_title(colname)\n",
    "    axs[pos].set_xlim(-3, 6)\n",
    "    \n",
    "    sns.barplot(x=coeff.values, y=coeff.index, ax=axs[pos])\n",
    "\n",
    "plt.show()"
   ]
  },
  {
   "cell_type": "code",
   "execution_count": 203,
   "id": "b39e9429-e455-412c-8853-78140911a421",
   "metadata": {},
   "outputs": [
    {
     "data": {
      "text/html": [
       "<div>\n",
       "<style scoped>\n",
       "    .dataframe tbody tr th:only-of-type {\n",
       "        vertical-align: middle;\n",
       "    }\n",
       "\n",
       "    .dataframe tbody tr th {\n",
       "        vertical-align: top;\n",
       "    }\n",
       "\n",
       "    .dataframe thead th {\n",
       "        text-align: right;\n",
       "    }\n",
       "</style>\n",
       "<table border=\"1\" class=\"dataframe\">\n",
       "  <thead>\n",
       "    <tr style=\"text-align: right;\">\n",
       "      <th></th>\n",
       "      <th>alpha:0</th>\n",
       "      <th>alpha:0.1</th>\n",
       "      <th>alpha:1</th>\n",
       "      <th>alpha:10</th>\n",
       "      <th>alpha:100</th>\n",
       "    </tr>\n",
       "  </thead>\n",
       "  <tbody>\n",
       "    <tr>\n",
       "      <th>RM</th>\n",
       "      <td>3.850492</td>\n",
       "      <td>3.858334</td>\n",
       "      <td>3.890827</td>\n",
       "      <td>3.727496</td>\n",
       "      <td>2.339810</td>\n",
       "    </tr>\n",
       "    <tr>\n",
       "      <th>RAD</th>\n",
       "      <td>0.328311</td>\n",
       "      <td>0.325699</td>\n",
       "      <td>0.311668</td>\n",
       "      <td>0.296401</td>\n",
       "      <td>0.320815</td>\n",
       "    </tr>\n",
       "    <tr>\n",
       "      <th>ZN</th>\n",
       "      <td>0.047052</td>\n",
       "      <td>0.047197</td>\n",
       "      <td>0.048026</td>\n",
       "      <td>0.050017</td>\n",
       "      <td>0.054656</td>\n",
       "    </tr>\n",
       "    <tr>\n",
       "      <th>INDUS</th>\n",
       "      <td>0.040311</td>\n",
       "      <td>0.035732</td>\n",
       "      <td>0.010595</td>\n",
       "      <td>-0.027579</td>\n",
       "      <td>-0.047854</td>\n",
       "    </tr>\n",
       "    <tr>\n",
       "      <th>B</th>\n",
       "      <td>0.009741</td>\n",
       "      <td>0.009794</td>\n",
       "      <td>0.010074</td>\n",
       "      <td>0.010335</td>\n",
       "      <td>0.009486</td>\n",
       "    </tr>\n",
       "    <tr>\n",
       "      <th>AGE</th>\n",
       "      <td>0.002784</td>\n",
       "      <td>0.001832</td>\n",
       "      <td>-0.003288</td>\n",
       "      <td>-0.008940</td>\n",
       "      <td>0.001833</td>\n",
       "    </tr>\n",
       "    <tr>\n",
       "      <th>TAX</th>\n",
       "      <td>-0.013756</td>\n",
       "      <td>-0.013831</td>\n",
       "      <td>-0.014251</td>\n",
       "      <td>-0.015008</td>\n",
       "      <td>-0.016184</td>\n",
       "    </tr>\n",
       "    <tr>\n",
       "      <th>CRIM</th>\n",
       "      <td>-0.113139</td>\n",
       "      <td>-0.112582</td>\n",
       "      <td>-0.109545</td>\n",
       "      <td>-0.105290</td>\n",
       "      <td>-0.103453</td>\n",
       "    </tr>\n",
       "    <tr>\n",
       "      <th>LSTAT</th>\n",
       "      <td>-0.534158</td>\n",
       "      <td>-0.535288</td>\n",
       "      <td>-0.542158</td>\n",
       "      <td>-0.566095</td>\n",
       "      <td>-0.663160</td>\n",
       "    </tr>\n",
       "    <tr>\n",
       "      <th>PTRATIO</th>\n",
       "      <td>-0.990958</td>\n",
       "      <td>-0.979006</td>\n",
       "      <td>-0.914063</td>\n",
       "      <td>-0.828463</td>\n",
       "      <td>-0.838930</td>\n",
       "    </tr>\n",
       "    <tr>\n",
       "      <th>DIS</th>\n",
       "      <td>-1.485374</td>\n",
       "      <td>-1.469729</td>\n",
       "      <td>-1.384179</td>\n",
       "      <td>-1.259663</td>\n",
       "      <td>-1.157028</td>\n",
       "    </tr>\n",
       "    <tr>\n",
       "      <th>NOX</th>\n",
       "      <td>-17.366999</td>\n",
       "      <td>-16.311641</td>\n",
       "      <td>-10.546404</td>\n",
       "      <td>-2.332452</td>\n",
       "      <td>-0.261259</td>\n",
       "    </tr>\n",
       "  </tbody>\n",
       "</table>\n",
       "</div>"
      ],
      "text/plain": [
       "           alpha:0  alpha:0.1    alpha:1  alpha:10  alpha:100\n",
       "RM        3.850492   3.858334   3.890827  3.727496   2.339810\n",
       "RAD       0.328311   0.325699   0.311668  0.296401   0.320815\n",
       "ZN        0.047052   0.047197   0.048026  0.050017   0.054656\n",
       "INDUS     0.040311   0.035732   0.010595 -0.027579  -0.047854\n",
       "B         0.009741   0.009794   0.010074  0.010335   0.009486\n",
       "AGE       0.002784   0.001832  -0.003288 -0.008940   0.001833\n",
       "TAX      -0.013756  -0.013831  -0.014251 -0.015008  -0.016184\n",
       "CRIM     -0.113139  -0.112582  -0.109545 -0.105290  -0.103453\n",
       "LSTAT    -0.534158  -0.535288  -0.542158 -0.566095  -0.663160\n",
       "PTRATIO  -0.990958  -0.979006  -0.914063 -0.828463  -0.838930\n",
       "DIS      -1.485374  -1.469729  -1.384179 -1.259663  -1.157028\n",
       "NOX     -17.366999 -16.311641 -10.546404 -2.332452  -0.261259"
      ]
     },
     "execution_count": 203,
     "metadata": {},
     "output_type": "execute_result"
    }
   ],
   "source": [
    "# 반환된 coeff_ridge_df를 첫번째 컬럼순으로 내림차순 정렬하여 회귀계수 DataFrame출력\n",
    "sort_column = 'alpha:' + str(ridge_alphas[0])\n",
    "coeff_df.sort_values(by=sort_column, ascending=False)"
   ]
  },
  {
   "cell_type": "code",
   "execution_count": 204,
   "id": "5099a561-de74-4908-92ff-7d5a072ef028",
   "metadata": {},
   "outputs": [
    {
     "name": "stdout",
     "output_type": "stream",
     "text": [
      "(506, 12) (506, 12)\n",
      "\n",
      "## 변환 유형:None, Polynomial Degree:None\n",
      "alpha 0일 때 5 폴드 세트의 평균 RMSE: 5.773 \n",
      "alpha 0.1일 때 5 폴드 세트의 평균 RMSE: 5.741 \n",
      "alpha 1일 때 5 폴드 세트의 평균 RMSE: 5.645 \n",
      "alpha 10일 때 5 폴드 세트의 평균 RMSE: 5.555 \n",
      "alpha 100일 때 5 폴드 세트의 평균 RMSE: 5.347 \n",
      "(506, 12) (506, 12)\n",
      "\n",
      "## 변환 유형:Standard, Polynomial Degree:None\n",
      "alpha 0일 때 5 폴드 세트의 평균 RMSE: 5.773 \n",
      "alpha 0.1일 때 5 폴드 세트의 평균 RMSE: 5.741 \n",
      "alpha 1일 때 5 폴드 세트의 평균 RMSE: 5.645 \n",
      "alpha 10일 때 5 폴드 세트의 평균 RMSE: 5.555 \n",
      "alpha 100일 때 5 폴드 세트의 평균 RMSE: 5.347 \n",
      "(506, 90) (506, 12)\n",
      "\n",
      "## 변환 유형:Standard, Polynomial Degree:2\n",
      "alpha 0일 때 5 폴드 세트의 평균 RMSE: 5.773 \n",
      "alpha 0.1일 때 5 폴드 세트의 평균 RMSE: 5.741 \n",
      "alpha 1일 때 5 폴드 세트의 평균 RMSE: 5.645 \n",
      "alpha 10일 때 5 폴드 세트의 평균 RMSE: 5.555 \n",
      "alpha 100일 때 5 폴드 세트의 평균 RMSE: 5.347 \n",
      "(506, 12) (506, 12)\n",
      "\n",
      "## 변환 유형:MinMax, Polynomial Degree:None\n",
      "alpha 0일 때 5 폴드 세트의 평균 RMSE: 5.773 \n",
      "alpha 0.1일 때 5 폴드 세트의 평균 RMSE: 5.741 \n",
      "alpha 1일 때 5 폴드 세트의 평균 RMSE: 5.645 \n",
      "alpha 10일 때 5 폴드 세트의 평균 RMSE: 5.555 \n",
      "alpha 100일 때 5 폴드 세트의 평균 RMSE: 5.347 \n",
      "(506, 90) (506, 12)\n",
      "\n",
      "## 변환 유형:MinMax, Polynomial Degree:2\n",
      "alpha 0일 때 5 폴드 세트의 평균 RMSE: 5.773 \n",
      "alpha 0.1일 때 5 폴드 세트의 평균 RMSE: 5.741 \n",
      "alpha 1일 때 5 폴드 세트의 평균 RMSE: 5.645 \n",
      "alpha 10일 때 5 폴드 세트의 평균 RMSE: 5.555 \n",
      "alpha 100일 때 5 폴드 세트의 평균 RMSE: 5.347 \n",
      "(506, 12) (506, 12)\n",
      "\n",
      "## 변환 유형:Log, Polynomial Degree:None\n",
      "alpha 0일 때 5 폴드 세트의 평균 RMSE: 5.773 \n",
      "alpha 0.1일 때 5 폴드 세트의 평균 RMSE: 5.741 \n",
      "alpha 1일 때 5 폴드 세트의 평균 RMSE: 5.645 \n",
      "alpha 10일 때 5 폴드 세트의 평균 RMSE: 5.555 \n",
      "alpha 100일 때 5 폴드 세트의 평균 RMSE: 5.347 \n"
     ]
    }
   ],
   "source": [
    "# Ridge의 alpha값을 다르게 적용하고 다양한 데이터 변환방법에 따른 RMSE 추출\n",
    "# 변환 방법은 모두 6개, 원본 그대로, 표준정규분포, 표준정규분포+다항식 특성\n",
    "# 최대/최소 정규화, 최대/최소 정규화+다항식 특성, 로그변환 \n",
    "scale_methods = [(None, None), ('Standard', None), ('Standard', 2), ('MinMax', None), ('MinMax', 2), ('Log', None)]\n",
    "\n",
    "for scale_method in scale_methods:\n",
    "    if scale_method[0]=='Standard':\n",
    "        x_scaled = StandardScaler().fit_transform(x)\n",
    "    elif scale_method[0]=='MinMax':\n",
    "        x_scaled = MinMaxScaler().fit_transform(x)\n",
    "    elif scale_method[0]=='Log':\n",
    "        x_scaled = np.log1p(x)\n",
    "    else:\n",
    "        x_scaled = x\n",
    "\n",
    "    if scale_method[1] != None: # p_degree\n",
    "        x_scaled = PolynomialFeatures(degree=scale_method[1], include_bias=False).fit_transform(x_scaled)\n",
    "\n",
    "    print(x_scaled.shape, x.shape)\n",
    "    print('\\n## 변환 유형:{0}, Polynomial Degree:{1}'.format(scale_method[0], scale_method[1]))\n",
    "\n",
    "    for param in ridge_alphas:\n",
    "        model = Ridge(alpha=param)\n",
    "        neg_mse_scores = cross_val_score(model, x, y, scoring=\"neg_mean_squared_error\", cv=5)\n",
    "        avg_rmse = np.mean(np.sqrt(-1 * neg_mse_scores))\n",
    "        print('alpha {0}일 때 5 폴드 세트의 평균 RMSE: {1:.3f} '.format(param, avg_rmse))\n",
    "        \n",
    "        # cross_val_score는 evaluation metric만 반환하므로 모델을 다시 학습하여 회귀 계수 추출\n",
    "        model.fit(x, y)\n",
    "\n",
    "        # alpha에 따른 피처별 회귀 계수를 Series로 변환하고 이를 DataFrame의 컬럼으로 추가. \n",
    "        coeff = pd.Series(data=model.coef_, index=['CRIM', 'ZN', 'INDUS', 'NOX', 'RM', 'AGE', 'DIS', 'RAD', 'TAX', 'PTRATIO', 'B', 'LSTAT'])\n",
    "        colname = 'alpha:' + str(param)"
   ]
  },
  {
   "cell_type": "code",
   "execution_count": 213,
   "id": "e31749c1-eaff-4ed5-b949-9510ebd89d82",
   "metadata": {},
   "outputs": [
    {
     "name": "stdout",
     "output_type": "stream",
     "text": [
      "alpha 0.07일 때 5 폴드 세트의 평균 RMSE: 5.631 \n",
      "alpha 0.1일 때 5 폴드 세트의 평균 RMSE: 5.627 \n",
      "alpha 0.5일 때 5 폴드 세트의 평균 RMSE: 5.669 \n",
      "alpha 1일 때 5 폴드 세트의 평균 RMSE: 5.776 \n",
      "alpha 3일 때 5 폴드 세트의 평균 RMSE: 6.189 \n"
     ]
    }
   ],
   "source": [
    "lasso_alphas = [0.07, 0.1, 0.5, 1, 3]\n",
    "\n",
    "coeff_df = pd.DataFrame()\n",
    "for param in lasso_alphas:\n",
    "    model = Lasso(alpha=param)\n",
    "    neg_mse_scores = cross_val_score(model, x, y, scoring=\"neg_mean_squared_error\", cv=5)\n",
    "    avg_rmse = np.mean(np.sqrt(-1 * neg_mse_scores))\n",
    "    print('alpha {0}일 때 5 폴드 세트의 평균 RMSE: {1:.3f} '.format(param, avg_rmse))\n",
    "        \n",
    "    # cross_val_score는 evaluation metric만 반환하므로 모델을 다시 학습하여 회귀 계수 추출\n",
    "    model.fit(x, y)\n",
    "\n",
    "    # alpha에 따른 피처별 회귀 계수를 Series로 변환하고 이를 DataFrame의 컬럼으로 추가. \n",
    "    coeff = pd.Series(data=model.coef_, index=['CRIM', 'ZN', 'INDUS', 'NOX', 'RM', 'AGE', 'DIS', 'RAD', 'TAX', 'PTRATIO', 'B', 'LSTAT'])\n",
    "    colname = 'alpha:' + str(param)\n",
    "    coeff_df[colname] = coeff"
   ]
  },
  {
   "cell_type": "code",
   "execution_count": 214,
   "id": "8a6883e3-0060-4d5c-af77-40bc4cf96f11",
   "metadata": {},
   "outputs": [
    {
     "data": {
      "text/html": [
       "<div>\n",
       "<style scoped>\n",
       "    .dataframe tbody tr th:only-of-type {\n",
       "        vertical-align: middle;\n",
       "    }\n",
       "\n",
       "    .dataframe tbody tr th {\n",
       "        vertical-align: top;\n",
       "    }\n",
       "\n",
       "    .dataframe thead th {\n",
       "        text-align: right;\n",
       "    }\n",
       "</style>\n",
       "<table border=\"1\" class=\"dataframe\">\n",
       "  <thead>\n",
       "    <tr style=\"text-align: right;\">\n",
       "      <th></th>\n",
       "      <th>alpha:0.07</th>\n",
       "      <th>alpha:0.1</th>\n",
       "      <th>alpha:0.5</th>\n",
       "      <th>alpha:1</th>\n",
       "      <th>alpha:3</th>\n",
       "    </tr>\n",
       "  </thead>\n",
       "  <tbody>\n",
       "    <tr>\n",
       "      <th>RM</th>\n",
       "      <td>3.809254</td>\n",
       "      <td>3.716204</td>\n",
       "      <td>2.498212</td>\n",
       "      <td>0.949811</td>\n",
       "      <td>0.000000</td>\n",
       "    </tr>\n",
       "    <tr>\n",
       "      <th>RAD</th>\n",
       "      <td>0.283357</td>\n",
       "      <td>0.282979</td>\n",
       "      <td>0.277451</td>\n",
       "      <td>0.264206</td>\n",
       "      <td>0.061864</td>\n",
       "    </tr>\n",
       "    <tr>\n",
       "      <th>ZN</th>\n",
       "      <td>0.049369</td>\n",
       "      <td>0.049418</td>\n",
       "      <td>0.049544</td>\n",
       "      <td>0.049165</td>\n",
       "      <td>0.037231</td>\n",
       "    </tr>\n",
       "    <tr>\n",
       "      <th>B</th>\n",
       "      <td>0.010467</td>\n",
       "      <td>0.010395</td>\n",
       "      <td>0.009469</td>\n",
       "      <td>0.008247</td>\n",
       "      <td>0.006510</td>\n",
       "    </tr>\n",
       "    <tr>\n",
       "      <th>NOX</th>\n",
       "      <td>-0.000000</td>\n",
       "      <td>-0.000000</td>\n",
       "      <td>-0.000000</td>\n",
       "      <td>-0.000000</td>\n",
       "      <td>0.000000</td>\n",
       "    </tr>\n",
       "    <tr>\n",
       "      <th>AGE</th>\n",
       "      <td>-0.010392</td>\n",
       "      <td>-0.009162</td>\n",
       "      <td>0.003604</td>\n",
       "      <td>0.020910</td>\n",
       "      <td>0.042495</td>\n",
       "    </tr>\n",
       "    <tr>\n",
       "      <th>TAX</th>\n",
       "      <td>-0.015034</td>\n",
       "      <td>-0.015065</td>\n",
       "      <td>-0.015442</td>\n",
       "      <td>-0.015212</td>\n",
       "      <td>-0.008602</td>\n",
       "    </tr>\n",
       "    <tr>\n",
       "      <th>INDUS</th>\n",
       "      <td>-0.030656</td>\n",
       "      <td>-0.028984</td>\n",
       "      <td>-0.005253</td>\n",
       "      <td>-0.000000</td>\n",
       "      <td>-0.000000</td>\n",
       "    </tr>\n",
       "    <tr>\n",
       "      <th>CRIM</th>\n",
       "      <td>-0.101042</td>\n",
       "      <td>-0.099791</td>\n",
       "      <td>-0.083289</td>\n",
       "      <td>-0.063437</td>\n",
       "      <td>-0.000000</td>\n",
       "    </tr>\n",
       "    <tr>\n",
       "      <th>LSTAT</th>\n",
       "      <td>-0.565260</td>\n",
       "      <td>-0.571985</td>\n",
       "      <td>-0.656290</td>\n",
       "      <td>-0.761115</td>\n",
       "      <td>-0.807679</td>\n",
       "    </tr>\n",
       "    <tr>\n",
       "      <th>PTRATIO</th>\n",
       "      <td>-0.787939</td>\n",
       "      <td>-0.785859</td>\n",
       "      <td>-0.758752</td>\n",
       "      <td>-0.722966</td>\n",
       "      <td>-0.265072</td>\n",
       "    </tr>\n",
       "    <tr>\n",
       "      <th>DIS</th>\n",
       "      <td>-1.184970</td>\n",
       "      <td>-1.166124</td>\n",
       "      <td>-0.936605</td>\n",
       "      <td>-0.668790</td>\n",
       "      <td>-0.000000</td>\n",
       "    </tr>\n",
       "  </tbody>\n",
       "</table>\n",
       "</div>"
      ],
      "text/plain": [
       "         alpha:0.07  alpha:0.1  alpha:0.5   alpha:1   alpha:3\n",
       "RM         3.809254   3.716204   2.498212  0.949811  0.000000\n",
       "RAD        0.283357   0.282979   0.277451  0.264206  0.061864\n",
       "ZN         0.049369   0.049418   0.049544  0.049165  0.037231\n",
       "B          0.010467   0.010395   0.009469  0.008247  0.006510\n",
       "NOX       -0.000000  -0.000000  -0.000000 -0.000000  0.000000\n",
       "AGE       -0.010392  -0.009162   0.003604  0.020910  0.042495\n",
       "TAX       -0.015034  -0.015065  -0.015442 -0.015212 -0.008602\n",
       "INDUS     -0.030656  -0.028984  -0.005253 -0.000000 -0.000000\n",
       "CRIM      -0.101042  -0.099791  -0.083289 -0.063437 -0.000000\n",
       "LSTAT     -0.565260  -0.571985  -0.656290 -0.761115 -0.807679\n",
       "PTRATIO   -0.787939  -0.785859  -0.758752 -0.722966 -0.265072\n",
       "DIS       -1.184970  -1.166124  -0.936605 -0.668790 -0.000000"
      ]
     },
     "execution_count": 214,
     "metadata": {},
     "output_type": "execute_result"
    }
   ],
   "source": [
    "# 반환된 coeff_lasso_df를 첫번째 컬럼순으로 내림차순 정렬하여 회귀계수 DataFrame출력\n",
    "sort_column = 'alpha:'+str(lasso_alphas[0])\n",
    "coeff_df.sort_values(by=sort_column, ascending=False)"
   ]
  },
  {
   "cell_type": "code",
   "execution_count": 225,
   "id": "1e1c76b7-fc4a-41c4-b4bc-4b9d6676ad58",
   "metadata": {
    "tags": []
   },
   "outputs": [
    {
     "name": "stdout",
     "output_type": "stream",
     "text": [
      "alpha 0.07일 때 5 폴드 세트의 평균 RMSE: 5.532 \n",
      "alpha 0.1일 때 5 폴드 세트의 평균 RMSE: 5.500 \n",
      "alpha 0.5일 때 5 폴드 세트의 평균 RMSE: 5.413 \n",
      "alpha 1일 때 5 폴드 세트의 평균 RMSE: 5.522 \n",
      "alpha 3일 때 5 폴드 세트의 평균 RMSE: 5.954 \n"
     ]
    }
   ],
   "source": [
    "# 엘라스틱넷에 사용될 alpha 파라미터의 값들을 정의하고 get_linear_reg_eval() 함수 호출\n",
    "# l1_ratio는 0.7로 고정\n",
    "elastic_alphas = [0.07, 0.1, 0.5, 1, 3]\n",
    "coeff_df = pd.DataFrame()\n",
    "\n",
    "for param in elastic_alphas:\n",
    "    model = ElasticNet(alpha=param)\n",
    "    neg_mse_scores = cross_val_score(model, x, y, scoring=\"neg_mean_squared_error\", cv=5)\n",
    "    avg_rmse = np.mean(np.sqrt(-1 * neg_mse_scores))\n",
    "    print('alpha {0}일 때 5 폴드 세트의 평균 RMSE: {1:.3f} '.format(param, avg_rmse))\n",
    "        \n",
    "    # cross_val_score는 evaluation metric만 반환하므로 모델을 다시 학습하여 회귀 계수 추출\n",
    "    model.fit(x, y)\n",
    "\n",
    "    # alpha에 따른 피처별 회귀 계수를 Series로 변환하고 이를 DataFrame의 컬럼으로 추가. \n",
    "    coeff = pd.Series(data=model.coef_, index=['CRIM', 'ZN', 'INDUS', 'NOX', 'RM', 'AGE', 'DIS', 'RAD', 'TAX', 'PTRATIO', 'B', 'LSTAT'])\n",
    "    colname = 'alpha:' + str(param)\n",
    "    coeff_df[colname] = coeff    "
   ]
  },
  {
   "cell_type": "code",
   "execution_count": 226,
   "id": "b3b819e3-ed15-4eb2-ad4b-f8679293a532",
   "metadata": {},
   "outputs": [
    {
     "data": {
      "text/html": [
       "<div>\n",
       "<style scoped>\n",
       "    .dataframe tbody tr th:only-of-type {\n",
       "        vertical-align: middle;\n",
       "    }\n",
       "\n",
       "    .dataframe tbody tr th {\n",
       "        vertical-align: top;\n",
       "    }\n",
       "\n",
       "    .dataframe thead th {\n",
       "        text-align: right;\n",
       "    }\n",
       "</style>\n",
       "<table border=\"1\" class=\"dataframe\">\n",
       "  <thead>\n",
       "    <tr style=\"text-align: right;\">\n",
       "      <th></th>\n",
       "      <th>alpha:0.07</th>\n",
       "      <th>alpha:0.1</th>\n",
       "      <th>alpha:0.5</th>\n",
       "      <th>alpha:1</th>\n",
       "      <th>alpha:3</th>\n",
       "    </tr>\n",
       "  </thead>\n",
       "  <tbody>\n",
       "    <tr>\n",
       "      <th>RM</th>\n",
       "      <td>3.461602</td>\n",
       "      <td>3.264197</td>\n",
       "      <td>1.723609</td>\n",
       "      <td>0.933936</td>\n",
       "      <td>0.000000</td>\n",
       "    </tr>\n",
       "    <tr>\n",
       "      <th>RAD</th>\n",
       "      <td>0.295106</td>\n",
       "      <td>0.297253</td>\n",
       "      <td>0.311584</td>\n",
       "      <td>0.301569</td>\n",
       "      <td>0.199147</td>\n",
       "    </tr>\n",
       "    <tr>\n",
       "      <th>ZN</th>\n",
       "      <td>0.050970</td>\n",
       "      <td>0.051603</td>\n",
       "      <td>0.054045</td>\n",
       "      <td>0.053240</td>\n",
       "      <td>0.046018</td>\n",
       "    </tr>\n",
       "    <tr>\n",
       "      <th>B</th>\n",
       "      <td>0.010230</td>\n",
       "      <td>0.010112</td>\n",
       "      <td>0.008997</td>\n",
       "      <td>0.008339</td>\n",
       "      <td>0.007271</td>\n",
       "    </tr>\n",
       "    <tr>\n",
       "      <th>AGE</th>\n",
       "      <td>-0.007815</td>\n",
       "      <td>-0.006303</td>\n",
       "      <td>0.009475</td>\n",
       "      <td>0.020579</td>\n",
       "      <td>0.038926</td>\n",
       "    </tr>\n",
       "    <tr>\n",
       "      <th>TAX</th>\n",
       "      <td>-0.015304</td>\n",
       "      <td>-0.015465</td>\n",
       "      <td>-0.016300</td>\n",
       "      <td>-0.016439</td>\n",
       "      <td>-0.013587</td>\n",
       "    </tr>\n",
       "    <tr>\n",
       "      <th>INDUS</th>\n",
       "      <td>-0.035567</td>\n",
       "      <td>-0.038100</td>\n",
       "      <td>-0.031702</td>\n",
       "      <td>-0.012657</td>\n",
       "      <td>-0.000000</td>\n",
       "    </tr>\n",
       "    <tr>\n",
       "      <th>CRIM</th>\n",
       "      <td>-0.102876</td>\n",
       "      <td>-0.102033</td>\n",
       "      <td>-0.092503</td>\n",
       "      <td>-0.080371</td>\n",
       "      <td>-0.040903</td>\n",
       "    </tr>\n",
       "    <tr>\n",
       "      <th>NOX</th>\n",
       "      <td>-0.469266</td>\n",
       "      <td>-0.050892</td>\n",
       "      <td>-0.000000</td>\n",
       "      <td>-0.000000</td>\n",
       "      <td>-0.000000</td>\n",
       "    </tr>\n",
       "    <tr>\n",
       "      <th>LSTAT</th>\n",
       "      <td>-0.587466</td>\n",
       "      <td>-0.601659</td>\n",
       "      <td>-0.706176</td>\n",
       "      <td>-0.758426</td>\n",
       "      <td>-0.794154</td>\n",
       "    </tr>\n",
       "    <tr>\n",
       "      <th>PTRATIO</th>\n",
       "      <td>-0.810253</td>\n",
       "      <td>-0.808982</td>\n",
       "      <td>-0.803835</td>\n",
       "      <td>-0.748046</td>\n",
       "      <td>-0.476192</td>\n",
       "    </tr>\n",
       "    <tr>\n",
       "      <th>DIS</th>\n",
       "      <td>-1.206861</td>\n",
       "      <td>-1.187059</td>\n",
       "      <td>-0.989655</td>\n",
       "      <td>-0.762044</td>\n",
       "      <td>-0.224409</td>\n",
       "    </tr>\n",
       "  </tbody>\n",
       "</table>\n",
       "</div>"
      ],
      "text/plain": [
       "         alpha:0.07  alpha:0.1  alpha:0.5   alpha:1   alpha:3\n",
       "RM         3.461602   3.264197   1.723609  0.933936  0.000000\n",
       "RAD        0.295106   0.297253   0.311584  0.301569  0.199147\n",
       "ZN         0.050970   0.051603   0.054045  0.053240  0.046018\n",
       "B          0.010230   0.010112   0.008997  0.008339  0.007271\n",
       "AGE       -0.007815  -0.006303   0.009475  0.020579  0.038926\n",
       "TAX       -0.015304  -0.015465  -0.016300 -0.016439 -0.013587\n",
       "INDUS     -0.035567  -0.038100  -0.031702 -0.012657 -0.000000\n",
       "CRIM      -0.102876  -0.102033  -0.092503 -0.080371 -0.040903\n",
       "NOX       -0.469266  -0.050892  -0.000000 -0.000000 -0.000000\n",
       "LSTAT     -0.587466  -0.601659  -0.706176 -0.758426 -0.794154\n",
       "PTRATIO   -0.810253  -0.808982  -0.803835 -0.748046 -0.476192\n",
       "DIS       -1.206861  -1.187059  -0.989655 -0.762044 -0.224409"
      ]
     },
     "execution_count": 226,
     "metadata": {},
     "output_type": "execute_result"
    }
   ],
   "source": [
    "# 반환된 coeff_elastic_df를 첫번째 컬럼순으로 내림차순 정렬하여 회귀계수 DataFrame출력\n",
    "sort_column = 'alpha:'+str(elastic_alphas[0])\n",
    "coeff_df.sort_values(by=sort_column, ascending=False)"
   ]
  },
  {
   "cell_type": "code",
   "execution_count": 441,
   "id": "c85f12e4-c11d-42b4-be7b-5359cfcfb3f5",
   "metadata": {},
   "outputs": [
    {
     "name": "stdout",
     "output_type": "stream",
     "text": [
      "5 교차 검증의 개별 Negative MSE scores:  [-11.94 -36.25 -33.48 -46.05 -65.56]\n",
      "5 교차 검증의 개별 RMSE scores:  [3.46 6.02 5.79 6.79 8.1 ]\n",
      "5 교차 검증의 평균 RMSE: 6.029 \n"
     ]
    }
   ],
   "source": [
    "dt_reg = DecisionTreeRegressor(random_state=0, max_depth=4)\n",
    "neg_mse_scores = cross_val_score(dt_reg, x, y, scoring=\"neg_mean_squared_error\", cv=5)\n",
    "rmse_scores  = np.sqrt(-1 * neg_mse_scores)\n",
    "avg_rmse = np.mean(rmse_scores)\n",
    "\n",
    "print('5 교차 검증의 개별 Negative MSE scores: ', np.round(neg_mse_scores, 2))\n",
    "print('5 교차 검증의 개별 RMSE scores: ', np.round(rmse_scores, 2))\n",
    "print('5 교차 검증의 평균 RMSE: {0:.3f} '.format(avg_rmse))"
   ]
  },
  {
   "cell_type": "code",
   "execution_count": 442,
   "id": "31516eed-9983-4d91-9323-5e7251e10728",
   "metadata": {},
   "outputs": [
    {
     "data": {
      "text/plain": [
       "<AxesSubplot:>"
      ]
     },
     "execution_count": 442,
     "metadata": {},
     "output_type": "execute_result"
    },
    {
     "data": {
      "image/png": "[encoded data removed]",
      "text/plain": [
       "<Figure size 432x288 with 1 Axes>"
      ]
     },
     "metadata": {
      "needs_background": "light"
     },
     "output_type": "display_data"
    }
   ],
   "source": [
    "dt_reg.fit(x, y)\n",
    "features = ['CRIM', 'ZN', 'INDUS', 'NOX', 'RM', 'AGE', 'DIS', 'RAD', 'TAX', 'PTRATIO', 'B', 'LSTAT']\n",
    "feature_series = pd.Series(data=dt_reg.feature_importances_, index=features)\n",
    "feature_series = feature_series.sort_values(ascending=False)\n",
    "sns.barplot(x=feature_series, y=feature_series.index)"
   ]
  },
  {
   "cell_type": "code",
   "execution_count": 443,
   "id": "e7c69502-4e40-4ae5-9651-f12285b7726a",
   "metadata": {},
   "outputs": [
    {
     "name": "stdout",
     "output_type": "stream",
     "text": [
      "(100, 2)\n"
     ]
    },
    {
     "data": {
      "image/png": "[encoded data removed]",
      "text/plain": [
       "<Figure size 432x288 with 1 Axes>"
      ]
     },
     "metadata": {
      "needs_background": "light"
     },
     "output_type": "display_data"
    }
   ],
   "source": [
    "boston_sample = boston[['RM', 'MEDV']]\n",
    "boston_sample = boston_sample.sample(n=100, random_state=0)\n",
    "print(boston_sample.shape)\n",
    "\n",
    "sns.scatterplot(x=boston_sample.RM, y=boston_sample.MEDV, color=\"darkorange\")\n",
    "plt.show()"
   ]
  },
  {
   "cell_type": "code",
   "execution_count": 444,
   "id": "f86205fe-f2b8-4a4d-a601-94b382af29f3",
   "metadata": {},
   "outputs": [],
   "source": [
    "rf_reg2 = DecisionTreeRegressor(max_depth=2)\n",
    "rf_reg7 = DecisionTreeRegressor(max_depth=7)\n",
    "\n",
    "# 실제 예측을 적용할 테스트용 데이터 셋을 4.5 ~ 8.5 까지 100개 데이터 셋 생성. \n",
    "x_test = np.arange(4.5, 8.5, 0.04).reshape(-1, 1)\n",
    "\n",
    "# 보스턴 주택가격 데이터에서 시각화를 위해 피처는 RM만, 그리고 결정 데이터인 Price 추출\n",
    "x_feature = boston_sample['RM'].values.reshape(-1, 1)\n",
    "y_target = boston_sample['MEDV'].values.reshape(-1, 1)\n",
    "\n",
    "# 학습과 예측 수행. \n",
    "rf_reg2.fit(x_feature, y_target)\n",
    "rf_reg7.fit(x_feature, y_target)\n",
    "\n",
    "pred_rf2 = rf_reg2.predict(x_test)\n",
    "pred_rf7 = rf_reg7.predict(x_test)"
   ]
  },
  {
   "cell_type": "code",
   "execution_count": 445,
   "id": "6440ec45-e2b2-4bea-b402-40a5ba15ba22",
   "metadata": {},
   "outputs": [
    {
     "data": {
      "image/png": "[encoded data removed]",
      "text/plain": [
       "<Figure size 1008x288 with 2 Axes>"
      ]
     },
     "metadata": {
      "needs_background": "light"
     },
     "output_type": "display_data"
    }
   ],
   "source": [
    "fig, (ax1, ax2) = plt.subplots(figsize=(14, 4), ncols=2)\n",
    "\n",
    "# X축값을 4.5 ~ 8.5로 변환하며 입력했을 때, 트리 회귀 예측 선 시각화\n",
    "# DecisionTreeRegressor의 max_depth를 2로 했을 때 회귀 예측선 \n",
    "ax1.set_title('Decision Tree Regression: \\n max_depth=2')\n",
    "sns.scatterplot(x=boston_sample.RM, y=boston_sample.MEDV, color=\"darkorange\", ax=ax1)\n",
    "sns.lineplot(x=x_test.reshape(1, -1)[0], y=pred_rf2.reshape(1, -1)[0], label=\"max_depth:3\", linewidth=2, ax=ax1)\n",
    "\n",
    "# DecisionTreeRegressor의 max_depth를 7로 했을 때 회귀 예측선 \n",
    "ax2.set_title('Decision Tree Regression: \\n max_depth=7')\n",
    "sns.scatterplot(x=boston_sample.RM, y=boston_sample.MEDV, color=\"darkorange\", ax=ax2)\n",
    "sns.lineplot(x=x_test.reshape(1, -1)[0], y=pred_rf7.reshape(1, -1)[0], label=\"max_depth:7\", linewidth=2, ax=ax2)\n",
    "plt.show()"
   ]
  },
  {
   "cell_type": "markdown",
   "id": "75c9706e-f8c9-4a91-b13d-094b8da488ff",
   "metadata": {},
   "source": [
    "## Classification"
   ]
  },
  {
   "cell_type": "markdown",
   "id": "e2478af6-20e0-40fb-b2e9-3dccf0866950",
   "metadata": {
    "tags": []
   },
   "source": [
    "### (1) Mnist dataset"
   ]
  },
  {
   "cell_type": "code",
   "execution_count": 101,
   "id": "445e09e8-c502-4c56-b49c-404dc3880d79",
   "metadata": {
    "tags": []
   },
   "outputs": [],
   "source": [
    "from sklearn.datasets import fetch_openml"
   ]
  },
  {
   "cell_type": "code",
   "execution_count": 102,
   "id": "1f338a68-4df9-4aa5-b5c6-bf42a0a998f5",
   "metadata": {},
   "outputs": [
    {
     "name": "stdout",
     "output_type": "stream",
     "text": [
      "(70000, 784) (70000,)\n"
     ]
    }
   ],
   "source": [
    "mnist = fetch_openml('mnist_784', version=1, as_frame=False)\n",
    "\n",
    "x, y = mnist[\"data\"], mnist[\"target\"]\n",
    "print(x.shape, y.shape)"
   ]
  },
  {
   "cell_type": "code",
   "execution_count": 103,
   "id": "00bea5db-ac5b-414c-9b23-bcd6e897f3bf",
   "metadata": {
    "tags": []
   },
   "outputs": [
    {
     "data": {
      "text/plain": [
       "array([5, 0, 4, ..., 4, 5, 6], dtype=uint8)"
      ]
     },
     "execution_count": 103,
     "metadata": {},
     "output_type": "execute_result"
    }
   ],
   "source": [
    "# y type 변환\n",
    "y = y.astype(np.uint8)\n",
    "y"
   ]
  },
  {
   "cell_type": "code",
   "execution_count": 104,
   "id": "04705b6c-6c9f-4378-87fa-3ed568ef8c0c",
   "metadata": {
    "tags": []
   },
   "outputs": [
    {
     "data": {
      "image/png": "[encoded data removed]",
      "text/plain": [
       "<Figure size 648x648 with 1 Axes>"
      ]
     },
     "metadata": {
      "needs_background": "light"
     },
     "output_type": "display_data"
    }
   ],
   "source": [
    "def plot_digit(data):\n",
    "    image = data.reshape(28, 28)\n",
    "    plt.imshow(image, cmap=mpl.cm.binary, interpolation=\"nearest\")\n",
    "    plt.axis(\"off\")\n",
    "\n",
    "# 숫자 그림을 위한 추가 함수\n",
    "def plot_digits(instances, images_per_row=10, **options):\n",
    "    size = 28\n",
    "    images_per_row = min(len(instances), images_per_row)\n",
    "    # n_rows = ceil(len(instances) / images_per_row) 와 동일합니다.\n",
    "    n_rows = (len(instances) - 1) // images_per_row + 1\n",
    "\n",
    "    # 필요하면 그리드 끝을 채우기 위해 빈 이미지를 추가합니다:\n",
    "    n_empty = n_rows * images_per_row - len(instances)\n",
    "    padded_instances = np.concatenate([instances, np.zeros((n_empty, size * size))], axis=0)\n",
    "\n",
    "    # 배열의 크기를 바꾸어 28×28 이미지를 담은 그리드로 구성합니다:\n",
    "    image_grid = padded_instances.reshape((n_rows, images_per_row, size, size))\n",
    "\n",
    "    # 축 0(이미지 그리드의 수직축)과 2(이미지의 수직축)를 합치고 축 1과 3(두 수평축)을 합칩니다. \n",
    "    # 먼저 transpose()를 사용해 결합하려는 축을 옆으로 이동한 다음 합칩니다:\n",
    "    big_image = image_grid.transpose(0, 2, 1, 3).reshape(n_rows * size, images_per_row * size)\n",
    "    # 하나의 큰 이미지를 얻었으므로 출력하면 됩니다.\n",
    "    plt.imshow(big_image, cmap=mpl.cm.binary, **options)\n",
    "    plt.axis(\"off\")\n",
    "    \n",
    "plt.figure(figsize=(9, 9))\n",
    "example_images = x[:100]\n",
    "plot_digits(example_images, images_per_row=10)\n",
    "plt.show()"
   ]
  },
  {
   "cell_type": "markdown",
   "id": "db23916b-43a5-4fc9-92f3-2527971fa459",
   "metadata": {},
   "source": [
    "#### Preprocessing"
   ]
  },
  {
   "cell_type": "code",
   "execution_count": 105,
   "id": "75890bd2-738e-4f95-8a3b-fb023b71b97d",
   "metadata": {},
   "outputs": [],
   "source": [
    "### Data split\n",
    "x_train, x_test, y_train, y_test = x[:60000], x[60000:], y[:60000], y[60000:]"
   ]
  },
  {
   "cell_type": "code",
   "execution_count": 106,
   "id": "8e822e8d-29bf-448c-b886-c5dbdf2244a2",
   "metadata": {},
   "outputs": [],
   "source": [
    "### Scaling\n",
    "scaler = StandardScaler()\n",
    "x_train_scaled = scaler.fit_transform(x_train.astype(np.float64))"
   ]
  },
  {
   "cell_type": "markdown",
   "id": "b84ae42d-5542-46f1-97a9-d34e6157ddb9",
   "metadata": {},
   "source": [
    "#### Modeling - Binary"
   ]
  },
  {
   "cell_type": "code",
   "execution_count": 107,
   "id": "ee1c40d5-ab6e-4c71-b775-5ed659273b94",
   "metadata": {},
   "outputs": [],
   "source": [
    "### Biranry case로 변경\n",
    "y_train_5 = (y_train==5)\n",
    "y_test_5 = (y_test==5)"
   ]
  },
  {
   "cell_type": "code",
   "execution_count": 108,
   "id": "928a7734-337a-492e-9f0c-3b351134ad9f",
   "metadata": {},
   "outputs": [],
   "source": [
    "from sklearn.linear_model import SGDClassifier"
   ]
  },
  {
   "cell_type": "code",
   "execution_count": 109,
   "id": "ddacc123-63ea-4299-b329-8488a21b96bd",
   "metadata": {
    "tags": []
   },
   "outputs": [
    {
     "data": {
      "text/plain": [
       "SGDClassifier(random_state=42)"
      ]
     },
     "execution_count": 109,
     "metadata": {},
     "output_type": "execute_result"
    }
   ],
   "source": [
    "sgd_clf = SGDClassifier(max_iter=1000, tol=1e-3, random_state=42)\n",
    "sgd_clf.fit(x_train_scaled, y_train_5)"
   ]
  },
  {
   "cell_type": "markdown",
   "id": "f6c149b8-204c-482d-99e8-444bbb438546",
   "metadata": {},
   "source": [
    "#### Evaluation"
   ]
  },
  {
   "cell_type": "code",
   "execution_count": null,
   "id": "24556c11-02f8-4655-aad9-e88c0f5619e8",
   "metadata": {
    "tags": []
   },
   "outputs": [],
   "source": [
    "### Cross Valication\n",
    "cross_val_score(sgd_clf, x_train_scaled, y_train_5, cv=3, scoring=\"accuracy\") ### 아래의 Base model과 비교 필요"
   ]
  },
  {
   "cell_type": "code",
   "execution_count": 111,
   "id": "480e1a4c-7d9b-4354-a6f5-4fe512b53e21",
   "metadata": {
    "tags": []
   },
   "outputs": [],
   "source": [
    "from sklearn.base import BaseEstimator"
   ]
  },
  {
   "cell_type": "code",
   "execution_count": 112,
   "id": "a211d213-c990-4ed6-bbff-49e7d46cf7c8",
   "metadata": {
    "tags": []
   },
   "outputs": [
    {
     "data": {
      "text/plain": [
       "array([0.91125, 0.90855, 0.90915])"
      ]
     },
     "execution_count": 112,
     "metadata": {},
     "output_type": "execute_result"
    }
   ],
   "source": [
    "### Base model\n",
    "class Never5Classifier(BaseEstimator):\n",
    "    def fit(self, X, y=None):\n",
    "        pass\n",
    "    \n",
    "    def predict(self, X):\n",
    "        return np.zeros((len(X), 1), dtype=bool)\n",
    "    \n",
    "never_5_clf = Never5Classifier()\n",
    "cross_val_score(never_5_clf, x_train_scaled, y_train_5, cv=3, scoring=\"accuracy\")"
   ]
  },
  {
   "cell_type": "code",
   "execution_count": 113,
   "id": "121639cb-7022-46d4-a7fd-2b987193c494",
   "metadata": {
    "tags": []
   },
   "outputs": [],
   "source": [
    "y_train_pred = cross_val_predict(sgd_clf, x_train_scaled, y_train_5, cv=3)"
   ]
  },
  {
   "cell_type": "code",
   "execution_count": 114,
   "id": "3079e11a-b5bf-4916-8705-f6e5b0ed439f",
   "metadata": {
    "tags": []
   },
   "outputs": [
    {
     "data": {
      "text/plain": [
       "array([[53931,   648],\n",
       "       [ 1231,  4190]])"
      ]
     },
     "execution_count": 114,
     "metadata": {},
     "output_type": "execute_result"
    }
   ],
   "source": [
    "confusion_matrix(y_train_5, y_train_pred)"
   ]
  },
  {
   "cell_type": "code",
   "execution_count": 115,
   "id": "4bbe84b6-0edb-41e0-aeb2-9f62eee9ec3e",
   "metadata": {
    "tags": []
   },
   "outputs": [
    {
     "name": "stdout",
     "output_type": "stream",
     "text": [
      "Precision: 0.8660603555188094\n",
      "Recall: 0.7729201254381111\n",
      "F1-score: 0.8168437469538942\n"
     ]
    }
   ],
   "source": [
    "print(\"Precision:\", precision_score(y_train_5, y_train_pred))\n",
    "print(\"Recall:\", recall_score(y_train_5, y_train_pred))\n",
    "print(\"F1-score:\", f1_score(y_train_5, y_train_pred))"
   ]
  },
  {
   "cell_type": "code",
   "execution_count": 116,
   "id": "2c1ab5db-86f9-4ea2-b5c9-bb8e95fbdf08",
   "metadata": {
    "tags": []
   },
   "outputs": [],
   "source": [
    "### score 추출\n",
    "y_scores = cross_val_predict(sgd_clf, x_train_scaled, y_train_5, cv=3, method=\"decision_function\")"
   ]
  },
  {
   "cell_type": "code",
   "execution_count": 117,
   "id": "2c9551fe-d4d8-4f84-8fed-8c38bb036692",
   "metadata": {
    "tags": []
   },
   "outputs": [],
   "source": [
    "precisions, recalls, thresholds = precision_recall_curve(y_train_5, y_scores)"
   ]
  },
  {
   "cell_type": "code",
   "execution_count": 118,
   "id": "456d788c-9595-43fe-8a62-19ae384be334",
   "metadata": {
    "tags": []
   },
   "outputs": [
    {
     "data": {
      "image/png": "[encoded data removed]",
      "text/plain": [
       "<Figure size 576x288 with 1 Axes>"
      ]
     },
     "metadata": {
      "needs_background": "light"
     },
     "output_type": "display_data"
    }
   ],
   "source": [
    "# 90% precision 목표\n",
    "recall_90_precision = recalls[np.argmax(precisions >= 0.90)]\n",
    "threshold_90_precision = thresholds[np.argmax(precisions >= 0.90)]\n",
    "\n",
    "plt.figure(figsize=(8, 4))\n",
    "sns.lineplot(x=thresholds, y=precisions[:-1], color='blue', label=\"Precision\", linewidth=2)\n",
    "sns.lineplot(x=thresholds, y=recalls[:-1], color='green', label=\"Recall\", linewidth=2)\n",
    "plt.legend(loc=\"center right\", fontsize=16)\n",
    "plt.xlabel(\"Threshold\", fontsize=16)\n",
    "plt.axis([-1000, 1000, 0, 1])   \n",
    "plt.grid(True) \n",
    "\n",
    "sns.lineplot(x=[threshold_90_precision, threshold_90_precision], y=[0., 0.9], color='red', linestyle='dashed')\n",
    "sns.lineplot(x=[-1000, threshold_90_precision], y=[0.9, 0.9], color='red', linestyle='dashed') \n",
    "sns.lineplot(x=[-1000, threshold_90_precision], y=[recall_90_precision, recall_90_precision], color='red', linestyle='dashed')\n",
    "sns.lineplot(x=[threshold_90_precision], y=[0.9], color='red', linestyle='dashed')\n",
    "plt.plot([threshold_90_precision], [0.9], \"ro\")\n",
    "plt.plot([threshold_90_precision], [recall_90_precision], \"ro\")\n",
    "plt.show()"
   ]
  },
  {
   "cell_type": "code",
   "execution_count": 119,
   "id": "77aa689d-fd56-4e62-965d-1c11db2f0511",
   "metadata": {
    "tags": []
   },
   "outputs": [
    {
     "data": {
      "image/png": "[encoded data removed]",
      "text/plain": [
       "<Figure size 576x432 with 1 Axes>"
      ]
     },
     "metadata": {
      "needs_background": "light"
     },
     "output_type": "display_data"
    }
   ],
   "source": [
    "plt.figure(figsize=(8, 6))\n",
    "sns.lineplot(x=recalls, y=precisions, color=\"blue\", linewidth=2)\n",
    "plt.xlabel(\"Recall\", fontsize=16)\n",
    "plt.ylabel(\"Precision\", fontsize=16)\n",
    "plt.grid(True)\n",
    "    \n",
    "sns.lineplot(x=[recall_90_precision, recall_90_precision], y=[0., 0.9], color='red', linestyle='dashed')\n",
    "sns.lineplot(x=[0.0, recall_90_precision], y=[0.9, 0.9], color='red', linestyle='dashed')\n",
    "sns.lineplot(x=[recall_90_precision], y=[0.9], color='red', linestyle='dashed')\n",
    "plt.plot([recall_90_precision], [0.9], \"ro\")\n",
    "plt.show()"
   ]
  },
  {
   "cell_type": "code",
   "execution_count": 120,
   "id": "cdd98213-6149-4f37-9ea1-62986ff72c1a",
   "metadata": {
    "tags": []
   },
   "outputs": [
    {
     "data": {
      "text/plain": [
       "22.472524841848383"
      ]
     },
     "execution_count": 120,
     "metadata": {},
     "output_type": "execute_result"
    }
   ],
   "source": [
    "threshold_90_precision = thresholds[np.argmax(precisions >= 0.90)]\n",
    "threshold_90_precision"
   ]
  },
  {
   "cell_type": "code",
   "execution_count": 121,
   "id": "f2afdcee-6884-4f25-9bc4-3f30cb613195",
   "metadata": {
    "tags": []
   },
   "outputs": [
    {
     "name": "stdout",
     "output_type": "stream",
     "text": [
      "Precision: 0.9000456412596988\n",
      "Recall: 0.7275410440878067\n",
      "F1-score: 0.804651637253902\n"
     ]
    }
   ],
   "source": [
    "y_train_pred_90 = (y_scores >= threshold_90_precision)\n",
    "\n",
    "print(\"Precision:\", precision_score(y_train_5, y_train_pred_90))\n",
    "print(\"Recall:\", recall_score(y_train_5, y_train_pred_90))\n",
    "print(\"F1-score:\", f1_score(y_train_5, y_train_pred_90))"
   ]
  },
  {
   "cell_type": "code",
   "execution_count": 122,
   "id": "39091768-e695-448e-abb6-6a9317f7462a",
   "metadata": {
    "tags": []
   },
   "outputs": [
    {
     "data": {
      "image/png": "[encoded data removed]",
      "text/plain": [
       "<Figure size 576x432 with 1 Axes>"
      ]
     },
     "metadata": {
      "needs_background": "light"
     },
     "output_type": "display_data"
    },
    {
     "name": "stdout",
     "output_type": "stream",
     "text": [
      "AUC: 0.9726681225154626\n"
     ]
    }
   ],
   "source": [
    "### ROC curve\n",
    "fpr, tpr, thresholds = roc_curve(y_train_5, y_scores)\n",
    "\n",
    "plt.figure(figsize=(8, 6)) \n",
    "sns.lineplot(x=fpr, y=tpr, linewidth=2, label='SGD')\n",
    "sns.lineplot(x=[0, 1], y=[0, 1], color='black', linestyle='dashed') # 대각 점선\n",
    "plt.xlabel('False Positive Rate (Fall-Out)', fontsize=16)\n",
    "plt.ylabel('True Positive Rate (Recall)', fontsize=16)\n",
    "plt.grid(True)\n",
    "\n",
    "fpr_90 = fpr[np.argmax(tpr >= recall_90_precision)]\n",
    "\n",
    "sns.lineplot(x=[fpr_90, fpr_90], y=[0., recall_90_precision], color='red', linestyle='dashed')\n",
    "sns.lineplot(x=[0.0, fpr_90], y=[recall_90_precision, recall_90_precision], color='red', linestyle='dashed')\n",
    "plt.plot([fpr_90], [recall_90_precision], \"ro\")  \n",
    "plt.show()\n",
    "\n",
    "print('AUC:', roc_auc_score(y_train_5, y_scores))"
   ]
  },
  {
   "cell_type": "code",
   "execution_count": 123,
   "id": "27150449-e99f-4145-9ac5-71a7199d122e",
   "metadata": {
    "tags": []
   },
   "outputs": [],
   "source": [
    "from sklearn.ensemble import RandomForestClassifier"
   ]
  },
  {
   "cell_type": "code",
   "execution_count": 124,
   "id": "41a88882-e767-40eb-88d0-760c42868208",
   "metadata": {},
   "outputs": [],
   "source": [
    "### Add classifier\n",
    "forest_clf = RandomForestClassifier(n_estimators=100, random_state=42)"
   ]
  },
  {
   "cell_type": "code",
   "execution_count": 125,
   "id": "f742166f-b9d5-41bd-882d-6174723c9f77",
   "metadata": {
    "tags": []
   },
   "outputs": [
    {
     "name": "stdout",
     "output_type": "stream",
     "text": [
      "Precision: 0.9905083315756169\n",
      "Recall: 0.8662608374838591\n",
      "F1-score: 0.9242275142688446\n"
     ]
    }
   ],
   "source": [
    "y_train_pred_forest = cross_val_predict(forest_clf, x_train_scaled, y_train_5, cv=3)\n",
    "\n",
    "print(\"Precision:\", precision_score(y_train_5, y_train_pred_forest))\n",
    "print(\"Recall:\", recall_score(y_train_5, y_train_pred_forest))\n",
    "print(\"F1-score:\", f1_score(y_train_5, y_train_pred_forest))"
   ]
  },
  {
   "cell_type": "code",
   "execution_count": 126,
   "id": "c7a20891-80bf-432e-923f-85071633a700",
   "metadata": {
    "tags": []
   },
   "outputs": [
    {
     "name": "stdout",
     "output_type": "stream",
     "text": [
      "AUC: 0.9983414120257013\n"
     ]
    }
   ],
   "source": [
    "y_probas_forest = cross_val_predict(forest_clf, x_train_scaled, y_train_5, cv=3, method=\"predict_proba\")\n",
    "\n",
    "y_scores_forest = y_probas_forest[:, 1] # 점수 = 양성 클래스의 확률\n",
    "fpr_forest, tpr_forest, thresholds_forest = roc_curve(y_train_5, y_scores_forest)\n",
    "print('AUC:', roc_auc_score(y_train_5, y_scores_forest))"
   ]
  },
  {
   "cell_type": "code",
   "execution_count": 127,
   "id": "797ab2c9-9ecb-4ef1-afa1-936dc6de378d",
   "metadata": {
    "tags": []
   },
   "outputs": [
    {
     "data": {
      "image/png": "[encoded data removed]",
      "text/plain": [
       "<Figure size 576x432 with 1 Axes>"
      ]
     },
     "metadata": {
      "needs_background": "light"
     },
     "output_type": "display_data"
    }
   ],
   "source": [
    "recall_for_forest = tpr_forest[np.argmax(fpr_forest >= fpr_90)]\n",
    "\n",
    "plt.figure(figsize=(8, 6))\n",
    "sns.lineplot(x=fpr, y=tpr, color='blue', linewidth=2, label=\"SGD\")\n",
    "sns.lineplot(x=fpr_forest, y=tpr_forest, linewidth=2, label=\"Random Forest\")\n",
    "sns.lineplot(x=[0, 1], y=[0, 1], color='black', linestyle='dashed') # 대각 점선\n",
    "plt.xlabel('False Positive Rate (Fall-Out)', fontsize=16)\n",
    "plt.ylabel('True Positive Rate (Recall)', fontsize=16)\n",
    "plt.grid(True)\n",
    "    \n",
    "sns.lineplot(x=[fpr_90, fpr_90], y=[0., recall_90_precision], color='red', linestyle='dashed')\n",
    "sns.lineplot(x=[0.0, fpr_90], y=[recall_90_precision, recall_90_precision], color='red', linestyle='dashed')\n",
    "plt.plot([fpr_90], [recall_90_precision], \"ro\")\n",
    "sns.lineplot(x=[fpr_90, fpr_90], y=[0., recall_for_forest], color='red', linestyle='dashed')\n",
    "plt.plot([fpr_90], [recall_for_forest], \"ro\")\n",
    "plt.grid(True)\n",
    "plt.legend(loc=\"lower right\", fontsize=16)\n",
    "plt.show()"
   ]
  },
  {
   "cell_type": "markdown",
   "id": "1a2d9ffa-f9e8-4423-b2fc-79de72dcf386",
   "metadata": {},
   "source": [
    "### (2) Pima diabete dataset"
   ]
  },
  {
   "cell_type": "code",
   "execution_count": 256,
   "id": "2ed3eb45-4469-4379-998f-ca96d8fab7fa",
   "metadata": {},
   "outputs": [
    {
     "name": "stdout",
     "output_type": "stream",
     "text": [
      "0    500\n",
      "1    268\n",
      "Name: Outcome, dtype: int64\n"
     ]
    },
    {
     "data": {
      "text/html": [
       "<div>\n",
       "<style scoped>\n",
       "    .dataframe tbody tr th:only-of-type {\n",
       "        vertical-align: middle;\n",
       "    }\n",
       "\n",
       "    .dataframe tbody tr th {\n",
       "        vertical-align: top;\n",
       "    }\n",
       "\n",
       "    .dataframe thead th {\n",
       "        text-align: right;\n",
       "    }\n",
       "</style>\n",
       "<table border=\"1\" class=\"dataframe\">\n",
       "  <thead>\n",
       "    <tr style=\"text-align: right;\">\n",
       "      <th></th>\n",
       "      <th>Pregnancies</th>\n",
       "      <th>Glucose</th>\n",
       "      <th>BloodPressure</th>\n",
       "      <th>SkinThickness</th>\n",
       "      <th>Insulin</th>\n",
       "      <th>BMI</th>\n",
       "      <th>DiabetesPedigreeFunction</th>\n",
       "      <th>Age</th>\n",
       "      <th>Outcome</th>\n",
       "    </tr>\n",
       "  </thead>\n",
       "  <tbody>\n",
       "    <tr>\n",
       "      <th>0</th>\n",
       "      <td>6</td>\n",
       "      <td>148</td>\n",
       "      <td>72</td>\n",
       "      <td>35</td>\n",
       "      <td>0</td>\n",
       "      <td>33.6</td>\n",
       "      <td>0.627</td>\n",
       "      <td>50</td>\n",
       "      <td>1</td>\n",
       "    </tr>\n",
       "    <tr>\n",
       "      <th>1</th>\n",
       "      <td>1</td>\n",
       "      <td>85</td>\n",
       "      <td>66</td>\n",
       "      <td>29</td>\n",
       "      <td>0</td>\n",
       "      <td>26.6</td>\n",
       "      <td>0.351</td>\n",
       "      <td>31</td>\n",
       "      <td>0</td>\n",
       "    </tr>\n",
       "    <tr>\n",
       "      <th>2</th>\n",
       "      <td>8</td>\n",
       "      <td>183</td>\n",
       "      <td>64</td>\n",
       "      <td>0</td>\n",
       "      <td>0</td>\n",
       "      <td>23.3</td>\n",
       "      <td>0.672</td>\n",
       "      <td>32</td>\n",
       "      <td>1</td>\n",
       "    </tr>\n",
       "  </tbody>\n",
       "</table>\n",
       "</div>"
      ],
      "text/plain": [
       "   Pregnancies  Glucose  BloodPressure  SkinThickness  Insulin   BMI  \\\n",
       "0            6      148             72             35        0  33.6   \n",
       "1            1       85             66             29        0  26.6   \n",
       "2            8      183             64              0        0  23.3   \n",
       "\n",
       "   DiabetesPedigreeFunction  Age  Outcome  \n",
       "0                     0.627   50        1  \n",
       "1                     0.351   31        0  \n",
       "2                     0.672   32        1  "
      ]
     },
     "execution_count": 256,
     "metadata": {},
     "output_type": "execute_result"
    }
   ],
   "source": [
    "diabetes_data = pd.read_csv('./data/diabetes.csv')\n",
    "print(diabetes_data['Outcome'].value_counts())\n",
    "diabetes_data.head(3)"
   ]
  },
  {
   "cell_type": "code",
   "execution_count": 257,
   "id": "fc63a64c-9fc2-451a-8275-4d7328a15e0e",
   "metadata": {},
   "outputs": [
    {
     "name": "stdout",
     "output_type": "stream",
     "text": [
      "<class 'pandas.core.frame.DataFrame'>\n",
      "RangeIndex: 768 entries, 0 to 767\n",
      "Data columns (total 9 columns):\n",
      " #   Column                    Non-Null Count  Dtype  \n",
      "---  ------                    --------------  -----  \n",
      " 0   Pregnancies               768 non-null    int64  \n",
      " 1   Glucose                   768 non-null    int64  \n",
      " 2   BloodPressure             768 non-null    int64  \n",
      " 3   SkinThickness             768 non-null    int64  \n",
      " 4   Insulin                   768 non-null    int64  \n",
      " 5   BMI                       768 non-null    float64\n",
      " 6   DiabetesPedigreeFunction  768 non-null    float64\n",
      " 7   Age                       768 non-null    int64  \n",
      " 8   Outcome                   768 non-null    int64  \n",
      "dtypes: float64(2), int64(7)\n",
      "memory usage: 54.1 KB\n"
     ]
    }
   ],
   "source": [
    "diabetes_data.info()"
   ]
  },
  {
   "cell_type": "code",
   "execution_count": 258,
   "id": "62900a6d-e448-490e-bc68-407469aa4e18",
   "metadata": {},
   "outputs": [
    {
     "data": {
      "text/html": [
       "<div>\n",
       "<style scoped>\n",
       "    .dataframe tbody tr th:only-of-type {\n",
       "        vertical-align: middle;\n",
       "    }\n",
       "\n",
       "    .dataframe tbody tr th {\n",
       "        vertical-align: top;\n",
       "    }\n",
       "\n",
       "    .dataframe thead th {\n",
       "        text-align: right;\n",
       "    }\n",
       "</style>\n",
       "<table border=\"1\" class=\"dataframe\">\n",
       "  <thead>\n",
       "    <tr style=\"text-align: right;\">\n",
       "      <th></th>\n",
       "      <th>Pregnancies</th>\n",
       "      <th>Glucose</th>\n",
       "      <th>BloodPressure</th>\n",
       "      <th>SkinThickness</th>\n",
       "      <th>Insulin</th>\n",
       "      <th>BMI</th>\n",
       "      <th>DiabetesPedigreeFunction</th>\n",
       "      <th>Age</th>\n",
       "      <th>Outcome</th>\n",
       "    </tr>\n",
       "  </thead>\n",
       "  <tbody>\n",
       "    <tr>\n",
       "      <th>count</th>\n",
       "      <td>768.000000</td>\n",
       "      <td>768.000000</td>\n",
       "      <td>768.000000</td>\n",
       "      <td>768.000000</td>\n",
       "      <td>768.000000</td>\n",
       "      <td>768.000000</td>\n",
       "      <td>768.000000</td>\n",
       "      <td>768.000000</td>\n",
       "      <td>768.000000</td>\n",
       "    </tr>\n",
       "    <tr>\n",
       "      <th>mean</th>\n",
       "      <td>3.845052</td>\n",
       "      <td>120.894531</td>\n",
       "      <td>69.105469</td>\n",
       "      <td>20.536458</td>\n",
       "      <td>79.799479</td>\n",
       "      <td>31.992578</td>\n",
       "      <td>0.471876</td>\n",
       "      <td>33.240885</td>\n",
       "      <td>0.348958</td>\n",
       "    </tr>\n",
       "    <tr>\n",
       "      <th>std</th>\n",
       "      <td>3.369578</td>\n",
       "      <td>31.972618</td>\n",
       "      <td>19.355807</td>\n",
       "      <td>15.952218</td>\n",
       "      <td>115.244002</td>\n",
       "      <td>7.884160</td>\n",
       "      <td>0.331329</td>\n",
       "      <td>11.760232</td>\n",
       "      <td>0.476951</td>\n",
       "    </tr>\n",
       "    <tr>\n",
       "      <th>min</th>\n",
       "      <td>0.000000</td>\n",
       "      <td>0.000000</td>\n",
       "      <td>0.000000</td>\n",
       "      <td>0.000000</td>\n",
       "      <td>0.000000</td>\n",
       "      <td>0.000000</td>\n",
       "      <td>0.078000</td>\n",
       "      <td>21.000000</td>\n",
       "      <td>0.000000</td>\n",
       "    </tr>\n",
       "    <tr>\n",
       "      <th>25%</th>\n",
       "      <td>1.000000</td>\n",
       "      <td>99.000000</td>\n",
       "      <td>62.000000</td>\n",
       "      <td>0.000000</td>\n",
       "      <td>0.000000</td>\n",
       "      <td>27.300000</td>\n",
       "      <td>0.243750</td>\n",
       "      <td>24.000000</td>\n",
       "      <td>0.000000</td>\n",
       "    </tr>\n",
       "    <tr>\n",
       "      <th>50%</th>\n",
       "      <td>3.000000</td>\n",
       "      <td>117.000000</td>\n",
       "      <td>72.000000</td>\n",
       "      <td>23.000000</td>\n",
       "      <td>30.500000</td>\n",
       "      <td>32.000000</td>\n",
       "      <td>0.372500</td>\n",
       "      <td>29.000000</td>\n",
       "      <td>0.000000</td>\n",
       "    </tr>\n",
       "    <tr>\n",
       "      <th>75%</th>\n",
       "      <td>6.000000</td>\n",
       "      <td>140.250000</td>\n",
       "      <td>80.000000</td>\n",
       "      <td>32.000000</td>\n",
       "      <td>127.250000</td>\n",
       "      <td>36.600000</td>\n",
       "      <td>0.626250</td>\n",
       "      <td>41.000000</td>\n",
       "      <td>1.000000</td>\n",
       "    </tr>\n",
       "    <tr>\n",
       "      <th>max</th>\n",
       "      <td>17.000000</td>\n",
       "      <td>199.000000</td>\n",
       "      <td>122.000000</td>\n",
       "      <td>99.000000</td>\n",
       "      <td>846.000000</td>\n",
       "      <td>67.100000</td>\n",
       "      <td>2.420000</td>\n",
       "      <td>81.000000</td>\n",
       "      <td>1.000000</td>\n",
       "    </tr>\n",
       "  </tbody>\n",
       "</table>\n",
       "</div>"
      ],
      "text/plain": [
       "       Pregnancies     Glucose  BloodPressure  SkinThickness     Insulin  \\\n",
       "count   768.000000  768.000000     768.000000     768.000000  768.000000   \n",
       "mean      3.845052  120.894531      69.105469      20.536458   79.799479   \n",
       "std       3.369578   31.972618      19.355807      15.952218  115.244002   \n",
       "min       0.000000    0.000000       0.000000       0.000000    0.000000   \n",
       "25%       1.000000   99.000000      62.000000       0.000000    0.000000   \n",
       "50%       3.000000  117.000000      72.000000      23.000000   30.500000   \n",
       "75%       6.000000  140.250000      80.000000      32.000000  127.250000   \n",
       "max      17.000000  199.000000     122.000000      99.000000  846.000000   \n",
       "\n",
       "              BMI  DiabetesPedigreeFunction         Age     Outcome  \n",
       "count  768.000000                768.000000  768.000000  768.000000  \n",
       "mean    31.992578                  0.471876   33.240885    0.348958  \n",
       "std      7.884160                  0.331329   11.760232    0.476951  \n",
       "min      0.000000                  0.078000   21.000000    0.000000  \n",
       "25%     27.300000                  0.243750   24.000000    0.000000  \n",
       "50%     32.000000                  0.372500   29.000000    0.000000  \n",
       "75%     36.600000                  0.626250   41.000000    1.000000  \n",
       "max     67.100000                  2.420000   81.000000    1.000000  "
      ]
     },
     "execution_count": 258,
     "metadata": {},
     "output_type": "execute_result"
    }
   ],
   "source": [
    "diabetes_data.describe()"
   ]
  },
  {
   "cell_type": "code",
   "execution_count": 259,
   "id": "db078e69-3a23-4497-b45f-8cc4df25dcfb",
   "metadata": {},
   "outputs": [
    {
     "data": {
      "image/png": "[encoded data removed]",
      "text/plain": [
       "<Figure size 432x288 with 1 Axes>"
      ]
     },
     "metadata": {
      "needs_background": "light"
     },
     "output_type": "display_data"
    }
   ],
   "source": [
    "sns.histplot(diabetes_data['Glucose'], bins=100)\n",
    "plt.show()"
   ]
  },
  {
   "cell_type": "code",
   "execution_count": 260,
   "id": "b1d12307-e16c-4a55-bfc2-37f33b4bfdfd",
   "metadata": {},
   "outputs": [
    {
     "name": "stdout",
     "output_type": "stream",
     "text": [
      "Glucose 0 건수는 5, 퍼센트는 0.65 %\n",
      "BloodPressure 0 건수는 35, 퍼센트는 4.56 %\n",
      "SkinThickness 0 건수는 227, 퍼센트는 29.56 %\n",
      "Insulin 0 건수는 374, 퍼센트는 48.70 %\n",
      "BMI 0 건수는 11, 퍼센트는 1.43 %\n"
     ]
    }
   ],
   "source": [
    "# 0값을 검사할 피처명 리스트 객체 설정\n",
    "zero_features = ['Glucose', 'BloodPressure', 'SkinThickness', 'Insulin', 'BMI']\n",
    "\n",
    "# 전체 데이터 건수\n",
    "total_count = diabetes_data['Glucose'].count()\n",
    "\n",
    "# 피처별로 반복 하면서 데이터 값이 0 인 데이터 건수 추출하고, 퍼센트 계산\n",
    "for feature in zero_features:\n",
    "    zero_count = diabetes_data[diabetes_data[feature] == 0][feature].count()\n",
    "    print('{0} 0 건수는 {1}, 퍼센트는 {2:.2f} %'.format(feature, zero_count, 100*zero_count/total_count))"
   ]
  },
  {
   "cell_type": "code",
   "execution_count": 261,
   "id": "ac1fbef0-475d-4403-8068-0017ed7450ba",
   "metadata": {},
   "outputs": [],
   "source": [
    "# zero_features 리스트 내부에 저장된 개별 피처들에 대해서 0값을 평균 값으로 대체\n",
    "mean_zero_features = diabetes_data[zero_features].mean()\n",
    "diabetes_data[zero_features] = diabetes_data[zero_features].replace(0, mean_zero_features)"
   ]
  },
  {
   "cell_type": "code",
   "execution_count": 262,
   "id": "7d5c5cdf-86f8-4a07-b813-4a8919a98faf",
   "metadata": {},
   "outputs": [
    {
     "name": "stdout",
     "output_type": "stream",
     "text": [
      "오차 행렬\n",
      "[[90 10]\n",
      " [21 33]]\n",
      "정확도: 0.7987, 정밀도: 0.7674, 재현율: 0.6111, F1: 0.6804, AUC:0.8433\n"
     ]
    }
   ],
   "source": [
    "# 피처 데이터 세트 X, 레이블 데이터 세트 y를 추출. \n",
    "# 맨 끝이 Outcome 컬럼으로 레이블 값임. 컬럼 위치 -1을 이용해 추출 \n",
    "x = diabetes_data.iloc[:, :-1]\n",
    "y = diabetes_data.iloc[:, -1]\n",
    "\n",
    "# StandardScaler 클래스를 이용해 피처 데이터 세트에 일괄적으로 스케일링 적용\n",
    "scaler = StandardScaler()\n",
    "x_scaled = scaler.fit_transform(x)\n",
    "\n",
    "x_train, x_test, y_train, y_test = train_test_split(x_scaled, y, test_size=0.2, random_state=156, stratify=y)\n",
    "\n",
    "# 로지스틱 회귀로 학습,예측 및 평가 수행. \n",
    "lr_clf = LogisticRegression(solver='liblinear')\n",
    "lr_clf.fit(x_train , y_train)\n",
    "\n",
    "pred = lr_clf.predict(x_test)\n",
    "pred_proba = lr_clf.predict_proba(x_test)[:, 1]\n",
    "\n",
    "confusion = confusion_matrix(y_test, pred)\n",
    "accuracy = accuracy_score(y_test, pred)\n",
    "precision = precision_score(y_test, pred)\n",
    "recall = recall_score(y_test, pred)\n",
    "f1 = f1_score(y_test, pred)\n",
    "roc_auc = roc_auc_score(y_test, pred_proba)\n",
    "    \n",
    "print('오차 행렬')\n",
    "print(confusion)\n",
    "print('정확도: {0:.4f}, 정밀도: {1:.4f}, 재현율: {2:.4f}, F1: {3:.4f}, AUC:{4:.4f}'.format(accuracy, precision, recall, f1, roc_auc))"
   ]
  },
  {
   "cell_type": "code",
   "execution_count": 263,
   "id": "f0b044e0-fc38-4994-93a0-6a9bfad8f7cf",
   "metadata": {
    "scrolled": true
   },
   "outputs": [
    {
     "data": {
      "image/png": "[encoded data removed]",
      "text/plain": [
       "<Figure size 576x432 with 1 Axes>"
      ]
     },
     "metadata": {
      "needs_background": "light"
     },
     "output_type": "display_data"
    }
   ],
   "source": [
    "pred_proba_c1 = lr_clf.predict_proba(x_test)[:, 1]\n",
    "precision_recall_curve_plot(y_test, pred_proba_c1)"
   ]
  },
  {
   "cell_type": "code",
   "execution_count": 264,
   "id": "93e95c07-adae-45cf-8c81-cde6c7782579",
   "metadata": {},
   "outputs": [
    {
     "name": "stdout",
     "output_type": "stream",
     "text": [
      "임곗값: 0.36\n",
      "오차 행렬\n",
      "[[76 24]\n",
      " [15 39]]\n",
      "정확도: 0.7468, 정밀도: 0.6190, 재현율: 0.7222, F1: 0.6667, AUC:0.8433\n",
      "임곗값: 0.39\n",
      "오차 행렬\n",
      "[[78 22]\n",
      " [16 38]]\n",
      "정확도: 0.7532, 정밀도: 0.6333, 재현율: 0.7037, F1: 0.6667, AUC:0.8433\n",
      "임곗값: 0.42\n",
      "오차 행렬\n",
      "[[84 16]\n",
      " [18 36]]\n",
      "정확도: 0.7792, 정밀도: 0.6923, 재현율: 0.6667, F1: 0.6792, AUC:0.8433\n",
      "임곗값: 0.45\n",
      "오차 행렬\n",
      "[[85 15]\n",
      " [18 36]]\n",
      "정확도: 0.7857, 정밀도: 0.7059, 재현율: 0.6667, F1: 0.6857, AUC:0.8433\n",
      "임곗값: 0.48\n",
      "오차 행렬\n",
      "[[88 12]\n",
      " [19 35]]\n",
      "정확도: 0.7987, 정밀도: 0.7447, 재현율: 0.6481, F1: 0.6931, AUC:0.8433\n",
      "임곗값: 0.5\n",
      "오차 행렬\n",
      "[[90 10]\n",
      " [21 33]]\n",
      "정확도: 0.7987, 정밀도: 0.7674, 재현율: 0.6111, F1: 0.6804, AUC:0.8433\n"
     ]
    }
   ],
   "source": [
    "thresholds = [0.36, 0.39, 0.42, 0.45, 0.48, 0.50]\n",
    "pred_proba = lr_clf.predict_proba(x_test)[:, 1].reshape(-1, 1)\n",
    "\n",
    "for custom_threshold in thresholds:\n",
    "    binarizer = Binarizer(threshold=custom_threshold).fit(pred_proba) \n",
    "    custom_predict = binarizer.transform(pred_proba)\n",
    "    print('임곗값:',custom_threshold)\n",
    "\n",
    "    confusion = confusion_matrix(y_test, custom_predict)\n",
    "    accuracy = accuracy_score(y_test, custom_predict)\n",
    "    precision = precision_score(y_test, custom_predict)\n",
    "    recall = recall_score(y_test, custom_predict)\n",
    "    f1 = f1_score(y_test, custom_predict)\n",
    "    roc_auc = roc_auc_score(y_test, pred_proba)\n",
    "    \n",
    "    print('오차 행렬')\n",
    "    print(confusion)\n",
    "    print('정확도: {0:.4f}, 정밀도: {1:.4f}, 재현율: {2:.4f}, F1: {3:.4f}, AUC:{4:.4f}'.format(accuracy, precision, recall, f1, roc_auc))"
   ]
  },
  {
   "cell_type": "code",
   "execution_count": 265,
   "id": "0914de8e-2ab2-4b8f-ab61-a7bdad1ab05b",
   "metadata": {},
   "outputs": [
    {
     "name": "stdout",
     "output_type": "stream",
     "text": [
      "오차 행렬\n",
      "[[88 12]\n",
      " [19 35]]\n",
      "정확도: 0.7987, 정밀도: 0.7447, 재현율: 0.6481, F1: 0.6931, AUC:0.8433\n"
     ]
    }
   ],
   "source": [
    "# 임곗값를 0.48로 설정한 Binarizer 생성\n",
    "binarizer = Binarizer(threshold=0.48)\n",
    "\n",
    "# 위에서 구한 lr_clf의 predict_proba() 예측 확률 array에서 1에 해당하는 컬럼값을 Binarizer변환. \n",
    "pred_th_048 = binarizer.fit_transform(pred_proba) \n",
    "\n",
    "confusion = confusion_matrix(y_test, pred_th_048)\n",
    "accuracy = accuracy_score(y_test, pred_th_048)\n",
    "precision = precision_score(y_test, pred_th_048)\n",
    "recall = recall_score(y_test, pred_th_048)\n",
    "f1 = f1_score(y_test, pred_th_048)\n",
    "roc_auc = roc_auc_score(y_test, pred_proba)\n",
    "    \n",
    "print('오차 행렬')\n",
    "print(confusion)\n",
    "print('정확도: {0:.4f}, 정밀도: {1:.4f}, 재현율: {2:.4f}, F1: {3:.4f}, AUC:{4:.4f}'.format(accuracy, precision, recall, f1, roc_auc))"
   ]
  },
  {
   "cell_type": "markdown",
   "id": "df727c93-1787-4a49-804c-796ea658f4f8",
   "metadata": {},
   "source": [
    "### (3) StageC dataset"
   ]
  },
  {
   "cell_type": "code",
   "execution_count": 405,
   "id": "b5ec0306-a22e-43fb-a7d0-3245362da549",
   "metadata": {},
   "outputs": [],
   "source": [
    "stagec = pd.read_csv('./data/stagec.csv')"
   ]
  },
  {
   "cell_type": "code",
   "execution_count": 406,
   "id": "35744886-4084-4d02-98a6-007666bb9109",
   "metadata": {},
   "outputs": [
    {
     "data": {
      "text/plain": [
       "pgtime     0\n",
       "pgstat     0\n",
       "age        0\n",
       "eet        2\n",
       "g2         7\n",
       "grade      0\n",
       "gleason    3\n",
       "ploidy     0\n",
       "dtype: int64"
      ]
     },
     "execution_count": 406,
     "metadata": {},
     "output_type": "execute_result"
    }
   ],
   "source": [
    "stagec.isna().sum()"
   ]
  },
  {
   "cell_type": "code",
   "execution_count": 407,
   "id": "8c0fa822-c133-46ab-8653-44f9c405676e",
   "metadata": {},
   "outputs": [
    {
     "data": {
      "text/html": [
       "<div>\n",
       "<style scoped>\n",
       "    .dataframe tbody tr th:only-of-type {\n",
       "        vertical-align: middle;\n",
       "    }\n",
       "\n",
       "    .dataframe tbody tr th {\n",
       "        vertical-align: top;\n",
       "    }\n",
       "\n",
       "    .dataframe thead th {\n",
       "        text-align: right;\n",
       "    }\n",
       "</style>\n",
       "<table border=\"1\" class=\"dataframe\">\n",
       "  <thead>\n",
       "    <tr style=\"text-align: right;\">\n",
       "      <th></th>\n",
       "      <th>pgtime</th>\n",
       "      <th>pgstat</th>\n",
       "      <th>age</th>\n",
       "      <th>eet</th>\n",
       "      <th>g2</th>\n",
       "      <th>grade</th>\n",
       "      <th>gleason</th>\n",
       "      <th>ploidy</th>\n",
       "    </tr>\n",
       "  </thead>\n",
       "  <tbody>\n",
       "    <tr>\n",
       "      <th>0</th>\n",
       "      <td>6.1</td>\n",
       "      <td>0</td>\n",
       "      <td>64</td>\n",
       "      <td>2.0</td>\n",
       "      <td>10.26</td>\n",
       "      <td>2</td>\n",
       "      <td>4.0</td>\n",
       "      <td>diploid</td>\n",
       "    </tr>\n",
       "    <tr>\n",
       "      <th>2</th>\n",
       "      <td>5.2</td>\n",
       "      <td>1</td>\n",
       "      <td>59</td>\n",
       "      <td>2.0</td>\n",
       "      <td>9.99</td>\n",
       "      <td>3</td>\n",
       "      <td>7.0</td>\n",
       "      <td>diploid</td>\n",
       "    </tr>\n",
       "    <tr>\n",
       "      <th>3</th>\n",
       "      <td>3.2</td>\n",
       "      <td>1</td>\n",
       "      <td>62</td>\n",
       "      <td>2.0</td>\n",
       "      <td>3.57</td>\n",
       "      <td>2</td>\n",
       "      <td>4.0</td>\n",
       "      <td>diploid</td>\n",
       "    </tr>\n",
       "    <tr>\n",
       "      <th>4</th>\n",
       "      <td>1.9</td>\n",
       "      <td>1</td>\n",
       "      <td>64</td>\n",
       "      <td>2.0</td>\n",
       "      <td>22.56</td>\n",
       "      <td>4</td>\n",
       "      <td>8.0</td>\n",
       "      <td>tetraploid</td>\n",
       "    </tr>\n",
       "    <tr>\n",
       "      <th>5</th>\n",
       "      <td>4.8</td>\n",
       "      <td>0</td>\n",
       "      <td>69</td>\n",
       "      <td>1.0</td>\n",
       "      <td>6.14</td>\n",
       "      <td>3</td>\n",
       "      <td>7.0</td>\n",
       "      <td>diploid</td>\n",
       "    </tr>\n",
       "  </tbody>\n",
       "</table>\n",
       "</div>"
      ],
      "text/plain": [
       "   pgtime  pgstat  age  eet     g2  grade  gleason      ploidy\n",
       "0     6.1       0   64  2.0  10.26      2      4.0     diploid\n",
       "2     5.2       1   59  2.0   9.99      3      7.0     diploid\n",
       "3     3.2       1   62  2.0   3.57      2      4.0     diploid\n",
       "4     1.9       1   64  2.0  22.56      4      8.0  tetraploid\n",
       "5     4.8       0   69  1.0   6.14      3      7.0     diploid"
      ]
     },
     "execution_count": 407,
     "metadata": {},
     "output_type": "execute_result"
    }
   ],
   "source": [
    "### dropNA\n",
    "stagec = stagec.dropna()\n",
    "stagec.head()"
   ]
  },
  {
   "cell_type": "code",
   "execution_count": 408,
   "id": "952118f7-1d9e-4ea3-909f-4c8ec8a7a08e",
   "metadata": {},
   "outputs": [],
   "source": [
    "### Data split\n",
    "x_train, x_test, y_train, y_test = train_test_split(stagec.drop('ploidy', axis=1), stagec['ploidy'], test_size=0.2, random_state=0, stratify=stagec['ploidy'])"
   ]
  },
  {
   "cell_type": "code",
   "execution_count": 409,
   "id": "1d55318f-e1b8-4c09-a8af-201669f6e94e",
   "metadata": {},
   "outputs": [
    {
     "data": {
      "text/plain": [
       "DecisionTreeClassifier(max_depth=3, random_state=100)"
      ]
     },
     "execution_count": 409,
     "metadata": {},
     "output_type": "execute_result"
    }
   ],
   "source": [
    "dtree_clf = DecisionTreeClassifier(max_depth=3, random_state=100)\n",
    "dtree_clf.fit(x_train, y_train)"
   ]
  },
  {
   "cell_type": "code",
   "execution_count": 410,
   "id": "a60fc0a3-4f95-4cac-a560-cc56906819ec",
   "metadata": {},
   "outputs": [
    {
     "name": "stdout",
     "output_type": "stream",
     "text": [
      "[[ 0  1  0]\n",
      " [ 1 12  0]\n",
      " [ 0  0 13]]\n",
      "정확도\t92.59%\n"
     ]
    }
   ],
   "source": [
    "pred = dtree_clf.predict(x_test)\n",
    "test_cm = confusion_matrix(y_test, pred)\n",
    "test_acc = accuracy_score(y_test, pred)\n",
    "\n",
    "print(test_cm)\n",
    "print('정확도\\t{}%'.format(round(test_acc *100,2)))"
   ]
  },
  {
   "cell_type": "code",
   "execution_count": 411,
   "id": "14df75c6-8b97-420d-a54b-7dbcc28864db",
   "metadata": {},
   "outputs": [],
   "source": [
    "feature_columns = list(stagec.columns.difference(['ploidy']))"
   ]
  },
  {
   "cell_type": "code",
   "execution_count": 412,
   "id": "c3af6143-6b53-4bbe-83d4-a03227a257c3",
   "metadata": {},
   "outputs": [
    {
     "data": {
      "image/png": "[encoded data removed]",
      "text/plain": [
       "<IPython.core.display.Image object>"
      ]
     },
     "execution_count": 412,
     "metadata": {},
     "output_type": "execute_result"
    }
   ],
   "source": [
    "### Tree 시각화\n",
    "feature_names = feature_columns\n",
    "target_names = np.array(list(stagec.ploidy.unique()))\n",
    "\n",
    "dt_dot_data = export_graphviz(dtree_clf, feature_names = feature_names,\n",
    "                              class_names = target_names,\n",
    "                              filled=True, rounded =True,\n",
    "                              special_characters=True)\n",
    "dt_graph=pydotplus.graph_from_dot_data(dt_dot_data)\n",
    "Image(dt_graph.create_png())"
   ]
  },
  {
   "cell_type": "markdown",
   "id": "5b2d2769-0283-48e1-9def-727ba845dc41",
   "metadata": {},
   "source": [
    "### (4) Human activity dataset"
   ]
  },
  {
   "cell_type": "code",
   "execution_count": 413,
   "id": "ef89d6a9-a076-4ba4-856f-644a5a44cad6",
   "metadata": {
    "scrolled": true
   },
   "outputs": [
    {
     "name": "stdout",
     "output_type": "stream",
     "text": [
      "전체 피처명에서 10개만 추출: ['tBodyAcc-mean()-X', 'tBodyAcc-mean()-Y', 'tBodyAcc-mean()-Z', 'tBodyAcc-std()-X', 'tBodyAcc-std()-Y', 'tBodyAcc-std()-Z', 'tBodyAcc-mad()-X', 'tBodyAcc-mad()-Y', 'tBodyAcc-mad()-Z', 'tBodyAcc-max()-X']\n"
     ]
    }
   ],
   "source": [
    "# features.txt 파일에는 피처 이름 index와 피처명이 공백으로 분리되어 있음. 이를 DataFrame으로 로드.\n",
    "feature_name_df = pd.read_csv('./data/human_activity/features.txt', sep='\\s+', header=None, names=['column_index','column_name'])\n",
    "\n",
    "# 피처명 index를 제거하고, 피처명만 리스트 객체로 생성한 뒤 샘플로 10개만 추출\n",
    "feature_name = feature_name_df.iloc[:, 1].values.tolist()\n",
    "print('전체 피처명에서 10개만 추출:', feature_name[:10])"
   ]
  },
  {
   "cell_type": "code",
   "execution_count": 414,
   "id": "d07d9e58-91a4-4da3-b7b3-fc18b77fa55d",
   "metadata": {},
   "outputs": [
    {
     "name": "stdout",
     "output_type": "stream",
     "text": [
      "column_index    42\n",
      "dtype: int64\n"
     ]
    },
    {
     "data": {
      "text/html": [
       "<div>\n",
       "<style scoped>\n",
       "    .dataframe tbody tr th:only-of-type {\n",
       "        vertical-align: middle;\n",
       "    }\n",
       "\n",
       "    .dataframe tbody tr th {\n",
       "        vertical-align: top;\n",
       "    }\n",
       "\n",
       "    .dataframe thead th {\n",
       "        text-align: right;\n",
       "    }\n",
       "</style>\n",
       "<table border=\"1\" class=\"dataframe\">\n",
       "  <thead>\n",
       "    <tr style=\"text-align: right;\">\n",
       "      <th></th>\n",
       "      <th>column_index</th>\n",
       "    </tr>\n",
       "    <tr>\n",
       "      <th>column_name</th>\n",
       "      <th></th>\n",
       "    </tr>\n",
       "  </thead>\n",
       "  <tbody>\n",
       "    <tr>\n",
       "      <th>fBodyAcc-bandsEnergy()-1,16</th>\n",
       "      <td>3</td>\n",
       "    </tr>\n",
       "    <tr>\n",
       "      <th>fBodyAcc-bandsEnergy()-1,24</th>\n",
       "      <td>3</td>\n",
       "    </tr>\n",
       "    <tr>\n",
       "      <th>fBodyAcc-bandsEnergy()-1,8</th>\n",
       "      <td>3</td>\n",
       "    </tr>\n",
       "    <tr>\n",
       "      <th>fBodyAcc-bandsEnergy()-17,24</th>\n",
       "      <td>3</td>\n",
       "    </tr>\n",
       "    <tr>\n",
       "      <th>fBodyAcc-bandsEnergy()-17,32</th>\n",
       "      <td>3</td>\n",
       "    </tr>\n",
       "  </tbody>\n",
       "</table>\n",
       "</div>"
      ],
      "text/plain": [
       "                              column_index\n",
       "column_name                               \n",
       "fBodyAcc-bandsEnergy()-1,16              3\n",
       "fBodyAcc-bandsEnergy()-1,24              3\n",
       "fBodyAcc-bandsEnergy()-1,8               3\n",
       "fBodyAcc-bandsEnergy()-17,24             3\n",
       "fBodyAcc-bandsEnergy()-17,32             3"
      ]
     },
     "execution_count": 414,
     "metadata": {},
     "output_type": "execute_result"
    }
   ],
   "source": [
    "# feature 중복 확인\n",
    "feature_dup_df = feature_name_df.groupby('column_name').count()\n",
    "print(feature_dup_df[feature_dup_df['column_index'] > 1].count())\n",
    "feature_dup_df[feature_dup_df['column_index'] > 1].head()"
   ]
  },
  {
   "cell_type": "code",
   "execution_count": 415,
   "id": "3955dd67-3061-41c7-9aaf-cc06fa09860f",
   "metadata": {},
   "outputs": [],
   "source": [
    "def get_human_dataset():\n",
    "    # 각 데이터 파일들은 공백으로 분리되어 있으므로 read_csv에서 공백 문자를 sep으로 할당.\n",
    "    feature_name_df = pd.read_csv('./data/human_activity/features.txt', sep='\\s+', header=None, names=['column_index', 'column_name'])\n",
    "    \n",
    "    # 중복된 피처명을 수정하는 get_new_feature_name_df()를 이용, 신규 피처명 DataFrame생성. \n",
    "    feature_dup_df = pd.DataFrame(data=feature_name_df.groupby('column_name').cumcount(), columns=['dup_cnt'])\n",
    "    feature_dup_df = feature_dup_df.reset_index()\n",
    "    new_feature_name_df = pd.merge(feature_name_df.reset_index(), feature_dup_df, how='outer')\n",
    "    new_feature_name_df['column_name'] = new_feature_name_df[['column_name', 'dup_cnt']].apply(lambda x : x[0]+'_'+str(x[1]) if x[1] >0 else x[0] ,  axis=1)\n",
    "    new_feature_name_df = new_feature_name_df.drop(['index'], axis=1)\n",
    "    \n",
    "    # DataFrame에 피처명을 컬럼으로 부여하기 위해 리스트 객체로 다시 변환\n",
    "    feature_name = new_feature_name_df.iloc[:, 1].values.tolist()\n",
    "    \n",
    "    # 학습 피처 데이터 셋과 테스트 피처 데이터을 DataFrame으로 로딩. 컬럼명은 feature_name 적용\n",
    "    X_train = pd.read_csv('./data/human_activity/train/X_train.txt',sep='\\s+', names=feature_name)\n",
    "    X_test = pd.read_csv('./data/human_activity/test/X_test.txt',sep='\\s+', names=feature_name)\n",
    "    \n",
    "    # 학습 레이블과 테스트 레이블 데이터을 DataFrame으로 로딩하고 컬럼명은 action으로 부여\n",
    "    y_train = pd.read_csv('./data/human_activity/train/y_train.txt', sep='\\s+', header=None, names=['action'])\n",
    "    y_test = pd.read_csv('./data/human_activity/test/y_test.txt', sep='\\s+', header=None, names=['action'])\n",
    "    \n",
    "    # 로드된 학습/테스트용 DataFrame을 모두 반환 \n",
    "    return X_train, X_test, y_train, y_test\n",
    "\n",
    "x_train, x_test, y_train, y_test = get_human_dataset()"
   ]
  },
  {
   "cell_type": "code",
   "execution_count": 416,
   "id": "3673a0f4-0660-4e0f-a49b-77eb2c1224bd",
   "metadata": {},
   "outputs": [
    {
     "name": "stdout",
     "output_type": "stream",
     "text": [
      "## 학습 피처 데이터셋 info()\n",
      "<class 'pandas.core.frame.DataFrame'>\n",
      "RangeIndex: 7352 entries, 0 to 7351\n",
      "Columns: 561 entries, tBodyAcc-mean()-X to angle(Z,gravityMean)\n",
      "dtypes: float64(561)\n",
      "memory usage: 31.5 MB\n",
      "None\n"
     ]
    }
   ],
   "source": [
    "print('## 학습 피처 데이터셋 info()')\n",
    "print(x_train.info())"
   ]
  },
  {
   "cell_type": "code",
   "execution_count": 417,
   "id": "75105173-2c87-465b-920c-7b114ef3c465",
   "metadata": {
    "scrolled": true
   },
   "outputs": [
    {
     "name": "stdout",
     "output_type": "stream",
     "text": [
      "6    1407\n",
      "5    1374\n",
      "4    1286\n",
      "1    1226\n",
      "2    1073\n",
      "3     986\n",
      "Name: action, dtype: int64\n"
     ]
    }
   ],
   "source": [
    "print(y_train['action'].value_counts())"
   ]
  },
  {
   "cell_type": "code",
   "execution_count": 418,
   "id": "27b77f7c-3036-4b9a-9a9f-7f3060f3af73",
   "metadata": {},
   "outputs": [
    {
     "name": "stdout",
     "output_type": "stream",
     "text": [
      "결정 트리 예측 정확도: 0.8548\n",
      "DecisionTreeClassifier 기본 하이퍼 파라미터:\n",
      " {'ccp_alpha': 0.0, 'class_weight': None, 'criterion': 'gini', 'max_depth': None, 'max_features': None, 'max_leaf_nodes': None, 'min_impurity_decrease': 0.0, 'min_samples_leaf': 1, 'min_samples_split': 2, 'min_weight_fraction_leaf': 0.0, 'random_state': 156, 'splitter': 'best'}\n"
     ]
    }
   ],
   "source": [
    "dt_clf = DecisionTreeClassifier(random_state=156)\n",
    "dt_clf.fit(x_train, y_train)\n",
    "pred = dt_clf.predict(x_test)\n",
    "accuracy = accuracy_score(y_test, pred)\n",
    "print('결정 트리 예측 정확도: {0:.4f}'.format(accuracy))\n",
    "\n",
    "# DecisionTreeClassifier의 하이퍼 파라미터 추출\n",
    "print('DecisionTreeClassifier 기본 하이퍼 파라미터:\\n', dt_clf.get_params())"
   ]
  },
  {
   "cell_type": "code",
   "execution_count": 419,
   "id": "598cd964-b1f9-4abf-b365-c70f3e8ab5b0",
   "metadata": {},
   "outputs": [
    {
     "name": "stdout",
     "output_type": "stream",
     "text": [
      "Fitting 3 folds for each of 7 candidates, totalling 21 fits\n",
      "GridSearchCV 최고 평균 정확도 수치:0.8473\n",
      "GridSearchCV 최적 하이퍼 파라미터: {'max_depth': 6}\n"
     ]
    }
   ],
   "source": [
    "params = {'max_depth': [6, 8 ,10, 12, 16 ,20, 24]}\n",
    "\n",
    "grid_cv = GridSearchCV(dt_clf, param_grid=params, scoring='accuracy', cv=3, verbose=1)\n",
    "grid_cv.fit(x_train , y_train)\n",
    "print('GridSearchCV 최고 평균 정확도 수치:{0:.4f}'.format(grid_cv.best_score_))\n",
    "print('GridSearchCV 최적 하이퍼 파라미터:', grid_cv.best_params_)"
   ]
  },
  {
   "cell_type": "code",
   "execution_count": 420,
   "id": "f832018a-d9cd-4fa7-8168-fc619642869f",
   "metadata": {},
   "outputs": [
    {
     "data": {
      "text/html": [
       "<div>\n",
       "<style scoped>\n",
       "    .dataframe tbody tr th:only-of-type {\n",
       "        vertical-align: middle;\n",
       "    }\n",
       "\n",
       "    .dataframe tbody tr th {\n",
       "        vertical-align: top;\n",
       "    }\n",
       "\n",
       "    .dataframe thead th {\n",
       "        text-align: right;\n",
       "    }\n",
       "</style>\n",
       "<table border=\"1\" class=\"dataframe\">\n",
       "  <thead>\n",
       "    <tr style=\"text-align: right;\">\n",
       "      <th></th>\n",
       "      <th>param_max_depth</th>\n",
       "      <th>mean_test_score</th>\n",
       "    </tr>\n",
       "  </thead>\n",
       "  <tbody>\n",
       "    <tr>\n",
       "      <th>0</th>\n",
       "      <td>6</td>\n",
       "      <td>0.847251</td>\n",
       "    </tr>\n",
       "    <tr>\n",
       "      <th>1</th>\n",
       "      <td>8</td>\n",
       "      <td>0.837323</td>\n",
       "    </tr>\n",
       "    <tr>\n",
       "      <th>2</th>\n",
       "      <td>10</td>\n",
       "      <td>0.830111</td>\n",
       "    </tr>\n",
       "    <tr>\n",
       "      <th>3</th>\n",
       "      <td>12</td>\n",
       "      <td>0.827663</td>\n",
       "    </tr>\n",
       "    <tr>\n",
       "      <th>4</th>\n",
       "      <td>16</td>\n",
       "      <td>0.825352</td>\n",
       "    </tr>\n",
       "    <tr>\n",
       "      <th>5</th>\n",
       "      <td>20</td>\n",
       "      <td>0.828344</td>\n",
       "    </tr>\n",
       "    <tr>\n",
       "      <th>6</th>\n",
       "      <td>24</td>\n",
       "      <td>0.828344</td>\n",
       "    </tr>\n",
       "  </tbody>\n",
       "</table>\n",
       "</div>"
      ],
      "text/plain": [
       "  param_max_depth  mean_test_score\n",
       "0               6         0.847251\n",
       "1               8         0.837323\n",
       "2              10         0.830111\n",
       "3              12         0.827663\n",
       "4              16         0.825352\n",
       "5              20         0.828344\n",
       "6              24         0.828344"
      ]
     },
     "execution_count": 420,
     "metadata": {},
     "output_type": "execute_result"
    }
   ],
   "source": [
    "# GridSearchCV객체의 cv_results_ 속성을 DataFrame으로 생성. \n",
    "cv_results_df = pd.DataFrame(grid_cv.cv_results_)\n",
    "\n",
    "# max_depth 파라미터 값과 그때의 테스트(Evaluation)셋, 학습 데이터 셋의 정확도 수치 추출\n",
    "cv_results_df[['param_max_depth', 'mean_test_score']]"
   ]
  },
  {
   "cell_type": "code",
   "execution_count": 421,
   "id": "fb9b60ef-dd2b-4d2e-955d-b3ab4adee389",
   "metadata": {},
   "outputs": [
    {
     "name": "stdout",
     "output_type": "stream",
     "text": [
      "max_depth = 6 정확도: 0.8551\n",
      "max_depth = 8 정확도: 0.8717\n",
      "max_depth = 10 정확도: 0.8599\n",
      "max_depth = 12 정확도: 0.8571\n",
      "max_depth = 16 정확도: 0.8599\n",
      "max_depth = 20 정확도: 0.8565\n",
      "max_depth = 24 정확도: 0.8565\n"
     ]
    }
   ],
   "source": [
    "max_depths = [6, 8 ,10, 12, 16 ,20, 24]\n",
    "# max_depth 값을 변화 시키면서 그때마다 학습과 테스트 셋에서의 예측 성능 측정\n",
    "for depth in max_depths:\n",
    "    dt_clf = DecisionTreeClassifier(max_depth=depth, min_samples_split=16, random_state=156)\n",
    "    dt_clf.fit(x_train, y_train)\n",
    "    pred = dt_clf.predict(x_test)\n",
    "    accuracy = accuracy_score(y_test, pred)\n",
    "    print('max_depth = {0} 정확도: {1:.4f}'.format(depth , accuracy))"
   ]
  },
  {
   "cell_type": "code",
   "execution_count": 422,
   "id": "b568c71c-2a32-4792-9c67-5803cd5be19a",
   "metadata": {},
   "outputs": [
    {
     "name": "stdout",
     "output_type": "stream",
     "text": [
      "Fitting 5 folds for each of 8 candidates, totalling 40 fits\n",
      "GridSearchCV 최고 평균 정확도 수치: 0.8549\n",
      "GridSearchCV 최적 하이퍼 파라미터: {'max_depth': 8, 'min_samples_split': 16}\n"
     ]
    }
   ],
   "source": [
    "params = {'max_depth' : [8 , 12, 16, 20], 'min_samples_split' : [16, 24]}\n",
    "\n",
    "grid_cv = GridSearchCV(dt_clf, param_grid=params, scoring='accuracy', cv=5, verbose=1)\n",
    "grid_cv.fit(x_train, y_train)\n",
    "print('GridSearchCV 최고 평균 정확도 수치: {0:.4f}'.format(grid_cv.best_score_))\n",
    "print('GridSearchCV 최적 하이퍼 파라미터:', grid_cv.best_params_)"
   ]
  },
  {
   "cell_type": "code",
   "execution_count": 423,
   "id": "046b77dd-260a-4784-9b26-0edfb6bdcfea",
   "metadata": {},
   "outputs": [
    {
     "name": "stdout",
     "output_type": "stream",
     "text": [
      "결정 트리 예측 정확도:0.8717\n"
     ]
    }
   ],
   "source": [
    "best_df_clf = grid_cv.best_estimator_\n",
    "pred = best_df_clf.predict(x_test)\n",
    "accuracy = accuracy_score(y_test , pred)\n",
    "print('결정 트리 예측 정확도:{0:.4f}'.format(accuracy))"
   ]
  },
  {
   "cell_type": "code",
   "execution_count": 424,
   "id": "86e01c2b-4ef2-4fa6-b2ec-978b63d5a5f0",
   "metadata": {},
   "outputs": [
    {
     "data": {
      "image/png": "[encoded data removed]",
      "text/plain": [
       "<Figure size 576x432 with 1 Axes>"
      ]
     },
     "metadata": {
      "needs_background": "light"
     },
     "output_type": "display_data"
    }
   ],
   "source": [
    "ftr_importances_values = best_df_clf.feature_importances_\n",
    "\n",
    "# Top 중요도로 정렬을 쉽게 하고, 시본(Seaborn)의 막대그래프로 쉽게 표현하기 위해 Series변환\n",
    "ftr_importances = pd.Series(ftr_importances_values, index=x_train.columns)\n",
    "\n",
    "# 중요도값 순으로 Series를 정렬\n",
    "ftr_top20 = ftr_importances.sort_values(ascending=False)[:20]\n",
    "\n",
    "plt.figure(figsize=(8, 6))\n",
    "plt.title('Feature importances Top 20')\n",
    "sns.barplot(x=ftr_top20, y=ftr_top20.index)\n",
    "plt.show()"
   ]
  },
  {
   "cell_type": "markdown",
   "id": "d3cea80a-67e7-4426-b18e-9cf8d28f5d77",
   "metadata": {},
   "source": [
    "### (5) Santander bank dataset"
   ]
  },
  {
   "cell_type": "code",
   "execution_count": 511,
   "id": "0b87734b-0572-49af-a311-06ea60fe770e",
   "metadata": {
    "scrolled": true
   },
   "outputs": [
    {
     "name": "stdout",
     "output_type": "stream",
     "text": [
      "dataset shape: (76020, 371)\n"
     ]
    },
    {
     "data": {
      "text/html": [
       "<div>\n",
       "<style scoped>\n",
       "    .dataframe tbody tr th:only-of-type {\n",
       "        vertical-align: middle;\n",
       "    }\n",
       "\n",
       "    .dataframe tbody tr th {\n",
       "        vertical-align: top;\n",
       "    }\n",
       "\n",
       "    .dataframe thead th {\n",
       "        text-align: right;\n",
       "    }\n",
       "</style>\n",
       "<table border=\"1\" class=\"dataframe\">\n",
       "  <thead>\n",
       "    <tr style=\"text-align: right;\">\n",
       "      <th></th>\n",
       "      <th>ID</th>\n",
       "      <th>var3</th>\n",
       "      <th>var15</th>\n",
       "      <th>imp_ent_var16_ult1</th>\n",
       "      <th>imp_op_var39_comer_ult1</th>\n",
       "      <th>imp_op_var39_comer_ult3</th>\n",
       "      <th>imp_op_var40_comer_ult1</th>\n",
       "      <th>imp_op_var40_comer_ult3</th>\n",
       "      <th>imp_op_var40_efect_ult1</th>\n",
       "      <th>imp_op_var40_efect_ult3</th>\n",
       "      <th>...</th>\n",
       "      <th>saldo_medio_var33_hace2</th>\n",
       "      <th>saldo_medio_var33_hace3</th>\n",
       "      <th>saldo_medio_var33_ult1</th>\n",
       "      <th>saldo_medio_var33_ult3</th>\n",
       "      <th>saldo_medio_var44_hace2</th>\n",
       "      <th>saldo_medio_var44_hace3</th>\n",
       "      <th>saldo_medio_var44_ult1</th>\n",
       "      <th>saldo_medio_var44_ult3</th>\n",
       "      <th>var38</th>\n",
       "      <th>TARGET</th>\n",
       "    </tr>\n",
       "  </thead>\n",
       "  <tbody>\n",
       "    <tr>\n",
       "      <th>0</th>\n",
       "      <td>1</td>\n",
       "      <td>2</td>\n",
       "      <td>23</td>\n",
       "      <td>0.0</td>\n",
       "      <td>0.0</td>\n",
       "      <td>0.0</td>\n",
       "      <td>0.0</td>\n",
       "      <td>0.0</td>\n",
       "      <td>0.0</td>\n",
       "      <td>0.0</td>\n",
       "      <td>...</td>\n",
       "      <td>0.0</td>\n",
       "      <td>0.0</td>\n",
       "      <td>0.0</td>\n",
       "      <td>0.0</td>\n",
       "      <td>0.0</td>\n",
       "      <td>0.0</td>\n",
       "      <td>0.0</td>\n",
       "      <td>0.0</td>\n",
       "      <td>39205.17</td>\n",
       "      <td>0</td>\n",
       "    </tr>\n",
       "    <tr>\n",
       "      <th>1</th>\n",
       "      <td>3</td>\n",
       "      <td>2</td>\n",
       "      <td>34</td>\n",
       "      <td>0.0</td>\n",
       "      <td>0.0</td>\n",
       "      <td>0.0</td>\n",
       "      <td>0.0</td>\n",
       "      <td>0.0</td>\n",
       "      <td>0.0</td>\n",
       "      <td>0.0</td>\n",
       "      <td>...</td>\n",
       "      <td>0.0</td>\n",
       "      <td>0.0</td>\n",
       "      <td>0.0</td>\n",
       "      <td>0.0</td>\n",
       "      <td>0.0</td>\n",
       "      <td>0.0</td>\n",
       "      <td>0.0</td>\n",
       "      <td>0.0</td>\n",
       "      <td>49278.03</td>\n",
       "      <td>0</td>\n",
       "    </tr>\n",
       "    <tr>\n",
       "      <th>2</th>\n",
       "      <td>4</td>\n",
       "      <td>2</td>\n",
       "      <td>23</td>\n",
       "      <td>0.0</td>\n",
       "      <td>0.0</td>\n",
       "      <td>0.0</td>\n",
       "      <td>0.0</td>\n",
       "      <td>0.0</td>\n",
       "      <td>0.0</td>\n",
       "      <td>0.0</td>\n",
       "      <td>...</td>\n",
       "      <td>0.0</td>\n",
       "      <td>0.0</td>\n",
       "      <td>0.0</td>\n",
       "      <td>0.0</td>\n",
       "      <td>0.0</td>\n",
       "      <td>0.0</td>\n",
       "      <td>0.0</td>\n",
       "      <td>0.0</td>\n",
       "      <td>67333.77</td>\n",
       "      <td>0</td>\n",
       "    </tr>\n",
       "  </tbody>\n",
       "</table>\n",
       "<p>3 rows × 371 columns</p>\n",
       "</div>"
      ],
      "text/plain": [
       "   ID  var3  var15  imp_ent_var16_ult1  imp_op_var39_comer_ult1  \\\n",
       "0   1     2     23                 0.0                      0.0   \n",
       "1   3     2     34                 0.0                      0.0   \n",
       "2   4     2     23                 0.0                      0.0   \n",
       "\n",
       "   imp_op_var39_comer_ult3  imp_op_var40_comer_ult1  imp_op_var40_comer_ult3  \\\n",
       "0                      0.0                      0.0                      0.0   \n",
       "1                      0.0                      0.0                      0.0   \n",
       "2                      0.0                      0.0                      0.0   \n",
       "\n",
       "   imp_op_var40_efect_ult1  imp_op_var40_efect_ult3  ...  \\\n",
       "0                      0.0                      0.0  ...   \n",
       "1                      0.0                      0.0  ...   \n",
       "2                      0.0                      0.0  ...   \n",
       "\n",
       "   saldo_medio_var33_hace2  saldo_medio_var33_hace3  saldo_medio_var33_ult1  \\\n",
       "0                      0.0                      0.0                     0.0   \n",
       "1                      0.0                      0.0                     0.0   \n",
       "2                      0.0                      0.0                     0.0   \n",
       "\n",
       "   saldo_medio_var33_ult3  saldo_medio_var44_hace2  saldo_medio_var44_hace3  \\\n",
       "0                     0.0                      0.0                      0.0   \n",
       "1                     0.0                      0.0                      0.0   \n",
       "2                     0.0                      0.0                      0.0   \n",
       "\n",
       "   saldo_medio_var44_ult1  saldo_medio_var44_ult3     var38  TARGET  \n",
       "0                     0.0                     0.0  39205.17       0  \n",
       "1                     0.0                     0.0  49278.03       0  \n",
       "2                     0.0                     0.0  67333.77       0  \n",
       "\n",
       "[3 rows x 371 columns]"
      ]
     },
     "execution_count": 511,
     "metadata": {},
     "output_type": "execute_result"
    }
   ],
   "source": [
    "cust_df = pd.read_csv(\"./data/train_santander.csv\", encoding='latin-1')\n",
    "print('dataset shape:', cust_df.shape)\n",
    "cust_df.head(3)"
   ]
  },
  {
   "cell_type": "code",
   "execution_count": 512,
   "id": "f81eb92b-9df7-4616-bbc0-b83c33add225",
   "metadata": {},
   "outputs": [
    {
     "name": "stdout",
     "output_type": "stream",
     "text": [
      "0    73012\n",
      "1     3008\n",
      "Name: TARGET, dtype: int64\n",
      "unsatisfied 비율은 0.04\n"
     ]
    }
   ],
   "source": [
    "print(cust_df['TARGET'].value_counts())\n",
    "unsatisfied_cnt = cust_df[cust_df['TARGET'] == 1].TARGET.count()\n",
    "total_cnt = cust_df.TARGET.count()\n",
    "print('unsatisfied 비율은 {0:.2f}'.format((unsatisfied_cnt / total_cnt)))"
   ]
  },
  {
   "cell_type": "code",
   "execution_count": 513,
   "id": "769fe20a-ce66-46c7-b9a0-0143d92b0b05",
   "metadata": {},
   "outputs": [
    {
     "data": {
      "text/html": [
       "<div>\n",
       "<style scoped>\n",
       "    .dataframe tbody tr th:only-of-type {\n",
       "        vertical-align: middle;\n",
       "    }\n",
       "\n",
       "    .dataframe tbody tr th {\n",
       "        vertical-align: top;\n",
       "    }\n",
       "\n",
       "    .dataframe thead th {\n",
       "        text-align: right;\n",
       "    }\n",
       "</style>\n",
       "<table border=\"1\" class=\"dataframe\">\n",
       "  <thead>\n",
       "    <tr style=\"text-align: right;\">\n",
       "      <th></th>\n",
       "      <th>ID</th>\n",
       "      <th>var3</th>\n",
       "      <th>var15</th>\n",
       "      <th>imp_ent_var16_ult1</th>\n",
       "      <th>imp_op_var39_comer_ult1</th>\n",
       "      <th>imp_op_var39_comer_ult3</th>\n",
       "      <th>imp_op_var40_comer_ult1</th>\n",
       "      <th>imp_op_var40_comer_ult3</th>\n",
       "      <th>imp_op_var40_efect_ult1</th>\n",
       "      <th>imp_op_var40_efect_ult3</th>\n",
       "      <th>...</th>\n",
       "      <th>saldo_medio_var33_hace2</th>\n",
       "      <th>saldo_medio_var33_hace3</th>\n",
       "      <th>saldo_medio_var33_ult1</th>\n",
       "      <th>saldo_medio_var33_ult3</th>\n",
       "      <th>saldo_medio_var44_hace2</th>\n",
       "      <th>saldo_medio_var44_hace3</th>\n",
       "      <th>saldo_medio_var44_ult1</th>\n",
       "      <th>saldo_medio_var44_ult3</th>\n",
       "      <th>var38</th>\n",
       "      <th>TARGET</th>\n",
       "    </tr>\n",
       "  </thead>\n",
       "  <tbody>\n",
       "    <tr>\n",
       "      <th>count</th>\n",
       "      <td>76020.000000</td>\n",
       "      <td>76020.000000</td>\n",
       "      <td>76020.000000</td>\n",
       "      <td>76020.000000</td>\n",
       "      <td>76020.000000</td>\n",
       "      <td>76020.000000</td>\n",
       "      <td>76020.000000</td>\n",
       "      <td>76020.000000</td>\n",
       "      <td>76020.000000</td>\n",
       "      <td>76020.000000</td>\n",
       "      <td>...</td>\n",
       "      <td>76020.000000</td>\n",
       "      <td>76020.000000</td>\n",
       "      <td>76020.000000</td>\n",
       "      <td>76020.000000</td>\n",
       "      <td>76020.000000</td>\n",
       "      <td>76020.000000</td>\n",
       "      <td>76020.000000</td>\n",
       "      <td>76020.000000</td>\n",
       "      <td>7.602000e+04</td>\n",
       "      <td>76020.000000</td>\n",
       "    </tr>\n",
       "    <tr>\n",
       "      <th>mean</th>\n",
       "      <td>75964.050723</td>\n",
       "      <td>-1523.199277</td>\n",
       "      <td>33.212865</td>\n",
       "      <td>86.208265</td>\n",
       "      <td>72.363067</td>\n",
       "      <td>119.529632</td>\n",
       "      <td>3.559130</td>\n",
       "      <td>6.472698</td>\n",
       "      <td>0.412946</td>\n",
       "      <td>0.567352</td>\n",
       "      <td>...</td>\n",
       "      <td>7.935824</td>\n",
       "      <td>1.365146</td>\n",
       "      <td>12.215580</td>\n",
       "      <td>8.784074</td>\n",
       "      <td>31.505324</td>\n",
       "      <td>1.858575</td>\n",
       "      <td>76.026165</td>\n",
       "      <td>56.614351</td>\n",
       "      <td>1.172358e+05</td>\n",
       "      <td>0.039569</td>\n",
       "    </tr>\n",
       "    <tr>\n",
       "      <th>std</th>\n",
       "      <td>43781.947379</td>\n",
       "      <td>39033.462364</td>\n",
       "      <td>12.956486</td>\n",
       "      <td>1614.757313</td>\n",
       "      <td>339.315831</td>\n",
       "      <td>546.266294</td>\n",
       "      <td>93.155749</td>\n",
       "      <td>153.737066</td>\n",
       "      <td>30.604864</td>\n",
       "      <td>36.513513</td>\n",
       "      <td>...</td>\n",
       "      <td>455.887218</td>\n",
       "      <td>113.959637</td>\n",
       "      <td>783.207399</td>\n",
       "      <td>538.439211</td>\n",
       "      <td>2013.125393</td>\n",
       "      <td>147.786584</td>\n",
       "      <td>4040.337842</td>\n",
       "      <td>2852.579397</td>\n",
       "      <td>1.826646e+05</td>\n",
       "      <td>0.194945</td>\n",
       "    </tr>\n",
       "    <tr>\n",
       "      <th>min</th>\n",
       "      <td>1.000000</td>\n",
       "      <td>-999999.000000</td>\n",
       "      <td>5.000000</td>\n",
       "      <td>0.000000</td>\n",
       "      <td>0.000000</td>\n",
       "      <td>0.000000</td>\n",
       "      <td>0.000000</td>\n",
       "      <td>0.000000</td>\n",
       "      <td>0.000000</td>\n",
       "      <td>0.000000</td>\n",
       "      <td>...</td>\n",
       "      <td>0.000000</td>\n",
       "      <td>0.000000</td>\n",
       "      <td>0.000000</td>\n",
       "      <td>0.000000</td>\n",
       "      <td>0.000000</td>\n",
       "      <td>0.000000</td>\n",
       "      <td>0.000000</td>\n",
       "      <td>0.000000</td>\n",
       "      <td>5.163750e+03</td>\n",
       "      <td>0.000000</td>\n",
       "    </tr>\n",
       "    <tr>\n",
       "      <th>25%</th>\n",
       "      <td>38104.750000</td>\n",
       "      <td>2.000000</td>\n",
       "      <td>23.000000</td>\n",
       "      <td>0.000000</td>\n",
       "      <td>0.000000</td>\n",
       "      <td>0.000000</td>\n",
       "      <td>0.000000</td>\n",
       "      <td>0.000000</td>\n",
       "      <td>0.000000</td>\n",
       "      <td>0.000000</td>\n",
       "      <td>...</td>\n",
       "      <td>0.000000</td>\n",
       "      <td>0.000000</td>\n",
       "      <td>0.000000</td>\n",
       "      <td>0.000000</td>\n",
       "      <td>0.000000</td>\n",
       "      <td>0.000000</td>\n",
       "      <td>0.000000</td>\n",
       "      <td>0.000000</td>\n",
       "      <td>6.787061e+04</td>\n",
       "      <td>0.000000</td>\n",
       "    </tr>\n",
       "    <tr>\n",
       "      <th>50%</th>\n",
       "      <td>76043.000000</td>\n",
       "      <td>2.000000</td>\n",
       "      <td>28.000000</td>\n",
       "      <td>0.000000</td>\n",
       "      <td>0.000000</td>\n",
       "      <td>0.000000</td>\n",
       "      <td>0.000000</td>\n",
       "      <td>0.000000</td>\n",
       "      <td>0.000000</td>\n",
       "      <td>0.000000</td>\n",
       "      <td>...</td>\n",
       "      <td>0.000000</td>\n",
       "      <td>0.000000</td>\n",
       "      <td>0.000000</td>\n",
       "      <td>0.000000</td>\n",
       "      <td>0.000000</td>\n",
       "      <td>0.000000</td>\n",
       "      <td>0.000000</td>\n",
       "      <td>0.000000</td>\n",
       "      <td>1.064092e+05</td>\n",
       "      <td>0.000000</td>\n",
       "    </tr>\n",
       "    <tr>\n",
       "      <th>75%</th>\n",
       "      <td>113748.750000</td>\n",
       "      <td>2.000000</td>\n",
       "      <td>40.000000</td>\n",
       "      <td>0.000000</td>\n",
       "      <td>0.000000</td>\n",
       "      <td>0.000000</td>\n",
       "      <td>0.000000</td>\n",
       "      <td>0.000000</td>\n",
       "      <td>0.000000</td>\n",
       "      <td>0.000000</td>\n",
       "      <td>...</td>\n",
       "      <td>0.000000</td>\n",
       "      <td>0.000000</td>\n",
       "      <td>0.000000</td>\n",
       "      <td>0.000000</td>\n",
       "      <td>0.000000</td>\n",
       "      <td>0.000000</td>\n",
       "      <td>0.000000</td>\n",
       "      <td>0.000000</td>\n",
       "      <td>1.187563e+05</td>\n",
       "      <td>0.000000</td>\n",
       "    </tr>\n",
       "    <tr>\n",
       "      <th>max</th>\n",
       "      <td>151838.000000</td>\n",
       "      <td>238.000000</td>\n",
       "      <td>105.000000</td>\n",
       "      <td>210000.000000</td>\n",
       "      <td>12888.030000</td>\n",
       "      <td>21024.810000</td>\n",
       "      <td>8237.820000</td>\n",
       "      <td>11073.570000</td>\n",
       "      <td>6600.000000</td>\n",
       "      <td>6600.000000</td>\n",
       "      <td>...</td>\n",
       "      <td>50003.880000</td>\n",
       "      <td>20385.720000</td>\n",
       "      <td>138831.630000</td>\n",
       "      <td>91778.730000</td>\n",
       "      <td>438329.220000</td>\n",
       "      <td>24650.010000</td>\n",
       "      <td>681462.900000</td>\n",
       "      <td>397884.300000</td>\n",
       "      <td>2.203474e+07</td>\n",
       "      <td>1.000000</td>\n",
       "    </tr>\n",
       "  </tbody>\n",
       "</table>\n",
       "<p>8 rows × 371 columns</p>\n",
       "</div>"
      ],
      "text/plain": [
       "                  ID           var3         var15  imp_ent_var16_ult1  \\\n",
       "count   76020.000000   76020.000000  76020.000000        76020.000000   \n",
       "mean    75964.050723   -1523.199277     33.212865           86.208265   \n",
       "std     43781.947379   39033.462364     12.956486         1614.757313   \n",
       "min         1.000000 -999999.000000      5.000000            0.000000   \n",
       "25%     38104.750000       2.000000     23.000000            0.000000   \n",
       "50%     76043.000000       2.000000     28.000000            0.000000   \n",
       "75%    113748.750000       2.000000     40.000000            0.000000   \n",
       "max    151838.000000     238.000000    105.000000       210000.000000   \n",
       "\n",
       "       imp_op_var39_comer_ult1  imp_op_var39_comer_ult3  \\\n",
       "count             76020.000000             76020.000000   \n",
       "mean                 72.363067               119.529632   \n",
       "std                 339.315831               546.266294   \n",
       "min                   0.000000                 0.000000   \n",
       "25%                   0.000000                 0.000000   \n",
       "50%                   0.000000                 0.000000   \n",
       "75%                   0.000000                 0.000000   \n",
       "max               12888.030000             21024.810000   \n",
       "\n",
       "       imp_op_var40_comer_ult1  imp_op_var40_comer_ult3  \\\n",
       "count             76020.000000             76020.000000   \n",
       "mean                  3.559130                 6.472698   \n",
       "std                  93.155749               153.737066   \n",
       "min                   0.000000                 0.000000   \n",
       "25%                   0.000000                 0.000000   \n",
       "50%                   0.000000                 0.000000   \n",
       "75%                   0.000000                 0.000000   \n",
       "max                8237.820000             11073.570000   \n",
       "\n",
       "       imp_op_var40_efect_ult1  imp_op_var40_efect_ult3  ...  \\\n",
       "count             76020.000000             76020.000000  ...   \n",
       "mean                  0.412946                 0.567352  ...   \n",
       "std                  30.604864                36.513513  ...   \n",
       "min                   0.000000                 0.000000  ...   \n",
       "25%                   0.000000                 0.000000  ...   \n",
       "50%                   0.000000                 0.000000  ...   \n",
       "75%                   0.000000                 0.000000  ...   \n",
       "max                6600.000000              6600.000000  ...   \n",
       "\n",
       "       saldo_medio_var33_hace2  saldo_medio_var33_hace3  \\\n",
       "count             76020.000000             76020.000000   \n",
       "mean                  7.935824                 1.365146   \n",
       "std                 455.887218               113.959637   \n",
       "min                   0.000000                 0.000000   \n",
       "25%                   0.000000                 0.000000   \n",
       "50%                   0.000000                 0.000000   \n",
       "75%                   0.000000                 0.000000   \n",
       "max               50003.880000             20385.720000   \n",
       "\n",
       "       saldo_medio_var33_ult1  saldo_medio_var33_ult3  \\\n",
       "count            76020.000000            76020.000000   \n",
       "mean                12.215580                8.784074   \n",
       "std                783.207399              538.439211   \n",
       "min                  0.000000                0.000000   \n",
       "25%                  0.000000                0.000000   \n",
       "50%                  0.000000                0.000000   \n",
       "75%                  0.000000                0.000000   \n",
       "max             138831.630000            91778.730000   \n",
       "\n",
       "       saldo_medio_var44_hace2  saldo_medio_var44_hace3  \\\n",
       "count             76020.000000             76020.000000   \n",
       "mean                 31.505324                 1.858575   \n",
       "std                2013.125393               147.786584   \n",
       "min                   0.000000                 0.000000   \n",
       "25%                   0.000000                 0.000000   \n",
       "50%                   0.000000                 0.000000   \n",
       "75%                   0.000000                 0.000000   \n",
       "max              438329.220000             24650.010000   \n",
       "\n",
       "       saldo_medio_var44_ult1  saldo_medio_var44_ult3         var38  \\\n",
       "count            76020.000000            76020.000000  7.602000e+04   \n",
       "mean                76.026165               56.614351  1.172358e+05   \n",
       "std               4040.337842             2852.579397  1.826646e+05   \n",
       "min                  0.000000                0.000000  5.163750e+03   \n",
       "25%                  0.000000                0.000000  6.787061e+04   \n",
       "50%                  0.000000                0.000000  1.064092e+05   \n",
       "75%                  0.000000                0.000000  1.187563e+05   \n",
       "max             681462.900000           397884.300000  2.203474e+07   \n",
       "\n",
       "             TARGET  \n",
       "count  76020.000000  \n",
       "mean       0.039569  \n",
       "std        0.194945  \n",
       "min        0.000000  \n",
       "25%        0.000000  \n",
       "50%        0.000000  \n",
       "75%        0.000000  \n",
       "max        1.000000  \n",
       "\n",
       "[8 rows x 371 columns]"
      ]
     },
     "execution_count": 513,
     "metadata": {},
     "output_type": "execute_result"
    }
   ],
   "source": [
    "cust_df.describe()"
   ]
  },
  {
   "cell_type": "code",
   "execution_count": 514,
   "id": "674c1417-d27b-40b5-b90e-b6463f62ef9a",
   "metadata": {},
   "outputs": [
    {
     "data": {
      "text/plain": [
       " 2         74165\n",
       " 8           138\n",
       "-999999      116\n",
       " 9           110\n",
       " 3           108\n",
       "           ...  \n",
       " 231           1\n",
       " 188           1\n",
       " 168           1\n",
       " 135           1\n",
       " 87            1\n",
       "Name: var3, Length: 208, dtype: int64"
      ]
     },
     "execution_count": 514,
     "metadata": {},
     "output_type": "execute_result"
    }
   ],
   "source": [
    "cust_df['var3'].value_counts()"
   ]
  },
  {
   "cell_type": "code",
   "execution_count": 515,
   "id": "444870f6-6537-446c-9f6b-53be65214b51",
   "metadata": {},
   "outputs": [
    {
     "name": "stdout",
     "output_type": "stream",
     "text": [
      "피처 데이터 shape:(76020, 369)\n"
     ]
    }
   ],
   "source": [
    "# var3 피처 값 대체 및 ID 피처 드롭\n",
    "cust_df['var3'].replace(-999999, 2, inplace=True)\n",
    "cust_df.drop('ID', axis=1, inplace=True)\n",
    "\n",
    "# 피처 세트와 레이블 세트분리. 레이블 컬럼은 DataFrame의 맨 마지막에 위치해 컬럼 위치 -1로 분리\n",
    "x_features = cust_df.iloc[:, :-1]\n",
    "y_labels = cust_df.iloc[:, -1]\n",
    "print('피처 데이터 shape:{0}'.format(x_features.shape))"
   ]
  },
  {
   "cell_type": "code",
   "execution_count": 516,
   "id": "3c3edbbd-b4a8-44da-ba1b-b42ada3a7213",
   "metadata": {},
   "outputs": [
    {
     "name": "stdout",
     "output_type": "stream",
     "text": [
      "학습 세트 Shape:(60816, 369), 테스트 세트 Shape:(15204, 369)\n",
      " 학습 세트 레이블 값 분포 비율\n",
      "0    0.960964\n",
      "1    0.039036\n",
      "Name: TARGET, dtype: float64\n",
      "\n",
      " 테스트 세트 레이블 값 분포 비율\n",
      "0    0.9583\n",
      "1    0.0417\n",
      "Name: TARGET, dtype: float64\n"
     ]
    }
   ],
   "source": [
    "x_train, x_test, y_train, y_test = train_test_split(x_features, y_labels, test_size=0.2, random_state=0)\n",
    "\n",
    "train_cnt = y_train.count()\n",
    "test_cnt = y_test.count()\n",
    "\n",
    "print('학습 세트 Shape:{0}, 테스트 세트 Shape:{1}'.format(x_train.shape, x_test.shape))\n",
    "\n",
    "print(' 학습 세트 레이블 값 분포 비율')\n",
    "print(y_train.value_counts()/train_cnt)\n",
    "print('\\n 테스트 세트 레이블 값 분포 비율')\n",
    "print(y_test.value_counts()/test_cnt)\n",
    "\n",
    "# x_train, y_train을 다시 학습과 검증 데이터 세트로 분리. \n",
    "x_tr, x_val, y_tr, y_val = train_test_split(x_train, y_train, test_size=0.3, random_state=0)"
   ]
  },
  {
   "cell_type": "code",
   "execution_count": null,
   "id": "aad0b835-54b6-40a6-8e9d-fa548f9256dc",
   "metadata": {},
   "outputs": [],
   "source": [
    "# n_estimators는 50으로, learning_rate 0.05, random state는 예제 수행 시마다 동일 예측 결과를 위해 설정. \n",
    "xgb_clf = XGBClassifier(n_estimators=50, learning_rate=0.05, random_state=156)\n",
    "\n",
    "# 성능 평가 지표를 auc로, 조기 중단 파라미터는 20으로 설정하고 학습 수행.\n",
    "# label 비율이 비대칭이므로\n",
    "xgb_clf.fit(x_tr, y_tr, early_stopping_rounds=20, eval_metric='auc', eval_set=[(x_tr, y_tr), (x_val, y_val)])\n",
    "\n",
    "xgb_roc_score = roc_auc_score(y_test, xgb_clf.predict_proba(x_test)[:, 1])\n",
    "print('ROC AUC: {0:.4f}'.format(xgb_roc_score))"
   ]
  },
  {
   "cell_type": "code",
   "execution_count": 518,
   "id": "551c30d3-961d-4f2a-8a80-860cc4fad0dd",
   "metadata": {},
   "outputs": [],
   "source": [
    "# max_depth는 5에서 15까지 1간격으로, min_child_weight는 1에서 6까지 1간격으로\n",
    "# colsample_bytree는 0.5에서 0.95사이, learning_rate는 0.01에서 0.2사이 정규 분포된 값으로 검색. \n",
    "xgb_search_space = {'max_depth': hp.quniform('max_depth', 5, 15, 1), \n",
    "                    'min_child_weight': hp.quniform('min_child_weight', 1, 6, 1),\n",
    "                    'colsample_bytree': hp.uniform('colsample_bytree', 0.5, 0.95),\n",
    "                    'learning_rate': hp.uniform('learning_rate', 0.01, 0.2)}"
   ]
  },
  {
   "cell_type": "code",
   "execution_count": 519,
   "id": "4f2c1949-1583-4fbf-838c-94eb5b6e6744",
   "metadata": {},
   "outputs": [],
   "source": [
    "# 목적 함수 설정. \n",
    "# 추후 fmin()에서 입력된 search_space값으로 XGBClassifier 교차 검증 학습 후 -1* roc_auc 평균 값을 반환.  \n",
    "def objective_func(search_space):\n",
    "    xgb_clf = XGBClassifier(n_estimators=30, max_depth=int(search_space['max_depth']),\n",
    "                            min_child_weight=int(search_space['min_child_weight']),\n",
    "                            colsample_bytree=search_space['colsample_bytree'],\n",
    "                            learning_rate=search_space['learning_rate']\n",
    "                           )\n",
    "    # 3개 k-fold 방식으로 평가된 roc_auc 지표를 담는 list\n",
    "    roc_auc_list= []\n",
    "    \n",
    "    # 3개 k-fold방식 적용 \n",
    "    kf = KFold(n_splits=3)\n",
    "    # X_train을 다시 학습과 검증용 데이터로 분리\n",
    "    for tr_index, val_index in kf.split(x_train):\n",
    "        # kf.split(x_train)으로 추출된 학습과 검증 index값으로 학습과 검증 데이터 세트 분리 \n",
    "        x_tr, y_tr = x_train.iloc[tr_index], y_train.iloc[tr_index]\n",
    "        x_val, y_val = x_train.iloc[val_index], y_train.iloc[val_index]\n",
    "        # early stopping은 20회로 설정하고 추출된 학습과 검증 데이터로 XGBClassifier 학습 수행. \n",
    "        xgb_clf.fit(x_tr, y_tr, early_stopping_rounds=20, eval_metric='auc',\n",
    "                   eval_set=[(x_tr, y_tr), (x_val, y_val)])\n",
    "    \n",
    "        # 1로 예측한 확률값 추출후 roc auc 계산하고 평균 roc auc 계산을 위해 list에 결과값 담음. \n",
    "        score = roc_auc_score(y_val, xgb_clf.predict_proba(x_val)[:, 1])\n",
    "        roc_auc_list.append(score)\n",
    "        \n",
    "    # 3개 k-fold로 계산된 roc_auc값의 평균값을 반환하되, \n",
    "    # HyperOpt는 목적함수의 최소값을 위한 입력값을 찾으므로 -1을 곱한 뒤 반환. \n",
    "    return -1 * np.mean(roc_auc_list)"
   ]
  },
  {
   "cell_type": "code",
   "execution_count": null,
   "id": "75524471-11b6-4a10-88f4-56ea0a26ac33",
   "metadata": {
    "scrolled": true
   },
   "outputs": [],
   "source": [
    "trials = Trials()\n",
    "\n",
    "# fmin()함수를 호출. max_evals지정된 횟수만큼 반복 후 목적함수의 최소값을 가지는 최적 입력값 추출.\n",
    "best = fmin(fn=objective_func,\n",
    "            space=xgb_search_space,\n",
    "            algo=tpe.suggest,\n",
    "            max_evals=5, # 최대 반복 횟수를 지정합니다.\n",
    "            trials=trials, rstate=np.random.default_rng(seed=30)) # random number generator\n",
    "\n",
    "print('best:', best)"
   ]
  },
  {
   "cell_type": "code",
   "execution_count": null,
   "id": "cfaca17d-fbaa-4be9-950f-38e79e39443b",
   "metadata": {},
   "outputs": [],
   "source": [
    "# 최적으로 찾은 하이퍼 파라미터를 기반으로 학습과 예측 수행.\n",
    "xgb_clf = XGBClassifier(n_estimators=100, learning_rate=round(best['learning_rate'], 5),\n",
    "                        max_depth=int(best['max_depth']), min_child_weight=int(best['min_child_weight']), \n",
    "                        colsample_bytree=round(best['colsample_bytree'], 5))\n",
    "\n",
    "# evaluation metric을 auc로, early stopping은 20 으로 설정하고 학습 수행. \n",
    "xgb_clf.fit(x_tr, y_tr, early_stopping_rounds=20, eval_metric=\"auc\",eval_set=[(x_tr, y_tr), (x_val, y_val)])\n",
    "\n",
    "xgb_roc_score = roc_auc_score(y_test, xgb_clf.predict_proba(x_test)[:,1])\n",
    "print('ROC AUC: {0:.4f}'.format(xgb_roc_score))"
   ]
  },
  {
   "cell_type": "code",
   "execution_count": 522,
   "id": "21f6a2a9-4f82-41d9-bb8f-a3a870fc581c",
   "metadata": {},
   "outputs": [
    {
     "data": {
      "text/plain": [
       "<AxesSubplot:title={'center':'Feature importance'}, xlabel='F score', ylabel='Features'>"
      ]
     },
     "execution_count": 522,
     "metadata": {},
     "output_type": "execute_result"
    },
    {
     "data": {
      "image/png": "[encoded data removed]",
      "text/plain": [
       "<Figure size 720x576 with 1 Axes>"
      ]
     },
     "metadata": {
      "needs_background": "light"
     },
     "output_type": "display_data"
    }
   ],
   "source": [
    "fig, ax = plt.subplots(1, 1, figsize=(10,8))\n",
    "plot_importance(xgb_clf, ax=ax, max_num_features=20, height=0.4)"
   ]
  },
  {
   "cell_type": "code",
   "execution_count": null,
   "id": "e91d8b8d-5554-4660-abde-524afd444f9c",
   "metadata": {},
   "outputs": [
    {
     "name": "stdout",
     "output_type": "stream",
     "text": [
      "[LightGBM] [Info] Number of positive: 1658, number of negative: 40913\n",
      "[LightGBM] [Warning] Auto-choosing row-wise multi-threading, the overhead of testing was 0.035290 seconds.\n",
      "You can set `force_row_wise=true` to remove the overhead.\n",
      "And if memory is not enough, you can set `force_col_wise=true`.\n",
      "[LightGBM] [Info] Total Bins 13308\n",
      "[LightGBM] [Info] Number of data points in the train set: 42571, number of used features: 242\n",
      "[LightGBM] [Info] [binary:BoostFromScore]: pavg=0.038947 -> initscore=-3.205836\n",
      "[LightGBM] [Info] Start training from score -3.205836\n",
      "Training until validation scores don't improve for 20 rounds\n",
      "Did not meet early stopping. Best iteration is:\n",
      "[41]\ttraining's auc: 0.910173\ttraining's binary_logloss: 0.112442\tvalid_1's auc: 0.831852\tvalid_1's binary_logloss: 0.135272\n",
      "ROC AUC: 0.8386\n"
     ]
    }
   ],
   "source": [
    "lgbm_clf = LGBMClassifier(n_estimators=50)\n",
    "\n",
    "eval_set=[(x_tr, y_tr), (x_val, y_val)]\n",
    "lgbm_clf.fit(x_tr, y_tr, eval_metric=\"auc\", eval_set=eval_set, callbacks=[early_stopping(stopping_rounds=20, first_metric_only=False)])\n",
    "\n",
    "lgbm_roc_score = roc_auc_score(y_test, lgbm_clf.predict_proba(x_test)[:, 1])\n",
    "print('ROC AUC: {0:.4f}'.format(lgbm_roc_score))"
   ]
  },
  {
   "cell_type": "code",
   "execution_count": null,
   "id": "3159f007-41b2-4932-8b11-2d2eeead7217",
   "metadata": {},
   "outputs": [],
   "source": [
    "lgbm_search_space = {'num_leaves': hp.quniform('num_leaves', 32, 64, 1),\n",
    "                     'max_depth': hp.quniform('max_depth', 100, 160, 1),\n",
    "                     'min_child_samples': hp.quniform('min_child_samples', 60, 100, 1),\n",
    "                     'subsample': hp.uniform('subsample', 0.7, 1),\n",
    "                     'learning_rate': hp.uniform('learning_rate', 0.01, 0.2)}"
   ]
  },
  {
   "cell_type": "code",
   "execution_count": null,
   "id": "26c7c95a-7914-45cc-a4e4-319125855c03",
   "metadata": {},
   "outputs": [],
   "source": [
    "def objective_func(search_space):\n",
    "    lgbm_clf =  LGBMClassifier(n_estimators=50, num_leaves=int(search_space['num_leaves']),\n",
    "                               max_depth=int(search_space['max_depth']),\n",
    "                               min_child_samples=int(search_space['min_child_samples']), \n",
    "                               subsample=search_space['subsample'],\n",
    "                               learning_rate=search_space['learning_rate'])\n",
    "    # 3개 k-fold 방식으로 평가된 roc_auc 지표를 담는 list\n",
    "    roc_auc_list = []\n",
    "    \n",
    "    # 3개 k-fold방식 적용 \n",
    "    kf = KFold(n_splits=3)\n",
    "    # x_train을 다시 학습과 검증용 데이터로 분리\n",
    "    for tr_index, val_index in kf.split(x_train):\n",
    "        # kf.split(X_train)으로 추출된 학습과 검증 index값으로 학습과 검증 데이터 세트 분리 \n",
    "        x_tr, y_tr = x_train.iloc[tr_index], y_train.iloc[tr_index]\n",
    "        x_val, y_val = x_train.iloc[val_index], y_train.iloc[val_index]\n",
    "\n",
    "        # early stopping은 20회로 설정하고 추출된 학습과 검증 데이터로 XGBClassifier 학습 수행.\n",
    "        lgbm_clf.fit(x_tr, y_tr, eval_metric=\"auc\", eval_set=eval_set, callbacks=[early_stopping(stopping_rounds=20, first_metric_only=False)])\n",
    "\n",
    "        # 1로 예측한 확률값 추출후 roc auc 계산하고 평균 roc auc 계산을 위해 list에 결과값 담음.\n",
    "        score = roc_auc_score(y_val, lgbm_clf.predict_proba(x_val)[:, 1]) \n",
    "        roc_auc_list.append(score)\n",
    "    \n",
    "    # 3개 k-fold로 계산된 roc_auc값의 평균값을 반환하되, \n",
    "    # HyperOpt는 목적함수의 최소값을 위한 입력값을 찾으므로 -1을 곱한 뒤 반환.\n",
    "    return -1 * np.mean(roc_auc_list)"
   ]
  },
  {
   "cell_type": "code",
   "execution_count": null,
   "id": "8105fbf4-266c-4090-94f1-4e8a6610b096",
   "metadata": {},
   "outputs": [],
   "source": [
    "trials = Trials()\n",
    "\n",
    "# fmin()함수를 호출. max_evals지정된 횟수만큼 반복 후 목적함수의 최소값을 가지는 최적 입력값 추출. \n",
    "best = fmin(fn=objective_func, space=lgbm_search_space, algo=tpe.suggest,\n",
    "            max_evals=5, # 최대 반복 횟수를 지정합니다.\n",
    "            trials=trials, rstate=np.random.default_rng(seed=30))\n",
    "\n",
    "print('best:', best)"
   ]
  },
  {
   "cell_type": "code",
   "execution_count": null,
   "id": "f408724a-b15d-484d-b2c9-444df957b2ef",
   "metadata": {},
   "outputs": [
    {
     "name": "stdout",
     "output_type": "stream",
     "text": [
      "[LightGBM] [Info] Number of positive: 1658, number of negative: 40913\n",
      "[LightGBM] [Warning] Auto-choosing row-wise multi-threading, the overhead of testing was 0.020935 seconds.\n",
      "You can set `force_row_wise=true` to remove the overhead.\n",
      "And if memory is not enough, you can set `force_col_wise=true`.\n",
      "[LightGBM] [Info] Total Bins 12898\n",
      "[LightGBM] [Info] Number of data points in the train set: 42571, number of used features: 192\n",
      "[LightGBM] [Info] [binary:BoostFromScore]: pavg=0.038947 -> initscore=-3.205836\n",
      "[LightGBM] [Info] Start training from score -3.205836\n",
      "Training until validation scores don't improve for 20 rounds\n",
      "Early stopping, best iteration is:\n",
      "[57]\ttraining's auc: 0.912105\ttraining's binary_logloss: 0.112927\tvalid_1's auc: 0.830226\tvalid_1's binary_logloss: 0.135608\n",
      "ROC AUC: 0.8394\n"
     ]
    }
   ],
   "source": [
    "lgbm_clf =  LGBMClassifier(n_estimators=100, num_leaves=int(best['num_leaves']),\n",
    "                           max_depth=int(best['max_depth']),\n",
    "                           min_child_samples=int(best['min_child_samples']), \n",
    "                           subsample=round(best['subsample'], 5),\n",
    "                           learning_rate=round(best['learning_rate'], 5))\n",
    "\n",
    "# evaluation metric을 auc로, early stopping은 20 으로 설정하고 학습 수행. \n",
    "lgbm_clf.fit(x_tr, y_tr, eval_metric=\"auc\", eval_set=eval_set, callbacks=[early_stopping(stopping_rounds=20, first_metric_only=False)])\n",
    "\n",
    "lgbm_roc_score = roc_auc_score(y_test, lgbm_clf.predict_proba(x_test)[:,1])\n",
    "print('ROC AUC: {0:.4f}'.format(lgbm_roc_score))"
   ]
  },
  {
   "cell_type": "markdown",
   "id": "b85f5a3d-da11-40bf-b2b1-a9addc2f4fbc",
   "metadata": {},
   "source": [
    "### (6) Infert dataset"
   ]
  },
  {
   "cell_type": "code",
   "execution_count": 111,
   "id": "b4c2427a-bc53-43ee-88f2-69ad1fbab1e7",
   "metadata": {},
   "outputs": [
    {
     "data": {
      "text/html": [
       "<div>\n",
       "<style scoped>\n",
       "    .dataframe tbody tr th:only-of-type {\n",
       "        vertical-align: middle;\n",
       "    }\n",
       "\n",
       "    .dataframe tbody tr th {\n",
       "        vertical-align: top;\n",
       "    }\n",
       "\n",
       "    .dataframe thead th {\n",
       "        text-align: right;\n",
       "    }\n",
       "</style>\n",
       "<table border=\"1\" class=\"dataframe\">\n",
       "  <thead>\n",
       "    <tr style=\"text-align: right;\">\n",
       "      <th></th>\n",
       "      <th>education</th>\n",
       "      <th>age</th>\n",
       "      <th>parity</th>\n",
       "      <th>induced</th>\n",
       "      <th>case</th>\n",
       "      <th>spontaneous</th>\n",
       "      <th>stratum</th>\n",
       "      <th>pooled.stratum</th>\n",
       "    </tr>\n",
       "  </thead>\n",
       "  <tbody>\n",
       "    <tr>\n",
       "      <th>1</th>\n",
       "      <td>0-5yrs</td>\n",
       "      <td>26</td>\n",
       "      <td>6</td>\n",
       "      <td>1</td>\n",
       "      <td>1</td>\n",
       "      <td>2</td>\n",
       "      <td>1</td>\n",
       "      <td>3</td>\n",
       "    </tr>\n",
       "    <tr>\n",
       "      <th>2</th>\n",
       "      <td>0-5yrs</td>\n",
       "      <td>42</td>\n",
       "      <td>1</td>\n",
       "      <td>1</td>\n",
       "      <td>1</td>\n",
       "      <td>0</td>\n",
       "      <td>2</td>\n",
       "      <td>1</td>\n",
       "    </tr>\n",
       "    <tr>\n",
       "      <th>3</th>\n",
       "      <td>0-5yrs</td>\n",
       "      <td>39</td>\n",
       "      <td>6</td>\n",
       "      <td>2</td>\n",
       "      <td>1</td>\n",
       "      <td>0</td>\n",
       "      <td>3</td>\n",
       "      <td>4</td>\n",
       "    </tr>\n",
       "    <tr>\n",
       "      <th>4</th>\n",
       "      <td>0-5yrs</td>\n",
       "      <td>34</td>\n",
       "      <td>4</td>\n",
       "      <td>2</td>\n",
       "      <td>1</td>\n",
       "      <td>0</td>\n",
       "      <td>4</td>\n",
       "      <td>2</td>\n",
       "    </tr>\n",
       "    <tr>\n",
       "      <th>5</th>\n",
       "      <td>6-11yrs</td>\n",
       "      <td>35</td>\n",
       "      <td>3</td>\n",
       "      <td>1</td>\n",
       "      <td>1</td>\n",
       "      <td>1</td>\n",
       "      <td>5</td>\n",
       "      <td>32</td>\n",
       "    </tr>\n",
       "  </tbody>\n",
       "</table>\n",
       "</div>"
      ],
      "text/plain": [
       "  education  age  parity  induced  case  spontaneous  stratum  pooled.stratum\n",
       "1    0-5yrs   26       6        1     1            2        1               3\n",
       "2    0-5yrs   42       1        1     1            0        2               1\n",
       "3    0-5yrs   39       6        2     1            0        3               4\n",
       "4    0-5yrs   34       4        2     1            0        4               2\n",
       "5   6-11yrs   35       3        1     1            1        5              32"
      ]
     },
     "execution_count": 111,
     "metadata": {},
     "output_type": "execute_result"
    }
   ],
   "source": [
    "### Infert data\n",
    "infert = pd.read_csv('./r_csv/datasets/infert.csv', index_col='Unnamed: 0')\n",
    "infert.head()"
   ]
  },
  {
   "cell_type": "code",
   "execution_count": 112,
   "id": "e0c96707-bd65-4c69-b875-1eaeaa9bed33",
   "metadata": {},
   "outputs": [],
   "source": [
    "### Data split\n",
    "x_train, x_test, y_train, y_test = train_test_split(infert.drop(['case', 'education', 'stratum', 'pooled.stratum'], axis=1), infert['case'], test_size=0.2, random_state=0, stratify=infert['case'])"
   ]
  },
  {
   "cell_type": "code",
   "execution_count": 113,
   "id": "6c55e5be-7601-4cda-bca6-e3a29f37f4b9",
   "metadata": {},
   "outputs": [
    {
     "data": {
      "text/html": [
       "<style>#sk-container-id-2 {color: black;}#sk-container-id-2 pre{padding: 0;}#sk-container-id-2 div.sk-toggleable {background-color: white;}#sk-container-id-2 label.sk-toggleable__label {cursor: pointer;display: block;width: 100%;margin-bottom: 0;padding: 0.3em;box-sizing: border-box;text-align: center;}#sk-container-id-2 label.sk-toggleable__label-arrow:before {content: \"▸\";float: left;margin-right: 0.25em;color: #696969;}#sk-container-id-2 label.sk-toggleable__label-arrow:hover:before {color: black;}#sk-container-id-2 div.sk-estimator:hover label.sk-toggleable__label-arrow:before {color: black;}#sk-container-id-2 div.sk-toggleable__content {max-height: 0;max-width: 0;overflow: hidden;text-align: left;background-color: #f0f8ff;}#sk-container-id-2 div.sk-toggleable__content pre {margin: 0.2em;color: black;border-radius: 0.25em;background-color: #f0f8ff;}#sk-container-id-2 input.sk-toggleable__control:checked~div.sk-toggleable__content {max-height: 200px;max-width: 100%;overflow: auto;}#sk-container-id-2 input.sk-toggleable__control:checked~label.sk-toggleable__label-arrow:before {content: \"▾\";}#sk-container-id-2 div.sk-estimator input.sk-toggleable__control:checked~label.sk-toggleable__label {background-color: #d4ebff;}#sk-container-id-2 div.sk-label input.sk-toggleable__control:checked~label.sk-toggleable__label {background-color: #d4ebff;}#sk-container-id-2 input.sk-hidden--visually {border: 0;clip: rect(1px 1px 1px 1px);clip: rect(1px, 1px, 1px, 1px);height: 1px;margin: -1px;overflow: hidden;padding: 0;position: absolute;width: 1px;}#sk-container-id-2 div.sk-estimator {font-family: monospace;background-color: #f0f8ff;border: 1px dotted black;border-radius: 0.25em;box-sizing: border-box;margin-bottom: 0.5em;}#sk-container-id-2 div.sk-estimator:hover {background-color: #d4ebff;}#sk-container-id-2 div.sk-parallel-item::after {content: \"\";width: 100%;border-bottom: 1px solid gray;flex-grow: 1;}#sk-container-id-2 div.sk-label:hover label.sk-toggleable__label {background-color: #d4ebff;}#sk-container-id-2 div.sk-serial::before {content: \"\";position: absolute;border-left: 1px solid gray;box-sizing: border-box;top: 0;bottom: 0;left: 50%;z-index: 0;}#sk-container-id-2 div.sk-serial {display: flex;flex-direction: column;align-items: center;background-color: white;padding-right: 0.2em;padding-left: 0.2em;position: relative;}#sk-container-id-2 div.sk-item {position: relative;z-index: 1;}#sk-container-id-2 div.sk-parallel {display: flex;align-items: stretch;justify-content: center;background-color: white;position: relative;}#sk-container-id-2 div.sk-item::before, #sk-container-id-2 div.sk-parallel-item::before {content: \"\";position: absolute;border-left: 1px solid gray;box-sizing: border-box;top: 0;bottom: 0;left: 50%;z-index: -1;}#sk-container-id-2 div.sk-parallel-item {display: flex;flex-direction: column;z-index: 1;position: relative;background-color: white;}#sk-container-id-2 div.sk-parallel-item:first-child::after {align-self: flex-end;width: 50%;}#sk-container-id-2 div.sk-parallel-item:last-child::after {align-self: flex-start;width: 50%;}#sk-container-id-2 div.sk-parallel-item:only-child::after {width: 0;}#sk-container-id-2 div.sk-dashed-wrapped {border: 1px dashed gray;margin: 0 0.4em 0.5em 0.4em;box-sizing: border-box;padding-bottom: 0.4em;background-color: white;}#sk-container-id-2 div.sk-label label {font-family: monospace;font-weight: bold;display: inline-block;line-height: 1.2em;}#sk-container-id-2 div.sk-label-container {text-align: center;}#sk-container-id-2 div.sk-container {/* jupyter's `normalize.less` sets `[hidden] { display: none; }` but bootstrap.min.css set `[hidden] { display: none !important; }` so we also need the `!important` here to be able to override the default hidden behavior on the sphinx rendered scikit-learn.org. See: https://github.com/scikit-learn/scikit-learn/issues/21755 */display: inline-block !important;position: relative;}#sk-container-id-2 div.sk-text-repr-fallback {display: none;}</style><div id=\"sk-container-id-2\" class=\"sk-top-container\"><div class=\"sk-text-repr-fallback\"><pre>MLPClassifier(alpha=1e-05, hidden_layer_sizes=(2, 1), random_state=1,\n",
       "              solver=&#x27;lbfgs&#x27;)</pre><b>In a Jupyter environment, please rerun this cell to show the HTML representation or trust the notebook. <br />On GitHub, the HTML representation is unable to render, please try loading this page with nbviewer.org.</b></div><div class=\"sk-container\" hidden><div class=\"sk-item\"><div class=\"sk-estimator sk-toggleable\"><input class=\"sk-toggleable__control sk-hidden--visually\" id=\"sk-estimator-id-2\" type=\"checkbox\" checked><label for=\"sk-estimator-id-2\" class=\"sk-toggleable__label sk-toggleable__label-arrow\">MLPClassifier</label><div class=\"sk-toggleable__content\"><pre>MLPClassifier(alpha=1e-05, hidden_layer_sizes=(2, 1), random_state=1,\n",
       "              solver=&#x27;lbfgs&#x27;)</pre></div></div></div></div></div>"
      ],
      "text/plain": [
       "MLPClassifier(alpha=1e-05, hidden_layer_sizes=(2, 1), random_state=1,\n",
       "              solver='lbfgs')"
      ]
     },
     "execution_count": 113,
     "metadata": {},
     "output_type": "execute_result"
    }
   ],
   "source": [
    "### Modeling\n",
    "mlp = MLPClassifier(solver=\"lbfgs\", alpha=1e-5, hidden_layer_sizes=(2, 1), random_state=1)\n",
    "mlp.fit(x_train, y_train)"
   ]
  },
  {
   "cell_type": "code",
   "execution_count": 114,
   "id": "225c14f7-496b-4d89-93f9-6691160ea902",
   "metadata": {},
   "outputs": [
    {
     "name": "stdout",
     "output_type": "stream",
     "text": [
      "[[33  0]\n",
      " [17  0]]\n",
      "정확도\t0.66\n",
      "정밀도\t[0.66 0.  ]\n",
      "재현율\t[1. 0.]\n",
      "F1\t[0.79518072 0.        ]%\n"
     ]
    }
   ],
   "source": [
    "# 이 모델은 이상해요..\n",
    "pred = mlp.predict(x_test)\n",
    "test_cm = confusion_matrix(y_test, pred)\n",
    "test_acc = accuracy_score(y_test, pred)\n",
    "test_prc = precision_score(y_test, pred, average=None)\n",
    "test_rcll = recall_score(y_test, pred, average=None)\n",
    "test_f1 = f1_score(y_test, pred, average=None)\n",
    "\n",
    "print(test_cm)\n",
    "print('정확도\\t{}'.format(test_acc))\n",
    "print('정밀도\\t{}'.format(test_prc))\n",
    "print('재현율\\t{}'.format(test_rcll))\n",
    "print('F1\\t{}%'.format(test_f1))"
   ]
  },
  {
   "cell_type": "code",
   "execution_count": 115,
   "id": "4a466bc0-6d9a-4fee-b4a1-ee7df0437e5f",
   "metadata": {},
   "outputs": [
    {
     "data": {
      "text/plain": [
       "[array([[-0.16595579, -0.34258659],\n",
       "        [-0.99977002, -0.44743523],\n",
       "        [-0.70648735, -0.8293321 ],\n",
       "        [-0.62747881, -0.31839271]]),\n",
       " array([[-0.22855215],\n",
       "        [-0.07187944]]),\n",
       " array([[1.10189376]])]"
      ]
     },
     "execution_count": 115,
     "metadata": {},
     "output_type": "execute_result"
    }
   ],
   "source": [
    "mlp.coefs_"
   ]
  },
  {
   "cell_type": "code",
   "execution_count": 116,
   "id": "63707b5b-12e3-414f-b0a1-f5889883ef63",
   "metadata": {},
   "outputs": [
    {
     "data": {
      "image/png": "[encoded data removed]",
      "text/plain": [
       "<Figure size 640x480 with 1 Axes>"
      ]
     },
     "metadata": {},
     "output_type": "display_data"
    }
   ],
   "source": [
    "fpr, tpr, thresholds = roc_curve(y_test, pred)\n",
    "roc_auc = auc(fpr, tpr)\n",
    "display = RocCurveDisplay(fpr=fpr, tpr=tpr, roc_auc=roc_auc)\n",
    "display.plot()\n",
    "# plot_roc_curve(mlp, x_test, y_test) # plot_roc_curve\n",
    "plt.show()"
   ]
  },
  {
   "cell_type": "markdown",
   "id": "bf9ae373-44c9-49e0-9219-8424bde226f9",
   "metadata": {},
   "source": [
    "### (7) Breast cancer dataset"
   ]
  },
  {
   "cell_type": "code",
   "execution_count": null,
   "id": "682ab224-a3fa-4dfd-8bf9-44d849436373",
   "metadata": {},
   "outputs": [],
   "source": [
    "from sklearn.datasets import load_breast_cancer"
   ]
  },
  {
   "cell_type": "code",
   "execution_count": 267,
   "id": "d4194330",
   "metadata": {},
   "outputs": [],
   "source": [
    "### Breast cancer data\n",
    "cancer = load_breast_cancer()"
   ]
  },
  {
   "cell_type": "code",
   "execution_count": 268,
   "id": "82cd8780",
   "metadata": {},
   "outputs": [],
   "source": [
    "scaler = StandardScaler()\n",
    "data_scaled = scaler.fit_transform(cancer.data)\n",
    "\n",
    "x_train, x_test, y_train, y_test = train_test_split(data_scaled, cancer.target, test_size=0.3, random_state=0)"
   ]
  },
  {
   "cell_type": "code",
   "execution_count": 269,
   "id": "0ed6304c",
   "metadata": {},
   "outputs": [
    {
     "name": "stdout",
     "output_type": "stream",
     "text": [
      "accuracy: 0.977, roc_auc:0.972\n"
     ]
    }
   ],
   "source": [
    "# 로지스틱 회귀를 이용하여 학습 및 예측 수행.\n",
    "# solver 인자값을 생성자로 입력하지 않으면 solver='lbfgs'\n",
    "lr_clf = LogisticRegression()\n",
    "lr_clf.fit(x_train, y_train)\n",
    "lr_preds = lr_clf.predict(x_test)\n",
    "\n",
    "# accuracy와 roc_auc 측정\n",
    "print('accuracy: {0:.3f}, roc_auc:{1:.3f}'.format(accuracy_score(y_test, lr_preds), roc_auc_score(y_test , lr_preds)))"
   ]
  },
  {
   "cell_type": "code",
   "execution_count": 270,
   "id": "f8a924b7",
   "metadata": {},
   "outputs": [
    {
     "name": "stdout",
     "output_type": "stream",
     "text": [
      "solver:lbfgs, accuracy: 0.977, roc_auc:0.972\n",
      "solver:liblinear, accuracy: 0.982, roc_auc:0.979\n",
      "solver:newton-cg, accuracy: 0.977, roc_auc:0.972\n",
      "solver:sag, accuracy: 0.982, roc_auc:0.979\n",
      "solver:saga, accuracy: 0.982, roc_auc:0.979\n"
     ]
    }
   ],
   "source": [
    "solvers = ['lbfgs', 'liblinear', 'newton-cg', 'sag', 'saga']\n",
    "\n",
    "# 여러개의 solver 값별로 LogisticRegression 학습 후 성능 평가\n",
    "for solver in solvers:\n",
    "    lr_clf = LogisticRegression(solver=solver, max_iter=600)\n",
    "    lr_clf.fit(x_train, y_train)\n",
    "    lr_preds = lr_clf.predict(x_test)\n",
    "    \n",
    "    # accuracy와 roc_auc 측정\n",
    "    print('solver:{0}, accuracy: {1:.3f}, roc_auc:{2:.3f}'.format(solver, accuracy_score(y_test, lr_preds), roc_auc_score(y_test , lr_preds)))"
   ]
  },
  {
   "cell_type": "code",
   "execution_count": 271,
   "id": "03db0ec4",
   "metadata": {},
   "outputs": [
    {
     "name": "stdout",
     "output_type": "stream",
     "text": [
      "최적 하이퍼 파라미터:{'C': 0.1, 'penalty': 'l2', 'solver': 'liblinear'}, 최적 평균 정확도:0.979\n"
     ]
    }
   ],
   "source": [
    "params={'solver':['liblinear', 'lbfgs'], 'penalty':['l2', 'l1'], 'C':[0.01, 0.1, 1, 1, 5, 10]}\n",
    "\n",
    "lr_clf = LogisticRegression()\n",
    "grid_clf = GridSearchCV(lr_clf, param_grid=params, scoring='accuracy', cv=3)\n",
    "grid_clf.fit(data_scaled, cancer.target)\n",
    "print('최적 하이퍼 파라미터:{0}, 최적 평균 정확도:{1:.3f}'.format(grid_clf.best_params_, grid_clf.best_score_))"
   ]
  },
  {
   "cell_type": "markdown",
   "id": "48b6192d-6472-4800-b030-d49601fe39c1",
   "metadata": {},
   "source": [
    "### (8) Loan default dataset"
   ]
  },
  {
   "cell_type": "code",
   "execution_count": 349,
   "id": "64121208-d094-4eaf-8025-0c0e7d905918",
   "metadata": {
    "tags": []
   },
   "outputs": [],
   "source": [
    "loan200 = pd.read_csv(\"./Practical_Statictics/data/loan200.csv\")\n",
    "\n",
    "predictors = ['payment_inc_ratio', 'dti']\n",
    "outcome = 'outcome'\n",
    "\n",
    "newloan = loan200.loc[0:0, predictors]"
   ]
  },
  {
   "cell_type": "code",
   "execution_count": 350,
   "id": "395e50bc-0054-4a60-9095-e6b95934d5bc",
   "metadata": {},
   "outputs": [
    {
     "data": {
      "text/html": [
       "<div>\n",
       "<style scoped>\n",
       "    .dataframe tbody tr th:only-of-type {\n",
       "        vertical-align: middle;\n",
       "    }\n",
       "\n",
       "    .dataframe tbody tr th {\n",
       "        vertical-align: top;\n",
       "    }\n",
       "\n",
       "    .dataframe thead th {\n",
       "        text-align: right;\n",
       "    }\n",
       "</style>\n",
       "<table border=\"1\" class=\"dataframe\">\n",
       "  <thead>\n",
       "    <tr style=\"text-align: right;\">\n",
       "      <th></th>\n",
       "      <th>payment_inc_ratio</th>\n",
       "      <th>dti</th>\n",
       "      <th>outcome</th>\n",
       "    </tr>\n",
       "  </thead>\n",
       "  <tbody>\n",
       "    <tr>\n",
       "      <th>1</th>\n",
       "      <td>5.46933</td>\n",
       "      <td>21.33</td>\n",
       "      <td>default</td>\n",
       "    </tr>\n",
       "    <tr>\n",
       "      <th>2</th>\n",
       "      <td>6.90294</td>\n",
       "      <td>8.97</td>\n",
       "      <td>paid off</td>\n",
       "    </tr>\n",
       "    <tr>\n",
       "      <th>3</th>\n",
       "      <td>11.14800</td>\n",
       "      <td>1.83</td>\n",
       "      <td>paid off</td>\n",
       "    </tr>\n",
       "    <tr>\n",
       "      <th>4</th>\n",
       "      <td>3.72120</td>\n",
       "      <td>10.81</td>\n",
       "      <td>default</td>\n",
       "    </tr>\n",
       "    <tr>\n",
       "      <th>5</th>\n",
       "      <td>1.89923</td>\n",
       "      <td>11.34</td>\n",
       "      <td>paid off</td>\n",
       "    </tr>\n",
       "    <tr>\n",
       "      <th>...</th>\n",
       "      <td>...</td>\n",
       "      <td>...</td>\n",
       "      <td>...</td>\n",
       "    </tr>\n",
       "    <tr>\n",
       "      <th>196</th>\n",
       "      <td>11.66300</td>\n",
       "      <td>26.09</td>\n",
       "      <td>default</td>\n",
       "    </tr>\n",
       "    <tr>\n",
       "      <th>197</th>\n",
       "      <td>2.97641</td>\n",
       "      <td>16.41</td>\n",
       "      <td>default</td>\n",
       "    </tr>\n",
       "    <tr>\n",
       "      <th>198</th>\n",
       "      <td>1.96846</td>\n",
       "      <td>19.98</td>\n",
       "      <td>default</td>\n",
       "    </tr>\n",
       "    <tr>\n",
       "      <th>199</th>\n",
       "      <td>9.64200</td>\n",
       "      <td>20.17</td>\n",
       "      <td>paid off</td>\n",
       "    </tr>\n",
       "    <tr>\n",
       "      <th>200</th>\n",
       "      <td>7.03924</td>\n",
       "      <td>13.88</td>\n",
       "      <td>paid off</td>\n",
       "    </tr>\n",
       "  </tbody>\n",
       "</table>\n",
       "<p>200 rows × 3 columns</p>\n",
       "</div>"
      ],
      "text/plain": [
       "     payment_inc_ratio    dti   outcome\n",
       "1              5.46933  21.33   default\n",
       "2              6.90294   8.97  paid off\n",
       "3             11.14800   1.83  paid off\n",
       "4              3.72120  10.81   default\n",
       "5              1.89923  11.34  paid off\n",
       "..                 ...    ...       ...\n",
       "196           11.66300  26.09   default\n",
       "197            2.97641  16.41   default\n",
       "198            1.96846  19.98   default\n",
       "199            9.64200  20.17  paid off\n",
       "200            7.03924  13.88  paid off\n",
       "\n",
       "[200 rows x 3 columns]"
      ]
     },
     "execution_count": 350,
     "metadata": {},
     "output_type": "execute_result"
    }
   ],
   "source": [
    "x = loan200.loc[1:, predictors]\n",
    "y = loan200.loc[1:, outcome]\n",
    "pd.concat([x, y], axis=1)"
   ]
  },
  {
   "cell_type": "code",
   "execution_count": 351,
   "id": "9f7e6953-b516-4dea-af85-2a5240793821",
   "metadata": {},
   "outputs": [],
   "source": [
    "from sklearn.neighbors import KNeighborsClassifier"
   ]
  },
  {
   "cell_type": "code",
   "execution_count": 352,
   "id": "dc669022-ca50-4694-83fb-421bfd5c8f76",
   "metadata": {},
   "outputs": [
    {
     "name": "stdout",
     "output_type": "stream",
     "text": [
      "[[0.45 0.55]]\n"
     ]
    }
   ],
   "source": [
    "knn = KNeighborsClassifier(n_neighbors=20)\n",
    "knn.fit(x, y)\n",
    "\n",
    "print(knn.predict_proba(newloan)) # predict 함수는 사용 불가"
   ]
  },
  {
   "cell_type": "code",
   "execution_count": 353,
   "id": "2cd0537c-5440-46b1-9de8-c06ddaa31f5e",
   "metadata": {
    "tags": []
   },
   "outputs": [
    {
     "data": {
      "image/png": "[encoded data removed]",
      "text/plain": [
       "<Figure size 432x288 with 1 Axes>"
      ]
     },
     "metadata": {
      "needs_background": "light"
     },
     "output_type": "display_data"
    }
   ],
   "source": [
    "nbrs = knn.kneighbors(newloan)\n",
    "maxDistance = np.max(nbrs[0][0])\n",
    "\n",
    "sns.scatterplot(x='payment_inc_ratio', y='dti', style='outcome', hue='outcome', data=loan200, alpha=0.3)\n",
    "sns.scatterplot(x='payment_inc_ratio', y='dti', style='outcome', hue='outcome', data=pd.concat([loan200.loc[0:0, :], loan200.loc[nbrs[1][0] + 1,:]]), legend=False)\n",
    "plt.xlim(3, 16)\n",
    "plt.ylim(15, 30)\n",
    "\n",
    "plt.tight_layout()\n",
    "plt.show()"
   ]
  },
  {
   "cell_type": "code",
   "execution_count": 354,
   "id": "9c798ae6-3e3e-4e54-9864-c253ddf266a1",
   "metadata": {
    "tags": []
   },
   "outputs": [],
   "source": [
    "### Add scaler\n",
    "loan_data = pd.read_csv(\"./Practical_Statictics/data/loan_data.csv.gz\")\n",
    "loan_data = loan_data.drop(columns=['Unnamed: 0', 'status'])\n",
    "loan_data['outcome'] = pd.Categorical(loan_data['outcome'], categories=['paid off', 'default'], ordered=True)\n",
    "\n",
    "predictors = ['payment_inc_ratio', 'dti', 'revol_bal', 'revol_util']\n",
    "outcome = 'outcome'\n",
    "\n",
    "newloan = loan_data.loc[0:0, predictors]\n",
    "\n",
    "x = loan_data.loc[:, predictors]\n",
    "y = loan_data.loc[:, outcome]"
   ]
  },
  {
   "cell_type": "code",
   "execution_count": 355,
   "id": "bf19504e-766f-4e44-905d-fba29c43096d",
   "metadata": {
    "tags": []
   },
   "outputs": [
    {
     "data": {
      "text/html": [
       "<div>\n",
       "<style scoped>\n",
       "    .dataframe tbody tr th:only-of-type {\n",
       "        vertical-align: middle;\n",
       "    }\n",
       "\n",
       "    .dataframe tbody tr th {\n",
       "        vertical-align: top;\n",
       "    }\n",
       "\n",
       "    .dataframe thead th {\n",
       "        text-align: right;\n",
       "    }\n",
       "</style>\n",
       "<table border=\"1\" class=\"dataframe\">\n",
       "  <thead>\n",
       "    <tr style=\"text-align: right;\">\n",
       "      <th></th>\n",
       "      <th>payment_inc_ratio</th>\n",
       "      <th>dti</th>\n",
       "      <th>revol_bal</th>\n",
       "      <th>revol_util</th>\n",
       "    </tr>\n",
       "  </thead>\n",
       "  <tbody>\n",
       "    <tr>\n",
       "      <th>0</th>\n",
       "      <td>2.39320</td>\n",
       "      <td>1.00</td>\n",
       "      <td>1687</td>\n",
       "      <td>9.4</td>\n",
       "    </tr>\n",
       "    <tr>\n",
       "      <th>2080</th>\n",
       "      <td>2.61091</td>\n",
       "      <td>1.03</td>\n",
       "      <td>1218</td>\n",
       "      <td>9.7</td>\n",
       "    </tr>\n",
       "    <tr>\n",
       "      <th>1438</th>\n",
       "      <td>2.34343</td>\n",
       "      <td>0.51</td>\n",
       "      <td>278</td>\n",
       "      <td>9.9</td>\n",
       "    </tr>\n",
       "    <tr>\n",
       "      <th>30215</th>\n",
       "      <td>2.71200</td>\n",
       "      <td>1.34</td>\n",
       "      <td>1075</td>\n",
       "      <td>8.5</td>\n",
       "    </tr>\n",
       "    <tr>\n",
       "      <th>28542</th>\n",
       "      <td>2.39760</td>\n",
       "      <td>0.74</td>\n",
       "      <td>2917</td>\n",
       "      <td>7.4</td>\n",
       "    </tr>\n",
       "  </tbody>\n",
       "</table>\n",
       "</div>"
      ],
      "text/plain": [
       "       payment_inc_ratio   dti  revol_bal  revol_util\n",
       "0                2.39320  1.00       1687         9.4\n",
       "2080             2.61091  1.03       1218         9.7\n",
       "1438             2.34343  0.51        278         9.9\n",
       "30215            2.71200  1.34       1075         8.5\n",
       "28542            2.39760  0.74       2917         7.4"
      ]
     },
     "execution_count": 355,
     "metadata": {},
     "output_type": "execute_result"
    }
   ],
   "source": [
    "scaler = StandardScaler()\n",
    "scaler.fit(x * 1.0)\n",
    "\n",
    "x_std = scaler.transform(x * 1.0)\n",
    "newloan_std = scaler.transform(newloan * 1.0)\n",
    "\n",
    "knn = KNeighborsClassifier(n_neighbors=20)\n",
    "knn.fit(x_std, y)\n",
    "\n",
    "nbrs = knn.kneighbors(newloan_std)\n",
    "x.iloc[nbrs[1][0], :].head()"
   ]
  },
  {
   "cell_type": "code",
   "execution_count": 356,
   "id": "0be2b773-f0b4-402b-85e6-ceceb7eeacf0",
   "metadata": {},
   "outputs": [
    {
     "name": "stdout",
     "output_type": "stream",
     "text": [
      "count    45342.000000\n",
      "mean         0.502365\n",
      "std          0.024868\n",
      "min          0.300000\n",
      "25%          0.500000\n",
      "50%          0.500000\n",
      "75%          0.500000\n",
      "max          0.950000\n",
      "Name: borrower_score, dtype: float64\n"
     ]
    }
   ],
   "source": [
    "### KNN as a feature\n",
    "loan_data['borrower_score'] = knn.predict_proba(x)[:, 0]\n",
    "print(loan_data['borrower_score'].describe())"
   ]
  },
  {
   "cell_type": "code",
   "execution_count": 357,
   "id": "ed324a07-6d70-4822-9117-1f691e198407",
   "metadata": {
    "tags": []
   },
   "outputs": [
    {
     "data": {
      "text/plain": [
       "array([0.5, 0.5, 0.5, ..., 0.5, 0.5, 0.5])"
      ]
     },
     "execution_count": 357,
     "metadata": {},
     "output_type": "execute_result"
    },
    {
     "data": {
      "image/png": "[encoded data removed]",
      "text/plain": [
       "<Figure size 432x288 with 1 Axes>"
      ]
     },
     "metadata": {
      "needs_background": "light"
     },
     "output_type": "display_data"
    }
   ],
   "source": [
    "sns.scatterplot(x=range(len(x)), y=[bs + random.gauss(0, 0.015) for bs in knn.predict_proba(x)[:, 0]], alpha=0.1)\n",
    "knn.predict_proba(x)[:, 0]"
   ]
  },
  {
   "cell_type": "markdown",
   "id": "1f68e767-0ce5-48d1-9813-a4675d913627",
   "metadata": {},
   "source": [
    "### (9) IMDB dataset"
   ]
  },
  {
   "cell_type": "code",
   "execution_count": 47,
   "id": "72a37501-300b-4173-880c-398bbb72aab1",
   "metadata": {},
   "outputs": [
    {
     "name": "stderr",
     "output_type": "stream",
     "text": [
      "2023-08-31 13:14:57.387867: I tensorflow/core/platform/cpu_feature_guard.cc:193] This TensorFlow binary is optimized with oneAPI Deep Neural Network Library (oneDNN) to use the following CPU instructions in performance-critical operations:  AVX2 FMA\n",
      "To enable them in other operations, rebuild TensorFlow with the appropriate compiler flags.\n"
     ]
    }
   ],
   "source": [
    "from keras.datasets import imdb"
   ]
  },
  {
   "cell_type": "code",
   "execution_count": 48,
   "id": "77974164-978b-42c0-880b-d60483d2de1d",
   "metadata": {},
   "outputs": [],
   "source": [
    "(x_train, y_train), (x_test, y_test) = imdb.load_data()"
   ]
  },
  {
   "cell_type": "code",
   "execution_count": 49,
   "id": "755428d3-0272-48c7-8978-101916eab12f",
   "metadata": {},
   "outputs": [
    {
     "name": "stdout",
     "output_type": "stream",
     "text": [
      "<<<<<<<<< Train Dataset for MNB >>>>>>>>>                                                  reviews  label\n",
      "0      ilm was just brilliant casting location scener...      1\n",
      "1      ir big boobs bad music and a giant safety pin ...      0\n",
      "2      as to be one of the worst films of the 1990s w...      0\n",
      "3      ots excel at storytelling the traditional sort...      1\n",
      "4      mistake of my life br br i picked this movie u...      0\n",
      "...                                                  ...    ...\n",
      "24995  s a racist movie but worthy of study and enjoy...      1\n",
      "24996  ugosi plays a doctor who will do anything to k...      0\n",
      "24997  ar away galaxy is a planet called ceta it's na...      0\n",
      "24998  grees had me hooked i looked forward to it com...      1\n",
      "24999  ig fan of the original film it's hard to watch...      0\n",
      "\n",
      "[25000 rows x 2 columns]\n",
      "<<<<<<<<< Test Dataset for MNB >>>>>>>>>                                                  reviews  label\n",
      "0      <sos> please give this one a miss br br kristy...      0\n",
      "1      <sos> this film requires a lot of patience bec...      1\n",
      "2      <sos> many animation buffs consider wladyslaw ...      1\n",
      "3      <sos> i generally love this type of movie howe...      0\n",
      "4      <sos> like some other people wrote i'm a die h...      1\n",
      "...                                                  ...    ...\n",
      "24995  <sos> the book is better than the film mostly ...      1\n",
      "24996  <sos> the largest crowd to ever see a wrestlin...      1\n",
      "24997  <sos> i suppose that to say this is an all out...      0\n",
      "24998  <sos> in love 2 is the third movie it seemed t...      0\n",
      "24999  <sos> a good ol' boy film is almost required t...      0\n",
      "\n",
      "[25000 rows x 2 columns]\n"
     ]
    }
   ],
   "source": [
    "### word index to text\n",
    "word_to_index = imdb.get_word_index()\n",
    "index_to_word = {}\n",
    "\n",
    "for key, value in word_to_index.items():\n",
    "    index_to_word[value + 3] = key\n",
    "for index, token in enumerate((\"<pad>\", \"<sos>\", \"<unk>\")):\n",
    "    index_to_word[index] = token\n",
    "\n",
    "train_reviews = []\n",
    "for x in x_train:\n",
    "    tmp =' '.join([index_to_word[index] for index in x])\n",
    "    train_reviews.append(tmp)\n",
    "\n",
    "test_reviews = []\n",
    "for x in x_test:\n",
    "    tmp =' '.join([index_to_word[index] for index in x])\n",
    "    test_reviews.append(tmp)\n",
    "\n",
    "train = pd.concat([pd.DataFrame(train_reviews), pd.DataFrame(y_train)], axis =1)\n",
    "train.columns = ['reviews', 'label']\n",
    "train['reviews'] = train['reviews'].str[6:]\n",
    "\n",
    "test = pd.concat([pd.DataFrame(test_reviews), pd.DataFrame(y_test)], axis =1)\n",
    "test.columns = ['reviews', 'label']\n",
    "train['reviews'] = train['reviews'].str[6:]\n",
    "\n",
    "print(\"<<<<<<<<< Train Dataset for MNB >>>>>>>>>\", train)\n",
    "print(\"<<<<<<<<< Test Dataset for MNB >>>>>>>>>\", test)"
   ]
  },
  {
   "cell_type": "code",
   "execution_count": 50,
   "id": "b6508563-783a-41dc-9e6b-20a018d94f9b",
   "metadata": {},
   "outputs": [
    {
     "name": "stdout",
     "output_type": "stream",
     "text": [
      "(25000,) (25000,)\n",
      "(25000,) (25000,)\n"
     ]
    }
   ],
   "source": [
    "x_train, x_test = train['reviews'].values, test['reviews'].values\n",
    "y_train, y_test = train['label'].values, test['label'].values\n",
    "\n",
    "print(x_train.shape, y_train.shape)\n",
    "print(x_test.shape, y_test.shape)"
   ]
  },
  {
   "cell_type": "code",
   "execution_count": 51,
   "id": "c8fff835-f4f5-4c39-9d51-0750e4361875",
   "metadata": {},
   "outputs": [],
   "source": [
    "from sklearn.feature_extraction.text import CountVectorizer"
   ]
  },
  {
   "cell_type": "code",
   "execution_count": 52,
   "id": "2759d50c-39db-4c65-9733-5858e3b992c3",
   "metadata": {},
   "outputs": [
    {
     "data": {
      "text/plain": [
       "(25000, 76521)"
      ]
     },
     "execution_count": 52,
     "metadata": {},
     "output_type": "execute_result"
    }
   ],
   "source": [
    "cv = CountVectorizer(binary=False) # 개수 세기\n",
    "x_traincv = cv.fit_transform(x_train)\n",
    "x_traincv.shape"
   ]
  },
  {
   "cell_type": "code",
   "execution_count": 53,
   "id": "65b391d0-8d89-42ac-a955-e1b5e706f33d",
   "metadata": {},
   "outputs": [
    {
     "name": "stdout",
     "output_type": "stream",
     "text": [
      "['ilm' 'was' 'just' 'brilliant' 'casting' 'location' 'scenery' 'story'\n",
      " 'direction' 'everyone' 'really' 'suited' 'the' 'part' 'they' 'played'\n",
      " 'and' 'you' 'could' 'imagine' 'being' 'there' 'robert' 'redford' 'is'\n",
      " 'an' 'amazing' 'actor' 'now' 'same' 'director' 'norman' 'father' 'came'\n",
      " 'from' 'scottish' 'island' 'as' 'myself' 'so' 'loved' 'fact' 'real'\n",
      " 'connection' 'with' 'this' 'film' 'witty' 'remarks' 'throughout' 'were'\n",
      " 'great' 'it' 'much' 'that' 'bought' 'soon' 'released' 'for' 'retail'\n",
      " 'would' 'recommend' 'to' 'watch' 'fly' 'fishing' 'cried' 'at' 'end' 'sad'\n",
      " 'know' 'what' 'say' 'if' 'cry' 'must' 'have' 'been' 'good' 'definitely'\n",
      " 'also' 'congratulations' 'two' 'little' 'boy' 'of' 'paul' 'children'\n",
      " 'are' 'often' 'left' 'out' 'praising' 'list' 'think' 'because' 'stars'\n",
      " 'play' 'them' 'all' 'grown' 'up' 'such' 'big' 'profile' 'whole' 'but'\n",
      " 'these' 'should' 'be' 'praised' 'done' 'don' 'lovely' 'true' 'someone'\n",
      " 'life' 'after' 'shared' 'us']\n",
      "['était' 'état' 'étc' 'évery' 'êxtase' 'ís' 'ísnt' 'østbye' 'über'\n",
      " 'üvegtigris']\n"
     ]
    }
   ],
   "source": [
    "print(cv.inverse_transform(x_traincv)[0])\n",
    "print(cv.get_feature_names_out()[-10:])"
   ]
  },
  {
   "cell_type": "code",
   "execution_count": 54,
   "id": "8cf544ea-1d08-455c-9aec-e8a4b85242e0",
   "metadata": {},
   "outputs": [
    {
     "data": {
      "text/plain": [
       "MultinomialNB()"
      ]
     },
     "execution_count": 54,
     "metadata": {},
     "output_type": "execute_result"
    }
   ],
   "source": [
    "mnb = MultinomialNB()\n",
    "mnb.fit(x_traincv, y_train)"
   ]
  },
  {
   "cell_type": "code",
   "execution_count": 55,
   "id": "4f084e1f-2850-44e3-a69a-03f2b8249d44",
   "metadata": {},
   "outputs": [
    {
     "name": "stdout",
     "output_type": "stream",
     "text": [
      "Accuracy Score :  0.81932\n",
      "              precision    recall  f1-score   support\n",
      "\n",
      "           0       0.79      0.87      0.83     12500\n",
      "           1       0.85      0.77      0.81     12500\n",
      "\n",
      "    accuracy                           0.82     25000\n",
      "   macro avg       0.82      0.82      0.82     25000\n",
      "weighted avg       0.82      0.82      0.82     25000\n",
      "\n"
     ]
    }
   ],
   "source": [
    "x_testcv = cv.transform(x_test)\n",
    "pred = mnb.predict(x_testcv)\n",
    "acc = accuracy_score(y_test, pred)\n",
    "print(\"Accuracy Score : \", acc)\n",
    "print(classification_report(y_test, pred))"
   ]
  }
 ],
 "metadata": {
  "kernelspec": {
   "display_name": "Python 3 (ipykernel)",
   "language": "python",
   "name": "python3"
  },
  "language_info": {
   "codemirror_mode": {
    "name": "ipython",
    "version": 3
   },
   "file_extension": ".py",
   "mimetype": "text/x-python",
   "name": "python",
   "nbconvert_exporter": "python",
   "pygments_lexer": "ipython3",
   "version": "3.8.10"
  }
 },
 "nbformat": 4,
 "nbformat_minor": 5
}
