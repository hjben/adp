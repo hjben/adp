{
 "cells": [
  {
   "cell_type": "markdown",
   "id": "0a308b4f",
   "metadata": {},
   "source": [
    "# ADP 24회 실기 문제"
   ]
  },
  {
   "cell_type": "markdown",
   "id": "f4420165",
   "metadata": {},
   "source": [
    "```{admonition} 1번\n",
    "**데이터 확인 및 전처리**     \n",
    "- 데이터 설명\n",
    "    - 성별(sex) 바이너리 : 'F' - 여성 또는 'M' - 남성     \n",
    "    - 나이(age) 숫자: 15 - 22     \n",
    "    - 부모님동거여부 (Pstatus) 바이너리: T: 동거 또는 'A': 별거       \n",
    "    - 엄마학력(Medu) 숫자 : 0 : 없음, 1 : 초등 교육, 2 : 5-9학년, 3 - 중등 교육 또는 4 - 고등 교육    \n",
    "    - 아빠학력(Fedu) 숫자 : 0 : 없음, 1 : 초등 교육, 2 : 5-9학년, 3 - 중등 교육 또는 4 - 고등 교육   \n",
    "    - 주보호자(guardian) 명목형 : '어머니', '아버지' 또는 '기타'     \n",
    "    - 등하교시간(traveltime) 숫자 : 1 : 15분이하, 2 : 15 ~ 30분, 3 : 30분 ~ 1시간, 4 : 1시간 이상       \n",
    "    - 학습시간(studytime) 숫자 : 1 : 2시간이하, 2 : 2~5시간, 3 : 5~10시간, 4 : 10시간이상    \n",
    "    - 학고횟수(failures)  숫자 : 1, 2, 3 else 4     \n",
    "    - 자유시간(freetime) 숫자 : 1(매우 낮음), 2, 3, 4, 5(매우 높음)   \n",
    "    - 가족관계(famrel) 숫자 : 1(매우 나쁨), 2, 3, 4, 5(우수)    \n",
    "```"
   ]
  },
  {
   "cell_type": "code",
   "execution_count": 1,
   "id": "096a8884",
   "metadata": {
    "ExecuteTime": {
     "end_time": "2022-09-04T04:59:53.353886Z",
     "start_time": "2022-09-04T04:59:52.069005Z"
    },
    "tags": [
     "hide-input"
    ]
   },
   "outputs": [
    {
     "data": {
      "text/html": [
       "<div>\n",
       "<style scoped>\n",
       "    .dataframe tbody tr th:only-of-type {\n",
       "        vertical-align: middle;\n",
       "    }\n",
       "\n",
       "    .dataframe tbody tr th {\n",
       "        vertical-align: top;\n",
       "    }\n",
       "\n",
       "    .dataframe thead th {\n",
       "        text-align: right;\n",
       "    }\n",
       "</style>\n",
       "<table border=\"1\" class=\"dataframe\">\n",
       "  <thead>\n",
       "    <tr style=\"text-align: right;\">\n",
       "      <th></th>\n",
       "      <th>sex</th>\n",
       "      <th>age</th>\n",
       "      <th>Pstatus</th>\n",
       "      <th>Fedu</th>\n",
       "      <th>Medu</th>\n",
       "      <th>guardian</th>\n",
       "      <th>studytime</th>\n",
       "      <th>traveltime</th>\n",
       "      <th>failures</th>\n",
       "      <th>famrel</th>\n",
       "      <th>freetime</th>\n",
       "      <th>absences</th>\n",
       "    </tr>\n",
       "  </thead>\n",
       "  <tbody>\n",
       "    <tr>\n",
       "      <th>0</th>\n",
       "      <td>F</td>\n",
       "      <td>18.0</td>\n",
       "      <td>A</td>\n",
       "      <td>4</td>\n",
       "      <td>4</td>\n",
       "      <td>mother</td>\n",
       "      <td>2</td>\n",
       "      <td>2.0</td>\n",
       "      <td>0</td>\n",
       "      <td>4</td>\n",
       "      <td>3.0</td>\n",
       "      <td>6</td>\n",
       "    </tr>\n",
       "    <tr>\n",
       "      <th>1</th>\n",
       "      <td>F</td>\n",
       "      <td>17.0</td>\n",
       "      <td>T</td>\n",
       "      <td>1</td>\n",
       "      <td>1</td>\n",
       "      <td>father</td>\n",
       "      <td>2</td>\n",
       "      <td>1.0</td>\n",
       "      <td>0</td>\n",
       "      <td>5</td>\n",
       "      <td>3.0</td>\n",
       "      <td>4</td>\n",
       "    </tr>\n",
       "    <tr>\n",
       "      <th>2</th>\n",
       "      <td>F</td>\n",
       "      <td>15.0</td>\n",
       "      <td>T</td>\n",
       "      <td>1</td>\n",
       "      <td>1</td>\n",
       "      <td>mother</td>\n",
       "      <td>2</td>\n",
       "      <td>1.0</td>\n",
       "      <td>3</td>\n",
       "      <td>4</td>\n",
       "      <td>3.0</td>\n",
       "      <td>10</td>\n",
       "    </tr>\n",
       "    <tr>\n",
       "      <th>3</th>\n",
       "      <td>F</td>\n",
       "      <td>15.0</td>\n",
       "      <td>T</td>\n",
       "      <td>2</td>\n",
       "      <td>4</td>\n",
       "      <td>mother</td>\n",
       "      <td>3</td>\n",
       "      <td>1.0</td>\n",
       "      <td>0</td>\n",
       "      <td>3</td>\n",
       "      <td>2.0</td>\n",
       "      <td>2</td>\n",
       "    </tr>\n",
       "    <tr>\n",
       "      <th>4</th>\n",
       "      <td>F</td>\n",
       "      <td>NaN</td>\n",
       "      <td>T</td>\n",
       "      <td>3</td>\n",
       "      <td>3</td>\n",
       "      <td>father</td>\n",
       "      <td>2</td>\n",
       "      <td>1.0</td>\n",
       "      <td>0</td>\n",
       "      <td>4</td>\n",
       "      <td>3.0</td>\n",
       "      <td>4</td>\n",
       "    </tr>\n",
       "  </tbody>\n",
       "</table>\n",
       "</div>"
      ],
      "text/plain": [
       "  sex   age Pstatus  Fedu  Medu guardian  studytime  traveltime  failures  \\\n",
       "0   F  18.0       A     4     4   mother          2         2.0         0   \n",
       "1   F  17.0       T     1     1   father          2         1.0         0   \n",
       "2   F  15.0       T     1     1   mother          2         1.0         3   \n",
       "3   F  15.0       T     2     4   mother          3         1.0         0   \n",
       "4   F   NaN       T     3     3   father          2         1.0         0   \n",
       "\n",
       "   famrel  freetime  absences  \n",
       "0       4       3.0         6  \n",
       "1       5       3.0         4  \n",
       "2       4       3.0        10  \n",
       "3       3       2.0         2  \n",
       "4       4       3.0         4  "
      ]
     },
     "execution_count": 1,
     "metadata": {},
     "output_type": "execute_result"
    }
   ],
   "source": [
    "import pandas as pd\n",
    "\n",
    "df= pd.read_csv('https://raw.githubusercontent.com/Datamanim/datarepo/main/adp/24/problem1.csv')\n",
    "df.head()"
   ]
  },
  {
   "cell_type": "markdown",
   "id": "2c6b9644",
   "metadata": {},
   "source": [
    "## 1.1 데이터 EDA 및 시각화 "
   ]
  },
  {
   "cell_type": "code",
   "execution_count": null,
   "id": "6af6cfe8",
   "metadata": {},
   "outputs": [],
   "source": []
  },
  {
   "cell_type": "markdown",
   "id": "947b29b1",
   "metadata": {},
   "source": [
    "## 1.2 결측치 처리 및 변화 시각화, 추가 전처리가 필요하다면 이유와 기대효과를 설명하라"
   ]
  },
  {
   "cell_type": "code",
   "execution_count": null,
   "id": "122e69dd",
   "metadata": {},
   "outputs": [],
   "source": []
  },
  {
   "cell_type": "markdown",
   "id": "fd7a1f74",
   "metadata": {},
   "source": [
    "## 1.3 결석일수 예측모델을 2개 제시하고 선택한 근거 설명"
   ]
  },
  {
   "cell_type": "code",
   "execution_count": null,
   "id": "ede5febc",
   "metadata": {},
   "outputs": [],
   "source": []
  },
  {
   "cell_type": "markdown",
   "id": "455a7692",
   "metadata": {},
   "source": [
    "## 1.4 선정한 모델 2가지 생성 및 모델의 평가 기준을 선정하고 선정 이유 설명"
   ]
  },
  {
   "cell_type": "code",
   "execution_count": null,
   "id": "9de659a0",
   "metadata": {},
   "outputs": [],
   "source": []
  },
  {
   "cell_type": "markdown",
   "id": "f5b7de07",
   "metadata": {},
   "source": [
    "## 1.5 모델이 다양한 일상 상황에서도 잘 동작한다는 것을 설명하고 시각화 하라"
   ]
  },
  {
   "cell_type": "code",
   "execution_count": null,
   "id": "482da39c",
   "metadata": {},
   "outputs": [],
   "source": []
  },
  {
   "cell_type": "markdown",
   "id": "535aa3f8",
   "metadata": {},
   "source": [
    "## 1.6 모델 최적화 방안에 대해 구체적으로 설명하라"
   ]
  },
  {
   "cell_type": "code",
   "execution_count": null,
   "id": "3ce3e08e",
   "metadata": {},
   "outputs": [],
   "source": []
  },
  {
   "cell_type": "markdown",
   "id": "8f0ce0ee",
   "metadata": {},
   "source": [
    "```{admonition} 2번\n",
    "**광고횟수와 광고비에 따른 매출액의 데이터이다**     \n",
    "```"
   ]
  },
  {
   "cell_type": "code",
   "execution_count": 4,
   "id": "d2f0306a",
   "metadata": {
    "ExecuteTime": {
     "end_time": "2022-09-04T04:59:53.353886Z",
     "start_time": "2022-09-04T04:59:52.069005Z"
    },
    "tags": [
     "hide-input"
    ]
   },
   "outputs": [
    {
     "data": {
      "text/html": [
       "<div>\n",
       "<style scoped>\n",
       "    .dataframe tbody tr th:only-of-type {\n",
       "        vertical-align: middle;\n",
       "    }\n",
       "\n",
       "    .dataframe tbody tr th {\n",
       "        vertical-align: top;\n",
       "    }\n",
       "\n",
       "    .dataframe thead th {\n",
       "        text-align: right;\n",
       "    }\n",
       "</style>\n",
       "<table border=\"1\" class=\"dataframe\">\n",
       "  <thead>\n",
       "    <tr style=\"text-align: right;\">\n",
       "      <th></th>\n",
       "      <th>광고횟수</th>\n",
       "      <th>광고비</th>\n",
       "      <th>매출액</th>\n",
       "    </tr>\n",
       "  </thead>\n",
       "  <tbody>\n",
       "    <tr>\n",
       "      <th>0</th>\n",
       "      <td>2</td>\n",
       "      <td>낮음</td>\n",
       "      <td>15</td>\n",
       "    </tr>\n",
       "    <tr>\n",
       "      <th>1</th>\n",
       "      <td>3</td>\n",
       "      <td>낮음</td>\n",
       "      <td>16</td>\n",
       "    </tr>\n",
       "    <tr>\n",
       "      <th>2</th>\n",
       "      <td>4</td>\n",
       "      <td>낮음</td>\n",
       "      <td>17</td>\n",
       "    </tr>\n",
       "    <tr>\n",
       "      <th>3</th>\n",
       "      <td>4</td>\n",
       "      <td>높음</td>\n",
       "      <td>18</td>\n",
       "    </tr>\n",
       "    <tr>\n",
       "      <th>4</th>\n",
       "      <td>5</td>\n",
       "      <td>높음</td>\n",
       "      <td>20</td>\n",
       "    </tr>\n",
       "  </tbody>\n",
       "</table>\n",
       "</div>"
      ],
      "text/plain": [
       "   광고횟수 광고비  매출액\n",
       "0     2  낮음   15\n",
       "1     3  낮음   16\n",
       "2     4  낮음   17\n",
       "3     4  높음   18\n",
       "4     5  높음   20"
      ]
     },
     "execution_count": 4,
     "metadata": {},
     "output_type": "execute_result"
    }
   ],
   "source": [
    "import pandas as pd\n",
    "\n",
    "df= pd.read_csv('https://raw.githubusercontent.com/Datamanim/datarepo/main/adp/24/problem2.csv',encoding='cp949')\n",
    "df.head()"
   ]
  },
  {
   "cell_type": "markdown",
   "id": "4650328a",
   "metadata": {},
   "source": [
    "## 2.1 광고비 변수를 가변수 처리후 다중회귀를 수행하여 회귀계수가 유의한지 검정"
   ]
  },
  {
   "cell_type": "code",
   "execution_count": null,
   "id": "b3ddd472",
   "metadata": {},
   "outputs": [],
   "source": []
  },
  {
   "cell_type": "markdown",
   "id": "b850b6c3",
   "metadata": {},
   "source": [
    "## 2.2 회귀식이 유의한지 판단"
   ]
  },
  {
   "cell_type": "code",
   "execution_count": null,
   "id": "3e2b1670",
   "metadata": {},
   "outputs": [],
   "source": []
  },
  {
   "cell_type": "markdown",
   "id": "8ae7aed4",
   "metadata": {},
   "source": [
    "```{admonition} 3번\n",
    "**A생산라인의 제품 평균은 5.7mm이고 표준편차는 0.03, B생산라인의 제품 평균은 5.6mm이고 표준편차는 0.04라면 5%유의수준으로 두 제품의 평균이 차이가 있는지 여부를 검정하기 Z(0.05) = 1.65**\n",
    "\n",
    "```"
   ]
  },
  {
   "cell_type": "markdown",
   "id": "c97b0f70",
   "metadata": {},
   "source": [
    "## 3.1 귀무가설과 대립가설을 세워라"
   ]
  },
  {
   "cell_type": "code",
   "execution_count": null,
   "id": "039b103b",
   "metadata": {},
   "outputs": [],
   "source": []
  },
  {
   "cell_type": "markdown",
   "id": "7de6ac9f",
   "metadata": {},
   "source": [
    "## 3.2 두 평균이 차이가 있는지 검정하라"
   ]
  },
  {
   "cell_type": "code",
   "execution_count": null,
   "id": "408237bd",
   "metadata": {},
   "outputs": [],
   "source": []
  },
  {
   "cell_type": "markdown",
   "id": "1150da37",
   "metadata": {},
   "source": [
    "## 4 바이러스 감염 분류표를 보고 베이지안 분류 방법을 사용해 양성으로 예측된 사람이 실제로 양성일 확률을 구하라"
   ]
  },
  {
   "cell_type": "markdown",
   "id": "5f06db11",
   "metadata": {},
   "source": [
    "![image](https://github.com/Datamanim/datarepo/blob/main/adp/24/problem4.png?raw=true)"
   ]
  },
  {
   "cell_type": "code",
   "execution_count": null,
   "id": "89448e7b",
   "metadata": {},
   "outputs": [],
   "source": []
  },
  {
   "cell_type": "markdown",
   "id": "a38e5c28",
   "metadata": {},
   "source": [
    "```{admonition} 5번\n",
    "**주어진 데이터에서 신뢰구간을 구하려한다**     \n",
    "정규분포에서 표폰을 추출함[Z(0.05) = -1.65 , Z(0.025) = -1.96, T(0.05, 8) = 1.860 , T0.025(0.025, 8) = 2.306]       \n",
    "데이터(9개) : [3.1, 3.3, 3.5, 3.7, 3.9, 4.1, 4.3 4.4, 4.7]     \n",
    "```"
   ]
  },
  {
   "cell_type": "markdown",
   "id": "09b433c5",
   "metadata": {},
   "source": [
    "## 5.1 모분산을 모르는 경우 주어진 데이터의 95% 신뢰구간을 구하라"
   ]
  },
  {
   "cell_type": "code",
   "execution_count": null,
   "id": "a37eaf55",
   "metadata": {},
   "outputs": [],
   "source": []
  },
  {
   "cell_type": "markdown",
   "id": "10efdc30",
   "metadata": {},
   "source": [
    "## 5.2 sigma = 0.04인걸 알고 있을때의 95% 신뢰구간을 구하라"
   ]
  },
  {
   "cell_type": "code",
   "execution_count": null,
   "id": "67be81c8",
   "metadata": {},
   "outputs": [],
   "source": []
  }
 ],
 "metadata": {
  "celltoolbar": "Edit Metadata",
  "kernelspec": {
   "display_name": "Python 3 (ipykernel)",
   "language": "python",
   "name": "python3"
  },
  "language_info": {
   "codemirror_mode": {
    "name": "ipython",
    "version": 3
   },
   "file_extension": ".py",
   "mimetype": "text/x-python",
   "name": "python",
   "nbconvert_exporter": "python",
   "pygments_lexer": "ipython3",
   "version": "3.8.16"
  }
 },
 "nbformat": 4,
 "nbformat_minor": 5
}
