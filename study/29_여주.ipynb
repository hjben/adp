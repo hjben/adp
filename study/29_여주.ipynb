{
 "cells": [
  {
   "cell_type": "markdown",
   "metadata": {},
   "source": [
    "# 29회 ADP 복원 "
   ]
  },
  {
   "cell_type": "code",
   "execution_count": 1,
   "metadata": {},
   "outputs": [],
   "source": [
    "import numpy as np\n",
    "import pandas as pd"
   ]
  },
  {
   "cell_type": "code",
   "execution_count": 2,
   "metadata": {},
   "outputs": [],
   "source": [
    "import matplotlib.pyplot as plt\n",
    "import seaborn as sns"
   ]
  },
  {
   "cell_type": "markdown",
   "metadata": {},
   "source": [
    "# 기계학습 (60점)"
   ]
  },
  {
   "cell_type": "markdown",
   "metadata": {},
   "source": [
    "## 데이터 설명\n",
    "- 데이터 출처 : https://www.data.go.kr/data/15094266/fileData.do 후처리\n",
    "- 데이터 링크 : https://raw.githubusercontent.com/Datamanim/datarepo/main/adp/29/p1.csv\n",
    "- 데이터 설명 : 대구도시공사_빅데이터_영구임대아파트 입주자 퇴거여부 데이터, 고유번호를 가진 계약자와 특정 아파트에 대해 매년 퇴거여부를 기록한 데이터"
   ]
  },
  {
   "cell_type": "markdown",
   "metadata": {},
   "source": [
    "## 1-1  계약자고유번호를 기준으로 거주연도 별 여러개의 데이터가 쌓여 있다. 각 계약자고유번호에 대해 가장 최신의 거주연도 행만 남겨라."
   ]
  },
  {
   "cell_type": "code",
   "execution_count": 3,
   "metadata": {},
   "outputs": [],
   "source": [
    "estate = pd.read_csv(\" https://raw.githubusercontent.com/Datamanim/datarepo/main/adp/29/p1.csv\", encoding='euc-kr')"
   ]
  },
  {
   "cell_type": "code",
   "execution_count": 4,
   "metadata": {},
   "outputs": [
    {
     "data": {
      "text/html": [
       "<div>\n",
       "<style scoped>\n",
       "    .dataframe tbody tr th:only-of-type {\n",
       "        vertical-align: middle;\n",
       "    }\n",
       "\n",
       "    .dataframe tbody tr th {\n",
       "        vertical-align: top;\n",
       "    }\n",
       "\n",
       "    .dataframe thead th {\n",
       "        text-align: right;\n",
       "    }\n",
       "</style>\n",
       "<table border=\"1\" class=\"dataframe\">\n",
       "  <thead>\n",
       "    <tr style=\"text-align: right;\">\n",
       "      <th></th>\n",
       "      <th>순번</th>\n",
       "      <th>계약구분</th>\n",
       "      <th>재계약횟수</th>\n",
       "      <th>거주개월</th>\n",
       "      <th>아파트 이름</th>\n",
       "      <th>아파트 ID</th>\n",
       "      <th>아파트 평점</th>\n",
       "      <th>호실고유번호</th>\n",
       "      <th>층</th>\n",
       "      <th>평형대</th>\n",
       "      <th>...</th>\n",
       "      <th>퇴거연도</th>\n",
       "      <th>거주연도</th>\n",
       "      <th>월세(원)</th>\n",
       "      <th>보증금(원)</th>\n",
       "      <th>대표나이</th>\n",
       "      <th>나이</th>\n",
       "      <th>성별</th>\n",
       "      <th>결혼여부</th>\n",
       "      <th>거주자 수</th>\n",
       "      <th>퇴거여부</th>\n",
       "    </tr>\n",
       "  </thead>\n",
       "  <tbody>\n",
       "    <tr>\n",
       "      <th>0</th>\n",
       "      <td>1</td>\n",
       "      <td>유효</td>\n",
       "      <td>10</td>\n",
       "      <td>222</td>\n",
       "      <td>강남아파트</td>\n",
       "      <td>5</td>\n",
       "      <td>7.0</td>\n",
       "      <td>14520</td>\n",
       "      <td>1</td>\n",
       "      <td>12</td>\n",
       "      <td>...</td>\n",
       "      <td>NaN</td>\n",
       "      <td>2008</td>\n",
       "      <td>47100</td>\n",
       "      <td>3646000</td>\n",
       "      <td>46</td>\n",
       "      <td>33</td>\n",
       "      <td>남</td>\n",
       "      <td>미혼</td>\n",
       "      <td>3</td>\n",
       "      <td>미퇴거</td>\n",
       "    </tr>\n",
       "    <tr>\n",
       "      <th>1</th>\n",
       "      <td>1</td>\n",
       "      <td>유효</td>\n",
       "      <td>10</td>\n",
       "      <td>222</td>\n",
       "      <td>강남아파트</td>\n",
       "      <td>5</td>\n",
       "      <td>7.0</td>\n",
       "      <td>14520</td>\n",
       "      <td>1</td>\n",
       "      <td>12</td>\n",
       "      <td>...</td>\n",
       "      <td>NaN</td>\n",
       "      <td>2009</td>\n",
       "      <td>56500</td>\n",
       "      <td>4375000</td>\n",
       "      <td>46</td>\n",
       "      <td>34</td>\n",
       "      <td>남</td>\n",
       "      <td>미혼</td>\n",
       "      <td>3</td>\n",
       "      <td>미퇴거</td>\n",
       "    </tr>\n",
       "    <tr>\n",
       "      <th>2</th>\n",
       "      <td>1</td>\n",
       "      <td>유효</td>\n",
       "      <td>10</td>\n",
       "      <td>222</td>\n",
       "      <td>강남아파트</td>\n",
       "      <td>5</td>\n",
       "      <td>7.0</td>\n",
       "      <td>14520</td>\n",
       "      <td>1</td>\n",
       "      <td>12</td>\n",
       "      <td>...</td>\n",
       "      <td>NaN</td>\n",
       "      <td>2010</td>\n",
       "      <td>56500</td>\n",
       "      <td>4375000</td>\n",
       "      <td>46</td>\n",
       "      <td>35</td>\n",
       "      <td>남</td>\n",
       "      <td>미혼</td>\n",
       "      <td>3</td>\n",
       "      <td>미퇴거</td>\n",
       "    </tr>\n",
       "    <tr>\n",
       "      <th>3</th>\n",
       "      <td>1</td>\n",
       "      <td>유효</td>\n",
       "      <td>10</td>\n",
       "      <td>222</td>\n",
       "      <td>강남아파트</td>\n",
       "      <td>5</td>\n",
       "      <td>7.0</td>\n",
       "      <td>14520</td>\n",
       "      <td>1</td>\n",
       "      <td>12</td>\n",
       "      <td>...</td>\n",
       "      <td>NaN</td>\n",
       "      <td>2011</td>\n",
       "      <td>69900</td>\n",
       "      <td>5408000</td>\n",
       "      <td>46</td>\n",
       "      <td>36</td>\n",
       "      <td>남</td>\n",
       "      <td>미혼</td>\n",
       "      <td>3</td>\n",
       "      <td>미퇴거</td>\n",
       "    </tr>\n",
       "    <tr>\n",
       "      <th>4</th>\n",
       "      <td>1</td>\n",
       "      <td>유효</td>\n",
       "      <td>10</td>\n",
       "      <td>222</td>\n",
       "      <td>강남아파트</td>\n",
       "      <td>5</td>\n",
       "      <td>7.0</td>\n",
       "      <td>14520</td>\n",
       "      <td>1</td>\n",
       "      <td>12</td>\n",
       "      <td>...</td>\n",
       "      <td>NaN</td>\n",
       "      <td>2012</td>\n",
       "      <td>69900</td>\n",
       "      <td>5408000</td>\n",
       "      <td>46</td>\n",
       "      <td>37</td>\n",
       "      <td>남</td>\n",
       "      <td>미혼</td>\n",
       "      <td>3</td>\n",
       "      <td>미퇴거</td>\n",
       "    </tr>\n",
       "  </tbody>\n",
       "</table>\n",
       "<p>5 rows × 23 columns</p>\n",
       "</div>"
      ],
      "text/plain": [
       "   순번 계약구분  재계약횟수  거주개월 아파트 이름  아파트 ID  아파트 평점  호실고유번호  층  평형대  ...  퇴거연도  \\\n",
       "0   1   유효     10   222  강남아파트       5     7.0   14520  1   12  ...   NaN   \n",
       "1   1   유효     10   222  강남아파트       5     7.0   14520  1   12  ...   NaN   \n",
       "2   1   유효     10   222  강남아파트       5     7.0   14520  1   12  ...   NaN   \n",
       "3   1   유효     10   222  강남아파트       5     7.0   14520  1   12  ...   NaN   \n",
       "4   1   유효     10   222  강남아파트       5     7.0   14520  1   12  ...   NaN   \n",
       "\n",
       "   거주연도  월세(원)   보증금(원)  대표나이  나이  성별  결혼여부  거주자 수 퇴거여부  \n",
       "0  2008  47100  3646000    46  33   남    미혼      3  미퇴거  \n",
       "1  2009  56500  4375000    46  34   남    미혼      3  미퇴거  \n",
       "2  2010  56500  4375000    46  35   남    미혼      3  미퇴거  \n",
       "3  2011  69900  5408000    46  36   남    미혼      3  미퇴거  \n",
       "4  2012  69900  5408000    46  37   남    미혼      3  미퇴거  \n",
       "\n",
       "[5 rows x 23 columns]"
      ]
     },
     "execution_count": 4,
     "metadata": {},
     "output_type": "execute_result"
    }
   ],
   "source": [
    "estate.head()"
   ]
  },
  {
   "cell_type": "code",
   "execution_count": 5,
   "metadata": {},
   "outputs": [
    {
     "name": "stdout",
     "output_type": "stream",
     "text": [
      "<class 'pandas.core.frame.DataFrame'>\n",
      "RangeIndex: 86904 entries, 0 to 86903\n",
      "Data columns (total 23 columns):\n",
      " #   Column   Non-Null Count  Dtype  \n",
      "---  ------   --------------  -----  \n",
      " 0   순번       86904 non-null  int64  \n",
      " 1   계약구분     86396 non-null  object \n",
      " 2   재계약횟수    86904 non-null  int64  \n",
      " 3   거주개월     86904 non-null  int64  \n",
      " 4   아파트 이름   86904 non-null  object \n",
      " 5   아파트 ID   86904 non-null  int64  \n",
      " 6   아파트 평점   85679 non-null  float64\n",
      " 7   호실고유번호   86904 non-null  int64  \n",
      " 8   층        86904 non-null  int64  \n",
      " 9   평형대      86904 non-null  int64  \n",
      " 10  계약자고유번호  86904 non-null  int64  \n",
      " 11  계약서고유번호  86904 non-null  int64  \n",
      " 12  입주연도     86904 non-null  int64  \n",
      " 13  퇴거연도     25762 non-null  float64\n",
      " 14  거주연도     86904 non-null  int64  \n",
      " 15  월세(원)    86904 non-null  int64  \n",
      " 16  보증금(원)   86904 non-null  int64  \n",
      " 17  대표나이     86904 non-null  int64  \n",
      " 18  나이       86904 non-null  int64  \n",
      " 19  성별       86904 non-null  object \n",
      " 20  결혼여부     86904 non-null  object \n",
      " 21  거주자 수    86904 non-null  int64  \n",
      " 22  퇴거여부     86904 non-null  object \n",
      "dtypes: float64(2), int64(16), object(5)\n",
      "memory usage: 15.2+ MB\n"
     ]
    }
   ],
   "source": [
    "estate.info()"
   ]
  },
  {
   "cell_type": "code",
   "execution_count": 6,
   "metadata": {},
   "outputs": [
    {
     "data": {
      "text/plain": [
       "Index([    1,     6,    14,    27,    40,    53,    66,    79,    84,    97,\n",
       "       ...\n",
       "       86861, 86862, 86863, 86864, 86865, 86866, 86867, 86868, 86879, 86892],\n",
       "      dtype='int64', name='계약자고유번호', length=10348)"
      ]
     },
     "execution_count": 6,
     "metadata": {},
     "output_type": "execute_result"
    }
   ],
   "source": [
    "# 최신 index\n",
    "estate.groupby(\"계약자고유번호\")[\"거주연도\"].max().index"
   ]
  },
  {
   "cell_type": "code",
   "execution_count": 7,
   "metadata": {},
   "outputs": [
    {
     "data": {
      "text/html": [
       "<div>\n",
       "<style scoped>\n",
       "    .dataframe tbody tr th:only-of-type {\n",
       "        vertical-align: middle;\n",
       "    }\n",
       "\n",
       "    .dataframe tbody tr th {\n",
       "        vertical-align: top;\n",
       "    }\n",
       "\n",
       "    .dataframe thead th {\n",
       "        text-align: right;\n",
       "    }\n",
       "</style>\n",
       "<table border=\"1\" class=\"dataframe\">\n",
       "  <thead>\n",
       "    <tr style=\"text-align: right;\">\n",
       "      <th></th>\n",
       "      <th>순번</th>\n",
       "      <th>계약구분</th>\n",
       "      <th>재계약횟수</th>\n",
       "      <th>거주개월</th>\n",
       "      <th>아파트 이름</th>\n",
       "      <th>아파트 ID</th>\n",
       "      <th>아파트 평점</th>\n",
       "      <th>호실고유번호</th>\n",
       "      <th>층</th>\n",
       "      <th>평형대</th>\n",
       "      <th>...</th>\n",
       "      <th>퇴거연도</th>\n",
       "      <th>거주연도</th>\n",
       "      <th>월세(원)</th>\n",
       "      <th>보증금(원)</th>\n",
       "      <th>대표나이</th>\n",
       "      <th>나이</th>\n",
       "      <th>성별</th>\n",
       "      <th>결혼여부</th>\n",
       "      <th>거주자 수</th>\n",
       "      <th>퇴거여부</th>\n",
       "    </tr>\n",
       "  </thead>\n",
       "  <tbody>\n",
       "    <tr>\n",
       "      <th>0</th>\n",
       "      <td>1</td>\n",
       "      <td>유효</td>\n",
       "      <td>10</td>\n",
       "      <td>222</td>\n",
       "      <td>강남아파트</td>\n",
       "      <td>5</td>\n",
       "      <td>7.0</td>\n",
       "      <td>14520</td>\n",
       "      <td>1</td>\n",
       "      <td>12</td>\n",
       "      <td>...</td>\n",
       "      <td>NaN</td>\n",
       "      <td>2009</td>\n",
       "      <td>56500</td>\n",
       "      <td>4375000</td>\n",
       "      <td>46</td>\n",
       "      <td>34</td>\n",
       "      <td>남</td>\n",
       "      <td>미혼</td>\n",
       "      <td>3</td>\n",
       "      <td>미퇴거</td>\n",
       "    </tr>\n",
       "    <tr>\n",
       "      <th>1</th>\n",
       "      <td>1</td>\n",
       "      <td>유효</td>\n",
       "      <td>10</td>\n",
       "      <td>222</td>\n",
       "      <td>강남아파트</td>\n",
       "      <td>5</td>\n",
       "      <td>7.0</td>\n",
       "      <td>14520</td>\n",
       "      <td>1</td>\n",
       "      <td>12</td>\n",
       "      <td>...</td>\n",
       "      <td>NaN</td>\n",
       "      <td>2014</td>\n",
       "      <td>83800</td>\n",
       "      <td>6489000</td>\n",
       "      <td>46</td>\n",
       "      <td>39</td>\n",
       "      <td>남</td>\n",
       "      <td>미혼</td>\n",
       "      <td>3</td>\n",
       "      <td>미퇴거</td>\n",
       "    </tr>\n",
       "    <tr>\n",
       "      <th>2</th>\n",
       "      <td>2</td>\n",
       "      <td>해지</td>\n",
       "      <td>5</td>\n",
       "      <td>108</td>\n",
       "      <td>강남아파트</td>\n",
       "      <td>5</td>\n",
       "      <td>7.0</td>\n",
       "      <td>14546</td>\n",
       "      <td>1</td>\n",
       "      <td>12</td>\n",
       "      <td>...</td>\n",
       "      <td>2012.0</td>\n",
       "      <td>2009</td>\n",
       "      <td>56500</td>\n",
       "      <td>4375000</td>\n",
       "      <td>68</td>\n",
       "      <td>56</td>\n",
       "      <td>여</td>\n",
       "      <td>미혼</td>\n",
       "      <td>1</td>\n",
       "      <td>미퇴거</td>\n",
       "    </tr>\n",
       "    <tr>\n",
       "      <th>3</th>\n",
       "      <td>5</td>\n",
       "      <td>유효</td>\n",
       "      <td>10</td>\n",
       "      <td>222</td>\n",
       "      <td>강남아파트</td>\n",
       "      <td>5</td>\n",
       "      <td>7.0</td>\n",
       "      <td>14572</td>\n",
       "      <td>1</td>\n",
       "      <td>15</td>\n",
       "      <td>...</td>\n",
       "      <td>NaN</td>\n",
       "      <td>2009</td>\n",
       "      <td>51300</td>\n",
       "      <td>3553000</td>\n",
       "      <td>77</td>\n",
       "      <td>65</td>\n",
       "      <td>여</td>\n",
       "      <td>미혼</td>\n",
       "      <td>2</td>\n",
       "      <td>미퇴거</td>\n",
       "    </tr>\n",
       "    <tr>\n",
       "      <th>4</th>\n",
       "      <td>6</td>\n",
       "      <td>유효</td>\n",
       "      <td>10</td>\n",
       "      <td>222</td>\n",
       "      <td>강남아파트</td>\n",
       "      <td>5</td>\n",
       "      <td>7.0</td>\n",
       "      <td>14598</td>\n",
       "      <td>1</td>\n",
       "      <td>15</td>\n",
       "      <td>...</td>\n",
       "      <td>NaN</td>\n",
       "      <td>2009</td>\n",
       "      <td>51300</td>\n",
       "      <td>3553000</td>\n",
       "      <td>73</td>\n",
       "      <td>61</td>\n",
       "      <td>남</td>\n",
       "      <td>미혼</td>\n",
       "      <td>3</td>\n",
       "      <td>미퇴거</td>\n",
       "    </tr>\n",
       "    <tr>\n",
       "      <th>...</th>\n",
       "      <td>...</td>\n",
       "      <td>...</td>\n",
       "      <td>...</td>\n",
       "      <td>...</td>\n",
       "      <td>...</td>\n",
       "      <td>...</td>\n",
       "      <td>...</td>\n",
       "      <td>...</td>\n",
       "      <td>...</td>\n",
       "      <td>...</td>\n",
       "      <td>...</td>\n",
       "      <td>...</td>\n",
       "      <td>...</td>\n",
       "      <td>...</td>\n",
       "      <td>...</td>\n",
       "      <td>...</td>\n",
       "      <td>...</td>\n",
       "      <td>...</td>\n",
       "      <td>...</td>\n",
       "      <td>...</td>\n",
       "      <td>...</td>\n",
       "    </tr>\n",
       "    <tr>\n",
       "      <th>10343</th>\n",
       "      <td>12880</td>\n",
       "      <td>유효</td>\n",
       "      <td>9</td>\n",
       "      <td>236</td>\n",
       "      <td>지산5단지아파트</td>\n",
       "      <td>3</td>\n",
       "      <td>8.0</td>\n",
       "      <td>86865</td>\n",
       "      <td>14</td>\n",
       "      <td>15</td>\n",
       "      <td>...</td>\n",
       "      <td>NaN</td>\n",
       "      <td>2010</td>\n",
       "      <td>39700</td>\n",
       "      <td>2082000</td>\n",
       "      <td>60</td>\n",
       "      <td>49</td>\n",
       "      <td>남</td>\n",
       "      <td>미혼</td>\n",
       "      <td>1</td>\n",
       "      <td>미퇴거</td>\n",
       "    </tr>\n",
       "    <tr>\n",
       "      <th>10344</th>\n",
       "      <td>12880</td>\n",
       "      <td>유효</td>\n",
       "      <td>9</td>\n",
       "      <td>236</td>\n",
       "      <td>지산5단지아파트</td>\n",
       "      <td>3</td>\n",
       "      <td>8.0</td>\n",
       "      <td>86865</td>\n",
       "      <td>14</td>\n",
       "      <td>15</td>\n",
       "      <td>...</td>\n",
       "      <td>NaN</td>\n",
       "      <td>2011</td>\n",
       "      <td>39700</td>\n",
       "      <td>2082000</td>\n",
       "      <td>60</td>\n",
       "      <td>50</td>\n",
       "      <td>남</td>\n",
       "      <td>미혼</td>\n",
       "      <td>1</td>\n",
       "      <td>미퇴거</td>\n",
       "    </tr>\n",
       "    <tr>\n",
       "      <th>10345</th>\n",
       "      <td>12880</td>\n",
       "      <td>유효</td>\n",
       "      <td>9</td>\n",
       "      <td>236</td>\n",
       "      <td>지산5단지아파트</td>\n",
       "      <td>3</td>\n",
       "      <td>8.0</td>\n",
       "      <td>86865</td>\n",
       "      <td>14</td>\n",
       "      <td>15</td>\n",
       "      <td>...</td>\n",
       "      <td>NaN</td>\n",
       "      <td>2012</td>\n",
       "      <td>40900</td>\n",
       "      <td>2144000</td>\n",
       "      <td>60</td>\n",
       "      <td>51</td>\n",
       "      <td>남</td>\n",
       "      <td>미혼</td>\n",
       "      <td>1</td>\n",
       "      <td>미퇴거</td>\n",
       "    </tr>\n",
       "    <tr>\n",
       "      <th>10346</th>\n",
       "      <td>12881</td>\n",
       "      <td>유효</td>\n",
       "      <td>11</td>\n",
       "      <td>310</td>\n",
       "      <td>지산5단지아파트</td>\n",
       "      <td>3</td>\n",
       "      <td>8.0</td>\n",
       "      <td>86878</td>\n",
       "      <td>14</td>\n",
       "      <td>19</td>\n",
       "      <td>...</td>\n",
       "      <td>NaN</td>\n",
       "      <td>2010</td>\n",
       "      <td>88800</td>\n",
       "      <td>6888000</td>\n",
       "      <td>68</td>\n",
       "      <td>57</td>\n",
       "      <td>남</td>\n",
       "      <td>미혼</td>\n",
       "      <td>2</td>\n",
       "      <td>미퇴거</td>\n",
       "    </tr>\n",
       "    <tr>\n",
       "      <th>10347</th>\n",
       "      <td>12882</td>\n",
       "      <td>해지</td>\n",
       "      <td>8</td>\n",
       "      <td>180</td>\n",
       "      <td>지산5단지아파트</td>\n",
       "      <td>3</td>\n",
       "      <td>8.0</td>\n",
       "      <td>86891</td>\n",
       "      <td>14</td>\n",
       "      <td>15</td>\n",
       "      <td>...</td>\n",
       "      <td>2018.0</td>\n",
       "      <td>2010</td>\n",
       "      <td>39700</td>\n",
       "      <td>2082000</td>\n",
       "      <td>60</td>\n",
       "      <td>49</td>\n",
       "      <td>남</td>\n",
       "      <td>기혼</td>\n",
       "      <td>2</td>\n",
       "      <td>미퇴거</td>\n",
       "    </tr>\n",
       "  </tbody>\n",
       "</table>\n",
       "<p>10348 rows × 23 columns</p>\n",
       "</div>"
      ],
      "text/plain": [
       "          순번 계약구분  재계약횟수  거주개월    아파트 이름  아파트 ID  아파트 평점  호실고유번호   층  평형대  \\\n",
       "0          1   유효     10   222     강남아파트       5     7.0   14520   1   12   \n",
       "1          1   유효     10   222     강남아파트       5     7.0   14520   1   12   \n",
       "2          2   해지      5   108     강남아파트       5     7.0   14546   1   12   \n",
       "3          5   유효     10   222     강남아파트       5     7.0   14572   1   15   \n",
       "4          6   유효     10   222     강남아파트       5     7.0   14598   1   15   \n",
       "...      ...  ...    ...   ...       ...     ...     ...     ...  ..  ...   \n",
       "10343  12880   유효      9   236  지산5단지아파트       3     8.0   86865  14   15   \n",
       "10344  12880   유효      9   236  지산5단지아파트       3     8.0   86865  14   15   \n",
       "10345  12880   유효      9   236  지산5단지아파트       3     8.0   86865  14   15   \n",
       "10346  12881   유효     11   310  지산5단지아파트       3     8.0   86878  14   19   \n",
       "10347  12882   해지      8   180  지산5단지아파트       3     8.0   86891  14   15   \n",
       "\n",
       "       ...    퇴거연도  거주연도  월세(원)   보증금(원)  대표나이  나이  성별  결혼여부  거주자 수 퇴거여부  \n",
       "0      ...     NaN  2009  56500  4375000    46  34   남    미혼      3  미퇴거  \n",
       "1      ...     NaN  2014  83800  6489000    46  39   남    미혼      3  미퇴거  \n",
       "2      ...  2012.0  2009  56500  4375000    68  56   여    미혼      1  미퇴거  \n",
       "3      ...     NaN  2009  51300  3553000    77  65   여    미혼      2  미퇴거  \n",
       "4      ...     NaN  2009  51300  3553000    73  61   남    미혼      3  미퇴거  \n",
       "...    ...     ...   ...    ...      ...   ...  ..  ..   ...    ...  ...  \n",
       "10343  ...     NaN  2010  39700  2082000    60  49   남    미혼      1  미퇴거  \n",
       "10344  ...     NaN  2011  39700  2082000    60  50   남    미혼      1  미퇴거  \n",
       "10345  ...     NaN  2012  40900  2144000    60  51   남    미혼      1  미퇴거  \n",
       "10346  ...     NaN  2010  88800  6888000    68  57   남    미혼      2  미퇴거  \n",
       "10347  ...  2018.0  2010  39700  2082000    60  49   남    기혼      2  미퇴거  \n",
       "\n",
       "[10348 rows x 23 columns]"
      ]
     },
     "execution_count": 7,
     "metadata": {},
     "output_type": "execute_result"
    }
   ],
   "source": [
    "estate_new = estate.loc[estate.groupby(\"계약자고유번호\")[\"거주연도\"].max().index].reset_index(drop=True)\n",
    "estate_new"
   ]
  },
  {
   "cell_type": "markdown",
   "metadata": {},
   "source": [
    "## 1-2 결측치 처리\n",
    "\n",
    "- 계약구분, 아파트 평점, 퇴거연도에 결측치가 있음\n",
    "- 아파트별로 평점은 모두 동일하므로, 각 아파트 ID별 평점으로 대체\n",
    "- 퇴거연도 변수는 삭제\n",
    "- 계약구분의 경우, 퇴거여부 변수와 거주연도, 거주기간을 고려하여 처리"
   ]
  },
  {
   "cell_type": "code",
   "execution_count": 8,
   "metadata": {},
   "outputs": [
    {
     "name": "stdout",
     "output_type": "stream",
     "text": [
      "<class 'pandas.core.frame.DataFrame'>\n",
      "RangeIndex: 10348 entries, 0 to 10347\n",
      "Data columns (total 23 columns):\n",
      " #   Column   Non-Null Count  Dtype  \n",
      "---  ------   --------------  -----  \n",
      " 0   순번       10348 non-null  int64  \n",
      " 1   계약구분     10287 non-null  object \n",
      " 2   재계약횟수    10348 non-null  int64  \n",
      " 3   거주개월     10348 non-null  int64  \n",
      " 4   아파트 이름   10348 non-null  object \n",
      " 5   아파트 ID   10348 non-null  int64  \n",
      " 6   아파트 평점   10214 non-null  float64\n",
      " 7   호실고유번호   10348 non-null  int64  \n",
      " 8   층        10348 non-null  int64  \n",
      " 9   평형대      10348 non-null  int64  \n",
      " 10  계약자고유번호  10348 non-null  int64  \n",
      " 11  계약서고유번호  10348 non-null  int64  \n",
      " 12  입주연도     10348 non-null  int64  \n",
      " 13  퇴거연도     3027 non-null   float64\n",
      " 14  거주연도     10348 non-null  int64  \n",
      " 15  월세(원)    10348 non-null  int64  \n",
      " 16  보증금(원)   10348 non-null  int64  \n",
      " 17  대표나이     10348 non-null  int64  \n",
      " 18  나이       10348 non-null  int64  \n",
      " 19  성별       10348 non-null  object \n",
      " 20  결혼여부     10348 non-null  object \n",
      " 21  거주자 수    10348 non-null  int64  \n",
      " 22  퇴거여부     10348 non-null  object \n",
      "dtypes: float64(2), int64(16), object(5)\n",
      "memory usage: 1.8+ MB\n"
     ]
    }
   ],
   "source": [
    "# 계약구분, 아파트 평점, 퇴거연도에 결측치가 있음\n",
    "estate_new.info()"
   ]
  },
  {
   "cell_type": "code",
   "execution_count": 9,
   "metadata": {},
   "outputs": [
    {
     "data": {
      "text/plain": [
       "array([5, 4, 1, 2, 3])"
      ]
     },
     "execution_count": 9,
     "metadata": {},
     "output_type": "execute_result"
    }
   ],
   "source": [
    "# 아파트 종류는 5개\n",
    "estate_new[\"아파트 ID\"].unique()"
   ]
  },
  {
   "cell_type": "code",
   "execution_count": 10,
   "metadata": {},
   "outputs": [
    {
     "data": {
      "text/plain": [
       "아파트 ID  아파트 평점\n",
       "1       5.0       3641\n",
       "2       7.0       3604\n",
       "3       8.0       2651\n",
       "4       10.0       200\n",
       "5       7.0        118\n",
       "Name: count, dtype: int64"
      ]
     },
     "execution_count": 10,
     "metadata": {},
     "output_type": "execute_result"
    }
   ],
   "source": [
    "# 아파트별로 평점은 모두 동일하므로, 각 아파트 ID별 평점으로 결측치 처리\n",
    "estate_new.groupby(\"아파트 ID\")[\"아파트 평점\"].value_counts()"
   ]
  },
  {
   "cell_type": "code",
   "execution_count": 11,
   "metadata": {},
   "outputs": [],
   "source": [
    "def add_rate(id):\n",
    "    return estate_new[estate_new[\"아파트 ID\"]==id][\"아파트 평점\"].unique()[0]\n",
    "\n",
    "estate_new[\"아파트 평점\"] = estate_new[\"아파트 평점\"].fillna(estate_new[\"아파트 ID\"].apply(add_rate))"
   ]
  },
  {
   "cell_type": "code",
   "execution_count": 12,
   "metadata": {},
   "outputs": [
    {
     "data": {
      "text/plain": [
       "퇴거여부\n",
       "미퇴거    7321\n",
       "Name: count, dtype: int64"
      ]
     },
     "execution_count": 12,
     "metadata": {},
     "output_type": "execute_result"
    }
   ],
   "source": [
    "# 퇴거연도 확인\n",
    "# 퇴거 연도는 미퇴거 주택의 경우 모두 NA 처리되고 그 개수가 상당히 많은 편이므로 크게 분석에서 유용하게 사용할 변수로 보이지 않음\n",
    "# 퇴거여부 변수에 퇴거 연도의 일부 정보가 들어가고 있으므로 (퇴거/미퇴거) 퇴거여부 변수만 사용하고 퇴거연도는 삭제하는 게 좋겠음\n",
    "estate_new[estate_new[\"퇴거연도\"].isna()][\"퇴거여부\"].value_counts() # 퇴거연도가 없으면 모두 미퇴거"
   ]
  },
  {
   "cell_type": "code",
   "execution_count": 13,
   "metadata": {},
   "outputs": [],
   "source": [
    "estate_new.drop('퇴거연도', axis=1, inplace=True)"
   ]
  },
  {
   "cell_type": "code",
   "execution_count": 14,
   "metadata": {},
   "outputs": [
    {
     "data": {
      "text/plain": [
       "계약구분\n",
       "유효    7275\n",
       "해지    3012\n",
       "Name: count, dtype: int64"
      ]
     },
     "execution_count": 14,
     "metadata": {},
     "output_type": "execute_result"
    }
   ],
   "source": [
    "# 계약구분 확인\n",
    "estate_new[\"계약구분\"].value_counts()"
   ]
  },
  {
   "cell_type": "code",
   "execution_count": 15,
   "metadata": {},
   "outputs": [
    {
     "data": {
      "text/plain": [
       "퇴거여부\n",
       "미퇴거    57\n",
       "퇴거      4\n",
       "Name: count, dtype: int64"
      ]
     },
     "execution_count": 15,
     "metadata": {},
     "output_type": "execute_result"
    }
   ],
   "source": [
    "# 계약구분이 NA인 변수들의 퇴거여부 확인\n",
    "estate_new[estate_new[\"계약구분\"].isna()][\"퇴거여부\"].value_counts()"
   ]
  },
  {
   "cell_type": "code",
   "execution_count": 16,
   "metadata": {},
   "outputs": [
    {
     "data": {
      "text/plain": [
       "퇴거여부\n",
       "미퇴거    7275\n",
       "Name: count, dtype: int64"
      ]
     },
     "execution_count": 16,
     "metadata": {},
     "output_type": "execute_result"
    }
   ],
   "source": [
    "estate_new[estate_new[\"계약구분\"]==\"유효\"][\"퇴거여부\"].value_counts() # 유효한 계약이면 미퇴거"
   ]
  },
  {
   "cell_type": "code",
   "execution_count": 17,
   "metadata": {},
   "outputs": [
    {
     "data": {
      "text/plain": [
       "퇴거여부\n",
       "미퇴거    2505\n",
       "퇴거      507\n",
       "Name: count, dtype: int64"
      ]
     },
     "execution_count": 17,
     "metadata": {},
     "output_type": "execute_result"
    }
   ],
   "source": [
    "estate_new[estate_new[\"계약구분\"]==\"해지\"][\"퇴거여부\"].value_counts() # 유효하지 않은 계약 중에는 미퇴거/퇴거가 나누어져 있음 -> 퇴거한 경우 유효하지 않은 계약"
   ]
  },
  {
   "cell_type": "code",
   "execution_count": 18,
   "metadata": {},
   "outputs": [
    {
     "name": "stderr",
     "output_type": "stream",
     "text": [
      "/var/folders/1m/4rsksycx3qvf5nrg_td3lpxw0000gn/T/ipykernel_62619/2662360924.py:1: UserWarning: Boolean Series key will be reindexed to match DataFrame index.\n",
      "  estate_new.loc[estate_new[estate_new[\"계약구분\"].isna()][estate_new[\"퇴거여부\"]==\"퇴거\"].index, \"계약구분\"] = \"해지\" # 퇴거 완료 계약의 해지 처리\n"
     ]
    }
   ],
   "source": [
    "estate_new.loc[estate_new[estate_new[\"계약구분\"].isna()][estate_new[\"퇴거여부\"]==\"퇴거\"].index, \"계약구분\"] = \"해지\" # 퇴거 완료 계약의 해지 처리"
   ]
  },
  {
   "cell_type": "code",
   "execution_count": 19,
   "metadata": {},
   "outputs": [
    {
     "data": {
      "text/plain": [
       "퇴거여부\n",
       "미퇴거    57\n",
       "Name: count, dtype: int64"
      ]
     },
     "execution_count": 19,
     "metadata": {},
     "output_type": "execute_result"
    }
   ],
   "source": [
    "# 계약구분이 NA인 변수들의 퇴거여부 다시 확인\n",
    "estate_new[estate_new[\"계약구분\"].isna()][\"퇴거여부\"].value_counts()"
   ]
  },
  {
   "cell_type": "code",
   "execution_count": 20,
   "metadata": {},
   "outputs": [],
   "source": [
    "# 거주연도 + 거주개월이 2023이 넘으면 유효\n",
    "ok_index = estate_new[estate_new[\"계약구분\"].isna()][(estate_new[estate_new[\"계약구분\"].isna()][\"거주개월\"]/12).apply(int) + estate_new[estate_new[\"계약구분\"].isna()][\"거주연도\"] >= 2023].index\n",
    "estate_new.loc[ok_index, \"계약구분\"] = \"유효\""
   ]
  },
  {
   "cell_type": "code",
   "execution_count": 21,
   "metadata": {},
   "outputs": [],
   "source": [
    "# 남은 NA 케이스는 해지\n",
    "estate_new[\"계약구분\"] = estate_new[\"계약구분\"].fillna(\"해지\")"
   ]
  },
  {
   "cell_type": "code",
   "execution_count": 22,
   "metadata": {},
   "outputs": [
    {
     "data": {
      "text/plain": [
       "순번         0\n",
       "계약구분       0\n",
       "재계약횟수      0\n",
       "거주개월       0\n",
       "아파트 이름     0\n",
       "아파트 ID     0\n",
       "아파트 평점     0\n",
       "호실고유번호     0\n",
       "층          0\n",
       "평형대        0\n",
       "계약자고유번호    0\n",
       "계약서고유번호    0\n",
       "입주연도       0\n",
       "거주연도       0\n",
       "월세(원)      0\n",
       "보증금(원)     0\n",
       "대표나이       0\n",
       "나이         0\n",
       "성별         0\n",
       "결혼여부       0\n",
       "거주자 수      0\n",
       "퇴거여부       0\n",
       "dtype: int64"
      ]
     },
     "execution_count": 22,
     "metadata": {},
     "output_type": "execute_result"
    }
   ],
   "source": [
    "estate_new.isna().sum() # 결측치 없음"
   ]
  },
  {
   "cell_type": "markdown",
   "metadata": {},
   "source": [
    "## 1-3 이상치 처리\n",
    "- Outlier가 존재하는 column: 거주자 수, 나이, 대표나이, 보증금, 월세, 입주연도\n",
    "- 거주자 수, 입주연도의 경우 처리하지 않아도 되는 outlier\n",
    "- 보증금, 월세의 경우 이상치 영향을 줄이는 변환 (log 변환)\n",
    "- 나이, 대표나이의 경우, 100세 이상인 경우 100으로 조정"
   ]
  },
  {
   "cell_type": "code",
   "execution_count": 23,
   "metadata": {},
   "outputs": [],
   "source": [
    "import pandas as pd\n",
    "#matplotlib 패키지 한글 깨짐 처리 시작\n",
    "import matplotlib.pyplot as plt\n",
    "import platform\n",
    "if platform.system() == 'Darwin': #맥\n",
    "        plt.rc('font', family='AppleGothic') \n",
    "elif platform.system() == 'Windows': #윈도우\n",
    "        plt.rc('font', family='Malgun Gothic') \n",
    "elif platform.system() == 'Linux': #리눅스 (구글 콜랩)\n",
    "        #!wget \"https://www.wfonts.com/download/data/2016/06/13/malgun-gothic/malgun.ttf\"\n",
    "        #!mv malgun.ttf /usr/share/fonts/truetype/\n",
    "        #import matplotlib.font_manager as fm \n",
    "        #fm._rebuild() \n",
    "        plt.rc('font', family='Malgun Gothic') \n",
    "plt.rcParams['axes.unicode_minus'] = False #한글 폰트 사용시 마이너스 폰트 깨짐 해결"
   ]
  },
  {
   "cell_type": "code",
   "execution_count": 24,
   "metadata": {},
   "outputs": [
    {
     "data": {
      "image/png": "[encoded data removed]",
      "text/plain": [
       "<Figure size 400x200 with 1 Axes>"
      ]
     },
     "metadata": {},
     "output_type": "display_data"
    },
    {
     "data": {
      "image/png": "[encoded data removed]",
      "text/plain": [
       "<Figure size 400x200 with 1 Axes>"
      ]
     },
     "metadata": {},
     "output_type": "display_data"
    },
    {
     "data": {
      "image/png": "[encoded data removed]",
      "text/plain": [
       "<Figure size 400x200 with 1 Axes>"
      ]
     },
     "metadata": {},
     "output_type": "display_data"
    },
    {
     "data": {
      "image/png": "[encoded data removed]",
      "text/plain": [
       "<Figure size 400x200 with 1 Axes>"
      ]
     },
     "metadata": {},
     "output_type": "display_data"
    },
    {
     "data": {
      "image/png": "[encoded data removed]",
      "text/plain": [
       "<Figure size 400x200 with 1 Axes>"
      ]
     },
     "metadata": {},
     "output_type": "display_data"
    },
    {
     "data": {
      "image/png": "[encoded data removed]",
      "text/plain": [
       "<Figure size 400x200 with 1 Axes>"
      ]
     },
     "metadata": {},
     "output_type": "display_data"
    },
    {
     "data": {
      "image/png": "[encoded data removed]",
      "text/plain": [
       "<Figure size 400x200 with 1 Axes>"
      ]
     },
     "metadata": {},
     "output_type": "display_data"
    },
    {
     "data": {
      "image/png": "[encoded data removed]",
      "text/plain": [
       "<Figure size 400x200 with 1 Axes>"
      ]
     },
     "metadata": {},
     "output_type": "display_data"
    },
    {
     "data": {
      "image/png": "[encoded data removed]",
      "text/plain": [
       "<Figure size 400x200 with 1 Axes>"
      ]
     },
     "metadata": {},
     "output_type": "display_data"
    },
    {
     "data": {
      "image/png": "[encoded data removed]",
      "text/plain": [
       "<Figure size 400x200 with 1 Axes>"
      ]
     },
     "metadata": {},
     "output_type": "display_data"
    },
    {
     "data": {
      "image/png": "[encoded data removed]",
      "text/plain": [
       "<Figure size 400x200 with 1 Axes>"
      ]
     },
     "metadata": {},
     "output_type": "display_data"
    }
   ],
   "source": [
    "for column in estate_new.columns.difference(['계약구분', '아파트 이름', '성별', '결혼여부', '퇴거여부', '계약서고유번호', '계약자고유번호', '순번', '아파트 ID', '아파트 평점', '호실고유번호']):\n",
    "    plt.figure(figsize=(4, 2))\n",
    "    sns.boxplot(estate_new[column])\n",
    "    plt.title(column)\n",
    "    plt.show()"
   ]
  },
  {
   "cell_type": "code",
   "execution_count": 25,
   "metadata": {},
   "outputs": [
    {
     "name": "stdout",
     "output_type": "stream",
     "text": [
      "count    10348.000000\n",
      "mean        59.569192\n",
      "std         13.106368\n",
      "min         20.000000\n",
      "25%         51.000000\n",
      "50%         59.000000\n",
      "75%         69.000000\n",
      "max        119.000000\n",
      "Name: 나이, dtype: float64\n"
     ]
    },
    {
     "data": {
      "image/png": "[encoded data removed]",
      "text/plain": [
       "<Figure size 400x200 with 1 Axes>"
      ]
     },
     "metadata": {},
     "output_type": "display_data"
    },
    {
     "name": "stdout",
     "output_type": "stream",
     "text": [
      "count    10348.000000\n",
      "mean        66.619057\n",
      "std         12.887258\n",
      "min         22.000000\n",
      "25%         59.000000\n",
      "50%         66.000000\n",
      "75%         76.000000\n",
      "max        121.000000\n",
      "Name: 대표나이, dtype: float64\n"
     ]
    },
    {
     "data": {
      "image/png": "[encoded data removed]",
      "text/plain": [
       "<Figure size 400x200 with 1 Axes>"
      ]
     },
     "metadata": {},
     "output_type": "display_data"
    }
   ],
   "source": [
    "# Outlier가 존재하는 column: 거주자 수, 나이, 대표나이, 보증금, 월세, 입주연도\n",
    "for column in [\"나이\", \"대표나이\"]:\n",
    "    print(estate_new[column].describe())\n",
    "    plt.figure(figsize=(4, 2))\n",
    "    sns.boxplot(estate_new[column])\n",
    "    plt.title(column)\n",
    "    plt.show()"
   ]
  },
  {
   "cell_type": "code",
   "execution_count": 26,
   "metadata": {},
   "outputs": [],
   "source": [
    "estate_new.loc[estate_new['나이']>=100, '나이'] = 100\n",
    "estate_new.loc[estate_new['대표나이']>=100, '대표나이'] = 100"
   ]
  },
  {
   "cell_type": "code",
   "execution_count": 27,
   "metadata": {},
   "outputs": [
    {
     "data": {
      "text/plain": [
       "2.3740215596521588"
      ]
     },
     "execution_count": 27,
     "metadata": {},
     "output_type": "execute_result"
    }
   ],
   "source": [
    "### 보증금, 월세 log 변환\n",
    "estate_new[\"보증금(원)\"].skew()"
   ]
  },
  {
   "cell_type": "code",
   "execution_count": 28,
   "metadata": {},
   "outputs": [
    {
     "data": {
      "text/plain": [
       "1520000"
      ]
     },
     "execution_count": 28,
     "metadata": {},
     "output_type": "execute_result"
    }
   ],
   "source": [
    "estate_new[\"보증금(원)\"].min()"
   ]
  },
  {
   "cell_type": "code",
   "execution_count": 29,
   "metadata": {},
   "outputs": [
    {
     "data": {
      "text/plain": [
       "2.6100486584323064"
      ]
     },
     "execution_count": 29,
     "metadata": {},
     "output_type": "execute_result"
    }
   ],
   "source": [
    "estate_new[\"월세(원)\"].skew()"
   ]
  },
  {
   "cell_type": "code",
   "execution_count": 30,
   "metadata": {},
   "outputs": [
    {
     "data": {
      "text/plain": [
       "31300"
      ]
     },
     "execution_count": 30,
     "metadata": {},
     "output_type": "execute_result"
    }
   ],
   "source": [
    "estate_new[\"월세(원)\"].min()"
   ]
  },
  {
   "cell_type": "code",
   "execution_count": 31,
   "metadata": {},
   "outputs": [],
   "source": [
    "# 모두 양수이므로, log1p 사용하지 않고 log 사용\n",
    "estate_new[\"보증금(원)_log\"] = np.log(estate_new[\"보증금(원)\"])\n",
    "estate_new[\"월세(원)_log\"] = np.log(estate_new[\"월세(원)\"])"
   ]
  },
  {
   "cell_type": "markdown",
   "metadata": {},
   "source": [
    "## 2-1 재계약 횟수의 중앙값을 기준으로 중앙값보다 크거나 같으면 '높음', 작으면 '낮음' 으로 재계약 횟수 이분 변수를 구성하시오."
   ]
  },
  {
   "cell_type": "code",
   "execution_count": 32,
   "metadata": {},
   "outputs": [],
   "source": [
    "estate_new[\"재계약빈도\"] = np.where(estate_new[\"재계약횟수\"]>=estate_new[\"재계약횟수\"].median(), '높음', '낮음')"
   ]
  },
  {
   "cell_type": "code",
   "execution_count": 33,
   "metadata": {},
   "outputs": [
    {
     "data": {
      "text/html": [
       "<div>\n",
       "<style scoped>\n",
       "    .dataframe tbody tr th:only-of-type {\n",
       "        vertical-align: middle;\n",
       "    }\n",
       "\n",
       "    .dataframe tbody tr th {\n",
       "        vertical-align: top;\n",
       "    }\n",
       "\n",
       "    .dataframe thead th {\n",
       "        text-align: right;\n",
       "    }\n",
       "</style>\n",
       "<table border=\"1\" class=\"dataframe\">\n",
       "  <thead>\n",
       "    <tr style=\"text-align: right;\">\n",
       "      <th></th>\n",
       "      <th>순번</th>\n",
       "      <th>계약구분</th>\n",
       "      <th>재계약횟수</th>\n",
       "      <th>거주개월</th>\n",
       "      <th>아파트 이름</th>\n",
       "      <th>아파트 ID</th>\n",
       "      <th>아파트 평점</th>\n",
       "      <th>호실고유번호</th>\n",
       "      <th>층</th>\n",
       "      <th>평형대</th>\n",
       "      <th>...</th>\n",
       "      <th>보증금(원)</th>\n",
       "      <th>대표나이</th>\n",
       "      <th>나이</th>\n",
       "      <th>성별</th>\n",
       "      <th>결혼여부</th>\n",
       "      <th>거주자 수</th>\n",
       "      <th>퇴거여부</th>\n",
       "      <th>보증금(원)_log</th>\n",
       "      <th>월세(원)_log</th>\n",
       "      <th>재계약빈도</th>\n",
       "    </tr>\n",
       "  </thead>\n",
       "  <tbody>\n",
       "    <tr>\n",
       "      <th>0</th>\n",
       "      <td>1</td>\n",
       "      <td>유효</td>\n",
       "      <td>10</td>\n",
       "      <td>222</td>\n",
       "      <td>강남아파트</td>\n",
       "      <td>5</td>\n",
       "      <td>7.0</td>\n",
       "      <td>14520</td>\n",
       "      <td>1</td>\n",
       "      <td>12</td>\n",
       "      <td>...</td>\n",
       "      <td>4375000</td>\n",
       "      <td>46</td>\n",
       "      <td>34</td>\n",
       "      <td>남</td>\n",
       "      <td>미혼</td>\n",
       "      <td>3</td>\n",
       "      <td>미퇴거</td>\n",
       "      <td>15.291417</td>\n",
       "      <td>10.941996</td>\n",
       "      <td>높음</td>\n",
       "    </tr>\n",
       "    <tr>\n",
       "      <th>1</th>\n",
       "      <td>1</td>\n",
       "      <td>유효</td>\n",
       "      <td>10</td>\n",
       "      <td>222</td>\n",
       "      <td>강남아파트</td>\n",
       "      <td>5</td>\n",
       "      <td>7.0</td>\n",
       "      <td>14520</td>\n",
       "      <td>1</td>\n",
       "      <td>12</td>\n",
       "      <td>...</td>\n",
       "      <td>6489000</td>\n",
       "      <td>46</td>\n",
       "      <td>39</td>\n",
       "      <td>남</td>\n",
       "      <td>미혼</td>\n",
       "      <td>3</td>\n",
       "      <td>미퇴거</td>\n",
       "      <td>15.685619</td>\n",
       "      <td>11.336188</td>\n",
       "      <td>높음</td>\n",
       "    </tr>\n",
       "    <tr>\n",
       "      <th>2</th>\n",
       "      <td>2</td>\n",
       "      <td>해지</td>\n",
       "      <td>5</td>\n",
       "      <td>108</td>\n",
       "      <td>강남아파트</td>\n",
       "      <td>5</td>\n",
       "      <td>7.0</td>\n",
       "      <td>14546</td>\n",
       "      <td>1</td>\n",
       "      <td>12</td>\n",
       "      <td>...</td>\n",
       "      <td>4375000</td>\n",
       "      <td>68</td>\n",
       "      <td>56</td>\n",
       "      <td>여</td>\n",
       "      <td>미혼</td>\n",
       "      <td>1</td>\n",
       "      <td>미퇴거</td>\n",
       "      <td>15.291417</td>\n",
       "      <td>10.941996</td>\n",
       "      <td>낮음</td>\n",
       "    </tr>\n",
       "    <tr>\n",
       "      <th>3</th>\n",
       "      <td>5</td>\n",
       "      <td>유효</td>\n",
       "      <td>10</td>\n",
       "      <td>222</td>\n",
       "      <td>강남아파트</td>\n",
       "      <td>5</td>\n",
       "      <td>7.0</td>\n",
       "      <td>14572</td>\n",
       "      <td>1</td>\n",
       "      <td>15</td>\n",
       "      <td>...</td>\n",
       "      <td>3553000</td>\n",
       "      <td>77</td>\n",
       "      <td>65</td>\n",
       "      <td>여</td>\n",
       "      <td>미혼</td>\n",
       "      <td>2</td>\n",
       "      <td>미퇴거</td>\n",
       "      <td>15.083303</td>\n",
       "      <td>10.845446</td>\n",
       "      <td>높음</td>\n",
       "    </tr>\n",
       "    <tr>\n",
       "      <th>4</th>\n",
       "      <td>6</td>\n",
       "      <td>유효</td>\n",
       "      <td>10</td>\n",
       "      <td>222</td>\n",
       "      <td>강남아파트</td>\n",
       "      <td>5</td>\n",
       "      <td>7.0</td>\n",
       "      <td>14598</td>\n",
       "      <td>1</td>\n",
       "      <td>15</td>\n",
       "      <td>...</td>\n",
       "      <td>3553000</td>\n",
       "      <td>73</td>\n",
       "      <td>61</td>\n",
       "      <td>남</td>\n",
       "      <td>미혼</td>\n",
       "      <td>3</td>\n",
       "      <td>미퇴거</td>\n",
       "      <td>15.083303</td>\n",
       "      <td>10.845446</td>\n",
       "      <td>높음</td>\n",
       "    </tr>\n",
       "    <tr>\n",
       "      <th>...</th>\n",
       "      <td>...</td>\n",
       "      <td>...</td>\n",
       "      <td>...</td>\n",
       "      <td>...</td>\n",
       "      <td>...</td>\n",
       "      <td>...</td>\n",
       "      <td>...</td>\n",
       "      <td>...</td>\n",
       "      <td>...</td>\n",
       "      <td>...</td>\n",
       "      <td>...</td>\n",
       "      <td>...</td>\n",
       "      <td>...</td>\n",
       "      <td>...</td>\n",
       "      <td>...</td>\n",
       "      <td>...</td>\n",
       "      <td>...</td>\n",
       "      <td>...</td>\n",
       "      <td>...</td>\n",
       "      <td>...</td>\n",
       "      <td>...</td>\n",
       "    </tr>\n",
       "    <tr>\n",
       "      <th>10343</th>\n",
       "      <td>12880</td>\n",
       "      <td>유효</td>\n",
       "      <td>9</td>\n",
       "      <td>236</td>\n",
       "      <td>지산5단지아파트</td>\n",
       "      <td>3</td>\n",
       "      <td>8.0</td>\n",
       "      <td>86865</td>\n",
       "      <td>14</td>\n",
       "      <td>15</td>\n",
       "      <td>...</td>\n",
       "      <td>2082000</td>\n",
       "      <td>60</td>\n",
       "      <td>49</td>\n",
       "      <td>남</td>\n",
       "      <td>미혼</td>\n",
       "      <td>1</td>\n",
       "      <td>미퇴거</td>\n",
       "      <td>14.548840</td>\n",
       "      <td>10.589106</td>\n",
       "      <td>높음</td>\n",
       "    </tr>\n",
       "    <tr>\n",
       "      <th>10344</th>\n",
       "      <td>12880</td>\n",
       "      <td>유효</td>\n",
       "      <td>9</td>\n",
       "      <td>236</td>\n",
       "      <td>지산5단지아파트</td>\n",
       "      <td>3</td>\n",
       "      <td>8.0</td>\n",
       "      <td>86865</td>\n",
       "      <td>14</td>\n",
       "      <td>15</td>\n",
       "      <td>...</td>\n",
       "      <td>2082000</td>\n",
       "      <td>60</td>\n",
       "      <td>50</td>\n",
       "      <td>남</td>\n",
       "      <td>미혼</td>\n",
       "      <td>1</td>\n",
       "      <td>미퇴거</td>\n",
       "      <td>14.548840</td>\n",
       "      <td>10.589106</td>\n",
       "      <td>높음</td>\n",
       "    </tr>\n",
       "    <tr>\n",
       "      <th>10345</th>\n",
       "      <td>12880</td>\n",
       "      <td>유효</td>\n",
       "      <td>9</td>\n",
       "      <td>236</td>\n",
       "      <td>지산5단지아파트</td>\n",
       "      <td>3</td>\n",
       "      <td>8.0</td>\n",
       "      <td>86865</td>\n",
       "      <td>14</td>\n",
       "      <td>15</td>\n",
       "      <td>...</td>\n",
       "      <td>2144000</td>\n",
       "      <td>60</td>\n",
       "      <td>51</td>\n",
       "      <td>남</td>\n",
       "      <td>미혼</td>\n",
       "      <td>1</td>\n",
       "      <td>미퇴거</td>\n",
       "      <td>14.578184</td>\n",
       "      <td>10.618885</td>\n",
       "      <td>높음</td>\n",
       "    </tr>\n",
       "    <tr>\n",
       "      <th>10346</th>\n",
       "      <td>12881</td>\n",
       "      <td>유효</td>\n",
       "      <td>11</td>\n",
       "      <td>310</td>\n",
       "      <td>지산5단지아파트</td>\n",
       "      <td>3</td>\n",
       "      <td>8.0</td>\n",
       "      <td>86878</td>\n",
       "      <td>14</td>\n",
       "      <td>19</td>\n",
       "      <td>...</td>\n",
       "      <td>6888000</td>\n",
       "      <td>68</td>\n",
       "      <td>57</td>\n",
       "      <td>남</td>\n",
       "      <td>미혼</td>\n",
       "      <td>2</td>\n",
       "      <td>미퇴거</td>\n",
       "      <td>15.745291</td>\n",
       "      <td>11.394142</td>\n",
       "      <td>높음</td>\n",
       "    </tr>\n",
       "    <tr>\n",
       "      <th>10347</th>\n",
       "      <td>12882</td>\n",
       "      <td>해지</td>\n",
       "      <td>8</td>\n",
       "      <td>180</td>\n",
       "      <td>지산5단지아파트</td>\n",
       "      <td>3</td>\n",
       "      <td>8.0</td>\n",
       "      <td>86891</td>\n",
       "      <td>14</td>\n",
       "      <td>15</td>\n",
       "      <td>...</td>\n",
       "      <td>2082000</td>\n",
       "      <td>60</td>\n",
       "      <td>49</td>\n",
       "      <td>남</td>\n",
       "      <td>기혼</td>\n",
       "      <td>2</td>\n",
       "      <td>미퇴거</td>\n",
       "      <td>14.548840</td>\n",
       "      <td>10.589106</td>\n",
       "      <td>높음</td>\n",
       "    </tr>\n",
       "  </tbody>\n",
       "</table>\n",
       "<p>10348 rows × 25 columns</p>\n",
       "</div>"
      ],
      "text/plain": [
       "          순번 계약구분  재계약횟수  거주개월    아파트 이름  아파트 ID  아파트 평점  호실고유번호   층  평형대  \\\n",
       "0          1   유효     10   222     강남아파트       5     7.0   14520   1   12   \n",
       "1          1   유효     10   222     강남아파트       5     7.0   14520   1   12   \n",
       "2          2   해지      5   108     강남아파트       5     7.0   14546   1   12   \n",
       "3          5   유효     10   222     강남아파트       5     7.0   14572   1   15   \n",
       "4          6   유효     10   222     강남아파트       5     7.0   14598   1   15   \n",
       "...      ...  ...    ...   ...       ...     ...     ...     ...  ..  ...   \n",
       "10343  12880   유효      9   236  지산5단지아파트       3     8.0   86865  14   15   \n",
       "10344  12880   유효      9   236  지산5단지아파트       3     8.0   86865  14   15   \n",
       "10345  12880   유효      9   236  지산5단지아파트       3     8.0   86865  14   15   \n",
       "10346  12881   유효     11   310  지산5단지아파트       3     8.0   86878  14   19   \n",
       "10347  12882   해지      8   180  지산5단지아파트       3     8.0   86891  14   15   \n",
       "\n",
       "       ...   보증금(원)  대표나이  나이  성별  결혼여부  거주자 수  퇴거여부  보증금(원)_log  월세(원)_log  \\\n",
       "0      ...  4375000    46  34   남    미혼      3   미퇴거   15.291417  10.941996   \n",
       "1      ...  6489000    46  39   남    미혼      3   미퇴거   15.685619  11.336188   \n",
       "2      ...  4375000    68  56   여    미혼      1   미퇴거   15.291417  10.941996   \n",
       "3      ...  3553000    77  65   여    미혼      2   미퇴거   15.083303  10.845446   \n",
       "4      ...  3553000    73  61   남    미혼      3   미퇴거   15.083303  10.845446   \n",
       "...    ...      ...   ...  ..  ..   ...    ...   ...         ...        ...   \n",
       "10343  ...  2082000    60  49   남    미혼      1   미퇴거   14.548840  10.589106   \n",
       "10344  ...  2082000    60  50   남    미혼      1   미퇴거   14.548840  10.589106   \n",
       "10345  ...  2144000    60  51   남    미혼      1   미퇴거   14.578184  10.618885   \n",
       "10346  ...  6888000    68  57   남    미혼      2   미퇴거   15.745291  11.394142   \n",
       "10347  ...  2082000    60  49   남    기혼      2   미퇴거   14.548840  10.589106   \n",
       "\n",
       "      재계약빈도  \n",
       "0        높음  \n",
       "1        높음  \n",
       "2        낮음  \n",
       "3        높음  \n",
       "4        높음  \n",
       "...     ...  \n",
       "10343    높음  \n",
       "10344    높음  \n",
       "10345    높음  \n",
       "10346    높음  \n",
       "10347    높음  \n",
       "\n",
       "[10348 rows x 25 columns]"
      ]
     },
     "execution_count": 33,
     "metadata": {},
     "output_type": "execute_result"
    }
   ],
   "source": [
    "estate_new"
   ]
  },
  {
   "cell_type": "code",
   "execution_count": 34,
   "metadata": {},
   "outputs": [],
   "source": [
    "### Label encoding\n",
    "from sklearn.preprocessing import LabelEncoder"
   ]
  },
  {
   "cell_type": "code",
   "execution_count": 35,
   "metadata": {},
   "outputs": [],
   "source": [
    "cat_list = ['계약구분', '성별', '결혼여부', '퇴거여부', \"아파트 ID\", '재계약빈도']\n",
    "for col in cat_list:\n",
    "    encoder = LabelEncoder()\n",
    "    encoder.fit(estate_new[col])\n",
    "    estate_new[col] = encoder.transform(estate_new[col])"
   ]
  },
  {
   "cell_type": "code",
   "execution_count": 36,
   "metadata": {},
   "outputs": [
    {
     "data": {
      "text/html": [
       "<div>\n",
       "<style scoped>\n",
       "    .dataframe tbody tr th:only-of-type {\n",
       "        vertical-align: middle;\n",
       "    }\n",
       "\n",
       "    .dataframe tbody tr th {\n",
       "        vertical-align: top;\n",
       "    }\n",
       "\n",
       "    .dataframe thead th {\n",
       "        text-align: right;\n",
       "    }\n",
       "</style>\n",
       "<table border=\"1\" class=\"dataframe\">\n",
       "  <thead>\n",
       "    <tr style=\"text-align: right;\">\n",
       "      <th></th>\n",
       "      <th>순번</th>\n",
       "      <th>계약구분</th>\n",
       "      <th>재계약횟수</th>\n",
       "      <th>거주개월</th>\n",
       "      <th>아파트 이름</th>\n",
       "      <th>아파트 ID</th>\n",
       "      <th>아파트 평점</th>\n",
       "      <th>호실고유번호</th>\n",
       "      <th>층</th>\n",
       "      <th>평형대</th>\n",
       "      <th>...</th>\n",
       "      <th>보증금(원)</th>\n",
       "      <th>대표나이</th>\n",
       "      <th>나이</th>\n",
       "      <th>성별</th>\n",
       "      <th>결혼여부</th>\n",
       "      <th>거주자 수</th>\n",
       "      <th>퇴거여부</th>\n",
       "      <th>보증금(원)_log</th>\n",
       "      <th>월세(원)_log</th>\n",
       "      <th>재계약빈도</th>\n",
       "    </tr>\n",
       "  </thead>\n",
       "  <tbody>\n",
       "    <tr>\n",
       "      <th>0</th>\n",
       "      <td>1</td>\n",
       "      <td>0</td>\n",
       "      <td>10</td>\n",
       "      <td>222</td>\n",
       "      <td>강남아파트</td>\n",
       "      <td>4</td>\n",
       "      <td>7.0</td>\n",
       "      <td>14520</td>\n",
       "      <td>1</td>\n",
       "      <td>12</td>\n",
       "      <td>...</td>\n",
       "      <td>4375000</td>\n",
       "      <td>46</td>\n",
       "      <td>34</td>\n",
       "      <td>0</td>\n",
       "      <td>1</td>\n",
       "      <td>3</td>\n",
       "      <td>0</td>\n",
       "      <td>15.291417</td>\n",
       "      <td>10.941996</td>\n",
       "      <td>1</td>\n",
       "    </tr>\n",
       "    <tr>\n",
       "      <th>1</th>\n",
       "      <td>1</td>\n",
       "      <td>0</td>\n",
       "      <td>10</td>\n",
       "      <td>222</td>\n",
       "      <td>강남아파트</td>\n",
       "      <td>4</td>\n",
       "      <td>7.0</td>\n",
       "      <td>14520</td>\n",
       "      <td>1</td>\n",
       "      <td>12</td>\n",
       "      <td>...</td>\n",
       "      <td>6489000</td>\n",
       "      <td>46</td>\n",
       "      <td>39</td>\n",
       "      <td>0</td>\n",
       "      <td>1</td>\n",
       "      <td>3</td>\n",
       "      <td>0</td>\n",
       "      <td>15.685619</td>\n",
       "      <td>11.336188</td>\n",
       "      <td>1</td>\n",
       "    </tr>\n",
       "    <tr>\n",
       "      <th>2</th>\n",
       "      <td>2</td>\n",
       "      <td>1</td>\n",
       "      <td>5</td>\n",
       "      <td>108</td>\n",
       "      <td>강남아파트</td>\n",
       "      <td>4</td>\n",
       "      <td>7.0</td>\n",
       "      <td>14546</td>\n",
       "      <td>1</td>\n",
       "      <td>12</td>\n",
       "      <td>...</td>\n",
       "      <td>4375000</td>\n",
       "      <td>68</td>\n",
       "      <td>56</td>\n",
       "      <td>1</td>\n",
       "      <td>1</td>\n",
       "      <td>1</td>\n",
       "      <td>0</td>\n",
       "      <td>15.291417</td>\n",
       "      <td>10.941996</td>\n",
       "      <td>0</td>\n",
       "    </tr>\n",
       "    <tr>\n",
       "      <th>3</th>\n",
       "      <td>5</td>\n",
       "      <td>0</td>\n",
       "      <td>10</td>\n",
       "      <td>222</td>\n",
       "      <td>강남아파트</td>\n",
       "      <td>4</td>\n",
       "      <td>7.0</td>\n",
       "      <td>14572</td>\n",
       "      <td>1</td>\n",
       "      <td>15</td>\n",
       "      <td>...</td>\n",
       "      <td>3553000</td>\n",
       "      <td>77</td>\n",
       "      <td>65</td>\n",
       "      <td>1</td>\n",
       "      <td>1</td>\n",
       "      <td>2</td>\n",
       "      <td>0</td>\n",
       "      <td>15.083303</td>\n",
       "      <td>10.845446</td>\n",
       "      <td>1</td>\n",
       "    </tr>\n",
       "    <tr>\n",
       "      <th>4</th>\n",
       "      <td>6</td>\n",
       "      <td>0</td>\n",
       "      <td>10</td>\n",
       "      <td>222</td>\n",
       "      <td>강남아파트</td>\n",
       "      <td>4</td>\n",
       "      <td>7.0</td>\n",
       "      <td>14598</td>\n",
       "      <td>1</td>\n",
       "      <td>15</td>\n",
       "      <td>...</td>\n",
       "      <td>3553000</td>\n",
       "      <td>73</td>\n",
       "      <td>61</td>\n",
       "      <td>0</td>\n",
       "      <td>1</td>\n",
       "      <td>3</td>\n",
       "      <td>0</td>\n",
       "      <td>15.083303</td>\n",
       "      <td>10.845446</td>\n",
       "      <td>1</td>\n",
       "    </tr>\n",
       "    <tr>\n",
       "      <th>...</th>\n",
       "      <td>...</td>\n",
       "      <td>...</td>\n",
       "      <td>...</td>\n",
       "      <td>...</td>\n",
       "      <td>...</td>\n",
       "      <td>...</td>\n",
       "      <td>...</td>\n",
       "      <td>...</td>\n",
       "      <td>...</td>\n",
       "      <td>...</td>\n",
       "      <td>...</td>\n",
       "      <td>...</td>\n",
       "      <td>...</td>\n",
       "      <td>...</td>\n",
       "      <td>...</td>\n",
       "      <td>...</td>\n",
       "      <td>...</td>\n",
       "      <td>...</td>\n",
       "      <td>...</td>\n",
       "      <td>...</td>\n",
       "      <td>...</td>\n",
       "    </tr>\n",
       "    <tr>\n",
       "      <th>10343</th>\n",
       "      <td>12880</td>\n",
       "      <td>0</td>\n",
       "      <td>9</td>\n",
       "      <td>236</td>\n",
       "      <td>지산5단지아파트</td>\n",
       "      <td>2</td>\n",
       "      <td>8.0</td>\n",
       "      <td>86865</td>\n",
       "      <td>14</td>\n",
       "      <td>15</td>\n",
       "      <td>...</td>\n",
       "      <td>2082000</td>\n",
       "      <td>60</td>\n",
       "      <td>49</td>\n",
       "      <td>0</td>\n",
       "      <td>1</td>\n",
       "      <td>1</td>\n",
       "      <td>0</td>\n",
       "      <td>14.548840</td>\n",
       "      <td>10.589106</td>\n",
       "      <td>1</td>\n",
       "    </tr>\n",
       "    <tr>\n",
       "      <th>10344</th>\n",
       "      <td>12880</td>\n",
       "      <td>0</td>\n",
       "      <td>9</td>\n",
       "      <td>236</td>\n",
       "      <td>지산5단지아파트</td>\n",
       "      <td>2</td>\n",
       "      <td>8.0</td>\n",
       "      <td>86865</td>\n",
       "      <td>14</td>\n",
       "      <td>15</td>\n",
       "      <td>...</td>\n",
       "      <td>2082000</td>\n",
       "      <td>60</td>\n",
       "      <td>50</td>\n",
       "      <td>0</td>\n",
       "      <td>1</td>\n",
       "      <td>1</td>\n",
       "      <td>0</td>\n",
       "      <td>14.548840</td>\n",
       "      <td>10.589106</td>\n",
       "      <td>1</td>\n",
       "    </tr>\n",
       "    <tr>\n",
       "      <th>10345</th>\n",
       "      <td>12880</td>\n",
       "      <td>0</td>\n",
       "      <td>9</td>\n",
       "      <td>236</td>\n",
       "      <td>지산5단지아파트</td>\n",
       "      <td>2</td>\n",
       "      <td>8.0</td>\n",
       "      <td>86865</td>\n",
       "      <td>14</td>\n",
       "      <td>15</td>\n",
       "      <td>...</td>\n",
       "      <td>2144000</td>\n",
       "      <td>60</td>\n",
       "      <td>51</td>\n",
       "      <td>0</td>\n",
       "      <td>1</td>\n",
       "      <td>1</td>\n",
       "      <td>0</td>\n",
       "      <td>14.578184</td>\n",
       "      <td>10.618885</td>\n",
       "      <td>1</td>\n",
       "    </tr>\n",
       "    <tr>\n",
       "      <th>10346</th>\n",
       "      <td>12881</td>\n",
       "      <td>0</td>\n",
       "      <td>11</td>\n",
       "      <td>310</td>\n",
       "      <td>지산5단지아파트</td>\n",
       "      <td>2</td>\n",
       "      <td>8.0</td>\n",
       "      <td>86878</td>\n",
       "      <td>14</td>\n",
       "      <td>19</td>\n",
       "      <td>...</td>\n",
       "      <td>6888000</td>\n",
       "      <td>68</td>\n",
       "      <td>57</td>\n",
       "      <td>0</td>\n",
       "      <td>1</td>\n",
       "      <td>2</td>\n",
       "      <td>0</td>\n",
       "      <td>15.745291</td>\n",
       "      <td>11.394142</td>\n",
       "      <td>1</td>\n",
       "    </tr>\n",
       "    <tr>\n",
       "      <th>10347</th>\n",
       "      <td>12882</td>\n",
       "      <td>1</td>\n",
       "      <td>8</td>\n",
       "      <td>180</td>\n",
       "      <td>지산5단지아파트</td>\n",
       "      <td>2</td>\n",
       "      <td>8.0</td>\n",
       "      <td>86891</td>\n",
       "      <td>14</td>\n",
       "      <td>15</td>\n",
       "      <td>...</td>\n",
       "      <td>2082000</td>\n",
       "      <td>60</td>\n",
       "      <td>49</td>\n",
       "      <td>0</td>\n",
       "      <td>0</td>\n",
       "      <td>2</td>\n",
       "      <td>0</td>\n",
       "      <td>14.548840</td>\n",
       "      <td>10.589106</td>\n",
       "      <td>1</td>\n",
       "    </tr>\n",
       "  </tbody>\n",
       "</table>\n",
       "<p>10348 rows × 25 columns</p>\n",
       "</div>"
      ],
      "text/plain": [
       "          순번  계약구분  재계약횟수  거주개월    아파트 이름  아파트 ID  아파트 평점  호실고유번호   층  평형대  \\\n",
       "0          1     0     10   222     강남아파트       4     7.0   14520   1   12   \n",
       "1          1     0     10   222     강남아파트       4     7.0   14520   1   12   \n",
       "2          2     1      5   108     강남아파트       4     7.0   14546   1   12   \n",
       "3          5     0     10   222     강남아파트       4     7.0   14572   1   15   \n",
       "4          6     0     10   222     강남아파트       4     7.0   14598   1   15   \n",
       "...      ...   ...    ...   ...       ...     ...     ...     ...  ..  ...   \n",
       "10343  12880     0      9   236  지산5단지아파트       2     8.0   86865  14   15   \n",
       "10344  12880     0      9   236  지산5단지아파트       2     8.0   86865  14   15   \n",
       "10345  12880     0      9   236  지산5단지아파트       2     8.0   86865  14   15   \n",
       "10346  12881     0     11   310  지산5단지아파트       2     8.0   86878  14   19   \n",
       "10347  12882     1      8   180  지산5단지아파트       2     8.0   86891  14   15   \n",
       "\n",
       "       ...   보증금(원)  대표나이  나이  성별  결혼여부  거주자 수  퇴거여부  보증금(원)_log  월세(원)_log  \\\n",
       "0      ...  4375000    46  34   0     1      3     0   15.291417  10.941996   \n",
       "1      ...  6489000    46  39   0     1      3     0   15.685619  11.336188   \n",
       "2      ...  4375000    68  56   1     1      1     0   15.291417  10.941996   \n",
       "3      ...  3553000    77  65   1     1      2     0   15.083303  10.845446   \n",
       "4      ...  3553000    73  61   0     1      3     0   15.083303  10.845446   \n",
       "...    ...      ...   ...  ..  ..   ...    ...   ...         ...        ...   \n",
       "10343  ...  2082000    60  49   0     1      1     0   14.548840  10.589106   \n",
       "10344  ...  2082000    60  50   0     1      1     0   14.548840  10.589106   \n",
       "10345  ...  2144000    60  51   0     1      1     0   14.578184  10.618885   \n",
       "10346  ...  6888000    68  57   0     1      2     0   15.745291  11.394142   \n",
       "10347  ...  2082000    60  49   0     0      2     0   14.548840  10.589106   \n",
       "\n",
       "       재계약빈도  \n",
       "0          1  \n",
       "1          1  \n",
       "2          0  \n",
       "3          1  \n",
       "4          1  \n",
       "...      ...  \n",
       "10343      1  \n",
       "10344      1  \n",
       "10345      1  \n",
       "10346      1  \n",
       "10347      1  \n",
       "\n",
       "[10348 rows x 25 columns]"
      ]
     },
     "execution_count": 36,
     "metadata": {},
     "output_type": "execute_result"
    }
   ],
   "source": [
    "estate_new"
   ]
  },
  {
   "cell_type": "markdown",
   "metadata": {},
   "source": [
    "## 2-2 차원축소의 필요성을 논하고, 필요에 따라 차원을 축소하고 불필요하다면 그 근거를 논하시오.\n",
    "- 분석과 관련 없는 변수들 제거\n",
    "- 상관성이 높은 변수가 보임. 상관성이 높은 일부 변수 제거\n",
    "- 보증금과 월세는 상관성이 높으나, 둘 다 중요한 변수로 판단되므로 일단 hold\n",
    "- 나이변수 삭제 (대표나이 변수로 대체)"
   ]
  },
  {
   "cell_type": "code",
   "execution_count": 37,
   "metadata": {},
   "outputs": [],
   "source": [
    "estate_new = estate_new.drop([\"순번\", \"아파트 이름\", \"호실고유번호\", \"계약자고유번호\", \"계약서고유번호\", \"월세(원)\", \"보증금(원)\"], axis=1) # 불필요 변수 제거"
   ]
  },
  {
   "cell_type": "code",
   "execution_count": 38,
   "metadata": {},
   "outputs": [
    {
     "data": {
      "text/html": [
       "<div>\n",
       "<style scoped>\n",
       "    .dataframe tbody tr th:only-of-type {\n",
       "        vertical-align: middle;\n",
       "    }\n",
       "\n",
       "    .dataframe tbody tr th {\n",
       "        vertical-align: top;\n",
       "    }\n",
       "\n",
       "    .dataframe thead th {\n",
       "        text-align: right;\n",
       "    }\n",
       "</style>\n",
       "<table border=\"1\" class=\"dataframe\">\n",
       "  <thead>\n",
       "    <tr style=\"text-align: right;\">\n",
       "      <th></th>\n",
       "      <th>거주개월</th>\n",
       "      <th>아파트 평점</th>\n",
       "      <th>층</th>\n",
       "      <th>평형대</th>\n",
       "      <th>입주연도</th>\n",
       "      <th>거주연도</th>\n",
       "      <th>대표나이</th>\n",
       "      <th>나이</th>\n",
       "      <th>거주자 수</th>\n",
       "      <th>보증금(원)_log</th>\n",
       "      <th>월세(원)_log</th>\n",
       "    </tr>\n",
       "  </thead>\n",
       "  <tbody>\n",
       "    <tr>\n",
       "      <th>거주개월</th>\n",
       "      <td>1.000000</td>\n",
       "      <td>0.038385</td>\n",
       "      <td>-0.003558</td>\n",
       "      <td>0.049238</td>\n",
       "      <td>-0.842073</td>\n",
       "      <td>-0.103731</td>\n",
       "      <td>0.212419</td>\n",
       "      <td>0.178983</td>\n",
       "      <td>-0.078174</td>\n",
       "      <td>0.259335</td>\n",
       "      <td>0.244192</td>\n",
       "    </tr>\n",
       "    <tr>\n",
       "      <th>아파트 평점</th>\n",
       "      <td>0.038385</td>\n",
       "      <td>1.000000</td>\n",
       "      <td>0.011419</td>\n",
       "      <td>0.228659</td>\n",
       "      <td>-0.021588</td>\n",
       "      <td>-0.014033</td>\n",
       "      <td>0.025929</td>\n",
       "      <td>0.021271</td>\n",
       "      <td>0.075970</td>\n",
       "      <td>0.107271</td>\n",
       "      <td>0.167217</td>\n",
       "    </tr>\n",
       "    <tr>\n",
       "      <th>층</th>\n",
       "      <td>-0.003558</td>\n",
       "      <td>0.011419</td>\n",
       "      <td>1.000000</td>\n",
       "      <td>0.016108</td>\n",
       "      <td>0.012223</td>\n",
       "      <td>-0.007412</td>\n",
       "      <td>-0.048896</td>\n",
       "      <td>-0.049948</td>\n",
       "      <td>0.024282</td>\n",
       "      <td>0.023085</td>\n",
       "      <td>0.057402</td>\n",
       "    </tr>\n",
       "    <tr>\n",
       "      <th>평형대</th>\n",
       "      <td>0.049238</td>\n",
       "      <td>0.228659</td>\n",
       "      <td>0.016108</td>\n",
       "      <td>1.000000</td>\n",
       "      <td>-0.032660</td>\n",
       "      <td>0.016540</td>\n",
       "      <td>-0.034352</td>\n",
       "      <td>-0.029298</td>\n",
       "      <td>0.320771</td>\n",
       "      <td>0.382681</td>\n",
       "      <td>0.479927</td>\n",
       "    </tr>\n",
       "    <tr>\n",
       "      <th>입주연도</th>\n",
       "      <td>-0.842073</td>\n",
       "      <td>-0.021588</td>\n",
       "      <td>0.012223</td>\n",
       "      <td>-0.032660</td>\n",
       "      <td>1.000000</td>\n",
       "      <td>0.341347</td>\n",
       "      <td>-0.226027</td>\n",
       "      <td>-0.125958</td>\n",
       "      <td>-0.003254</td>\n",
       "      <td>-0.272697</td>\n",
       "      <td>-0.238469</td>\n",
       "    </tr>\n",
       "    <tr>\n",
       "      <th>거주연도</th>\n",
       "      <td>-0.103731</td>\n",
       "      <td>-0.014033</td>\n",
       "      <td>-0.007412</td>\n",
       "      <td>0.016540</td>\n",
       "      <td>0.341347</td>\n",
       "      <td>1.000000</td>\n",
       "      <td>-0.083323</td>\n",
       "      <td>0.199598</td>\n",
       "      <td>-0.063717</td>\n",
       "      <td>0.110855</td>\n",
       "      <td>0.172678</td>\n",
       "    </tr>\n",
       "    <tr>\n",
       "      <th>대표나이</th>\n",
       "      <td>0.212419</td>\n",
       "      <td>0.025929</td>\n",
       "      <td>-0.048896</td>\n",
       "      <td>-0.034352</td>\n",
       "      <td>-0.226027</td>\n",
       "      <td>-0.083323</td>\n",
       "      <td>1.000000</td>\n",
       "      <td>0.959746</td>\n",
       "      <td>-0.161432</td>\n",
       "      <td>0.059663</td>\n",
       "      <td>0.053308</td>\n",
       "    </tr>\n",
       "    <tr>\n",
       "      <th>나이</th>\n",
       "      <td>0.178983</td>\n",
       "      <td>0.021271</td>\n",
       "      <td>-0.049948</td>\n",
       "      <td>-0.029298</td>\n",
       "      <td>-0.125958</td>\n",
       "      <td>0.199598</td>\n",
       "      <td>0.959746</td>\n",
       "      <td>1.000000</td>\n",
       "      <td>-0.176508</td>\n",
       "      <td>0.089726</td>\n",
       "      <td>0.100952</td>\n",
       "    </tr>\n",
       "    <tr>\n",
       "      <th>거주자 수</th>\n",
       "      <td>-0.078174</td>\n",
       "      <td>0.075970</td>\n",
       "      <td>0.024282</td>\n",
       "      <td>0.320771</td>\n",
       "      <td>-0.003254</td>\n",
       "      <td>-0.063717</td>\n",
       "      <td>-0.161432</td>\n",
       "      <td>-0.176508</td>\n",
       "      <td>1.000000</td>\n",
       "      <td>0.171661</td>\n",
       "      <td>0.197204</td>\n",
       "    </tr>\n",
       "    <tr>\n",
       "      <th>보증금(원)_log</th>\n",
       "      <td>0.259335</td>\n",
       "      <td>0.107271</td>\n",
       "      <td>0.023085</td>\n",
       "      <td>0.382681</td>\n",
       "      <td>-0.272697</td>\n",
       "      <td>0.110855</td>\n",
       "      <td>0.059663</td>\n",
       "      <td>0.089726</td>\n",
       "      <td>0.171661</td>\n",
       "      <td>1.000000</td>\n",
       "      <td>0.961402</td>\n",
       "    </tr>\n",
       "    <tr>\n",
       "      <th>월세(원)_log</th>\n",
       "      <td>0.244192</td>\n",
       "      <td>0.167217</td>\n",
       "      <td>0.057402</td>\n",
       "      <td>0.479927</td>\n",
       "      <td>-0.238469</td>\n",
       "      <td>0.172678</td>\n",
       "      <td>0.053308</td>\n",
       "      <td>0.100952</td>\n",
       "      <td>0.197204</td>\n",
       "      <td>0.961402</td>\n",
       "      <td>1.000000</td>\n",
       "    </tr>\n",
       "  </tbody>\n",
       "</table>\n",
       "</div>"
      ],
      "text/plain": [
       "                거주개월    아파트 평점         층       평형대      입주연도      거주연도  \\\n",
       "거주개월        1.000000  0.038385 -0.003558  0.049238 -0.842073 -0.103731   \n",
       "아파트 평점      0.038385  1.000000  0.011419  0.228659 -0.021588 -0.014033   \n",
       "층          -0.003558  0.011419  1.000000  0.016108  0.012223 -0.007412   \n",
       "평형대         0.049238  0.228659  0.016108  1.000000 -0.032660  0.016540   \n",
       "입주연도       -0.842073 -0.021588  0.012223 -0.032660  1.000000  0.341347   \n",
       "거주연도       -0.103731 -0.014033 -0.007412  0.016540  0.341347  1.000000   \n",
       "대표나이        0.212419  0.025929 -0.048896 -0.034352 -0.226027 -0.083323   \n",
       "나이          0.178983  0.021271 -0.049948 -0.029298 -0.125958  0.199598   \n",
       "거주자 수      -0.078174  0.075970  0.024282  0.320771 -0.003254 -0.063717   \n",
       "보증금(원)_log  0.259335  0.107271  0.023085  0.382681 -0.272697  0.110855   \n",
       "월세(원)_log   0.244192  0.167217  0.057402  0.479927 -0.238469  0.172678   \n",
       "\n",
       "                대표나이        나이     거주자 수  보증금(원)_log  월세(원)_log  \n",
       "거주개월        0.212419  0.178983 -0.078174    0.259335   0.244192  \n",
       "아파트 평점      0.025929  0.021271  0.075970    0.107271   0.167217  \n",
       "층          -0.048896 -0.049948  0.024282    0.023085   0.057402  \n",
       "평형대        -0.034352 -0.029298  0.320771    0.382681   0.479927  \n",
       "입주연도       -0.226027 -0.125958 -0.003254   -0.272697  -0.238469  \n",
       "거주연도       -0.083323  0.199598 -0.063717    0.110855   0.172678  \n",
       "대표나이        1.000000  0.959746 -0.161432    0.059663   0.053308  \n",
       "나이          0.959746  1.000000 -0.176508    0.089726   0.100952  \n",
       "거주자 수      -0.161432 -0.176508  1.000000    0.171661   0.197204  \n",
       "보증금(원)_log  0.059663  0.089726  0.171661    1.000000   0.961402  \n",
       "월세(원)_log   0.053308  0.100952  0.197204    0.961402   1.000000  "
      ]
     },
     "execution_count": 38,
     "metadata": {},
     "output_type": "execute_result"
    }
   ],
   "source": [
    "estate_new.drop(cat_list + [\"재계약횟수\"], axis=1).corr() "
   ]
  },
  {
   "cell_type": "code",
   "execution_count": 39,
   "metadata": {},
   "outputs": [
    {
     "data": {
      "text/plain": [
       "<Axes: >"
      ]
     },
     "execution_count": 39,
     "metadata": {},
     "output_type": "execute_result"
    },
    {
     "data": {
      "image/png": "[encoded data removed]",
      "text/plain": [
       "<Figure size 640x480 with 2 Axes>"
      ]
     },
     "metadata": {},
     "output_type": "display_data"
    }
   ],
   "source": [
    "sns.heatmap(estate_new.drop(cat_list + [\"재계약횟수\"], axis=1).corr()) # 종속변수와 일부 문자형 데이터를 제외하고 상관성 확인"
   ]
  },
  {
   "cell_type": "code",
   "execution_count": 44,
   "metadata": {},
   "outputs": [
    {
     "ename": "AttributeError",
     "evalue": "'list' object has no attribute 'difference'",
     "output_type": "error",
     "traceback": [
      "\u001b[0;31m---------------------------------------------------------------------------\u001b[0m",
      "\u001b[0;31mAttributeError\u001b[0m                            Traceback (most recent call last)",
      "Cell \u001b[0;32mIn[44], line 3\u001b[0m\n\u001b[1;32m      1\u001b[0m \u001b[38;5;66;03m# 범주형 변수들의 상관성 확인\u001b[39;00m\n\u001b[1;32m      2\u001b[0m \u001b[38;5;66;03m# 일부 상관성이 보이는 변수들이 있으나, 크지는 않은 편\u001b[39;00m\n\u001b[0;32m----> 3\u001b[0m sns\u001b[38;5;241m.\u001b[39mheatmap(estate_new\u001b[38;5;241m.\u001b[39mloc[:, \u001b[43mcat_list\u001b[49m\u001b[38;5;241;43m.\u001b[39;49m\u001b[43mdifference\u001b[49m([\u001b[38;5;124m'\u001b[39m\u001b[38;5;124m재계약빈도\u001b[39m\u001b[38;5;124m'\u001b[39m])]\u001b[38;5;241m.\u001b[39mcorr(method\u001b[38;5;241m=\u001b[39m\u001b[38;5;124m'\u001b[39m\u001b[38;5;124mspearman\u001b[39m\u001b[38;5;124m'\u001b[39m))\n",
      "\u001b[0;31mAttributeError\u001b[0m: 'list' object has no attribute 'difference'"
     ]
    }
   ],
   "source": [
    "# 범주형 변수들의 상관성 확인\n",
    "# 일부 상관성이 보이는 변수들이 있으나, 크지는 않은 편\n",
    "sns.heatmap(estate_new.loc[:, cat_list].corr(method='spearman'))"
   ]
  },
  {
   "cell_type": "code",
   "execution_count": 42,
   "metadata": {},
   "outputs": [
    {
     "name": "stdout",
     "output_type": "stream",
     "text": [
      "<class 'pandas.core.frame.DataFrame'>\n",
      "RangeIndex: 10348 entries, 0 to 10347\n",
      "Data columns (total 17 columns):\n",
      " #   Column      Non-Null Count  Dtype  \n",
      "---  ------      --------------  -----  \n",
      " 0   계약구분        10348 non-null  int64  \n",
      " 1   재계약횟수       10348 non-null  int64  \n",
      " 2   거주개월        10348 non-null  int64  \n",
      " 3   아파트 ID      10348 non-null  int64  \n",
      " 4   아파트 평점      10348 non-null  float64\n",
      " 5   층           10348 non-null  int64  \n",
      " 6   평형대         10348 non-null  int64  \n",
      " 7   입주연도        10348 non-null  int64  \n",
      " 8   거주연도        10348 non-null  int64  \n",
      " 9   대표나이        10348 non-null  int64  \n",
      " 10  성별          10348 non-null  int64  \n",
      " 11  결혼여부        10348 non-null  int64  \n",
      " 12  거주자 수       10348 non-null  int64  \n",
      " 13  퇴거여부        10348 non-null  int64  \n",
      " 14  보증금(원)_log  10348 non-null  float64\n",
      " 15  월세(원)_log   10348 non-null  float64\n",
      " 16  재계약빈도       10348 non-null  int64  \n",
      "dtypes: float64(3), int64(14)\n",
      "memory usage: 1.3 MB\n"
     ]
    }
   ],
   "source": [
    "# 나이 변수 제거\n",
    "estate_model = estate_new.drop([\"나이\"], axis=1)\n",
    "estate_model.info()"
   ]
  },
  {
   "cell_type": "markdown",
   "metadata": {},
   "source": [
    "## 3-1 재계약 횟수 이분변수를 기준으로 세그먼트를 구분하고 각 세그먼트의 특징을 분석하시오.\n",
    "- 재계약빈도가 높은 클러스터가 거주 개월수가 높고, 퇴거 비율도 적음. 또한 입주연도가 오래되었고, 거주자 수가 적은 편, 보증금과 월세도 상대적으로 높은 편\n",
    "- 또한 유효한 계약이 많고, 여성 계약자가 많으며, 퇴거 비율이 상대적으로 낮음"
   ]
  },
  {
   "cell_type": "code",
   "execution_count": 45,
   "metadata": {},
   "outputs": [
    {
     "data": {
      "text/html": [
       "<div>\n",
       "<style scoped>\n",
       "    .dataframe tbody tr th:only-of-type {\n",
       "        vertical-align: middle;\n",
       "    }\n",
       "\n",
       "    .dataframe tbody tr th {\n",
       "        vertical-align: top;\n",
       "    }\n",
       "\n",
       "    .dataframe thead th {\n",
       "        text-align: right;\n",
       "    }\n",
       "</style>\n",
       "<table border=\"1\" class=\"dataframe\">\n",
       "  <thead>\n",
       "    <tr style=\"text-align: right;\">\n",
       "      <th></th>\n",
       "      <th>계약구분</th>\n",
       "      <th>재계약횟수</th>\n",
       "      <th>거주개월</th>\n",
       "      <th>아파트 ID</th>\n",
       "      <th>아파트 평점</th>\n",
       "      <th>층</th>\n",
       "      <th>평형대</th>\n",
       "      <th>입주연도</th>\n",
       "      <th>거주연도</th>\n",
       "      <th>대표나이</th>\n",
       "      <th>성별</th>\n",
       "      <th>결혼여부</th>\n",
       "      <th>거주자 수</th>\n",
       "      <th>퇴거여부</th>\n",
       "      <th>보증금(원)_log</th>\n",
       "      <th>월세(원)_log</th>\n",
       "    </tr>\n",
       "    <tr>\n",
       "      <th>재계약빈도</th>\n",
       "      <th></th>\n",
       "      <th></th>\n",
       "      <th></th>\n",
       "      <th></th>\n",
       "      <th></th>\n",
       "      <th></th>\n",
       "      <th></th>\n",
       "      <th></th>\n",
       "      <th></th>\n",
       "      <th></th>\n",
       "      <th></th>\n",
       "      <th></th>\n",
       "      <th></th>\n",
       "      <th></th>\n",
       "      <th></th>\n",
       "      <th></th>\n",
       "    </tr>\n",
       "  </thead>\n",
       "  <tbody>\n",
       "    <tr>\n",
       "      <th>0</th>\n",
       "      <td>0.495043</td>\n",
       "      <td>4.675304</td>\n",
       "      <td>113.764308</td>\n",
       "      <td>0.893871</td>\n",
       "      <td>6.477467</td>\n",
       "      <td>8.006084</td>\n",
       "      <td>13.362325</td>\n",
       "      <td>2008.685669</td>\n",
       "      <td>2014.044389</td>\n",
       "      <td>63.733889</td>\n",
       "      <td>0.550023</td>\n",
       "      <td>0.856242</td>\n",
       "      <td>1.813655</td>\n",
       "      <td>0.101622</td>\n",
       "      <td>14.742228</td>\n",
       "      <td>10.783225</td>\n",
       "    </tr>\n",
       "    <tr>\n",
       "      <th>1</th>\n",
       "      <td>0.139932</td>\n",
       "      <td>9.487986</td>\n",
       "      <td>220.388494</td>\n",
       "      <td>1.036717</td>\n",
       "      <td>6.699154</td>\n",
       "      <td>7.963452</td>\n",
       "      <td>13.681387</td>\n",
       "      <td>2002.604399</td>\n",
       "      <td>2013.879357</td>\n",
       "      <td>68.763283</td>\n",
       "      <td>0.625212</td>\n",
       "      <td>0.843147</td>\n",
       "      <td>1.597293</td>\n",
       "      <td>0.010152</td>\n",
       "      <td>15.000222</td>\n",
       "      <td>10.962554</td>\n",
       "    </tr>\n",
       "  </tbody>\n",
       "</table>\n",
       "</div>"
      ],
      "text/plain": [
       "           계약구분     재계약횟수        거주개월    아파트 ID    아파트 평점         층  \\\n",
       "재계약빈도                                                                 \n",
       "0      0.495043  4.675304  113.764308  0.893871  6.477467  8.006084   \n",
       "1      0.139932  9.487986  220.388494  1.036717  6.699154  7.963452   \n",
       "\n",
       "             평형대         입주연도         거주연도       대표나이        성별      결혼여부  \\\n",
       "재계약빈도                                                                       \n",
       "0      13.362325  2008.685669  2014.044389  63.733889  0.550023  0.856242   \n",
       "1      13.681387  2002.604399  2013.879357  68.763283  0.625212  0.843147   \n",
       "\n",
       "          거주자 수      퇴거여부  보증금(원)_log  월세(원)_log  \n",
       "재계약빈도                                             \n",
       "0      1.813655  0.101622   14.742228  10.783225  \n",
       "1      1.597293  0.010152   15.000222  10.962554  "
      ]
     },
     "execution_count": 45,
     "metadata": {},
     "output_type": "execute_result"
    }
   ],
   "source": [
    "estate_model.groupby(\"재계약빈도\").mean(numeric_only=True) # 재계약빈도가 높은 클러스터가 거주 개월수가 높고, 퇴거 비율도 적음. 또한 입주연도가 오래되었고, 거주자 수가 적은 편, 보증금과 월세도 상대적으로 높은 편"
   ]
  },
  {
   "cell_type": "code",
   "execution_count": 46,
   "metadata": {},
   "outputs": [
    {
     "data": {
      "text/plain": [
       "<Axes: xlabel='재계약빈도', ylabel='거주개월'>"
      ]
     },
     "execution_count": 46,
     "metadata": {},
     "output_type": "execute_result"
    },
    {
     "data": {
      "image/png": "[encoded data removed]",
      "text/plain": [
       "<Figure size 640x480 with 1 Axes>"
      ]
     },
     "metadata": {},
     "output_type": "display_data"
    }
   ],
   "source": [
    "sns.boxplot(data=estate_model, x=\"재계약빈도\", y=estate_model[\"거주개월\"])"
   ]
  },
  {
   "cell_type": "code",
   "execution_count": 47,
   "metadata": {},
   "outputs": [
    {
     "data": {
      "text/plain": [
       "<Axes: xlabel='재계약빈도', ylabel='입주연도'>"
      ]
     },
     "execution_count": 47,
     "metadata": {},
     "output_type": "execute_result"
    },
    {
     "data": {
      "image/png": "[encoded data removed]",
      "text/plain": [
       "<Figure size 640x480 with 1 Axes>"
      ]
     },
     "metadata": {},
     "output_type": "display_data"
    }
   ],
   "source": [
    "sns.boxplot(data=estate_model, x=\"재계약빈도\", y=estate_model[\"입주연도\"])"
   ]
  },
  {
   "cell_type": "code",
   "execution_count": 48,
   "metadata": {},
   "outputs": [
    {
     "data": {
      "text/plain": [
       "<Axes: xlabel='재계약빈도', ylabel='보증금(원)_log'>"
      ]
     },
     "execution_count": 48,
     "metadata": {},
     "output_type": "execute_result"
    },
    {
     "data": {
      "image/png": "[encoded data removed]",
      "text/plain": [
       "<Figure size 640x480 with 1 Axes>"
      ]
     },
     "metadata": {},
     "output_type": "display_data"
    }
   ],
   "source": [
    "sns.boxplot(data=estate_model, x=\"재계약빈도\", y=estate_model[\"보증금(원)_log\"])"
   ]
  },
  {
   "cell_type": "code",
   "execution_count": 49,
   "metadata": {},
   "outputs": [
    {
     "data": {
      "text/plain": [
       "<Axes: xlabel='재계약빈도', ylabel='월세(원)_log'>"
      ]
     },
     "execution_count": 49,
     "metadata": {},
     "output_type": "execute_result"
    },
    {
     "data": {
      "image/png": "[encoded data removed]",
      "text/plain": [
       "<Figure size 640x480 with 1 Axes>"
      ]
     },
     "metadata": {},
     "output_type": "display_data"
    }
   ],
   "source": [
    "sns.boxplot(data=estate_model, x=\"재계약빈도\", y=estate_model[\"월세(원)_log\"])"
   ]
  },
  {
   "cell_type": "code",
   "execution_count": 50,
   "metadata": {},
   "outputs": [
    {
     "data": {
      "text/plain": [
       "재계약빈도  계약구분\n",
       "0      0       0.504957\n",
       "       1       0.495043\n",
       "1      0       0.860068\n",
       "       1       0.139932\n",
       "Name: proportion, dtype: float64"
      ]
     },
     "execution_count": 50,
     "metadata": {},
     "output_type": "execute_result"
    }
   ],
   "source": [
    "### Categorical\n",
    "# 재계약빈도가 높은 클러스터에서, 유효한 계약이 많음\n",
    "estate_model.groupby(\"재계약빈도\")[\"계약구분\"].value_counts(1)"
   ]
  },
  {
   "cell_type": "code",
   "execution_count": 51,
   "metadata": {},
   "outputs": [
    {
     "data": {
      "text/plain": [
       "재계약빈도  성별\n",
       "0      1     0.550023\n",
       "       0     0.449977\n",
       "1      1     0.625212\n",
       "       0     0.374788\n",
       "Name: proportion, dtype: float64"
      ]
     },
     "execution_count": 51,
     "metadata": {},
     "output_type": "execute_result"
    }
   ],
   "source": [
    "# 재계약빈도가 높은 클러스터에서, 여성이 많음\n",
    "estate_model.groupby(\"재계약빈도\")[\"성별\"].value_counts(1)"
   ]
  },
  {
   "cell_type": "code",
   "execution_count": 52,
   "metadata": {},
   "outputs": [
    {
     "data": {
      "text/plain": [
       "재계약빈도  결혼여부\n",
       "0      1       0.856242\n",
       "       0       0.143758\n",
       "1      1       0.843147\n",
       "       0       0.156853\n",
       "Name: proportion, dtype: float64"
      ]
     },
     "execution_count": 52,
     "metadata": {},
     "output_type": "execute_result"
    }
   ],
   "source": [
    "# 결혼여부는 큰 차이 없음\n",
    "estate_model.groupby(\"재계약빈도\")[\"결혼여부\"].value_counts(1)"
   ]
  },
  {
   "cell_type": "code",
   "execution_count": 53,
   "metadata": {},
   "outputs": [
    {
     "data": {
      "text/plain": [
       "재계약빈도  퇴거여부\n",
       "0      0       0.898378\n",
       "       1       0.101622\n",
       "1      0       0.989848\n",
       "       1       0.010152\n",
       "Name: proportion, dtype: float64"
      ]
     },
     "execution_count": 53,
     "metadata": {},
     "output_type": "execute_result"
    }
   ],
   "source": [
    "# 재계약빈도가 높은 클러스터에서, 퇴거 비율이 낮음\n",
    "estate_model.groupby(\"재계약빈도\")[\"퇴거여부\"].value_counts(1)"
   ]
  },
  {
   "cell_type": "markdown",
   "metadata": {},
   "source": [
    "## 3-2. 재계약횟수 변수를 종속변수로 하는 회귀 분석을 두 가지 이상의 방법론을 통해 수행하고 최종 모델을 결정하시오. 재계약횟수 이분변수를 종속변수로 하는 분류 분석을 두가지 이상의 방법론을 통해 수행하고 최종 모델을 결정하시오.\n",
    "- 회귀, 분류 모두 XGBoost와 RandomForest 모델 수행\n",
    "- 회귀, 분류 모두 XGBoost 모델의 성능이 조금 더 우세한 것으로 판명되어, 최종 모델은 XGBoost로 선정"
   ]
  },
  {
   "cell_type": "code",
   "execution_count": 54,
   "metadata": {},
   "outputs": [
    {
     "data": {
      "text/html": [
       "<div>\n",
       "<style scoped>\n",
       "    .dataframe tbody tr th:only-of-type {\n",
       "        vertical-align: middle;\n",
       "    }\n",
       "\n",
       "    .dataframe tbody tr th {\n",
       "        vertical-align: top;\n",
       "    }\n",
       "\n",
       "    .dataframe thead th {\n",
       "        text-align: right;\n",
       "    }\n",
       "</style>\n",
       "<table border=\"1\" class=\"dataframe\">\n",
       "  <thead>\n",
       "    <tr style=\"text-align: right;\">\n",
       "      <th></th>\n",
       "      <th>계약구분</th>\n",
       "      <th>성별</th>\n",
       "      <th>결혼여부</th>\n",
       "      <th>퇴거여부</th>\n",
       "      <th>아파트 ID</th>\n",
       "      <th>재계약빈도</th>\n",
       "    </tr>\n",
       "  </thead>\n",
       "  <tbody>\n",
       "    <tr>\n",
       "      <th>0</th>\n",
       "      <td>0</td>\n",
       "      <td>0</td>\n",
       "      <td>1</td>\n",
       "      <td>0</td>\n",
       "      <td>4</td>\n",
       "      <td>1</td>\n",
       "    </tr>\n",
       "    <tr>\n",
       "      <th>1</th>\n",
       "      <td>0</td>\n",
       "      <td>0</td>\n",
       "      <td>1</td>\n",
       "      <td>0</td>\n",
       "      <td>4</td>\n",
       "      <td>1</td>\n",
       "    </tr>\n",
       "    <tr>\n",
       "      <th>2</th>\n",
       "      <td>1</td>\n",
       "      <td>1</td>\n",
       "      <td>1</td>\n",
       "      <td>0</td>\n",
       "      <td>4</td>\n",
       "      <td>0</td>\n",
       "    </tr>\n",
       "    <tr>\n",
       "      <th>3</th>\n",
       "      <td>0</td>\n",
       "      <td>1</td>\n",
       "      <td>1</td>\n",
       "      <td>0</td>\n",
       "      <td>4</td>\n",
       "      <td>1</td>\n",
       "    </tr>\n",
       "    <tr>\n",
       "      <th>4</th>\n",
       "      <td>0</td>\n",
       "      <td>0</td>\n",
       "      <td>1</td>\n",
       "      <td>0</td>\n",
       "      <td>4</td>\n",
       "      <td>1</td>\n",
       "    </tr>\n",
       "    <tr>\n",
       "      <th>...</th>\n",
       "      <td>...</td>\n",
       "      <td>...</td>\n",
       "      <td>...</td>\n",
       "      <td>...</td>\n",
       "      <td>...</td>\n",
       "      <td>...</td>\n",
       "    </tr>\n",
       "    <tr>\n",
       "      <th>10343</th>\n",
       "      <td>0</td>\n",
       "      <td>0</td>\n",
       "      <td>1</td>\n",
       "      <td>0</td>\n",
       "      <td>2</td>\n",
       "      <td>1</td>\n",
       "    </tr>\n",
       "    <tr>\n",
       "      <th>10344</th>\n",
       "      <td>0</td>\n",
       "      <td>0</td>\n",
       "      <td>1</td>\n",
       "      <td>0</td>\n",
       "      <td>2</td>\n",
       "      <td>1</td>\n",
       "    </tr>\n",
       "    <tr>\n",
       "      <th>10345</th>\n",
       "      <td>0</td>\n",
       "      <td>0</td>\n",
       "      <td>1</td>\n",
       "      <td>0</td>\n",
       "      <td>2</td>\n",
       "      <td>1</td>\n",
       "    </tr>\n",
       "    <tr>\n",
       "      <th>10346</th>\n",
       "      <td>0</td>\n",
       "      <td>0</td>\n",
       "      <td>1</td>\n",
       "      <td>0</td>\n",
       "      <td>2</td>\n",
       "      <td>1</td>\n",
       "    </tr>\n",
       "    <tr>\n",
       "      <th>10347</th>\n",
       "      <td>1</td>\n",
       "      <td>0</td>\n",
       "      <td>0</td>\n",
       "      <td>0</td>\n",
       "      <td>2</td>\n",
       "      <td>1</td>\n",
       "    </tr>\n",
       "  </tbody>\n",
       "</table>\n",
       "<p>10348 rows × 6 columns</p>\n",
       "</div>"
      ],
      "text/plain": [
       "       계약구분  성별  결혼여부  퇴거여부  아파트 ID  재계약빈도\n",
       "0         0   0     1     0       4      1\n",
       "1         0   0     1     0       4      1\n",
       "2         1   1     1     0       4      0\n",
       "3         0   1     1     0       4      1\n",
       "4         0   0     1     0       4      1\n",
       "...     ...  ..   ...   ...     ...    ...\n",
       "10343     0   0     1     0       2      1\n",
       "10344     0   0     1     0       2      1\n",
       "10345     0   0     1     0       2      1\n",
       "10346     0   0     1     0       2      1\n",
       "10347     1   0     0     0       2      1\n",
       "\n",
       "[10348 rows x 6 columns]"
      ]
     },
     "execution_count": 54,
     "metadata": {},
     "output_type": "execute_result"
    }
   ],
   "source": [
    "# 범주형 변수 one-hot encoding\n",
    "estate_cat = estate_model.loc[:, cat_list]\n",
    "estate_cat"
   ]
  },
  {
   "cell_type": "code",
   "execution_count": 55,
   "metadata": {},
   "outputs": [
    {
     "data": {
      "text/plain": [
       "아파트 ID\n",
       "0         3690\n",
       "1         3659\n",
       "2         2680\n",
       "3          201\n",
       "4          118\n",
       "Name: count, dtype: int64"
      ]
     },
     "execution_count": 55,
     "metadata": {},
     "output_type": "execute_result"
    }
   ],
   "source": [
    "estate_cat[['아파트 ID']].value_counts()"
   ]
  },
  {
   "cell_type": "code",
   "execution_count": 56,
   "metadata": {},
   "outputs": [],
   "source": [
    "from sklearn.preprocessing import OneHotEncoder"
   ]
  },
  {
   "cell_type": "code",
   "execution_count": 57,
   "metadata": {},
   "outputs": [],
   "source": [
    "# 아파트 ID one-hot encoding\n",
    "encoder = OneHotEncoder()\n",
    "label = encoder.fit_transform(estate_cat[['아파트 ID']]).toarray()\n",
    "label_df = pd.DataFrame(label, columns = [f\"아파트ID_{i}\" for i in range(5)])"
   ]
  },
  {
   "cell_type": "code",
   "execution_count": 58,
   "metadata": {},
   "outputs": [
    {
     "data": {
      "text/html": [
       "<div>\n",
       "<style scoped>\n",
       "    .dataframe tbody tr th:only-of-type {\n",
       "        vertical-align: middle;\n",
       "    }\n",
       "\n",
       "    .dataframe tbody tr th {\n",
       "        vertical-align: top;\n",
       "    }\n",
       "\n",
       "    .dataframe thead th {\n",
       "        text-align: right;\n",
       "    }\n",
       "</style>\n",
       "<table border=\"1\" class=\"dataframe\">\n",
       "  <thead>\n",
       "    <tr style=\"text-align: right;\">\n",
       "      <th></th>\n",
       "      <th>아파트ID_0</th>\n",
       "      <th>아파트ID_1</th>\n",
       "      <th>아파트ID_2</th>\n",
       "      <th>아파트ID_3</th>\n",
       "      <th>아파트ID_4</th>\n",
       "    </tr>\n",
       "  </thead>\n",
       "  <tbody>\n",
       "    <tr>\n",
       "      <th>0</th>\n",
       "      <td>0.0</td>\n",
       "      <td>0.0</td>\n",
       "      <td>0.0</td>\n",
       "      <td>0.0</td>\n",
       "      <td>1.0</td>\n",
       "    </tr>\n",
       "    <tr>\n",
       "      <th>1</th>\n",
       "      <td>0.0</td>\n",
       "      <td>0.0</td>\n",
       "      <td>0.0</td>\n",
       "      <td>0.0</td>\n",
       "      <td>1.0</td>\n",
       "    </tr>\n",
       "    <tr>\n",
       "      <th>2</th>\n",
       "      <td>0.0</td>\n",
       "      <td>0.0</td>\n",
       "      <td>0.0</td>\n",
       "      <td>0.0</td>\n",
       "      <td>1.0</td>\n",
       "    </tr>\n",
       "    <tr>\n",
       "      <th>3</th>\n",
       "      <td>0.0</td>\n",
       "      <td>0.0</td>\n",
       "      <td>0.0</td>\n",
       "      <td>0.0</td>\n",
       "      <td>1.0</td>\n",
       "    </tr>\n",
       "    <tr>\n",
       "      <th>4</th>\n",
       "      <td>0.0</td>\n",
       "      <td>0.0</td>\n",
       "      <td>0.0</td>\n",
       "      <td>0.0</td>\n",
       "      <td>1.0</td>\n",
       "    </tr>\n",
       "    <tr>\n",
       "      <th>...</th>\n",
       "      <td>...</td>\n",
       "      <td>...</td>\n",
       "      <td>...</td>\n",
       "      <td>...</td>\n",
       "      <td>...</td>\n",
       "    </tr>\n",
       "    <tr>\n",
       "      <th>10343</th>\n",
       "      <td>0.0</td>\n",
       "      <td>0.0</td>\n",
       "      <td>1.0</td>\n",
       "      <td>0.0</td>\n",
       "      <td>0.0</td>\n",
       "    </tr>\n",
       "    <tr>\n",
       "      <th>10344</th>\n",
       "      <td>0.0</td>\n",
       "      <td>0.0</td>\n",
       "      <td>1.0</td>\n",
       "      <td>0.0</td>\n",
       "      <td>0.0</td>\n",
       "    </tr>\n",
       "    <tr>\n",
       "      <th>10345</th>\n",
       "      <td>0.0</td>\n",
       "      <td>0.0</td>\n",
       "      <td>1.0</td>\n",
       "      <td>0.0</td>\n",
       "      <td>0.0</td>\n",
       "    </tr>\n",
       "    <tr>\n",
       "      <th>10346</th>\n",
       "      <td>0.0</td>\n",
       "      <td>0.0</td>\n",
       "      <td>1.0</td>\n",
       "      <td>0.0</td>\n",
       "      <td>0.0</td>\n",
       "    </tr>\n",
       "    <tr>\n",
       "      <th>10347</th>\n",
       "      <td>0.0</td>\n",
       "      <td>0.0</td>\n",
       "      <td>1.0</td>\n",
       "      <td>0.0</td>\n",
       "      <td>0.0</td>\n",
       "    </tr>\n",
       "  </tbody>\n",
       "</table>\n",
       "<p>10348 rows × 5 columns</p>\n",
       "</div>"
      ],
      "text/plain": [
       "       아파트ID_0  아파트ID_1  아파트ID_2  아파트ID_3  아파트ID_4\n",
       "0          0.0      0.0      0.0      0.0      1.0\n",
       "1          0.0      0.0      0.0      0.0      1.0\n",
       "2          0.0      0.0      0.0      0.0      1.0\n",
       "3          0.0      0.0      0.0      0.0      1.0\n",
       "4          0.0      0.0      0.0      0.0      1.0\n",
       "...        ...      ...      ...      ...      ...\n",
       "10343      0.0      0.0      1.0      0.0      0.0\n",
       "10344      0.0      0.0      1.0      0.0      0.0\n",
       "10345      0.0      0.0      1.0      0.0      0.0\n",
       "10346      0.0      0.0      1.0      0.0      0.0\n",
       "10347      0.0      0.0      1.0      0.0      0.0\n",
       "\n",
       "[10348 rows x 5 columns]"
      ]
     },
     "execution_count": 58,
     "metadata": {},
     "output_type": "execute_result"
    }
   ],
   "source": [
    "dummy_col = pd.concat([estate_cat, label_df], axis=1).drop(cat_list, axis=1)\n",
    "dummy_col"
   ]
  },
  {
   "cell_type": "code",
   "execution_count": 59,
   "metadata": {},
   "outputs": [
    {
     "name": "stdout",
     "output_type": "stream",
     "text": [
      "<class 'pandas.core.frame.DataFrame'>\n",
      "RangeIndex: 10348 entries, 0 to 10347\n",
      "Data columns (total 20 columns):\n",
      " #   Column      Non-Null Count  Dtype  \n",
      "---  ------      --------------  -----  \n",
      " 0   재계약횟수       10348 non-null  int64  \n",
      " 1   거주개월        10348 non-null  int64  \n",
      " 2   아파트 평점      10348 non-null  float64\n",
      " 3   층           10348 non-null  int64  \n",
      " 4   평형대         10348 non-null  int64  \n",
      " 5   입주연도        10348 non-null  int64  \n",
      " 6   거주연도        10348 non-null  int64  \n",
      " 7   대표나이        10348 non-null  int64  \n",
      " 8   성별          10348 non-null  int64  \n",
      " 9   결혼여부        10348 non-null  int64  \n",
      " 10  거주자 수       10348 non-null  int64  \n",
      " 11  퇴거여부        10348 non-null  int64  \n",
      " 12  보증금(원)_log  10348 non-null  float64\n",
      " 13  월세(원)_log   10348 non-null  float64\n",
      " 14  재계약빈도       10348 non-null  int64  \n",
      " 15  아파트ID_0     10348 non-null  float64\n",
      " 16  아파트ID_1     10348 non-null  float64\n",
      " 17  아파트ID_2     10348 non-null  float64\n",
      " 18  아파트ID_3     10348 non-null  float64\n",
      " 19  아파트ID_4     10348 non-null  float64\n",
      "dtypes: float64(8), int64(12)\n",
      "memory usage: 1.6 MB\n"
     ]
    }
   ],
   "source": [
    "final_data = pd.concat([estate_model, dummy_col], axis=1).drop([\"아파트 ID\", \"계약구분\"], axis=1)\n",
    "final_data.info()"
   ]
  },
  {
   "cell_type": "code",
   "execution_count": 60,
   "metadata": {},
   "outputs": [],
   "source": [
    "y = final_data['재계약횟수']\n",
    "x = final_data.drop(['재계약횟수', '재계약빈도'], axis=1)"
   ]
  },
  {
   "cell_type": "code",
   "execution_count": 61,
   "metadata": {},
   "outputs": [],
   "source": [
    "from sklearn.model_selection import train_test_split"
   ]
  },
  {
   "cell_type": "code",
   "execution_count": 62,
   "metadata": {},
   "outputs": [],
   "source": [
    "train_x, test_x, train_y, test_y = train_test_split(x, y, test_size=0.2)"
   ]
  },
  {
   "cell_type": "code",
   "execution_count": 63,
   "metadata": {},
   "outputs": [],
   "source": [
    "from xgboost import XGBRegressor, XGBClassifier\n",
    "from sklearn.ensemble import RandomForestRegressor, RandomForestClassifier\n",
    "from sklearn.svm import LinearSVR, LinearSVC\n",
    "from sklearn.linear_model import LinearRegression, LogisticRegression\n",
    "\n",
    "from sklearn.metrics import mean_squared_error, mean_absolute_error, mean_squared_log_error, r2_score\n",
    "from sklearn.metrics import confusion_matrix, classification_report, accuracy_score, precision_score, recall_score, f1_score, precision_recall_curve, roc_curve, roc_auc_score, auc"
   ]
  },
  {
   "cell_type": "code",
   "execution_count": 64,
   "metadata": {},
   "outputs": [],
   "source": [
    "### 재계약횟수\n",
    "# XGBoostRegreessor\n",
    "# RandomForestRegressor\n",
    "# 성능이 조금 더 우수한 XGBoost 알고리즘 채택\n",
    "rf = RandomForestRegressor()\n",
    "rf.fit(train_x, train_y)\n",
    "pred_rf = rf.predict(test_x)\n",
    "\n",
    "xgb = XGBRegressor()\n",
    "xgb.fit(train_x, train_y)\n",
    "pred_xgb = xgb.predict(test_x)"
   ]
  },
  {
   "cell_type": "code",
   "execution_count": 65,
   "metadata": {},
   "outputs": [
    {
     "data": {
      "text/plain": [
       "0.33733387658346753"
      ]
     },
     "execution_count": 65,
     "metadata": {},
     "output_type": "execute_result"
    }
   ],
   "source": [
    "mean_squared_error(pred_rf, test_y)"
   ]
  },
  {
   "cell_type": "code",
   "execution_count": 66,
   "metadata": {},
   "outputs": [
    {
     "data": {
      "text/plain": [
       "0.9530075052866289"
      ]
     },
     "execution_count": 66,
     "metadata": {},
     "output_type": "execute_result"
    }
   ],
   "source": [
    "r2_score(pred_rf, test_y)"
   ]
  },
  {
   "cell_type": "code",
   "execution_count": 67,
   "metadata": {},
   "outputs": [
    {
     "data": {
      "text/plain": [
       "0.27825229725120326"
      ]
     },
     "execution_count": 67,
     "metadata": {},
     "output_type": "execute_result"
    }
   ],
   "source": [
    "mean_squared_error(pred_xgb, test_y)"
   ]
  },
  {
   "cell_type": "code",
   "execution_count": 68,
   "metadata": {},
   "outputs": [
    {
     "data": {
      "text/plain": [
       "0.9621419392400782"
      ]
     },
     "execution_count": 68,
     "metadata": {},
     "output_type": "execute_result"
    }
   ],
   "source": [
    "r2_score(pred_xgb, test_y)"
   ]
  },
  {
   "cell_type": "code",
   "execution_count": 69,
   "metadata": {},
   "outputs": [],
   "source": [
    "y = final_data['재계약빈도']"
   ]
  },
  {
   "cell_type": "code",
   "execution_count": 70,
   "metadata": {},
   "outputs": [],
   "source": [
    "train_x, test_x, train_y, test_y = train_test_split(x, y, test_size=0.2, stratify=final_data['재계약빈도'])"
   ]
  },
  {
   "cell_type": "code",
   "execution_count": 71,
   "metadata": {},
   "outputs": [],
   "source": [
    "### 재계약 빈도\n",
    "# XGBoostClassifier\n",
    "# RandomForestClassifier\n",
    "# 분류 모델에서도 XGBoost의 성능이 조금 더 나은 모습\n",
    "rf_cls = RandomForestClassifier()\n",
    "rf_cls.fit(train_x, train_y)\n",
    "pred_rf_cls = rf_cls.predict(test_x)\n",
    "\n",
    "xgb_cls = XGBClassifier()\n",
    "xgb_cls.fit(train_x, train_y)\n",
    "pred_xgb_cls = xgb_cls.predict(test_x)"
   ]
  },
  {
   "cell_type": "code",
   "execution_count": 72,
   "metadata": {},
   "outputs": [
    {
     "name": "stdout",
     "output_type": "stream",
     "text": [
      "              precision    recall  f1-score   support\n",
      "\n",
      "           0       0.95      1.00      0.97       844\n",
      "           1       1.00      0.96      0.98      1226\n",
      "\n",
      "    accuracy                           0.97      2070\n",
      "   macro avg       0.97      0.98      0.97      2070\n",
      "weighted avg       0.98      0.97      0.97      2070\n",
      "\n"
     ]
    }
   ],
   "source": [
    "print(classification_report(pred_rf_cls, test_y))"
   ]
  },
  {
   "cell_type": "code",
   "execution_count": 73,
   "metadata": {},
   "outputs": [
    {
     "name": "stdout",
     "output_type": "stream",
     "text": [
      "              precision    recall  f1-score   support\n",
      "\n",
      "           0       0.95      0.99      0.97       853\n",
      "           1       0.99      0.97      0.98      1217\n",
      "\n",
      "    accuracy                           0.98      2070\n",
      "   macro avg       0.97      0.98      0.98      2070\n",
      "weighted avg       0.98      0.98      0.98      2070\n",
      "\n"
     ]
    }
   ],
   "source": [
    "print(classification_report(pred_xgb_cls, test_y))"
   ]
  },
  {
   "cell_type": "code",
   "execution_count": 74,
   "metadata": {},
   "outputs": [
    {
     "data": {
      "text/plain": [
       "0.9748792270531401"
      ]
     },
     "execution_count": 74,
     "metadata": {},
     "output_type": "execute_result"
    }
   ],
   "source": [
    "accuracy_score(pred_rf_cls, test_y)"
   ]
  },
  {
   "cell_type": "code",
   "execution_count": 75,
   "metadata": {},
   "outputs": [
    {
     "data": {
      "text/plain": [
       "0.9772946859903382"
      ]
     },
     "execution_count": 75,
     "metadata": {},
     "output_type": "execute_result"
    }
   ],
   "source": [
    "accuracy_score(pred_xgb_cls, test_y)"
   ]
  },
  {
   "cell_type": "markdown",
   "metadata": {},
   "source": [
    "## 3-3 최종 채택한 모델에서 각각 유의하게 작용하는 변수를 확인 하고 설명하시오\n",
    "- 모델의 변수 중요도를 확인해 본 결과, 재계약 횟수를 종속변수로 하는 회귀분석의 경우 거주개월 변수가 압도적인 영향을 끼치고 있음. 따라서 거주개월이 길수록 재계약 횟수도 높아진다고 볼 수 있음\n",
    "- 재계약 빈도(높음/낮음)을 종속변수로 하는 분류 모델의 경우 그 영향력이 조금은 줄어드는 모습을 보이지만, 그래도 60% 이상의 영향력을 보여주는 변수임"
   ]
  },
  {
   "cell_type": "code",
   "execution_count": 76,
   "metadata": {},
   "outputs": [
    {
     "data": {
      "text/plain": [
       "<Axes: >"
      ]
     },
     "execution_count": 76,
     "metadata": {},
     "output_type": "execute_result"
    },
    {
     "data": {
      "image/png": "[encoded data removed]",
      "text/plain": [
       "<Figure size 640x480 with 1 Axes>"
      ]
     },
     "metadata": {},
     "output_type": "display_data"
    }
   ],
   "source": [
    "sns.barplot(x=train_x.columns, y=xgb.feature_importances_) # 회귀"
   ]
  },
  {
   "cell_type": "code",
   "execution_count": 77,
   "metadata": {},
   "outputs": [
    {
     "data": {
      "text/plain": [
       "<Axes: >"
      ]
     },
     "execution_count": 77,
     "metadata": {},
     "output_type": "execute_result"
    },
    {
     "data": {
      "image/png": "[encoded data removed]",
      "text/plain": [
       "<Figure size 640x480 with 1 Axes>"
      ]
     },
     "metadata": {},
     "output_type": "display_data"
    }
   ],
   "source": [
    "sns.barplot(x=train_x.columns, y=xgb_cls.feature_importances_) # 분류"
   ]
  },
  {
   "cell_type": "markdown",
   "metadata": {},
   "source": [
    "## 3-4 해당 데이터 분석결과로 얻을 수 있는 점 제시"
   ]
  },
  {
   "cell_type": "markdown",
   "metadata": {},
   "source": [
    "- 재계약율을 높이려면, 거주하는 기간이 길어야 한다. 즉, 거주의 만족도가 높아야 재계약율이 올라간다.\n",
    "- 따라서, 거주의 만족도를 높일 수 있는 다양한 정책을 펼쳐야 한다."
   ]
  },
  {
   "cell_type": "markdown",
   "metadata": {},
   "source": [
    "## 데이터 설명\n",
    "- 데이터 출처 : https://www.kaggle.com/datasets/pschale/mlb-pitch-data-20152018 데이터를 후처리\n",
    "- 데이터 링크 : https://raw.githubusercontent.com/Datamanim/datarepo/main/adp/29/p2_.csv\n",
    "- 데이터 설명 : \n",
    "\n",
    "A 야구구단의 시합 결과중 일부를 나타낸다.    \n",
    "각 행은 하나의 경기를 의미(game_id)하며 9회차(= 9이닝) 동안 1번타자, 2번타자의 출루 정보를 의미한다.     \n",
    "각 컬럼에 대한 설명은 아래 이미지와 같으며, value값의 index는 이미지의 '수치 의미' 열을 통해 확인 할 수 있다.\n"
   ]
  },
  {
   "cell_type": "markdown",
   "metadata": {},
   "source": [
    "<img src=\"https://github.com/Datamanim/datarepo/blob/main/adp/29/p1_img.png?raw=true\" width=\"500\" height=\"600\">"
   ]
  },
  {
   "cell_type": "markdown",
   "metadata": {},
   "source": [
    "## 4-1 각 회차별로 1번 타자의 출루 (1,2,3루타와 사사구(볼넷, 몸에맞는공))가 있는 경우에 대해 득점이 발생 했는지 확인하고자 한다. 이를 위한 전처리를 수행하라. (단, 첫 번째 혹은 두 번째 타자가 홈런을 친 경우 해당 회차 데이터는 제외한다.)     \n",
    "\n",
    "조건1 : 득점여부를 범주형 종속변수로 한다. (1점이상 득점 :1, 무득점 :0)     \n",
    "조건2 : 각 회차 2번 타자의 데이터는 원핫 인코딩한다.    \n",
    "조건3 : 학습에 적절하지 않은 데이터는 제외한다.    "
   ]
  },
  {
   "cell_type": "code",
   "execution_count": 78,
   "metadata": {},
   "outputs": [
    {
     "data": {
      "text/html": [
       "<div>\n",
       "<style scoped>\n",
       "    .dataframe tbody tr th:only-of-type {\n",
       "        vertical-align: middle;\n",
       "    }\n",
       "\n",
       "    .dataframe tbody tr th {\n",
       "        vertical-align: top;\n",
       "    }\n",
       "\n",
       "    .dataframe thead th {\n",
       "        text-align: right;\n",
       "    }\n",
       "</style>\n",
       "<table border=\"1\" class=\"dataframe\">\n",
       "  <thead>\n",
       "    <tr style=\"text-align: right;\">\n",
       "      <th></th>\n",
       "      <th>game_id</th>\n",
       "      <th>a1_1</th>\n",
       "      <th>a1_2</th>\n",
       "      <th>a2_1</th>\n",
       "      <th>a2_2</th>\n",
       "      <th>a3_1</th>\n",
       "      <th>a3_2</th>\n",
       "      <th>a4_1</th>\n",
       "      <th>a4_2</th>\n",
       "      <th>a5_1</th>\n",
       "      <th>...</th>\n",
       "      <th>a9_2</th>\n",
       "      <th>b1</th>\n",
       "      <th>b2</th>\n",
       "      <th>b3</th>\n",
       "      <th>b4</th>\n",
       "      <th>b5</th>\n",
       "      <th>b6</th>\n",
       "      <th>b7</th>\n",
       "      <th>b8</th>\n",
       "      <th>b9</th>\n",
       "    </tr>\n",
       "  </thead>\n",
       "  <tbody>\n",
       "    <tr>\n",
       "      <th>0</th>\n",
       "      <td>201900016</td>\n",
       "      <td>5</td>\n",
       "      <td>5</td>\n",
       "      <td>5</td>\n",
       "      <td>5</td>\n",
       "      <td>5</td>\n",
       "      <td>5</td>\n",
       "      <td>5</td>\n",
       "      <td>5</td>\n",
       "      <td>5</td>\n",
       "      <td>...</td>\n",
       "      <td>5</td>\n",
       "      <td>0</td>\n",
       "      <td>0</td>\n",
       "      <td>0</td>\n",
       "      <td>0</td>\n",
       "      <td>0</td>\n",
       "      <td>0</td>\n",
       "      <td>0</td>\n",
       "      <td>4</td>\n",
       "      <td>2</td>\n",
       "    </tr>\n",
       "    <tr>\n",
       "      <th>1</th>\n",
       "      <td>201900023</td>\n",
       "      <td>6</td>\n",
       "      <td>4</td>\n",
       "      <td>5</td>\n",
       "      <td>5</td>\n",
       "      <td>2</td>\n",
       "      <td>5</td>\n",
       "      <td>1</td>\n",
       "      <td>1</td>\n",
       "      <td>6</td>\n",
       "      <td>...</td>\n",
       "      <td>7</td>\n",
       "      <td>3</td>\n",
       "      <td>0</td>\n",
       "      <td>0</td>\n",
       "      <td>1</td>\n",
       "      <td>0</td>\n",
       "      <td>1</td>\n",
       "      <td>3</td>\n",
       "      <td>1</td>\n",
       "      <td>0</td>\n",
       "    </tr>\n",
       "    <tr>\n",
       "      <th>2</th>\n",
       "      <td>201900103</td>\n",
       "      <td>5</td>\n",
       "      <td>6</td>\n",
       "      <td>5</td>\n",
       "      <td>5</td>\n",
       "      <td>1</td>\n",
       "      <td>9</td>\n",
       "      <td>5</td>\n",
       "      <td>4</td>\n",
       "      <td>6</td>\n",
       "      <td>...</td>\n",
       "      <td>6</td>\n",
       "      <td>0</td>\n",
       "      <td>0</td>\n",
       "      <td>1</td>\n",
       "      <td>1</td>\n",
       "      <td>4</td>\n",
       "      <td>1</td>\n",
       "      <td>2</td>\n",
       "      <td>0</td>\n",
       "      <td>1</td>\n",
       "    </tr>\n",
       "    <tr>\n",
       "      <th>3</th>\n",
       "      <td>201900112</td>\n",
       "      <td>5</td>\n",
       "      <td>7</td>\n",
       "      <td>6</td>\n",
       "      <td>1</td>\n",
       "      <td>5</td>\n",
       "      <td>5</td>\n",
       "      <td>1</td>\n",
       "      <td>5</td>\n",
       "      <td>1</td>\n",
       "      <td>...</td>\n",
       "      <td>5</td>\n",
       "      <td>0</td>\n",
       "      <td>3</td>\n",
       "      <td>0</td>\n",
       "      <td>0</td>\n",
       "      <td>0</td>\n",
       "      <td>0</td>\n",
       "      <td>1</td>\n",
       "      <td>0</td>\n",
       "      <td>0</td>\n",
       "    </tr>\n",
       "    <tr>\n",
       "      <th>4</th>\n",
       "      <td>201900131</td>\n",
       "      <td>5</td>\n",
       "      <td>1</td>\n",
       "      <td>2</td>\n",
       "      <td>5</td>\n",
       "      <td>2</td>\n",
       "      <td>5</td>\n",
       "      <td>7</td>\n",
       "      <td>2</td>\n",
       "      <td>6</td>\n",
       "      <td>...</td>\n",
       "      <td>6</td>\n",
       "      <td>0</td>\n",
       "      <td>2</td>\n",
       "      <td>4</td>\n",
       "      <td>1</td>\n",
       "      <td>2</td>\n",
       "      <td>2</td>\n",
       "      <td>0</td>\n",
       "      <td>1</td>\n",
       "      <td>0</td>\n",
       "    </tr>\n",
       "    <tr>\n",
       "      <th>...</th>\n",
       "      <td>...</td>\n",
       "      <td>...</td>\n",
       "      <td>...</td>\n",
       "      <td>...</td>\n",
       "      <td>...</td>\n",
       "      <td>...</td>\n",
       "      <td>...</td>\n",
       "      <td>...</td>\n",
       "      <td>...</td>\n",
       "      <td>...</td>\n",
       "      <td>...</td>\n",
       "      <td>...</td>\n",
       "      <td>...</td>\n",
       "      <td>...</td>\n",
       "      <td>...</td>\n",
       "      <td>...</td>\n",
       "      <td>...</td>\n",
       "      <td>...</td>\n",
       "      <td>...</td>\n",
       "      <td>...</td>\n",
       "      <td>...</td>\n",
       "    </tr>\n",
       "    <tr>\n",
       "      <th>195</th>\n",
       "      <td>201902346</td>\n",
       "      <td>7</td>\n",
       "      <td>5</td>\n",
       "      <td>7</td>\n",
       "      <td>4</td>\n",
       "      <td>1</td>\n",
       "      <td>9</td>\n",
       "      <td>5</td>\n",
       "      <td>7</td>\n",
       "      <td>7</td>\n",
       "      <td>...</td>\n",
       "      <td>1</td>\n",
       "      <td>0</td>\n",
       "      <td>1</td>\n",
       "      <td>2</td>\n",
       "      <td>0</td>\n",
       "      <td>0</td>\n",
       "      <td>0</td>\n",
       "      <td>0</td>\n",
       "      <td>0</td>\n",
       "      <td>1</td>\n",
       "    </tr>\n",
       "    <tr>\n",
       "      <th>196</th>\n",
       "      <td>201902365</td>\n",
       "      <td>2</td>\n",
       "      <td>5</td>\n",
       "      <td>1</td>\n",
       "      <td>1</td>\n",
       "      <td>7</td>\n",
       "      <td>5</td>\n",
       "      <td>5</td>\n",
       "      <td>7</td>\n",
       "      <td>5</td>\n",
       "      <td>...</td>\n",
       "      <td>9</td>\n",
       "      <td>0</td>\n",
       "      <td>0</td>\n",
       "      <td>0</td>\n",
       "      <td>0</td>\n",
       "      <td>1</td>\n",
       "      <td>0</td>\n",
       "      <td>0</td>\n",
       "      <td>0</td>\n",
       "      <td>2</td>\n",
       "    </tr>\n",
       "    <tr>\n",
       "      <th>197</th>\n",
       "      <td>201902373</td>\n",
       "      <td></td>\n",
       "      <td>7</td>\n",
       "      <td>5</td>\n",
       "      <td>6</td>\n",
       "      <td>5</td>\n",
       "      <td>9</td>\n",
       "      <td>7</td>\n",
       "      <td>5</td>\n",
       "      <td>1</td>\n",
       "      <td>...</td>\n",
       "      <td>5</td>\n",
       "      <td>0</td>\n",
       "      <td>0</td>\n",
       "      <td>0</td>\n",
       "      <td>0</td>\n",
       "      <td>0</td>\n",
       "      <td>1</td>\n",
       "      <td>0</td>\n",
       "      <td>0</td>\n",
       "      <td>0</td>\n",
       "    </tr>\n",
       "    <tr>\n",
       "      <th>198</th>\n",
       "      <td>201902392</td>\n",
       "      <td>6</td>\n",
       "      <td>5</td>\n",
       "      <td>5</td>\n",
       "      <td>1</td>\n",
       "      <td>1</td>\n",
       "      <td>5</td>\n",
       "      <td>6</td>\n",
       "      <td>5</td>\n",
       "      <td>5</td>\n",
       "      <td>...</td>\n",
       "      <td>7</td>\n",
       "      <td>0</td>\n",
       "      <td>0</td>\n",
       "      <td>2</td>\n",
       "      <td>1</td>\n",
       "      <td>0</td>\n",
       "      <td>0</td>\n",
       "      <td>0</td>\n",
       "      <td>2</td>\n",
       "      <td>1</td>\n",
       "    </tr>\n",
       "    <tr>\n",
       "      <th>199</th>\n",
       "      <td>201902394</td>\n",
       "      <td>2</td>\n",
       "      <td>4</td>\n",
       "      <td>7</td>\n",
       "      <td>4</td>\n",
       "      <td>5</td>\n",
       "      <td>5</td>\n",
       "      <td>7</td>\n",
       "      <td>5</td>\n",
       "      <td>6</td>\n",
       "      <td>...</td>\n",
       "      <td>5</td>\n",
       "      <td>2</td>\n",
       "      <td>1</td>\n",
       "      <td>1</td>\n",
       "      <td>0</td>\n",
       "      <td>0</td>\n",
       "      <td>4</td>\n",
       "      <td>0</td>\n",
       "      <td>0</td>\n",
       "      <td>1</td>\n",
       "    </tr>\n",
       "  </tbody>\n",
       "</table>\n",
       "<p>200 rows × 28 columns</p>\n",
       "</div>"
      ],
      "text/plain": [
       "       game_id a1_1  a1_2 a2_1  a2_2  a3_1  a3_2 a4_1  a4_2  a5_1  ...  a9_2  \\\n",
       "0    201900016    5     5    5     5     5     5    5     5     5  ...     5   \n",
       "1    201900023    6     4    5     5     2     5    1     1     6  ...     7   \n",
       "2    201900103    5     6    5     5     1     9    5     4     6  ...     6   \n",
       "3    201900112    5     7    6     1     5     5    1     5     1  ...     5   \n",
       "4    201900131    5     1    2     5     2     5    7     2     6  ...     6   \n",
       "..         ...  ...   ...  ...   ...   ...   ...  ...   ...   ...  ...   ...   \n",
       "195  201902346    7     5    7     4     1     9    5     7     7  ...     1   \n",
       "196  201902365    2     5    1     1     7     5    5     7     5  ...     9   \n",
       "197  201902373          7    5     6     5     9    7     5     1  ...     5   \n",
       "198  201902392    6     5    5     1     1     5    6     5     5  ...     7   \n",
       "199  201902394    2     4    7     4     5     5    7     5     6  ...     5   \n",
       "\n",
       "     b1  b2 b3  b4  b5  b6  b7  b8  b9  \n",
       "0     0   0  0   0   0   0   0   4   2  \n",
       "1     3   0  0   1   0   1   3   1   0  \n",
       "2     0   0  1   1   4   1   2   0   1  \n",
       "3     0   3  0   0   0   0   1   0   0  \n",
       "4     0   2  4   1   2   2   0   1   0  \n",
       "..   ..  .. ..  ..  ..  ..  ..  ..  ..  \n",
       "195   0   1  2   0   0   0   0   0   1  \n",
       "196   0   0  0   0   1   0   0   0   2  \n",
       "197   0   0  0   0   0   1   0   0   0  \n",
       "198   0   0  2   1   0   0   0   2   1  \n",
       "199   2   1  1   0   0   4   0   0   1  \n",
       "\n",
       "[200 rows x 28 columns]"
      ]
     },
     "execution_count": 78,
     "metadata": {},
     "output_type": "execute_result"
    }
   ],
   "source": [
    "baseball = pd.read_csv(\"https://raw.githubusercontent.com/Datamanim/datarepo/main/adp/29/p2_.csv\")\n",
    "baseball"
   ]
  },
  {
   "cell_type": "code",
   "execution_count": 79,
   "metadata": {},
   "outputs": [],
   "source": [
    "### 출루의 정의\n",
    "# 1루타, 2루타, 3루타, 볼넷, 몸에 맞는 공\n",
    "# 1, 2, 3, 6, 8 코드\n",
    "\n",
    "### 필요한 컬럼들\n",
    "# 1번 타자 출루여부, 득점여부\n",
    "# 2번 타자의 behavior"
   ]
  },
  {
   "cell_type": "code",
   "execution_count": 80,
   "metadata": {},
   "outputs": [],
   "source": [
    "tmp_list = list()\n",
    "for i, game in enumerate(baseball.game_id.unique()):\n",
    "    game_data = baseball[baseball[\"game_id\"]==game]\n",
    "\n",
    "    # 이닝 별로 iter\n",
    "    for j in range(1, 10):\n",
    "        try:\n",
    "            behavior_1 = int(game_data[f'a{j}_1'][i]) # 1번 타자의 해당 이닝 데이터\n",
    "        except ValueError:\n",
    "            behavior_1 = 0\n",
    "        try:\n",
    "            behavior_2 = int(game_data[f'a{j}_2'][i]) # 2번 타자의 해당 이닝 데이터\n",
    "        except ValueError:\n",
    "            behavior_2 = 0\n",
    "\n",
    "        if behavior_1==4 or behavior_2==4: # 홈런이 나왔으면 해당 이닝 패스\n",
    "            continue\n",
    "\n",
    "        try:\n",
    "            score = int(game_data[f'b{j}'][i]) # 득점 데이터\n",
    "        except ValueError:\n",
    "            score = 0\n",
    "\n",
    "        # 1번 타자 출루 여부\n",
    "        if behavior_1 in (1, 2, 3, 6, 8):\n",
    "            choollu = 1\n",
    "        else:\n",
    "            choollu = 0\n",
    "\n",
    "        # 득점 여부\n",
    "        if score > 1:\n",
    "            score = 1\n",
    "        else:\n",
    "            score = 0\n",
    "\n",
    "        inning_data = [game, j, choollu, behavior_2, score]\n",
    "        tmp_list.append(inning_data)"
   ]
  },
  {
   "cell_type": "code",
   "execution_count": 81,
   "metadata": {},
   "outputs": [
    {
     "data": {
      "text/html": [
       "<div>\n",
       "<style scoped>\n",
       "    .dataframe tbody tr th:only-of-type {\n",
       "        vertical-align: middle;\n",
       "    }\n",
       "\n",
       "    .dataframe tbody tr th {\n",
       "        vertical-align: top;\n",
       "    }\n",
       "\n",
       "    .dataframe thead th {\n",
       "        text-align: right;\n",
       "    }\n",
       "</style>\n",
       "<table border=\"1\" class=\"dataframe\">\n",
       "  <thead>\n",
       "    <tr style=\"text-align: right;\">\n",
       "      <th></th>\n",
       "      <th>game_id</th>\n",
       "      <th>inning</th>\n",
       "      <th>fst_choo</th>\n",
       "      <th>snd</th>\n",
       "      <th>score</th>\n",
       "    </tr>\n",
       "  </thead>\n",
       "  <tbody>\n",
       "    <tr>\n",
       "      <th>0</th>\n",
       "      <td>201900016</td>\n",
       "      <td>1</td>\n",
       "      <td>0</td>\n",
       "      <td>5</td>\n",
       "      <td>0</td>\n",
       "    </tr>\n",
       "    <tr>\n",
       "      <th>1</th>\n",
       "      <td>201900016</td>\n",
       "      <td>2</td>\n",
       "      <td>0</td>\n",
       "      <td>5</td>\n",
       "      <td>0</td>\n",
       "    </tr>\n",
       "    <tr>\n",
       "      <th>2</th>\n",
       "      <td>201900016</td>\n",
       "      <td>3</td>\n",
       "      <td>0</td>\n",
       "      <td>5</td>\n",
       "      <td>0</td>\n",
       "    </tr>\n",
       "    <tr>\n",
       "      <th>3</th>\n",
       "      <td>201900016</td>\n",
       "      <td>4</td>\n",
       "      <td>0</td>\n",
       "      <td>5</td>\n",
       "      <td>0</td>\n",
       "    </tr>\n",
       "    <tr>\n",
       "      <th>4</th>\n",
       "      <td>201900016</td>\n",
       "      <td>5</td>\n",
       "      <td>0</td>\n",
       "      <td>5</td>\n",
       "      <td>0</td>\n",
       "    </tr>\n",
       "    <tr>\n",
       "      <th>...</th>\n",
       "      <td>...</td>\n",
       "      <td>...</td>\n",
       "      <td>...</td>\n",
       "      <td>...</td>\n",
       "      <td>...</td>\n",
       "    </tr>\n",
       "    <tr>\n",
       "      <th>1621</th>\n",
       "      <td>201902394</td>\n",
       "      <td>4</td>\n",
       "      <td>0</td>\n",
       "      <td>5</td>\n",
       "      <td>0</td>\n",
       "    </tr>\n",
       "    <tr>\n",
       "      <th>1622</th>\n",
       "      <td>201902394</td>\n",
       "      <td>5</td>\n",
       "      <td>1</td>\n",
       "      <td>7</td>\n",
       "      <td>0</td>\n",
       "    </tr>\n",
       "    <tr>\n",
       "      <th>1623</th>\n",
       "      <td>201902394</td>\n",
       "      <td>6</td>\n",
       "      <td>1</td>\n",
       "      <td>9</td>\n",
       "      <td>1</td>\n",
       "    </tr>\n",
       "    <tr>\n",
       "      <th>1624</th>\n",
       "      <td>201902394</td>\n",
       "      <td>7</td>\n",
       "      <td>0</td>\n",
       "      <td>5</td>\n",
       "      <td>0</td>\n",
       "    </tr>\n",
       "    <tr>\n",
       "      <th>1625</th>\n",
       "      <td>201902394</td>\n",
       "      <td>8</td>\n",
       "      <td>0</td>\n",
       "      <td>6</td>\n",
       "      <td>0</td>\n",
       "    </tr>\n",
       "  </tbody>\n",
       "</table>\n",
       "<p>1626 rows × 5 columns</p>\n",
       "</div>"
      ],
      "text/plain": [
       "        game_id  inning  fst_choo  snd  score\n",
       "0     201900016       1         0    5      0\n",
       "1     201900016       2         0    5      0\n",
       "2     201900016       3         0    5      0\n",
       "3     201900016       4         0    5      0\n",
       "4     201900016       5         0    5      0\n",
       "...         ...     ...       ...  ...    ...\n",
       "1621  201902394       4         0    5      0\n",
       "1622  201902394       5         1    7      0\n",
       "1623  201902394       6         1    9      1\n",
       "1624  201902394       7         0    5      0\n",
       "1625  201902394       8         0    6      0\n",
       "\n",
       "[1626 rows x 5 columns]"
      ]
     },
     "execution_count": 81,
     "metadata": {},
     "output_type": "execute_result"
    }
   ],
   "source": [
    "baseball_df = pd.DataFrame(tmp_list, columns=[\"game_id\", \"inning\", \"fst_choo\", \"snd\", \"score\"])\n",
    "baseball_df"
   ]
  },
  {
   "cell_type": "code",
   "execution_count": 82,
   "metadata": {},
   "outputs": [
    {
     "data": {
      "text/html": [
       "<div>\n",
       "<style scoped>\n",
       "    .dataframe tbody tr th:only-of-type {\n",
       "        vertical-align: middle;\n",
       "    }\n",
       "\n",
       "    .dataframe tbody tr th {\n",
       "        vertical-align: top;\n",
       "    }\n",
       "\n",
       "    .dataframe thead th {\n",
       "        text-align: right;\n",
       "    }\n",
       "</style>\n",
       "<table border=\"1\" class=\"dataframe\">\n",
       "  <thead>\n",
       "    <tr style=\"text-align: right;\">\n",
       "      <th></th>\n",
       "      <th>snd1</th>\n",
       "      <th>snd2</th>\n",
       "      <th>snd3</th>\n",
       "      <th>snd5</th>\n",
       "      <th>snd6</th>\n",
       "      <th>snd7</th>\n",
       "      <th>snd8</th>\n",
       "      <th>snd9</th>\n",
       "    </tr>\n",
       "  </thead>\n",
       "  <tbody>\n",
       "    <tr>\n",
       "      <th>0</th>\n",
       "      <td>0</td>\n",
       "      <td>0</td>\n",
       "      <td>0</td>\n",
       "      <td>1</td>\n",
       "      <td>0</td>\n",
       "      <td>0</td>\n",
       "      <td>0</td>\n",
       "      <td>0</td>\n",
       "    </tr>\n",
       "    <tr>\n",
       "      <th>1</th>\n",
       "      <td>0</td>\n",
       "      <td>0</td>\n",
       "      <td>0</td>\n",
       "      <td>1</td>\n",
       "      <td>0</td>\n",
       "      <td>0</td>\n",
       "      <td>0</td>\n",
       "      <td>0</td>\n",
       "    </tr>\n",
       "    <tr>\n",
       "      <th>2</th>\n",
       "      <td>0</td>\n",
       "      <td>0</td>\n",
       "      <td>0</td>\n",
       "      <td>1</td>\n",
       "      <td>0</td>\n",
       "      <td>0</td>\n",
       "      <td>0</td>\n",
       "      <td>0</td>\n",
       "    </tr>\n",
       "    <tr>\n",
       "      <th>3</th>\n",
       "      <td>0</td>\n",
       "      <td>0</td>\n",
       "      <td>0</td>\n",
       "      <td>1</td>\n",
       "      <td>0</td>\n",
       "      <td>0</td>\n",
       "      <td>0</td>\n",
       "      <td>0</td>\n",
       "    </tr>\n",
       "    <tr>\n",
       "      <th>4</th>\n",
       "      <td>0</td>\n",
       "      <td>0</td>\n",
       "      <td>0</td>\n",
       "      <td>1</td>\n",
       "      <td>0</td>\n",
       "      <td>0</td>\n",
       "      <td>0</td>\n",
       "      <td>0</td>\n",
       "    </tr>\n",
       "    <tr>\n",
       "      <th>...</th>\n",
       "      <td>...</td>\n",
       "      <td>...</td>\n",
       "      <td>...</td>\n",
       "      <td>...</td>\n",
       "      <td>...</td>\n",
       "      <td>...</td>\n",
       "      <td>...</td>\n",
       "      <td>...</td>\n",
       "    </tr>\n",
       "    <tr>\n",
       "      <th>1621</th>\n",
       "      <td>0</td>\n",
       "      <td>0</td>\n",
       "      <td>0</td>\n",
       "      <td>1</td>\n",
       "      <td>0</td>\n",
       "      <td>0</td>\n",
       "      <td>0</td>\n",
       "      <td>0</td>\n",
       "    </tr>\n",
       "    <tr>\n",
       "      <th>1622</th>\n",
       "      <td>0</td>\n",
       "      <td>0</td>\n",
       "      <td>0</td>\n",
       "      <td>0</td>\n",
       "      <td>0</td>\n",
       "      <td>1</td>\n",
       "      <td>0</td>\n",
       "      <td>0</td>\n",
       "    </tr>\n",
       "    <tr>\n",
       "      <th>1623</th>\n",
       "      <td>0</td>\n",
       "      <td>0</td>\n",
       "      <td>0</td>\n",
       "      <td>0</td>\n",
       "      <td>0</td>\n",
       "      <td>0</td>\n",
       "      <td>0</td>\n",
       "      <td>1</td>\n",
       "    </tr>\n",
       "    <tr>\n",
       "      <th>1624</th>\n",
       "      <td>0</td>\n",
       "      <td>0</td>\n",
       "      <td>0</td>\n",
       "      <td>1</td>\n",
       "      <td>0</td>\n",
       "      <td>0</td>\n",
       "      <td>0</td>\n",
       "      <td>0</td>\n",
       "    </tr>\n",
       "    <tr>\n",
       "      <th>1625</th>\n",
       "      <td>0</td>\n",
       "      <td>0</td>\n",
       "      <td>0</td>\n",
       "      <td>0</td>\n",
       "      <td>1</td>\n",
       "      <td>0</td>\n",
       "      <td>0</td>\n",
       "      <td>0</td>\n",
       "    </tr>\n",
       "  </tbody>\n",
       "</table>\n",
       "<p>1626 rows × 8 columns</p>\n",
       "</div>"
      ],
      "text/plain": [
       "      snd1  snd2  snd3  snd5  snd6  snd7  snd8  snd9\n",
       "0        0     0     0     1     0     0     0     0\n",
       "1        0     0     0     1     0     0     0     0\n",
       "2        0     0     0     1     0     0     0     0\n",
       "3        0     0     0     1     0     0     0     0\n",
       "4        0     0     0     1     0     0     0     0\n",
       "...    ...   ...   ...   ...   ...   ...   ...   ...\n",
       "1621     0     0     0     1     0     0     0     0\n",
       "1622     0     0     0     0     0     1     0     0\n",
       "1623     0     0     0     0     0     0     0     1\n",
       "1624     0     0     0     1     0     0     0     0\n",
       "1625     0     0     0     0     1     0     0     0\n",
       "\n",
       "[1626 rows x 8 columns]"
      ]
     },
     "execution_count": 82,
     "metadata": {},
     "output_type": "execute_result"
    }
   ],
   "source": [
    "dummy_col = pd.get_dummies(baseball_df[\"snd\"])\n",
    "dummy_col.columns = [f\"snd{i}\" for i in dummy_col.columns]\n",
    "for col in dummy_col:\n",
    "    dummy_col[col] = np.where(dummy_col[col], 1, 0)\n",
    "dummy_col"
   ]
  },
  {
   "cell_type": "code",
   "execution_count": 83,
   "metadata": {},
   "outputs": [
    {
     "data": {
      "text/html": [
       "<div>\n",
       "<style scoped>\n",
       "    .dataframe tbody tr th:only-of-type {\n",
       "        vertical-align: middle;\n",
       "    }\n",
       "\n",
       "    .dataframe tbody tr th {\n",
       "        vertical-align: top;\n",
       "    }\n",
       "\n",
       "    .dataframe thead th {\n",
       "        text-align: right;\n",
       "    }\n",
       "</style>\n",
       "<table border=\"1\" class=\"dataframe\">\n",
       "  <thead>\n",
       "    <tr style=\"text-align: right;\">\n",
       "      <th></th>\n",
       "      <th>game_id</th>\n",
       "      <th>inning</th>\n",
       "      <th>fst_choo</th>\n",
       "      <th>snd</th>\n",
       "      <th>score</th>\n",
       "      <th>snd1</th>\n",
       "      <th>snd2</th>\n",
       "      <th>snd3</th>\n",
       "      <th>snd5</th>\n",
       "      <th>snd6</th>\n",
       "      <th>snd7</th>\n",
       "      <th>snd8</th>\n",
       "      <th>snd9</th>\n",
       "    </tr>\n",
       "  </thead>\n",
       "  <tbody>\n",
       "    <tr>\n",
       "      <th>0</th>\n",
       "      <td>201900016</td>\n",
       "      <td>1</td>\n",
       "      <td>0</td>\n",
       "      <td>5</td>\n",
       "      <td>0</td>\n",
       "      <td>0</td>\n",
       "      <td>0</td>\n",
       "      <td>0</td>\n",
       "      <td>1</td>\n",
       "      <td>0</td>\n",
       "      <td>0</td>\n",
       "      <td>0</td>\n",
       "      <td>0</td>\n",
       "    </tr>\n",
       "    <tr>\n",
       "      <th>1</th>\n",
       "      <td>201900016</td>\n",
       "      <td>2</td>\n",
       "      <td>0</td>\n",
       "      <td>5</td>\n",
       "      <td>0</td>\n",
       "      <td>0</td>\n",
       "      <td>0</td>\n",
       "      <td>0</td>\n",
       "      <td>1</td>\n",
       "      <td>0</td>\n",
       "      <td>0</td>\n",
       "      <td>0</td>\n",
       "      <td>0</td>\n",
       "    </tr>\n",
       "    <tr>\n",
       "      <th>2</th>\n",
       "      <td>201900016</td>\n",
       "      <td>3</td>\n",
       "      <td>0</td>\n",
       "      <td>5</td>\n",
       "      <td>0</td>\n",
       "      <td>0</td>\n",
       "      <td>0</td>\n",
       "      <td>0</td>\n",
       "      <td>1</td>\n",
       "      <td>0</td>\n",
       "      <td>0</td>\n",
       "      <td>0</td>\n",
       "      <td>0</td>\n",
       "    </tr>\n",
       "    <tr>\n",
       "      <th>3</th>\n",
       "      <td>201900016</td>\n",
       "      <td>4</td>\n",
       "      <td>0</td>\n",
       "      <td>5</td>\n",
       "      <td>0</td>\n",
       "      <td>0</td>\n",
       "      <td>0</td>\n",
       "      <td>0</td>\n",
       "      <td>1</td>\n",
       "      <td>0</td>\n",
       "      <td>0</td>\n",
       "      <td>0</td>\n",
       "      <td>0</td>\n",
       "    </tr>\n",
       "    <tr>\n",
       "      <th>4</th>\n",
       "      <td>201900016</td>\n",
       "      <td>5</td>\n",
       "      <td>0</td>\n",
       "      <td>5</td>\n",
       "      <td>0</td>\n",
       "      <td>0</td>\n",
       "      <td>0</td>\n",
       "      <td>0</td>\n",
       "      <td>1</td>\n",
       "      <td>0</td>\n",
       "      <td>0</td>\n",
       "      <td>0</td>\n",
       "      <td>0</td>\n",
       "    </tr>\n",
       "    <tr>\n",
       "      <th>...</th>\n",
       "      <td>...</td>\n",
       "      <td>...</td>\n",
       "      <td>...</td>\n",
       "      <td>...</td>\n",
       "      <td>...</td>\n",
       "      <td>...</td>\n",
       "      <td>...</td>\n",
       "      <td>...</td>\n",
       "      <td>...</td>\n",
       "      <td>...</td>\n",
       "      <td>...</td>\n",
       "      <td>...</td>\n",
       "      <td>...</td>\n",
       "    </tr>\n",
       "    <tr>\n",
       "      <th>1621</th>\n",
       "      <td>201902394</td>\n",
       "      <td>4</td>\n",
       "      <td>0</td>\n",
       "      <td>5</td>\n",
       "      <td>0</td>\n",
       "      <td>0</td>\n",
       "      <td>0</td>\n",
       "      <td>0</td>\n",
       "      <td>1</td>\n",
       "      <td>0</td>\n",
       "      <td>0</td>\n",
       "      <td>0</td>\n",
       "      <td>0</td>\n",
       "    </tr>\n",
       "    <tr>\n",
       "      <th>1622</th>\n",
       "      <td>201902394</td>\n",
       "      <td>5</td>\n",
       "      <td>1</td>\n",
       "      <td>7</td>\n",
       "      <td>0</td>\n",
       "      <td>0</td>\n",
       "      <td>0</td>\n",
       "      <td>0</td>\n",
       "      <td>0</td>\n",
       "      <td>0</td>\n",
       "      <td>1</td>\n",
       "      <td>0</td>\n",
       "      <td>0</td>\n",
       "    </tr>\n",
       "    <tr>\n",
       "      <th>1623</th>\n",
       "      <td>201902394</td>\n",
       "      <td>6</td>\n",
       "      <td>1</td>\n",
       "      <td>9</td>\n",
       "      <td>1</td>\n",
       "      <td>0</td>\n",
       "      <td>0</td>\n",
       "      <td>0</td>\n",
       "      <td>0</td>\n",
       "      <td>0</td>\n",
       "      <td>0</td>\n",
       "      <td>0</td>\n",
       "      <td>1</td>\n",
       "    </tr>\n",
       "    <tr>\n",
       "      <th>1624</th>\n",
       "      <td>201902394</td>\n",
       "      <td>7</td>\n",
       "      <td>0</td>\n",
       "      <td>5</td>\n",
       "      <td>0</td>\n",
       "      <td>0</td>\n",
       "      <td>0</td>\n",
       "      <td>0</td>\n",
       "      <td>1</td>\n",
       "      <td>0</td>\n",
       "      <td>0</td>\n",
       "      <td>0</td>\n",
       "      <td>0</td>\n",
       "    </tr>\n",
       "    <tr>\n",
       "      <th>1625</th>\n",
       "      <td>201902394</td>\n",
       "      <td>8</td>\n",
       "      <td>0</td>\n",
       "      <td>6</td>\n",
       "      <td>0</td>\n",
       "      <td>0</td>\n",
       "      <td>0</td>\n",
       "      <td>0</td>\n",
       "      <td>0</td>\n",
       "      <td>1</td>\n",
       "      <td>0</td>\n",
       "      <td>0</td>\n",
       "      <td>0</td>\n",
       "    </tr>\n",
       "  </tbody>\n",
       "</table>\n",
       "<p>1626 rows × 13 columns</p>\n",
       "</div>"
      ],
      "text/plain": [
       "        game_id  inning  fst_choo  snd  score  snd1  snd2  snd3  snd5  snd6  \\\n",
       "0     201900016       1         0    5      0     0     0     0     1     0   \n",
       "1     201900016       2         0    5      0     0     0     0     1     0   \n",
       "2     201900016       3         0    5      0     0     0     0     1     0   \n",
       "3     201900016       4         0    5      0     0     0     0     1     0   \n",
       "4     201900016       5         0    5      0     0     0     0     1     0   \n",
       "...         ...     ...       ...  ...    ...   ...   ...   ...   ...   ...   \n",
       "1621  201902394       4         0    5      0     0     0     0     1     0   \n",
       "1622  201902394       5         1    7      0     0     0     0     0     0   \n",
       "1623  201902394       6         1    9      1     0     0     0     0     0   \n",
       "1624  201902394       7         0    5      0     0     0     0     1     0   \n",
       "1625  201902394       8         0    6      0     0     0     0     0     1   \n",
       "\n",
       "      snd7  snd8  snd9  \n",
       "0        0     0     0  \n",
       "1        0     0     0  \n",
       "2        0     0     0  \n",
       "3        0     0     0  \n",
       "4        0     0     0  \n",
       "...    ...   ...   ...  \n",
       "1621     0     0     0  \n",
       "1622     1     0     0  \n",
       "1623     0     0     1  \n",
       "1624     0     0     0  \n",
       "1625     0     0     0  \n",
       "\n",
       "[1626 rows x 13 columns]"
      ]
     },
     "execution_count": 83,
     "metadata": {},
     "output_type": "execute_result"
    }
   ],
   "source": [
    "baseball_df = pd.concat([baseball_df, dummy_col], axis=1)\n",
    "baseball_df"
   ]
  },
  {
   "cell_type": "markdown",
   "metadata": {},
   "source": [
    "## 4-2 4-1 데이터에 대해 Logistic Regression을 적용하고 2번타자의 희생번트 여부에 대한 회귀 계수 검정을 하라\n",
    "- 희생번트 여부의 회귀계수는 거의 0에 가까움. p-value 0.924로 유의미하지 않은 변수임"
   ]
  },
  {
   "cell_type": "code",
   "execution_count": 84,
   "metadata": {},
   "outputs": [],
   "source": [
    "# 희생번트: snd9\n",
    "import statsmodels.api as sm\n",
    "import statsmodels.formula.api as smf"
   ]
  },
  {
   "cell_type": "code",
   "execution_count": 85,
   "metadata": {},
   "outputs": [],
   "source": [
    "y = baseball_df[\"score\"]\n",
    "x = baseball_df.drop([\"game_id\", \"inning\", \"score\", \"snd\"], axis=1)"
   ]
  },
  {
   "cell_type": "code",
   "execution_count": 86,
   "metadata": {},
   "outputs": [
    {
     "data": {
      "text/plain": [
       "'snd1 + snd2 + snd3 + snd5 + snd6 + snd7 + snd8 + snd9'"
      ]
     },
     "execution_count": 86,
     "metadata": {},
     "output_type": "execute_result"
    }
   ],
   "source": [
    "dummy_str = \" + \".join([f\"snd{i}\" for i in [1, 2, 3, 5, 6, 7, 8, 9]])\n",
    "dummy_str"
   ]
  },
  {
   "cell_type": "code",
   "execution_count": 87,
   "metadata": {},
   "outputs": [
    {
     "data": {
      "text/html": [
       "<table class=\"simpletable\">\n",
       "<caption>Generalized Linear Model Regression Results</caption>\n",
       "<tr>\n",
       "  <th>Dep. Variable:</th>         <td>score</td>      <th>  No. Observations:  </th>  <td>  1626</td> \n",
       "</tr>\n",
       "<tr>\n",
       "  <th>Model:</th>                  <td>GLM</td>       <th>  Df Residuals:      </th>  <td>  1617</td> \n",
       "</tr>\n",
       "<tr>\n",
       "  <th>Model Family:</th>        <td>Binomial</td>     <th>  Df Model:          </th>  <td>     8</td> \n",
       "</tr>\n",
       "<tr>\n",
       "  <th>Link Function:</th>         <td>Logit</td>      <th>  Scale:             </th> <td>  1.0000</td>\n",
       "</tr>\n",
       "<tr>\n",
       "  <th>Method:</th>                <td>IRLS</td>       <th>  Log-Likelihood:    </th> <td> -623.72</td>\n",
       "</tr>\n",
       "<tr>\n",
       "  <th>Date:</th>            <td>Thu, 10 Aug 2023</td> <th>  Deviance:          </th> <td>  1247.4</td>\n",
       "</tr>\n",
       "<tr>\n",
       "  <th>Time:</th>                <td>14:08:36</td>     <th>  Pearson chi2:      </th> <td>1.48e+03</td>\n",
       "</tr>\n",
       "<tr>\n",
       "  <th>No. Iterations:</th>         <td>100</td>       <th>  Pseudo R-squ. (CS):</th>  <td>0.1615</td> \n",
       "</tr>\n",
       "<tr>\n",
       "  <th>Covariance Type:</th>     <td>nonrobust</td>    <th>                     </th>     <td> </td>   \n",
       "</tr>\n",
       "</table>\n",
       "<table class=\"simpletable\">\n",
       "<tr>\n",
       "      <td></td>         <th>coef</th>     <th>std err</th>      <th>z</th>      <th>P>|z|</th>  <th>[0.025</th>    <th>0.975]</th>  \n",
       "</tr>\n",
       "<tr>\n",
       "  <th>Intercept</th> <td> 5.215e+11</td> <td> 5.46e+12</td> <td>    0.096</td> <td> 0.924</td> <td>-1.02e+13</td> <td> 1.12e+13</td>\n",
       "</tr>\n",
       "<tr>\n",
       "  <th>fst_choo</th>  <td>    1.6173</td> <td>    0.156</td> <td>   10.348</td> <td> 0.000</td> <td>    1.311</td> <td>    1.924</td>\n",
       "</tr>\n",
       "<tr>\n",
       "  <th>snd1</th>      <td>-5.215e+11</td> <td> 5.46e+12</td> <td>   -0.096</td> <td> 0.924</td> <td>-1.12e+13</td> <td> 1.02e+13</td>\n",
       "</tr>\n",
       "<tr>\n",
       "  <th>snd2</th>      <td>-5.215e+11</td> <td> 5.46e+12</td> <td>   -0.096</td> <td> 0.924</td> <td>-1.12e+13</td> <td> 1.02e+13</td>\n",
       "</tr>\n",
       "<tr>\n",
       "  <th>snd3</th>      <td>-5.215e+11</td> <td> 5.46e+12</td> <td>   -0.096</td> <td> 0.924</td> <td>-1.12e+13</td> <td> 1.02e+13</td>\n",
       "</tr>\n",
       "<tr>\n",
       "  <th>snd5</th>      <td>-5.215e+11</td> <td> 5.46e+12</td> <td>   -0.096</td> <td> 0.924</td> <td>-1.12e+13</td> <td> 1.02e+13</td>\n",
       "</tr>\n",
       "<tr>\n",
       "  <th>snd6</th>      <td>-5.215e+11</td> <td> 5.46e+12</td> <td>   -0.096</td> <td> 0.924</td> <td>-1.12e+13</td> <td> 1.02e+13</td>\n",
       "</tr>\n",
       "<tr>\n",
       "  <th>snd7</th>      <td>-5.215e+11</td> <td> 5.46e+12</td> <td>   -0.096</td> <td> 0.924</td> <td>-1.12e+13</td> <td> 1.02e+13</td>\n",
       "</tr>\n",
       "<tr>\n",
       "  <th>snd8</th>      <td>-5.215e+11</td> <td> 5.46e+12</td> <td>   -0.096</td> <td> 0.924</td> <td>-1.12e+13</td> <td> 1.02e+13</td>\n",
       "</tr>\n",
       "<tr>\n",
       "  <th>snd9</th>      <td>-5.215e+11</td> <td> 5.46e+12</td> <td>   -0.096</td> <td> 0.924</td> <td>-1.12e+13</td> <td> 1.02e+13</td>\n",
       "</tr>\n",
       "</table>"
      ],
      "text/latex": [
       "\\begin{center}\n",
       "\\begin{tabular}{lclc}\n",
       "\\toprule\n",
       "\\textbf{Dep. Variable:}   &      score       & \\textbf{  No. Observations:  } &     1626    \\\\\n",
       "\\textbf{Model:}           &       GLM        & \\textbf{  Df Residuals:      } &     1617    \\\\\n",
       "\\textbf{Model Family:}    &     Binomial     & \\textbf{  Df Model:          } &        8    \\\\\n",
       "\\textbf{Link Function:}   &      Logit       & \\textbf{  Scale:             } &    1.0000   \\\\\n",
       "\\textbf{Method:}          &       IRLS       & \\textbf{  Log-Likelihood:    } &   -623.72   \\\\\n",
       "\\textbf{Date:}            & Thu, 10 Aug 2023 & \\textbf{  Deviance:          } &    1247.4   \\\\\n",
       "\\textbf{Time:}            &     14:08:36     & \\textbf{  Pearson chi2:      } &  1.48e+03   \\\\\n",
       "\\textbf{No. Iterations:}  &       100        & \\textbf{  Pseudo R-squ. (CS):} &   0.1615    \\\\\n",
       "\\textbf{Covariance Type:} &    nonrobust     & \\textbf{                     } &             \\\\\n",
       "\\bottomrule\n",
       "\\end{tabular}\n",
       "\\begin{tabular}{lcccccc}\n",
       "                   & \\textbf{coef} & \\textbf{std err} & \\textbf{z} & \\textbf{P$> |$z$|$} & \\textbf{[0.025} & \\textbf{0.975]}  \\\\\n",
       "\\midrule\n",
       "\\textbf{Intercept} &    5.215e+11  &     5.46e+12     &     0.096  &         0.924        &    -1.02e+13    &     1.12e+13     \\\\\n",
       "\\textbf{fst\\_choo} &       1.6173  &        0.156     &    10.348  &         0.000        &        1.311    &        1.924     \\\\\n",
       "\\textbf{snd1}      &   -5.215e+11  &     5.46e+12     &    -0.096  &         0.924        &    -1.12e+13    &     1.02e+13     \\\\\n",
       "\\textbf{snd2}      &   -5.215e+11  &     5.46e+12     &    -0.096  &         0.924        &    -1.12e+13    &     1.02e+13     \\\\\n",
       "\\textbf{snd3}      &   -5.215e+11  &     5.46e+12     &    -0.096  &         0.924        &    -1.12e+13    &     1.02e+13     \\\\\n",
       "\\textbf{snd5}      &   -5.215e+11  &     5.46e+12     &    -0.096  &         0.924        &    -1.12e+13    &     1.02e+13     \\\\\n",
       "\\textbf{snd6}      &   -5.215e+11  &     5.46e+12     &    -0.096  &         0.924        &    -1.12e+13    &     1.02e+13     \\\\\n",
       "\\textbf{snd7}      &   -5.215e+11  &     5.46e+12     &    -0.096  &         0.924        &    -1.12e+13    &     1.02e+13     \\\\\n",
       "\\textbf{snd8}      &   -5.215e+11  &     5.46e+12     &    -0.096  &         0.924        &    -1.12e+13    &     1.02e+13     \\\\\n",
       "\\textbf{snd9}      &   -5.215e+11  &     5.46e+12     &    -0.096  &         0.924        &    -1.12e+13    &     1.02e+13     \\\\\n",
       "\\bottomrule\n",
       "\\end{tabular}\n",
       "%\\caption{Generalized Linear Model Regression Results}\n",
       "\\end{center}"
      ],
      "text/plain": [
       "<class 'statsmodels.iolib.summary.Summary'>\n",
       "\"\"\"\n",
       "                 Generalized Linear Model Regression Results                  \n",
       "==============================================================================\n",
       "Dep. Variable:                  score   No. Observations:                 1626\n",
       "Model:                            GLM   Df Residuals:                     1617\n",
       "Model Family:                Binomial   Df Model:                            8\n",
       "Link Function:                  Logit   Scale:                          1.0000\n",
       "Method:                          IRLS   Log-Likelihood:                -623.72\n",
       "Date:                Thu, 10 Aug 2023   Deviance:                       1247.4\n",
       "Time:                        14:08:36   Pearson chi2:                 1.48e+03\n",
       "No. Iterations:                   100   Pseudo R-squ. (CS):             0.1615\n",
       "Covariance Type:            nonrobust                                         \n",
       "==============================================================================\n",
       "                 coef    std err          z      P>|z|      [0.025      0.975]\n",
       "------------------------------------------------------------------------------\n",
       "Intercept   5.215e+11   5.46e+12      0.096      0.924   -1.02e+13    1.12e+13\n",
       "fst_choo       1.6173      0.156     10.348      0.000       1.311       1.924\n",
       "snd1       -5.215e+11   5.46e+12     -0.096      0.924   -1.12e+13    1.02e+13\n",
       "snd2       -5.215e+11   5.46e+12     -0.096      0.924   -1.12e+13    1.02e+13\n",
       "snd3       -5.215e+11   5.46e+12     -0.096      0.924   -1.12e+13    1.02e+13\n",
       "snd5       -5.215e+11   5.46e+12     -0.096      0.924   -1.12e+13    1.02e+13\n",
       "snd6       -5.215e+11   5.46e+12     -0.096      0.924   -1.12e+13    1.02e+13\n",
       "snd7       -5.215e+11   5.46e+12     -0.096      0.924   -1.12e+13    1.02e+13\n",
       "snd8       -5.215e+11   5.46e+12     -0.096      0.924   -1.12e+13    1.02e+13\n",
       "snd9       -5.215e+11   5.46e+12     -0.096      0.924   -1.12e+13    1.02e+13\n",
       "==============================================================================\n",
       "\"\"\""
      ]
     },
     "execution_count": 87,
     "metadata": {},
     "output_type": "execute_result"
    }
   ],
   "source": [
    "# Modeling\n",
    "mod_glm = smf.glm(formula = f\"score ~ fst_choo + {dummy_str}\", data = baseball_df, family=sm.families.Binomial()).fit()\n",
    "mod_glm.summary()"
   ]
  },
  {
   "cell_type": "markdown",
   "metadata": {},
   "source": [
    "## 4-3 SMOTE (random_state =0 지정)를 적용하여 data imbalance를 해결하라"
   ]
  },
  {
   "cell_type": "code",
   "execution_count": 88,
   "metadata": {},
   "outputs": [
    {
     "data": {
      "text/plain": [
       "score\n",
       "0    1333\n",
       "1     293\n",
       "Name: count, dtype: int64"
      ]
     },
     "execution_count": 88,
     "metadata": {},
     "output_type": "execute_result"
    }
   ],
   "source": [
    "y.value_counts() # imbalance 있음"
   ]
  },
  {
   "cell_type": "code",
   "execution_count": 89,
   "metadata": {},
   "outputs": [],
   "source": [
    "from imblearn.over_sampling import SMOTE\n",
    "from collections import Counter"
   ]
  },
  {
   "cell_type": "code",
   "execution_count": 90,
   "metadata": {},
   "outputs": [
    {
     "name": "stdout",
     "output_type": "stream",
     "text": [
      "Counter({0: 1333, 1: 1333})\n"
     ]
    }
   ],
   "source": [
    "smote_sample = SMOTE(sampling_strategy='minority', random_state=0) \n",
    "x_sm, y_sm = smote_sample.fit_resample(x, y)\n",
    "print(Counter(y_sm))"
   ]
  },
  {
   "cell_type": "markdown",
   "metadata": {},
   "source": [
    "## 4-4 4-3 구성 데이터에 Logistic Regression을 적용하고 결과를 분석하라\n",
    "- 회귀 분석의 계수를 분석해보니, 가장 중요한 변수는 두 번째 타자의 삼진 여부이며, 그 다음은 두번째 타자의 3루타 여부로 나타났음\n",
    "- 첫 번째 타자의 출루와 두 번째 타자의 삼진 이외 아웃도 중요한 역할을 하고 있음"
   ]
  },
  {
   "cell_type": "code",
   "execution_count": 91,
   "metadata": {},
   "outputs": [],
   "source": [
    "# Modeling\n",
    "from sklearn.linear_model import LogisticRegression"
   ]
  },
  {
   "cell_type": "code",
   "execution_count": 92,
   "metadata": {},
   "outputs": [],
   "source": [
    "from sklearn.model_selection import train_test_split"
   ]
  },
  {
   "cell_type": "code",
   "execution_count": 93,
   "metadata": {},
   "outputs": [
    {
     "data": {
      "text/html": [
       "<style>#sk-container-id-1 {color: black;}#sk-container-id-1 pre{padding: 0;}#sk-container-id-1 div.sk-toggleable {background-color: white;}#sk-container-id-1 label.sk-toggleable__label {cursor: pointer;display: block;width: 100%;margin-bottom: 0;padding: 0.3em;box-sizing: border-box;text-align: center;}#sk-container-id-1 label.sk-toggleable__label-arrow:before {content: \"▸\";float: left;margin-right: 0.25em;color: #696969;}#sk-container-id-1 label.sk-toggleable__label-arrow:hover:before {color: black;}#sk-container-id-1 div.sk-estimator:hover label.sk-toggleable__label-arrow:before {color: black;}#sk-container-id-1 div.sk-toggleable__content {max-height: 0;max-width: 0;overflow: hidden;text-align: left;background-color: #f0f8ff;}#sk-container-id-1 div.sk-toggleable__content pre {margin: 0.2em;color: black;border-radius: 0.25em;background-color: #f0f8ff;}#sk-container-id-1 input.sk-toggleable__control:checked~div.sk-toggleable__content {max-height: 200px;max-width: 100%;overflow: auto;}#sk-container-id-1 input.sk-toggleable__control:checked~label.sk-toggleable__label-arrow:before {content: \"▾\";}#sk-container-id-1 div.sk-estimator input.sk-toggleable__control:checked~label.sk-toggleable__label {background-color: #d4ebff;}#sk-container-id-1 div.sk-label input.sk-toggleable__control:checked~label.sk-toggleable__label {background-color: #d4ebff;}#sk-container-id-1 input.sk-hidden--visually {border: 0;clip: rect(1px 1px 1px 1px);clip: rect(1px, 1px, 1px, 1px);height: 1px;margin: -1px;overflow: hidden;padding: 0;position: absolute;width: 1px;}#sk-container-id-1 div.sk-estimator {font-family: monospace;background-color: #f0f8ff;border: 1px dotted black;border-radius: 0.25em;box-sizing: border-box;margin-bottom: 0.5em;}#sk-container-id-1 div.sk-estimator:hover {background-color: #d4ebff;}#sk-container-id-1 div.sk-parallel-item::after {content: \"\";width: 100%;border-bottom: 1px solid gray;flex-grow: 1;}#sk-container-id-1 div.sk-label:hover label.sk-toggleable__label {background-color: #d4ebff;}#sk-container-id-1 div.sk-serial::before {content: \"\";position: absolute;border-left: 1px solid gray;box-sizing: border-box;top: 0;bottom: 0;left: 50%;z-index: 0;}#sk-container-id-1 div.sk-serial {display: flex;flex-direction: column;align-items: center;background-color: white;padding-right: 0.2em;padding-left: 0.2em;position: relative;}#sk-container-id-1 div.sk-item {position: relative;z-index: 1;}#sk-container-id-1 div.sk-parallel {display: flex;align-items: stretch;justify-content: center;background-color: white;position: relative;}#sk-container-id-1 div.sk-item::before, #sk-container-id-1 div.sk-parallel-item::before {content: \"\";position: absolute;border-left: 1px solid gray;box-sizing: border-box;top: 0;bottom: 0;left: 50%;z-index: -1;}#sk-container-id-1 div.sk-parallel-item {display: flex;flex-direction: column;z-index: 1;position: relative;background-color: white;}#sk-container-id-1 div.sk-parallel-item:first-child::after {align-self: flex-end;width: 50%;}#sk-container-id-1 div.sk-parallel-item:last-child::after {align-self: flex-start;width: 50%;}#sk-container-id-1 div.sk-parallel-item:only-child::after {width: 0;}#sk-container-id-1 div.sk-dashed-wrapped {border: 1px dashed gray;margin: 0 0.4em 0.5em 0.4em;box-sizing: border-box;padding-bottom: 0.4em;background-color: white;}#sk-container-id-1 div.sk-label label {font-family: monospace;font-weight: bold;display: inline-block;line-height: 1.2em;}#sk-container-id-1 div.sk-label-container {text-align: center;}#sk-container-id-1 div.sk-container {/* jupyter's `normalize.less` sets `[hidden] { display: none; }` but bootstrap.min.css set `[hidden] { display: none !important; }` so we also need the `!important` here to be able to override the default hidden behavior on the sphinx rendered scikit-learn.org. See: https://github.com/scikit-learn/scikit-learn/issues/21755 */display: inline-block !important;position: relative;}#sk-container-id-1 div.sk-text-repr-fallback {display: none;}</style><div id=\"sk-container-id-1\" class=\"sk-top-container\"><div class=\"sk-text-repr-fallback\"><pre>LogisticRegression()</pre><b>In a Jupyter environment, please rerun this cell to show the HTML representation or trust the notebook. <br />On GitHub, the HTML representation is unable to render, please try loading this page with nbviewer.org.</b></div><div class=\"sk-container\" hidden><div class=\"sk-item\"><div class=\"sk-estimator sk-toggleable\"><input class=\"sk-toggleable__control sk-hidden--visually\" id=\"sk-estimator-id-1\" type=\"checkbox\" checked><label for=\"sk-estimator-id-1\" class=\"sk-toggleable__label sk-toggleable__label-arrow\">LogisticRegression</label><div class=\"sk-toggleable__content\"><pre>LogisticRegression()</pre></div></div></div></div></div>"
      ],
      "text/plain": [
       "LogisticRegression()"
      ]
     },
     "execution_count": 93,
     "metadata": {},
     "output_type": "execute_result"
    }
   ],
   "source": [
    "reg = LogisticRegression()\n",
    "reg.fit(x_sm, y_sm)"
   ]
  },
  {
   "cell_type": "code",
   "execution_count": 94,
   "metadata": {},
   "outputs": [
    {
     "data": {
      "text/plain": [
       "array([ 1.67599094,  0.39136528,  0.72169839,  1.46639522, -1.30751819,\n",
       "        0.50642016, -1.90125069,  0.8059108 , -0.68391934])"
      ]
     },
     "execution_count": 94,
     "metadata": {},
     "output_type": "execute_result"
    }
   ],
   "source": [
    "reg.coef_[0]"
   ]
  },
  {
   "cell_type": "code",
   "execution_count": 95,
   "metadata": {},
   "outputs": [
    {
     "data": {
      "text/plain": [
       "<Axes: >"
      ]
     },
     "execution_count": 95,
     "metadata": {},
     "output_type": "execute_result"
    },
    {
     "data": {
      "image/png": "[encoded data removed]",
      "text/plain": [
       "<Figure size 640x480 with 1 Axes>"
      ]
     },
     "metadata": {},
     "output_type": "display_data"
    }
   ],
   "source": [
    "# 회귀 분석의 계수를 분석해보니, 가장 중요한 변수는 두 번째 타자의 삼진 여부\n",
    "# 그 다음은 두번째 타자의 3루타 여부\n",
    "# 첫 번째 타자의 출루와 두 번째 타자의 삼진 이외 아웃도 중요한 역할을 하고 있음\n",
    "sns.barplot(x=x_sm.columns, y=reg.coef_[0]) "
   ]
  },
  {
   "cell_type": "markdown",
   "metadata": {},
   "source": [
    "## 4-5 4-3 구성 데이터에 XGB 적용하고 결과를 분석하라\n",
    "- snd5, snd7은 각각 삼진과, 삼진 이외의 아웃\n",
    "- 즉, 두 번째 타자가 아웃만 안 당해도 득점 확률이 높아진다\n",
    "- 그 다음 중요한 건 첫 번째 타자의 출루 여부임. 첫 번째 타자가 출루하고, 두 번째 타자가 아웃당하지 않는다면 득점 비율이 높아지고 있음"
   ]
  },
  {
   "cell_type": "code",
   "execution_count": 96,
   "metadata": {},
   "outputs": [],
   "source": [
    "from xgboost import XGBClassifier"
   ]
  },
  {
   "cell_type": "code",
   "execution_count": 97,
   "metadata": {},
   "outputs": [
    {
     "data": {
      "text/html": [
       "<style>#sk-container-id-2 {color: black;}#sk-container-id-2 pre{padding: 0;}#sk-container-id-2 div.sk-toggleable {background-color: white;}#sk-container-id-2 label.sk-toggleable__label {cursor: pointer;display: block;width: 100%;margin-bottom: 0;padding: 0.3em;box-sizing: border-box;text-align: center;}#sk-container-id-2 label.sk-toggleable__label-arrow:before {content: \"▸\";float: left;margin-right: 0.25em;color: #696969;}#sk-container-id-2 label.sk-toggleable__label-arrow:hover:before {color: black;}#sk-container-id-2 div.sk-estimator:hover label.sk-toggleable__label-arrow:before {color: black;}#sk-container-id-2 div.sk-toggleable__content {max-height: 0;max-width: 0;overflow: hidden;text-align: left;background-color: #f0f8ff;}#sk-container-id-2 div.sk-toggleable__content pre {margin: 0.2em;color: black;border-radius: 0.25em;background-color: #f0f8ff;}#sk-container-id-2 input.sk-toggleable__control:checked~div.sk-toggleable__content {max-height: 200px;max-width: 100%;overflow: auto;}#sk-container-id-2 input.sk-toggleable__control:checked~label.sk-toggleable__label-arrow:before {content: \"▾\";}#sk-container-id-2 div.sk-estimator input.sk-toggleable__control:checked~label.sk-toggleable__label {background-color: #d4ebff;}#sk-container-id-2 div.sk-label input.sk-toggleable__control:checked~label.sk-toggleable__label {background-color: #d4ebff;}#sk-container-id-2 input.sk-hidden--visually {border: 0;clip: rect(1px 1px 1px 1px);clip: rect(1px, 1px, 1px, 1px);height: 1px;margin: -1px;overflow: hidden;padding: 0;position: absolute;width: 1px;}#sk-container-id-2 div.sk-estimator {font-family: monospace;background-color: #f0f8ff;border: 1px dotted black;border-radius: 0.25em;box-sizing: border-box;margin-bottom: 0.5em;}#sk-container-id-2 div.sk-estimator:hover {background-color: #d4ebff;}#sk-container-id-2 div.sk-parallel-item::after {content: \"\";width: 100%;border-bottom: 1px solid gray;flex-grow: 1;}#sk-container-id-2 div.sk-label:hover label.sk-toggleable__label {background-color: #d4ebff;}#sk-container-id-2 div.sk-serial::before {content: \"\";position: absolute;border-left: 1px solid gray;box-sizing: border-box;top: 0;bottom: 0;left: 50%;z-index: 0;}#sk-container-id-2 div.sk-serial {display: flex;flex-direction: column;align-items: center;background-color: white;padding-right: 0.2em;padding-left: 0.2em;position: relative;}#sk-container-id-2 div.sk-item {position: relative;z-index: 1;}#sk-container-id-2 div.sk-parallel {display: flex;align-items: stretch;justify-content: center;background-color: white;position: relative;}#sk-container-id-2 div.sk-item::before, #sk-container-id-2 div.sk-parallel-item::before {content: \"\";position: absolute;border-left: 1px solid gray;box-sizing: border-box;top: 0;bottom: 0;left: 50%;z-index: -1;}#sk-container-id-2 div.sk-parallel-item {display: flex;flex-direction: column;z-index: 1;position: relative;background-color: white;}#sk-container-id-2 div.sk-parallel-item:first-child::after {align-self: flex-end;width: 50%;}#sk-container-id-2 div.sk-parallel-item:last-child::after {align-self: flex-start;width: 50%;}#sk-container-id-2 div.sk-parallel-item:only-child::after {width: 0;}#sk-container-id-2 div.sk-dashed-wrapped {border: 1px dashed gray;margin: 0 0.4em 0.5em 0.4em;box-sizing: border-box;padding-bottom: 0.4em;background-color: white;}#sk-container-id-2 div.sk-label label {font-family: monospace;font-weight: bold;display: inline-block;line-height: 1.2em;}#sk-container-id-2 div.sk-label-container {text-align: center;}#sk-container-id-2 div.sk-container {/* jupyter's `normalize.less` sets `[hidden] { display: none; }` but bootstrap.min.css set `[hidden] { display: none !important; }` so we also need the `!important` here to be able to override the default hidden behavior on the sphinx rendered scikit-learn.org. See: https://github.com/scikit-learn/scikit-learn/issues/21755 */display: inline-block !important;position: relative;}#sk-container-id-2 div.sk-text-repr-fallback {display: none;}</style><div id=\"sk-container-id-2\" class=\"sk-top-container\"><div class=\"sk-text-repr-fallback\"><pre>XGBClassifier(base_score=None, booster=None, callbacks=None,\n",
       "              colsample_bylevel=None, colsample_bynode=None,\n",
       "              colsample_bytree=None, early_stopping_rounds=None,\n",
       "              enable_categorical=False, eval_metric=None, feature_types=None,\n",
       "              gamma=None, gpu_id=None, grow_policy=None, importance_type=None,\n",
       "              interaction_constraints=None, learning_rate=None, max_bin=None,\n",
       "              max_cat_threshold=None, max_cat_to_onehot=None,\n",
       "              max_delta_step=None, max_depth=None, max_leaves=None,\n",
       "              min_child_weight=None, missing=nan, monotone_constraints=None,\n",
       "              n_estimators=100, n_jobs=None, num_parallel_tree=None,\n",
       "              predictor=None, random_state=None, ...)</pre><b>In a Jupyter environment, please rerun this cell to show the HTML representation or trust the notebook. <br />On GitHub, the HTML representation is unable to render, please try loading this page with nbviewer.org.</b></div><div class=\"sk-container\" hidden><div class=\"sk-item\"><div class=\"sk-estimator sk-toggleable\"><input class=\"sk-toggleable__control sk-hidden--visually\" id=\"sk-estimator-id-2\" type=\"checkbox\" checked><label for=\"sk-estimator-id-2\" class=\"sk-toggleable__label sk-toggleable__label-arrow\">XGBClassifier</label><div class=\"sk-toggleable__content\"><pre>XGBClassifier(base_score=None, booster=None, callbacks=None,\n",
       "              colsample_bylevel=None, colsample_bynode=None,\n",
       "              colsample_bytree=None, early_stopping_rounds=None,\n",
       "              enable_categorical=False, eval_metric=None, feature_types=None,\n",
       "              gamma=None, gpu_id=None, grow_policy=None, importance_type=None,\n",
       "              interaction_constraints=None, learning_rate=None, max_bin=None,\n",
       "              max_cat_threshold=None, max_cat_to_onehot=None,\n",
       "              max_delta_step=None, max_depth=None, max_leaves=None,\n",
       "              min_child_weight=None, missing=nan, monotone_constraints=None,\n",
       "              n_estimators=100, n_jobs=None, num_parallel_tree=None,\n",
       "              predictor=None, random_state=None, ...)</pre></div></div></div></div></div>"
      ],
      "text/plain": [
       "XGBClassifier(base_score=None, booster=None, callbacks=None,\n",
       "              colsample_bylevel=None, colsample_bynode=None,\n",
       "              colsample_bytree=None, early_stopping_rounds=None,\n",
       "              enable_categorical=False, eval_metric=None, feature_types=None,\n",
       "              gamma=None, gpu_id=None, grow_policy=None, importance_type=None,\n",
       "              interaction_constraints=None, learning_rate=None, max_bin=None,\n",
       "              max_cat_threshold=None, max_cat_to_onehot=None,\n",
       "              max_delta_step=None, max_depth=None, max_leaves=None,\n",
       "              min_child_weight=None, missing=nan, monotone_constraints=None,\n",
       "              n_estimators=100, n_jobs=None, num_parallel_tree=None,\n",
       "              predictor=None, random_state=None, ...)"
      ]
     },
     "execution_count": 97,
     "metadata": {},
     "output_type": "execute_result"
    }
   ],
   "source": [
    "xgb = XGBClassifier()\n",
    "xgb.fit(x_sm, y_sm)"
   ]
  },
  {
   "cell_type": "code",
   "execution_count": 98,
   "metadata": {},
   "outputs": [
    {
     "data": {
      "text/plain": [
       "<Axes: >"
      ]
     },
     "execution_count": 98,
     "metadata": {},
     "output_type": "execute_result"
    },
    {
     "data": {
      "image/png": "[encoded data removed]",
      "text/plain": [
       "<Figure size 640x480 with 1 Axes>"
      ]
     },
     "metadata": {},
     "output_type": "display_data"
    }
   ],
   "source": [
    "sns.barplot(x=x_sm.columns, y=xgb.feature_importances_) # 컬럼 별 중요도\n"
   ]
  },
  {
   "cell_type": "markdown",
   "metadata": {},
   "source": [
    "# 통계 (40점)"
   ]
  },
  {
   "cell_type": "code",
   "execution_count": 99,
   "metadata": {},
   "outputs": [],
   "source": [
    "import scipy.stats as stats"
   ]
  },
  {
   "cell_type": "markdown",
   "metadata": {},
   "source": [
    "## 5. 제품 A의 불량률은 0.03이다. 25개의 제품을 뽑았을 때 3개가 불량일 확률을 구하시오. (소수점 다섯 째 자리에서 반올림)"
   ]
  },
  {
   "cell_type": "code",
   "execution_count": 100,
   "metadata": {},
   "outputs": [
    {
     "data": {
      "text/plain": [
       "13800"
      ]
     },
     "execution_count": 100,
     "metadata": {},
     "output_type": "execute_result"
    }
   ],
   "source": [
    "import itertools\n",
    "\n",
    "arr = range(25)\n",
    "nCr = itertools.permutations(arr, 3)\n",
    "len(list(nCr))"
   ]
  },
  {
   "cell_type": "code",
   "execution_count": 101,
   "metadata": {},
   "outputs": [
    {
     "data": {
      "text/plain": [
       "0.05951"
      ]
     },
     "execution_count": 101,
     "metadata": {},
     "output_type": "execute_result"
    }
   ],
   "source": [
    "### X ~ B (25, 0.03)\n",
    "# P(X=3) = 24C3 * ((0.03)*3) * ((0.92)*22)\n",
    "p = 13800 * ((0.03)**3) * ((0.92)**22)\n",
    "round(p, 5)"
   ]
  },
  {
   "cell_type": "markdown",
   "metadata": {},
   "source": [
    "## 6. C사 생산 제품 1000개 중 양품이 600개, D사 생산 제품 500개 중 양품이 200개 이다. 두 회사의 양품률에 차이가 있는지 검정하여라."
   ]
  },
  {
   "cell_type": "markdown",
   "metadata": {},
   "source": [
    "- H0: 두 회사의 양품률에는 차이가 없다\n",
    "- H1: 두 회사의 양품률에는 차이가 있다\n",
    "\n",
    "- Z 통계량 7.3193, p-value 0.0000으로 귀무가설을 기각한다. 따라서 유의수준 0.05 하에서 두 회사에 양품률에는 차이가 있다."
   ]
  },
  {
   "cell_type": "code",
   "execution_count": 102,
   "metadata": {},
   "outputs": [],
   "source": [
    "from statsmodels.stats.proportion import proportions_ztest"
   ]
  },
  {
   "cell_type": "code",
   "execution_count": 103,
   "metadata": {},
   "outputs": [
    {
     "name": "stdout",
     "output_type": "stream",
     "text": [
      "Two sided z-test: z = 7.3193, p value = 0.0000\n"
     ]
    }
   ],
   "source": [
    "### 비율 검정\n",
    "# p1 = 600/1000\n",
    "# p2 = 200/500\n",
    "\n",
    "\n",
    "\n",
    "### Proportion difference test (Z-statistic)\n",
    "success_cnts = np.array([600, 200])\n",
    "total_cnts = np.array([1000, 500])\n",
    "\n",
    "test_stat, pval = proportions_ztest(count=success_cnts, nobs=total_cnts, alternative='two-sided')\n",
    "print('Two sided z-test: z = {:.4f}, p value = {:.4f}'.format(test_stat, pval))"
   ]
  },
  {
   "cell_type": "markdown",
   "metadata": {},
   "source": [
    "## 7. 아래 데이터는 a,b,c,d 네 차종 각각 5회 실험 시 범퍼 파손 정도 이다. (단, 각 모집단은 정규분포를 따르며 모집단 간 등분산성을 가정한다.)"
   ]
  },
  {
   "cell_type": "markdown",
   "metadata": {},
   "source": [
    "dataurl : https://raw.githubusercontent.com/Datamanim/datarepo/main/adp/29/p7.csv"
   ]
  },
  {
   "cell_type": "code",
   "execution_count": 104,
   "metadata": {},
   "outputs": [],
   "source": [
    "cars = pd.read_csv('https://raw.githubusercontent.com/Datamanim/datarepo/main/adp/29/p7.csv')"
   ]
  },
  {
   "cell_type": "code",
   "execution_count": 105,
   "metadata": {},
   "outputs": [
    {
     "data": {
      "text/html": [
       "<div>\n",
       "<style scoped>\n",
       "    .dataframe tbody tr th:only-of-type {\n",
       "        vertical-align: middle;\n",
       "    }\n",
       "\n",
       "    .dataframe tbody tr th {\n",
       "        vertical-align: top;\n",
       "    }\n",
       "\n",
       "    .dataframe thead th {\n",
       "        text-align: right;\n",
       "    }\n",
       "</style>\n",
       "<table border=\"1\" class=\"dataframe\">\n",
       "  <thead>\n",
       "    <tr style=\"text-align: right;\">\n",
       "      <th></th>\n",
       "      <th>name</th>\n",
       "      <th>ratio</th>\n",
       "    </tr>\n",
       "  </thead>\n",
       "  <tbody>\n",
       "    <tr>\n",
       "      <th>0</th>\n",
       "      <td>A</td>\n",
       "      <td>10.993428</td>\n",
       "    </tr>\n",
       "    <tr>\n",
       "      <th>1</th>\n",
       "      <td>A</td>\n",
       "      <td>9.723471</td>\n",
       "    </tr>\n",
       "    <tr>\n",
       "      <th>2</th>\n",
       "      <td>A</td>\n",
       "      <td>11.295377</td>\n",
       "    </tr>\n",
       "    <tr>\n",
       "      <th>3</th>\n",
       "      <td>A</td>\n",
       "      <td>13.046060</td>\n",
       "    </tr>\n",
       "    <tr>\n",
       "      <th>4</th>\n",
       "      <td>A</td>\n",
       "      <td>9.531693</td>\n",
       "    </tr>\n",
       "    <tr>\n",
       "      <th>5</th>\n",
       "      <td>B</td>\n",
       "      <td>14.297589</td>\n",
       "    </tr>\n",
       "    <tr>\n",
       "      <th>6</th>\n",
       "      <td>B</td>\n",
       "      <td>19.737638</td>\n",
       "    </tr>\n",
       "    <tr>\n",
       "      <th>7</th>\n",
       "      <td>B</td>\n",
       "      <td>17.302304</td>\n",
       "    </tr>\n",
       "    <tr>\n",
       "      <th>8</th>\n",
       "      <td>B</td>\n",
       "      <td>13.591577</td>\n",
       "    </tr>\n",
       "    <tr>\n",
       "      <th>9</th>\n",
       "      <td>B</td>\n",
       "      <td>16.627680</td>\n",
       "    </tr>\n",
       "    <tr>\n",
       "      <th>10</th>\n",
       "      <td>C</td>\n",
       "      <td>7.304873</td>\n",
       "    </tr>\n",
       "    <tr>\n",
       "      <th>11</th>\n",
       "      <td>C</td>\n",
       "      <td>7.301405</td>\n",
       "    </tr>\n",
       "    <tr>\n",
       "      <th>12</th>\n",
       "      <td>C</td>\n",
       "      <td>8.362943</td>\n",
       "    </tr>\n",
       "    <tr>\n",
       "      <th>13</th>\n",
       "      <td>C</td>\n",
       "      <td>5.130080</td>\n",
       "    </tr>\n",
       "    <tr>\n",
       "      <th>14</th>\n",
       "      <td>C</td>\n",
       "      <td>5.412623</td>\n",
       "    </tr>\n",
       "    <tr>\n",
       "      <th>15</th>\n",
       "      <td>D</td>\n",
       "      <td>10.594281</td>\n",
       "    </tr>\n",
       "    <tr>\n",
       "      <th>16</th>\n",
       "      <td>D</td>\n",
       "      <td>9.467922</td>\n",
       "    </tr>\n",
       "    <tr>\n",
       "      <th>17</th>\n",
       "      <td>D</td>\n",
       "      <td>12.785618</td>\n",
       "    </tr>\n",
       "    <tr>\n",
       "      <th>18</th>\n",
       "      <td>D</td>\n",
       "      <td>9.729940</td>\n",
       "    </tr>\n",
       "    <tr>\n",
       "      <th>19</th>\n",
       "      <td>D</td>\n",
       "      <td>8.469241</td>\n",
       "    </tr>\n",
       "  </tbody>\n",
       "</table>\n",
       "</div>"
      ],
      "text/plain": [
       "   name      ratio\n",
       "0     A  10.993428\n",
       "1     A   9.723471\n",
       "2     A  11.295377\n",
       "3     A  13.046060\n",
       "4     A   9.531693\n",
       "5     B  14.297589\n",
       "6     B  19.737638\n",
       "7     B  17.302304\n",
       "8     B  13.591577\n",
       "9     B  16.627680\n",
       "10    C   7.304873\n",
       "11    C   7.301405\n",
       "12    C   8.362943\n",
       "13    C   5.130080\n",
       "14    C   5.412623\n",
       "15    D  10.594281\n",
       "16    D   9.467922\n",
       "17    D  12.785618\n",
       "18    D   9.729940\n",
       "19    D   8.469241"
      ]
     },
     "execution_count": 105,
     "metadata": {},
     "output_type": "execute_result"
    }
   ],
   "source": [
    "cars"
   ]
  },
  {
   "cell_type": "code",
   "execution_count": 106,
   "metadata": {},
   "outputs": [],
   "source": [
    "cars_A = cars[cars.name=='A']['ratio']\n",
    "cars_B = cars[cars.name=='B']['ratio']\n",
    "cars_C = cars[cars.name=='C']['ratio']\n",
    "cars_D = cars[cars.name=='D']['ratio']"
   ]
  },
  {
   "cell_type": "markdown",
   "metadata": {},
   "source": [
    "### 7-1. 각 차종 별 범퍼 파손의 정도에 차이가 유의한지 검정하라.\n",
    "- H0: 각 차종 별 범퍼 파손의 정도에는 차이가 없다\n",
    "- H1: 하나 이상의 차종에서 범퍼 파손의 정도에 차이가 존재한다\n",
    "- F-통계량 24.98, P-value 0.000으로 귀무가설을 기각한다. 즉, 하나 이상의 차종에서 범퍼 파손 정도에는 차이가 있다"
   ]
  },
  {
   "cell_type": "code",
   "execution_count": 107,
   "metadata": {},
   "outputs": [
    {
     "data": {
      "text/plain": [
       "F_onewayResult(statistic=24.97695307518529, pvalue=2.8174779556216382e-06)"
      ]
     },
     "execution_count": 107,
     "metadata": {},
     "output_type": "execute_result"
    }
   ],
   "source": [
    "### One-way ANOVA\n",
    "stats.f_oneway(cars_A, cars_B, cars_C, cars_D)"
   ]
  },
  {
   "cell_type": "markdown",
   "metadata": {},
   "source": [
    "### 7-2 귀무가설을 채택한다면 그 의미를 해석하고, 귀무가설을 기각하였다면 사후분석을 시행하라.\n",
    "- Tukey HSD method는 가장 강력한 사후 분석 방법이지만, 각 집단의 sample 개수가 모두 동일해야 한다. 이 데이터의 경우 각 그룹의 sample 개수가 모두 동일하므로, Tukey method를 사용한다.\n",
    "- Tukey HSD 분석 결과 그룹 A와 그룹 D의 평균에는 차이가 없는 것으로 보이며, 그룹 B, 그룹 C는 모든 각 pair 검정에서 평균의 차이가 있는 것으로 나타났다.\n",
    "- 그러므로, 각 그룹의 평균은 (A, D) (B) (C)로 묶을 수 있다."
   ]
  },
  {
   "cell_type": "code",
   "execution_count": 108,
   "metadata": {},
   "outputs": [],
   "source": [
    "from statsmodels.stats.multicomp import MultiComparison"
   ]
  },
  {
   "cell_type": "code",
   "execution_count": 109,
   "metadata": {},
   "outputs": [],
   "source": [
    "mc = MultiComparison(data=cars[\"ratio\"], groups=cars[\"name\"])"
   ]
  },
  {
   "cell_type": "code",
   "execution_count": 110,
   "metadata": {},
   "outputs": [
    {
     "data": {
      "image/png": "[encoded data removed]",
      "text/plain": [
       "<Figure size 1000x600 with 1 Axes>"
      ]
     },
     "metadata": {},
     "output_type": "display_data"
    }
   ],
   "source": [
    "### Tukey's HSD\n",
    "tukeyhsd = mc.tukeyhsd(alpha=0.05)\n",
    "fig = tukeyhsd.plot_simultaneous()"
   ]
  },
  {
   "cell_type": "code",
   "execution_count": 111,
   "metadata": {},
   "outputs": [
    {
     "data": {
      "text/html": [
       "<table class=\"simpletable\">\n",
       "<caption>Multiple Comparison of Means - Tukey HSD, FWER=0.05</caption>\n",
       "<tr>\n",
       "  <th>group1</th> <th>group2</th> <th>meandiff</th>  <th>p-adj</th>   <th>lower</th>   <th>upper</th>  <th>reject</th>\n",
       "</tr>\n",
       "<tr>\n",
       "     <td>A</td>      <td>B</td>    <td>5.3934</td>   <td>0.001</td>  <td>2.1785</td>  <td>8.6083</td>   <td>True</td> \n",
       "</tr>\n",
       "<tr>\n",
       "     <td>A</td>      <td>C</td>    <td>-4.2156</td> <td>0.0085</td>  <td>-7.4305</td> <td>-1.0007</td>  <td>True</td> \n",
       "</tr>\n",
       "<tr>\n",
       "     <td>A</td>      <td>D</td>    <td>-0.7086</td> <td>0.9207</td>  <td>-3.9235</td> <td>2.5063</td>   <td>False</td>\n",
       "</tr>\n",
       "<tr>\n",
       "     <td>B</td>      <td>C</td>    <td>-9.609</td>    <td>0.0</td>  <td>-12.8239</td> <td>-6.3941</td>  <td>True</td> \n",
       "</tr>\n",
       "<tr>\n",
       "     <td>B</td>      <td>D</td>    <td>-6.102</td>  <td>0.0003</td>  <td>-9.3169</td> <td>-2.8871</td>  <td>True</td> \n",
       "</tr>\n",
       "<tr>\n",
       "     <td>C</td>      <td>D</td>     <td>3.507</td>  <td>0.0302</td>  <td>0.2921</td>  <td>6.7219</td>   <td>True</td> \n",
       "</tr>\n",
       "</table>"
      ],
      "text/latex": [
       "\\begin{center}\n",
       "\\begin{tabular}{ccccccc}\n",
       "\\toprule\n",
       "\\textbf{group1} & \\textbf{group2} & \\textbf{meandiff} & \\textbf{p-adj} & \\textbf{lower} & \\textbf{upper} & \\textbf{reject}  \\\\\n",
       "\\midrule\n",
       "       A        &        B        &       5.3934      &     0.001      &     2.1785     &     8.6083     &       True       \\\\\n",
       "       A        &        C        &      -4.2156      &     0.0085     &    -7.4305     &    -1.0007     &       True       \\\\\n",
       "       A        &        D        &      -0.7086      &     0.9207     &    -3.9235     &     2.5063     &      False       \\\\\n",
       "       B        &        C        &       -9.609      &      0.0       &    -12.8239    &    -6.3941     &       True       \\\\\n",
       "       B        &        D        &       -6.102      &     0.0003     &    -9.3169     &    -2.8871     &       True       \\\\\n",
       "       C        &        D        &       3.507       &     0.0302     &     0.2921     &     6.7219     &       True       \\\\\n",
       "\\bottomrule\n",
       "\\end{tabular}\n",
       "%\\caption{Multiple Comparison of Means - Tukey HSD, FWER=0.05}\n",
       "\\end{center}"
      ],
      "text/plain": [
       "<class 'statsmodels.iolib.table.SimpleTable'>"
      ]
     },
     "execution_count": 111,
     "metadata": {},
     "output_type": "execute_result"
    }
   ],
   "source": [
    "tukeyhsd.summary()"
   ]
  },
  {
   "cell_type": "markdown",
   "metadata": {},
   "source": [
    "## 8. L1,L2,L3 세 개의 생산라인에서 각각 13%, 37%, 50%를 생산하며 각각 1.1% , 2.1%, 3.3% 불량률을 갖는다. 불량 제품이 나왔을 때 L1 라인에서 생산되었을 확률을 구하시오. (소수점 둘째자리에서 반올림)"
   ]
  },
  {
   "cell_type": "code",
   "execution_count": 112,
   "metadata": {},
   "outputs": [
    {
     "data": {
      "text/plain": [
       "0.06"
      ]
     },
     "execution_count": 112,
     "metadata": {},
     "output_type": "execute_result"
    }
   ],
   "source": [
    "### 전체 관점에서의 불량률 계산\n",
    "# P(불량 | L1) = 0.011\n",
    "# P(불량 | L2) = 0.021\n",
    "# P(불량 | L3) = 0.033\n",
    "# P(L1 | 불량) = P(L1)*P(불량 | L1)/P(L1)*P(불량 | L1) + P(L2)*P(불량 | L2) + P(L3)*P(불량 | L3)\n",
    "p = (0.011*0.13) / ((0.011*0.13) + (0.021*0.37) + (0.033*0.5))\n",
    "round(p, 2) # 0.06. 6%"
   ]
  },
  {
   "cell_type": "markdown",
   "metadata": {},
   "source": [
    "created by datamanim [web-link](https://www.datamanim.com)"
   ]
  }
 ],
 "metadata": {
  "kernelspec": {
   "display_name": "Python 3",
   "language": "python",
   "name": "python3"
  },
  "language_info": {
   "codemirror_mode": {
    "name": "ipython",
    "version": 3
   },
   "file_extension": ".py",
   "mimetype": "text/x-python",
   "name": "python",
   "nbconvert_exporter": "python",
   "pygments_lexer": "ipython3",
   "version": "3.7.6"
  }
 },
 "nbformat": 4,
 "nbformat_minor": 5
}
