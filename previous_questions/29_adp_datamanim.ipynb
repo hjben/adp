{
 "cells": [
  {
   "cell_type": "markdown",
   "id": "1e530f30",
   "metadata": {},
   "source": [
    "# 29회 ADP 복원 "
   ]
  },
  {
   "cell_type": "markdown",
   "id": "d0c9251b",
   "metadata": {},
   "source": [
    "# 기계학습 (60점)"
   ]
  },
  {
   "cell_type": "markdown",
   "id": "435ce658",
   "metadata": {},
   "source": [
    "## 데이터 설명\n",
    "- 데이터 출처 : https://www.data.go.kr/data/15094266/fileData.do 후처리\n",
    "- 데이터 링크 : https://raw.githubusercontent.com/Datamanim/datarepo/main/adp/29/p1.csv\n",
    "- 데이터 설명 : 대구도시공사_빅데이터_영구임대아파트 입주자 퇴거여부 데이터, 고유번호를 가진 계약자와 특정 아파트에 대해 매년 퇴거여부를 기록한 데이터"
   ]
  },
  {
   "cell_type": "markdown",
   "id": "c9373a22",
   "metadata": {},
   "source": [
    "## 1-1  계약자고유번호를 기준으로 거주연도 별 여러개의 데이터가 쌓여 있다. 각 계약자고유번호에 대해 가장 최신의 거주연도 행만 남겨라."
   ]
  },
  {
   "cell_type": "code",
   "execution_count": null,
   "id": "1b842c72",
   "metadata": {},
   "outputs": [],
   "source": []
  },
  {
   "cell_type": "markdown",
   "id": "4bd74ff9",
   "metadata": {},
   "source": [
    "## 1-2 결측치 처리"
   ]
  },
  {
   "cell_type": "code",
   "execution_count": null,
   "id": "733a7abd",
   "metadata": {},
   "outputs": [],
   "source": []
  },
  {
   "cell_type": "markdown",
   "id": "0265da78",
   "metadata": {},
   "source": [
    "## 1-3 이상치 처리"
   ]
  },
  {
   "cell_type": "code",
   "execution_count": null,
   "id": "768c566e",
   "metadata": {},
   "outputs": [],
   "source": []
  },
  {
   "cell_type": "markdown",
   "id": "36befdb1",
   "metadata": {},
   "source": [
    "## 2-1 재계약 횟수의 중앙값을 기준으로 중앙값보다 크거나 같으면 '높음', 작으면 '낮음' 으로 재계약 횟수 이분 변수를 구성하시오."
   ]
  },
  {
   "cell_type": "code",
   "execution_count": null,
   "id": "1fa874f8",
   "metadata": {},
   "outputs": [],
   "source": []
  },
  {
   "cell_type": "markdown",
   "id": "0b465a8e",
   "metadata": {},
   "source": [
    "## 2-2 차원축소의 필요성을 논하고, 필요에 따라 차원을 축소하고 불필요하다면 그 근거를 논하시오."
   ]
  },
  {
   "cell_type": "code",
   "execution_count": null,
   "id": "444a894e",
   "metadata": {},
   "outputs": [],
   "source": []
  },
  {
   "cell_type": "markdown",
   "id": "a50e03d7",
   "metadata": {},
   "source": [
    "## 3-1 재계약 횟수 이분변수를 기준으로 세그먼트를 구분하고 각 세그먼트의 특징을 분석하시오."
   ]
  },
  {
   "cell_type": "code",
   "execution_count": null,
   "id": "06d865b5",
   "metadata": {},
   "outputs": [],
   "source": []
  },
  {
   "cell_type": "markdown",
   "id": "7c145d8f",
   "metadata": {},
   "source": [
    "## 3-2. 재계약횟수 변수를 종속변수로 하는 회귀 분석을 두 가지 이상의 방법론을 통해 수행하고 최종 모델을 결정하시오. 재계약횟수 이분변수를 종속변수로 하는 분류 분석을 두가지 이상의 방법론을 통해 수행하고 최종 모델을 결정하시오. "
   ]
  },
  {
   "cell_type": "code",
   "execution_count": null,
   "id": "2349d2be",
   "metadata": {},
   "outputs": [],
   "source": []
  },
  {
   "cell_type": "markdown",
   "id": "0384e775",
   "metadata": {},
   "source": [
    "## 3-3 최종 채택한 모델에서 각각 유의하게 작용하는 변수를 확인 하고 설명하시오"
   ]
  },
  {
   "cell_type": "code",
   "execution_count": null,
   "id": "f8475a63",
   "metadata": {},
   "outputs": [],
   "source": []
  },
  {
   "cell_type": "markdown",
   "id": "c8f2a882",
   "metadata": {},
   "source": [
    "## 3-4 해당 데이터 분석결과로 얻을 수 있는 점 제시"
   ]
  },
  {
   "cell_type": "code",
   "execution_count": null,
   "id": "d661049f",
   "metadata": {},
   "outputs": [],
   "source": []
  },
  {
   "cell_type": "markdown",
   "id": "c684b36a",
   "metadata": {},
   "source": [
    "## 데이터 설명\n",
    "- 데이터 출처 : https://www.kaggle.com/datasets/pschale/mlb-pitch-data-20152018 데이터를 후처리\n",
    "- 데이터 링크 : https://raw.githubusercontent.com/Datamanim/datarepo/main/adp/29/p2_.csv\n",
    "- 데이터 설명 : \n",
    "\n",
    "A 야구구단의 시합 결과중 일부를 나타낸다.    \n",
    "각 행은 하나의 경기를 의미(game_id)하며 9회차(= 9이닝) 동안 1번타자, 2번타자의 출루 정보를 의미한다.     \n",
    "각 컬럼에 대한 설명은 아래 이미지와 같으며, value값의 index는 이미지의 '수치 의미' 열을 통해 확인 할 수 있다.\n"
   ]
  },
  {
   "cell_type": "markdown",
   "id": "dbd91d8b",
   "metadata": {},
   "source": [
    "<img src=\"https://github.com/Datamanim/datarepo/blob/main/adp/29/p1_img.png?raw=true\" width=\"500\" height=\"600\">"
   ]
  },
  {
   "cell_type": "markdown",
   "id": "1bc6f69c",
   "metadata": {},
   "source": [
    "## 4-1 각 회차별로 1번 타자의 출루 (1,2,3루타와 사사구(볼넷, 몸에맞는공))가 있는 경우에 대해 득점이 발생 했는지 확인하고자 한다. 이를 위한 전처리를 수행하라. (단, 첫 번째 혹은 두 번째 타자가 홈런을 친 경우 해당 회차 데이터는 제외한다.)     \n",
    "\n",
    "조건1 : 득점여부를 범주형 종속변수로 한다. (1점이상 득점 :1, 무득점 :0)     \n",
    "조건2 : 각 회차 2번 타자의 데이터는 원핫 인코딩한다.    \n",
    "조건3 : 학습에 적절하지 않은 데이터는 제외한다.    "
   ]
  },
  {
   "cell_type": "code",
   "execution_count": null,
   "id": "a4ca3fd4",
   "metadata": {},
   "outputs": [],
   "source": []
  },
  {
   "cell_type": "markdown",
   "id": "d95f4e52",
   "metadata": {},
   "source": [
    "## 4-2 4-1 데이터에 대해 Logistic Regression을 적용하고 2번타자의 희생번트 여부에 대한 회귀 계수 검정을 하라"
   ]
  },
  {
   "cell_type": "code",
   "execution_count": null,
   "id": "41d1ca9f",
   "metadata": {},
   "outputs": [],
   "source": []
  },
  {
   "cell_type": "markdown",
   "id": "ced79c7b",
   "metadata": {},
   "source": [
    "## 4-3 SMOTE (random_state =0 지정)를 적용하여 data imbalance를 해결하라"
   ]
  },
  {
   "cell_type": "code",
   "execution_count": null,
   "id": "28708ace",
   "metadata": {},
   "outputs": [],
   "source": []
  },
  {
   "cell_type": "markdown",
   "id": "0b20a303",
   "metadata": {},
   "source": [
    "## 4-4 4-3 구성 데이터에 Logistic Regression을 적용하고 결과를 분석하라"
   ]
  },
  {
   "cell_type": "code",
   "execution_count": null,
   "id": "16520555",
   "metadata": {},
   "outputs": [],
   "source": []
  },
  {
   "cell_type": "markdown",
   "id": "9b6327dc",
   "metadata": {},
   "source": [
    "## 4-5 4-3 구성 데이터에 XGB 적용하고 결과를 분석하라"
   ]
  },
  {
   "cell_type": "code",
   "execution_count": null,
   "id": "c91fbb35",
   "metadata": {},
   "outputs": [],
   "source": []
  },
  {
   "cell_type": "markdown",
   "id": "526e7015",
   "metadata": {},
   "source": [
    "# 통계 (40점)"
   ]
  },
  {
   "cell_type": "markdown",
   "id": "862751b7",
   "metadata": {},
   "source": [
    "## 5. 제품 A의 불량률은 0.03이다. 25개의 제품을 뽑았을 때 3개가 불량일 확률을 구하시오. (소수점 다섯 째 자리에서 반올림)"
   ]
  },
  {
   "cell_type": "code",
   "execution_count": null,
   "id": "93c5952b",
   "metadata": {},
   "outputs": [],
   "source": []
  },
  {
   "cell_type": "markdown",
   "id": "884a2cee",
   "metadata": {},
   "source": [
    "## 6. C사 생산 제품 1000개 중 양품이 600개, D사 생산 제품 500개 중 양품이 200개 이다. 두 회사의 양품률에 차이가 있는지 검정하여라."
   ]
  },
  {
   "cell_type": "code",
   "execution_count": null,
   "id": "3485041e",
   "metadata": {},
   "outputs": [],
   "source": []
  },
  {
   "cell_type": "markdown",
   "id": "c7a58e3e",
   "metadata": {},
   "source": [
    "## 7. 아래 데이터는 a,b,c,d 네 차종 각각 5회 실험 시 범퍼 파손 정도 이다. (단, 각 모집단은 정규분포를 따르며 모집단 간 등분산성을 가정한다.)"
   ]
  },
  {
   "cell_type": "markdown",
   "id": "f8b5ffa3",
   "metadata": {},
   "source": [
    "dataurl : https://raw.githubusercontent.com/Datamanim/datarepo/main/adp/29/p7.csv"
   ]
  },
  {
   "cell_type": "code",
   "execution_count": null,
   "id": "03eee7e5",
   "metadata": {},
   "outputs": [],
   "source": []
  },
  {
   "cell_type": "markdown",
   "id": "3036536d",
   "metadata": {},
   "source": [
    "### 7-1. 각 차종 별 범퍼 파손의 정도에 차이가 유의한지 검정하라."
   ]
  },
  {
   "cell_type": "code",
   "execution_count": null,
   "id": "7471afc5",
   "metadata": {},
   "outputs": [],
   "source": []
  },
  {
   "cell_type": "markdown",
   "id": "85e74e58",
   "metadata": {},
   "source": [
    "### 7-2 귀무가설을 채택한다면 그 의미를 해석하고, 귀무가설을 기각하였다면 사후분석을 시행하라."
   ]
  },
  {
   "cell_type": "code",
   "execution_count": null,
   "id": "a65bb322",
   "metadata": {},
   "outputs": [],
   "source": []
  },
  {
   "cell_type": "markdown",
   "id": "5d94251d",
   "metadata": {},
   "source": [
    "## 8. L1,L2,L3 세 개의 생산라인에서 각각 13%, 37%, 50%를 생산하며 각각 1.1% , 2.1%, 3.3% 불량률을 갖는다. 불량 제품이 나왔을 때 L1 라인에서 생산되었을 확률을 구하시오. (소수점 둘째자리에서 반올림)"
   ]
  },
  {
   "cell_type": "code",
   "execution_count": null,
   "id": "f8795812",
   "metadata": {},
   "outputs": [],
   "source": []
  },
  {
   "cell_type": "markdown",
   "id": "3d6834a0",
   "metadata": {},
   "source": [
    "created by datamanim [web-link](https://www.datamanim.com)"
   ]
  }
 ],
 "metadata": {
  "kernelspec": {
   "display_name": "Python 3 (ipykernel)",
   "language": "python",
   "name": "python3"
  },
  "language_info": {
   "codemirror_mode": {
    "name": "ipython",
    "version": 3
   },
   "file_extension": ".py",
   "mimetype": "text/x-python",
   "name": "python",
   "nbconvert_exporter": "python",
   "pygments_lexer": "ipython3",
   "version": "3.8.16"
  }
 },
 "nbformat": 4,
 "nbformat_minor": 5
}
