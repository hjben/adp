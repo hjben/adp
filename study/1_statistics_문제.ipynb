{
 "cells": [
  {
   "cell_type": "markdown",
   "metadata": {},
   "source": [
    "# 1. 통계 (확률분포, 추정과 가설 검정, 분산분석, 비모수 검정)"
   ]
  },
  {
   "cell_type": "code",
   "execution_count": 1,
   "metadata": {},
   "outputs": [],
   "source": [
    "import warnings, platform\n",
    "from IPython.display import display, HTML"
   ]
  },
  {
   "cell_type": "code",
   "execution_count": 2,
   "metadata": {},
   "outputs": [
    {
     "data": {
      "text/html": [
       "<style>.container {width :98% !important;}</style>"
      ],
      "text/plain": [
       "<IPython.core.display.HTML object>"
      ]
     },
     "metadata": {},
     "output_type": "display_data"
    }
   ],
   "source": [
    "### HTML display 조정\n",
    "display(HTML(\"<style>.container {width :98% !important;}</style>\"))\n",
    "\n",
    "### Warning 제거\n",
    "warnings.filterwarnings('ignore')"
   ]
  },
  {
   "cell_type": "code",
   "execution_count": 3,
   "metadata": {},
   "outputs": [],
   "source": [
    "import math\n",
    "import statsmodels\n",
    "\n",
    "import numpy as np\n",
    "import pandas as pd\n",
    "import scipy.stats as stats\n",
    "import pingouin as pg\n",
    "\n",
    "import matplotlib.pyplot as plt"
   ]
  },
  {
   "cell_type": "markdown",
   "metadata": {},
   "source": [
    "## [연습문제]"
   ]
  },
  {
   "cell_type": "markdown",
   "metadata": {},
   "source": [
    "### >>> 통계 기초"
   ]
  },
  {
   "attachments": {
    "a51be7d9-1b02-4ef7-ac24-f364fe411b57.png": {
     "image/png": "[encoded data removed]"
    }
   },
   "cell_type": "markdown",
   "metadata": {},
   "source": [
    "### 1. 어느 회사의 연도별 임금상승률을 조사하였더니, 아래 표와 같이 나타났다. 이 회사의 평균 임 금상승률을 구하기 위해 어떤 대푯값을 구해야 하는지 설명하고, 그 값을 계산하시오.\n",
    "![image.png](attachment:a51be7d9-1b02-4ef7-ac24-f364fe411b57.png)"
   ]
  },
  {
   "cell_type": "code",
   "execution_count": 4,
   "metadata": {},
   "outputs": [
    {
     "name": "stdout",
     "output_type": "stream",
     "text": [
      "곱셈으로 구해지는 값의 평균을 구하는 것이므로, 기하평균을 이용한다.\n",
      "임금 상승률 평균은 5.4481 이다.\n"
     ]
    }
   ],
   "source": [
    "print('곱셈으로 구해지는 값의 평균을 구하는 것이므로, 기하평균을 이용한다.')\n",
    "print(f'임금 상승률 평균은 {round(stats.gmean([4, 3, 5, 10, 8]), 4)} 이다.')"
   ]
  },
  {
   "cell_type": "markdown",
   "metadata": {},
   "source": [
    "### 2. 한 회사원이 집에서 회사를 갈 때 시속 5km/h로 출근하고, 퇴근할 때 시속 7km/h로 돌아왔 다면, 이 회사원의 평균 속도를 구하기 위해 어떤 대푯값을 구해야 하는지 설명하고, 그 값을 계 산하시오."
   ]
  },
  {
   "cell_type": "code",
   "execution_count": 5,
   "metadata": {},
   "outputs": [
    {
     "name": "stdout",
     "output_type": "stream",
     "text": [
      "변화율에 대한 평균을 구하는 것이므로, 조화평균을 이용한다.\n",
      "평균 속도는 5.8333 이다.\n"
     ]
    }
   ],
   "source": [
    "print('변화율에 대한 평균을 구하는 것이므로, 조화평균을 이용한다.')\n",
    "print(f'평균 속도는 {round(stats.hmean([5, 7]), 4)} 이다.')"
   ]
  },
  {
   "cell_type": "markdown",
   "metadata": {},
   "source": [
    "### 3. A 브랜드의 햄버거는 평균 무게 200g, 분산 49g인 정규 분포를 따르고, 샌드위치는 평균 무게 190g, 분산 36g인 정규 분포를 따른다고 한다. 방금 구매한 A 브랜드 햄버거와 샌드위치의 무게가 모두 210g이라면, 상대적으로 어느 것이 더 무거운가. "
   ]
  },
  {
   "cell_type": "code",
   "execution_count": 6,
   "metadata": {},
   "outputs": [
    {
     "name": "stdout",
     "output_type": "stream",
     "text": [
      "햄버거 무게 ~ N(200, 49), 샌드위치 무게 ~ N(190, 36)\n",
      "210g 햄버거의 표준화 값은 1.4286, 210g 샌드위치의 표준화 값은 3.3333\n",
      "샌드위치의 무게가 상대적으로 더 무겁다.\n"
     ]
    }
   ],
   "source": [
    "print('햄버거 무게 ~ N(200, 49), 샌드위치 무게 ~ N(190, 36)')\n",
    "print(f'210g 햄버거의 표준화 값은 {round((210-200)/np.sqrt(49), 4)}, 210g 샌드위치의 표준화 값은 {round((210-190)/np.sqrt(36), 4)}')\n",
    "print('샌드위치의 무게가 상대적으로 더 무겁다.')"
   ]
  },
  {
   "cell_type": "markdown",
   "metadata": {},
   "source": [
    "### 4. A학교와 B학교 학생들을 대상으로 100명을 추출하여 용돈을 조사하였더니, A학교는 평균 10만원, 표준편차 2만원, B학교는 평균 8만원, 표준편차 1만원으로 나타났다. 어느 학교에서 용돈의 격차가 더 심하다고 볼 수 있는가."
   ]
  },
  {
   "cell_type": "code",
   "execution_count": 7,
   "metadata": {},
   "outputs": [
    {
     "name": "stdout",
     "output_type": "stream",
     "text": [
      "변동계수를 비교해 보면, A학교 0.2, B 학교 0.125이다.\n",
      "따라서, A학교의 용돈 격차가 더 심하다.\n"
     ]
    }
   ],
   "source": [
    "print(f'변동계수를 비교해 보면, A학교 {2/10}, B 학교 {1/8}이다.')\n",
    "print('따라서, A학교의 용돈 격차가 더 심하다.')"
   ]
  },
  {
   "cell_type": "markdown",
   "metadata": {},
   "source": [
    "### >>> 확률분포"
   ]
  },
  {
   "cell_type": "markdown",
   "metadata": {},
   "source": [
    "### 1. 어느 권총 사격 선수가 과녁의 정중앙을 맞힐 확률이 80%라고 한다. 이 선수가 총 5번 사격을 할 때 평균적으로 몇번 정중앙을 맞히는지 구하시오."
   ]
  },
  {
   "cell_type": "code",
   "execution_count": 8,
   "metadata": {},
   "outputs": [
    {
     "name": "stdout",
     "output_type": "stream",
     "text": [
      "5번 사격 중 과녁의 정중앙에 맞추는 횟수를 확률변수 X라고 하면, X~B(5, 0.8)을 따른다.\n",
      "5번 사격 중 과녁의 정중앙에 맞추는 횟수의 평균은 4.0 이다.\n"
     ]
    }
   ],
   "source": [
    "print('5번 사격 중 과녁의 정중앙에 맞추는 횟수를 확률변수 X라고 하면, X~B(5, 0.8)을 따른다.')\n",
    "print(f'5번 사격 중 과녁의 정중앙에 맞추는 횟수의 평균은 {5*0.8} 이다.')"
   ]
  },
  {
   "cell_type": "markdown",
   "metadata": {},
   "source": [
    "### 2. 전체 청소년의 40%가 11시 이전에 잠을 잔다고 한다면, 임의로 선택한 10명의 청소년 중에서 3명이 11시 이전에 잠을 잘 확률을 계산하시오. (소수점 첫째자리까지 반올림)"
   ]
  },
  {
   "cell_type": "code",
   "execution_count": 9,
   "metadata": {},
   "outputs": [
    {
     "name": "stdout",
     "output_type": "stream",
     "text": [
      "10명의 청소년 중 11시 이전에 잠을 자는 청소년의 수를 확률변수 X라고 하면, X~B(10, 0.4)를 따른다.\n",
      "10명의 청소년 중 3명이 11이 이전에 잠을 잘 확률은 0.215이다.\n"
     ]
    }
   ],
   "source": [
    "print('10명의 청소년 중 11시 이전에 잠을 자는 청소년의 수를 확률변수 X라고 하면, X~B(10, 0.4)를 따른다.')\n",
    "print(f'10명의 청소년 중 3명이 11이 이전에 잠을 잘 확률은 {round(stats.binom.pmf(k=3, n=10, p=0.4), 4)}이다.')"
   ]
  },
  {
   "cell_type": "markdown",
   "metadata": {},
   "source": [
    "### 3. 어느 아파트 단지에서 밤 11시부터 새벽2시 사이에 배달되는 음식 배달 건수는 시간 당 평균 5건이다. 음식 배달 건수의 분포가 포아송분포를 따른다면 오늘 새벽 12시와 1시 사이에 배달이 1건만 발생할 확률을 구하시오. (소수점 둘째자리까지 반올림)"
   ]
  },
  {
   "cell_type": "code",
   "execution_count": 10,
   "metadata": {},
   "outputs": [
    {
     "name": "stdout",
     "output_type": "stream",
     "text": [
      "밤 11시부터 새벽 2시 사이에 배달되는 음식 배달 건수가 평균 5인 포아송분포를 따른다면, 새벽 12시에서 1시 사이에 배달되는 건수는 평균이 1.6667인 포아송분포를 따른다.\n",
      "새벽 12시에서 1시 사이에 배달이 1건만 발생할 확률은 0.3148이다.\n"
     ]
    }
   ],
   "source": [
    "print(f'밤 11시부터 새벽 2시 사이에 배달되는 음식 배달 건수가 평균 5인 포아송분포를 따른다면, 새벽 12시에서 1시 사이에 배달되는 건수는 평균이 {round(5/3, 4)}인 포아송분포를 따른다.')\n",
    "print(f'새벽 12시에서 1시 사이에 배달이 1건만 발생할 확률은 {round(stats.poisson.pmf(k=1, mu=5/3), 4)}이다.')"
   ]
  },
  {
   "cell_type": "markdown",
   "metadata": {},
   "source": [
    "### 4. A대학교 B전공 시험의 성적 분포는 평균이 65, 표준편차 12인 정규분포를 따른다고 한다. 최고 점수부터 10%까지를 A+로 분류한다면, A+를 받기 위해 최소 몇점을 받아야 하는가?"
   ]
  },
  {
   "cell_type": "code",
   "execution_count": 11,
   "metadata": {},
   "outputs": [
    {
     "name": "stdout",
     "output_type": "stream",
     "text": [
      "A+를 위한 최소 점수는 80.3786 이다.\n"
     ]
    }
   ],
   "source": [
    "print(f'A+를 위한 최소 점수는 {round(stats.norm.ppf(loc=65, scale=12, q=0.9), 4)} 이다.')"
   ]
  },
  {
   "cell_type": "markdown",
   "metadata": {},
   "source": [
    "### >>> 추정과 가설 검정, 분산분석"
   ]
  },
  {
   "cell_type": "markdown",
   "metadata": {},
   "source": [
    "### 1. 다음 데이터의 모분산 정보가 없을 때, 다음 데이터의 모평균에 대한 95% 신뢰수준의 신뢰구간을 구하시오. 또한, 다음 데이터의 모표준편차가 3이라는 것을 알고 있을 때, 다음 데이터의 모평균에 대한 95% 신뢰수준의 신뢰구간을 구하시오."
   ]
  },
  {
   "cell_type": "code",
   "execution_count": 12,
   "metadata": {},
   "outputs": [],
   "source": [
    "data = [10, 19, 15, 11, 13, 14, 18]"
   ]
  },
  {
   "cell_type": "code",
   "execution_count": 13,
   "metadata": {},
   "outputs": [
    {
     "data": {
      "text/plain": [
       "ShapiroResult(statistic=0.951850175857544, pvalue=0.7465067505836487)"
      ]
     },
     "execution_count": 13,
     "metadata": {},
     "output_type": "execute_result"
    }
   ],
   "source": [
    "stats.shapiro(data)"
   ]
  },
  {
   "cell_type": "code",
   "execution_count": 14,
   "metadata": {},
   "outputs": [
    {
     "name": "stdout",
     "output_type": "stream",
     "text": [
      "Shapiro test 결과, p-value 0.75로 데이터가 정규분포를 따른다는 귀무가설을 기각할 수 없다. 따라서 해당 데이터는 정규분포가 아니라고 볼 충분한 통계적 근거가 없다.\n"
     ]
    }
   ],
   "source": [
    "print('Shapiro test 결과, p-value 0.75로 데이터가 정규분포를 따른다는 귀무가설을 기각할 수 없다. 따라서 해당 데이터는 정규분포가 아니라고 볼 충분한 통계적 근거가 없다.')"
   ]
  },
  {
   "cell_type": "code",
   "execution_count": 15,
   "metadata": {},
   "outputs": [
    {
     "name": "stdout",
     "output_type": "stream",
     "text": [
      "모표준편차를 알 수 없을 때, 모평균의 95% 신뢰구간은 (11.185329064313652, 17.38609950711492) 이다.\n",
      "모표준편차가 3일 때, 모평균의 95% 신뢰구간은 (12.063324022113047, 16.508104549315526) 이다.\n"
     ]
    }
   ],
   "source": [
    "print(f'모표준편차를 알 수 없을 때, 모평균의 95% 신뢰구간은 {stats.t.interval(alpha=0.95, df=len(data)-1, loc=np.mean(data), scale=np.std(data, ddof=1) / np.sqrt(len(data)))} 이다.')\n",
    "print(f'모표준편차가 3일 때, 모평균의 95% 신뢰구간은 {stats.norm.interval(alpha=0.95, loc=np.mean(data), scale=3/np.sqrt(len(data)))} 이다.')"
   ]
  },
  {
   "cell_type": "markdown",
   "metadata": {},
   "source": [
    "### 2. 어느 제조회사의 불량률이 5%로 알려져 있다면, 95% 신뢰수준에서 오차의 한계가 3%가 되도록하는 최소 표본 사이즈를 구하시오."
   ]
  },
  {
   "cell_type": "code",
   "execution_count": 16,
   "metadata": {},
   "outputs": [
    {
     "name": "stdout",
     "output_type": "stream",
     "text": [
      "오차한계를 3%로 하는 최소 표본 사이즈는 203 이다.\n"
     ]
    }
   ],
   "source": [
    "### 모비율 추정 시 표본 크기\n",
    "d = 0.03\n",
    "alpha = 0.05\n",
    "p = 0.05\n",
    "\n",
    "print(f'오차한계를 3%로 하는 최소 표본 사이즈는 {math.ceil(p*(1-p)*(stats.norm.ppf(1-(alpha/2))/d)**2)} 이다.')"
   ]
  },
  {
   "cell_type": "markdown",
   "metadata": {},
   "source": [
    "### 3. 임의로 추출한 표본 30개의 분산을 계산했더니 50일 때, 신뢰도 95%로 모분산의 신뢰구간을 추정하시오. (소수점 둘째자리까지 반올림)"
   ]
  },
  {
   "cell_type": "code",
   "execution_count": 17,
   "metadata": {},
   "outputs": [
    {
     "name": "stdout",
     "output_type": "stream",
     "text": [
      "모분산의 95% 신뢰구간은 (31.71, 90.36) 이다.\n"
     ]
    }
   ],
   "source": [
    "n = 30\n",
    "var = 50\n",
    "alpha=0.05\n",
    "print(f'모분산의 95% 신뢰구간은 {round(((n - 1) * var)/stats.chi2.ppf(1-(alpha/2), df=n-1), 2), round(((n - 1) * var)/stats.chi2.ppf(alpha/2, df=n-1), 2)} 이다.')"
   ]
  },
  {
   "cell_type": "markdown",
   "metadata": {},
   "source": [
    "### 4. 어느 뽑기 기계에서 20번 뽑기를 했더니 그 중 5개는 미니카였다. 해당 뽑기 기계에 있는 장난감들 중 미니카의 비율을 P라고 한다면, 모비율 P에 대한 95% 신뢰구간을 구하시오."
   ]
  },
  {
   "cell_type": "code",
   "execution_count": 18,
   "metadata": {},
   "outputs": [],
   "source": [
    "from statsmodels.stats.proportion import proportion_confint"
   ]
  },
  {
   "cell_type": "code",
   "execution_count": 19,
   "metadata": {},
   "outputs": [
    {
     "name": "stdout",
     "output_type": "stream",
     "text": [
      "미니카의 모비율 P에 대한 95% 신뢰구간은 (0.06022730321775094, 0.43977269678224906) 이다.\n"
     ]
    }
   ],
   "source": [
    "print(f\"미니카의 모비율 P에 대한 95% 신뢰구간은 {proportion_confint(5, 20, alpha=0.05, method='normal')} 이다.\")"
   ]
  },
  {
   "cell_type": "markdown",
   "metadata": {},
   "source": [
    "### 5. A 국가의 성인 남성의 흡연율이 35%라고 발표하였으나 B는 그것보다 더 높은 수치를 예상했다. 이에 성인 남성 중 450명을 임의 추출하여 조사한 결과 180명이 흡연자인 것을 확인하였다. 이에 대하여 귀무가설과 연구가설을 세우고, 검정통계량을 계산하여 검정 결과를 서술하시오. (유의수준 0.05)"
   ]
  },
  {
   "cell_type": "code",
   "execution_count": 20,
   "metadata": {},
   "outputs": [
    {
     "name": "stdout",
     "output_type": "stream",
     "text": [
      "H0: A국가 성인 남성의 흡연율은 35%이다.\n",
      "H1: A국가 성인 남성의 흡연율은 35%보다 크다.\n",
      "검정통계량: 2.1651, p-value 0.0152로, 유의수준 0.05 하에서 귀무가설을 기각할 충분한 통계적 근거가 존재한다.\n",
      "따라서, A국가 성인 남성의 흡연율은 35%보다 크다고 볼 수 있다.\n"
     ]
    }
   ],
   "source": [
    "print('H0: A국가 성인 남성의 흡연율은 35%이다.')\n",
    "print('H1: A국가 성인 남성의 흡연율은 35%보다 크다.')\n",
    "print(f\"검정통계량: {round(statsmodels.stats.proportion.proportions_ztest(count=180, nobs=450, value=0.35, alternative='larger')[0], 4)}, p-value {round(statsmodels.stats.proportion.proportions_ztest(count=180, nobs=450, value=0.35, alternative='larger')[1], 4)}로, 유의수준 0.05 하에서 귀무가설을 기각할 충분한 통계적 근거가 존재한다.\")\n",
    "print('따라서, A국가 성인 남성의 흡연율은 35%보다 크다고 볼 수 있다.')"
   ]
  },
  {
   "cell_type": "markdown",
   "metadata": {},
   "source": [
    "### 6. 모평균을 모르는 상황에서 표본의 정보를 통해 모분산이 10인지 아닌지 여부를 검정하고자 한다. 50개의 표본을 임의로 추출하여 계산한 결과 표본의 분산은 8.8로 나타났다. 이에 대해 귀무가설과 대립가설을 세우고, 검정통계량을 계산하여 검정 결과를 서술하시오. (유의수준 0.05)"
   ]
  },
  {
   "cell_type": "code",
   "execution_count": 21,
   "metadata": {},
   "outputs": [
    {
     "name": "stdout",
     "output_type": "stream",
     "text": [
      "H0: 집단의 모분산은 10이다.\n",
      "H1: 집단의 모분산은 10이 아니다.\n",
      "검정통계량은 43.12, p-value: 0.5813로 유의수준 0.05 하에서 귀무가설을 기각할 통계적 근거가 부족하다. 따라서 집단의 모분산은 10이라고 볼 수 있다.\n"
     ]
    }
   ],
   "source": [
    "print('H0: 집단의 모분산은 10이다.')\n",
    "print('H1: 집단의 모분산은 10이 아니다.')\n",
    "\n",
    "n = 50\n",
    "chi_stat = (n - 1) * 8.8 / 10 \n",
    "tmp_p = stats.chi2.cdf(chi_stat, df=n-1)\n",
    "p = 2*(1-tmp_p) if tmp_p > 0.5 else 2*tmp_p\n",
    "\n",
    "print(f\"검정통계량은 {round(chi_stat, 4)}, p-value: {round(p, 4)}로 유의수준 0.05 하에서 귀무가설을 기각할 통계적 근거가 부족하다. 따라서 집단의 모분산은 10이라고 볼 수 있다.\")"
   ]
  },
  {
   "cell_type": "markdown",
   "metadata": {},
   "source": [
    "### 7. 50명의 당뇨 환자에 대해 신약 투약 이전과 이후의 평균 혈당 차이가 15, 표준편차 4일 때 투약 전후 평균 혈당의 차이가 존재하는지 확인하고자 한다. 이에 대해 귀무가설과 연구가설을 제시하고, 검정통계량과 유의확률을 구하여 검정 결과를 서술하시오. (유의수준 0.05)"
   ]
  },
  {
   "cell_type": "code",
   "execution_count": 22,
   "metadata": {},
   "outputs": [
    {
     "name": "stdout",
     "output_type": "stream",
     "text": [
      "H0: 당뇨 환자에 대한 신약 투약 이전과 이후의 평균 혈당에는 차이가 없다.\n",
      "H1: 당뇨 환자에 대한 신약 투약 이전보다 이후의 평균 혈당이 낮다.\n",
      "검정통계량: 26.5165, p-value: 0.0로 유의수준 0.05 하에서 귀무가설을 기각할 충분한 통계적 근거가 존재한다.\n",
      "당뇨 환자의 평균 혈당은 신약 투약 이후가 낮으며, 신약이 혈당 조절에 효과가 있다고 볼 수 있다.\n"
     ]
    }
   ],
   "source": [
    "print('H0: 당뇨 환자에 대한 신약 투약 이전과 이후의 평균 혈당에는 차이가 없다.')\n",
    "print('H1: 당뇨 환자에 대한 신약 투약 이전보다 이후의 평균 혈당이 낮다.')\n",
    "print(f\"검정통계량: {round(15/(4/np.sqrt(50)), 4)}, p-value: {1 - stats.t.cdf(15/(4/np.sqrt(50)), df=50-1)}로 유의수준 0.05 하에서 귀무가설을 기각할 충분한 통계적 근거가 존재한다.\")\n",
    "print('당뇨 환자의 평균 혈당은 신약 투약 이후가 낮으며, 신약이 혈당 조절에 효과가 있다고 볼 수 있다.')"
   ]
  },
  {
   "cell_type": "markdown",
   "metadata": {},
   "source": [
    "### 8. 가수 A에 대한 호감도가 남녀별로 다른지 알아보고자 다음과 같은 데이터를 얻었다. 남녀 별로 지지율에 차이가 있는지 검정하시오. (유의수준 0.05)\n",
    "[남성 (총 100명) 30% 호감    |    여성 (총 180명) 35% 호감]"
   ]
  },
  {
   "cell_type": "code",
   "execution_count": 23,
   "metadata": {},
   "outputs": [
    {
     "name": "stdout",
     "output_type": "stream",
     "text": [
      "H0: 성별 가수 A에 대한 호감도에는 차이가 없다.\n",
      "H1: 가수 A에 대한 호감도에는 성별 차이가 있다.\n",
      "Two sided z-test 결과, 검정통계랑 = -1.0870, p value = 0.2770이다. 유의수준 0.05 하에서 남녀 별 가수 A의 호감도에 차이가 있다고 볼 통계적 근거가 부족하다.\n"
     ]
    }
   ],
   "source": [
    "success_cnts = np.array([30, 100])\n",
    "total_cnts = np.array([180*0.35, 180])\n",
    "\n",
    "test_stat, pval = statsmodels.stats.proportion.proportions_ztest(count=success_cnts, nobs=total_cnts, alternative='two-sided')\n",
    "print('H0: 성별 가수 A에 대한 호감도에는 차이가 없다.')\n",
    "print('H1: 가수 A에 대한 호감도에는 성별 차이가 있다.')\n",
    "print('Two sided z-test 결과, 검정통계랑 = {:.4f}, p value = {:.4f}이다. 유의수준 0.05 하에서 남녀 별 가수 A의 호감도에 차이가 있다고 볼 통계적 근거가 부족하다.'.format(test_stat, pval))"
   ]
  },
  {
   "cell_type": "markdown",
   "metadata": {},
   "source": [
    "### 9. A 브랜드의 제품 14개를 추출하여 구한 평균과 표준편차는 각각 100g, 5g이고, B 브랜드의 제품 12개를 추출하여 구한 평균과 표준편차는 각각 110g, 6g이라면, 두 제품의 평균이 차이가 있는지 여부를 검정하시오. (유의수준 0.05)"
   ]
  },
  {
   "cell_type": "code",
   "execution_count": 24,
   "metadata": {},
   "outputs": [
    {
     "name": "stdout",
     "output_type": "stream",
     "text": [
      "H0: 두 브랜드의 제품 평균에는 차이가 없다.\n",
      "H1: 두 브랜드의 제품 평균에는 차이가 있다.\n",
      "검정통계량: 4.7907, p-value: 0.0004로 유의수준 0.05 하에서 귀무가설을 기각할 충분한 통계적 근거가 있다.\n"
     ]
    }
   ],
   "source": [
    "print('H0: 두 브랜드의 제품 평균에는 차이가 없다.')\n",
    "print('H1: 두 브랜드의 제품 평균에는 차이가 있다.')\n",
    "\n",
    "print(f'검정통계량: {round((110-100)/np.sqrt((5**2/14) + (6**2/14)), 4)}, p-value: {round(2*(1-stats.t.cdf((110-100)/np.sqrt((5**2/14) + (6**2/14)), df=14-1)), 4)}로 유의수준 0.05 하에서 귀무가설을 기각할 충분한 통계적 근거가 있다.')"
   ]
  },
  {
   "cell_type": "markdown",
   "metadata": {},
   "source": [
    "### 10. iris target별로 sepal length의 평균에 차이가 있는지 가설검정하시오. 차이가 있다면 어느 target들 사이에 평균 차이가 있는지 사후 검정하시오."
   ]
  },
  {
   "cell_type": "code",
   "execution_count": 25,
   "metadata": {},
   "outputs": [
    {
     "name": "stdout",
     "output_type": "stream",
     "text": [
      "   sepallength  sepalwidth  petallength  petalwidth  target\n",
      "0          5.1         3.5          1.4         0.2  setosa\n",
      "1          4.9         3.0          1.4         0.2  setosa\n",
      "2          4.7         3.2          1.3         0.2  setosa\n"
     ]
    }
   ],
   "source": [
    "from sklearn.datasets import load_iris\n",
    "from pandas import DataFrame\n",
    "import numpy as np\n",
    "load = load_iris()\n",
    "feature_names = list(map(lambda x: x.replace(\"(cm)\", \"\").replace(' ', ''), load['feature_names']))\n",
    "data = DataFrame(np.c_[load['data'], load['target']], columns = feature_names+['target'])\n",
    "data['target'] = data['target'].map({0:load['target_names'][0], 1:load['target_names'][1], 2:load['target_names'][2]})\n",
    "print(data.head(3))"
   ]
  },
  {
   "cell_type": "code",
   "execution_count": 26,
   "metadata": {},
   "outputs": [],
   "source": [
    "target_list = data[\"target\"].unique()\n",
    "setosa = data[data[\"target\"]==target_list[0]][\"sepallength\"]\n",
    "versicolor = data[data[\"target\"]==target_list[1]][\"sepallength\"]\n",
    "virginica = data[data[\"target\"]==target_list[2]][\"sepallength\"]"
   ]
  },
  {
   "cell_type": "code",
   "execution_count": 27,
   "metadata": {},
   "outputs": [
    {
     "name": "stdout",
     "output_type": "stream",
     "text": [
      "ShapiroResult(statistic=0.977698802947998, pvalue=0.45952266454696655)\n",
      "ShapiroResult(statistic=0.9778357148170471, pvalue=0.4647378921508789)\n",
      "ShapiroResult(statistic=0.9711796641349792, pvalue=0.2583208680152893)\n",
      "Shapiro-Wilk 테스트 결과, 모든 집단에 대하여 정규성을 만족한다.\n"
     ]
    }
   ],
   "source": [
    "### Normality test\n",
    "print(stats.shapiro(setosa))\n",
    "print(stats.shapiro(versicolor))\n",
    "print(stats.shapiro(virginica))\n",
    "print('Shapiro-Wilk 테스트 결과, 모든 집단에 대하여 정규성을 만족한다.')"
   ]
  },
  {
   "cell_type": "code",
   "execution_count": 28,
   "metadata": {},
   "outputs": [
    {
     "name": "stdout",
     "output_type": "stream",
     "text": [
      "Levene 등분산 테스트 결과, p-value 0.002로 귀무가설이 기각되었다. 따라서, 각 집단 간 분산은 다르다고 볼 수 있으며, Welch's ANOVA를 이용하여 평균 차이를 검정한다.\n"
     ]
    }
   ],
   "source": [
    "### Equal variance test\n",
    "# Levene test\n",
    "stats.levene(setosa, versicolor, virginica)\n",
    "print(\"Levene 등분산 테스트 결과, p-value 0.002로 귀무가설이 기각되었다. 따라서, 각 집단 간 분산은 다르다고 볼 수 있으며, Welch's ANOVA를 이용하여 평균 차이를 검정한다.\")"
   ]
  },
  {
   "cell_type": "code",
   "execution_count": 29,
   "metadata": {},
   "outputs": [
    {
     "data": {
      "text/html": [
       "<div>\n",
       "<style scoped>\n",
       "    .dataframe tbody tr th:only-of-type {\n",
       "        vertical-align: middle;\n",
       "    }\n",
       "\n",
       "    .dataframe tbody tr th {\n",
       "        vertical-align: top;\n",
       "    }\n",
       "\n",
       "    .dataframe thead th {\n",
       "        text-align: right;\n",
       "    }\n",
       "</style>\n",
       "<table border=\"1\" class=\"dataframe\">\n",
       "  <thead>\n",
       "    <tr style=\"text-align: right;\">\n",
       "      <th></th>\n",
       "      <th>Source</th>\n",
       "      <th>ddof1</th>\n",
       "      <th>ddof2</th>\n",
       "      <th>F</th>\n",
       "      <th>p-unc</th>\n",
       "      <th>np2</th>\n",
       "    </tr>\n",
       "  </thead>\n",
       "  <tbody>\n",
       "    <tr>\n",
       "      <th>0</th>\n",
       "      <td>target</td>\n",
       "      <td>2</td>\n",
       "      <td>92.211145</td>\n",
       "      <td>138.908285</td>\n",
       "      <td>1.505059e-28</td>\n",
       "      <td>0.618706</td>\n",
       "    </tr>\n",
       "  </tbody>\n",
       "</table>\n",
       "</div>"
      ],
      "text/plain": [
       "   Source  ddof1      ddof2           F         p-unc       np2\n",
       "0  target      2  92.211145  138.908285  1.505059e-28  0.618706"
      ]
     },
     "execution_count": 29,
     "metadata": {},
     "output_type": "execute_result"
    }
   ],
   "source": [
    "pg.welch_anova(data=data, dv='sepallength', between='target')"
   ]
  },
  {
   "cell_type": "code",
   "execution_count": 30,
   "metadata": {},
   "outputs": [
    {
     "name": "stdout",
     "output_type": "stream",
     "text": [
      "H0: 세 target 그룹의 sepal length 평균에는 차이가 없다.\n",
      "H1: 하나 이상의 target 그룹의 sepal length 평균에 차이가 있다.\n",
      "Welch ANOVA 결과, F 통계량 138.91, p-value 0.000으로 유의수준 0.05 하에서 귀무가설을 기각할 통계적 근거가 충분하다.\n"
     ]
    }
   ],
   "source": [
    "print('H0: 세 target 그룹의 sepal length 평균에는 차이가 없다.')\n",
    "print('H1: 하나 이상의 target 그룹의 sepal length 평균에 차이가 있다.')\n",
    "print('Welch ANOVA 결과, F 통계량 138.91, p-value 0.000으로 유의수준 0.05 하에서 귀무가설을 기각할 통계적 근거가 충분하다.')"
   ]
  },
  {
   "cell_type": "code",
   "execution_count": 31,
   "metadata": {},
   "outputs": [
    {
     "name": "stdout",
     "output_type": "stream",
     "text": [
      "Welch ANOVA의 사후검정 방법인 Games Howell method를 이용하여 사후 검정을 진행한 결과, 모든 집단에서 p-value 0.001로 귀무가설을 기각하였다. 따라서 세 집단 모두에서 sepal length에 차이가 있는 것으로 나타났다.\n"
     ]
    }
   ],
   "source": [
    "pg.pairwise_gameshowell(data=data, dv='sepallength', between='target')\n",
    "print('Welch ANOVA의 사후검정 방법인 Games Howell method를 이용하여 사후 검정을 진행한 결과, 모든 집단에서 p-value 0.001로 귀무가설을 기각하였다. 따라서 세 집단 모두에서 sepal length에 차이가 있는 것으로 나타났다.')"
   ]
  },
  {
   "cell_type": "markdown",
   "metadata": {},
   "source": [
    "### >>> 비모수 검정"
   ]
  },
  {
   "cell_type": "markdown",
   "metadata": {},
   "source": [
    "### 1. 아래 그래프는 A,B,C 동별 입주민의 주민대표 찬반 투표 결과를 나타낸다. 동별 찬반 비율이 동일한지 귀무가설과 대립가설을 설정하고, 검정통계량을 계산하여 검정하시오. (유의수준 0.05)\n",
    "|구분|A|B|C|\n",
    "|:-:|:-:|:-:|:-:|\n",
    "|찬성|50|60|65|\n",
    "|반대|45|32|55|"
   ]
  },
  {
   "cell_type": "code",
   "execution_count": 32,
   "metadata": {},
   "outputs": [],
   "source": [
    "table = pd.DataFrame({'A': [50, 45], 'B': [60, 32], 'C': [65, 55]}, index=['찬성', '반대'])"
   ]
  },
  {
   "cell_type": "code",
   "execution_count": 33,
   "metadata": {},
   "outputs": [],
   "source": [
    "from scipy.stats import chi2_contingency"
   ]
  },
  {
   "cell_type": "code",
   "execution_count": 34,
   "metadata": {},
   "outputs": [
    {
     "name": "stdout",
     "output_type": "stream",
     "text": [
      "H0: 주민대표 찬반 비율 분포는 동과 관련없이 차이가 없다.\n",
      "H1: 주민대표 찬반 비율 분포는 동별 차이가 있다.\n",
      "Statistic: 3.6674 P-value 0.1598 로 귀무가설을 기각할 통계적 근거가 부족하다. 따라서 동별 주민대표 찬반 비율 분포에는 차이가 없다고 볼 수 있다.\n"
     ]
    }
   ],
   "source": [
    "print('H0: 주민대표 찬반 비율 분포는 동과 관련없이 차이가 없다.')\n",
    "print('H1: 주민대표 찬반 비율 분포는 동별 차이가 있다.')\n",
    "\n",
    "chi, p, df, expect = chi2_contingency(table) \n",
    "print('Statistic:', round(chi, 4), 'P-value', round(p, 4), '로 귀무가설을 기각할 통계적 근거가 부족하다. 따라서 동별 주민대표 찬반 비율 분포에는 차이가 없다고 볼 수 있다.')"
   ]
  },
  {
   "cell_type": "markdown",
   "metadata": {},
   "source": [
    "### 2. 특정 캠페인에 노출되기 전과 후의 캠페인 주제에 대한 지지 여부를 기록한 데이터이다. 캠페인 전후의 지지 비율이 차이가 있는지 귀무가설과 대립가설을 설정하고, 검정통계량을 계산하여 검정하시오. (유의수준 0.05)"
   ]
  },
  {
   "cell_type": "code",
   "execution_count": 35,
   "metadata": {
    "tags": []
   },
   "outputs": [
    {
     "name": "stdout",
     "output_type": "stream",
     "text": [
      "        0  1  2  3  4\n",
      "before  1  1  1  0  1\n",
      "after   0  1  1  1  0\n"
     ]
    }
   ],
   "source": [
    "from pandas import read_csv\n",
    "data = read_csv('https://raw.githubusercontent.com/algoboni/pythoncodebook1-1/main/practice6_ba.csv', index_col=0)\n",
    "print(data.head(5).T)"
   ]
  },
  {
   "cell_type": "code",
   "execution_count": 36,
   "metadata": {},
   "outputs": [],
   "source": [
    "from statsmodels.stats.contingency_tables import mcnemar"
   ]
  },
  {
   "cell_type": "code",
   "execution_count": 37,
   "metadata": {},
   "outputs": [
    {
     "name": "stdout",
     "output_type": "stream",
     "text": [
      "pvalue      0.125\n",
      "statistic   0.0\n",
      "H0: 캠페인 노출 전후의 캠페인 주제 지지 여부에는 차이가 없다.\n",
      "H1: 캠페인 주제 지지 여부에는 캠페인 노출 전후의 차이가 있다.\n",
      "캠페인 노출 전후에 대한 범주형 변수(지지 여부)의 변화를 보려고 하므로, McNemar 검정을 이용한다. 검정 결과 p-value 0.125로 귀무가설을 기각할 통계적 근거가 충분하지 않다. 따라서, 캠페인 전후의 지지 비율에는 차이가 없다고 볼 수 있다.\n"
     ]
    }
   ],
   "source": [
    "a = 0 \n",
    "b = 0\n",
    "c = 0\n",
    "d = 0\n",
    "for idx in data.index:\n",
    "    a += (data.loc[idx].before==0 & data.loc[idx].after==0)\n",
    "    b += (data.loc[idx].before==0 & data.loc[idx].after==1)\n",
    "    c += (data.loc[idx].before==1 & data.loc[idx].after==0)\n",
    "    d += (data.loc[idx].before==1 & data.loc[idx].after==1)\n",
    "\n",
    "x = [[a, b], [c, d]]\n",
    "print(mcnemar(x, exact=True, correction=True))\n",
    "print('H0: 캠페인 노출 전후의 캠페인 주제 지지 여부에는 차이가 없다.')\n",
    "print('H1: 캠페인 주제 지지 여부에는 캠페인 노출 전후의 차이가 있다.')\n",
    "print('캠페인 노출 전후에 대한 범주형 변수(지지 여부)의 변화를 보려고 하므로, McNemar 검정을 이용한다. 검정 결과 p-value 0.125로 귀무가설을 기각할 통계적 근거가 충분하지 않다. 따라서, 캠페인 전후의 지지 비율에는 차이가 없다고 볼 수 있다.')"
   ]
  },
  {
   "cell_type": "markdown",
   "metadata": {},
   "source": [
    "### 3. 다음의 T와 F가 무작위로 나열되어 있다고 볼 수 있는지 귀무가설과 대립가설을 설정하고, 검정통계량을 계산하여 검정하시오. (유의수준 0.05)"
   ]
  },
  {
   "cell_type": "code",
   "execution_count": 38,
   "metadata": {},
   "outputs": [],
   "source": [
    "TFlist = ['T','F','F','T','F','T','F','T','T','F','F','T','F','T','F','T','F','T']"
   ]
  },
  {
   "cell_type": "code",
   "execution_count": 39,
   "metadata": {},
   "outputs": [],
   "source": [
    "from statsmodels.sandbox.stats.runs import runstest_1samp"
   ]
  },
  {
   "cell_type": "code",
   "execution_count": 40,
   "metadata": {},
   "outputs": [
    {
     "data": {
      "text/plain": [
       "(2.1866069605669876, 0.028771228782561296)"
      ]
     },
     "execution_count": 40,
     "metadata": {},
     "output_type": "execute_result"
    }
   ],
   "source": [
    "# Run-test를 위한 데이터 변환 \n",
    "TF_df = pd.DataFrame(TFlist, columns=['product'])\n",
    "\n",
    "TF_df.loc[TF_df['product']=='T', 'product']=1\n",
    "TF_df.loc[TF_df['product']=='F', 'product']=0\n",
    "\n",
    "# Perform Runs test\n",
    "runstest_1samp(TF_df['product'], cutoff=0.5, correction=True)"
   ]
  },
  {
   "cell_type": "code",
   "execution_count": 41,
   "metadata": {},
   "outputs": [
    {
     "name": "stdout",
     "output_type": "stream",
     "text": [
      "H0: T와 F는 무작위로 나열되어 있다.\n",
      "H1: T와 F는 무작위로 나열되어 있지 않다. (연관성이 있다)\n",
      "무작위성을 판단하기 위해 Run test를 진행한다. 검정 결과, p-value 0.029로 유의수준 0.05하에서 귀무가설을 기각할 통계적 근거가 충분하다.\n",
      "따라서, T와 F의 등장에는 연관성이 있다고 볼 수 있다.\n"
     ]
    }
   ],
   "source": [
    "print('H0: T와 F는 무작위로 나열되어 있다.')\n",
    "print('H1: T와 F는 무작위로 나열되어 있지 않다. (연관성이 있다)')\n",
    "print('무작위성을 판단하기 위해 Run test를 진행한다. 검정 결과, p-value 0.029로 유의수준 0.05하에서 귀무가설을 기각할 통계적 근거가 충분하다.')\n",
    "print('따라서, T와 F의 등장에는 연관성이 있다고 볼 수 있다.')"
   ]
  },
  {
   "cell_type": "markdown",
   "metadata": {},
   "source": [
    "### 4. 20대보다 30대가 기대하는 연봉상승률이 더 높다는 주장이 있다. 이 주장이 타당한지를 확인해보기 위해서 20대 10명과 30대 8명을 임의로 추출하여 기대하는 연봉상승률을 다음과 같이 정리하였다. 이 주장을 검정하기 위한 귀무가설과 대립가설을 설정하고, 검정통계량을 계산하여 검정하시오. (유의수준 0.05)"
   ]
  },
  {
   "cell_type": "code",
   "execution_count": 42,
   "metadata": {},
   "outputs": [],
   "source": [
    "A = [3.0, 3.5, 2.0, 2.8, 5.0, 0, 2.3, 2.8, 3.3, 3.5] #20대\n",
    "B = [3.5, 5.5, 5.0, 5.0, 10.0, 8.0, 2.5, 3.0 ] #30대"
   ]
  },
  {
   "cell_type": "code",
   "execution_count": 43,
   "metadata": {},
   "outputs": [
    {
     "name": "stdout",
     "output_type": "stream",
     "text": [
      "H0: 20대와 30대의 기대 연봉상승률은 같다.\n",
      "H1: 30대의 기대 연봉상승률이 20대의 기대 연봉상승률보다 높다.\n"
     ]
    }
   ],
   "source": [
    "print('H0: 20대와 30대의 기대 연봉상승률은 같다.')\n",
    "print('H1: 30대의 기대 연봉상승률이 20대의 기대 연봉상승률보다 높다.')"
   ]
  },
  {
   "cell_type": "code",
   "execution_count": 44,
   "metadata": {},
   "outputs": [
    {
     "name": "stdout",
     "output_type": "stream",
     "text": [
      "ShapiroResult(statistic=0.9171082973480225, pvalue=0.33346694707870483)\n",
      "ShapiroResult(statistic=0.9105508923530579, pvalue=0.3579590618610382)\n",
      "Shapiro-Wilk 정규성 검정 결과, 집단이 정규분포를 따른다는 귀무가설을 기각할 통계적 근거가 부족하다. 따라서, 20대와 30대 모두 집단 내 정규성을 띈다고 판단되나, 데이터의 개수가 매우 적어 검정의 신뢰도가 떨어지므로 비모수적 방법을 통해 먼저 검정을 진행한다.\n"
     ]
    }
   ],
   "source": [
    "print(stats.shapiro(A))\n",
    "print(stats.shapiro(B))\n",
    "print('Shapiro-Wilk 정규성 검정 결과, 집단이 정규분포를 따른다는 귀무가설을 기각할 통계적 근거가 부족하다. 따라서, 20대와 30대 모두 집단 내 정규성을 띈다고 판단되나, 데이터의 개수가 매우 적어 검정의 신뢰도가 떨어지므로 비모수적 방법을 통해 먼저 검정을 진행한다.')"
   ]
  },
  {
   "cell_type": "code",
   "execution_count": 45,
   "metadata": {},
   "outputs": [
    {
     "name": "stdout",
     "output_type": "stream",
     "text": [
      "MannwhitneyuResult(statistic=14.5, pvalue=0.012779101098895868)\n",
      "독립적인 두 집단의 중심 척도를 비교하기 위해 Mann-Whitney U-test를 진행하였다. 검정 결과, 검정통계량 14.5, p-value 0.01로 귀무가설을 기각할 통계적 근거가 충분하다. 따라서 30대의 기대 연봉상승률이 20대보다 높다고 볼 수 있다.\n"
     ]
    }
   ],
   "source": [
    "print(stats.mannwhitneyu(A, B, alternative='less'))\n",
    "print('독립적인 두 집단의 중심 척도를 비교하기 위해 Mann-Whitney U-test를 진행하였다. 검정 결과, 검정통계량 14.5, p-value 0.01로 귀무가설을 기각할 통계적 근거가 충분하다. 따라서 30대의 기대 연봉상승률이 20대보다 높다고 볼 수 있다.')"
   ]
  },
  {
   "cell_type": "markdown",
   "metadata": {},
   "source": [
    "### 5. 양식, 한식, 중식에 대해 5명의 선호도를 나타내는 표이다. 선호하지 않는다를 1, 보통이다를 2, 선호한다를 3으로 응답하였다. 음식 종류에 따라 선호도 차이가 있는지 귀무가설과 대립가설을 설정하고, 검정통계량을 계산하여 검정하시오. (유의수준 0.05)"
   ]
  },
  {
   "cell_type": "code",
   "execution_count": 46,
   "metadata": {},
   "outputs": [],
   "source": [
    "W = [1,3,1,3,1] #양식\n",
    "K = [1,3,3,1,1] #한식\n",
    "C = [2,3,3,3,1] #중식"
   ]
  },
  {
   "cell_type": "code",
   "execution_count": 47,
   "metadata": {},
   "outputs": [
    {
     "name": "stdout",
     "output_type": "stream",
     "text": [
      "ShapiroResult(statistic=0.6840287446975708, pvalue=0.006469968240708113)\n",
      "ShapiroResult(statistic=0.6840287446975708, pvalue=0.006469968240708113)\n",
      "ShapiroResult(statistic=0.770907998085022, pvalue=0.04595435410737991)\n",
      "Shapiro-Wilk 정규성 검정 결과, 세 집단이 정규분포를 따른다는 귀무가설을 기각할 통계적 근거가 있으며, 따라서 각 집단은 정규분포를 따르지 않는다.\n"
     ]
    }
   ],
   "source": [
    "### Normality test\n",
    "print(stats.shapiro(W))\n",
    "print(stats.shapiro(K))\n",
    "print(stats.shapiro(C))\n",
    "print('Shapiro-Wilk 정규성 검정 결과, 세 집단이 정규분포를 따른다는 귀무가설을 기각할 통계적 근거가 있으며, 따라서 각 집단은 정규분포를 따르지 않는다.')"
   ]
  },
  {
   "cell_type": "code",
   "execution_count": 48,
   "metadata": {},
   "outputs": [],
   "source": [
    "data = pd.DataFrame(np.array([W, K, C]), index=['W', 'K', 'C'])\n"
   ]
  },
  {
   "cell_type": "code",
   "execution_count": 49,
   "metadata": {},
   "outputs": [
    {
     "data": {
      "text/html": [
       "<div>\n",
       "<style scoped>\n",
       "    .dataframe tbody tr th:only-of-type {\n",
       "        vertical-align: middle;\n",
       "    }\n",
       "\n",
       "    .dataframe tbody tr th {\n",
       "        vertical-align: top;\n",
       "    }\n",
       "\n",
       "    .dataframe thead th {\n",
       "        text-align: right;\n",
       "    }\n",
       "</style>\n",
       "<table border=\"1\" class=\"dataframe\">\n",
       "  <thead>\n",
       "    <tr style=\"text-align: right;\">\n",
       "      <th></th>\n",
       "      <th>0</th>\n",
       "      <th>1</th>\n",
       "      <th>2</th>\n",
       "      <th>3</th>\n",
       "      <th>4</th>\n",
       "    </tr>\n",
       "  </thead>\n",
       "  <tbody>\n",
       "    <tr>\n",
       "      <th>W</th>\n",
       "      <td>1</td>\n",
       "      <td>3</td>\n",
       "      <td>1</td>\n",
       "      <td>3</td>\n",
       "      <td>1</td>\n",
       "    </tr>\n",
       "    <tr>\n",
       "      <th>K</th>\n",
       "      <td>1</td>\n",
       "      <td>3</td>\n",
       "      <td>3</td>\n",
       "      <td>1</td>\n",
       "      <td>1</td>\n",
       "    </tr>\n",
       "    <tr>\n",
       "      <th>C</th>\n",
       "      <td>2</td>\n",
       "      <td>3</td>\n",
       "      <td>3</td>\n",
       "      <td>3</td>\n",
       "      <td>1</td>\n",
       "    </tr>\n",
       "  </tbody>\n",
       "</table>\n",
       "</div>"
      ],
      "text/plain": [
       "   0  1  2  3  4\n",
       "W  1  3  1  3  1\n",
       "K  1  3  3  1  1\n",
       "C  2  3  3  3  1"
      ]
     },
     "execution_count": 49,
     "metadata": {},
     "output_type": "execute_result"
    }
   ],
   "source": [
    "data"
   ]
  },
  {
   "cell_type": "code",
   "execution_count": 50,
   "metadata": {},
   "outputs": [],
   "source": [
    "from scipy.stats import friedmanchisquare"
   ]
  },
  {
   "cell_type": "code",
   "execution_count": 51,
   "metadata": {},
   "outputs": [
    {
     "data": {
      "text/plain": [
       "FriedmanchisquareResult(statistic=2.666666666666673, pvalue=0.2635971381157259)"
      ]
     },
     "execution_count": 51,
     "metadata": {},
     "output_type": "execute_result"
    }
   ],
   "source": [
    "friedmanchisquare(data.values[0], data.values[1], data.values[2])"
   ]
  },
  {
   "cell_type": "code",
   "execution_count": 52,
   "metadata": {},
   "outputs": [
    {
     "name": "stdout",
     "output_type": "stream",
     "text": [
      "H0: 음식 종류에 따른 5명의 선호도에는 차이가 없다.\n",
      "H1: 음식 종류에 따른 5명의 선호도는 차이가 있다.\n",
      "Friedman test를 수행한 결과, 검정통계량 2.67, p-value 0.26으로 유의수준 0.05 하에서 귀무가설을 기각할 수 없다. 음식 종류에 따른 5명의 선호도에는 차이가 없다고 볼 수 있다.\n"
     ]
    }
   ],
   "source": [
    "print('H0: 음식 종류에 따른 5명의 선호도에는 차이가 없다.')\n",
    "print('H1: 음식 종류에 따른 5명의 선호도는 차이가 있다.')\n",
    "print('Friedman test를 수행한 결과, 검정통계량 2.67, p-value 0.26으로 유의수준 0.05 하에서 귀무가설을 기각할 수 없다. 음식 종류에 따른 5명의 선호도에는 차이가 없다고 볼 수 있다.')"
   ]
  },
  {
   "cell_type": "markdown",
   "metadata": {},
   "source": [
    "### 6. A, B, C 지역 학생들의 키가 차이가 있는지 검정하기 위한 귀무가설과 대립가설을 설정하고, 검정통계량을 계산하여 검정하시오. (유의수준 0.05)"
   ]
  },
  {
   "cell_type": "code",
   "execution_count": 53,
   "metadata": {},
   "outputs": [],
   "source": [
    "A = [177, 167, 188, 189, 152, 159, 184, 175]\n",
    "B = [151, 177, 150, 187, 167, 166, 179, 161, 174]\n",
    "C = [173, 151, 156, 182, 188, 175, 150, 165, 176, 183]"
   ]
  },
  {
   "cell_type": "code",
   "execution_count": 54,
   "metadata": {},
   "outputs": [
    {
     "name": "stdout",
     "output_type": "stream",
     "text": [
      "ShapiroResult(statistic=0.9315202832221985, pvalue=0.5300148725509644)\n",
      "ShapiroResult(statistic=0.9561488628387451, pvalue=0.7572812438011169)\n",
      "ShapiroResult(statistic=0.9159917831420898, pvalue=0.3247329890727997)\n",
      "Shapiro-Wilk 정규성 검정 결과, 세 지역 학생들의 키는 정규분포를 따른다는 귀무가설을 기각할 통계적 근거가 있으며, 따라서 각 집단은 정규분포를 따르지 않는다.\n"
     ]
    }
   ],
   "source": [
    "### Normality test\n",
    "print(stats.shapiro(A))\n",
    "print(stats.shapiro(B))\n",
    "print(stats.shapiro(C))\n",
    "print('Shapiro-Wilk 정규성 검정 결과, 세 지역 학생들의 키는 정규분포를 따른다는 귀무가설을 기각할 통계적 근거가 있으며, 따라서 각 집단은 정규분포를 따르지 않는다.')"
   ]
  },
  {
   "cell_type": "code",
   "execution_count": 55,
   "metadata": {},
   "outputs": [],
   "source": [
    "from scipy.stats import kruskal"
   ]
  },
  {
   "cell_type": "code",
   "execution_count": 56,
   "metadata": {},
   "outputs": [
    {
     "data": {
      "text/plain": [
       "KruskalResult(statistic=1.331406727828748, pvalue=0.5139119334462101)"
      ]
     },
     "execution_count": 56,
     "metadata": {},
     "output_type": "execute_result"
    }
   ],
   "source": [
    "kruskal(A, B, C)"
   ]
  },
  {
   "cell_type": "code",
   "execution_count": 57,
   "metadata": {},
   "outputs": [
    {
     "name": "stdout",
     "output_type": "stream",
     "text": [
      "H0: A, B, C 지역 학생들의 키의 평균은 차이가 없다.\n",
      "H1: A, B, C 지역 중, 최소 한 지역 학생들의 키 평균은 차이가 있다.\n",
      "Kruskal-Wallis test를 수행한 결과, 검정통계량 1.33, p-value 0.51으로 유의수준 0.05 하에서 귀무가설을 기각할 수 없다. 따라서, 지역에 따른 학생들의 키 평균은 차이가 없다고 볼 수 있다.\n"
     ]
    }
   ],
   "source": [
    "print('H0: A, B, C 지역 학생들의 키의 평균은 차이가 없다.')\n",
    "print('H1: A, B, C 지역 중, 최소 한 지역 학생들의 키 평균은 차이가 있다.')\n",
    "print('Kruskal-Wallis test를 수행한 결과, 검정통계량 1.33, p-value 0.51으로 유의수준 0.05 하에서 귀무가설을 기각할 수 없다. 따라서, 지역에 따른 학생들의 키 평균은 차이가 없다고 볼 수 있다.')"
   ]
  },
  {
   "cell_type": "markdown",
   "metadata": {},
   "source": [
    "## [기출문제]\n",
    "- ADP 29회 기출 (https://www.datamanim.com/dataset/ADPpb/00/29.html)"
   ]
  },
  {
   "cell_type": "markdown",
   "metadata": {},
   "source": [
    "### 1. 제품 A의 불량률은 0.03이다. 25개의 제품을 뽑았을 때 3개가 불량일 확률을 구하시오. (소수점 다섯 째 자리에서 반올림)"
   ]
  },
  {
   "cell_type": "code",
   "execution_count": 58,
   "metadata": {},
   "outputs": [
    {
     "name": "stdout",
     "output_type": "stream",
     "text": [
      "25개의 제품 중 불량인 제품의 개수를 확률변수 X라고 하면, X~B(25, 0.03)을 따른다.\n",
      "P(X=3) = 0.0318\n"
     ]
    }
   ],
   "source": [
    "print('25개의 제품 중 불량인 제품의 개수를 확률변수 X라고 하면, X~B(25, 0.03)을 따른다.')\n",
    "print(f'P(X=3) = {round(stats.binom.pmf(3, 25, 0.03), 4)}')"
   ]
  },
  {
   "cell_type": "markdown",
   "metadata": {},
   "source": [
    "### 2. C사 생산 제품 1000개 중 양품이 600개, D사 생산 제품 500개 중 양품이 200개 이다. 두 회사의 양품률에 차이가 있는지 검정하여라."
   ]
  },
  {
   "cell_type": "code",
   "execution_count": 59,
   "metadata": {},
   "outputs": [],
   "source": [
    "from statsmodels.stats.proportion import proportions_ztest"
   ]
  },
  {
   "cell_type": "code",
   "execution_count": 60,
   "metadata": {},
   "outputs": [
    {
     "name": "stdout",
     "output_type": "stream",
     "text": [
      "Two sided z-test: z = 7.3193, p value = 0.0000\n"
     ]
    }
   ],
   "source": [
    "### 비율 검정\n",
    "# p1 = 600/1000\n",
    "# p2 = 200/500\n",
    "\n",
    "### Proportion difference test (Z-statistic)\n",
    "success_cnts = np.array([600, 200])\n",
    "total_cnts = np.array([1000, 500])\n",
    "\n",
    "test_stat, pval = proportions_ztest(count=success_cnts, nobs=total_cnts, alternative='two-sided')\n",
    "print('Two sided z-test: z = {:.4f}, p value = {:.4f}'.format(test_stat, pval))"
   ]
  },
  {
   "cell_type": "code",
   "execution_count": 61,
   "metadata": {},
   "outputs": [
    {
     "name": "stdout",
     "output_type": "stream",
     "text": [
      "H0: 두 회사의 양품률에는 차이가 없다.\n",
      "H1: 두 회사의 양품률에는 차이가 있다.\n",
      "Z 통계량 7.3193, p-value 0.0000으로 귀무가설을 기각한다. 따라서 유의수준 0.05 하에서 두 회사에 양품률에는 차이가 있다.\n"
     ]
    }
   ],
   "source": [
    "print('H0: 두 회사의 양품률에는 차이가 없다.')\n",
    "print('H1: 두 회사의 양품률에는 차이가 있다.')\n",
    "\n",
    "print('Z 통계량 7.3193, p-value 0.0000으로 귀무가설을 기각한다. 따라서 유의수준 0.05 하에서 두 회사에 양품률에는 차이가 있다.')"
   ]
  },
  {
   "cell_type": "markdown",
   "metadata": {},
   "source": [
    "### 3-1. 각 차종 별 범퍼 파손의 정도에 차이가 유의한지 검정하라.\n",
    "- 데이터 설명 : 아래 데이터는 a,b,c,d 네 차종 각각 5회 실험 시 범퍼 파손 정도 이다. (단, 각 모집단은 정규분포를 따르며 모집단 간 등분산성을 가정한다.)"
   ]
  },
  {
   "cell_type": "code",
   "execution_count": 62,
   "metadata": {},
   "outputs": [
    {
     "data": {
      "text/html": [
       "<div>\n",
       "<style scoped>\n",
       "    .dataframe tbody tr th:only-of-type {\n",
       "        vertical-align: middle;\n",
       "    }\n",
       "\n",
       "    .dataframe tbody tr th {\n",
       "        vertical-align: top;\n",
       "    }\n",
       "\n",
       "    .dataframe thead th {\n",
       "        text-align: right;\n",
       "    }\n",
       "</style>\n",
       "<table border=\"1\" class=\"dataframe\">\n",
       "  <thead>\n",
       "    <tr style=\"text-align: right;\">\n",
       "      <th></th>\n",
       "      <th>name</th>\n",
       "      <th>ratio</th>\n",
       "    </tr>\n",
       "  </thead>\n",
       "  <tbody>\n",
       "    <tr>\n",
       "      <th>0</th>\n",
       "      <td>A</td>\n",
       "      <td>10.993428</td>\n",
       "    </tr>\n",
       "    <tr>\n",
       "      <th>1</th>\n",
       "      <td>A</td>\n",
       "      <td>9.723471</td>\n",
       "    </tr>\n",
       "    <tr>\n",
       "      <th>2</th>\n",
       "      <td>A</td>\n",
       "      <td>11.295377</td>\n",
       "    </tr>\n",
       "    <tr>\n",
       "      <th>3</th>\n",
       "      <td>A</td>\n",
       "      <td>13.046060</td>\n",
       "    </tr>\n",
       "    <tr>\n",
       "      <th>4</th>\n",
       "      <td>A</td>\n",
       "      <td>9.531693</td>\n",
       "    </tr>\n",
       "  </tbody>\n",
       "</table>\n",
       "</div>"
      ],
      "text/plain": [
       "  name      ratio\n",
       "0    A  10.993428\n",
       "1    A   9.723471\n",
       "2    A  11.295377\n",
       "3    A  13.046060\n",
       "4    A   9.531693"
      ]
     },
     "execution_count": 62,
     "metadata": {},
     "output_type": "execute_result"
    }
   ],
   "source": [
    "import pandas as pd\n",
    "df = pd.read_csv('https://raw.githubusercontent.com/Datamanim/datarepo/main/adp/29/p7.csv')\n",
    "df.head()"
   ]
  },
  {
   "cell_type": "code",
   "execution_count": 63,
   "metadata": {},
   "outputs": [],
   "source": [
    "cars_A = df[df.name=='A']['ratio']\n",
    "cars_B = df[df.name=='B']['ratio']\n",
    "cars_C = df[df.name=='C']['ratio']\n",
    "cars_D = df[df.name=='D']['ratio']"
   ]
  },
  {
   "cell_type": "code",
   "execution_count": 64,
   "metadata": {},
   "outputs": [
    {
     "data": {
      "text/plain": [
       "F_onewayResult(statistic=24.976953075185236, pvalue=2.817477955621677e-06)"
      ]
     },
     "execution_count": 64,
     "metadata": {},
     "output_type": "execute_result"
    }
   ],
   "source": [
    "### One-way ANOVA\n",
    "stats.f_oneway(cars_A, cars_B, cars_C, cars_D)"
   ]
  },
  {
   "cell_type": "code",
   "execution_count": 65,
   "metadata": {},
   "outputs": [
    {
     "name": "stdout",
     "output_type": "stream",
     "text": [
      "H0: 각 차종 별 범퍼 파손의 정도에는 차이가 없다.\n",
      "H1: 하나 이상의 차종에서 범퍼 파손의 정도에 차이가 존재한다.\n",
      "F-통계량 24.98, P-value 0.000으로 귀무가설을 기각한다. 즉, 하나 이상의 차종에서 범퍼 파손 정도에는 차이가 있다.\n"
     ]
    }
   ],
   "source": [
    "print('H0: 각 차종 별 범퍼 파손의 정도에는 차이가 없다.')\n",
    "print('H1: 하나 이상의 차종에서 범퍼 파손의 정도에 차이가 존재한다.')\n",
    "print('F-통계량 24.98, P-value 0.000으로 귀무가설을 기각한다. 즉, 하나 이상의 차종에서 범퍼 파손 정도에는 차이가 있다.')"
   ]
  },
  {
   "cell_type": "markdown",
   "metadata": {},
   "source": [
    "### 3-2. 귀무가설을 채택한다면 그 의미를 해석하고, 귀무가설을 기각하였다면 사후분석을 시행하라."
   ]
  },
  {
   "cell_type": "code",
   "execution_count": 66,
   "metadata": {},
   "outputs": [],
   "source": [
    "from statsmodels.stats.multicomp import MultiComparison"
   ]
  },
  {
   "cell_type": "code",
   "execution_count": 67,
   "metadata": {},
   "outputs": [],
   "source": [
    "mc = MultiComparison(data=df[\"ratio\"], groups=df[\"name\"])"
   ]
  },
  {
   "cell_type": "code",
   "execution_count": 68,
   "metadata": {},
   "outputs": [
    {
     "data": {
      "image/png": "[encoded data removed]",
      "text/plain": [
       "<Figure size 720x432 with 1 Axes>"
      ]
     },
     "metadata": {
      "needs_background": "light"
     },
     "output_type": "display_data"
    }
   ],
   "source": [
    "### Tukey's HSD\n",
    "tukeyhsd = mc.tukeyhsd(alpha=0.05)\n",
    "fig = tukeyhsd.plot_simultaneous()"
   ]
  },
  {
   "cell_type": "code",
   "execution_count": 69,
   "metadata": {},
   "outputs": [
    {
     "name": "stdout",
     "output_type": "stream",
     "text": [
      "Tukey HSD method는 가장 강력한 사후 분석 방법이지만, 각 집단의 sample 개수가 모두 동일해야 한다. 이 데이터의 경우 각 그룹의 sample 개수가 모두 동일하므로, Tukey method를 사용한다.\n",
      "Tukey HSD 분석 결과 그룹 A와 그룹 D의 평균에는 차이가 없는 것으로 보이며, 그룹 B, 그룹 C는 모든 각 pair 검정에서 평균의 차이가 있는 것으로 나타났다.\n",
      "그러므로, 각 그룹의 평균은 (A, D) (B) (C)로 묶을 수 있다.\n"
     ]
    }
   ],
   "source": [
    "print('Tukey HSD method는 가장 강력한 사후 분석 방법이지만, 각 집단의 sample 개수가 모두 동일해야 한다. 이 데이터의 경우 각 그룹의 sample 개수가 모두 동일하므로, Tukey method를 사용한다.')\n",
    "print('Tukey HSD 분석 결과 그룹 A와 그룹 D의 평균에는 차이가 없는 것으로 보이며, 그룹 B, 그룹 C는 모든 각 pair 검정에서 평균의 차이가 있는 것으로 나타났다.')\n",
    "print('그러므로, 각 그룹의 평균은 (A, D) (B) (C)로 묶을 수 있다.')"
   ]
  },
  {
   "cell_type": "code",
   "execution_count": 70,
   "metadata": {},
   "outputs": [
    {
     "data": {
      "text/html": [
       "<table class=\"simpletable\">\n",
       "<caption>Multiple Comparison of Means - Tukey HSD, FWER=0.05</caption>\n",
       "<tr>\n",
       "  <th>group1</th> <th>group2</th> <th>meandiff</th>  <th>p-adj</th>   <th>lower</th>   <th>upper</th>  <th>reject</th>\n",
       "</tr>\n",
       "<tr>\n",
       "     <td>A</td>      <td>B</td>    <td>5.3934</td>   <td>0.001</td>  <td>2.1785</td>  <td>8.6083</td>   <td>True</td> \n",
       "</tr>\n",
       "<tr>\n",
       "     <td>A</td>      <td>C</td>    <td>-4.2156</td> <td>0.0085</td>  <td>-7.4305</td> <td>-1.0007</td>  <td>True</td> \n",
       "</tr>\n",
       "<tr>\n",
       "     <td>A</td>      <td>D</td>    <td>-0.7086</td> <td>0.9207</td>  <td>-3.9235</td> <td>2.5063</td>   <td>False</td>\n",
       "</tr>\n",
       "<tr>\n",
       "     <td>B</td>      <td>C</td>    <td>-9.609</td>    <td>0.0</td>  <td>-12.8239</td> <td>-6.3941</td>  <td>True</td> \n",
       "</tr>\n",
       "<tr>\n",
       "     <td>B</td>      <td>D</td>    <td>-6.102</td>  <td>0.0003</td>  <td>-9.3169</td> <td>-2.8871</td>  <td>True</td> \n",
       "</tr>\n",
       "<tr>\n",
       "     <td>C</td>      <td>D</td>     <td>3.507</td>  <td>0.0302</td>  <td>0.2921</td>  <td>6.7219</td>   <td>True</td> \n",
       "</tr>\n",
       "</table>"
      ],
      "text/plain": [
       "<class 'statsmodels.iolib.table.SimpleTable'>"
      ]
     },
     "execution_count": 70,
     "metadata": {},
     "output_type": "execute_result"
    }
   ],
   "source": [
    "tukeyhsd.summary()"
   ]
  },
  {
   "cell_type": "markdown",
   "metadata": {},
   "source": [
    "### 4. L1,L2,L3 세 개의 생산라인에서 각각 13%, 37%, 50%를 생산하며 각각 1.1% , 2.1%, 3.3% 불량률을 갖는다. 불량 제품이 나왔을 때 L1 라인에서 생산되었을 확률을 구하시오. (소수점 둘째자리에서 반올림)"
   ]
  },
  {
   "cell_type": "code",
   "execution_count": 71,
   "metadata": {},
   "outputs": [
    {
     "data": {
      "text/plain": [
       "0.06"
      ]
     },
     "execution_count": 71,
     "metadata": {},
     "output_type": "execute_result"
    }
   ],
   "source": [
    "### 전체 관점에서의 불량률 계산\n",
    "# P(불량 | L1) = 0.011\n",
    "# P(불량 | L2) = 0.021\n",
    "# P(불량 | L3) = 0.033\n",
    "# P(L1 | 불량) = P(L1)*P(불량 | L1)/P(L1)*P(불량 | L1) + P(L2)*P(불량 | L2) + P(L3)*P(불량 | L3)\n",
    "round((0.011*0.13) / ((0.011*0.13) + (0.021*0.37) + (0.033*0.5)), 2) # 0.06. 6%"
   ]
  }
 ],
 "metadata": {
  "kernelspec": {
   "display_name": "Python 3",
   "language": "python",
   "name": "python3"
  },
  "language_info": {
   "codemirror_mode": {
    "name": "ipython",
    "version": 3
   },
   "file_extension": ".py",
   "mimetype": "text/x-python",
   "name": "python",
   "nbconvert_exporter": "python",
   "pygments_lexer": "ipython3",
   "version": "3.7.6"
  }
 },
 "nbformat": 4,
 "nbformat_minor": 5
}
