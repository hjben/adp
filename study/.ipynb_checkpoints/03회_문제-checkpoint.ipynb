{
 "cells": [
  {
   "cell_type": "markdown",
   "metadata": {},
   "source": [
    "## 최신 기출동형 모의고사 - 제3회 기출동형 모의고사\n",
    "### 1. 머신러닝 (50점)"
   ]
  },
  {
   "cell_type": "code",
   "execution_count": 1,
   "metadata": {},
   "outputs": [],
   "source": [
    "import warnings, platform\n",
    "from IPython.display import display, HTML\n",
    "\n",
    "import matplotlib.pyplot as plt"
   ]
  },
  {
   "cell_type": "code",
   "execution_count": 2,
   "metadata": {},
   "outputs": [
    {
     "data": {
      "text/html": [
       "<style>.container {width :98% !important;}</style>"
      ],
      "text/plain": [
       "<IPython.core.display.HTML object>"
      ]
     },
     "metadata": {},
     "output_type": "display_data"
    }
   ],
   "source": [
    "### HTML display 조정\n",
    "display(HTML(\"<style>.container {width :98% !important;}</style>\"))\n",
    "\n",
    "### Warning 제거\n",
    "warnings.filterwarnings('ignore')"
   ]
  },
  {
   "cell_type": "code",
   "execution_count": 3,
   "metadata": {},
   "outputs": [],
   "source": [
    "### 한글 폰트 설정\n",
    "if platform.system()=='Darwin':\n",
    "    plt.rc('font', family='AppleGothic')\n",
    "elif platform.system()=='Linux':\n",
    "    # !wget \"https://www.wfonts.com/download/data/2016/06/13/malgun-gothic/malgun.ttf\"\n",
    "    # !mv malgun.ttf /usr/share/fonts/truetype/\n",
    "    # import matplotlib.font_manager as fm\n",
    "    # fm._rebuild()\n",
    "    plt.rc('font', family='Malgun Gothic')\n",
    "plt.rcParams['axes.unicode_minus'] = False # minus 폰트 깨짐 해결"
   ]
  },
  {
   "cell_type": "code",
   "execution_count": 4,
   "metadata": {},
   "outputs": [],
   "source": [
    "import numpy as np\n",
    "import pandas as pd\n",
    "\n",
    "import seaborn as sns\n",
    "import scipy.stats as stats"
   ]
  },
  {
   "cell_type": "code",
   "execution_count": 5,
   "metadata": {},
   "outputs": [
    {
     "data": {
      "text/html": [
       "<div>\n",
       "<style scoped>\n",
       "    .dataframe tbody tr th:only-of-type {\n",
       "        vertical-align: middle;\n",
       "    }\n",
       "\n",
       "    .dataframe tbody tr th {\n",
       "        vertical-align: top;\n",
       "    }\n",
       "\n",
       "    .dataframe thead th {\n",
       "        text-align: right;\n",
       "    }\n",
       "</style>\n",
       "<table border=\"1\" class=\"dataframe\">\n",
       "  <thead>\n",
       "    <tr style=\"text-align: right;\">\n",
       "      <th></th>\n",
       "      <th>is_canceled</th>\n",
       "      <th>deposit_type</th>\n",
       "      <th>lead_time</th>\n",
       "      <th>stays_in_weekend_nights</th>\n",
       "      <th>stays_in_week_nights</th>\n",
       "      <th>is_repeated_guest</th>\n",
       "      <th>previous_cancellations</th>\n",
       "      <th>previous_bookings_not_canceled</th>\n",
       "      <th>booking_changes</th>\n",
       "      <th>days_in_waiting_list</th>\n",
       "      <th>adr</th>\n",
       "    </tr>\n",
       "  </thead>\n",
       "  <tbody>\n",
       "    <tr>\n",
       "      <th>0</th>\n",
       "      <td>0</td>\n",
       "      <td>No Deposit</td>\n",
       "      <td>105.0</td>\n",
       "      <td>2</td>\n",
       "      <td>5</td>\n",
       "      <td>NaN</td>\n",
       "      <td>0</td>\n",
       "      <td>0</td>\n",
       "      <td>1</td>\n",
       "      <td>0</td>\n",
       "      <td>131.50</td>\n",
       "    </tr>\n",
       "    <tr>\n",
       "      <th>1</th>\n",
       "      <td>0</td>\n",
       "      <td>No Deposit</td>\n",
       "      <td>303.0</td>\n",
       "      <td>2</td>\n",
       "      <td>2</td>\n",
       "      <td>NaN</td>\n",
       "      <td>0</td>\n",
       "      <td>0</td>\n",
       "      <td>0</td>\n",
       "      <td>0</td>\n",
       "      <td>73.95</td>\n",
       "    </tr>\n",
       "    <tr>\n",
       "      <th>2</th>\n",
       "      <td>0</td>\n",
       "      <td>No Deposit</td>\n",
       "      <td>33.0</td>\n",
       "      <td>2</td>\n",
       "      <td>3</td>\n",
       "      <td>0.0</td>\n",
       "      <td>0</td>\n",
       "      <td>0</td>\n",
       "      <td>0</td>\n",
       "      <td>0</td>\n",
       "      <td>NaN</td>\n",
       "    </tr>\n",
       "    <tr>\n",
       "      <th>3</th>\n",
       "      <td>0</td>\n",
       "      <td>No Deposit</td>\n",
       "      <td>48.0</td>\n",
       "      <td>0</td>\n",
       "      <td>1</td>\n",
       "      <td>0.0</td>\n",
       "      <td>0</td>\n",
       "      <td>0</td>\n",
       "      <td>1</td>\n",
       "      <td>0</td>\n",
       "      <td>80.30</td>\n",
       "    </tr>\n",
       "    <tr>\n",
       "      <th>4</th>\n",
       "      <td>0</td>\n",
       "      <td>No Deposit</td>\n",
       "      <td>216.0</td>\n",
       "      <td>4</td>\n",
       "      <td>7</td>\n",
       "      <td>0.0</td>\n",
       "      <td>0</td>\n",
       "      <td>0</td>\n",
       "      <td>2</td>\n",
       "      <td>0</td>\n",
       "      <td>60.90</td>\n",
       "    </tr>\n",
       "  </tbody>\n",
       "</table>\n",
       "</div>"
      ],
      "text/plain": [
       "   is_canceled deposit_type  lead_time  stays_in_weekend_nights  \\\n",
       "0            0   No Deposit      105.0                        2   \n",
       "1            0   No Deposit      303.0                        2   \n",
       "2            0   No Deposit       33.0                        2   \n",
       "3            0   No Deposit       48.0                        0   \n",
       "4            0   No Deposit      216.0                        4   \n",
       "\n",
       "   stays_in_week_nights  is_repeated_guest  previous_cancellations  \\\n",
       "0                     5                NaN                       0   \n",
       "1                     2                NaN                       0   \n",
       "2                     3                0.0                       0   \n",
       "3                     1                0.0                       0   \n",
       "4                     7                0.0                       0   \n",
       "\n",
       "   previous_bookings_not_canceled  booking_changes  days_in_waiting_list  \\\n",
       "0                               0                1                     0   \n",
       "1                               0                0                     0   \n",
       "2                               0                0                     0   \n",
       "3                               0                1                     0   \n",
       "4                               0                2                     0   \n",
       "\n",
       "      adr  \n",
       "0  131.50  \n",
       "1   73.95  \n",
       "2     NaN  \n",
       "3   80.30  \n",
       "4   60.90  "
      ]
     },
     "execution_count": 5,
     "metadata": {},
     "output_type": "execute_result"
    }
   ],
   "source": [
    "hotel = pd.read_csv('../ADP_book_ver01/data/hotel_bookings.csv')\n",
    "hotel.head()"
   ]
  },
  {
   "cell_type": "markdown",
   "metadata": {},
   "source": [
    "#### (1) 데이터를 탐색하고 탐색 결과를 제시하시오."
   ]
  },
  {
   "cell_type": "code",
   "execution_count": 6,
   "metadata": {},
   "outputs": [],
   "source": [
    "cat_col = ['is_repeated_guest', 'deposit_type']\n",
    "num_col = hotel.columns.difference(cat_col + ['is_canceled'])"
   ]
  },
  {
   "cell_type": "code",
   "execution_count": 7,
   "metadata": {},
   "outputs": [
    {
     "name": "stdout",
     "output_type": "stream",
     "text": [
      "<class 'pandas.core.frame.DataFrame'>\n",
      "RangeIndex: 20000 entries, 0 to 19999\n",
      "Data columns (total 11 columns):\n",
      " #   Column                          Non-Null Count  Dtype  \n",
      "---  ------                          --------------  -----  \n",
      " 0   is_canceled                     20000 non-null  int64  \n",
      " 1   deposit_type                    20000 non-null  object \n",
      " 2   lead_time                       19995 non-null  float64\n",
      " 3   stays_in_weekend_nights         20000 non-null  int64  \n",
      " 4   stays_in_week_nights            20000 non-null  int64  \n",
      " 5   is_repeated_guest               19642 non-null  float64\n",
      " 6   previous_cancellations          20000 non-null  int64  \n",
      " 7   previous_bookings_not_canceled  20000 non-null  int64  \n",
      " 8   booking_changes                 20000 non-null  int64  \n",
      " 9   days_in_waiting_list            20000 non-null  int64  \n",
      " 10  adr                             18937 non-null  float64\n",
      "dtypes: float64(3), int64(7), object(1)\n",
      "memory usage: 1.7+ MB\n"
     ]
    }
   ],
   "source": [
    "hotel.info()"
   ]
  },
  {
   "cell_type": "code",
   "execution_count": 8,
   "metadata": {},
   "outputs": [
    {
     "name": "stdout",
     "output_type": "stream",
     "text": [
      "데이터의 개수는 총 20,000개이며, 종속변수를 포함하여 총 11개의 변수가 존재한다.\n",
      "대부분의 변수는 수치형(int/float)으로 제시되어 있지만, 범주형 변수로 판단하고 진행해야 하는 컬럼이 있다.\n",
      "범주형 변수는 is_repeated_guest와 deposit_type, 그리고 종속변수인 is_canceled이며, 나머지 변수는 수치형 변수이다.\n"
     ]
    }
   ],
   "source": [
    "print('데이터의 개수는 총 20,000개이며, 종속변수를 포함하여 총 11개의 변수가 존재한다.')\n",
    "print('대부분의 변수는 수치형(int/float)으로 제시되어 있지만, 범주형 변수로 판단하고 진행해야 하는 컬럼이 있다.')\n",
    "print('범주형 변수는 is_repeated_guest와 deposit_type, 그리고 종속변수인 is_canceled이며, 나머지 변수는 수치형 변수이다.')"
   ]
  },
  {
   "cell_type": "code",
   "execution_count": 9,
   "metadata": {},
   "outputs": [
    {
     "data": {
      "image/png": "[encoded data removed]",
      "text/plain": [
       "<Figure size 1800x720 with 8 Axes>"
      ]
     },
     "metadata": {
      "needs_background": "light"
     },
     "output_type": "display_data"
    }
   ],
   "source": [
    "fig, axes = plt.subplots(nrows=2, ncols=4, figsize=(25, 10))\n",
    "for i, col in enumerate(num_col):\n",
    "    row_ = i//4\n",
    "    col_ = i%4\n",
    "\n",
    "    ax = axes[row_][col_]\n",
    "    sns.boxplot(y=col, data=hotel, ax=ax)\n",
    "    ax.set_title(col)"
   ]
  },
  {
   "cell_type": "code",
   "execution_count": 10,
   "metadata": {},
   "outputs": [
    {
     "data": {
      "image/png": "[encoded data removed]",
      "text/plain": [
       "<Figure size 1080x360 with 2 Axes>"
      ]
     },
     "metadata": {
      "needs_background": "light"
     },
     "output_type": "display_data"
    }
   ],
   "source": [
    "fig, axes = plt.subplots(nrows=1, ncols=2, figsize=(15, 5))\n",
    "for i, col in enumerate(cat_col):\n",
    "    ax = axes[i]\n",
    "    sns.countplot(x=col, data=hotel, ax=ax)\n",
    "    ax.set_title(col)"
   ]
  },
  {
   "cell_type": "code",
   "execution_count": 11,
   "metadata": {},
   "outputs": [
    {
     "name": "stdout",
     "output_type": "stream",
     "text": [
      "수치형 변수들의 분포를 확인해 보니, 모든 변수에서 이상치가 확인되었다.\n",
      "범주형 변수들 역시 데이터의 불균형이 존재하는 것으로 보인다.\n"
     ]
    }
   ],
   "source": [
    "print('수치형 변수들의 분포를 확인해 보니, 모든 변수에서 이상치가 확인되었다.')\n",
    "print('범주형 변수들 역시 데이터의 불균형이 존재하는 것으로 보인다.')"
   ]
  },
  {
   "cell_type": "markdown",
   "metadata": {},
   "source": [
    "#### (2) 결측치를 탐색하고 대체 방법 및 근거를 제시하시오."
   ]
  },
  {
   "cell_type": "code",
   "execution_count": 12,
   "metadata": {},
   "outputs": [
    {
     "data": {
      "text/plain": [
       "is_canceled                          0\n",
       "deposit_type                         0\n",
       "lead_time                            5\n",
       "stays_in_weekend_nights              0\n",
       "stays_in_week_nights                 0\n",
       "is_repeated_guest                  358\n",
       "previous_cancellations               0\n",
       "previous_bookings_not_canceled       0\n",
       "booking_changes                      0\n",
       "days_in_waiting_list                 0\n",
       "adr                               1063\n",
       "dtype: int64"
      ]
     },
     "execution_count": 12,
     "metadata": {},
     "output_type": "execute_result"
    }
   ],
   "source": [
    "hotel.isnull().sum()"
   ]
  },
  {
   "cell_type": "code",
   "execution_count": 13,
   "metadata": {},
   "outputs": [],
   "source": [
    "from sklearn.impute import KNNImputer"
   ]
  },
  {
   "cell_type": "code",
   "execution_count": 14,
   "metadata": {},
   "outputs": [],
   "source": [
    "hotel = hotel[hotel.lead_time.notna()]\n",
    "hotel.loc[hotel.is_repeated_guest.isna(), 'is_repeated_guest'] = 0\n",
    "\n",
    "imputer = KNNImputer()\n",
    "hotel['adr'] = imputer.fit_transform(hotel.loc[:, num_col])"
   ]
  },
  {
   "cell_type": "code",
   "execution_count": 15,
   "metadata": {},
   "outputs": [
    {
     "data": {
      "text/plain": [
       "is_canceled                       0\n",
       "deposit_type                      0\n",
       "lead_time                         0\n",
       "stays_in_weekend_nights           0\n",
       "stays_in_week_nights              0\n",
       "is_repeated_guest                 0\n",
       "previous_cancellations            0\n",
       "previous_bookings_not_canceled    0\n",
       "booking_changes                   0\n",
       "days_in_waiting_list              0\n",
       "adr                               0\n",
       "dtype: int64"
      ]
     },
     "execution_count": 15,
     "metadata": {},
     "output_type": "execute_result"
    }
   ],
   "source": [
    "hotel.isnull().sum()"
   ]
  },
  {
   "cell_type": "code",
   "execution_count": 16,
   "metadata": {},
   "outputs": [
    {
     "name": "stdout",
     "output_type": "stream",
     "text": [
      "lead_time과 is_repeated_guest, adr 변수에 결측치가 존재한다.\n",
      "lead_time 변수는 전체 데이터 숫자에 비해 매우 적은 값에 결측치가 있으므로, 삭제하더라도 모델에 큰 영향이 없을 것으로 판단되므로, 제거한다.\n",
      "is_repeated_guest 변수의 경우, 분포를 살펴보니 0(재방문 아님) 값이 훨씬 많으며, 결측치가 확실히 재방문이라는 단서가 존재하지 않기 때문에 0으로 결측치를 보정한다.\n",
      "adr 변수는 수치형 변수이므로, KNN Imputer를 사용, 다른 수치형 변수와 함께 고려하여 결측치를 보정한다.\n",
      "모든 결측치를 제거한 후, 결측치가 없음을 확인하였다.\n"
     ]
    }
   ],
   "source": [
    "print('lead_time과 is_repeated_guest, adr 변수에 결측치가 존재한다.')\n",
    "print('lead_time 변수는 전체 데이터 숫자에 비해 매우 적은 값에 결측치가 있으므로, 삭제하더라도 모델에 큰 영향이 없을 것으로 판단되므로, 제거한다.')\n",
    "print('is_repeated_guest 변수의 경우, 분포를 살펴보니 0(재방문 아님) 값이 훨씬 많으며, 결측치가 확실히 재방문이라는 단서가 존재하지 않기 때문에 0으로 결측치를 보정한다.')\n",
    "print('adr 변수는 수치형 변수이므로, KNN Imputer를 사용, 다른 수치형 변수와 함께 고려하여 결측치를 보정한다.')\n",
    "print('모든 결측치를 제거한 후, 결측치가 없음을 확인하였다.')"
   ]
  },
  {
   "cell_type": "markdown",
   "metadata": {},
   "source": [
    "#### (3) 데이터 질을 향상시킬 수 있는 방법을 제안하시오"
   ]
  },
  {
   "cell_type": "code",
   "execution_count": 17,
   "metadata": {},
   "outputs": [
    {
     "name": "stdout",
     "output_type": "stream",
     "text": [
      "앞서 확인된 수치형 변수들에서의 이상치 처리가 필요하다. 이상치 제거는 현업과 함께 판단해야 하는 사안이므로 우선은 이상치의 영향을 줄이기 위한 작업을 수행한다.\n",
      "booking_changes, days_in_waiting_list, previous_bookings_not_canceled, previous_cancellations 변수는 boxplot 모양을 봤을 때 IQR이 0에 가까우므로, 범주형 변수로 변환한다.\n",
      "adr, lead_time, stays_in_week_nights, stays_in_weekend_nights 변수는 로그 변환을 진행한다. 로그 변환시 음수 처리를 위해, 각 변수의 최소값을 빼서 모든 값이 양수가 되도록 하였다.\n",
      "또한, 범주형 데이터의 불균형은 모델링 시 성능 저하의 원인이 되는데, deposit_type 변수의 카테고리를 2개(No deposit=0, else 1)로 통합하여 불균형을 일부 완화하였다.\n"
     ]
    }
   ],
   "source": [
    "print('앞서 확인된 수치형 변수들에서의 이상치 처리가 필요하다. 이상치 제거는 현업과 함께 판단해야 하는 사안이므로 우선은 이상치의 영향을 줄이기 위한 작업을 수행한다.')\n",
    "print('booking_changes, days_in_waiting_list, previous_bookings_not_canceled, previous_cancellations 변수는 boxplot 모양을 봤을 때 IQR이 0에 가까우므로, 범주형 변수로 변환한다.')\n",
    "print('adr, lead_time, stays_in_week_nights, stays_in_weekend_nights 변수는 로그 변환을 진행한다. 로그 변환시 음수 처리를 위해, 각 변수의 최소값을 빼서 모든 값이 양수가 되도록 하였다.')\n",
    "print('또한, 범주형 데이터의 불균형은 모델링 시 성능 저하의 원인이 되는데, deposit_type 변수의 카테고리를 2개(No deposit=0, else 1)로 통합하여 불균형을 일부 완화하였다.')"
   ]
  },
  {
   "cell_type": "code",
   "execution_count": 18,
   "metadata": {},
   "outputs": [],
   "source": [
    "hotel.loc[:, 'deposit_type'] = np.where(hotel['deposit_type']==\"No Deposit\", 0, 1)\n",
    "\n",
    "for col in ['booking_changes', 'days_in_waiting_list', 'previous_bookings_not_canceled', 'previous_cancellations']:\n",
    "    hotel.loc[:, col] = np.where(hotel.loc[:, col] > 0, 1, 0)\n",
    "\n",
    "for col in ['adr', 'lead_time', 'stays_in_week_nights', 'stays_in_weekend_nights']:\n",
    "    hotel.loc[:, col] = np.log1p(hotel[col] - hotel[col].min())"
   ]
  },
  {
   "cell_type": "code",
   "execution_count": 19,
   "metadata": {},
   "outputs": [
    {
     "data": {
      "image/png": "[encoded data removed]",
      "text/plain": [
       "<Figure size 1800x360 with 4 Axes>"
      ]
     },
     "metadata": {
      "needs_background": "light"
     },
     "output_type": "display_data"
    }
   ],
   "source": [
    "fig, axes = plt.subplots(ncols=4, figsize=(25, 5))\n",
    "for i, col in enumerate(['adr', 'lead_time', 'stays_in_week_nights', 'stays_in_weekend_nights']):\n",
    "    ax = axes[i]\n",
    "    sns.boxplot(y=col, data=hotel, ax=ax)\n",
    "    ax.set_title(col)"
   ]
  },
  {
   "cell_type": "code",
   "execution_count": 20,
   "metadata": {},
   "outputs": [
    {
     "data": {
      "image/png": "[encoded data removed]",
      "text/plain": [
       "<Figure size 1800x360 with 4 Axes>"
      ]
     },
     "metadata": {
      "needs_background": "light"
     },
     "output_type": "display_data"
    }
   ],
   "source": [
    "fig, axes = plt.subplots(ncols=4, figsize=(25, 5))\n",
    "for i, col in enumerate(['booking_changes', 'days_in_waiting_list', 'previous_bookings_not_canceled', 'previous_cancellations']):\n",
    "    ax = axes[i]\n",
    "    sns.countplot(x=col, data=hotel, ax=ax)\n",
    "    ax.set_title(col)"
   ]
  },
  {
   "cell_type": "code",
   "execution_count": 21,
   "metadata": {},
   "outputs": [
    {
     "data": {
      "image/png": "[encoded data removed]",
      "text/plain": [
       "<Figure size 1080x360 with 2 Axes>"
      ]
     },
     "metadata": {
      "needs_background": "light"
     },
     "output_type": "display_data"
    }
   ],
   "source": [
    "fig, axes = plt.subplots(nrows=1, ncols=2, figsize=(15, 5))\n",
    "for i, col in enumerate(cat_col):\n",
    "    ax = axes[i]\n",
    "    sns.countplot(x=col, data=hotel, ax=ax)\n",
    "    ax.set_title(col)"
   ]
  },
  {
   "cell_type": "code",
   "execution_count": 22,
   "metadata": {},
   "outputs": [
    {
     "name": "stdout",
     "output_type": "stream",
     "text": [
      "로그 변환을 적용한 변수들의 분포를 boxplot으로 확인해 본 결과, 이상치의 개수가 현저하게 감소한 것을 확인할 수 있다.\n",
      "범주형 변수로 변환한 변수들은 변환의 영향으로 이상치가 제거되었으며, deposit_type 변수의 클래스 불균형이 완화되었다.\n"
     ]
    }
   ],
   "source": [
    "print('로그 변환을 적용한 변수들의 분포를 boxplot으로 확인해 본 결과, 이상치의 개수가 현저하게 감소한 것을 확인할 수 있다.')\n",
    "print('범주형 변수로 변환한 변수들은 변환의 영향으로 이상치가 제거되었으며, deposit_type 변수의 클래스 불균형이 완화되었다.')"
   ]
  },
  {
   "cell_type": "markdown",
   "metadata": {},
   "source": [
    "#### (4) 데이터 불균형을 시각화하여 식별하고 불균형 판단근거를 작성하시오."
   ]
  },
  {
   "cell_type": "code",
   "execution_count": 23,
   "metadata": {},
   "outputs": [
    {
     "data": {
      "text/plain": [
       "<matplotlib.axes._subplots.AxesSubplot at 0xffff6dcf0210>"
      ]
     },
     "execution_count": 23,
     "metadata": {},
     "output_type": "execute_result"
    },
    {
     "data": {
      "image/png": "[encoded data removed]",
      "text/plain": [
       "<Figure size 432x288 with 1 Axes>"
      ]
     },
     "metadata": {
      "needs_background": "light"
     },
     "output_type": "display_data"
    }
   ],
   "source": [
    "sns.countplot(x='is_canceled', data=hotel)"
   ]
  },
  {
   "cell_type": "code",
   "execution_count": 24,
   "metadata": {},
   "outputs": [
    {
     "name": "stdout",
     "output_type": "stream",
     "text": [
      "종속 변수의 범주 별 count를 시각화해 보면 막대 그래프의 길이가 크게 다른 것을 확인할 수 있고, 이는 데이터 범주의 개수가 같지 않음을 시사한다.\n"
     ]
    }
   ],
   "source": [
    "print('종속 변수의 범주 별 count를 시각화해 보면 막대 그래프의 길이가 크게 다른 것을 확인할 수 있고, 이는 데이터 범주의 개수가 같지 않음을 시사한다.')"
   ]
  },
  {
   "cell_type": "markdown",
   "metadata": {},
   "source": [
    "#### (5) 오버 샘플링 기법을 설명하고 비교한 뒤, 2개 기법을 선정하고 근거를 제시하시오."
   ]
  },
  {
   "cell_type": "code",
   "execution_count": 25,
   "metadata": {},
   "outputs": [
    {
     "name": "stdout",
     "output_type": "stream",
     "text": [
      "오버 샘플링은 개수가 적은 카테고리의 데이터를 sampling을 통해 생성하여, 큰 카테고리의 데이터 개수와 맞추는 기법이다. 적은 카테고리의 데이터 수에 맞추는 언더 샘플링보다 보통 성능이 더 좋기 때문에 자주 사용된다.\n",
      "랜덤 오버 샘플링은, 개수가 적은 카테고리 데이터를 랜덤 복원추출하는 방법이며, SMOTE는 S소수 레이블의 값과 K-NN 사이에 임의의 새로운 데이터 생성하는 방법이다.\n",
      "랜덤 오버 샘플링은 자가 복제 방식이기 때문에 상대적으로 빠르지만, 같은 데이터가 여러 개 생성되므로 overfitting의 위험이 있다. SMOTE는 소수 클래스의 Recall 상승에 최적이지만 랜덤 Over-sampling보다 시간 소요가 긴 편이다.\n",
      "또한, SMOTE 기법은 K-NN 알고리즘 기반이므로 수치형 데이터에만 적용이 가능한데, 이 경우에는 Categorical Data가 섞여 있으므로, SMOTENC 기법을 사용한다.\n"
     ]
    }
   ],
   "source": [
    "print('오버 샘플링은 개수가 적은 카테고리의 데이터를 sampling을 통해 생성하여, 큰 카테고리의 데이터 개수와 맞추는 기법이다. 적은 카테고리의 데이터 수에 맞추는 언더 샘플링보다 보통 성능이 더 좋기 때문에 자주 사용된다.')\n",
    "print('랜덤 오버 샘플링은, 개수가 적은 카테고리 데이터를 랜덤 복원추출하는 방법이며, SMOTE는 S소수 레이블의 값과 K-NN 사이에 임의의 새로운 데이터 생성하는 방법이다.')\n",
    "print('랜덤 오버 샘플링은 자가 복제 방식이기 때문에 상대적으로 빠르지만, 같은 데이터가 여러 개 생성되므로 overfitting의 위험이 있다. SMOTE는 소수 클래스의 Recall 상승에 최적이지만 랜덤 Over-sampling보다 시간 소요가 긴 편이다.')\n",
    "print('또한, SMOTE 기법은 K-NN 알고리즘 기반이므로 수치형 데이터에만 적용이 가능한데, 이 경우에는 Categorical Data가 섞여 있으므로, SMOTENC 기법을 사용한다.')"
   ]
  },
  {
   "cell_type": "markdown",
   "metadata": {},
   "source": [
    "#### (6) 기법을 선정한 이유를 작성하고, 원데이터를 포함해 3개의 데이터 세트를 구성하시오."
   ]
  },
  {
   "cell_type": "code",
   "execution_count": 26,
   "metadata": {},
   "outputs": [],
   "source": [
    "from imblearn.over_sampling import RandomOverSampler\n",
    "from imblearn.over_sampling import SMOTENC\n",
    "\n",
    "from collections import Counter"
   ]
  },
  {
   "cell_type": "code",
   "execution_count": 27,
   "metadata": {},
   "outputs": [],
   "source": [
    "x = hotel.drop('is_canceled', axis=1)\n",
    "y = hotel['is_canceled']"
   ]
  },
  {
   "cell_type": "code",
   "execution_count": 28,
   "metadata": {},
   "outputs": [
    {
     "name": "stdout",
     "output_type": "stream",
     "text": [
      "Counter({0: 17595, 1: 17595})\n"
     ]
    }
   ],
   "source": [
    "oversample = RandomOverSampler()\n",
    "x_over, y_over = oversample.fit_resample(x, y)\n",
    "print(Counter(y_over))"
   ]
  },
  {
   "cell_type": "code",
   "execution_count": 29,
   "metadata": {},
   "outputs": [],
   "source": [
    "cat_col = cat_col + ['booking_changes', 'days_in_waiting_list', 'previous_bookings_not_canceled', 'previous_cancellations']\n",
    "\n",
    "for col in cat_col:\n",
    "    x[col] = x[col].astype('object')"
   ]
  },
  {
   "cell_type": "code",
   "execution_count": 30,
   "metadata": {},
   "outputs": [
    {
     "name": "stdout",
     "output_type": "stream",
     "text": [
      "Counter({0: 17595, 1: 17595})\n"
     ]
    }
   ],
   "source": [
    "cat_cols = [True if x[col].dtype=='object' else False for col in x.columns]\n",
    "\n",
    "oversample = SMOTENC(categorical_features=cat_cols)\n",
    "x_smote, y_smote = oversample.fit_resample(x, y)\n",
    "print(Counter(y_smote))"
   ]
  },
  {
   "cell_type": "code",
   "execution_count": 31,
   "metadata": {},
   "outputs": [
    {
     "name": "stdout",
     "output_type": "stream",
     "text": [
      "원본 데이터를 독립 변수(x)와 종속 변수(y)로 구분하였다. 범주형 변수들은 모두 이진 변수이고, 수치형으로 인코딩 되어 있으므로 별도의 인코딩 과정은 진행하지 않았다.\n",
      "오버 샘플링 기법으로는 랜덤 오버 샘플링과 SMOTENC를 선정하였다. 랜덤 오버 샘플링은 빠르게 오버 샘플링을 적용해볼 수 있는 점에서 선정하였고, SMOTENC는 랜덤 오버 샘플링의 과적합 위험성을 줄여줄 수 있다는 점에서 선정하였다.\n",
      "오버 샘플링 데이터의 경우, 종속 변수의 클래스 별 데이터 수가 17,595개로 동일한 것을 확인할 수 있다.\n"
     ]
    }
   ],
   "source": [
    "print('원본 데이터를 독립 변수(x)와 종속 변수(y)로 구분하였다. 범주형 변수들은 모두 이진 변수이고, 수치형으로 인코딩 되어 있으므로 별도의 인코딩 과정은 진행하지 않았다.')\n",
    "print('오버 샘플링 기법으로는 랜덤 오버 샘플링과 SMOTENC를 선정하였다. 랜덤 오버 샘플링은 빠르게 오버 샘플링을 적용해볼 수 있는 점에서 선정하였고, SMOTENC는 랜덤 오버 샘플링의 과적합 위험성을 줄여줄 수 있다는 점에서 선정하였다.')\n",
    "print('오버 샘플링 데이터의 경우, 종속 변수의 클래스 별 데이터 수가 17,595개로 동일한 것을 확인할 수 있다.')"
   ]
  },
  {
   "cell_type": "markdown",
   "metadata": {},
   "source": [
    "#### (7) 오버 샘플링 데이터와 원데이터를 사용해 정확도 측면 모델 하나와 속도 측면의 모델 하나를 선정하고, 그 이유를 설명하시오."
   ]
  },
  {
   "cell_type": "code",
   "execution_count": 32,
   "metadata": {},
   "outputs": [],
   "source": [
    "import time\n",
    "import datetime\n",
    "\n",
    "from sklearn.ensemble import RandomForestClassifier\n",
    "from sklearn.model_selection import train_test_split\n",
    "\n",
    "from sklearn.metrics import accuracy_score, f1_score, classification_report, confusion_matrix"
   ]
  },
  {
   "cell_type": "code",
   "execution_count": 33,
   "metadata": {},
   "outputs": [
    {
     "name": "stdout",
     "output_type": "stream",
     "text": [
      "Original\n",
      "Accu: 0.9214803700925231\n",
      "F1: 0.5733695652173914\n",
      "[[3474  269]\n",
      " [  45  211]]\n",
      "              precision    recall  f1-score   support\n",
      "\n",
      "           0       0.99      0.93      0.96      3743\n",
      "           1       0.44      0.82      0.57       256\n",
      "\n",
      "    accuracy                           0.92      3999\n",
      "   macro avg       0.71      0.88      0.77      3999\n",
      "weighted avg       0.95      0.92      0.93      3999\n",
      "\n",
      "0:00:00.965452 sec\n",
      "0:00:00 sec\n",
      "\n",
      "Random over\n",
      "Accu: 0.9707303211139529\n",
      "F1: 0.9714364947310039\n",
      "[[3329   16]\n",
      " [ 190 3503]]\n",
      "              precision    recall  f1-score   support\n",
      "\n",
      "           0       0.95      1.00      0.97      3345\n",
      "           1       1.00      0.95      0.97      3693\n",
      "\n",
      "    accuracy                           0.97      7038\n",
      "   macro avg       0.97      0.97      0.97      7038\n",
      "weighted avg       0.97      0.97      0.97      7038\n",
      "\n",
      "0:00:01.611692 sec\n",
      "0:00:01 sec\n",
      "\n",
      "SMOTE\n",
      "Accu: 0.8878942881500427\n",
      "F1: 0.8864257953073269\n",
      "[[3170  440]\n",
      " [ 349 3079]]\n",
      "              precision    recall  f1-score   support\n",
      "\n",
      "           0       0.90      0.88      0.89      3610\n",
      "           1       0.87      0.90      0.89      3428\n",
      "\n",
      "    accuracy                           0.89      7038\n",
      "   macro avg       0.89      0.89      0.89      7038\n",
      "weighted avg       0.89      0.89      0.89      7038\n",
      "\n",
      "0:00:02.065657 sec\n",
      "0:00:02 sec\n",
      "\n"
     ]
    }
   ],
   "source": [
    "models = {\"Original\": [x, y], \"Random over\": [x_over, y_over], \"SMOTE\": [x_smote, y_smote]}\n",
    "\n",
    "for k, v in models.items():\n",
    "    print(k)\n",
    "    x_train, x_test, y_train, y_test = train_test_split(v[0], v[1], test_size=0.2, stratify=v[1])\n",
    "\n",
    "    start = time.time() # 시작\n",
    "    clf = RandomForestClassifier()\n",
    "    clf.fit(x_train, y_train)\n",
    "\n",
    "    pred = clf.predict(x_test)\n",
    "    print(\"Accu:\", accuracy_score(pred, y_test))\n",
    "    print(\"F1:\", f1_score(pred, y_test))\n",
    "    print(confusion_matrix(pred, y_test))\n",
    "    print(classification_report(pred, y_test))\n",
    "    sec = time.time() - start # 종료 - 시작 (걸린 시간)\n",
    "\n",
    "    times = str(datetime.timedelta(seconds=sec)) # 걸린 시간 보기좋게 바꾸기\n",
    "    short = times.split(\".\")[0] # 초 단위 까지만\n",
    "    print(f\"{times} sec\")\n",
    "    print(f\"{short} sec\")\n",
    "    print(\"\")"
   ]
  },
  {
   "cell_type": "code",
   "execution_count": 34,
   "metadata": {},
   "outputs": [
    {
     "name": "stdout",
     "output_type": "stream",
     "text": [
      "각 샘플링 모델의 성능을 측정하기 위해, Random Forest 알고리즘을 사용하여 모델링을 수행하였다.\n",
      "정확도 측면에서는 랜덤 오버 샘플링을, 선정하였다. 랜덤 오버 샘플링이 test set에서의 정확도, F1-score 모두에서 다른 모델 대비 좋은 성능을 보여주었기 때문이다. 모델링 속도는 데이터 개수가 적은 원본 모델이 0.97초 수행시간으로 가장 빠른 속도를 보여주었지만, 이는 데이터 개수가 적기 때문이다.\n",
      "데이터의 개수를 고려했을 때, 속도 측면에서도 랜덤 오버 샘플링을 선정한다.\n"
     ]
    }
   ],
   "source": [
    "print('각 샘플링 모델의 성능을 측정하기 위해, Random Forest 알고리즘을 사용하여 모델링을 수행하였다.')\n",
    "print('정확도 측면에서는 랜덤 오버 샘플링을, 선정하였다. 랜덤 오버 샘플링이 test set에서의 정확도, F1-score 모두에서 다른 모델 대비 좋은 성능을 보여주었기 때문이다. 모델링 속도는 데이터 개수가 적은 원본 모델이 0.97초 수행시간으로 가장 빠른 속도를 보여주었지만, 이는 데이터 개수가 적기 때문이다.')\n",
    "print('데이터의 개수를 고려했을 때, 속도 측면에서도 랜덤 오버 샘플링을 선정한다.')"
   ]
  },
  {
   "cell_type": "markdown",
   "metadata": {},
   "source": [
    "#### (8) 원데이터와 오버 샘플링 데이터를 가지고 각각 분류한 결과를 바탕으로, 오버 샘플링이 성능에 미친 영향에 대해 작성하시오."
   ]
  },
  {
   "cell_type": "code",
   "execution_count": 35,
   "metadata": {},
   "outputs": [
    {
     "name": "stdout",
     "output_type": "stream",
     "text": [
      "오버 샘플링을 적용하면, 소수 클래스를 대변하는 데이터 개수가 늘어나게 되고 그만큼 더 소수 데이터를 명확하게 분류해낼 수 있는 힘이 모델에 주어진다.\n",
      "원 데이터의 모델링에서 F1-score는 0.53에 그쳤지만, 오버 샘플링을 적용한 두 모델의 경우 소수 데이터의 precision과 recall 모두 증가하여 0.97 0.88로 크게 상승하였다.\n"
     ]
    }
   ],
   "source": [
    "print('오버 샘플링을 적용하면, 소수 클래스를 대변하는 데이터 개수가 늘어나게 되고 그만큼 더 소수 데이터를 명확하게 분류해낼 수 있는 힘이 모델에 주어진다.')\n",
    "print('원 데이터의 모델링에서 F1-score는 0.53에 그쳤지만, 오버 샘플링을 적용한 두 모델의 경우 소수 데이터의 precision과 recall 모두 증가하여 0.97 0.88로 크게 상승하였다.')"
   ]
  },
  {
   "cell_type": "markdown",
   "metadata": {},
   "source": [
    "### 2. 통계분석 (50점)"
   ]
  },
  {
   "cell_type": "markdown",
   "metadata": {},
   "source": [
    "#### 1. 공장에서는 시제품의 농도(%)가 60이라고 주장하며 품질관리팀에서 10개의 샘플을 뽑았다. 유의수준 5%에서 다음을 검정하시오."
   ]
  },
  {
   "cell_type": "code",
   "execution_count": 36,
   "metadata": {},
   "outputs": [],
   "source": [
    "x = [52 ,50 ,62 ,75 ,26 ,45 ,62 ,35 ,57 ,14]"
   ]
  },
  {
   "cell_type": "code",
   "execution_count": 37,
   "metadata": {},
   "outputs": [
    {
     "name": "stdout",
     "output_type": "stream",
     "text": [
      "H0: 시제품의 농도 평균은 60이다.\n",
      "H1: 시제품의 농도 평균은 60이 아니다. (양측 검정)\n",
      "단일 집단에 대한 평균 검정을 시행한다. 먼저, 해당 집단이 정규성을 띄는 지 여부를 검정한다.\n"
     ]
    }
   ],
   "source": [
    "print('H0: 시제품의 농도 평균은 60이다.')\n",
    "print('H1: 시제품의 농도 평균은 60이 아니다. (양측 검정)')\n",
    "print('단일 집단에 대한 평균 검정을 시행한다. 먼저, 해당 집단이 정규성을 띄는 지 여부를 검정한다.')"
   ]
  },
  {
   "cell_type": "code",
   "execution_count": 38,
   "metadata": {},
   "outputs": [
    {
     "data": {
      "text/plain": [
       "ShapiroResult(statistic=0.965764582157135, pvalue=0.849041759967804)"
      ]
     },
     "execution_count": 38,
     "metadata": {},
     "output_type": "execute_result"
    }
   ],
   "source": [
    "### Normality test\n",
    "stats.shapiro(x) # not normal"
   ]
  },
  {
   "cell_type": "code",
   "execution_count": 39,
   "metadata": {},
   "outputs": [
    {
     "name": "stdout",
     "output_type": "stream",
     "text": [
      "Shapiro-wilk 테스트 결과, 검정통계량 0.97, p-value 0.85로 데이터가 정규성을 띈다는 귀무가설을 기각할 수 없다. 따라서 데이터가 정규 분포를 따른다는 가정을 할 수 있다. 그러므로, 평균 검정을 위해 T-test를 진행한다.\n"
     ]
    }
   ],
   "source": [
    "print('Shapiro-wilk 테스트 결과, 검정통계량 0.97, p-value 0.85로 데이터가 정규성을 띈다는 귀무가설을 기각할 수 없다. 따라서 데이터가 정규 분포를 따른다는 가정을 할 수 있다. 그러므로, 평균 검정을 위해 T-test를 진행한다.')"
   ]
  },
  {
   "cell_type": "code",
   "execution_count": 40,
   "metadata": {},
   "outputs": [
    {
     "data": {
      "text/plain": [
       "Ttest_1sampResult(statistic=-2.099292080780179, pvalue=0.06519313277276138)"
      ]
     },
     "execution_count": 40,
     "metadata": {},
     "output_type": "execute_result"
    }
   ],
   "source": [
    "stats.ttest_1samp(x, popmean=60, alternative=\"two-sided\")"
   ]
  },
  {
   "cell_type": "code",
   "execution_count": 41,
   "metadata": {},
   "outputs": [
    {
     "name": "stdout",
     "output_type": "stream",
     "text": [
      "One sample T-test 결과, 검정 통계량 -2.1, p-value 0.07로 유의수준 0.05 하에서 귀무가설을 기각할 수 없다. 따라서, 시제품 농도의 평균은 60%가 아니라고 볼 통계적 근거가 없다.\n"
     ]
    }
   ],
   "source": [
    "print('One sample T-test 결과, 검정 통계량 -2.1, p-value 0.07로 유의수준 0.05 하에서 귀무가설을 기각할 수 없다. 따라서, 시제품 농도의 평균은 60%가 아니라고 볼 통계적 근거가 없다.')"
   ]
  },
  {
   "cell_type": "markdown",
   "metadata": {},
   "source": [
    "#### 2. 코로나 시계열 데이터로 다음을 수행하시오."
   ]
  },
  {
   "cell_type": "code",
   "execution_count": 42,
   "metadata": {},
   "outputs": [
    {
     "data": {
      "text/html": [
       "<div>\n",
       "<style scoped>\n",
       "    .dataframe tbody tr th:only-of-type {\n",
       "        vertical-align: middle;\n",
       "    }\n",
       "\n",
       "    .dataframe tbody tr th {\n",
       "        vertical-align: top;\n",
       "    }\n",
       "\n",
       "    .dataframe thead th {\n",
       "        text-align: right;\n",
       "    }\n",
       "</style>\n",
       "<table border=\"1\" class=\"dataframe\">\n",
       "  <thead>\n",
       "    <tr style=\"text-align: right;\">\n",
       "      <th></th>\n",
       "      <th>날짜</th>\n",
       "      <th>종로구</th>\n",
       "      <th>중구</th>\n",
       "      <th>용산구</th>\n",
       "      <th>성동구</th>\n",
       "      <th>광진구</th>\n",
       "      <th>동대문구</th>\n",
       "      <th>중랑구</th>\n",
       "      <th>성북구</th>\n",
       "      <th>강북구</th>\n",
       "      <th>...</th>\n",
       "      <th>강서구</th>\n",
       "      <th>구로구</th>\n",
       "      <th>금천구</th>\n",
       "      <th>영등포구</th>\n",
       "      <th>동작구</th>\n",
       "      <th>관악구</th>\n",
       "      <th>서초구</th>\n",
       "      <th>강남구</th>\n",
       "      <th>송파구</th>\n",
       "      <th>강동구</th>\n",
       "    </tr>\n",
       "  </thead>\n",
       "  <tbody>\n",
       "    <tr>\n",
       "      <th>0</th>\n",
       "      <td>2022-03-30</td>\n",
       "      <td>37261</td>\n",
       "      <td>33753</td>\n",
       "      <td>55376</td>\n",
       "      <td>81018</td>\n",
       "      <td>96008</td>\n",
       "      <td>95433</td>\n",
       "      <td>103288</td>\n",
       "      <td>116862</td>\n",
       "      <td>75118</td>\n",
       "      <td>...</td>\n",
       "      <td>148359</td>\n",
       "      <td>109973</td>\n",
       "      <td>63687</td>\n",
       "      <td>110293</td>\n",
       "      <td>106238</td>\n",
       "      <td>132305</td>\n",
       "      <td>104368</td>\n",
       "      <td>136200</td>\n",
       "      <td>176765</td>\n",
       "      <td>121926</td>\n",
       "    </tr>\n",
       "    <tr>\n",
       "      <th>1</th>\n",
       "      <td>2022-03-29</td>\n",
       "      <td>36216</td>\n",
       "      <td>32835</td>\n",
       "      <td>53872</td>\n",
       "      <td>79030</td>\n",
       "      <td>93474</td>\n",
       "      <td>92993</td>\n",
       "      <td>100255</td>\n",
       "      <td>113609</td>\n",
       "      <td>72934</td>\n",
       "      <td>...</td>\n",
       "      <td>143573</td>\n",
       "      <td>106162</td>\n",
       "      <td>61840</td>\n",
       "      <td>106171</td>\n",
       "      <td>102955</td>\n",
       "      <td>127626</td>\n",
       "      <td>100529</td>\n",
       "      <td>132333</td>\n",
       "      <td>172292</td>\n",
       "      <td>118842</td>\n",
       "    </tr>\n",
       "    <tr>\n",
       "      <th>2</th>\n",
       "      <td>2022-03-28</td>\n",
       "      <td>35276</td>\n",
       "      <td>31878</td>\n",
       "      <td>52391</td>\n",
       "      <td>76802</td>\n",
       "      <td>91030</td>\n",
       "      <td>90277</td>\n",
       "      <td>97419</td>\n",
       "      <td>110583</td>\n",
       "      <td>70754</td>\n",
       "      <td>...</td>\n",
       "      <td>139633</td>\n",
       "      <td>103573</td>\n",
       "      <td>59946</td>\n",
       "      <td>104109</td>\n",
       "      <td>100665</td>\n",
       "      <td>124805</td>\n",
       "      <td>98869</td>\n",
       "      <td>128813</td>\n",
       "      <td>167386</td>\n",
       "      <td>115846</td>\n",
       "    </tr>\n",
       "    <tr>\n",
       "      <th>3</th>\n",
       "      <td>2022-03-27</td>\n",
       "      <td>34879</td>\n",
       "      <td>31577</td>\n",
       "      <td>51652</td>\n",
       "      <td>76108</td>\n",
       "      <td>89876</td>\n",
       "      <td>89302</td>\n",
       "      <td>96359</td>\n",
       "      <td>109500</td>\n",
       "      <td>70003</td>\n",
       "      <td>...</td>\n",
       "      <td>137908</td>\n",
       "      <td>102610</td>\n",
       "      <td>59393</td>\n",
       "      <td>102916</td>\n",
       "      <td>99426</td>\n",
       "      <td>123374</td>\n",
       "      <td>96873</td>\n",
       "      <td>126296</td>\n",
       "      <td>165373</td>\n",
       "      <td>113549</td>\n",
       "    </tr>\n",
       "    <tr>\n",
       "      <th>4</th>\n",
       "      <td>2022-03-26</td>\n",
       "      <td>34061</td>\n",
       "      <td>30903</td>\n",
       "      <td>50720</td>\n",
       "      <td>74178</td>\n",
       "      <td>87770</td>\n",
       "      <td>87345</td>\n",
       "      <td>93690</td>\n",
       "      <td>106437</td>\n",
       "      <td>68329</td>\n",
       "      <td>...</td>\n",
       "      <td>134285</td>\n",
       "      <td>99938</td>\n",
       "      <td>57925</td>\n",
       "      <td>100349</td>\n",
       "      <td>96989</td>\n",
       "      <td>120413</td>\n",
       "      <td>95124</td>\n",
       "      <td>123992</td>\n",
       "      <td>161650</td>\n",
       "      <td>110649</td>\n",
       "    </tr>\n",
       "  </tbody>\n",
       "</table>\n",
       "<p>5 rows × 26 columns</p>\n",
       "</div>"
      ],
      "text/plain": [
       "           날짜    종로구     중구    용산구    성동구    광진구   동대문구     중랑구     성북구  \\\n",
       "0  2022-03-30  37261  33753  55376  81018  96008  95433  103288  116862   \n",
       "1  2022-03-29  36216  32835  53872  79030  93474  92993  100255  113609   \n",
       "2  2022-03-28  35276  31878  52391  76802  91030  90277   97419  110583   \n",
       "3  2022-03-27  34879  31577  51652  76108  89876  89302   96359  109500   \n",
       "4  2022-03-26  34061  30903  50720  74178  87770  87345   93690  106437   \n",
       "\n",
       "     강북구  ...     강서구     구로구    금천구    영등포구     동작구     관악구     서초구     강남구  \\\n",
       "0  75118  ...  148359  109973  63687  110293  106238  132305  104368  136200   \n",
       "1  72934  ...  143573  106162  61840  106171  102955  127626  100529  132333   \n",
       "2  70754  ...  139633  103573  59946  104109  100665  124805   98869  128813   \n",
       "3  70003  ...  137908  102610  59393  102916   99426  123374   96873  126296   \n",
       "4  68329  ...  134285   99938  57925  100349   96989  120413   95124  123992   \n",
       "\n",
       "      송파구     강동구  \n",
       "0  176765  121926  \n",
       "1  172292  118842  \n",
       "2  167386  115846  \n",
       "3  165373  113549  \n",
       "4  161650  110649  \n",
       "\n",
       "[5 rows x 26 columns]"
      ]
     },
     "execution_count": 42,
     "metadata": {},
     "output_type": "execute_result"
    }
   ],
   "source": [
    "covid = pd.read_csv('../ADP_book_ver01/data/서울특별시 코로나19.csv')\n",
    "covid.head()"
   ]
  },
  {
   "cell_type": "code",
   "execution_count": 43,
   "metadata": {},
   "outputs": [
    {
     "data": {
      "text/plain": [
       "785"
      ]
     },
     "execution_count": 43,
     "metadata": {},
     "output_type": "execute_result"
    }
   ],
   "source": [
    "covid.shape[0]"
   ]
  },
  {
   "cell_type": "markdown",
   "metadata": {},
   "source": [
    "#### (1) ACF를 사용해서 distance를 계산하시오 "
   ]
  },
  {
   "cell_type": "code",
   "execution_count": 44,
   "metadata": {},
   "outputs": [],
   "source": [
    "from statsmodels.tsa.stattools import acf\n",
    "from scipy.spatial import distance"
   ]
  },
  {
   "cell_type": "code",
   "execution_count": 45,
   "metadata": {},
   "outputs": [],
   "source": [
    "covid.sort_values('날짜', inplace=True)\n",
    "covid.reset_index(inplace=True)\n",
    "\n",
    "covid['날짜'] = pd.to_datetime(covid['날짜'], format=\"%Y-%m-%d\")\n",
    "\n",
    "acf_df = pd.DataFrame()\n",
    "for col in covid.columns.difference(['index', '날짜']):\n",
    "    acf_df[col] = acf(covid[col], nlags=covid.shape[0], fft=False)"
   ]
  },
  {
   "cell_type": "code",
   "execution_count": 46,
   "metadata": {},
   "outputs": [
    {
     "name": "stdout",
     "output_type": "stream",
     "text": [
      "먼저, 날짜 순서대로 데이터를 정렬한 다음, 날짜 변수는 날짜 형식으로 변환해 준다. 그리고 각 변수(자치구) 별로 첫 번째 값을 기준으로 ACF를 계산하여 새로운 데이터프레임을 생성한다.\n"
     ]
    }
   ],
   "source": [
    "print('먼저, 날짜 순서대로 데이터를 정렬한 다음, 날짜 변수는 날짜 형식으로 변환해 준다. 그리고 각 변수(자치구) 별로 첫 번째 값을 기준으로 ACF를 계산하여 새로운 데이터프레임을 생성한다.')"
   ]
  },
  {
   "cell_type": "code",
   "execution_count": 47,
   "metadata": {},
   "outputs": [],
   "source": [
    "dist = acf_df.corr()\n",
    "for col in dist.columns:\n",
    "    for idx in dist.index:\n",
    "        dist.loc[idx, col] = distance.euclidean(acf_df[idx], acf_df[col])"
   ]
  },
  {
   "cell_type": "code",
   "execution_count": 48,
   "metadata": {},
   "outputs": [
    {
     "name": "stdout",
     "output_type": "stream",
     "text": [
      "그 다음, 각 자치구를 순서쌍으로 하여 acf 값 사이의 euclidian distance를 계산하였다. 이를 heatmap으로 시각화하면 아래와 같다.\n"
     ]
    },
    {
     "data": {
      "image/png": "[encoded data removed]",
      "text/plain": [
       "<Figure size 864x432 with 2 Axes>"
      ]
     },
     "metadata": {
      "needs_background": "light"
     },
     "output_type": "display_data"
    }
   ],
   "source": [
    "print('그 다음, 각 자치구를 순서쌍으로 하여 acf 값 사이의 euclidian distance를 계산하였다. 이를 heatmap으로 시각화하면 아래와 같다.')\n",
    "plt.figure(figsize=(12, 6))\n",
    "sns.heatmap(dist)\n",
    "plt.show()"
   ]
  },
  {
   "cell_type": "markdown",
   "metadata": {},
   "source": [
    "#### (2) 계층적 군집 분석을 위해 덴드로그램을 작성하시오"
   ]
  },
  {
   "cell_type": "code",
   "execution_count": 49,
   "metadata": {},
   "outputs": [],
   "source": [
    "from scipy.cluster.hierarchy import dendrogram, linkage"
   ]
  },
  {
   "cell_type": "code",
   "execution_count": 50,
   "metadata": {},
   "outputs": [
    {
     "data": {
      "image/png": "[encoded data removed]",
      "text/plain": [
       "<Figure size 720x504 with 1 Axes>"
      ]
     },
     "metadata": {
      "needs_background": "light"
     },
     "output_type": "display_data"
    }
   ],
   "source": [
    "label_list = acf_df.T.index\n",
    "\n",
    "### 와드연결법\n",
    "# 최단연결법의 단점 보완. 군집 내 오차(SSE)에 기반한 거리 측정\n",
    "# 상대적으로 계산량이 많지만, 해석력이 높음\n",
    "ward = linkage(acf_df.T.iloc[:, 1::], metric='euclidean', method='ward')\n",
    "\n",
    "# 덴드로그램 그리기\n",
    "plt.figure(figsize=(10, 7))\n",
    "dendrogram(ward,\n",
    "            orientation='top',\n",
    "            labels=label_list,\n",
    "            distance_sort='descending',\n",
    "            color_threshold=0.4,\n",
    "            show_leaf_counts=True)\n",
    "plt.axhline(y=250, color='r', linewidth=1)  # Height 값에 따라 선을 그어 적절한 군집 수 설정\n",
    "plt.show()"
   ]
  },
  {
   "cell_type": "code",
   "execution_count": 51,
   "metadata": {},
   "outputs": [
    {
     "name": "stdout",
     "output_type": "stream",
     "text": [
      "각 자치구별 클러스터링을 진행하기 위해, acf dataframe을 전치하여 자치구가 index에 가도록 변경해 준 다음 덴드로그램을 작성하였다. 군집 간 거리 측정 방법은 해석력이 높은 와드를 사용하였다.\n",
      "거리 threshold를 0.4로 설정했을 때, 자치구가 크게 4개의 클러스터로 구분되는 것을 확인할 수 있다.\n"
     ]
    }
   ],
   "source": [
    "print('각 자치구별 클러스터링을 진행하기 위해, acf dataframe을 전치하여 자치구가 index에 가도록 변경해 준 다음 덴드로그램을 작성하였다. 군집 간 거리 측정 방법은 해석력이 높은 와드를 사용하였다.')\n",
    "print('거리 threshold를 0.4로 설정했을 때, 자치구가 크게 4개의 클러스터로 구분되는 것을 확인할 수 있다.')"
   ]
  },
  {
   "cell_type": "markdown",
   "metadata": {},
   "source": [
    "#### 3. 사회과학, 자연과학, 공학 세 개 학과의 평점조사표를 보고 학과와 성적이 관계있는지 검정하시오."
   ]
  },
  {
   "cell_type": "code",
   "execution_count": 52,
   "metadata": {},
   "outputs": [
    {
     "data": {
      "text/html": [
       "<div>\n",
       "<style scoped>\n",
       "    .dataframe tbody tr th:only-of-type {\n",
       "        vertical-align: middle;\n",
       "    }\n",
       "\n",
       "    .dataframe tbody tr th {\n",
       "        vertical-align: top;\n",
       "    }\n",
       "\n",
       "    .dataframe thead th {\n",
       "        text-align: right;\n",
       "    }\n",
       "</style>\n",
       "<table border=\"1\" class=\"dataframe\">\n",
       "  <thead>\n",
       "    <tr style=\"text-align: right;\">\n",
       "      <th></th>\n",
       "      <th>사회과학</th>\n",
       "      <th>자연과학</th>\n",
       "      <th>공학</th>\n",
       "    </tr>\n",
       "  </thead>\n",
       "  <tbody>\n",
       "    <tr>\n",
       "      <th>3.5~4.5</th>\n",
       "      <td>16</td>\n",
       "      <td>12</td>\n",
       "      <td>18</td>\n",
       "    </tr>\n",
       "    <tr>\n",
       "      <th>2.5~3.5</th>\n",
       "      <td>30</td>\n",
       "      <td>20</td>\n",
       "      <td>13</td>\n",
       "    </tr>\n",
       "    <tr>\n",
       "      <th>1.5~2.5</th>\n",
       "      <td>12</td>\n",
       "      <td>3</td>\n",
       "      <td>14</td>\n",
       "    </tr>\n",
       "  </tbody>\n",
       "</table>\n",
       "</div>"
      ],
      "text/plain": [
       "         사회과학  자연과학  공학\n",
       "3.5~4.5    16    12  18\n",
       "2.5~3.5    30    20  13\n",
       "1.5~2.5    12     3  14"
      ]
     },
     "execution_count": 52,
     "metadata": {},
     "output_type": "execute_result"
    }
   ],
   "source": [
    "table = pd.DataFrame({'사회과학': [16, 30, 12], '자연과학': [12, 20, 3], '공학': [18, 13, 14]}, index=['3.5~4.5', '2.5~3.5', '1.5~2.5'])\n",
    "table"
   ]
  },
  {
   "cell_type": "code",
   "execution_count": 53,
   "metadata": {},
   "outputs": [
    {
     "name": "stdout",
     "output_type": "stream",
     "text": [
      "학과와 평점이 서로 관계가 있는지 (독립적인지) 확인하기 위해서는, 카이제곱 독립성 검정을 수행하면 된다.\n",
      "가설은 다음과 같다.\n",
      "H0: 학과와 평점은 관계가 없다 (독립적이다)\n",
      "H1: 학과와 평점은 관계가 있다 (독립이 아니다)\n"
     ]
    }
   ],
   "source": [
    "print('학과와 평점이 서로 관계가 있는지 (독립적인지) 확인하기 위해서는, 카이제곱 독립성 검정을 수행하면 된다.')\n",
    "print('가설은 다음과 같다.')\n",
    "print('H0: 학과와 평점은 관계가 없다 (독립적이다)')\n",
    "print('H1: 학과와 평점은 관계가 있다 (독립이 아니다)')"
   ]
  },
  {
   "cell_type": "code",
   "execution_count": 54,
   "metadata": {},
   "outputs": [],
   "source": [
    "from scipy.stats import chi2_contingency"
   ]
  },
  {
   "cell_type": "code",
   "execution_count": 55,
   "metadata": {},
   "outputs": [
    {
     "name": "stdout",
     "output_type": "stream",
     "text": [
      "Statistic: 10.199441509990177\n",
      "p-value: 0.03719883770303157\n",
      "df: 4\n",
      "expect: \n",
      " [[19.33333333 11.66666667 15.        ]\n",
      " [26.47826087 15.97826087 20.54347826]\n",
      " [12.1884058   7.35507246  9.45652174]]\n"
     ]
    }
   ],
   "source": [
    "chi, p, df, expect = chi2_contingency(table) \n",
    "print('Statistic:', chi)\n",
    "print('p-value:', p)\n",
    "print('df:', df)\n",
    "print('expect: \\n', expect)"
   ]
  },
  {
   "cell_type": "code",
   "execution_count": 56,
   "metadata": {},
   "outputs": [
    {
     "name": "stdout",
     "output_type": "stream",
     "text": [
      "카이제곱 검정 결과, 검정통계량 10.2, p-value 0.04로 유의수준 0.05 하에서 귀무가설을 기각할 수 있다. 그러므로, 평점은 학과와 관계가 있다고 볼 통계적 근거가 충분하다.\n"
     ]
    }
   ],
   "source": [
    "print('카이제곱 검정 결과, 검정통계량 10.2, p-value 0.04로 유의수준 0.05 하에서 귀무가설을 기각할 수 있다. 그러므로, 평점은 학과와 관계가 있다고 볼 통계적 근거가 충분하다.')"
   ]
  }
 ],
 "metadata": {
  "kernelspec": {
   "display_name": "Python 3",
   "language": "python",
   "name": "python3"
  },
  "language_info": {
   "codemirror_mode": {
    "name": "ipython",
    "version": 3
   },
   "file_extension": ".py",
   "mimetype": "text/x-python",
   "name": "python",
   "nbconvert_exporter": "python",
   "pygments_lexer": "ipython3",
   "version": "3.7.6"
  }
 },
 "nbformat": 4,
 "nbformat_minor": 5
}
