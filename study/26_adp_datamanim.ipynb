{
 "cells": [
  {
   "cell_type": "code",
   "execution_count": 6,
   "id": "5110e640-5aab-4651-9b5a-227b3ef574c6",
   "metadata": {},
   "outputs": [],
   "source": [
    "import numpy as np\n",
    "import pandas as pd\n",
    "\n",
    "import matplotlib.pyplot as plt\n",
    "import seaborn as sns\n",
    "\n",
    "import scipy.stats as stats"
   ]
  },
  {
   "cell_type": "markdown",
   "id": "69ba611b",
   "metadata": {
    "papermill": {
     "duration": 0.007138,
     "end_time": "2023-01-14T10:05:21.418097",
     "exception": false,
     "start_time": "2023-01-14T10:05:21.410959",
     "status": "completed"
    },
    "tags": []
   },
   "source": [
    "# 1번\n",
    "- 데이터 경로 /kaggle/input/adp-p6/problem1.csv \n",
    "\n",
    "### 데이터 설명\n",
    "- InvoiceNo: Invoice number. Nominal, a 6-digit integral number uniquely assigned to each transaction. If this code starts with letter 'c', it indicates a cancellation.     \n",
    "- StockCode: Product (item) code. Nominal, a 5-digit integral number uniquely assigned to each distinct product.     \n",
    "- Description: Product (item) name. Nominal.    \n",
    "- Quantity: The quantities of each product (item) per transaction. Numeric.     \n",
    "- InvoiceDate: Invice Date and time. Numeric, the day and time when each transaction was generated.   \n",
    "- UnitPrice: Unit price. Numeric, Product price per unit in sterling.    \n",
    "- CustomerID: Customer number. Nominal, a 5-digit integral number uniquely assigned to each customer.     \n",
    "- Country: Country name. Nominal, the name of the country where each customer resides.     \n",
    "\n",
    "\n",
    "### 데이터 출처\n",
    "- https://archive.ics.uci.edu/ml/index.php"
   ]
  },
  {
   "cell_type": "code",
   "execution_count": 136,
   "id": "abd39187",
   "metadata": {
    "papermill": {
     "duration": 0.167063,
     "end_time": "2023-01-14T10:05:21.617074",
     "exception": false,
     "start_time": "2023-01-14T10:05:21.450011",
     "status": "completed"
    },
    "tags": []
   },
   "outputs": [
    {
     "data": {
      "text/html": [
       "<div>\n",
       "<style scoped>\n",
       "    .dataframe tbody tr th:only-of-type {\n",
       "        vertical-align: middle;\n",
       "    }\n",
       "\n",
       "    .dataframe tbody tr th {\n",
       "        vertical-align: top;\n",
       "    }\n",
       "\n",
       "    .dataframe thead th {\n",
       "        text-align: right;\n",
       "    }\n",
       "</style>\n",
       "<table border=\"1\" class=\"dataframe\">\n",
       "  <thead>\n",
       "    <tr style=\"text-align: right;\">\n",
       "      <th></th>\n",
       "      <th>InvoiceNo</th>\n",
       "      <th>StockCode</th>\n",
       "      <th>Description</th>\n",
       "      <th>Quantity</th>\n",
       "      <th>InvoiceDate</th>\n",
       "      <th>UnitPrice</th>\n",
       "      <th>CustomerID</th>\n",
       "      <th>Country</th>\n",
       "    </tr>\n",
       "  </thead>\n",
       "  <tbody>\n",
       "    <tr>\n",
       "      <th>0</th>\n",
       "      <td>563808</td>\n",
       "      <td>22432</td>\n",
       "      <td>WATERING CAN PINK BUNNY</td>\n",
       "      <td>6.0</td>\n",
       "      <td>8/19/2011 11:46</td>\n",
       "      <td>1.95</td>\n",
       "      <td>12626.0</td>\n",
       "      <td>Germany</td>\n",
       "    </tr>\n",
       "    <tr>\n",
       "      <th>1</th>\n",
       "      <td>561645</td>\n",
       "      <td>23166</td>\n",
       "      <td>MEDIUM CERAMIC TOP STORAGE JAR</td>\n",
       "      <td>12.0</td>\n",
       "      <td>7/28/2011 15:16</td>\n",
       "      <td>1.25</td>\n",
       "      <td>14911.0</td>\n",
       "      <td>EIRE</td>\n",
       "    </tr>\n",
       "    <tr>\n",
       "      <th>2</th>\n",
       "      <td>568651</td>\n",
       "      <td>20985</td>\n",
       "      <td>HEART CALCULATOR</td>\n",
       "      <td>12.0</td>\n",
       "      <td>9/28/2011 12:04</td>\n",
       "      <td>1.25</td>\n",
       "      <td>12362.0</td>\n",
       "      <td>Belgium</td>\n",
       "    </tr>\n",
       "    <tr>\n",
       "      <th>3</th>\n",
       "      <td>541711</td>\n",
       "      <td>22772</td>\n",
       "      <td>PINK DRAWER KNOB ACRYLIC EDWARDIAN</td>\n",
       "      <td>24.0</td>\n",
       "      <td>1/21/2011 11:18</td>\n",
       "      <td>1.25</td>\n",
       "      <td>14646.0</td>\n",
       "      <td>Netherlands</td>\n",
       "    </tr>\n",
       "    <tr>\n",
       "      <th>4</th>\n",
       "      <td>554134</td>\n",
       "      <td>21154</td>\n",
       "      <td>RED RETROSPOT OVEN GLOVE</td>\n",
       "      <td>10.0</td>\n",
       "      <td>5/23/2011 9:48</td>\n",
       "      <td>1.25</td>\n",
       "      <td>12583.0</td>\n",
       "      <td>France</td>\n",
       "    </tr>\n",
       "  </tbody>\n",
       "</table>\n",
       "</div>"
      ],
      "text/plain": [
       "  InvoiceNo StockCode                         Description  Quantity  \\\n",
       "0    563808     22432             WATERING CAN PINK BUNNY       6.0   \n",
       "1    561645     23166      MEDIUM CERAMIC TOP STORAGE JAR      12.0   \n",
       "2    568651     20985                    HEART CALCULATOR      12.0   \n",
       "3    541711     22772  PINK DRAWER KNOB ACRYLIC EDWARDIAN      24.0   \n",
       "4    554134     21154           RED RETROSPOT OVEN GLOVE       10.0   \n",
       "\n",
       "       InvoiceDate  UnitPrice  CustomerID      Country  \n",
       "0  8/19/2011 11:46       1.95     12626.0      Germany  \n",
       "1  7/28/2011 15:16       1.25     14911.0         EIRE  \n",
       "2  9/28/2011 12:04       1.25     12362.0      Belgium  \n",
       "3  1/21/2011 11:18       1.25     14646.0  Netherlands  \n",
       "4   5/23/2011 9:48       1.25     12583.0       France  "
      ]
     },
     "execution_count": 136,
     "metadata": {},
     "output_type": "execute_result"
    }
   ],
   "source": [
    "df = pd.read_csv('https://raw.githubusercontent.com/Datamanim/datarepo/main/adp/26/problem1.csv')\n",
    "df.head()"
   ]
  },
  {
   "cell_type": "markdown",
   "id": "cf864564",
   "metadata": {
    "papermill": {
     "duration": 0.00768,
     "end_time": "2023-01-14T10:05:21.632810",
     "exception": false,
     "start_time": "2023-01-14T10:05:21.625130",
     "status": "completed"
    },
    "tags": []
   },
   "source": [
    "## 1-1. 결측치를 확인하고, 결측치 제거할 것"
   ]
  },
  {
   "cell_type": "code",
   "execution_count": 140,
   "id": "581ac9d1",
   "metadata": {
    "papermill": {
     "duration": 0.007452,
     "end_time": "2023-01-14T10:05:21.649583",
     "exception": false,
     "start_time": "2023-01-14T10:05:21.642131",
     "status": "completed"
    },
    "tags": []
   },
   "outputs": [
    {
     "data": {
      "text/plain": [
       "InvoiceNo       0\n",
       "StockCode       0\n",
       "Description     0\n",
       "Quantity       25\n",
       "InvoiceDate     0\n",
       "UnitPrice      97\n",
       "CustomerID      0\n",
       "Country         0\n",
       "dtype: int64"
      ]
     },
     "execution_count": 140,
     "metadata": {},
     "output_type": "execute_result"
    }
   ],
   "source": [
    "df.isnull().sum()"
   ]
  },
  {
   "cell_type": "code",
   "execution_count": 138,
   "id": "d4e2a2b8-a931-4f90-9821-9c2f47b90222",
   "metadata": {},
   "outputs": [
    {
     "name": "stdout",
     "output_type": "stream",
     "text": [
      "<답안>\n",
      "Quantity와 UnitPrice에 일부 이상치가 존재한다.\n"
     ]
    }
   ],
   "source": [
    "print('<답안>')\n",
    "print('Quantity와 UnitPrice에 일부 이상치가 존재한다.')"
   ]
  },
  {
   "cell_type": "code",
   "execution_count": 141,
   "id": "3d2601c1-e84d-4a72-8598-8495868a6ab7",
   "metadata": {},
   "outputs": [
    {
     "data": {
      "text/plain": [
       "InvoiceNo      0\n",
       "StockCode      0\n",
       "Description    0\n",
       "Quantity       0\n",
       "InvoiceDate    0\n",
       "UnitPrice      0\n",
       "CustomerID     0\n",
       "Country        0\n",
       "dtype: int64"
      ]
     },
     "execution_count": 141,
     "metadata": {},
     "output_type": "execute_result"
    }
   ],
   "source": [
    "df = df.dropna()\n",
    "df.isnull().sum()"
   ]
  },
  {
   "cell_type": "code",
   "execution_count": 142,
   "id": "8eea5e12-0706-4035-8542-e98551e22f39",
   "metadata": {},
   "outputs": [
    {
     "name": "stdout",
     "output_type": "stream",
     "text": [
      "결측치 제거를 진행하고, 모든 변수에 결측치가 없음을 확인하였다.\n"
     ]
    }
   ],
   "source": [
    "print('결측치 제거를 진행하고, 모든 변수에 결측치가 없음을 확인하였다.')"
   ]
  },
  {
   "cell_type": "markdown",
   "id": "9c8702d3",
   "metadata": {
    "papermill": {
     "duration": 0.007658,
     "end_time": "2023-01-14T10:05:21.665106",
     "exception": false,
     "start_time": "2023-01-14T10:05:21.657448",
     "status": "completed"
    },
    "tags": []
   },
   "source": [
    "## 1-2. 이상치 제거하는 방법을 설명하고, 이상치 제거하고 난 결과를 통계적으로 나타낼 것"
   ]
  },
  {
   "cell_type": "code",
   "execution_count": 144,
   "id": "e1ae115e",
   "metadata": {
    "papermill": {
     "duration": 0.00749,
     "end_time": "2023-01-14T10:05:21.680517",
     "exception": false,
     "start_time": "2023-01-14T10:05:21.673027",
     "status": "completed"
    },
    "tags": []
   },
   "outputs": [
    {
     "name": "stdout",
     "output_type": "stream",
     "text": [
      "<답안>\n",
      "IQR method를 활용하여 이상치를 탐지하고자 한다. IQR 방법은 제 1사분위수와 제 3사분위수에서 각각 아래쪽과 위쪽으로 IQR*1.5 이상 차이가 나는 값을 이상치로 처리하는 방법이다. IQR 이상치를 쉽게 확인하는 방법은 boxplot을 그려보는 것이다.\n",
      "연속형 변수를 갖는 Quantity와 UnitPrice에 대하여 boxplot을 그려 이상치를 확인하였다.\n"
     ]
    }
   ],
   "source": [
    "print('<답안>')\n",
    "print('IQR method를 활용하여 이상치를 탐지하고자 한다. IQR 방법은 제 1사분위수와 제 3사분위수에서 각각 아래쪽과 위쪽으로 IQR*1.5 이상 차이가 나는 값을 이상치로 처리하는 방법이다. IQR 이상치를 쉽게 확인하는 방법은 boxplot을 그려보는 것이다.')\n",
    "print('연속형 변수를 갖는 Quantity와 UnitPrice에 대하여 boxplot을 그려 이상치를 확인하였다.')"
   ]
  },
  {
   "cell_type": "code",
   "execution_count": 147,
   "id": "7aebe418-7955-41b6-b26e-a8ed52569b73",
   "metadata": {},
   "outputs": [
    {
     "data": {
      "text/plain": [
       "<Axes: >"
      ]
     },
     "execution_count": 147,
     "metadata": {},
     "output_type": "execute_result"
    },
    {
     "data": {
      "image/png": "[encoded data removed]",
      "text/plain": [
       "<Figure size 800x500 with 2 Axes>"
      ]
     },
     "metadata": {},
     "output_type": "display_data"
    }
   ],
   "source": [
    "fig, axes = plt.subplots(ncols=2, figsize=(8, 5))\n",
    "sns.boxplot(df['Quantity'], ax=axes[0])\n",
    "sns.boxplot(df['UnitPrice'], ax=axes[1])"
   ]
  },
  {
   "cell_type": "code",
   "execution_count": 152,
   "id": "1faac37b-abda-48d8-8b9f-7cbf221b6d64",
   "metadata": {},
   "outputs": [
    {
     "name": "stdout",
     "output_type": "stream",
     "text": [
      "Quantity 변수에 다수의 음수 값이 포착되었다. 이는 정상적인 주문에서 나올 수 없는 수치이다.\n",
      "많은 값이 이상치로 잡히는 것을 확인하고, Quantity와 UnitPrice의 skewness를 측정해 보니 각각 14.830917897724287, 64.19999180300915으로 확인되었다. 따라서 이상치를 제거하기 전 변수 변환을 통해 왜도를 줄여야 과한 이상치 제거를 막을 수 있다.\n"
     ]
    }
   ],
   "source": [
    "print(\"Quantity 변수에 다수의 음수 값이 포착되었다. 이는 취소 주문에서 볼 수 있는 수치인데, 정상 주문과 취소 주문을 합쳐 Quantity를 재성성 해야한다.\")"
   ]
  },
  {
   "cell_type": "code",
   "execution_count": 156,
   "id": "e16691ea-6759-4692-acdb-531b02a2d451",
   "metadata": {},
   "outputs": [
    {
     "data": {
      "text/html": [
       "<div>\n",
       "<style scoped>\n",
       "    .dataframe tbody tr th:only-of-type {\n",
       "        vertical-align: middle;\n",
       "    }\n",
       "\n",
       "    .dataframe tbody tr th {\n",
       "        vertical-align: top;\n",
       "    }\n",
       "\n",
       "    .dataframe thead th {\n",
       "        text-align: right;\n",
       "    }\n",
       "</style>\n",
       "<table border=\"1\" class=\"dataframe\">\n",
       "  <thead>\n",
       "    <tr style=\"text-align: right;\">\n",
       "      <th></th>\n",
       "      <th>InvoiceNo</th>\n",
       "      <th>StockCode</th>\n",
       "      <th>Description</th>\n",
       "      <th>Quantity</th>\n",
       "      <th>InvoiceDate</th>\n",
       "      <th>UnitPrice</th>\n",
       "      <th>CustomerID</th>\n",
       "      <th>Country</th>\n",
       "    </tr>\n",
       "  </thead>\n",
       "  <tbody>\n",
       "    <tr>\n",
       "      <th>0</th>\n",
       "      <td>563808</td>\n",
       "      <td>22432</td>\n",
       "      <td>WATERING CAN PINK BUNNY</td>\n",
       "      <td>6.0</td>\n",
       "      <td>8/19/2011 11:46</td>\n",
       "      <td>1.95</td>\n",
       "      <td>12626.0</td>\n",
       "      <td>Germany</td>\n",
       "    </tr>\n",
       "    <tr>\n",
       "      <th>1</th>\n",
       "      <td>561645</td>\n",
       "      <td>23166</td>\n",
       "      <td>MEDIUM CERAMIC TOP STORAGE JAR</td>\n",
       "      <td>12.0</td>\n",
       "      <td>7/28/2011 15:16</td>\n",
       "      <td>1.25</td>\n",
       "      <td>14911.0</td>\n",
       "      <td>EIRE</td>\n",
       "    </tr>\n",
       "    <tr>\n",
       "      <th>2</th>\n",
       "      <td>568651</td>\n",
       "      <td>20985</td>\n",
       "      <td>HEART CALCULATOR</td>\n",
       "      <td>12.0</td>\n",
       "      <td>9/28/2011 12:04</td>\n",
       "      <td>1.25</td>\n",
       "      <td>12362.0</td>\n",
       "      <td>Belgium</td>\n",
       "    </tr>\n",
       "    <tr>\n",
       "      <th>3</th>\n",
       "      <td>541711</td>\n",
       "      <td>22772</td>\n",
       "      <td>PINK DRAWER KNOB ACRYLIC EDWARDIAN</td>\n",
       "      <td>24.0</td>\n",
       "      <td>1/21/2011 11:18</td>\n",
       "      <td>1.25</td>\n",
       "      <td>14646.0</td>\n",
       "      <td>Netherlands</td>\n",
       "    </tr>\n",
       "    <tr>\n",
       "      <th>4</th>\n",
       "      <td>554134</td>\n",
       "      <td>21154</td>\n",
       "      <td>RED RETROSPOT OVEN GLOVE</td>\n",
       "      <td>10.0</td>\n",
       "      <td>5/23/2011 9:48</td>\n",
       "      <td>1.25</td>\n",
       "      <td>12583.0</td>\n",
       "      <td>France</td>\n",
       "    </tr>\n",
       "    <tr>\n",
       "      <th>...</th>\n",
       "      <td>...</td>\n",
       "      <td>...</td>\n",
       "      <td>...</td>\n",
       "      <td>...</td>\n",
       "      <td>...</td>\n",
       "      <td>...</td>\n",
       "      <td>...</td>\n",
       "      <td>...</td>\n",
       "    </tr>\n",
       "    <tr>\n",
       "      <th>35796</th>\n",
       "      <td>554137</td>\n",
       "      <td>21668</td>\n",
       "      <td>RED STRIPE CERAMIC DRAWER KNOB</td>\n",
       "      <td>12.0</td>\n",
       "      <td>5/23/2011 10:13</td>\n",
       "      <td>1.25</td>\n",
       "      <td>12708.0</td>\n",
       "      <td>Germany</td>\n",
       "    </tr>\n",
       "    <tr>\n",
       "      <th>35797</th>\n",
       "      <td>572986</td>\n",
       "      <td>22895</td>\n",
       "      <td>SET OF 2 TEA TOWELS APPLE AND PEARS</td>\n",
       "      <td>6.0</td>\n",
       "      <td>10/27/2011 10:51</td>\n",
       "      <td>3.25</td>\n",
       "      <td>12681.0</td>\n",
       "      <td>France</td>\n",
       "    </tr>\n",
       "    <tr>\n",
       "      <th>35798</th>\n",
       "      <td>579927</td>\n",
       "      <td>22734</td>\n",
       "      <td>SET OF 6 RIBBONS VINTAGE CHRISTMAS</td>\n",
       "      <td>6.0</td>\n",
       "      <td>12/1/2011 9:20</td>\n",
       "      <td>2.89</td>\n",
       "      <td>12572.0</td>\n",
       "      <td>Germany</td>\n",
       "    </tr>\n",
       "    <tr>\n",
       "      <th>35799</th>\n",
       "      <td>551163</td>\n",
       "      <td>22431</td>\n",
       "      <td>WATERING CAN BLUE ELEPHANT</td>\n",
       "      <td>1.0</td>\n",
       "      <td>4/26/2011 15:52</td>\n",
       "      <td>1.95</td>\n",
       "      <td>12573.0</td>\n",
       "      <td>France</td>\n",
       "    </tr>\n",
       "    <tr>\n",
       "      <th>35800</th>\n",
       "      <td>559418</td>\n",
       "      <td>22894</td>\n",
       "      <td>TABLECLOTH RED APPLES DESIGN</td>\n",
       "      <td>2.0</td>\n",
       "      <td>7/8/2011 11:36</td>\n",
       "      <td>9.95</td>\n",
       "      <td>12681.0</td>\n",
       "      <td>France</td>\n",
       "    </tr>\n",
       "  </tbody>\n",
       "</table>\n",
       "<p>34688 rows × 8 columns</p>\n",
       "</div>"
      ],
      "text/plain": [
       "      InvoiceNo StockCode                          Description  Quantity  \\\n",
       "0        563808     22432              WATERING CAN PINK BUNNY       6.0   \n",
       "1        561645     23166       MEDIUM CERAMIC TOP STORAGE JAR      12.0   \n",
       "2        568651     20985                     HEART CALCULATOR      12.0   \n",
       "3        541711     22772   PINK DRAWER KNOB ACRYLIC EDWARDIAN      24.0   \n",
       "4        554134     21154            RED RETROSPOT OVEN GLOVE       10.0   \n",
       "...         ...       ...                                  ...       ...   \n",
       "35796    554137     21668       RED STRIPE CERAMIC DRAWER KNOB      12.0   \n",
       "35797    572986     22895  SET OF 2 TEA TOWELS APPLE AND PEARS       6.0   \n",
       "35798    579927     22734   SET OF 6 RIBBONS VINTAGE CHRISTMAS       6.0   \n",
       "35799    551163     22431           WATERING CAN BLUE ELEPHANT       1.0   \n",
       "35800    559418     22894        TABLECLOTH RED APPLES DESIGN        2.0   \n",
       "\n",
       "            InvoiceDate  UnitPrice  CustomerID      Country  \n",
       "0       8/19/2011 11:46       1.95     12626.0      Germany  \n",
       "1       7/28/2011 15:16       1.25     14911.0         EIRE  \n",
       "2       9/28/2011 12:04       1.25     12362.0      Belgium  \n",
       "3       1/21/2011 11:18       1.25     14646.0  Netherlands  \n",
       "4        5/23/2011 9:48       1.25     12583.0       France  \n",
       "...                 ...        ...         ...          ...  \n",
       "35796   5/23/2011 10:13       1.25     12708.0      Germany  \n",
       "35797  10/27/2011 10:51       3.25     12681.0       France  \n",
       "35798    12/1/2011 9:20       2.89     12572.0      Germany  \n",
       "35799   4/26/2011 15:52       1.95     12573.0       France  \n",
       "35800    7/8/2011 11:36       9.95     12681.0       France  \n",
       "\n",
       "[34688 rows x 8 columns]"
      ]
     },
     "execution_count": 156,
     "metadata": {},
     "output_type": "execute_result"
    }
   ],
   "source": [
    "df[df.Quantity > 0]"
   ]
  },
  {
   "cell_type": "code",
   "execution_count": 178,
   "id": "1960705c-e4cb-4341-9bdd-97533c13e6f3",
   "metadata": {},
   "outputs": [
    {
     "name": "stdout",
     "output_type": "stream",
     "text": [
      "취소 주문 중, 기존 주문에 대한 취소는 존재하지 않는다. 그리고 취소 주문의 경우 분석하는 의미가 없는 데이터이므로 제거해 준다.\n",
      "또한, Boxplot에서 많은 값이 이상치로 잡히는 것을 확인하고, Quantity와 UnitPrice의 skewness를 측정해 보니 각각 15.372981283298156, 90.09778268655988으로 확인되었다. 따라서 이상치를 제거하기 전 변수 변환을 통해 왜도를 줄여야 과한 이상치 제거를 막을 수 있다.\n"
     ]
    }
   ],
   "source": [
    "cancel_invoice = [int(invoice_no[1:]) for invoice_no in df[df.Quantity <= 0].InvoiceNo]\n",
    "\n",
    "normal_invoice = df[df.Quantity > 0]\n",
    "for invoice in normal_invoice.InvoiceNo:\n",
    "    if invoice in cancel_invoice:\n",
    "        print(invoice)\n",
    "\n",
    "df = df[df.Quantity > 0]\n",
    "print('취소 주문 중, 기존 주문에 대한 취소는 존재하지 않는다. 그리고 취소 주문의 경우 분석하는 의미가 없는 데이터이므로 제거해 준다.')\n",
    "print(f\"또한, Boxplot에서 많은 값이 이상치로 잡히는 것을 확인하고, Quantity와 UnitPrice의 skewness를 측정해 보니 각각 {df['Quantity'].skew()}, {df['UnitPrice'].skew()}으로 확인되었다. 따라서 이상치를 제거하기 전 변수 변환을 통해 왜도를 줄여야 과한 이상치 제거를 막을 수 있다.\")"
   ]
  },
  {
   "cell_type": "code",
   "execution_count": 180,
   "id": "c3a367ac-aa2a-492f-9649-3ca7b1a19cd0",
   "metadata": {},
   "outputs": [
    {
     "name": "stdout",
     "output_type": "stream",
     "text": [
      "로그 변환을 수행한 다음 Quantity와 UnitPrice의 skewness를 측정해 보니 각각 0.7120770893216234, 1.259242690714804으로 확인되었다. log 변수에 대해 다시 Boxplot을 그리면 아래와 같다.\n"
     ]
    },
    {
     "data": {
      "text/plain": [
       "<Axes: >"
      ]
     },
     "execution_count": 180,
     "metadata": {},
     "output_type": "execute_result"
    },
    {
     "data": {
      "image/png": "[encoded data removed]",
      "text/plain": [
       "<Figure size 800x500 with 2 Axes>"
      ]
     },
     "metadata": {},
     "output_type": "display_data"
    }
   ],
   "source": [
    "print(f\"로그 변환을 수행한 다음 Quantity와 UnitPrice의 skewness를 측정해 보니 각각 {np.log1p(df['Quantity']).skew()}, {np.log1p(df['UnitPrice']).skew()}으로 확인되었다. log 변수에 대해 다시 Boxplot을 그리면 아래와 같이 왜도가 완화된 그래프를 볼 수 있다.\")\n",
    "fig, axes = plt.subplots(ncols=2, figsize=(8, 5))\n",
    "sns.boxplot(np.log1p(df['Quantity']), ax=axes[0])\n",
    "sns.boxplot(np.log1p(df['UnitPrice']), ax=axes[1])"
   ]
  },
  {
   "cell_type": "code",
   "execution_count": 272,
   "id": "48b1e432-f479-44db-8155-55e0eb3cb9b5",
   "metadata": {},
   "outputs": [],
   "source": [
    "df['Quantity_log'] = np.log1p(df['Quantity'])\n",
    "df['UnitPrice_log'] = np.log1p(df['UnitPrice'])"
   ]
  },
  {
   "cell_type": "code",
   "execution_count": 273,
   "id": "660bf0ff-5ce2-4b39-9cf3-52e507f83d61",
   "metadata": {},
   "outputs": [
    {
     "name": "stdout",
     "output_type": "stream",
     "text": [
      "이상치로 판단된 개수는 Quantity가 2072개, UnitPrice는 980개 이다.\n",
      "log를 취한 Boxplot에서도 다수의 이상치가 발견되었다. 이를 모두 제거하는 것은 이상치 자체가 의미가 있을 수도 있기 때문에 위험하다. 따라서 이상치 여부를 파생변수로 생성한다.\n"
     ]
    }
   ],
   "source": [
    "df['Quantity_outlier'] = np.where(df['Quantity_log'] > df['Quantity_log'].quantile(0.75) + (1.5 * IQR), 1, 0)\n",
    "df['UnitPrice_outlier'] = np.where(df['UnitPrice_log'] > df['UnitPrice_log'].quantile(0.75) + (1.5 * IQR), 1, 0)\n",
    "print(f\"이상치로 판단된 개수는 Quantity가 {df['Quantity_outlier'].sum()}개, UnitPrice는 {df['UnitPrice_outlier'].sum()}개 이다.\")\n",
    "print('log를 취한 Boxplot에서도 다수의 이상치가 발견되었다. 이를 모두 제거하는 것은 이상치 자체가 의미가 있을 수도 있기 때문에 위험하다. 따라서 이상치 여부를 파생변수로 생성한다.')"
   ]
  },
  {
   "cell_type": "code",
   "execution_count": 274,
   "id": "01f86a81-135b-4727-ab37-d6eebac35ff1",
   "metadata": {},
   "outputs": [
    {
     "data": {
      "text/plain": [
       "Quantity_outlier\n",
       "0    32616\n",
       "1     2072\n",
       "Name: count, dtype: int64"
      ]
     },
     "execution_count": 274,
     "metadata": {},
     "output_type": "execute_result"
    }
   ],
   "source": [
    "df['Quantity_outlier'].value_counts()"
   ]
  },
  {
   "cell_type": "markdown",
   "id": "5a950fa8",
   "metadata": {
    "papermill": {
     "duration": 0.007479,
     "end_time": "2023-01-14T10:05:21.695737",
     "exception": false,
     "start_time": "2023-01-14T10:05:21.688258",
     "status": "completed"
    },
    "tags": []
   },
   "source": [
    "## 1-3 전처리한 데이터로 Kmeans, DBSCAN 등 방법으로 군집을 생성할 것"
   ]
  },
  {
   "cell_type": "code",
   "execution_count": 275,
   "id": "6eac9aed-c924-4d4d-8e03-4c7b7ee9294d",
   "metadata": {},
   "outputs": [],
   "source": [
    "from sklearn.cluster import KMeans\n",
    "from sklearn.preprocessing import RobustScaler\n",
    "from sklearn.preprocessing import LabelEncoder\n",
    "\n",
    "scaler = RobustScaler()\n",
    "x_scaled = scaler.fit_transform(df.loc[:, ['Quantity_log', 'UnitPrice_log']])\n",
    "x_scaled_df = pd.DataFrame(x_scaled, columns=['Quantity_log', 'UnitPrice_log'])\n",
    "\n",
    "encoder = LabelEncoder()\n",
    "country_labeled = encoder.fit_transform(df['Country'])"
   ]
  },
  {
   "cell_type": "code",
   "execution_count": 276,
   "id": "c6ed0eb1-cc41-42c7-8c99-99046e344818",
   "metadata": {},
   "outputs": [],
   "source": [
    "x_scaled_df['Country_labeled'] = country_labeled\n",
    "x_scaled_df['Country_labeled'] = x_scaled_df['Country_labeled'].astype('category')"
   ]
  },
  {
   "cell_type": "code",
   "execution_count": null,
   "id": "bd844950-a5eb-4a05-8f52-8c789e4a0286",
   "metadata": {},
   "outputs": [],
   "source": [
    "x_scaled_df['Quantity_outlier'] = np.where(df['Quantity_log'] > df['Quantity_log'].quantile(0.75) + (1.5 * IQR), 1, 0)\n",
    "x_scaled_df['UnitPrice_outlier'] = np.where(df['UnitPrice_log'] > df['UnitPrice_log'].quantile(0.75) + (1.5 * IQR), 1, 0)\n",
    "\n",
    "x_scaled_df['Quantity_outlier'] = x_scaled_df['Quantity_outlier'].astype('category')\n",
    "x_scaled_df['UnitPrice_outlier'] = x_scaled_df['UnitPrice_outlier'].astype('category')"
   ]
  },
  {
   "cell_type": "code",
   "execution_count": 204,
   "id": "24fdf079-9e75-4dcd-848c-812c7e29eb78",
   "metadata": {},
   "outputs": [],
   "source": [
    "### elbow plot\n",
    "def elbow(x):\n",
    "    sse=[]\n",
    "    for i in range(1, 11):\n",
    "        km = KMeans(n_clusters=i, random_state=1)\n",
    "        km.fit(x)\n",
    "        sse.append(km.inertia_)\n",
    "    \n",
    "    plt.plot(range(1, 11), sse, marker='o')\n",
    "    plt.xlabel('The Number of Clusters')\n",
    "    plt.ylabel('SSE')\n",
    "    plt.show()\n",
    "    \n",
    "    print(sse)"
   ]
  },
  {
   "cell_type": "code",
   "execution_count": 299,
   "id": "5ae64754-aa56-4eb8-99f0-22e5e9e21252",
   "metadata": {},
   "outputs": [
    {
     "data": {
      "text/html": [
       "<div>\n",
       "<style scoped>\n",
       "    .dataframe tbody tr th:only-of-type {\n",
       "        vertical-align: middle;\n",
       "    }\n",
       "\n",
       "    .dataframe tbody tr th {\n",
       "        vertical-align: top;\n",
       "    }\n",
       "\n",
       "    .dataframe thead th {\n",
       "        text-align: right;\n",
       "    }\n",
       "</style>\n",
       "<table border=\"1\" class=\"dataframe\">\n",
       "  <thead>\n",
       "    <tr style=\"text-align: right;\">\n",
       "      <th></th>\n",
       "      <th>Quantity_log</th>\n",
       "      <th>UnitPrice_log</th>\n",
       "      <th>Country_labeled</th>\n",
       "      <th>Quantity_outlier</th>\n",
       "      <th>UnitPrice_outlier</th>\n",
       "      <th>cluster</th>\n",
       "    </tr>\n",
       "  </thead>\n",
       "  <tbody>\n",
       "    <tr>\n",
       "      <th>0</th>\n",
       "      <td>-0.697664</td>\n",
       "      <td>0.000000</td>\n",
       "      <td>3</td>\n",
       "      <td>0</td>\n",
       "      <td>0</td>\n",
       "      <td>2</td>\n",
       "    </tr>\n",
       "    <tr>\n",
       "      <th>1</th>\n",
       "      <td>0.000000</td>\n",
       "      <td>-0.362513</td>\n",
       "      <td>1</td>\n",
       "      <td>0</td>\n",
       "      <td>0</td>\n",
       "      <td>2</td>\n",
       "    </tr>\n",
       "    <tr>\n",
       "      <th>2</th>\n",
       "      <td>0.000000</td>\n",
       "      <td>-0.362513</td>\n",
       "      <td>0</td>\n",
       "      <td>0</td>\n",
       "      <td>0</td>\n",
       "      <td>2</td>\n",
       "    </tr>\n",
       "    <tr>\n",
       "      <th>3</th>\n",
       "      <td>0.736982</td>\n",
       "      <td>-0.362513</td>\n",
       "      <td>4</td>\n",
       "      <td>0</td>\n",
       "      <td>0</td>\n",
       "      <td>2</td>\n",
       "    </tr>\n",
       "    <tr>\n",
       "      <th>4</th>\n",
       "      <td>-0.188272</td>\n",
       "      <td>-0.362513</td>\n",
       "      <td>2</td>\n",
       "      <td>0</td>\n",
       "      <td>0</td>\n",
       "      <td>2</td>\n",
       "    </tr>\n",
       "    <tr>\n",
       "      <th>...</th>\n",
       "      <td>...</td>\n",
       "      <td>...</td>\n",
       "      <td>...</td>\n",
       "      <td>...</td>\n",
       "      <td>...</td>\n",
       "      <td>...</td>\n",
       "    </tr>\n",
       "    <tr>\n",
       "      <th>34683</th>\n",
       "      <td>0.000000</td>\n",
       "      <td>-0.362513</td>\n",
       "      <td>3</td>\n",
       "      <td>0</td>\n",
       "      <td>0</td>\n",
       "      <td>2</td>\n",
       "    </tr>\n",
       "    <tr>\n",
       "      <th>34684</th>\n",
       "      <td>-0.697664</td>\n",
       "      <td>0.488633</td>\n",
       "      <td>2</td>\n",
       "      <td>0</td>\n",
       "      <td>0</td>\n",
       "      <td>0</td>\n",
       "    </tr>\n",
       "    <tr>\n",
       "      <th>34685</th>\n",
       "      <td>-0.697664</td>\n",
       "      <td>0.370180</td>\n",
       "      <td>3</td>\n",
       "      <td>0</td>\n",
       "      <td>0</td>\n",
       "      <td>0</td>\n",
       "    </tr>\n",
       "    <tr>\n",
       "      <th>34686</th>\n",
       "      <td>-2.109541</td>\n",
       "      <td>0.000000</td>\n",
       "      <td>2</td>\n",
       "      <td>0</td>\n",
       "      <td>0</td>\n",
       "      <td>0</td>\n",
       "    </tr>\n",
       "    <tr>\n",
       "      <th>34687</th>\n",
       "      <td>-1.652577</td>\n",
       "      <td>1.755232</td>\n",
       "      <td>2</td>\n",
       "      <td>0</td>\n",
       "      <td>0</td>\n",
       "      <td>0</td>\n",
       "    </tr>\n",
       "  </tbody>\n",
       "</table>\n",
       "<p>34688 rows × 6 columns</p>\n",
       "</div>"
      ],
      "text/plain": [
       "       Quantity_log  UnitPrice_log Country_labeled Quantity_outlier  \\\n",
       "0         -0.697664       0.000000               3                0   \n",
       "1          0.000000      -0.362513               1                0   \n",
       "2          0.000000      -0.362513               0                0   \n",
       "3          0.736982      -0.362513               4                0   \n",
       "4         -0.188272      -0.362513               2                0   \n",
       "...             ...            ...             ...              ...   \n",
       "34683      0.000000      -0.362513               3                0   \n",
       "34684     -0.697664       0.488633               2                0   \n",
       "34685     -0.697664       0.370180               3                0   \n",
       "34686     -2.109541       0.000000               2                0   \n",
       "34687     -1.652577       1.755232               2                0   \n",
       "\n",
       "      UnitPrice_outlier  cluster  \n",
       "0                     0        2  \n",
       "1                     0        2  \n",
       "2                     0        2  \n",
       "3                     0        2  \n",
       "4                     0        2  \n",
       "...                 ...      ...  \n",
       "34683                 0        2  \n",
       "34684                 0        0  \n",
       "34685                 0        0  \n",
       "34686                 0        0  \n",
       "34687                 0        0  \n",
       "\n",
       "[34688 rows x 6 columns]"
      ]
     },
     "execution_count": 299,
     "metadata": {},
     "output_type": "execute_result"
    }
   ],
   "source": [
    "x_scaled_df"
   ]
  },
  {
   "cell_type": "code",
   "execution_count": 287,
   "id": "28217358-b5d5-43ca-8c59-b49e369519b9",
   "metadata": {},
   "outputs": [
    {
     "name": "stderr",
     "output_type": "stream",
     "text": [
      "/Users/hyunjoong/Library/Python/3.9/lib/python/site-packages/sklearn/cluster/_kmeans.py:1412: FutureWarning: The default value of `n_init` will change from 10 to 'auto' in 1.4. Set the value of `n_init` explicitly to suppress the warning\n",
      "  super()._check_params_vs_input(X, default_n_init=10)\n",
      "/Users/hyunjoong/Library/Python/3.9/lib/python/site-packages/sklearn/cluster/_kmeans.py:1412: FutureWarning: The default value of `n_init` will change from 10 to 'auto' in 1.4. Set the value of `n_init` explicitly to suppress the warning\n",
      "  super()._check_params_vs_input(X, default_n_init=10)\n",
      "/Users/hyunjoong/Library/Python/3.9/lib/python/site-packages/sklearn/cluster/_kmeans.py:1412: FutureWarning: The default value of `n_init` will change from 10 to 'auto' in 1.4. Set the value of `n_init` explicitly to suppress the warning\n",
      "  super()._check_params_vs_input(X, default_n_init=10)\n",
      "/Users/hyunjoong/Library/Python/3.9/lib/python/site-packages/sklearn/cluster/_kmeans.py:1412: FutureWarning: The default value of `n_init` will change from 10 to 'auto' in 1.4. Set the value of `n_init` explicitly to suppress the warning\n",
      "  super()._check_params_vs_input(X, default_n_init=10)\n",
      "/Users/hyunjoong/Library/Python/3.9/lib/python/site-packages/sklearn/cluster/_kmeans.py:1412: FutureWarning: The default value of `n_init` will change from 10 to 'auto' in 1.4. Set the value of `n_init` explicitly to suppress the warning\n",
      "  super()._check_params_vs_input(X, default_n_init=10)\n",
      "/Users/hyunjoong/Library/Python/3.9/lib/python/site-packages/sklearn/cluster/_kmeans.py:1412: FutureWarning: The default value of `n_init` will change from 10 to 'auto' in 1.4. Set the value of `n_init` explicitly to suppress the warning\n",
      "  super()._check_params_vs_input(X, default_n_init=10)\n",
      "/Users/hyunjoong/Library/Python/3.9/lib/python/site-packages/sklearn/cluster/_kmeans.py:1412: FutureWarning: The default value of `n_init` will change from 10 to 'auto' in 1.4. Set the value of `n_init` explicitly to suppress the warning\n",
      "  super()._check_params_vs_input(X, default_n_init=10)\n",
      "/Users/hyunjoong/Library/Python/3.9/lib/python/site-packages/sklearn/cluster/_kmeans.py:1412: FutureWarning: The default value of `n_init` will change from 10 to 'auto' in 1.4. Set the value of `n_init` explicitly to suppress the warning\n",
      "  super()._check_params_vs_input(X, default_n_init=10)\n",
      "/Users/hyunjoong/Library/Python/3.9/lib/python/site-packages/sklearn/cluster/_kmeans.py:1412: FutureWarning: The default value of `n_init` will change from 10 to 'auto' in 1.4. Set the value of `n_init` explicitly to suppress the warning\n",
      "  super()._check_params_vs_input(X, default_n_init=10)\n",
      "/Users/hyunjoong/Library/Python/3.9/lib/python/site-packages/sklearn/cluster/_kmeans.py:1412: FutureWarning: The default value of `n_init` will change from 10 to 'auto' in 1.4. Set the value of `n_init` explicitly to suppress the warning\n",
      "  super()._check_params_vs_input(X, default_n_init=10)\n"
     ]
    },
    {
     "data": {
      "image/png": "[encoded data removed]",
      "text/plain": [
       "<Figure size 640x480 with 1 Axes>"
      ]
     },
     "metadata": {},
     "output_type": "display_data"
    },
    {
     "name": "stdout",
     "output_type": "stream",
     "text": [
      "[185383.3864418613, 105909.60727751988, 77946.63726485337, 61237.32185297791, 50065.6057494588, 44373.30269234608, 39212.16486943363, 35459.134787053306, 31723.45222944753, 28866.06944027597]\n"
     ]
    }
   ],
   "source": [
    "elbow(x_scaled_df)"
   ]
  },
  {
   "cell_type": "code",
   "execution_count": 288,
   "id": "d2c20d8d-ab2d-4b7c-af3a-d68ae5c3ec21",
   "metadata": {},
   "outputs": [
    {
     "name": "stdout",
     "output_type": "stream",
     "text": [
      "군집화는 변수 Scale에 영향을 많이 받기 때문에 수행 전 scaling 과정이 필요하다. 이 경우에는 이상치 다수가 존재하고 있으므로 RobustScaler를 사용한다.\n",
      "Quantity_log와 UnitPrice_log 두 변수에 Robust Scaling을 적용하고, 위에서 생성한 Outlier 여부 변수와 Country 변수를 추가하였다.\n",
      "Country 변수는 범주형 변수로, 숫자 형태로 변경하는 Label Encoding 과정을 수행하고, Categorical 변수로 변환하였다. Outlier 여부 변수도 마찬가지로 Catagorical 변수로 변환하였다.\n",
      "전처리 된 최종 데이터에 대해 K-means 클러스터링을 수행했고, elbow plot을 확인하니 n=3에서 elbow가 확인되었다.\n"
     ]
    }
   ],
   "source": [
    "print('군집화는 변수 Scale에 영향을 많이 받기 때문에 수행 전 scaling 과정이 필요하다. 이 경우에는 이상치 다수가 존재하고 있으므로 RobustScaler를 사용한다.')\n",
    "print('Quantity_log와 UnitPrice_log 두 변수에 Robust Scaling을 적용하고, 위에서 생성한 Outlier 여부 변수와 Country 변수를 추가하였다.')\n",
    "print('Country 변수는 범주형 변수로, 숫자 형태로 변경하는 Label Encoding 과정을 수행하고, Categorical 변수로 변환하였다. Outlier 여부 변수도 마찬가지로 Catagorical 변수로 변환하였다.')\n",
    "print('전처리 된 최종 데이터에 대해 K-means 클러스터링을 수행했고, elbow plot을 확인하니 n=3에서 elbow가 확인되었다.')"
   ]
  },
  {
   "cell_type": "code",
   "execution_count": 320,
   "id": "87a0e92e-8849-4901-811b-bf57e4c79b1e",
   "metadata": {},
   "outputs": [
    {
     "name": "stderr",
     "output_type": "stream",
     "text": [
      "/Users/hyunjoong/Library/Python/3.9/lib/python/site-packages/sklearn/cluster/_kmeans.py:1412: FutureWarning: The default value of `n_init` will change from 10 to 'auto' in 1.4. Set the value of `n_init` explicitly to suppress the warning\n",
      "  super()._check_params_vs_input(X, default_n_init=10)\n"
     ]
    }
   ],
   "source": [
    "#최적의 k로  K-Means 군집화 실행\n",
    "km = KMeans(n_clusters=3, random_state=1)\n",
    "km.fit(x_scaled_df)\n",
    "\n",
    "# 할당된 군집을 데이터에 추가\n",
    "new_labels = km.labels_\n",
    "df['cluster'] = new_labels"
   ]
  },
  {
   "cell_type": "code",
   "execution_count": 310,
   "id": "40f5afdf-c209-46cf-a462-ccb99fcceecc",
   "metadata": {},
   "outputs": [
    {
     "data": {
      "text/plain": [
       "<Axes: xlabel='UnitPrice', ylabel='Quantity'>"
      ]
     },
     "execution_count": 310,
     "metadata": {},
     "output_type": "execute_result"
    },
    {
     "data": {
      "image/png": "[encoded data removed]",
      "text/plain": [
       "<Figure size 640x480 with 1 Axes>"
      ]
     },
     "metadata": {},
     "output_type": "display_data"
    }
   ],
   "source": [
    "sns.scatterplot(x='UnitPrice', y='Quantity', data=df, hue=x_scaled_df['cluster'])"
   ]
  },
  {
   "cell_type": "markdown",
   "id": "84e77cad",
   "metadata": {
    "papermill": {
     "duration": 0.0073,
     "end_time": "2023-01-14T10:05:21.725640",
     "exception": false,
     "start_time": "2023-01-14T10:05:21.718340",
     "status": "completed"
    },
    "tags": []
   },
   "source": [
    "# 2번"
   ]
  },
  {
   "cell_type": "markdown",
   "id": "fd131e66",
   "metadata": {
    "papermill": {
     "duration": 0.007457,
     "end_time": "2023-01-14T10:05:21.741264",
     "exception": false,
     "start_time": "2023-01-14T10:05:21.733807",
     "status": "completed"
    },
    "tags": []
   },
   "source": [
    "## 2-1. 위에서 생성한 군집들의 특성을 분석할 것"
   ]
  },
  {
   "cell_type": "code",
   "execution_count": 297,
   "id": "63097a68-1e5f-4d3b-9fcc-f6e85d7337f6",
   "metadata": {},
   "outputs": [
    {
     "data": {
      "text/plain": [
       "<Axes: xlabel='Country', ylabel='count'>"
      ]
     },
     "execution_count": 297,
     "metadata": {},
     "output_type": "execute_result"
    },
    {
     "data": {
      "image/png": "[encoded data removed]",
      "text/plain": [
       "<Figure size 640x480 with 1 Axes>"
      ]
     },
     "metadata": {},
     "output_type": "display_data"
    }
   ],
   "source": [
    "sns.countplot(x=df['Country'], data=df, hue=df['cluster'])"
   ]
  },
  {
   "cell_type": "code",
   "execution_count": 307,
   "id": "07381ea1",
   "metadata": {
    "papermill": {
     "duration": 0.007397,
     "end_time": "2023-01-14T10:05:21.756292",
     "exception": false,
     "start_time": "2023-01-14T10:05:21.748895",
     "status": "completed"
    },
    "tags": []
   },
   "outputs": [
    {
     "data": {
      "text/html": [
       "<div>\n",
       "<style scoped>\n",
       "    .dataframe tbody tr th:only-of-type {\n",
       "        vertical-align: middle;\n",
       "    }\n",
       "\n",
       "    .dataframe tbody tr th {\n",
       "        vertical-align: top;\n",
       "    }\n",
       "\n",
       "    .dataframe thead th {\n",
       "        text-align: right;\n",
       "    }\n",
       "</style>\n",
       "<table border=\"1\" class=\"dataframe\">\n",
       "  <thead>\n",
       "    <tr style=\"text-align: right;\">\n",
       "      <th></th>\n",
       "      <th>Quantity</th>\n",
       "      <th>UnitPrice</th>\n",
       "    </tr>\n",
       "    <tr>\n",
       "      <th>cluster</th>\n",
       "      <th></th>\n",
       "      <th></th>\n",
       "    </tr>\n",
       "  </thead>\n",
       "  <tbody>\n",
       "    <tr>\n",
       "      <th>0.0</th>\n",
       "      <td>19.151842</td>\n",
       "      <td>4.089661</td>\n",
       "    </tr>\n",
       "    <tr>\n",
       "      <th>1.0</th>\n",
       "      <td>19.606217</td>\n",
       "      <td>3.652226</td>\n",
       "    </tr>\n",
       "    <tr>\n",
       "      <th>2.0</th>\n",
       "      <td>19.225236</td>\n",
       "      <td>4.108685</td>\n",
       "    </tr>\n",
       "  </tbody>\n",
       "</table>\n",
       "</div>"
      ],
      "text/plain": [
       "          Quantity  UnitPrice\n",
       "cluster                      \n",
       "0.0      19.151842   4.089661\n",
       "1.0      19.606217   3.652226\n",
       "2.0      19.225236   4.108685"
      ]
     },
     "execution_count": 307,
     "metadata": {},
     "output_type": "execute_result"
    }
   ],
   "source": [
    "cal_mean = df.loc[:, [\"Quantity\", \"UnitPrice\", \"cluster\"]].groupby('cluster').mean()\n",
    "cal_mean"
   ]
  },
  {
   "cell_type": "code",
   "execution_count": 308,
   "id": "41e48b06-1743-4a27-93ed-69cd9ba42a31",
   "metadata": {},
   "outputs": [
    {
     "data": {
      "text/plain": [
       "cluster\n",
       "0.0    78.324549\n",
       "1.0    71.606328\n",
       "2.0    78.990443\n",
       "dtype: float64"
      ]
     },
     "execution_count": 308,
     "metadata": {},
     "output_type": "execute_result"
    }
   ],
   "source": [
    "cal_mean['Quantity'] * cal_mean['UnitPrice']"
   ]
  },
  {
   "cell_type": "code",
   "execution_count": 309,
   "id": "b2af41b6-c57a-4bf1-a65f-d73fc1ae8261",
   "metadata": {},
   "outputs": [
    {
     "name": "stdout",
     "output_type": "stream",
     "text": [
      "나라 별 Cluster의 분포를 확인해 보면, 각 나라별로 클러스터의 분포가 비교적 고르게 되어 있다. 따라서 clustering에 나라의 영향은 크게 없다.\n",
      "Cluster 2는 Quantity와 UnitPrice 평균이 높아 총 구매액이 가장 높다.\n",
      "Cluster 1는 Quantity 평균이 가장 높지만, UnitPrice 평균이 낮아 총 구매액은 가장 적다\n",
      "Cluster 0은 Quantity 평균이 가장 낮지만, UnitPrice 평균이 높아 Cluter 1보다 총 구매액이 높다.\n"
     ]
    }
   ],
   "source": [
    "print('나라 별 Cluster의 분포를 확인해 보면, 각 나라별로 클러스터의 분포가 비교적 고르게 되어 있다. 따라서 clustering에 나라의 영향은 크게 없다.')\n",
    "print('Cluster 2는 Quantity와 UnitPrice 평균이 높아 총 구매액이 가장 높다.')\n",
    "print('Cluster 1는 Quantity 평균이 가장 높지만, UnitPrice 평균이 낮아 총 구매액은 가장 적다')\n",
    "print('Cluster 0은 Quantity 평균이 가장 낮지만, UnitPrice 평균이 높아 Cluter 1보다 총 구매액이 높다.')"
   ]
  },
  {
   "cell_type": "markdown",
   "id": "c149294e",
   "metadata": {
    "papermill": {
     "duration": 0.007928,
     "end_time": "2023-01-14T10:05:21.771980",
     "exception": false,
     "start_time": "2023-01-14T10:05:21.764052",
     "status": "completed"
    },
    "tags": []
   },
   "source": [
    "## 2-2. 각 군집 별 대표 추천 상품을 도출할 것"
   ]
  },
  {
   "cell_type": "code",
   "execution_count": 341,
   "id": "826688e8-aad3-4591-b2c0-c1e9672c98e1",
   "metadata": {},
   "outputs": [],
   "source": [
    "from scipy.spatial import distance"
   ]
  },
  {
   "cell_type": "code",
   "execution_count": 342,
   "id": "cc79d465-9375-489a-84ca-5a88fa9f378e",
   "metadata": {},
   "outputs": [],
   "source": [
    "min_distance = [np.Inf, np.Inf, np.Inf]\n",
    "min_distance_index = [0, 0, 0]\n",
    "for i in x_scaled_df.index:\n",
    "    for j in range(3):\n",
    "        dist = distance.euclidean(x_scaled_df.iloc[i], km.cluster_centers_[j])\n",
    "        if dist < min_distance[j]:\n",
    "            min_distance[j] = dist\n",
    "            min_distance_index[j] = i"
   ]
  },
  {
   "cell_type": "code",
   "execution_count": 345,
   "id": "c02a4d3d-34a6-4641-837a-956bc7b3e59f",
   "metadata": {},
   "outputs": [
    {
     "data": {
      "text/html": [
       "<div>\n",
       "<style scoped>\n",
       "    .dataframe tbody tr th:only-of-type {\n",
       "        vertical-align: middle;\n",
       "    }\n",
       "\n",
       "    .dataframe tbody tr th {\n",
       "        vertical-align: top;\n",
       "    }\n",
       "\n",
       "    .dataframe thead th {\n",
       "        text-align: right;\n",
       "    }\n",
       "</style>\n",
       "<table border=\"1\" class=\"dataframe\">\n",
       "  <thead>\n",
       "    <tr style=\"text-align: right;\">\n",
       "      <th></th>\n",
       "      <th>InvoiceNo</th>\n",
       "      <th>StockCode</th>\n",
       "      <th>Description</th>\n",
       "      <th>Quantity</th>\n",
       "      <th>InvoiceDate</th>\n",
       "      <th>UnitPrice</th>\n",
       "      <th>CustomerID</th>\n",
       "      <th>Country</th>\n",
       "      <th>Quantity_log</th>\n",
       "      <th>UnitPrice_log</th>\n",
       "      <th>Quantity_outlier</th>\n",
       "      <th>UnitPrice_outlier</th>\n",
       "      <th>cluster</th>\n",
       "    </tr>\n",
       "  </thead>\n",
       "  <tbody>\n",
       "    <tr>\n",
       "      <th>430</th>\n",
       "      <td>542425</td>\n",
       "      <td>22854</td>\n",
       "      <td>CREAM SWEETHEART EGG HOLDER</td>\n",
       "      <td>4.0</td>\n",
       "      <td>1/28/2011 9:20</td>\n",
       "      <td>4.95</td>\n",
       "      <td>12574.0</td>\n",
       "      <td>France</td>\n",
       "      <td>1.609438</td>\n",
       "      <td>1.783391</td>\n",
       "      <td>0</td>\n",
       "      <td>0</td>\n",
       "      <td>0</td>\n",
       "    </tr>\n",
       "    <tr>\n",
       "      <th>11891</th>\n",
       "      <td>577039</td>\n",
       "      <td>23163</td>\n",
       "      <td>REGENCY SUGAR TONGS</td>\n",
       "      <td>8.0</td>\n",
       "      <td>11/17/2011 13:30</td>\n",
       "      <td>2.49</td>\n",
       "      <td>12539.0</td>\n",
       "      <td>Spain</td>\n",
       "      <td>2.197225</td>\n",
       "      <td>1.249902</td>\n",
       "      <td>0</td>\n",
       "      <td>0</td>\n",
       "      <td>2</td>\n",
       "    </tr>\n",
       "    <tr>\n",
       "      <th>502</th>\n",
       "      <td>551539</td>\n",
       "      <td>23077</td>\n",
       "      <td>DOUGHNUT LIP GLOSS</td>\n",
       "      <td>20.0</td>\n",
       "      <td>5/3/2011 8:40</td>\n",
       "      <td>1.25</td>\n",
       "      <td>12598.0</td>\n",
       "      <td>France</td>\n",
       "      <td>3.044522</td>\n",
       "      <td>0.810930</td>\n",
       "      <td>0</td>\n",
       "      <td>0</td>\n",
       "      <td>1</td>\n",
       "    </tr>\n",
       "  </tbody>\n",
       "</table>\n",
       "</div>"
      ],
      "text/plain": [
       "      InvoiceNo StockCode                  Description  Quantity  \\\n",
       "430      542425     22854  CREAM SWEETHEART EGG HOLDER       4.0   \n",
       "11891    577039     23163          REGENCY SUGAR TONGS       8.0   \n",
       "502      551539     23077          DOUGHNUT LIP GLOSS       20.0   \n",
       "\n",
       "            InvoiceDate  UnitPrice  CustomerID Country  Quantity_log  \\\n",
       "430      1/28/2011 9:20       4.95     12574.0  France      1.609438   \n",
       "11891  11/17/2011 13:30       2.49     12539.0   Spain      2.197225   \n",
       "502       5/3/2011 8:40       1.25     12598.0  France      3.044522   \n",
       "\n",
       "       UnitPrice_log  Quantity_outlier  UnitPrice_outlier  cluster  \n",
       "430         1.783391                 0                  0        0  \n",
       "11891       1.249902                 0                  0        2  \n",
       "502         0.810930                 0                  0        1  "
      ]
     },
     "execution_count": 345,
     "metadata": {},
     "output_type": "execute_result"
    }
   ],
   "source": [
    "df.iloc[min_distance_index]"
   ]
  },
  {
   "cell_type": "code",
   "execution_count": 346,
   "id": "4d1bfec3-85cd-460a-906c-f366cacafe66",
   "metadata": {
    "papermill": {
     "duration": 0.007527,
     "end_time": "2023-01-14T10:05:21.787316",
     "exception": false,
     "start_time": "2023-01-14T10:05:21.779789",
     "status": "completed"
    },
    "tags": []
   },
   "outputs": [
    {
     "name": "stdout",
     "output_type": "stream",
     "text": [
      "각 군집별로 중심점과 가장 가까운 데이터를 도출한 결과, Cluster 0에서는 CREAM SWEETHEART EGG HOLDER, Cluster 1에서는 DOUGHNUT LIP GLOSS, Cluster 2에서는 REGENCY SUGAR TONGS가 대표 상품으로 추천된다.\n"
     ]
    }
   ],
   "source": [
    "print('각 군집별로 중심점과 유클라디안 거리가 가장 가까운 데이터를 도출한 결과, Cluster 0에서는 CREAM SWEETHEART EGG HOLDER, Cluster 1에서는 DOUGHNUT LIP GLOSS, Cluster 2에서는 REGENCY SUGAR TONGS가 대표 상품으로 추천된다.')"
   ]
  },
  {
   "cell_type": "markdown",
   "id": "037be819",
   "metadata": {
    "papermill": {
     "duration": 0.007532,
     "end_time": "2023-01-14T10:05:21.818216",
     "exception": false,
     "start_time": "2023-01-14T10:05:21.810684",
     "status": "completed"
    },
    "tags": []
   },
   "source": [
    "## 2-3. CustomerID가 12413인 고객을 대상으로 상품을 추천할 것"
   ]
  },
  {
   "cell_type": "code",
   "execution_count": 354,
   "id": "4e4c2d0a-984b-46cf-8928-17e08c87a66b",
   "metadata": {},
   "outputs": [
    {
     "data": {
      "text/plain": [
       "0.42105263157894735"
      ]
     },
     "execution_count": 354,
     "metadata": {},
     "output_type": "execute_result"
    }
   ],
   "source": [
    "df.loc[df.CustomerID==12413.0]['cluster'].mean()"
   ]
  },
  {
   "cell_type": "code",
   "execution_count": 355,
   "id": "a56da772",
   "metadata": {
    "papermill": {
     "duration": 0.007591,
     "end_time": "2023-01-14T10:05:21.833697",
     "exception": false,
     "start_time": "2023-01-14T10:05:21.826106",
     "status": "completed"
    },
    "tags": []
   },
   "outputs": [
    {
     "name": "stdout",
     "output_type": "stream",
     "text": [
      "해당 고객은 Cluster 0에 속할 확률이 가장 높기 때문에, CREAM SWEETHEART EGG HOLDER를 추천하는 것이 가장 좋아 보인다.\n"
     ]
    }
   ],
   "source": [
    "print(\"해당 고객은 Cluster 0에 속할 확률이 가장 높기 때문에, CREAM SWEETHEART EGG HOLDER를 추천하는 것이 가장 좋아 보인다.\") "
   ]
  },
  {
   "cell_type": "markdown",
   "id": "f4b529a7",
   "metadata": {
    "papermill": {
     "duration": 0.008309,
     "end_time": "2023-01-14T10:05:21.849770",
     "exception": false,
     "start_time": "2023-01-14T10:05:21.841461",
     "status": "completed"
    },
    "tags": []
   },
   "source": [
    "# 3번\n",
    "### 철강제품의 불량률을 조사하고자 한다. 이 때 불량률은 90%, 추정오차한계가 5% 이내가 되기 위하여 적절한 표본의 크기 중 최소값은 얼마인가?"
   ]
  },
  {
   "cell_type": "code",
   "execution_count": 27,
   "id": "a8b3f7cd-f52c-44e2-82be-e8ddccd50128",
   "metadata": {},
   "outputs": [],
   "source": [
    "import math"
   ]
  },
  {
   "cell_type": "code",
   "execution_count": 360,
   "id": "27ef6366",
   "metadata": {
    "papermill": {
     "duration": 0.008322,
     "end_time": "2023-01-14T10:05:21.866177",
     "exception": false,
     "start_time": "2023-01-14T10:05:21.857855",
     "status": "completed"
    },
    "tags": []
   },
   "outputs": [
    {
     "name": "stdout",
     "output_type": "stream",
     "text": [
      "철강제품의 불량률은 비율 변수이므로, 표본비율의 추정 문제로 판단할 수 있다. 이 때의 오차 한계를 d라고 한다면 표본 크기는 ((Z0.95/d)**2 * p * (1-p))보다 큰 값으로 정의되며, 모비율 p는 0.9로 추정한다.\n",
      "이에 따라 계산한 최소 표본 크기는 139이다.\n"
     ]
    }
   ],
   "source": [
    "print('철강제품의 불량률은 비율 변수이므로, 표본비율의 추정 문제로 판단할 수 있다. 이 때의 오차 한계를 d라고 한다면 표본 크기는 ((Z0.95/d)**2 * p * (1-p))보다 큰 값으로 정의되며, 모비율 p는 0.9로 추정한다.')\n",
    "print(f'이에 따라 계산한 최소 표본 크기는 {math.ceil(((stats.norm.ppf(0.975)/0.05)**2)*(0.9*0.1))}이다.')"
   ]
  },
  {
   "cell_type": "markdown",
   "id": "a58adc92",
   "metadata": {
    "papermill": {
     "duration": 0.007971,
     "end_time": "2023-01-14T10:05:21.883191",
     "exception": false,
     "start_time": "2023-01-14T10:05:21.875220",
     "status": "completed"
    },
    "tags": []
   },
   "source": [
    "# 4번\n",
    "### 다음은 1월부터 9월까지의 은의 가격이다\n",
    "![image](https://github.com/Datamanim/datarepo/blob/main/adp/26/problem2.png?raw=true)"
   ]
  },
  {
   "cell_type": "markdown",
   "id": "241f4fee",
   "metadata": {
    "papermill": {
     "duration": 0.008113,
     "end_time": "2023-01-14T10:05:21.899656",
     "exception": false,
     "start_time": "2023-01-14T10:05:21.891543",
     "status": "completed"
    },
    "tags": []
   },
   "source": [
    "## 4-1 은의 가격 및 이동평균값 3이 설정된 시계열 그래프를 그려라"
   ]
  },
  {
   "cell_type": "code",
   "execution_count": 2,
   "id": "a5ef3988",
   "metadata": {
    "papermill": {
     "duration": 0.008231,
     "end_time": "2023-01-14T10:05:21.916183",
     "exception": false,
     "start_time": "2023-01-14T10:05:21.907952",
     "status": "completed"
    },
    "tags": []
   },
   "outputs": [],
   "source": [
    "silver = pd.DataFrame([12.14, 42.6, 34.4, 35.29, 30.96, 57.12, 37.84, 42.49, 31.38], columns=['USD/oz'])"
   ]
  },
  {
   "cell_type": "code",
   "execution_count": 3,
   "id": "d4572dc6-d875-465d-b82e-06f213358be9",
   "metadata": {},
   "outputs": [
    {
     "data": {
      "text/html": [
       "<div>\n",
       "<style scoped>\n",
       "    .dataframe tbody tr th:only-of-type {\n",
       "        vertical-align: middle;\n",
       "    }\n",
       "\n",
       "    .dataframe tbody tr th {\n",
       "        vertical-align: top;\n",
       "    }\n",
       "\n",
       "    .dataframe thead th {\n",
       "        text-align: right;\n",
       "    }\n",
       "</style>\n",
       "<table border=\"1\" class=\"dataframe\">\n",
       "  <thead>\n",
       "    <tr style=\"text-align: right;\">\n",
       "      <th></th>\n",
       "      <th>USD/oz</th>\n",
       "    </tr>\n",
       "  </thead>\n",
       "  <tbody>\n",
       "    <tr>\n",
       "      <th>0</th>\n",
       "      <td>12.14</td>\n",
       "    </tr>\n",
       "    <tr>\n",
       "      <th>1</th>\n",
       "      <td>42.60</td>\n",
       "    </tr>\n",
       "    <tr>\n",
       "      <th>2</th>\n",
       "      <td>34.40</td>\n",
       "    </tr>\n",
       "    <tr>\n",
       "      <th>3</th>\n",
       "      <td>35.29</td>\n",
       "    </tr>\n",
       "    <tr>\n",
       "      <th>4</th>\n",
       "      <td>30.96</td>\n",
       "    </tr>\n",
       "    <tr>\n",
       "      <th>5</th>\n",
       "      <td>57.12</td>\n",
       "    </tr>\n",
       "    <tr>\n",
       "      <th>6</th>\n",
       "      <td>37.84</td>\n",
       "    </tr>\n",
       "    <tr>\n",
       "      <th>7</th>\n",
       "      <td>42.49</td>\n",
       "    </tr>\n",
       "    <tr>\n",
       "      <th>8</th>\n",
       "      <td>31.38</td>\n",
       "    </tr>\n",
       "  </tbody>\n",
       "</table>\n",
       "</div>"
      ],
      "text/plain": [
       "   USD/oz\n",
       "0   12.14\n",
       "1   42.60\n",
       "2   34.40\n",
       "3   35.29\n",
       "4   30.96\n",
       "5   57.12\n",
       "6   37.84\n",
       "7   42.49\n",
       "8   31.38"
      ]
     },
     "execution_count": 3,
     "metadata": {},
     "output_type": "execute_result"
    }
   ],
   "source": [
    "silver"
   ]
  },
  {
   "cell_type": "code",
   "execution_count": 356,
   "id": "cee33740-a17f-4764-a86c-bbe24ac65f6d",
   "metadata": {},
   "outputs": [
    {
     "name": "stdout",
     "output_type": "stream",
     "text": [
      "이동평균 3 시계열 그래프를 추가로 그리면 아래와 같다. 파란 색이 은의 가격, 빨간 색이 이동평균 3이 적용된 그래프이다.\n"
     ]
    },
    {
     "data": {
      "image/png": "[encoded data removed]",
      "text/plain": [
       "<Figure size 640x480 with 1 Axes>"
      ]
     },
     "metadata": {},
     "output_type": "display_data"
    }
   ],
   "source": [
    "print('이동평균 3 시계열 그래프를 추가로 그리면 아래와 같다. 파란 색이 은의 가격, 빨간 색이 이동평균 3이 적용된 그래프이다.')\n",
    "sns.scatterplot(silver['USD/oz'], color='blue')\n",
    "sns.lineplot(silver['USD/oz'].rolling(3, min_periods=1).mean(), color='red')\n",
    "plt.show()"
   ]
  },
  {
   "cell_type": "markdown",
   "id": "2252b89e",
   "metadata": {
    "papermill": {
     "duration": 0.007971,
     "end_time": "2023-01-14T10:05:21.932932",
     "exception": false,
     "start_time": "2023-01-14T10:05:21.924961",
     "status": "completed"
    },
    "tags": []
   },
   "source": [
    "## 4-2 1월 대비 9월의 은의 가격은 몇 % 올랐는가? 소수점 두번째 자리에서 반올림"
   ]
  },
  {
   "cell_type": "code",
   "execution_count": 17,
   "id": "260a47af-42ff-4345-8768-08964768e3b9",
   "metadata": {},
   "outputs": [
    {
     "name": "stdout",
     "output_type": "stream",
     "text": [
      "1월 대비 9월의 은 가격은 258.5% 상승하였다.\n"
     ]
    }
   ],
   "source": [
    "jan_silver = 12.14\n",
    "sep_silver = 31.38\n",
    "\n",
    "print(f'1월 대비 9월의 은 가격은 {round(sep_silver/jan_silver *100, 1)}% 상승하였다.')"
   ]
  },
  {
   "cell_type": "markdown",
   "id": "e83c9367",
   "metadata": {
    "papermill": {
     "duration": 0.007428,
     "end_time": "2023-01-14T10:05:21.948156",
     "exception": false,
     "start_time": "2023-01-14T10:05:21.940728",
     "status": "completed"
    },
    "tags": []
   },
   "source": [
    "# 5번 A,B,C 자치구별 W 의원에 대한 찬성, 반대 지지를 나타낸다.      \n",
    "# 자치구별 지지율이 같은지에 대해서 검정하라\n",
    "\n"
   ]
  },
  {
   "cell_type": "markdown",
   "id": "6195de57",
   "metadata": {
    "papermill": {
     "duration": 0.007359,
     "end_time": "2023-01-14T10:05:21.963322",
     "exception": false,
     "start_time": "2023-01-14T10:05:21.955963",
     "status": "completed"
    },
    "tags": []
   },
   "source": [
    "![image](https://github.com/Datamanim/datarepo/blob/main/adp/26/problem3.png?raw=true)"
   ]
  },
  {
   "cell_type": "markdown",
   "id": "d7426025",
   "metadata": {
    "papermill": {
     "duration": 0.007845,
     "end_time": "2023-01-14T10:05:21.978966",
     "exception": false,
     "start_time": "2023-01-14T10:05:21.971121",
     "status": "completed"
    },
    "tags": []
   },
   "source": [
    "## 5-1 연구가설과 귀무가설을 설정하라"
   ]
  },
  {
   "cell_type": "code",
   "execution_count": 30,
   "id": "6faa2be4",
   "metadata": {
    "papermill": {
     "duration": 0.00749,
     "end_time": "2023-01-14T10:05:21.994129",
     "exception": false,
     "start_time": "2023-01-14T10:05:21.986639",
     "status": "completed"
    },
    "tags": []
   },
   "outputs": [
    {
     "name": "stdout",
     "output_type": "stream",
     "text": [
      "<답안>\n",
      "H0: A, B, C 자치구별 W의원에 대한 지지율은 같다.\n",
      "H1: A, B, C 자치구별 W의원에 대한 지지율은 차이가 있다.\n"
     ]
    }
   ],
   "source": [
    "print('<답안>')\n",
    "print('H0: A, B, C 자치구별 W의원에 대한 지지율은 독립이다.')\n",
    "print('H1: A, B, C 자치구별 W의원에 대한 지지율은 독립이 아니다.')"
   ]
  },
  {
   "cell_type": "markdown",
   "id": "059226af",
   "metadata": {
    "papermill": {
     "duration": 0.007505,
     "end_time": "2023-01-14T10:05:22.009917",
     "exception": false,
     "start_time": "2023-01-14T10:05:22.002412",
     "status": "completed"
    },
    "tags": []
   },
   "source": [
    "## 5-2 검정통계량 구하고 결론을 내라"
   ]
  },
  {
   "cell_type": "code",
   "execution_count": 361,
   "id": "db8712db-83b8-4adf-98d4-d9df0adfffc3",
   "metadata": {},
   "outputs": [
    {
     "data": {
      "text/html": [
       "<div>\n",
       "<style scoped>\n",
       "    .dataframe tbody tr th:only-of-type {\n",
       "        vertical-align: middle;\n",
       "    }\n",
       "\n",
       "    .dataframe tbody tr th {\n",
       "        vertical-align: top;\n",
       "    }\n",
       "\n",
       "    .dataframe thead th {\n",
       "        text-align: right;\n",
       "    }\n",
       "</style>\n",
       "<table border=\"1\" class=\"dataframe\">\n",
       "  <thead>\n",
       "    <tr style=\"text-align: right;\">\n",
       "      <th></th>\n",
       "      <th>A</th>\n",
       "      <th>B</th>\n",
       "      <th>C</th>\n",
       "    </tr>\n",
       "  </thead>\n",
       "  <tbody>\n",
       "    <tr>\n",
       "      <th>0</th>\n",
       "      <td>176</td>\n",
       "      <td>193</td>\n",
       "      <td>159</td>\n",
       "    </tr>\n",
       "    <tr>\n",
       "      <th>1</th>\n",
       "      <td>124</td>\n",
       "      <td>107</td>\n",
       "      <td>141</td>\n",
       "    </tr>\n",
       "  </tbody>\n",
       "</table>\n",
       "</div>"
      ],
      "text/plain": [
       "     A    B    C\n",
       "0  176  193  159\n",
       "1  124  107  141"
      ]
     },
     "execution_count": 361,
     "metadata": {},
     "output_type": "execute_result"
    }
   ],
   "source": [
    "table = pd.DataFrame({'A':[176, 124], 'B': [193, 107], 'C': [159, 141]})\n",
    "table"
   ]
  },
  {
   "cell_type": "code",
   "execution_count": 362,
   "id": "1090df0a-ecc1-4110-9e2e-ea33203cbaf2",
   "metadata": {},
   "outputs": [],
   "source": [
    "from scipy.stats import chi2_contingency"
   ]
  },
  {
   "cell_type": "code",
   "execution_count": 363,
   "id": "7351d50b-8130-4b17-8a00-c719ed57192f",
   "metadata": {},
   "outputs": [
    {
     "name": "stdout",
     "output_type": "stream",
     "text": [
      "Statistic: 7.945381231671554\n",
      "p-value: 0.01882272023214683\n",
      "df: 2\n",
      "expect: \n",
      " [[176. 176. 176.]\n",
      " [124. 124. 124.]]\n"
     ]
    }
   ],
   "source": [
    "chi, p, df, expect = chi2_contingency(table) \n",
    "print('Statistic:', chi)\n",
    "print('p-value:', p)\n",
    "print('df:', df)\n",
    "print('expect: \\n', expect)"
   ]
  },
  {
   "cell_type": "code",
   "execution_count": 364,
   "id": "79bfb2f3-13c8-4a16-ba87-99b0a4f6a1d2",
   "metadata": {},
   "outputs": [
    {
     "name": "stdout",
     "output_type": "stream",
     "text": [
      "Chi-sq 검정통계량은 7.945381231671554, p-value 0.01882272023214683로 유의수준 0.05 하에서 귀무가설을 기각할 수 없다. A, B, C 자치구별 W의원에 대한 지지율 차이가 있다고 볼 통계적 근거가 없다.\n"
     ]
    }
   ],
   "source": [
    "print(f'Chi-sq 검정통계량은 {chi}, p-value {p}로 유의수준 0.05 하에서 귀무가설을 기각한다. A, B, C 자치구별 W의원에 대한 지지율 차이가 있다고 볼 통계적 근거가 있다.')"
   ]
  },
  {
   "cell_type": "markdown",
   "id": "12b69c8c",
   "metadata": {
    "papermill": {
     "duration": 0.007437,
     "end_time": "2023-01-14T10:05:22.025097",
     "exception": false,
     "start_time": "2023-01-14T10:05:22.017660",
     "status": "completed"
    },
    "tags": []
   },
   "source": [
    "# 6번 \n",
    "## A초등학교 남학생 16명과 여학생 9명의 혈압을 측정한 problem4.csv파일을 가지고 남녀학생의 평균 혈압에 차이가 없는지 분석하라. 단, 남학생과 여학생의 혈압 데이터는 정규분포를 따르며 등분산임을 가정한다."
   ]
  },
  {
   "cell_type": "code",
   "execution_count": 128,
   "id": "ade3c4eb-80d8-4f85-bc22-078a01ce9762",
   "metadata": {},
   "outputs": [
    {
     "data": {
      "text/html": [
       "<div>\n",
       "<style scoped>\n",
       "    .dataframe tbody tr th:only-of-type {\n",
       "        vertical-align: middle;\n",
       "    }\n",
       "\n",
       "    .dataframe tbody tr th {\n",
       "        vertical-align: top;\n",
       "    }\n",
       "\n",
       "    .dataframe thead th {\n",
       "        text-align: right;\n",
       "    }\n",
       "</style>\n",
       "<table border=\"1\" class=\"dataframe\">\n",
       "  <thead>\n",
       "    <tr style=\"text-align: right;\">\n",
       "      <th></th>\n",
       "      <th>gender</th>\n",
       "      <th>pressure</th>\n",
       "    </tr>\n",
       "  </thead>\n",
       "  <tbody>\n",
       "    <tr>\n",
       "      <th>0</th>\n",
       "      <td>male</td>\n",
       "      <td>106.8</td>\n",
       "    </tr>\n",
       "    <tr>\n",
       "      <th>1</th>\n",
       "      <td>male</td>\n",
       "      <td>100.8</td>\n",
       "    </tr>\n",
       "    <tr>\n",
       "      <th>2</th>\n",
       "      <td>male</td>\n",
       "      <td>84.5</td>\n",
       "    </tr>\n",
       "    <tr>\n",
       "      <th>3</th>\n",
       "      <td>male</td>\n",
       "      <td>104.2</td>\n",
       "    </tr>\n",
       "    <tr>\n",
       "      <th>4</th>\n",
       "      <td>male</td>\n",
       "      <td>107.0</td>\n",
       "    </tr>\n",
       "  </tbody>\n",
       "</table>\n",
       "</div>"
      ],
      "text/plain": [
       "  gender  pressure\n",
       "0   male     106.8\n",
       "1   male     100.8\n",
       "2   male      84.5\n",
       "3   male     104.2\n",
       "4   male     107.0"
      ]
     },
     "execution_count": 128,
     "metadata": {},
     "output_type": "execute_result"
    }
   ],
   "source": [
    "df= pd.read_csv('https://raw.githubusercontent.com/Datamanim/datarepo/main/adp/26/pressure.csv')\n",
    "df.head()"
   ]
  },
  {
   "cell_type": "markdown",
   "id": "c39aba49",
   "metadata": {
    "papermill": {
     "duration": 0.007409,
     "end_time": "2023-01-14T10:05:22.040197",
     "exception": false,
     "start_time": "2023-01-14T10:05:22.032788",
     "status": "completed"
    },
    "tags": []
   },
   "source": [
    "## 6-1. 연구가설과 귀무가설 설정하라"
   ]
  },
  {
   "cell_type": "code",
   "execution_count": 129,
   "id": "5bb0238e",
   "metadata": {
    "papermill": {
     "duration": 0.00734,
     "end_time": "2023-01-14T10:05:22.055266",
     "exception": false,
     "start_time": "2023-01-14T10:05:22.047926",
     "status": "completed"
    },
    "tags": []
   },
   "outputs": [
    {
     "name": "stdout",
     "output_type": "stream",
     "text": [
      "<답안>\n",
      "H0: A 초등학교의 남학생과 여학생은 평균 혈압 차이가 없다.\n",
      "H1: A 초등학교의 남학생과 여학생은 평균 혈압 차이가 있다.\n"
     ]
    }
   ],
   "source": [
    "print('<답안>')\n",
    "print('H0: A 초등학교의 남학생과 여학생은 평균 혈압 차이가 없다.')\n",
    "print('H1: A 초등학교의 남학생과 여학생은 평균 혈압 차이가 있다.')"
   ]
  },
  {
   "cell_type": "markdown",
   "id": "48e78ea1",
   "metadata": {
    "papermill": {
     "duration": 0.007547,
     "end_time": "2023-01-14T10:05:22.070636",
     "exception": false,
     "start_time": "2023-01-14T10:05:22.063089",
     "status": "completed"
    },
    "tags": []
   },
   "source": [
    "## 6-2. 통계량을 구하고, 연구가설 채택여부를 기술하라."
   ]
  },
  {
   "cell_type": "code",
   "execution_count": 130,
   "id": "66d0e1e0-eb41-4196-9559-c6d381bfc174",
   "metadata": {},
   "outputs": [
    {
     "data": {
      "text/plain": [
       "Ttest_indResult(statistic=1.598335024574904, pvalue=0.1236171636431485)"
      ]
     },
     "execution_count": 130,
     "metadata": {},
     "output_type": "execute_result"
    }
   ],
   "source": [
    "stats.ttest_ind(df[df.gender=='male']['pressure'], df[df.gender=='female']['pressure'], equal_var=True) "
   ]
  },
  {
   "cell_type": "code",
   "execution_count": 131,
   "id": "7c070ed3-fc49-4ee9-8dd3-654839a5a146",
   "metadata": {},
   "outputs": [
    {
     "name": "stdout",
     "output_type": "stream",
     "text": [
      "남학생과 여학생의 혈압 데이터는 정규분포를 따르고 등분산임을 가정하고 있으며, 표본 개수가 25개로 크지 않으므로 독립된 두 집단의 T-test를 수행할 수 있다.\n",
      "T-test 검정통계량은 1.60, p-value 0.12로 귀무가설을 기각하지 않는다. 따라서 A 초등학교 남학생과 여학생의 평균 혈압 차이가 있다고 볼 통계적 근거가 부족하다.\n"
     ]
    }
   ],
   "source": [
    "print('남학생과 여학생의 혈압 데이터는 정규분포를 따르고 등분산임을 가정하고 있으며, 표본 개수가 25개로 크지 않으므로 독립된 두 집단의 T-test를 수행할 수 있다.')\n",
    "print('T-test 검정통계량은 1.60, p-value 0.12로 귀무가설을 기각하지 않는다. 따라서 A 초등학교 남학생과 여학생의 평균 혈압 차이가 있다고 볼 통계적 근거가 부족하다.')"
   ]
  },
  {
   "cell_type": "markdown",
   "id": "cfa47eee",
   "metadata": {
    "papermill": {
     "duration": 0.008146,
     "end_time": "2023-01-14T10:05:22.101852",
     "exception": false,
     "start_time": "2023-01-14T10:05:22.093706",
     "status": "completed"
    },
    "tags": []
   },
   "source": [
    "## 6-3. 6-2에서 구한 검정 통계량 값을 바탕으로 신뢰구간을 구하라"
   ]
  },
  {
   "cell_type": "code",
   "execution_count": null,
   "id": "9e0a465f",
   "metadata": {
    "papermill": {
     "duration": 0.007707,
     "end_time": "2023-01-14T10:05:22.117715",
     "exception": false,
     "start_time": "2023-01-14T10:05:22.110008",
     "status": "completed"
    },
    "tags": []
   },
   "outputs": [],
   "source": [
    "interval = stats.t.interval(alpha=0.95, df=df, loc=mu, scale=se)"
   ]
  },
  {
   "cell_type": "code",
   "execution_count": 135,
   "id": "545db456-ecb1-4e97-86d2-493af4c20222",
   "metadata": {},
   "outputs": [],
   "source": [
    "data_1 = df[df.gender=='male']['pressure']\n",
    "data_2 = df[df.gender=='female']['pressure']\n",
    "\n",
    "n_1 = len(data_1)\n",
    "n_2 = len(data_2)\n",
    "s_pooled = ((n_1 - 1)*np.var(data_1) + (n_2 - 1)*np.var(data_2)) / (n_1 + n_2 - 2)\n",
    "\n",
    "mean_diff = np.mean(data_1) - np.mean(data_2)"
   ]
  },
  {
   "cell_type": "code",
   "execution_count": 133,
   "id": "20a24514-cfda-4b4d-8efc-2f005d0e03f4",
   "metadata": {},
   "outputs": [
    {
     "data": {
      "text/plain": [
       "(-1.5104370071999504, 14.125714784977756)"
      ]
     },
     "execution_count": 133,
     "metadata": {},
     "output_type": "execute_result"
    }
   ],
   "source": [
    "stats.t.interval(alpha=0.95, df=(n_1 + n_2 - 2), loc=mean_diff, scale=np.sqrt(s_pooled)*np.sqrt((1/n_1) + (1/n_2)))"
   ]
  },
  {
   "cell_type": "code",
   "execution_count": 134,
   "id": "ff7b641f-da43-4d29-b2f0-c3e943d8727c",
   "metadata": {},
   "outputs": [
    {
     "name": "stdout",
     "output_type": "stream",
     "text": [
      "성별 평균 혈압 차이의 95% 신뢰구간은 (-1.51, 14.13) 이다.\n"
     ]
    }
   ],
   "source": [
    "print('성별 평균 혈압 차이의 95% 신뢰구간은 (-1.51, 14.13) 이다.')"
   ]
  },
  {
   "cell_type": "markdown",
   "id": "9f3ccca7",
   "metadata": {
    "papermill": {
     "duration": 0.00743,
     "end_time": "2023-01-14T10:05:22.133259",
     "exception": false,
     "start_time": "2023-01-14T10:05:22.125829",
     "status": "completed"
    },
    "tags": []
   },
   "source": [
    "# 7번 \n",
    "## height(키), weight(몸무게), waist(허리둘레) 컬럼을 가진 problem7.csv파일을 가지고 다음을 분석하라.\n",
    "A시의 20대 남성 411명을 임의로 추출하여 키, 몸무게, 허리둘레를 조사하여 기록한 데이터이다.      \n",
    "이 데이터를 이용하여 20대 남성의 키와 허리둘레가 체중에 영향을 미치는지 알아보고자 한다"
   ]
  },
  {
   "cell_type": "code",
   "execution_count": 107,
   "id": "0dc1b85d-4bd5-469f-be07-cd87940de990",
   "metadata": {},
   "outputs": [
    {
     "data": {
      "text/html": [
       "<div>\n",
       "<style scoped>\n",
       "    .dataframe tbody tr th:only-of-type {\n",
       "        vertical-align: middle;\n",
       "    }\n",
       "\n",
       "    .dataframe tbody tr th {\n",
       "        vertical-align: top;\n",
       "    }\n",
       "\n",
       "    .dataframe thead th {\n",
       "        text-align: right;\n",
       "    }\n",
       "</style>\n",
       "<table border=\"1\" class=\"dataframe\">\n",
       "  <thead>\n",
       "    <tr style=\"text-align: right;\">\n",
       "      <th></th>\n",
       "      <th>height</th>\n",
       "      <th>weight</th>\n",
       "      <th>waistline</th>\n",
       "    </tr>\n",
       "  </thead>\n",
       "  <tbody>\n",
       "    <tr>\n",
       "      <th>0</th>\n",
       "      <td>174.396</td>\n",
       "      <td>72.102</td>\n",
       "      <td>79.3787</td>\n",
       "    </tr>\n",
       "    <tr>\n",
       "      <th>1</th>\n",
       "      <td>179.656</td>\n",
       "      <td>81.255</td>\n",
       "      <td>80.6649</td>\n",
       "    </tr>\n",
       "    <tr>\n",
       "      <th>2</th>\n",
       "      <td>175.079</td>\n",
       "      <td>76.207</td>\n",
       "      <td>80.3166</td>\n",
       "    </tr>\n",
       "    <tr>\n",
       "      <th>3</th>\n",
       "      <td>180.804</td>\n",
       "      <td>81.354</td>\n",
       "      <td>80.8794</td>\n",
       "    </tr>\n",
       "    <tr>\n",
       "      <th>4</th>\n",
       "      <td>177.448</td>\n",
       "      <td>78.768</td>\n",
       "      <td>80.3499</td>\n",
       "    </tr>\n",
       "  </tbody>\n",
       "</table>\n",
       "</div>"
      ],
      "text/plain": [
       "    height  weight  waistline\n",
       "0  174.396  72.102    79.3787\n",
       "1  179.656  81.255    80.6649\n",
       "2  175.079  76.207    80.3166\n",
       "3  180.804  81.354    80.8794\n",
       "4  177.448  78.768    80.3499"
      ]
     },
     "execution_count": 107,
     "metadata": {},
     "output_type": "execute_result"
    }
   ],
   "source": [
    "import pandas as pd\n",
    "\n",
    "df= pd.read_csv('https://raw.githubusercontent.com/Datamanim/datarepo/main/adp/26/problem7.csv')\n",
    "df.head()"
   ]
  },
  {
   "cell_type": "markdown",
   "id": "deb15a5d",
   "metadata": {
    "papermill": {
     "duration": 0.00737,
     "end_time": "2023-01-14T10:05:22.148359",
     "exception": false,
     "start_time": "2023-01-14T10:05:22.140989",
     "status": "completed"
    },
    "tags": []
   },
   "source": [
    "## 7-1 아래 조건을 참고하여 회귀계수(반올림하여 소수점 두자리)를 구하시오.\n",
    "- 베이지안 회귀\n",
    "- 시드넘버 1234로 지정\n",
    "- 1000번의 burn-in 이후 10,000의 MCMC를 수행\n",
    "- 회귀계수의 사전분포는 부적절한 균일분포(inproper uniform prior distribution), 오차항의 분산의 사전분포는 역감마 분포로 지정. 이때, 형상(Shape)모수와 척도(Scale)모수는 각각 0.005로 지정."
   ]
  },
  {
   "cell_type": "code",
   "execution_count": 109,
   "id": "821a5fea-880d-4feb-ad71-1147c317fa72",
   "metadata": {},
   "outputs": [],
   "source": [
    "x = df[[\"height\", \"weight\"]]\n",
    "y = df[\"waistline\"]"
   ]
  },
  {
   "cell_type": "code",
   "execution_count": 110,
   "id": "95cb239c-6e4e-4960-b62e-8ea0b48eb12a",
   "metadata": {},
   "outputs": [],
   "source": [
    "from sklearn.linear_model import ARDRegression"
   ]
  },
  {
   "cell_type": "code",
   "execution_count": 111,
   "id": "2c7bba8c-048f-415b-862b-bff5d7afc8b2",
   "metadata": {},
   "outputs": [
    {
     "data": {
      "text/html": [
       "<style>#sk-container-id-1 {color: black;}#sk-container-id-1 pre{padding: 0;}#sk-container-id-1 div.sk-toggleable {background-color: white;}#sk-container-id-1 label.sk-toggleable__label {cursor: pointer;display: block;width: 100%;margin-bottom: 0;padding: 0.3em;box-sizing: border-box;text-align: center;}#sk-container-id-1 label.sk-toggleable__label-arrow:before {content: \"▸\";float: left;margin-right: 0.25em;color: #696969;}#sk-container-id-1 label.sk-toggleable__label-arrow:hover:before {color: black;}#sk-container-id-1 div.sk-estimator:hover label.sk-toggleable__label-arrow:before {color: black;}#sk-container-id-1 div.sk-toggleable__content {max-height: 0;max-width: 0;overflow: hidden;text-align: left;background-color: #f0f8ff;}#sk-container-id-1 div.sk-toggleable__content pre {margin: 0.2em;color: black;border-radius: 0.25em;background-color: #f0f8ff;}#sk-container-id-1 input.sk-toggleable__control:checked~div.sk-toggleable__content {max-height: 200px;max-width: 100%;overflow: auto;}#sk-container-id-1 input.sk-toggleable__control:checked~label.sk-toggleable__label-arrow:before {content: \"▾\";}#sk-container-id-1 div.sk-estimator input.sk-toggleable__control:checked~label.sk-toggleable__label {background-color: #d4ebff;}#sk-container-id-1 div.sk-label input.sk-toggleable__control:checked~label.sk-toggleable__label {background-color: #d4ebff;}#sk-container-id-1 input.sk-hidden--visually {border: 0;clip: rect(1px 1px 1px 1px);clip: rect(1px, 1px, 1px, 1px);height: 1px;margin: -1px;overflow: hidden;padding: 0;position: absolute;width: 1px;}#sk-container-id-1 div.sk-estimator {font-family: monospace;background-color: #f0f8ff;border: 1px dotted black;border-radius: 0.25em;box-sizing: border-box;margin-bottom: 0.5em;}#sk-container-id-1 div.sk-estimator:hover {background-color: #d4ebff;}#sk-container-id-1 div.sk-parallel-item::after {content: \"\";width: 100%;border-bottom: 1px solid gray;flex-grow: 1;}#sk-container-id-1 div.sk-label:hover label.sk-toggleable__label {background-color: #d4ebff;}#sk-container-id-1 div.sk-serial::before {content: \"\";position: absolute;border-left: 1px solid gray;box-sizing: border-box;top: 0;bottom: 0;left: 50%;z-index: 0;}#sk-container-id-1 div.sk-serial {display: flex;flex-direction: column;align-items: center;background-color: white;padding-right: 0.2em;padding-left: 0.2em;position: relative;}#sk-container-id-1 div.sk-item {position: relative;z-index: 1;}#sk-container-id-1 div.sk-parallel {display: flex;align-items: stretch;justify-content: center;background-color: white;position: relative;}#sk-container-id-1 div.sk-item::before, #sk-container-id-1 div.sk-parallel-item::before {content: \"\";position: absolute;border-left: 1px solid gray;box-sizing: border-box;top: 0;bottom: 0;left: 50%;z-index: -1;}#sk-container-id-1 div.sk-parallel-item {display: flex;flex-direction: column;z-index: 1;position: relative;background-color: white;}#sk-container-id-1 div.sk-parallel-item:first-child::after {align-self: flex-end;width: 50%;}#sk-container-id-1 div.sk-parallel-item:last-child::after {align-self: flex-start;width: 50%;}#sk-container-id-1 div.sk-parallel-item:only-child::after {width: 0;}#sk-container-id-1 div.sk-dashed-wrapped {border: 1px dashed gray;margin: 0 0.4em 0.5em 0.4em;box-sizing: border-box;padding-bottom: 0.4em;background-color: white;}#sk-container-id-1 div.sk-label label {font-family: monospace;font-weight: bold;display: inline-block;line-height: 1.2em;}#sk-container-id-1 div.sk-label-container {text-align: center;}#sk-container-id-1 div.sk-container {/* jupyter's `normalize.less` sets `[hidden] { display: none; }` but bootstrap.min.css set `[hidden] { display: none !important; }` so we also need the `!important` here to be able to override the default hidden behavior on the sphinx rendered scikit-learn.org. See: https://github.com/scikit-learn/scikit-learn/issues/21755 */display: inline-block !important;position: relative;}#sk-container-id-1 div.sk-text-repr-fallback {display: none;}</style><div id=\"sk-container-id-1\" class=\"sk-top-container\"><div class=\"sk-text-repr-fallback\"><pre>ARDRegression(alpha_2=0.005, fit_intercept=False, lambda_2=0.005,\n",
       "              threshold_lambda=10000)</pre><b>In a Jupyter environment, please rerun this cell to show the HTML representation or trust the notebook. <br />On GitHub, the HTML representation is unable to render, please try loading this page with nbviewer.org.</b></div><div class=\"sk-container\" hidden><div class=\"sk-item\"><div class=\"sk-estimator sk-toggleable\"><input class=\"sk-toggleable__control sk-hidden--visually\" id=\"sk-estimator-id-1\" type=\"checkbox\" checked><label for=\"sk-estimator-id-1\" class=\"sk-toggleable__label sk-toggleable__label-arrow\">ARDRegression</label><div class=\"sk-toggleable__content\"><pre>ARDRegression(alpha_2=0.005, fit_intercept=False, lambda_2=0.005,\n",
       "              threshold_lambda=10000)</pre></div></div></div></div></div>"
      ],
      "text/plain": [
       "ARDRegression(alpha_2=0.005, fit_intercept=False, lambda_2=0.005,\n",
       "              threshold_lambda=10000)"
      ]
     },
     "execution_count": 111,
     "metadata": {},
     "output_type": "execute_result"
    }
   ],
   "source": [
    "# 1000번의 burn-in 이후 10,000의 MCMC를 수행\n",
    "# 회귀계수의 사전분포는 부적절한 균일분포(inproper uniform prior distribution),\n",
    "# 오차항의 분산의 사전분포는 역감마 분포로 지정. 형상(Shape)모수와 척도(Scale)모수는 각각 0.005로 지정.\n",
    "ard = ARDRegression(threshold_lambda=10000, alpha_2=0.005, lambda_2=0.005, fit_intercept=False) ## 부적절한 균일분포, inverse gamma를 0.005로 지정\n",
    "ard.fit(x, y)"
   ]
  },
  {
   "cell_type": "code",
   "execution_count": 112,
   "id": "0ec1f716-defe-4b85-a255-05fe3cfb1310",
   "metadata": {},
   "outputs": [
    {
     "data": {
      "text/plain": [
       "array([ 0.54450434, -0.20484747])"
      ]
     },
     "execution_count": 112,
     "metadata": {},
     "output_type": "execute_result"
    }
   ],
   "source": [
    "ard.coef_"
   ]
  },
  {
   "cell_type": "code",
   "execution_count": 114,
   "id": "132d6b5b-0c1b-4485-b3d3-892fdc215c06",
   "metadata": {},
   "outputs": [
    {
     "data": {
      "text/plain": [
       "0.0"
      ]
     },
     "execution_count": 114,
     "metadata": {},
     "output_type": "execute_result"
    }
   ],
   "source": [
    "ard.intercept_"
   ]
  },
  {
   "cell_type": "code",
   "execution_count": 116,
   "id": "fe247d4c-d292-4188-afe1-7b0a4e337b2b",
   "metadata": {},
   "outputs": [
    {
     "name": "stdout",
     "output_type": "stream",
     "text": [
      "베이지안 회귀의 회귀계수는 y=0.55*height -0.21*weight이다\n"
     ]
    }
   ],
   "source": [
    "print('베이지안 회귀의 회귀계수는 y=0.55*height -0.21*weight이다')"
   ]
  },
  {
   "cell_type": "markdown",
   "id": "714d54bc",
   "metadata": {
    "papermill": {
     "duration": 0.007363,
     "end_time": "2023-01-14T10:05:22.178886",
     "exception": false,
     "start_time": "2023-01-14T10:05:22.171523",
     "status": "completed"
    },
    "tags": []
   },
   "source": [
    "## 7-2 7-1에서 만든 모델을 바탕으로 키 180cm, 허리둘레 85cm인 남성의 몸무게를 추정하라"
   ]
  },
  {
   "cell_type": "code",
   "execution_count": 357,
   "id": "36a730fd-f388-4c13-91e3-d6e6a8ed89e1",
   "metadata": {},
   "outputs": [
    {
     "name": "stdout",
     "output_type": "stream",
     "text": [
      "키 180cm, 허리둘레 85cm인 남성의 몸무게 추정 값은 80.59874677098543이다\n",
      "끝. 7페이지\n"
     ]
    },
    {
     "name": "stderr",
     "output_type": "stream",
     "text": [
      "/Users/hyunjoong/Library/Python/3.9/lib/python/site-packages/sklearn/base.py:464: UserWarning: X does not have valid feature names, but ARDRegression was fitted with feature names\n",
      "  warnings.warn(\n"
     ]
    }
   ],
   "source": [
    "print(f'키 180cm, 허리둘레 85cm인 남성의 몸무게 추정 값은 {ard.predict([[180, 85]])[0]}이다')\n",
    "print(\"끝. 7페이지\")"
   ]
  }
 ],
 "metadata": {
  "kernelspec": {
   "display_name": "Python 3 (ipykernel)",
   "language": "python",
   "name": "python3"
  },
  "language_info": {
   "codemirror_mode": {
    "name": "ipython",
    "version": 3
   },
   "file_extension": ".py",
   "mimetype": "text/x-python",
   "name": "python",
   "nbconvert_exporter": "python",
   "pygments_lexer": "ipython3",
   "version": "3.9.6"
  },
  "papermill": {
   "default_parameters": {},
   "duration": 10.692903,
   "end_time": "2023-01-14T10:05:22.824803",
   "environment_variables": {},
   "exception": null,
   "input_path": "__notebook__.ipynb",
   "output_path": "__notebook__.ipynb",
   "parameters": {},
   "start_time": "2023-01-14T10:05:12.131900",
   "version": "2.3.4"
  }
 },
 "nbformat": 4,
 "nbformat_minor": 5
}
