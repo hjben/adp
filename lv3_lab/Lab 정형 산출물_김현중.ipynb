{
 "cells": [
  {
   "cell_type": "code",
   "execution_count": 1,
   "id": "0af68872-8c9a-4946-8a4e-9a593309eaa5",
   "metadata": {},
   "outputs": [],
   "source": [
    "import datetime\n",
    "import warnings\n",
    "\n",
    "import numpy as np\n",
    "import pandas as pd\n",
    "\n",
    "import matplotlib.pyplot as plt\n",
    "import seaborn as sns\n",
    "\n",
    "from sklearn.preprocessing import RobustScaler"
   ]
  },
  {
   "cell_type": "code",
   "execution_count": 2,
   "id": "63e739b4-a1be-46ac-a872-ccb1f4325e09",
   "metadata": {},
   "outputs": [],
   "source": [
    "warnings.filterwarnings('ignore')"
   ]
  },
  {
   "cell_type": "markdown",
   "id": "1d1c8861-fa0a-4d73-be1d-acbab6d31e1c",
   "metadata": {},
   "source": [
    "## Data load & merge"
   ]
  },
  {
   "cell_type": "markdown",
   "id": "cd4c2e8d-2f94-4fc3-a9d8-a755e857f2ef",
   "metadata": {},
   "source": [
    "### Machine data"
   ]
  },
  {
   "cell_type": "code",
   "execution_count": 3,
   "id": "268858d2-2e39-4f49-aeca-c7cac26eddcd",
   "metadata": {},
   "outputs": [
    {
     "data": {
      "text/html": [
       "<div>\n",
       "<style scoped>\n",
       "    .dataframe tbody tr th:only-of-type {\n",
       "        vertical-align: middle;\n",
       "    }\n",
       "\n",
       "    .dataframe tbody tr th {\n",
       "        vertical-align: top;\n",
       "    }\n",
       "\n",
       "    .dataframe thead th {\n",
       "        text-align: right;\n",
       "    }\n",
       "</style>\n",
       "<table border=\"1\" class=\"dataframe\">\n",
       "  <thead>\n",
       "    <tr style=\"text-align: right;\">\n",
       "      <th></th>\n",
       "      <th>M_ID</th>\n",
       "      <th>Type</th>\n",
       "      <th>Age</th>\n",
       "    </tr>\n",
       "  </thead>\n",
       "  <tbody>\n",
       "    <tr>\n",
       "      <th>0</th>\n",
       "      <td>1</td>\n",
       "      <td>3</td>\n",
       "      <td>18</td>\n",
       "    </tr>\n",
       "    <tr>\n",
       "      <th>1</th>\n",
       "      <td>2</td>\n",
       "      <td>4</td>\n",
       "      <td>7</td>\n",
       "    </tr>\n",
       "    <tr>\n",
       "      <th>2</th>\n",
       "      <td>3</td>\n",
       "      <td>3</td>\n",
       "      <td>8</td>\n",
       "    </tr>\n",
       "    <tr>\n",
       "      <th>3</th>\n",
       "      <td>4</td>\n",
       "      <td>3</td>\n",
       "      <td>7</td>\n",
       "    </tr>\n",
       "    <tr>\n",
       "      <th>4</th>\n",
       "      <td>5</td>\n",
       "      <td>3</td>\n",
       "      <td>2</td>\n",
       "    </tr>\n",
       "  </tbody>\n",
       "</table>\n",
       "</div>"
      ],
      "text/plain": [
       "   M_ID  Type  Age\n",
       "0     1     3   18\n",
       "1     2     4    7\n",
       "2     3     3    8\n",
       "3     4     3    7\n",
       "4     5     3    2"
      ]
     },
     "execution_count": 3,
     "metadata": {},
     "output_type": "execute_result"
    }
   ],
   "source": [
    "machine = pd.read_csv('./data/machine_master.csv')\n",
    "machine.head()"
   ]
  },
  {
   "cell_type": "code",
   "execution_count": 4,
   "id": "77b092fd-d746-447d-840a-fc55738fdfc4",
   "metadata": {},
   "outputs": [
    {
     "data": {
      "text/plain": [
       "(100, 3)"
      ]
     },
     "execution_count": 4,
     "metadata": {},
     "output_type": "execute_result"
    }
   ],
   "source": [
    "machine.shape"
   ]
  },
  {
   "cell_type": "code",
   "execution_count": 5,
   "id": "3eb55118-7290-494f-95b6-1364ee625113",
   "metadata": {},
   "outputs": [
    {
     "data": {
      "text/plain": [
       "array([3, 4, 2, 1])"
      ]
     },
     "execution_count": 5,
     "metadata": {},
     "output_type": "execute_result"
    }
   ],
   "source": [
    "# Type는 4가지\n",
    "machine.Type.unique()"
   ]
  },
  {
   "cell_type": "markdown",
   "id": "c599c357-3e0a-4665-ada6-eeb597a589b0",
   "metadata": {},
   "source": [
    "### Maint data"
   ]
  },
  {
   "cell_type": "code",
   "execution_count": 6,
   "id": "d1f947aa-8538-4557-b4cd-32f030aaf735",
   "metadata": {},
   "outputs": [
    {
     "data": {
      "text/html": [
       "<div>\n",
       "<style scoped>\n",
       "    .dataframe tbody tr th:only-of-type {\n",
       "        vertical-align: middle;\n",
       "    }\n",
       "\n",
       "    .dataframe tbody tr th {\n",
       "        vertical-align: top;\n",
       "    }\n",
       "\n",
       "    .dataframe thead th {\n",
       "        text-align: right;\n",
       "    }\n",
       "</style>\n",
       "<table border=\"1\" class=\"dataframe\">\n",
       "  <thead>\n",
       "    <tr style=\"text-align: right;\">\n",
       "      <th></th>\n",
       "      <th>DateTime</th>\n",
       "      <th>M_ID</th>\n",
       "      <th>Comp_ID</th>\n",
       "    </tr>\n",
       "  </thead>\n",
       "  <tbody>\n",
       "    <tr>\n",
       "      <th>0</th>\n",
       "      <td>6/1/2014 6:00:00 AM</td>\n",
       "      <td>1</td>\n",
       "      <td>C02</td>\n",
       "    </tr>\n",
       "    <tr>\n",
       "      <th>1</th>\n",
       "      <td>7/16/2014 6:00:00 AM</td>\n",
       "      <td>1</td>\n",
       "      <td>C04</td>\n",
       "    </tr>\n",
       "    <tr>\n",
       "      <th>2</th>\n",
       "      <td>7/31/2014 6:00:00 AM</td>\n",
       "      <td>1</td>\n",
       "      <td>C03</td>\n",
       "    </tr>\n",
       "    <tr>\n",
       "      <th>3</th>\n",
       "      <td>12/13/2014 6:00:00 AM</td>\n",
       "      <td>1</td>\n",
       "      <td>C01</td>\n",
       "    </tr>\n",
       "    <tr>\n",
       "      <th>4</th>\n",
       "      <td>1/5/2015 6:00:00 AM</td>\n",
       "      <td>1</td>\n",
       "      <td>C04</td>\n",
       "    </tr>\n",
       "  </tbody>\n",
       "</table>\n",
       "</div>"
      ],
      "text/plain": [
       "                DateTime  M_ID Comp_ID\n",
       "0    6/1/2014 6:00:00 AM     1     C02\n",
       "1   7/16/2014 6:00:00 AM     1     C04\n",
       "2   7/31/2014 6:00:00 AM     1     C03\n",
       "3  12/13/2014 6:00:00 AM     1     C01\n",
       "4    1/5/2015 6:00:00 AM     1     C04"
      ]
     },
     "execution_count": 6,
     "metadata": {},
     "output_type": "execute_result"
    }
   ],
   "source": [
    "maint = pd.read_csv('./data/maint_log.csv')\n",
    "maint.head()"
   ]
  },
  {
   "cell_type": "code",
   "execution_count": 7,
   "id": "700c9d38-ff4e-41da-9675-1cd54a90c635",
   "metadata": {},
   "outputs": [
    {
     "data": {
      "text/plain": [
       "(3286, 3)"
      ]
     },
     "execution_count": 7,
     "metadata": {},
     "output_type": "execute_result"
    }
   ],
   "source": [
    "maint.shape"
   ]
  },
  {
   "cell_type": "code",
   "execution_count": 8,
   "id": "da7b6881-df73-4544-b157-a053fb2202a8",
   "metadata": {},
   "outputs": [],
   "source": [
    "# datetime 변환\n",
    "maint['DateTime'] = pd.to_datetime(maint['DateTime'], format=\"%m/%d/%Y %I:%M:%S %p\")"
   ]
  },
  {
   "cell_type": "code",
   "execution_count": 9,
   "id": "9946d134-1f21-4bef-add2-97e68e474d02",
   "metadata": {},
   "outputs": [
    {
     "data": {
      "text/html": [
       "<div>\n",
       "<style scoped>\n",
       "    .dataframe tbody tr th:only-of-type {\n",
       "        vertical-align: middle;\n",
       "    }\n",
       "\n",
       "    .dataframe tbody tr th {\n",
       "        vertical-align: top;\n",
       "    }\n",
       "\n",
       "    .dataframe thead th {\n",
       "        text-align: right;\n",
       "    }\n",
       "</style>\n",
       "<table border=\"1\" class=\"dataframe\">\n",
       "  <thead>\n",
       "    <tr style=\"text-align: right;\">\n",
       "      <th></th>\n",
       "      <th>DateTime</th>\n",
       "      <th>M_ID</th>\n",
       "      <th>Comp_ID</th>\n",
       "    </tr>\n",
       "  </thead>\n",
       "  <tbody>\n",
       "  </tbody>\n",
       "</table>\n",
       "</div>"
      ],
      "text/plain": [
       "Empty DataFrame\n",
       "Columns: [DateTime, M_ID, Comp_ID]\n",
       "Index: []"
      ]
     },
     "execution_count": 9,
     "metadata": {},
     "output_type": "execute_result"
    }
   ],
   "source": [
    "# maint는 모두 06:00 수행됨\n",
    "maint[maint['DateTime'].apply(lambda x:x.strftime('%I:%M:%S')) != '06:00:00']"
   ]
  },
  {
   "cell_type": "code",
   "execution_count": 10,
   "id": "465e5ddb-e3fd-4f63-97ce-3e3d5e278a4a",
   "metadata": {},
   "outputs": [],
   "source": [
    "for ma in maint.Comp_ID.unique():\n",
    "    maint[f'maint_{ma}'] = np.where(maint.Comp_ID==ma, 1, 0)"
   ]
  },
  {
   "cell_type": "code",
   "execution_count": 11,
   "id": "5688b6ac-517e-47c4-9e65-10834f324849",
   "metadata": {},
   "outputs": [
    {
     "data": {
      "text/html": [
       "<div>\n",
       "<style scoped>\n",
       "    .dataframe tbody tr th:only-of-type {\n",
       "        vertical-align: middle;\n",
       "    }\n",
       "\n",
       "    .dataframe tbody tr th {\n",
       "        vertical-align: top;\n",
       "    }\n",
       "\n",
       "    .dataframe thead th {\n",
       "        text-align: right;\n",
       "    }\n",
       "</style>\n",
       "<table border=\"1\" class=\"dataframe\">\n",
       "  <thead>\n",
       "    <tr style=\"text-align: right;\">\n",
       "      <th></th>\n",
       "      <th>DateTime</th>\n",
       "      <th>M_ID</th>\n",
       "      <th>Comp_ID</th>\n",
       "      <th>maint_C02</th>\n",
       "      <th>maint_C04</th>\n",
       "      <th>maint_C03</th>\n",
       "      <th>maint_C01</th>\n",
       "    </tr>\n",
       "  </thead>\n",
       "  <tbody>\n",
       "    <tr>\n",
       "      <th>0</th>\n",
       "      <td>2014-06-01 06:00:00</td>\n",
       "      <td>1</td>\n",
       "      <td>C02</td>\n",
       "      <td>1</td>\n",
       "      <td>0</td>\n",
       "      <td>0</td>\n",
       "      <td>0</td>\n",
       "    </tr>\n",
       "    <tr>\n",
       "      <th>1</th>\n",
       "      <td>2014-07-16 06:00:00</td>\n",
       "      <td>1</td>\n",
       "      <td>C04</td>\n",
       "      <td>0</td>\n",
       "      <td>1</td>\n",
       "      <td>0</td>\n",
       "      <td>0</td>\n",
       "    </tr>\n",
       "    <tr>\n",
       "      <th>2</th>\n",
       "      <td>2014-07-31 06:00:00</td>\n",
       "      <td>1</td>\n",
       "      <td>C03</td>\n",
       "      <td>0</td>\n",
       "      <td>0</td>\n",
       "      <td>1</td>\n",
       "      <td>0</td>\n",
       "    </tr>\n",
       "    <tr>\n",
       "      <th>3</th>\n",
       "      <td>2014-12-13 06:00:00</td>\n",
       "      <td>1</td>\n",
       "      <td>C01</td>\n",
       "      <td>0</td>\n",
       "      <td>0</td>\n",
       "      <td>0</td>\n",
       "      <td>1</td>\n",
       "    </tr>\n",
       "    <tr>\n",
       "      <th>4</th>\n",
       "      <td>2015-01-05 06:00:00</td>\n",
       "      <td>1</td>\n",
       "      <td>C04</td>\n",
       "      <td>0</td>\n",
       "      <td>1</td>\n",
       "      <td>0</td>\n",
       "      <td>0</td>\n",
       "    </tr>\n",
       "    <tr>\n",
       "      <th>...</th>\n",
       "      <td>...</td>\n",
       "      <td>...</td>\n",
       "      <td>...</td>\n",
       "      <td>...</td>\n",
       "      <td>...</td>\n",
       "      <td>...</td>\n",
       "      <td>...</td>\n",
       "    </tr>\n",
       "    <tr>\n",
       "      <th>3281</th>\n",
       "      <td>2015-10-10 06:00:00</td>\n",
       "      <td>100</td>\n",
       "      <td>C03</td>\n",
       "      <td>0</td>\n",
       "      <td>0</td>\n",
       "      <td>1</td>\n",
       "      <td>0</td>\n",
       "    </tr>\n",
       "    <tr>\n",
       "      <th>3282</th>\n",
       "      <td>2015-10-25 06:00:00</td>\n",
       "      <td>100</td>\n",
       "      <td>C04</td>\n",
       "      <td>0</td>\n",
       "      <td>1</td>\n",
       "      <td>0</td>\n",
       "      <td>0</td>\n",
       "    </tr>\n",
       "    <tr>\n",
       "      <th>3283</th>\n",
       "      <td>2015-11-09 06:00:00</td>\n",
       "      <td>100</td>\n",
       "      <td>C04</td>\n",
       "      <td>0</td>\n",
       "      <td>1</td>\n",
       "      <td>0</td>\n",
       "      <td>0</td>\n",
       "    </tr>\n",
       "    <tr>\n",
       "      <th>3284</th>\n",
       "      <td>2015-12-09 06:00:00</td>\n",
       "      <td>100</td>\n",
       "      <td>C02</td>\n",
       "      <td>1</td>\n",
       "      <td>0</td>\n",
       "      <td>0</td>\n",
       "      <td>0</td>\n",
       "    </tr>\n",
       "    <tr>\n",
       "      <th>3285</th>\n",
       "      <td>2015-12-24 06:00:00</td>\n",
       "      <td>100</td>\n",
       "      <td>C02</td>\n",
       "      <td>1</td>\n",
       "      <td>0</td>\n",
       "      <td>0</td>\n",
       "      <td>0</td>\n",
       "    </tr>\n",
       "  </tbody>\n",
       "</table>\n",
       "<p>3286 rows × 7 columns</p>\n",
       "</div>"
      ],
      "text/plain": [
       "                DateTime  M_ID Comp_ID  maint_C02  maint_C04  maint_C03  \\\n",
       "0    2014-06-01 06:00:00     1     C02          1          0          0   \n",
       "1    2014-07-16 06:00:00     1     C04          0          1          0   \n",
       "2    2014-07-31 06:00:00     1     C03          0          0          1   \n",
       "3    2014-12-13 06:00:00     1     C01          0          0          0   \n",
       "4    2015-01-05 06:00:00     1     C04          0          1          0   \n",
       "...                  ...   ...     ...        ...        ...        ...   \n",
       "3281 2015-10-10 06:00:00   100     C03          0          0          1   \n",
       "3282 2015-10-25 06:00:00   100     C04          0          1          0   \n",
       "3283 2015-11-09 06:00:00   100     C04          0          1          0   \n",
       "3284 2015-12-09 06:00:00   100     C02          1          0          0   \n",
       "3285 2015-12-24 06:00:00   100     C02          1          0          0   \n",
       "\n",
       "      maint_C01  \n",
       "0             0  \n",
       "1             0  \n",
       "2             0  \n",
       "3             1  \n",
       "4             0  \n",
       "...         ...  \n",
       "3281          0  \n",
       "3282          0  \n",
       "3283          0  \n",
       "3284          0  \n",
       "3285          0  \n",
       "\n",
       "[3286 rows x 7 columns]"
      ]
     },
     "execution_count": 11,
     "metadata": {},
     "output_type": "execute_result"
    }
   ],
   "source": [
    "maint"
   ]
  },
  {
   "cell_type": "code",
   "execution_count": 12,
   "id": "1fa5cbb0-ee10-4e04-adc1-165246bc638c",
   "metadata": {},
   "outputs": [],
   "source": [
    "# 날짜 / Machine 기준 중복이 있는 행\n",
    "maint_duplicated = pd.concat([maint[maint.duplicated(subset=['DateTime', 'M_ID'], keep='first')], maint[maint.duplicated(subset=['DateTime', 'M_ID'], keep='last')]]).sort_values(by=['DateTime'])"
   ]
  },
  {
   "cell_type": "code",
   "execution_count": 13,
   "id": "f250c1ca-0858-4d0c-8279-e983f8686c29",
   "metadata": {},
   "outputs": [
    {
     "data": {
      "text/html": [
       "<div>\n",
       "<style scoped>\n",
       "    .dataframe tbody tr th:only-of-type {\n",
       "        vertical-align: middle;\n",
       "    }\n",
       "\n",
       "    .dataframe tbody tr th {\n",
       "        vertical-align: top;\n",
       "    }\n",
       "\n",
       "    .dataframe thead th {\n",
       "        text-align: right;\n",
       "    }\n",
       "</style>\n",
       "<table border=\"1\" class=\"dataframe\">\n",
       "  <thead>\n",
       "    <tr style=\"text-align: right;\">\n",
       "      <th></th>\n",
       "      <th>DateTime</th>\n",
       "      <th>M_ID</th>\n",
       "      <th>Comp_ID</th>\n",
       "      <th>maint_C02</th>\n",
       "      <th>maint_C04</th>\n",
       "      <th>maint_C03</th>\n",
       "      <th>maint_C01</th>\n",
       "    </tr>\n",
       "  </thead>\n",
       "  <tbody>\n",
       "    <tr>\n",
       "      <th>628</th>\n",
       "      <td>2014-06-01 06:00:00</td>\n",
       "      <td>20</td>\n",
       "      <td>C01</td>\n",
       "      <td>0</td>\n",
       "      <td>0</td>\n",
       "      <td>0</td>\n",
       "      <td>1</td>\n",
       "    </tr>\n",
       "    <tr>\n",
       "      <th>629</th>\n",
       "      <td>2014-06-01 06:00:00</td>\n",
       "      <td>20</td>\n",
       "      <td>C02</td>\n",
       "      <td>1</td>\n",
       "      <td>0</td>\n",
       "      <td>0</td>\n",
       "      <td>0</td>\n",
       "    </tr>\n",
       "    <tr>\n",
       "      <th>274</th>\n",
       "      <td>2014-06-01 06:00:00</td>\n",
       "      <td>9</td>\n",
       "      <td>C01</td>\n",
       "      <td>0</td>\n",
       "      <td>0</td>\n",
       "      <td>0</td>\n",
       "      <td>1</td>\n",
       "    </tr>\n",
       "    <tr>\n",
       "      <th>275</th>\n",
       "      <td>2014-06-01 06:00:00</td>\n",
       "      <td>9</td>\n",
       "      <td>C02</td>\n",
       "      <td>1</td>\n",
       "      <td>0</td>\n",
       "      <td>0</td>\n",
       "      <td>0</td>\n",
       "    </tr>\n",
       "    <tr>\n",
       "      <th>1778</th>\n",
       "      <td>2014-06-16 06:00:00</td>\n",
       "      <td>55</td>\n",
       "      <td>C01</td>\n",
       "      <td>0</td>\n",
       "      <td>0</td>\n",
       "      <td>0</td>\n",
       "      <td>1</td>\n",
       "    </tr>\n",
       "    <tr>\n",
       "      <th>...</th>\n",
       "      <td>...</td>\n",
       "      <td>...</td>\n",
       "      <td>...</td>\n",
       "      <td>...</td>\n",
       "      <td>...</td>\n",
       "      <td>...</td>\n",
       "      <td>...</td>\n",
       "    </tr>\n",
       "    <tr>\n",
       "      <th>2103</th>\n",
       "      <td>2015-12-31 06:00:00</td>\n",
       "      <td>64</td>\n",
       "      <td>C03</td>\n",
       "      <td>0</td>\n",
       "      <td>0</td>\n",
       "      <td>1</td>\n",
       "      <td>0</td>\n",
       "    </tr>\n",
       "    <tr>\n",
       "      <th>503</th>\n",
       "      <td>2015-12-31 06:00:00</td>\n",
       "      <td>15</td>\n",
       "      <td>C02</td>\n",
       "      <td>1</td>\n",
       "      <td>0</td>\n",
       "      <td>0</td>\n",
       "      <td>0</td>\n",
       "    </tr>\n",
       "    <tr>\n",
       "      <th>2776</th>\n",
       "      <td>2015-12-31 06:00:00</td>\n",
       "      <td>84</td>\n",
       "      <td>C02</td>\n",
       "      <td>1</td>\n",
       "      <td>0</td>\n",
       "      <td>0</td>\n",
       "      <td>0</td>\n",
       "    </tr>\n",
       "    <tr>\n",
       "      <th>2102</th>\n",
       "      <td>2015-12-31 06:00:00</td>\n",
       "      <td>64</td>\n",
       "      <td>C01</td>\n",
       "      <td>0</td>\n",
       "      <td>0</td>\n",
       "      <td>0</td>\n",
       "      <td>1</td>\n",
       "    </tr>\n",
       "    <tr>\n",
       "      <th>2775</th>\n",
       "      <td>2015-12-31 06:00:00</td>\n",
       "      <td>84</td>\n",
       "      <td>C01</td>\n",
       "      <td>0</td>\n",
       "      <td>0</td>\n",
       "      <td>0</td>\n",
       "      <td>1</td>\n",
       "    </tr>\n",
       "  </tbody>\n",
       "</table>\n",
       "<p>1516 rows × 7 columns</p>\n",
       "</div>"
      ],
      "text/plain": [
       "                DateTime  M_ID Comp_ID  maint_C02  maint_C04  maint_C03  \\\n",
       "628  2014-06-01 06:00:00    20     C01          0          0          0   \n",
       "629  2014-06-01 06:00:00    20     C02          1          0          0   \n",
       "274  2014-06-01 06:00:00     9     C01          0          0          0   \n",
       "275  2014-06-01 06:00:00     9     C02          1          0          0   \n",
       "1778 2014-06-16 06:00:00    55     C01          0          0          0   \n",
       "...                  ...   ...     ...        ...        ...        ...   \n",
       "2103 2015-12-31 06:00:00    64     C03          0          0          1   \n",
       "503  2015-12-31 06:00:00    15     C02          1          0          0   \n",
       "2776 2015-12-31 06:00:00    84     C02          1          0          0   \n",
       "2102 2015-12-31 06:00:00    64     C01          0          0          0   \n",
       "2775 2015-12-31 06:00:00    84     C01          0          0          0   \n",
       "\n",
       "      maint_C01  \n",
       "628           1  \n",
       "629           0  \n",
       "274           1  \n",
       "275           0  \n",
       "1778          1  \n",
       "...         ...  \n",
       "2103          0  \n",
       "503           0  \n",
       "2776          0  \n",
       "2102          1  \n",
       "2775          1  \n",
       "\n",
       "[1516 rows x 7 columns]"
      ]
     },
     "execution_count": 13,
     "metadata": {},
     "output_type": "execute_result"
    }
   ],
   "source": [
    "maint_duplicated"
   ]
  },
  {
   "cell_type": "code",
   "execution_count": 14,
   "id": "e7abc4fd-1173-4d99-80b6-1a30cc76f649",
   "metadata": {},
   "outputs": [],
   "source": [
    "# DateTime, M_ID 별 grouping\n",
    "maint_grouped = maint_duplicated.groupby(['DateTime', 'M_ID']).sum()"
   ]
  },
  {
   "cell_type": "code",
   "execution_count": 15,
   "id": "b63c7264-1008-4d2a-89a4-e99dca94a4e0",
   "metadata": {},
   "outputs": [],
   "source": [
    "# Encoding column Merge\n",
    "for i in maint_grouped.index:\n",
    "    sub_df = maint_duplicated[(maint_duplicated['DateTime']==i[0]) & (maint_duplicated['M_ID']==i[1])]\n",
    "    for c in maint_grouped.columns:\n",
    "        maint.loc[sub_df.index, c] = maint_grouped.loc[(i[0], i[1]), c]\n",
    "        \n",
    "maint = maint.drop('Comp_ID', axis=1)\n",
    "maint = maint.drop_duplicates(subset=['DateTime', 'M_ID'])"
   ]
  },
  {
   "cell_type": "code",
   "execution_count": 16,
   "id": "8d220a94-fea0-4769-9156-221d5fea076c",
   "metadata": {},
   "outputs": [
    {
     "data": {
      "text/plain": [
       "(2528, 6)"
      ]
     },
     "execution_count": 16,
     "metadata": {},
     "output_type": "execute_result"
    }
   ],
   "source": [
    "maint.shape"
   ]
  },
  {
   "cell_type": "code",
   "execution_count": 17,
   "id": "362a753e-5859-4d77-adfd-0179374e6c24",
   "metadata": {},
   "outputs": [
    {
     "data": {
      "text/plain": [
       "1    1772\n",
       "2     754\n",
       "4       2\n",
       "dtype: int64"
      ]
     },
     "execution_count": 17,
     "metadata": {},
     "output_type": "execute_result"
    }
   ],
   "source": [
    "# 동시에 발생하는 케이스 발견\n",
    "maint.iloc[:, -4:].sum(axis=1).value_counts()"
   ]
  },
  {
   "cell_type": "markdown",
   "id": "b9e7873e-dbc4-482f-905e-432d5a29e3c4",
   "metadata": {},
   "source": [
    "### Measure data"
   ]
  },
  {
   "cell_type": "code",
   "execution_count": 18,
   "id": "a681d3ba-2d87-45dc-93ae-3c0b4510e5b4",
   "metadata": {},
   "outputs": [
    {
     "data": {
      "text/html": [
       "<div>\n",
       "<style scoped>\n",
       "    .dataframe tbody tr th:only-of-type {\n",
       "        vertical-align: middle;\n",
       "    }\n",
       "\n",
       "    .dataframe tbody tr th {\n",
       "        vertical-align: top;\n",
       "    }\n",
       "\n",
       "    .dataframe thead th {\n",
       "        text-align: right;\n",
       "    }\n",
       "</style>\n",
       "<table border=\"1\" class=\"dataframe\">\n",
       "  <thead>\n",
       "    <tr style=\"text-align: right;\">\n",
       "      <th></th>\n",
       "      <th>DateTime</th>\n",
       "      <th>M_ID</th>\n",
       "      <th>X1</th>\n",
       "      <th>X2</th>\n",
       "      <th>X3</th>\n",
       "      <th>X4</th>\n",
       "    </tr>\n",
       "  </thead>\n",
       "  <tbody>\n",
       "    <tr>\n",
       "      <th>0</th>\n",
       "      <td>1/1/2015 6:00:00 AM</td>\n",
       "      <td>1</td>\n",
       "      <td>176.217853</td>\n",
       "      <td>418.504078</td>\n",
       "      <td>113.077935</td>\n",
       "      <td>45.087686</td>\n",
       "    </tr>\n",
       "    <tr>\n",
       "      <th>1</th>\n",
       "      <td>1/1/2015 7:00:00 AM</td>\n",
       "      <td>1</td>\n",
       "      <td>162.879223</td>\n",
       "      <td>402.747490</td>\n",
       "      <td>95.460525</td>\n",
       "      <td>43.413973</td>\n",
       "    </tr>\n",
       "    <tr>\n",
       "      <th>2</th>\n",
       "      <td>1/1/2015 8:00:00 AM</td>\n",
       "      <td>1</td>\n",
       "      <td>170.989902</td>\n",
       "      <td>527.349825</td>\n",
       "      <td>75.237905</td>\n",
       "      <td>34.178847</td>\n",
       "    </tr>\n",
       "    <tr>\n",
       "      <th>3</th>\n",
       "      <td>1/1/2015 9:00:00 AM</td>\n",
       "      <td>1</td>\n",
       "      <td>162.462833</td>\n",
       "      <td>346.149335</td>\n",
       "      <td>109.248561</td>\n",
       "      <td>41.122144</td>\n",
       "    </tr>\n",
       "    <tr>\n",
       "      <th>4</th>\n",
       "      <td>1/1/2015 10:00:00 AM</td>\n",
       "      <td>1</td>\n",
       "      <td>157.610021</td>\n",
       "      <td>435.376873</td>\n",
       "      <td>111.886648</td>\n",
       "      <td>25.990511</td>\n",
       "    </tr>\n",
       "  </tbody>\n",
       "</table>\n",
       "</div>"
      ],
      "text/plain": [
       "               DateTime  M_ID          X1          X2          X3         X4\n",
       "0   1/1/2015 6:00:00 AM     1  176.217853  418.504078  113.077935  45.087686\n",
       "1   1/1/2015 7:00:00 AM     1  162.879223  402.747490   95.460525  43.413973\n",
       "2   1/1/2015 8:00:00 AM     1  170.989902  527.349825   75.237905  34.178847\n",
       "3   1/1/2015 9:00:00 AM     1  162.462833  346.149335  109.248561  41.122144\n",
       "4  1/1/2015 10:00:00 AM     1  157.610021  435.376873  111.886648  25.990511"
      ]
     },
     "execution_count": 18,
     "metadata": {},
     "output_type": "execute_result"
    }
   ],
   "source": [
    "measures = pd.read_csv('./data/measures_log.csv')\n",
    "measures.head()"
   ]
  },
  {
   "cell_type": "code",
   "execution_count": 19,
   "id": "459a706a-0665-47e8-ba81-780ec7ac4765",
   "metadata": {},
   "outputs": [
    {
     "data": {
      "text/plain": [
       "(876100, 6)"
      ]
     },
     "execution_count": 19,
     "metadata": {},
     "output_type": "execute_result"
    }
   ],
   "source": [
    "measures.shape"
   ]
  },
  {
   "cell_type": "code",
   "execution_count": 20,
   "id": "f44f2829-31ab-4617-843a-b01d1c38bbc3",
   "metadata": {},
   "outputs": [],
   "source": [
    "# datetime 변환\n",
    "measures['DateTime'] = pd.to_datetime(measures['DateTime'], format=\"%m/%d/%Y %I:%M:%S %p\")"
   ]
  },
  {
   "cell_type": "code",
   "execution_count": 21,
   "id": "861f5f95-c5a9-4cef-adc9-3a4b5633be16",
   "metadata": {},
   "outputs": [],
   "source": [
    "def convert_string_to_timedelta(string):\n",
    "    # type: (str) -> datetime.timedelta\n",
    "    if not string:\n",
    "        raise ValueError('{} is not a valid timedelta string'.format(string))\n",
    "    \n",
    "    # get days\n",
    "    tmp = string.split('.')\n",
    "    if len(tmp) == 2:\n",
    "        days = int(tmp[0])\n",
    "        tmp = tmp[1]\n",
    "    elif len(tmp) == 1:\n",
    "        days = 0\n",
    "        tmp = tmp[0]\n",
    "    else:\n",
    "        raise ValueError('{} is not a valid timedelta string'.format(string))\n",
    "    # get total seconds\n",
    "    tmp = tmp.split(':')\n",
    "    if len(tmp) != 3:\n",
    "        raise ValueError('{} is not a valid timedelta string'.format(string))\n",
    "    totsec = int(tmp[2]) + int(tmp[1]) * 60 + int(tmp[0]) * 3600\n",
    "        \n",
    "    return datetime.timedelta(days, totsec)"
   ]
  },
  {
   "cell_type": "code",
   "execution_count": 22,
   "id": "bee20329-5cc0-4e43-9e25-e41d9a98a2ce",
   "metadata": {},
   "outputs": [],
   "source": [
    "# time diff 계산\n",
    "diff_day = measures['DateTime'] - measures['DateTime'].shift(1)\n",
    "\n",
    "# time diff가 1시간 이상인 index 추출\n",
    "big_diff_list = [i for i in diff_day.index if diff_day[i] > convert_string_to_timedelta('01:00:00')]"
   ]
  },
  {
   "cell_type": "code",
   "execution_count": 23,
   "id": "5c3d8a35-ed34-421d-a7d3-dd9c904c467c",
   "metadata": {},
   "outputs": [
    {
     "data": {
      "text/plain": [
       "[]"
      ]
     },
     "execution_count": 23,
     "metadata": {},
     "output_type": "execute_result"
    }
   ],
   "source": [
    "# 튀는 값 없음\n",
    "big_diff_list"
   ]
  },
  {
   "cell_type": "code",
   "execution_count": 24,
   "id": "6ca846d8-af83-4319-8330-2ca6bb5c6270",
   "metadata": {},
   "outputs": [
    {
     "data": {
      "text/html": [
       "<div>\n",
       "<style scoped>\n",
       "    .dataframe tbody tr th:only-of-type {\n",
       "        vertical-align: middle;\n",
       "    }\n",
       "\n",
       "    .dataframe tbody tr th {\n",
       "        vertical-align: top;\n",
       "    }\n",
       "\n",
       "    .dataframe thead th {\n",
       "        text-align: right;\n",
       "    }\n",
       "</style>\n",
       "<table border=\"1\" class=\"dataframe\">\n",
       "  <thead>\n",
       "    <tr style=\"text-align: right;\">\n",
       "      <th></th>\n",
       "      <th>DateTime</th>\n",
       "      <th>M_ID</th>\n",
       "      <th>X1</th>\n",
       "      <th>X2</th>\n",
       "      <th>X3</th>\n",
       "      <th>X4</th>\n",
       "    </tr>\n",
       "  </thead>\n",
       "  <tbody>\n",
       "  </tbody>\n",
       "</table>\n",
       "</div>"
      ],
      "text/plain": [
       "Empty DataFrame\n",
       "Columns: [DateTime, M_ID, X1, X2, X3, X4]\n",
       "Index: []"
      ]
     },
     "execution_count": 24,
     "metadata": {},
     "output_type": "execute_result"
    }
   ],
   "source": [
    "# 측정은 모두 정각에 수행됨\n",
    "measures[measures['DateTime'].apply(lambda x:x.strftime('%M:%S')) != '00:00']"
   ]
  },
  {
   "cell_type": "markdown",
   "id": "307dbad7-6dcb-4f5f-bb03-b3248a94f817",
   "metadata": {},
   "source": [
    "### Error data"
   ]
  },
  {
   "cell_type": "code",
   "execution_count": 25,
   "id": "acfe541b-2274-4619-8995-fbabdfdf0bfc",
   "metadata": {},
   "outputs": [
    {
     "data": {
      "text/html": [
       "<div>\n",
       "<style scoped>\n",
       "    .dataframe tbody tr th:only-of-type {\n",
       "        vertical-align: middle;\n",
       "    }\n",
       "\n",
       "    .dataframe tbody tr th {\n",
       "        vertical-align: top;\n",
       "    }\n",
       "\n",
       "    .dataframe thead th {\n",
       "        text-align: right;\n",
       "    }\n",
       "</style>\n",
       "<table border=\"1\" class=\"dataframe\">\n",
       "  <thead>\n",
       "    <tr style=\"text-align: right;\">\n",
       "      <th></th>\n",
       "      <th>DateTime</th>\n",
       "      <th>M_ID</th>\n",
       "      <th>Err_ID</th>\n",
       "    </tr>\n",
       "  </thead>\n",
       "  <tbody>\n",
       "    <tr>\n",
       "      <th>0</th>\n",
       "      <td>1/3/2015 7:00:00 AM</td>\n",
       "      <td>1</td>\n",
       "      <td>E01</td>\n",
       "    </tr>\n",
       "    <tr>\n",
       "      <th>1</th>\n",
       "      <td>1/3/2015 8:00:00 PM</td>\n",
       "      <td>1</td>\n",
       "      <td>E03</td>\n",
       "    </tr>\n",
       "    <tr>\n",
       "      <th>2</th>\n",
       "      <td>1/4/2015 6:00:00 AM</td>\n",
       "      <td>1</td>\n",
       "      <td>E05</td>\n",
       "    </tr>\n",
       "    <tr>\n",
       "      <th>3</th>\n",
       "      <td>1/10/2015 3:00:00 PM</td>\n",
       "      <td>1</td>\n",
       "      <td>E04</td>\n",
       "    </tr>\n",
       "    <tr>\n",
       "      <th>4</th>\n",
       "      <td>1/22/2015 10:00:00 AM</td>\n",
       "      <td>1</td>\n",
       "      <td>E04</td>\n",
       "    </tr>\n",
       "  </tbody>\n",
       "</table>\n",
       "</div>"
      ],
      "text/plain": [
       "                DateTime  M_ID Err_ID\n",
       "0    1/3/2015 7:00:00 AM     1    E01\n",
       "1    1/3/2015 8:00:00 PM     1    E03\n",
       "2    1/4/2015 6:00:00 AM     1    E05\n",
       "3   1/10/2015 3:00:00 PM     1    E04\n",
       "4  1/22/2015 10:00:00 AM     1    E04"
      ]
     },
     "execution_count": 25,
     "metadata": {},
     "output_type": "execute_result"
    }
   ],
   "source": [
    "error = pd.read_csv('./data/err_log.csv')\n",
    "error.head()"
   ]
  },
  {
   "cell_type": "code",
   "execution_count": 26,
   "id": "5ad4c177-3743-426b-a867-c0b819a8be2b",
   "metadata": {},
   "outputs": [
    {
     "data": {
      "text/plain": [
       "(3919, 3)"
      ]
     },
     "execution_count": 26,
     "metadata": {},
     "output_type": "execute_result"
    }
   ],
   "source": [
    "error.shape"
   ]
  },
  {
   "cell_type": "code",
   "execution_count": 27,
   "id": "189e72cb-08b4-4017-8e4a-680795f8ab98",
   "metadata": {},
   "outputs": [],
   "source": [
    "# datetime 변환\n",
    "error['DateTime'] = pd.to_datetime(error['DateTime'], format=\"%m/%d/%Y %I:%M:%S %p\")"
   ]
  },
  {
   "cell_type": "code",
   "execution_count": 28,
   "id": "52e01c5f-5d53-433f-9ce4-7f33a1755a95",
   "metadata": {},
   "outputs": [],
   "source": [
    "# one-hot\n",
    "for err in error.Err_ID.unique():\n",
    "    error[f'error_{err}'] = np.where(error.Err_ID==err, 1, 0)"
   ]
  },
  {
   "cell_type": "code",
   "execution_count": 29,
   "id": "fd74b656-a4e9-4dd0-a56e-7607b348c247",
   "metadata": {},
   "outputs": [],
   "source": [
    "# 날짜 / Machine 기준 중복이 있는 행\n",
    "error_duplicated = pd.concat([error[error.duplicated(subset=['DateTime', 'M_ID'], keep='first')], error[error.duplicated(subset=['DateTime', 'M_ID'], keep='last')]]).sort_values(by=['DateTime']).drop_duplicates()"
   ]
  },
  {
   "cell_type": "code",
   "execution_count": 30,
   "id": "c98b246a-24bf-4f61-a590-38d91e1a1f0e",
   "metadata": {},
   "outputs": [],
   "source": [
    "# DateTime, M_ID 별 grouping\n",
    "error_grouped = error_duplicated.groupby(['DateTime', 'M_ID']).sum()"
   ]
  },
  {
   "cell_type": "code",
   "execution_count": 31,
   "id": "7a839657-a539-427a-9546-547470034e6f",
   "metadata": {},
   "outputs": [],
   "source": [
    "# Encoding column Merge\n",
    "for i in error_grouped.index:\n",
    "    sub_df = error_duplicated[(error_duplicated['DateTime']==i[0]) & (error_duplicated['M_ID']==i[1])]\n",
    "    for c in error_grouped.columns:\n",
    "        error.loc[sub_df.index, c] = error_grouped.loc[(i[0], i[1]), c]\n",
    "        \n",
    "error = error.drop('Err_ID', axis=1)\n",
    "error = error.drop_duplicates(subset=['DateTime', 'M_ID'])"
   ]
  },
  {
   "cell_type": "code",
   "execution_count": 32,
   "id": "02f65d8c-d1f5-498b-952e-b25437af4c6d",
   "metadata": {},
   "outputs": [
    {
     "data": {
      "text/html": [
       "<div>\n",
       "<style scoped>\n",
       "    .dataframe tbody tr th:only-of-type {\n",
       "        vertical-align: middle;\n",
       "    }\n",
       "\n",
       "    .dataframe tbody tr th {\n",
       "        vertical-align: top;\n",
       "    }\n",
       "\n",
       "    .dataframe thead th {\n",
       "        text-align: right;\n",
       "    }\n",
       "</style>\n",
       "<table border=\"1\" class=\"dataframe\">\n",
       "  <thead>\n",
       "    <tr style=\"text-align: right;\">\n",
       "      <th></th>\n",
       "      <th>DateTime</th>\n",
       "      <th>M_ID</th>\n",
       "      <th>error_E01</th>\n",
       "      <th>error_E03</th>\n",
       "      <th>error_E05</th>\n",
       "      <th>error_E04</th>\n",
       "      <th>error_E02</th>\n",
       "    </tr>\n",
       "  </thead>\n",
       "  <tbody>\n",
       "    <tr>\n",
       "      <th>0</th>\n",
       "      <td>2015-01-03 07:00:00</td>\n",
       "      <td>1</td>\n",
       "      <td>1</td>\n",
       "      <td>0</td>\n",
       "      <td>0</td>\n",
       "      <td>0</td>\n",
       "      <td>0</td>\n",
       "    </tr>\n",
       "    <tr>\n",
       "      <th>1</th>\n",
       "      <td>2015-01-03 20:00:00</td>\n",
       "      <td>1</td>\n",
       "      <td>0</td>\n",
       "      <td>1</td>\n",
       "      <td>0</td>\n",
       "      <td>0</td>\n",
       "      <td>0</td>\n",
       "    </tr>\n",
       "    <tr>\n",
       "      <th>2</th>\n",
       "      <td>2015-01-04 06:00:00</td>\n",
       "      <td>1</td>\n",
       "      <td>0</td>\n",
       "      <td>0</td>\n",
       "      <td>1</td>\n",
       "      <td>0</td>\n",
       "      <td>0</td>\n",
       "    </tr>\n",
       "    <tr>\n",
       "      <th>3</th>\n",
       "      <td>2015-01-10 15:00:00</td>\n",
       "      <td>1</td>\n",
       "      <td>0</td>\n",
       "      <td>0</td>\n",
       "      <td>0</td>\n",
       "      <td>1</td>\n",
       "      <td>0</td>\n",
       "    </tr>\n",
       "    <tr>\n",
       "      <th>4</th>\n",
       "      <td>2015-01-22 10:00:00</td>\n",
       "      <td>1</td>\n",
       "      <td>0</td>\n",
       "      <td>0</td>\n",
       "      <td>0</td>\n",
       "      <td>1</td>\n",
       "      <td>0</td>\n",
       "    </tr>\n",
       "    <tr>\n",
       "      <th>...</th>\n",
       "      <td>...</td>\n",
       "      <td>...</td>\n",
       "      <td>...</td>\n",
       "      <td>...</td>\n",
       "      <td>...</td>\n",
       "      <td>...</td>\n",
       "      <td>...</td>\n",
       "    </tr>\n",
       "    <tr>\n",
       "      <th>3913</th>\n",
       "      <td>2015-11-12 01:00:00</td>\n",
       "      <td>100</td>\n",
       "      <td>1</td>\n",
       "      <td>0</td>\n",
       "      <td>0</td>\n",
       "      <td>0</td>\n",
       "      <td>0</td>\n",
       "    </tr>\n",
       "    <tr>\n",
       "      <th>3914</th>\n",
       "      <td>2015-11-21 08:00:00</td>\n",
       "      <td>100</td>\n",
       "      <td>0</td>\n",
       "      <td>0</td>\n",
       "      <td>0</td>\n",
       "      <td>0</td>\n",
       "      <td>1</td>\n",
       "    </tr>\n",
       "    <tr>\n",
       "      <th>3915</th>\n",
       "      <td>2015-12-04 02:00:00</td>\n",
       "      <td>100</td>\n",
       "      <td>1</td>\n",
       "      <td>0</td>\n",
       "      <td>0</td>\n",
       "      <td>0</td>\n",
       "      <td>0</td>\n",
       "    </tr>\n",
       "    <tr>\n",
       "      <th>3916</th>\n",
       "      <td>2015-12-08 06:00:00</td>\n",
       "      <td>100</td>\n",
       "      <td>0</td>\n",
       "      <td>1</td>\n",
       "      <td>0</td>\n",
       "      <td>0</td>\n",
       "      <td>1</td>\n",
       "    </tr>\n",
       "    <tr>\n",
       "      <th>3918</th>\n",
       "      <td>2015-12-22 03:00:00</td>\n",
       "      <td>100</td>\n",
       "      <td>0</td>\n",
       "      <td>1</td>\n",
       "      <td>0</td>\n",
       "      <td>0</td>\n",
       "      <td>0</td>\n",
       "    </tr>\n",
       "  </tbody>\n",
       "</table>\n",
       "<p>3616 rows × 7 columns</p>\n",
       "</div>"
      ],
      "text/plain": [
       "                DateTime  M_ID  error_E01  error_E03  error_E05  error_E04  \\\n",
       "0    2015-01-03 07:00:00     1          1          0          0          0   \n",
       "1    2015-01-03 20:00:00     1          0          1          0          0   \n",
       "2    2015-01-04 06:00:00     1          0          0          1          0   \n",
       "3    2015-01-10 15:00:00     1          0          0          0          1   \n",
       "4    2015-01-22 10:00:00     1          0          0          0          1   \n",
       "...                  ...   ...        ...        ...        ...        ...   \n",
       "3913 2015-11-12 01:00:00   100          1          0          0          0   \n",
       "3914 2015-11-21 08:00:00   100          0          0          0          0   \n",
       "3915 2015-12-04 02:00:00   100          1          0          0          0   \n",
       "3916 2015-12-08 06:00:00   100          0          1          0          0   \n",
       "3918 2015-12-22 03:00:00   100          0          1          0          0   \n",
       "\n",
       "      error_E02  \n",
       "0             0  \n",
       "1             0  \n",
       "2             0  \n",
       "3             0  \n",
       "4             0  \n",
       "...         ...  \n",
       "3913          0  \n",
       "3914          1  \n",
       "3915          0  \n",
       "3916          1  \n",
       "3918          0  \n",
       "\n",
       "[3616 rows x 7 columns]"
      ]
     },
     "execution_count": 32,
     "metadata": {},
     "output_type": "execute_result"
    }
   ],
   "source": [
    "error"
   ]
  },
  {
   "cell_type": "code",
   "execution_count": 33,
   "id": "2f8f0eba-7db6-4143-a6fc-934e47baa08c",
   "metadata": {},
   "outputs": [
    {
     "data": {
      "text/plain": [
       "1    3342\n",
       "2     245\n",
       "3      29\n",
       "dtype: int64"
      ]
     },
     "execution_count": 33,
     "metadata": {},
     "output_type": "execute_result"
    }
   ],
   "source": [
    "# 동시에 발생하는 에러 케이스 발견\n",
    "error.iloc[:, -5:].sum(axis=1).value_counts()"
   ]
  },
  {
   "cell_type": "markdown",
   "id": "208ab83c-c841-4bcb-8cd8-9d926c3c636c",
   "metadata": {},
   "source": [
    "### Fail data"
   ]
  },
  {
   "cell_type": "code",
   "execution_count": 34,
   "id": "ed7838d1-3cb9-41db-bf69-8a7b24ae6f8f",
   "metadata": {},
   "outputs": [
    {
     "data": {
      "text/html": [
       "<div>\n",
       "<style scoped>\n",
       "    .dataframe tbody tr th:only-of-type {\n",
       "        vertical-align: middle;\n",
       "    }\n",
       "\n",
       "    .dataframe tbody tr th {\n",
       "        vertical-align: top;\n",
       "    }\n",
       "\n",
       "    .dataframe thead th {\n",
       "        text-align: right;\n",
       "    }\n",
       "</style>\n",
       "<table border=\"1\" class=\"dataframe\">\n",
       "  <thead>\n",
       "    <tr style=\"text-align: right;\">\n",
       "      <th></th>\n",
       "      <th>DateTime</th>\n",
       "      <th>M_ID</th>\n",
       "      <th>Comp_ID</th>\n",
       "    </tr>\n",
       "  </thead>\n",
       "  <tbody>\n",
       "    <tr>\n",
       "      <th>0</th>\n",
       "      <td>1/5/2015 6:00:00 AM</td>\n",
       "      <td>1</td>\n",
       "      <td>C04</td>\n",
       "    </tr>\n",
       "    <tr>\n",
       "      <th>1</th>\n",
       "      <td>3/6/2015 6:00:00 AM</td>\n",
       "      <td>1</td>\n",
       "      <td>C01</td>\n",
       "    </tr>\n",
       "    <tr>\n",
       "      <th>2</th>\n",
       "      <td>4/20/2015 6:00:00 AM</td>\n",
       "      <td>1</td>\n",
       "      <td>C02</td>\n",
       "    </tr>\n",
       "    <tr>\n",
       "      <th>3</th>\n",
       "      <td>6/19/2015 6:00:00 AM</td>\n",
       "      <td>1</td>\n",
       "      <td>C04</td>\n",
       "    </tr>\n",
       "    <tr>\n",
       "      <th>4</th>\n",
       "      <td>9/2/2015 6:00:00 AM</td>\n",
       "      <td>1</td>\n",
       "      <td>C04</td>\n",
       "    </tr>\n",
       "  </tbody>\n",
       "</table>\n",
       "</div>"
      ],
      "text/plain": [
       "               DateTime  M_ID Comp_ID\n",
       "0   1/5/2015 6:00:00 AM     1     C04\n",
       "1   3/6/2015 6:00:00 AM     1     C01\n",
       "2  4/20/2015 6:00:00 AM     1     C02\n",
       "3  6/19/2015 6:00:00 AM     1     C04\n",
       "4   9/2/2015 6:00:00 AM     1     C04"
      ]
     },
     "execution_count": 34,
     "metadata": {},
     "output_type": "execute_result"
    }
   ],
   "source": [
    "fail = pd.read_csv('./data/fail_log.csv')\n",
    "fail.head()"
   ]
  },
  {
   "cell_type": "code",
   "execution_count": 35,
   "id": "8de7b34e-06f6-41e1-b354-44ac1285e370",
   "metadata": {},
   "outputs": [],
   "source": [
    "# datetime 변환\n",
    "fail['DateTime'] = pd.to_datetime(fail['DateTime'], format=\"%m/%d/%Y %I:%M:%S %p\")"
   ]
  },
  {
   "cell_type": "code",
   "execution_count": 36,
   "id": "7d558ead-6a95-42a0-8eb4-0c624f6d50e6",
   "metadata": {},
   "outputs": [],
   "source": [
    "for fa in fail.Comp_ID.unique():\n",
    "    fail[f'fail_{fa}'] = np.where(fail.Comp_ID==fa, 1, 0)"
   ]
  },
  {
   "cell_type": "code",
   "execution_count": 37,
   "id": "b4ce5810-65cc-466e-9167-a485806168b2",
   "metadata": {},
   "outputs": [
    {
     "data": {
      "text/html": [
       "<div>\n",
       "<style scoped>\n",
       "    .dataframe tbody tr th:only-of-type {\n",
       "        vertical-align: middle;\n",
       "    }\n",
       "\n",
       "    .dataframe tbody tr th {\n",
       "        vertical-align: top;\n",
       "    }\n",
       "\n",
       "    .dataframe thead th {\n",
       "        text-align: right;\n",
       "    }\n",
       "</style>\n",
       "<table border=\"1\" class=\"dataframe\">\n",
       "  <thead>\n",
       "    <tr style=\"text-align: right;\">\n",
       "      <th></th>\n",
       "      <th>DateTime</th>\n",
       "      <th>M_ID</th>\n",
       "      <th>Comp_ID</th>\n",
       "      <th>fail_C04</th>\n",
       "      <th>fail_C01</th>\n",
       "      <th>fail_C02</th>\n",
       "      <th>fail_C03</th>\n",
       "    </tr>\n",
       "  </thead>\n",
       "  <tbody>\n",
       "    <tr>\n",
       "      <th>0</th>\n",
       "      <td>2015-01-05 06:00:00</td>\n",
       "      <td>1</td>\n",
       "      <td>C04</td>\n",
       "      <td>1</td>\n",
       "      <td>0</td>\n",
       "      <td>0</td>\n",
       "      <td>0</td>\n",
       "    </tr>\n",
       "    <tr>\n",
       "      <th>1</th>\n",
       "      <td>2015-03-06 06:00:00</td>\n",
       "      <td>1</td>\n",
       "      <td>C01</td>\n",
       "      <td>0</td>\n",
       "      <td>1</td>\n",
       "      <td>0</td>\n",
       "      <td>0</td>\n",
       "    </tr>\n",
       "    <tr>\n",
       "      <th>2</th>\n",
       "      <td>2015-04-20 06:00:00</td>\n",
       "      <td>1</td>\n",
       "      <td>C02</td>\n",
       "      <td>0</td>\n",
       "      <td>0</td>\n",
       "      <td>1</td>\n",
       "      <td>0</td>\n",
       "    </tr>\n",
       "    <tr>\n",
       "      <th>3</th>\n",
       "      <td>2015-06-19 06:00:00</td>\n",
       "      <td>1</td>\n",
       "      <td>C04</td>\n",
       "      <td>1</td>\n",
       "      <td>0</td>\n",
       "      <td>0</td>\n",
       "      <td>0</td>\n",
       "    </tr>\n",
       "    <tr>\n",
       "      <th>4</th>\n",
       "      <td>2015-09-02 06:00:00</td>\n",
       "      <td>1</td>\n",
       "      <td>C04</td>\n",
       "      <td>1</td>\n",
       "      <td>0</td>\n",
       "      <td>0</td>\n",
       "      <td>0</td>\n",
       "    </tr>\n",
       "    <tr>\n",
       "      <th>...</th>\n",
       "      <td>...</td>\n",
       "      <td>...</td>\n",
       "      <td>...</td>\n",
       "      <td>...</td>\n",
       "      <td>...</td>\n",
       "      <td>...</td>\n",
       "      <td>...</td>\n",
       "    </tr>\n",
       "    <tr>\n",
       "      <th>756</th>\n",
       "      <td>2015-11-29 06:00:00</td>\n",
       "      <td>99</td>\n",
       "      <td>C03</td>\n",
       "      <td>0</td>\n",
       "      <td>0</td>\n",
       "      <td>0</td>\n",
       "      <td>1</td>\n",
       "    </tr>\n",
       "    <tr>\n",
       "      <th>757</th>\n",
       "      <td>2015-12-14 06:00:00</td>\n",
       "      <td>99</td>\n",
       "      <td>C04</td>\n",
       "      <td>1</td>\n",
       "      <td>0</td>\n",
       "      <td>0</td>\n",
       "      <td>0</td>\n",
       "    </tr>\n",
       "    <tr>\n",
       "      <th>758</th>\n",
       "      <td>2015-02-12 06:00:00</td>\n",
       "      <td>100</td>\n",
       "      <td>C01</td>\n",
       "      <td>0</td>\n",
       "      <td>1</td>\n",
       "      <td>0</td>\n",
       "      <td>0</td>\n",
       "    </tr>\n",
       "    <tr>\n",
       "      <th>759</th>\n",
       "      <td>2015-09-10 06:00:00</td>\n",
       "      <td>100</td>\n",
       "      <td>C01</td>\n",
       "      <td>0</td>\n",
       "      <td>1</td>\n",
       "      <td>0</td>\n",
       "      <td>0</td>\n",
       "    </tr>\n",
       "    <tr>\n",
       "      <th>760</th>\n",
       "      <td>2015-12-09 06:00:00</td>\n",
       "      <td>100</td>\n",
       "      <td>C02</td>\n",
       "      <td>0</td>\n",
       "      <td>0</td>\n",
       "      <td>1</td>\n",
       "      <td>0</td>\n",
       "    </tr>\n",
       "  </tbody>\n",
       "</table>\n",
       "<p>761 rows × 7 columns</p>\n",
       "</div>"
      ],
      "text/plain": [
       "               DateTime  M_ID Comp_ID  fail_C04  fail_C01  fail_C02  fail_C03\n",
       "0   2015-01-05 06:00:00     1     C04         1         0         0         0\n",
       "1   2015-03-06 06:00:00     1     C01         0         1         0         0\n",
       "2   2015-04-20 06:00:00     1     C02         0         0         1         0\n",
       "3   2015-06-19 06:00:00     1     C04         1         0         0         0\n",
       "4   2015-09-02 06:00:00     1     C04         1         0         0         0\n",
       "..                  ...   ...     ...       ...       ...       ...       ...\n",
       "756 2015-11-29 06:00:00    99     C03         0         0         0         1\n",
       "757 2015-12-14 06:00:00    99     C04         1         0         0         0\n",
       "758 2015-02-12 06:00:00   100     C01         0         1         0         0\n",
       "759 2015-09-10 06:00:00   100     C01         0         1         0         0\n",
       "760 2015-12-09 06:00:00   100     C02         0         0         1         0\n",
       "\n",
       "[761 rows x 7 columns]"
      ]
     },
     "execution_count": 37,
     "metadata": {},
     "output_type": "execute_result"
    }
   ],
   "source": [
    "fail"
   ]
  },
  {
   "cell_type": "code",
   "execution_count": 38,
   "id": "9fe7df3e-ba72-4f9c-9abc-86d3300e4455",
   "metadata": {},
   "outputs": [],
   "source": [
    "# 날짜 / Machine 기준 중복이 있는 행\n",
    "fail_duplicated = pd.concat([fail[fail.duplicated(subset=['DateTime', 'M_ID'], keep='first')], fail[fail.duplicated(subset=['DateTime', 'M_ID'], keep='last')]]).sort_values(by=['DateTime']).drop_duplicates()"
   ]
  },
  {
   "cell_type": "code",
   "execution_count": 39,
   "id": "49f7f818-cd94-436a-8bd9-ae3e5167ba76",
   "metadata": {},
   "outputs": [
    {
     "data": {
      "text/html": [
       "<div>\n",
       "<style scoped>\n",
       "    .dataframe tbody tr th:only-of-type {\n",
       "        vertical-align: middle;\n",
       "    }\n",
       "\n",
       "    .dataframe tbody tr th {\n",
       "        vertical-align: top;\n",
       "    }\n",
       "\n",
       "    .dataframe thead th {\n",
       "        text-align: right;\n",
       "    }\n",
       "</style>\n",
       "<table border=\"1\" class=\"dataframe\">\n",
       "  <thead>\n",
       "    <tr style=\"text-align: right;\">\n",
       "      <th></th>\n",
       "      <th>DateTime</th>\n",
       "      <th>M_ID</th>\n",
       "      <th>Comp_ID</th>\n",
       "      <th>fail_C04</th>\n",
       "      <th>fail_C01</th>\n",
       "      <th>fail_C02</th>\n",
       "      <th>fail_C03</th>\n",
       "    </tr>\n",
       "  </thead>\n",
       "  <tbody>\n",
       "    <tr>\n",
       "      <th>95</th>\n",
       "      <td>2015-01-02 03:00:00</td>\n",
       "      <td>16</td>\n",
       "      <td>C03</td>\n",
       "      <td>0</td>\n",
       "      <td>0</td>\n",
       "      <td>0</td>\n",
       "      <td>1</td>\n",
       "    </tr>\n",
       "    <tr>\n",
       "      <th>94</th>\n",
       "      <td>2015-01-02 03:00:00</td>\n",
       "      <td>16</td>\n",
       "      <td>C01</td>\n",
       "      <td>0</td>\n",
       "      <td>1</td>\n",
       "      <td>0</td>\n",
       "      <td>0</td>\n",
       "    </tr>\n",
       "    <tr>\n",
       "      <th>65</th>\n",
       "      <td>2015-01-07 06:00:00</td>\n",
       "      <td>12</td>\n",
       "      <td>C02</td>\n",
       "      <td>0</td>\n",
       "      <td>0</td>\n",
       "      <td>1</td>\n",
       "      <td>0</td>\n",
       "    </tr>\n",
       "    <tr>\n",
       "      <th>64</th>\n",
       "      <td>2015-01-07 06:00:00</td>\n",
       "      <td>12</td>\n",
       "      <td>C01</td>\n",
       "      <td>0</td>\n",
       "      <td>1</td>\n",
       "      <td>0</td>\n",
       "      <td>0</td>\n",
       "    </tr>\n",
       "    <tr>\n",
       "      <th>384</th>\n",
       "      <td>2015-01-19 06:00:00</td>\n",
       "      <td>52</td>\n",
       "      <td>C04</td>\n",
       "      <td>1</td>\n",
       "      <td>0</td>\n",
       "      <td>0</td>\n",
       "      <td>0</td>\n",
       "    </tr>\n",
       "    <tr>\n",
       "      <th>...</th>\n",
       "      <td>...</td>\n",
       "      <td>...</td>\n",
       "      <td>...</td>\n",
       "      <td>...</td>\n",
       "      <td>...</td>\n",
       "      <td>...</td>\n",
       "      <td>...</td>\n",
       "    </tr>\n",
       "    <tr>\n",
       "      <th>291</th>\n",
       "      <td>2015-12-13 06:00:00</td>\n",
       "      <td>38</td>\n",
       "      <td>C04</td>\n",
       "      <td>1</td>\n",
       "      <td>0</td>\n",
       "      <td>0</td>\n",
       "      <td>0</td>\n",
       "    </tr>\n",
       "    <tr>\n",
       "      <th>81</th>\n",
       "      <td>2015-12-22 06:00:00</td>\n",
       "      <td>13</td>\n",
       "      <td>C01</td>\n",
       "      <td>0</td>\n",
       "      <td>1</td>\n",
       "      <td>0</td>\n",
       "      <td>0</td>\n",
       "    </tr>\n",
       "    <tr>\n",
       "      <th>82</th>\n",
       "      <td>2015-12-22 06:00:00</td>\n",
       "      <td>13</td>\n",
       "      <td>C02</td>\n",
       "      <td>0</td>\n",
       "      <td>0</td>\n",
       "      <td>1</td>\n",
       "      <td>0</td>\n",
       "    </tr>\n",
       "    <tr>\n",
       "      <th>608</th>\n",
       "      <td>2015-12-27 06:00:00</td>\n",
       "      <td>83</td>\n",
       "      <td>C02</td>\n",
       "      <td>0</td>\n",
       "      <td>0</td>\n",
       "      <td>1</td>\n",
       "      <td>0</td>\n",
       "    </tr>\n",
       "    <tr>\n",
       "      <th>607</th>\n",
       "      <td>2015-12-27 06:00:00</td>\n",
       "      <td>83</td>\n",
       "      <td>C01</td>\n",
       "      <td>0</td>\n",
       "      <td>1</td>\n",
       "      <td>0</td>\n",
       "      <td>0</td>\n",
       "    </tr>\n",
       "  </tbody>\n",
       "</table>\n",
       "<p>84 rows × 7 columns</p>\n",
       "</div>"
      ],
      "text/plain": [
       "               DateTime  M_ID Comp_ID  fail_C04  fail_C01  fail_C02  fail_C03\n",
       "95  2015-01-02 03:00:00    16     C03         0         0         0         1\n",
       "94  2015-01-02 03:00:00    16     C01         0         1         0         0\n",
       "65  2015-01-07 06:00:00    12     C02         0         0         1         0\n",
       "64  2015-01-07 06:00:00    12     C01         0         1         0         0\n",
       "384 2015-01-19 06:00:00    52     C04         1         0         0         0\n",
       "..                  ...   ...     ...       ...       ...       ...       ...\n",
       "291 2015-12-13 06:00:00    38     C04         1         0         0         0\n",
       "81  2015-12-22 06:00:00    13     C01         0         1         0         0\n",
       "82  2015-12-22 06:00:00    13     C02         0         0         1         0\n",
       "608 2015-12-27 06:00:00    83     C02         0         0         1         0\n",
       "607 2015-12-27 06:00:00    83     C01         0         1         0         0\n",
       "\n",
       "[84 rows x 7 columns]"
      ]
     },
     "execution_count": 39,
     "metadata": {},
     "output_type": "execute_result"
    }
   ],
   "source": [
    "fail_duplicated"
   ]
  },
  {
   "cell_type": "code",
   "execution_count": 40,
   "id": "aa627d2c-f8cc-4dda-a24d-cf4540965f21",
   "metadata": {},
   "outputs": [],
   "source": [
    "# DateTime, M_ID 별 grouping\n",
    "fail_grouped = fail_duplicated.groupby(['DateTime', 'M_ID']).sum()"
   ]
  },
  {
   "cell_type": "code",
   "execution_count": 41,
   "id": "b7e53f7b-5f9d-44dd-9ac9-c03fa77b4b1b",
   "metadata": {},
   "outputs": [],
   "source": [
    "# Encoding column Merge\n",
    "for i in fail_grouped.index:\n",
    "    sub_df = fail_duplicated[(fail_duplicated['DateTime']==i[0]) & (fail_duplicated['M_ID']==i[1])]\n",
    "    for c in fail_grouped.columns:\n",
    "        fail.loc[sub_df.index, c] = fail_grouped.loc[(i[0], i[1]), c]\n",
    "        \n",
    "fail = fail.drop('Comp_ID', axis=1)\n",
    "fail = fail.drop_duplicates(subset=['DateTime', 'M_ID'])"
   ]
  },
  {
   "cell_type": "code",
   "execution_count": 42,
   "id": "13022f67-29f5-4462-ab18-580ce30916a7",
   "metadata": {},
   "outputs": [
    {
     "data": {
      "text/plain": [
       "1    677\n",
       "2     42\n",
       "dtype: int64"
      ]
     },
     "execution_count": 42,
     "metadata": {},
     "output_type": "execute_result"
    }
   ],
   "source": [
    "# fail은 최대 2건까지 발생\n",
    "fail.iloc[:, -4:].sum(axis=1).value_counts()"
   ]
  },
  {
   "cell_type": "code",
   "execution_count": 43,
   "id": "ba8bee6a-c8fe-4efa-bf57-20bb99fa1ccc",
   "metadata": {},
   "outputs": [
    {
     "data": {
      "text/html": [
       "<div>\n",
       "<style scoped>\n",
       "    .dataframe tbody tr th:only-of-type {\n",
       "        vertical-align: middle;\n",
       "    }\n",
       "\n",
       "    .dataframe tbody tr th {\n",
       "        vertical-align: top;\n",
       "    }\n",
       "\n",
       "    .dataframe thead th {\n",
       "        text-align: right;\n",
       "    }\n",
       "</style>\n",
       "<table border=\"1\" class=\"dataframe\">\n",
       "  <thead>\n",
       "    <tr style=\"text-align: right;\">\n",
       "      <th></th>\n",
       "      <th>DateTime</th>\n",
       "      <th>M_ID</th>\n",
       "      <th>fail_C04</th>\n",
       "      <th>fail_C01</th>\n",
       "      <th>fail_C02</th>\n",
       "      <th>fail_C03</th>\n",
       "    </tr>\n",
       "  </thead>\n",
       "  <tbody>\n",
       "    <tr>\n",
       "      <th>94</th>\n",
       "      <td>2015-01-02 03:00:00</td>\n",
       "      <td>16</td>\n",
       "      <td>0</td>\n",
       "      <td>1</td>\n",
       "      <td>0</td>\n",
       "      <td>1</td>\n",
       "    </tr>\n",
       "    <tr>\n",
       "      <th>107</th>\n",
       "      <td>2015-01-02 03:00:00</td>\n",
       "      <td>17</td>\n",
       "      <td>1</td>\n",
       "      <td>0</td>\n",
       "      <td>0</td>\n",
       "      <td>0</td>\n",
       "    </tr>\n",
       "    <tr>\n",
       "      <th>161</th>\n",
       "      <td>2015-01-02 03:00:00</td>\n",
       "      <td>22</td>\n",
       "      <td>0</td>\n",
       "      <td>1</td>\n",
       "      <td>0</td>\n",
       "      <td>0</td>\n",
       "    </tr>\n",
       "    <tr>\n",
       "      <th>256</th>\n",
       "      <td>2015-01-02 03:00:00</td>\n",
       "      <td>35</td>\n",
       "      <td>0</td>\n",
       "      <td>1</td>\n",
       "      <td>0</td>\n",
       "      <td>0</td>\n",
       "    </tr>\n",
       "    <tr>\n",
       "      <th>331</th>\n",
       "      <td>2015-01-02 03:00:00</td>\n",
       "      <td>45</td>\n",
       "      <td>0</td>\n",
       "      <td>1</td>\n",
       "      <td>0</td>\n",
       "      <td>0</td>\n",
       "    </tr>\n",
       "    <tr>\n",
       "      <th>373</th>\n",
       "      <td>2015-01-02 03:00:00</td>\n",
       "      <td>51</td>\n",
       "      <td>0</td>\n",
       "      <td>1</td>\n",
       "      <td>0</td>\n",
       "      <td>0</td>\n",
       "    </tr>\n",
       "    <tr>\n",
       "      <th>409</th>\n",
       "      <td>2015-01-02 03:00:00</td>\n",
       "      <td>56</td>\n",
       "      <td>0</td>\n",
       "      <td>0</td>\n",
       "      <td>0</td>\n",
       "      <td>1</td>\n",
       "    </tr>\n",
       "    <tr>\n",
       "      <th>422</th>\n",
       "      <td>2015-01-02 03:00:00</td>\n",
       "      <td>58</td>\n",
       "      <td>0</td>\n",
       "      <td>0</td>\n",
       "      <td>1</td>\n",
       "      <td>0</td>\n",
       "    </tr>\n",
       "    <tr>\n",
       "      <th>430</th>\n",
       "      <td>2015-01-02 03:00:00</td>\n",
       "      <td>59</td>\n",
       "      <td>0</td>\n",
       "      <td>1</td>\n",
       "      <td>0</td>\n",
       "      <td>0</td>\n",
       "    </tr>\n",
       "    <tr>\n",
       "      <th>523</th>\n",
       "      <td>2015-01-02 03:00:00</td>\n",
       "      <td>73</td>\n",
       "      <td>0</td>\n",
       "      <td>0</td>\n",
       "      <td>1</td>\n",
       "      <td>0</td>\n",
       "    </tr>\n",
       "    <tr>\n",
       "      <th>568</th>\n",
       "      <td>2015-01-02 03:00:00</td>\n",
       "      <td>79</td>\n",
       "      <td>0</td>\n",
       "      <td>1</td>\n",
       "      <td>0</td>\n",
       "      <td>0</td>\n",
       "    </tr>\n",
       "    <tr>\n",
       "      <th>578</th>\n",
       "      <td>2015-01-02 03:00:00</td>\n",
       "      <td>80</td>\n",
       "      <td>0</td>\n",
       "      <td>0</td>\n",
       "      <td>1</td>\n",
       "      <td>0</td>\n",
       "    </tr>\n",
       "    <tr>\n",
       "      <th>595</th>\n",
       "      <td>2015-01-02 03:00:00</td>\n",
       "      <td>83</td>\n",
       "      <td>1</td>\n",
       "      <td>0</td>\n",
       "      <td>0</td>\n",
       "      <td>0</td>\n",
       "    </tr>\n",
       "    <tr>\n",
       "      <th>627</th>\n",
       "      <td>2015-01-02 03:00:00</td>\n",
       "      <td>86</td>\n",
       "      <td>0</td>\n",
       "      <td>1</td>\n",
       "      <td>0</td>\n",
       "      <td>0</td>\n",
       "    </tr>\n",
       "    <tr>\n",
       "      <th>631</th>\n",
       "      <td>2015-01-02 03:00:00</td>\n",
       "      <td>87</td>\n",
       "      <td>0</td>\n",
       "      <td>1</td>\n",
       "      <td>0</td>\n",
       "      <td>0</td>\n",
       "    </tr>\n",
       "    <tr>\n",
       "      <th>690</th>\n",
       "      <td>2015-01-02 03:00:00</td>\n",
       "      <td>94</td>\n",
       "      <td>1</td>\n",
       "      <td>0</td>\n",
       "      <td>0</td>\n",
       "      <td>0</td>\n",
       "    </tr>\n",
       "    <tr>\n",
       "      <th>739</th>\n",
       "      <td>2015-01-02 03:00:00</td>\n",
       "      <td>99</td>\n",
       "      <td>0</td>\n",
       "      <td>0</td>\n",
       "      <td>0</td>\n",
       "      <td>1</td>\n",
       "    </tr>\n",
       "  </tbody>\n",
       "</table>\n",
       "</div>"
      ],
      "text/plain": [
       "               DateTime  M_ID  fail_C04  fail_C01  fail_C02  fail_C03\n",
       "94  2015-01-02 03:00:00    16         0         1         0         1\n",
       "107 2015-01-02 03:00:00    17         1         0         0         0\n",
       "161 2015-01-02 03:00:00    22         0         1         0         0\n",
       "256 2015-01-02 03:00:00    35         0         1         0         0\n",
       "331 2015-01-02 03:00:00    45         0         1         0         0\n",
       "373 2015-01-02 03:00:00    51         0         1         0         0\n",
       "409 2015-01-02 03:00:00    56         0         0         0         1\n",
       "422 2015-01-02 03:00:00    58         0         0         1         0\n",
       "430 2015-01-02 03:00:00    59         0         1         0         0\n",
       "523 2015-01-02 03:00:00    73         0         0         1         0\n",
       "568 2015-01-02 03:00:00    79         0         1         0         0\n",
       "578 2015-01-02 03:00:00    80         0         0         1         0\n",
       "595 2015-01-02 03:00:00    83         1         0         0         0\n",
       "627 2015-01-02 03:00:00    86         0         1         0         0\n",
       "631 2015-01-02 03:00:00    87         0         1         0         0\n",
       "690 2015-01-02 03:00:00    94         1         0         0         0\n",
       "739 2015-01-02 03:00:00    99         0         0         0         1"
      ]
     },
     "execution_count": 43,
     "metadata": {},
     "output_type": "execute_result"
    }
   ],
   "source": [
    "# 03:00에 fail 이력이 찍힌 경우가 있음. 이 날에 component 교체가 있었는지 확인 필요\n",
    "fail[fail['DateTime'].apply(lambda x:x.strftime('%I:%M:%S')) != '06:00:00']"
   ]
  },
  {
   "cell_type": "markdown",
   "id": "b83f30b8-2cef-4df4-aacf-4845b3832678",
   "metadata": {},
   "source": [
    "### Data Merge"
   ]
  },
  {
   "cell_type": "code",
   "execution_count": 44,
   "id": "02302874-c7d4-462a-8a0d-5b26f879ee9b",
   "metadata": {},
   "outputs": [],
   "source": [
    "measure_data = pd.merge(measures, machine, how='left', on='M_ID')\n",
    "measure_data = pd.merge(measure_data, maint, how='left', on=['DateTime', 'M_ID'])\n",
    "measure_data = pd.merge(measure_data, error, how='left', on=['DateTime', 'M_ID'])\n",
    "measure_data = pd.merge(measure_data, fail, how='left', on=['DateTime', 'M_ID'])"
   ]
  },
  {
   "cell_type": "code",
   "execution_count": 45,
   "id": "71ef86cf-e702-424b-a7f8-e7c73374b5b8",
   "metadata": {},
   "outputs": [],
   "source": [
    "# Fill Categorical data's NA\n",
    "measure_data.iloc[:, 8:] = measure_data.iloc[:, 8:].fillna(0).astype(int)"
   ]
  },
  {
   "cell_type": "code",
   "execution_count": 46,
   "id": "c2679ec8-df35-42bb-ae23-2a4646c36f1a",
   "metadata": {},
   "outputs": [],
   "source": [
    "component = ['C01', 'C02', 'C03', 'C04']\n",
    "fail_col = ['fail_' + c for c in component]\n",
    "maint_col = ['maint_' + c for c in component]\n",
    "error_col = ['error_' + e for e in ['E01', 'E02', 'E03', 'E04', 'E05']]"
   ]
  },
  {
   "cell_type": "code",
   "execution_count": 47,
   "id": "d4255e7f-38ff-4a4b-ba83-b6e94633a000",
   "metadata": {},
   "outputs": [],
   "source": [
    "maint_check = measure_data.loc[:, ['DateTime', 'M_ID'] + maint_col + fail_col]"
   ]
  },
  {
   "cell_type": "code",
   "execution_count": 48,
   "id": "334ac16b-430c-4c15-9e41-6ede602a041d",
   "metadata": {},
   "outputs": [
    {
     "data": {
      "text/plain": [
       "array([16, 17, 22, 35, 45, 51, 56, 58, 59, 73, 79, 80, 83, 86, 87, 94, 99])"
      ]
     },
     "execution_count": 48,
     "metadata": {},
     "output_type": "execute_result"
    }
   ],
   "source": [
    "# 03:00에 fail log가 있는 Machine\n",
    "maint_check[maint_check.DateTime=='2015-01-02 03:00:00'][maint_check.iloc[:, 2:].any(axis=1)].M_ID.unique()"
   ]
  },
  {
   "cell_type": "code",
   "execution_count": 49,
   "id": "33b5a3be-eb3f-4e85-8332-36e2d3b35002",
   "metadata": {},
   "outputs": [
    {
     "data": {
      "text/plain": [
       "17"
      ]
     },
     "execution_count": 49,
     "metadata": {},
     "output_type": "execute_result"
    }
   ],
   "source": [
    "len(maint_check[maint_check.DateTime=='2015-01-02 03:00:00'][maint_check.iloc[:, 2:].any(axis=1)])"
   ]
  },
  {
   "cell_type": "code",
   "execution_count": 50,
   "id": "3fa63269-dbce-46a1-b7db-20bcf7631639",
   "metadata": {},
   "outputs": [
    {
     "data": {
      "text/plain": [
       "array([24, 29, 68, 73, 79, 81])"
      ]
     },
     "execution_count": 50,
     "metadata": {},
     "output_type": "execute_result"
    }
   ],
   "source": [
    "# 같은 날 06:00에 fail log가 있는 Machine\n",
    "# 73, 79는 겹침\n",
    "maint_check[maint_check.DateTime=='2015-01-02 06:00:00'][maint_check.iloc[:, 2:].any(axis=1)].M_ID.unique()"
   ]
  },
  {
   "cell_type": "code",
   "execution_count": 51,
   "id": "fed5fca5-65d5-480b-9744-3e5f3d7b957b",
   "metadata": {},
   "outputs": [
    {
     "data": {
      "text/html": [
       "<div>\n",
       "<style scoped>\n",
       "    .dataframe tbody tr th:only-of-type {\n",
       "        vertical-align: middle;\n",
       "    }\n",
       "\n",
       "    .dataframe tbody tr th {\n",
       "        vertical-align: top;\n",
       "    }\n",
       "\n",
       "    .dataframe thead th {\n",
       "        text-align: right;\n",
       "    }\n",
       "</style>\n",
       "<table border=\"1\" class=\"dataframe\">\n",
       "  <thead>\n",
       "    <tr style=\"text-align: right;\">\n",
       "      <th></th>\n",
       "      <th>DateTime</th>\n",
       "      <th>M_ID</th>\n",
       "      <th>maint_C01</th>\n",
       "      <th>maint_C02</th>\n",
       "      <th>maint_C03</th>\n",
       "      <th>maint_C04</th>\n",
       "      <th>fail_C01</th>\n",
       "      <th>fail_C02</th>\n",
       "      <th>fail_C03</th>\n",
       "      <th>fail_C04</th>\n",
       "    </tr>\n",
       "  </thead>\n",
       "  <tbody>\n",
       "    <tr>\n",
       "      <th>201527</th>\n",
       "      <td>2015-01-02 06:00:00</td>\n",
       "      <td>24</td>\n",
       "      <td>1</td>\n",
       "      <td>1</td>\n",
       "      <td>0</td>\n",
       "      <td>0</td>\n",
       "      <td>1</td>\n",
       "      <td>0</td>\n",
       "      <td>0</td>\n",
       "      <td>0</td>\n",
       "    </tr>\n",
       "    <tr>\n",
       "      <th>245332</th>\n",
       "      <td>2015-01-02 06:00:00</td>\n",
       "      <td>29</td>\n",
       "      <td>0</td>\n",
       "      <td>1</td>\n",
       "      <td>0</td>\n",
       "      <td>0</td>\n",
       "      <td>0</td>\n",
       "      <td>0</td>\n",
       "      <td>0</td>\n",
       "      <td>0</td>\n",
       "    </tr>\n",
       "    <tr>\n",
       "      <th>587011</th>\n",
       "      <td>2015-01-02 06:00:00</td>\n",
       "      <td>68</td>\n",
       "      <td>1</td>\n",
       "      <td>0</td>\n",
       "      <td>0</td>\n",
       "      <td>0</td>\n",
       "      <td>0</td>\n",
       "      <td>0</td>\n",
       "      <td>0</td>\n",
       "      <td>0</td>\n",
       "    </tr>\n",
       "    <tr>\n",
       "      <th>630816</th>\n",
       "      <td>2015-01-02 06:00:00</td>\n",
       "      <td>73</td>\n",
       "      <td>1</td>\n",
       "      <td>0</td>\n",
       "      <td>1</td>\n",
       "      <td>0</td>\n",
       "      <td>0</td>\n",
       "      <td>0</td>\n",
       "      <td>1</td>\n",
       "      <td>0</td>\n",
       "    </tr>\n",
       "    <tr>\n",
       "      <th>683382</th>\n",
       "      <td>2015-01-02 06:00:00</td>\n",
       "      <td>79</td>\n",
       "      <td>0</td>\n",
       "      <td>0</td>\n",
       "      <td>1</td>\n",
       "      <td>0</td>\n",
       "      <td>0</td>\n",
       "      <td>0</td>\n",
       "      <td>0</td>\n",
       "      <td>0</td>\n",
       "    </tr>\n",
       "    <tr>\n",
       "      <th>700904</th>\n",
       "      <td>2015-01-02 06:00:00</td>\n",
       "      <td>81</td>\n",
       "      <td>1</td>\n",
       "      <td>0</td>\n",
       "      <td>1</td>\n",
       "      <td>0</td>\n",
       "      <td>1</td>\n",
       "      <td>0</td>\n",
       "      <td>0</td>\n",
       "      <td>0</td>\n",
       "    </tr>\n",
       "  </tbody>\n",
       "</table>\n",
       "</div>"
      ],
      "text/plain": [
       "                  DateTime  M_ID  maint_C01  maint_C02  maint_C03  maint_C04  \\\n",
       "201527 2015-01-02 06:00:00    24          1          1          0          0   \n",
       "245332 2015-01-02 06:00:00    29          0          1          0          0   \n",
       "587011 2015-01-02 06:00:00    68          1          0          0          0   \n",
       "630816 2015-01-02 06:00:00    73          1          0          1          0   \n",
       "683382 2015-01-02 06:00:00    79          0          0          1          0   \n",
       "700904 2015-01-02 06:00:00    81          1          0          1          0   \n",
       "\n",
       "        fail_C01  fail_C02  fail_C03  fail_C04  \n",
       "201527         1         0         0         0  \n",
       "245332         0         0         0         0  \n",
       "587011         0         0         0         0  \n",
       "630816         0         0         1         0  \n",
       "683382         0         0         0         0  \n",
       "700904         1         0         0         0  "
      ]
     },
     "execution_count": 51,
     "metadata": {},
     "output_type": "execute_result"
    }
   ],
   "source": [
    "# 기존의 06:00 data\n",
    "maint_check[maint_check.DateTime=='2015-01-02 06:00:00'][maint_check.iloc[:, 2:].any(axis=1)]"
   ]
  },
  {
   "cell_type": "code",
   "execution_count": 52,
   "id": "9ced3aae-c9f5-4030-a076-3405e20430b7",
   "metadata": {},
   "outputs": [],
   "source": [
    "# 03:00의 fail data를 06:00으로 이동\n",
    "for i in maint_check[maint_check.DateTime=='2015-01-02 03:00:00'][maint_check.iloc[:, 2:].any(axis=1)].index:\n",
    "    fail_any_series = pd.DataFrame([maint_check.loc[i, fail_col], maint_check.loc[i + 3, fail_col]]).any()\n",
    "    for col in fail_col:\n",
    "        measure_data.loc[i + 3, col] = np.where(fail_any_series[col], 1, 0)\n",
    "        measure_data.loc[i, col] = 0"
   ]
  },
  {
   "cell_type": "code",
   "execution_count": 53,
   "id": "d5d623b7-5010-41e6-9d80-e5d915674661",
   "metadata": {},
   "outputs": [
    {
     "data": {
      "text/html": [
       "<div>\n",
       "<style scoped>\n",
       "    .dataframe tbody tr th:only-of-type {\n",
       "        vertical-align: middle;\n",
       "    }\n",
       "\n",
       "    .dataframe tbody tr th {\n",
       "        vertical-align: top;\n",
       "    }\n",
       "\n",
       "    .dataframe thead th {\n",
       "        text-align: right;\n",
       "    }\n",
       "</style>\n",
       "<table border=\"1\" class=\"dataframe\">\n",
       "  <thead>\n",
       "    <tr style=\"text-align: right;\">\n",
       "      <th></th>\n",
       "      <th>DateTime</th>\n",
       "      <th>M_ID</th>\n",
       "      <th>maint_C01</th>\n",
       "      <th>maint_C02</th>\n",
       "      <th>maint_C03</th>\n",
       "      <th>maint_C04</th>\n",
       "      <th>fail_C01</th>\n",
       "      <th>fail_C02</th>\n",
       "      <th>fail_C03</th>\n",
       "      <th>fail_C04</th>\n",
       "    </tr>\n",
       "  </thead>\n",
       "  <tbody>\n",
       "  </tbody>\n",
       "</table>\n",
       "</div>"
      ],
      "text/plain": [
       "Empty DataFrame\n",
       "Columns: [DateTime, M_ID, maint_C01, maint_C02, maint_C03, maint_C04, fail_C01, fail_C02, fail_C03, fail_C04]\n",
       "Index: []"
      ]
     },
     "execution_count": 53,
     "metadata": {},
     "output_type": "execute_result"
    }
   ],
   "source": [
    "# 다시 check\n",
    "maint_check = measure_data.loc[:, ['DateTime', 'M_ID'] + maint_col + fail_col]\n",
    "maint_check[maint_check.DateTime=='2015-01-02 03:00:00'][maint_check.iloc[:, 2:].any(axis=1)]"
   ]
  },
  {
   "cell_type": "code",
   "execution_count": 54,
   "id": "b0b6697b-6efe-44b9-9b8f-d235f53a26eb",
   "metadata": {},
   "outputs": [
    {
     "data": {
      "text/plain": [
       "21"
      ]
     },
     "execution_count": 54,
     "metadata": {},
     "output_type": "execute_result"
    }
   ],
   "source": [
    "len(maint_check[maint_check.DateTime=='2015-01-02 06:00:00'][maint_check.iloc[:, 2:].any(axis=1)])"
   ]
  },
  {
   "cell_type": "markdown",
   "id": "33e53464-f341-49a7-8c7a-e9193ab97088",
   "metadata": {},
   "source": [
    "## EDA"
   ]
  },
  {
   "cell_type": "code",
   "execution_count": 55,
   "id": "24668005-0ec9-46dc-84c2-2a69e7b85112",
   "metadata": {},
   "outputs": [],
   "source": [
    "comp_list = ['C01', 'C02', 'C03', 'C04']\n",
    "var_list = ['X1', 'X2', 'X3', 'X4']"
   ]
  },
  {
   "cell_type": "code",
   "execution_count": 56,
   "id": "a8caf94c-85ac-4987-a8ff-a0a14c094fde",
   "metadata": {},
   "outputs": [],
   "source": [
    "fail_cols = ['fail_' + comp for comp in comp_list]\n",
    "maint_cols = ['maint_' + comp for comp in comp_list]\n",
    "error_cols = ['error_E01', 'error_E02', 'error_E03', 'error_E04', 'error_E05']"
   ]
  },
  {
   "cell_type": "code",
   "execution_count": 57,
   "id": "efbc9366-a5c6-4088-ac7c-15c7fce61150",
   "metadata": {},
   "outputs": [],
   "source": [
    "# Create a new column for the date\n",
    "measure_data['Date'] = pd.to_datetime(measure_data['DateTime']).dt.date\n",
    "\n",
    "# Create a new column for the day of the week\n",
    "measure_data['day_of_week'] = pd.to_datetime(measure_data['DateTime']).dt.dayofweek"
   ]
  },
  {
   "cell_type": "markdown",
   "id": "e8c9795e-465e-4c0b-8888-442392f1515a",
   "metadata": {},
   "source": [
    "### Data split"
   ]
  },
  {
   "cell_type": "code",
   "execution_count": 86,
   "id": "ccfc3c24-dbf4-45b9-9cd0-63f879468d4d",
   "metadata": {},
   "outputs": [],
   "source": [
    "### Train, Validation 분할\n",
    "train_data = measure_data[measure_data.DateTime < '2015-12-01']\n",
    "valid_data = measure_data[measure_data.DateTime >= '2015-12-01']"
   ]
  },
  {
   "cell_type": "code",
   "execution_count": 59,
   "id": "e4f41af9-6149-4781-a4c0-19b9fbb4b7a0",
   "metadata": {},
   "outputs": [],
   "source": [
    "train_data.reset_index(inplace=True, drop=True)\n",
    "valid_data.reset_index(inplace=True, drop=True)"
   ]
  },
  {
   "cell_type": "code",
   "execution_count": null,
   "id": "defbdc01-48a7-4042-9238-b476a779b36a",
   "metadata": {},
   "outputs": [],
   "source": [
    "# temp save\n",
    "measure_data.to_csv('./data/machine_merged.csv', index=False)"
   ]
  },
  {
   "cell_type": "markdown",
   "id": "b635c537-214b-4ed0-8d20-f8ab65da767c",
   "metadata": {},
   "source": [
    "### Baseline cost"
   ]
  },
  {
   "cell_type": "code",
   "execution_count": 90,
   "id": "fbfea24c-bae8-470f-b3e3-f98934a7d10d",
   "metadata": {},
   "outputs": [
    {
     "name": "stdout",
     "output_type": "stream",
     "text": [
      "고장에 의한 비용: 5600\n",
      "컴포넌트 고장 교체 비용: 1395\n",
      "컴포넌트 정기 교체 비용: 1395\n"
     ]
    }
   ],
   "source": [
    "### Valid data의 Baseline 비용 계산\n",
    "# 컴포넌트가 동시에 고장나는 경우에도 고장 손실 비용은 100만원. 고장이 난 것 자체가 중요한 상황.\n",
    "\n",
    "# 고장에 의한 손실 비용 계산\n",
    "fail_loss = 100 * (valid_data.loc[:, fail_cols].sum(axis=1).value_counts()[1:].sum())\n",
    "print('고장에 의한 비용:', fail_loss)\n",
    "\n",
    "# 고장에 의한 컴포넌트 교체 비용 계산\n",
    "comp_cost = [15, 30, 20, 25]\n",
    "fail_comp_cost_sum = 0\n",
    "for i, col in enumerate(fail_cols):\n",
    "    fail_comp_cost_sum += valid_data.loc[:, col].sum() * comp_cost[i]\n",
    "\n",
    "print('컴포넌트 고장 교체 비용:', comp_cost_sum)\n",
    "\n",
    "# 정기 교체 비용. 고장에 의한 교체와 동시에 일어난 경우 한 번만 발생한 것으로 생각해야 함\n",
    "# 수정 예정\n",
    "maint_comp_cost_sum = 0\n",
    "for i, col in enumerate(maint_cols):\n",
    "    if fail_cols[i]\n",
    "    maint_comp_cost_sum += valid_data.loc[:, col].sum() * comp_cost[i]\n",
    "\n",
    "print('컴포넌트 정기 교체 비용:', fail_comp_cost_sum)"
   ]
  },
  {
   "cell_type": "code",
   "execution_count": 62,
   "id": "a60f215c-8937-48e5-b90c-21b493cf8ddf",
   "metadata": {},
   "outputs": [
    {
     "data": {
      "text/plain": [
       "12695"
      ]
     },
     "execution_count": 62,
     "metadata": {},
     "output_type": "execute_result"
    }
   ],
   "source": [
    "fail_loss + comp_cost_sum + fail_comp_cost_sum"
   ]
  },
  {
   "cell_type": "markdown",
   "id": "68355a00-8fe3-45fa-bb24-2e9a006e66fb",
   "metadata": {},
   "source": [
    "#### Measures 변수의 분포 확인"
   ]
  },
  {
   "cell_type": "code",
   "execution_count": 63,
   "id": "f33926b1-f214-4390-afb2-64dda999f980",
   "metadata": {},
   "outputs": [
    {
     "data": {
      "image/png": "[encoded data removed]",
      "text/plain": [
       "<Figure size 432x288 with 1 Axes>"
      ]
     },
     "metadata": {
      "needs_background": "light"
     },
     "output_type": "display_data"
    }
   ],
   "source": [
    "### scale 다르고, outlier 존재함\n",
    "sns.boxplot(data=train_data.loc[:, var_list])\n",
    "plt.show()"
   ]
  },
  {
   "cell_type": "code",
   "execution_count": 64,
   "id": "ceccce8b-8a0b-40f0-b63b-3ab972f16cfa",
   "metadata": {},
   "outputs": [
    {
     "name": "stdout",
     "output_type": "stream",
     "text": [
      "Skew X1 : 0.08616592727373588\n",
      "Skew X2 : -0.14348600607198259\n",
      "Skew X3 : 0.4004280607063879\n",
      "Skew X4 : 0.24654402361088987\n"
     ]
    }
   ],
   "source": [
    "### 거의 좌우 대칭. 변환은 딱히 필요하지 않을 듯.\n",
    "for var in var_list:\n",
    "    print('Skew', var, ':', train_data[var].skew())"
   ]
  },
  {
   "cell_type": "code",
   "execution_count": 65,
   "id": "c00d4063-0e08-4a66-933f-8da662eaffea",
   "metadata": {},
   "outputs": [],
   "source": [
    "### 각 기계별로 scaling 필요. 기계가 다르면 센서도 달라진다.\n",
    "# 기계 단위로 split 한 다음 다시 merge.\n",
    "# Outlier가 있으므로 RobustScaler 적용.\n",
    "scaled_train_data = pd.DataFrame()\n",
    "scaled_valid_data = pd.DataFrame()\n",
    "for m_id in train_data.M_ID.unique():\n",
    "    tmp_train_data = train_data[train_data.M_ID==m_id]\n",
    "    tmp_valid_data = valid_data[valid_data.M_ID==m_id]\n",
    "    \n",
    "    scaler = RobustScaler()\n",
    "    train_s = scaler.fit_transform(tmp_train_data.loc[:, var_list])\n",
    "    val_s = scaler.transform(tmp_valid_data.loc[:, var_list])\n",
    "    \n",
    "    scaled_train_data = pd.concat([scaled_train_data, pd.DataFrame(train_s, columns=var_list)])\n",
    "    scaled_valid_data = pd.concat([scaled_valid_data, pd.DataFrame(val_s, columns=var_list)])"
   ]
  },
  {
   "cell_type": "code",
   "execution_count": 66,
   "id": "cadbf102-ea3a-40d6-978f-ed3dc3d4914e",
   "metadata": {},
   "outputs": [],
   "source": [
    "scaled_train_data.reset_index(inplace=True, drop=True)\n",
    "scaled_valid_data.reset_index(inplace=True, drop=True)"
   ]
  },
  {
   "cell_type": "code",
   "execution_count": 67,
   "id": "c933a8e3-ea79-432b-bc71-dcb220ce7893",
   "metadata": {},
   "outputs": [],
   "source": [
    "for var in var_list:\n",
    "    train_data[var] = scaled_train_data[var]\n",
    "    valid_data[var] = scaled_valid_data[var]"
   ]
  },
  {
   "cell_type": "code",
   "execution_count": 68,
   "id": "e47d3131-fd66-4578-af4c-f6c603ace43f",
   "metadata": {},
   "outputs": [
    {
     "data": {
      "image/png": "[encoded data removed]",
      "text/plain": [
       "<Figure size 432x288 with 1 Axes>"
      ]
     },
     "metadata": {
      "needs_background": "light"
     },
     "output_type": "display_data"
    }
   ],
   "source": [
    "### scale 완료\n",
    "sns.boxplot(data=train_data.loc[:, var_list])\n",
    "plt.show()"
   ]
  },
  {
   "cell_type": "code",
   "execution_count": 69,
   "id": "76eaa789-2511-40f5-aad3-a397ef5b53f6",
   "metadata": {},
   "outputs": [
    {
     "data": {
      "image/png": "[encoded data removed]",
      "text/plain": [
       "<Figure size 720x432 with 1 Axes>"
      ]
     },
     "metadata": {},
     "output_type": "display_data"
    }
   ],
   "source": [
    "# 기계 연식 시각화\n",
    "# Set the style of the visualization\n",
    "sns.set(style=\"whitegrid\")\n",
    "\n",
    "# Create a boxplot\n",
    "plt.figure(figsize=(10, 6))\n",
    "sns.violinplot(x=\"Type\", y=\"Age\", data=train_data)\n",
    "\n",
    "# Set the title and labels\n",
    "plt.title(\"Distribution of Machine Age by Machine Type\", fontsize=16)\n",
    "plt.xlabel(\"Machine Type\", fontsize=12)\n",
    "plt.ylabel(\"Age\", fontsize=12)\n",
    "\n",
    "# Show the plot\n",
    "plt.show()"
   ]
  },
  {
   "cell_type": "code",
   "execution_count": 70,
   "id": "ac2fc438-17c3-4f73-89d8-202674245ff0",
   "metadata": {},
   "outputs": [
    {
     "data": {
      "text/plain": [
       "{'fail_C01': -0.05952399217143976,\n",
       " 'fail_C02': -0.024346885417601643,\n",
       " 'fail_C03': 0.12234419714260929,\n",
       " 'fail_C04': 0.8081871085363157}"
      ]
     },
     "execution_count": 70,
     "metadata": {},
     "output_type": "execute_result"
    }
   ],
   "source": [
    "### 연식이 높을 수록 fail_C03과 fail_C04의 발생이 커지는 경향이 있음\n",
    "correlation_age_failures_types = {}\n",
    "\n",
    "for fail_type in fail_cols:\n",
    "    grouped_data_failures_type = train_data.groupby(['M_ID', 'Age'])[fail_type].sum().reset_index()\n",
    "    correlation_age_failures_types[fail_type] = grouped_data_failures_type['Age'].corr(grouped_data_failures_type[fail_type])\n",
    "\n",
    "correlation_age_failures_types"
   ]
  },
  {
   "cell_type": "code",
   "execution_count": 71,
   "id": "41f8e4e6-5867-4b59-9d39-f0a18bba05d0",
   "metadata": {},
   "outputs": [
    {
     "data": {
      "text/plain": [
       "<AxesSubplot:>"
      ]
     },
     "execution_count": 71,
     "metadata": {},
     "output_type": "execute_result"
    },
    {
     "data": {
      "image/png": "[encoded data removed]",
      "text/plain": [
       "<Figure size 432x288 with 2 Axes>"
      ]
     },
     "metadata": {},
     "output_type": "display_data"
    }
   ],
   "source": [
    "# error와 fail의 상관관계\n",
    "# error 2와 3이 상관관계가 있고, 나머지는 상관관계가 없음\n",
    "sns.heatmap(train_data.loc[:, error_cols + fail_cols].corr())"
   ]
  },
  {
   "cell_type": "code",
   "execution_count": 72,
   "id": "599a0262-70ab-4044-af55-576d804323e4",
   "metadata": {},
   "outputs": [
    {
     "data": {
      "text/plain": [
       "<AxesSubplot:>"
      ]
     },
     "execution_count": 72,
     "metadata": {},
     "output_type": "execute_result"
    },
    {
     "data": {
      "image/png": "[encoded data removed]",
      "text/plain": [
       "<Figure size 432x288 with 2 Axes>"
      ]
     },
     "metadata": {},
     "output_type": "display_data"
    }
   ],
   "source": [
    "# maint와 fail의 상관관계\n",
    "# 각 component 별로 0.4~0.6 정도의 상관관계 있음 확인\n",
    "# fail -> mnt 관계가 있기 때문\n",
    "sns.heatmap(train_data.loc[:, maint_cols + fail_cols].corr())"
   ]
  },
  {
   "cell_type": "code",
   "execution_count": 73,
   "id": "0d8b3bfe-f1e1-4f78-ad18-bcab9586e661",
   "metadata": {},
   "outputs": [
    {
     "data": {
      "image/png": "[encoded data removed]",
      "text/plain": [
       "<Figure size 1080x720 with 6 Axes>"
      ]
     },
     "metadata": {},
     "output_type": "display_data"
    }
   ],
   "source": [
    "# 시간대 별 error 시각화\n",
    "# Calculate the number of errors for each hour of the day and each type of error\n",
    "train_data['hour_of_day'] = pd.to_datetime(train_data['DateTime']).dt.hour\n",
    "errors_by_hour_of_day_and_type = train_data.groupby('hour_of_day')[error_cols].sum()\n",
    "\n",
    "# Create a bar plot for each type of error\n",
    "fig, axes = plt.subplots(nrows=3, ncols=2, figsize=(15, 10))\n",
    "axes = axes.flatten()\n",
    "for i, error_col in enumerate(error_cols):\n",
    "    ax = axes[i]\n",
    "    sns.barplot(x=errors_by_hour_of_day_and_type.index, y=errors_by_hour_of_day_and_type[error_col], ax=ax)\n",
    "    ax.set_xlabel('Hour of the Day')\n",
    "    ax.set_ylabel('Number of Errors')\n",
    "    ax.set_title('Number of Errors (' + error_col + ') by Hour of the Day')\n",
    "plt.tight_layout()\n",
    "plt.show()\n",
    "\n",
    "# error는 6시에 많이 발생한다. why?\n",
    "# fail의 경우 무조건 6시에만 발생(하도록 데이터 변경)함"
   ]
  },
  {
   "cell_type": "code",
   "execution_count": 74,
   "id": "8a442a39-1bfb-4f2f-88bf-752f119ac012",
   "metadata": {},
   "outputs": [
    {
     "data": {
      "image/png": "[encoded data removed]",
      "text/plain": [
       "<Figure size 1080x720 with 4 Axes>"
      ]
     },
     "metadata": {},
     "output_type": "display_data"
    }
   ],
   "source": [
    "# 요일 별 fail 발생 횟수\n",
    "# 유의미한 결과를 찾기는 어려웠음\n",
    "# Calculate the number of failures for each day of the week and each type of failure\n",
    "failures_by_day_of_week_and_type_original = train_data.groupby('day_of_week')[fail_cols].sum()\n",
    "\n",
    "# Create a bar plot for each type of failure\n",
    "fig, axes = plt.subplots(nrows=2, ncols=2, figsize=(15, 10))\n",
    "axes = axes.flatten()\n",
    "for i, fail_col in enumerate(fail_cols):\n",
    "    ax = axes[i]\n",
    "    sns.barplot(x=failures_by_day_of_week_and_type_original.index, y=failures_by_day_of_week_and_type_original[fail_col], ax=ax)\n",
    "    ax.set_xlabel('Day of the Week')\n",
    "    ax.set_ylabel('Number of Failures')\n",
    "    ax.set_title('Number of Failures (' + fail_col + ') by Day of the Week (Original Data)')\n",
    "    ax.set_xticklabels(['Monday', 'Tuesday', 'Wednesday', 'Thursday', 'Friday', 'Saturday', 'Sunday'])\n",
    "plt.tight_layout()\n",
    "plt.show()"
   ]
  },
  {
   "cell_type": "code",
   "execution_count": 75,
   "id": "23c0c334-5d6f-479c-94b0-01c289d216e9",
   "metadata": {},
   "outputs": [
    {
     "data": {
      "text/plain": [
       "(7.196188497992976, 0.3030844155559602)"
      ]
     },
     "execution_count": 75,
     "metadata": {},
     "output_type": "execute_result"
    }
   ],
   "source": [
    "from scipy.stats import chi2_contingency\n",
    "\n",
    "# 요일 별 발생횟수의 차이 검정 -> 귀무가설 기각되지 않음\n",
    "# Create a contingency table for failures by day of the week\n",
    "train_data['Day'] = train_data['DateTime'].dt.dayofweek\n",
    "train_data['Total_Fails'] = train_data[fail_cols].sum(axis=1)\n",
    "contingency_table = pd.crosstab(train_data['Day'], train_data['Total_Fails'] > 0)\n",
    "\n",
    "# Perform the Chi-Square test\n",
    "chi2, p, dof, expected = chi2_contingency(contingency_table)\n",
    "\n",
    "chi2, p"
   ]
  },
  {
   "cell_type": "code",
   "execution_count": 76,
   "id": "4abdc221-3d8d-4925-9719-2e58b082ba97",
   "metadata": {},
   "outputs": [
    {
     "data": {
      "image/png": "[encoded data removed]",
      "text/plain": [
       "<Figure size 1296x720 with 10 Axes>"
      ]
     },
     "metadata": {},
     "output_type": "display_data"
    }
   ],
   "source": [
    "# 연식, 타입 별 error 발생 횟수\n",
    "# Create a heatmap for each type of error with swapped axes\n",
    "fig, axes = plt.subplots(nrows=2, ncols=3, figsize=(18, 10))\n",
    "axes = axes.flatten()\n",
    "\n",
    "for i, error_col in enumerate(error_cols):\n",
    "    ax = axes[i]\n",
    "    errors_by_type_and_age = train_data.groupby(['Type', 'Age'])[error_cols].sum().reset_index()\n",
    "    pivot_table = errors_by_type_and_age.pivot(index='Type', columns='Age', values=error_col)\n",
    "    sns.heatmap(pivot_table, cmap='YlGnBu', annot=True, fmt=\".0f\", ax=ax)\n",
    "    ax.set_xlabel('Machine Age')\n",
    "    ax.set_ylabel('Machine Type')\n",
    "    ax.set_title('Heatmap of ' + error_col)\n",
    "\n",
    "# Remove the last subplot as it is not used\n",
    "fig.delaxes(axes[-1])\n",
    "\n",
    "plt.tight_layout()\n",
    "plt.show()"
   ]
  },
  {
   "cell_type": "code",
   "execution_count": 77,
   "id": "b190768b-a3eb-4943-a372-2270affa34c2",
   "metadata": {},
   "outputs": [
    {
     "data": {
      "image/png": "[encoded data removed]",
      "text/plain": [
       "<Figure size 1440x1152 with 8 Axes>"
      ]
     },
     "metadata": {},
     "output_type": "display_data"
    }
   ],
   "source": [
    "# 연식, 타입 별 fail 발생 횟수\n",
    "# Group the data by Machine Type and Age, and calculate the sum of each failure type for each group\n",
    "grouped_data_fail_C01 = train_data.groupby(['Type', 'Age'])['fail_C01'].sum().reset_index()\n",
    "grouped_data_fail_C02 = train_data.groupby(['Type', 'Age'])['fail_C02'].sum().reset_index()\n",
    "grouped_data_fail_C03 = train_data.groupby(['Type', 'Age'])['fail_C03'].sum().reset_index()\n",
    "grouped_data_fail_C04 = train_data.groupby(['Type', 'Age'])['fail_C04'].sum().reset_index()\n",
    "\n",
    "# Create pivot tables for the heatmaps\n",
    "pivot_table_fail_C01 = grouped_data_fail_C01.pivot('Type', 'Age', 'fail_C01')\n",
    "pivot_table_fail_C02 = grouped_data_fail_C02.pivot('Type', 'Age', 'fail_C02')\n",
    "pivot_table_fail_C03 = grouped_data_fail_C03.pivot('Type', 'Age', 'fail_C03')\n",
    "pivot_table_fail_C04 = grouped_data_fail_C04.pivot('Type', 'Age', 'fail_C04')\n",
    "\n",
    "# Generate heatmaps\n",
    "fig, axes = plt.subplots(2, 2, figsize=(20, 16))\n",
    "\n",
    "sns.heatmap(pivot_table_fail_C01, annot=True, fmt=\".0f\", cmap='YlGnBu', ax=axes[0, 0])\n",
    "axes[0, 0].set_title('Failure C01 Events by Machine Type and Age')\n",
    "axes[0, 0].set_xlabel('Machine Age')\n",
    "axes[0, 0].set_ylabel('Machine Type')\n",
    "\n",
    "sns.heatmap(pivot_table_fail_C02, annot=True, fmt=\".0f\", cmap='YlGnBu', ax=axes[0, 1])\n",
    "axes[0, 1].set_title('Failure C02 Events by Machine Type and Age')\n",
    "axes[0, 1].set_xlabel('Machine Age')\n",
    "axes[0, 1].set_ylabel('Machine Type')\n",
    "\n",
    "sns.heatmap(pivot_table_fail_C03, annot=True, fmt=\".0f\", cmap='YlGnBu', ax=axes[1, 0])\n",
    "axes[1, 0].set_title('Failure C03 Events by Machine Type and Age')\n",
    "axes[1, 0].set_xlabel('Machine Age')\n",
    "axes[1, 0].set_ylabel('Machine Type')\n",
    "\n",
    "sns.heatmap(pivot_table_fail_C04, annot=True, fmt=\".0f\", cmap='YlGnBu', ax=axes[1, 1])\n",
    "axes[1, 1].set_title('Failure C04 Events by Machine Type and Age')\n",
    "axes[1, 1].set_xlabel('Machine Age')\n",
    "axes[1, 1].set_ylabel('Machine Type')\n",
    "\n",
    "plt.tight_layout()\n",
    "plt.show()"
   ]
  },
  {
   "cell_type": "code",
   "execution_count": 78,
   "id": "db1773a5-2602-494b-985f-fcaedc8cb449",
   "metadata": {},
   "outputs": [
    {
     "data": {
      "image/png": "[encoded data removed]",
      "text/plain": [
       "<Figure size 720x432 with 1 Axes>"
      ]
     },
     "metadata": {},
     "output_type": "display_data"
    }
   ],
   "source": [
    "# 다른 시각화: 기계 종류 별 고장의 유형\n",
    "# 기계 종류 3, 4는 3번 component fail이 발생하지 않음\n",
    "# Group the data by Machine Type, and calculate the sum of each failure type for each group\n",
    "grouped_data_fail = train_data.groupby('Type')[fail_cols].sum()\n",
    "\n",
    "# Generate a bar plot\n",
    "grouped_data_fail.plot(kind='bar', stacked=True, figsize=(10, 6))\n",
    "plt.title('Failure Events by Machine Type')\n",
    "plt.xlabel('Machine Type')\n",
    "plt.ylabel('Number of Events')\n",
    "plt.xticks(rotation=0)\n",
    "plt.show()"
   ]
  },
  {
   "cell_type": "code",
   "execution_count": 79,
   "id": "68b54b36-65fe-4ccc-8b87-a41e0c4287c8",
   "metadata": {},
   "outputs": [
    {
     "data": {
      "text/html": [
       "<div>\n",
       "<style scoped>\n",
       "    .dataframe tbody tr th:only-of-type {\n",
       "        vertical-align: middle;\n",
       "    }\n",
       "\n",
       "    .dataframe tbody tr th {\n",
       "        vertical-align: top;\n",
       "    }\n",
       "\n",
       "    .dataframe thead th {\n",
       "        text-align: right;\n",
       "    }\n",
       "</style>\n",
       "<table border=\"1\" class=\"dataframe\">\n",
       "  <thead>\n",
       "    <tr style=\"text-align: right;\">\n",
       "      <th></th>\n",
       "      <th>fail_C01</th>\n",
       "      <th>fail_C02</th>\n",
       "      <th>fail_C03</th>\n",
       "      <th>fail_C04</th>\n",
       "    </tr>\n",
       "  </thead>\n",
       "  <tbody>\n",
       "    <tr>\n",
       "      <th>error_E01</th>\n",
       "      <td>0.000000</td>\n",
       "      <td>0.0</td>\n",
       "      <td>0.813008</td>\n",
       "      <td>0.0</td>\n",
       "    </tr>\n",
       "    <tr>\n",
       "      <th>error_E02</th>\n",
       "      <td>0.000000</td>\n",
       "      <td>0.0</td>\n",
       "      <td>0.000000</td>\n",
       "      <td>0.0</td>\n",
       "    </tr>\n",
       "    <tr>\n",
       "      <th>error_E03</th>\n",
       "      <td>0.000000</td>\n",
       "      <td>0.0</td>\n",
       "      <td>0.000000</td>\n",
       "      <td>0.0</td>\n",
       "    </tr>\n",
       "    <tr>\n",
       "      <th>error_E04</th>\n",
       "      <td>0.564972</td>\n",
       "      <td>0.0</td>\n",
       "      <td>0.000000</td>\n",
       "      <td>0.0</td>\n",
       "    </tr>\n",
       "    <tr>\n",
       "      <th>error_E05</th>\n",
       "      <td>0.000000</td>\n",
       "      <td>0.0</td>\n",
       "      <td>0.813008</td>\n",
       "      <td>0.0</td>\n",
       "    </tr>\n",
       "  </tbody>\n",
       "</table>\n",
       "</div>"
      ],
      "text/plain": [
       "           fail_C01  fail_C02  fail_C03  fail_C04\n",
       "error_E01  0.000000       0.0  0.813008       0.0\n",
       "error_E02  0.000000       0.0  0.000000       0.0\n",
       "error_E03  0.000000       0.0  0.000000       0.0\n",
       "error_E04  0.564972       0.0  0.000000       0.0\n",
       "error_E05  0.000000       0.0  0.813008       0.0"
      ]
     },
     "execution_count": 79,
     "metadata": {},
     "output_type": "execute_result"
    }
   ],
   "source": [
    "### error와 다음 날 fail의 발생 빈도\n",
    "total_fails = train_data[fail_cols].sum()\n",
    "\n",
    "# Initialize a dictionary to store results\n",
    "fail_after_specific_error = {}\n",
    "\n",
    "# Loop through each error column\n",
    "for error in error_cols:\n",
    "    # Shift the error column to get errors from the previous day\n",
    "    train_data['Specific_Error_Previous_Day'] = train_data.groupby('M_ID')[error].shift()\n",
    "\n",
    "    # Count failures that occurred after a specific error\n",
    "    fail_after_specific_error[error] = (train_data[train_data['Specific_Error_Previous_Day'] == 1][fail_cols].sum() / total_fails) * 100\n",
    "\n",
    "fail_after_specific_error = pd.DataFrame(fail_after_specific_error).T\n",
    "fail_after_specific_error"
   ]
  },
  {
   "cell_type": "code",
   "execution_count": 80,
   "id": "557df334-40e4-41f9-ba65-31528499b18d",
   "metadata": {},
   "outputs": [],
   "source": [
    "from scipy.stats import iqr"
   ]
  },
  {
   "cell_type": "code",
   "execution_count": 81,
   "id": "3a686ed7-6817-4ea3-ac8c-26cf5ed8f32c",
   "metadata": {},
   "outputs": [],
   "source": [
    "# For each maintenance and failure type\n",
    "for maint_c, fail_c in zip(maint_cols, fail_cols):\n",
    "    # Create new columns to store whether the maintenance was due to a failure\n",
    "    measure_data[maint_c + '_and_' + fail_c] = (measure_data[maint_c] > 0) & (measure_data[fail_c] > 0)\n",
    "    \n",
    "# Convert the boolean values to integers (1 for True, 0 for False)\n",
    "for col in measure_data.columns:\n",
    "    if '_and_' in col:\n",
    "        measure_data[col] = measure_data[col].astype(int)"
   ]
  },
  {
   "cell_type": "code",
   "execution_count": 82,
   "id": "ce4efdb8-c7f8-4c16-8b97-a1a93861a9f1",
   "metadata": {},
   "outputs": [],
   "source": [
    "measure_data['Date'] = pd.to_datetime(measure_data['DateTime'].dt.date)\n",
    "\n",
    "# Function to detect outliers based on IQR\n",
    "def detect_outliers(df, feature):\n",
    "    Q1 = df[feature].quantile(0.25)\n",
    "    Q3 = df[feature].quantile(0.75)\n",
    "    IQR = iqr(df[feature])\n",
    "    \n",
    "    # Define outliers\n",
    "    lower_outliers = df[feature] < Q1 - 1.5 * IQR\n",
    "    upper_outliers = df[feature] > Q3 + 1.5 * IQR\n",
    "    \n",
    "    return lower_outliers, upper_outliers\n",
    "\n",
    "# outlier 개수 넣기\n",
    "for feature in ['X1', 'X2', 'X3', 'X4']:\n",
    "    lower_outliers, upper_outliers = detect_outliers(measure_data, feature)\n",
    "    measure_data[f'lower_outlier_{feature}'] = lower_outliers\n",
    "    measure_data[f'upper_outlier_{feature}'] = upper_outliers\n",
    "    \n",
    "### data 변형과 shift\n",
    "agg_data = measure_data.groupby(['Date', 'M_ID']).agg({\n",
    "    'X1': ['mean', 'median', 'max', 'min', 'std'],\n",
    "    'X2': ['mean', 'median', 'max', 'min', 'std'],\n",
    "    'X3': ['mean', 'median', 'max', 'min', 'std'],\n",
    "    'X4': ['mean', 'median', 'max', 'min', 'std'],\n",
    "    'maint_C01': 'sum',\n",
    "    'maint_C02': 'sum',\n",
    "    'maint_C03': 'sum',\n",
    "    'maint_C04': 'sum',\n",
    "    'error_E01': 'sum',\n",
    "    'error_E02': 'sum',\n",
    "    'error_E03': 'sum',\n",
    "    'error_E04': 'sum',\n",
    "    'fail_C01': 'sum',\n",
    "    'fail_C02': 'sum',\n",
    "    'fail_C03': 'sum',\n",
    "    'fail_C04': 'sum',\n",
    "    'lower_outlier_X1': 'sum',\n",
    "    'lower_outlier_X2': 'sum',\n",
    "    'lower_outlier_X3': 'sum',\n",
    "    'lower_outlier_X4': 'sum',\n",
    "    'upper_outlier_X1': 'sum',\n",
    "    'upper_outlier_X2': 'sum',\n",
    "    'upper_outlier_X3': 'sum',\n",
    "    'upper_outlier_X4': 'sum'\n",
    "}).reset_index()\n",
    "\n",
    "# Flatten the column names\n",
    "agg_data.columns = ['_'.join(col).strip() for col in agg_data.columns.values]\n",
    "agg_data['Date'] = agg_data['Date_']\n",
    "agg_data.drop('Date_', axis=1, inplace=True)\n",
    "\n",
    "agg_data['NextDay'] = agg_data['Date'].dt.date + pd.DateOffset(days=1)\n",
    "agg_data['M_ID'] = agg_data['M_ID_']\n",
    "agg_data.drop('M_ID_', axis=1, inplace=True)\n",
    "agg_data.drop('NextDay', axis=1, inplace=True)\n",
    "\n",
    "# 컬럼명 변경\n",
    "agg_data.columns = agg_data.columns.str.replace('_sum', '')\n",
    "\n",
    "# 고장 컬럼 shift\n",
    "# Converting DateTime from string to datetime format\n",
    "for col in fail_cols:\n",
    "    agg_data[col] = agg_data.groupby('M_ID')[col].shift(-1)\n",
    "    \n",
    "agg_data.dropna(inplace=True)\n",
    "\n",
    "# Calculate Q1 and Q3 for each X variable for each date and machine\n",
    "quantiles = measure_data.groupby(['Date', 'M_ID'])[var_list].quantile([0.25, 0.75]).unstack(level=2)\n",
    "\n",
    "# Flatten the column names\n",
    "quantiles.columns = ['_'.join([str(el) for el in col]) for col in quantiles.columns.values]\n",
    "\n",
    "# Merge the quantiles with the aggregated data\n",
    "agg_data = pd.merge(agg_data, quantiles, how='left', left_on=['Date', 'M_ID'], right_index=True)"
   ]
  },
  {
   "cell_type": "code",
   "execution_count": 83,
   "id": "5adf745c-32aa-4ce5-97e3-efc48e58a420",
   "metadata": {},
   "outputs": [],
   "source": [
    "def get_type(m_id):\n",
    "    return type_agg.loc['2015-01-01', m_id].values[0]"
   ]
  },
  {
   "cell_type": "code",
   "execution_count": 84,
   "id": "382a1c1a-b4f5-4d2d-8f40-5f593334e26c",
   "metadata": {},
   "outputs": [
    {
     "ename": "NameError",
     "evalue": "name 'type_agg' is not defined",
     "output_type": "error",
     "traceback": [
      "\u001b[0;31m---------------------------------------------------------------------------\u001b[0m",
      "\u001b[0;31mNameError\u001b[0m                                 Traceback (most recent call last)",
      "Input \u001b[0;32mIn [84]\u001b[0m, in \u001b[0;36m<cell line: 2>\u001b[0;34m()\u001b[0m\n\u001b[1;32m      1\u001b[0m \u001b[38;5;66;03m# Type 변수 agg_data에 추가\u001b[39;00m\n\u001b[0;32m----> 2\u001b[0m agg_data[\u001b[38;5;124m'\u001b[39m\u001b[38;5;124mType\u001b[39m\u001b[38;5;124m'\u001b[39m] \u001b[38;5;241m=\u001b[39m \u001b[43magg_data\u001b[49m\u001b[43m[\u001b[49m\u001b[38;5;124;43m'\u001b[39;49m\u001b[38;5;124;43mM_ID\u001b[39;49m\u001b[38;5;124;43m'\u001b[39;49m\u001b[43m]\u001b[49m\u001b[38;5;241;43m.\u001b[39;49m\u001b[43mapply\u001b[49m\u001b[43m(\u001b[49m\u001b[43mget_type\u001b[49m\u001b[43m)\u001b[49m\n",
      "File \u001b[0;32m/Library/Frameworks/Python.framework/Versions/3.8/lib/python3.8/site-packages/pandas/core/series.py:4433\u001b[0m, in \u001b[0;36mSeries.apply\u001b[0;34m(self, func, convert_dtype, args, **kwargs)\u001b[0m\n\u001b[1;32m   4323\u001b[0m \u001b[38;5;28;01mdef\u001b[39;00m \u001b[38;5;21mapply\u001b[39m(\n\u001b[1;32m   4324\u001b[0m     \u001b[38;5;28mself\u001b[39m,\n\u001b[1;32m   4325\u001b[0m     func: AggFuncType,\n\u001b[0;32m   (...)\u001b[0m\n\u001b[1;32m   4328\u001b[0m     \u001b[38;5;241m*\u001b[39m\u001b[38;5;241m*\u001b[39mkwargs,\n\u001b[1;32m   4329\u001b[0m ) \u001b[38;5;241m-\u001b[39m\u001b[38;5;241m>\u001b[39m DataFrame \u001b[38;5;241m|\u001b[39m Series:\n\u001b[1;32m   4330\u001b[0m     \u001b[38;5;124;03m\"\"\"\u001b[39;00m\n\u001b[1;32m   4331\u001b[0m \u001b[38;5;124;03m    Invoke function on values of Series.\u001b[39;00m\n\u001b[1;32m   4332\u001b[0m \n\u001b[0;32m   (...)\u001b[0m\n\u001b[1;32m   4431\u001b[0m \u001b[38;5;124;03m    dtype: float64\u001b[39;00m\n\u001b[1;32m   4432\u001b[0m \u001b[38;5;124;03m    \"\"\"\u001b[39;00m\n\u001b[0;32m-> 4433\u001b[0m     \u001b[38;5;28;01mreturn\u001b[39;00m \u001b[43mSeriesApply\u001b[49m\u001b[43m(\u001b[49m\u001b[38;5;28;43mself\u001b[39;49m\u001b[43m,\u001b[49m\u001b[43m \u001b[49m\u001b[43mfunc\u001b[49m\u001b[43m,\u001b[49m\u001b[43m \u001b[49m\u001b[43mconvert_dtype\u001b[49m\u001b[43m,\u001b[49m\u001b[43m \u001b[49m\u001b[43margs\u001b[49m\u001b[43m,\u001b[49m\u001b[43m \u001b[49m\u001b[43mkwargs\u001b[49m\u001b[43m)\u001b[49m\u001b[38;5;241;43m.\u001b[39;49m\u001b[43mapply\u001b[49m\u001b[43m(\u001b[49m\u001b[43m)\u001b[49m\n",
      "File \u001b[0;32m/Library/Frameworks/Python.framework/Versions/3.8/lib/python3.8/site-packages/pandas/core/apply.py:1082\u001b[0m, in \u001b[0;36mSeriesApply.apply\u001b[0;34m(self)\u001b[0m\n\u001b[1;32m   1078\u001b[0m \u001b[38;5;28;01mif\u001b[39;00m \u001b[38;5;28misinstance\u001b[39m(\u001b[38;5;28mself\u001b[39m\u001b[38;5;241m.\u001b[39mf, \u001b[38;5;28mstr\u001b[39m):\n\u001b[1;32m   1079\u001b[0m     \u001b[38;5;66;03m# if we are a string, try to dispatch\u001b[39;00m\n\u001b[1;32m   1080\u001b[0m     \u001b[38;5;28;01mreturn\u001b[39;00m \u001b[38;5;28mself\u001b[39m\u001b[38;5;241m.\u001b[39mapply_str()\n\u001b[0;32m-> 1082\u001b[0m \u001b[38;5;28;01mreturn\u001b[39;00m \u001b[38;5;28;43mself\u001b[39;49m\u001b[38;5;241;43m.\u001b[39;49m\u001b[43mapply_standard\u001b[49m\u001b[43m(\u001b[49m\u001b[43m)\u001b[49m\n",
      "File \u001b[0;32m/Library/Frameworks/Python.framework/Versions/3.8/lib/python3.8/site-packages/pandas/core/apply.py:1137\u001b[0m, in \u001b[0;36mSeriesApply.apply_standard\u001b[0;34m(self)\u001b[0m\n\u001b[1;32m   1131\u001b[0m         values \u001b[38;5;241m=\u001b[39m obj\u001b[38;5;241m.\u001b[39mastype(\u001b[38;5;28mobject\u001b[39m)\u001b[38;5;241m.\u001b[39m_values\n\u001b[1;32m   1132\u001b[0m         \u001b[38;5;66;03m# error: Argument 2 to \"map_infer\" has incompatible type\u001b[39;00m\n\u001b[1;32m   1133\u001b[0m         \u001b[38;5;66;03m# \"Union[Callable[..., Any], str, List[Union[Callable[..., Any], str]],\u001b[39;00m\n\u001b[1;32m   1134\u001b[0m         \u001b[38;5;66;03m# Dict[Hashable, Union[Union[Callable[..., Any], str],\u001b[39;00m\n\u001b[1;32m   1135\u001b[0m         \u001b[38;5;66;03m# List[Union[Callable[..., Any], str]]]]]\"; expected\u001b[39;00m\n\u001b[1;32m   1136\u001b[0m         \u001b[38;5;66;03m# \"Callable[[Any], Any]\"\u001b[39;00m\n\u001b[0;32m-> 1137\u001b[0m         mapped \u001b[38;5;241m=\u001b[39m \u001b[43mlib\u001b[49m\u001b[38;5;241;43m.\u001b[39;49m\u001b[43mmap_infer\u001b[49m\u001b[43m(\u001b[49m\n\u001b[1;32m   1138\u001b[0m \u001b[43m            \u001b[49m\u001b[43mvalues\u001b[49m\u001b[43m,\u001b[49m\n\u001b[1;32m   1139\u001b[0m \u001b[43m            \u001b[49m\u001b[43mf\u001b[49m\u001b[43m,\u001b[49m\u001b[43m  \u001b[49m\u001b[38;5;66;43;03m# type: ignore[arg-type]\u001b[39;49;00m\n\u001b[1;32m   1140\u001b[0m \u001b[43m            \u001b[49m\u001b[43mconvert\u001b[49m\u001b[38;5;241;43m=\u001b[39;49m\u001b[38;5;28;43mself\u001b[39;49m\u001b[38;5;241;43m.\u001b[39;49m\u001b[43mconvert_dtype\u001b[49m\u001b[43m,\u001b[49m\n\u001b[1;32m   1141\u001b[0m \u001b[43m        \u001b[49m\u001b[43m)\u001b[49m\n\u001b[1;32m   1143\u001b[0m \u001b[38;5;28;01mif\u001b[39;00m \u001b[38;5;28mlen\u001b[39m(mapped) \u001b[38;5;129;01mand\u001b[39;00m \u001b[38;5;28misinstance\u001b[39m(mapped[\u001b[38;5;241m0\u001b[39m], ABCSeries):\n\u001b[1;32m   1144\u001b[0m     \u001b[38;5;66;03m# GH#43986 Need to do list(mapped) in order to get treated as nested\u001b[39;00m\n\u001b[1;32m   1145\u001b[0m     \u001b[38;5;66;03m#  See also GH#25959 regarding EA support\u001b[39;00m\n\u001b[1;32m   1146\u001b[0m     \u001b[38;5;28;01mreturn\u001b[39;00m obj\u001b[38;5;241m.\u001b[39m_constructor_expanddim(\u001b[38;5;28mlist\u001b[39m(mapped), index\u001b[38;5;241m=\u001b[39mobj\u001b[38;5;241m.\u001b[39mindex)\n",
      "File \u001b[0;32m/Library/Frameworks/Python.framework/Versions/3.8/lib/python3.8/site-packages/pandas/_libs/lib.pyx:2870\u001b[0m, in \u001b[0;36mpandas._libs.lib.map_infer\u001b[0;34m()\u001b[0m\n",
      "Input \u001b[0;32mIn [83]\u001b[0m, in \u001b[0;36mget_type\u001b[0;34m(m_id)\u001b[0m\n\u001b[1;32m      1\u001b[0m \u001b[38;5;28;01mdef\u001b[39;00m \u001b[38;5;21mget_type\u001b[39m(m_id):\n\u001b[0;32m----> 2\u001b[0m     \u001b[38;5;28;01mreturn\u001b[39;00m \u001b[43mtype_agg\u001b[49m\u001b[38;5;241m.\u001b[39mloc[\u001b[38;5;124m'\u001b[39m\u001b[38;5;124m2015-01-01\u001b[39m\u001b[38;5;124m'\u001b[39m, m_id]\u001b[38;5;241m.\u001b[39mvalues[\u001b[38;5;241m0\u001b[39m]\n",
      "\u001b[0;31mNameError\u001b[0m: name 'type_agg' is not defined"
     ]
    }
   ],
   "source": [
    "# Type 변수 agg_data에 추가\n",
    "agg_data['Type'] = agg_data['M_ID'].apply(get_type)"
   ]
  },
  {
   "cell_type": "code",
   "execution_count": null,
   "id": "2a95c5c9-ac2d-41ba-a047-188745732cb1",
   "metadata": {},
   "outputs": [],
   "source": [
    "# Error의 경우 하루에 두 번 이상 발생한 경우가 존재함\n",
    "count_check_columns = [col for col in agg_data.columns if 'error' in col or 'maint' in col or 'fail' in col]\n",
    "\n",
    "# Check if any value is greater than 1\n",
    "agg_data[count_check_columns].gt(1).sum()"
   ]
  },
  {
   "cell_type": "code",
   "execution_count": null,
   "id": "9c2e108b-48c8-404c-b5c2-02844283d485",
   "metadata": {},
   "outputs": [],
   "source": [
    "agg_data['maint_C01_and_fail_C01'].value_counts()"
   ]
  },
  {
   "cell_type": "code",
   "execution_count": null,
   "id": "9f7e958f-4dd9-40e7-9005-b2836729b124",
   "metadata": {},
   "outputs": [],
   "source": [
    "# 발생 여부를 나타내는 컬럼은 category로 변경\n",
    "# Identify the maintenance and failure columns\n",
    "maint_columns = [col for col in agg_data.columns if 'maint' in col]\n",
    "fail_columns = [col for col in agg_data.columns if 'fail' in col]\n",
    "\n",
    "# Change these columns to category type\n",
    "for col in maint_columns + fail_columns:\n",
    "    agg_data[col] = agg_data[col].astype('category')\n",
    "    \n",
    "# M_ID도 category로 변경\n",
    "agg_data['M_ID'] = agg_data['M_ID'].astype('category')\n",
    "agg_data['Type'] = agg_data['Type'].astype('category')\n",
    "\n",
    "# Check the data types to confirm\n",
    "agg_data[maint_columns + fail_columns].dtypes"
   ]
  },
  {
   "cell_type": "code",
   "execution_count": null,
   "id": "dd6e3484-79f8-4941-88ff-1013023fb22b",
   "metadata": {},
   "outputs": [],
   "source": [
    "agg_data.info()"
   ]
  },
  {
   "cell_type": "code",
   "execution_count": null,
   "id": "056c00c0-3f77-44bb-a567-1c4f2daf5637",
   "metadata": {},
   "outputs": [],
   "source": [
    "maint_columns"
   ]
  },
  {
   "cell_type": "code",
   "execution_count": null,
   "id": "f388276d-1667-410f-a44b-614dc9f9e1da",
   "metadata": {},
   "outputs": [],
   "source": [
    "# Function to calculate the number of days since the most recent maintenance\n",
    "def days_since_most_recent_maint(df, maint_column):\n",
    "    # Reverse the DataFrame (so we start from the end)\n",
    "    # df = df[::-1]\n",
    "\n",
    "    # Find where maintenance has occurred\n",
    "    maint_days = df[maint_column] == 1\n",
    "\n",
    "    # Calculate the number of days since the most recent maintenance\n",
    "\n",
    "    days_since = maint_days.groupby((maint_days != maint_days.shift()).cumsum()).cumcount()\n",
    "\n",
    "    # Reverse the results to match the original DataFrame\n",
    "    days_since = days_since[::-1]\n",
    "\n",
    "    return days_since\n",
    "\n",
    "# Apply the function to each maintenance column\n",
    "for col in maint_columns:\n",
    "    agg_data[f'days_since_last_{col}'] = days_since_most_recent_maint(agg_data, col)\n",
    "\n",
    "# Check the new columns\n",
    "agg_data"
   ]
  },
  {
   "cell_type": "code",
   "execution_count": null,
   "id": "3a1e0586-bf5c-4518-b89a-284c66084367",
   "metadata": {},
   "outputs": [],
   "source": [
    "agg_data['fail_C02'].value_counts() # "
   ]
  },
  {
   "cell_type": "code",
   "execution_count": null,
   "id": "ddc35eb6-2117-4e84-acb1-f5be9249af81",
   "metadata": {},
   "outputs": [],
   "source": [
    "agg_data['maint_C04_due_to_fail_C04'].value_counts()"
   ]
  },
  {
   "cell_type": "code",
   "execution_count": null,
   "id": "c83cf822-b3bd-44ce-b34e-82006278f8cf",
   "metadata": {},
   "outputs": [],
   "source": [
    "agg_data.info()"
   ]
  },
  {
   "cell_type": "code",
   "execution_count": null,
   "id": "c24a5c46-0856-4fcd-8920-e3c0c764ff1d",
   "metadata": {},
   "outputs": [],
   "source": []
  },
  {
   "cell_type": "code",
   "execution_count": null,
   "id": "eaa1be16-6f90-4da2-bb60-0094cf00d244",
   "metadata": {},
   "outputs": [],
   "source": [
    "agg_data['days_since_last_maint_C02_due_to_fail_C02'].value_counts()"
   ]
  },
  {
   "cell_type": "code",
   "execution_count": null,
   "id": "3eebb04f-dd8c-4657-838e-25c1fa9c199a",
   "metadata": {},
   "outputs": [],
   "source": [
    "days_since_most_recent_maint(agg_data, 'maint_C01').cumcount()"
   ]
  },
  {
   "cell_type": "code",
   "execution_count": null,
   "id": "16eb90fc-08fe-4ac1-ae0f-71ec766b2cd8",
   "metadata": {},
   "outputs": [],
   "source": []
  },
  {
   "cell_type": "code",
   "execution_count": null,
   "id": "4ccb21f5-9b66-44bb-99d5-ebf609abcfea",
   "metadata": {},
   "outputs": [],
   "source": [
    "agg_data.to_csv('./data/machine_agg.csv', index=False)"
   ]
  },
  {
   "cell_type": "code",
   "execution_count": null,
   "id": "361f3bdd-e1f1-4e5a-b2d2-e35b5214cdb8",
   "metadata": {},
   "outputs": [],
   "source": [
    "# Create a new dataframe to store the results\n",
    "continuous_failures = pd.DataFrame()\n",
    "\n",
    "# For each machine\n",
    "for machine in agg_data['M_ID'].unique():\n",
    "    # For each type of failure\n",
    "    for fail_c in fail_col:\n",
    "        # Get the dates when failures occurred\n",
    "        fail_dates = agg_data.loc[(agg_data['M_ID'] == machine) & (agg_data[fail_c] > 0), 'Date'].sort_values()\n",
    "        # Calculate the differences between consecutive failure dates\n",
    "        fail_diffs = fail_dates.diff().dt.days\n",
    "        # If there are any differences of 1 day (i.e., continuous failures)\n",
    "        if any(fail_diffs == 1):\n",
    "            # Add a row to the results dataframe\n",
    "            continuous_failures = continuous_failures.append({'Machine': machine, 'Failure': fail_c, 'Continuous Failures': True}, ignore_index=True)\n",
    "\n",
    "# Display the results\n",
    "continuous_failures"
   ]
  },
  {
   "cell_type": "code",
   "execution_count": null,
   "id": "86bfb0d4-ae5b-42f7-aa43-f55f23c6ead2",
   "metadata": {},
   "outputs": [],
   "source": [
    "sns.lineplot(y='maint_C01_days_since', x='Date', data=agg_data[agg_data['M_ID']==2])"
   ]
  },
  {
   "cell_type": "code",
   "execution_count": null,
   "id": "1af0de9a-f901-48b5-8a58-91669af30a1f",
   "metadata": {},
   "outputs": [],
   "source": [
    "train_data = agg_data[agg_data.Date < '2015-12-01']\n",
    "valid_data = agg_data[agg_data.Date >= '2015-12-01']"
   ]
  },
  {
   "cell_type": "code",
   "execution_count": null,
   "id": "a2d020a4-4a03-485d-bdfc-0ce79eb739e2",
   "metadata": {},
   "outputs": [],
   "source": []
  }
 ],
 "metadata": {
  "kernelspec": {
   "display_name": "Python 3 (ipykernel)",
   "language": "python",
   "name": "python3"
  },
  "language_info": {
   "codemirror_mode": {
    "name": "ipython",
    "version": 3
   },
   "file_extension": ".py",
   "mimetype": "text/x-python",
   "name": "python",
   "nbconvert_exporter": "python",
   "pygments_lexer": "ipython3",
   "version": "3.8.10"
  }
 },
 "nbformat": 4,
 "nbformat_minor": 5
}
