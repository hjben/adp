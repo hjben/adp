{
 "cells": [
  {
   "cell_type": "markdown",
   "id": "855ceaa2-e223-4ae8-9b95-afe302f4919e",
   "metadata": {},
   "source": [
    "# Statistics - Descriptive"
   ]
  },
  {
   "cell_type": "code",
   "execution_count": 1,
   "id": "8c25ccff",
   "metadata": {},
   "outputs": [],
   "source": [
    "import warnings, platform\n",
    "from IPython.display import display, HTML"
   ]
  },
  {
   "cell_type": "code",
   "execution_count": 2,
   "id": "082a08c0",
   "metadata": {},
   "outputs": [
    {
     "data": {
      "text/html": [
       "<style>.container {width :98% !important;}</style>"
      ],
      "text/plain": [
       "<IPython.core.display.HTML object>"
      ]
     },
     "metadata": {},
     "output_type": "display_data"
    }
   ],
   "source": [
    "### HTML display 조정\n",
    "display(HTML(\"<style>.container {width :98% !important;}</style>\"))\n",
    "\n",
    "### Warning 제거\n",
    "warnings.filterwarnings('ignore')"
   ]
  },
  {
   "cell_type": "markdown",
   "id": "8eff4585-3134-417a-a0cf-cc6d5df6a436",
   "metadata": {},
   "source": [
    "## Package Load"
   ]
  },
  {
   "cell_type": "code",
   "execution_count": 4,
   "id": "0eef3d01-930f-421d-8c96-13042a3c5d8b",
   "metadata": {
    "tags": []
   },
   "outputs": [],
   "source": [
    "import numpy as np\n",
    "import pandas as pd\n",
    "\n",
    "import matplotlib.pyplot as plt\n",
    "import seaborn as sns\n",
    "\n",
    "import scipy.stats as stats"
   ]
  },
  {
   "cell_type": "markdown",
   "id": "31b3b20c-ddfd-477c-af6e-89526b87b18c",
   "metadata": {},
   "source": [
    "## Data"
   ]
  },
  {
   "cell_type": "markdown",
   "id": "d7ca48c8-0f33-4ac4-8e21-32b1cc7da465",
   "metadata": {},
   "source": [
    "### (1) Univariable data"
   ]
  },
  {
   "cell_type": "code",
   "execution_count": 5,
   "id": "c4c95408-4cc0-4469-abfb-36c8ed83fd57",
   "metadata": {},
   "outputs": [
    {
     "data": {
      "text/plain": [
       "array([2, 3, 3, 4, 4, 4, 4, 5, 5, 6])"
      ]
     },
     "execution_count": 5,
     "metadata": {},
     "output_type": "execute_result"
    }
   ],
   "source": [
    "fish_data = np.array([2, 3, 3, 4, 4, 4, 4, 5, 5, 6])\n",
    "fish_data"
   ]
  },
  {
   "cell_type": "markdown",
   "id": "e0999e31-76e3-43c0-a0aa-120544ea29f4",
   "metadata": {},
   "source": [
    "### (2) Multivariable data\n",
    "- 열이 변수의 의미를 가지에 해야 분석이 용이\n",
    "- 행 하나에 1개의 결과가 있도록 정리"
   ]
  },
  {
   "cell_type": "code",
   "execution_count": 6,
   "id": "1b4f947a-8501-484b-bc31-4ab7d2e24a26",
   "metadata": {
    "tags": []
   },
   "outputs": [
    {
     "data": {
      "text/html": [
       "<div>\n",
       "<style scoped>\n",
       "    .dataframe tbody tr th:only-of-type {\n",
       "        vertical-align: middle;\n",
       "    }\n",
       "\n",
       "    .dataframe tbody tr th {\n",
       "        vertical-align: top;\n",
       "    }\n",
       "\n",
       "    .dataframe thead th {\n",
       "        text-align: right;\n",
       "    }\n",
       "</style>\n",
       "<table border=\"1\" class=\"dataframe\">\n",
       "  <thead>\n",
       "    <tr style=\"text-align: right;\">\n",
       "      <th></th>\n",
       "      <th>State</th>\n",
       "      <th>Population</th>\n",
       "      <th>Murder.Rate</th>\n",
       "      <th>Abbreviation</th>\n",
       "    </tr>\n",
       "  </thead>\n",
       "  <tbody>\n",
       "    <tr>\n",
       "      <th>0</th>\n",
       "      <td>Alabama</td>\n",
       "      <td>4779736</td>\n",
       "      <td>5.7</td>\n",
       "      <td>AL</td>\n",
       "    </tr>\n",
       "    <tr>\n",
       "      <th>1</th>\n",
       "      <td>Alaska</td>\n",
       "      <td>710231</td>\n",
       "      <td>5.6</td>\n",
       "      <td>AK</td>\n",
       "    </tr>\n",
       "    <tr>\n",
       "      <th>2</th>\n",
       "      <td>Arizona</td>\n",
       "      <td>6392017</td>\n",
       "      <td>4.7</td>\n",
       "      <td>AZ</td>\n",
       "    </tr>\n",
       "    <tr>\n",
       "      <th>3</th>\n",
       "      <td>Arkansas</td>\n",
       "      <td>2915918</td>\n",
       "      <td>5.6</td>\n",
       "      <td>AR</td>\n",
       "    </tr>\n",
       "    <tr>\n",
       "      <th>4</th>\n",
       "      <td>California</td>\n",
       "      <td>37253956</td>\n",
       "      <td>4.4</td>\n",
       "      <td>CA</td>\n",
       "    </tr>\n",
       "  </tbody>\n",
       "</table>\n",
       "</div>"
      ],
      "text/plain": [
       "        State  Population  Murder.Rate Abbreviation\n",
       "0     Alabama     4779736          5.7           AL\n",
       "1      Alaska      710231          5.6           AK\n",
       "2     Arizona     6392017          4.7           AZ\n",
       "3    Arkansas     2915918          5.6           AR\n",
       "4  California    37253956          4.4           CA"
      ]
     },
     "execution_count": 6,
     "metadata": {},
     "output_type": "execute_result"
    }
   ],
   "source": [
    "state = pd.read_csv(\"./Practical_Statictics/data/state.csv\")\n",
    "state.head()"
   ]
  },
  {
   "cell_type": "code",
   "execution_count": 7,
   "id": "852cbed7-d8f0-48c5-9099-5cc40899a777",
   "metadata": {},
   "outputs": [
    {
     "data": {
      "text/html": [
       "<div>\n",
       "<style scoped>\n",
       "    .dataframe tbody tr th:only-of-type {\n",
       "        vertical-align: middle;\n",
       "    }\n",
       "\n",
       "    .dataframe tbody tr th {\n",
       "        vertical-align: top;\n",
       "    }\n",
       "\n",
       "    .dataframe thead th {\n",
       "        text-align: right;\n",
       "    }\n",
       "</style>\n",
       "<table border=\"1\" class=\"dataframe\">\n",
       "  <thead>\n",
       "    <tr style=\"text-align: right;\">\n",
       "      <th></th>\n",
       "      <th>store</th>\n",
       "      <th>color</th>\n",
       "      <th>sales</th>\n",
       "    </tr>\n",
       "  </thead>\n",
       "  <tbody>\n",
       "    <tr>\n",
       "      <th>0</th>\n",
       "      <td>tokyo</td>\n",
       "      <td>blue</td>\n",
       "      <td>10</td>\n",
       "    </tr>\n",
       "    <tr>\n",
       "      <th>1</th>\n",
       "      <td>tokyo</td>\n",
       "      <td>red</td>\n",
       "      <td>15</td>\n",
       "    </tr>\n",
       "    <tr>\n",
       "      <th>2</th>\n",
       "      <td>osaka</td>\n",
       "      <td>blue</td>\n",
       "      <td>13</td>\n",
       "    </tr>\n",
       "    <tr>\n",
       "      <th>3</th>\n",
       "      <td>osaka</td>\n",
       "      <td>red</td>\n",
       "      <td>9</td>\n",
       "    </tr>\n",
       "  </tbody>\n",
       "</table>\n",
       "</div>"
      ],
      "text/plain": [
       "   store color  sales\n",
       "0  tokyo  blue     10\n",
       "1  tokyo   red     15\n",
       "2  osaka  blue     13\n",
       "3  osaka   red      9"
      ]
     },
     "execution_count": 7,
     "metadata": {},
     "output_type": "execute_result"
    }
   ],
   "source": [
    "shoes = pd.read_csv(\"./stats_for_python/3-2-2-shoes.csv\")\n",
    "shoes"
   ]
  },
  {
   "cell_type": "code",
   "execution_count": 8,
   "id": "633eb4ee-7d7e-4171-b41b-410c7b54283d",
   "metadata": {},
   "outputs": [
    {
     "data": {
      "text/html": [
       "<div>\n",
       "<style scoped>\n",
       "    .dataframe tbody tr th:only-of-type {\n",
       "        vertical-align: middle;\n",
       "    }\n",
       "\n",
       "    .dataframe tbody tr th {\n",
       "        vertical-align: top;\n",
       "    }\n",
       "\n",
       "    .dataframe thead th {\n",
       "        text-align: right;\n",
       "    }\n",
       "</style>\n",
       "<table border=\"1\" class=\"dataframe\">\n",
       "  <thead>\n",
       "    <tr style=\"text-align: right;\">\n",
       "      <th></th>\n",
       "      <th>species</th>\n",
       "      <th>length</th>\n",
       "    </tr>\n",
       "  </thead>\n",
       "  <tbody>\n",
       "    <tr>\n",
       "      <th>0</th>\n",
       "      <td>A</td>\n",
       "      <td>2</td>\n",
       "    </tr>\n",
       "    <tr>\n",
       "      <th>1</th>\n",
       "      <td>A</td>\n",
       "      <td>3</td>\n",
       "    </tr>\n",
       "    <tr>\n",
       "      <th>2</th>\n",
       "      <td>A</td>\n",
       "      <td>4</td>\n",
       "    </tr>\n",
       "    <tr>\n",
       "      <th>3</th>\n",
       "      <td>B</td>\n",
       "      <td>6</td>\n",
       "    </tr>\n",
       "    <tr>\n",
       "      <th>4</th>\n",
       "      <td>B</td>\n",
       "      <td>8</td>\n",
       "    </tr>\n",
       "    <tr>\n",
       "      <th>5</th>\n",
       "      <td>B</td>\n",
       "      <td>10</td>\n",
       "    </tr>\n",
       "  </tbody>\n",
       "</table>\n",
       "</div>"
      ],
      "text/plain": [
       "  species  length\n",
       "0       A       2\n",
       "1       A       3\n",
       "2       A       4\n",
       "3       B       6\n",
       "4       B       8\n",
       "5       B      10"
      ]
     },
     "execution_count": 8,
     "metadata": {},
     "output_type": "execute_result"
    }
   ],
   "source": [
    "fish_multi = pd.read_csv(\"./stats_for_python/3-2-1-fish_multi.csv\")\n",
    "fish_multi"
   ]
  },
  {
   "cell_type": "code",
   "execution_count": 9,
   "id": "246c2a06-2976-4c64-b6f5-acf3e817324b",
   "metadata": {},
   "outputs": [
    {
     "data": {
      "text/html": [
       "<div>\n",
       "<style scoped>\n",
       "    .dataframe tbody tr th:only-of-type {\n",
       "        vertical-align: middle;\n",
       "    }\n",
       "\n",
       "    .dataframe tbody tr th {\n",
       "        vertical-align: top;\n",
       "    }\n",
       "\n",
       "    .dataframe thead th {\n",
       "        text-align: right;\n",
       "    }\n",
       "</style>\n",
       "<table border=\"1\" class=\"dataframe\">\n",
       "  <thead>\n",
       "    <tr style=\"text-align: right;\">\n",
       "      <th></th>\n",
       "      <th>length</th>\n",
       "    </tr>\n",
       "    <tr>\n",
       "      <th>species</th>\n",
       "      <th></th>\n",
       "    </tr>\n",
       "  </thead>\n",
       "  <tbody>\n",
       "    <tr>\n",
       "      <th>A</th>\n",
       "      <td>3.0</td>\n",
       "    </tr>\n",
       "    <tr>\n",
       "      <th>B</th>\n",
       "      <td>8.0</td>\n",
       "    </tr>\n",
       "  </tbody>\n",
       "</table>\n",
       "</div>"
      ],
      "text/plain": [
       "         length\n",
       "species        \n",
       "A           3.0\n",
       "B           8.0"
      ]
     },
     "execution_count": 9,
     "metadata": {},
     "output_type": "execute_result"
    }
   ],
   "source": [
    "### Grouping\n",
    "group = fish_multi.groupby(\"species\")\n",
    "group.mean()"
   ]
  },
  {
   "cell_type": "code",
   "execution_count": 10,
   "id": "4da3f6d7-90ca-4735-868e-3001fe7765e1",
   "metadata": {},
   "outputs": [
    {
     "data": {
      "text/html": [
       "<div>\n",
       "<style scoped>\n",
       "    .dataframe tbody tr th:only-of-type {\n",
       "        vertical-align: middle;\n",
       "    }\n",
       "\n",
       "    .dataframe tbody tr th {\n",
       "        vertical-align: top;\n",
       "    }\n",
       "\n",
       "    .dataframe thead th {\n",
       "        text-align: right;\n",
       "    }\n",
       "</style>\n",
       "<table border=\"1\" class=\"dataframe\">\n",
       "  <thead>\n",
       "    <tr style=\"text-align: right;\">\n",
       "      <th></th>\n",
       "      <th>length</th>\n",
       "    </tr>\n",
       "    <tr>\n",
       "      <th>species</th>\n",
       "      <th></th>\n",
       "    </tr>\n",
       "  </thead>\n",
       "  <tbody>\n",
       "    <tr>\n",
       "      <th>A</th>\n",
       "      <td>1.0</td>\n",
       "    </tr>\n",
       "    <tr>\n",
       "      <th>B</th>\n",
       "      <td>2.0</td>\n",
       "    </tr>\n",
       "  </tbody>\n",
       "</table>\n",
       "</div>"
      ],
      "text/plain": [
       "         length\n",
       "species        \n",
       "A           1.0\n",
       "B           2.0"
      ]
     },
     "execution_count": 10,
     "metadata": {},
     "output_type": "execute_result"
    }
   ],
   "source": [
    "group.std(ddof=1)"
   ]
  },
  {
   "cell_type": "code",
   "execution_count": 11,
   "id": "563611c0-8c24-4d02-840f-82f201c3dcdc",
   "metadata": {},
   "outputs": [
    {
     "data": {
      "text/html": [
       "<div>\n",
       "<style scoped>\n",
       "    .dataframe tbody tr th:only-of-type {\n",
       "        vertical-align: middle;\n",
       "    }\n",
       "\n",
       "    .dataframe tbody tr th {\n",
       "        vertical-align: top;\n",
       "    }\n",
       "\n",
       "    .dataframe thead tr th {\n",
       "        text-align: left;\n",
       "    }\n",
       "\n",
       "    .dataframe thead tr:last-of-type th {\n",
       "        text-align: right;\n",
       "    }\n",
       "</style>\n",
       "<table border=\"1\" class=\"dataframe\">\n",
       "  <thead>\n",
       "    <tr>\n",
       "      <th></th>\n",
       "      <th colspan=\"8\" halign=\"left\">length</th>\n",
       "    </tr>\n",
       "    <tr>\n",
       "      <th></th>\n",
       "      <th>count</th>\n",
       "      <th>mean</th>\n",
       "      <th>std</th>\n",
       "      <th>min</th>\n",
       "      <th>25%</th>\n",
       "      <th>50%</th>\n",
       "      <th>75%</th>\n",
       "      <th>max</th>\n",
       "    </tr>\n",
       "    <tr>\n",
       "      <th>species</th>\n",
       "      <th></th>\n",
       "      <th></th>\n",
       "      <th></th>\n",
       "      <th></th>\n",
       "      <th></th>\n",
       "      <th></th>\n",
       "      <th></th>\n",
       "      <th></th>\n",
       "    </tr>\n",
       "  </thead>\n",
       "  <tbody>\n",
       "    <tr>\n",
       "      <th>A</th>\n",
       "      <td>3.0</td>\n",
       "      <td>3.0</td>\n",
       "      <td>1.0</td>\n",
       "      <td>2.0</td>\n",
       "      <td>2.5</td>\n",
       "      <td>3.0</td>\n",
       "      <td>3.5</td>\n",
       "      <td>4.0</td>\n",
       "    </tr>\n",
       "    <tr>\n",
       "      <th>B</th>\n",
       "      <td>3.0</td>\n",
       "      <td>8.0</td>\n",
       "      <td>2.0</td>\n",
       "      <td>6.0</td>\n",
       "      <td>7.0</td>\n",
       "      <td>8.0</td>\n",
       "      <td>9.0</td>\n",
       "      <td>10.0</td>\n",
       "    </tr>\n",
       "  </tbody>\n",
       "</table>\n",
       "</div>"
      ],
      "text/plain": [
       "        length                                    \n",
       "         count mean  std  min  25%  50%  75%   max\n",
       "species                                           \n",
       "A          3.0  3.0  1.0  2.0  2.5  3.0  3.5   4.0\n",
       "B          3.0  8.0  2.0  6.0  7.0  8.0  9.0  10.0"
      ]
     },
     "execution_count": 11,
     "metadata": {},
     "output_type": "execute_result"
    }
   ],
   "source": [
    "group.describe()"
   ]
  },
  {
   "cell_type": "code",
   "execution_count": 12,
   "id": "8e71fbc3-ecf1-4ebe-bae3-c700521b2553",
   "metadata": {},
   "outputs": [
    {
     "data": {
      "text/html": [
       "<div>\n",
       "<style scoped>\n",
       "    .dataframe tbody tr th:only-of-type {\n",
       "        vertical-align: middle;\n",
       "    }\n",
       "\n",
       "    .dataframe tbody tr th {\n",
       "        vertical-align: top;\n",
       "    }\n",
       "\n",
       "    .dataframe thead th {\n",
       "        text-align: right;\n",
       "    }\n",
       "</style>\n",
       "<table border=\"1\" class=\"dataframe\">\n",
       "  <thead>\n",
       "    <tr style=\"text-align: right;\">\n",
       "      <th>color</th>\n",
       "      <th>blue</th>\n",
       "      <th>red</th>\n",
       "    </tr>\n",
       "    <tr>\n",
       "      <th>store</th>\n",
       "      <th></th>\n",
       "      <th></th>\n",
       "    </tr>\n",
       "  </thead>\n",
       "  <tbody>\n",
       "    <tr>\n",
       "      <th>osaka</th>\n",
       "      <td>13</td>\n",
       "      <td>9</td>\n",
       "    </tr>\n",
       "    <tr>\n",
       "      <th>tokyo</th>\n",
       "      <td>10</td>\n",
       "      <td>15</td>\n",
       "    </tr>\n",
       "  </tbody>\n",
       "</table>\n",
       "</div>"
      ],
      "text/plain": [
       "color  blue  red\n",
       "store           \n",
       "osaka    13    9\n",
       "tokyo    10   15"
      ]
     },
     "execution_count": 12,
     "metadata": {},
     "output_type": "execute_result"
    }
   ],
   "source": [
    "### Contingency table\n",
    "cross = pd.pivot_table(\n",
    "    data = shoes,\n",
    "    values = \"sales\",\n",
    "    aggfunc = \"sum\",\n",
    "    index = \"store\",\n",
    "    columns = \"color\")\n",
    "cross"
   ]
  },
  {
   "cell_type": "code",
   "execution_count": 14,
   "id": "c04370b9-a3a8-44a8-bdb7-b4b0250d2df6",
   "metadata": {
    "tags": []
   },
   "outputs": [
    {
     "data": {
      "text/html": [
       "<div>\n",
       "<style scoped>\n",
       "    .dataframe tbody tr th:only-of-type {\n",
       "        vertical-align: middle;\n",
       "    }\n",
       "\n",
       "    .dataframe tbody tr th {\n",
       "        vertical-align: top;\n",
       "    }\n",
       "\n",
       "    .dataframe thead th {\n",
       "        text-align: right;\n",
       "    }\n",
       "</style>\n",
       "<table border=\"1\" class=\"dataframe\">\n",
       "  <thead>\n",
       "    <tr style=\"text-align: right;\">\n",
       "      <th>status</th>\n",
       "      <th>Charged Off</th>\n",
       "      <th>Current</th>\n",
       "      <th>Fully Paid</th>\n",
       "      <th>Late</th>\n",
       "      <th>All</th>\n",
       "    </tr>\n",
       "    <tr>\n",
       "      <th>grade</th>\n",
       "      <th></th>\n",
       "      <th></th>\n",
       "      <th></th>\n",
       "      <th></th>\n",
       "      <th></th>\n",
       "    </tr>\n",
       "  </thead>\n",
       "  <tbody>\n",
       "    <tr>\n",
       "      <th>A</th>\n",
       "      <td>1562</td>\n",
       "      <td>50051</td>\n",
       "      <td>20408</td>\n",
       "      <td>469</td>\n",
       "      <td>72490</td>\n",
       "    </tr>\n",
       "    <tr>\n",
       "      <th>B</th>\n",
       "      <td>5302</td>\n",
       "      <td>93852</td>\n",
       "      <td>31160</td>\n",
       "      <td>2056</td>\n",
       "      <td>132370</td>\n",
       "    </tr>\n",
       "    <tr>\n",
       "      <th>C</th>\n",
       "      <td>6023</td>\n",
       "      <td>88928</td>\n",
       "      <td>23147</td>\n",
       "      <td>2777</td>\n",
       "      <td>120875</td>\n",
       "    </tr>\n",
       "    <tr>\n",
       "      <th>D</th>\n",
       "      <td>5007</td>\n",
       "      <td>53281</td>\n",
       "      <td>13681</td>\n",
       "      <td>2308</td>\n",
       "      <td>74277</td>\n",
       "    </tr>\n",
       "    <tr>\n",
       "      <th>E</th>\n",
       "      <td>2842</td>\n",
       "      <td>24639</td>\n",
       "      <td>5949</td>\n",
       "      <td>1374</td>\n",
       "      <td>34804</td>\n",
       "    </tr>\n",
       "    <tr>\n",
       "      <th>F</th>\n",
       "      <td>1526</td>\n",
       "      <td>8444</td>\n",
       "      <td>2328</td>\n",
       "      <td>606</td>\n",
       "      <td>12904</td>\n",
       "    </tr>\n",
       "    <tr>\n",
       "      <th>G</th>\n",
       "      <td>409</td>\n",
       "      <td>1990</td>\n",
       "      <td>643</td>\n",
       "      <td>199</td>\n",
       "      <td>3241</td>\n",
       "    </tr>\n",
       "    <tr>\n",
       "      <th>All</th>\n",
       "      <td>22671</td>\n",
       "      <td>321185</td>\n",
       "      <td>97316</td>\n",
       "      <td>9789</td>\n",
       "      <td>450961</td>\n",
       "    </tr>\n",
       "  </tbody>\n",
       "</table>\n",
       "</div>"
      ],
      "text/plain": [
       "status  Charged Off  Current  Fully Paid  Late     All\n",
       "grade                                                 \n",
       "A              1562    50051       20408   469   72490\n",
       "B              5302    93852       31160  2056  132370\n",
       "C              6023    88928       23147  2777  120875\n",
       "D              5007    53281       13681  2308   74277\n",
       "E              2842    24639        5949  1374   34804\n",
       "F              1526     8444        2328   606   12904\n",
       "G               409     1990         643   199    3241\n",
       "All           22671   321185       97316  9789  450961"
      ]
     },
     "execution_count": 14,
     "metadata": {},
     "output_type": "execute_result"
    }
   ],
   "source": [
    "lc_loans = pd.read_csv(\"./Practical_Statictics/data/lc_loans.csv\")\n",
    "\n",
    "crosstab = lc_loans.pivot_table(index='grade', columns='status', aggfunc=lambda x: len(x), margins=True)\n",
    "crosstab"
   ]
  },
  {
   "cell_type": "code",
   "execution_count": 15,
   "id": "b3ad28c4-1d7a-4f68-9550-461031039be5",
   "metadata": {
    "scrolled": true,
    "tags": []
   },
   "outputs": [
    {
     "data": {
      "text/html": [
       "<div>\n",
       "<style scoped>\n",
       "    .dataframe tbody tr th:only-of-type {\n",
       "        vertical-align: middle;\n",
       "    }\n",
       "\n",
       "    .dataframe tbody tr th {\n",
       "        vertical-align: top;\n",
       "    }\n",
       "\n",
       "    .dataframe thead th {\n",
       "        text-align: right;\n",
       "    }\n",
       "</style>\n",
       "<table border=\"1\" class=\"dataframe\">\n",
       "  <thead>\n",
       "    <tr style=\"text-align: right;\">\n",
       "      <th>status</th>\n",
       "      <th>Charged Off</th>\n",
       "      <th>Current</th>\n",
       "      <th>Fully Paid</th>\n",
       "      <th>Late</th>\n",
       "      <th>All</th>\n",
       "    </tr>\n",
       "    <tr>\n",
       "      <th>grade</th>\n",
       "      <th></th>\n",
       "      <th></th>\n",
       "      <th></th>\n",
       "      <th></th>\n",
       "      <th></th>\n",
       "    </tr>\n",
       "  </thead>\n",
       "  <tbody>\n",
       "    <tr>\n",
       "      <th>A</th>\n",
       "      <td>0.021548</td>\n",
       "      <td>0.690454</td>\n",
       "      <td>0.281528</td>\n",
       "      <td>0.006470</td>\n",
       "      <td>0.160746</td>\n",
       "    </tr>\n",
       "    <tr>\n",
       "      <th>B</th>\n",
       "      <td>0.040054</td>\n",
       "      <td>0.709013</td>\n",
       "      <td>0.235401</td>\n",
       "      <td>0.015532</td>\n",
       "      <td>0.293529</td>\n",
       "    </tr>\n",
       "    <tr>\n",
       "      <th>C</th>\n",
       "      <td>0.049828</td>\n",
       "      <td>0.735702</td>\n",
       "      <td>0.191495</td>\n",
       "      <td>0.022974</td>\n",
       "      <td>0.268039</td>\n",
       "    </tr>\n",
       "    <tr>\n",
       "      <th>D</th>\n",
       "      <td>0.067410</td>\n",
       "      <td>0.717328</td>\n",
       "      <td>0.184189</td>\n",
       "      <td>0.031073</td>\n",
       "      <td>0.164708</td>\n",
       "    </tr>\n",
       "    <tr>\n",
       "      <th>E</th>\n",
       "      <td>0.081657</td>\n",
       "      <td>0.707936</td>\n",
       "      <td>0.170929</td>\n",
       "      <td>0.039478</td>\n",
       "      <td>0.077177</td>\n",
       "    </tr>\n",
       "    <tr>\n",
       "      <th>F</th>\n",
       "      <td>0.118258</td>\n",
       "      <td>0.654371</td>\n",
       "      <td>0.180409</td>\n",
       "      <td>0.046962</td>\n",
       "      <td>0.028614</td>\n",
       "    </tr>\n",
       "    <tr>\n",
       "      <th>G</th>\n",
       "      <td>0.126196</td>\n",
       "      <td>0.614008</td>\n",
       "      <td>0.198396</td>\n",
       "      <td>0.061401</td>\n",
       "      <td>0.007187</td>\n",
       "    </tr>\n",
       "  </tbody>\n",
       "</table>\n",
       "</div>"
      ],
      "text/plain": [
       "status  Charged Off   Current  Fully Paid      Late       All\n",
       "grade                                                        \n",
       "A          0.021548  0.690454    0.281528  0.006470  0.160746\n",
       "B          0.040054  0.709013    0.235401  0.015532  0.293529\n",
       "C          0.049828  0.735702    0.191495  0.022974  0.268039\n",
       "D          0.067410  0.717328    0.184189  0.031073  0.164708\n",
       "E          0.081657  0.707936    0.170929  0.039478  0.077177\n",
       "F          0.118258  0.654371    0.180409  0.046962  0.028614\n",
       "G          0.126196  0.614008    0.198396  0.061401  0.007187"
      ]
     },
     "execution_count": 15,
     "metadata": {},
     "output_type": "execute_result"
    }
   ],
   "source": [
    "df = crosstab.copy().loc['A':'G', :]\n",
    "df.loc[:,'Charged Off':'Late'] = df.loc[:,'Charged Off':'Late'].div(df['All'], axis=0)\n",
    "df['All'] = df['All'] / sum(df['All'])\n",
    "df"
   ]
  },
  {
   "cell_type": "markdown",
   "id": "abb4240a-e480-4d42-9c38-a1a21c5e3018",
   "metadata": {},
   "source": [
    "## Numerical Descriptives"
   ]
  },
  {
   "cell_type": "markdown",
   "id": "6b9d7fbe-a26f-4842-bf6f-f3078988532f",
   "metadata": {},
   "source": [
    "### (1) Measures of central location"
   ]
  },
  {
   "cell_type": "code",
   "execution_count": 16,
   "id": "444d5e0c-8dce-4d20-a1fc-b1ea970a59c1",
   "metadata": {},
   "outputs": [
    {
     "data": {
      "text/plain": [
       "40"
      ]
     },
     "execution_count": 16,
     "metadata": {},
     "output_type": "execute_result"
    }
   ],
   "source": [
    "### sum\n",
    "fish_data.sum()"
   ]
  },
  {
   "cell_type": "code",
   "execution_count": 17,
   "id": "65919d7f-7028-456f-9f58-1b32cdc571d5",
   "metadata": {},
   "outputs": [
    {
     "data": {
      "text/plain": [
       "10"
      ]
     },
     "execution_count": 17,
     "metadata": {},
     "output_type": "execute_result"
    }
   ],
   "source": [
    "### length\n",
    "len(fish_data)"
   ]
  },
  {
   "cell_type": "code",
   "execution_count": 18,
   "id": "a434b08f-1dff-4017-a428-5d02608fbc6b",
   "metadata": {},
   "outputs": [
    {
     "data": {
      "text/plain": [
       "4.0"
      ]
     },
     "execution_count": 18,
     "metadata": {},
     "output_type": "execute_result"
    }
   ],
   "source": [
    "### mean\n",
    "fish_data.mean()"
   ]
  },
  {
   "cell_type": "code",
   "execution_count": 19,
   "id": "dec521a2-5baa-4b31-9415-43b9ac8a887e",
   "metadata": {
    "tags": []
   },
   "outputs": [
    {
     "data": {
      "text/plain": [
       "6162876.3"
      ]
     },
     "execution_count": 19,
     "metadata": {},
     "output_type": "execute_result"
    }
   ],
   "source": [
    "state['Population'].mean()"
   ]
  },
  {
   "cell_type": "code",
   "execution_count": 20,
   "id": "4be07af3-78e8-41d7-97ba-d97931d64470",
   "metadata": {},
   "outputs": [
    {
     "data": {
      "text/plain": [
       "46.415888336127786"
      ]
     },
     "execution_count": 20,
     "metadata": {},
     "output_type": "execute_result"
    }
   ],
   "source": [
    "### geometric mean\n",
    "# 곱셈으로 계산하는 값들의 평균\n",
    "stats.gmean([1.0, 0.00001, 10000000000.])"
   ]
  },
  {
   "cell_type": "code",
   "execution_count": 21,
   "id": "bea5a375-bc9a-4286-9ee5-94d89b2a0dbb",
   "metadata": {},
   "outputs": [
    {
     "data": {
      "text/plain": [
       "2.9999700002999943e-05"
      ]
     },
     "execution_count": 21,
     "metadata": {},
     "output_type": "execute_result"
    }
   ],
   "source": [
    "### harmonic mean\n",
    "# 변화율의 평균\n",
    "stats.hmean([1.0, 0.00001, 10000000000.])"
   ]
  },
  {
   "cell_type": "code",
   "execution_count": 22,
   "id": "cb954fc5-7f8c-4b4c-b870-ce7b33b9348f",
   "metadata": {},
   "outputs": [
    {
     "data": {
      "text/plain": [
       "4.0"
      ]
     },
     "execution_count": 22,
     "metadata": {},
     "output_type": "execute_result"
    }
   ],
   "source": [
    "### trim mean\n",
    "stats.trim_mean(fish_data, 0.2) # trim 비율도 파라미터로 들어감"
   ]
  },
  {
   "cell_type": "code",
   "execution_count": 23,
   "id": "6983be06-7b3f-4e9b-84ee-63f0ac357704",
   "metadata": {
    "tags": []
   },
   "outputs": [
    {
     "data": {
      "text/plain": [
       "4783697.125"
      ]
     },
     "execution_count": 23,
     "metadata": {},
     "output_type": "execute_result"
    }
   ],
   "source": [
    "stats.trim_mean(state['Population'], 0.1)"
   ]
  },
  {
   "cell_type": "code",
   "execution_count": 24,
   "id": "40b2fda1-0108-4cc9-9fc7-06e81b57fdd7",
   "metadata": {},
   "outputs": [
    {
     "data": {
      "text/plain": [
       "4.0"
      ]
     },
     "execution_count": 24,
     "metadata": {},
     "output_type": "execute_result"
    }
   ],
   "source": [
    "### Median\n",
    "np.median(fish_data)"
   ]
  },
  {
   "cell_type": "code",
   "execution_count": 25,
   "id": "87d644e4-d597-4b30-9979-939624b80727",
   "metadata": {
    "tags": []
   },
   "outputs": [
    {
     "data": {
      "text/plain": [
       "4436369.5"
      ]
     },
     "execution_count": 25,
     "metadata": {},
     "output_type": "execute_result"
    }
   ],
   "source": [
    "state['Population'].median()"
   ]
  },
  {
   "cell_type": "code",
   "execution_count": 26,
   "id": "bf8079cd-d49e-4b25-bc0a-2d7907247655",
   "metadata": {},
   "outputs": [
    {
     "name": "stdout",
     "output_type": "stream",
     "text": [
      "13.4 4.0\n"
     ]
    }
   ],
   "source": [
    "# 이상치의 영향\n",
    "fish_data_2 = np.array([2, 3, 3, 4, 4, 4, 4, 5, 5, 100])\n",
    "print(np.mean(fish_data_2), np.median(fish_data_2))"
   ]
  },
  {
   "cell_type": "code",
   "execution_count": 27,
   "id": "676c3813-3486-4082-8ffc-affc71aac9aa",
   "metadata": {
    "tags": []
   },
   "outputs": [
    {
     "data": {
      "text/plain": [
       "4.445833981123393"
      ]
     },
     "execution_count": 27,
     "metadata": {},
     "output_type": "execute_result"
    }
   ],
   "source": [
    "### weighted mean\n",
    "np.average(state['Murder.Rate'], weights=state['Population'])"
   ]
  },
  {
   "cell_type": "code",
   "execution_count": 28,
   "id": "39a736fb-0873-47c1-88ef-8b5fe194dfa1",
   "metadata": {},
   "outputs": [
    {
     "data": {
      "text/plain": [
       "ModeResult(mode=array([4]), count=array([4]))"
      ]
     },
     "execution_count": 28,
     "metadata": {},
     "output_type": "execute_result"
    }
   ],
   "source": [
    "### mode\n",
    "stats.mode(fish_data)"
   ]
  },
  {
   "cell_type": "code",
   "execution_count": 29,
   "id": "da06ee81-066d-49b1-a89d-941b2b213eaa",
   "metadata": {},
   "outputs": [
    {
     "data": {
      "text/plain": [
       "ModeResult(mode=array([1.6]), count=array([3]))"
      ]
     },
     "execution_count": 29,
     "metadata": {},
     "output_type": "execute_result"
    }
   ],
   "source": [
    "stats.mode(state['Murder.Rate'])"
   ]
  },
  {
   "cell_type": "code",
   "execution_count": 30,
   "id": "a5de6d96-eeef-48f3-ac94-93a2283672b4",
   "metadata": {},
   "outputs": [
    {
     "data": {
      "text/plain": [
       "0    1.6\n",
       "1    2.0\n",
       "2    5.7\n",
       "Name: Murder.Rate, dtype: float64"
      ]
     },
     "execution_count": 30,
     "metadata": {},
     "output_type": "execute_result"
    }
   ],
   "source": [
    "state['Murder.Rate'].mode()"
   ]
  },
  {
   "cell_type": "markdown",
   "id": "9b364e43-cad5-4e5d-96db-fedb8fc3e83c",
   "metadata": {},
   "source": [
    "### (2) Measures of variability"
   ]
  },
  {
   "cell_type": "code",
   "execution_count": 31,
   "id": "4f0f6ce6-d41d-483d-8f36-2ab3017e6bda",
   "metadata": {},
   "outputs": [
    {
     "data": {
      "text/plain": [
       "1.2"
      ]
     },
     "execution_count": 31,
     "metadata": {},
     "output_type": "execute_result"
    }
   ],
   "source": [
    "### variance\n",
    "# np.var(fish_data, ddof=0) # 동일\n",
    "fish_data.var()"
   ]
  },
  {
   "cell_type": "code",
   "execution_count": 32,
   "id": "3ace7cde-8c35-4b87-925e-2673fc3436d8",
   "metadata": {},
   "outputs": [
    {
     "data": {
      "text/plain": [
       "1.3333333333333333"
      ]
     },
     "execution_count": 32,
     "metadata": {},
     "output_type": "execute_result"
    }
   ],
   "source": [
    "### Unbiased variance\n",
    "# N-1로 나눔\n",
    "np.var(fish_data, ddof=1) "
   ]
  },
  {
   "cell_type": "code",
   "execution_count": 33,
   "id": "4a2287a3-76a7-41ac-8eff-8cd69b33f95e",
   "metadata": {},
   "outputs": [
    {
     "data": {
      "text/plain": [
       "1.1547005383792515"
      ]
     },
     "execution_count": 33,
     "metadata": {},
     "output_type": "execute_result"
    }
   ],
   "source": [
    "### Std. deviation\n",
    "# np.std(fish_data, ddof=0)\n",
    "np.std(fish_data, ddof=1)"
   ]
  },
  {
   "cell_type": "code",
   "execution_count": 34,
   "id": "1032e600-09f4-41c8-b991-964af8e07ee8",
   "metadata": {
    "tags": []
   },
   "outputs": [
    {
     "data": {
      "text/plain": [
       "6848235.347401142"
      ]
     },
     "execution_count": 34,
     "metadata": {},
     "output_type": "execute_result"
    }
   ],
   "source": [
    "state['Population'].std()"
   ]
  },
  {
   "cell_type": "code",
   "execution_count": 35,
   "id": "22eb2bbe-dbce-4cee-8fd8-faefcca28c9f",
   "metadata": {},
   "outputs": [
    {
     "name": "stdout",
     "output_type": "stream",
     "text": [
      "2.2204460492503132e-17\n",
      "1.0\n"
     ]
    }
   ],
   "source": [
    "### Standardization\n",
    "# 평균 0, 표준편차 1\n",
    "print(np.mean((fish_data - fish_data.mean())/np.std(fish_data, ddof=0)))\n",
    "print(np.std((fish_data - fish_data.mean())/np.std(fish_data, ddof=0)))"
   ]
  },
  {
   "cell_type": "code",
   "execution_count": 36,
   "id": "27174f6e-ee10-465e-9e65-03cf0e6321aa",
   "metadata": {},
   "outputs": [
    {
     "data": {
      "text/plain": [
       "0.28867513459481287"
      ]
     },
     "execution_count": 36,
     "metadata": {},
     "output_type": "execute_result"
    }
   ],
   "source": [
    "### Coefficient of Vriation\n",
    "# 변동계수\n",
    "# SD/mean\n",
    "\n",
    "# max variation along rows of A; \n",
    "# rows: axis=0, cols: axis=1\n",
    "# = np.std(fish_data, ddof=1)/np.mean(fish_data)\n",
    "stats.variation(fish_data, axis=0, ddof=1) # 모집단의 변동계수"
   ]
  },
  {
   "cell_type": "code",
   "execution_count": 37,
   "id": "d7a4ced0-4402-4b1e-aef1-1d3d4448956f",
   "metadata": {},
   "outputs": [],
   "source": [
    "from statsmodels import robust"
   ]
  },
  {
   "cell_type": "code",
   "execution_count": 38,
   "id": "a459a679-75c8-4422-b638-b9107036d636",
   "metadata": {
    "tags": []
   },
   "outputs": [
    {
     "data": {
      "text/plain": [
       "3849876.1459979336"
      ]
     },
     "execution_count": 38,
     "metadata": {},
     "output_type": "execute_result"
    }
   ],
   "source": [
    "### MAD (Mean Absolute Deviation from the median)\n",
    "# 중간값과의 편차의 절댓값의 중간값\n",
    "robust.scale.mad(state['Population'])"
   ]
  },
  {
   "cell_type": "code",
   "execution_count": 39,
   "id": "118b8b55-23b7-43c2-bc99-e6953f74fc0f",
   "metadata": {},
   "outputs": [
    {
     "data": {
      "text/plain": [
       "4450933.356000001"
      ]
     },
     "execution_count": 39,
     "metadata": {},
     "output_type": "execute_result"
    }
   ],
   "source": [
    "### Mean absolute deviation\n",
    "# 편차 절대평균\n",
    "def mean_absolute_deviation(data, axis=None):\n",
    "    return np.mean(np.abs(data - np.mean(data, axis)), axis)\n",
    "\n",
    "mean_absolute_deviation(state['Population'])"
   ]
  },
  {
   "cell_type": "code",
   "execution_count": 40,
   "id": "a59c7d40-5948-467d-94b3-8fed97b2bbce",
   "metadata": {},
   "outputs": [
    {
     "data": {
      "text/plain": [
       "4"
      ]
     },
     "execution_count": 40,
     "metadata": {},
     "output_type": "execute_result"
    }
   ],
   "source": [
    "### Maximum, Minimum\n",
    "### Range: Max - Min\n",
    "fish_data.max() - fish_data.min()"
   ]
  },
  {
   "cell_type": "code",
   "execution_count": 41,
   "id": "43b77dec-6067-480c-a09f-6d3467dfaedc",
   "metadata": {},
   "outputs": [
    {
     "data": {
      "text/plain": [
       "4847308.0"
      ]
     },
     "execution_count": 41,
     "metadata": {},
     "output_type": "execute_result"
    }
   ],
   "source": [
    "### Quantile, Percentile\n",
    "### IQR: Inter Quantile Range\n",
    "state['Population'].quantile(0.75) - state['Population'].quantile(0.25)"
   ]
  },
  {
   "cell_type": "code",
   "execution_count": 42,
   "id": "bf7ea6ca-5076-420f-a075-5c203b8a1a40",
   "metadata": {
    "tags": []
   },
   "outputs": [
    {
     "data": {
      "text/plain": [
       "0.05    1.600\n",
       "0.25    2.425\n",
       "0.50    4.000\n",
       "0.75    5.550\n",
       "0.95    6.510\n",
       "Name: Murder.Rate, dtype: float64"
      ]
     },
     "execution_count": 42,
     "metadata": {},
     "output_type": "execute_result"
    }
   ],
   "source": [
    "state['Murder.Rate'].quantile([0.05, 0.25, 0.5, 0.75, 0.95])"
   ]
  },
  {
   "cell_type": "code",
   "execution_count": 43,
   "id": "ae84b6e2-13cc-472f-b816-941d71d480a4",
   "metadata": {},
   "outputs": [
    {
     "name": "stdout",
     "output_type": "stream",
     "text": [
      "3.0 7.0\n"
     ]
    }
   ],
   "source": [
    "fish_data_3 = np.array([1, 2, 3, 4, 5, 6, 7, 8, 9])\n",
    "print(np.percentile(fish_data_3, 25), np.percentile(fish_data_3, 75))"
   ]
  },
  {
   "cell_type": "markdown",
   "id": "62aef2d0-a758-4578-a4c3-ef1fa9ba1edd",
   "metadata": {},
   "source": [
    "### (3) Measures of Relationship"
   ]
  },
  {
   "cell_type": "code",
   "execution_count": 44,
   "id": "c132a2db-5517-4066-b50f-69e782952d01",
   "metadata": {},
   "outputs": [
    {
     "data": {
      "text/html": [
       "<div>\n",
       "<style scoped>\n",
       "    .dataframe tbody tr th:only-of-type {\n",
       "        vertical-align: middle;\n",
       "    }\n",
       "\n",
       "    .dataframe tbody tr th {\n",
       "        vertical-align: top;\n",
       "    }\n",
       "\n",
       "    .dataframe thead th {\n",
       "        text-align: right;\n",
       "    }\n",
       "</style>\n",
       "<table border=\"1\" class=\"dataframe\">\n",
       "  <thead>\n",
       "    <tr style=\"text-align: right;\">\n",
       "      <th></th>\n",
       "      <th>x</th>\n",
       "      <th>y</th>\n",
       "    </tr>\n",
       "  </thead>\n",
       "  <tbody>\n",
       "    <tr>\n",
       "      <th>0</th>\n",
       "      <td>18.5</td>\n",
       "      <td>34</td>\n",
       "    </tr>\n",
       "    <tr>\n",
       "      <th>1</th>\n",
       "      <td>18.7</td>\n",
       "      <td>39</td>\n",
       "    </tr>\n",
       "    <tr>\n",
       "      <th>2</th>\n",
       "      <td>19.1</td>\n",
       "      <td>41</td>\n",
       "    </tr>\n",
       "    <tr>\n",
       "      <th>3</th>\n",
       "      <td>19.7</td>\n",
       "      <td>38</td>\n",
       "    </tr>\n",
       "    <tr>\n",
       "      <th>4</th>\n",
       "      <td>21.5</td>\n",
       "      <td>45</td>\n",
       "    </tr>\n",
       "    <tr>\n",
       "      <th>5</th>\n",
       "      <td>21.7</td>\n",
       "      <td>41</td>\n",
       "    </tr>\n",
       "    <tr>\n",
       "      <th>6</th>\n",
       "      <td>21.8</td>\n",
       "      <td>52</td>\n",
       "    </tr>\n",
       "    <tr>\n",
       "      <th>7</th>\n",
       "      <td>22.0</td>\n",
       "      <td>44</td>\n",
       "    </tr>\n",
       "    <tr>\n",
       "      <th>8</th>\n",
       "      <td>23.4</td>\n",
       "      <td>44</td>\n",
       "    </tr>\n",
       "    <tr>\n",
       "      <th>9</th>\n",
       "      <td>23.8</td>\n",
       "      <td>49</td>\n",
       "    </tr>\n",
       "  </tbody>\n",
       "</table>\n",
       "</div>"
      ],
      "text/plain": [
       "      x   y\n",
       "0  18.5  34\n",
       "1  18.7  39\n",
       "2  19.1  41\n",
       "3  19.7  38\n",
       "4  21.5  45\n",
       "5  21.7  41\n",
       "6  21.8  52\n",
       "7  22.0  44\n",
       "8  23.4  44\n",
       "9  23.8  49"
      ]
     },
     "execution_count": 44,
     "metadata": {},
     "output_type": "execute_result"
    }
   ],
   "source": [
    "### Covariance\n",
    "cov_data = pd.read_csv(\"./stats_for_python/3-2-3-cov.csv\")\n",
    "cov_data"
   ]
  },
  {
   "cell_type": "code",
   "execution_count": 45,
   "id": "f326dc0a-74c9-42ed-9d14-992e8eb46217",
   "metadata": {},
   "outputs": [
    {
     "data": {
      "text/plain": [
       "array([[ 3.2816,  6.906 ],\n",
       "       [ 6.906 , 25.21  ]])"
      ]
     },
     "execution_count": 45,
     "metadata": {},
     "output_type": "execute_result"
    }
   ],
   "source": [
    "x = cov_data[\"x\"]\n",
    "y = cov_data[\"y\"]\n",
    "\n",
    "np.cov(x, y, ddof=0)"
   ]
  },
  {
   "cell_type": "code",
   "execution_count": 46,
   "id": "485524a7-5bde-4956-85dd-7b168f00e792",
   "metadata": {},
   "outputs": [
    {
     "data": {
      "text/plain": [
       "array([[ 3.64622222,  7.67333333],\n",
       "       [ 7.67333333, 28.01111111]])"
      ]
     },
     "execution_count": 46,
     "metadata": {},
     "output_type": "execute_result"
    }
   ],
   "source": [
    "np.cov(x, y, ddof=1)"
   ]
  },
  {
   "cell_type": "code",
   "execution_count": 47,
   "id": "08081700-c66a-4893-ba79-d0e207a45daa",
   "metadata": {},
   "outputs": [
    {
     "data": {
      "text/html": [
       "<div>\n",
       "<style scoped>\n",
       "    .dataframe tbody tr th:only-of-type {\n",
       "        vertical-align: middle;\n",
       "    }\n",
       "\n",
       "    .dataframe tbody tr th {\n",
       "        vertical-align: top;\n",
       "    }\n",
       "\n",
       "    .dataframe thead th {\n",
       "        text-align: right;\n",
       "    }\n",
       "</style>\n",
       "<table border=\"1\" class=\"dataframe\">\n",
       "  <thead>\n",
       "    <tr style=\"text-align: right;\">\n",
       "      <th></th>\n",
       "      <th>x</th>\n",
       "      <th>y</th>\n",
       "    </tr>\n",
       "  </thead>\n",
       "  <tbody>\n",
       "    <tr>\n",
       "      <th>x</th>\n",
       "      <td>1.000000</td>\n",
       "      <td>0.759272</td>\n",
       "    </tr>\n",
       "    <tr>\n",
       "      <th>y</th>\n",
       "      <td>0.759272</td>\n",
       "      <td>1.000000</td>\n",
       "    </tr>\n",
       "  </tbody>\n",
       "</table>\n",
       "</div>"
      ],
      "text/plain": [
       "          x         y\n",
       "x  1.000000  0.759272\n",
       "y  0.759272  1.000000"
      ]
     },
     "execution_count": 47,
     "metadata": {},
     "output_type": "execute_result"
    }
   ],
   "source": [
    "### Correlation\n",
    "# N이든 N-1이든 동일한 값이 됨\n",
    "cov_data.corr()"
   ]
  },
  {
   "cell_type": "code",
   "execution_count": 48,
   "id": "91b37261-fe44-478c-a3f6-d17c6597d8e4",
   "metadata": {
    "tags": []
   },
   "outputs": [],
   "source": [
    "sp500_sym = pd.read_csv(\"./Practical_Statictics/data/sp500_sectors.csv\")\n",
    "sp500_px = pd.read_csv(\"./Practical_Statictics/data/sp500_data.csv.gz\", index_col=0)"
   ]
  },
  {
   "cell_type": "code",
   "execution_count": 49,
   "id": "4009a397-af1f-4ba4-9e6f-71cc04a94ebe",
   "metadata": {
    "tags": []
   },
   "outputs": [
    {
     "data": {
      "text/html": [
       "<div>\n",
       "<style scoped>\n",
       "    .dataframe tbody tr th:only-of-type {\n",
       "        vertical-align: middle;\n",
       "    }\n",
       "\n",
       "    .dataframe tbody tr th {\n",
       "        vertical-align: top;\n",
       "    }\n",
       "\n",
       "    .dataframe thead th {\n",
       "        text-align: right;\n",
       "    }\n",
       "</style>\n",
       "<table border=\"1\" class=\"dataframe\">\n",
       "  <thead>\n",
       "    <tr style=\"text-align: right;\">\n",
       "      <th></th>\n",
       "      <th>T</th>\n",
       "      <th>CTL</th>\n",
       "      <th>FTR</th>\n",
       "      <th>VZ</th>\n",
       "      <th>LVLT</th>\n",
       "    </tr>\n",
       "  </thead>\n",
       "  <tbody>\n",
       "    <tr>\n",
       "      <th>T</th>\n",
       "      <td>1.000000</td>\n",
       "      <td>0.474683</td>\n",
       "      <td>0.327767</td>\n",
       "      <td>0.677612</td>\n",
       "      <td>0.278626</td>\n",
       "    </tr>\n",
       "    <tr>\n",
       "      <th>CTL</th>\n",
       "      <td>0.474683</td>\n",
       "      <td>1.000000</td>\n",
       "      <td>0.419757</td>\n",
       "      <td>0.416604</td>\n",
       "      <td>0.286665</td>\n",
       "    </tr>\n",
       "    <tr>\n",
       "      <th>FTR</th>\n",
       "      <td>0.327767</td>\n",
       "      <td>0.419757</td>\n",
       "      <td>1.000000</td>\n",
       "      <td>0.287386</td>\n",
       "      <td>0.260068</td>\n",
       "    </tr>\n",
       "    <tr>\n",
       "      <th>VZ</th>\n",
       "      <td>0.677612</td>\n",
       "      <td>0.416604</td>\n",
       "      <td>0.287386</td>\n",
       "      <td>1.000000</td>\n",
       "      <td>0.242199</td>\n",
       "    </tr>\n",
       "    <tr>\n",
       "      <th>LVLT</th>\n",
       "      <td>0.278626</td>\n",
       "      <td>0.286665</td>\n",
       "      <td>0.260068</td>\n",
       "      <td>0.242199</td>\n",
       "      <td>1.000000</td>\n",
       "    </tr>\n",
       "  </tbody>\n",
       "</table>\n",
       "</div>"
      ],
      "text/plain": [
       "             T       CTL       FTR        VZ      LVLT\n",
       "T     1.000000  0.474683  0.327767  0.677612  0.278626\n",
       "CTL   0.474683  1.000000  0.419757  0.416604  0.286665\n",
       "FTR   0.327767  0.419757  1.000000  0.287386  0.260068\n",
       "VZ    0.677612  0.416604  0.287386  1.000000  0.242199\n",
       "LVLT  0.278626  0.286665  0.260068  0.242199  1.000000"
      ]
     },
     "execution_count": 49,
     "metadata": {},
     "output_type": "execute_result"
    }
   ],
   "source": [
    "# Determine telecommunications symbols\n",
    "telecom_symbols = sp500_sym[sp500_sym['sector'] == 'telecommunications_services']['symbol']\n",
    "\n",
    "# Filter data for dates July 2012 through June 2015\n",
    "telecom = sp500_px.loc[sp500_px.index >= '2012-07-01', telecom_symbols]\n",
    "telecom.corr()"
   ]
  },
  {
   "cell_type": "markdown",
   "id": "c4eca706-384b-4aaa-b9fd-0cb660ecfe56",
   "metadata": {},
   "source": [
    "### (4) Measure of distribution shape"
   ]
  },
  {
   "cell_type": "code",
   "execution_count": 50,
   "id": "015ae691-8879-49cf-ada9-52a90a5d1050",
   "metadata": {},
   "outputs": [
    {
     "data": {
      "text/plain": [
       "2.6426346412748765"
      ]
     },
     "execution_count": 50,
     "metadata": {},
     "output_type": "execute_result"
    }
   ],
   "source": [
    "### Skewness\n",
    "# DataFrame/Series 형태로 변경하여 출력\n",
    "state['Population'].skew()"
   ]
  },
  {
   "cell_type": "code",
   "execution_count": 51,
   "id": "571c2314-e71f-44ba-b9dc-ed7cad13ff7c",
   "metadata": {},
   "outputs": [
    {
     "data": {
      "text/plain": [
       "2.642634641274876"
      ]
     },
     "execution_count": 51,
     "metadata": {},
     "output_type": "execute_result"
    }
   ],
   "source": [
    "stats.skew(state['Population'], bias=False) # correction = True"
   ]
  },
  {
   "cell_type": "code",
   "execution_count": 52,
   "id": "b07fc52c-9895-4003-b424-34cac2fb3dd6",
   "metadata": {},
   "outputs": [
    {
     "data": {
      "text/plain": [
       "8.722114728161502"
      ]
     },
     "execution_count": 52,
     "metadata": {},
     "output_type": "execute_result"
    }
   ],
   "source": [
    "### Kurtosis\n",
    "state['Population'].kurtosis()"
   ]
  },
  {
   "cell_type": "code",
   "execution_count": 53,
   "id": "5c5a2da3-9ee5-46d6-b781-58c85e98daa9",
   "metadata": {},
   "outputs": [
    {
     "data": {
      "text/plain": [
       "8.722114728161502"
      ]
     },
     "execution_count": 53,
     "metadata": {},
     "output_type": "execute_result"
    }
   ],
   "source": [
    "stats.kurtosis(state['Population'], bias=False) # correction = True"
   ]
  },
  {
   "cell_type": "markdown",
   "id": "31c5e22a-e855-4415-9dd5-f36fae6b8131",
   "metadata": {},
   "source": [
    "## Probability"
   ]
  },
  {
   "cell_type": "markdown",
   "id": "b6b7481a-fe19-421f-a50a-d2cbda341be9",
   "metadata": {},
   "source": [
    "### (1) Permutation & Combination"
   ]
  },
  {
   "cell_type": "code",
   "execution_count": 54,
   "id": "00e18fcc-b3a9-40a6-bdef-04dd9cf296a4",
   "metadata": {},
   "outputs": [],
   "source": [
    "import itertools"
   ]
  },
  {
   "cell_type": "code",
   "execution_count": 55,
   "id": "aa0ad6ec-a744-4ba0-81c0-b30a5bd21e41",
   "metadata": {},
   "outputs": [
    {
     "name": "stdout",
     "output_type": "stream",
     "text": [
      "720 120\n"
     ]
    }
   ],
   "source": [
    "tmp_list = list(range(10))\n",
    "perm = len(list(itertools.permutations(tmp_list, 3)))\n",
    "comb = len(list(itertools.combinations(tmp_list, 3)))\n",
    "print(perm, comb)"
   ]
  },
  {
   "cell_type": "code",
   "execution_count": 56,
   "id": "3e6dd1fb-f22a-4f68-bd6d-b5b6be03cab9",
   "metadata": {},
   "outputs": [
    {
     "name": "stdout",
     "output_type": "stream",
     "text": [
      "1000 220\n"
     ]
    }
   ],
   "source": [
    "### 중복순열과 중복조합\n",
    "perm_with_replacement = len(list(itertools.product(tmp_list, repeat=3)))\n",
    "comb_with_replacement = len(list(itertools.combinations_with_replacement(tmp_list, 3)))\n",
    "print(perm_with_replacement, comb_with_replacement)"
   ]
  },
  {
   "cell_type": "code",
   "execution_count": 57,
   "id": "eaadc8fd-09ac-4e70-9735-d265d207a3ca",
   "metadata": {},
   "outputs": [],
   "source": [
    "from math import perm\n",
    "from math import comb"
   ]
  },
  {
   "cell_type": "code",
   "execution_count": 58,
   "id": "4be3f644-3f51-4fa1-b149-0da7a58a5045",
   "metadata": {},
   "outputs": [
    {
     "name": "stdout",
     "output_type": "stream",
     "text": [
      "720\n",
      "120\n"
     ]
    }
   ],
   "source": [
    "### Python 3.8 이상에 적용\n",
    "print(perm(10, 3))\n",
    "print(comb(10, 3))"
   ]
  },
  {
   "cell_type": "markdown",
   "id": "b4074e62-d26b-482b-a77a-554c9a72eb2d",
   "metadata": {},
   "source": [
    "### (2) Bayes Theorem"
   ]
  },
  {
   "cell_type": "markdown",
   "id": "3c5a288e-35f1-4692-8aff-d7858f543a2e",
   "metadata": {},
   "source": [
    "## Discrete Probability Distribution"
   ]
  },
  {
   "cell_type": "markdown",
   "id": "4123cec7-828f-47a9-826d-434d5259e32f",
   "metadata": {
    "tags": []
   },
   "source": [
    "### (1) Binomial\n",
    "- 베르누이 시행: 2 종류의 결과 중 하나만 발생시키는 시행\n",
    "- 성공확률 p, N 회의 독립 베르누이 시행을 했을 때, 성공한 횟수 X의 확률분포"
   ]
  },
  {
   "cell_type": "code",
   "execution_count": 59,
   "id": "65d24bd2-c0b7-499c-8805-4de218aaa2de",
   "metadata": {
    "scrolled": true
   },
   "outputs": [
    {
     "data": {
      "text/plain": [
       "0.5000000000000002"
      ]
     },
     "execution_count": 59,
     "metadata": {},
     "output_type": "execute_result"
    }
   ],
   "source": [
    "# PMF\n",
    "stats.binom.pmf(k=1, n=2, p=0.5) # 성공횟수, 시행횟수, 성공확률"
   ]
  },
  {
   "cell_type": "code",
   "execution_count": 60,
   "id": "2c6c5d92-b6c0-4cfb-b2b7-ad6c83a50e08",
   "metadata": {
    "tags": []
   },
   "outputs": [
    {
     "data": {
      "text/plain": [
       "0.99144"
      ]
     },
     "execution_count": 60,
     "metadata": {},
     "output_type": "execute_result"
    }
   ],
   "source": [
    "# CDF\n",
    "stats.binom.cdf(k=2, n=5, p=0.1)"
   ]
  },
  {
   "cell_type": "code",
   "execution_count": 61,
   "id": "70bdd616-654d-430a-9766-32850940a627",
   "metadata": {},
   "outputs": [
    {
     "data": {
      "text/plain": [
       "array([2, 3, 0, 1, 1])"
      ]
     },
     "execution_count": 61,
     "metadata": {},
     "output_type": "execute_result"
    }
   ],
   "source": [
    "np.random.seed(1)\n",
    "stats.binom.rvs(n=10, p=0.2, size=5) # 시행횟수 n, 성공확률 p, 5번 반복 sampling"
   ]
  },
  {
   "cell_type": "code",
   "execution_count": 62,
   "id": "cf992afd-a7b2-49e0-9067-ccfd81354f3d",
   "metadata": {},
   "outputs": [
    {
     "data": {
      "image/png": "[encoded data removed]",
      "text/plain": [
       "<Figure size 432x288 with 1 Axes>"
      ]
     },
     "metadata": {
      "needs_background": "light"
     },
     "output_type": "display_data"
    }
   ],
   "source": [
    "binomial = stats.binom(n=10, p=0.2)\n",
    "\n",
    "np.random.seed(1)\n",
    "rvs_binomial = binomial.rvs(size=10000)\n",
    "\n",
    "m = np.arange(0, 10, 1)\n",
    "sns.distplot(rvs_binomial, bins=m, kde=False, norm_hist=True, color='gray')\n",
    "plt.plot(m, binomial.pmf(k=m), color='black')\n",
    "plt.show()"
   ]
  },
  {
   "cell_type": "markdown",
   "id": "22eb09d8-5d40-4dd5-82e4-2de81d8a48f2",
   "metadata": {},
   "source": [
    "### (2) Multinomial\n",
    "- 이항분포의 확장형으로, 확률변수의 범주가 3가지 이상인 경우 "
   ]
  },
  {
   "cell_type": "code",
   "execution_count": 63,
   "id": "d8ac9a6e-7698-4068-a1ba-6a8c6a423574",
   "metadata": {},
   "outputs": [
    {
     "data": {
      "text/plain": [
       "0.04200000000000007"
      ]
     },
     "execution_count": 63,
     "metadata": {},
     "output_type": "execute_result"
    }
   ],
   "source": [
    "# n: Number of trials\n",
    "# p (array-like): Probability of a trial falling into each category; should sum to 1\n",
    "rv = stats.multinomial(8, [0.3, 0.2, 0.5])\n",
    "rv.pmf([1, 3, 4])"
   ]
  },
  {
   "cell_type": "code",
   "execution_count": 64,
   "id": "b2edf8a5-120e-4d11-9cf4-587d870f3bf9",
   "metadata": {},
   "outputs": [
    {
     "data": {
      "text/plain": [
       "array([0.2268945 , 0.25412184])"
      ]
     },
     "execution_count": 64,
     "metadata": {},
     "output_type": "execute_result"
    }
   ],
   "source": [
    "stats.multinomial.pmf([[3, 4], [3, 5]], n=[7, 8], p=[.3, .7])"
   ]
  },
  {
   "cell_type": "code",
   "execution_count": 65,
   "id": "a1e8069a-f4f6-420e-b9ae-f81dda67d0a6",
   "metadata": {},
   "outputs": [
    {
     "data": {
      "text/plain": [
       "array([[[ 0.84, -0.84],\n",
       "        [-0.84,  0.84]],\n",
       "\n",
       "       [[ 1.2 , -1.2 ],\n",
       "        [-1.2 ,  1.2 ]]])"
      ]
     },
     "execution_count": 65,
     "metadata": {},
     "output_type": "execute_result"
    }
   ],
   "source": [
    "stats.multinomial.cov([4, 5], [[.3, .7], [.4, .6]])"
   ]
  },
  {
   "cell_type": "markdown",
   "id": "837ae0d9-bace-49c9-a0e7-6283f01374c1",
   "metadata": {},
   "source": [
    "### (3) Poisson\n",
    "- 카운트 데이터 (0 이상의 정수)의 확률분포\n",
    "- p -> 0, N -> Inf의 조건에서 이항분포 Np=λ"
   ]
  },
  {
   "cell_type": "code",
   "execution_count": 66,
   "id": "6d8b8e72-23f5-4296-8b93-2613b3ea3e0f",
   "metadata": {
    "scrolled": true
   },
   "outputs": [
    {
     "data": {
      "text/plain": [
       "0.08422433748856832"
      ]
     },
     "execution_count": 66,
     "metadata": {},
     "output_type": "execute_result"
    }
   ],
   "source": [
    "stats.poisson.pmf(k=2, mu=5)"
   ]
  },
  {
   "cell_type": "code",
   "execution_count": 67,
   "id": "c59235ed-1390-42cf-a34f-637ce7124627",
   "metadata": {},
   "outputs": [
    {
     "data": {
      "text/plain": [
       "0.12465201948308108"
      ]
     },
     "execution_count": 67,
     "metadata": {},
     "output_type": "execute_result"
    }
   ],
   "source": [
    "stats.poisson.cdf(k=2, mu=5)"
   ]
  },
  {
   "cell_type": "code",
   "execution_count": 68,
   "id": "954184d8-1b87-4364-bbdb-dca529277cc6",
   "metadata": {},
   "outputs": [
    {
     "data": {
      "text/plain": [
       "array([2, 1, 0, 1, 2])"
      ]
     },
     "execution_count": 68,
     "metadata": {},
     "output_type": "execute_result"
    }
   ],
   "source": [
    "# λ=2인 Possion\n",
    "np.random.seed(1)\n",
    "stats.poisson.rvs(mu=2, size=5)"
   ]
  },
  {
   "cell_type": "code",
   "execution_count": 69,
   "id": "ec3bb9c7-3631-407a-a41a-21a813dfeabc",
   "metadata": {},
   "outputs": [
    {
     "data": {
      "text/plain": [
       "[<matplotlib.lines.Line2D at 0x7f91c8948eb0>]"
      ]
     },
     "execution_count": 69,
     "metadata": {},
     "output_type": "execute_result"
    },
    {
     "data": {
      "image/png": "[encoded data removed]",
      "text/plain": [
       "<Figure size 432x288 with 1 Axes>"
      ]
     },
     "metadata": {
      "needs_background": "light"
     },
     "output_type": "display_data"
    }
   ],
   "source": [
    "poisson = stats.poisson(mu=2)\n",
    "\n",
    "np.random.seed(1)\n",
    "rvs_poisson = poisson.rvs(size = 10000)\n",
    "pmf_poisson = poisson.pmf(k=m)\n",
    "\n",
    "sns.distplot(rvs_poisson, bins=m, kde=False, norm_hist=True, color='gray')\n",
    "plt.plot(m, pmf_poisson, color='black')"
   ]
  },
  {
   "cell_type": "code",
   "execution_count": 70,
   "id": "63217a93-b9d3-44f1-8560-1deb01ecbd47",
   "metadata": {},
   "outputs": [
    {
     "name": "stdout",
     "output_type": "stream",
     "text": [
      "Mean: N*p = 2.0\n"
     ]
    },
    {
     "data": {
      "image/png": "[encoded data removed]",
      "text/plain": [
       "<Figure size 432x288 with 1 Axes>"
      ]
     },
     "metadata": {
      "needs_background": "light"
     },
     "output_type": "display_data"
    }
   ],
   "source": [
    "# N이 크고 p가 작을 때의 이항분포\n",
    "N = 100000000\n",
    "p = 0.00000002\n",
    "print(\"Mean: N*p =\", N*p)\n",
    "binomial_2 = stats.binom(n=N, p=p)\n",
    "\n",
    "pmf_binomial_2 = binomial_2.pmf(k=m)\n",
    "\n",
    "sns.lineplot(x=m, y=pmf_poisson, color='gray')\n",
    "sns.lineplot(x=m, y=pmf_binomial_2, color='black', linestyle='dotted')\n",
    "plt.show()"
   ]
  },
  {
   "cell_type": "markdown",
   "id": "6b06bf2a-c463-4ec6-ab2c-59a60dc69b2d",
   "metadata": {},
   "source": [
    "### (5) Negative Binomial\n",
    "- 카운트 데이터의 확률분포\n",
    "- 성공 횟수 r회가 될 때까지의 시행횟수를 확률변수로 둠\n",
    "- Poission보다 분산이 큰 경우"
   ]
  },
  {
   "cell_type": "code",
   "execution_count": 71,
   "id": "dbd5802d-f9cd-4722-836a-69abd3d3736d",
   "metadata": {},
   "outputs": [],
   "source": [
    "n, p = 5, 0.5 # 0.5 확률의 시행을 5회 성공할 때까의 시행횟수가 확률변수\n",
    "mean, var, skew, kurt = stats.nbinom.stats(n, p, moments='mvsk')"
   ]
  },
  {
   "cell_type": "code",
   "execution_count": 72,
   "id": "58cd5d93-0bb4-4a34-85d9-53a4f9b0f4b1",
   "metadata": {},
   "outputs": [
    {
     "data": {
      "image/png": "[encoded data removed]",
      "text/plain": [
       "<Figure size 432x288 with 1 Axes>"
      ]
     },
     "metadata": {
      "needs_background": "light"
     },
     "output_type": "display_data"
    }
   ],
   "source": [
    "x = np.arange(stats.nbinom.ppf(0.01, n, p), stats.nbinom.ppf(0.99, n, p))\n",
    "sns.lineplot(x=x, y=stats.nbinom(n, p).pmf(x))\n",
    "plt.show()"
   ]
  },
  {
   "cell_type": "markdown",
   "id": "f0049ddc-3a3d-426d-984d-a76723b13aa0",
   "metadata": {},
   "source": [
    "### (6) Geometric\n",
    "- 1회 성공까지의 시행횟수가 확률변수\n",
    "- Negative Binomial의 특수 케이스"
   ]
  },
  {
   "cell_type": "code",
   "execution_count": 73,
   "id": "dc7b9769-604f-40d9-8571-ad1dc0780296",
   "metadata": {},
   "outputs": [],
   "source": [
    "p = 0.5\n",
    "mean, var, skew, kurt = stats.geom.stats(p, moments='mvsk')"
   ]
  },
  {
   "cell_type": "code",
   "execution_count": 74,
   "id": "92af8269-98b1-4cf2-89cc-b6e615ab2b16",
   "metadata": {
    "scrolled": true
   },
   "outputs": [
    {
     "data": {
      "image/png": "[encoded data removed]",
      "text/plain": [
       "<Figure size 432x288 with 1 Axes>"
      ]
     },
     "metadata": {
      "needs_background": "light"
     },
     "output_type": "display_data"
    }
   ],
   "source": [
    "x = np.arange(stats.geom.ppf(0.01, p), stats.geom.ppf(0.99, p))\n",
    "sns.lineplot(x=x, y=stats.geom(p).pmf(x))\n",
    "plt.show()"
   ]
  },
  {
   "cell_type": "markdown",
   "id": "ec48c4c5-4a73-4193-8e1c-790082fdcac9",
   "metadata": {},
   "source": [
    "### (7) Hypergeometric\n",
    "- 비복원 추출(독립이 아닌) 사건에서의 이항확률분포\n",
    "- 모집단 개수 N, 모집단에서 사건이 일어난 횟수 D, 샘플 개수 n\n",
    "- p = D/N\n",
    "- X: 표본에서 사건의 개수에 해당하는 개수\n",
    "- 평균 np, 표준편차 np(1-p)((N-n)/(N-1)) "
   ]
  },
  {
   "cell_type": "code",
   "execution_count": 75,
   "id": "2bd583f0-34a3-48be-ad43-f9d9ea55922f",
   "metadata": {},
   "outputs": [
    {
     "data": {
      "image/png": "[encoded data removed]",
      "text/plain": [
       "<Figure size 432x288 with 1 Axes>"
      ]
     },
     "metadata": {
      "needs_background": "light"
     },
     "output_type": "display_data"
    }
   ],
   "source": [
    "[N, D, n] = [20, 7, 12]\n",
    "\n",
    "rv = stats.hypergeom(N, D, n)\n",
    "x = np.arange(0, n + 1)\n",
    "\n",
    "pmf_dogs = rv.pmf(x)\n",
    "\n",
    "fig = plt.figure()\n",
    "\n",
    "sns.lineplot(x=x, y=pmf_dogs)\n",
    "plt.xlabel('# of dogs in our group of chosen animals')\n",
    "plt.ylabel('hypergeom PMF')\n",
    "plt.show()"
   ]
  },
  {
   "cell_type": "markdown",
   "id": "13a7eacd-83c0-4e19-8874-548940b605fa",
   "metadata": {},
   "source": [
    "## Continuous Probability Distribution"
   ]
  },
  {
   "cell_type": "markdown",
   "id": "267a954d-ef5e-42df-a3a2-8e7df9af93fc",
   "metadata": {},
   "source": [
    "### (1) Uniform\n",
    "- 분포가 특정 범위 내에서 균등하게 나타나는 분포"
   ]
  },
  {
   "cell_type": "code",
   "execution_count": 76,
   "id": "cf216ff7-2aa8-4b03-8052-b3fbb494fd42",
   "metadata": {},
   "outputs": [
    {
     "data": {
      "text/plain": [
       "<scipy.stats._distn_infrastructure.rv_frozen at 0x7f91e89ce580>"
      ]
     },
     "execution_count": 76,
     "metadata": {},
     "output_type": "execute_result"
    }
   ],
   "source": [
    "stats.uniform(loc=0, scale=1)"
   ]
  },
  {
   "cell_type": "code",
   "execution_count": 77,
   "id": "4882338e-0dae-4935-9bcd-5bd84c9303de",
   "metadata": {},
   "outputs": [
    {
     "data": {
      "image/png": "[encoded data removed]",
      "text/plain": [
       "<Figure size 432x288 with 1 Axes>"
      ]
     },
     "metadata": {
      "needs_background": "light"
     },
     "output_type": "display_data"
    }
   ],
   "source": [
    "x = np.linspace(stats.uniform.ppf(0.01), stats.uniform.ppf(0.99), 100)\n",
    "sns.lineplot(x=x, y=stats.uniform(loc=0, scale=1).pdf(x), color='red', alpha=0.6, label='uniform pdf') # location과 scale 조정해서 분포 생성 가능\n",
    "plt.show()"
   ]
  },
  {
   "cell_type": "markdown",
   "id": "21552f42-3ec1-4a7c-beee-a45cd6898b35",
   "metadata": {},
   "source": [
    "### (2) Normal"
   ]
  },
  {
   "cell_type": "code",
   "execution_count": 78,
   "id": "55ed86f3-7e73-4ac1-a0c6-bcb645ed2fc9",
   "metadata": {},
   "outputs": [
    {
     "data": {
      "text/plain": [
       "0.2283113567362774"
      ]
     },
     "execution_count": 78,
     "metadata": {},
     "output_type": "execute_result"
    }
   ],
   "source": [
    "### PDF\n",
    "stats.norm.pdf(loc=4, scale=0.8, x=3) # 확률변수 x가 3일때의 확률값"
   ]
  },
  {
   "cell_type": "code",
   "execution_count": 79,
   "id": "974251ff-a9cd-4ebf-9e8f-75b01deae02d",
   "metadata": {},
   "outputs": [
    {
     "data": {
      "text/plain": [
       "0.2283113567362774"
      ]
     },
     "execution_count": 79,
     "metadata": {},
     "output_type": "execute_result"
    }
   ],
   "source": [
    "norm_dist = stats.norm(loc=4, scale=0.8)\n",
    "norm_dist.pdf(x=3)"
   ]
  },
  {
   "cell_type": "code",
   "execution_count": 80,
   "id": "5805aff0-0c59-4b31-a0a2-bfbf49269eac",
   "metadata": {},
   "outputs": [
    {
     "data": {
      "image/png": "[encoded data removed]",
      "text/plain": [
       "<Figure size 432x288 with 1 Axes>"
      ]
     },
     "metadata": {
      "needs_background": "light"
     },
     "output_type": "display_data"
    }
   ],
   "source": [
    "x_plot = np.arange(start=1, stop=7.1, step=0.1)\n",
    "sns.lineplot(x=x_plot, y=stats.norm.pdf(x=x_plot, loc=4, scale=0.8), color = 'black')\n",
    "plt.show()"
   ]
  },
  {
   "cell_type": "code",
   "execution_count": 81,
   "id": "eca8c3a9-6207-44c2-ad99-d25338e2ed68",
   "metadata": {},
   "outputs": [
    {
     "data": {
      "text/plain": [
       "0.10564977366685535"
      ]
     },
     "execution_count": 81,
     "metadata": {},
     "output_type": "execute_result"
    }
   ],
   "source": [
    "### CDF\n",
    "stats.norm.cdf(loc=4, scale=0.8, x=3)"
   ]
  },
  {
   "cell_type": "code",
   "execution_count": 82,
   "id": "83bd86db-b02a-45cf-8fe3-a6b5b06d036f",
   "metadata": {},
   "outputs": [
    {
     "data": {
      "text/plain": [
       "2.4320288123679563"
      ]
     },
     "execution_count": 82,
     "metadata": {},
     "output_type": "execute_result"
    }
   ],
   "source": [
    "### PPF (Percent Point Function)\n",
    "# 누적확률이 q가 되는 확률변수 값\n",
    "stats.norm.ppf(loc=4, scale=0.8, q=0.025)"
   ]
  },
  {
   "cell_type": "code",
   "execution_count": 83,
   "id": "60ef7a83-da7f-4477-9497-f3f60cce26a4",
   "metadata": {},
   "outputs": [
    {
     "data": {
      "text/plain": [
       "3.0000000000000004"
      ]
     },
     "execution_count": 83,
     "metadata": {},
     "output_type": "execute_result"
    }
   ],
   "source": [
    "sitagawa = stats.norm.cdf(loc=4, scale=0.8, x=3)\n",
    "stats.norm.ppf(loc=4, scale=0.8, q=sitagawa)"
   ]
  },
  {
   "cell_type": "code",
   "execution_count": 84,
   "id": "cde79e2e-31cf-4a46-b4fa-1bafff206744",
   "metadata": {},
   "outputs": [
    {
     "data": {
      "text/plain": [
       "4.0"
      ]
     },
     "execution_count": 84,
     "metadata": {},
     "output_type": "execute_result"
    }
   ],
   "source": [
    "# q가 0.5인 지점 = 평균\n",
    "stats.norm.ppf(loc=4, scale=0.8, q=0.5)"
   ]
  },
  {
   "cell_type": "code",
   "execution_count": 85,
   "id": "d37e9947-9738-4e54-aa0c-e6c78950e31e",
   "metadata": {},
   "outputs": [
    {
     "data": {
      "image/png": "[encoded data removed]",
      "text/plain": [
       "<Figure size 432x288 with 1 Axes>"
      ]
     },
     "metadata": {
      "needs_background": "light"
     },
     "output_type": "display_data"
    }
   ],
   "source": [
    "### (참고) Log-normal distribution\n",
    "# 로그를 취한 변수가 정규분포를 따르는 경우\n",
    "# ln(X) ~ N(mu, sigma)\n",
    "s = 0.954 # shape parameter\n",
    "x = np.linspace(stats.lognorm.ppf(0.01, s), stats.lognorm.ppf(0.99, s), 100)\n",
    "sns.lineplot(x=x, y=stats.lognorm.pdf(x, s), color='red', alpha=0.6, label='lognorm pdf')\n",
    "plt.show()"
   ]
  },
  {
   "cell_type": "markdown",
   "id": "fa4fcb31-676d-42c5-b501-5a2af3868f9a",
   "metadata": {},
   "source": [
    "### (3) Student T\n",
    "- 평균 검정을 위해 만들어진 분포\n",
    "- 표준정규분포에서, 모분산 simga**2가 Chi-sq(n)으로 추정된 경우\n",
    "- 표준정규분포보다 꼬리가 더 두꺼운 형태"
   ]
  },
  {
   "cell_type": "code",
   "execution_count": 86,
   "id": "61f66cc3-fbf9-4240-bfee-4bd444f441f7",
   "metadata": {},
   "outputs": [
    {
     "data": {
      "text/plain": [
       "<AxesSubplot:>"
      ]
     },
     "execution_count": 86,
     "metadata": {},
     "output_type": "execute_result"
    },
    {
     "data": {
      "image/png": "[encoded data removed]",
      "text/plain": [
       "<Figure size 432x288 with 1 Axes>"
      ]
     },
     "metadata": {
      "needs_background": "light"
     },
     "output_type": "display_data"
    }
   ],
   "source": [
    "# 평균 0, 분산 n/(n-2)\n",
    "# n이 커지면 표준정규분포에 근사\n",
    "x = np.arange(start=-8, stop=8.1, step=0.1)\n",
    "sns.lineplot(x=x, y=stats.norm.pdf(x=x), color='black', linestyle='dotted')\n",
    "sns.lineplot(x=x, y=stats.t.pdf(x=x, df=9), color='black')"
   ]
  },
  {
   "cell_type": "markdown",
   "id": "6e10d558-dbd1-48b9-b83b-d28f1b8da14d",
   "metadata": {},
   "source": [
    "### (4) Chi-square\n",
    "- k개의 서로 독립적인 표준정규 확률변수를 각각 제곱한 다음 합해서 얻어지는 분포\n",
    "- Gamma 분포의 특수한 형태\n",
    "- Chi-sq ~ Gamma(r/2, 2), r은 자유도"
   ]
  },
  {
   "cell_type": "code",
   "execution_count": 87,
   "id": "8c0f9e07-c7c3-4a4f-b2eb-c3490b7193d8",
   "metadata": {
    "tags": []
   },
   "outputs": [
    {
     "data": {
      "image/png": "[encoded data removed]",
      "text/plain": [
       "<Figure size 288x180 with 1 Axes>"
      ]
     },
     "metadata": {
      "needs_background": "light"
     },
     "output_type": "display_data"
    }
   ],
   "source": [
    "x = [1 + i * (30 - 1) / 99 for i in range(100)]\n",
    "\n",
    "chi = pd.DataFrame({\n",
    "    'x': x,\n",
    "    'chi_1': stats.chi2.pdf(x, df=1),\n",
    "    'chi_2': stats.chi2.pdf(x, df=2),\n",
    "    'chi_5': stats.chi2.pdf(x, df=5),\n",
    "    'chi_10': stats.chi2.pdf(x, df=10),\n",
    "    'chi_20': stats.chi2.pdf(x, df=20),\n",
    "})\n",
    "fig, ax = plt.subplots(figsize=(4, 2.5))\n",
    "ax.plot(chi.x, chi.chi_1, color='black', linestyle='-', label='1')\n",
    "ax.plot(chi.x, chi.chi_2, color='black', linestyle=(0, (1, 1)), label='2')\n",
    "ax.plot(chi.x, chi.chi_5, color='black', linestyle=(0, (2, 1)), label='5')\n",
    "ax.plot(chi.x, chi.chi_10, color='black', linestyle=(0, (3, 1)), label='10')\n",
    "ax.plot(chi.x, chi.chi_20, color='black', linestyle=(0, (4, 1)), label='20')\n",
    "ax.legend(title='df')\n",
    "\n",
    "plt.tight_layout()\n",
    "plt.show()"
   ]
  },
  {
   "cell_type": "markdown",
   "id": "55e367f3-1f44-429b-b134-5601e1546096",
   "metadata": {},
   "source": [
    "### (5) F\n",
    "- 두 개의 카이제곱 변수의 비로 표현되는 분포"
   ]
  },
  {
   "cell_type": "code",
   "execution_count": 88,
   "id": "4f11c1b5-5d0d-4c8c-8979-23197f83e0b9",
   "metadata": {},
   "outputs": [
    {
     "data": {
      "text/plain": [
       "array([2.30361989e-01, 1.75326213e-01, 1.37509636e-01, 1.10124770e-01,\n",
       "       8.95846844e-02, 7.37825167e-02, 6.13877908e-02, 5.15150896e-02,\n",
       "       4.35514142e-02, 3.70590924e-02, 3.17178318e-02, 2.72884591e-02,\n",
       "       2.35893389e-02, 2.04805419e-02, 1.78529302e-02, 1.56204596e-02,\n",
       "       1.37146444e-02, 1.20805099e-02, 1.06735892e-02, 9.45766471e-03,\n",
       "       8.40305134e-03, 7.48527663e-03, 6.68405716e-03, 5.98249794e-03,\n",
       "       5.36646102e-03, 4.82406438e-03, 4.34528130e-03, 3.92161829e-03,\n",
       "       3.54585461e-03, 3.21183059e-03, 2.91427459e-03, 2.64866111e-03,\n",
       "       2.41109373e-03, 2.19820826e-03, 2.00709224e-03, 1.83521781e-03,\n",
       "       1.68038554e-03, 1.54067721e-03, 1.41441605e-03, 1.30013318e-03,\n",
       "       1.19653908e-03, 1.10249941e-03, 1.01701439e-03, 9.39201148e-04,\n",
       "       8.68278623e-04, 8.03554613e-04, 7.44414601e-04, 6.90312134e-04,\n",
       "       6.40760499e-04, 5.95325512e-04, 5.53619262e-04, 5.15294670e-04,\n",
       "       4.80040738e-04, 4.47578418e-04, 4.17656983e-04, 3.90050860e-04,\n",
       "       3.64556840e-04, 3.40991637e-04, 3.19189726e-04, 2.99001451e-04,\n",
       "       2.80291340e-04, 2.62936626e-04, 2.46825928e-04, 2.31858091e-04,\n",
       "       2.17941146e-04, 2.04991389e-04, 1.92932566e-04, 1.81695137e-04,\n",
       "       1.71215624e-04, 1.61436031e-04, 1.52303318e-04, 1.43768935e-04,\n",
       "       1.35788404e-04, 1.28320939e-04, 1.21329111e-04, 1.14778541e-04,\n",
       "       1.08637626e-04, 1.02877293e-04, 9.74707728e-05, 9.23934011e-05,\n",
       "       8.76224344e-05, 8.31368856e-05, 7.89173737e-05, 7.49459883e-05,\n",
       "       7.12061667e-05, 6.76825818e-05, 6.43610399e-05, 6.12283891e-05,\n",
       "       5.82724339e-05, 5.54818592e-05, 5.28461595e-05, 5.03555755e-05,\n",
       "       4.80010352e-05, 4.57741006e-05, 4.36669187e-05, 4.16721768e-05,\n",
       "       3.97830615e-05, 3.79932209e-05, 3.62967302e-05, 3.46880598e-05])"
      ]
     },
     "execution_count": 88,
     "metadata": {},
     "output_type": "execute_result"
    }
   ],
   "source": [
    "stats.f.pdf(sorted(x), dfn=1, dfd=10)"
   ]
  },
  {
   "cell_type": "markdown",
   "id": "4cc119fd-e606-4799-8ebc-7dc6fc584758",
   "metadata": {},
   "source": [
    "### (6) Exponential\n",
    "- 한 사건이 일어날때까지의 시간이나 거리에 대한 분포"
   ]
  },
  {
   "cell_type": "code",
   "execution_count": 89,
   "id": "43093139-ca6e-4c37-bd93-b0a89571f2db",
   "metadata": {
    "tags": []
   },
   "outputs": [
    {
     "data": {
      "image/png": "[encoded data removed]",
      "text/plain": [
       "<Figure size 432x288 with 1 Axes>"
      ]
     },
     "metadata": {
      "needs_background": "light"
     },
     "output_type": "display_data"
    }
   ],
   "source": [
    "sample = stats.expon.rvs(scale=5, size=100) # 주기별 평균 사건 수 5\n",
    "sns.histplot(sample)\n",
    "plt.show()"
   ]
  },
  {
   "cell_type": "markdown",
   "id": "71cd0d28-1b7a-4656-8233-3021d035b453",
   "metadata": {},
   "source": [
    "### (7)  Weibull\n",
    "- 사건 발생률이 시간에 따라 변화\n",
    "    - beta > 1이면 발생률이 시간이 지남에 따라 증가, 작으면 감소\n",
    "- 지수분포의 일반화 버전"
   ]
  },
  {
   "cell_type": "code",
   "execution_count": 90,
   "id": "7b9ef2cf-cb52-4fe2-8c7f-13b43f1cc6d9",
   "metadata": {
    "scrolled": true,
    "tags": []
   },
   "outputs": [
    {
     "data": {
      "image/png": "[encoded data removed]",
      "text/plain": [
       "<Figure size 432x288 with 1 Axes>"
      ]
     },
     "metadata": {
      "needs_background": "light"
     },
     "output_type": "display_data"
    }
   ],
   "source": [
    "sample = stats.weibull_min.rvs(1.5, scale=5000, size=100) # beta 1.5\n",
    "sns.histplot(sample)\n",
    "plt.show()"
   ]
  },
  {
   "cell_type": "markdown",
   "id": "bd5c968a-97b8-4280-9ac7-193bf1dc442e",
   "metadata": {},
   "source": [
    "### (8) Gamma\n",
    "- shape (alpha), scale (beta)\n",
    "- 지수 분포나 포아송 분포 등의 매개변수에 대한 켤레 사전 확률 분포이며, 이에 따라 베이즈 확률론에서 사전 확률 분포로 사용\n",
    "- 사건이 k번 발생할 때까지의 시간 ~ Gamma(k, 1/lambda). lambda는 포아송 분포의 파라미터\n",
    "    - 지수분포는 Gamma(1, 1/lambda)와 동일"
   ]
  },
  {
   "cell_type": "code",
   "execution_count": 91,
   "id": "cd9bcc6a-a5e0-4299-8a59-daea5e4e2e95",
   "metadata": {},
   "outputs": [],
   "source": [
    "x = np.linspace(0, 20, 101)"
   ]
  },
  {
   "cell_type": "code",
   "execution_count": 92,
   "id": "771345a3-8027-40fc-894a-819d3fa9eb42",
   "metadata": {},
   "outputs": [
    {
     "data": {
      "image/png": "[encoded data removed]",
      "text/plain": [
       "<Figure size 432x288 with 1 Axes>"
      ]
     },
     "metadata": {
      "needs_background": "light"
     },
     "output_type": "display_data"
    }
   ],
   "source": [
    "y = stats.gamma(10, 0, 0.5).pdf(x)        \n",
    "\n",
    "sns.lineplot(x=x, y=y, color='red')        \n",
    "plt.xlabel('X')\n",
    "plt.ylabel('P(X)')\n",
    "plt.title('Gamma Distribution(shape = 10, scale = .5, loc = 0)') \n",
    "plt.show()"
   ]
  },
  {
   "cell_type": "code",
   "execution_count": 93,
   "id": "adc37e1f-9025-4eee-a886-390b668829ad",
   "metadata": {},
   "outputs": [
    {
     "data": {
      "image/png": "[encoded data removed]",
      "text/plain": [
       "<Figure size 432x288 with 1 Axes>"
      ]
     },
     "metadata": {
      "needs_background": "light"
     },
     "output_type": "display_data"
    }
   ],
   "source": [
    "for shape in np.arange(4, 24, 4):\n",
    "    sns.lineplot(x=x, y=stats.gamma(shape, 0, 0.5).pdf(x), label='(shape=' + str(shape) + ')')\n",
    "\n",
    "plt.legend()\n",
    "plt.show()"
   ]
  },
  {
   "cell_type": "code",
   "execution_count": 94,
   "id": "98976c2d-cb9d-49a8-9b79-704989f9ea3b",
   "metadata": {},
   "outputs": [
    {
     "data": {
      "image/png": "[encoded data removed]",
      "text/plain": [
       "<Figure size 432x288 with 1 Axes>"
      ]
     },
     "metadata": {
      "needs_background": "light"
     },
     "output_type": "display_data"
    }
   ],
   "source": [
    "for scale in np.arange(2, 12, 2) / 10:\n",
    "    sns.lineplot(x=x, y=stats.gamma(10, 0, scale).pdf(x), label='(scale=' + str(scale) + ')')"
   ]
  },
  {
   "cell_type": "code",
   "execution_count": 95,
   "id": "c1c838bc-f4db-43e6-99f7-5f2d5a933051",
   "metadata": {},
   "outputs": [
    {
     "data": {
      "image/png": "[encoded data removed]",
      "text/plain": [
       "<Figure size 432x288 with 1 Axes>"
      ]
     },
     "metadata": {
      "needs_background": "light"
     },
     "output_type": "display_data"
    }
   ],
   "source": [
    "for loc in np.arange(5) * 3 - 6:\n",
    "    sns.lineplot(x=x, y=stats.gamma(10, loc, 0.5).pdf(x), label='(loc=' + str(loc) + ')')\n",
    "plt.legend()\n",
    "plt.show()"
   ]
  },
  {
   "cell_type": "markdown",
   "id": "660fedf7-7342-4678-8260-8b9945fcf02c",
   "metadata": {},
   "source": [
    "### (9) Beta\n",
    "- 두 개의 감마분포의 조합으로 만들어지는 파생분포\n",
    "- Beta ~ Gamma(alpha + beta, 1)\n",
    "- 0부터 1까지의 값을 가질 수 있는 베르누이시행 모수 𝜇의 값을 베이지안 추정한 결과를 표현한 것\n",
    "- 사전정보가 없는 베이즈 통계에서 사전확률로 많이 쓰임"
   ]
  },
  {
   "cell_type": "code",
   "execution_count": 96,
   "id": "56908c9c-d283-4c45-9a91-efd164578e77",
   "metadata": {},
   "outputs": [
    {
     "data": {
      "image/png": "[encoded data removed]",
      "text/plain": [
       "<Figure size 432x288 with 1 Axes>"
      ]
     },
     "metadata": {
      "needs_background": "light"
     },
     "output_type": "display_data"
    }
   ],
   "source": [
    "x = np.linspace(.01, .99, 99)\n",
    "a = .5\n",
    "b = .5\n",
    "y1 = stats.beta(a, b).pdf(x)        \n",
    "\n",
    "sns.lineplot(x=x, y=y1, color='red')        \n",
    "plt.xlabel('X')\n",
    "plt.ylabel('P(X)')\n",
    "plt.title('Beta Distribution(a = .5, b = .5)') \n",
    "plt.show()"
   ]
  },
  {
   "cell_type": "code",
   "execution_count": 97,
   "id": "778c40b7-8c0a-48fe-9121-a84e2113e0ae",
   "metadata": {},
   "outputs": [
    {
     "data": {
      "image/png": "[encoded data removed]",
      "text/plain": [
       "<Figure size 432x288 with 1 Axes>"
      ]
     },
     "metadata": {
      "needs_background": "light"
     },
     "output_type": "display_data"
    }
   ],
   "source": [
    "# Set the shape paremeters\n",
    "a, b = 80, 10\n",
    "\n",
    "# Generate the value between\n",
    "x = np.linspace(stats.beta.ppf(0.01, a, b), stats.beta.ppf(0.99, a, b), 100)\n",
    "\n",
    "# Plot the beta distribution\n",
    "plt.xlim(0.7, 1)\n",
    "sns.lineplot(x=x, y=stats.beta.pdf(x, a, b), color='red')\n",
    "plt.xlabel('Values of Random Variable X (0, 1)', fontsize='15')\n",
    "plt.ylabel('Probability', fontsize='15')\n",
    "plt.title('Beta Distribution(a = 80, b = 10)') \n",
    "plt.show()"
   ]
  },
  {
   "cell_type": "markdown",
   "id": "685249ea-9fec-4423-b098-57e2d58167ec",
   "metadata": {},
   "source": [
    "### (10) Dirichlet\n",
    "- 베타 분포의 다변수 확장\n",
    "- 베이즈 통계학에서 다항 분포에 대한 사전 켤레확률분포 "
   ]
  },
  {
   "cell_type": "code",
   "execution_count": 98,
   "id": "ff4ed0b2-511e-462b-b76b-bfe96e65f9d1",
   "metadata": {},
   "outputs": [
    {
     "data": {
      "text/plain": [
       "0.2843831684937255"
      ]
     },
     "execution_count": 98,
     "metadata": {},
     "output_type": "execute_result"
    }
   ],
   "source": [
    "quantiles = np.array([0.2, 0.2, 0.6])  # specify quantiles\n",
    "alpha = np.array([0.4, 5, 15])  # specify concentration parameters\n",
    "\n",
    "stats.dirichlet.pdf(quantiles, alpha)"
   ]
  },
  {
   "cell_type": "code",
   "execution_count": 99,
   "id": "3f761a51-2eec-40b6-8c20-9ec8d587b7e8",
   "metadata": {},
   "outputs": [
    {
     "data": {
      "text/plain": [
       "-1.2574327653159187"
      ]
     },
     "execution_count": 99,
     "metadata": {},
     "output_type": "execute_result"
    }
   ],
   "source": [
    "### log scale\n",
    "stats.dirichlet.logpdf(quantiles, alpha)"
   ]
  },
  {
   "cell_type": "code",
   "execution_count": 100,
   "id": "27ee1c70-fd95-4918-8075-fa2f35e59998",
   "metadata": {},
   "outputs": [
    {
     "data": {
      "text/plain": [
       "array([[0.01639427, 0.1292273 , 0.85437844],\n",
       "       [0.00156917, 0.19033695, 0.80809388]])"
      ]
     },
     "execution_count": 100,
     "metadata": {},
     "output_type": "execute_result"
    }
   ],
   "source": [
    "stats.dirichlet.rvs(alpha, size=2, random_state=2)"
   ]
  }
 ],
 "metadata": {
  "kernelspec": {
   "display_name": "Python 3 (ipykernel)",
   "language": "python",
   "name": "python3"
  },
  "language_info": {
   "codemirror_mode": {
    "name": "ipython",
    "version": 3
   },
   "file_extension": ".py",
   "mimetype": "text/x-python",
   "name": "python",
   "nbconvert_exporter": "python",
   "pygments_lexer": "ipython3",
   "version": "3.8.10"
  }
 },
 "nbformat": 4,
 "nbformat_minor": 5
}
