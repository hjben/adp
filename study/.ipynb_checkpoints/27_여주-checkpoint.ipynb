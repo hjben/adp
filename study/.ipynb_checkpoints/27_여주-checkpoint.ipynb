{
 "cells": [
  {
   "cell_type": "code",
   "execution_count": 1,
   "metadata": {},
   "outputs": [],
   "source": [
    "import warnings, platform\n",
    "from IPython.display import display, HTML\n",
    "\n",
    "import matplotlib.pyplot as plt"
   ]
  },
  {
   "cell_type": "code",
   "execution_count": 2,
   "metadata": {},
   "outputs": [
    {
     "data": {
      "text/html": [
       "<style>.container {width :98% !important;}</style>"
      ],
      "text/plain": [
       "<IPython.core.display.HTML object>"
      ]
     },
     "metadata": {},
     "output_type": "display_data"
    }
   ],
   "source": [
    "### HTML display 조정\n",
    "display(HTML(\"<style>.container {width :98% !important;}</style>\"))\n",
    "\n",
    "### Warning 제거\n",
    "warnings.filterwarnings('ignore')"
   ]
  },
  {
   "cell_type": "code",
   "execution_count": 3,
   "metadata": {},
   "outputs": [],
   "source": [
    "import numpy as np\n",
    "import pandas as pd\n",
    "\n",
    "import matplotlib.pyplot as plt\n",
    "import seaborn as sns\n",
    "\n",
    "import scipy.stats as stats\n",
    "import statsmodels.formula.api as smf"
   ]
  },
  {
   "cell_type": "markdown",
   "metadata": {
    "tags": []
   },
   "source": [
    "# ADP 27회 실기 문제"
   ]
  },
  {
   "cell_type": "markdown",
   "metadata": {
    "tags": []
   },
   "source": [
    "# 문제설명 (1번)\n",
    "- 데이터 url :https://raw.githubusercontent.com/Datamanim/datarepo/main/adp/27/rauds.csv    \n",
    "- 출처 :https://www.kaggle.com/datasets/mlg-ulb/creditcardfraud (후처리)    \n",
    "신용카드 사용에 대한 데이터이다. 각 컬럼의 의미는 다음과 같다.    \n",
    "Time : 카드 이용 시점의 시각 (sec)    \n",
    "V1 ~ V17 : 유저 특성에 관한 피쳐 (float)    \n",
    "Amount : 거래금액    \n",
    "Class : 0: 정상거래 , 1: 이상거래"
   ]
  },
  {
   "cell_type": "code",
   "execution_count": 4,
   "metadata": {},
   "outputs": [
    {
     "data": {
      "text/html": [
       "<div>\n",
       "<style scoped>\n",
       "    .dataframe tbody tr th:only-of-type {\n",
       "        vertical-align: middle;\n",
       "    }\n",
       "\n",
       "    .dataframe tbody tr th {\n",
       "        vertical-align: top;\n",
       "    }\n",
       "\n",
       "    .dataframe thead th {\n",
       "        text-align: right;\n",
       "    }\n",
       "</style>\n",
       "<table border=\"1\" class=\"dataframe\">\n",
       "  <thead>\n",
       "    <tr style=\"text-align: right;\">\n",
       "      <th></th>\n",
       "      <th>Time</th>\n",
       "      <th>V1</th>\n",
       "      <th>V2</th>\n",
       "      <th>V3</th>\n",
       "      <th>V4</th>\n",
       "      <th>V5</th>\n",
       "      <th>V6</th>\n",
       "      <th>V7</th>\n",
       "      <th>V8</th>\n",
       "      <th>V9</th>\n",
       "      <th>...</th>\n",
       "      <th>V21</th>\n",
       "      <th>V22</th>\n",
       "      <th>V23</th>\n",
       "      <th>V24</th>\n",
       "      <th>V25</th>\n",
       "      <th>V26</th>\n",
       "      <th>V27</th>\n",
       "      <th>V28</th>\n",
       "      <th>Amount</th>\n",
       "      <th>Class</th>\n",
       "    </tr>\n",
       "  </thead>\n",
       "  <tbody>\n",
       "    <tr>\n",
       "      <th>0</th>\n",
       "      <td>23.0</td>\n",
       "      <td>1.173285</td>\n",
       "      <td>0.353498</td>\n",
       "      <td>0.283905</td>\n",
       "      <td>1.133563</td>\n",
       "      <td>-0.172577</td>\n",
       "      <td>-0.916054</td>\n",
       "      <td>0.369025</td>\n",
       "      <td>-0.327260</td>\n",
       "      <td>-0.246651</td>\n",
       "      <td>...</td>\n",
       "      <td>0.067003</td>\n",
       "      <td>0.227812</td>\n",
       "      <td>-0.150487</td>\n",
       "      <td>0.435045</td>\n",
       "      <td>0.724825</td>\n",
       "      <td>-0.337082</td>\n",
       "      <td>0.016368</td>\n",
       "      <td>0.030041</td>\n",
       "      <td>41.88</td>\n",
       "      <td>0</td>\n",
       "    </tr>\n",
       "    <tr>\n",
       "      <th>1</th>\n",
       "      <td>26.0</td>\n",
       "      <td>-0.535388</td>\n",
       "      <td>0.865268</td>\n",
       "      <td>1.351076</td>\n",
       "      <td>0.147575</td>\n",
       "      <td>0.433680</td>\n",
       "      <td>0.086983</td>\n",
       "      <td>0.693039</td>\n",
       "      <td>0.179742</td>\n",
       "      <td>-0.285642</td>\n",
       "      <td>...</td>\n",
       "      <td>0.049526</td>\n",
       "      <td>0.206537</td>\n",
       "      <td>-0.187108</td>\n",
       "      <td>0.000753</td>\n",
       "      <td>0.098117</td>\n",
       "      <td>-0.553471</td>\n",
       "      <td>-0.078306</td>\n",
       "      <td>0.025427</td>\n",
       "      <td>1.77</td>\n",
       "      <td>0</td>\n",
       "    </tr>\n",
       "    <tr>\n",
       "      <th>2</th>\n",
       "      <td>36.0</td>\n",
       "      <td>1.095525</td>\n",
       "      <td>-0.116085</td>\n",
       "      <td>1.397912</td>\n",
       "      <td>1.497547</td>\n",
       "      <td>-1.049124</td>\n",
       "      <td>0.072839</td>\n",
       "      <td>-0.723802</td>\n",
       "      <td>0.287532</td>\n",
       "      <td>0.996327</td>\n",
       "      <td>...</td>\n",
       "      <td>-0.033234</td>\n",
       "      <td>0.093262</td>\n",
       "      <td>0.089498</td>\n",
       "      <td>0.361261</td>\n",
       "      <td>0.250963</td>\n",
       "      <td>-0.378280</td>\n",
       "      <td>0.081024</td>\n",
       "      <td>0.034227</td>\n",
       "      <td>2.09</td>\n",
       "      <td>0</td>\n",
       "    </tr>\n",
       "    <tr>\n",
       "      <th>3</th>\n",
       "      <td>39.0</td>\n",
       "      <td>-1.330882</td>\n",
       "      <td>0.267540</td>\n",
       "      <td>-0.168470</td>\n",
       "      <td>-0.701232</td>\n",
       "      <td>3.281972</td>\n",
       "      <td>3.216390</td>\n",
       "      <td>-0.059394</td>\n",
       "      <td>0.895430</td>\n",
       "      <td>-0.017779</td>\n",
       "      <td>...</td>\n",
       "      <td>-0.151042</td>\n",
       "      <td>-0.311726</td>\n",
       "      <td>-0.374793</td>\n",
       "      <td>1.014886</td>\n",
       "      <td>0.353992</td>\n",
       "      <td>-0.510327</td>\n",
       "      <td>0.159033</td>\n",
       "      <td>0.228708</td>\n",
       "      <td>13.84</td>\n",
       "      <td>0</td>\n",
       "    </tr>\n",
       "    <tr>\n",
       "      <th>4</th>\n",
       "      <td>42.0</td>\n",
       "      <td>-0.249361</td>\n",
       "      <td>0.399227</td>\n",
       "      <td>0.068009</td>\n",
       "      <td>-1.060619</td>\n",
       "      <td>2.410399</td>\n",
       "      <td>3.736574</td>\n",
       "      <td>0.316446</td>\n",
       "      <td>0.672296</td>\n",
       "      <td>0.015140</td>\n",
       "      <td>...</td>\n",
       "      <td>-0.257663</td>\n",
       "      <td>-0.616762</td>\n",
       "      <td>-0.156669</td>\n",
       "      <td>1.031135</td>\n",
       "      <td>0.120617</td>\n",
       "      <td>0.310494</td>\n",
       "      <td>-0.288299</td>\n",
       "      <td>-0.223964</td>\n",
       "      <td>32.51</td>\n",
       "      <td>0</td>\n",
       "    </tr>\n",
       "  </tbody>\n",
       "</table>\n",
       "<p>5 rows × 31 columns</p>\n",
       "</div>"
      ],
      "text/plain": [
       "   Time        V1        V2        V3        V4        V5        V6        V7  \\\n",
       "0  23.0  1.173285  0.353498  0.283905  1.133563 -0.172577 -0.916054  0.369025   \n",
       "1  26.0 -0.535388  0.865268  1.351076  0.147575  0.433680  0.086983  0.693039   \n",
       "2  36.0  1.095525 -0.116085  1.397912  1.497547 -1.049124  0.072839 -0.723802   \n",
       "3  39.0 -1.330882  0.267540 -0.168470 -0.701232  3.281972  3.216390 -0.059394   \n",
       "4  42.0 -0.249361  0.399227  0.068009 -1.060619  2.410399  3.736574  0.316446   \n",
       "\n",
       "         V8        V9  ...       V21       V22       V23       V24       V25  \\\n",
       "0 -0.327260 -0.246651  ...  0.067003  0.227812 -0.150487  0.435045  0.724825   \n",
       "1  0.179742 -0.285642  ...  0.049526  0.206537 -0.187108  0.000753  0.098117   \n",
       "2  0.287532  0.996327  ... -0.033234  0.093262  0.089498  0.361261  0.250963   \n",
       "3  0.895430 -0.017779  ... -0.151042 -0.311726 -0.374793  1.014886  0.353992   \n",
       "4  0.672296  0.015140  ... -0.257663 -0.616762 -0.156669  1.031135  0.120617   \n",
       "\n",
       "        V26       V27       V28  Amount  Class  \n",
       "0 -0.337082  0.016368  0.030041   41.88      0  \n",
       "1 -0.553471 -0.078306  0.025427    1.77      0  \n",
       "2 -0.378280  0.081024  0.034227    2.09      0  \n",
       "3 -0.510327  0.159033  0.228708   13.84      0  \n",
       "4  0.310494 -0.288299 -0.223964   32.51      0  \n",
       "\n",
       "[5 rows x 31 columns]"
      ]
     },
     "execution_count": 4,
     "metadata": {},
     "output_type": "execute_result"
    }
   ],
   "source": [
    "df = pd.read_csv('https://raw.githubusercontent.com/Datamanim/datarepo/main/adp/27/rauds.csv')\n",
    "df.head()"
   ]
  },
  {
   "cell_type": "markdown",
   "metadata": {
    "tags": []
   },
   "source": [
    "## 문제 1-1 \n",
    "EDA 데이터 탐색 (시각화 포함)"
   ]
  },
  {
   "cell_type": "code",
   "execution_count": 5,
   "metadata": {},
   "outputs": [
    {
     "data": {
      "text/plain": [
       "(5900, 31)"
      ]
     },
     "execution_count": 5,
     "metadata": {},
     "output_type": "execute_result"
    }
   ],
   "source": [
    "df.shape"
   ]
  },
  {
   "cell_type": "code",
   "execution_count": 6,
   "metadata": {},
   "outputs": [
    {
     "name": "stdout",
     "output_type": "stream",
     "text": [
      "<class 'pandas.core.frame.DataFrame'>\n",
      "RangeIndex: 5900 entries, 0 to 5899\n",
      "Data columns (total 31 columns):\n",
      " #   Column  Non-Null Count  Dtype  \n",
      "---  ------  --------------  -----  \n",
      " 0   Time    5900 non-null   float64\n",
      " 1   V1      5900 non-null   float64\n",
      " 2   V2      5900 non-null   float64\n",
      " 3   V3      5900 non-null   float64\n",
      " 4   V4      5900 non-null   float64\n",
      " 5   V5      5900 non-null   float64\n",
      " 6   V6      5900 non-null   float64\n",
      " 7   V7      5900 non-null   float64\n",
      " 8   V8      5900 non-null   float64\n",
      " 9   V9      5900 non-null   float64\n",
      " 10  V10     5900 non-null   float64\n",
      " 11  V11     5900 non-null   float64\n",
      " 12  V12     5900 non-null   float64\n",
      " 13  V13     5900 non-null   float64\n",
      " 14  V14     5900 non-null   float64\n",
      " 15  V15     5900 non-null   float64\n",
      " 16  V16     5900 non-null   float64\n",
      " 17  V17     5900 non-null   float64\n",
      " 18  V18     5900 non-null   float64\n",
      " 19  V19     5900 non-null   float64\n",
      " 20  V20     5900 non-null   float64\n",
      " 21  V21     5900 non-null   float64\n",
      " 22  V22     5900 non-null   float64\n",
      " 23  V23     5900 non-null   float64\n",
      " 24  V24     5900 non-null   float64\n",
      " 25  V25     5900 non-null   float64\n",
      " 26  V26     5900 non-null   float64\n",
      " 27  V27     5900 non-null   float64\n",
      " 28  V28     5900 non-null   float64\n",
      " 29  Amount  5900 non-null   float64\n",
      " 30  Class   5900 non-null   int64  \n",
      "dtypes: float64(30), int64(1)\n",
      "memory usage: 1.4 MB\n"
     ]
    }
   ],
   "source": [
    "df.info()"
   ]
  },
  {
   "cell_type": "code",
   "execution_count": 7,
   "metadata": {},
   "outputs": [
    {
     "name": "stdout",
     "output_type": "stream",
     "text": [
      "<답안>\n",
      "데이터의 총 개수는 5,900, 총 변수의 개수는 종속변수를 포함하여 31개이다. 그리고 NA 값은 존재하지 않는다. 종속 변수를 제외한 모든 변수는 수치형 변수로 구성되어 있으므로, boxplot을 통해 이상치 유무를 확인한다.\n"
     ]
    }
   ],
   "source": [
    "print('<답안>')\n",
    "print('데이터의 총 개수는 5,900, 총 변수의 개수는 종속변수를 포함하여 31개이다. 그리고 NA 값은 존재하지 않는다. 종속 변수를 제외한 모든 변수는 수치형 변수로 구성되어 있으므로, boxplot을 통해 이상치 유무를 확인한다.')"
   ]
  },
  {
   "cell_type": "code",
   "execution_count": 8,
   "metadata": {},
   "outputs": [
    {
     "data": {
      "image/png": "[encoded data removed]",
      "text/plain": [
       "<Figure size 1440x1440 with 30 Axes>"
      ]
     },
     "metadata": {
      "needs_background": "light"
     },
     "output_type": "display_data"
    }
   ],
   "source": [
    "fig, axes = plt.subplots(nrows=6, ncols=len(df.columns)//6, figsize=(20, 20))\n",
    "for i, col in enumerate(df.columns.difference(['Class'])):\n",
    "    row_ = i//5\n",
    "    col_ = i%5\n",
    "    sns.boxplot(y=df[col], ax=axes[row_][col_])"
   ]
  },
  {
   "cell_type": "code",
   "execution_count": 9,
   "metadata": {},
   "outputs": [
    {
     "name": "stdout",
     "output_type": "stream",
     "text": [
      "Boxplot을 확인해 본 결과, Time을 제외한 모든 변수에서 이상치가 발견되었으며, 각 변수의 scale이 다름을 확인할 수 있다. 이는 모델링을 수행할 때 변수 변환과 scaling이 필요할 수 있음을 시사한다.\n",
      "Target Class의 경우 이진 변수이므로, barplot으로 아래와 같이 확인하였다.\n"
     ]
    }
   ],
   "source": [
    "print('Boxplot을 확인해 본 결과, Time을 제외한 모든 변수에서 이상치가 발견되었으며, 각 변수의 scale이 다름을 확인할 수 있다. 이는 모델링을 수행할 때 변수 변환과 scaling이 필요할 수 있음을 시사한다.')\n",
    "print('Target Class의 경우 이진 변수이므로, barplot으로 아래와 같이 확인하였다.')"
   ]
  },
  {
   "cell_type": "code",
   "execution_count": 10,
   "metadata": {},
   "outputs": [
    {
     "data": {
      "text/plain": [
       "<matplotlib.axes._subplots.AxesSubplot at 0xffff718fbb50>"
      ]
     },
     "execution_count": 10,
     "metadata": {},
     "output_type": "execute_result"
    },
    {
     "data": {
      "image/png": "[encoded data removed]",
      "text/plain": [
       "<Figure size 432x288 with 1 Axes>"
      ]
     },
     "metadata": {
      "needs_background": "light"
     },
     "output_type": "display_data"
    }
   ],
   "source": [
    "sns.countplot(df.Class)"
   ]
  },
  {
   "cell_type": "code",
   "execution_count": 11,
   "metadata": {},
   "outputs": [
    {
     "name": "stdout",
     "output_type": "stream",
     "text": [
      "Class 변수는 0이 5723건, 1이 177건으로 데이터 불균형이 존재한다. 데이터 불균형을 해소하기 위한 작업이 추후 필요하다.\n"
     ]
    },
    {
     "data": {
      "text/plain": [
       "0    5723\n",
       "1     177\n",
       "Name: Class, dtype: int64"
      ]
     },
     "execution_count": 11,
     "metadata": {},
     "output_type": "execute_result"
    }
   ],
   "source": [
    "print('Class 변수는 0이 5723건, 1이 177건으로 데이터 불균형이 존재한다. 데이터 불균형을 해소하기 위한 작업이 추후 필요하다.')\n",
    "df.Class.value_counts()"
   ]
  },
  {
   "cell_type": "markdown",
   "metadata": {},
   "source": [
    "## 문제 1-2 \n",
    "변수간 상관관계를 시각화하고 전처리가 필요하다면 그 이유를 설명하고 시행하라"
   ]
  },
  {
   "cell_type": "code",
   "execution_count": 12,
   "metadata": {},
   "outputs": [
    {
     "name": "stdout",
     "output_type": "stream",
     "text": [
      "<답안>\n",
      "변수 간 Pearson 상관계수를 시각화해 보니, 선형 관계가 다수 있음이 발견되었다. 상관관계가 높은 변수는 모델링 수행 시 모델의 성능을 저하시키는 요소이므로, 변수 선택이나 차원 축소를 통해 필요한 변수만 추출해 내는 것이 필요하다.\n"
     ]
    },
    {
     "data": {
      "image/png": "[encoded data removed]",
      "text/plain": [
       "<Figure size 432x288 with 2 Axes>"
      ]
     },
     "metadata": {
      "needs_background": "light"
     },
     "output_type": "display_data"
    }
   ],
   "source": [
    "sns.heatmap(df.corr())\n",
    "print('<답안>')\n",
    "print('변수 간 Pearson 상관계수를 시각화해 보니, 선형 관계가 다수 있음이 발견되었다. 상관관계가 높은 변수는 모델링 수행 시 모델의 성능을 저하시키는 요소이므로, 변수 선택이나 차원 축소를 통해 필요한 변수만 추출해 내는 것이 필요하다.')"
   ]
  },
  {
   "cell_type": "code",
   "execution_count": 13,
   "metadata": {},
   "outputs": [
    {
     "name": "stdout",
     "output_type": "stream",
     "text": [
      "차원 축소 전 필요한 전처리로는 변수 간 scaling을 통일이 있다.\n",
      "변수의 의미를 현재로써는 정확하게 알기 어렵기 때문에, 이상치 제거 작업은 불가능하므로 이상치의 영향을 줄이는 작업을 진행한다.\n",
      "log 변수변환을 먼저 수행하고, 이상치의 영향을 덜 받는 RobustScaler로 scaling을 수행한다.\n",
      "작업 수행 후, 이상 정도가 완화된 것과 scale이 통일된것을 확인하였다.\n"
     ]
    }
   ],
   "source": [
    "print('차원 축소 전 필요한 전처리로는 변수 간 scaling을 통일이 있다.')\n",
    "print('변수의 의미를 현재로써는 정확하게 알기 어렵기 때문에, 이상치 제거 작업은 불가능하므로 이상치의 영향을 줄이는 작업을 진행한다.')\n",
    "print('log 변수변환을 먼저 수행하고, 이상치의 영향을 덜 받는 RobustScaler로 scaling을 수행한다.')\n",
    "print('작업 수행 후, 이상 정도가 완화된 것과 scale이 통일된것을 확인하였다.')"
   ]
  },
  {
   "cell_type": "code",
   "execution_count": 14,
   "metadata": {},
   "outputs": [],
   "source": [
    "from sklearn.preprocessing import RobustScaler"
   ]
  },
  {
   "cell_type": "code",
   "execution_count": 16,
   "metadata": {},
   "outputs": [
    {
     "data": {
      "image/png": "[encoded data removed]",
      "text/plain": [
       "<Figure size 1440x1440 with 30 Axes>"
      ]
     },
     "metadata": {
      "needs_background": "light"
     },
     "output_type": "display_data"
    }
   ],
   "source": [
    "log_columns = df.columns.difference(['Class', 'Time'])\n",
    "\n",
    "new_df = pd.DataFrame()\n",
    "for col in log_columns:\n",
    "    new_df['log_' + col] = np.log1p(df[col] + abs(int(np.min(df[col])))) # 최소값의 절대값을 더해서 0 이상의 값으로 만듦\n",
    "\n",
    "new_df['Time'] = df['Time']\n",
    "\n",
    "scaler = RobustScaler()\n",
    "x_scaled = pd.DataFrame(scaler.fit_transform(new_df), columns=new_df.columns)\n",
    "\n",
    "fig, axes = plt.subplots(nrows=5, ncols=6, figsize=(20, 20))\n",
    "for i, col in enumerate(x_scaled.columns):\n",
    "    row_ = i//6\n",
    "    col_ = i%6\n",
    "    sns.boxplot(y=x_scaled[col], ax=axes[row_][col_])"
   ]
  },
  {
   "cell_type": "markdown",
   "metadata": {},
   "source": [
    "## 문제 2.1 \n",
    "차원축소 방법 2가지 이상에 대해 설명하고 장단점을 비교하라"
   ]
  },
  {
   "cell_type": "code",
   "execution_count": 17,
   "metadata": {},
   "outputs": [
    {
     "name": "stdout",
     "output_type": "stream",
     "text": [
      "차원 축소는 Sparsity를 줄이고, 모델 설명력을 높이기 위한 방법이며, 데이터를 더 잘 설명할 수 있는 잠재적인 요소를 추출하여 데이터의 차원을 감소시키는 방법론이다.\n",
      "많이 사용되는 차원축소 방법으로 주성분분석과 요인분석이 있다. 두 방법 모두 적은 변수 개수로 전체 데이터의 분산 설명력을 최대화하는 데에 그 목적이 있다.\n",
      "주성분 분석은 자료의 변동이 최대한 보존되는 축을 찾고, 이를 바탕으로 저차원 자료를 생성한다. SVD 알고리즘 기반으로 구현된다.\n",
      "요인 분석은 유사한 변수를 묶어 공동 요인을 만들고, 이를 이용하여 변수의 상관 구조를 분석한다. Clustering과 유사한 성격을 띄나, 공동 요인을 만드는 데 분석가의 사전 지식이 어느 정도 필요하다.\n"
     ]
    }
   ],
   "source": [
    "print('차원 축소는 Sparsity를 줄이고, 모델 설명력을 높이기 위한 방법이며, 데이터를 더 잘 설명할 수 있는 잠재적인 요소를 추출하여 데이터의 차원을 감소시키는 방법론이다.')\n",
    "print('많이 사용되는 차원축소 방법으로 주성분분석과 요인분석이 있다. 두 방법 모두 적은 변수 개수로 전체 데이터의 분산 설명력을 최대화하는 데에 그 목적이 있다.')\n",
    "print('주성분 분석은 자료의 변동이 최대한 보존되는 축을 찾고, 이를 바탕으로 저차원 자료를 생성한다. SVD 알고리즘 기반으로 구현된다.')\n",
    "print('요인 분석은 유사한 변수를 묶어 공동 요인을 만들고, 이를 이용하여 변수의 상관 구조를 분석한다. Clustering과 유사한 성격을 띄나, 공동 요인을 만드는 데 분석가의 사전 지식이 어느 정도 필요하다.')"
   ]
  },
  {
   "cell_type": "markdown",
   "metadata": {},
   "source": [
    "## 문제 2.2\n",
    "2.1에서 선택한 한가지 차원축소 방법을 실제로 수행하고 선택한 이유를 설명하라"
   ]
  },
  {
   "cell_type": "code",
   "execution_count": 18,
   "metadata": {},
   "outputs": [
    {
     "name": "stdout",
     "output_type": "stream",
     "text": [
      "본 케이스에서는 데이터와 변수에 대한 상세 정보가 부족하기 때문에, 요인분석보다는 주성분분석이 보다 더 적합한 것으로 판단된다.\n"
     ]
    }
   ],
   "source": [
    "print('본 케이스에서는 데이터와 변수에 대한 상세 정보가 부족하기 때문에, 요인분석보다는 주성분분석이 보다 더 적합한 것으로 판단된다.')"
   ]
  },
  {
   "cell_type": "code",
   "execution_count": 19,
   "metadata": {},
   "outputs": [],
   "source": [
    "from sklearn.decomposition import PCA"
   ]
  },
  {
   "cell_type": "code",
   "execution_count": 21,
   "metadata": {},
   "outputs": [
    {
     "name": "stdout",
     "output_type": "stream",
     "text": [
      "고유 값 :  [618.31061741 467.9749416  460.68327199 426.50358027 292.05510072\n",
      " 235.7905213  195.89842832 169.71250186 163.07893382 150.59118598\n",
      " 132.45132169 106.19827775  96.34969823  91.10230087  87.58051281\n",
      "  74.53510461  73.63592664  71.53656659  70.50525293  69.15854626\n",
      "  67.51934252  64.9372257   62.69566361  59.97862798  58.13290068\n",
      "  53.73170361  48.94913035  45.85346121  43.05464057  40.63828186]\n",
      "분산 설명력:  [0.28043143 0.16064177 0.15567475 0.13343159 0.06256665 0.04078176\n",
      " 0.02814979 0.02112715 0.01950783 0.0166346  0.01286844 0.00827272\n",
      " 0.00680948 0.00608796 0.00562637 0.00407507 0.00397734 0.00375379\n",
      " 0.00364633 0.00350837 0.00334403 0.00309315 0.00288329 0.0026388\n",
      " 0.00247889 0.00211775 0.00175753 0.00154226 0.00135973 0.00121139]\n"
     ]
    }
   ],
   "source": [
    "# 주성분 추출\n",
    "pca = PCA(n_components=len(df.columns.difference(['Class'])))\n",
    "pca_fit = pca.fit(x_scaled)\n",
    "\n",
    "print(\"고유 값 : \", pca.singular_values_)\n",
    "print(\"분산 설명력: \", pca.explained_variance_ratio_)"
   ]
  },
  {
   "cell_type": "code",
   "execution_count": 22,
   "metadata": {},
   "outputs": [
    {
     "data": {
      "image/png": "[encoded data removed]",
      "text/plain": [
       "<Figure size 432x288 with 1 Axes>"
      ]
     },
     "metadata": {
      "needs_background": "light"
     },
     "output_type": "display_data"
    }
   ],
   "source": [
    "plt.title('Scree Plot')\n",
    "plt.xlabel('Number of Components')\n",
    "plt.ylabel('Cumulative Explained Variance')\n",
    "plt.plot(pca.explained_variance_ratio_ , 'o-')\n",
    "plt.show()"
   ]
  },
  {
   "cell_type": "code",
   "execution_count": 23,
   "metadata": {},
   "outputs": [
    {
     "data": {
      "text/plain": [
       "0.7927461814120828"
      ]
     },
     "execution_count": 23,
     "metadata": {},
     "output_type": "execute_result"
    }
   ],
   "source": [
    "pca.explained_variance_ratio_[:5].sum()"
   ]
  },
  {
   "cell_type": "code",
   "execution_count": 24,
   "metadata": {},
   "outputs": [
    {
     "data": {
      "text/html": [
       "<div>\n",
       "<style scoped>\n",
       "    .dataframe tbody tr th:only-of-type {\n",
       "        vertical-align: middle;\n",
       "    }\n",
       "\n",
       "    .dataframe tbody tr th {\n",
       "        vertical-align: top;\n",
       "    }\n",
       "\n",
       "    .dataframe thead th {\n",
       "        text-align: right;\n",
       "    }\n",
       "</style>\n",
       "<table border=\"1\" class=\"dataframe\">\n",
       "  <thead>\n",
       "    <tr style=\"text-align: right;\">\n",
       "      <th></th>\n",
       "      <th>PC1</th>\n",
       "      <th>PC2</th>\n",
       "      <th>PC3</th>\n",
       "      <th>PC4</th>\n",
       "      <th>PC5</th>\n",
       "    </tr>\n",
       "  </thead>\n",
       "  <tbody>\n",
       "    <tr>\n",
       "      <th>0</th>\n",
       "      <td>-1.041600</td>\n",
       "      <td>-0.142468</td>\n",
       "      <td>0.132784</td>\n",
       "      <td>0.466114</td>\n",
       "      <td>-0.333350</td>\n",
       "    </tr>\n",
       "    <tr>\n",
       "      <th>1</th>\n",
       "      <td>-1.148282</td>\n",
       "      <td>-0.462529</td>\n",
       "      <td>0.740365</td>\n",
       "      <td>0.260521</td>\n",
       "      <td>-0.764383</td>\n",
       "    </tr>\n",
       "    <tr>\n",
       "      <th>2</th>\n",
       "      <td>-0.849061</td>\n",
       "      <td>-0.758796</td>\n",
       "      <td>-0.003170</td>\n",
       "      <td>-0.172197</td>\n",
       "      <td>0.065433</td>\n",
       "    </tr>\n",
       "    <tr>\n",
       "      <th>3</th>\n",
       "      <td>-0.372320</td>\n",
       "      <td>-1.570798</td>\n",
       "      <td>0.494474</td>\n",
       "      <td>2.463477</td>\n",
       "      <td>-0.397770</td>\n",
       "    </tr>\n",
       "    <tr>\n",
       "      <th>4</th>\n",
       "      <td>-0.777451</td>\n",
       "      <td>1.108538</td>\n",
       "      <td>1.497625</td>\n",
       "      <td>-1.896103</td>\n",
       "      <td>-0.793550</td>\n",
       "    </tr>\n",
       "    <tr>\n",
       "      <th>...</th>\n",
       "      <td>...</td>\n",
       "      <td>...</td>\n",
       "      <td>...</td>\n",
       "      <td>...</td>\n",
       "      <td>...</td>\n",
       "    </tr>\n",
       "    <tr>\n",
       "      <th>5895</th>\n",
       "      <td>-0.476944</td>\n",
       "      <td>-0.989631</td>\n",
       "      <td>0.679915</td>\n",
       "      <td>1.747877</td>\n",
       "      <td>0.474332</td>\n",
       "    </tr>\n",
       "    <tr>\n",
       "      <th>5896</th>\n",
       "      <td>-1.293190</td>\n",
       "      <td>-0.536077</td>\n",
       "      <td>-0.840031</td>\n",
       "      <td>0.634907</td>\n",
       "      <td>-0.554206</td>\n",
       "    </tr>\n",
       "    <tr>\n",
       "      <th>5897</th>\n",
       "      <td>-0.604448</td>\n",
       "      <td>-0.007294</td>\n",
       "      <td>-0.055079</td>\n",
       "      <td>0.162340</td>\n",
       "      <td>-0.050965</td>\n",
       "    </tr>\n",
       "    <tr>\n",
       "      <th>5898</th>\n",
       "      <td>-0.674313</td>\n",
       "      <td>-1.597950</td>\n",
       "      <td>-0.206966</td>\n",
       "      <td>-0.896078</td>\n",
       "      <td>-0.066378</td>\n",
       "    </tr>\n",
       "    <tr>\n",
       "      <th>5899</th>\n",
       "      <td>8.987986</td>\n",
       "      <td>3.771465</td>\n",
       "      <td>-4.944986</td>\n",
       "      <td>3.981407</td>\n",
       "      <td>-3.633599</td>\n",
       "    </tr>\n",
       "  </tbody>\n",
       "</table>\n",
       "<p>5900 rows × 5 columns</p>\n",
       "</div>"
      ],
      "text/plain": [
       "           PC1       PC2       PC3       PC4       PC5\n",
       "0    -1.041600 -0.142468  0.132784  0.466114 -0.333350\n",
       "1    -1.148282 -0.462529  0.740365  0.260521 -0.764383\n",
       "2    -0.849061 -0.758796 -0.003170 -0.172197  0.065433\n",
       "3    -0.372320 -1.570798  0.494474  2.463477 -0.397770\n",
       "4    -0.777451  1.108538  1.497625 -1.896103 -0.793550\n",
       "...        ...       ...       ...       ...       ...\n",
       "5895 -0.476944 -0.989631  0.679915  1.747877  0.474332\n",
       "5896 -1.293190 -0.536077 -0.840031  0.634907 -0.554206\n",
       "5897 -0.604448 -0.007294 -0.055079  0.162340 -0.050965\n",
       "5898 -0.674313 -1.597950 -0.206966 -0.896078 -0.066378\n",
       "5899  8.987986  3.771465 -4.944986  3.981407 -3.633599\n",
       "\n",
       "[5900 rows x 5 columns]"
      ]
     },
     "execution_count": 24,
     "metadata": {},
     "output_type": "execute_result"
    }
   ],
   "source": [
    "# 주성분 추출\n",
    "pca = PCA(n_components=5)\n",
    "transformed = pd.DataFrame(pca.fit_transform(x_scaled), columns=['PC1', 'PC2', 'PC3', 'PC4', 'PC5'])\n",
    "# transformed['Class'] = df['Class'] # Y label 추가\n",
    "\n",
    "transformed"
   ]
  },
  {
   "cell_type": "code",
   "execution_count": 25,
   "metadata": {},
   "outputs": [
    {
     "name": "stdout",
     "output_type": "stream",
     "text": [
      "5개의 주성분이 0.79%의 분산을 설명하고, 주성분이 더 늘어나도 큰 설명력 차이가 발생하지 않는다. 따라서 주성분 5개로 PCA 차원 축소를 진행한다.\n",
      "차원 축소 진행 후 총 5개의 변수로 변환된 것을 확인할 수 있다.\n"
     ]
    }
   ],
   "source": [
    "print(f'5개의 주성분이 {round(pca.explained_variance_ratio_[:5].sum() ,2)}%의 분산을 설명하고, 주성분이 더 늘어나도 큰 설명력 차이가 발생하지 않는다. 따라서 주성분 5개로 PCA 차원 축소를 진행한다.')\n",
    "print('차원 축소 진행 후 총 5개의 변수로 변환된 것을 확인할 수 있다.')"
   ]
  },
  {
   "cell_type": "markdown",
   "metadata": {
    "tags": []
   },
   "source": [
    "## 문제 3.1\n",
    "오버샘플링과 언더샘플링에 대한 설명 및 장단점을 설명하라"
   ]
  },
  {
   "cell_type": "code",
   "execution_count": 26,
   "metadata": {},
   "outputs": [
    {
     "name": "stdout",
     "output_type": "stream",
     "text": [
      "해당 데이터는 Target data인 Class 변수의 비율에 차이가 있기 때문에, sampling 방법을 통한 클래스 비율 조정이 필수적이다.\n",
      "Under-sampling은 모델 수행 속도가 빨라진다는 장점이 있으나, 적은 class 개수에 데이터를 맞추기 때문에 데이터 개수가 크게 줄 수 있고, 이로 인한 성능 저하를 주의해야 한다.\n",
      "Over-sampling은 적은 class를 많은 class 개수에 맞게 sampling하여 생성하는 방법으로, Under sampling보다 성능에 유리하나, 동일 데이터를 재성성하는 것으므로 Overfitting 가능성이 있다.\n"
     ]
    }
   ],
   "source": [
    "print('해당 데이터는 Target data인 Class 변수의 비율에 차이가 있기 때문에, sampling 방법을 통한 클래스 비율 조정이 필수적이다.')\n",
    "print('Under-sampling은 모델 수행 속도가 빨라진다는 장점이 있으나, 적은 class 개수에 데이터를 맞추기 때문에 데이터 개수가 크게 줄 수 있고, 이로 인한 성능 저하를 주의해야 한다.')\n",
    "print('Over-sampling은 적은 class를 많은 class 개수에 맞게 sampling하여 생성하는 방법으로, Under sampling보다 성능에 유리하나, 동일 데이터를 재성성하는 것으므로 Overfitting 가능성이 있다.')"
   ]
  },
  {
   "cell_type": "markdown",
   "metadata": {},
   "source": [
    "## 문제 3.2 \n",
    "오버샘플링 및 언더샘플링 방식 중 하나를 선택하여 구현하고 Class를 종속변수로 하는 분류 모델을 2가지 이상 구현하고 성능을 비교하라"
   ]
  },
  {
   "cell_type": "code",
   "execution_count": 27,
   "metadata": {},
   "outputs": [
    {
     "name": "stdout",
     "output_type": "stream",
     "text": [
      "본 케이스의 경우 데이터의 개수가 많지 않아 Under Sampling을 진행하면 모델의 대표성을 보장하기 어렵다.\n",
      "따라서 Overfitting만 주의한다면 좋은 모델링 결과를 얻을 수 있는 Over sampling을 선정하여 진행하였다.\n",
      "Sampling은 train data에 대해서만 진행해야 하므로, data를 8:2 비율로 train set과 test set으로 분리하였다.\n"
     ]
    }
   ],
   "source": [
    "print('본 케이스의 경우 데이터의 개수가 많지 않아 Under Sampling을 진행하면 모델의 대표성을 보장하기 어렵다.')\n",
    "print('따라서 Overfitting만 주의한다면 좋은 모델링 결과를 얻을 수 있는 Over sampling을 선정하여 진행하였다.')\n",
    "print('Sampling은 train data에 대해서만 진행해야 하므로, data를 8:2 비율로 train set과 test set으로 분리하였다.')"
   ]
  },
  {
   "cell_type": "code",
   "execution_count": 28,
   "metadata": {},
   "outputs": [],
   "source": [
    "from collections import Counter\n",
    "from sklearn.model_selection import train_test_split\n",
    "\n",
    "from imblearn.over_sampling import RandomOverSampler\n",
    "from imblearn.over_sampling import SMOTE"
   ]
  },
  {
   "cell_type": "code",
   "execution_count": 32,
   "metadata": {},
   "outputs": [
    {
     "name": "stdout",
     "output_type": "stream",
     "text": [
      "Counter({0: 4578, 1: 4578})\n"
     ]
    }
   ],
   "source": [
    "x = transformed\n",
    "y = df['Class']\n",
    "\n",
    "x_train, x_test, y_train, y_test = train_test_split(x, y, test_size=0.2, stratify=y)\n",
    "\n",
    "smote = SMOTE()\n",
    "x_smote, y_smote = smote.fit_resample(x_train, y_train)\n",
    "x_smote = pd.DataFrame(x_smote, columns=x.columns)\n",
    "print(Counter(y_smote))"
   ]
  },
  {
   "cell_type": "code",
   "execution_count": 34,
   "metadata": {},
   "outputs": [
    {
     "name": "stdout",
     "output_type": "stream",
     "text": [
      "모든 변수가 연속형 변수로 구성되어 있으므로, K-NN 방법을 이용하여 소수 레이블의 값 사이에 임의의 새로운 데이터를 생성하는 SMOTE 기법을 사용하였다.\n",
      "두 기법 적용 이후, Class 개수가 4,578개로 맞추어진 것을 확인할 수 있다. 이를 주성분 1, 2로 시각화하면 아래와 같다.\n"
     ]
    },
    {
     "data": {
      "image/png": "[encoded data removed]",
      "text/plain": [
       "<Figure size 720x288 with 2 Axes>"
      ]
     },
     "metadata": {
      "needs_background": "light"
     },
     "output_type": "display_data"
    }
   ],
   "source": [
    "### Sampling Visualization\n",
    "fig, axes = plt.subplots(ncols=2, figsize=(10, 4))\n",
    "\n",
    "sns.scatterplot(x=x['PC1'], y=x['PC2'], hue=y, ax=axes[0], alpha=0.5)\n",
    "sns.scatterplot(x=x_smote['PC1'], y=x_smote['PC2'], hue=y_smote, ax=axes[1], alpha=0.5)\n",
    "\n",
    "axes[0].set_title('Original Data')\n",
    "axes[1].set_title('SMOTE')\n",
    "\n",
    "print('모든 변수가 연속형 변수로 구성되어 있으므로, K-NN 방법을 이용하여 소수 레이블의 값 사이에 임의의 새로운 데이터를 생성하는 SMOTE 기법을 사용하였다.')\n",
    "print('두 기법 적용 이후, Class 개수가 4,578개로 맞추어진 것을 확인할 수 있다. 이를 주성분 1, 2로 시각화하면 아래와 같다.')\n",
    "plt.show()"
   ]
  },
  {
   "cell_type": "code",
   "execution_count": 35,
   "metadata": {},
   "outputs": [],
   "source": [
    "from sklearn.ensemble import RandomForestClassifier\n",
    "from sklearn.linear_model import LogisticRegression\n",
    "\n",
    "from sklearn.metrics import accuracy_score, f1_score, confusion_matrix, classification_report"
   ]
  },
  {
   "cell_type": "code",
   "execution_count": 36,
   "metadata": {},
   "outputs": [
    {
     "name": "stdout",
     "output_type": "stream",
     "text": [
      "confusion matrix for RandomForest:\n",
      " [[1135    1]\n",
      " [  10   34]]\n",
      "accuracy: 0.9906779661016949\n",
      "f1-score: 0.8607594936708862\n",
      "\n",
      "              precision    recall  f1-score   support\n",
      "\n",
      "           0       0.99      1.00      1.00      1136\n",
      "           1       0.97      0.77      0.86        44\n",
      "\n",
      "    accuracy                           0.99      1180\n",
      "   macro avg       0.98      0.89      0.93      1180\n",
      "weighted avg       0.99      0.99      0.99      1180\n",
      "\n",
      "confusion matrix for LogisitcRegression:\n",
      " [[1137    1]\n",
      " [   8   34]]\n",
      "accuracy: 0.9923728813559322\n",
      "f1-score: 0.8831168831168832\n",
      "\n",
      "              precision    recall  f1-score   support\n",
      "\n",
      "           0       0.99      1.00      1.00      1138\n",
      "           1       0.97      0.81      0.88        42\n",
      "\n",
      "    accuracy                           0.99      1180\n",
      "   macro avg       0.98      0.90      0.94      1180\n",
      "weighted avg       0.99      0.99      0.99      1180\n",
      "\n"
     ]
    }
   ],
   "source": [
    "clf = RandomForestClassifier()\n",
    "lr = LogisticRegression()\n",
    "\n",
    "train_data_dict = {'RandomForest': clf, 'LogisitcRegression': lr}\n",
    "\n",
    "evaluation_list = list()\n",
    "for k, v in train_data_dict.items():\n",
    "    v.fit(x_smote, y_smote)\n",
    "    pred = v.predict(x_test)\n",
    "    cm = confusion_matrix(pred, y_test)\n",
    "    accu = accuracy_score(pred, y_test)\n",
    "    f1 = f1_score(pred, y_test)\n",
    "    print(f'confusion matrix for {k}:\\n {cm}')\n",
    "    print(f'accuracy: {accu}')\n",
    "    print(f'f1-score: {f1}\\n')\n",
    "    print(classification_report(pred, y_test))\n",
    "    evaluation_list.append([cm, f1])"
   ]
  },
  {
   "cell_type": "code",
   "execution_count": 37,
   "metadata": {},
   "outputs": [
    {
     "name": "stdout",
     "output_type": "stream",
     "text": [
      "RandomForest와 Logistic Regression 모델을 사용하였다.\n",
      "두 모델 모두 정확도는 0.99 수준으로 매우 높다.\n",
      "하지만 데이터 불균형이 있는 모델이므로, Accuracy보다는 F1 score로 모델의 성능을 보는 것이 타당하며,  F1-score는 Logisitc Regression이 0.85로 조금 더 높게 나타났다.\n",
      "test data에 대해 작성한 Logistic Regression의 혼동 행렬을 확인해 보니 대부분은 Class를 잘 맞추었으며, 11개의 데이터에서 오류가 발생하였다.\n",
      "케이스를 분석해 보면 4건은 사기가 아닌 거래를 사기로 탐지했고, 7건은 사기 거래를 사기라고 탐지하지 못한 케이스이다.\n",
      "사기 거래를 사기라고 탐지하지 못 할 경우 그 반대의 경우보다 회사에 더 큰 위험이 발생할 수 있기 때문에, 이를 줄이는 것을 개선 목표로 삼아야 한다.\n"
     ]
    }
   ],
   "source": [
    "print('RandomForest와 Logistic Regression 모델을 사용하였다.')\n",
    "print('두 모델 모두 정확도는 0.99 수준으로 매우 높다.')\n",
    "print('하지만 데이터 불균형이 있는 모델이므로, Accuracy보다는 F1 score로 모델의 성능을 보는 것이 타당하며,  F1-score는 Logisitc Regression이 0.85로 조금 더 높게 나타났다.')\n",
    "print('test data에 대해 작성한 Logistic Regression의 혼동 행렬을 확인해 보니 대부분은 Class를 잘 맞추었으며, 11개의 데이터에서 오류가 발생하였다.')\n",
    "print('케이스를 분석해 보면 4건은 사기가 아닌 거래를 사기로 탐지했고, 7건은 사기 거래를 사기라고 탐지하지 못한 케이스이다.')\n",
    "print('사기 거래를 사기라고 탐지하지 못 할 경우 그 반대의 경우보다 회사에 더 큰 위험이 발생할 수 있기 때문에, 이를 줄이는 것을 개선 목표로 삼아야 한다.')"
   ]
  },
  {
   "cell_type": "markdown",
   "metadata": {},
   "source": [
    "## 문제 4.1 \n",
    "Class 컬럼이 주어지지 않았다고 가정하고 비지도 학습 방식의 이상탐지 모델을 만들려고한다.     \n",
    "이상 탐지 모델 2가지 이상 기술하고 장단점을 설명하라"
   ]
  },
  {
   "cell_type": "code",
   "execution_count": 38,
   "metadata": {},
   "outputs": [
    {
     "name": "stdout",
     "output_type": "stream",
     "text": [
      "이상탐지 모델로 주로 활용하는 기법으로는 Isolation Forest와 DBSCAN 방법이 있다.\n",
      "Isolation Forest는 Tree 가지치기가 되는 횟수에 따라 이상치 정도를 측정하며, 적은 split에 분류되는 데이터를 이상치로 판단한다. Tree기반 모델이므로 Ourlier의 영향에서 자유롭다.\n",
      "비지도학습 방법이지만, 가지고 있는 label을 통해 성능을 측정해볼 수도 있다.\n",
      "이상치 스코어에 따른 적절한 cutoff를 결정해야 한다는 불편한 점이 있으나, 분석가의 입맛에 맞게 cutoff를 결정할 수 있어 이는 모델 결과를 자유롭게 활용할 수 있다는 장점이 되기도 한다.\n",
      "또 다른 방법은 DBSCAN 알고리즘을 이용하는 것으로, DBSCAN 클러스터링 결과에 따라, 클러스터링이 되지 않은 데이터를 이상치로 판단한다. 클러스터링 알고리즘이므로 직관적으로 이상치와 비이상치를 시각화해볼 수 있으며 알고리즘 특성 상 반달 형태의 군집에 잘 적합한다.\n",
      "하지만 새로운 데이터의 이상치 예측이 불가하며, DBSCAN알고리즘의 하이퍼 파라미터를 정하는 것이 어렵다는 단점이 있다.\n"
     ]
    }
   ],
   "source": [
    "print('이상탐지 모델로 주로 활용하는 기법으로는 Isolation Forest와 DBSCAN 방법이 있다.')\n",
    "print('Isolation Forest는 Tree 가지치기가 되는 횟수에 따라 이상치 정도를 측정하며, 적은 split에 분류되는 데이터를 이상치로 판단한다. Tree기반 모델이므로 Ourlier의 영향에서 자유롭다.')\n",
    "print('비지도학습 방법이지만, 가지고 있는 label을 통해 성능을 측정해볼 수도 있다.')\n",
    "print('이상치 스코어에 따른 적절한 cutoff를 결정해야 한다는 불편한 점이 있으나, 분석가의 입맛에 맞게 cutoff를 결정할 수 있어 이는 모델 결과를 자유롭게 활용할 수 있다는 장점이 되기도 한다.')\n",
    "print('또 다른 방법은 DBSCAN 알고리즘을 이용하는 것으로, DBSCAN 클러스터링 결과에 따라, 클러스터링이 되지 않은 데이터를 이상치로 판단한다. 클러스터링 알고리즘이므로 직관적으로 이상치와 비이상치를 시각화해볼 수 있으며 알고리즘 특성 상 반달 형태의 군집에 잘 적합한다.')\n",
    "print('하지만 새로운 데이터의 이상치 예측이 불가하며, DBSCAN알고리즘의 하이퍼 파라미터를 정하는 것이 어렵다는 단점이 있다.')"
   ]
  },
  {
   "cell_type": "markdown",
   "metadata": {},
   "source": [
    "## 문제 4.2 \n",
    "2번에서 만든 데이터로 한 가지 비지도학습 이상탐지 모델을 구현하고, 3번에서 만든 모델과 결과를 비교하라"
   ]
  },
  {
   "cell_type": "code",
   "execution_count": 39,
   "metadata": {},
   "outputs": [],
   "source": [
    "from sklearn.ensemble import IsolationForest\n",
    "from sklearn.metrics import precision_recall_curve"
   ]
  },
  {
   "cell_type": "code",
   "execution_count": 40,
   "metadata": {},
   "outputs": [
    {
     "name": "stdout",
     "output_type": "stream",
     "text": [
      "0.8447715955834596\n"
     ]
    }
   ],
   "source": [
    "isol = IsolationForest()\n",
    "isol.fit(x_smote)\n",
    "\n",
    "pred = isol.predict(x_test)\n",
    "pred = np.where(pred == 1, 0, 1)\n",
    "\n",
    "train_score = isol.score_samples(x_smote)\n",
    "train_score = -1 * train_score \n",
    "\n",
    "precision, recall, thresholds = precision_recall_curve(y_smote, train_score, pos_label=1)\n",
    "f1 =  2 / (1/precision + 1/recall)\n",
    "\n",
    "print(f1.max())"
   ]
  },
  {
   "cell_type": "code",
   "execution_count": 41,
   "metadata": {},
   "outputs": [
    {
     "name": "stdout",
     "output_type": "stream",
     "text": [
      "같은 데이터에 대하여, Isolation Forest 모델을 사용하여 이상치 탐지 모델을 구현하였다. 임의의 파라미터로 학습하여 train data의 이상치 score를 구하고,\n",
      "F1을 최대화하는 contamination 값을 찾아 다시 학습하였다.\n",
      "수행 결과, F1 score 0.85로 위에서 수행한 분류 모델 대비 성능이 떨어지는 모델이 도출되었다.\n"
     ]
    }
   ],
   "source": [
    "print('같은 데이터에 대하여, Isolation Forest 모델을 사용하여 이상치 탐지 모델을 구현하였다. 임의의 파라미터로 학습하여 train data의 이상치 score를 구하고,')\n",
    "print('F1을 최대화하는 contamination 값을 찾아 다시 학습하였다.')\n",
    "print('수행 결과, F1 score 0.85로 위에서 수행한 분류 모델 대비 성능이 떨어지는 모델이 도출되었다.')"
   ]
  },
  {
   "cell_type": "markdown",
   "metadata": {
    "papermill": {
     "duration": 0.031867,
     "end_time": "2023-03-08T11:38:49.108316",
     "exception": false,
     "start_time": "2023-03-08T11:38:49.076449",
     "status": "completed"
    },
    "tags": []
   },
   "source": [
    "### 4-3 데이터 분석가 관점에서 3번에서 만든 모델과 4번에서 만든 모델 설명"
   ]
  },
  {
   "cell_type": "code",
   "execution_count": 42,
   "metadata": {},
   "outputs": [
    {
     "name": "stdout",
     "output_type": "stream",
     "text": [
      "첫 번째 모델은 Random Forest로 학습한 분류 모델이고, 두 번째는 Isolation Forest 이상치 탐지 모델이다.\n",
      "본 데이터는 y_train label이 명확하게 주어져 있어 지도 학습이 가능한 경우이며, 데이터의 정보를 최대한 활용하는 일반적인 분류 모델이 성능이 더 높게 나타났다.\n",
      "데이터의 label이 있고, label 별 데이터의 특성이 분명하게 드러나는 케이스여서 Up-sampling을 통한 분류 모델로 충분히 좋은 성능을 얻을 수 있었던 것으로 생각된다.\n",
      "Isolation Forest 모델은 비지도학습 모델로, y_train label 값을 학습 시 사용하지 않는다. 만약 지도 학습이 불가능한 경우라면 더 유용할 수 있다.\n"
     ]
    }
   ],
   "source": [
    "print('첫 번째 모델은 Random Forest로 학습한 분류 모델이고, 두 번째는 Isolation Forest 이상치 탐지 모델이다.')\n",
    "print('본 데이터는 y_train label이 명확하게 주어져 있어 지도 학습이 가능한 경우이며, 데이터의 정보를 최대한 활용하는 일반적인 분류 모델이 성능이 더 높게 나타났다.')\n",
    "print('데이터의 label이 있고, label 별 데이터의 특성이 분명하게 드러나는 케이스여서 Up-sampling을 통한 분류 모델로 충분히 좋은 성능을 얻을 수 있었던 것으로 생각된다.')\n",
    "print('Isolation Forest 모델은 비지도학습 모델로, y_train label 값을 학습 시 사용하지 않는다. 만약 지도 학습이 불가능한 경우라면 더 유용할 수 있다.')"
   ]
  },
  {
   "cell_type": "markdown",
   "metadata": {},
   "source": [
    "## 문제 5\n",
    "2년 전 제품 생산량이 100,000개, 1년 전 제품 생산량이 150,000개, 그 후 팩토리 기술의 상승으로 제품 생산량이 250,000개 되었을 때, 연평균 상승률의 대푯값을 구하시오. (반올림하여 소수점 아래 둘째자리까지 표기하시오.)"
   ]
  },
  {
   "cell_type": "code",
   "execution_count": 43,
   "metadata": {},
   "outputs": [
    {
     "name": "stdout",
     "output_type": "stream",
     "text": [
      "연도별 상승률은 각각 1.5, 1.67이고, 이들의 기하평균은 1.58 이다.\n",
      "따라서 연평균 상승률의 평균은 1.58이다.\n"
     ]
    }
   ],
   "source": [
    "print(f'연도별 상승률은 각각 {round(150000/100000, 2)}, {round(250000/150000, 2)}이고, 이들의 기하평균은 {round(stats.gmean([150000/100000, 250000/150000]), 2)} 이다.')\n",
    "print('따라서 연평균 상승률의 평균은 1.58이다.')"
   ]
  },
  {
   "cell_type": "markdown",
   "metadata": {},
   "source": [
    "## 문제 6\n",
    "12건의 광고 시간 측정. 평균 15.5초, 분산 3.2초 일때 90% 신뢰구간은?"
   ]
  },
  {
   "cell_type": "code",
   "execution_count": 44,
   "metadata": {},
   "outputs": [
    {
     "name": "stdout",
     "output_type": "stream",
     "text": [
      "광고시간 평균의 90% 신뢰구간은 (14.572609067393861, 16.427390932606137) 이다.\n"
     ]
    }
   ],
   "source": [
    "n = 12\n",
    "mu = 15.5\n",
    "sigma_2 = 3.2\n",
    "se = np.sqrt(sigma_2/n)\n",
    "\n",
    "print(f'광고시간 평균의 90% 신뢰구간은 {stats.t.interval(alpha=0.9, loc=mu, scale=se, df=n-1)} 이다.')"
   ]
  },
  {
   "cell_type": "markdown",
   "metadata": {},
   "source": [
    "## 문제 설명 (7번)\n",
    "강의 상류와 하류의 생물 다양성 점수에 차이가 있는지 검정하시오. (단, 같은 강에서 상류와 하류는 서로 독립적이지 않으며, 종속적인 관계에 있다.)\n",
    "\n",
    "- 데이터 url : https://raw.githubusercontent.com/Datamanim/datarepo/main/adp/27/river.csv"
   ]
  },
  {
   "cell_type": "code",
   "execution_count": 45,
   "metadata": {
    "papermill": {
     "duration": 0.125597,
     "end_time": "2023-03-08T11:38:49.702172",
     "exception": false,
     "start_time": "2023-03-08T11:38:49.576575",
     "status": "completed"
    },
    "tags": []
   },
   "outputs": [
    {
     "data": {
      "text/html": [
       "<div>\n",
       "<style scoped>\n",
       "    .dataframe tbody tr th:only-of-type {\n",
       "        vertical-align: middle;\n",
       "    }\n",
       "\n",
       "    .dataframe tbody tr th {\n",
       "        vertical-align: top;\n",
       "    }\n",
       "\n",
       "    .dataframe thead th {\n",
       "        text-align: right;\n",
       "    }\n",
       "</style>\n",
       "<table border=\"1\" class=\"dataframe\">\n",
       "  <thead>\n",
       "    <tr style=\"text-align: right;\">\n",
       "      <th></th>\n",
       "      <th>River</th>\n",
       "      <th>up</th>\n",
       "      <th>down</th>\n",
       "    </tr>\n",
       "  </thead>\n",
       "  <tbody>\n",
       "    <tr>\n",
       "      <th>0</th>\n",
       "      <td>A</td>\n",
       "      <td>57.1</td>\n",
       "      <td>45.7</td>\n",
       "    </tr>\n",
       "    <tr>\n",
       "      <th>1</th>\n",
       "      <td>B</td>\n",
       "      <td>51.6</td>\n",
       "      <td>37.2</td>\n",
       "    </tr>\n",
       "    <tr>\n",
       "      <th>2</th>\n",
       "      <td>C</td>\n",
       "      <td>53.9</td>\n",
       "      <td>53.3</td>\n",
       "    </tr>\n",
       "    <tr>\n",
       "      <th>3</th>\n",
       "      <td>D</td>\n",
       "      <td>59.0</td>\n",
       "      <td>54.3</td>\n",
       "    </tr>\n",
       "    <tr>\n",
       "      <th>4</th>\n",
       "      <td>E</td>\n",
       "      <td>57.5</td>\n",
       "      <td>46.3</td>\n",
       "    </tr>\n",
       "  </tbody>\n",
       "</table>\n",
       "</div>"
      ],
      "text/plain": [
       "  River    up  down\n",
       "0     A  57.1  45.7\n",
       "1     B  51.6  37.2\n",
       "2     C  53.9  53.3\n",
       "3     D  59.0  54.3\n",
       "4     E  57.5  46.3"
      ]
     },
     "execution_count": 45,
     "metadata": {},
     "output_type": "execute_result"
    }
   ],
   "source": [
    "df_river = pd.read_csv('https://raw.githubusercontent.com/Datamanim/datarepo/main/adp/27/river.csv')\n",
    "df_river.head()"
   ]
  },
  {
   "cell_type": "markdown",
   "metadata": {},
   "source": [
    "## 문제 7.1\n",
    "귀무가설과 대립가설을 세우시오"
   ]
  },
  {
   "cell_type": "code",
   "execution_count": 47,
   "metadata": {},
   "outputs": [
    {
     "name": "stdout",
     "output_type": "stream",
     "text": [
      "<답안>\n",
      "H0: 강의 상류와 하류의 생물 다양성 점수에는 차이가 없다.\n",
      "H1: 강의 상류와 하류의 생물 다양성 점수에는 차이가 있다.\n"
     ]
    }
   ],
   "source": [
    "print('<답안>')\n",
    "print('H0: 강의 상류와 하류의 생물 다양성 점수에는 차이가 없다.')\n",
    "print('H1: 강의 상류와 하류의 생물 다양성 점수에는 차이가 있다.')"
   ]
  },
  {
   "cell_type": "markdown",
   "metadata": {
    "tags": []
   },
   "source": [
    "## 문제 7.2\n",
    "검정통계량 및 유의확률을 구하고 검정 결과를 서술하시오"
   ]
  },
  {
   "cell_type": "code",
   "execution_count": 48,
   "metadata": {},
   "outputs": [
    {
     "name": "stdout",
     "output_type": "stream",
     "text": [
      "같은 강에서 상류와 하류는 서로 독립적이지 않으므로, paired test를 진행한다. paired T-test에서 필요한 데이터의 정규성을 알아보기 위해, 먼저 두 집단의 차이에 대해 정규성 검정 (shapiro-wilk test)을 시행한다.\n",
      "정규성 검정 결과, 검정 통계량 0.955, p-value 0.486으로 두 집단의 차이는 정규성을 가지고 있다라는 귀무가설을 기각할 수 없다. 즉, 두 집단의 차이는 정규분포를 따른다고 볼 수 있으며, 이 가정 하에서 paired T-test를 진행한다.\n",
      "Paired T-test 결과, 검정 통계량 -1.292, p-value 0.213으로 두 집단의 생물 다양성 점수에 차이가 있다는 귀무가설을 기각할 수 없다.\n"
     ]
    }
   ],
   "source": [
    "print('같은 강에서 상류와 하류는 서로 독립적이지 않으므로, paired test를 진행한다. paired T-test에서 필요한 데이터의 정규성을 알아보기 위해, 먼저 두 집단의 차이에 대해 정규성 검정 (shapiro-wilk test)을 시행한다.')\n",
    "df_river['diff'] = df_river['down'] - df_river['up']\n",
    "print(f\"정규성 검정 결과, 검정 통계량 {round(stats.shapiro(df_river['diff'])[0], 3)}, p-value {round(stats.shapiro(df_river['diff'])[1], 3)}으로 두 집단의 차이는 정규성을 가지고 있다라는 귀무가설을 기각할 수 없다. 즉, 두 집단의 차이는 정규분포를 따른다고 볼 수 있으며, 이 가정 하에서 paired T-test를 진행한다.\")\n",
    "print(f\"Paired T-test 결과, 검정 통계량 {round(stats.ttest_rel(df_river['down'], df_river['up'], alternative='two-sided')[0], 3)}, p-value {round(stats.ttest_rel(df_river['down'], df_river['up'], alternative='two-sided')[1], 3)}으로 두 집단의 생물 다양성 점수에 차이가 있다는 귀무가설을 기각할 수 없다.\")"
   ]
  },
  {
   "cell_type": "markdown",
   "metadata": {},
   "source": [
    "## 문제설명(8번)\n",
    "user_counts를 종속변수로 하는 데이터이다\n",
    "\n",
    "- 데이터 url : https://raw.githubusercontent.com/Datamanim/datarepo/main/adp/27/problem8.csv"
   ]
  },
  {
   "cell_type": "markdown",
   "metadata": {},
   "source": [
    "## 문제 8.1\n",
    "분위수 회귀분석 (Quantile Regression) 을 사용하여 회귀 계수를 구하시오. (반올림하여 소수점 아래 둘째자리까지 표기하시오.)"
   ]
  },
  {
   "cell_type": "code",
   "execution_count": 49,
   "metadata": {
    "papermill": {
     "duration": 0.259281,
     "end_time": "2023-03-08T11:38:50.275208",
     "exception": false,
     "start_time": "2023-03-08T11:38:50.015927",
     "status": "completed"
    },
    "tags": []
   },
   "outputs": [
    {
     "data": {
      "text/html": [
       "<div>\n",
       "<style scoped>\n",
       "    .dataframe tbody tr th:only-of-type {\n",
       "        vertical-align: middle;\n",
       "    }\n",
       "\n",
       "    .dataframe tbody tr th {\n",
       "        vertical-align: top;\n",
       "    }\n",
       "\n",
       "    .dataframe thead th {\n",
       "        text-align: right;\n",
       "    }\n",
       "</style>\n",
       "<table border=\"1\" class=\"dataframe\">\n",
       "  <thead>\n",
       "    <tr style=\"text-align: right;\">\n",
       "      <th></th>\n",
       "      <th>temperature</th>\n",
       "      <th>wind</th>\n",
       "      <th>precipitation</th>\n",
       "      <th>user_counts</th>\n",
       "    </tr>\n",
       "  </thead>\n",
       "  <tbody>\n",
       "    <tr>\n",
       "      <th>0</th>\n",
       "      <td>10.400000</td>\n",
       "      <td>4.600</td>\n",
       "      <td>0.844944</td>\n",
       "      <td>6368</td>\n",
       "    </tr>\n",
       "    <tr>\n",
       "      <th>1</th>\n",
       "      <td>5.666667</td>\n",
       "      <td>4.625</td>\n",
       "      <td>0.040860</td>\n",
       "      <td>5902</td>\n",
       "    </tr>\n",
       "    <tr>\n",
       "      <th>2</th>\n",
       "      <td>4.933333</td>\n",
       "      <td>4.725</td>\n",
       "      <td>0.008696</td>\n",
       "      <td>6226</td>\n",
       "    </tr>\n",
       "    <tr>\n",
       "      <th>3</th>\n",
       "      <td>3.400000</td>\n",
       "      <td>2.675</td>\n",
       "      <td>0.156989</td>\n",
       "      <td>5829</td>\n",
       "    </tr>\n",
       "    <tr>\n",
       "      <th>4</th>\n",
       "      <td>8.900000</td>\n",
       "      <td>3.950</td>\n",
       "      <td>7.988462</td>\n",
       "      <td>7589</td>\n",
       "    </tr>\n",
       "  </tbody>\n",
       "</table>\n",
       "</div>"
      ],
      "text/plain": [
       "   temperature   wind  precipitation  user_counts\n",
       "0    10.400000  4.600       0.844944         6368\n",
       "1     5.666667  4.625       0.040860         5902\n",
       "2     4.933333  4.725       0.008696         6226\n",
       "3     3.400000  2.675       0.156989         5829\n",
       "4     8.900000  3.950       7.988462         7589"
      ]
     },
     "execution_count": 49,
     "metadata": {},
     "output_type": "execute_result"
    }
   ],
   "source": [
    "df_user = pd.read_csv('https://raw.githubusercontent.com/Datamanim/datarepo/main/adp/27/problem8.csv')\n",
    "df_user.head()"
   ]
  },
  {
   "cell_type": "code",
   "execution_count": 50,
   "metadata": {},
   "outputs": [
    {
     "data": {
      "text/html": [
       "<table class=\"simpletable\">\n",
       "<caption>QuantReg Regression Results</caption>\n",
       "<tr>\n",
       "  <th>Dep. Variable:</th>    <td>user_counts</td>   <th>  Pseudo R-squared:  </th> <td>  0.3723</td>\n",
       "</tr>\n",
       "<tr>\n",
       "  <th>Model:</th>             <td>QuantReg</td>     <th>  Bandwidth:         </th> <td>   840.9</td>\n",
       "</tr>\n",
       "<tr>\n",
       "  <th>Method:</th>          <td>Least Squares</td>  <th>  Sparsity:          </th> <td>   5590.</td>\n",
       "</tr>\n",
       "<tr>\n",
       "  <th>Date:</th>          <td>Wed, 01 Nov 2023</td> <th>  No. Observations:  </th>  <td>  2097</td> \n",
       "</tr>\n",
       "<tr>\n",
       "  <th>Time:</th>              <td>22:19:03</td>     <th>  Df Residuals:      </th>  <td>  2093</td> \n",
       "</tr>\n",
       "<tr>\n",
       "  <th> </th>                      <td> </td>        <th>  Df Model:          </th>  <td>     3</td> \n",
       "</tr>\n",
       "</table>\n",
       "<table class=\"simpletable\">\n",
       "<tr>\n",
       "        <td></td>           <th>coef</th>     <th>std err</th>      <th>t</th>      <th>P>|t|</th>  <th>[0.025</th>    <th>0.975]</th>  \n",
       "</tr>\n",
       "<tr>\n",
       "  <th>Intercept</th>     <td> 5941.8395</td> <td>  198.127</td> <td>   29.990</td> <td> 0.000</td> <td> 5553.293</td> <td> 6330.386</td>\n",
       "</tr>\n",
       "<tr>\n",
       "  <th>temperature</th>   <td>  268.8920</td> <td>    6.571</td> <td>   40.918</td> <td> 0.000</td> <td>  256.005</td> <td>  281.779</td>\n",
       "</tr>\n",
       "<tr>\n",
       "  <th>wind</th>          <td> -129.4050</td> <td>   46.259</td> <td>   -2.797</td> <td> 0.005</td> <td> -220.124</td> <td>  -38.686</td>\n",
       "</tr>\n",
       "<tr>\n",
       "  <th>precipitation</th> <td>  -83.3843</td> <td>    7.891</td> <td>  -10.567</td> <td> 0.000</td> <td>  -98.859</td> <td>  -67.910</td>\n",
       "</tr>\n",
       "</table>"
      ],
      "text/plain": [
       "<class 'statsmodels.iolib.summary.Summary'>\n",
       "\"\"\"\n",
       "                         QuantReg Regression Results                          \n",
       "==============================================================================\n",
       "Dep. Variable:            user_counts   Pseudo R-squared:               0.3723\n",
       "Model:                       QuantReg   Bandwidth:                       840.9\n",
       "Method:                 Least Squares   Sparsity:                        5590.\n",
       "Date:                Wed, 01 Nov 2023   No. Observations:                 2097\n",
       "Time:                        22:19:03   Df Residuals:                     2093\n",
       "                                        Df Model:                            3\n",
       "=================================================================================\n",
       "                    coef    std err          t      P>|t|      [0.025      0.975]\n",
       "---------------------------------------------------------------------------------\n",
       "Intercept      5941.8395    198.127     29.990      0.000    5553.293    6330.386\n",
       "temperature     268.8920      6.571     40.918      0.000     256.005     281.779\n",
       "wind           -129.4050     46.259     -2.797      0.005    -220.124     -38.686\n",
       "precipitation   -83.3843      7.891    -10.567      0.000     -98.859     -67.910\n",
       "=================================================================================\n",
       "\"\"\""
      ]
     },
     "execution_count": 50,
     "metadata": {},
     "output_type": "execute_result"
    }
   ],
   "source": [
    "qreg = smf.quantreg('user_counts ~ temperature + wind + precipitation', df_user).fit(q=0.5)\n",
    "qreg.summary()"
   ]
  },
  {
   "cell_type": "code",
   "execution_count": 51,
   "metadata": {},
   "outputs": [
    {
     "name": "stdout",
     "output_type": "stream",
     "text": [
      "<답안>\n",
      "독립변수의 T-test 결과를 보면 모두 0.05 미만이므로, 독립변수는 전부 유의한 회귀 계수이다.\n",
      "temperature의 회귀 계수는 268.89, wind는 -129.41, percipitaion은 -83.38이다.\n"
     ]
    }
   ],
   "source": [
    "print('<답안>')\n",
    "print('독립변수의 T-test 결과를 보면 모두 0.05 미만이므로, 독립변수는 전부 유의한 회귀 계수이다.')\n",
    "print('temperature의 회귀 계수는 268.89, wind는 -129.41, percipitaion은 -83.38이다.')"
   ]
  },
  {
   "cell_type": "markdown",
   "metadata": {},
   "source": [
    "## 문제 8.2\n",
    "8.1의 모델의 회귀계수를 활용하여 temperature : 10.5 , wind : 8.2 , precipitation : 3.5 일때 user_counts를 예측하시오 "
   ]
  },
  {
   "cell_type": "code",
   "execution_count": 52,
   "metadata": {},
   "outputs": [
    {
     "name": "stdout",
     "output_type": "stream",
     "text": [
      "temperature: 10.5, wind: 8.2, precipitation: 3.5 일때 user_counts 예측값은 7412.24이다.\n"
     ]
    }
   ],
   "source": [
    "print(f'temperature: 10.5, wind: 8.2, precipitation: 3.5 일때 user_counts 예측값은 {round(qreg.predict({\"temperature\":10.5, \"wind\":8.2, \"precipitation\":3.5})[0], 2)}이다.')"
   ]
  },
  {
   "cell_type": "markdown",
   "metadata": {},
   "source": [
    "## 문제설명(9번)\n",
    "지하철 호선과 월별, 승객 수 간 상관관계가 있는지 확인(Type III Anova 사용)\n",
    "\n",
    "- 데이터 url : https://raw.githubusercontent.com/Datamanim/datarepo/main/adp/27/subway.csv"
   ]
  },
  {
   "cell_type": "markdown",
   "metadata": {},
   "source": [
    "## 문제 9.1 \n",
    "귀무가설과 대립가설 설정하라"
   ]
  },
  {
   "cell_type": "code",
   "execution_count": 65,
   "metadata": {
    "papermill": {
     "duration": 0.35486,
     "end_time": "2023-03-08T11:38:51.590434",
     "exception": false,
     "start_time": "2023-03-08T11:38:51.235574",
     "status": "completed"
    },
    "scrolled": true,
    "tags": []
   },
   "outputs": [
    {
     "data": {
      "text/html": [
       "<div>\n",
       "<style scoped>\n",
       "    .dataframe tbody tr th:only-of-type {\n",
       "        vertical-align: middle;\n",
       "    }\n",
       "\n",
       "    .dataframe tbody tr th {\n",
       "        vertical-align: top;\n",
       "    }\n",
       "\n",
       "    .dataframe thead th {\n",
       "        text-align: right;\n",
       "    }\n",
       "</style>\n",
       "<table border=\"1\" class=\"dataframe\">\n",
       "  <thead>\n",
       "    <tr style=\"text-align: right;\">\n",
       "      <th></th>\n",
       "      <th>line</th>\n",
       "      <th>month</th>\n",
       "      <th>total</th>\n",
       "    </tr>\n",
       "  </thead>\n",
       "  <tbody>\n",
       "    <tr>\n",
       "      <th>0</th>\n",
       "      <td>1</td>\n",
       "      <td>1</td>\n",
       "      <td>1310</td>\n",
       "    </tr>\n",
       "    <tr>\n",
       "      <th>1</th>\n",
       "      <td>1</td>\n",
       "      <td>2</td>\n",
       "      <td>1300</td>\n",
       "    </tr>\n",
       "    <tr>\n",
       "      <th>2</th>\n",
       "      <td>1</td>\n",
       "      <td>3</td>\n",
       "      <td>1305</td>\n",
       "    </tr>\n",
       "  </tbody>\n",
       "</table>\n",
       "</div>"
      ],
      "text/plain": [
       "   line  month  total\n",
       "0     1      1   1310\n",
       "1     1      2   1300\n",
       "2     1      3   1305"
      ]
     },
     "execution_count": 65,
     "metadata": {},
     "output_type": "execute_result"
    }
   ],
   "source": [
    "df_subway = pd.read_csv('https://raw.githubusercontent.com/ADPclass/ADP_book_ver01/main/data/27_problem9.csv')\n",
    "df_subway.head(3)"
   ]
  },
  {
   "cell_type": "code",
   "execution_count": 66,
   "metadata": {},
   "outputs": [
    {
     "name": "stdout",
     "output_type": "stream",
     "text": [
      "<답안>\n",
      "두 개의 독립변수를 가지는 분산분석 문제로, 가설은 3가지로 정할 수 있다.\n",
      "가설 1: 교호작용\n",
      "H0: 지하철 호선과 월 변수 간 상호작용 효과가 없다.\n",
      "H1: 지하철 호선과 월 변수 간 상호작용 효과가 있다.\n",
      "가설 2\n",
      "H0: 지하철 호선 별로 승객 수에는 차이가 존재하지 않는다.\n",
      "H1: 지하철 호선 별로 승객 수에는 차이가 있다.\n",
      "가설 3\n",
      "H0: 월별로 승객 수에는 차이가 존재하지 않는다.\n",
      "H1: 월별로 승객 수에는 차이가 있다.\n"
     ]
    }
   ],
   "source": [
    "print('<답안>')\n",
    "print('두 개의 독립변수를 가지는 분산분석 문제로, 가설은 3가지로 정할 수 있다.')\n",
    "print('가설 1: 교호작용')\n",
    "print('H0: 지하철 호선과 월 변수 간 상호작용 효과가 없다.')\n",
    "print('H1: 지하철 호선과 월 변수 간 상호작용 효과가 있다.')\n",
    "print('가설 2')\n",
    "print('H0: 지하철 호선 별로 승객 수에는 차이가 존재하지 않는다.')\n",
    "print('H1: 지하철 호선 별로 승객 수에는 차이가 있다.')\n",
    "print('가설 3')\n",
    "print('H0: 월별로 승객 수에는 차이가 존재하지 않는다.')\n",
    "print('H1: 월별로 승객 수에는 차이가 있다.')"
   ]
  },
  {
   "cell_type": "markdown",
   "metadata": {
    "tags": []
   },
   "source": [
    "## 문제 9.2\n",
    "통계량을 구하고 검정 결과를 서술하라"
   ]
  },
  {
   "cell_type": "code",
   "execution_count": 67,
   "metadata": {},
   "outputs": [],
   "source": [
    "from statsmodels.formula.api import ols\n",
    "from statsmodels.stats.anova import anova_lm"
   ]
  },
  {
   "cell_type": "code",
   "execution_count": 68,
   "metadata": {},
   "outputs": [
    {
     "name": "stdout",
     "output_type": "stream",
     "text": [
      "<class 'pandas.core.frame.DataFrame'>\n",
      "RangeIndex: 72 entries, 0 to 71\n",
      "Data columns (total 3 columns):\n",
      " #   Column  Non-Null Count  Dtype\n",
      "---  ------  --------------  -----\n",
      " 0   line    72 non-null     int64\n",
      " 1   month   72 non-null     int64\n",
      " 2   total   72 non-null     int64\n",
      "dtypes: int64(3)\n",
      "memory usage: 1.8 KB\n"
     ]
    }
   ],
   "source": [
    "df_subway.info()"
   ]
  },
  {
   "cell_type": "code",
   "execution_count": 69,
   "metadata": {},
   "outputs": [
    {
     "data": {
      "text/html": [
       "<div>\n",
       "<style scoped>\n",
       "    .dataframe tbody tr th:only-of-type {\n",
       "        vertical-align: middle;\n",
       "    }\n",
       "\n",
       "    .dataframe tbody tr th {\n",
       "        vertical-align: top;\n",
       "    }\n",
       "\n",
       "    .dataframe thead th {\n",
       "        text-align: right;\n",
       "    }\n",
       "</style>\n",
       "<table border=\"1\" class=\"dataframe\">\n",
       "  <thead>\n",
       "    <tr style=\"text-align: right;\">\n",
       "      <th></th>\n",
       "      <th>sum_sq</th>\n",
       "      <th>df</th>\n",
       "      <th>F</th>\n",
       "      <th>PR(&gt;F)</th>\n",
       "    </tr>\n",
       "  </thead>\n",
       "  <tbody>\n",
       "    <tr>\n",
       "      <th>Intercept</th>\n",
       "      <td>3.466344e+06</td>\n",
       "      <td>1.0</td>\n",
       "      <td>33455.335657</td>\n",
       "      <td>4.849033e-55</td>\n",
       "    </tr>\n",
       "    <tr>\n",
       "      <th>C(line)</th>\n",
       "      <td>1.336630e+05</td>\n",
       "      <td>2.0</td>\n",
       "      <td>645.022520</td>\n",
       "      <td>6.417946e-29</td>\n",
       "    </tr>\n",
       "    <tr>\n",
       "      <th>C(month)</th>\n",
       "      <td>3.942483e+04</td>\n",
       "      <td>11.0</td>\n",
       "      <td>34.591616</td>\n",
       "      <td>7.896179e-16</td>\n",
       "    </tr>\n",
       "    <tr>\n",
       "      <th>C(line):C(month)</th>\n",
       "      <td>9.696908e+04</td>\n",
       "      <td>22.0</td>\n",
       "      <td>42.540665</td>\n",
       "      <td>1.582232e-19</td>\n",
       "    </tr>\n",
       "    <tr>\n",
       "      <th>Residual</th>\n",
       "      <td>3.730000e+03</td>\n",
       "      <td>36.0</td>\n",
       "      <td>NaN</td>\n",
       "      <td>NaN</td>\n",
       "    </tr>\n",
       "  </tbody>\n",
       "</table>\n",
       "</div>"
      ],
      "text/plain": [
       "                        sum_sq    df             F        PR(>F)\n",
       "Intercept         3.466344e+06   1.0  33455.335657  4.849033e-55\n",
       "C(line)           1.336630e+05   2.0    645.022520  6.417946e-29\n",
       "C(month)          3.942483e+04  11.0     34.591616  7.896179e-16\n",
       "C(line):C(month)  9.696908e+04  22.0     42.540665  1.582232e-19\n",
       "Residual          3.730000e+03  36.0           NaN           NaN"
      ]
     },
     "execution_count": 69,
     "metadata": {},
     "output_type": "execute_result"
    }
   ],
   "source": [
    "### Two-way ANOVA\n",
    "formula = 'total ~ C(line) + C(month) + C(line):C(month)'\n",
    "model = ols(formula, df_subway).fit()\n",
    "\n",
    "aov_table = anova_lm(model, typ=3)\n",
    "aov_table"
   ]
  },
  {
   "cell_type": "code",
   "execution_count": 70,
   "metadata": {},
   "outputs": [
    {
     "name": "stdout",
     "output_type": "stream",
     "text": [
      "<답안>\n",
      "먼저, 두 변수의 상호작용에 대한 가설 1을 먼저 검증한다.\n",
      "두 변수의 상호작용에 대한 F-test 검정통계량은 42.54, p-value 0.000으로 유의수준 0.05 하에서 귀무가설을 기각한다. 지하철 호선과 월 변수 사이에 상호작용이 존재한다.\n",
      "Interaction plot을 그려 보면, 1호선과 3호선의 월별 승객 수가 교차하는 것을 볼 수 있다.\n"
     ]
    },
    {
     "data": {
      "image/png": "[encoded data removed]",
      "text/plain": [
       "<Figure size 432x432 with 1 Axes>"
      ]
     },
     "metadata": {
      "needs_background": "light"
     },
     "output_type": "display_data"
    }
   ],
   "source": [
    "from statsmodels.graphics.factorplots import interaction_plot\n",
    "\n",
    "line = df_subway[\"line\"]\n",
    "month = df_subway[\"month\"]\n",
    "total = df_subway[\"total\"]\n",
    "\n",
    "fig, ax = plt.subplots(figsize=(6, 6))\n",
    "fig = interaction_plot(month, line, total, colors=['red', 'blue', 'green'], markers=['D', '^', 'o'], ms=10, ax=ax) # 변수는 x1, x2 y 순\n",
    "\n",
    "print('<답안>')\n",
    "print('먼저, 두 변수의 상호작용에 대한 가설 1을 먼저 검증한다.')\n",
    "print('두 변수의 상호작용에 대한 F-test 검정통계량은 42.54, p-value 0.000으로 유의수준 0.05 하에서 귀무가설을 기각한다. 지하철 호선과 월 변수 사이에 상호작용이 존재한다.')\n",
    "print('Interaction plot을 그려 보면, 1호선과 3호선의 월별 승객 수가 교차하는 것을 볼 수 있다.')"
   ]
  },
  {
   "cell_type": "markdown",
   "metadata": {},
   "source": [
    "참고사이트 \n",
    "- https://blog.naver.com/clairefromkorea/222938928665\n",
    "- https://amaruak00.github.io/2022/12/17/adp27th.html\n",
    "- https://blog.naver.com/dmz04/222938757841"
   ]
  },
  {
   "cell_type": "markdown",
   "metadata": {},
   "source": [
    "끝. 10페이지"
   ]
  }
 ],
 "metadata": {
  "celltoolbar": "Edit Metadata",
  "kernelspec": {
   "display_name": "Python 3",
   "language": "python",
   "name": "python3"
  },
  "language_info": {
   "codemirror_mode": {
    "name": "ipython",
    "version": 3
   },
   "file_extension": ".py",
   "mimetype": "text/x-python",
   "name": "python",
   "nbconvert_exporter": "python",
   "pygments_lexer": "ipython3",
   "version": "3.7.6"
  }
 },
 "nbformat": 4,
 "nbformat_minor": 5
}
