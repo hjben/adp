{
 "cells": [
  {
   "cell_type": "code",
   "execution_count": 4,
   "id": "7c015f85",
   "metadata": {},
   "outputs": [
    {
     "data": {
      "text/html": [
       "<style>.container {width:95% !important ; }</style>"
      ],
      "text/plain": [
       "<IPython.core.display.HTML object>"
      ]
     },
     "metadata": {},
     "output_type": "display_data"
    }
   ],
   "source": [
    "from IPython.display import display,HTML\n",
    "display(HTML(\"<style>.container {width:95% !important ; }</style>\"))"
   ]
  },
  {
   "cell_type": "markdown",
   "id": "09ad9df5",
   "metadata": {},
   "source": [
    "# packages"
   ]
  },
  {
   "cell_type": "code",
   "execution_count": null,
   "id": "0f2daf43",
   "metadata": {},
   "outputs": [],
   "source": [
    "from scipy.stats import chi2_contingency\n",
    "import pandas as pd\n",
    "import matplotlib.pyplot as plt\n",
    "import seaborn as sns\n",
    "\n",
    "from matplotlib import font_manager\n",
    "from sklearn.preprocessing import StandardScaler\n",
    "\n",
    "import warnings \n",
    "\n",
    "warnings.filterwarnings('ignore')"
   ]
  },
  {
   "cell_type": "markdown",
   "id": "0a308b4f",
   "metadata": {},
   "source": [
    "# ADP 26회 실기 문제"
   ]
  },
  {
   "cell_type": "markdown",
   "id": "e7116d9d",
   "metadata": {},
   "source": [
    "# 머신러닝 - 데이터 설명\n",
    "- 데이터 설명\n",
    "    - InvoiceNo: Invoice number. Nominal, a 6-digit integral number uniquely assigned to each transaction. If this code starts with letter 'c', it indicates a cancellation.     \n",
    "    - StockCode: Product (item) code. Nominal, a 5-digit integral number uniquely assigned to each distinct product.     \n",
    "    - Description: Product (item) name. Nominal.    \n",
    "    - Quantity: The quantities of each product (item) per transaction. Numeric.     \n",
    "    - InvoiceDate: Invice Date and time. Numeric, the day and time when each transaction was generated.   \n",
    "    - UnitPrice: Unit price. Numeric, Product price per unit in sterling.    \n",
    "    - CustomerID: Customer number. Nominal, a 5-digit integral number uniquely assigned to each customer.     \n",
    "    - Country: Country name. Nominal, the name of the country where each customer resides.  \n",
    "    \n",
    "- 출처 : - https://archive.ics.uci.edu/ml/index.phpm\n",
    "- 데이터url : https://raw.githubusercontent.com/Datamanim/datarepo/main/adp/26/problem1.csv"
   ]
  },
  {
   "cell_type": "markdown",
   "id": "b2a4f16a",
   "metadata": {},
   "source": [
    "## 문제1.1 \n",
    "결측치를 확인 하고, 결측치 제거 또는 대치하고 방법에 대해 설명하라"
   ]
  },
  {
   "cell_type": "code",
   "execution_count": 81,
   "id": "9e13ad04",
   "metadata": {
    "scrolled": true
   },
   "outputs": [
    {
     "data": {
      "text/html": [
       "<div>\n",
       "<style scoped>\n",
       "    .dataframe tbody tr th:only-of-type {\n",
       "        vertical-align: middle;\n",
       "    }\n",
       "\n",
       "    .dataframe tbody tr th {\n",
       "        vertical-align: top;\n",
       "    }\n",
       "\n",
       "    .dataframe thead th {\n",
       "        text-align: right;\n",
       "    }\n",
       "</style>\n",
       "<table border=\"1\" class=\"dataframe\">\n",
       "  <thead>\n",
       "    <tr style=\"text-align: right;\">\n",
       "      <th></th>\n",
       "      <th>Quantity</th>\n",
       "      <th>UnitPrice</th>\n",
       "    </tr>\n",
       "  </thead>\n",
       "  <tbody>\n",
       "    <tr>\n",
       "      <th>결측치 처리 전 숫자</th>\n",
       "      <td>25</td>\n",
       "      <td>97</td>\n",
       "    </tr>\n",
       "    <tr>\n",
       "      <th>결측치 처리 후 숫자</th>\n",
       "      <td>0</td>\n",
       "      <td>0</td>\n",
       "    </tr>\n",
       "  </tbody>\n",
       "</table>\n",
       "</div>"
      ],
      "text/plain": [
       "             Quantity  UnitPrice\n",
       "결측치 처리 전 숫자        25         97\n",
       "결측치 처리 후 숫자         0          0"
      ]
     },
     "metadata": {},
     "output_type": "display_data"
    },
    {
     "name": "stdout",
     "output_type": "stream",
     "text": [
      "\n",
      "결측치는 Quantity,UnitPrice 두 컬럼만 존재한다. Quantity 결측치는 환불을 한 경우와 그렇지 않은 경우를 나눠 각 StockCode값의 평균을 입력한다.\n",
      "UnitPrice의 경우 환불이 아닌 경우만 필터하여 StockCode의 평균 값으로 대치한다. 이러한 규칙에 StockCode 23416를 가지는 행은 하나 밖에 없어\n",
      "대치할 평균값이 없다 이 경우 전체 평균값으로 대치한다.\n",
      "\n"
     ]
    }
   ],
   "source": [
    "df= pd.read_csv('https://raw.githubusercontent.com/Datamanim/datarepo/main/adp/26/problem1.csv')\n",
    "df['InvoiceDate'] = pd.to_datetime(df['InvoiceDate'])\n",
    "null =df.isnull().sum().to_frame().where(lambda x : x !=0).dropna().T.astype('int')\n",
    "\n",
    "\n",
    "maps = {ids : price for ids,price in df[df.InvoiceNo.str[0]!='C'].groupby(['StockCode'])['UnitPrice'].mean().reset_index().values}\n",
    "c_quantity_maps = {ids : price \\\n",
    "    for ids,price in df[(df.Quantity.notnull()) & (df.InvoiceNo.str[0] =='C')].groupby(['StockCode'])['Quantity'].mean().reset_index().values}\n",
    "\n",
    "not_c_quantity_maps = {ids : price \\\n",
    "    for ids,price in df[(df.Quantity.notnull()) & (df.InvoiceNo.str[0] !='C')].groupby(['StockCode'])['Quantity'].mean().reset_index().values}\n",
    "\n",
    "# UnitPrice 결측치는 InvoiceNo가 환불(C로시작)이 아닌 경우 값들의 StockCode를 그룹화 하여 평균 UnitPrice를 구하고 \n",
    "#그에 대응하는 StockCode값들로 결측치로 채운다\n",
    "df.loc[df.UnitPrice.isnull(),'UnitPrice'] =df.loc[df.UnitPrice.isnull()]['StockCode'].map(maps)\n",
    "# 23416의 StockCode의 경우 unique한 값을 가지는 행이다. 이는 UnitPrice의 전체 평균값으로 대체한다\n",
    "df['UnitPrice'] =df['UnitPrice'].fillna(df['UnitPrice'].mean())\n",
    "\n",
    "df.loc[(df.Quantity.isnull()) & (df.InvoiceNo.str[0] =='C'),'Quantity'] =\\\n",
    "                df.loc[(df.Quantity.isnull()) & (df.InvoiceNo.str[0] =='C')]['StockCode'].map(c_quantity_maps)\n",
    "df.loc[(df.Quantity.isnull()) & (df.InvoiceNo.str[0] !='C'),'Quantity'] =\\\n",
    "                df.loc[(df.Quantity.isnull()) & (df.InvoiceNo.str[0] !='C')]['StockCode'].map(not_c_quantity_maps)\n",
    "\n",
    "\n",
    "null_after = df.isnull().sum().to_frame().where(lambda x : x !=0).dropna().T.astype('int')\n",
    "\n",
    "null_total = pd.concat([null,null_after]).fillna(0).astype('int')\n",
    "null_total.index =['결측치 처리 전 숫자','결측치 처리 후 숫자']\n",
    "display(null_total)\n",
    "print('''\n",
    "결측치는 Quantity,UnitPrice 두 컬럼만 존재한다. Quantity 결측치는 환불을 한 경우와 그렇지 않은 경우를 나눠 각 StockCode값의 평균을 입력한다.\n",
    "UnitPrice의 경우 환불이 아닌 경우만 필터하여 StockCode의 평균 값으로 대치한다. 이러한 규칙에 StockCode 23416를 가지는 행은 하나 밖에 없어\n",
    "대치할 평균값이 없다 이 경우 전체 평균값으로 대치한다.\n",
    "''')"
   ]
  },
  {
   "cell_type": "markdown",
   "id": "0c21081e",
   "metadata": {},
   "source": [
    "## 문제1.2 \n",
    "이상치를 제거하는 방법을 설명하고, 이상치 제거 전 후 결과에 대해 통계적인 방법을 포함하여 설명할 것"
   ]
  },
  {
   "cell_type": "code",
   "execution_count": 114,
   "id": "bae039bb",
   "metadata": {},
   "outputs": [
    {
     "data": {
      "text/html": [
       "<div>\n",
       "<style scoped>\n",
       "    .dataframe tbody tr th:only-of-type {\n",
       "        vertical-align: middle;\n",
       "    }\n",
       "\n",
       "    .dataframe tbody tr th {\n",
       "        vertical-align: top;\n",
       "    }\n",
       "\n",
       "    .dataframe thead th {\n",
       "        text-align: right;\n",
       "    }\n",
       "</style>\n",
       "<table border=\"1\" class=\"dataframe\">\n",
       "  <thead>\n",
       "    <tr style=\"text-align: right;\">\n",
       "      <th></th>\n",
       "      <th>count</th>\n",
       "      <th>mean</th>\n",
       "      <th>std</th>\n",
       "      <th>min</th>\n",
       "      <th>25%</th>\n",
       "      <th>50%</th>\n",
       "      <th>75%</th>\n",
       "      <th>max</th>\n",
       "    </tr>\n",
       "  </thead>\n",
       "  <tbody>\n",
       "    <tr>\n",
       "      <th>Quantity</th>\n",
       "      <td>35801.0</td>\n",
       "      <td>18.423253</td>\n",
       "      <td>42.148403</td>\n",
       "      <td>-480.0</td>\n",
       "      <td>4.00</td>\n",
       "      <td>10.00</td>\n",
       "      <td>16.00</td>\n",
       "      <td>2400.00</td>\n",
       "    </tr>\n",
       "    <tr>\n",
       "      <th>UnitPrice</th>\n",
       "      <td>35801.0</td>\n",
       "      <td>4.607905</td>\n",
       "      <td>48.017794</td>\n",
       "      <td>0.0</td>\n",
       "      <td>1.25</td>\n",
       "      <td>1.95</td>\n",
       "      <td>3.75</td>\n",
       "      <td>4161.06</td>\n",
       "    </tr>\n",
       "  </tbody>\n",
       "</table>\n",
       "</div>"
      ],
      "text/plain": [
       "             count       mean        std    min   25%    50%    75%      max\n",
       "Quantity   35801.0  18.423253  42.148403 -480.0  4.00  10.00  16.00  2400.00\n",
       "UnitPrice  35801.0   4.607905  48.017794    0.0  1.25   1.95   3.75  4161.06"
      ]
     },
     "metadata": {},
     "output_type": "display_data"
    },
    {
     "name": "stdout",
     "output_type": "stream",
     "text": [
      "\n",
      "UnitPrice값이 0인 경우는 제품을 값을 내고 구매 했다는 의미가 아니므로 이상치로 보고 제거한다. \n",
      "\n"
     ]
    }
   ],
   "source": [
    "display(df[['Quantity','UnitPrice']].describe().T)\n",
    "\n",
    "df_outlier_filter =df[df.UnitPrice != 0].reset_index(drop=True)\n",
    "\n",
    "print('''\n",
    "UnitPrice값이 0인 경우는 제품을 값을 내고 구매 했다는 의미가 아니므로 이상치로 보고 제거한다. \n",
    "''')\n"
   ]
  },
  {
   "cell_type": "markdown",
   "id": "1c59c076",
   "metadata": {},
   "source": [
    "## 문제1.3 \n",
    "각 StockCode을 기준으로 파생변수들을 만들고 제품들의 특성에 따른 군집 생성을 위한 전처리를 수행하라. "
   ]
  },
  {
   "cell_type": "code",
   "execution_count": 263,
   "id": "ec181ea2",
   "metadata": {},
   "outputs": [
    {
     "data": {
      "text/html": [
       "<div>\n",
       "<style scoped>\n",
       "    .dataframe tbody tr th:only-of-type {\n",
       "        vertical-align: middle;\n",
       "    }\n",
       "\n",
       "    .dataframe tbody tr th {\n",
       "        vertical-align: top;\n",
       "    }\n",
       "\n",
       "    .dataframe thead th {\n",
       "        text-align: right;\n",
       "    }\n",
       "</style>\n",
       "<table border=\"1\" class=\"dataframe\">\n",
       "  <thead>\n",
       "    <tr style=\"text-align: right;\">\n",
       "      <th></th>\n",
       "      <th>Quantity</th>\n",
       "      <th>UnitPrice</th>\n",
       "      <th>Country</th>\n",
       "      <th>c_counts</th>\n",
       "    </tr>\n",
       "    <tr>\n",
       "      <th>StockCode</th>\n",
       "      <th></th>\n",
       "      <th></th>\n",
       "      <th></th>\n",
       "      <th></th>\n",
       "    </tr>\n",
       "  </thead>\n",
       "  <tbody>\n",
       "    <tr>\n",
       "      <th>10002</th>\n",
       "      <td>0.479357</td>\n",
       "      <td>-0.155350</td>\n",
       "      <td>0.225388</td>\n",
       "      <td>-0.040673</td>\n",
       "    </tr>\n",
       "    <tr>\n",
       "      <th>10120</th>\n",
       "      <td>-0.229192</td>\n",
       "      <td>-0.193944</td>\n",
       "      <td>-0.393425</td>\n",
       "      <td>-0.447639</td>\n",
       "    </tr>\n",
       "    <tr>\n",
       "      <th>10125</th>\n",
       "      <td>0.813804</td>\n",
       "      <td>-0.161334</td>\n",
       "      <td>-0.084018</td>\n",
       "      <td>-0.003676</td>\n",
       "    </tr>\n",
       "    <tr>\n",
       "      <th>10133</th>\n",
       "      <td>-0.017334</td>\n",
       "      <td>-0.174798</td>\n",
       "      <td>-0.084018</td>\n",
       "      <td>-0.336648</td>\n",
       "    </tr>\n",
       "    <tr>\n",
       "      <th>10135</th>\n",
       "      <td>2.030633</td>\n",
       "      <td>-0.151732</td>\n",
       "      <td>-0.084018</td>\n",
       "      <td>-0.373645</td>\n",
       "    </tr>\n",
       "  </tbody>\n",
       "</table>\n",
       "</div>"
      ],
      "text/plain": [
       "           Quantity  UnitPrice   Country  c_counts\n",
       "StockCode                                         \n",
       "10002      0.479357  -0.155350  0.225388 -0.040673\n",
       "10120     -0.229192  -0.193944 -0.393425 -0.447639\n",
       "10125      0.813804  -0.161334 -0.084018 -0.003676\n",
       "10133     -0.017334  -0.174798 -0.084018 -0.336648\n",
       "10135      2.030633  -0.151732 -0.084018 -0.373645"
      ]
     },
     "metadata": {},
     "output_type": "display_data"
    },
    {
     "name": "stdout",
     "output_type": "stream",
     "text": [
      "\n",
      "반환 데이터는 900개로 전체 데이터에 크게 영향을 주지 않는다고 판단하고 제거한다. \n",
      "각 StockCode기준으로 4개의 컬럼을 생성한다.\n",
      "Quantity : 각 제품별 평균 구매량\n",
      "UnitPrice : 각 제품별 평균 구매금액\n",
      "Country : 각 제품별 구매 국가 갯수\n",
      "c_counts : 각 제품의 구매 유저 숫자\n",
      "데이터 프레임 생성후 정규화를 한다. Country컬럼의 경우 다른 컬럼에 비해 분산이 크기에 3을 나눠준다.\n",
      "정규화 후에도 10이상의 값을 가지는 데이터 3개가 존재하는데 이 데이터는 이상치로 보고 제거한다.\n",
      "\n"
     ]
    },
    {
     "data": {
      "image/png": "[encoded data removed]",
      "text/plain": [
       "<Figure size 1200x300 with 1 Axes>"
      ]
     },
     "metadata": {},
     "output_type": "display_data"
    }
   ],
   "source": [
    "buy_df = df[df.InvoiceNo.str[0]!='C'].reset_index(drop=True)\n",
    "\n",
    "contry = buy_df.groupby(['StockCode'])['Country'].agg(lambda x : list(set(x))).str.len()\n",
    "# contry_dummies = pd.get_dummies(contry.explode()).groupby(level=0).sum()\n",
    "custom = buy_df.groupby(['StockCode'])['CustomerID'].size()\n",
    "custom.name = 'c_counts'\n",
    "means = buy_df.groupby(['StockCode'])[['Quantity','UnitPrice']].mean()\n",
    "\n",
    "t = pd.merge(pd.merge(means,contry,left_index=True,right_index=True),custom,left_index=True,right_index=True)\n",
    "ss =StandardScaler()\n",
    "\n",
    "\n",
    "scaled_df = t.copy()\n",
    "scaled_df['Quantity'] = ss.fit_transform(scaled_df['Quantity'].values.reshape(-1,1)) \n",
    "scaled_df['UnitPrice'] = ss.fit_transform(scaled_df['UnitPrice'].values.reshape(-1,1))\n",
    "scaled_df['c_counts'] = ss.fit_transform(scaled_df['c_counts'].values.reshape(-1,1)) \n",
    "scaled_df['Country'] = ss.fit_transform(scaled_df['Country'].values.reshape(-1,1)) /3\n",
    "scaled_df= scaled_df[scaled_df<10].dropna()\n",
    "\n",
    "fig,ax = plt.subplots(1,figsize=(12,3))\n",
    "scaled_df.plot(kind='box',ax=ax)\n",
    "display(scaled_df.head())\n",
    "\n",
    "print('''\n",
    "반환 데이터는 900개로 전체 데이터에 크게 영향을 주지 않는다고 판단하고 제거한다. \n",
    "각 StockCode기준으로 4개의 컬럼을 생성한다.\n",
    "Quantity : 각 제품별 평균 구매량\n",
    "UnitPrice : 각 제품별 평균 구매금액\n",
    "Country : 각 제품별 구매 국가 갯수\n",
    "c_counts : 각 제품의 구매 유저 숫자\n",
    "데이터 프레임 생성후 정규화를 한다. Country컬럼의 경우 다른 컬럼에 비해 분산이 크기에 3을 나눠준다.\n",
    "정규화 후에도 10이상의 값을 가지는 데이터 3개가 존재하는데 이 데이터는 이상치로 보고 제거한다.\n",
    "''')"
   ]
  },
  {
   "cell_type": "markdown",
   "id": "5a7d0d7d",
   "metadata": {},
   "source": [
    "## 문제 2.1 \n",
    "Kmeans , DBSCAN 방법 중 하나를 선택하여 군집분석을 시행하고 각 군집별 특성을 분석하라"
   ]
  },
  {
   "cell_type": "code",
   "execution_count": 306,
   "id": "6f4a71d5",
   "metadata": {},
   "outputs": [
    {
     "data": {
      "image/png": "[encoded data removed]",
      "text/plain": [
       "<Figure size 600x300 with 2 Axes>"
      ]
     },
     "metadata": {},
     "output_type": "display_data"
    },
    {
     "data": {
      "image/png": "[encoded data removed]",
      "text/plain": [
       "<Figure size 600x600 with 4 Axes>"
      ]
     },
     "metadata": {},
     "output_type": "display_data"
    },
    {
     "name": "stdout",
     "output_type": "stream",
     "text": [
      "\n",
      "엘보우 기법을 통해 최적의 클러스터 숫자를 4개로 하고 KMeans를 시행한다.\n",
      "PCA 평면에 클러스터 레이블에 대해 뿌려보면 위의 2번째 그래프와 같다. \n",
      "\n",
      "각 클러스터 레이블에 대한 원천데이터의 분포를 살펴보면 아래 4개 그래프와 같다.\n",
      "1번 클러스터의 경우 구매국가가 가장 많고 구매 유저숫자도 많은 제품군이다. \n",
      "2번 클러스틔 경우 평균 단위 구매금액이 가장 높으며 구매 국가수와 구매 제품 수량, 구매 유저숫자가 가장 적다\n",
      "3번 클러스터는 평균 단위 구매금액이 낮지만 평균 구매수량은 가장 많다.\n",
      "4번 클러스터는 1,2,3들의 중간 성향을 보인다\n",
      "\n"
     ]
    }
   ],
   "source": [
    "from sklearn.cluster import KMeans\n",
    "from sklearn.decomposition import PCA\n",
    "\n",
    "\n",
    "fig,ax = plt.subplots(1,2,figsize=(6,3))\n",
    "\n",
    "lst = []\n",
    "for k in range(1, 10): \n",
    "    kmeans = KMeans(n_clusters=k,random_state=1)\n",
    "    kmeans.fit(scaled_df)\n",
    "    lst.append(kmeans.inertia_) \n",
    "\n",
    "ax[0].plot(range(1, 10), lst)\n",
    "ax[0].set_xlabel('Clusters')\n",
    "ax[0].set_ylabel('Inertia')\n",
    "ax[0].set_title('Inertia by cluster number')\n",
    "\n",
    "\n",
    "n_cluter =4\n",
    "km = KMeans(n_clusters=n_cluter,random_state=1)\n",
    "km_pred = km.fit_predict(scaled_df)+1\n",
    "\n",
    "\n",
    "pca = PCA(n_components=2)\n",
    "pca_df = pd.DataFrame(pca.fit_transform(scaled_df),columns =['pc1','pc2'])\n",
    "pca_df['cluster_label'] = km_pred\n",
    "sns.scatterplot(data =pca_df,x = 'pc1',y= 'pc2',hue='cluster_label',ax=ax[1])\n",
    "\n",
    "fig.tight_layout()\n",
    "ax[1].set_title('scatter plot PCA data')\n",
    "ax[1].legend(fontsize=12)\n",
    "plt.show()\n",
    "\n",
    "\n",
    "cluster_df = t.loc[scaled_df.index]\n",
    "cluster_df['labels'] = km_pred \n",
    "\n",
    "fig,axes = plt.subplots(2,2,figsize=(6,6),sharex=True)\n",
    "\n",
    "for col ,ax in zip(['Quantity','UnitPrice','Country','c_counts'],axes.flat):\n",
    "    sns.boxplot(data = cluster_df[[col,'labels']],x='labels',y=col,ax=ax)\n",
    "    \n",
    "    if col =='UnitPrice':\n",
    "        ax.set_ylim(0,10)\n",
    "    ax.set_ylabel('')\n",
    "    ax.set_xlabel('')\n",
    "    ax.set_title(col)\n",
    "    \n",
    "    if col in ['Country','c_counts']:\n",
    "        ax.set_xlabel('cluster_number')\n",
    "    \n",
    "    \n",
    "fig.tight_layout()\n",
    "plt.show()\n",
    "print('''\n",
    "엘보우 기법을 통해 최적의 클러스터 숫자를 4개로 하고 KMeans를 시행한다.\n",
    "PCA 평면에 클러스터 레이블에 대해 뿌려보면 위의 2번째 그래프와 같다. \n",
    "\n",
    "각 클러스터 레이블에 대한 원천데이터의 분포를 살펴보면 아래 4개 그래프와 같다.\n",
    "1번 클러스터의 경우 구매국가가 가장 많고 구매 유저숫자도 많은 제품군이다. \n",
    "2번 클러스틔 경우 평균 단위 구매금액이 가장 높으며 구매 국가수와 구매 제품 수량, 구매 유저숫자가 가장 적다\n",
    "3번 클러스터는 평균 단위 구매금액이 낮지만 평균 구매수량은 가장 많다.\n",
    "4번 클러스터는 1,2,3들의 중간 성향을 보인다\n",
    "''')"
   ]
  },
  {
   "cell_type": "markdown",
   "id": "20259b64",
   "metadata": {},
   "source": [
    "## 문제 2.2 \n",
    "각 군집 별 대표 추천 상품을 도출할 것"
   ]
  },
  {
   "cell_type": "code",
   "execution_count": 326,
   "id": "5970273a",
   "metadata": {},
   "outputs": [
    {
     "name": "stdout",
     "output_type": "stream",
     "text": [
      "cluster 1의 가장 많은 유저가 구매한 제품은 StockCode 22326의 ROUND SNACK BOXES SET OF4 WOODLAND 이며 그 구매 횟수는 269회 이다. \n",
      "cluster 2의 가장 많은 유저가 구매한 제품은 StockCode 48138의 DOORMAT UNION FLAG이며 그 구매 횟수는 18회 이다. \n",
      "cluster 3의 가장 많은 유저가 구매한 제품은 StockCode 22489의 PACK OF 12 TRADITIONAL CRAYONS이며 그 구매 횟수는 34회 이다. \n",
      "cluster 4의 가장 많은 유저가 구매한 제품은 StockCode 20749의 ASSORTED COLOUR MINI CASES이며 그 구매 횟수는 61회 이다. \n"
     ]
    }
   ],
   "source": [
    "lst = []\n",
    "\n",
    "for label, number  in cluster_df.reset_index().groupby(['labels'])['c_counts'].max().reset_index().values:\n",
    "    \n",
    "    \n",
    "    best_prd_number =cluster_df[(cluster_df.labels ==label) & (cluster_df.c_counts ==number)].index[0]\n",
    "    prd_name =df[df.StockCode ==best_prd_number].Description.values[0]\n",
    "    print(f'cluster {label}의 가장 많은 유저가 구매한 제품은 StockCode {best_prd_number}의 {prd_name}이며 그 구매 횟수는 {number}회 이다. ')"
   ]
  },
  {
   "cell_type": "markdown",
   "id": "3d7f4768",
   "metadata": {},
   "source": [
    "## 문제 2.3 \n",
    "CustomerID가 12413인 고객을 대상으로 상품을 추천할 것"
   ]
  },
  {
   "cell_type": "code",
   "execution_count": 349,
   "id": "6cb0eeb5",
   "metadata": {
    "scrolled": true
   },
   "outputs": [
    {
     "data": {
      "text/html": [
       "<div>\n",
       "<style scoped>\n",
       "    .dataframe tbody tr th:only-of-type {\n",
       "        vertical-align: middle;\n",
       "    }\n",
       "\n",
       "    .dataframe tbody tr th {\n",
       "        vertical-align: top;\n",
       "    }\n",
       "\n",
       "    .dataframe thead th {\n",
       "        text-align: right;\n",
       "    }\n",
       "</style>\n",
       "<table border=\"1\" class=\"dataframe\">\n",
       "  <thead>\n",
       "    <tr style=\"text-align: right;\">\n",
       "      <th></th>\n",
       "      <th>cluster_4</th>\n",
       "      <th>cluster_1</th>\n",
       "      <th>cluster_2</th>\n",
       "    </tr>\n",
       "  </thead>\n",
       "  <tbody>\n",
       "    <tr>\n",
       "      <th>12413 유저의 클러스터 별 구매제품</th>\n",
       "      <td>14</td>\n",
       "      <td>11</td>\n",
       "      <td>3</td>\n",
       "    </tr>\n",
       "  </tbody>\n",
       "</table>\n",
       "</div>"
      ],
      "text/plain": [
       "                       cluster_4  cluster_1  cluster_2\n",
       "12413 유저의 클러스터 별 구매제품         14         11          3"
      ]
     },
     "metadata": {},
     "output_type": "display_data"
    },
    {
     "name": "stdout",
     "output_type": "stream",
     "text": [
      "\n",
      "12413 유저의 각 클러스터별 구매 제품숫자를 보면 4번클러스터를 가장 많이 구매했다. \n",
      "해당 클러스터군 중 2.2에서 확인한 가장 인기 제품인 StockCode 20749 제품 기록은 없기에 이 제품을 추천할 것이다.\n"
     ]
    }
   ],
   "source": [
    "special_user =df[df.CustomerID ==12413]\n",
    "\n",
    "recommend = cluster_df.reset_index()\n",
    "user_log= recommend[recommend.StockCode.isin(special_user.StockCode.unique())].labels.value_counts().to_frame().T\n",
    "user_log.columns = ['cluster_' + str(x) for x in user_log.columns]\n",
    "user_log.index = ['12413 유저의 클러스터 별 구매제품']\n",
    "\n",
    "display(user_log)\n",
    "print('''\n",
    "12413 유저의 각 클러스터별 구매 제품숫자를 보면 4번클러스터를 가장 많이 구매했다. \n",
    "해당 클러스터군 중 2.2에서 확인한 가장 인기 제품인 StockCode 20749 제품 기록은 없기에 이 제품을 추천할 것이다.''')"
   ]
  },
  {
   "cell_type": "markdown",
   "id": "791f8802",
   "metadata": {},
   "source": [
    "# 통계"
   ]
  },
  {
   "cell_type": "markdown",
   "id": "f36afec7",
   "metadata": {},
   "source": [
    "## 문제 3\n",
    "어느 제조업체의 제품 불량률을 조사하려고 한다. 이 회사의 제품 불량률이 실제로는 90%라고 알려져 있다.     \n",
    "이를 표본 조사로 추정하고자 합니다. 추정된 불량률의 추정오차한계가 5% 이내가 되도록 하려면, 어느 정도의 표본 크기가 필요한지 계산하라."
   ]
  },
  {
   "cell_type": "code",
   "execution_count": 8,
   "id": "d0dc0105",
   "metadata": {
    "ExecuteTime": {
     "end_time": "2022-09-04T04:59:53.353886Z",
     "start_time": "2022-09-04T04:59:52.069005Z"
    },
    "tags": [
     "hide-input"
    ]
   },
   "outputs": [],
   "source": []
  },
  {
   "cell_type": "markdown",
   "id": "d95e096f",
   "metadata": {},
   "source": [
    "## 문제 설명 (4번)\n",
    "![image](https://raw.githubusercontent.com/Datamanim/datarepo/main/adp/26/problem2.png)"
   ]
  },
  {
   "cell_type": "markdown",
   "id": "7147d76a",
   "metadata": {},
   "source": [
    "## 문제 4.1 \n",
    "은의 가격 및 이동평균값 3이 설정된 시계열 그래프를 그려라"
   ]
  },
  {
   "cell_type": "code",
   "execution_count": 3,
   "id": "d368c34c",
   "metadata": {
    "scrolled": true
   },
   "outputs": [
    {
     "data": {
      "image/png": "[encoded data removed]",
      "text/plain": [
       "<Figure size 500x300 with 1 Axes>"
      ]
     },
     "metadata": {},
     "output_type": "display_data"
    }
   ],
   "source": [
    "lst = [12.14,42.6,34.4,35.29,30.96,57.12,37.84,42.49,31.38]\n",
    "plt.rc('font',family='AppleGothic')\n",
    "df = pd.DataFrame(lst,columns =['data'])\n",
    "df['roll'] =df.rolling(3).mean()\n",
    "df.index = [str(i)+'월' for i in range(1,10)]\n",
    "\n",
    "\n",
    "# from matplotlib import font_manger\n",
    "# font_manager.get_font_names() \n",
    "fig,ax = plt.subplots(1,figsize=(5,3))\n",
    "\n",
    "plt.plot(df['data'],label='원본')\n",
    "plt.plot(df.roll,label='이동평균')\n",
    "plt.legend()\n",
    "plt.show()"
   ]
  },
  {
   "cell_type": "markdown",
   "id": "d81112a7",
   "metadata": {},
   "source": [
    "## 문제 4.2\n",
    "1월 대비 9월의 은의 가격은 몇 % 올랐는가? 소수점 두번째 자리에서 반올림"
   ]
  },
  {
   "cell_type": "code",
   "execution_count": 4,
   "id": "42a55640",
   "metadata": {
    "ExecuteTime": {
     "end_time": "2022-09-04T04:59:53.353886Z",
     "start_time": "2022-09-04T04:59:52.069005Z"
    },
    "tags": [
     "hide-input"
    ]
   },
   "outputs": [
    {
     "name": "stdout",
     "output_type": "stream",
     "text": [
      "1월을 기준으로 9월과의 값의 차이를 1월의 값으로 나누고 100을 곱해서 계산한다. 그결과 158.48% 증가했다.\n"
     ]
    }
   ],
   "source": [
    "result = round(((df.loc['9월','data']-df.loc['1월','data']) / df.loc['1월','data']) *100,2)\n",
    "print(f'1월을 기준으로 9월과의 값의 차이를 1월의 값으로 나누고 100을 곱해서 계산한다. 그결과 {result}% 증가했다.')"
   ]
  },
  {
   "cell_type": "markdown",
   "id": "76918d7b",
   "metadata": {},
   "source": [
    "## 문제설명 (5번)\n",
    "<img src=\"https://github.com/Datamanim/datarepo/blob/main/adp/26/problem3.png?raw=true\" width=\"300\" height=\"300\">\n",
    "\n",
    "위 표는 A,B,C 자치구별 W 의원에 대한 찬성, 반대 지지를 나타낸다. 자치구별 지지율이 같은지에 대해서 검정하라"
   ]
  },
  {
   "cell_type": "markdown",
   "id": "0f222d5b",
   "metadata": {},
   "source": [
    "## 문제 5.1 \n",
    "연구가설과 귀무가설을 설정하라"
   ]
  },
  {
   "cell_type": "markdown",
   "id": "731080a2",
   "metadata": {},
   "source": [
    "귀무가설 : 자치구와 w의원에 대한 찬반 지지율은 독립적이다.    \n",
    "대립가설 (연구가설) : 자치구와 w의원에 대한 찬반 지지율은 서로 연관이 있다. (독립적이지 않다)"
   ]
  },
  {
   "cell_type": "markdown",
   "id": "72a8d5f3",
   "metadata": {},
   "source": [
    "## 문제 5.2 \n",
    "검정통계량을 구하고 결론을 내라"
   ]
  },
  {
   "cell_type": "code",
   "execution_count": 6,
   "id": "54f5a99d",
   "metadata": {
    "ExecuteTime": {
     "end_time": "2022-09-04T04:59:53.353886Z",
     "start_time": "2022-09-04T04:59:52.069005Z"
    },
    "tags": [
     "hide-input"
    ]
   },
   "outputs": [
    {
     "name": "stdout",
     "output_type": "stream",
     "text": [
      "\n",
      "답안카이제곱 독립성 검정을 통해 결과를 도출한다. 검정 통계량은 7.945이고 p값은 0.019이다.\n",
      "유의 수준 0.05하에서 귀무가설을 기각한다. 즉 자치구별 지지율이 \n"
     ]
    }
   ],
   "source": [
    "s,p,d,e = chi2_contingency([[176,193,159],[124,107,141]])\n",
    "\n",
    "\n",
    "print(f'\\n답안카이제곱 독립성 검정을 통해 결과를 도출한다. 검정 통계량은 {round(s,3)}이고 p값은 {round(p,3)}이다.\\n유의 수준 0.05하에서 귀무가설을 기각한다. 즉 자치구별 지지율이 ')"
   ]
  },
  {
   "cell_type": "markdown",
   "id": "6f29af2c",
   "metadata": {},
   "source": [
    "## 문제설명 (6번)\n",
    "A초등학교 남학생 16명과 여학생 9명의 혈압을 측정한 pressure.csv파일을 가지고 남녀학생의 평균 혈압에 차이가 없는지 확인하려한다.\n",
    "- 데이터 url :https://raw.githubusercontent.com/Datamanim/datarepo/main/adp/26/pressure.csv"
   ]
  },
  {
   "cell_type": "markdown",
   "id": "fb78ce9e",
   "metadata": {},
   "source": [
    "## 문제 6.2 \n",
    "검정 통계량을 구하고 가설 검정을 수행하라"
   ]
  },
  {
   "cell_type": "code",
   "execution_count": 19,
   "id": "b27bdab1",
   "metadata": {},
   "outputs": [
    {
     "name": "stdout",
     "output_type": "stream",
     "text": [
      "MannwhitneyuResult(statistic=98.0, pvalue=0.14875840681321661)\n",
      "Ttest_indResult(statistic=1.598335024574904, pvalue=0.12361716364314851)\n"
     ]
    }
   ],
   "source": [
    "df= pd.read_csv('https://raw.githubusercontent.com/Datamanim/datarepo/main/adp/26/pressure.csv')\n",
    "\n",
    "from scipy.stats import mannwhitneyu\n",
    "from scipy.stats import ttest_ind , ttest_rel\n",
    "\n",
    "m = df[df.gender =='male'].pressure\n",
    "f = df[df.gender =='female'].pressure\n",
    "print(mannwhitneyu(m,f))\n",
    "print(ttest_ind(m,f))"
   ]
  },
  {
   "cell_type": "markdown",
   "id": "145990ff",
   "metadata": {},
   "source": [
    "## 문제 6.3 \n",
    "6.2의 검정 통계량 값을 바탕으로 신뢰수준 95%하에서 신뢰구간을 설정하라"
   ]
  },
  {
   "cell_type": "code",
   "execution_count": 33,
   "id": "35fa19aa",
   "metadata": {},
   "outputs": [
    {
     "name": "stdout",
     "output_type": "stream",
     "text": [
      "95.0% Confidence Interval: (-2.2236553334945324, 14.838933111272338)\n"
     ]
    }
   ],
   "source": [
    "import numpy as np\n",
    "from scipy.stats import t\n",
    "\n",
    "confidence_level = 0.95\n",
    "alpha = 1 - confidence_level\n",
    "degrees_of_freedom = len(m) + len(f) - 2\n",
    "t_critical = t.ppf(1 - alpha / 2, degrees_of_freedom)\n",
    "std_error = np.sqrt(np.var(m, ddof=1) / len(m) + np.var(f, ddof=1) / len(f))\n",
    "mean_difference = np.mean(m) - np.mean(f)\n",
    "confidence_interval = (mean_difference - t_critical * std_error, mean_difference + t_critical * std_error)\n",
    "\n",
    "print(f\"{confidence_level * 100}% Confidence Interval:\", confidence_interval)"
   ]
  },
  {
   "cell_type": "markdown",
   "id": "bc2a1d92",
   "metadata": {},
   "source": [
    "## 문제설명 (7번)\n",
    "height(키), weight(몸무게), waist(허리둘레) 컬럼을 가진 problem7.csv파일을 가지고 다음을 분석하라      \n",
    "A시의 20대 남성 411명을 임의로 추출하여 키, 몸무게, 허리둘레를 조사하여 기록한 데이터이다.         \n",
    "이 데이터를 이용하여 20대 남성의 키와 허리둘레가 체중에 영향을 미치는지 알아보고자 한다.     \n",
    "\n",
    "- 데이터 url :https://raw.githubusercontent.com/Datamanim/datarepo/main/adp/26/problem7.csv"
   ]
  },
  {
   "cell_type": "markdown",
   "id": "4c0f6221",
   "metadata": {},
   "source": [
    "## 문제 7.1\n",
    "아래 조건을 참고하여 회귀계수(반올림하여 소수점 두자리)를 구하시오.    \n",
    "- 베이지안 회귀   \n",
    "- 시드넘버 1234로 지정\n",
    "- 1000번의 burn-in 이후 10,000의 MCMC를 수행\n",
    "- 회귀계수의 사전분포는 부적절한 균일분포(improper uniform prior distribution), 오차항의 분산의 사전분포는 역감마 분포로 지정. 이때, 형상(Shape)모수와 척도(Scale)모수는 각각 0.005로 지정."
   ]
  },
  {
   "cell_type": "code",
   "execution_count": 1,
   "id": "2261317c",
   "metadata": {},
   "outputs": [],
   "source": [
    "import pandas as pd\n",
    "df =pd.read_csv('https://raw.githubusercontent.com/Datamanim/datarepo/main/adp/26/problem7.csv')\n"
   ]
  },
  {
   "cell_type": "code",
   "execution_count": 12,
   "id": "afccaa67",
   "metadata": {
    "scrolled": true
   },
   "outputs": [
    {
     "data": {
      "text/plain": [
       "<bound method StanFit4Model.summary of Inference for Stan model: anon_model_20749f6857fc9ffcabb643021d4bad8f.\n",
       "1 chains, each with iter=10000; warmup=1000; thin=1; \n",
       "post-warmup draws per chain=9000, total post-warmup draws=9000.\n",
       "\n",
       "        mean se_mean     sd   2.5%    25%    50%    75%  97.5%  n_eff   Rhat\n",
       "a     -124.5    1.08  30.21 -183.7 -144.7 -124.1 -104.5 -66.41    776    1.0\n",
       "b1      1.04  1.8e-3   0.06   0.92    1.0   1.04   1.08   1.15   1123    1.0\n",
       "b2      0.22    0.02   0.46  -0.65  -0.08   0.22   0.52   1.14    723    1.0\n",
       "sigma   1.69  1.2e-3   0.06   1.58   1.65   1.68   1.73   1.81   2422    1.0\n",
       "lp__  -420.3    0.03   1.44 -423.9 -421.0 -420.0 -419.2 -418.5   1976    1.0\n",
       "\n",
       "Samples were drawn using NUTS at Mon Aug 28 03:32:59 2023.\n",
       "For each parameter, n_eff is a crude measure of effective sample size,\n",
       "and Rhat is the potential scale reduction factor on split chains (at \n",
       "convergence, Rhat=1).>"
      ]
     },
     "execution_count": 12,
     "metadata": {},
     "output_type": "execute_result"
    }
   ],
   "source": [
    "import numpy as np\n",
    "import pystan\n",
    "\n",
    "# 참고 https://bayestour.github.io/blog/2019/07/08/Bayesian_mediation.html\n",
    "# !python3.8 -m pip install pystan==2.19.0.0\n",
    "# 파이썬 버전따라 다르게 설치하세요 import sys ; print(sys.path) 로 버전 확인 가능\n",
    "# 아나콘다의 경우 conda install pystan==2.19.0.0\n",
    "\n",
    "\n",
    "X1 = df['height']\n",
    "X2 = df['waistline']\n",
    "Y = df['weight']\n",
    "\n",
    "data = {'N' : len(df), 'x1': X1, 'x2': X2, 'Y': Y}\n",
    "\n",
    "# Stan 코드\n",
    "\n",
    "model_code = \"\"\"\n",
    "\n",
    "data {\n",
    "  int<lower=0> N;\n",
    "  vector[N] x1;\n",
    "  vector[N] x2;\n",
    "  vector[N] Y;\n",
    "}\n",
    "\n",
    "parameters {\n",
    "  real a;\n",
    "  real b1;\n",
    "  real b2;\n",
    "  real<lower=0> sigma;\n",
    "}\n",
    "\n",
    "model {\n",
    "  Y ~ normal(a + b1 * x1 + b2 * x2, sigma);\n",
    "  a ~ normal(0, 1000);\n",
    "  b1 ~ normal(0, 1000);\n",
    "  b2 ~ normal(0, 1000);\n",
    "  sigma ~ gamma(0.005, 0.005);\n",
    "}\n",
    "\n",
    "\"\"\"\n",
    "\n",
    "# 모델 핏팅하기\n",
    "\n",
    "model = pystan.StanModel(model_code=model_code,verbose=True,)\n",
    "fit = model.sampling(data=data, iter=10000, warmup=1000, chains=1, seed=1234)\n",
    "fit.summary"
   ]
  },
  {
   "cell_type": "code",
   "execution_count": 32,
   "id": "f72e6b1b",
   "metadata": {},
   "outputs": [],
   "source": [
    "b1 = round(fit['b1'].mean(),2)\n",
    "b2 = round(fit['b2'].mean(),2)\n",
    "a = round(fit['a'].mean(),2)"
   ]
  },
  {
   "cell_type": "code",
   "execution_count": 43,
   "id": "ef630ed0",
   "metadata": {},
   "outputs": [
    {
     "data": {
      "text/plain": [
       "<Axes: xlabel='waistline', ylabel='pred'>"
      ]
     },
     "execution_count": 43,
     "metadata": {},
     "output_type": "execute_result"
    },
    {
     "data": {
      "image/png": "[encoded data removed]",
      "text/plain": [
       "<Figure size 640x480 with 1 Axes>"
      ]
     },
     "metadata": {},
     "output_type": "display_data"
    }
   ],
   "source": [
    "df['pred'] = df['height'] * b1 + df['waistline'] * b2  + a\n",
    "sns.scatterplot(x=df['waistline'],y=df['pred'])"
   ]
  },
  {
   "cell_type": "markdown",
   "id": "2959ad47",
   "metadata": {},
   "source": [
    "## 문제 7.2\n",
    "위에서 만든 모델을 바탕으로 키 180cm, 허리둘레 85cm인 남성의 몸무게를 추정하라"
   ]
  },
  {
   "cell_type": "code",
   "execution_count": 44,
   "id": "7e381a31",
   "metadata": {},
   "outputs": [
    {
     "name": "stdout",
     "output_type": "stream",
     "text": [
      "81.34\n"
     ]
    }
   ],
   "source": [
    "result = 180 * b1 + 85 * b2 + a\n",
    "print(result)"
   ]
  }
 ],
 "metadata": {
  "celltoolbar": "Edit Metadata",
  "kernelspec": {
   "display_name": "Python 3 (ipykernel)",
   "language": "python",
   "name": "python3"
  },
  "language_info": {
   "codemirror_mode": {
    "name": "ipython",
    "version": 3
   },
   "file_extension": ".py",
   "mimetype": "text/x-python",
   "name": "python",
   "nbconvert_exporter": "python",
   "pygments_lexer": "ipython3",
   "version": "3.9.6"
  }
 },
 "nbformat": 4,
 "nbformat_minor": 5
}
