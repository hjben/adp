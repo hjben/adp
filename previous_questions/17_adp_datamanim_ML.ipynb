{
 "cells": [
  {
   "cell_type": "code",
   "execution_count": 2,
   "id": "351fcf65",
   "metadata": {
    "_cell_guid": "b1076dfc-b9ad-4769-8c92-a6c4dae69d19",
    "_uuid": "8f2839f25d086af736a60e9eeb907d3b93b6e0e5",
    "papermill": {
     "duration": 0.053722,
     "end_time": "2022-03-12T09:59:26.750694",
     "exception": false,
     "start_time": "2022-03-12T09:59:26.696972",
     "status": "completed"
    },
    "scrolled": true,
    "tags": []
   },
   "outputs": [],
   "source": [
    "import numpy as np\n",
    "import pandas as pd\n",
    "\n",
    "import matplotlib.pyplot as plt\n",
    "import seaborn as sns"
   ]
  },
  {
   "cell_type": "markdown",
   "id": "db7cdfa2",
   "metadata": {
    "papermill": {
     "duration": 0.028874,
     "end_time": "2022-03-12T09:59:26.809957",
     "exception": false,
     "start_time": "2022-03-12T09:59:26.781083",
     "status": "completed"
    },
    "tags": []
   },
   "source": [
    "# 1번 \n",
    "데이터 출처 : https://www.kaggle.com/c/house-prices-advanced-regression-techniques/data?select=train.csv 일부 전처리    \n",
    "데이터 경로 : /kaggle/input/adp-kr-p3/problem1.csv     \n",
    "데이터 설명 : 집과 관련된 여러 수치들과 집의 가격, log1p 정규화된 price 컬럼 예측 하기 "
   ]
  },
  {
   "cell_type": "code",
   "execution_count": 10,
   "id": "c075e5b1-1008-4e01-b245-27235b3b2c5c",
   "metadata": {},
   "outputs": [],
   "source": [
    "from sklearn.model_selection import train_test_split"
   ]
  },
  {
   "cell_type": "markdown",
   "id": "d35e2b20",
   "metadata": {
    "papermill": {
     "duration": 0.028809,
     "end_time": "2022-03-12T09:59:26.868582",
     "exception": false,
     "start_time": "2022-03-12T09:59:26.839773",
     "status": "completed"
    },
    "tags": []
   },
   "source": [
    "### 1-1 EDA 및 데이터 전처리\n",
    "시각화 및 통계량 제시"
   ]
  },
  {
   "cell_type": "code",
   "execution_count": 132,
   "id": "46f96d2f",
   "metadata": {
    "papermill": {
     "duration": 0.139827,
     "end_time": "2022-03-12T09:59:27.037853",
     "exception": false,
     "start_time": "2022-03-12T09:59:26.898026",
     "status": "completed"
    },
    "tags": []
   },
   "outputs": [
    {
     "data": {
      "text/html": [
       "<div>\n",
       "<style scoped>\n",
       "    .dataframe tbody tr th:only-of-type {\n",
       "        vertical-align: middle;\n",
       "    }\n",
       "\n",
       "    .dataframe tbody tr th {\n",
       "        vertical-align: top;\n",
       "    }\n",
       "\n",
       "    .dataframe thead th {\n",
       "        text-align: right;\n",
       "    }\n",
       "</style>\n",
       "<table border=\"1\" class=\"dataframe\">\n",
       "  <thead>\n",
       "    <tr style=\"text-align: right;\">\n",
       "      <th></th>\n",
       "      <th>Id</th>\n",
       "      <th>LotArea</th>\n",
       "      <th>LotFrontage</th>\n",
       "      <th>YearBuilt</th>\n",
       "      <th>1stFlrSF</th>\n",
       "      <th>2ndFlrSF</th>\n",
       "      <th>YearRemodAdd</th>\n",
       "      <th>TotRmsAbvGrd</th>\n",
       "      <th>KitchenAbvGr</th>\n",
       "      <th>BedroomAbvGr</th>\n",
       "      <th>GarageCars</th>\n",
       "      <th>GarageArea</th>\n",
       "      <th>price</th>\n",
       "    </tr>\n",
       "  </thead>\n",
       "  <tbody>\n",
       "    <tr>\n",
       "      <th>0</th>\n",
       "      <td>1</td>\n",
       "      <td>8450</td>\n",
       "      <td>65.0</td>\n",
       "      <td>2003</td>\n",
       "      <td>856</td>\n",
       "      <td>854</td>\n",
       "      <td>2003</td>\n",
       "      <td>8</td>\n",
       "      <td>1</td>\n",
       "      <td>3</td>\n",
       "      <td>2</td>\n",
       "      <td>548</td>\n",
       "      <td>12.247699</td>\n",
       "    </tr>\n",
       "    <tr>\n",
       "      <th>1</th>\n",
       "      <td>2</td>\n",
       "      <td>9600</td>\n",
       "      <td>80.0</td>\n",
       "      <td>1976</td>\n",
       "      <td>1262</td>\n",
       "      <td>0</td>\n",
       "      <td>1976</td>\n",
       "      <td>6</td>\n",
       "      <td>1</td>\n",
       "      <td>3</td>\n",
       "      <td>2</td>\n",
       "      <td>460</td>\n",
       "      <td>12.109016</td>\n",
       "    </tr>\n",
       "    <tr>\n",
       "      <th>2</th>\n",
       "      <td>3</td>\n",
       "      <td>11250</td>\n",
       "      <td>68.0</td>\n",
       "      <td>2001</td>\n",
       "      <td>920</td>\n",
       "      <td>866</td>\n",
       "      <td>2002</td>\n",
       "      <td>6</td>\n",
       "      <td>1</td>\n",
       "      <td>3</td>\n",
       "      <td>2</td>\n",
       "      <td>608</td>\n",
       "      <td>12.317171</td>\n",
       "    </tr>\n",
       "    <tr>\n",
       "      <th>3</th>\n",
       "      <td>4</td>\n",
       "      <td>9550</td>\n",
       "      <td>60.0</td>\n",
       "      <td>1915</td>\n",
       "      <td>961</td>\n",
       "      <td>756</td>\n",
       "      <td>1970</td>\n",
       "      <td>7</td>\n",
       "      <td>1</td>\n",
       "      <td>3</td>\n",
       "      <td>3</td>\n",
       "      <td>642</td>\n",
       "      <td>11.849405</td>\n",
       "    </tr>\n",
       "    <tr>\n",
       "      <th>4</th>\n",
       "      <td>5</td>\n",
       "      <td>14260</td>\n",
       "      <td>84.0</td>\n",
       "      <td>2000</td>\n",
       "      <td>1145</td>\n",
       "      <td>1053</td>\n",
       "      <td>2000</td>\n",
       "      <td>9</td>\n",
       "      <td>1</td>\n",
       "      <td>4</td>\n",
       "      <td>3</td>\n",
       "      <td>836</td>\n",
       "      <td>12.429220</td>\n",
       "    </tr>\n",
       "  </tbody>\n",
       "</table>\n",
       "</div>"
      ],
      "text/plain": [
       "   Id  LotArea  LotFrontage  YearBuilt  1stFlrSF  2ndFlrSF  YearRemodAdd  \\\n",
       "0   1     8450         65.0       2003       856       854          2003   \n",
       "1   2     9600         80.0       1976      1262         0          1976   \n",
       "2   3    11250         68.0       2001       920       866          2002   \n",
       "3   4     9550         60.0       1915       961       756          1970   \n",
       "4   5    14260         84.0       2000      1145      1053          2000   \n",
       "\n",
       "   TotRmsAbvGrd  KitchenAbvGr  BedroomAbvGr  GarageCars  GarageArea      price  \n",
       "0             8             1             3           2         548  12.247699  \n",
       "1             6             1             3           2         460  12.109016  \n",
       "2             6             1             3           2         608  12.317171  \n",
       "3             7             1             3           3         642  11.849405  \n",
       "4             9             1             4           3         836  12.429220  "
      ]
     },
     "execution_count": 132,
     "metadata": {},
     "output_type": "execute_result"
    }
   ],
   "source": [
    "df = pd.read_csv('https://raw.githubusercontent.com/Datamanim/datarepo/main/adp/17/problem1.csv')\n",
    "df.head()"
   ]
  },
  {
   "cell_type": "code",
   "execution_count": 135,
   "id": "fca70f41-a422-4ca1-ba5c-692188bc1f29",
   "metadata": {},
   "outputs": [
    {
     "data": {
      "text/plain": [
       "(1460, 13)"
      ]
     },
     "execution_count": 135,
     "metadata": {},
     "output_type": "execute_result"
    }
   ],
   "source": [
    "df.shape"
   ]
  },
  {
   "cell_type": "code",
   "execution_count": 134,
   "id": "1d0f44b3-c7f2-4566-8569-51bb2a5d5a9c",
   "metadata": {},
   "outputs": [
    {
     "data": {
      "text/plain": [
       "Id                0\n",
       "LotArea           0\n",
       "LotFrontage     259\n",
       "YearBuilt         0\n",
       "1stFlrSF          0\n",
       "2ndFlrSF          0\n",
       "YearRemodAdd      0\n",
       "TotRmsAbvGrd      0\n",
       "KitchenAbvGr      0\n",
       "BedroomAbvGr      0\n",
       "GarageCars        0\n",
       "GarageArea        0\n",
       "price             0\n",
       "dtype: int64"
      ]
     },
     "execution_count": 134,
     "metadata": {},
     "output_type": "execute_result"
    }
   ],
   "source": [
    "df.isna().sum()"
   ]
  },
  {
   "cell_type": "code",
   "execution_count": 137,
   "id": "35bad846-c839-49ad-831c-4b62ad377c08",
   "metadata": {},
   "outputs": [],
   "source": [
    "df.drop('Id', axis=1, inplace=True)"
   ]
  },
  {
   "cell_type": "code",
   "execution_count": 144,
   "id": "50567b2e-d89f-49b6-8969-0839b05316be",
   "metadata": {},
   "outputs": [],
   "source": [
    "from sklearn.impute import KNNImputer\n",
    "imputer = KNNImputer()\n",
    "\n",
    "df = pd.DataFrame(imputer.fit_transform(df), columns=df.columns)"
   ]
  },
  {
   "cell_type": "code",
   "execution_count": 145,
   "id": "9aaf2aa3-7774-4cc3-a13e-6b470f24c7e3",
   "metadata": {},
   "outputs": [
    {
     "data": {
      "text/plain": [
       "LotArea         0\n",
       "LotFrontage     0\n",
       "YearBuilt       0\n",
       "1stFlrSF        0\n",
       "2ndFlrSF        0\n",
       "YearRemodAdd    0\n",
       "TotRmsAbvGrd    0\n",
       "KitchenAbvGr    0\n",
       "BedroomAbvGr    0\n",
       "GarageCars      0\n",
       "GarageArea      0\n",
       "price           0\n",
       "dtype: int64"
      ]
     },
     "execution_count": 145,
     "metadata": {},
     "output_type": "execute_result"
    }
   ],
   "source": [
    "df.isna().sum()"
   ]
  },
  {
   "cell_type": "code",
   "execution_count": 146,
   "id": "53139ebc-613a-4a7b-9413-2b455d7b3195",
   "metadata": {},
   "outputs": [
    {
     "data": {
      "text/plain": [
       "11"
      ]
     },
     "execution_count": 146,
     "metadata": {},
     "output_type": "execute_result"
    }
   ],
   "source": [
    "x_col = list(df.columns.difference(['price']))\n",
    "len(x_col)"
   ]
  },
  {
   "cell_type": "code",
   "execution_count": 147,
   "id": "ce0ec276-8d7f-40a8-b7f1-98bcdd7441fb",
   "metadata": {},
   "outputs": [
    {
     "data": {
      "image/png": "[encoded data removed]",
      "text/plain": [
       "<Figure size 1500x1500 with 12 Axes>"
      ]
     },
     "metadata": {},
     "output_type": "display_data"
    }
   ],
   "source": [
    "fig, axes = plt.subplots(nrows=3, ncols=4, figsize=(15, 15))\n",
    "for i in range(len(x_col)):\n",
    "    row_ = i//4\n",
    "    col_ = i%4\n",
    "    sns.boxplot(x=x_col[i], data=df, ax=axes[row_][col_])"
   ]
  },
  {
   "cell_type": "code",
   "execution_count": 148,
   "id": "9b211ac2-d484-4063-aa1d-fdacac9f408a",
   "metadata": {},
   "outputs": [
    {
     "data": {
      "text/plain": [
       "<Axes: xlabel='KitchenAbvGr'>"
      ]
     },
     "execution_count": 148,
     "metadata": {},
     "output_type": "execute_result"
    },
    {
     "data": {
      "image/png": "[encoded data removed]",
      "text/plain": [
       "<Figure size 640x480 with 1 Axes>"
      ]
     },
     "metadata": {},
     "output_type": "display_data"
    }
   ],
   "source": [
    "sns.barplot(x=df['KitchenAbvGr'].value_counts().index, y=df['KitchenAbvGr'].value_counts().values)"
   ]
  },
  {
   "cell_type": "code",
   "execution_count": 149,
   "id": "3a01ade7-c778-43b8-ab97-428a31fabe6b",
   "metadata": {},
   "outputs": [],
   "source": [
    "df['BuiltAge'] = 2023 - df['YearBuilt'] + 1\n",
    "df['RemodAddAge'] = 2023 - df['YearRemodAdd'] + 1\n",
    "df['KitchenAbvGr_1'] = np.where(df['KitchenAbvGr']==1, 1, 0)"
   ]
  },
  {
   "cell_type": "code",
   "execution_count": 150,
   "id": "c6796c57-1fbe-4333-bae5-d8b725e8bcd2",
   "metadata": {},
   "outputs": [
    {
     "name": "stdout",
     "output_type": "stream",
     "text": [
      "\n",
      "ID 변수는 집의 고유번호이므로 분석에서 활용되기 어렵다. 그러므로 Id 변수는 제거하고, 나머지 독립변수들의 분포를 확인해 본다. 독립변수의 개수는 총 11개이다.\n",
      "LotFrontAge 변수에는 결측치가 존재한다, 수치형 변수로 구성된 dataset이고, data 대비 결측치의 비율이 높은 편이므로, KNNImputer를 사용하여 결측치를 보정한다.\n",
      "YearBuilt와 YearRemodAdd 변수는 건축 연도와 리모델링 연도인데, 연식과 관련된 변수로 집값에 영향을 줄 것으로 생각된다. 연식을 더 직관적으로 나타내기 위해 연도를 현재 시점 기준으로 환산하여 건축물의 나이 변수로 변경한다.\n",
      "KitchenAbvGr 변수는 각 개수별로 명확히 구분되는 것이 보이고, 1 값을 가지는 개수가 매우 많은 불균형 데이터이므로, 카테고리 변수로 변경하고, 1인지 아닌지를 나타내는 파생변수를 생성하는 것이 타당해 보인다.\n",
      "\n",
      "그리고, boxplot에서 skewed 분포 모양과 함께 IQR 기준 이상치가 보이는 일부 변수가 존재한다. 실제로 제거할 수 있는 대상인지는 현재로써는 확신할 수 없으므로, 이상치의 영향을 줄이기 위해 로그 변환을 수행한다.\n",
      "대상 변수는 1stFlrSF', '2ndFlrSF', 'BedroomAbvGr','GarageArea', 'GarageCars', 'LotArea', 'LotFrontage', 'TotRmsAbvGrd' 7개이다.\n",
      "\n"
     ]
    }
   ],
   "source": [
    "print('''\n",
    "ID 변수는 집의 고유번호이므로 분석에서 활용되기 어렵다. 그러므로 Id 변수는 제거하고, 나머지 독립변수들의 분포를 확인해 본다. 독립변수의 개수는 총 11개이다.\n",
    "LotFrontAge 변수에는 결측치가 존재한다, 수치형 변수로 구성된 dataset이고, data 대비 결측치의 비율이 높은 편이므로, KNNImputer를 사용하여 결측치를 보정한다.\n",
    "YearBuilt와 YearRemodAdd 변수는 건축 연도와 리모델링 연도인데, 연식과 관련된 변수로 집값에 영향을 줄 것으로 생각된다. 연식을 더 직관적으로 나타내기 위해 연도를 현재 시점 기준으로 환산하여 건축물의 나이 변수로 변경한다.\n",
    "KitchenAbvGr 변수는 각 개수별로 명확히 구분되는 것이 보이고, 1 값을 가지는 개수가 매우 많은 불균형 데이터이므로, 카테고리 변수로 변경하고, 1인지 아닌지를 나타내는 파생변수를 생성하는 것이 타당해 보인다.\n",
    "\n",
    "그리고, boxplot에서 skewed 분포 모양과 함께 IQR 기준 이상치가 보이는 일부 변수가 존재한다. 실제로 제거할 수 있는 대상인지는 현재로써는 확신할 수 없으므로, 이상치의 영향을 줄이기 위해 로그 변환을 수행한다.\n",
    "대상 변수는 1stFlrSF', '2ndFlrSF', 'BedroomAbvGr','GarageArea', 'GarageCars', 'LotArea', 'LotFrontage', 'TotRmsAbvGrd' 7개이다.\n",
    "''')"
   ]
  },
  {
   "cell_type": "code",
   "execution_count": 151,
   "id": "e9c3a9cb-3ba7-4c85-b267-421a7abe8221",
   "metadata": {},
   "outputs": [],
   "source": [
    "log_col = ['1stFlrSF', '2ndFlrSF', 'BedroomAbvGr','GarageArea', 'LotArea', 'LotFrontage', 'TotRmsAbvGrd']\n",
    "\n",
    "for col in log_col:\n",
    "    df[col + '_log'] = np.log1p(df[col])"
   ]
  },
  {
   "cell_type": "code",
   "execution_count": 152,
   "id": "5023868a-94f7-4715-a3c1-b9096263ec6a",
   "metadata": {
    "scrolled": true
   },
   "outputs": [
    {
     "data": {
      "image/png": "[encoded data removed]",
      "text/plain": [
       "<Figure size 1500x1000 with 8 Axes>"
      ]
     },
     "metadata": {},
     "output_type": "display_data"
    }
   ],
   "source": [
    "fig, axes = plt.subplots(nrows=2, ncols=4, figsize=(15, 10))\n",
    "for i in range(len(log_col)):\n",
    "    row_ = i//4\n",
    "    col_ = i%4\n",
    "    sns.boxplot(x=log_col[i] + '_log', data=df, ax=axes[row_][col_])"
   ]
  },
  {
   "cell_type": "code",
   "execution_count": 153,
   "id": "bff87b7b-2af0-4918-9e61-dbe9abaa95f4",
   "metadata": {},
   "outputs": [
    {
     "data": {
      "text/plain": [
       "<Axes: xlabel='KitchenAbvGr_1'>"
      ]
     },
     "execution_count": 153,
     "metadata": {},
     "output_type": "execute_result"
    },
    {
     "data": {
      "image/png": "[encoded data removed]",
      "text/plain": [
       "<Figure size 640x480 with 1 Axes>"
      ]
     },
     "metadata": {},
     "output_type": "display_data"
    }
   ],
   "source": [
    "sns.barplot(x=df['KitchenAbvGr_1'].value_counts().index, y=df['KitchenAbvGr_1'].value_counts().values)"
   ]
  },
  {
   "cell_type": "code",
   "execution_count": 154,
   "id": "0b1b6d4b-06be-4022-a572-6e36e0553f8a",
   "metadata": {},
   "outputs": [
    {
     "name": "stdout",
     "output_type": "stream",
     "text": [
      "\n",
      "그리고, boxplot에서 skewed 분포 모양과 함께 IQR 기준 이상치가 보이는 일부 변수가 존재한다. 실제로 제거할 수 있는 대상인지는 현재로써는 확신할 수 없으므로, 이상치의 영향을 줄이기 위해 로그 변환을 수행한다.\n",
      "대상 변수는 1stFlrSF', '2ndFlrSF', 'BedroomAbvGr','GarageArea', 'GarageCars', 'LotArea', 'LotFrontage', 'TotRmsAbvGrd' 7개이다.\n",
      "로그 변환 수행 결과, 이상치 개수도 일부 줄어들었고, 변수들의 분포가 대칭 분포가 되었을을 확인할 수 있다.\n",
      "또한, KitchenAbvGr 변수의 경우, 파생 변수 생성을 통해 카테고리의 개수를 줄임으로써 불균형을 일부 완화하였다.\n",
      "\n"
     ]
    }
   ],
   "source": [
    "print('''\n",
    "그리고, boxplot에서 skewed 분포 모양과 함께 IQR 기준 이상치가 보이는 일부 변수가 존재한다. 실제로 제거할 수 있는 대상인지는 현재로써는 확신할 수 없으므로, 이상치의 영향을 줄이기 위해 로그 변환을 수행한다.\n",
    "대상 변수는 1stFlrSF', '2ndFlrSF', 'BedroomAbvGr','GarageArea', 'GarageCars', 'LotArea', 'LotFrontage', 'TotRmsAbvGrd' 7개이다.\n",
    "로그 변환 수행 결과, 이상치 개수도 일부 줄어들었고, 변수들의 분포가 대칭 분포가 되었을을 확인할 수 있다.\n",
    "또한, KitchenAbvGr 변수의 경우, 파생 변수 생성을 통해 카테고리의 개수를 줄임으로써 불균형을 일부 완화하였다.\n",
    "''')"
   ]
  },
  {
   "cell_type": "code",
   "execution_count": 155,
   "id": "835a976e-78be-42ca-86df-3ab554df7cab",
   "metadata": {
    "scrolled": true
   },
   "outputs": [
    {
     "data": {
      "text/plain": [
       "<Axes: xlabel='price'>"
      ]
     },
     "execution_count": 155,
     "metadata": {},
     "output_type": "execute_result"
    },
    {
     "data": {
      "image/png": "[encoded data removed]",
      "text/plain": [
       "<Figure size 640x480 with 1 Axes>"
      ]
     },
     "metadata": {},
     "output_type": "display_data"
    }
   ],
   "source": [
    "sns.boxplot(x='price', data=df)"
   ]
  },
  {
   "cell_type": "code",
   "execution_count": 156,
   "id": "8ba5f222-1ce6-4eb1-bda5-790b642ba464",
   "metadata": {},
   "outputs": [
    {
     "name": "stdout",
     "output_type": "stream",
     "text": [
      "\n",
      "마지막으로, 종속변수인 price의 분포를 Boxplot으로  확인해 보니, 거의 좌우 대칭 형태를 보인다. IQR 기준으로 이상치로 판단되는 데이터도 몇 개 보이지만, 실제로 제거해야 되는 대상인지는 확신할 수 없으므로 별도의 조치는 취하지 않는다.\n",
      "\n"
     ]
    }
   ],
   "source": [
    "print('''\n",
    "마지막으로, 종속변수인 price의 분포를 Boxplot으로  확인해 보니, 거의 좌우 대칭 형태를 보인다. IQR 기준으로 이상치로 판단되는 데이터도 몇 개 보이지만, 실제로 제거해야 되는 대상인지는 확신할 수 없으므로 별도의 조치는 취하지 않는다.\n",
    "''')"
   ]
  },
  {
   "cell_type": "markdown",
   "id": "d6d1e345",
   "metadata": {
    "papermill": {
     "duration": 0.033229,
     "end_time": "2022-03-12T09:59:29.159754",
     "exception": false,
     "start_time": "2022-03-12T09:59:29.126525",
     "status": "completed"
    },
    "tags": []
   },
   "source": [
    "### 1-2  Train,Valid,Test set으로 분할 및 시각화 제시"
   ]
  },
  {
   "cell_type": "code",
   "execution_count": 157,
   "id": "4d23746c-c316-4018-9120-290081cd25bb",
   "metadata": {},
   "outputs": [],
   "source": [
    "df['firstFlrSF_log'] = df['1stFlrSF_log']\n",
    "df['secondFlrSF_log'] = df['2ndFlrSF_log']\n",
    "\n",
    "log_col[0] = 'firstFlrSF'\n",
    "log_col[1] = 'secondFlrSF'"
   ]
  },
  {
   "cell_type": "code",
   "execution_count": 158,
   "id": "f6db2531-f0fa-4c29-8a2c-c05a9ca405ee",
   "metadata": {},
   "outputs": [
    {
     "data": {
      "text/plain": [
       "['GarageCars',\n",
       " 'KitchenAbvGr_1',\n",
       " 'BuiltAge',\n",
       " 'RemodAddAge',\n",
       " 'firstFlrSF_log',\n",
       " 'secondFlrSF_log',\n",
       " 'BedroomAbvGr_log',\n",
       " 'GarageArea_log',\n",
       " 'LotArea_log',\n",
       " 'LotFrontage_log',\n",
       " 'TotRmsAbvGrd_log']"
      ]
     },
     "execution_count": 158,
     "metadata": {},
     "output_type": "execute_result"
    }
   ],
   "source": [
    "model_col = ['GarageCars', 'KitchenAbvGr_1','BuiltAge','RemodAddAge'] + [col + '_log' for col in log_col]\n",
    "model_col"
   ]
  },
  {
   "cell_type": "code",
   "execution_count": 159,
   "id": "4b6dfac7-5d6b-4b0d-af63-288712e73745",
   "metadata": {},
   "outputs": [
    {
     "name": "stdout",
     "output_type": "stream",
     "text": [
      "\n",
      "최종 독립변수 리스트를 위와 같이 정리하였다. 모델링을 위해, 이 데이터를 train, valid, test set으로 분할한다.\n",
      "\n"
     ]
    }
   ],
   "source": [
    "print('''\n",
    "최종 독립변수 리스트를 위와 같이 정리하였다. 모델링을 위해, 이 데이터를 train, valid, test set으로 분할한다.\n",
    "''')"
   ]
  },
  {
   "cell_type": "code",
   "execution_count": 160,
   "id": "f6f1f56f-f18a-4cf2-a4c5-88b0d048582e",
   "metadata": {},
   "outputs": [],
   "source": [
    "from sklearn.model_selection import train_test_split"
   ]
  },
  {
   "cell_type": "code",
   "execution_count": 161,
   "id": "22b0bfb0-c743-4f35-b000-38fb4c3899dc",
   "metadata": {},
   "outputs": [],
   "source": [
    "x = df.loc[:, model_col]\n",
    "y = df['price']\n",
    "\n",
    "x_train, x_tmp, y_train, y_tmp = train_test_split(x, y, test_size=0.4)\n",
    "x_valid, x_test, y_valid, y_test = train_test_split(x_tmp, y_tmp, test_size=0.5)"
   ]
  },
  {
   "cell_type": "code",
   "execution_count": 163,
   "id": "15e3cf7d-6145-4882-acb3-be885191ccec",
   "metadata": {},
   "outputs": [
    {
     "data": {
      "text/plain": [
       "<Axes: >"
      ]
     },
     "execution_count": 163,
     "metadata": {},
     "output_type": "execute_result"
    },
    {
     "data": {
      "image/png": "[encoded data removed]",
      "text/plain": [
       "<Figure size 640x480 with 1 Axes>"
      ]
     },
     "metadata": {},
     "output_type": "display_data"
    }
   ],
   "source": [
    "sns.barplot(x=['train', 'validation', 'test'], y=[y_train.count(), y_valid.count(), y_test.count()])"
   ]
  },
  {
   "cell_type": "code",
   "execution_count": 164,
   "id": "700e9552-fdce-4e72-b982-952deca2f59e",
   "metadata": {},
   "outputs": [
    {
     "name": "stdout",
     "output_type": "stream",
     "text": [
      "\n",
      "6:2:2 비율로 데이터를 분할했으며, 분할된 데이터셋의 데이터 개수 count를 시각화하면 위와 같다. \n",
      "\n"
     ]
    }
   ],
   "source": [
    "print('''\n",
    "6:2:2 비율로 데이터를 분할했으며, 분할된 데이터셋의 데이터 개수 count를 시각화하면 위와 같다. \n",
    "''')"
   ]
  },
  {
   "cell_type": "markdown",
   "id": "d5974497",
   "metadata": {
    "papermill": {
     "duration": 0.037038,
     "end_time": "2022-03-12T09:59:33.689279",
     "exception": false,
     "start_time": "2022-03-12T09:59:33.652241",
     "status": "completed"
    },
    "tags": []
   },
   "source": [
    "### 1-3  2차 교호작용항 까지 고려한 회귀분석 수행 및 변수 선택 과정 제시"
   ]
  },
  {
   "cell_type": "code",
   "execution_count": 165,
   "id": "dc43de45-c083-4b27-ad42-5cbc96b27c06",
   "metadata": {},
   "outputs": [],
   "source": [
    "from sklearn.preprocessing import RobustScaler"
   ]
  },
  {
   "cell_type": "code",
   "execution_count": 166,
   "id": "c0f0bf63-5c5c-49ca-935b-3d8b4f3a6557",
   "metadata": {},
   "outputs": [],
   "source": [
    "scaler = RobustScaler()\n",
    "\n",
    "x_train_scaled = pd.DataFrame(scaler.fit_transform(x_train), columns=x_train.columns)"
   ]
  },
  {
   "cell_type": "code",
   "execution_count": 167,
   "id": "2edc1602-027a-4f6e-add3-78e06ba2a174",
   "metadata": {},
   "outputs": [],
   "source": [
    "x_valid_scaled = pd.DataFrame(scaler.transform(x_valid), columns=x_valid.columns)\n",
    "x_test_scaled = pd.DataFrame(scaler.transform(x_test), columns=x_test.columns)"
   ]
  },
  {
   "cell_type": "code",
   "execution_count": 168,
   "id": "0f59bcac-ff8b-4b93-aae5-d8d3d2370452",
   "metadata": {},
   "outputs": [
    {
     "name": "stdout",
     "output_type": "stream",
     "text": [
      "\n",
      "회귀분석 모델을 만들기 전에, 각 변수의 scale에 따른 영향력을 없애기 위해 scale을 동일하게 조정해 주었다. 이상치가 존재하므로, 이상치에 민감하지 않은 robust scaler를 사용하여 변환 진행하였다.\n",
      "\n",
      "\n"
     ]
    }
   ],
   "source": [
    "print('''\n",
    "회귀분석 모델을 만들기 전에, 각 변수의 scale에 따른 영향력을 없애기 위해 scale을 동일하게 조정해 주었다. 이상치가 존재하므로, 이상치에 민감하지 않은 robust scaler를 사용하여 변환 진행하였다.\n",
    "\n",
    "''')"
   ]
  },
  {
   "cell_type": "code",
   "execution_count": 169,
   "id": "b699ca42-f7a8-4a52-813b-328bc46be292",
   "metadata": {},
   "outputs": [],
   "source": [
    "from itertools import permutations \n",
    "\n",
    "comb = list(permutations(x_train.columns, 2))\n",
    "variables= '+'.join(list(x_train.columns)) +'+' + '+'.join([':'.join(list(y)) for y in comb])"
   ]
  },
  {
   "cell_type": "code",
   "execution_count": 170,
   "id": "b642531a-47a7-4a81-9305-97f7f3e7ba63",
   "metadata": {},
   "outputs": [],
   "source": [
    "train_data = pd.concat([x_train_scaled, y_train.reset_index(drop=True)], axis=1)\n",
    "valid_data = pd.concat([x_valid_scaled, y_valid.reset_index(drop=True)], axis=1)\n",
    "test_data = pd.concat([x_test_scaled, y_test.reset_index(drop=True)], axis=1)"
   ]
  },
  {
   "cell_type": "code",
   "execution_count": 171,
   "id": "0fe409cd-9080-4db1-b130-7c25c6b76f8d",
   "metadata": {},
   "outputs": [
    {
     "data": {
      "text/html": [
       "<table class=\"simpletable\">\n",
       "<caption>OLS Regression Results</caption>\n",
       "<tr>\n",
       "  <th>Dep. Variable:</th>          <td>price</td>      <th>  R-squared:         </th> <td>   0.856</td> \n",
       "</tr>\n",
       "<tr>\n",
       "  <th>Model:</th>                   <td>OLS</td>       <th>  Adj. R-squared:    </th> <td>   0.844</td> \n",
       "</tr>\n",
       "<tr>\n",
       "  <th>Method:</th>             <td>Least Squares</td>  <th>  F-statistic:       </th> <td>   72.80</td> \n",
       "</tr>\n",
       "<tr>\n",
       "  <th>Date:</th>             <td>Sun, 27 Aug 2023</td> <th>  Prob (F-statistic):</th> <td>1.24e-294</td>\n",
       "</tr>\n",
       "<tr>\n",
       "  <th>Time:</th>                 <td>16:02:04</td>     <th>  Log-Likelihood:    </th> <td>  421.17</td> \n",
       "</tr>\n",
       "<tr>\n",
       "  <th>No. Observations:</th>      <td>   876</td>      <th>  AIC:               </th> <td>  -708.3</td> \n",
       "</tr>\n",
       "<tr>\n",
       "  <th>Df Residuals:</th>          <td>   809</td>      <th>  BIC:               </th> <td>  -388.4</td> \n",
       "</tr>\n",
       "<tr>\n",
       "  <th>Df Model:</th>              <td>    66</td>      <th>                     </th>     <td> </td>    \n",
       "</tr>\n",
       "<tr>\n",
       "  <th>Covariance Type:</th>      <td>nonrobust</td>    <th>                     </th>     <td> </td>    \n",
       "</tr>\n",
       "</table>\n",
       "<table class=\"simpletable\">\n",
       "<tr>\n",
       "                  <td></td>                     <th>coef</th>     <th>std err</th>      <th>t</th>      <th>P>|t|</th>  <th>[0.025</th>    <th>0.975]</th>  \n",
       "</tr>\n",
       "<tr>\n",
       "  <th>Intercept</th>                         <td>   11.9161</td> <td>    0.016</td> <td>  764.536</td> <td> 0.000</td> <td>   11.886</td> <td>   11.947</td>\n",
       "</tr>\n",
       "<tr>\n",
       "  <th>GarageCars</th>                        <td>    0.0298</td> <td>    0.030</td> <td>    1.005</td> <td> 0.315</td> <td>   -0.028</td> <td>    0.088</td>\n",
       "</tr>\n",
       "<tr>\n",
       "  <th>KitchenAbvGr_1</th>                    <td>    0.1654</td> <td>    0.095</td> <td>    1.741</td> <td> 0.082</td> <td>   -0.021</td> <td>    0.352</td>\n",
       "</tr>\n",
       "<tr>\n",
       "  <th>BuiltAge</th>                          <td>   -0.1353</td> <td>    0.029</td> <td>   -4.656</td> <td> 0.000</td> <td>   -0.192</td> <td>   -0.078</td>\n",
       "</tr>\n",
       "<tr>\n",
       "  <th>RemodAddAge</th>                       <td>   -0.0954</td> <td>    0.025</td> <td>   -3.834</td> <td> 0.000</td> <td>   -0.144</td> <td>   -0.047</td>\n",
       "</tr>\n",
       "<tr>\n",
       "  <th>firstFlrSF_log</th>                    <td>    0.2987</td> <td>    0.027</td> <td>   11.115</td> <td> 0.000</td> <td>    0.246</td> <td>    0.351</td>\n",
       "</tr>\n",
       "<tr>\n",
       "  <th>secondFlrSF_log</th>                   <td>    0.2877</td> <td>    0.025</td> <td>   11.686</td> <td> 0.000</td> <td>    0.239</td> <td>    0.336</td>\n",
       "</tr>\n",
       "<tr>\n",
       "  <th>BedroomAbvGr_log</th>                  <td>   -0.0474</td> <td>    0.018</td> <td>   -2.584</td> <td> 0.010</td> <td>   -0.083</td> <td>   -0.011</td>\n",
       "</tr>\n",
       "<tr>\n",
       "  <th>GarageArea_log</th>                    <td>    0.0044</td> <td>    0.016</td> <td>    0.272</td> <td> 0.786</td> <td>   -0.028</td> <td>    0.037</td>\n",
       "</tr>\n",
       "<tr>\n",
       "  <th>LotArea_log</th>                       <td>    0.0500</td> <td>    0.017</td> <td>    2.989</td> <td> 0.003</td> <td>    0.017</td> <td>    0.083</td>\n",
       "</tr>\n",
       "<tr>\n",
       "  <th>LotFrontage_log</th>                   <td>    0.0363</td> <td>    0.018</td> <td>    1.986</td> <td> 0.047</td> <td>    0.000</td> <td>    0.072</td>\n",
       "</tr>\n",
       "<tr>\n",
       "  <th>TotRmsAbvGrd_log</th>                  <td>    0.0109</td> <td>    0.012</td> <td>    0.877</td> <td> 0.381</td> <td>   -0.013</td> <td>    0.035</td>\n",
       "</tr>\n",
       "<tr>\n",
       "  <th>GarageCars:KitchenAbvGr_1</th>         <td>    0.1240</td> <td>    0.067</td> <td>    1.839</td> <td> 0.066</td> <td>   -0.008</td> <td>    0.256</td>\n",
       "</tr>\n",
       "<tr>\n",
       "  <th>GarageCars:BuiltAge</th>               <td>   -0.0169</td> <td>    0.032</td> <td>   -0.525</td> <td> 0.600</td> <td>   -0.080</td> <td>    0.046</td>\n",
       "</tr>\n",
       "<tr>\n",
       "  <th>GarageCars:RemodAddAge</th>            <td>   -0.0338</td> <td>    0.033</td> <td>   -1.032</td> <td> 0.302</td> <td>   -0.098</td> <td>    0.030</td>\n",
       "</tr>\n",
       "<tr>\n",
       "  <th>GarageCars:firstFlrSF_log</th>         <td>    0.1412</td> <td>    0.035</td> <td>    4.007</td> <td> 0.000</td> <td>    0.072</td> <td>    0.210</td>\n",
       "</tr>\n",
       "<tr>\n",
       "  <th>GarageCars:secondFlrSF_log</th>        <td>    0.1339</td> <td>    0.047</td> <td>    2.870</td> <td> 0.004</td> <td>    0.042</td> <td>    0.226</td>\n",
       "</tr>\n",
       "<tr>\n",
       "  <th>GarageCars:BedroomAbvGr_log</th>       <td>    0.0038</td> <td>    0.024</td> <td>    0.155</td> <td> 0.877</td> <td>   -0.044</td> <td>    0.051</td>\n",
       "</tr>\n",
       "<tr>\n",
       "  <th>GarageCars:GarageArea_log</th>         <td>   -0.0044</td> <td>    0.007</td> <td>   -0.608</td> <td> 0.544</td> <td>   -0.019</td> <td>    0.010</td>\n",
       "</tr>\n",
       "<tr>\n",
       "  <th>GarageCars:LotArea_log</th>            <td>    0.0050</td> <td>    0.021</td> <td>    0.242</td> <td> 0.809</td> <td>   -0.036</td> <td>    0.046</td>\n",
       "</tr>\n",
       "<tr>\n",
       "  <th>GarageCars:LotFrontage_log</th>        <td>    0.0193</td> <td>    0.022</td> <td>    0.860</td> <td> 0.390</td> <td>   -0.025</td> <td>    0.063</td>\n",
       "</tr>\n",
       "<tr>\n",
       "  <th>GarageCars:TotRmsAbvGrd_log</th>       <td>   -0.0002</td> <td>    0.018</td> <td>   -0.014</td> <td> 0.989</td> <td>   -0.036</td> <td>    0.035</td>\n",
       "</tr>\n",
       "<tr>\n",
       "  <th>KitchenAbvGr_1:BuiltAge</th>           <td>   -0.0509</td> <td>    0.060</td> <td>   -0.849</td> <td> 0.396</td> <td>   -0.169</td> <td>    0.067</td>\n",
       "</tr>\n",
       "<tr>\n",
       "  <th>KitchenAbvGr_1:RemodAddAge</th>        <td>    0.1294</td> <td>    0.076</td> <td>    1.710</td> <td> 0.088</td> <td>   -0.019</td> <td>    0.278</td>\n",
       "</tr>\n",
       "<tr>\n",
       "  <th>KitchenAbvGr_1:firstFlrSF_log</th>     <td>    0.1029</td> <td>    0.100</td> <td>    1.029</td> <td> 0.304</td> <td>   -0.093</td> <td>    0.299</td>\n",
       "</tr>\n",
       "<tr>\n",
       "  <th>KitchenAbvGr_1:secondFlrSF_log</th>    <td>    0.1776</td> <td>    0.118</td> <td>    1.499</td> <td> 0.134</td> <td>   -0.055</td> <td>    0.410</td>\n",
       "</tr>\n",
       "<tr>\n",
       "  <th>KitchenAbvGr_1:BedroomAbvGr_log</th>   <td>   -0.0174</td> <td>    0.032</td> <td>   -0.542</td> <td> 0.588</td> <td>   -0.081</td> <td>    0.046</td>\n",
       "</tr>\n",
       "<tr>\n",
       "  <th>KitchenAbvGr_1:GarageArea_log</th>     <td>   -0.0084</td> <td>    0.013</td> <td>   -0.633</td> <td> 0.527</td> <td>   -0.034</td> <td>    0.018</td>\n",
       "</tr>\n",
       "<tr>\n",
       "  <th>KitchenAbvGr_1:LotArea_log</th>        <td>    0.0463</td> <td>    0.053</td> <td>    0.874</td> <td> 0.382</td> <td>   -0.058</td> <td>    0.150</td>\n",
       "</tr>\n",
       "<tr>\n",
       "  <th>KitchenAbvGr_1:LotFrontage_log</th>    <td>    0.0177</td> <td>    0.056</td> <td>    0.316</td> <td> 0.752</td> <td>   -0.092</td> <td>    0.128</td>\n",
       "</tr>\n",
       "<tr>\n",
       "  <th>KitchenAbvGr_1:TotRmsAbvGrd_log</th>   <td>   -0.0283</td> <td>    0.035</td> <td>   -0.802</td> <td> 0.423</td> <td>   -0.097</td> <td>    0.041</td>\n",
       "</tr>\n",
       "<tr>\n",
       "  <th>BuiltAge:RemodAddAge</th>              <td>   -0.0428</td> <td>    0.024</td> <td>   -1.760</td> <td> 0.079</td> <td>   -0.091</td> <td>    0.005</td>\n",
       "</tr>\n",
       "<tr>\n",
       "  <th>BuiltAge:firstFlrSF_log</th>           <td>   -0.0413</td> <td>    0.029</td> <td>   -1.433</td> <td> 0.152</td> <td>   -0.098</td> <td>    0.015</td>\n",
       "</tr>\n",
       "<tr>\n",
       "  <th>BuiltAge:secondFlrSF_log</th>          <td>    0.0083</td> <td>    0.043</td> <td>    0.192</td> <td> 0.848</td> <td>   -0.076</td> <td>    0.093</td>\n",
       "</tr>\n",
       "<tr>\n",
       "  <th>BuiltAge:BedroomAbvGr_log</th>         <td>    0.0561</td> <td>    0.027</td> <td>    2.100</td> <td> 0.036</td> <td>    0.004</td> <td>    0.109</td>\n",
       "</tr>\n",
       "<tr>\n",
       "  <th>BuiltAge:GarageArea_log</th>           <td>    0.0010</td> <td>    0.006</td> <td>    0.164</td> <td> 0.870</td> <td>   -0.011</td> <td>    0.013</td>\n",
       "</tr>\n",
       "<tr>\n",
       "  <th>BuiltAge:LotArea_log</th>              <td>    0.0260</td> <td>    0.016</td> <td>    1.603</td> <td> 0.109</td> <td>   -0.006</td> <td>    0.058</td>\n",
       "</tr>\n",
       "<tr>\n",
       "  <th>BuiltAge:LotFrontage_log</th>          <td>   -0.0127</td> <td>    0.020</td> <td>   -0.648</td> <td> 0.517</td> <td>   -0.051</td> <td>    0.026</td>\n",
       "</tr>\n",
       "<tr>\n",
       "  <th>BuiltAge:TotRmsAbvGrd_log</th>         <td>    0.0108</td> <td>    0.016</td> <td>    0.684</td> <td> 0.494</td> <td>   -0.020</td> <td>    0.042</td>\n",
       "</tr>\n",
       "<tr>\n",
       "  <th>RemodAddAge:firstFlrSF_log</th>        <td>    0.0181</td> <td>    0.032</td> <td>    0.570</td> <td> 0.569</td> <td>   -0.044</td> <td>    0.081</td>\n",
       "</tr>\n",
       "<tr>\n",
       "  <th>RemodAddAge:secondFlrSF_log</th>       <td>   -0.0518</td> <td>    0.041</td> <td>   -1.277</td> <td> 0.202</td> <td>   -0.131</td> <td>    0.028</td>\n",
       "</tr>\n",
       "<tr>\n",
       "  <th>RemodAddAge:BedroomAbvGr_log</th>      <td>   -0.0156</td> <td>    0.025</td> <td>   -0.631</td> <td> 0.528</td> <td>   -0.064</td> <td>    0.033</td>\n",
       "</tr>\n",
       "<tr>\n",
       "  <th>RemodAddAge:GarageArea_log</th>        <td>   -0.0021</td> <td>    0.006</td> <td>   -0.358</td> <td> 0.721</td> <td>   -0.014</td> <td>    0.009</td>\n",
       "</tr>\n",
       "<tr>\n",
       "  <th>RemodAddAge:LotArea_log</th>           <td>   -0.0205</td> <td>    0.015</td> <td>   -1.351</td> <td> 0.177</td> <td>   -0.050</td> <td>    0.009</td>\n",
       "</tr>\n",
       "<tr>\n",
       "  <th>RemodAddAge:LotFrontage_log</th>       <td>    0.0201</td> <td>    0.022</td> <td>    0.902</td> <td> 0.367</td> <td>   -0.024</td> <td>    0.064</td>\n",
       "</tr>\n",
       "<tr>\n",
       "  <th>RemodAddAge:TotRmsAbvGrd_log</th>      <td>    0.0150</td> <td>    0.016</td> <td>    0.940</td> <td> 0.348</td> <td>   -0.016</td> <td>    0.046</td>\n",
       "</tr>\n",
       "<tr>\n",
       "  <th>firstFlrSF_log:secondFlrSF_log</th>    <td>   -0.0644</td> <td>    0.035</td> <td>   -1.844</td> <td> 0.066</td> <td>   -0.133</td> <td>    0.004</td>\n",
       "</tr>\n",
       "<tr>\n",
       "  <th>firstFlrSF_log:BedroomAbvGr_log</th>   <td>   -0.0416</td> <td>    0.025</td> <td>   -1.697</td> <td> 0.090</td> <td>   -0.090</td> <td>    0.007</td>\n",
       "</tr>\n",
       "<tr>\n",
       "  <th>firstFlrSF_log:GarageArea_log</th>     <td>   -0.0253</td> <td>    0.008</td> <td>   -3.199</td> <td> 0.001</td> <td>   -0.041</td> <td>   -0.010</td>\n",
       "</tr>\n",
       "<tr>\n",
       "  <th>firstFlrSF_log:LotArea_log</th>        <td>    0.0111</td> <td>    0.017</td> <td>    0.647</td> <td> 0.518</td> <td>   -0.022</td> <td>    0.045</td>\n",
       "</tr>\n",
       "<tr>\n",
       "  <th>firstFlrSF_log:LotFrontage_log</th>    <td>   -0.0639</td> <td>    0.020</td> <td>   -3.244</td> <td> 0.001</td> <td>   -0.103</td> <td>   -0.025</td>\n",
       "</tr>\n",
       "<tr>\n",
       "  <th>firstFlrSF_log:TotRmsAbvGrd_log</th>   <td>    0.0043</td> <td>    0.011</td> <td>    0.406</td> <td> 0.685</td> <td>   -0.016</td> <td>    0.025</td>\n",
       "</tr>\n",
       "<tr>\n",
       "  <th>secondFlrSF_log:BedroomAbvGr_log</th>  <td>    0.0055</td> <td>    0.028</td> <td>    0.197</td> <td> 0.844</td> <td>   -0.049</td> <td>    0.060</td>\n",
       "</tr>\n",
       "<tr>\n",
       "  <th>secondFlrSF_log:GarageArea_log</th>    <td>   -0.0154</td> <td>    0.010</td> <td>   -1.521</td> <td> 0.129</td> <td>   -0.035</td> <td>    0.004</td>\n",
       "</tr>\n",
       "<tr>\n",
       "  <th>secondFlrSF_log:LotArea_log</th>       <td>   -0.0340</td> <td>    0.024</td> <td>   -1.444</td> <td> 0.149</td> <td>   -0.080</td> <td>    0.012</td>\n",
       "</tr>\n",
       "<tr>\n",
       "  <th>secondFlrSF_log:LotFrontage_log</th>   <td>   -0.0377</td> <td>    0.029</td> <td>   -1.287</td> <td> 0.198</td> <td>   -0.095</td> <td>    0.020</td>\n",
       "</tr>\n",
       "<tr>\n",
       "  <th>secondFlrSF_log:TotRmsAbvGrd_log</th>  <td>    0.0158</td> <td>    0.017</td> <td>    0.948</td> <td> 0.343</td> <td>   -0.017</td> <td>    0.048</td>\n",
       "</tr>\n",
       "<tr>\n",
       "  <th>BedroomAbvGr_log:GarageArea_log</th>   <td>   -0.0040</td> <td>    0.006</td> <td>   -0.652</td> <td> 0.515</td> <td>   -0.016</td> <td>    0.008</td>\n",
       "</tr>\n",
       "<tr>\n",
       "  <th>BedroomAbvGr_log:LotArea_log</th>      <td>    0.0122</td> <td>    0.011</td> <td>    1.151</td> <td> 0.250</td> <td>   -0.009</td> <td>    0.033</td>\n",
       "</tr>\n",
       "<tr>\n",
       "  <th>BedroomAbvGr_log:LotFrontage_log</th>  <td>    0.0002</td> <td>    0.013</td> <td>    0.012</td> <td> 0.990</td> <td>   -0.026</td> <td>    0.026</td>\n",
       "</tr>\n",
       "<tr>\n",
       "  <th>BedroomAbvGr_log:TotRmsAbvGrd_log</th> <td>    0.0016</td> <td>    0.006</td> <td>    0.264</td> <td> 0.792</td> <td>   -0.010</td> <td>    0.013</td>\n",
       "</tr>\n",
       "<tr>\n",
       "  <th>GarageArea_log:LotArea_log</th>        <td>   -0.0037</td> <td>    0.004</td> <td>   -0.822</td> <td> 0.411</td> <td>   -0.012</td> <td>    0.005</td>\n",
       "</tr>\n",
       "<tr>\n",
       "  <th>GarageArea_log:LotFrontage_log</th>    <td>    0.0059</td> <td>    0.005</td> <td>    1.127</td> <td> 0.260</td> <td>   -0.004</td> <td>    0.016</td>\n",
       "</tr>\n",
       "<tr>\n",
       "  <th>GarageArea_log:TotRmsAbvGrd_log</th>   <td>    0.0028</td> <td>    0.004</td> <td>    0.668</td> <td> 0.505</td> <td>   -0.005</td> <td>    0.011</td>\n",
       "</tr>\n",
       "<tr>\n",
       "  <th>LotArea_log:LotFrontage_log</th>       <td>   -0.0035</td> <td>    0.004</td> <td>   -0.781</td> <td> 0.435</td> <td>   -0.012</td> <td>    0.005</td>\n",
       "</tr>\n",
       "<tr>\n",
       "  <th>LotArea_log:TotRmsAbvGrd_log</th>      <td>   -0.0038</td> <td>    0.008</td> <td>   -0.486</td> <td> 0.627</td> <td>   -0.019</td> <td>    0.011</td>\n",
       "</tr>\n",
       "<tr>\n",
       "  <th>LotFrontage_log:TotRmsAbvGrd_log</th>  <td>    0.0160</td> <td>    0.010</td> <td>    1.576</td> <td> 0.116</td> <td>   -0.004</td> <td>    0.036</td>\n",
       "</tr>\n",
       "</table>\n",
       "<table class=\"simpletable\">\n",
       "<tr>\n",
       "  <th>Omnibus:</th>       <td>140.808</td> <th>  Durbin-Watson:     </th> <td>   2.065</td> \n",
       "</tr>\n",
       "<tr>\n",
       "  <th>Prob(Omnibus):</th> <td> 0.000</td>  <th>  Jarque-Bera (JB):  </th> <td> 716.608</td> \n",
       "</tr>\n",
       "<tr>\n",
       "  <th>Skew:</th>          <td>-0.626</td>  <th>  Prob(JB):          </th> <td>2.46e-156</td>\n",
       "</tr>\n",
       "<tr>\n",
       "  <th>Kurtosis:</th>      <td> 7.250</td>  <th>  Cond. No.          </th> <td>    278.</td> \n",
       "</tr>\n",
       "</table><br/><br/>Notes:<br/>[1] Standard Errors assume that the covariance matrix of the errors is correctly specified."
      ],
      "text/latex": [
       "\\begin{center}\n",
       "\\begin{tabular}{lclc}\n",
       "\\toprule\n",
       "\\textbf{Dep. Variable:}                      &      price       & \\textbf{  R-squared:         } &     0.856   \\\\\n",
       "\\textbf{Model:}                              &       OLS        & \\textbf{  Adj. R-squared:    } &     0.844   \\\\\n",
       "\\textbf{Method:}                             &  Least Squares   & \\textbf{  F-statistic:       } &     72.80   \\\\\n",
       "\\textbf{Date:}                               & Sun, 27 Aug 2023 & \\textbf{  Prob (F-statistic):} & 1.24e-294   \\\\\n",
       "\\textbf{Time:}                               &     16:02:04     & \\textbf{  Log-Likelihood:    } &    421.17   \\\\\n",
       "\\textbf{No. Observations:}                   &         876      & \\textbf{  AIC:               } &    -708.3   \\\\\n",
       "\\textbf{Df Residuals:}                       &         809      & \\textbf{  BIC:               } &    -388.4   \\\\\n",
       "\\textbf{Df Model:}                           &          66      & \\textbf{                     } &             \\\\\n",
       "\\textbf{Covariance Type:}                    &    nonrobust     & \\textbf{                     } &             \\\\\n",
       "\\bottomrule\n",
       "\\end{tabular}\n",
       "\\begin{tabular}{lcccccc}\n",
       "                                             & \\textbf{coef} & \\textbf{std err} & \\textbf{t} & \\textbf{P$> |$t$|$} & \\textbf{[0.025} & \\textbf{0.975]}  \\\\\n",
       "\\midrule\n",
       "\\textbf{Intercept}                           &      11.9161  &        0.016     &   764.536  &         0.000        &       11.886    &       11.947     \\\\\n",
       "\\textbf{GarageCars}                          &       0.0298  &        0.030     &     1.005  &         0.315        &       -0.028    &        0.088     \\\\\n",
       "\\textbf{KitchenAbvGr\\_1}                     &       0.1654  &        0.095     &     1.741  &         0.082        &       -0.021    &        0.352     \\\\\n",
       "\\textbf{BuiltAge}                            &      -0.1353  &        0.029     &    -4.656  &         0.000        &       -0.192    &       -0.078     \\\\\n",
       "\\textbf{RemodAddAge}                         &      -0.0954  &        0.025     &    -3.834  &         0.000        &       -0.144    &       -0.047     \\\\\n",
       "\\textbf{firstFlrSF\\_log}                     &       0.2987  &        0.027     &    11.115  &         0.000        &        0.246    &        0.351     \\\\\n",
       "\\textbf{secondFlrSF\\_log}                    &       0.2877  &        0.025     &    11.686  &         0.000        &        0.239    &        0.336     \\\\\n",
       "\\textbf{BedroomAbvGr\\_log}                   &      -0.0474  &        0.018     &    -2.584  &         0.010        &       -0.083    &       -0.011     \\\\\n",
       "\\textbf{GarageArea\\_log}                     &       0.0044  &        0.016     &     0.272  &         0.786        &       -0.028    &        0.037     \\\\\n",
       "\\textbf{LotArea\\_log}                        &       0.0500  &        0.017     &     2.989  &         0.003        &        0.017    &        0.083     \\\\\n",
       "\\textbf{LotFrontage\\_log}                    &       0.0363  &        0.018     &     1.986  &         0.047        &        0.000    &        0.072     \\\\\n",
       "\\textbf{TotRmsAbvGrd\\_log}                   &       0.0109  &        0.012     &     0.877  &         0.381        &       -0.013    &        0.035     \\\\\n",
       "\\textbf{GarageCars:KitchenAbvGr\\_1}          &       0.1240  &        0.067     &     1.839  &         0.066        &       -0.008    &        0.256     \\\\\n",
       "\\textbf{GarageCars:BuiltAge}                 &      -0.0169  &        0.032     &    -0.525  &         0.600        &       -0.080    &        0.046     \\\\\n",
       "\\textbf{GarageCars:RemodAddAge}              &      -0.0338  &        0.033     &    -1.032  &         0.302        &       -0.098    &        0.030     \\\\\n",
       "\\textbf{GarageCars:firstFlrSF\\_log}          &       0.1412  &        0.035     &     4.007  &         0.000        &        0.072    &        0.210     \\\\\n",
       "\\textbf{GarageCars:secondFlrSF\\_log}         &       0.1339  &        0.047     &     2.870  &         0.004        &        0.042    &        0.226     \\\\\n",
       "\\textbf{GarageCars:BedroomAbvGr\\_log}        &       0.0038  &        0.024     &     0.155  &         0.877        &       -0.044    &        0.051     \\\\\n",
       "\\textbf{GarageCars:GarageArea\\_log}          &      -0.0044  &        0.007     &    -0.608  &         0.544        &       -0.019    &        0.010     \\\\\n",
       "\\textbf{GarageCars:LotArea\\_log}             &       0.0050  &        0.021     &     0.242  &         0.809        &       -0.036    &        0.046     \\\\\n",
       "\\textbf{GarageCars:LotFrontage\\_log}         &       0.0193  &        0.022     &     0.860  &         0.390        &       -0.025    &        0.063     \\\\\n",
       "\\textbf{GarageCars:TotRmsAbvGrd\\_log}        &      -0.0002  &        0.018     &    -0.014  &         0.989        &       -0.036    &        0.035     \\\\\n",
       "\\textbf{KitchenAbvGr\\_1:BuiltAge}            &      -0.0509  &        0.060     &    -0.849  &         0.396        &       -0.169    &        0.067     \\\\\n",
       "\\textbf{KitchenAbvGr\\_1:RemodAddAge}         &       0.1294  &        0.076     &     1.710  &         0.088        &       -0.019    &        0.278     \\\\\n",
       "\\textbf{KitchenAbvGr\\_1:firstFlrSF\\_log}     &       0.1029  &        0.100     &     1.029  &         0.304        &       -0.093    &        0.299     \\\\\n",
       "\\textbf{KitchenAbvGr\\_1:secondFlrSF\\_log}    &       0.1776  &        0.118     &     1.499  &         0.134        &       -0.055    &        0.410     \\\\\n",
       "\\textbf{KitchenAbvGr\\_1:BedroomAbvGr\\_log}   &      -0.0174  &        0.032     &    -0.542  &         0.588        &       -0.081    &        0.046     \\\\\n",
       "\\textbf{KitchenAbvGr\\_1:GarageArea\\_log}     &      -0.0084  &        0.013     &    -0.633  &         0.527        &       -0.034    &        0.018     \\\\\n",
       "\\textbf{KitchenAbvGr\\_1:LotArea\\_log}        &       0.0463  &        0.053     &     0.874  &         0.382        &       -0.058    &        0.150     \\\\\n",
       "\\textbf{KitchenAbvGr\\_1:LotFrontage\\_log}    &       0.0177  &        0.056     &     0.316  &         0.752        &       -0.092    &        0.128     \\\\\n",
       "\\textbf{KitchenAbvGr\\_1:TotRmsAbvGrd\\_log}   &      -0.0283  &        0.035     &    -0.802  &         0.423        &       -0.097    &        0.041     \\\\\n",
       "\\textbf{BuiltAge:RemodAddAge}                &      -0.0428  &        0.024     &    -1.760  &         0.079        &       -0.091    &        0.005     \\\\\n",
       "\\textbf{BuiltAge:firstFlrSF\\_log}            &      -0.0413  &        0.029     &    -1.433  &         0.152        &       -0.098    &        0.015     \\\\\n",
       "\\textbf{BuiltAge:secondFlrSF\\_log}           &       0.0083  &        0.043     &     0.192  &         0.848        &       -0.076    &        0.093     \\\\\n",
       "\\textbf{BuiltAge:BedroomAbvGr\\_log}          &       0.0561  &        0.027     &     2.100  &         0.036        &        0.004    &        0.109     \\\\\n",
       "\\textbf{BuiltAge:GarageArea\\_log}            &       0.0010  &        0.006     &     0.164  &         0.870        &       -0.011    &        0.013     \\\\\n",
       "\\textbf{BuiltAge:LotArea\\_log}               &       0.0260  &        0.016     &     1.603  &         0.109        &       -0.006    &        0.058     \\\\\n",
       "\\textbf{BuiltAge:LotFrontage\\_log}           &      -0.0127  &        0.020     &    -0.648  &         0.517        &       -0.051    &        0.026     \\\\\n",
       "\\textbf{BuiltAge:TotRmsAbvGrd\\_log}          &       0.0108  &        0.016     &     0.684  &         0.494        &       -0.020    &        0.042     \\\\\n",
       "\\textbf{RemodAddAge:firstFlrSF\\_log}         &       0.0181  &        0.032     &     0.570  &         0.569        &       -0.044    &        0.081     \\\\\n",
       "\\textbf{RemodAddAge:secondFlrSF\\_log}        &      -0.0518  &        0.041     &    -1.277  &         0.202        &       -0.131    &        0.028     \\\\\n",
       "\\textbf{RemodAddAge:BedroomAbvGr\\_log}       &      -0.0156  &        0.025     &    -0.631  &         0.528        &       -0.064    &        0.033     \\\\\n",
       "\\textbf{RemodAddAge:GarageArea\\_log}         &      -0.0021  &        0.006     &    -0.358  &         0.721        &       -0.014    &        0.009     \\\\\n",
       "\\textbf{RemodAddAge:LotArea\\_log}            &      -0.0205  &        0.015     &    -1.351  &         0.177        &       -0.050    &        0.009     \\\\\n",
       "\\textbf{RemodAddAge:LotFrontage\\_log}        &       0.0201  &        0.022     &     0.902  &         0.367        &       -0.024    &        0.064     \\\\\n",
       "\\textbf{RemodAddAge:TotRmsAbvGrd\\_log}       &       0.0150  &        0.016     &     0.940  &         0.348        &       -0.016    &        0.046     \\\\\n",
       "\\textbf{firstFlrSF\\_log:secondFlrSF\\_log}    &      -0.0644  &        0.035     &    -1.844  &         0.066        &       -0.133    &        0.004     \\\\\n",
       "\\textbf{firstFlrSF\\_log:BedroomAbvGr\\_log}   &      -0.0416  &        0.025     &    -1.697  &         0.090        &       -0.090    &        0.007     \\\\\n",
       "\\textbf{firstFlrSF\\_log:GarageArea\\_log}     &      -0.0253  &        0.008     &    -3.199  &         0.001        &       -0.041    &       -0.010     \\\\\n",
       "\\textbf{firstFlrSF\\_log:LotArea\\_log}        &       0.0111  &        0.017     &     0.647  &         0.518        &       -0.022    &        0.045     \\\\\n",
       "\\textbf{firstFlrSF\\_log:LotFrontage\\_log}    &      -0.0639  &        0.020     &    -3.244  &         0.001        &       -0.103    &       -0.025     \\\\\n",
       "\\textbf{firstFlrSF\\_log:TotRmsAbvGrd\\_log}   &       0.0043  &        0.011     &     0.406  &         0.685        &       -0.016    &        0.025     \\\\\n",
       "\\textbf{secondFlrSF\\_log:BedroomAbvGr\\_log}  &       0.0055  &        0.028     &     0.197  &         0.844        &       -0.049    &        0.060     \\\\\n",
       "\\textbf{secondFlrSF\\_log:GarageArea\\_log}    &      -0.0154  &        0.010     &    -1.521  &         0.129        &       -0.035    &        0.004     \\\\\n",
       "\\textbf{secondFlrSF\\_log:LotArea\\_log}       &      -0.0340  &        0.024     &    -1.444  &         0.149        &       -0.080    &        0.012     \\\\\n",
       "\\textbf{secondFlrSF\\_log:LotFrontage\\_log}   &      -0.0377  &        0.029     &    -1.287  &         0.198        &       -0.095    &        0.020     \\\\\n",
       "\\textbf{secondFlrSF\\_log:TotRmsAbvGrd\\_log}  &       0.0158  &        0.017     &     0.948  &         0.343        &       -0.017    &        0.048     \\\\\n",
       "\\textbf{BedroomAbvGr\\_log:GarageArea\\_log}   &      -0.0040  &        0.006     &    -0.652  &         0.515        &       -0.016    &        0.008     \\\\\n",
       "\\textbf{BedroomAbvGr\\_log:LotArea\\_log}      &       0.0122  &        0.011     &     1.151  &         0.250        &       -0.009    &        0.033     \\\\\n",
       "\\textbf{BedroomAbvGr\\_log:LotFrontage\\_log}  &       0.0002  &        0.013     &     0.012  &         0.990        &       -0.026    &        0.026     \\\\\n",
       "\\textbf{BedroomAbvGr\\_log:TotRmsAbvGrd\\_log} &       0.0016  &        0.006     &     0.264  &         0.792        &       -0.010    &        0.013     \\\\\n",
       "\\textbf{GarageArea\\_log:LotArea\\_log}        &      -0.0037  &        0.004     &    -0.822  &         0.411        &       -0.012    &        0.005     \\\\\n",
       "\\textbf{GarageArea\\_log:LotFrontage\\_log}    &       0.0059  &        0.005     &     1.127  &         0.260        &       -0.004    &        0.016     \\\\\n",
       "\\textbf{GarageArea\\_log:TotRmsAbvGrd\\_log}   &       0.0028  &        0.004     &     0.668  &         0.505        &       -0.005    &        0.011     \\\\\n",
       "\\textbf{LotArea\\_log:LotFrontage\\_log}       &      -0.0035  &        0.004     &    -0.781  &         0.435        &       -0.012    &        0.005     \\\\\n",
       "\\textbf{LotArea\\_log:TotRmsAbvGrd\\_log}      &      -0.0038  &        0.008     &    -0.486  &         0.627        &       -0.019    &        0.011     \\\\\n",
       "\\textbf{LotFrontage\\_log:TotRmsAbvGrd\\_log}  &       0.0160  &        0.010     &     1.576  &         0.116        &       -0.004    &        0.036     \\\\\n",
       "\\bottomrule\n",
       "\\end{tabular}\n",
       "\\begin{tabular}{lclc}\n",
       "\\textbf{Omnibus:}       & 140.808 & \\textbf{  Durbin-Watson:     } &     2.065  \\\\\n",
       "\\textbf{Prob(Omnibus):} &   0.000 & \\textbf{  Jarque-Bera (JB):  } &   716.608  \\\\\n",
       "\\textbf{Skew:}          &  -0.626 & \\textbf{  Prob(JB):          } & 2.46e-156  \\\\\n",
       "\\textbf{Kurtosis:}      &   7.250 & \\textbf{  Cond. No.          } &      278.  \\\\\n",
       "\\bottomrule\n",
       "\\end{tabular}\n",
       "%\\caption{OLS Regression Results}\n",
       "\\end{center}\n",
       "\n",
       "Notes: \\newline\n",
       " [1] Standard Errors assume that the covariance matrix of the errors is correctly specified."
      ],
      "text/plain": [
       "<class 'statsmodels.iolib.summary.Summary'>\n",
       "\"\"\"\n",
       "                            OLS Regression Results                            \n",
       "==============================================================================\n",
       "Dep. Variable:                  price   R-squared:                       0.856\n",
       "Model:                            OLS   Adj. R-squared:                  0.844\n",
       "Method:                 Least Squares   F-statistic:                     72.80\n",
       "Date:                Sun, 27 Aug 2023   Prob (F-statistic):          1.24e-294\n",
       "Time:                        16:02:04   Log-Likelihood:                 421.17\n",
       "No. Observations:                 876   AIC:                            -708.3\n",
       "Df Residuals:                     809   BIC:                            -388.4\n",
       "Df Model:                          66                                         \n",
       "Covariance Type:            nonrobust                                         \n",
       "=====================================================================================================\n",
       "                                        coef    std err          t      P>|t|      [0.025      0.975]\n",
       "-----------------------------------------------------------------------------------------------------\n",
       "Intercept                            11.9161      0.016    764.536      0.000      11.886      11.947\n",
       "GarageCars                            0.0298      0.030      1.005      0.315      -0.028       0.088\n",
       "KitchenAbvGr_1                        0.1654      0.095      1.741      0.082      -0.021       0.352\n",
       "BuiltAge                             -0.1353      0.029     -4.656      0.000      -0.192      -0.078\n",
       "RemodAddAge                          -0.0954      0.025     -3.834      0.000      -0.144      -0.047\n",
       "firstFlrSF_log                        0.2987      0.027     11.115      0.000       0.246       0.351\n",
       "secondFlrSF_log                       0.2877      0.025     11.686      0.000       0.239       0.336\n",
       "BedroomAbvGr_log                     -0.0474      0.018     -2.584      0.010      -0.083      -0.011\n",
       "GarageArea_log                        0.0044      0.016      0.272      0.786      -0.028       0.037\n",
       "LotArea_log                           0.0500      0.017      2.989      0.003       0.017       0.083\n",
       "LotFrontage_log                       0.0363      0.018      1.986      0.047       0.000       0.072\n",
       "TotRmsAbvGrd_log                      0.0109      0.012      0.877      0.381      -0.013       0.035\n",
       "GarageCars:KitchenAbvGr_1             0.1240      0.067      1.839      0.066      -0.008       0.256\n",
       "GarageCars:BuiltAge                  -0.0169      0.032     -0.525      0.600      -0.080       0.046\n",
       "GarageCars:RemodAddAge               -0.0338      0.033     -1.032      0.302      -0.098       0.030\n",
       "GarageCars:firstFlrSF_log             0.1412      0.035      4.007      0.000       0.072       0.210\n",
       "GarageCars:secondFlrSF_log            0.1339      0.047      2.870      0.004       0.042       0.226\n",
       "GarageCars:BedroomAbvGr_log           0.0038      0.024      0.155      0.877      -0.044       0.051\n",
       "GarageCars:GarageArea_log            -0.0044      0.007     -0.608      0.544      -0.019       0.010\n",
       "GarageCars:LotArea_log                0.0050      0.021      0.242      0.809      -0.036       0.046\n",
       "GarageCars:LotFrontage_log            0.0193      0.022      0.860      0.390      -0.025       0.063\n",
       "GarageCars:TotRmsAbvGrd_log          -0.0002      0.018     -0.014      0.989      -0.036       0.035\n",
       "KitchenAbvGr_1:BuiltAge              -0.0509      0.060     -0.849      0.396      -0.169       0.067\n",
       "KitchenAbvGr_1:RemodAddAge            0.1294      0.076      1.710      0.088      -0.019       0.278\n",
       "KitchenAbvGr_1:firstFlrSF_log         0.1029      0.100      1.029      0.304      -0.093       0.299\n",
       "KitchenAbvGr_1:secondFlrSF_log        0.1776      0.118      1.499      0.134      -0.055       0.410\n",
       "KitchenAbvGr_1:BedroomAbvGr_log      -0.0174      0.032     -0.542      0.588      -0.081       0.046\n",
       "KitchenAbvGr_1:GarageArea_log        -0.0084      0.013     -0.633      0.527      -0.034       0.018\n",
       "KitchenAbvGr_1:LotArea_log            0.0463      0.053      0.874      0.382      -0.058       0.150\n",
       "KitchenAbvGr_1:LotFrontage_log        0.0177      0.056      0.316      0.752      -0.092       0.128\n",
       "KitchenAbvGr_1:TotRmsAbvGrd_log      -0.0283      0.035     -0.802      0.423      -0.097       0.041\n",
       "BuiltAge:RemodAddAge                 -0.0428      0.024     -1.760      0.079      -0.091       0.005\n",
       "BuiltAge:firstFlrSF_log              -0.0413      0.029     -1.433      0.152      -0.098       0.015\n",
       "BuiltAge:secondFlrSF_log              0.0083      0.043      0.192      0.848      -0.076       0.093\n",
       "BuiltAge:BedroomAbvGr_log             0.0561      0.027      2.100      0.036       0.004       0.109\n",
       "BuiltAge:GarageArea_log               0.0010      0.006      0.164      0.870      -0.011       0.013\n",
       "BuiltAge:LotArea_log                  0.0260      0.016      1.603      0.109      -0.006       0.058\n",
       "BuiltAge:LotFrontage_log             -0.0127      0.020     -0.648      0.517      -0.051       0.026\n",
       "BuiltAge:TotRmsAbvGrd_log             0.0108      0.016      0.684      0.494      -0.020       0.042\n",
       "RemodAddAge:firstFlrSF_log            0.0181      0.032      0.570      0.569      -0.044       0.081\n",
       "RemodAddAge:secondFlrSF_log          -0.0518      0.041     -1.277      0.202      -0.131       0.028\n",
       "RemodAddAge:BedroomAbvGr_log         -0.0156      0.025     -0.631      0.528      -0.064       0.033\n",
       "RemodAddAge:GarageArea_log           -0.0021      0.006     -0.358      0.721      -0.014       0.009\n",
       "RemodAddAge:LotArea_log              -0.0205      0.015     -1.351      0.177      -0.050       0.009\n",
       "RemodAddAge:LotFrontage_log           0.0201      0.022      0.902      0.367      -0.024       0.064\n",
       "RemodAddAge:TotRmsAbvGrd_log          0.0150      0.016      0.940      0.348      -0.016       0.046\n",
       "firstFlrSF_log:secondFlrSF_log       -0.0644      0.035     -1.844      0.066      -0.133       0.004\n",
       "firstFlrSF_log:BedroomAbvGr_log      -0.0416      0.025     -1.697      0.090      -0.090       0.007\n",
       "firstFlrSF_log:GarageArea_log        -0.0253      0.008     -3.199      0.001      -0.041      -0.010\n",
       "firstFlrSF_log:LotArea_log            0.0111      0.017      0.647      0.518      -0.022       0.045\n",
       "firstFlrSF_log:LotFrontage_log       -0.0639      0.020     -3.244      0.001      -0.103      -0.025\n",
       "firstFlrSF_log:TotRmsAbvGrd_log       0.0043      0.011      0.406      0.685      -0.016       0.025\n",
       "secondFlrSF_log:BedroomAbvGr_log      0.0055      0.028      0.197      0.844      -0.049       0.060\n",
       "secondFlrSF_log:GarageArea_log       -0.0154      0.010     -1.521      0.129      -0.035       0.004\n",
       "secondFlrSF_log:LotArea_log          -0.0340      0.024     -1.444      0.149      -0.080       0.012\n",
       "secondFlrSF_log:LotFrontage_log      -0.0377      0.029     -1.287      0.198      -0.095       0.020\n",
       "secondFlrSF_log:TotRmsAbvGrd_log      0.0158      0.017      0.948      0.343      -0.017       0.048\n",
       "BedroomAbvGr_log:GarageArea_log      -0.0040      0.006     -0.652      0.515      -0.016       0.008\n",
       "BedroomAbvGr_log:LotArea_log          0.0122      0.011      1.151      0.250      -0.009       0.033\n",
       "BedroomAbvGr_log:LotFrontage_log      0.0002      0.013      0.012      0.990      -0.026       0.026\n",
       "BedroomAbvGr_log:TotRmsAbvGrd_log     0.0016      0.006      0.264      0.792      -0.010       0.013\n",
       "GarageArea_log:LotArea_log           -0.0037      0.004     -0.822      0.411      -0.012       0.005\n",
       "GarageArea_log:LotFrontage_log        0.0059      0.005      1.127      0.260      -0.004       0.016\n",
       "GarageArea_log:TotRmsAbvGrd_log       0.0028      0.004      0.668      0.505      -0.005       0.011\n",
       "LotArea_log:LotFrontage_log          -0.0035      0.004     -0.781      0.435      -0.012       0.005\n",
       "LotArea_log:TotRmsAbvGrd_log         -0.0038      0.008     -0.486      0.627      -0.019       0.011\n",
       "LotFrontage_log:TotRmsAbvGrd_log      0.0160      0.010      1.576      0.116      -0.004       0.036\n",
       "==============================================================================\n",
       "Omnibus:                      140.808   Durbin-Watson:                   2.065\n",
       "Prob(Omnibus):                  0.000   Jarque-Bera (JB):              716.608\n",
       "Skew:                          -0.626   Prob(JB):                    2.46e-156\n",
       "Kurtosis:                       7.250   Cond. No.                         278.\n",
       "==============================================================================\n",
       "\n",
       "Notes:\n",
       "[1] Standard Errors assume that the covariance matrix of the errors is correctly specified.\n",
       "\"\"\""
      ]
     },
     "execution_count": 171,
     "metadata": {},
     "output_type": "execute_result"
    }
   ],
   "source": [
    "from statsmodels.formula.api import ols\n",
    "\n",
    "lm = ols(f'price ~ {variables}', data=train_data).fit()\n",
    "lm.summary()"
   ]
  },
  {
   "cell_type": "code",
   "execution_count": 172,
   "id": "4ae3d85c-9583-4cd9-801c-5b7f5f4584b6",
   "metadata": {},
   "outputs": [],
   "source": [
    "from itertools import permutations \n",
    "\n",
    "comb = list(permutations(x_train.columns.difference(['GarageArea_log', 'TotRmsAbvGrd_log']), 2))\n",
    "variables= '+'.join(list(x_train.columns.difference(['GarageArea_log', 'TotRmsAbvGrd_log']))) +'+' + '+'.join([':'.join(list(y)) for y in comb])"
   ]
  },
  {
   "cell_type": "code",
   "execution_count": 175,
   "id": "a891c720-9c44-4950-8199-07accc147584",
   "metadata": {},
   "outputs": [
    {
     "data": {
      "text/html": [
       "<table class=\"simpletable\">\n",
       "<caption>OLS Regression Results</caption>\n",
       "<tr>\n",
       "  <th>Dep. Variable:</th>          <td>price</td>      <th>  R-squared:         </th> <td>   0.828</td> \n",
       "</tr>\n",
       "<tr>\n",
       "  <th>Model:</th>                   <td>OLS</td>       <th>  Adj. R-squared:    </th> <td>   0.825</td> \n",
       "</tr>\n",
       "<tr>\n",
       "  <th>Method:</th>             <td>Least Squares</td>  <th>  F-statistic:       </th> <td>   258.8</td> \n",
       "</tr>\n",
       "<tr>\n",
       "  <th>Date:</th>             <td>Sun, 27 Aug 2023</td> <th>  Prob (F-statistic):</th> <td>4.42e-315</td>\n",
       "</tr>\n",
       "<tr>\n",
       "  <th>Time:</th>                 <td>16:05:22</td>     <th>  Log-Likelihood:    </th> <td>  344.16</td> \n",
       "</tr>\n",
       "<tr>\n",
       "  <th>No. Observations:</th>      <td>   876</td>      <th>  AIC:               </th> <td>  -654.3</td> \n",
       "</tr>\n",
       "<tr>\n",
       "  <th>Df Residuals:</th>          <td>   859</td>      <th>  BIC:               </th> <td>  -573.1</td> \n",
       "</tr>\n",
       "<tr>\n",
       "  <th>Df Model:</th>              <td>    16</td>      <th>                     </th>     <td> </td>    \n",
       "</tr>\n",
       "<tr>\n",
       "  <th>Covariance Type:</th>      <td>nonrobust</td>    <th>                     </th>     <td> </td>    \n",
       "</tr>\n",
       "</table>\n",
       "<table class=\"simpletable\">\n",
       "<tr>\n",
       "                  <td></td>                    <th>coef</th>     <th>std err</th>      <th>t</th>      <th>P>|t|</th>  <th>[0.025</th>    <th>0.975]</th>  \n",
       "</tr>\n",
       "<tr>\n",
       "  <th>Intercept</th>                        <td>   11.9188</td> <td>    0.012</td> <td>  956.308</td> <td> 0.000</td> <td>   11.894</td> <td>   11.943</td>\n",
       "</tr>\n",
       "<tr>\n",
       "  <th>BedroomAbvGr_log</th>                 <td>   -0.0537</td> <td>    0.010</td> <td>   -5.481</td> <td> 0.000</td> <td>   -0.073</td> <td>   -0.034</td>\n",
       "</tr>\n",
       "<tr>\n",
       "  <th>BuiltAge</th>                         <td>   -0.1710</td> <td>    0.020</td> <td>   -8.401</td> <td> 0.000</td> <td>   -0.211</td> <td>   -0.131</td>\n",
       "</tr>\n",
       "<tr>\n",
       "  <th>GarageCars</th>                       <td>    0.0738</td> <td>    0.014</td> <td>    5.302</td> <td> 0.000</td> <td>    0.047</td> <td>    0.101</td>\n",
       "</tr>\n",
       "<tr>\n",
       "  <th>KitchenAbvGr_1</th>                   <td>    0.2818</td> <td>    0.028</td> <td>    9.992</td> <td> 0.000</td> <td>    0.226</td> <td>    0.337</td>\n",
       "</tr>\n",
       "<tr>\n",
       "  <th>LotArea_log</th>                      <td>    0.0536</td> <td>    0.008</td> <td>    6.582</td> <td> 0.000</td> <td>    0.038</td> <td>    0.070</td>\n",
       "</tr>\n",
       "<tr>\n",
       "  <th>RemodAddAge</th>                      <td>   -0.1164</td> <td>    0.013</td> <td>   -8.781</td> <td> 0.000</td> <td>   -0.142</td> <td>   -0.090</td>\n",
       "</tr>\n",
       "<tr>\n",
       "  <th>firstFlrSF_log</th>                   <td>    0.3438</td> <td>    0.017</td> <td>   19.837</td> <td> 0.000</td> <td>    0.310</td> <td>    0.378</td>\n",
       "</tr>\n",
       "<tr>\n",
       "  <th>secondFlrSF_log</th>                  <td>    0.3183</td> <td>    0.016</td> <td>   20.270</td> <td> 0.000</td> <td>    0.287</td> <td>    0.349</td>\n",
       "</tr>\n",
       "<tr>\n",
       "  <th>BedroomAbvGr_log:secondFlrSF_log</th> <td>    0.0668</td> <td>    0.018</td> <td>    3.687</td> <td> 0.000</td> <td>    0.031</td> <td>    0.102</td>\n",
       "</tr>\n",
       "<tr>\n",
       "  <th>BuiltAge:secondFlrSF_log</th>         <td>    0.0605</td> <td>    0.023</td> <td>    2.631</td> <td> 0.009</td> <td>    0.015</td> <td>    0.106</td>\n",
       "</tr>\n",
       "<tr>\n",
       "  <th>GarageCars:KitchenAbvGr_1</th>        <td>    0.1487</td> <td>    0.029</td> <td>    5.155</td> <td> 0.000</td> <td>    0.092</td> <td>    0.205</td>\n",
       "</tr>\n",
       "<tr>\n",
       "  <th>GarageCars:firstFlrSF_log</th>        <td>    0.0712</td> <td>    0.012</td> <td>    5.926</td> <td> 0.000</td> <td>    0.048</td> <td>    0.095</td>\n",
       "</tr>\n",
       "<tr>\n",
       "  <th>GarageCars:secondFlrSF_log</th>       <td>    0.0875</td> <td>    0.021</td> <td>    4.182</td> <td> 0.000</td> <td>    0.046</td> <td>    0.129</td>\n",
       "</tr>\n",
       "<tr>\n",
       "  <th>LotArea_log:firstFlrSF_log</th>       <td>   -0.0238</td> <td>    0.005</td> <td>   -4.389</td> <td> 0.000</td> <td>   -0.034</td> <td>   -0.013</td>\n",
       "</tr>\n",
       "<tr>\n",
       "  <th>LotArea_log:secondFlrSF_log</th>      <td>   -0.0289</td> <td>    0.012</td> <td>   -2.448</td> <td> 0.015</td> <td>   -0.052</td> <td>   -0.006</td>\n",
       "</tr>\n",
       "<tr>\n",
       "  <th>firstFlrSF_log:secondFlrSF_log</th>   <td>   -0.0817</td> <td>    0.024</td> <td>   -3.352</td> <td> 0.001</td> <td>   -0.130</td> <td>   -0.034</td>\n",
       "</tr>\n",
       "</table>\n",
       "<table class=\"simpletable\">\n",
       "<tr>\n",
       "  <th>Omnibus:</th>       <td>195.155</td> <th>  Durbin-Watson:     </th> <td>   2.038</td> \n",
       "</tr>\n",
       "<tr>\n",
       "  <th>Prob(Omnibus):</th> <td> 0.000</td>  <th>  Jarque-Bera (JB):  </th> <td> 991.129</td> \n",
       "</tr>\n",
       "<tr>\n",
       "  <th>Skew:</th>          <td>-0.920</td>  <th>  Prob(JB):          </th> <td>6.01e-216</td>\n",
       "</tr>\n",
       "<tr>\n",
       "  <th>Kurtosis:</th>      <td> 7.875</td>  <th>  Cond. No.          </th> <td>    10.1</td> \n",
       "</tr>\n",
       "</table><br/><br/>Notes:<br/>[1] Standard Errors assume that the covariance matrix of the errors is correctly specified."
      ],
      "text/latex": [
       "\\begin{center}\n",
       "\\begin{tabular}{lclc}\n",
       "\\toprule\n",
       "\\textbf{Dep. Variable:}                     &      price       & \\textbf{  R-squared:         } &     0.828   \\\\\n",
       "\\textbf{Model:}                             &       OLS        & \\textbf{  Adj. R-squared:    } &     0.825   \\\\\n",
       "\\textbf{Method:}                            &  Least Squares   & \\textbf{  F-statistic:       } &     258.8   \\\\\n",
       "\\textbf{Date:}                              & Sun, 27 Aug 2023 & \\textbf{  Prob (F-statistic):} & 4.42e-315   \\\\\n",
       "\\textbf{Time:}                              &     16:05:22     & \\textbf{  Log-Likelihood:    } &    344.16   \\\\\n",
       "\\textbf{No. Observations:}                  &         876      & \\textbf{  AIC:               } &    -654.3   \\\\\n",
       "\\textbf{Df Residuals:}                      &         859      & \\textbf{  BIC:               } &    -573.1   \\\\\n",
       "\\textbf{Df Model:}                          &          16      & \\textbf{                     } &             \\\\\n",
       "\\textbf{Covariance Type:}                   &    nonrobust     & \\textbf{                     } &             \\\\\n",
       "\\bottomrule\n",
       "\\end{tabular}\n",
       "\\begin{tabular}{lcccccc}\n",
       "                                            & \\textbf{coef} & \\textbf{std err} & \\textbf{t} & \\textbf{P$> |$t$|$} & \\textbf{[0.025} & \\textbf{0.975]}  \\\\\n",
       "\\midrule\n",
       "\\textbf{Intercept}                          &      11.9188  &        0.012     &   956.308  &         0.000        &       11.894    &       11.943     \\\\\n",
       "\\textbf{BedroomAbvGr\\_log}                  &      -0.0537  &        0.010     &    -5.481  &         0.000        &       -0.073    &       -0.034     \\\\\n",
       "\\textbf{BuiltAge}                           &      -0.1710  &        0.020     &    -8.401  &         0.000        &       -0.211    &       -0.131     \\\\\n",
       "\\textbf{GarageCars}                         &       0.0738  &        0.014     &     5.302  &         0.000        &        0.047    &        0.101     \\\\\n",
       "\\textbf{KitchenAbvGr\\_1}                    &       0.2818  &        0.028     &     9.992  &         0.000        &        0.226    &        0.337     \\\\\n",
       "\\textbf{LotArea\\_log}                       &       0.0536  &        0.008     &     6.582  &         0.000        &        0.038    &        0.070     \\\\\n",
       "\\textbf{RemodAddAge}                        &      -0.1164  &        0.013     &    -8.781  &         0.000        &       -0.142    &       -0.090     \\\\\n",
       "\\textbf{firstFlrSF\\_log}                    &       0.3438  &        0.017     &    19.837  &         0.000        &        0.310    &        0.378     \\\\\n",
       "\\textbf{secondFlrSF\\_log}                   &       0.3183  &        0.016     &    20.270  &         0.000        &        0.287    &        0.349     \\\\\n",
       "\\textbf{BedroomAbvGr\\_log:secondFlrSF\\_log} &       0.0668  &        0.018     &     3.687  &         0.000        &        0.031    &        0.102     \\\\\n",
       "\\textbf{BuiltAge:secondFlrSF\\_log}          &       0.0605  &        0.023     &     2.631  &         0.009        &        0.015    &        0.106     \\\\\n",
       "\\textbf{GarageCars:KitchenAbvGr\\_1}         &       0.1487  &        0.029     &     5.155  &         0.000        &        0.092    &        0.205     \\\\\n",
       "\\textbf{GarageCars:firstFlrSF\\_log}         &       0.0712  &        0.012     &     5.926  &         0.000        &        0.048    &        0.095     \\\\\n",
       "\\textbf{GarageCars:secondFlrSF\\_log}        &       0.0875  &        0.021     &     4.182  &         0.000        &        0.046    &        0.129     \\\\\n",
       "\\textbf{LotArea\\_log:firstFlrSF\\_log}       &      -0.0238  &        0.005     &    -4.389  &         0.000        &       -0.034    &       -0.013     \\\\\n",
       "\\textbf{LotArea\\_log:secondFlrSF\\_log}      &      -0.0289  &        0.012     &    -2.448  &         0.015        &       -0.052    &       -0.006     \\\\\n",
       "\\textbf{firstFlrSF\\_log:secondFlrSF\\_log}   &      -0.0817  &        0.024     &    -3.352  &         0.001        &       -0.130    &       -0.034     \\\\\n",
       "\\bottomrule\n",
       "\\end{tabular}\n",
       "\\begin{tabular}{lclc}\n",
       "\\textbf{Omnibus:}       & 195.155 & \\textbf{  Durbin-Watson:     } &     2.038  \\\\\n",
       "\\textbf{Prob(Omnibus):} &   0.000 & \\textbf{  Jarque-Bera (JB):  } &   991.129  \\\\\n",
       "\\textbf{Skew:}          &  -0.920 & \\textbf{  Prob(JB):          } & 6.01e-216  \\\\\n",
       "\\textbf{Kurtosis:}      &   7.875 & \\textbf{  Cond. No.          } &      10.1  \\\\\n",
       "\\bottomrule\n",
       "\\end{tabular}\n",
       "%\\caption{OLS Regression Results}\n",
       "\\end{center}\n",
       "\n",
       "Notes: \\newline\n",
       " [1] Standard Errors assume that the covariance matrix of the errors is correctly specified."
      ],
      "text/plain": [
       "<class 'statsmodels.iolib.summary.Summary'>\n",
       "\"\"\"\n",
       "                            OLS Regression Results                            \n",
       "==============================================================================\n",
       "Dep. Variable:                  price   R-squared:                       0.828\n",
       "Model:                            OLS   Adj. R-squared:                  0.825\n",
       "Method:                 Least Squares   F-statistic:                     258.8\n",
       "Date:                Sun, 27 Aug 2023   Prob (F-statistic):          4.42e-315\n",
       "Time:                        16:05:22   Log-Likelihood:                 344.16\n",
       "No. Observations:                 876   AIC:                            -654.3\n",
       "Df Residuals:                     859   BIC:                            -573.1\n",
       "Df Model:                          16                                         \n",
       "Covariance Type:            nonrobust                                         \n",
       "====================================================================================================\n",
       "                                       coef    std err          t      P>|t|      [0.025      0.975]\n",
       "----------------------------------------------------------------------------------------------------\n",
       "Intercept                           11.9188      0.012    956.308      0.000      11.894      11.943\n",
       "BedroomAbvGr_log                    -0.0537      0.010     -5.481      0.000      -0.073      -0.034\n",
       "BuiltAge                            -0.1710      0.020     -8.401      0.000      -0.211      -0.131\n",
       "GarageCars                           0.0738      0.014      5.302      0.000       0.047       0.101\n",
       "KitchenAbvGr_1                       0.2818      0.028      9.992      0.000       0.226       0.337\n",
       "LotArea_log                          0.0536      0.008      6.582      0.000       0.038       0.070\n",
       "RemodAddAge                         -0.1164      0.013     -8.781      0.000      -0.142      -0.090\n",
       "firstFlrSF_log                       0.3438      0.017     19.837      0.000       0.310       0.378\n",
       "secondFlrSF_log                      0.3183      0.016     20.270      0.000       0.287       0.349\n",
       "BedroomAbvGr_log:secondFlrSF_log     0.0668      0.018      3.687      0.000       0.031       0.102\n",
       "BuiltAge:secondFlrSF_log             0.0605      0.023      2.631      0.009       0.015       0.106\n",
       "GarageCars:KitchenAbvGr_1            0.1487      0.029      5.155      0.000       0.092       0.205\n",
       "GarageCars:firstFlrSF_log            0.0712      0.012      5.926      0.000       0.048       0.095\n",
       "GarageCars:secondFlrSF_log           0.0875      0.021      4.182      0.000       0.046       0.129\n",
       "LotArea_log:firstFlrSF_log          -0.0238      0.005     -4.389      0.000      -0.034      -0.013\n",
       "LotArea_log:secondFlrSF_log         -0.0289      0.012     -2.448      0.015      -0.052      -0.006\n",
       "firstFlrSF_log:secondFlrSF_log      -0.0817      0.024     -3.352      0.001      -0.130      -0.034\n",
       "==============================================================================\n",
       "Omnibus:                      195.155   Durbin-Watson:                   2.038\n",
       "Prob(Omnibus):                  0.000   Jarque-Bera (JB):              991.129\n",
       "Skew:                          -0.920   Prob(JB):                    6.01e-216\n",
       "Kurtosis:                       7.875   Cond. No.                         10.1\n",
       "==============================================================================\n",
       "\n",
       "Notes:\n",
       "[1] Standard Errors assume that the covariance matrix of the errors is correctly specified.\n",
       "\"\"\""
      ]
     },
     "execution_count": 175,
     "metadata": {},
     "output_type": "execute_result"
    }
   ],
   "source": [
    "inter = ['BedroomAbvGr_log:secondFlrSF_log', 'BuiltAge:secondFlrSF_log', 'GarageCars:KitchenAbvGr_1', 'GarageCars:firstFlrSF_log', 'GarageCars:secondFlrSF_log',\n",
    "         'LotArea_log:firstFlrSF_log',  'LotArea_log:secondFlrSF_log', 'firstFlrSF_log:secondFlrSF_log']\n",
    "\n",
    "variables= '+'.join(list(x_train.columns.difference(['GarageArea_log', 'TotRmsAbvGrd_log', 'LotFrontage_log']))) +'+'+ '+'.join(inter)\n",
    "\n",
    "lm = ols(f'price ~ {variables}', data=train_data).fit()\n",
    "lm.summary()"
   ]
  },
  {
   "cell_type": "code",
   "execution_count": 176,
   "id": "242577ec-5ee3-4db6-bb38-48ddb456f05b",
   "metadata": {},
   "outputs": [
    {
     "name": "stdout",
     "output_type": "stream",
     "text": [
      "\n",
      "2차 교호작용을 포함한 회귀식을 생성하고, 선형 회귀 분석을 수행한 후, Backward selection으로 변수를 제거하였다.\n",
      "먼저, 1차항 중에서 GarageArea_log, TotRmsAbvGrd_log가 유의하지 않은 변수로 판단되어, 이를 제거하고 다시 회귀분석을 수행하였다. 1차항의 제거로, 관련된 변수가 포함된 교호작용항도 제거되었다.\n",
      "교호작용항의 경우 유의하지 않은 변수가 더 많은 관계로, 유의한 변수들만 리스트로 뽑아서 선택하였다. \n",
      "선택 이후, LotFrontage_log 변수가 유의하지 않은 변수로 파악되어 추가로 제거하였다. 교호작용항 중, GarageCars:LotArea_log 변수도 유의하지 않아 제거하였다.\n",
      "변수 선택 이후, 모든 변수가 유의함을 확인하였고, 변수의 개수는 주효과 변수 8개와 교호작용 변수 8개였다.\n",
      "유의한 교호작용항은 BedroomAbvGr_log:secondFlrSF_log, BuiltAge:secondFlrSF_log, GarageCars:KitchenAbvGr_1, GarageCars:firstFlrSF_log, GarageCars:secondFlrSF_log, LotArea_log:firstFlrSF_log,\n",
      "LotArea_log:secondFlrSF_log, firstFlrSF_log:secondFlrSF_log이다.\n",
      "\n"
     ]
    }
   ],
   "source": [
    "print('''\n",
    "2차 교호작용을 포함한 회귀식을 생성하고, 선형 회귀 분석을 수행한 후, Backward selection으로 변수를 제거하였다.\n",
    "먼저, 1차항 중에서 GarageArea_log, TotRmsAbvGrd_log가 유의하지 않은 변수로 판단되어, 이를 제거하고 다시 회귀분석을 수행하였다. 1차항의 제거로, 관련된 변수가 포함된 교호작용항도 제거되었다.\n",
    "교호작용항의 경우 유의하지 않은 변수가 더 많은 관계로, 유의한 변수들만 리스트로 뽑아서 선택하였다. \n",
    "선택 이후, LotFrontage_log 변수가 유의하지 않은 변수로 파악되어 추가로 제거하였다. 교호작용항 중, GarageCars:LotArea_log 변수도 유의하지 않아 제거하였다.\n",
    "변수 선택 이후, 모든 변수가 유의함을 확인하였고, 변수의 개수는 주효과 변수 8개와 교호작용 변수 8개였다.\n",
    "유의한 교호작용항은 BedroomAbvGr_log:secondFlrSF_log, BuiltAge:secondFlrSF_log, GarageCars:KitchenAbvGr_1, GarageCars:firstFlrSF_log, GarageCars:secondFlrSF_log, LotArea_log:firstFlrSF_log,\n",
    "LotArea_log:secondFlrSF_log, firstFlrSF_log:secondFlrSF_log이다.\n",
    "''')"
   ]
  },
  {
   "cell_type": "markdown",
   "id": "669059e7",
   "metadata": {
    "papermill": {
     "duration": 0.03934,
     "end_time": "2022-03-12T09:59:34.866264",
     "exception": false,
     "start_time": "2022-03-12T09:59:34.826924",
     "status": "completed"
    },
    "tags": []
   },
   "source": [
    "### 1-4 벌점, 앙상블을 포함하여 모형에 적합한 기계학습 모델 3가지를 제시하라\n",
    "(평가지표는 MSE, MAPE, R2 모두 확인할 것)"
   ]
  },
  {
   "cell_type": "code",
   "execution_count": 183,
   "id": "c9995444-6249-44e3-891f-ad41e0696b51",
   "metadata": {},
   "outputs": [],
   "source": [
    "from sklearn.linear_model import Ridge, Lasso\n",
    "from sklearn.ensemble import RandomForestRegressor\n",
    "\n",
    "from sklearn.metrics import mean_squared_error, r2_score"
   ]
  },
  {
   "cell_type": "code",
   "execution_count": 178,
   "id": "e65183a4-337a-43a5-a538-c7b118703864",
   "metadata": {},
   "outputs": [],
   "source": [
    "ridge = Ridge()\n",
    "lasso = Lasso()\n",
    "rf = RandomForestRegressor()"
   ]
  },
  {
   "cell_type": "code",
   "execution_count": 184,
   "id": "76429ea0-5efa-42f2-aecd-bf34a9bfa9ea",
   "metadata": {},
   "outputs": [],
   "source": [
    "def MAPE(y_test, y_pred):\n",
    "    mape = np.mean(np.abs((y_test - y_pred)/y_test)) * 100\n",
    "    return mape"
   ]
  },
  {
   "cell_type": "code",
   "execution_count": 191,
   "id": "b2f878fd-c51b-4c49-b0bd-4f83fb8e6b1f",
   "metadata": {},
   "outputs": [
    {
     "name": "stdout",
     "output_type": "stream",
     "text": [
      "Ridge 모델의 MSE는 0.04127317312046926, MAPE는 1.2347375605796007, R2 score는 0.7521091337361413이다.\n",
      "Lasso 모델의 MSE는 0.16907208280835923, MAPE는 2.6451669819968218, R2 score는 -0.015464087194527298이다.\n",
      "RandomForestRegressor 모델의 MSE는 0.03899669980611053, MAPE는 1.1190250322773327, R2 score는 0.7657818634842467이다.\n"
     ]
    }
   ],
   "source": [
    "model_list = [ridge, lasso, rf]\n",
    "\n",
    "for model in model_list:\n",
    "    model.fit(x_train_scaled, y_train)\n",
    "    pred = model.predict(x_test_scaled)\n",
    "\n",
    "    mse = mean_squared_error(y_test, pred)\n",
    "    r2 = r2_score(y_test, pred)\n",
    "    mape = MAPE(y_test, pred)\n",
    "\n",
    "    print(f\"{str(model.__class__()).split('(')[0]} 모델의 MSE는 {mse}, MAPE는 {mape}, R2 score는 {r2}이다.\")"
   ]
  },
  {
   "cell_type": "code",
   "execution_count": 192,
   "id": "63dfd6b1-0169-4a96-8e93-cc79b477b3a1",
   "metadata": {},
   "outputs": [
    {
     "name": "stdout",
     "output_type": "stream",
     "text": [
      "\n",
      "테스트 데이터에 대하여 가장 성능이 좋은 모델은 RandomForest 회귀 모델이며, MSE와 MAPE가 다른 모델에 비해 낮으면서 R2 스코어가 0.77로 가장 높게 나타났다.\n",
      "\n"
     ]
    }
   ],
   "source": [
    "print('''\n",
    "테스트 데이터에 대하여 가장 성능이 좋은 모델은 RandomForest 회귀 모델이며, MSE와 MAPE가 다른 모델에 비해 낮으면서 R2 스코어가 0.77로 가장 높게 나타났다.\n",
    "''')"
   ]
  },
  {
   "cell_type": "markdown",
   "id": "ec6986d2",
   "metadata": {
    "papermill": {
     "duration": 0.040568,
     "end_time": "2022-03-12T09:59:35.973949",
     "exception": false,
     "start_time": "2022-03-12T09:59:35.933381",
     "status": "completed"
    },
    "tags": []
   },
   "source": [
    "# 2번\n",
    "코로나19에 대한 나라별 데이터로 모델링 진행     \n",
    "데이터 출처 : https://www.kaggle.com/imdevskp/corona-virus-report 일부 후처리    \n",
    "데이터 경로 : /kaggle/input/adp-kr-p3/problem2.csv     \n",
    "**컬럼**\n",
    "- location : 지역명\n",
    "- date : 일자\n",
    "- total_cases : 누적 확인자\n",
    "- total_deaths : 누적 사망자\n",
    "- new_tests : 검사자\n",
    "- population : 인구\n",
    "- new_vaccinations : 백신 접종자"
   ]
  },
  {
   "cell_type": "code",
   "execution_count": 2,
   "id": "0eed22e5",
   "metadata": {
    "papermill": {
     "duration": 9.470586,
     "end_time": "2022-03-12T09:59:45.563328",
     "exception": false,
     "start_time": "2022-03-12T09:59:36.092742",
     "status": "completed"
    },
    "tags": []
   },
   "outputs": [
    {
     "data": {
      "text/html": [
       "<div>\n",
       "<style scoped>\n",
       "    .dataframe tbody tr th:only-of-type {\n",
       "        vertical-align: middle;\n",
       "    }\n",
       "\n",
       "    .dataframe tbody tr th {\n",
       "        vertical-align: top;\n",
       "    }\n",
       "\n",
       "    .dataframe thead th {\n",
       "        text-align: right;\n",
       "    }\n",
       "</style>\n",
       "<table border=\"1\" class=\"dataframe\">\n",
       "  <thead>\n",
       "    <tr style=\"text-align: right;\">\n",
       "      <th></th>\n",
       "      <th>location</th>\n",
       "      <th>date</th>\n",
       "      <th>total_cases</th>\n",
       "      <th>total_deaths</th>\n",
       "      <th>new_tests</th>\n",
       "      <th>population</th>\n",
       "      <th>new_vaccinations</th>\n",
       "    </tr>\n",
       "  </thead>\n",
       "  <tbody>\n",
       "    <tr>\n",
       "      <th>0</th>\n",
       "      <td>Afghanistan</td>\n",
       "      <td>2020-02-24</td>\n",
       "      <td>5.0</td>\n",
       "      <td>NaN</td>\n",
       "      <td>NaN</td>\n",
       "      <td>39835428.0</td>\n",
       "      <td>NaN</td>\n",
       "    </tr>\n",
       "    <tr>\n",
       "      <th>1</th>\n",
       "      <td>Afghanistan</td>\n",
       "      <td>2020-02-25</td>\n",
       "      <td>5.0</td>\n",
       "      <td>NaN</td>\n",
       "      <td>NaN</td>\n",
       "      <td>39835428.0</td>\n",
       "      <td>NaN</td>\n",
       "    </tr>\n",
       "    <tr>\n",
       "      <th>2</th>\n",
       "      <td>Afghanistan</td>\n",
       "      <td>2020-02-26</td>\n",
       "      <td>5.0</td>\n",
       "      <td>NaN</td>\n",
       "      <td>NaN</td>\n",
       "      <td>39835428.0</td>\n",
       "      <td>NaN</td>\n",
       "    </tr>\n",
       "    <tr>\n",
       "      <th>3</th>\n",
       "      <td>Afghanistan</td>\n",
       "      <td>2020-02-27</td>\n",
       "      <td>5.0</td>\n",
       "      <td>NaN</td>\n",
       "      <td>NaN</td>\n",
       "      <td>39835428.0</td>\n",
       "      <td>NaN</td>\n",
       "    </tr>\n",
       "    <tr>\n",
       "      <th>4</th>\n",
       "      <td>Afghanistan</td>\n",
       "      <td>2020-02-28</td>\n",
       "      <td>5.0</td>\n",
       "      <td>NaN</td>\n",
       "      <td>NaN</td>\n",
       "      <td>39835428.0</td>\n",
       "      <td>NaN</td>\n",
       "    </tr>\n",
       "  </tbody>\n",
       "</table>\n",
       "</div>"
      ],
      "text/plain": [
       "      location        date  total_cases  total_deaths  new_tests  population  \\\n",
       "0  Afghanistan  2020-02-24          5.0           NaN        NaN  39835428.0   \n",
       "1  Afghanistan  2020-02-25          5.0           NaN        NaN  39835428.0   \n",
       "2  Afghanistan  2020-02-26          5.0           NaN        NaN  39835428.0   \n",
       "3  Afghanistan  2020-02-27          5.0           NaN        NaN  39835428.0   \n",
       "4  Afghanistan  2020-02-28          5.0           NaN        NaN  39835428.0   \n",
       "\n",
       "   new_vaccinations  \n",
       "0               NaN  \n",
       "1               NaN  \n",
       "2               NaN  \n",
       "3               NaN  \n",
       "4               NaN  "
      ]
     },
     "execution_count": 2,
     "metadata": {},
     "output_type": "execute_result"
    }
   ],
   "source": [
    "df = pd.read_csv('https://raw.githubusercontent.com/Datamanim/datarepo/main/adp/17/problem2.csv')\n",
    "df.head()"
   ]
  },
  {
   "cell_type": "markdown",
   "id": "7143feb3",
   "metadata": {
    "papermill": {
     "duration": 0.039237,
     "end_time": "2022-03-12T09:59:36.052976",
     "exception": false,
     "start_time": "2022-03-12T09:59:36.013739",
     "status": "completed"
    },
    "tags": []
   },
   "source": [
    "### 2-1 마지막 일자를 기준으로 인구 대비 확진자 비율이 높은 상위 5개 국가를 구하여라\n",
    "상위 5개 국가별로 누적 확진자, 일일 확진자, 누적 사망자, 일일 사망자, 그래프, 범례를 이용해서 가독성 있게 만들어라     "
   ]
  },
  {
   "cell_type": "markdown",
   "id": "1855d963",
   "metadata": {
    "papermill": {
     "duration": 0.054745,
     "end_time": "2022-03-12T09:59:45.669070",
     "exception": false,
     "start_time": "2022-03-12T09:59:45.614325",
     "status": "completed"
    },
    "tags": []
   },
   "source": [
    "### 2-2 코로나 위험지수를 직접 만들고 그 위험지수에 대한 설명을 적고 위험지수가 높은 국가들 10개를 선정해서 시각화"
   ]
  },
  {
   "cell_type": "markdown",
   "id": "baa6aa90",
   "metadata": {
    "papermill": {
     "duration": 0.057856,
     "end_time": "2022-03-12T09:59:55.118350",
     "exception": false,
     "start_time": "2022-03-12T09:59:55.060494",
     "status": "completed"
    },
    "tags": []
   },
   "source": [
    "### 2-3 한국의 코로나 신규 확진자 예측해라(선형 시계열모델 + 비선형시계열 각각 한개씩 만들어라)"
   ]
  },
  {
   "cell_type": "markdown",
   "id": "53097465",
   "metadata": {
    "papermill": {
     "duration": 0.060968,
     "end_time": "2022-03-12T09:59:56.600690",
     "exception": false,
     "start_time": "2022-03-12T09:59:56.539722",
     "status": "completed"
    },
    "tags": []
   },
   "source": [
    "# 3번\n",
    "설문조사 데이터      \n",
    "데이터 출처 : 자체 제작    \n",
    "데이터 경로 : /kaggle/input/adp-kr-p3/problem3.csv \n",
    "\n",
    "데이터 설명 : A ~ D까지의 그룹에게 각각 같은 설문조사를 하여 1-1,1-2,1-3...5-1,5-4 인 설문지를 푼 것이다. 문항은 영역별로 나뉘어 있고, 영역은 크게 5개이다(1~5)    \n",
    "각 영역의 세부문항은 4개씩 존재한다 (1-1,1-2,1-3,1-4 ~) 이 때 중간에 반대 문항이 들어가 있다. 예를 들어 1-1 문제가 \"나는 시간약속을 잘 지킨다.\"라는 문제라면 1-3의 문제는 \"나는 시간약속을 잘 지키지 않는다.\" 라는 역문제로 구성 되어있다. 각 영역의 3번문항의 1번문항의 역문제이다. \n",
    "모든 답변은 5점 척도이다. 문제를 풀기전 모든 역문항의 경우 점수를 변환(6점을 빼서) 작업이 필요하다"
   ]
  },
  {
   "cell_type": "markdown",
   "id": "4bdbb884",
   "metadata": {
    "papermill": {
     "duration": 0.061387,
     "end_time": "2022-03-12T09:59:56.723126",
     "exception": false,
     "start_time": "2022-03-12T09:59:56.661739",
     "status": "completed"
    },
    "tags": []
   },
   "source": [
    "### 3-1 역문항을 변환 한 후 각 그룹`(A~D)`의 영역`(Q1~Q5)`별 응답의 평균, 표준편차, 왜도, 첨도를 구하라. (각 통계량 별로 4x5 dataframe 생성)"
   ]
  },
  {
   "cell_type": "code",
   "execution_count": 3,
   "id": "fda23706",
   "metadata": {
    "papermill": {
     "duration": 0.087945,
     "end_time": "2022-03-12T09:59:56.872106",
     "exception": false,
     "start_time": "2022-03-12T09:59:56.784161",
     "status": "completed"
    },
    "tags": []
   },
   "outputs": [
    {
     "data": {
      "text/html": [
       "<div>\n",
       "<style scoped>\n",
       "    .dataframe tbody tr th:only-of-type {\n",
       "        vertical-align: middle;\n",
       "    }\n",
       "\n",
       "    .dataframe tbody tr th {\n",
       "        vertical-align: top;\n",
       "    }\n",
       "\n",
       "    .dataframe thead th {\n",
       "        text-align: right;\n",
       "    }\n",
       "</style>\n",
       "<table border=\"1\" class=\"dataframe\">\n",
       "  <thead>\n",
       "    <tr style=\"text-align: right;\">\n",
       "      <th></th>\n",
       "      <th>userid</th>\n",
       "      <th>group</th>\n",
       "      <th>Q1-1</th>\n",
       "      <th>Q1-2</th>\n",
       "      <th>Q1-3</th>\n",
       "      <th>Q1-4</th>\n",
       "      <th>Q2-1</th>\n",
       "      <th>Q2-2</th>\n",
       "      <th>Q2-3</th>\n",
       "      <th>Q2-4</th>\n",
       "      <th>...</th>\n",
       "      <th>Q3-3</th>\n",
       "      <th>Q3-4</th>\n",
       "      <th>Q4-1</th>\n",
       "      <th>Q4-2</th>\n",
       "      <th>Q4-3</th>\n",
       "      <th>Q4-4</th>\n",
       "      <th>Q5-1</th>\n",
       "      <th>Q5-2</th>\n",
       "      <th>Q5-3</th>\n",
       "      <th>Q5-4</th>\n",
       "    </tr>\n",
       "  </thead>\n",
       "  <tbody>\n",
       "    <tr>\n",
       "      <th>0</th>\n",
       "      <td>0</td>\n",
       "      <td>A</td>\n",
       "      <td>5</td>\n",
       "      <td>2</td>\n",
       "      <td>1</td>\n",
       "      <td>2</td>\n",
       "      <td>4</td>\n",
       "      <td>5</td>\n",
       "      <td>3</td>\n",
       "      <td>3</td>\n",
       "      <td>...</td>\n",
       "      <td>1</td>\n",
       "      <td>1</td>\n",
       "      <td>5</td>\n",
       "      <td>2</td>\n",
       "      <td>5</td>\n",
       "      <td>3</td>\n",
       "      <td>3</td>\n",
       "      <td>4</td>\n",
       "      <td>3</td>\n",
       "      <td>4</td>\n",
       "    </tr>\n",
       "    <tr>\n",
       "      <th>1</th>\n",
       "      <td>1</td>\n",
       "      <td>A</td>\n",
       "      <td>2</td>\n",
       "      <td>2</td>\n",
       "      <td>3</td>\n",
       "      <td>3</td>\n",
       "      <td>4</td>\n",
       "      <td>3</td>\n",
       "      <td>1</td>\n",
       "      <td>4</td>\n",
       "      <td>...</td>\n",
       "      <td>2</td>\n",
       "      <td>3</td>\n",
       "      <td>4</td>\n",
       "      <td>3</td>\n",
       "      <td>5</td>\n",
       "      <td>3</td>\n",
       "      <td>1</td>\n",
       "      <td>2</td>\n",
       "      <td>1</td>\n",
       "      <td>1</td>\n",
       "    </tr>\n",
       "    <tr>\n",
       "      <th>2</th>\n",
       "      <td>2</td>\n",
       "      <td>A</td>\n",
       "      <td>1</td>\n",
       "      <td>3</td>\n",
       "      <td>4</td>\n",
       "      <td>4</td>\n",
       "      <td>2</td>\n",
       "      <td>1</td>\n",
       "      <td>4</td>\n",
       "      <td>4</td>\n",
       "      <td>...</td>\n",
       "      <td>4</td>\n",
       "      <td>2</td>\n",
       "      <td>1</td>\n",
       "      <td>3</td>\n",
       "      <td>4</td>\n",
       "      <td>1</td>\n",
       "      <td>3</td>\n",
       "      <td>3</td>\n",
       "      <td>2</td>\n",
       "      <td>5</td>\n",
       "    </tr>\n",
       "    <tr>\n",
       "      <th>3</th>\n",
       "      <td>3</td>\n",
       "      <td>A</td>\n",
       "      <td>3</td>\n",
       "      <td>3</td>\n",
       "      <td>4</td>\n",
       "      <td>2</td>\n",
       "      <td>2</td>\n",
       "      <td>4</td>\n",
       "      <td>4</td>\n",
       "      <td>3</td>\n",
       "      <td>...</td>\n",
       "      <td>2</td>\n",
       "      <td>3</td>\n",
       "      <td>3</td>\n",
       "      <td>4</td>\n",
       "      <td>2</td>\n",
       "      <td>4</td>\n",
       "      <td>1</td>\n",
       "      <td>1</td>\n",
       "      <td>3</td>\n",
       "      <td>2</td>\n",
       "    </tr>\n",
       "    <tr>\n",
       "      <th>4</th>\n",
       "      <td>4</td>\n",
       "      <td>A</td>\n",
       "      <td>3</td>\n",
       "      <td>1</td>\n",
       "      <td>2</td>\n",
       "      <td>3</td>\n",
       "      <td>4</td>\n",
       "      <td>3</td>\n",
       "      <td>4</td>\n",
       "      <td>1</td>\n",
       "      <td>...</td>\n",
       "      <td>5</td>\n",
       "      <td>1</td>\n",
       "      <td>3</td>\n",
       "      <td>2</td>\n",
       "      <td>3</td>\n",
       "      <td>1</td>\n",
       "      <td>3</td>\n",
       "      <td>2</td>\n",
       "      <td>5</td>\n",
       "      <td>4</td>\n",
       "    </tr>\n",
       "  </tbody>\n",
       "</table>\n",
       "<p>5 rows × 22 columns</p>\n",
       "</div>"
      ],
      "text/plain": [
       "   userid group  Q1-1  Q1-2  Q1-3  Q1-4  Q2-1  Q2-2  Q2-3  Q2-4  ...  Q3-3  \\\n",
       "0       0     A     5     2     1     2     4     5     3     3  ...     1   \n",
       "1       1     A     2     2     3     3     4     3     1     4  ...     2   \n",
       "2       2     A     1     3     4     4     2     1     4     4  ...     4   \n",
       "3       3     A     3     3     4     2     2     4     4     3  ...     2   \n",
       "4       4     A     3     1     2     3     4     3     4     1  ...     5   \n",
       "\n",
       "   Q3-4  Q4-1  Q4-2  Q4-3  Q4-4  Q5-1  Q5-2  Q5-3  Q5-4  \n",
       "0     1     5     2     5     3     3     4     3     4  \n",
       "1     3     4     3     5     3     1     2     1     1  \n",
       "2     2     1     3     4     1     3     3     2     5  \n",
       "3     3     3     4     2     4     1     1     3     2  \n",
       "4     1     3     2     3     1     3     2     5     4  \n",
       "\n",
       "[5 rows x 22 columns]"
      ]
     },
     "execution_count": 3,
     "metadata": {},
     "output_type": "execute_result"
    }
   ],
   "source": [
    "import pandas as pd\n",
    "df =pd.read_csv('https://raw.githubusercontent.com/Datamanim/datarepo/main/adp/17/problem3.csv')\n",
    "df.head()"
   ]
  },
  {
   "cell_type": "markdown",
   "id": "31a41256",
   "metadata": {
    "papermill": {
     "duration": 0.065094,
     "end_time": "2022-03-12T09:59:57.258715",
     "exception": false,
     "start_time": "2022-03-12T09:59:57.193621",
     "status": "completed"
    },
    "tags": []
   },
   "source": [
    "### 3-2 그룹별로 Q1-1문항의 차이가 존재하는지 anova분석을 시행하라"
   ]
  },
  {
   "cell_type": "markdown",
   "id": "06139acb",
   "metadata": {
    "papermill": {
     "duration": 0.064896,
     "end_time": "2022-03-12T09:59:57.697299",
     "exception": false,
     "start_time": "2022-03-12T09:59:57.632403",
     "status": "completed"
    },
    "tags": []
   },
   "source": [
    "### 3-3 탐색적 요인분석을 수행하고 결과를 시각화 하라   \n",
    "- 참고 사이트 :https://ysyblog.tistory.com/124"
   ]
  },
  {
   "cell_type": "code",
   "execution_count": null,
   "id": "a662a934",
   "metadata": {
    "papermill": {
     "duration": 0.073677,
     "end_time": "2022-03-12T10:00:15.348424",
     "exception": false,
     "start_time": "2022-03-12T10:00:15.274747",
     "status": "completed"
    },
    "tags": []
   },
   "outputs": [],
   "source": []
  }
 ],
 "metadata": {
  "kernelspec": {
   "display_name": "Python 3 (ipykernel)",
   "language": "python",
   "name": "python3"
  },
  "language_info": {
   "codemirror_mode": {
    "name": "ipython",
    "version": 3
   },
   "file_extension": ".py",
   "mimetype": "text/x-python",
   "name": "python",
   "nbconvert_exporter": "python",
   "pygments_lexer": "ipython3",
   "version": "3.9.6"
  },
  "papermill": {
   "default_parameters": {},
   "duration": 60.94775,
   "end_time": "2022-03-12T10:00:16.545871",
   "environment_variables": {},
   "exception": null,
   "input_path": "__notebook__.ipynb",
   "output_path": "__notebook__.ipynb",
   "parameters": {},
   "start_time": "2022-03-12T09:59:15.598121",
   "version": "2.3.3"
  }
 },
 "nbformat": 4,
 "nbformat_minor": 5
}
