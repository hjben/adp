{
 "cells": [
  {
   "cell_type": "markdown",
   "id": "0a308b4f",
   "metadata": {},
   "source": [
    "# ADP 25회 실기 문제"
   ]
  },
  {
   "cell_type": "markdown",
   "id": "a941a31c",
   "metadata": {},
   "source": [
    "[![Hits](https://hits.seeyoufarm.com/api/count/incr/badge.svg?url=https%3A%2F%2Fwww.datamanim.com%2Fdataset%2FADPpb%2F00%2F25.html&count_bg=%23582382&title_bg=%23555555&icon=&icon_color=%23E7E7E7&title=hits&edge_flat=false)](https://hits.seeyoufarm.com)"
   ]
  },
  {
   "cell_type": "code",
   "execution_count": 3,
   "id": "0d7e4a12-a9ad-4ba2-9a5c-9393c703438f",
   "metadata": {},
   "outputs": [],
   "source": [
    "import numpy as np\n",
    "import pandas as pd\n",
    "\n",
    "import matplotlib.pyplot as plt\n",
    "import seaborn as sns\n",
    "\n",
    "import scipy.stats as stats"
   ]
  },
  {
   "cell_type": "markdown",
   "id": "e1837ca7",
   "metadata": {},
   "source": [
    "```{attention} \n",
    "**[캐글에 풀이공유하기](https://www.kaggle.com/datasets/kukuroo3/adp-p7/code)**   \n",
    "```"
   ]
  },
  {
   "cell_type": "markdown",
   "id": "d0ad3b01",
   "metadata": {},
   "source": [
    "```{admonition} 1번\n",
    "**데이터 확인 및 전처리**     \n",
    "- 1.1 EDA, 이상치 제거 후 F(소비자별 구매빈도), M(소비자별 총 구매액) feature를 새로 생성해서 그 결과값으로 탐색적 분석 실시\n",
    "- 1.2 F, M feature 기반으로 군집분석 실시\n",
    "- 1.3 군집 결과의 적합성을 군집 내 응집도, 군집 간 분리도의 개념을 사용해서 서술\n",
    "- 1.4 적합된 군집 별 특성에 대한 의견과 비즈니스적 판단 제시\n",
    "- 데이터 설명\n",
    "    - InvoiceNo: Invoice number. Nominal, a 6-digit integral number uniquely assigned to each transaction. If this code starts with letter 'c', it indicates a cancellation.     \n",
    "    - StockCode: Product (item) code. Nominal, a 5-digit integral number uniquely assigned to each distinct product.     \n",
    "    - Description: Product (item) name. Nominal.    \n",
    "    - Quantity: The quantities of each product (item) per transaction. Numeric.     \n",
    "    - InvoiceDate: Invice Date and time. Numeric, the day and time when each transaction was generated.   \n",
    "    - UnitPrice: Unit price. Numeric, Product price per unit in sterling.    \n",
    "    - CustomerID: Customer number. Nominal, a 5-digit integral number uniquely assigned to each customer.     \n",
    "    - Country: Country name. Nominal, the name of the country where each customer resides.   \n",
    "- 출처\n",
    "    - https://archive.ics.uci.edu/ml/index.phpm\n",
    "```"
   ]
  },
  {
   "cell_type": "code",
   "execution_count": 154,
   "id": "3d21ff32",
   "metadata": {
    "ExecuteTime": {
     "end_time": "2022-09-04T04:59:53.353886Z",
     "start_time": "2022-09-04T04:59:52.069005Z"
    },
    "tags": [
     "hide-input"
    ]
   },
   "outputs": [
    {
     "data": {
      "text/html": [
       "<div>\n",
       "<style scoped>\n",
       "    .dataframe tbody tr th:only-of-type {\n",
       "        vertical-align: middle;\n",
       "    }\n",
       "\n",
       "    .dataframe tbody tr th {\n",
       "        vertical-align: top;\n",
       "    }\n",
       "\n",
       "    .dataframe thead th {\n",
       "        text-align: right;\n",
       "    }\n",
       "</style>\n",
       "<table border=\"1\" class=\"dataframe\">\n",
       "  <thead>\n",
       "    <tr style=\"text-align: right;\">\n",
       "      <th></th>\n",
       "      <th>InvoiceNo</th>\n",
       "      <th>StockCode</th>\n",
       "      <th>Description</th>\n",
       "      <th>Quantity</th>\n",
       "      <th>InvoiceDate</th>\n",
       "      <th>UnitPrice</th>\n",
       "      <th>CustomerID</th>\n",
       "      <th>Country</th>\n",
       "    </tr>\n",
       "  </thead>\n",
       "  <tbody>\n",
       "    <tr>\n",
       "      <th>0</th>\n",
       "      <td>565857</td>\n",
       "      <td>84879</td>\n",
       "      <td>ASSORTED COLOUR BIRD ORNAMENT</td>\n",
       "      <td>16</td>\n",
       "      <td>9/7/2011 14:13</td>\n",
       "      <td>1.69</td>\n",
       "      <td>14911.0</td>\n",
       "      <td>EIRE</td>\n",
       "    </tr>\n",
       "    <tr>\n",
       "      <th>1</th>\n",
       "      <td>560452</td>\n",
       "      <td>22432</td>\n",
       "      <td>WATERING CAN PINK BUNNY</td>\n",
       "      <td>6</td>\n",
       "      <td>7/19/2011 9:51</td>\n",
       "      <td>1.95</td>\n",
       "      <td>12682.0</td>\n",
       "      <td>France</td>\n",
       "    </tr>\n",
       "    <tr>\n",
       "      <th>2</th>\n",
       "      <td>578509</td>\n",
       "      <td>22492</td>\n",
       "      <td>MINI PAINT SET VINTAGE</td>\n",
       "      <td>36</td>\n",
       "      <td>11/24/2011 13:17</td>\n",
       "      <td>0.65</td>\n",
       "      <td>12705.0</td>\n",
       "      <td>Germany</td>\n",
       "    </tr>\n",
       "    <tr>\n",
       "      <th>3</th>\n",
       "      <td>579345</td>\n",
       "      <td>22728</td>\n",
       "      <td>ALARM CLOCK BAKELIKE PINK</td>\n",
       "      <td>8</td>\n",
       "      <td>11/29/2011 11:46</td>\n",
       "      <td>3.75</td>\n",
       "      <td>12727.0</td>\n",
       "      <td>France</td>\n",
       "    </tr>\n",
       "    <tr>\n",
       "      <th>4</th>\n",
       "      <td>564039</td>\n",
       "      <td>21731</td>\n",
       "      <td>RED TOADSTOOL LED NIGHT LIGHT</td>\n",
       "      <td>12</td>\n",
       "      <td>8/22/2011 12:40</td>\n",
       "      <td>1.65</td>\n",
       "      <td>12645.0</td>\n",
       "      <td>Germany</td>\n",
       "    </tr>\n",
       "  </tbody>\n",
       "</table>\n",
       "</div>"
      ],
      "text/plain": [
       "  InvoiceNo StockCode                    Description  Quantity  \\\n",
       "0    565857     84879  ASSORTED COLOUR BIRD ORNAMENT        16   \n",
       "1    560452     22432        WATERING CAN PINK BUNNY         6   \n",
       "2    578509     22492        MINI PAINT SET VINTAGE         36   \n",
       "3    579345     22728      ALARM CLOCK BAKELIKE PINK         8   \n",
       "4    564039     21731  RED TOADSTOOL LED NIGHT LIGHT        12   \n",
       "\n",
       "        InvoiceDate  UnitPrice  CustomerID  Country  \n",
       "0    9/7/2011 14:13       1.69     14911.0     EIRE  \n",
       "1    7/19/2011 9:51       1.95     12682.0   France  \n",
       "2  11/24/2011 13:17       0.65     12705.0  Germany  \n",
       "3  11/29/2011 11:46       3.75     12727.0   France  \n",
       "4   8/22/2011 12:40       1.65     12645.0  Germany  "
      ]
     },
     "execution_count": 154,
     "metadata": {},
     "output_type": "execute_result"
    }
   ],
   "source": [
    "df= pd.read_csv('https://raw.githubusercontent.com/Datamanim/datarepo/main/adp/25/problem1.csv')\n",
    "df.head()"
   ]
  },
  {
   "cell_type": "code",
   "execution_count": 155,
   "id": "6fa75ab1-c966-428a-92e9-cf6dccf86fd3",
   "metadata": {},
   "outputs": [
    {
     "name": "stdout",
     "output_type": "stream",
     "text": [
      "(41024, 8)\n",
      "<class 'pandas.core.frame.DataFrame'>\n",
      "RangeIndex: 41024 entries, 0 to 41023\n",
      "Data columns (total 8 columns):\n",
      " #   Column       Non-Null Count  Dtype  \n",
      "---  ------       --------------  -----  \n",
      " 0   InvoiceNo    41024 non-null  object \n",
      " 1   StockCode    41024 non-null  object \n",
      " 2   Description  41024 non-null  object \n",
      " 3   Quantity     41024 non-null  int64  \n",
      " 4   InvoiceDate  41024 non-null  object \n",
      " 5   UnitPrice    41024 non-null  float64\n",
      " 6   CustomerID   41024 non-null  float64\n",
      " 7   Country      41024 non-null  object \n",
      "dtypes: float64(2), int64(1), object(5)\n",
      "memory usage: 2.5+ MB\n"
     ]
    }
   ],
   "source": [
    "print(df.shape)\n",
    "df.info()"
   ]
  },
  {
   "cell_type": "markdown",
   "id": "e1d2750d-547b-4720-a65c-5e6514df35b1",
   "metadata": {},
   "source": [
    "### 1.1 EDA, 이상치 제거 후 F(소비자별 구매빈도), M(소비자별 총 구매액) feature를 새로 생성해서 그 결과값으로 탐색적 분석 실시"
   ]
  },
  {
   "cell_type": "code",
   "execution_count": 156,
   "id": "37b821a8-aced-447f-b764-a2625609400f",
   "metadata": {},
   "outputs": [
    {
     "name": "stdout",
     "output_type": "stream",
     "text": [
      "1157\n"
     ]
    }
   ],
   "source": [
    "### 주문 수량이 -인 경우가 있음. 제거\n",
    "print((df.Quantity < 0).sum())\n",
    "df = df[df.Quantity >= 0]"
   ]
  },
  {
   "cell_type": "code",
   "execution_count": 168,
   "id": "75cb8f9e-e0f1-4ed6-8ab7-6f93effdf171",
   "metadata": {},
   "outputs": [
    {
     "data": {
      "text/plain": [
       "Country\n",
       "Germany            9042\n",
       "France             8342\n",
       "EIRE               7238\n",
       "Spain              2485\n",
       "Netherlands        2363\n",
       "Belgium            2031\n",
       "Switzerland        1842\n",
       "Portugal           1462\n",
       "Australia          1185\n",
       "Norway             1072\n",
       "Italy               758\n",
       "Channel Islands     748\n",
       "Finland             685\n",
       "Cyprus              614\n",
       "Name: count, dtype: int64"
      ]
     },
     "execution_count": 168,
     "metadata": {},
     "output_type": "execute_result"
    }
   ],
   "source": [
    "df.Country.value_counts()"
   ]
  },
  {
   "cell_type": "code",
   "execution_count": 163,
   "id": "74095f40-1c86-4de9-90d7-5a8d4a2166d9",
   "metadata": {},
   "outputs": [
    {
     "data": {
      "text/plain": [
       "<Axes: >"
      ]
     },
     "execution_count": 163,
     "metadata": {},
     "output_type": "execute_result"
    },
    {
     "data": {
      "image/png": "[encoded data removed]",
      "text/plain": [
       "<Figure size 640x480 with 1 Axes>"
      ]
     },
     "metadata": {},
     "output_type": "display_data"
    }
   ],
   "source": [
    "sns.boxplot(df.UnitPrice)"
   ]
  },
  {
   "cell_type": "code",
   "execution_count": 235,
   "id": "deae6d69-e8c2-4ce0-81bc-9ea1550a1a55",
   "metadata": {},
   "outputs": [
    {
     "name": "stdout",
     "output_type": "stream",
     "text": [
      "<답안>\n",
      "원본 데이터의 총 개수는 41,024개로, 변수는 8개이며, NA는 존재하지 않는다.\n",
      "InvoiceNo, StockCode, Description, InvoiceDate 변수는 각 주문에 대한 정보를 담고 있는 값이어서 별도 EDA를 진행하지 않았다.\n",
      "Country는 범주형 변수로, 일부 카테고리에 편중되는 현상이 있다.\n",
      "Quantity는 주문 수량 변수인데, 음수인 경우 이상한 값으로 볼 수 있다. 이 경우를 제거하였다.\n",
      "Unitprice에는 이상치가 존재한다. 이상치 그 자체로 가격의 의미를 담고 있기 때문에 제거하지는 않고, 변수를 사용할 경우 변환을 통해 이상치의 영향력을 감소시켜야 한다.\n"
     ]
    }
   ],
   "source": [
    "print('<답안>')\n",
    "print('원본 데이터의 총 개수는 41,024개로, 변수는 8개이며, NA는 존재하지 않는다.')\n",
    "print('InvoiceNo, StockCode, Description, InvoiceDate 변수는 각 주문에 대한 정보를 담고 있는 값이어서 별도 EDA를 진행하지 않았다.')\n",
    "print('Country는 범주형 변수로, 일부 카테고리에 편중되는 현상이 있다.')\n",
    "print('Quantity는 주문 수량 변수인데, 음수인 경우 이상한 값으로 볼 수 있다. 이 경우를 제거하였다.')\n",
    "print('Unitprice에는 이상치가 존재한다. 이상치 그 자체로 가격의 의미를 담고 있기 때문에 제거하지는 않고, 변수를 사용할 경우 변환을 통해 이상치의 영향력을 감소시켜야 한다.')"
   ]
  },
  {
   "cell_type": "code",
   "execution_count": 236,
   "id": "b3286f6b-a449-4920-b23e-905f669aca40",
   "metadata": {},
   "outputs": [
    {
     "name": "stdout",
     "output_type": "stream",
     "text": [
      "먼저, CustomerID의 변수 형식을 integer로 조정한다. 그 다음, CustomerID별 Invoice count를 계산하고, 이를 F 변수에 적용한다.\n",
      "다음으로 Quantity와 UnitPrice를 곱해 total_price 변수를 만들고, CustomerID 별 Invoice total price의 sum을 계산한다. 그리고 이를 M변수에 적용한다.\n"
     ]
    }
   ],
   "source": [
    "df['CustomerID'] = df['CustomerID'].astype(int)\n",
    "invoice_by_id = df.groupby('CustomerID').count()['InvoiceNo']\n",
    "\n",
    "df['F'] = df['CustomerID'].apply(lambda x:invoice_by_id[x])\n",
    "total_price = df['Quantity'] * df['UnitPrice']\n",
    "\n",
    "df['total_price'] = df['Quantity'] * df['UnitPrice']\n",
    "invoice_by_total = df.groupby('CustomerID').sum()['total_price']\n",
    "\n",
    "df['M'] = df['CustomerID'].apply(lambda x:invoice_by_total[x])\n",
    "df.drop('total_price', axis=1, inplace=True)\n",
    "\n",
    "print('먼저, CustomerID의 변수 형식을 integer로 조정한다. 그 다음, CustomerID별 Invoice count를 계산하고, 이를 F 변수에 적용한다.')\n",
    "print('다음으로 Quantity와 UnitPrice를 곱해 total_price 변수를 만들고, CustomerID 별 Invoice total price의 sum을 계산한다. 그리고 이를 M변수에 적용한다.')"
   ]
  },
  {
   "cell_type": "markdown",
   "id": "44996620-4b81-42b4-84c7-26823d01a15f",
   "metadata": {},
   "source": [
    "## 1.2 F, M feature 기반으로 군집분석 실시 "
   ]
  },
  {
   "cell_type": "code",
   "execution_count": 237,
   "id": "29254f2e-902d-4ce2-890a-49f0d0534d32",
   "metadata": {},
   "outputs": [
    {
     "name": "stdout",
     "output_type": "stream",
     "text": [
      "두 변수 모두 이상치가 보이고 있고, skew가 심한 형태이므로 로그 변환을 진행한 다음 군집 분석을 수행한다.\n"
     ]
    },
    {
     "data": {
      "image/png": "[encoded data removed]",
      "text/plain": [
       "<Figure size 1000x400 with 2 Axes>"
      ]
     },
     "metadata": {},
     "output_type": "display_data"
    }
   ],
   "source": [
    "fig, axes = plt.subplots(ncols=2, figsize=(10, 4))\n",
    "sns.boxplot(x='F', data=df, ax=axes[0])\n",
    "sns.boxplot(x='M', data=df, ax=axes[1])\n",
    "\n",
    "print('두 변수 모두 이상치가 보이고 있고, skew가 심한 형태이므로 로그 변환을 진행한 다음 군집 분석을 수행한다.')"
   ]
  },
  {
   "cell_type": "code",
   "execution_count": 238,
   "id": "7a4a2933-400e-4e2b-b768-7c3a7a931000",
   "metadata": {},
   "outputs": [
    {
     "data": {
      "text/plain": [
       "<Axes: xlabel='M_log'>"
      ]
     },
     "execution_count": 238,
     "metadata": {},
     "output_type": "execute_result"
    },
    {
     "data": {
      "image/png": "[encoded data removed]",
      "text/plain": [
       "<Figure size 1000x400 with 2 Axes>"
      ]
     },
     "metadata": {},
     "output_type": "display_data"
    }
   ],
   "source": [
    "df_for_cluster = pd.DataFrame()\n",
    "\n",
    "df_for_cluster['F_log'] = np.log(df['F'])\n",
    "df_for_cluster['M_log'] = np.log(df['M'])\n",
    "\n",
    "fig, axes = plt.subplots(ncols=2, figsize=(10, 4))\n",
    "sns.boxplot(x='F_log', data=df_for_cluster, ax=axes[0])\n",
    "sns.boxplot(x='M_log', data=df_for_cluster, ax=axes[1])"
   ]
  },
  {
   "cell_type": "code",
   "execution_count": 219,
   "id": "2c6e4e59-36a0-4993-94ad-9c1ec2ae51f0",
   "metadata": {},
   "outputs": [
    {
     "name": "stdout",
     "output_type": "stream",
     "text": [
      "Data scaling을 진행한다. 로그 변환 이후 skew는 완화되었으나, 왼쪽 꼬리에 이상치가 탐지되고 있으므로, 이상치에 강한 RobustScaler를 사용하였다.\n"
     ]
    }
   ],
   "source": [
    "print('다음으로 Data scaling을 진행한다. 로그 변환 이후 skew는 완화되었으나, 왼쪽 꼬리에 이상치가 탐지되고 있으므로, 이상치에 강한 RobustScaler를 사용하였다.')"
   ]
  },
  {
   "cell_type": "code",
   "execution_count": null,
   "id": "e56c23a6-050b-4576-b080-1431f4f0e4f8",
   "metadata": {},
   "outputs": [],
   "source": [
    "from sklearn.preprocessing import RobustScaler\n",
    "from sklearn.cluster import KMeans\n",
    "\n",
    "scaler = RobustScaler()\n",
    "scaled = scaler.fit_transform(df_for_cluster)\n",
    "\n",
    "### elbow plot\n",
    "kmeans_per_k = [KMeans(n_clusters=k, random_state=42).fit(scaled) for k in range(1, 10)]\n",
    "inertias = [model.inertia_ for model in kmeans_per_k]"
   ]
  },
  {
   "cell_type": "code",
   "execution_count": 224,
   "id": "693de53c-2729-4b69-b0a7-9e88d036a25a",
   "metadata": {},
   "outputs": [
    {
     "data": {
      "image/png": "[encoded data removed]",
      "text/plain": [
       "<Figure size 800x350 with 1 Axes>"
      ]
     },
     "metadata": {},
     "output_type": "display_data"
    },
    {
     "name": "stdout",
     "output_type": "stream",
     "text": [
      "최적의 군집 수를 결정하기 위해 elbow plot을 도출하였고, elbow는 2이므로 군집 개수는 2로 결정하였다.\n"
     ]
    }
   ],
   "source": [
    "plt.figure(figsize=(8, 3.5))\n",
    "plt.plot(range(1, 10), inertias, \"bo-\")\n",
    "plt.xlabel(\"$k$\", fontsize=14)\n",
    "plt.ylabel(\"Inertia\", fontsize=14)\n",
    "plt.show()\n",
    "\n",
    "print('최적의 군집 수를 결정하기 위해 elbow plot을 도출하였고, elbow는 2이므로 군집 개수는 2로 결정하였다.')"
   ]
  },
  {
   "cell_type": "code",
   "execution_count": 234,
   "id": "7cf3bedc-174a-4686-9cef-3a2847c52ab7",
   "metadata": {},
   "outputs": [
    {
     "name": "stderr",
     "output_type": "stream",
     "text": [
      "/Users/hyunjoong/Library/Python/3.9/lib/python/site-packages/sklearn/cluster/_kmeans.py:1412: FutureWarning: The default value of `n_init` will change from 10 to 'auto' in 1.4. Set the value of `n_init` explicitly to suppress the warning\n",
      "  super()._check_params_vs_input(X, default_n_init=10)\n"
     ]
    },
    {
     "data": {
      "image/png": "[encoded data removed]",
      "text/plain": [
       "<Figure size 640x480 with 1 Axes>"
      ]
     },
     "metadata": {},
     "output_type": "display_data"
    },
    {
     "name": "stdout",
     "output_type": "stream",
     "text": [
      "군집화 결과를 시각화하면 위와 같다.\n"
     ]
    }
   ],
   "source": [
    "kmeans = KMeans(n_clusters=2)\n",
    "kmeans.fit(scaled)\n",
    "\n",
    "# 할당된 군집을 iris 데이터에 추가\n",
    "new_labels = kmeans.labels_\n",
    "df['km_cluster'] = new_labels\n",
    "\n",
    "sns.scatterplot(x='F', y='M', hue='km_cluster', data=df)\n",
    "plt.show()\n",
    "print('군집화 결과를 시각화하면 위와 같다.')"
   ]
  },
  {
   "cell_type": "markdown",
   "id": "390c18ba-3080-4234-887c-02dc635d0fa7",
   "metadata": {},
   "source": [
    "## 1.3 군집 결과의 적합성을 군집 내 응집도, 군집 간 분리도의 개념을 사용해서 서술"
   ]
  },
  {
   "cell_type": "code",
   "execution_count": null,
   "id": "912b9ec6-37a7-4455-a02f-5e9cdc28377d",
   "metadata": {},
   "outputs": [],
   "source": [
    "print('<답안>')\n",
    "print('F와 M 변수에 로그를 취한 다음, 군집 분석 결과를 시각화하면, 두 개의 군집이 명확하게 보임을 알 수 있다. 군집 간 분리도는 매우 높은 형태이며, 이는 군집이 잘 나누어졌음을 시사한다.')\n",
    "print('왼쪽 아래의 주황색 군집의 경우 응집도가 좋으나, 오른쪽 위에 파란색으로 보이는 군집의 경우 군집 내 응집도가 높아 보이지 않는다.')"
   ]
  },
  {
   "cell_type": "markdown",
   "id": "c0ff3e12-6561-4c17-babd-afbf3dac87d0",
   "metadata": {},
   "source": [
    "## 1.4 적합된 군집 별 특성에 대한 의견과 비즈니스적 판단 제시"
   ]
  },
  {
   "cell_type": "code",
   "execution_count": 232,
   "id": "6bb98444-ac39-4831-9033-be3830cbaea9",
   "metadata": {},
   "outputs": [
    {
     "name": "stdout",
     "output_type": "stream",
     "text": [
      "<답안>\n",
      "구매 빈도와 구매액으로 소비자들을 분류해 봤을 때, 구매 빈도와 금액이 높지 않은 다수의 소비자와 구매 빈도와 금액이 매우 높은 4명의 소비자로 군집이 나뉘었다.\n",
      "왼쪽 아래의 군집 응집도가 매우 좋기 때문에, 오른쪽 위의 파란색 군집에 포함된 4명은 이상치로 취급된다. 이 경우 이상치는 회사에 매우 큰 이득을 가져다 주므로, 특별한 서비스를 제공하여 소비자가 이탈하지 않도록 잘 관리하고, 구매 혜택 또한 더 신경쓸 필요가 있다.\n"
     ]
    }
   ],
   "source": [
    "print('<답안>')\n",
    "print('구매 빈도와 구매액으로 소비자들을 분류해 봤을 때, 구매 빈도와 금액이 높지 않은 다수의 소비자와 구매 빈도와 금액이 매우 높은 4명의 소비자로 군집이 나뉘었다.')\n",
    "print('왼쪽 아래의 군집 응집도가 매우 좋기 때문에, 오른쪽 위의 파란색 군집에 포함된 4명은 이상치로 취급된다. 이 경우 이상치는 회사에 매우 큰 이득을 가져다 주므로, 특별한 서비스를 제공하여 소비자가 이탈하지 않도록 잘 관리하고, 구매 혜택 또한 더 신경쓸 필요가 있다.')"
   ]
  },
  {
   "cell_type": "markdown",
   "id": "49138ade",
   "metadata": {},
   "source": [
    "```{admonition} 2번\n",
    "**시계열분석**     \n",
    "- 2.1 EDA와 시각화를 진행하라\n",
    "- 2.2 결측치 처리와 해당 결측치 처리 방식에 대한 논리적 근거를 제시하라\n",
    "- 2.3 계절성을 반영한 시계열 모델을 제시하고 정확도 측면에서 모델 성능 평가 할 것\n",
    "- 2.4 분석 결과 활용 가능 여부에 대한 분석 전문가로서의 제안\n",
    "\n",
    "```"
   ]
  },
  {
   "cell_type": "code",
   "execution_count": 4,
   "id": "48e81b3d",
   "metadata": {
    "ExecuteTime": {
     "end_time": "2022-09-04T04:59:53.353886Z",
     "start_time": "2022-09-04T04:59:52.069005Z"
    },
    "tags": [
     "hide-input"
    ]
   },
   "outputs": [
    {
     "data": {
      "text/html": [
       "<div>\n",
       "<style scoped>\n",
       "    .dataframe tbody tr th:only-of-type {\n",
       "        vertical-align: middle;\n",
       "    }\n",
       "\n",
       "    .dataframe tbody tr th {\n",
       "        vertical-align: top;\n",
       "    }\n",
       "\n",
       "    .dataframe thead th {\n",
       "        text-align: right;\n",
       "    }\n",
       "</style>\n",
       "<table border=\"1\" class=\"dataframe\">\n",
       "  <thead>\n",
       "    <tr style=\"text-align: right;\">\n",
       "      <th></th>\n",
       "      <th>counts</th>\n",
       "    </tr>\n",
       "  </thead>\n",
       "  <tbody>\n",
       "    <tr>\n",
       "      <th>0</th>\n",
       "      <td>544.3</td>\n",
       "    </tr>\n",
       "    <tr>\n",
       "      <th>1</th>\n",
       "      <td>603.1</td>\n",
       "    </tr>\n",
       "    <tr>\n",
       "      <th>2</th>\n",
       "      <td>NaN</td>\n",
       "    </tr>\n",
       "    <tr>\n",
       "      <th>3</th>\n",
       "      <td>533.4</td>\n",
       "    </tr>\n",
       "    <tr>\n",
       "      <th>4</th>\n",
       "      <td>619.5</td>\n",
       "    </tr>\n",
       "  </tbody>\n",
       "</table>\n",
       "</div>"
      ],
      "text/plain": [
       "   counts\n",
       "0   544.3\n",
       "1   603.1\n",
       "2     NaN\n",
       "3   533.4\n",
       "4   619.5"
      ]
     },
     "execution_count": 4,
     "metadata": {},
     "output_type": "execute_result"
    }
   ],
   "source": [
    "df= pd.read_csv('https://raw.githubusercontent.com/Datamanim/datarepo/main/adp/25/problem2.csv',index_col = 0)\n",
    "df.head()"
   ]
  },
  {
   "cell_type": "markdown",
   "id": "e4797cd2-dc00-47cb-8965-f593e01a793d",
   "metadata": {},
   "source": [
    "## 2.1 EDA와 시각화를 진행하라 "
   ]
  },
  {
   "cell_type": "code",
   "execution_count": 5,
   "id": "135a7a19-ee3d-461f-99ee-290655610e6f",
   "metadata": {},
   "outputs": [
    {
     "name": "stdout",
     "output_type": "stream",
     "text": [
      "<답안>\n",
      "이 데이터는 시계열 데이터로 판단되며, 특정 시간에 대한 빈도 데이터를 담고 있다. 또한, 일부 데이터에는 NA 값이 존재한다.\n"
     ]
    },
    {
     "data": {
      "image/png": "[encoded data removed]",
      "text/plain": [
       "<Figure size 640x480 with 1 Axes>"
      ]
     },
     "metadata": {},
     "output_type": "display_data"
    },
    {
     "name": "stdout",
     "output_type": "stream",
     "text": [
      "데이터의 변화를 시각화해 봤을 땐, 별다른 패턴을 발견하기 어려웠다.\n"
     ]
    }
   ],
   "source": [
    "print('<답안>')\n",
    "print('이 데이터는 시계열 데이터로 판단되며, 특정 시간에 대한 빈도 데이터를 담고 있다. 또한, 일부 데이터에는 NA 값이 존재한다.')\n",
    "sns.lineplot(df)\n",
    "plt.show()\n",
    "print('데이터의 변화를 시각화해 봤을 땐, 별다른 패턴을 발견하기 어려웠다.')"
   ]
  },
  {
   "cell_type": "markdown",
   "id": "ef5861cd-afcc-49e1-b6e5-7700270da23f",
   "metadata": {},
   "source": [
    "## 2.2 결측치 처리와 해당 결측치 처리 방식에 대한 논리적 근거를 제시하라 "
   ]
  },
  {
   "cell_type": "code",
   "execution_count": 6,
   "id": "c581cf75-27fc-407e-834b-3841787f43bd",
   "metadata": {},
   "outputs": [
    {
     "name": "stdout",
     "output_type": "stream",
     "text": [
      "<답안>\n",
      "결측치 처리 전, 데이터의 index를 임의의 시간 데이터로 변환한다.\n",
      "\n",
      "<class 'pandas.core.frame.DataFrame'>\n",
      "DatetimeIndex: 300 entries, 2023-08-17 to 2024-06-11\n",
      "Freq: D\n",
      "Data columns (total 1 columns):\n",
      " #   Column  Non-Null Count  Dtype  \n",
      "---  ------  --------------  -----  \n",
      " 0   counts  295 non-null    float64\n",
      "dtypes: float64(1)\n",
      "memory usage: 4.7 KB\n"
     ]
    }
   ],
   "source": [
    "print('<답안>')\n",
    "print('결측치 처리 전, 데이터의 index를 임의의 시간 데이터로 변환한다.\\n')\n",
    "index = pd.date_range('8/17/2023', periods=len(df), freq='D')\n",
    "df.index = index\n",
    "df.info()"
   ]
  },
  {
   "cell_type": "code",
   "execution_count": 7,
   "id": "d27ef98c-ad20-4082-ab1e-87e95b6af081",
   "metadata": {},
   "outputs": [
    {
     "name": "stdout",
     "output_type": "stream",
     "text": [
      "<class 'pandas.core.frame.DataFrame'>\n",
      "DatetimeIndex: 300 entries, 2023-08-17 to 2024-06-11\n",
      "Freq: D\n",
      "Data columns (total 1 columns):\n",
      " #   Column  Non-Null Count  Dtype  \n",
      "---  ------  --------------  -----  \n",
      " 0   counts  300 non-null    float64\n",
      "dtypes: float64(1)\n",
      "memory usage: 4.7 KB\n",
      "\n",
      "결측치 처리는 시계열 데이터의 앞 뒤 변수를 확인하여 시간에 따라 변하는 값을 잘 표현하여 보정하는 보간법을 사용하였다. 또한, 시간 index는 임의로 넣은 것이기 때문에 값을 기준으로 보간하였다.\n",
      "처리 전후로, NA 값 5개가 없어진 것을 확인할 수 있다.\n"
     ]
    }
   ],
   "source": [
    "df = df.interpolate(method='values') # 값 기준 선형 보간\n",
    "df.info()\n",
    "print('\\n결측치 처리는 시계열 데이터의 앞 뒤 변수를 확인하여 시간에 따라 변하는 값을 잘 표현하여 보정하는 보간법을 사용하였다. 또한, 시간 index는 임의로 넣은 것이기 때문에 값을 기준으로 보간하였다.')\n",
    "print('처리 전후로, NA 값 5개가 없어진 것을 확인할 수 있다.')"
   ]
  },
  {
   "cell_type": "markdown",
   "id": "131c349b-23d0-483b-9b47-62540acad0a8",
   "metadata": {},
   "source": [
    "## 2.3 계절성을 반영한 시계열 모델을 제시하고 정확도 측면에서 모델 성능 평가 할 것 "
   ]
  },
  {
   "cell_type": "code",
   "execution_count": 8,
   "id": "198d1ade-1bd6-4ace-9540-8c3f6ef187ee",
   "metadata": {},
   "outputs": [
    {
     "name": "stdout",
     "output_type": "stream",
     "text": [
      "<답안>\n",
      "SARIMA(Seasonal ARIMA)는 계절성이 반영되는 시계열 모델이며, 이를 적용하여 모델링 진행한다.\n",
      "먼저, 데이터를 train과 test 데이터로 분리한다. 시간에 따라 변하는 데이터이므로, 시간에 따라 분할한다. 2024년 4월까지의 데이터를 train으로, 2024년 5월부터의 데이터를 test 데이터로 사용했으며, 각 데이터의 개수는 258개, 42개이다.\n"
     ]
    }
   ],
   "source": [
    "print('<답안>')\n",
    "print('SARIMA(Seasonal ARIMA)는 계절성이 반영되는 시계열 모델이며, 이를 적용하여 모델링 진행한다.')\n",
    "print('먼저, 데이터를 train과 test 데이터로 분리한다. 시간에 따라 변하는 데이터이므로, 시간에 따라 분할한다. 2024년 4월까지의 데이터를 train으로, 2024년 5월부터의 데이터를 test 데이터로 사용했으며, 각 데이터의 개수는 258개, 42개이다.')\n",
    "\n",
    "train = df[df.index <= '2024-04-30']\n",
    "test = df[df.index > '2024-04-30']"
   ]
  },
  {
   "cell_type": "code",
   "execution_count": 1,
   "id": "dd78a5cf-f145-4b03-b608-cec3136dd2d6",
   "metadata": {},
   "outputs": [],
   "source": [
    "from statsmodels.tsa.stattools import adfuller\n",
    "from statsmodels.graphics.tsaplots import plot_acf, plot_pacf"
   ]
  },
  {
   "cell_type": "code",
   "execution_count": 10,
   "id": "a2a2199b-5e01-4788-b348-de420d64b644",
   "metadata": {},
   "outputs": [
    {
     "data": {
      "text/plain": [
       "(-3.2380091666915165,\n",
       " 0.01788731782096352,\n",
       " 15,\n",
       " 242,\n",
       " {'1%': -3.457664132155201,\n",
       "  '5%': -2.8735585105960224,\n",
       "  '10%': -2.5731749894132916},\n",
       " 2758.6100859488947)"
      ]
     },
     "execution_count": 10,
     "metadata": {},
     "output_type": "execute_result"
    }
   ],
   "source": [
    "adfuller(train['counts'])\n",
    "print('Adfuller test 결과, p-value 0.02로 유의수준 하에서 귀무가설을 기각한다. 따라서, 이 데이터는 정상성을 가지고 있다고 볼 수 있으며, 차분 파리미터는 설정하지 않는다.')"
   ]
  },
  {
   "cell_type": "code",
   "execution_count": null,
   "id": "665eb688-f467-489d-b6dc-49883de0f4b3",
   "metadata": {},
   "outputs": [],
   "source": [
    "from pmdarima import auto_arima\n",
    "\n",
    "auto_model = auto_arima(train, start_p=0, d=0, start_q=0,\n",
    "                        max_p=3, max_q=3, \n",
    "                        start_P=0, start_Q=0,\n",
    "                        max_P=3, max_Q=3, m=12,\n",
    "                        seasonal=True, information_criterion='aic',\n",
    "                        trace=True)"
   ]
  },
  {
   "cell_type": "markdown",
   "id": "eb15831f-76c9-48d2-8602-c9e1e491fea4",
   "metadata": {},
   "source": [
    "## 2.4 분석 결과 활용 가능 여부에 대한 분석 전문가로서의 제안 "
   ]
  },
  {
   "cell_type": "code",
   "execution_count": null,
   "id": "5c63e153-2b02-49d6-aca9-21e31f4e9d46",
   "metadata": {},
   "outputs": [],
   "source": []
  },
  {
   "cell_type": "markdown",
   "id": "d9842a27",
   "metadata": {},
   "source": [
    "```{admonition} 3번\n",
    "**통계문제**     \n",
    "```"
   ]
  },
  {
   "cell_type": "markdown",
   "id": "8ae7aed4",
   "metadata": {},
   "source": [
    "```{admonition} 3-1번\n",
    "**서울에서 영동까지 100km/h로 가고 영동에서 서울까지 80km/로 돌아왔을 때, 평균 속도는?**\n",
    "```"
   ]
  },
  {
   "cell_type": "code",
   "execution_count": 3,
   "id": "6f9de91e",
   "metadata": {
    "ExecuteTime": {
     "end_time": "2022-09-04T04:59:53.353886Z",
     "start_time": "2022-09-04T04:59:52.069005Z"
    },
    "tags": [
     "hide-input"
    ]
   },
   "outputs": [
    {
     "name": "stdout",
     "output_type": "stream",
     "text": [
      "<답안>\n",
      "속도의 평균은 변화량의 평균으로 볼 수 있고, 이는 조화평균으로 계산할 수 있다.\n",
      "서울에서 영동까지 해당 속도로 왕복했을 때의 평균 속도는 88.889 이다.\n"
     ]
    }
   ],
   "source": [
    "print('<답안>')\n",
    "print('속도의 평균은 변화량의 평균으로 볼 수 있고, 이는 조화평균으로 계산할 수 있다.')\n",
    "print(f'서울에서 영동까지 해당 속도로 왕복했을 때의 평균 속도는 {round(stats.hmean([100, 80]), 3)} 이다.')"
   ]
  },
  {
   "cell_type": "markdown",
   "id": "a4511a7a",
   "metadata": {},
   "source": [
    "```{admonition} 3-2번\n",
    "**연매출이 3000, 4000, 5000이었다면 연평균 몇배가 증가한 것인가?**\n",
    "```"
   ]
  },
  {
   "cell_type": "code",
   "execution_count": 17,
   "id": "33e85cca",
   "metadata": {
    "ExecuteTime": {
     "end_time": "2022-09-04T04:59:53.353886Z",
     "start_time": "2022-09-04T04:59:52.069005Z"
    },
    "tags": [
     "hide-input"
    ]
   },
   "outputs": [
    {
     "name": "stdout",
     "output_type": "stream",
     "text": [
      "<답안>\n",
      "비율의 평균은 곱셉으로 계산할 수 있으므로 기하평균으로 계산할 수 있다.\n",
      "따라서 연매출의 증가율 평균은 1.775배이다.\n"
     ]
    }
   ],
   "source": [
    "print('<답안>')\n",
    "print('비율의 평균은 곱셉으로 계산할 수 있으므로 기하평균으로 계산할 수 있다.')\n",
    "print(f'따라서 연매출의 증가율 평균은 {round(stats.gmean([3000/4000, 4000/5000]), 3) + 1}배이다.')"
   ]
  },
  {
   "cell_type": "markdown",
   "id": "44c7c905",
   "metadata": {},
   "source": [
    "```{admonition} 3-3번\n",
    "**남성, 여성의 등산, 수영에 대한 취미 선호도 빈도표(2x2)를 보고, 남성 중에서 등산을 좋아할 확률을 구하시오**\n",
    "```"
   ]
  },
  {
   "cell_type": "markdown",
   "id": "b9e3e018",
   "metadata": {},
   "source": [
    "![image](https://github.com/Datamanim/datarepo/blob/main/adp/25/problem3_3.png?raw=true)"
   ]
  },
  {
   "cell_type": "code",
   "execution_count": 24,
   "id": "086fc06a",
   "metadata": {
    "ExecuteTime": {
     "end_time": "2022-09-04T04:59:53.353886Z",
     "start_time": "2022-09-04T04:59:52.069005Z"
    },
    "tags": [
     "hide-input"
    ]
   },
   "outputs": [
    {
     "name": "stdout",
     "output_type": "stream",
     "text": [
      "<답안>\n",
      "P(남성)=0.4\n",
      "P(남성|등산)=0.571\n",
      "P(여성|등산)=0.429\n",
      "P(등산|남성)=P(남성|등산)*P(등산)/(P(남성|등산)*P(등산)+P(여성|등산)*P(등산))=0.47\n",
      "남성 중 등산을 좋아할 확률은 약 0.47이다.\n"
     ]
    }
   ],
   "source": [
    "print('<답안>')\n",
    "print(f'P(남성)={(20 + 10)/(20 + 10 + 15 + 30)}')\n",
    "print(f'P(남성|등산)={round(20/(20+15), 3)}')\n",
    "print(f'P(여성|등산)={round(15/(20+15), 3)}')\n",
    "\n",
    "print(f'P(등산|남성)=P(남성|등산)*P(등산)/(P(남성|등산)*P(등산)+P(여성|등산)*P(등산))={round((0.571*0.4)/((0.571*0.4) + (0.429*0.6)), 3)}')\n",
    "print('남성 중 등산을 좋아할 확률은 약 0.47이다.')"
   ]
  },
  {
   "cell_type": "markdown",
   "id": "cdda7488",
   "metadata": {},
   "source": [
    "```{admonition} 3-4번\n",
    "**표본 10개의 분산이 90일 때 신뢰도 95%로 모분산의 신뢰구간을 추정**\n",
    "```"
   ]
  },
  {
   "cell_type": "code",
   "execution_count": 25,
   "id": "a8a441b7",
   "metadata": {
    "ExecuteTime": {
     "end_time": "2022-09-04T04:59:53.353886Z",
     "start_time": "2022-09-04T04:59:52.069005Z"
    },
    "tags": [
     "hide-input"
    ]
   },
   "outputs": [],
   "source": [
    "n = 10\n",
    "var = 90\n",
    "alpha = 0.05\n",
    "\n",
    "interval = ((n - 1) * var)/stats.chi2.ppf(1-(alpha/2), df=n-1), ((n - 1) * var)/stats.chi2.ppf(alpha/2, df=n-1)"
   ]
  },
  {
   "cell_type": "code",
   "execution_count": 27,
   "id": "5835f0f5-fe07-4006-8908-bea5676b65e6",
   "metadata": {},
   "outputs": [
    {
     "name": "stdout",
     "output_type": "stream",
     "text": [
      "<답안>\n",
      "모분산의 95% 신뢰구간은 (42.58055444790953, 299.95672846672363) 이다.\n"
     ]
    }
   ],
   "source": [
    "print('<답안>')\n",
    "print(f'모분산의 95% 신뢰구간은 {interval} 이다.')"
   ]
  },
  {
   "cell_type": "markdown",
   "id": "bdbbb3ab",
   "metadata": {},
   "source": [
    "```{admonition} 4번\n",
    "**4번 임상 대상 20명에 대해 혈압약 투약 이전과 이후의 차이가 24, 표준편차 9  신뢰구간 95%, 차이가 존재하는지 확인하려한다**     \n",
    "- 4.1 귀무가설과 연구가설을 제시하시오\n",
    "- 4.2 검정 후 귀무가설 기각 여부 제시\n",
    "\n",
    "```"
   ]
  },
  {
   "cell_type": "code",
   "execution_count": 6,
   "id": "4e14fd7f",
   "metadata": {
    "ExecuteTime": {
     "end_time": "2022-09-04T04:59:53.353886Z",
     "start_time": "2022-09-04T04:59:52.069005Z"
    },
    "tags": [
     "hide-input"
    ]
   },
   "outputs": [],
   "source": [
    "n = 20\n",
    "d = 24\n",
    "d_std = 9\n",
    "alpha = 0.05"
   ]
  },
  {
   "cell_type": "code",
   "execution_count": 126,
   "id": "f8f706c2-5dab-4a99-b68b-d420ba0b1d4d",
   "metadata": {},
   "outputs": [
    {
     "name": "stdout",
     "output_type": "stream",
     "text": [
      "<답안>\n",
      "H0: 혈압약 투여 이전과 이후의 혈압은 차이가 없다. (D=0)\n",
      "H1: 혈압약 투여 이전과 이후의 혈압은 차이가 있다. 즉, 혈압이 떨어진다. (D>0)\n",
      "D=0 대 D>0을 검정하는 문제이므로, 단측 검정을 수행한다.\n",
      "\n",
      "검정통계량: 8.432740427115679, 기각역은 1.8331129326536335이다. 따라서 귀무가설을 기각할 충분한 통계적 근거가 있다.\n",
      "따라서, 혈압약 투여 후, 혈압이 떨어진다고 생각할 수 있다.\n",
      "하지만 데이터의 요약 정보만 제시되어 있어 모집단 분포를 검정할 방법이 없고, Rank를 구할 수 없기에 비모수 검정을 진행할 수 없다. 우선 모집단 분포의 정규성을 가정하고 주어진 요약 정보를 가지고 Paired T-test를 진행하였으나, 모집단 분포의 모양에 따라 검정 결과의 신뢰도가 저하할 우려가 있다.\n"
     ]
    }
   ],
   "source": [
    "print('<답안>')\n",
    "print('H0: 혈압약 투여 이전과 이후의 혈압은 차이가 없다. (D=0)')\n",
    "print('H1: 혈압약 투여 이전과 이후의 혈압은 차이가 있다. 즉, 혈압이 떨어진다. (D>0)')\n",
    "print('D=0 대 D>0을 검정하는 문제이므로, 단측 검정을 수행한다.')\n",
    "print('')\n",
    "print(f'검정통계량: {24/(9/np.sqrt(n))}, 기각역은 {stats.t.ppf(0.95, n-1)}이다. 따라서 귀무가설을 기각할 충분한 통계적 근거가 있다.')\n",
    "print('따라서, 혈압약 투여 후, 혈압이 떨어진다고 생각할 수 있다.')\n",
    "print('하지만 데이터의 요약 정보만 제시되어 있어 모집단 분포를 검정할 방법이 없고, Rank를 구할 수 없기에 비모수 검정을 진행할 수 없다. 우선 모집단 분포의 정규성을 가정하고 주어진 요약 정보를 가지고 Paired T-test를 진행하였으나, 모집단 분포의 모양에 따라 검정 결과의 신뢰도가 저하할 우려가 있다.')"
   ]
  },
  {
   "cell_type": "markdown",
   "id": "a0709249",
   "metadata": {},
   "source": [
    "```{admonition} 5번\n",
    "**공장 X,Y,Z의 평균 출하 소요시간을 여러 일자에 거쳐 측정한 데이터이다. 각 공장의 중위수의 차이가 존재하는지 확인하려 한다**     \n",
    "- 5.1 귀무가설과 연구가설을 제시하시오\n",
    "- 5.2 검정 후 귀무가설 기각 여부 제시\n",
    "\n",
    "```"
   ]
  },
  {
   "cell_type": "code",
   "execution_count": 40,
   "id": "865e967d",
   "metadata": {
    "ExecuteTime": {
     "end_time": "2022-09-04T04:59:53.353886Z",
     "start_time": "2022-09-04T04:59:52.069005Z"
    },
    "scrolled": true,
    "tags": [
     "hide-input"
    ]
   },
   "outputs": [
    {
     "data": {
      "text/html": [
       "<div>\n",
       "<style scoped>\n",
       "    .dataframe tbody tr th:only-of-type {\n",
       "        vertical-align: middle;\n",
       "    }\n",
       "\n",
       "    .dataframe tbody tr th {\n",
       "        vertical-align: top;\n",
       "    }\n",
       "\n",
       "    .dataframe thead th {\n",
       "        text-align: right;\n",
       "    }\n",
       "</style>\n",
       "<table border=\"1\" class=\"dataframe\">\n",
       "  <thead>\n",
       "    <tr style=\"text-align: right;\">\n",
       "      <th></th>\n",
       "      <th>출하 소요시간</th>\n",
       "      <th>공장명</th>\n",
       "      <th>공장별 출하 소요시간 순위</th>\n",
       "    </tr>\n",
       "  </thead>\n",
       "  <tbody>\n",
       "    <tr>\n",
       "      <th>0</th>\n",
       "      <td>71</td>\n",
       "      <td>Z</td>\n",
       "      <td>11</td>\n",
       "    </tr>\n",
       "    <tr>\n",
       "      <th>1</th>\n",
       "      <td>75</td>\n",
       "      <td>X</td>\n",
       "      <td>14</td>\n",
       "    </tr>\n",
       "    <tr>\n",
       "      <th>2</th>\n",
       "      <td>71</td>\n",
       "      <td>X</td>\n",
       "      <td>12</td>\n",
       "    </tr>\n",
       "    <tr>\n",
       "      <th>3</th>\n",
       "      <td>53</td>\n",
       "      <td>Z</td>\n",
       "      <td>1</td>\n",
       "    </tr>\n",
       "    <tr>\n",
       "      <th>4</th>\n",
       "      <td>50</td>\n",
       "      <td>X</td>\n",
       "      <td>1</td>\n",
       "    </tr>\n",
       "  </tbody>\n",
       "</table>\n",
       "</div>"
      ],
      "text/plain": [
       "   출하 소요시간 공장명  공장별 출하 소요시간 순위\n",
       "0       71   Z              11\n",
       "1       75   X              14\n",
       "2       71   X              12\n",
       "3       53   Z               1\n",
       "4       50   X               1"
      ]
     },
     "execution_count": 40,
     "metadata": {},
     "output_type": "execute_result"
    }
   ],
   "source": [
    "df= pd.read_csv('https://raw.githubusercontent.com/Datamanim/datarepo/main/adp/25/problem5.csv',encoding='cp949')\n",
    "df.head()"
   ]
  },
  {
   "cell_type": "code",
   "execution_count": 47,
   "id": "89389a6c-7b6c-4d54-8ca2-451a0dde13fa",
   "metadata": {},
   "outputs": [
    {
     "name": "stdout",
     "output_type": "stream",
     "text": [
      "<답안>\n",
      "가설 제시\n",
      "H0: 공장 별 출하 소요시간의 중앙값은 차이가 없다.\n",
      "H1: 공장 별 출하 소요시간의 중앙값은 차이가 있다.\n"
     ]
    }
   ],
   "source": [
    "print('<답안>')\n",
    "print('가설 제시')\n",
    "print('H0: 공장 별 출하 소요시간의 중앙값은 차이가 없다.')\n",
    "print('H1: 공장 별 출하 소요시간의 중앙값은 차이가 있다.')"
   ]
  },
  {
   "cell_type": "code",
   "execution_count": 44,
   "id": "2a6f88a8-678c-47f1-a624-f17625249a79",
   "metadata": {},
   "outputs": [],
   "source": [
    "x = df[df['공장명']=='X']['출하 소요시간']\n",
    "y = df[df['공장명']=='Y']['출하 소요시간']\n",
    "z = df[df['공장명']=='Z']['출하 소요시간']"
   ]
  },
  {
   "cell_type": "code",
   "execution_count": 57,
   "id": "48dbcaa2-b1a7-4f86-b1e3-1b6403a400a8",
   "metadata": {},
   "outputs": [
    {
     "name": "stdout",
     "output_type": "stream",
     "text": [
      "<답안>\n",
      "median의 차이 여부를 보는 Mood의 median test를 진행한다.\n",
      "검정 결과, 카이제곱 검정통계량 1.2, p-value 0.5488116360940265로 귀무가설을 기각하지 않는다.\n",
      "따라서, 공장 별 출하 소요시간의 중앙값에는 차이가 있다고 볼 통계적 근거가 없다.\n"
     ]
    }
   ],
   "source": [
    "print('<답안>')\n",
    "print('median의 차이 여부를 보는 Mood의 median test를 진행한다.')\n",
    "print(f'검정 결과, 카이제곱 검정통계량 {stats.median_test(x, y, z)[0]}, p-value {stats.median_test(x, y, z)[1]}로 귀무가설을 기각하지 않는다.')\n",
    "print('따라서, 공장 별 출하 소요시간의 중앙값에는 차이가 있다고 볼 통계적 근거가 없다.')"
   ]
  },
  {
   "cell_type": "markdown",
   "id": "652bca2f",
   "metadata": {},
   "source": [
    "```{admonition} 6번\n",
    "** 투자금을 1년 차 50억원, 2년 차 60억원, 3 년 치 80억으로 결정했다면, NPV(순현재가치)가 가장 높아지는 안을 제시하시오**     \n",
    "\n",
    "```"
   ]
  },
  {
   "cell_type": "markdown",
   "id": "318007dd",
   "metadata": {
    "ExecuteTime": {
     "end_time": "2022-09-04T04:59:53.353886Z",
     "start_time": "2022-09-04T04:59:52.069005Z"
    },
    "tags": [
     "hide-input"
    ]
   },
   "source": [
    "![image](https://github.com/Datamanim/datarepo/blob/main/adp/25/problem6.png?raw=true)"
   ]
  },
  {
   "cell_type": "markdown",
   "id": "b9a2eaef-d968-4a67-87d3-b2eec1c11202",
   "metadata": {},
   "source": [
    "|투자안|1년차|2년차|3년차|NPV|\n",
    "|---|------|---|---|---|\n",
    "|1안|23|23|15|30|\n",
    "|2안|15|15|12|20|\n",
    "|3안|17|25|12|31|\n",
    "|4안|16|12|13|42|\n",
    "|5안|24|23|17|44|"
   ]
  },
  {
   "cell_type": "code",
   "execution_count": 124,
   "id": "45ef8386-b39b-4f73-8d7c-38af5d36a43b",
   "metadata": {},
   "outputs": [
    {
     "name": "stdout",
     "output_type": "stream",
     "text": [
      "<답안>\n",
      "1년 차의 예산을 볼 때, 최대 3개의 안을 복원추출 형태로 선택 가능하다. 3개를 중복조합으로 선택하고, 예산을 넘어가는 안을 제외한 후보를 먼저 선정하였다.\n",
      "\n",
      "('2', '2', '2') [45, 45, 36, 60]\n",
      "('2', '2', '3') [47, 55, 36, 71]\n",
      "('2', '2', '4') [46, 42, 37, 82]\n",
      "('2', '3', '4') [48, 52, 37, 93]\n",
      "('2', '4', '4') [47, 39, 38, 104]\n",
      "('3', '4', '4') [49, 49, 38, 115]\n",
      "('4', '4', '4') [48, 36, 39, 126]\n",
      "\n",
      "이 중 가장 NPV가 높은 안은 4안을 3번 선택하는 안으로, NPV는 126이다.\n"
     ]
    }
   ],
   "source": [
    "plan_1 = [23, 23, 15, 30]\n",
    "plan_2 = [15, 15, 12, 20]\n",
    "plan_3 = [17, 25, 12, 31]\n",
    "plan_4 = [16, 12, 13, 42]\n",
    "plan_5 = [24, 23, 17, 44]\n",
    "\n",
    "from itertools import combinations_with_replacement\n",
    "\n",
    "sets = ['1', '2', '3', '4', '5']\n",
    "data = combinations_with_replacement(sets, 3)\n",
    "\n",
    "npvs = dict()\n",
    "for item in data:\n",
    "    npv_list = list()\n",
    "    \n",
    "    first, second, third = item\n",
    "    if int(first)==1:\n",
    "        npv_list.append(plan_1)\n",
    "    elif int(first)==2:\n",
    "        npv_list.append(plan_2)\n",
    "    elif int(first)==3:\n",
    "        npv_list.append(plan_3)\n",
    "    elif int(first)==4:\n",
    "        npv_list.append(plan_4)\n",
    "    elif int(first)==5:\n",
    "        npv_list.append(plan_5)\n",
    "        \n",
    "    if int(second)==1:\n",
    "        npv_list.append(plan_1)\n",
    "    elif int(second)==2:\n",
    "        npv_list.append(plan_2)\n",
    "    elif int(second)==3:\n",
    "        npv_list.append(plan_3)\n",
    "    elif int(second)==4:\n",
    "        npv_list.append(plan_4)\n",
    "    elif int(second)==5:\n",
    "        npv_list.append(plan_5)\n",
    "        \n",
    "    if int(third)==1:\n",
    "        npv_list.append(plan_1)\n",
    "    elif int(third)==2:\n",
    "        npv_list.append(plan_2)\n",
    "    elif int(third)==3:\n",
    "        npv_list.append(plan_3)\n",
    "    elif int(third)==4:\n",
    "        npv_list.append(plan_4)\n",
    "    elif int(third)==5:\n",
    "        npv_list.append(plan_5)\n",
    "\n",
    "    first_cost = 0\n",
    "    second_cost = 0\n",
    "    third_cost = 0\n",
    "    npv = 0\n",
    "    for i in range(3):\n",
    "        first_cost += npv_list[i][0] # 1년차 cost\n",
    "        second_cost += npv_list[i][1] # 2년차 cost\n",
    "        third_cost += npv_list[i][2] # 3년차 cost\n",
    "        npv += npv_list[i][3]\n",
    "\n",
    "    npvs[(first, second, third)] = [first_cost, second_cost, third_cost, npv]\n",
    "print('<답안>')\n",
    "print('1년 차의 예산을 볼 때, 최대 3개의 안을 복원추출 형태로 선택 가능하다. 3개를 중복조합으로 선택하고, 예산을 넘어가는 안을 제외한 후보를 먼저 선정하였다.')\n",
    "print('')\n",
    "for k, v in npvs.items():\n",
    "    if v[0] > 50 or v[1] > 60 or v[2]> 80:\n",
    "        continue\n",
    "    print(k, v)\n",
    "\n",
    "print('')\n",
    "print('이 중 가장 NPV가 높은 안은 4안을 3번 선택하는 안으로, NPV는 126이다.')"
   ]
  }
 ],
 "metadata": {
  "celltoolbar": "Edit Metadata",
  "kernelspec": {
   "display_name": "Python 3 (ipykernel)",
   "language": "python",
   "name": "python3"
  },
  "language_info": {
   "codemirror_mode": {
    "name": "ipython",
    "version": 3
   },
   "file_extension": ".py",
   "mimetype": "text/x-python",
   "name": "python",
   "nbconvert_exporter": "python",
   "pygments_lexer": "ipython3",
   "version": "3.9.6"
  }
 },
 "nbformat": 4,
 "nbformat_minor": 5
}
