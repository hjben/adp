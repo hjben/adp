{
 "cells": [
  {
   "cell_type": "markdown",
   "metadata": {},
   "source": [
    "# 3. 비지도학습 알고리즘 (차원축소, 군집분석, 연관규칙분석)"
   ]
  },
  {
   "cell_type": "code",
   "execution_count": 12,
   "metadata": {},
   "outputs": [
    {
     "data": {
      "text/html": [
       "<style>.container {width:95% !important ; }</style>"
      ],
      "text/plain": [
       "<IPython.core.display.HTML object>"
      ]
     },
     "metadata": {},
     "output_type": "display_data"
    }
   ],
   "source": [
    "from IPython.display import display,HTML\n",
    "display(HTML(\"<style>.container {width:95% !important ; }</style>\"))"
   ]
  },
  {
   "cell_type": "code",
   "execution_count": 13,
   "metadata": {},
   "outputs": [],
   "source": [
    "import numpy as np\n",
    "import pandas as pd\n",
    "\n",
    "import matplotlib.pyplot as plt\n",
    "import seaborn as sns\n",
    "\n",
    "import scipy.stats as stats"
   ]
  },
  {
   "cell_type": "markdown",
   "metadata": {},
   "source": [
    "## [연습문제]"
   ]
  },
  {
   "cell_type": "markdown",
   "metadata": {},
   "source": [
    "### 1. 다음은 신용 카드 사용자 데이터이다. 데이터는 신용카드 사용 행태를 나타내는 입력 변수들 구성되어 있다. 데이터 컬럼 정의서는 아래와 같을 때, 2개의 군집 분석 알고리즘으로 각각 군집을 생성하고 군집 생성 과정을 설명하시오. (데이터 링크는 아래 코드 참조)\n"
   ]
  },
  {
   "cell_type": "code",
   "execution_count": 75,
   "metadata": {},
   "outputs": [
    {
     "data": {
      "text/html": [
       "<div>\n",
       "<style scoped>\n",
       "    .dataframe tbody tr th:only-of-type {\n",
       "        vertical-align: middle;\n",
       "    }\n",
       "\n",
       "    .dataframe tbody tr th {\n",
       "        vertical-align: top;\n",
       "    }\n",
       "\n",
       "    .dataframe thead th {\n",
       "        text-align: right;\n",
       "    }\n",
       "</style>\n",
       "<table border=\"1\" class=\"dataframe\">\n",
       "  <thead>\n",
       "    <tr style=\"text-align: right;\">\n",
       "      <th></th>\n",
       "      <th>CUST_ID</th>\n",
       "      <th>BALANCE</th>\n",
       "      <th>BALANCE_FREQUENCY</th>\n",
       "      <th>PURCHASES</th>\n",
       "      <th>PURCHASES_FREQUENCY</th>\n",
       "      <th>PURCHASES_TRX</th>\n",
       "    </tr>\n",
       "  </thead>\n",
       "  <tbody>\n",
       "    <tr>\n",
       "      <th>0</th>\n",
       "      <td>C10001</td>\n",
       "      <td>40.900749</td>\n",
       "      <td>0.818182</td>\n",
       "      <td>95.40</td>\n",
       "      <td>0.166667</td>\n",
       "      <td>2</td>\n",
       "    </tr>\n",
       "    <tr>\n",
       "      <th>1</th>\n",
       "      <td>C10002</td>\n",
       "      <td>3202.467416</td>\n",
       "      <td>0.909091</td>\n",
       "      <td>0.00</td>\n",
       "      <td>0.000000</td>\n",
       "      <td>0</td>\n",
       "    </tr>\n",
       "    <tr>\n",
       "      <th>2</th>\n",
       "      <td>C10003</td>\n",
       "      <td>2495.148862</td>\n",
       "      <td>1.000000</td>\n",
       "      <td>773.17</td>\n",
       "      <td>1.000000</td>\n",
       "      <td>12</td>\n",
       "    </tr>\n",
       "    <tr>\n",
       "      <th>3</th>\n",
       "      <td>C10004</td>\n",
       "      <td>1666.670542</td>\n",
       "      <td>0.636364</td>\n",
       "      <td>1499.00</td>\n",
       "      <td>0.083333</td>\n",
       "      <td>1</td>\n",
       "    </tr>\n",
       "    <tr>\n",
       "      <th>4</th>\n",
       "      <td>C10005</td>\n",
       "      <td>817.714335</td>\n",
       "      <td>1.000000</td>\n",
       "      <td>16.00</td>\n",
       "      <td>0.083333</td>\n",
       "      <td>1</td>\n",
       "    </tr>\n",
       "  </tbody>\n",
       "</table>\n",
       "</div>"
      ],
      "text/plain": [
       "  CUST_ID      BALANCE  BALANCE_FREQUENCY  PURCHASES  PURCHASES_FREQUENCY  \\\n",
       "0  C10001    40.900749           0.818182      95.40             0.166667   \n",
       "1  C10002  3202.467416           0.909091       0.00             0.000000   \n",
       "2  C10003  2495.148862           1.000000     773.17             1.000000   \n",
       "3  C10004  1666.670542           0.636364    1499.00             0.083333   \n",
       "4  C10005   817.714335           1.000000      16.00             0.083333   \n",
       "\n",
       "   PURCHASES_TRX  \n",
       "0              2  \n",
       "1              0  \n",
       "2             12  \n",
       "3              1  \n",
       "4              1  "
      ]
     },
     "execution_count": 75,
     "metadata": {},
     "output_type": "execute_result"
    }
   ],
   "source": [
    "from pandas import read_csv\n",
    "df = read_csv('https://raw.githubusercontent.com/algoboni/pythoncodebook1-1/main/practice10_credit_card.csv')\n",
    "df.head()"
   ]
  },
  {
   "cell_type": "code",
   "execution_count": 76,
   "metadata": {},
   "outputs": [],
   "source": [
    "df = df.drop('CUST_ID', axis=1)"
   ]
  },
  {
   "cell_type": "code",
   "execution_count": 78,
   "metadata": {},
   "outputs": [
    {
     "data": {
      "image/png": "[encoded data removed]",
      "text/plain": [
       "<Figure size 1800x360 with 5 Axes>"
      ]
     },
     "metadata": {
      "needs_background": "light"
     },
     "output_type": "display_data"
    }
   ],
   "source": [
    "fig, axes = plt.subplots(ncols=5, figsize=(25, 5))\n",
    "for i, col in enumerate(df.columns):\n",
    "    sns.boxplot(df[col], ax=axes[i])"
   ]
  },
  {
   "cell_type": "code",
   "execution_count": 79,
   "metadata": {},
   "outputs": [
    {
     "name": "stdout",
     "output_type": "stream",
     "text": [
      "CUST_ID 변수는 데이터를 구분하기 위한 ID 값이므로 제거한다. 나머지 5개 변수의 분포를 boxplot으로 확인해 본 결과, PURCHASES_FREQUENCY 변수를 제외하고는 skew가 있고 이상치가 다수 관측됨을 확인하였다.\n"
     ]
    }
   ],
   "source": [
    "print('CUST_ID 변수는 데이터를 구분하기 위한 ID 값이므로 제거한다. 나머지 5개 변수의 분포를 boxplot으로 확인해 본 결과, PURCHASES_FREQUENCY 변수를 제외하고는 skew가 있고 이상치가 다수 관측됨을 확인하였다.')"
   ]
  },
  {
   "cell_type": "code",
   "execution_count": 80,
   "metadata": {},
   "outputs": [],
   "source": [
    "from sklearn.cluster import KMeans, DBSCAN\n",
    "from sklearn.preprocessing import RobustScaler"
   ]
  },
  {
   "cell_type": "code",
   "execution_count": 81,
   "metadata": {},
   "outputs": [],
   "source": [
    "scaler = RobustScaler()\n",
    "scaled = scaler.fit_transform(df)\n",
    "scaled_df = pd.DataFrame(scaled, columns=df.columns)"
   ]
  },
  {
   "cell_type": "code",
   "execution_count": 83,
   "metadata": {},
   "outputs": [
    {
     "name": "stdout",
     "output_type": "stream",
     "text": [
      "다수 이상치가 있는 변수들의 scaling을 위해 RobustScaler를 이용하였다.\n"
     ]
    }
   ],
   "source": [
    "print('다수 이상치가 있는 변수들의 scaling을 위해 RobustScaler를 이용하였다.')"
   ]
  },
  {
   "cell_type": "code",
   "execution_count": 84,
   "metadata": {},
   "outputs": [],
   "source": [
    "### elbow plot\n",
    "def elbow(x):\n",
    "    sse=[]\n",
    "    for i in range(1, 11):\n",
    "        km = KMeans(n_clusters=i, random_state=1)\n",
    "        km.fit(x)\n",
    "        sse.append(km.inertia_)\n",
    "    \n",
    "    plt.plot(range(1, 11), sse, marker='o')\n",
    "    plt.xlabel('The Number of Clusters')\n",
    "    plt.ylabel('SSE')\n",
    "    plt.show()\n",
    "    \n",
    "    print(sse)"
   ]
  },
  {
   "cell_type": "code",
   "execution_count": 85,
   "metadata": {},
   "outputs": [
    {
     "data": {
      "image/png": "[encoded data removed]",
      "text/plain": [
       "<Figure size 432x288 with 1 Axes>"
      ]
     },
     "metadata": {
      "needs_background": "light"
     },
     "output_type": "display_data"
    },
    {
     "name": "stdout",
     "output_type": "stream",
     "text": [
      "[110463.06336127294, 74642.9458234488, 48053.78459756248, 37510.34373600032, 31477.54871009831, 26719.172449677306, 22741.057528002824, 20188.954787528477, 18322.82956400067, 16857.896840083202]\n"
     ]
    }
   ],
   "source": [
    "elbow(scaled_df)"
   ]
  },
  {
   "cell_type": "code",
   "execution_count": 86,
   "metadata": {},
   "outputs": [
    {
     "name": "stdout",
     "output_type": "stream",
     "text": [
      "군집 분석 알고리즘으로 K-means와 DBSCAN을 수행한다. 먼저 K-means 군집분석을 수행하기 위해 elbow plot을 그려본 결과, n=3에서 elbow가 관측됨을 그래프로 확인할 수 있다.\n"
     ]
    }
   ],
   "source": [
    "print('군집 분석 알고리즘으로 K-means와 DBSCAN을 수행한다. 먼저 K-means 군집분석을 수행하기 위해 elbow plot을 그려본 결과, n=3에서 elbow가 관측됨을 그래프로 확인할 수 있다.')"
   ]
  },
  {
   "cell_type": "code",
   "execution_count": 88,
   "metadata": {},
   "outputs": [],
   "source": [
    "#최적의 k로  K-Means 군집화 실행\n",
    "km = KMeans(n_clusters=3, random_state=1)\n",
    "km.fit(scaled_df)\n",
    "\n",
    "# 할당된 군집을 데이터에 추가\n",
    "new_labels = km.labels_\n",
    "df['cluster'] = new_labels"
   ]
  },
  {
   "cell_type": "code",
   "execution_count": 90,
   "metadata": {},
   "outputs": [],
   "source": [
    "dbscan = DBSCAN()"
   ]
  },
  {
   "cell_type": "code",
   "execution_count": 91,
   "metadata": {},
   "outputs": [],
   "source": [
    "dbscan_cluster = dbscan.fit_predict(scaled_df)\n",
    "df['cluster_dbscan'] = dbscan_cluster"
   ]
  },
  {
   "cell_type": "markdown",
   "metadata": {},
   "source": [
    "### 2. 두 모델을 비교하고, 더 타당한 모델을 선택하시오."
   ]
  },
  {
   "cell_type": "code",
   "execution_count": 92,
   "metadata": {},
   "outputs": [],
   "source": [
    "from sklearn.metrics import silhouette_score"
   ]
  },
  {
   "cell_type": "code",
   "execution_count": 93,
   "metadata": {},
   "outputs": [
    {
     "data": {
      "text/plain": [
       "0.5678401215476035"
      ]
     },
     "execution_count": 93,
     "metadata": {},
     "output_type": "execute_result"
    }
   ],
   "source": [
    "silhouette_score(scaled_df, km.labels_)"
   ]
  },
  {
   "cell_type": "code",
   "execution_count": 95,
   "metadata": {},
   "outputs": [
    {
     "data": {
      "text/plain": [
       "0.06245346319406094"
      ]
     },
     "execution_count": 95,
     "metadata": {},
     "output_type": "execute_result"
    }
   ],
   "source": [
    "silhouette_score(scaled_df, dbscan_cluster)"
   ]
  },
  {
   "cell_type": "code",
   "execution_count": 100,
   "metadata": {},
   "outputs": [
    {
     "name": "stdout",
     "output_type": "stream",
     "text": [
      "실루엣 계수는 군집 내 응집도와 군집 간 분리도를 측정하는 값이다. 실루엣 계수로 미루어봤을 때, 계수 값이 1에 가까운 K-means가 더 적합한 모델로 생각된다.\n"
     ]
    }
   ],
   "source": [
    "print('실루엣 계수는 군집 내 응집도와 군집 간 분리도를 측정하는 값이다. 실루엣 계수로 미루어봤을 때, 계수 값이 1에 가까운 K-means가 더 적합한 모델로 생각된다.')"
   ]
  },
  {
   "cell_type": "markdown",
   "metadata": {},
   "source": [
    "### 3. 선택한 모델로 생성한 군집들의 고객 특성을 분석하시오."
   ]
  },
  {
   "cell_type": "code",
   "execution_count": 98,
   "metadata": {},
   "outputs": [],
   "source": [
    "df.drop('cluster_dbscan', axis=1, inplace=True)"
   ]
  },
  {
   "cell_type": "code",
   "execution_count": 99,
   "metadata": {},
   "outputs": [
    {
     "data": {
      "text/html": [
       "<div>\n",
       "<style scoped>\n",
       "    .dataframe tbody tr th:only-of-type {\n",
       "        vertical-align: middle;\n",
       "    }\n",
       "\n",
       "    .dataframe tbody tr th {\n",
       "        vertical-align: top;\n",
       "    }\n",
       "\n",
       "    .dataframe thead th {\n",
       "        text-align: right;\n",
       "    }\n",
       "</style>\n",
       "<table border=\"1\" class=\"dataframe\">\n",
       "  <thead>\n",
       "    <tr style=\"text-align: right;\">\n",
       "      <th></th>\n",
       "      <th>BALANCE</th>\n",
       "      <th>BALANCE_FREQUENCY</th>\n",
       "      <th>PURCHASES</th>\n",
       "      <th>PURCHASES_FREQUENCY</th>\n",
       "      <th>PURCHASES_TRX</th>\n",
       "    </tr>\n",
       "    <tr>\n",
       "      <th>cluster</th>\n",
       "      <th></th>\n",
       "      <th></th>\n",
       "      <th></th>\n",
       "      <th></th>\n",
       "      <th></th>\n",
       "    </tr>\n",
       "  </thead>\n",
       "  <tbody>\n",
       "    <tr>\n",
       "      <th>0</th>\n",
       "      <td>1729.148448</td>\n",
       "      <td>0.971156</td>\n",
       "      <td>702.322980</td>\n",
       "      <td>0.497576</td>\n",
       "      <td>11.485800</td>\n",
       "    </tr>\n",
       "    <tr>\n",
       "      <th>1</th>\n",
       "      <td>182.199062</td>\n",
       "      <td>0.390395</td>\n",
       "      <td>376.360349</td>\n",
       "      <td>0.293165</td>\n",
       "      <td>5.018468</td>\n",
       "    </tr>\n",
       "    <tr>\n",
       "      <th>2</th>\n",
       "      <td>3255.914140</td>\n",
       "      <td>0.988214</td>\n",
       "      <td>6844.667849</td>\n",
       "      <td>0.951414</td>\n",
       "      <td>85.730620</td>\n",
       "    </tr>\n",
       "  </tbody>\n",
       "</table>\n",
       "</div>"
      ],
      "text/plain": [
       "             BALANCE  BALANCE_FREQUENCY    PURCHASES  PURCHASES_FREQUENCY  \\\n",
       "cluster                                                                     \n",
       "0        1729.148448           0.971156   702.322980             0.497576   \n",
       "1         182.199062           0.390395   376.360349             0.293165   \n",
       "2        3255.914140           0.988214  6844.667849             0.951414   \n",
       "\n",
       "         PURCHASES_TRX  \n",
       "cluster                 \n",
       "0            11.485800  \n",
       "1             5.018468  \n",
       "2            85.730620  "
      ]
     },
     "execution_count": 99,
     "metadata": {},
     "output_type": "execute_result"
    }
   ],
   "source": [
    "cal_mean = df.groupby('cluster').mean()\n",
    "cal_mean"
   ]
  },
  {
   "cell_type": "code",
   "execution_count": 101,
   "metadata": {},
   "outputs": [
    {
     "name": "stdout",
     "output_type": "stream",
     "text": [
      "1번 클러스터의 고객들은 잔고도 적고, 잔고 업데이트 빈도도 적은 군집이다. 구매액, 빈도, 건수 모두 적어 신용카드를 거의 사용하지 않는 고객군이다.\n",
      "2번 클러스터의 고객들은 잔고가 가장 많으며, 업데이트 빈도도 가장 높다. 구매액과 빈도, 건수 모두 타 군집에 비해 월등이 높으므로 우수 고객군으로 볼 수 있다.\n",
      "0번 클러스터의 고객들은 잔고가 어느 정도 있고 업데이트 빈도도 높은 편이지만, 구매 관련 지표들은 높지 않은 고객군이다. 카드 사용을 적극 독려한다면 우수 고객군으로 넘어갈 수 있는 잠재 고객으로 볼 수 있다.\n"
     ]
    }
   ],
   "source": [
    "print('1번 클러스터의 고객들은 잔고도 적고, 잔고 업데이트 빈도도 적은 군집이다. 구매액, 빈도, 건수 모두 적어 신용카드를 거의 사용하지 않는 고객군이다.')\n",
    "print('2번 클러스터의 고객들은 잔고가 가장 많으며, 업데이트 빈도도 가장 높다. 구매액과 빈도, 건수 모두 타 군집에 비해 월등이 높으므로 우수 고객군으로 볼 수 있다.')\n",
    "print('0번 클러스터의 고객들은 잔고가 어느 정도 있고 업데이트 빈도도 높은 편이지만, 구매 관련 지표들은 높지 않은 고객군이다. 카드 사용을 적극 독려한다면 우수 고객군으로 넘어갈 수 있는 잠재 고객으로 볼 수 있다.')"
   ]
  },
  {
   "cell_type": "markdown",
   "metadata": {},
   "source": [
    "### 4. 고객 특성이 다음과 같다면 어느 군집으로 분류하는 것이 타당한지 서술하시오."
   ]
  },
  {
   "cell_type": "code",
   "execution_count": 105,
   "metadata": {},
   "outputs": [
    {
     "data": {
      "text/plain": [
       "array([2], dtype=int32)"
      ]
     },
     "execution_count": 105,
     "metadata": {},
     "output_type": "execute_result"
    }
   ],
   "source": [
    "km.predict(np.array([3000, 1, 6000, 1, 100]).reshape(1, -1))"
   ]
  },
  {
   "cell_type": "code",
   "execution_count": 106,
   "metadata": {},
   "outputs": [
    {
     "name": "stdout",
     "output_type": "stream",
     "text": [
      "해당 고객은 잔고도 많고, 업데이트 빈도가 매우 높다. 또한, 구매 관련 지표들도 매우 높은 편에 속하므로 2번 클러스터에 배정하는 것이 가장 타당하다. 모델을 통해 예측했을 때에도 동일한 결과를 얻었다.\n"
     ]
    }
   ],
   "source": [
    "print('해당 고객은 잔고도 많고, 업데이트 빈도가 매우 높다. 또한, 구매 관련 지표들도 매우 높은 편에 속하므로 2번 클러스터에 배정하는 것이 가장 타당하다. 모델을 통해 예측했을 때에도 동일한 결과를 얻었다.')"
   ]
  },
  {
   "cell_type": "markdown",
   "metadata": {},
   "source": [
    "### 5. 각 군집들을 대상으로 마케팅 전략을 수립하시오."
   ]
  },
  {
   "cell_type": "code",
   "execution_count": 107,
   "metadata": {},
   "outputs": [
    {
     "name": "stdout",
     "output_type": "stream",
     "text": [
      "1번 클러스터의 고객들은 구매 관련 지표도 높지 않지만, 연결된 계좌의 잔고도 많지 않기 때문에 구매력이 높지 않다. 구매력이 낮은 경우 필수적인 소비에 집중해야 하고, 작은 할인에도 민감하게 반응하는 경우가 많으므로 대중교통, 공과금 등을 결제할 때의 할인 혜택 추가를 제안한다.\n",
      "2번 클러스터인 우수 고객군에게는 VIP 제도를 도입하여 특별 대우를 받을 수 있도록 하여 기존의 카드 사용을 더욱 독려한다.\n",
      "0번 클러스터의 잠재력이 높은 고객은 구매력은 충분하지만 실제 구매로는 이어지지 않는 경우이다. 해당 군집을 대상으로 하는 프로모션을 기획하여 카드 혜택을 늘린다.\n"
     ]
    }
   ],
   "source": [
    "print('1번 클러스터의 고객들은 구매 관련 지표도 높지 않지만, 연결된 계좌의 잔고도 많지 않기 때문에 구매력이 높지 않다. 구매력이 낮은 경우 필수적인 소비에 집중해야 하고, 작은 할인에도 민감하게 반응하는 경우가 많으므로 대중교통, 공과금 등을 결제할 때의 할인 혜택 추가를 제안한다.')\n",
    "print('2번 클러스터인 우수 고객군에게는 VIP 제도를 도입하여 특별 대우를 받을 수 있도록 하여 기존의 카드 사용을 더욱 독려한다.')\n",
    "print('0번 클러스터의 잠재력이 높은 고객은 구매력은 충분하지만 실제 구매로는 이어지지 않는 경우이다. 해당 군집을 대상으로 하는 프로모션을 기획하여 카드 혜택을 늘린다.')"
   ]
  },
  {
   "cell_type": "markdown",
   "metadata": {},
   "source": [
    "## [기출문제]"
   ]
  },
  {
   "cell_type": "markdown",
   "metadata": {},
   "source": [
    "# 과제 1. 구매데이터 군집분석 문제  \n",
    "[데이터 설명]\n",
    "> - nvoiceNo: Invoice number. Nominal, a 6-digit integral number uniquely assigned to each transaction. If this code starts with letter ‘c’, it indicates a cancellation.\n",
    "> - StockCode: Product (item) code. Nominal, a 5-digit integral number uniquely assigned to each distinct product.\n",
    "> - Description: Product (item) name. Nominal.\n",
    "> - Quantity: The quantities of each product (item) per transaction. Numeric.\n",
    "> - InvoiceDate: Invice Date and time. Numeric, the day and time when each transaction was generated.\n",
    "> - UnitPrice: Unit price. Numeric, Product price per unit in sterling.\n",
    "> - CustomerID: Customer number. Nominal, a 5-digit integral number uniquely assigned to each customer.\n",
    "> - Country: Country name. Nominal, the name of the country where each customer resides.\n",
    "- ADP 실기 26회 기출문제: https://www.datamanim.com/dataset/ADPpb/00/26.html"
   ]
  },
  {
   "cell_type": "markdown",
   "metadata": {},
   "source": [
    "### 1-1. 결측치를 확인하고, 결측치 제거할 것"
   ]
  },
  {
   "cell_type": "code",
   "execution_count": 2,
   "metadata": {},
   "outputs": [
    {
     "data": {
      "text/html": [
       "<div>\n",
       "<style scoped>\n",
       "    .dataframe tbody tr th:only-of-type {\n",
       "        vertical-align: middle;\n",
       "    }\n",
       "\n",
       "    .dataframe tbody tr th {\n",
       "        vertical-align: top;\n",
       "    }\n",
       "\n",
       "    .dataframe thead th {\n",
       "        text-align: right;\n",
       "    }\n",
       "</style>\n",
       "<table border=\"1\" class=\"dataframe\">\n",
       "  <thead>\n",
       "    <tr style=\"text-align: right;\">\n",
       "      <th></th>\n",
       "      <th>InvoiceNo</th>\n",
       "      <th>StockCode</th>\n",
       "      <th>Description</th>\n",
       "      <th>Quantity</th>\n",
       "      <th>InvoiceDate</th>\n",
       "      <th>UnitPrice</th>\n",
       "      <th>CustomerID</th>\n",
       "      <th>Country</th>\n",
       "    </tr>\n",
       "  </thead>\n",
       "  <tbody>\n",
       "    <tr>\n",
       "      <th>0</th>\n",
       "      <td>563808</td>\n",
       "      <td>22432</td>\n",
       "      <td>WATERING CAN PINK BUNNY</td>\n",
       "      <td>6.0</td>\n",
       "      <td>8/19/2011 11:46</td>\n",
       "      <td>1.95</td>\n",
       "      <td>12626.0</td>\n",
       "      <td>Germany</td>\n",
       "    </tr>\n",
       "    <tr>\n",
       "      <th>1</th>\n",
       "      <td>561645</td>\n",
       "      <td>23166</td>\n",
       "      <td>MEDIUM CERAMIC TOP STORAGE JAR</td>\n",
       "      <td>12.0</td>\n",
       "      <td>7/28/2011 15:16</td>\n",
       "      <td>1.25</td>\n",
       "      <td>14911.0</td>\n",
       "      <td>EIRE</td>\n",
       "    </tr>\n",
       "    <tr>\n",
       "      <th>2</th>\n",
       "      <td>568651</td>\n",
       "      <td>20985</td>\n",
       "      <td>HEART CALCULATOR</td>\n",
       "      <td>12.0</td>\n",
       "      <td>9/28/2011 12:04</td>\n",
       "      <td>1.25</td>\n",
       "      <td>12362.0</td>\n",
       "      <td>Belgium</td>\n",
       "    </tr>\n",
       "    <tr>\n",
       "      <th>3</th>\n",
       "      <td>541711</td>\n",
       "      <td>22772</td>\n",
       "      <td>PINK DRAWER KNOB ACRYLIC EDWARDIAN</td>\n",
       "      <td>24.0</td>\n",
       "      <td>1/21/2011 11:18</td>\n",
       "      <td>1.25</td>\n",
       "      <td>14646.0</td>\n",
       "      <td>Netherlands</td>\n",
       "    </tr>\n",
       "    <tr>\n",
       "      <th>4</th>\n",
       "      <td>554134</td>\n",
       "      <td>21154</td>\n",
       "      <td>RED RETROSPOT OVEN GLOVE</td>\n",
       "      <td>10.0</td>\n",
       "      <td>5/23/2011 9:48</td>\n",
       "      <td>1.25</td>\n",
       "      <td>12583.0</td>\n",
       "      <td>France</td>\n",
       "    </tr>\n",
       "  </tbody>\n",
       "</table>\n",
       "</div>"
      ],
      "text/plain": [
       "  InvoiceNo StockCode                         Description  Quantity  \\\n",
       "0    563808     22432             WATERING CAN PINK BUNNY       6.0   \n",
       "1    561645     23166      MEDIUM CERAMIC TOP STORAGE JAR      12.0   \n",
       "2    568651     20985                    HEART CALCULATOR      12.0   \n",
       "3    541711     22772  PINK DRAWER KNOB ACRYLIC EDWARDIAN      24.0   \n",
       "4    554134     21154           RED RETROSPOT OVEN GLOVE       10.0   \n",
       "\n",
       "       InvoiceDate  UnitPrice  CustomerID      Country  \n",
       "0  8/19/2011 11:46       1.95     12626.0      Germany  \n",
       "1  7/28/2011 15:16       1.25     14911.0         EIRE  \n",
       "2  9/28/2011 12:04       1.25     12362.0      Belgium  \n",
       "3  1/21/2011 11:18       1.25     14646.0  Netherlands  \n",
       "4   5/23/2011 9:48       1.25     12583.0       France  "
      ]
     },
     "execution_count": 2,
     "metadata": {},
     "output_type": "execute_result"
    }
   ],
   "source": [
    "import pandas as pd\n",
    "\n",
    "df= pd.read_csv('https://raw.githubusercontent.com/Datamanim/datarepo/main/adp/26/problem1.csv')\n",
    "df.head()"
   ]
  },
  {
   "cell_type": "code",
   "execution_count": 8,
   "metadata": {},
   "outputs": [
    {
     "data": {
      "text/plain": [
       "InvoiceNo       0\n",
       "StockCode       0\n",
       "Description     0\n",
       "Quantity       25\n",
       "InvoiceDate     0\n",
       "UnitPrice      97\n",
       "CustomerID      0\n",
       "Country         0\n",
       "dtype: int64"
      ]
     },
     "execution_count": 8,
     "metadata": {},
     "output_type": "execute_result"
    }
   ],
   "source": [
    "df.isnull().sum()"
   ]
  },
  {
   "cell_type": "code",
   "execution_count": 9,
   "metadata": {},
   "outputs": [
    {
     "data": {
      "text/plain": [
       "InvoiceNo      0\n",
       "StockCode      0\n",
       "Description    0\n",
       "Quantity       0\n",
       "InvoiceDate    0\n",
       "UnitPrice      0\n",
       "CustomerID     0\n",
       "Country        0\n",
       "dtype: int64"
      ]
     },
     "execution_count": 9,
     "metadata": {},
     "output_type": "execute_result"
    }
   ],
   "source": [
    "df = df.dropna()\n",
    "df.isnull().sum()"
   ]
  },
  {
   "cell_type": "code",
   "execution_count": 7,
   "metadata": {},
   "outputs": [
    {
     "name": "stdout",
     "output_type": "stream",
     "text": [
      "Quantity와 UnitPrice에 일부 결측치가 존재한다.\n",
      "데이터 중 결측치가 있는 데이터는 매우 극소수이고, 데이터가 충분히 많은 것으로 판단되므로 결측치 제거를 진행하고, 모든 변수에 결측치가 없음을 확인하였다.\n"
     ]
    }
   ],
   "source": [
    "print('Quantity와 UnitPrice에 일부 결측치가 존재한다.')\n",
    "print('데이터 중 결측치가 있는 데이터는 매우 극소수이고, 데이터가 충분히 많은 것으로 판단되므로 결측치 제거를 진행하고, 모든 변수에 결측치가 없음을 확인하였다.')"
   ]
  },
  {
   "cell_type": "markdown",
   "metadata": {},
   "source": [
    "### 1-2. 이상치 제거하는 방법을 설명하고, 이상치 제거하고 난 결과를 통계적으로 나타낼 것"
   ]
  },
  {
   "cell_type": "code",
   "execution_count": 10,
   "metadata": {},
   "outputs": [
    {
     "name": "stdout",
     "output_type": "stream",
     "text": [
      "IQR method를 활용하여 이상치를 탐지하고자 한다. IQR 방법은 제 1사분위수와 제 3사분위수에서 각각 아래쪽과 위쪽으로 IQR*1.5 이상 차이가 나는 값을 이상치로 처리하는 방법이다. IQR 이상치를 쉽게 확인하는 방법은 boxplot을 그려보는 것이다.\n",
      "연속형 변수를 갖는 Quantity와 UnitPrice에 대하여 boxplot을 그려 이상치를 확인하였다.\n"
     ]
    }
   ],
   "source": [
    "print('IQR method를 활용하여 이상치를 탐지하고자 한다. IQR 방법은 제 1사분위수와 제 3사분위수에서 각각 아래쪽과 위쪽으로 IQR*1.5 이상 차이가 나는 값을 이상치로 처리하는 방법이다. IQR 이상치를 쉽게 확인하는 방법은 boxplot을 그려보는 것이다.')\n",
    "print('연속형 변수를 갖는 Quantity와 UnitPrice에 대하여 boxplot을 그려 이상치를 확인하였다.')"
   ]
  },
  {
   "cell_type": "code",
   "execution_count": 14,
   "metadata": {},
   "outputs": [
    {
     "data": {
      "text/plain": [
       "<matplotlib.axes._subplots.AxesSubplot at 0xffff74e26850>"
      ]
     },
     "execution_count": 14,
     "metadata": {},
     "output_type": "execute_result"
    },
    {
     "data": {
      "image/png": "[encoded data removed]",
      "text/plain": [
       "<Figure size 576x360 with 2 Axes>"
      ]
     },
     "metadata": {
      "needs_background": "light"
     },
     "output_type": "display_data"
    }
   ],
   "source": [
    "fig, axes = plt.subplots(ncols=2, figsize=(8, 5))\n",
    "sns.boxplot(df['Quantity'], ax=axes[0])\n",
    "sns.boxplot(df['UnitPrice'], ax=axes[1])"
   ]
  },
  {
   "cell_type": "code",
   "execution_count": 15,
   "metadata": {},
   "outputs": [
    {
     "name": "stdout",
     "output_type": "stream",
     "text": [
      "Quantity 변수에 다수의 음수 값이 포착되었다. 이는 취소 주문에서 볼 수 있는 수치인데, 정상 주문과 취소 주문을 합쳐 Quantity를 재성성 해야한다.\n"
     ]
    }
   ],
   "source": [
    "print(\"Quantity 변수에 다수의 음수 값이 포착되었다. 이는 취소 주문에서 볼 수 있는 수치인데, 정상 주문과 취소 주문을 합쳐 Quantity를 재성성 해야한다.\")"
   ]
  },
  {
   "cell_type": "code",
   "execution_count": 16,
   "metadata": {},
   "outputs": [
    {
     "data": {
      "text/html": [
       "<div>\n",
       "<style scoped>\n",
       "    .dataframe tbody tr th:only-of-type {\n",
       "        vertical-align: middle;\n",
       "    }\n",
       "\n",
       "    .dataframe tbody tr th {\n",
       "        vertical-align: top;\n",
       "    }\n",
       "\n",
       "    .dataframe thead th {\n",
       "        text-align: right;\n",
       "    }\n",
       "</style>\n",
       "<table border=\"1\" class=\"dataframe\">\n",
       "  <thead>\n",
       "    <tr style=\"text-align: right;\">\n",
       "      <th></th>\n",
       "      <th>InvoiceNo</th>\n",
       "      <th>StockCode</th>\n",
       "      <th>Description</th>\n",
       "      <th>Quantity</th>\n",
       "      <th>InvoiceDate</th>\n",
       "      <th>UnitPrice</th>\n",
       "      <th>CustomerID</th>\n",
       "      <th>Country</th>\n",
       "    </tr>\n",
       "  </thead>\n",
       "  <tbody>\n",
       "    <tr>\n",
       "      <th>0</th>\n",
       "      <td>563808</td>\n",
       "      <td>22432</td>\n",
       "      <td>WATERING CAN PINK BUNNY</td>\n",
       "      <td>6.0</td>\n",
       "      <td>8/19/2011 11:46</td>\n",
       "      <td>1.95</td>\n",
       "      <td>12626.0</td>\n",
       "      <td>Germany</td>\n",
       "    </tr>\n",
       "    <tr>\n",
       "      <th>1</th>\n",
       "      <td>561645</td>\n",
       "      <td>23166</td>\n",
       "      <td>MEDIUM CERAMIC TOP STORAGE JAR</td>\n",
       "      <td>12.0</td>\n",
       "      <td>7/28/2011 15:16</td>\n",
       "      <td>1.25</td>\n",
       "      <td>14911.0</td>\n",
       "      <td>EIRE</td>\n",
       "    </tr>\n",
       "    <tr>\n",
       "      <th>2</th>\n",
       "      <td>568651</td>\n",
       "      <td>20985</td>\n",
       "      <td>HEART CALCULATOR</td>\n",
       "      <td>12.0</td>\n",
       "      <td>9/28/2011 12:04</td>\n",
       "      <td>1.25</td>\n",
       "      <td>12362.0</td>\n",
       "      <td>Belgium</td>\n",
       "    </tr>\n",
       "    <tr>\n",
       "      <th>3</th>\n",
       "      <td>541711</td>\n",
       "      <td>22772</td>\n",
       "      <td>PINK DRAWER KNOB ACRYLIC EDWARDIAN</td>\n",
       "      <td>24.0</td>\n",
       "      <td>1/21/2011 11:18</td>\n",
       "      <td>1.25</td>\n",
       "      <td>14646.0</td>\n",
       "      <td>Netherlands</td>\n",
       "    </tr>\n",
       "    <tr>\n",
       "      <th>4</th>\n",
       "      <td>554134</td>\n",
       "      <td>21154</td>\n",
       "      <td>RED RETROSPOT OVEN GLOVE</td>\n",
       "      <td>10.0</td>\n",
       "      <td>5/23/2011 9:48</td>\n",
       "      <td>1.25</td>\n",
       "      <td>12583.0</td>\n",
       "      <td>France</td>\n",
       "    </tr>\n",
       "    <tr>\n",
       "      <th>...</th>\n",
       "      <td>...</td>\n",
       "      <td>...</td>\n",
       "      <td>...</td>\n",
       "      <td>...</td>\n",
       "      <td>...</td>\n",
       "      <td>...</td>\n",
       "      <td>...</td>\n",
       "      <td>...</td>\n",
       "    </tr>\n",
       "    <tr>\n",
       "      <th>35796</th>\n",
       "      <td>554137</td>\n",
       "      <td>21668</td>\n",
       "      <td>RED STRIPE CERAMIC DRAWER KNOB</td>\n",
       "      <td>12.0</td>\n",
       "      <td>5/23/2011 10:13</td>\n",
       "      <td>1.25</td>\n",
       "      <td>12708.0</td>\n",
       "      <td>Germany</td>\n",
       "    </tr>\n",
       "    <tr>\n",
       "      <th>35797</th>\n",
       "      <td>572986</td>\n",
       "      <td>22895</td>\n",
       "      <td>SET OF 2 TEA TOWELS APPLE AND PEARS</td>\n",
       "      <td>6.0</td>\n",
       "      <td>10/27/2011 10:51</td>\n",
       "      <td>3.25</td>\n",
       "      <td>12681.0</td>\n",
       "      <td>France</td>\n",
       "    </tr>\n",
       "    <tr>\n",
       "      <th>35798</th>\n",
       "      <td>579927</td>\n",
       "      <td>22734</td>\n",
       "      <td>SET OF 6 RIBBONS VINTAGE CHRISTMAS</td>\n",
       "      <td>6.0</td>\n",
       "      <td>12/1/2011 9:20</td>\n",
       "      <td>2.89</td>\n",
       "      <td>12572.0</td>\n",
       "      <td>Germany</td>\n",
       "    </tr>\n",
       "    <tr>\n",
       "      <th>35799</th>\n",
       "      <td>551163</td>\n",
       "      <td>22431</td>\n",
       "      <td>WATERING CAN BLUE ELEPHANT</td>\n",
       "      <td>1.0</td>\n",
       "      <td>4/26/2011 15:52</td>\n",
       "      <td>1.95</td>\n",
       "      <td>12573.0</td>\n",
       "      <td>France</td>\n",
       "    </tr>\n",
       "    <tr>\n",
       "      <th>35800</th>\n",
       "      <td>559418</td>\n",
       "      <td>22894</td>\n",
       "      <td>TABLECLOTH RED APPLES DESIGN</td>\n",
       "      <td>2.0</td>\n",
       "      <td>7/8/2011 11:36</td>\n",
       "      <td>9.95</td>\n",
       "      <td>12681.0</td>\n",
       "      <td>France</td>\n",
       "    </tr>\n",
       "  </tbody>\n",
       "</table>\n",
       "<p>34688 rows × 8 columns</p>\n",
       "</div>"
      ],
      "text/plain": [
       "      InvoiceNo StockCode                          Description  Quantity  \\\n",
       "0        563808     22432              WATERING CAN PINK BUNNY       6.0   \n",
       "1        561645     23166       MEDIUM CERAMIC TOP STORAGE JAR      12.0   \n",
       "2        568651     20985                     HEART CALCULATOR      12.0   \n",
       "3        541711     22772   PINK DRAWER KNOB ACRYLIC EDWARDIAN      24.0   \n",
       "4        554134     21154            RED RETROSPOT OVEN GLOVE       10.0   \n",
       "...         ...       ...                                  ...       ...   \n",
       "35796    554137     21668       RED STRIPE CERAMIC DRAWER KNOB      12.0   \n",
       "35797    572986     22895  SET OF 2 TEA TOWELS APPLE AND PEARS       6.0   \n",
       "35798    579927     22734   SET OF 6 RIBBONS VINTAGE CHRISTMAS       6.0   \n",
       "35799    551163     22431           WATERING CAN BLUE ELEPHANT       1.0   \n",
       "35800    559418     22894        TABLECLOTH RED APPLES DESIGN        2.0   \n",
       "\n",
       "            InvoiceDate  UnitPrice  CustomerID      Country  \n",
       "0       8/19/2011 11:46       1.95     12626.0      Germany  \n",
       "1       7/28/2011 15:16       1.25     14911.0         EIRE  \n",
       "2       9/28/2011 12:04       1.25     12362.0      Belgium  \n",
       "3       1/21/2011 11:18       1.25     14646.0  Netherlands  \n",
       "4        5/23/2011 9:48       1.25     12583.0       France  \n",
       "...                 ...        ...         ...          ...  \n",
       "35796   5/23/2011 10:13       1.25     12708.0      Germany  \n",
       "35797  10/27/2011 10:51       3.25     12681.0       France  \n",
       "35798    12/1/2011 9:20       2.89     12572.0      Germany  \n",
       "35799   4/26/2011 15:52       1.95     12573.0       France  \n",
       "35800    7/8/2011 11:36       9.95     12681.0       France  \n",
       "\n",
       "[34688 rows x 8 columns]"
      ]
     },
     "execution_count": 16,
     "metadata": {},
     "output_type": "execute_result"
    }
   ],
   "source": [
    "df[df.Quantity > 0]"
   ]
  },
  {
   "cell_type": "code",
   "execution_count": 17,
   "metadata": {},
   "outputs": [
    {
     "name": "stdout",
     "output_type": "stream",
     "text": [
      "취소 주문 중, 기존 주문에 대한 취소는 존재하지 않는다. 그리고 취소 주문의 경우 분석하는 의미가 없는 데이터이므로 제거해 준다.\n",
      "또한, Boxplot에서 많은 값이 이상치로 잡히는 것을 확인하고, Quantity와 UnitPrice의 skewness를 측정해 보니 각각 15.372981283298156, 90.09778268655988으로 확인되었다. 따라서 이상치를 제거하기 전 변수 변환을 통해 왜도를 줄여야 과한 이상치 제거를 막을 수 있다.\n"
     ]
    }
   ],
   "source": [
    "cancel_invoice = [int(invoice_no[1:]) for invoice_no in df[df.Quantity <= 0].InvoiceNo]\n",
    "\n",
    "normal_invoice = df[df.Quantity > 0]\n",
    "for invoice in normal_invoice.InvoiceNo:\n",
    "    if invoice in cancel_invoice:\n",
    "        print(invoice)\n",
    "\n",
    "df = df[df.Quantity > 0]\n",
    "print('취소 주문 중, 기존 주문에 대한 취소는 존재하지 않는다. 그리고 취소 주문의 경우 분석하는 의미가 없는 데이터이므로 제거해 준다.')\n",
    "print(f\"또한, Boxplot에서 많은 값이 이상치로 잡히는 것을 확인하고, Quantity와 UnitPrice의 skewness를 측정해 보니 각각 {df['Quantity'].skew()}, {df['UnitPrice'].skew()}으로 확인되었다. 따라서 이상치를 제거하기 전 변수 변환을 통해 왜도를 줄여야 과한 이상치 제거를 막을 수 있다.\")"
   ]
  },
  {
   "cell_type": "code",
   "execution_count": 18,
   "metadata": {},
   "outputs": [
    {
     "name": "stdout",
     "output_type": "stream",
     "text": [
      "로그 변환을 수행한 다음 Quantity와 UnitPrice의 skewness를 측정해 보니 각각 0.7120770893216234, 1.259242690714804으로 확인되었다. log 변수에 대해 다시 Boxplot을 그리면 아래와 같이 왜도가 완화된 그래프를 볼 수 있다.\n"
     ]
    },
    {
     "data": {
      "text/plain": [
       "<matplotlib.axes._subplots.AxesSubplot at 0xffff74cbb110>"
      ]
     },
     "execution_count": 18,
     "metadata": {},
     "output_type": "execute_result"
    },
    {
     "data": {
      "image/png": "[encoded data removed]",
      "text/plain": [
       "<Figure size 576x360 with 2 Axes>"
      ]
     },
     "metadata": {
      "needs_background": "light"
     },
     "output_type": "display_data"
    }
   ],
   "source": [
    "print(f\"로그 변환을 수행한 다음 Quantity와 UnitPrice의 skewness를 측정해 보니 각각 {np.log1p(df['Quantity']).skew()}, {np.log1p(df['UnitPrice']).skew()}으로 확인되었다. log 변수에 대해 다시 Boxplot을 그리면 아래와 같이 왜도가 완화된 그래프를 볼 수 있다.\")\n",
    "fig, axes = plt.subplots(ncols=2, figsize=(8, 5))\n",
    "sns.boxplot(np.log1p(df['Quantity']), ax=axes[0])\n",
    "sns.boxplot(np.log1p(df['UnitPrice']), ax=axes[1])"
   ]
  },
  {
   "cell_type": "code",
   "execution_count": 19,
   "metadata": {},
   "outputs": [],
   "source": [
    "df['Quantity_log'] = np.log1p(df['Quantity'])\n",
    "df['UnitPrice_log'] = np.log1p(df['UnitPrice'])\n",
    "\n",
    "IQR_q = df['Quantity_log'].quantile(0.75) - df['Quantity_log'].quantile(0.25) \n",
    "IQR_p = df['UnitPrice_log'].quantile(0.75) - df['UnitPrice_log'].quantile(0.25) "
   ]
  },
  {
   "cell_type": "code",
   "execution_count": 22,
   "metadata": {},
   "outputs": [
    {
     "name": "stdout",
     "output_type": "stream",
     "text": [
      "이상치로 판단된 개수는 Quantity가 2072개, UnitPrice는 1446개 이다.\n",
      "log를 취한 Boxplot에서도 다수의 이상치가 발견되었다. 이를 모두 제거하는 것은 이상치 자체가 의미가 있을 수도 있기 때문에 위험하다. 따라서 이상치 여부를 파생변수로 생성한다.\n"
     ]
    }
   ],
   "source": [
    "df['Quantity_outlier'] = np.where(df['Quantity_log'] > df['Quantity_log'].quantile(0.75) + (1.5 * IQR_q), 1, 0)\n",
    "df['UnitPrice_outlier'] = np.where(df['UnitPrice_log'] > df['UnitPrice_log'].quantile(0.75) + (1.5 * IQR_p), 1, 0)\n",
    "print(f\"이상치로 판단된 개수는 Quantity가 {df['Quantity_outlier'].sum()}개, UnitPrice는 {df['UnitPrice_outlier'].sum()}개 이다.\")\n",
    "print('log를 취한 Boxplot에서도 다수의 이상치가 발견되었다. 이를 모두 제거하는 것은 이상치 자체가 의미가 있을 수도 있기 때문에 위험하다. 따라서 이상치 여부를 파생변수로 생성한다.')"
   ]
  },
  {
   "cell_type": "code",
   "execution_count": 23,
   "metadata": {},
   "outputs": [
    {
     "data": {
      "image/png": "[encoded data removed]",
      "text/plain": [
       "<Figure size 720x360 with 2 Axes>"
      ]
     },
     "metadata": {
      "needs_background": "light"
     },
     "output_type": "display_data"
    },
    {
     "name": "stdout",
     "output_type": "stream",
     "text": [
      "파생변수는 범주형 변수이며, 클래스 빈도를 Barplot으로 살펴보면 위와 같다.\n"
     ]
    }
   ],
   "source": [
    "fig, axes = plt.subplots(ncols=2, figsize=(10, 5))\n",
    "\n",
    "sns.countplot(df['Quantity_outlier'], ax=axes[0])\n",
    "sns.countplot(df['UnitPrice_outlier'], ax=axes[1])\n",
    "plt.show()\n",
    "print('파생변수는 범주형 변수이며, 클래스 빈도를 Barplot으로 살펴보면 위와 같다.') "
   ]
  },
  {
   "cell_type": "markdown",
   "metadata": {},
   "source": [
    "### 1-3. F(소비자별 구매빈도), M(소비자별 총 구매액) feature를 새로 생성해서 그 결과값으로 군집분석 방법들 중 택2 하여 군집을 생성할 것, 군집을 생성한 과정을 각각 설명할 것"
   ]
  },
  {
   "cell_type": "code",
   "execution_count": 24,
   "metadata": {},
   "outputs": [],
   "source": [
    "from sklearn.cluster import KMeans\n",
    "from sklearn.preprocessing import RobustScaler\n",
    "from sklearn.preprocessing import LabelEncoder\n",
    "\n",
    "scaler = RobustScaler()\n",
    "x_scaled = scaler.fit_transform(df.loc[:, ['Quantity_log', 'UnitPrice_log']])\n",
    "x_scaled_df = pd.DataFrame(x_scaled, columns=['Quantity_log', 'UnitPrice_log'])\n",
    "\n",
    "encoder = LabelEncoder()\n",
    "country_labeled = encoder.fit_transform(df['Country'])"
   ]
  },
  {
   "cell_type": "code",
   "execution_count": 25,
   "metadata": {},
   "outputs": [],
   "source": [
    "x_scaled_df['Country_labeled'] = country_labeled\n",
    "x_scaled_df['Country_labeled'] = x_scaled_df['Country_labeled'].astype('category')\n",
    "\n",
    "x_scaled_df['Quantity_outlier'] = np.where(df['Quantity_log'] > df['Quantity_log'].quantile(0.75) + (1.5 * IQR_q), 1, 0)\n",
    "x_scaled_df['UnitPrice_outlier'] = np.where(df['UnitPrice_log'] > df['UnitPrice_log'].quantile(0.75) + (1.5 * IQR_p), 1, 0)\n",
    "\n",
    "x_scaled_df['Quantity_outlier'] = x_scaled_df['Quantity_outlier'].astype('category')\n",
    "x_scaled_df['UnitPrice_outlier'] = x_scaled_df['UnitPrice_outlier'].astype('category')"
   ]
  },
  {
   "cell_type": "code",
   "execution_count": 30,
   "metadata": {},
   "outputs": [
    {
     "name": "stdout",
     "output_type": "stream",
     "text": [
      "군집화는 변수 Scale에 영향을 많이 받기 때문에 수행 전 scaling 과정이 필요하다. 이 경우에는 이상치 다수가 존재하고 있으므로 RobustScaler를 사용한다.\n",
      "Quantity_log와 UnitPrice_log 두 변수에 Robust Scaling을 적용하고, 위에서 생성한 Outlier 여부 변수와 Country 변수를 추가하였다.\n",
      "Country 변수는 범주형 변수로, 숫자 형태로 변경하는 Label Encoding 과정을 수행하고, Categorical 변수로 변환하였다. Outlier 여부 변수도 마찬가지로 Catagorical 변수로 변환하였다.\n",
      "전처리 된 최종 데이터에 대해 K-means 클러스터링을 수행했고, elbow plot을 확인하니 n=3에서 elbow가 확인되었다.\n"
     ]
    }
   ],
   "source": [
    "print('군집화는 변수 Scale에 영향을 많이 받기 때문에 수행 전 scaling 과정이 필요하다. 이 경우에는 이상치 다수가 존재하고 있으므로 RobustScaler를 사용한다.')\n",
    "print('Quantity_log와 UnitPrice_log 두 변수에 Robust Scaling을 적용하고, 위에서 생성한 Outlier 여부 변수와 Country 변수를 추가하였다.')\n",
    "print('Country 변수는 범주형 변수로, 숫자 형태로 변경하는 Label Encoding 과정을 수행하고, Categorical 변수로 변환하였다. Outlier 여부 변수도 마찬가지로 Catagorical 변수로 변환하였다.')"
   ]
  },
  {
   "cell_type": "code",
   "execution_count": 28,
   "metadata": {},
   "outputs": [],
   "source": [
    "### elbow plot\n",
    "def elbow(x):\n",
    "    sse=[]\n",
    "    for i in range(1, 11):\n",
    "        km = KMeans(n_clusters=i, random_state=1)\n",
    "        km.fit(x)\n",
    "        sse.append(km.inertia_)\n",
    "    \n",
    "    plt.plot(range(1, 11), sse, marker='o')\n",
    "    plt.xlabel('The Number of Clusters')\n",
    "    plt.ylabel('SSE')\n",
    "    plt.show()\n",
    "    \n",
    "    print(sse)"
   ]
  },
  {
   "cell_type": "code",
   "execution_count": 29,
   "metadata": {
    "scrolled": true
   },
   "outputs": [
    {
     "data": {
      "image/png": "[encoded data removed]",
      "text/plain": [
       "<Figure size 432x288 with 1 Axes>"
      ]
     },
     "metadata": {
      "needs_background": "light"
     },
     "output_type": "display_data"
    },
    {
     "name": "stdout",
     "output_type": "stream",
     "text": [
      "[185816.79545939047, 106343.48672591454, 78336.19486293836, 61611.72012529627, 50412.46650982868, 44775.8985493819, 39560.69683946068, 34917.607301375276, 31827.587446033674, 28979.308302588404]\n"
     ]
    }
   ],
   "source": [
    "elbow(x_scaled_df)"
   ]
  },
  {
   "cell_type": "code",
   "execution_count": 31,
   "metadata": {},
   "outputs": [],
   "source": [
    "#최적의 k로  K-Means 군집화 실행\n",
    "km = KMeans(n_clusters=3, random_state=1)\n",
    "km.fit(x_scaled_df)\n",
    "\n",
    "# 할당된 군집을 데이터에 추가\n",
    "new_labels = km.labels_\n",
    "df['cluster'] = new_labels"
   ]
  },
  {
   "cell_type": "code",
   "execution_count": 32,
   "metadata": {},
   "outputs": [
    {
     "data": {
      "text/plain": [
       "<matplotlib.axes._subplots.AxesSubplot at 0xffff6cc20250>"
      ]
     },
     "execution_count": 32,
     "metadata": {},
     "output_type": "execute_result"
    },
    {
     "data": {
      "image/png": "[encoded data removed]",
      "text/plain": [
       "<Figure size 432x288 with 1 Axes>"
      ]
     },
     "metadata": {
      "needs_background": "light"
     },
     "output_type": "display_data"
    }
   ],
   "source": [
    "sns.scatterplot(x='UnitPrice', y='Quantity', data=df, hue=df['cluster'])"
   ]
  },
  {
   "cell_type": "code",
   "execution_count": null,
   "metadata": {},
   "outputs": [],
   "source": [
    "print('전처리 된 최종 데이터에 대해 K-means 클러스터링을 수행했고, elbow plot을 확인하니 n=3에서 elbow가 확인되었다.') "
   ]
  },
  {
   "cell_type": "code",
   "execution_count": 34,
   "metadata": {},
   "outputs": [],
   "source": [
    "from sklearn.cluster import DBSCAN"
   ]
  },
  {
   "cell_type": "code",
   "execution_count": 35,
   "metadata": {},
   "outputs": [],
   "source": [
    "dbscan = DBSCAN()"
   ]
  },
  {
   "cell_type": "code",
   "execution_count": 41,
   "metadata": {},
   "outputs": [],
   "source": [
    "dbscan_cluster = dbscan.fit_predict(x_scaled_df)\n",
    "df['cluster_dbscan'] = dbscan_cluster"
   ]
  },
  {
   "cell_type": "code",
   "execution_count": 42,
   "metadata": {},
   "outputs": [
    {
     "data": {
      "text/plain": [
       "<matplotlib.axes._subplots.AxesSubplot at 0xffff6cb37250>"
      ]
     },
     "execution_count": 42,
     "metadata": {},
     "output_type": "execute_result"
    },
    {
     "data": {
      "image/png": "[encoded data removed]",
      "text/plain": [
       "<Figure size 432x288 with 1 Axes>"
      ]
     },
     "metadata": {
      "needs_background": "light"
     },
     "output_type": "display_data"
    }
   ],
   "source": [
    "sns.scatterplot(x='UnitPrice', y='Quantity', data=df, hue=df['cluster_dbscan'])"
   ]
  },
  {
   "cell_type": "markdown",
   "metadata": {},
   "source": [
    "### 1-4. 둘 중에 한 모델을 선택하고, 그 이유를 군집 결과의 적합성을 군집 내 응집도, 군집 간 분리도의 개념을 사용해서 서술"
   ]
  },
  {
   "cell_type": "code",
   "execution_count": 47,
   "metadata": {},
   "outputs": [],
   "source": [
    "from sklearn.metrics import silhouette_score"
   ]
  },
  {
   "cell_type": "code",
   "execution_count": 48,
   "metadata": {},
   "outputs": [
    {
     "data": {
      "text/plain": [
       "0.33177937918150724"
      ]
     },
     "execution_count": 48,
     "metadata": {},
     "output_type": "execute_result"
    }
   ],
   "source": [
    "silhouette_score(x_scaled_df, km.labels_)"
   ]
  },
  {
   "cell_type": "code",
   "execution_count": 49,
   "metadata": {},
   "outputs": [
    {
     "data": {
      "text/plain": [
       "0.21420708476881112"
      ]
     },
     "execution_count": 49,
     "metadata": {},
     "output_type": "execute_result"
    }
   ],
   "source": [
    "silhouette_score(x_scaled_df, dbscan_cluster)"
   ]
  },
  {
   "cell_type": "code",
   "execution_count": 50,
   "metadata": {},
   "outputs": [
    {
     "name": "stdout",
     "output_type": "stream",
     "text": [
      "군집 내부 데이터들 간의 거리는 가깝고, 군집 간 데이터들 간의 거리는 멀어질 때 군집이 잘 이루어졌다고 볼 수 있다.\n",
      "군집 내부 데이터들의 거리는 응집도, 군집 간 데이터들 간의 거리는 분리도로 측정이 가능하며, 이를 종합한 값이 실루엣 계수이다. 실루엣 계수는 각 데이터의 군집 내 응집도 평균과 가장 가까운 군집과의 분리도 평균 차이를 계산하여 얻어지는 값이며, 1에 가까울수록 군집이 잘 되었다고 본다.\n",
      "K-means의 실루엣 계수 값은 0.33, DBSCAN의 실루엣 계수 값은 0.21로 K-means의 값이 1에 더 가까우므로 더 적합한 군집을 이루었다고 볼 수 있다.\n"
     ]
    }
   ],
   "source": [
    "print('군집 내부 데이터들 간의 거리는 가깝고, 군집 간 데이터들 간의 거리는 멀어질 때 군집이 잘 이루어졌다고 볼 수 있다.')\n",
    "print('군집 내부 데이터들의 거리는 응집도, 군집 간 데이터들 간의 거리는 분리도로 측정이 가능하며, 이를 종합한 값이 실루엣 계수이다. 실루엣 계수는 각 데이터의 군집 내 응집도 평균과 가장 가까운 군집과의 분리도 평균 차이를 계산하여 얻어지는 값이며, 1에 가까울수록 군집이 잘 되었다고 본다.')\n",
    "print('K-means의 실루엣 계수 값은 0.33, DBSCAN의 실루엣 계수 값은 0.21로 K-means의 값이 1에 더 가까우므로 더 적합한 군집을 이루었다고 볼 수 있다.')"
   ]
  },
  {
   "cell_type": "markdown",
   "metadata": {},
   "source": [
    "### 1-5. 선택한 모델을 기반으로 생성한 군집들의 특성을 분석할 것"
   ]
  },
  {
   "cell_type": "code",
   "execution_count": 33,
   "metadata": {},
   "outputs": [
    {
     "data": {
      "text/plain": [
       "<matplotlib.axes._subplots.AxesSubplot at 0xffff6cc199d0>"
      ]
     },
     "execution_count": 33,
     "metadata": {},
     "output_type": "execute_result"
    },
    {
     "data": {
      "image/png": "[encoded data removed]",
      "text/plain": [
       "<Figure size 1080x360 with 1 Axes>"
      ]
     },
     "metadata": {
      "needs_background": "light"
     },
     "output_type": "display_data"
    }
   ],
   "source": [
    "plt.figure(figsize=(15, 5))\n",
    "sns.countplot(x=df['Country'], data=df, hue=df['cluster'])"
   ]
  },
  {
   "cell_type": "code",
   "execution_count": 51,
   "metadata": {},
   "outputs": [
    {
     "data": {
      "text/html": [
       "<div>\n",
       "<style scoped>\n",
       "    .dataframe tbody tr th:only-of-type {\n",
       "        vertical-align: middle;\n",
       "    }\n",
       "\n",
       "    .dataframe tbody tr th {\n",
       "        vertical-align: top;\n",
       "    }\n",
       "\n",
       "    .dataframe thead th {\n",
       "        text-align: right;\n",
       "    }\n",
       "</style>\n",
       "<table border=\"1\" class=\"dataframe\">\n",
       "  <thead>\n",
       "    <tr style=\"text-align: right;\">\n",
       "      <th></th>\n",
       "      <th>Quantity</th>\n",
       "      <th>UnitPrice</th>\n",
       "    </tr>\n",
       "    <tr>\n",
       "      <th>cluster</th>\n",
       "      <th></th>\n",
       "      <th></th>\n",
       "    </tr>\n",
       "  </thead>\n",
       "  <tbody>\n",
       "    <tr>\n",
       "      <th>0</th>\n",
       "      <td>4.886977</td>\n",
       "      <td>8.179694</td>\n",
       "    </tr>\n",
       "    <tr>\n",
       "      <th>1</th>\n",
       "      <td>31.574892</td>\n",
       "      <td>1.371370</td>\n",
       "    </tr>\n",
       "    <tr>\n",
       "      <th>2</th>\n",
       "      <td>12.530854</td>\n",
       "      <td>3.513939</td>\n",
       "    </tr>\n",
       "  </tbody>\n",
       "</table>\n",
       "</div>"
      ],
      "text/plain": [
       "          Quantity  UnitPrice\n",
       "cluster                      \n",
       "0         4.886977   8.179694\n",
       "1        31.574892   1.371370\n",
       "2        12.530854   3.513939"
      ]
     },
     "execution_count": 51,
     "metadata": {},
     "output_type": "execute_result"
    }
   ],
   "source": [
    "cal_mean = df.loc[:, [\"Quantity\", \"UnitPrice\", \"cluster\"]].groupby('cluster').mean()\n",
    "cal_mean"
   ]
  },
  {
   "cell_type": "code",
   "execution_count": 52,
   "metadata": {},
   "outputs": [
    {
     "data": {
      "text/plain": [
       "cluster\n",
       "0    39.973980\n",
       "1    43.300855\n",
       "2    44.032660\n",
       "dtype: float64"
      ]
     },
     "execution_count": 52,
     "metadata": {},
     "output_type": "execute_result"
    }
   ],
   "source": [
    "cal_mean['Quantity'] * cal_mean['UnitPrice']"
   ]
  },
  {
   "cell_type": "code",
   "execution_count": 53,
   "metadata": {},
   "outputs": [
    {
     "name": "stdout",
     "output_type": "stream",
     "text": [
      "나라 별 Cluster의 분포를 확인해 보면, Cluster 0과 2는 독일, EIRE, 벨기에, 네덜란드, 프랑스로 구성되어 있고, Cluster 1은 포르투갈, 스위스, 스페인을 구성되어 있다.\n",
      "네덜란드 중에서는 일부 Cluster 1에 포함된 경우도 있는데, Cluster 1의 다른 나라에 비하면 소수이다.\n",
      "Cluster 2는 Quantity 평균이 가장 낮지만, UnitPrice가 평균이 높은 집단이다. 하지만 총 구매액은 가장 적다.\n",
      "Cluster 1는 총 구매액이 가장 높으며, Quantity와 UnitPrice 평균은 중간 수준이다.\n",
      "Cluster 0은 Quantity 평균이 가장 높지만, UnitPrice 평균이 낮다. 총 구매액은 중간 수준이다.\n"
     ]
    }
   ],
   "source": [
    "print('나라 별 Cluster의 분포를 확인해 보면, Cluster 0과 2는 독일, EIRE, 벨기에, 네덜란드, 프랑스로 구성되어 있고, Cluster 1은 포르투갈, 스위스, 스페인을 구성되어 있다.')\n",
    "print('네덜란드 중에서는 일부 Cluster 1에 포함된 경우도 있는데, Cluster 1의 다른 나라에 비하면 소수이다.')\n",
    "print('Cluster 2는 Quantity 평균이 가장 낮지만, UnitPrice가 평균이 높은 집단이다. 하지만 총 구매액은 가장 적다.')\n",
    "print('Cluster 1는 총 구매액이 가장 높으며, Quantity와 UnitPrice 평균은 중간 수준이다.')\n",
    "print('Cluster 0은 Quantity 평균이 가장 높지만, UnitPrice 평균이 낮다. 총 구매액은 중간 수준이다.')"
   ]
  },
  {
   "cell_type": "markdown",
   "metadata": {},
   "source": [
    "### 1-6. 각 군집 별 대표 추천 상품을 도출할 것"
   ]
  },
  {
   "cell_type": "code",
   "execution_count": 54,
   "metadata": {},
   "outputs": [],
   "source": [
    "from scipy.spatial import distance"
   ]
  },
  {
   "cell_type": "code",
   "execution_count": 55,
   "metadata": {},
   "outputs": [],
   "source": [
    "min_distance = [np.Inf, np.Inf, np.Inf]\n",
    "min_distance_index = [0, 0, 0]\n",
    "for i in x_scaled_df.index:\n",
    "    for j in range(3):\n",
    "        dist = distance.euclidean(x_scaled_df.iloc[i], km.cluster_centers_[j])\n",
    "        if dist < min_distance[j]:\n",
    "            min_distance[j] = dist\n",
    "            min_distance_index[j] = i"
   ]
  },
  {
   "cell_type": "code",
   "execution_count": 56,
   "metadata": {},
   "outputs": [
    {
     "data": {
      "text/html": [
       "<div>\n",
       "<style scoped>\n",
       "    .dataframe tbody tr th:only-of-type {\n",
       "        vertical-align: middle;\n",
       "    }\n",
       "\n",
       "    .dataframe tbody tr th {\n",
       "        vertical-align: top;\n",
       "    }\n",
       "\n",
       "    .dataframe thead th {\n",
       "        text-align: right;\n",
       "    }\n",
       "</style>\n",
       "<table border=\"1\" class=\"dataframe\">\n",
       "  <thead>\n",
       "    <tr style=\"text-align: right;\">\n",
       "      <th></th>\n",
       "      <th>InvoiceNo</th>\n",
       "      <th>StockCode</th>\n",
       "      <th>Description</th>\n",
       "      <th>Quantity</th>\n",
       "      <th>InvoiceDate</th>\n",
       "      <th>UnitPrice</th>\n",
       "      <th>CustomerID</th>\n",
       "      <th>Country</th>\n",
       "      <th>Quantity_log</th>\n",
       "      <th>UnitPrice_log</th>\n",
       "      <th>Quantity_outlier</th>\n",
       "      <th>UnitPrice_outlier</th>\n",
       "      <th>cluster</th>\n",
       "      <th>cluster_dbscan</th>\n",
       "    </tr>\n",
       "  </thead>\n",
       "  <tbody>\n",
       "    <tr>\n",
       "      <th>430</th>\n",
       "      <td>542425</td>\n",
       "      <td>22854</td>\n",
       "      <td>CREAM SWEETHEART EGG HOLDER</td>\n",
       "      <td>4.0</td>\n",
       "      <td>1/28/2011 9:20</td>\n",
       "      <td>4.95</td>\n",
       "      <td>12574.0</td>\n",
       "      <td>France</td>\n",
       "      <td>1.609438</td>\n",
       "      <td>1.783391</td>\n",
       "      <td>0</td>\n",
       "      <td>0</td>\n",
       "      <td>0</td>\n",
       "      <td>4</td>\n",
       "    </tr>\n",
       "    <tr>\n",
       "      <th>502</th>\n",
       "      <td>551539</td>\n",
       "      <td>23077</td>\n",
       "      <td>DOUGHNUT LIP GLOSS</td>\n",
       "      <td>20.0</td>\n",
       "      <td>5/3/2011 8:40</td>\n",
       "      <td>1.25</td>\n",
       "      <td>12598.0</td>\n",
       "      <td>France</td>\n",
       "      <td>3.044522</td>\n",
       "      <td>0.810930</td>\n",
       "      <td>0</td>\n",
       "      <td>0</td>\n",
       "      <td>1</td>\n",
       "      <td>4</td>\n",
       "    </tr>\n",
       "    <tr>\n",
       "      <th>11891</th>\n",
       "      <td>577039</td>\n",
       "      <td>23163</td>\n",
       "      <td>REGENCY SUGAR TONGS</td>\n",
       "      <td>8.0</td>\n",
       "      <td>11/17/2011 13:30</td>\n",
       "      <td>2.49</td>\n",
       "      <td>12539.0</td>\n",
       "      <td>Spain</td>\n",
       "      <td>2.197225</td>\n",
       "      <td>1.249902</td>\n",
       "      <td>0</td>\n",
       "      <td>0</td>\n",
       "      <td>2</td>\n",
       "      <td>8</td>\n",
       "    </tr>\n",
       "  </tbody>\n",
       "</table>\n",
       "</div>"
      ],
      "text/plain": [
       "      InvoiceNo StockCode                  Description  Quantity  \\\n",
       "430      542425     22854  CREAM SWEETHEART EGG HOLDER       4.0   \n",
       "502      551539     23077          DOUGHNUT LIP GLOSS       20.0   \n",
       "11891    577039     23163          REGENCY SUGAR TONGS       8.0   \n",
       "\n",
       "            InvoiceDate  UnitPrice  CustomerID Country  Quantity_log  \\\n",
       "430      1/28/2011 9:20       4.95     12574.0  France      1.609438   \n",
       "502       5/3/2011 8:40       1.25     12598.0  France      3.044522   \n",
       "11891  11/17/2011 13:30       2.49     12539.0   Spain      2.197225   \n",
       "\n",
       "       UnitPrice_log  Quantity_outlier  UnitPrice_outlier  cluster  \\\n",
       "430         1.783391                 0                  0        0   \n",
       "502         0.810930                 0                  0        1   \n",
       "11891       1.249902                 0                  0        2   \n",
       "\n",
       "       cluster_dbscan  \n",
       "430                 4  \n",
       "502                 4  \n",
       "11891               8  "
      ]
     },
     "execution_count": 56,
     "metadata": {},
     "output_type": "execute_result"
    }
   ],
   "source": [
    "df.iloc[min_distance_index]"
   ]
  },
  {
   "cell_type": "code",
   "execution_count": 57,
   "metadata": {},
   "outputs": [
    {
     "name": "stdout",
     "output_type": "stream",
     "text": [
      "각 군집별로 중심점과 유클라디안 거리가 가장 가까운 데이터를 도출한 결과, Cluster 0에서는 DOUGHNUT LIP GLOSS, Cluster 1에서는 REGENCY SUGAR TONGS, Cluster 2에서는 CREAM SWEETHEART EGG HOLDER가 대표 상품으로 추천된다.\n"
     ]
    }
   ],
   "source": [
    "print('각 군집별로 중심점과 유클라디안 거리가 가장 가까운 데이터를 도출한 결과, Cluster 0에서는 DOUGHNUT LIP GLOSS, Cluster 1에서는 REGENCY SUGAR TONGS, Cluster 2에서는 CREAM SWEETHEART EGG HOLDER가 대표 상품으로 추천된다.')"
   ]
  },
  {
   "cell_type": "markdown",
   "metadata": {},
   "source": [
    "### 1-7. CustomerID가 12413인 고객을 대상으로 상품을 추천할 것"
   ]
  },
  {
   "cell_type": "code",
   "execution_count": 58,
   "metadata": {},
   "outputs": [
    {
     "data": {
      "text/plain": [
       "0.42105263157894735"
      ]
     },
     "execution_count": 58,
     "metadata": {},
     "output_type": "execute_result"
    }
   ],
   "source": [
    "df.loc[df.CustomerID==12413.0]['cluster'].mean()"
   ]
  },
  {
   "cell_type": "code",
   "execution_count": 59,
   "metadata": {},
   "outputs": [
    {
     "name": "stdout",
     "output_type": "stream",
     "text": [
      "해당 고객은 Cluster 1에 속할 확률이 가장 높기 때문에, REGENCY SUGAR TONGS를 추천하는 것이 가장 좋아 보인다.\n"
     ]
    }
   ],
   "source": [
    "print(\"해당 고객은 Cluster 1에 속할 확률이 가장 높기 때문에, REGENCY SUGAR TONGS를 추천하는 것이 가장 좋아 보인다.\") "
   ]
  },
  {
   "cell_type": "markdown",
   "metadata": {},
   "source": [
    "## 과제 2. 연관규칙학습 문제\n",
    "- 출처: https://zephyrus1111.tistory.com/119"
   ]
  },
  {
   "cell_type": "markdown",
   "metadata": {},
   "source": [
    "### 2-1. 어느 대형 마트의 거래 내역이 다음과 같이 주어졌을때 각 거래품목에 대한 거래 여부를 표시하는 데이터로 전처리 하시오"
   ]
  },
  {
   "cell_type": "code",
   "execution_count": 60,
   "metadata": {},
   "outputs": [
    {
     "data": {
      "text/plain": [
       "[['삼겹살', '상추'],\n",
       " ['삼겹살', '상추', '사이다'],\n",
       " ['삼겹살', '깻잎'],\n",
       " ['닭고기', '샤워 타올'],\n",
       " ['닭고기', '콜라', '사이다']]"
      ]
     },
     "execution_count": 60,
     "metadata": {},
     "output_type": "execute_result"
    }
   ],
   "source": [
    "from pandas import DataFrame\n",
    "buy = [['삼겹살', '상추'],\n",
    "        ['삼겹살', '상추', '사이다'], \n",
    "        ['삼겹살', '깻잎'],\n",
    "        ['닭고기', '샤워 타올'], \n",
    "        ['닭고기', '콜라', '사이다']]\n",
    "buy"
   ]
  },
  {
   "cell_type": "code",
   "execution_count": 61,
   "metadata": {},
   "outputs": [],
   "source": [
    "# !pip install mlxtend\n",
    "from mlxtend.preprocessing import TransactionEncoder"
   ]
  },
  {
   "cell_type": "code",
   "execution_count": 62,
   "metadata": {},
   "outputs": [
    {
     "name": "stdout",
     "output_type": "stream",
     "text": [
      "['깻잎', '닭고기', '사이다', '삼겹살', '상추', '샤워 타올', '콜라']\n"
     ]
    },
    {
     "data": {
      "text/plain": [
       "array([[False, False, False,  True,  True, False, False],\n",
       "       [False, False,  True,  True,  True, False, False],\n",
       "       [ True, False, False,  True, False, False, False],\n",
       "       [False,  True, False, False, False,  True, False],\n",
       "       [False,  True,  True, False, False, False,  True]])"
      ]
     },
     "execution_count": 62,
     "metadata": {},
     "output_type": "execute_result"
    }
   ],
   "source": [
    "te = TransactionEncoder() # Transaction 형태로 변환\n",
    "te_ary = te.fit_transform(buy)\n",
    "print(te.columns_)\n",
    "te_ary"
   ]
  },
  {
   "cell_type": "code",
   "execution_count": 63,
   "metadata": {},
   "outputs": [
    {
     "data": {
      "text/html": [
       "<div>\n",
       "<style scoped>\n",
       "    .dataframe tbody tr th:only-of-type {\n",
       "        vertical-align: middle;\n",
       "    }\n",
       "\n",
       "    .dataframe tbody tr th {\n",
       "        vertical-align: top;\n",
       "    }\n",
       "\n",
       "    .dataframe thead th {\n",
       "        text-align: right;\n",
       "    }\n",
       "</style>\n",
       "<table border=\"1\" class=\"dataframe\">\n",
       "  <thead>\n",
       "    <tr style=\"text-align: right;\">\n",
       "      <th></th>\n",
       "      <th>깻잎</th>\n",
       "      <th>닭고기</th>\n",
       "      <th>사이다</th>\n",
       "      <th>삼겹살</th>\n",
       "      <th>상추</th>\n",
       "      <th>샤워 타올</th>\n",
       "      <th>콜라</th>\n",
       "    </tr>\n",
       "  </thead>\n",
       "  <tbody>\n",
       "    <tr>\n",
       "      <th>0</th>\n",
       "      <td>False</td>\n",
       "      <td>False</td>\n",
       "      <td>False</td>\n",
       "      <td>True</td>\n",
       "      <td>True</td>\n",
       "      <td>False</td>\n",
       "      <td>False</td>\n",
       "    </tr>\n",
       "    <tr>\n",
       "      <th>1</th>\n",
       "      <td>False</td>\n",
       "      <td>False</td>\n",
       "      <td>True</td>\n",
       "      <td>True</td>\n",
       "      <td>True</td>\n",
       "      <td>False</td>\n",
       "      <td>False</td>\n",
       "    </tr>\n",
       "    <tr>\n",
       "      <th>2</th>\n",
       "      <td>True</td>\n",
       "      <td>False</td>\n",
       "      <td>False</td>\n",
       "      <td>True</td>\n",
       "      <td>False</td>\n",
       "      <td>False</td>\n",
       "      <td>False</td>\n",
       "    </tr>\n",
       "    <tr>\n",
       "      <th>3</th>\n",
       "      <td>False</td>\n",
       "      <td>True</td>\n",
       "      <td>False</td>\n",
       "      <td>False</td>\n",
       "      <td>False</td>\n",
       "      <td>True</td>\n",
       "      <td>False</td>\n",
       "    </tr>\n",
       "    <tr>\n",
       "      <th>4</th>\n",
       "      <td>False</td>\n",
       "      <td>True</td>\n",
       "      <td>True</td>\n",
       "      <td>False</td>\n",
       "      <td>False</td>\n",
       "      <td>False</td>\n",
       "      <td>True</td>\n",
       "    </tr>\n",
       "  </tbody>\n",
       "</table>\n",
       "</div>"
      ],
      "text/plain": [
       "      깻잎    닭고기    사이다    삼겹살     상추  샤워 타올     콜라\n",
       "0  False  False  False   True   True  False  False\n",
       "1  False  False   True   True   True  False  False\n",
       "2   True  False  False   True  False  False  False\n",
       "3  False   True  False  False  False   True  False\n",
       "4  False   True   True  False  False  False   True"
      ]
     },
     "execution_count": 63,
     "metadata": {},
     "output_type": "execute_result"
    }
   ],
   "source": [
    "df = pd.DataFrame(te_ary, columns=te.columns_)\n",
    "df"
   ]
  },
  {
   "cell_type": "markdown",
   "metadata": {},
   "source": [
    "### 2-2. 최소 지지도가 0.3인 빈발항목 집합을 생성하시오."
   ]
  },
  {
   "cell_type": "code",
   "execution_count": 64,
   "metadata": {},
   "outputs": [],
   "source": [
    "from mlxtend.frequent_patterns import apriori\n",
    "from mlxtend.frequent_patterns import association_rules"
   ]
  },
  {
   "cell_type": "code",
   "execution_count": 65,
   "metadata": {},
   "outputs": [
    {
     "data": {
      "text/html": [
       "<div>\n",
       "<style scoped>\n",
       "    .dataframe tbody tr th:only-of-type {\n",
       "        vertical-align: middle;\n",
       "    }\n",
       "\n",
       "    .dataframe tbody tr th {\n",
       "        vertical-align: top;\n",
       "    }\n",
       "\n",
       "    .dataframe thead th {\n",
       "        text-align: right;\n",
       "    }\n",
       "</style>\n",
       "<table border=\"1\" class=\"dataframe\">\n",
       "  <thead>\n",
       "    <tr style=\"text-align: right;\">\n",
       "      <th></th>\n",
       "      <th>support</th>\n",
       "      <th>itemsets</th>\n",
       "    </tr>\n",
       "  </thead>\n",
       "  <tbody>\n",
       "    <tr>\n",
       "      <th>0</th>\n",
       "      <td>0.4</td>\n",
       "      <td>(닭고기)</td>\n",
       "    </tr>\n",
       "    <tr>\n",
       "      <th>1</th>\n",
       "      <td>0.4</td>\n",
       "      <td>(사이다)</td>\n",
       "    </tr>\n",
       "    <tr>\n",
       "      <th>2</th>\n",
       "      <td>0.6</td>\n",
       "      <td>(삼겹살)</td>\n",
       "    </tr>\n",
       "    <tr>\n",
       "      <th>3</th>\n",
       "      <td>0.4</td>\n",
       "      <td>(상추)</td>\n",
       "    </tr>\n",
       "    <tr>\n",
       "      <th>4</th>\n",
       "      <td>0.4</td>\n",
       "      <td>(삼겹살, 상추)</td>\n",
       "    </tr>\n",
       "  </tbody>\n",
       "</table>\n",
       "</div>"
      ],
      "text/plain": [
       "   support   itemsets\n",
       "0      0.4      (닭고기)\n",
       "1      0.4      (사이다)\n",
       "2      0.6      (삼겹살)\n",
       "3      0.4       (상추)\n",
       "4      0.4  (삼겹살, 상추)"
      ]
     },
     "execution_count": 65,
     "metadata": {},
     "output_type": "execute_result"
    }
   ],
   "source": [
    "apriori(df, min_support=0.3, use_colnames=True)"
   ]
  },
  {
   "cell_type": "markdown",
   "metadata": {},
   "source": [
    "### 2-3. 최소 신뢰도 0.5 기준으로 연관규칙을 만들고, 그 중 향상도 1 이상인 것들을 나타내시오."
   ]
  },
  {
   "cell_type": "code",
   "execution_count": 73,
   "metadata": {},
   "outputs": [
    {
     "data": {
      "text/html": [
       "<div>\n",
       "<style scoped>\n",
       "    .dataframe tbody tr th:only-of-type {\n",
       "        vertical-align: middle;\n",
       "    }\n",
       "\n",
       "    .dataframe tbody tr th {\n",
       "        vertical-align: top;\n",
       "    }\n",
       "\n",
       "    .dataframe thead th {\n",
       "        text-align: right;\n",
       "    }\n",
       "</style>\n",
       "<table border=\"1\" class=\"dataframe\">\n",
       "  <thead>\n",
       "    <tr style=\"text-align: right;\">\n",
       "      <th></th>\n",
       "      <th>antecedents</th>\n",
       "      <th>consequents</th>\n",
       "      <th>antecedent support</th>\n",
       "      <th>consequent support</th>\n",
       "      <th>support</th>\n",
       "      <th>confidence</th>\n",
       "      <th>lift</th>\n",
       "      <th>leverage</th>\n",
       "      <th>conviction</th>\n",
       "    </tr>\n",
       "  </thead>\n",
       "  <tbody>\n",
       "    <tr>\n",
       "      <th>0</th>\n",
       "      <td>(삼겹살)</td>\n",
       "      <td>(상추)</td>\n",
       "      <td>0.6</td>\n",
       "      <td>0.4</td>\n",
       "      <td>0.4</td>\n",
       "      <td>0.666667</td>\n",
       "      <td>1.666667</td>\n",
       "      <td>0.16</td>\n",
       "      <td>1.8</td>\n",
       "    </tr>\n",
       "    <tr>\n",
       "      <th>1</th>\n",
       "      <td>(상추)</td>\n",
       "      <td>(삼겹살)</td>\n",
       "      <td>0.4</td>\n",
       "      <td>0.6</td>\n",
       "      <td>0.4</td>\n",
       "      <td>1.000000</td>\n",
       "      <td>1.666667</td>\n",
       "      <td>0.16</td>\n",
       "      <td>inf</td>\n",
       "    </tr>\n",
       "  </tbody>\n",
       "</table>\n",
       "</div>"
      ],
      "text/plain": [
       "  antecedents consequents  antecedent support  consequent support  support  \\\n",
       "0       (삼겹살)        (상추)                 0.6                 0.4      0.4   \n",
       "1        (상추)       (삼겹살)                 0.4                 0.6      0.4   \n",
       "\n",
       "   confidence      lift  leverage  conviction  \n",
       "0    0.666667  1.666667      0.16         1.8  \n",
       "1    1.000000  1.666667      0.16         inf  "
      ]
     },
     "execution_count": 73,
     "metadata": {},
     "output_type": "execute_result"
    }
   ],
   "source": [
    "ap = apriori(df, min_support=0.3, use_colnames=True)\n",
    "\n",
    "# 신뢰도가 0.3 이상인 빈번 항목 집합 탐색\n",
    "tbl = association_rules(ap, metric=\"confidence\", min_threshold=0.5)\n",
    "tbl[tbl['lift']>=1]"
   ]
  },
  {
   "cell_type": "markdown",
   "metadata": {},
   "source": [
    "### 2-4. 결과를 해석하시오."
   ]
  },
  {
   "cell_type": "code",
   "execution_count": 74,
   "metadata": {},
   "outputs": [
    {
     "name": "stdout",
     "output_type": "stream",
     "text": [
      "지지도가 0.3 이상인 빈발항목 집합을 살펴보면, 삼겹살 - 상추 이외 다른 항목은 모두 1가지 품목만이 담겨 있으므로 삼겹살 - 상추만 연관규칙이 있다고 볼 수 있다.\n",
      "앞서 추출된 삼겹살 - 상추의 경우, 신뢰도가 0.5 이상이고, 향상도 역시 1이 넘기 때문에 삼겹살의 구매와 상추의 구매는 서로 관련이 있다.\n"
     ]
    }
   ],
   "source": [
    "print('지지도가 0.3 이상인 빈발항목 집합을 살펴보면, 삼겹살 - 상추 이외 다른 항목은 모두 1가지 품목만이 담겨 있으므로 삼겹살 - 상추만 연관규칙이 있다고 볼 수 있다.')\n",
    "print('앞서 추출된 삼겹살 - 상추의 경우, 신뢰도가 0.5 이상이고, 향상도 역시 1이 넘기 때문에 삼겹살의 구매와 상추의 구매는 서로 관련이 있다.')"
   ]
  }
 ],
 "metadata": {
  "kernelspec": {
   "display_name": "Python 3",
   "language": "python",
   "name": "python3"
  },
  "language_info": {
   "codemirror_mode": {
    "name": "ipython",
    "version": 3
   },
   "file_extension": ".py",
   "mimetype": "text/x-python",
   "name": "python",
   "nbconvert_exporter": "python",
   "pygments_lexer": "ipython3",
   "version": "3.7.6"
  }
 },
 "nbformat": 4,
 "nbformat_minor": 5
}
