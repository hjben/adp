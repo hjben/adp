{
 "cells": [
  {
   "cell_type": "markdown",
   "metadata": {},
   "source": [
    "# Machine Learning - Basic Concepts\n",
    "- Predict Types\n",
    "- Model Save & Load\n",
    "- Hyperparameter Optimization\n",
    "- Evaluation Methods\n",
    "- Cross Validation"
   ]
  },
  {
   "cell_type": "code",
   "execution_count": 1,
   "metadata": {},
   "outputs": [],
   "source": [
    "import warnings\n",
    "from IPython.display import display, HTML"
   ]
  },
  {
   "cell_type": "code",
   "execution_count": 2,
   "metadata": {},
   "outputs": [
    {
     "data": {
      "text/html": [
       "<style>.container {width :98% !important;}</style>"
      ],
      "text/plain": [
       "<IPython.core.display.HTML object>"
      ]
     },
     "metadata": {},
     "output_type": "display_data"
    }
   ],
   "source": [
    "### HTML display 조정\n",
    "display(HTML(\"<style>.container {width :98% !important;}</style>\"))\n",
    "\n",
    "### Warning 제거\n",
    "warnings.filterwarnings('ignore')"
   ]
  },
  {
   "cell_type": "markdown",
   "metadata": {},
   "source": [
    "## Package Load"
   ]
  },
  {
   "cell_type": "code",
   "execution_count": 3,
   "metadata": {},
   "outputs": [],
   "source": [
    "import numpy as np\n",
    "import pandas as pd\n",
    "\n",
    "import matplotlib.pyplot as plt\n",
    "import seaborn as sns"
   ]
  },
  {
   "cell_type": "code",
   "execution_count": 4,
   "metadata": {},
   "outputs": [],
   "source": [
    "from sklearn.preprocessing import LabelEncoder, StandardScaler, MinMaxScaler\n",
    "from sklearn.model_selection import train_test_split\n",
    "\n",
    "from sklearn.tree import DecisionTreeClassifier, DecisionTreeRegressor\n",
    "from sklearn.linear_model import LogisticRegression, LinearRegression, Ridge, Lasso, ElasticNet\n",
    "from sklearn.svm import SVC, LinearSVC\n",
    "from sklearn.neighbors import KNeighborsClassifier\n",
    "from sklearn.ensemble import BaggingClassifier, AdaBoostClassifier, RandomForestClassifier, RandomForestRegressor\n",
    "from sklearn.multiclass import OneVsRestClassifier\n",
    "\n",
    "from sklearn.metrics import mean_squared_error, mean_absolute_error, mean_squared_log_error, r2_score, explained_variance_score\n",
    "from sklearn.metrics import accuracy_score, precision_score, recall_score, f1_score, fbeta_score, log_loss, matthews_corrcoef, cohen_kappa_score\n",
    "from sklearn.metrics import confusion_matrix, multilabel_confusion_matrix, classification_report, precision_recall_curve, roc_curve, roc_auc_score, auc\n",
    "from sklearn.metrics import PrecisionRecallDisplay, RocCurveDisplay"
   ]
  },
  {
   "cell_type": "markdown",
   "metadata": {},
   "source": [
    "## Predict Types"
   ]
  },
  {
   "cell_type": "markdown",
   "metadata": {},
   "source": [
    "### (1) Classification"
   ]
  },
  {
   "cell_type": "markdown",
   "metadata": {},
   "source": [
    "#### Binary: Titanic dataset"
   ]
  },
  {
   "cell_type": "code",
   "execution_count": 5,
   "metadata": {},
   "outputs": [
    {
     "data": {
      "text/html": [
       "<div>\n",
       "<style scoped>\n",
       "    .dataframe tbody tr th:only-of-type {\n",
       "        vertical-align: middle;\n",
       "    }\n",
       "\n",
       "    .dataframe tbody tr th {\n",
       "        vertical-align: top;\n",
       "    }\n",
       "\n",
       "    .dataframe thead th {\n",
       "        text-align: right;\n",
       "    }\n",
       "</style>\n",
       "<table border=\"1\" class=\"dataframe\">\n",
       "  <thead>\n",
       "    <tr style=\"text-align: right;\">\n",
       "      <th></th>\n",
       "      <th>PassengerId</th>\n",
       "      <th>Survived</th>\n",
       "      <th>Pclass</th>\n",
       "      <th>Name</th>\n",
       "      <th>Sex</th>\n",
       "      <th>Age</th>\n",
       "      <th>SibSp</th>\n",
       "      <th>Parch</th>\n",
       "      <th>Ticket</th>\n",
       "      <th>Fare</th>\n",
       "      <th>Cabin</th>\n",
       "      <th>Embarked</th>\n",
       "    </tr>\n",
       "  </thead>\n",
       "  <tbody>\n",
       "    <tr>\n",
       "      <th>0</th>\n",
       "      <td>1</td>\n",
       "      <td>0</td>\n",
       "      <td>3</td>\n",
       "      <td>Braund, Mr. Owen Harris</td>\n",
       "      <td>male</td>\n",
       "      <td>22.0</td>\n",
       "      <td>1</td>\n",
       "      <td>0</td>\n",
       "      <td>A/5 21171</td>\n",
       "      <td>7.2500</td>\n",
       "      <td>NaN</td>\n",
       "      <td>S</td>\n",
       "    </tr>\n",
       "    <tr>\n",
       "      <th>1</th>\n",
       "      <td>2</td>\n",
       "      <td>1</td>\n",
       "      <td>1</td>\n",
       "      <td>Cumings, Mrs. John Bradley (Florence Briggs Th...</td>\n",
       "      <td>female</td>\n",
       "      <td>38.0</td>\n",
       "      <td>1</td>\n",
       "      <td>0</td>\n",
       "      <td>PC 17599</td>\n",
       "      <td>71.2833</td>\n",
       "      <td>C85</td>\n",
       "      <td>C</td>\n",
       "    </tr>\n",
       "    <tr>\n",
       "      <th>2</th>\n",
       "      <td>3</td>\n",
       "      <td>1</td>\n",
       "      <td>3</td>\n",
       "      <td>Heikkinen, Miss. Laina</td>\n",
       "      <td>female</td>\n",
       "      <td>26.0</td>\n",
       "      <td>0</td>\n",
       "      <td>0</td>\n",
       "      <td>STON/O2. 3101282</td>\n",
       "      <td>7.9250</td>\n",
       "      <td>NaN</td>\n",
       "      <td>S</td>\n",
       "    </tr>\n",
       "  </tbody>\n",
       "</table>\n",
       "</div>"
      ],
      "text/plain": [
       "   PassengerId  Survived  Pclass  \\\n",
       "0            1         0       3   \n",
       "1            2         1       1   \n",
       "2            3         1       3   \n",
       "\n",
       "                                                Name     Sex   Age  SibSp  \\\n",
       "0                            Braund, Mr. Owen Harris    male  22.0      1   \n",
       "1  Cumings, Mrs. John Bradley (Florence Briggs Th...  female  38.0      1   \n",
       "2                             Heikkinen, Miss. Laina  female  26.0      0   \n",
       "\n",
       "   Parch            Ticket     Fare Cabin Embarked  \n",
       "0      0         A/5 21171   7.2500   NaN        S  \n",
       "1      0          PC 17599  71.2833   C85        C  \n",
       "2      0  STON/O2. 3101282   7.9250   NaN        S  "
      ]
     },
     "execution_count": 5,
     "metadata": {},
     "output_type": "execute_result"
    }
   ],
   "source": [
    "titanic_df = pd.read_csv('./data/titanic_train.csv')\n",
    "titanic_df.head(3)"
   ]
  },
  {
   "cell_type": "code",
   "execution_count": 6,
   "metadata": {},
   "outputs": [],
   "source": [
    "# 원본 데이터를 재로딩 하고, feature데이터 셋과 Label 데이터 셋 추출. \n",
    "y_titanic_df = titanic_df['Survived']\n",
    "x_titanic_df = titanic_df.drop('Survived', axis=1)\n",
    "\n",
    "# fill NA\n",
    "x_titanic_df['Age'].fillna(x_titanic_df['Age'].mean(), inplace=True)\n",
    "x_titanic_df['Cabin'].fillna('N', inplace=True)\n",
    "x_titanic_df['Embarked'].fillna('N', inplace=True)\n",
    "x_titanic_df['Fare'].fillna(0, inplace=True)\n",
    "\n",
    "# 머신러닝 알고리즘에 불필요한 피처 제거\n",
    "x_titanic_df.drop(['PassengerId', 'Name', 'Ticket'], axis=1, inplace=True)\n",
    "\n",
    "# Label encoding\n",
    "x_titanic_df['Cabin'] = x_titanic_df['Cabin'].str[:1]\n",
    "for feature in ['Cabin', 'Sex', 'Embarked']:\n",
    "    le = LabelEncoder()\n",
    "    le = le.fit(x_titanic_df[feature])\n",
    "    x_titanic_df[feature] = le.transform(x_titanic_df[feature])"
   ]
  },
  {
   "cell_type": "code",
   "execution_count": 7,
   "metadata": {},
   "outputs": [],
   "source": [
    "x_train, x_test, y_train, y_test = train_test_split(x_titanic_df, y_titanic_df, test_size=0.2, random_state=11)"
   ]
  },
  {
   "cell_type": "code",
   "execution_count": 8,
   "metadata": {},
   "outputs": [
    {
     "name": "stdout",
     "output_type": "stream",
     "text": [
      "DecisionTreeClassifier 정확도: 0.7877\n",
      "RandomForestClassifier 정확도:0.8547\n",
      "LogisticRegression 정확도: 0.8659\n"
     ]
    }
   ],
   "source": [
    "dt_clf = DecisionTreeClassifier(random_state=11)\n",
    "rf_clf = RandomForestClassifier(random_state=11)\n",
    "lr_clf = LogisticRegression(solver='liblinear') # 작은 데이터에서 유리한 solver\n",
    "\n",
    "# DecisionTreeClassifier 학습/예측/평가\n",
    "dt_clf.fit(x_train, y_train)\n",
    "dt_pred = dt_clf.predict(x_test)\n",
    "print('DecisionTreeClassifier 정확도: {0:.4f}'.format(accuracy_score(y_test, dt_pred)))\n",
    "\n",
    "# RandomForestClassifier 학습/예측/평가\n",
    "rf_clf.fit(x_train, y_train)\n",
    "rf_pred = rf_clf.predict(x_test)\n",
    "print('RandomForestClassifier 정확도:{0:.4f}'.format(accuracy_score(y_test, rf_pred)))\n",
    "\n",
    "# LogisticRegression 학습/예측/평가\n",
    "lr_clf.fit(x_train, y_train)\n",
    "lr_pred = lr_clf.predict(x_test)\n",
    "print('LogisticRegression 정확도: {0:.4f}'.format(accuracy_score(y_test, lr_pred)))"
   ]
  },
  {
   "cell_type": "markdown",
   "metadata": {},
   "source": [
    "#### Multiclass: Iris dataset\n",
    "- Multiclass 적용 알고리즘\n",
    "    - OvR (One-versus-the-rest): 분류 시 가장 높은 결정 점수를 클래스로 결정\n",
    "    - OvO (One-versus-one): 각 조합마다 이진 분류기 훈련\n",
    "        - Logistic Regression, SVClassifier 등 이진 분류만 가능한 알고리즘\n",
    "        - Train set의 크기에 영향을 많이 받는 알고리즘 (SVClassifier)\n",
    "- Multi-label & Multi-output Classification\n",
    "    - Multi-label: 하나의 케이스가 여러 label을 갖는 경우\n",
    "    - Multi-label에서, label이 Multiclass의 성질을 갖는 것"
   ]
  },
  {
   "cell_type": "code",
   "execution_count": 9,
   "metadata": {},
   "outputs": [],
   "source": [
    "from sklearn.datasets import load_iris"
   ]
  },
  {
   "cell_type": "code",
   "execution_count": 10,
   "metadata": {},
   "outputs": [
    {
     "data": {
      "text/html": [
       "<div>\n",
       "<style scoped>\n",
       "    .dataframe tbody tr th:only-of-type {\n",
       "        vertical-align: middle;\n",
       "    }\n",
       "\n",
       "    .dataframe tbody tr th {\n",
       "        vertical-align: top;\n",
       "    }\n",
       "\n",
       "    .dataframe thead th {\n",
       "        text-align: right;\n",
       "    }\n",
       "</style>\n",
       "<table border=\"1\" class=\"dataframe\">\n",
       "  <thead>\n",
       "    <tr style=\"text-align: right;\">\n",
       "      <th></th>\n",
       "      <th>sepal length (cm)</th>\n",
       "      <th>sepal width (cm)</th>\n",
       "      <th>petal length (cm)</th>\n",
       "      <th>petal width (cm)</th>\n",
       "      <th>label</th>\n",
       "    </tr>\n",
       "  </thead>\n",
       "  <tbody>\n",
       "    <tr>\n",
       "      <th>0</th>\n",
       "      <td>5.1</td>\n",
       "      <td>3.5</td>\n",
       "      <td>1.4</td>\n",
       "      <td>0.2</td>\n",
       "      <td>0</td>\n",
       "    </tr>\n",
       "    <tr>\n",
       "      <th>1</th>\n",
       "      <td>4.9</td>\n",
       "      <td>3.0</td>\n",
       "      <td>1.4</td>\n",
       "      <td>0.2</td>\n",
       "      <td>0</td>\n",
       "    </tr>\n",
       "    <tr>\n",
       "      <th>2</th>\n",
       "      <td>4.7</td>\n",
       "      <td>3.2</td>\n",
       "      <td>1.3</td>\n",
       "      <td>0.2</td>\n",
       "      <td>0</td>\n",
       "    </tr>\n",
       "  </tbody>\n",
       "</table>\n",
       "</div>"
      ],
      "text/plain": [
       "   sepal length (cm)  sepal width (cm)  petal length (cm)  petal width (cm)  \\\n",
       "0                5.1               3.5                1.4               0.2   \n",
       "1                4.9               3.0                1.4               0.2   \n",
       "2                4.7               3.2                1.3               0.2   \n",
       "\n",
       "   label  \n",
       "0      0  \n",
       "1      0  \n",
       "2      0  "
      ]
     },
     "execution_count": 10,
     "metadata": {},
     "output_type": "execute_result"
    }
   ],
   "source": [
    "iris = load_iris()\n",
    "iris_data = iris.data\n",
    "iris_label = iris.target\n",
    "\n",
    "iris_df = pd.DataFrame(data=iris_data, columns=iris.feature_names)\n",
    "iris_df['label'] = iris.target\n",
    "iris_df.head(3)"
   ]
  },
  {
   "cell_type": "code",
   "execution_count": 11,
   "metadata": {},
   "outputs": [],
   "source": [
    "x_train, x_test, y_train, iris_y_test = train_test_split(iris_data, iris_label, test_size=0.2, random_state=11)"
   ]
  },
  {
   "cell_type": "code",
   "execution_count": 12,
   "metadata": {},
   "outputs": [],
   "source": [
    "scaler = StandardScaler()\n",
    "\n",
    "x_train_scaled = scaler.fit_transform(x_train)\n",
    "x_test_scaled = scaler.transform(x_test)"
   ]
  },
  {
   "cell_type": "code",
   "execution_count": 13,
   "metadata": {},
   "outputs": [
    {
     "data": {
      "text/plain": [
       "RandomForestClassifier(n_estimators=500, random_state=42)"
      ]
     },
     "execution_count": 13,
     "metadata": {},
     "output_type": "execute_result"
    }
   ],
   "source": [
    "### DecisionTreeClassifier\n",
    "dt_clf = DecisionTreeClassifier(random_state=11)\n",
    "dt_clf.fit(x_train, y_train) # scale 적용하지 않음\n",
    "\n",
    "### Logistic Regression - Softmax\n",
    "softmax_reg = LogisticRegression(multi_class=\"multinomial\", solver=\"lbfgs\", C=10, random_state=42)\n",
    "softmax_reg.fit(x_train_scaled, y_train)\n",
    "\n",
    "### Linear SVC\n",
    "svm_clf = LinearSVC()\n",
    "svm_clf.fit(x_train_scaled, y_train)\n",
    "\n",
    "### Bagging\n",
    "bagging_clf = BaggingClassifier(base_estimator=DecisionTreeClassifier())\n",
    "bagging_clf.fit(x_train_scaled, y_train)\n",
    "\n",
    "### Adaboost\n",
    "ada_clf = AdaBoostClassifier(base_estimator=None)\n",
    "ada_clf.fit(x_train_scaled, y_train)\n",
    "\n",
    "### Random Forest\n",
    "rnd_clf = RandomForestClassifier(n_estimators=500, random_state=42)\n",
    "rnd_clf.fit(x_train_scaled, y_train)"
   ]
  },
  {
   "cell_type": "code",
   "execution_count": 14,
   "metadata": {},
   "outputs": [
    {
     "name": "stdout",
     "output_type": "stream",
     "text": [
      "Tree 예측 정확도: 0.9333\n",
      "Logistic 예측 정확도: 0.9333\n",
      "SVC 예측 정확도: 0.7667\n",
      "Bagging 예측 정확도: 0.9333\n",
      "AdaBoost 예측 정확도: 0.9333\n",
      "RandomForest 예측 정확도: 0.9333\n"
     ]
    }
   ],
   "source": [
    "### Test predict\n",
    "dt_iris_pred = dt_clf.predict(x_test)\n",
    "lr_iris_pred = softmax_reg.predict(x_test_scaled)\n",
    "svc_iris_pred = svm_clf.predict(x_test_scaled)\n",
    "bagging_iris_pred = bagging_clf.predict(x_test_scaled)\n",
    "ada_iris_pred = ada_clf.predict(x_test_scaled)\n",
    "rnd_iris_pred = rnd_clf.predict(x_test_scaled)\n",
    "\n",
    "print(f'Tree 예측 정확도: {round(accuracy_score(iris_y_test, dt_iris_pred), 4)}')\n",
    "print(f'Logistic 예측 정확도: {round(accuracy_score(iris_y_test, lr_iris_pred), 4)}')\n",
    "print(f'SVC 예측 정확도: {round(accuracy_score(iris_y_test, svc_iris_pred), 4)}')\n",
    "print(f'Bagging 예측 정확도: {round(accuracy_score(iris_y_test, bagging_iris_pred), 4)}')\n",
    "print(f'AdaBoost 예측 정확도: {round(accuracy_score(iris_y_test, ada_iris_pred), 4)}')\n",
    "print(f'RandomForest 예측 정확도: {round(accuracy_score(iris_y_test, rnd_iris_pred), 4)}')"
   ]
  },
  {
   "cell_type": "code",
   "execution_count": 15,
   "metadata": {},
   "outputs": [
    {
     "name": "stdout",
     "output_type": "stream",
     "text": [
      "Tree\n",
      "[[ 9  0  0]\n",
      " [ 0 10  0]\n",
      " [ 0  2  9]]\n",
      "Logistic\n",
      "[[ 8  1  0]\n",
      " [ 0 10  0]\n",
      " [ 0  1 10]]\n",
      "SVC\n",
      "[[8 1 0]\n",
      " [0 6 4]\n",
      " [0 2 9]]\n",
      "Bagging\n",
      "[[ 9  0  0]\n",
      " [ 0 10  0]\n",
      " [ 0  2  9]]\n",
      "AdaBoost\n",
      "[[ 9  0  0]\n",
      " [ 0 10  0]\n",
      " [ 0  2  9]]\n",
      "RandomForest\n",
      "[[ 9  0  0]\n",
      " [ 0 10  0]\n",
      " [ 0  2  9]]\n"
     ]
    }
   ],
   "source": [
    "### Confusion matrix\n",
    "print(f'Tree\\n{confusion_matrix(iris_y_test, dt_iris_pred)}')\n",
    "print(f'Logistic\\n{confusion_matrix(iris_y_test, lr_iris_pred)}')\n",
    "print(f'SVC\\n{confusion_matrix(iris_y_test, svc_iris_pred)}')\n",
    "\n",
    "print(f'Bagging\\n{confusion_matrix(iris_y_test, bagging_iris_pred)}')\n",
    "print(f'AdaBoost\\n{confusion_matrix(iris_y_test, ada_iris_pred)}')\n",
    "print(f'RandomForest\\n{confusion_matrix(iris_y_test, rnd_iris_pred)}')"
   ]
  },
  {
   "cell_type": "code",
   "execution_count": 16,
   "metadata": {},
   "outputs": [
    {
     "name": "stdout",
     "output_type": "stream",
     "text": [
      "Tree: [[0. 1. 0.]]\n",
      "Logistic: [[2.94615675e-08 1.03572333e-03 9.98964247e-01]]\n",
      "Bagging: [[0. 0. 1.]]\n",
      "AdaBoost: [[3.18895177e-16 1.25442809e-04 9.99874557e-01]]\n"
     ]
    }
   ],
   "source": [
    "### Class probability\n",
    "# 알고리즘 특성 상 Tree는 1, 0으로 구성되고, SVC는 확률을 제공하지 않음\n",
    "print(f'Tree: {dt_clf.predict_proba([[5, 2, 3, 3]])}')\n",
    "print(f'Logistic: {softmax_reg.predict_proba(scaler.transform(np.array([[5, 2, 3, 3]])))}')\n",
    "\n",
    "print(f'Bagging: {bagging_clf.predict_proba([[5, 2, 3, 3]])}')\n",
    "print(f'AdaBoost: {ada_clf.predict_proba([[5, 2, 3, 3]])}')"
   ]
  },
  {
   "cell_type": "code",
   "execution_count": 17,
   "metadata": {},
   "outputs": [
    {
     "name": "stdout",
     "output_type": "stream",
     "text": [
      "Tree: [1]\n",
      "Logistic: [2]\n",
      "SVC: [2]\n",
      "Bagging: [2]\n",
      "AdaBoost: [2]\n"
     ]
    }
   ],
   "source": [
    "### New data predict\n",
    "print(f'Tree: {dt_clf.predict([[5, 2, 3, 3]])}')\n",
    "print(f'Logistic: {softmax_reg.predict(scaler.transform(np.array([[5, 2, 3, 3]])))}')\n",
    "print(f'SVC: {svm_clf.predict(scaler.transform(np.array([[5, 2, 3, 3]])))}')\n",
    "\n",
    "print(f'Bagging: {bagging_clf.predict(scaler.transform(np.array([[5, 2, 3, 3]])))}')\n",
    "print(f'AdaBoost: {ada_clf.predict(scaler.transform(np.array([[5, 2, 3, 3]])))}')"
   ]
  },
  {
   "cell_type": "code",
   "execution_count": 18,
   "metadata": {},
   "outputs": [
    {
     "data": {
      "text/plain": [
       "OneVsRestClassifier(estimator=SVC(gamma='auto', random_state=42))"
      ]
     },
     "execution_count": 18,
     "metadata": {},
     "output_type": "execute_result"
    }
   ],
   "source": [
    "### OvO 또는 OvR 강제\n",
    "svc = SVC(gamma=\"auto\", random_state=42)\n",
    "ovr_clf = OneVsRestClassifier(svc)\n",
    "ovr_clf.fit(x_train_scaled, y_train)"
   ]
  },
  {
   "cell_type": "code",
   "execution_count": 19,
   "metadata": {},
   "outputs": [
    {
     "data": {
      "text/plain": [
       "[SVC(gamma='auto', random_state=42),\n",
       " SVC(gamma='auto', random_state=42),\n",
       " SVC(gamma='auto', random_state=42)]"
      ]
     },
     "execution_count": 19,
     "metadata": {},
     "output_type": "execute_result"
    }
   ],
   "source": [
    "ovr_clf.estimators_"
   ]
  },
  {
   "cell_type": "code",
   "execution_count": 20,
   "metadata": {},
   "outputs": [],
   "source": [
    "### Multi-label\n",
    "# 두 가지 label 생성\n",
    "y_train_1 = (y_train <= 1)\n",
    "y_train_2 = (y_train == 1)\n",
    "\n",
    "y_test_1 = (iris_y_test <= 1)\n",
    "y_test_2 = (iris_y_test == 1)\n",
    "\n",
    "y_train_multilabel = np.c_[y_train_1, y_train_2]\n",
    "y_test_multilabel = np.c_[y_test_1, y_test_2]"
   ]
  },
  {
   "cell_type": "code",
   "execution_count": 21,
   "metadata": {},
   "outputs": [
    {
     "data": {
      "text/plain": [
       "KNeighborsClassifier()"
      ]
     },
     "execution_count": 21,
     "metadata": {},
     "output_type": "execute_result"
    }
   ],
   "source": [
    "knn_clf = KNeighborsClassifier()\n",
    "knn_clf.fit(x_train_scaled, y_train_multilabel)"
   ]
  },
  {
   "cell_type": "code",
   "execution_count": 22,
   "metadata": {},
   "outputs": [],
   "source": [
    "knn_pred = knn_clf.predict(x_test_scaled)"
   ]
  },
  {
   "cell_type": "code",
   "execution_count": 23,
   "metadata": {},
   "outputs": [
    {
     "data": {
      "text/plain": [
       "array([[False, False],\n",
       "       [False, False],\n",
       "       [ True,  True],\n",
       "       [ True,  True],\n",
       "       [False, False]])"
      ]
     },
     "execution_count": 23,
     "metadata": {},
     "output_type": "execute_result"
    }
   ],
   "source": [
    "knn_pred[:5]"
   ]
  },
  {
   "cell_type": "code",
   "execution_count": 24,
   "metadata": {},
   "outputs": [
    {
     "data": {
      "text/plain": [
       "0.9097826086956522"
      ]
     },
     "execution_count": 24,
     "metadata": {},
     "output_type": "execute_result"
    }
   ],
   "source": [
    "f1_score(y_test_multilabel, knn_pred, average=\"macro\")"
   ]
  },
  {
   "cell_type": "code",
   "execution_count": 25,
   "metadata": {},
   "outputs": [],
   "source": [
    "### Multi-output\n",
    "y_train_1 = y_train\n",
    "y_train_2 = (y_train == 1)\n",
    "\n",
    "y_train_multilabel = np.c_[y_train_1, y_train_2]"
   ]
  },
  {
   "cell_type": "code",
   "execution_count": 26,
   "metadata": {
    "tags": []
   },
   "outputs": [
    {
     "data": {
      "text/plain": [
       "array([[2, 0]])"
      ]
     },
     "execution_count": 26,
     "metadata": {},
     "output_type": "execute_result"
    }
   ],
   "source": [
    "knn_clf.fit(x_train, y_train_multilabel)\n",
    "knn_pred = knn_clf.predict([x_test[2]])\n",
    "knn_pred"
   ]
  },
  {
   "cell_type": "markdown",
   "metadata": {},
   "source": [
    "### (2) Regression"
   ]
  },
  {
   "cell_type": "markdown",
   "metadata": {},
   "source": [
    "#### Boston dataset"
   ]
  },
  {
   "cell_type": "code",
   "execution_count": 27,
   "metadata": {},
   "outputs": [
    {
     "data": {
      "text/html": [
       "<div>\n",
       "<style scoped>\n",
       "    .dataframe tbody tr th:only-of-type {\n",
       "        vertical-align: middle;\n",
       "    }\n",
       "\n",
       "    .dataframe tbody tr th {\n",
       "        vertical-align: top;\n",
       "    }\n",
       "\n",
       "    .dataframe thead th {\n",
       "        text-align: right;\n",
       "    }\n",
       "</style>\n",
       "<table border=\"1\" class=\"dataframe\">\n",
       "  <thead>\n",
       "    <tr style=\"text-align: right;\">\n",
       "      <th></th>\n",
       "      <th>CRIM</th>\n",
       "      <th>ZN</th>\n",
       "      <th>INDUS</th>\n",
       "      <th>CHAS</th>\n",
       "      <th>NOX</th>\n",
       "      <th>RM</th>\n",
       "      <th>AGE</th>\n",
       "      <th>DIS</th>\n",
       "      <th>RAD</th>\n",
       "      <th>TAX</th>\n",
       "      <th>PTRATIO</th>\n",
       "      <th>B</th>\n",
       "      <th>LSTAT</th>\n",
       "      <th>MEDV</th>\n",
       "    </tr>\n",
       "  </thead>\n",
       "  <tbody>\n",
       "    <tr>\n",
       "      <th>0</th>\n",
       "      <td>0.00632</td>\n",
       "      <td>18.0</td>\n",
       "      <td>2.31</td>\n",
       "      <td>0</td>\n",
       "      <td>0.538</td>\n",
       "      <td>6.575</td>\n",
       "      <td>65.2</td>\n",
       "      <td>4.0900</td>\n",
       "      <td>1</td>\n",
       "      <td>296.0</td>\n",
       "      <td>15.3</td>\n",
       "      <td>396.90</td>\n",
       "      <td>4.98</td>\n",
       "      <td>24.0</td>\n",
       "    </tr>\n",
       "    <tr>\n",
       "      <th>1</th>\n",
       "      <td>0.02731</td>\n",
       "      <td>0.0</td>\n",
       "      <td>7.07</td>\n",
       "      <td>0</td>\n",
       "      <td>0.469</td>\n",
       "      <td>6.421</td>\n",
       "      <td>78.9</td>\n",
       "      <td>4.9671</td>\n",
       "      <td>2</td>\n",
       "      <td>242.0</td>\n",
       "      <td>17.8</td>\n",
       "      <td>396.90</td>\n",
       "      <td>9.14</td>\n",
       "      <td>21.6</td>\n",
       "    </tr>\n",
       "    <tr>\n",
       "      <th>2</th>\n",
       "      <td>0.02729</td>\n",
       "      <td>0.0</td>\n",
       "      <td>7.07</td>\n",
       "      <td>0</td>\n",
       "      <td>0.469</td>\n",
       "      <td>7.185</td>\n",
       "      <td>61.1</td>\n",
       "      <td>4.9671</td>\n",
       "      <td>2</td>\n",
       "      <td>242.0</td>\n",
       "      <td>17.8</td>\n",
       "      <td>392.83</td>\n",
       "      <td>4.03</td>\n",
       "      <td>34.7</td>\n",
       "    </tr>\n",
       "    <tr>\n",
       "      <th>3</th>\n",
       "      <td>0.03237</td>\n",
       "      <td>0.0</td>\n",
       "      <td>2.18</td>\n",
       "      <td>0</td>\n",
       "      <td>0.458</td>\n",
       "      <td>6.998</td>\n",
       "      <td>45.8</td>\n",
       "      <td>6.0622</td>\n",
       "      <td>3</td>\n",
       "      <td>222.0</td>\n",
       "      <td>18.7</td>\n",
       "      <td>394.63</td>\n",
       "      <td>2.94</td>\n",
       "      <td>33.4</td>\n",
       "    </tr>\n",
       "    <tr>\n",
       "      <th>4</th>\n",
       "      <td>0.06905</td>\n",
       "      <td>0.0</td>\n",
       "      <td>2.18</td>\n",
       "      <td>0</td>\n",
       "      <td>0.458</td>\n",
       "      <td>7.147</td>\n",
       "      <td>54.2</td>\n",
       "      <td>6.0622</td>\n",
       "      <td>3</td>\n",
       "      <td>222.0</td>\n",
       "      <td>18.7</td>\n",
       "      <td>396.90</td>\n",
       "      <td>5.33</td>\n",
       "      <td>36.2</td>\n",
       "    </tr>\n",
       "  </tbody>\n",
       "</table>\n",
       "</div>"
      ],
      "text/plain": [
       "      CRIM    ZN  INDUS  CHAS    NOX     RM   AGE     DIS  RAD    TAX  \\\n",
       "0  0.00632  18.0   2.31     0  0.538  6.575  65.2  4.0900    1  296.0   \n",
       "1  0.02731   0.0   7.07     0  0.469  6.421  78.9  4.9671    2  242.0   \n",
       "2  0.02729   0.0   7.07     0  0.469  7.185  61.1  4.9671    2  242.0   \n",
       "3  0.03237   0.0   2.18     0  0.458  6.998  45.8  6.0622    3  222.0   \n",
       "4  0.06905   0.0   2.18     0  0.458  7.147  54.2  6.0622    3  222.0   \n",
       "\n",
       "   PTRATIO       B  LSTAT  MEDV  \n",
       "0     15.3  396.90   4.98  24.0  \n",
       "1     17.8  396.90   9.14  21.6  \n",
       "2     17.8  392.83   4.03  34.7  \n",
       "3     18.7  394.63   2.94  33.4  \n",
       "4     18.7  396.90   5.33  36.2  "
      ]
     },
     "execution_count": 27,
     "metadata": {},
     "output_type": "execute_result"
    }
   ],
   "source": [
    "boston = pd.read_csv('./data/boston.csv')\n",
    "boston.head()"
   ]
  },
  {
   "cell_type": "code",
   "execution_count": 28,
   "metadata": {},
   "outputs": [
    {
     "data": {
      "text/plain": [
       "(506, 14)"
      ]
     },
     "execution_count": 28,
     "metadata": {},
     "output_type": "execute_result"
    }
   ],
   "source": [
    "boston.shape"
   ]
  },
  {
   "cell_type": "code",
   "execution_count": 29,
   "metadata": {},
   "outputs": [
    {
     "name": "stdout",
     "output_type": "stream",
     "text": [
      "<class 'pandas.core.frame.DataFrame'>\n",
      "RangeIndex: 506 entries, 0 to 505\n",
      "Data columns (total 14 columns):\n",
      " #   Column   Non-Null Count  Dtype  \n",
      "---  ------   --------------  -----  \n",
      " 0   CRIM     506 non-null    float64\n",
      " 1   ZN       506 non-null    float64\n",
      " 2   INDUS    506 non-null    float64\n",
      " 3   CHAS     506 non-null    int64  \n",
      " 4   NOX      506 non-null    float64\n",
      " 5   RM       506 non-null    float64\n",
      " 6   AGE      506 non-null    float64\n",
      " 7   DIS      506 non-null    float64\n",
      " 8   RAD      506 non-null    int64  \n",
      " 9   TAX      506 non-null    float64\n",
      " 10  PTRATIO  506 non-null    float64\n",
      " 11  B        506 non-null    float64\n",
      " 12  LSTAT    506 non-null    float64\n",
      " 13  MEDV     506 non-null    float64\n",
      "dtypes: float64(12), int64(2)\n",
      "memory usage: 55.5 KB\n"
     ]
    }
   ],
   "source": [
    "boston.info()"
   ]
  },
  {
   "cell_type": "code",
   "execution_count": 30,
   "metadata": {},
   "outputs": [
    {
     "data": {
      "text/plain": [
       "CRIM       0\n",
       "ZN         0\n",
       "INDUS      0\n",
       "CHAS       0\n",
       "NOX        0\n",
       "RM         0\n",
       "AGE        0\n",
       "DIS        0\n",
       "RAD        0\n",
       "TAX        0\n",
       "PTRATIO    0\n",
       "B          0\n",
       "LSTAT      0\n",
       "MEDV       0\n",
       "dtype: int64"
      ]
     },
     "execution_count": 30,
     "metadata": {},
     "output_type": "execute_result"
    }
   ],
   "source": [
    "boston.isna().sum() # no NAs"
   ]
  },
  {
   "cell_type": "code",
   "execution_count": 31,
   "metadata": {},
   "outputs": [
    {
     "data": {
      "image/png": "[encoded data removed]",
      "text/plain": [
       "<Figure size 864x576 with 12 Axes>"
      ]
     },
     "metadata": {
      "needs_background": "light"
     },
     "output_type": "display_data"
    }
   ],
   "source": [
    "fig, axs = plt.subplots(figsize=(12, 8), ncols=4, nrows=3, constrained_layout=True) # 3개의 행과 4개의 열을 가진 subplot\n",
    "features = boston.columns.difference(['MEDV', 'CHAS'])\n",
    "for i, feature in zip(range(12), features):\n",
    "    row = i//4 # 행번호 설정\n",
    "    col = i%4 # 열번호 설정\n",
    "    \n",
    "    # seaborn의 regplot을 이용해 산점도와 선형 회귀직선을 함께 시각화\n",
    "    sns.regplot(x=feature, y=boston['MEDV'], data=boston, ax=axs[row][col])"
   ]
  },
  {
   "cell_type": "code",
   "execution_count": 32,
   "metadata": {},
   "outputs": [],
   "source": [
    "boston_x = boston[features].values\n",
    "boston_y = boston['MEDV'].values\n",
    "\n",
    "x_train, x_test, y_train, y_test = train_test_split(boston_x, boston_y, test_size=0.2, random_state=42)"
   ]
  },
  {
   "cell_type": "code",
   "execution_count": 33,
   "metadata": {},
   "outputs": [
    {
     "name": "stdout",
     "output_type": "stream",
     "text": [
      "학습데이터세트 PRICE 평균:  22.796534653465343\n",
      "평가데이터세트 PRICE 평균:  21.488235294117644\n"
     ]
    }
   ],
   "source": [
    "print('학습데이터세트 PRICE 평균: ', y_train.mean())\n",
    "print('평가데이터세트 PRICE 평균: ', y_test.mean())"
   ]
  },
  {
   "cell_type": "code",
   "execution_count": 34,
   "metadata": {},
   "outputs": [],
   "source": [
    "scaler = MinMaxScaler()\n",
    "x_train_scaled = scaler.fit_transform(x_train)\n",
    "x_test_scaled = scaler.transform(x_test)"
   ]
  },
  {
   "cell_type": "code",
   "execution_count": 35,
   "metadata": {},
   "outputs": [
    {
     "data": {
      "text/plain": [
       "DecisionTreeRegressor(max_depth=4, random_state=0)"
      ]
     },
     "execution_count": 35,
     "metadata": {},
     "output_type": "execute_result"
    }
   ],
   "source": [
    "### Linear Regression\n",
    "linear = LinearRegression()\n",
    "linear.fit(x_train_scaled, y_train)\n",
    "\n",
    "### Ridge\n",
    "ridge = Ridge()\n",
    "ridge.fit(x_train_scaled, y_train)\n",
    "\n",
    "### Lasso\n",
    "lasso = Lasso()\n",
    "lasso.fit(x_train_scaled, y_train)\n",
    "\n",
    "### ElasticNet\n",
    "elastic = ElasticNet()\n",
    "elastic.fit(x_train_scaled, y_train)\n",
    "\n",
    "### Decision Tree\n",
    "dt_reg = DecisionTreeRegressor(random_state=0, max_depth=4)\n",
    "dt_reg.fit(x_train_scaled, y_train)"
   ]
  },
  {
   "cell_type": "code",
   "execution_count": 36,
   "metadata": {},
   "outputs": [],
   "source": [
    "### Test predict\n",
    "linear_pred = linear.predict(x_test_scaled)\n",
    "ridge_pred = ridge.predict(x_test_scaled)\n",
    "lasso_pred = ridge.predict(x_test_scaled)\n",
    "elastic_pred = elastic.predict(x_test_scaled)\n",
    "dt_pred = dt_reg.predict(x_test_scaled)"
   ]
  },
  {
   "cell_type": "code",
   "execution_count": 37,
   "metadata": {},
   "outputs": [
    {
     "name": "stdout",
     "output_type": "stream",
     "text": [
      "Linear R2-Score: 0.6641\n",
      "Ridge R2-Score: 0.6737\n",
      "Lasso R2-Score: 0.6737\n",
      "ElasticNet R2-Score: 0.1597\n",
      "Tree R2-Score: 0.7307\n",
      "\n",
      "Linear MSE: 24.6354\n",
      "Ridge MSE: 23.9316\n",
      "Lasso MSE: 23.9316\n",
      "ElasticNet MSE: 61.6255\n",
      "Tree MSE: 19.7498\n",
      "\n",
      "Linear MAE: 3.2372\n",
      "Ridge MAE: 3.1554\n",
      "Lasso MAE: 3.1554\n",
      "ElasticNet MAE: 5.5432\n",
      "Tree MAE: 2.8861\n"
     ]
    }
   ],
   "source": [
    "### R2-score\n",
    "print(f'Linear R2-Score: {round(r2_score(y_test, linear_pred), 4)}')\n",
    "print(f'Ridge R2-Score: {round(r2_score(y_test, ridge_pred), 4)}')\n",
    "print(f'Lasso R2-Score: {round(r2_score(y_test, lasso_pred), 4)}')\n",
    "\n",
    "print(f'ElasticNet R2-Score: {round(r2_score(y_test, elastic_pred), 4)}')\n",
    "print(f'Tree R2-Score: {round(r2_score(y_test, dt_pred), 4)}')\n",
    "print('')\n",
    "\n",
    "### MSE\n",
    "print(f'Linear MSE: {round(mean_squared_error(y_test, linear_pred), 4)}')\n",
    "print(f'Ridge MSE: {round(mean_squared_error(y_test, ridge_pred), 4)}')\n",
    "print(f'Lasso MSE: {round(mean_squared_error(y_test, lasso_pred), 4)}')\n",
    "\n",
    "print(f'ElasticNet MSE: {round(mean_squared_error(y_test, elastic_pred), 4)}')\n",
    "print(f'Tree MSE: {round(mean_squared_error(y_test, dt_pred), 4)}')\n",
    "print('')\n",
    "\n",
    "### MAE\n",
    "print(f'Linear MAE: {round(mean_absolute_error(y_test, linear_pred), 4)}')\n",
    "print(f'Ridge MAE: {round(mean_absolute_error(y_test, ridge_pred), 4)}')\n",
    "print(f'Lasso MAE: {round(mean_absolute_error(y_test, lasso_pred), 4)}')\n",
    "\n",
    "print(f'ElasticNet MAE: {round(mean_absolute_error(y_test, elastic_pred), 4)}')\n",
    "print(f'Tree MAE: {round(mean_absolute_error(y_test, dt_pred), 4)}')"
   ]
  },
  {
   "cell_type": "code",
   "execution_count": 38,
   "metadata": {},
   "outputs": [
    {
     "name": "stdout",
     "output_type": "stream",
     "text": [
      "Linear Regression 절편 값: 24.8668423027451\n",
      "Linear Regression 회귀 계수값: [ -0.5   5.1 -10.6 -16.1   1.6 -19.   -7.9  -8.9   6.6  22.1  -6.3   3.2]\n",
      "Ridge 절편 값: 24.39292012479714\n",
      "Ridge 회귀 계수값: [ -0.3   5.   -7.4 -12.6   0.5 -18.4  -6.1  -8.7   4.9  20.4  -4.8   2.1]\n",
      "Lasso 절편 값: 25.59299088806557\n",
      "Lasso 회귀 계수값: [-0.   0.  -0.   0.  -0.  -8.3 -0.  -0.  -0.   0.  -0.9  0. ]\n",
      "ElasticNet 절편 값: 24.538070324325698\n",
      "ElasticNet 회귀 계수값: [-0.4  0.2 -0.   0.  -0.7 -1.3 -0.4 -0.8 -0.9  0.7 -1.   0. ]\n"
     ]
    }
   ],
   "source": [
    "print('Linear Regression 절편 값:', linear.intercept_)\n",
    "print('Linear Regression 회귀 계수값:', np.round(linear.coef_, 1))\n",
    "\n",
    "print('Ridge 절편 값:', ridge.intercept_)\n",
    "print('Ridge 회귀 계수값:', np.round(ridge.coef_, 1))\n",
    "\n",
    "print('Lasso 절편 값:', lasso.intercept_)\n",
    "print('Lasso 회귀 계수값:', np.round(lasso.coef_, 1))\n",
    "\n",
    "print('ElasticNet 절편 값:', elastic.intercept_)\n",
    "print('ElasticNet 회귀 계수값:', np.round(elastic.coef_, 1))"
   ]
  },
  {
   "cell_type": "code",
   "execution_count": 39,
   "metadata": {},
   "outputs": [
    {
     "name": "stdout",
     "output_type": "stream",
     "text": [
      "Linear Regression: [-26.02703905]\n",
      "Ridge: [353.3296001]\n",
      "Lasso: [-301.33319829]\n",
      "ElasticNet: [-254.75540431]\n",
      "Tree: [21.9]\n"
     ]
    }
   ],
   "source": [
    "### New data predict\n",
    "print(f'Linear Regression: {linear.predict([x_test[0]])}')\n",
    "print(f'Ridge: {ridge.predict([x_test[0]])}')\n",
    "print(f'Lasso: {lasso.predict([x_test[0]])}')\n",
    "print(f'ElasticNet: {elastic.predict([x_test[0]])}')\n",
    "print(f'Tree: {dt_reg.predict([x_test[0]])}')"
   ]
  },
  {
   "cell_type": "markdown",
   "metadata": {},
   "source": [
    "## Model save & load"
   ]
  },
  {
   "cell_type": "code",
   "execution_count": 40,
   "metadata": {
    "tags": []
   },
   "outputs": [],
   "source": [
    "import joblib"
   ]
  },
  {
   "cell_type": "code",
   "execution_count": 41,
   "metadata": {},
   "outputs": [],
   "source": [
    "### model save\n",
    "# joblib.dump(linear, \"my_model.pkl\")"
   ]
  },
  {
   "cell_type": "code",
   "execution_count": 42,
   "metadata": {},
   "outputs": [],
   "source": [
    "# model load\n",
    "# my_model_loaded = joblib.load(\"my_model.pkl\")"
   ]
  },
  {
   "cell_type": "markdown",
   "metadata": {},
   "source": [
    "## Feature Importance"
   ]
  },
  {
   "cell_type": "markdown",
   "metadata": {},
   "source": [
    "### (1) Permutation Importance\n",
    "- 일반적으로 수행되는 중요도 판정 방법"
   ]
  },
  {
   "cell_type": "code",
   "execution_count": 43,
   "metadata": {},
   "outputs": [
    {
     "name": "stdout",
     "output_type": "stream",
     "text": [
      "Feature importances:[0.025 0.    0.049 0.926]\n",
      "petal length (cm) : 0.025\n",
      "petal width (cm) : 0.000\n",
      "sepal length (cm) : 0.049\n",
      "sepal width (cm) : 0.926\n"
     ]
    },
    {
     "data": {
      "image/png": "[encoded data removed]",
      "text/plain": [
       "<Figure size 432x288 with 1 Axes>"
      ]
     },
     "metadata": {
      "needs_background": "light"
     },
     "output_type": "display_data"
    }
   ],
   "source": [
    "### Tree feature importance\n",
    "print(\"Feature importances:{0}\".format(np.round(dt_clf.feature_importances_, 3)))\n",
    "for name, value in zip(iris_df.columns.difference(['label']), dt_clf.feature_importances_):\n",
    "    print('{0} : {1:.3f}'.format(name, value))\n",
    "\n",
    "sns.barplot(x=dt_clf.feature_importances_, y=iris_df.columns.difference(['Class', 'label']))\n",
    "plt.show()"
   ]
  },
  {
   "cell_type": "code",
   "execution_count": 44,
   "metadata": {},
   "outputs": [
    {
     "name": "stdout",
     "output_type": "stream",
     "text": [
      "Feature importances:[0.  0.  0.4 0.6]\n",
      "petal length (cm) : 0.000\n",
      "petal width (cm) : 0.000\n",
      "sepal length (cm) : 0.400\n",
      "sepal width (cm) : 0.600\n"
     ]
    },
    {
     "data": {
      "image/png": "[encoded data removed]",
      "text/plain": [
       "<Figure size 432x288 with 1 Axes>"
      ]
     },
     "metadata": {
      "needs_background": "light"
     },
     "output_type": "display_data"
    }
   ],
   "source": [
    "### AdaBoost feature importance\n",
    "print(\"Feature importances:{0}\".format(np.round(ada_clf.feature_importances_, 3)))\n",
    "for name, value in zip(iris_df.columns.difference(['label']), ada_clf.feature_importances_):\n",
    "    print('{0} : {1:.3f}'.format(name, value))\n",
    "\n",
    "sns.barplot(x=ada_clf.feature_importances_, y=iris_df.columns.difference(['Class', 'label']))\n",
    "plt.show()"
   ]
  },
  {
   "cell_type": "code",
   "execution_count": 45,
   "metadata": {},
   "outputs": [
    {
     "name": "stdout",
     "output_type": "stream",
     "text": [
      "Feature importances:[0.114 0.036 0.405 0.444]\n",
      "petal length (cm) : 0.114\n",
      "petal width (cm) : 0.036\n",
      "sepal length (cm) : 0.405\n",
      "sepal width (cm) : 0.444\n"
     ]
    },
    {
     "data": {
      "image/png": "[encoded data removed]",
      "text/plain": [
       "<Figure size 432x288 with 1 Axes>"
      ]
     },
     "metadata": {
      "needs_background": "light"
     },
     "output_type": "display_data"
    }
   ],
   "source": [
    "### RandomForest feature importance\n",
    "print(\"Feature importances:{0}\".format(np.round(rnd_clf.feature_importances_, 3)))\n",
    "for name, value in zip(iris_df.columns.difference(['label']), rnd_clf.feature_importances_):\n",
    "    print('{0} : {1:.3f}'.format(name, value))\n",
    "\n",
    "sns.barplot(x=rnd_clf.feature_importances_, y=iris_df.columns.difference(['Class', 'label']))\n",
    "plt.show()"
   ]
  },
  {
   "cell_type": "code",
   "execution_count": 46,
   "metadata": {},
   "outputs": [
    {
     "name": "stdout",
     "output_type": "stream",
     "text": [
      "Class 0 coef:[-1.505  2.178 -3.096 -2.998]\n",
      "petal length (cm) : -1.505\n",
      "petal width (cm) : 2.178\n",
      "sepal length (cm) : -3.096\n",
      "sepal width (cm) : -2.998\n"
     ]
    },
    {
     "data": {
      "image/png": "[encoded data removed]",
      "text/plain": [
       "<Figure size 432x288 with 1 Axes>"
      ]
     },
     "metadata": {
      "needs_background": "light"
     },
     "output_type": "display_data"
    }
   ],
   "source": [
    "### Logistic Regression feature importance\n",
    "# coef_의 경우 각 class에 대하여 반환되므로, 기준 변수를 설정해야 함 (Clas==0으로 설정)\n",
    "print(\"Class 0 coef:{0}\".format(np.round(softmax_reg.coef_, 3)[0]))\n",
    "for name, value in zip(iris_df.columns.difference(['label']), softmax_reg.coef_[0]):\n",
    "    print('{0} : {1:.3f}'.format(name, value))\n",
    "\n",
    "sns.barplot(x=abs(softmax_reg.coef_[0]), y=iris_df.columns.difference(['label']))\n",
    "plt.show()"
   ]
  },
  {
   "cell_type": "code",
   "execution_count": 47,
   "metadata": {},
   "outputs": [
    {
     "name": "stdout",
     "output_type": "stream",
     "text": [
      "Class 0 coef:[-0.148  0.521 -0.585 -0.612]\n",
      "petal length (cm) : -0.148\n",
      "petal width (cm) : 0.521\n",
      "sepal length (cm) : -0.585\n",
      "sepal width (cm) : -0.612\n"
     ]
    },
    {
     "data": {
      "image/png": "[encoded data removed]",
      "text/plain": [
       "<Figure size 432x288 with 1 Axes>"
      ]
     },
     "metadata": {
      "needs_background": "light"
     },
     "output_type": "display_data"
    }
   ],
   "source": [
    "### SVC feature importance\n",
    "# LinearSVC의 경우에만 사용 가능\n",
    "print(\"Class 0 coef:{0}\".format(np.round(svm_clf.coef_, 3)[0]))\n",
    "for name, value in zip(iris_df.columns.difference(['label']), svm_clf.coef_[0]):\n",
    "    print('{0} : {1:.3f}'.format(name, value))\n",
    "\n",
    "sns.barplot(x=abs(svm_clf.coef_[0]), y=iris_df.columns.difference(['label']))\n",
    "plt.show()"
   ]
  },
  {
   "cell_type": "code",
   "execution_count": 48,
   "metadata": {},
   "outputs": [
    {
     "data": {
      "image/png": "[encoded data removed]",
      "text/plain": [
       "<Figure size 432x288 with 1 Axes>"
      ]
     },
     "metadata": {
      "needs_background": "light"
     },
     "output_type": "display_data"
    }
   ],
   "source": [
    "# 회귀 계수를 큰 값 순으로 정렬하기 위해 Series로 생성. index가 칼럼명에 유의\n",
    "coeff = pd.Series(data=np.round(linear.coef_, 1), index=features).sort_values(ascending=False)\n",
    "plt.title('Linear Regression Coefficient')\n",
    "sns.barplot(x=coeff.values, y=coeff.index)\n",
    "plt.show()"
   ]
  },
  {
   "cell_type": "code",
   "execution_count": 49,
   "metadata": {},
   "outputs": [
    {
     "data": {
      "image/png": "[encoded data removed]",
      "text/plain": [
       "<Figure size 432x288 with 1 Axes>"
      ]
     },
     "metadata": {
      "needs_background": "light"
     },
     "output_type": "display_data"
    }
   ],
   "source": [
    "coeff = pd.Series(data=np.round(ridge.coef_, 1), index=features).sort_values(ascending=False)\n",
    "plt.title('Ridge Coefficient')\n",
    "sns.barplot(x=coeff.values, y=coeff.index)\n",
    "plt.show()"
   ]
  },
  {
   "cell_type": "code",
   "execution_count": 50,
   "metadata": {},
   "outputs": [
    {
     "data": {
      "image/png": "[encoded data removed]",
      "text/plain": [
       "<Figure size 432x288 with 1 Axes>"
      ]
     },
     "metadata": {
      "needs_background": "light"
     },
     "output_type": "display_data"
    }
   ],
   "source": [
    "coeff = pd.Series(data=np.round(lasso.coef_, 1), index=features).sort_values(ascending=False)\n",
    "plt.title('Lasso Coefficient')\n",
    "sns.barplot(x=coeff.values, y=coeff.index)\n",
    "plt.show()"
   ]
  },
  {
   "cell_type": "code",
   "execution_count": 51,
   "metadata": {},
   "outputs": [
    {
     "data": {
      "image/png": "[encoded data removed]",
      "text/plain": [
       "<Figure size 432x288 with 1 Axes>"
      ]
     },
     "metadata": {
      "needs_background": "light"
     },
     "output_type": "display_data"
    }
   ],
   "source": [
    "coeff = pd.Series(data=np.round(elastic.coef_, 1), index=features).sort_values(ascending=False)\n",
    "plt.title('ElasticNet Coefficient')\n",
    "sns.barplot(x=coeff.values, y=coeff.index)\n",
    "plt.show()"
   ]
  },
  {
   "cell_type": "code",
   "execution_count": 52,
   "metadata": {},
   "outputs": [
    {
     "data": {
      "image/png": "[encoded data removed]",
      "text/plain": [
       "<Figure size 432x288 with 1 Axes>"
      ]
     },
     "metadata": {
      "needs_background": "light"
     },
     "output_type": "display_data"
    }
   ],
   "source": [
    "### Decision Tree: Feature importance\n",
    "feature_series = pd.Series(data=dt_reg.feature_importances_, index=features).sort_values(ascending=False)\n",
    "sns.barplot(x=feature_series, y=feature_series.index)\n",
    "plt.show()"
   ]
  },
  {
   "cell_type": "markdown",
   "metadata": {},
   "source": [
    "### (2) Drop Column Importance\n",
    "- 각 독립변수를 하나씩 제거한 모델과 전체 모델의 결과 비교\n",
    "- 자체적인 독립변수 중요도 평가 방법이 존재하지 않는 모델인 경우\n",
    "- 원리 이해와 해석이 상대적으로 쉬운 편\n",
    "- Full model과 각 독립변수가 하나씩 제거된 Reduced model을 모두 학습해야 하므로, 시간이 오래 걸릴 수 있음"
   ]
  },
  {
   "cell_type": "code",
   "execution_count": null,
   "metadata": {},
   "outputs": [],
   "source": []
  },
  {
   "cell_type": "code",
   "execution_count": null,
   "metadata": {},
   "outputs": [],
   "source": []
  },
  {
   "cell_type": "markdown",
   "metadata": {},
   "source": [
    "## Feature Selection\n",
    "- Domain 지식을 이용한 추가/삭제 (현업 의견 필요)\n",
    "- target 변수와의 연관성(유의성) 검정\n",
    "- Auto Selections\n",
    "    - 일변량 통계\n",
    "    - 모델 기반 선택\n",
    "    - 반복적 선택"
   ]
  },
  {
   "cell_type": "markdown",
   "metadata": {},
   "source": [
    "### (1) Univariate Statistics\n",
    "- 각 특성은 독립적인 것으로 평가"
   ]
  },
  {
   "cell_type": "code",
   "execution_count": 53,
   "metadata": {},
   "outputs": [],
   "source": [
    "from sklearn.feature_selection import SelectPercentile, f_classif, f_regression"
   ]
  },
  {
   "cell_type": "code",
   "execution_count": 54,
   "metadata": {},
   "outputs": [
    {
     "name": "stdout",
     "output_type": "stream",
     "text": [
      "(404, 12)\n",
      "(404, 9)\n"
     ]
    }
   ],
   "source": [
    "### Regression\n",
    "select = SelectPercentile(score_func=f_regression, percentile=80) # regression인 경우 f_regression\n",
    "x_train_sel = select.fit_transform(x_train, y_train)\n",
    "print(x_train.shape)\n",
    "print(x_train_sel.shape) # 80% 이상의 변수가 선택됨"
   ]
  },
  {
   "cell_type": "code",
   "execution_count": 55,
   "metadata": {},
   "outputs": [
    {
     "data": {
      "text/plain": [
       "array([ True, False,  True, False,  True,  True,  True,  True,  True,\n",
       "        True,  True, False])"
      ]
     },
     "execution_count": 55,
     "metadata": {},
     "output_type": "execute_result"
    }
   ],
   "source": [
    "mask = select.get_support()\n",
    "mask"
   ]
  },
  {
   "cell_type": "code",
   "execution_count": 56,
   "metadata": {},
   "outputs": [
    {
     "name": "stdout",
     "output_type": "stream",
     "text": [
      "(712, 8)\n",
      "(712, 6)\n"
     ]
    }
   ],
   "source": [
    "### Classification\n",
    "x_train, x_test, y_train, y_test = train_test_split(x_titanic_df, y_titanic_df, test_size=0.2, random_state=11)\n",
    "select = SelectPercentile(score_func=f_classif, percentile=80) # classification인 경우 f_classif\n",
    "x_train_sel = select.fit_transform(x_train, y_train)\n",
    "print(x_train.shape)\n",
    "print(x_train_sel.shape) # 80% 이상의 변수가 선택됨"
   ]
  },
  {
   "cell_type": "code",
   "execution_count": 57,
   "metadata": {},
   "outputs": [
    {
     "data": {
      "text/html": [
       "<div>\n",
       "<style scoped>\n",
       "    .dataframe tbody tr th:only-of-type {\n",
       "        vertical-align: middle;\n",
       "    }\n",
       "\n",
       "    .dataframe tbody tr th {\n",
       "        vertical-align: top;\n",
       "    }\n",
       "\n",
       "    .dataframe thead th {\n",
       "        text-align: right;\n",
       "    }\n",
       "</style>\n",
       "<table border=\"1\" class=\"dataframe\">\n",
       "  <thead>\n",
       "    <tr style=\"text-align: right;\">\n",
       "      <th></th>\n",
       "      <th>Pclass</th>\n",
       "      <th>Sex</th>\n",
       "      <th>Parch</th>\n",
       "      <th>Fare</th>\n",
       "      <th>Cabin</th>\n",
       "      <th>Embarked</th>\n",
       "    </tr>\n",
       "  </thead>\n",
       "  <tbody>\n",
       "    <tr>\n",
       "      <th>333</th>\n",
       "      <td>3</td>\n",
       "      <td>1</td>\n",
       "      <td>0</td>\n",
       "      <td>18.0000</td>\n",
       "      <td>7</td>\n",
       "      <td>3</td>\n",
       "    </tr>\n",
       "    <tr>\n",
       "      <th>662</th>\n",
       "      <td>1</td>\n",
       "      <td>1</td>\n",
       "      <td>0</td>\n",
       "      <td>25.5875</td>\n",
       "      <td>4</td>\n",
       "      <td>3</td>\n",
       "    </tr>\n",
       "    <tr>\n",
       "      <th>382</th>\n",
       "      <td>3</td>\n",
       "      <td>1</td>\n",
       "      <td>0</td>\n",
       "      <td>7.9250</td>\n",
       "      <td>7</td>\n",
       "      <td>3</td>\n",
       "    </tr>\n",
       "    <tr>\n",
       "      <th>331</th>\n",
       "      <td>1</td>\n",
       "      <td>1</td>\n",
       "      <td>0</td>\n",
       "      <td>28.5000</td>\n",
       "      <td>2</td>\n",
       "      <td>3</td>\n",
       "    </tr>\n",
       "    <tr>\n",
       "      <th>149</th>\n",
       "      <td>2</td>\n",
       "      <td>1</td>\n",
       "      <td>0</td>\n",
       "      <td>13.0000</td>\n",
       "      <td>7</td>\n",
       "      <td>3</td>\n",
       "    </tr>\n",
       "  </tbody>\n",
       "</table>\n",
       "</div>"
      ],
      "text/plain": [
       "     Pclass  Sex  Parch     Fare  Cabin  Embarked\n",
       "333       3    1      0  18.0000      7         3\n",
       "662       1    1      0  25.5875      4         3\n",
       "382       3    1      0   7.9250      7         3\n",
       "331       1    1      0  28.5000      2         3\n",
       "149       2    1      0  13.0000      7         3"
      ]
     },
     "execution_count": 57,
     "metadata": {},
     "output_type": "execute_result"
    }
   ],
   "source": [
    "x_train.loc[:, select.get_support()].head()"
   ]
  },
  {
   "cell_type": "markdown",
   "metadata": {},
   "source": [
    "### (2) Model-based Selection\n",
    "- 특성의 중요도를 이용한 변수 선택\n",
    "- 분석의 목적에 맞게 Classifier/Regressor 선택"
   ]
  },
  {
   "cell_type": "code",
   "execution_count": 58,
   "metadata": {},
   "outputs": [],
   "source": [
    "from sklearn.feature_selection import SelectFromModel"
   ]
  },
  {
   "cell_type": "code",
   "execution_count": 59,
   "metadata": {},
   "outputs": [
    {
     "name": "stdout",
     "output_type": "stream",
     "text": [
      "(712, 8)\n",
      "(712, 4)\n"
     ]
    }
   ],
   "source": [
    "select = SelectFromModel(RandomForestClassifier(), threshold=\"median\") # threshold는 숫자 지정도 가능\n",
    "x_train_rf = select.fit_transform(x_train, y_train)\n",
    "print(x_train.shape)\n",
    "print(x_train_rf.shape)"
   ]
  },
  {
   "cell_type": "code",
   "execution_count": 60,
   "metadata": {},
   "outputs": [
    {
     "data": {
      "text/html": [
       "<div>\n",
       "<style scoped>\n",
       "    .dataframe tbody tr th:only-of-type {\n",
       "        vertical-align: middle;\n",
       "    }\n",
       "\n",
       "    .dataframe tbody tr th {\n",
       "        vertical-align: top;\n",
       "    }\n",
       "\n",
       "    .dataframe thead th {\n",
       "        text-align: right;\n",
       "    }\n",
       "</style>\n",
       "<table border=\"1\" class=\"dataframe\">\n",
       "  <thead>\n",
       "    <tr style=\"text-align: right;\">\n",
       "      <th></th>\n",
       "      <th>Pclass</th>\n",
       "      <th>Sex</th>\n",
       "      <th>Age</th>\n",
       "      <th>Fare</th>\n",
       "    </tr>\n",
       "  </thead>\n",
       "  <tbody>\n",
       "    <tr>\n",
       "      <th>333</th>\n",
       "      <td>3</td>\n",
       "      <td>1</td>\n",
       "      <td>16.0</td>\n",
       "      <td>18.0000</td>\n",
       "    </tr>\n",
       "    <tr>\n",
       "      <th>662</th>\n",
       "      <td>1</td>\n",
       "      <td>1</td>\n",
       "      <td>47.0</td>\n",
       "      <td>25.5875</td>\n",
       "    </tr>\n",
       "    <tr>\n",
       "      <th>382</th>\n",
       "      <td>3</td>\n",
       "      <td>1</td>\n",
       "      <td>32.0</td>\n",
       "      <td>7.9250</td>\n",
       "    </tr>\n",
       "    <tr>\n",
       "      <th>331</th>\n",
       "      <td>1</td>\n",
       "      <td>1</td>\n",
       "      <td>45.5</td>\n",
       "      <td>28.5000</td>\n",
       "    </tr>\n",
       "    <tr>\n",
       "      <th>149</th>\n",
       "      <td>2</td>\n",
       "      <td>1</td>\n",
       "      <td>42.0</td>\n",
       "      <td>13.0000</td>\n",
       "    </tr>\n",
       "  </tbody>\n",
       "</table>\n",
       "</div>"
      ],
      "text/plain": [
       "     Pclass  Sex   Age     Fare\n",
       "333       3    1  16.0  18.0000\n",
       "662       1    1  47.0  25.5875\n",
       "382       3    1  32.0   7.9250\n",
       "331       1    1  45.5  28.5000\n",
       "149       2    1  42.0  13.0000"
      ]
     },
     "execution_count": 60,
     "metadata": {},
     "output_type": "execute_result"
    }
   ],
   "source": [
    "x_train.loc[:, select.get_support()].head()"
   ]
  },
  {
   "cell_type": "markdown",
   "metadata": {},
   "source": [
    "### (3) Iterative Selection\n",
    "- 특성을 선택하지 않은 상태에서 종료 조건에 도달할 때까지 추가\n",
    "- 특성을 모두 선택한 상태에서 종료 조건에 도달할 때까지 제거 (RFE)\n",
    "- 회귀분석 변수선택과 유사한 면이 있음"
   ]
  },
  {
   "cell_type": "code",
   "execution_count": 61,
   "metadata": {},
   "outputs": [],
   "source": [
    "from sklearn.feature_selection import RFE"
   ]
  },
  {
   "cell_type": "code",
   "execution_count": 62,
   "metadata": {},
   "outputs": [
    {
     "name": "stdout",
     "output_type": "stream",
     "text": [
      "(712, 6)\n"
     ]
    }
   ],
   "source": [
    "select = RFE(RandomForestClassifier(), n_features_to_select=6)\n",
    "x_train_rfe = select.fit_transform(x_train, y_train)\n",
    "print(x_train_rfe.shape)"
   ]
  },
  {
   "cell_type": "code",
   "execution_count": 63,
   "metadata": {},
   "outputs": [
    {
     "data": {
      "text/plain": [
       "array([1, 0, 0, 0, 0])"
      ]
     },
     "execution_count": 63,
     "metadata": {},
     "output_type": "execute_result"
    }
   ],
   "source": [
    "### predict도 가능\n",
    "select.predict(x_test)[:5]"
   ]
  },
  {
   "cell_type": "markdown",
   "metadata": {
    "tags": []
   },
   "source": [
    "## Model Evaluation\n",
    "- Business Impact를 고려한 지표 선택 필요"
   ]
  },
  {
   "cell_type": "markdown",
   "metadata": {},
   "source": [
    "### (1) Classification\n",
    "- Multi-Class의 경우 Class 값으로 예측값이 주어지지 않는 경우가 있어, 데이터 변형이 필요할 수 있음"
   ]
  },
  {
   "cell_type": "code",
   "execution_count": 64,
   "metadata": {},
   "outputs": [],
   "source": [
    "x_train, x_test, y_train, y_test = train_test_split(x_titanic_df, y_titanic_df, test_size=0.2, random_state=11)"
   ]
  },
  {
   "cell_type": "markdown",
   "metadata": {},
   "source": [
    "#### Accuracy\n",
    "- 전체 데이터에서 정답의 개수. 데이터 구성에 따라 성능이 왜곡될 가능성 있음"
   ]
  },
  {
   "cell_type": "code",
   "execution_count": 65,
   "metadata": {},
   "outputs": [
    {
     "data": {
      "text/plain": [
       "0.8659217877094972"
      ]
     },
     "execution_count": 65,
     "metadata": {},
     "output_type": "execute_result"
    }
   ],
   "source": [
    "accuracy_score(y_test, lr_pred)"
   ]
  },
  {
   "cell_type": "markdown",
   "metadata": {},
   "source": [
    "#### Confusion Matrix\n",
    "- Accuray의 한계점 보완"
   ]
  },
  {
   "cell_type": "code",
   "execution_count": 66,
   "metadata": {},
   "outputs": [
    {
     "data": {
      "text/plain": [
       "array([[108,  10],\n",
       "       [ 14,  47]])"
      ]
     },
     "execution_count": 66,
     "metadata": {},
     "output_type": "execute_result"
    }
   ],
   "source": [
    "confusion_matrix(y_test, lr_pred)"
   ]
  },
  {
   "cell_type": "code",
   "execution_count": 67,
   "metadata": {},
   "outputs": [
    {
     "data": {
      "text/plain": [
       "array([[[ 47,  14],\n",
       "        [ 10, 108]],\n",
       "\n",
       "       [[108,  10],\n",
       "        [ 14,  47]]])"
      ]
     },
     "execution_count": 67,
     "metadata": {},
     "output_type": "execute_result"
    }
   ],
   "source": [
    "### Multiclass인 경우 사용\n",
    "# 각 클래스와 나머지 클래스 비교 (OvR) 방식\n",
    "multilabel_confusion_matrix(y_test, lr_pred)"
   ]
  },
  {
   "cell_type": "markdown",
   "metadata": {},
   "source": [
    "#### Precision & Recall (=Sensitivity, TPR)\n",
    "- Positive 예측에 집중한 지표. Positive 중 실제 Positive 비율 / 실제 Positive 중 예측된 Positive 비율"
   ]
  },
  {
   "cell_type": "code",
   "execution_count": 68,
   "metadata": {},
   "outputs": [
    {
     "data": {
      "text/plain": [
       "0.8245614035087719"
      ]
     },
     "execution_count": 68,
     "metadata": {},
     "output_type": "execute_result"
    }
   ],
   "source": [
    "### Precision\n",
    "precision_score(y_test, lr_pred)"
   ]
  },
  {
   "cell_type": "code",
   "execution_count": 69,
   "metadata": {},
   "outputs": [
    {
     "data": {
      "text/plain": [
       "0.7704918032786885"
      ]
     },
     "execution_count": 69,
     "metadata": {},
     "output_type": "execute_result"
    }
   ],
   "source": [
    "### Recall\n",
    "recall_score(y_test, lr_pred)"
   ]
  },
  {
   "cell_type": "code",
   "execution_count": 70,
   "metadata": {},
   "outputs": [
    {
     "name": "stdout",
     "output_type": "stream",
     "text": [
      "pred_proba()결과 Shape : (179, 2)\n",
      "pred_proba array에서 앞 3개만 샘플로 추출 \n",
      ": [[0.44935225 0.55064775]\n",
      " [0.86335511 0.13664489]\n",
      " [0.86429643 0.13570357]]\n",
      "두개의 class 중에서 더 큰 확률을 클래스 값으로 예측 \n",
      " [[0.44935225 0.55064775 1.        ]\n",
      " [0.86335511 0.13664489 0.        ]\n",
      " [0.86429643 0.13570357 0.        ]]\n"
     ]
    }
   ],
   "source": [
    "### Precision & Recall, trade-offs\n",
    "# predict_proba()\n",
    "pred_proba = lr_clf.predict_proba(x_test)\n",
    "pred = lr_clf.predict(x_test)\n",
    "print('pred_proba()결과 Shape : {0}'.format(pred_proba.shape))\n",
    "print('pred_proba array에서 앞 3개만 샘플로 추출 \\n:', pred_proba[:3])\n",
    "\n",
    "# 예측 확률 array 와 예측 결과값 array 를 concatenate 하여 예측 확률과 결과값을 한눈에 확인\n",
    "pred_proba_result = np.concatenate([pred_proba, pred.reshape(-1, 1)], axis=1)\n",
    "print('두개의 class 중에서 더 큰 확률을 클래스 값으로 예측 \\n', pred_proba_result[:3])"
   ]
  },
  {
   "cell_type": "code",
   "execution_count": 71,
   "metadata": {},
   "outputs": [],
   "source": [
    "from sklearn.preprocessing import Binarizer"
   ]
  },
  {
   "cell_type": "code",
   "execution_count": 72,
   "metadata": {},
   "outputs": [
    {
     "name": "stdout",
     "output_type": "stream",
     "text": [
      "오차 행렬\n",
      " [[108  10]\n",
      " [ 14  47]]\n",
      "정확도: 0.8659, 정밀도: 0.8246, 재현율: 0.7705\n"
     ]
    }
   ],
   "source": [
    "### Binarizer: 확률 값을 label 값으로 변경해 줌. np.where을 대신 써도 무방\n",
    "# threshold 설정값 = 분류 결정 임곗값 \n",
    "custom_threshold = 0.5\n",
    "\n",
    "# predict_proba() 반환값의 두번째 컬럼 , 즉 Positive 클래스 컬럼 하나만 추출하여 Binarizer 적용\n",
    "pred_proba_1 = pred_proba[:, 1].reshape(-1, 1)\n",
    "binarizer = Binarizer(threshold=custom_threshold).fit(pred_proba_1) \n",
    "custom_predict = binarizer.transform(pred_proba_1)\n",
    "\n",
    "confusion = confusion_matrix(y_test, custom_predict)\n",
    "accuracy = accuracy_score(y_test, custom_predict)\n",
    "precision = precision_score(y_test, custom_predict)\n",
    "recall = recall_score(y_test, custom_predict)\n",
    "print('오차 행렬\\n', confusion)\n",
    "print('정확도: {0:.4f}, 정밀도: {1:.4f}, 재현율: {2:.4f}'.format(accuracy, precision, recall))"
   ]
  },
  {
   "cell_type": "code",
   "execution_count": 73,
   "metadata": {},
   "outputs": [
    {
     "name": "stdout",
     "output_type": "stream",
     "text": [
      "오차 행렬\n",
      " [[97 21]\n",
      " [11 50]]\n",
      "정확도: 0.8212, 정밀도: 0.7042, 재현율: 0.8197\n"
     ]
    }
   ],
   "source": [
    "# Binarizer의 threshold 설정값을 0.4로 설정\n",
    "custom_threshold = 0.4\n",
    "\n",
    "pred_proba_1 = pred_proba[:,1].reshape(-1, 1)\n",
    "binarizer = Binarizer(threshold=custom_threshold).fit(pred_proba_1) \n",
    "custom_predict = binarizer.transform(pred_proba_1)\n",
    "\n",
    "confusion = confusion_matrix(y_test, custom_predict)\n",
    "accuracy = accuracy_score(y_test, custom_predict)\n",
    "precision = precision_score(y_test, custom_predict)\n",
    "recall = recall_score(y_test, custom_predict)\n",
    "print('오차 행렬\\n', confusion)\n",
    "print('정확도: {0:.4f}, 정밀도: {1:.4f}, 재현율: {2:.4f}'.format(accuracy, precision, recall))"
   ]
  },
  {
   "cell_type": "code",
   "execution_count": 74,
   "metadata": {},
   "outputs": [
    {
     "name": "stdout",
     "output_type": "stream",
     "text": [
      "임곗값: 0.4\n",
      "오차 행렬\n",
      " [[97 21]\n",
      " [11 50]]\n",
      "정확도: 0.8212, 정밀도: 0.7042, 재현율: 0.8197\n",
      "임곗값: 0.45\n",
      "오차 행렬\n",
      " [[105  13]\n",
      " [ 13  48]]\n",
      "정확도: 0.8547, 정밀도: 0.7869, 재현율: 0.7869\n",
      "임곗값: 0.5\n",
      "오차 행렬\n",
      " [[108  10]\n",
      " [ 14  47]]\n",
      "정확도: 0.8659, 정밀도: 0.8246, 재현율: 0.7705\n",
      "임곗값: 0.55\n",
      "오차 행렬\n",
      " [[111   7]\n",
      " [ 16  45]]\n",
      "정확도: 0.8715, 정밀도: 0.8654, 재현율: 0.7377\n",
      "임곗값: 0.6\n",
      "오차 행렬\n",
      " [[113   5]\n",
      " [ 17  44]]\n",
      "정확도: 0.8771, 정밀도: 0.8980, 재현율: 0.7213\n"
     ]
    }
   ],
   "source": [
    "pred_proba_c1 = pred_proba[:, 1].reshape(-1, 1)\n",
    "\n",
    "for custom_threshold in [0.4, 0.45, 0.50, 0.55, 0.60]:\n",
    "    binarizer = Binarizer(threshold=custom_threshold).fit(pred_proba_c1) \n",
    "    custom_predict = binarizer.transform(pred_proba_c1)\n",
    "    print('임곗값:', custom_threshold)\n",
    "    \n",
    "    confusion = confusion_matrix(y_test, custom_predict)\n",
    "    accuracy = accuracy_score(y_test, custom_predict)\n",
    "    precision = precision_score(y_test, custom_predict)\n",
    "    recall = recall_score(y_test, custom_predict)\n",
    "    print('오차 행렬\\n', confusion)\n",
    "    print('정확도: {0:.4f}, 정밀도: {1:.4f}, 재현율: {2:.4f}'.format(accuracy, precision, recall))"
   ]
  },
  {
   "cell_type": "code",
   "execution_count": 75,
   "metadata": {},
   "outputs": [
    {
     "name": "stdout",
     "output_type": "stream",
     "text": [
      "반환된 분류 결정 임곗값 배열의 Shape: (147,)\n",
      "반환된 precisions 배열의 Shape: (148,)\n",
      "반환된 recalls 배열의 Shape: (148,)\n",
      "thresholds 5 sample: [0.11573102 0.11636723 0.11819213 0.12102774 0.1234948 ]\n",
      "precisions 5 sample: [0.37888199 0.375      0.37735849 0.37974684 0.38216561]\n",
      "recalls 5 sample: [1.         0.98360656 0.98360656 0.98360656 0.98360656]\n",
      "샘플 추출을 위한 임계값 배열의 index 10개: [  0  15  30  45  60  75  90 105 120 135]\n",
      "샘플용 10개의 임곗값:  [0.12 0.13 0.15 0.17 0.26 0.38 0.49 0.63 0.76 0.9 ]\n",
      "샘플 임계값별 정밀도:  [0.379 0.424 0.455 0.519 0.618 0.676 0.797 0.93  0.964 1.   ]\n",
      "샘플 임계값별 재현율:  [1.    0.967 0.902 0.902 0.902 0.82  0.77  0.656 0.443 0.213]\n"
     ]
    }
   ],
   "source": [
    "### precision_recall_curve\n",
    "# 확률 cutoff에 따른 precision-recall의 변화 시각화\n",
    "# cutoff가 높을수록 precision이 커지고  recall은 작아짐\n",
    "# 레이블 값이 1일때의 예측 확률을 추출 \n",
    "pred_proba_class1 = lr_clf.predict_proba(x_test)[:, 1] \n",
    "\n",
    "# 실제값 데이터 셋과 레이블 값이 1일 때의 예측 확률을 precision_recall_curve 인자로 입력 \n",
    "precisions, recalls, thresholds = precision_recall_curve(y_test, pred_proba_class1)\n",
    "print('반환된 분류 결정 임곗값 배열의 Shape:', thresholds.shape)\n",
    "print('반환된 precisions 배열의 Shape:', precisions.shape)\n",
    "print('반환된 recalls 배열의 Shape:', recalls.shape)\n",
    "\n",
    "print(\"thresholds 5 sample:\", thresholds[:5])\n",
    "print(\"precisions 5 sample:\", precisions[:5])\n",
    "print(\"recalls 5 sample:\", recalls[:5])\n",
    "\n",
    "#반환된 임계값 배열 로우가 147건이므로 샘플로 10건만 추출하되, 임곗값을 15 Step으로 추출. \n",
    "thr_index = np.arange(0, thresholds.shape[0], 15)\n",
    "print('샘플 추출을 위한 임계값 배열의 index 10개:', thr_index)\n",
    "print('샘플용 10개의 임곗값: ', np.round(thresholds[thr_index], 2))\n",
    "\n",
    "# 15 step 단위로 추출된 임계값에 따른 정밀도와 재현율 값 \n",
    "print('샘플 임계값별 정밀도: ', np.round(precisions[thr_index], 3))\n",
    "print('샘플 임계값별 재현율: ', np.round(recalls[thr_index], 3))"
   ]
  },
  {
   "cell_type": "code",
   "execution_count": 76,
   "metadata": {},
   "outputs": [
    {
     "data": {
      "image/png": "[encoded data removed]",
      "text/plain": [
       "<Figure size 576x432 with 1 Axes>"
      ]
     },
     "metadata": {
      "needs_background": "light"
     },
     "output_type": "display_data"
    }
   ],
   "source": [
    "### Precision - Recall plot\n",
    "# threshold ndarray와 이 threshold에 따른 정밀도, 재현율 ndarray 추출. \n",
    "precisions, recalls, thresholds = precision_recall_curve(y_test, lr_clf.predict_proba(x_test)[:, 1])\n",
    "    \n",
    "# X축을 threshold값으로, Y축은 정밀도, 재현율 값으로 각각 Plot 수행. 정밀도는 점선으로 표시\n",
    "plt.figure(figsize=(8, 6))\n",
    "threshold_boundary = thresholds.shape[0]\n",
    "sns.lineplot(x=thresholds, y=precisions[0:threshold_boundary], linestyle='dashed', label='precision')\n",
    "sns.lineplot(x=thresholds, y=recalls[0:threshold_boundary], label='recall')\n",
    "    \n",
    "# threshold 값 X 축의 Scale을 0.1 단위로 변경\n",
    "start, end = plt.xlim()\n",
    "plt.xticks(np.round(np.arange(start, end, 0.1), 2))\n",
    "    \n",
    "# x축, y축 label과 legend\n",
    "plt.xlabel('Threshold value'); plt.ylabel('Precision and Recall value')\n",
    "plt.legend()\n",
    "plt.show()"
   ]
  },
  {
   "cell_type": "code",
   "execution_count": 77,
   "metadata": {},
   "outputs": [
    {
     "data": {
      "text/plain": [
       "<sklearn.metrics._plot.precision_recall_curve.PrecisionRecallDisplay at 0xffff71430ad0>"
      ]
     },
     "execution_count": 77,
     "metadata": {},
     "output_type": "execute_result"
    },
    {
     "data": {
      "image/png": "[encoded data removed]",
      "text/plain": [
       "<Figure size 432x288 with 1 Axes>"
      ]
     },
     "metadata": {
      "needs_background": "light"
     },
     "output_type": "display_data"
    }
   ],
   "source": [
    "display = PrecisionRecallDisplay(precision=precisions, recall=recalls)\n",
    "display.plot()"
   ]
  },
  {
   "cell_type": "code",
   "execution_count": 78,
   "metadata": {},
   "outputs": [
    {
     "name": "stdout",
     "output_type": "stream",
     "text": [
      "              precision    recall  f1-score   support\n",
      "\n",
      "           0       0.89      0.92      0.90       118\n",
      "           1       0.82      0.77      0.80        61\n",
      "\n",
      "    accuracy                           0.87       179\n",
      "   macro avg       0.85      0.84      0.85       179\n",
      "weighted avg       0.86      0.87      0.86       179\n",
      "\n"
     ]
    }
   ],
   "source": [
    "### Classification report\n",
    "print(classification_report(y_test, lr_pred))"
   ]
  },
  {
   "cell_type": "markdown",
   "metadata": {},
   "source": [
    "#### F1-Score / Fb-Score\n",
    "- Precision, Recall의 조화평균\n",
    "- beta 값으로 precision과 recall의 가중치를 조정할 수 있음 (값이 클수록 recall의 가중치가 올라감)\n",
    "- Multiclass에서 Score Averaging \n",
    "    - None: 각 클래스 별 점수 산출\n",
    "    - Micro-Averaging (마이크로 평균)\n",
    "        - 각 클래스의 TP, FP, FN을 모두 더해 전체적으로 하나의 큰 confusion matrix를 생성\n",
    "        - Precision과 Recall을 이 confusion matrix에 대해 계산한 후 F1 스코어 계산\n",
    "        - 모든 클래스의 예측과 실제 값들을 하나로 합쳐서 계산하기 때문에, 클래스 간 밸런스가 중요하지 않은 경우에 유용\n",
    "        - 클래스 간 샘플 수 밸런스가 필요 없으며, 모든 클래스를 하나의 큰 클래스로 취급하기 때문에 클래스 빈도에 영향을 덜 받음\n",
    "        - 이진 분류에서와 마찬가지로 모든 예측과 실제값을 묶어서 계산하기 때문에, 데이터의 전체적인 성능을 확인할 수 있음\n",
    "        - 클래스 간 불균형이 심한 경우에는 작은 클래스의 성능이 무시될 수 있으며, 클래스 크기가 다른 경우 각 클래스의 중요도를 반영하지 않음\n",
    "    - Macro-Averaging (매크로 평균)\n",
    "        - 각 클래스 별로 따로 Precision과 Recall을 계산한 후, 모든 클래스의 평균 계산\n",
    "        - 클래스 간 밸런스가 중요한 경우 사용됨\n",
    "        - 각 클래스의 F1 스코어가 동등한 가중치를 갖게 됨\n",
    "        - 각 클래스 별로 독립적으로 평가하므로, 클래스 간 밸런스가 중요한 경우에 적합하며, 모든 클래스의 성능을 동등하게 취급하여 중요한 클래스의 성능도 고려함\n",
    "        - 클래스 간 샘플 수 밸런스가 불균형한 경우, 큰 클래스가 평균에 미치는 영향이 더 크게 나타날 수 있고 클래스 크기에 상관없이 동등한 가중치를 부여하기 때문에 작은 클래스의 성능이 상대적으로 중요한 경우에는 적절하지 않음\n",
    "    - Weighted-Averaging (가중 평균)\n",
    "        - 클래스 별로 Precision과 Recall을 계산한 후, 각 클래스의 샘플 수를 기반으로 가중 평균 계산\n",
    "        - 클래스 간 밸런스가 중요하면서 각 클래스가 다른 샘플 수를 가지는 경우에 사용\n",
    "        - 클래스별로 F1 스코어를 가중하여 전체적인 성능 평가\n",
    "        - 클래스 별로 샘플 수에 따라 가중치를 부여하기 때문에 클래스 간 샘플 수 및 중요도를 모두 고려할 수 있고 클래스 간 밸런스와 각 클래스의 중요도가 동시에 고려되므로 다양한 상황에 적용 가능함\n",
    "        - 클래스 간 샘플 수가 크게 불균형한 경우, 작은 클래스의 성능이 무시될 수 있음. 또한 클래스 크기와 중요도를 고려하면서도, 작은 클래스의 성능을 충분히 평가하는 방법을 선택하는 것이 중요함"
   ]
  },
  {
   "cell_type": "code",
   "execution_count": 79,
   "metadata": {},
   "outputs": [
    {
     "data": {
      "text/plain": [
       "0.7966101694915254"
      ]
     },
     "execution_count": 79,
     "metadata": {},
     "output_type": "execute_result"
    }
   ],
   "source": [
    "### binary\n",
    "f1_score(y_test, pred)"
   ]
  },
  {
   "cell_type": "code",
   "execution_count": 80,
   "metadata": {},
   "outputs": [
    {
     "data": {
      "text/plain": [
       "0.7807308970099668"
      ]
     },
     "execution_count": 80,
     "metadata": {},
     "output_type": "execute_result"
    }
   ],
   "source": [
    "### f2-score\n",
    "fbeta_score(y_test, pred, 2)"
   ]
  },
  {
   "cell_type": "code",
   "execution_count": 81,
   "metadata": {},
   "outputs": [
    {
     "name": "stdout",
     "output_type": "stream",
     "text": [
      "임곗값: 0.4\n",
      "오차 행렬\n",
      " [[97 21]\n",
      " [11 50]]\n",
      "정확도: 0.8212, 정밀도: 0.7042, 재현율: 0.8197, F1:0.7576\n",
      "임곗값: 0.45\n",
      "오차 행렬\n",
      " [[105  13]\n",
      " [ 13  48]]\n",
      "정확도: 0.8547, 정밀도: 0.7869, 재현율: 0.7869, F1:0.7869\n",
      "임곗값: 0.5\n",
      "오차 행렬\n",
      " [[108  10]\n",
      " [ 14  47]]\n",
      "정확도: 0.8659, 정밀도: 0.8246, 재현율: 0.7705, F1:0.7966\n",
      "임곗값: 0.55\n",
      "오차 행렬\n",
      " [[111   7]\n",
      " [ 16  45]]\n",
      "정확도: 0.8715, 정밀도: 0.8654, 재현율: 0.7377, F1:0.7965\n",
      "임곗값: 0.6\n",
      "오차 행렬\n",
      " [[113   5]\n",
      " [ 17  44]]\n",
      "정확도: 0.8771, 정밀도: 0.8980, 재현율: 0.7213, F1:0.8000\n"
     ]
    }
   ],
   "source": [
    "pred_proba = lr_clf.predict_proba(x_test)\n",
    "pred_proba_c1 = pred_proba[:, 1].reshape(-1, 1)\n",
    "for custom_threshold in [0.4, 0.45, 0.50, 0.55, 0.60]:\n",
    "    binarizer = Binarizer(threshold=custom_threshold).fit(pred_proba_c1) \n",
    "    custom_predict = binarizer.transform(pred_proba_c1)\n",
    "    print('임곗값:', custom_threshold)\n",
    "\n",
    "    confusion = confusion_matrix(y_test, custom_predict)\n",
    "    accuracy = accuracy_score(y_test, custom_predict)\n",
    "    precision = precision_score(y_test, custom_predict)\n",
    "    recall = recall_score(y_test, custom_predict)\n",
    "    f1 = f1_score(y_test, custom_predict)\n",
    "    \n",
    "    print('오차 행렬\\n', confusion)\n",
    "    print('정확도: {0:.4f}, 정밀도: {1:.4f}, 재현율: {2:.4f}, F1:{3:.4f}'.format(accuracy, precision, recall, f1))"
   ]
  },
  {
   "cell_type": "code",
   "execution_count": 82,
   "metadata": {},
   "outputs": [
    {
     "data": {
      "text/plain": [
       "0.9330303030303031"
      ]
     },
     "execution_count": 82,
     "metadata": {},
     "output_type": "execute_result"
    }
   ],
   "source": [
    "### multiclass\n",
    "f1_score(iris_y_test, dt_iris_pred, average='weighted')"
   ]
  },
  {
   "cell_type": "markdown",
   "metadata": {},
   "source": [
    "#### Specificity \n",
    "- 실제 음성인 데이터 중 음성으로 올바르게 예측한 데이터 비율\n",
    "- Negative에 대한 Recall\n",
    "- 1 - FPR"
   ]
  },
  {
   "cell_type": "code",
   "execution_count": 83,
   "metadata": {},
   "outputs": [
    {
     "data": {
      "text/plain": [
       "0.9152542372881356"
      ]
     },
     "execution_count": 83,
     "metadata": {},
     "output_type": "execute_result"
    }
   ],
   "source": [
    "recall_score(y_test, lr_pred, pos_label=0)"
   ]
  },
  {
   "cell_type": "markdown",
   "metadata": {},
   "source": [
    "#### Negative Predictive Value\n",
    "- 음성으로 예측한 데이터 중 음성으로 올바르게 예측한 데이터 비율\n",
    "- Negative에 대한 Precision"
   ]
  },
  {
   "cell_type": "code",
   "execution_count": 84,
   "metadata": {},
   "outputs": [
    {
     "data": {
      "text/plain": [
       "0.8852459016393442"
      ]
     },
     "execution_count": 84,
     "metadata": {},
     "output_type": "execute_result"
    }
   ],
   "source": [
    "precision_score(y_test, lr_pred, pos_label=0)"
   ]
  },
  {
   "cell_type": "markdown",
   "metadata": {},
   "source": [
    "#### ROC & AUC/Gini\n",
    "- 확률 cutoff에 따른 FPR(False Positive Rate) 대비 TPR(True Positive Rate)의 변화와 그 비율을 판단\n",
    "- 분류가 무작위이면 AUC는 0.5에 가까우며, 분류 성능이 좋을수록 1에 가까움\n",
    "- Gini coefficient = 2 * AUC - 1로 계산하고 AUC와 선형 관계 (-1~1 사이 값)"
   ]
  },
  {
   "cell_type": "code",
   "execution_count": 85,
   "metadata": {},
   "outputs": [
    {
     "name": "stdout",
     "output_type": "stream",
     "text": [
      "샘플 추출을 위한 임곗값 배열의 index: [ 1  6 11 16 21 26 31 36 41 46]\n",
      "샘플 index로 추출한 임곗값:  [0.94 0.73 0.62 0.52 0.44 0.28 0.15 0.14 0.13 0.12]\n",
      "샘플 임곗값별 FPR:  [0.    0.008 0.025 0.076 0.127 0.254 0.576 0.61  0.746 0.847]\n",
      "샘플 임곗값별 TPR:  [0.016 0.492 0.705 0.738 0.803 0.885 0.902 0.951 0.967 1.   ]\n"
     ]
    }
   ],
   "source": [
    "# 레이블 값이 1일때의 예측 확률을 추출 \n",
    "pred_proba_class1 = lr_clf.predict_proba(x_test)[:, 1] \n",
    "\n",
    "fprs, tprs, thresholds = roc_curve(y_test, pred_proba_class1)\n",
    "# 반환된 임곗값 배열에서 샘플로 데이터를 추출하되, 임곗값을 5 Step으로 추출. \n",
    "# thresholds[0]은 max(예측확률)+1로 임의 설정됨. 이를 제외하기 위해 np.arange는 1부터 시작\n",
    "thr_index = np.arange(1, thresholds.shape[0], 5)\n",
    "print('샘플 추출을 위한 임곗값 배열의 index:', thr_index)\n",
    "print('샘플 index로 추출한 임곗값: ', np.round(thresholds[thr_index], 2))\n",
    "\n",
    "# 5 step 단위로 추출된 임계값에 따른 FPR, TPR 값\n",
    "print('샘플 임곗값별 FPR: ', np.round(fprs[thr_index], 3))\n",
    "print('샘플 임곗값별 TPR: ', np.round(tprs[thr_index], 3))"
   ]
  },
  {
   "cell_type": "code",
   "execution_count": 86,
   "metadata": {},
   "outputs": [
    {
     "data": {
      "image/png": "[encoded data removed]",
      "text/plain": [
       "<Figure size 432x288 with 1 Axes>"
      ]
     },
     "metadata": {
      "needs_background": "light"
     },
     "output_type": "display_data"
    }
   ],
   "source": [
    "### ROC\n",
    "# 임곗값에 따른 FPR, TPR 값을 반환 받음\n",
    "fprs, tprs, thresholds = roc_curve(y_test, lr_clf.predict_proba(x_test)[:, 1])\n",
    "\n",
    "sns.lineplot(x=fprs, y=tprs, ci=False, label='ROC')\n",
    "sns.lineplot(x=[0, 1], y=[0, 1], color='black', linestyle='dashed', label='Random')\n",
    "    \n",
    "# FPR X 축의 Scale을 0.1 단위로 변경, X,Y 축명 설정등   \n",
    "start, end = plt.xlim()\n",
    "plt.xticks(np.round(np.arange(start, end, 0.1),2))\n",
    "plt.xlim(0,1); plt.ylim(0,1)\n",
    "plt.xlabel('FPR( 1 - Specificity )'); plt.ylabel('TPR( Recall )')\n",
    "plt.legend()\n",
    "plt.show()"
   ]
  },
  {
   "cell_type": "code",
   "execution_count": 87,
   "metadata": {},
   "outputs": [
    {
     "data": {
      "text/plain": [
       "<sklearn.metrics._plot.roc_curve.RocCurveDisplay at 0xffff6c4ae3d0>"
      ]
     },
     "execution_count": 87,
     "metadata": {},
     "output_type": "execute_result"
    },
    {
     "data": {
      "image/png": "[encoded data removed]",
      "text/plain": [
       "<Figure size 432x288 with 1 Axes>"
      ]
     },
     "metadata": {
      "needs_background": "light"
     },
     "output_type": "display_data"
    }
   ],
   "source": [
    "fpr, tpr, thresholds = roc_curve(y_test, pred_proba_class1) \n",
    "roc_auc = auc(fpr, tpr)\n",
    "\n",
    "display = RocCurveDisplay(fpr=fpr, tpr=tpr, roc_auc=roc_auc) # plot_roc_curve(logistic, test_x, test_y)함수가 sklearn 1.2.1부터 대체됨\n",
    "display.plot()"
   ]
  },
  {
   "cell_type": "code",
   "execution_count": 88,
   "metadata": {},
   "outputs": [
    {
     "data": {
      "text/plain": [
       "0.8986524034454015"
      ]
     },
     "execution_count": 88,
     "metadata": {},
     "output_type": "execute_result"
    }
   ],
   "source": [
    "pred_proba = lr_clf.predict_proba(x_test)[:, 1]\n",
    "roc_auc_score(y_test, pred_proba)"
   ]
  },
  {
   "cell_type": "code",
   "execution_count": 89,
   "metadata": {},
   "outputs": [
    {
     "data": {
      "text/plain": [
       "0.7973048068908031"
      ]
     },
     "execution_count": 89,
     "metadata": {},
     "output_type": "execute_result"
    }
   ],
   "source": [
    "(roc_auc_score(y_test, pred_proba) * 2) - 1 # Gini index"
   ]
  },
  {
   "cell_type": "markdown",
   "metadata": {},
   "source": [
    "#### Log Loss\n",
    "- Logistic Loss, Cross-entropy Loss\n",
    "- 이진 분류에서만 사용 가능\n",
    "- 모델이 예측한 확률 분포와 실제 레이블의 확률 분포 간의 차이를 측정함\n",
    "- 양성 예측 확률에 로그를 취하고 부호 반전\n",
    "- 낮을수록 좋은 성능 "
   ]
  },
  {
   "cell_type": "code",
   "execution_count": 90,
   "metadata": {},
   "outputs": [
    {
     "data": {
      "text/plain": [
       "4.630942063978539"
      ]
     },
     "execution_count": 90,
     "metadata": {},
     "output_type": "execute_result"
    }
   ],
   "source": [
    "log_loss(y_test, lr_pred)"
   ]
  },
  {
   "cell_type": "markdown",
   "metadata": {},
   "source": [
    "#### Gain & Lift\n",
    "- 이익(Gain): 목표 범주에 속하는 개체들이 각 등급에 얼마나 분포하고 있는지 나타냄\n",
    "- 향상도(Lift): 랜덤 모델 대비 얼마나 모델의 성과가 얼마나 있는지 등급별로 파악"
   ]
  },
  {
   "cell_type": "code",
   "execution_count": 91,
   "metadata": {},
   "outputs": [],
   "source": [
    "# Class가 명확하게 정의된 데이터에서만 가능\n",
    "### Gain table generate\n",
    "def get_gain_table(clf, X, y, num_group=10):\n",
    "    res_df = pd.DataFrame()\n",
    "    res_df['response'] = y\n",
    "    class_idx = np.where(clf.classes_==1)[0][0]\n",
    "    \n",
    "    res_df['prob'] = clf.predict_proba(X)[:, class_idx]\n",
    "    res_df = res_df.sort_values('prob', ascending=False).reset_index(drop=True) ## 확률값으로 내림차순\n",
    "    res_df['temp'] = range(len(res_df))\n",
    "\n",
    "    res_df['group'] = pd.qcut(res_df['temp'], num_group, labels=list(range(1, num_group+1))) ## 데이터 num_group 수만큼 분할\n",
    "    res_df = res_df.groupby('group').agg({'response': ['sum', 'count']}).reset_index() ## \n",
    "    res_df.columns = ['group', 'num_of_response', 'num_of_data']\n",
    "    res_df = res_df.sort_values('group')\n",
    "    res_df['individual_gain'] = res_df['num_of_response']/np.sum(y) ## 구간별 gain\n",
    "    res_df['gain'] = res_df['individual_gain'].cumsum() ## gain\n",
    "    \n",
    "    return res_df\n",
    "\n",
    "### Lift table generate\n",
    "def get_lift_table(clf, X, y, num_group=10):\n",
    "    res_df = pd.DataFrame()\n",
    "    res_df['response'] = y\n",
    "    class_idx = np.where(clf.classes_==1)[0][0]\n",
    "    \n",
    "    res_df['prob'] = clf.predict_proba(X)[:, class_idx]\n",
    "    res_df = res_df.sort_values('prob', ascending=False).reset_index(drop=True) ## 확률값으로 내림차순\n",
    "    res_df['temp'] = range(len(res_df))\n",
    "    res_df['group'] = pd.qcut(res_df['temp'], num_group, labels=list(range(1, num_group+1))) ## 데이터 num_group 수만큼 분할\n",
    "    res_df = res_df.groupby('group').agg({'response': ['sum', 'count', 'mean']}).reset_index() ## \n",
    "    res_df.columns = ['group', 'num_of_response', 'num_of_data', 'response_rate']\n",
    "    res_df = res_df.sort_values('group')\n",
    "    \n",
    "    baseline_lift = np.sum(y)/len(y)\n",
    "    res_df['lift'] = res_df['response_rate']/baseline_lift # Lift\n",
    "    \n",
    "    return res_df"
   ]
  },
  {
   "cell_type": "code",
   "execution_count": 92,
   "metadata": {},
   "outputs": [
    {
     "data": {
      "text/html": [
       "<div>\n",
       "<style scoped>\n",
       "    .dataframe tbody tr th:only-of-type {\n",
       "        vertical-align: middle;\n",
       "    }\n",
       "\n",
       "    .dataframe tbody tr th {\n",
       "        vertical-align: top;\n",
       "    }\n",
       "\n",
       "    .dataframe thead th {\n",
       "        text-align: right;\n",
       "    }\n",
       "</style>\n",
       "<table border=\"1\" class=\"dataframe\">\n",
       "  <thead>\n",
       "    <tr style=\"text-align: right;\">\n",
       "      <th></th>\n",
       "      <th>group</th>\n",
       "      <th>num_of_response</th>\n",
       "      <th>num_of_data</th>\n",
       "      <th>individual_gain</th>\n",
       "      <th>gain</th>\n",
       "    </tr>\n",
       "  </thead>\n",
       "  <tbody>\n",
       "    <tr>\n",
       "      <th>0</th>\n",
       "      <td>1</td>\n",
       "      <td>17</td>\n",
       "      <td>18</td>\n",
       "      <td>0.278689</td>\n",
       "      <td>0.278689</td>\n",
       "    </tr>\n",
       "    <tr>\n",
       "      <th>1</th>\n",
       "      <td>2</td>\n",
       "      <td>17</td>\n",
       "      <td>18</td>\n",
       "      <td>0.278689</td>\n",
       "      <td>0.557377</td>\n",
       "    </tr>\n",
       "    <tr>\n",
       "      <th>2</th>\n",
       "      <td>3</td>\n",
       "      <td>11</td>\n",
       "      <td>18</td>\n",
       "      <td>0.180328</td>\n",
       "      <td>0.737705</td>\n",
       "    </tr>\n",
       "    <tr>\n",
       "      <th>3</th>\n",
       "      <td>4</td>\n",
       "      <td>5</td>\n",
       "      <td>18</td>\n",
       "      <td>0.081967</td>\n",
       "      <td>0.819672</td>\n",
       "    </tr>\n",
       "    <tr>\n",
       "      <th>4</th>\n",
       "      <td>5</td>\n",
       "      <td>5</td>\n",
       "      <td>18</td>\n",
       "      <td>0.081967</td>\n",
       "      <td>0.901639</td>\n",
       "    </tr>\n",
       "    <tr>\n",
       "      <th>5</th>\n",
       "      <td>6</td>\n",
       "      <td>0</td>\n",
       "      <td>17</td>\n",
       "      <td>0.000000</td>\n",
       "      <td>0.901639</td>\n",
       "    </tr>\n",
       "    <tr>\n",
       "      <th>6</th>\n",
       "      <td>7</td>\n",
       "      <td>0</td>\n",
       "      <td>18</td>\n",
       "      <td>0.000000</td>\n",
       "      <td>0.901639</td>\n",
       "    </tr>\n",
       "    <tr>\n",
       "      <th>7</th>\n",
       "      <td>8</td>\n",
       "      <td>4</td>\n",
       "      <td>18</td>\n",
       "      <td>0.065574</td>\n",
       "      <td>0.967213</td>\n",
       "    </tr>\n",
       "    <tr>\n",
       "      <th>8</th>\n",
       "      <td>9</td>\n",
       "      <td>2</td>\n",
       "      <td>18</td>\n",
       "      <td>0.032787</td>\n",
       "      <td>1.000000</td>\n",
       "    </tr>\n",
       "    <tr>\n",
       "      <th>9</th>\n",
       "      <td>10</td>\n",
       "      <td>0</td>\n",
       "      <td>18</td>\n",
       "      <td>0.000000</td>\n",
       "      <td>1.000000</td>\n",
       "    </tr>\n",
       "  </tbody>\n",
       "</table>\n",
       "</div>"
      ],
      "text/plain": [
       "  group  num_of_response  num_of_data  individual_gain      gain\n",
       "0     1               17           18         0.278689  0.278689\n",
       "1     2               17           18         0.278689  0.557377\n",
       "2     3               11           18         0.180328  0.737705\n",
       "3     4                5           18         0.081967  0.819672\n",
       "4     5                5           18         0.081967  0.901639\n",
       "5     6                0           17         0.000000  0.901639\n",
       "6     7                0           18         0.000000  0.901639\n",
       "7     8                4           18         0.065574  0.967213\n",
       "8     9                2           18         0.032787  1.000000\n",
       "9    10                0           18         0.000000  1.000000"
      ]
     },
     "execution_count": 92,
     "metadata": {},
     "output_type": "execute_result"
    }
   ],
   "source": [
    "gain_df = get_gain_table(lr_clf, x_test, y_test)\n",
    "gain_df"
   ]
  },
  {
   "cell_type": "code",
   "execution_count": 93,
   "metadata": {},
   "outputs": [
    {
     "data": {
      "image/png": "[encoded data removed]",
      "text/plain": [
       "<Figure size 432x288 with 1 Axes>"
      ]
     },
     "metadata": {
      "needs_background": "light"
     },
     "output_type": "display_data"
    }
   ],
   "source": [
    "sns.lineplot(x=gain_df['group'], y=gain_df['gain'], marker='o')\n",
    "\n",
    "plt.title('Gain Chart', fontsize=16)\n",
    "plt.show()"
   ]
  },
  {
   "cell_type": "code",
   "execution_count": 94,
   "metadata": {},
   "outputs": [
    {
     "data": {
      "text/html": [
       "<div>\n",
       "<style scoped>\n",
       "    .dataframe tbody tr th:only-of-type {\n",
       "        vertical-align: middle;\n",
       "    }\n",
       "\n",
       "    .dataframe tbody tr th {\n",
       "        vertical-align: top;\n",
       "    }\n",
       "\n",
       "    .dataframe thead th {\n",
       "        text-align: right;\n",
       "    }\n",
       "</style>\n",
       "<table border=\"1\" class=\"dataframe\">\n",
       "  <thead>\n",
       "    <tr style=\"text-align: right;\">\n",
       "      <th></th>\n",
       "      <th>group</th>\n",
       "      <th>num_of_response</th>\n",
       "      <th>num_of_data</th>\n",
       "      <th>response_rate</th>\n",
       "      <th>lift</th>\n",
       "    </tr>\n",
       "  </thead>\n",
       "  <tbody>\n",
       "    <tr>\n",
       "      <th>0</th>\n",
       "      <td>1</td>\n",
       "      <td>17</td>\n",
       "      <td>18</td>\n",
       "      <td>0.944444</td>\n",
       "      <td>2.771403</td>\n",
       "    </tr>\n",
       "    <tr>\n",
       "      <th>1</th>\n",
       "      <td>2</td>\n",
       "      <td>17</td>\n",
       "      <td>18</td>\n",
       "      <td>0.944444</td>\n",
       "      <td>2.771403</td>\n",
       "    </tr>\n",
       "    <tr>\n",
       "      <th>2</th>\n",
       "      <td>3</td>\n",
       "      <td>11</td>\n",
       "      <td>18</td>\n",
       "      <td>0.611111</td>\n",
       "      <td>1.793260</td>\n",
       "    </tr>\n",
       "    <tr>\n",
       "      <th>3</th>\n",
       "      <td>4</td>\n",
       "      <td>5</td>\n",
       "      <td>18</td>\n",
       "      <td>0.277778</td>\n",
       "      <td>0.815118</td>\n",
       "    </tr>\n",
       "    <tr>\n",
       "      <th>4</th>\n",
       "      <td>5</td>\n",
       "      <td>5</td>\n",
       "      <td>18</td>\n",
       "      <td>0.277778</td>\n",
       "      <td>0.815118</td>\n",
       "    </tr>\n",
       "    <tr>\n",
       "      <th>5</th>\n",
       "      <td>6</td>\n",
       "      <td>0</td>\n",
       "      <td>17</td>\n",
       "      <td>0.000000</td>\n",
       "      <td>0.000000</td>\n",
       "    </tr>\n",
       "    <tr>\n",
       "      <th>6</th>\n",
       "      <td>7</td>\n",
       "      <td>0</td>\n",
       "      <td>18</td>\n",
       "      <td>0.000000</td>\n",
       "      <td>0.000000</td>\n",
       "    </tr>\n",
       "    <tr>\n",
       "      <th>7</th>\n",
       "      <td>8</td>\n",
       "      <td>4</td>\n",
       "      <td>18</td>\n",
       "      <td>0.222222</td>\n",
       "      <td>0.652095</td>\n",
       "    </tr>\n",
       "    <tr>\n",
       "      <th>8</th>\n",
       "      <td>9</td>\n",
       "      <td>2</td>\n",
       "      <td>18</td>\n",
       "      <td>0.111111</td>\n",
       "      <td>0.326047</td>\n",
       "    </tr>\n",
       "    <tr>\n",
       "      <th>9</th>\n",
       "      <td>10</td>\n",
       "      <td>0</td>\n",
       "      <td>18</td>\n",
       "      <td>0.000000</td>\n",
       "      <td>0.000000</td>\n",
       "    </tr>\n",
       "  </tbody>\n",
       "</table>\n",
       "</div>"
      ],
      "text/plain": [
       "  group  num_of_response  num_of_data  response_rate      lift\n",
       "0     1               17           18       0.944444  2.771403\n",
       "1     2               17           18       0.944444  2.771403\n",
       "2     3               11           18       0.611111  1.793260\n",
       "3     4                5           18       0.277778  0.815118\n",
       "4     5                5           18       0.277778  0.815118\n",
       "5     6                0           17       0.000000  0.000000\n",
       "6     7                0           18       0.000000  0.000000\n",
       "7     8                4           18       0.222222  0.652095\n",
       "8     9                2           18       0.111111  0.326047\n",
       "9    10                0           18       0.000000  0.000000"
      ]
     },
     "execution_count": 94,
     "metadata": {},
     "output_type": "execute_result"
    }
   ],
   "source": [
    "lift_df = get_lift_table(lr_clf, x_test, y_test)\n",
    "lift_df"
   ]
  },
  {
   "cell_type": "code",
   "execution_count": 95,
   "metadata": {},
   "outputs": [
    {
     "data": {
      "image/png": "[encoded data removed]",
      "text/plain": [
       "<Figure size 432x288 with 1 Axes>"
      ]
     },
     "metadata": {
      "needs_background": "light"
     },
     "output_type": "display_data"
    }
   ],
   "source": [
    "sns.lineplot(x=lift_df['group'], y=lift_df['lift'], marker='o')\n",
    "plt.title('Lift Chart', fontsize=16)\n",
    "plt.show()"
   ]
  },
  {
   "cell_type": "markdown",
   "metadata": {},
   "source": [
    "#### MCC (Matthews Correlation Coefficient)\n",
    "- 불균형한 데이터의 모델 성능을 평가하기 좋음\n",
    "- -1~1사이의 값을 가지며, 0은 랜덤 예측, 값이 클수록 성능이 좋다고 평가함\n",
    "- F1-score와 달리 양성과 음성을 대칭으로 취급함 "
   ]
  },
  {
   "cell_type": "code",
   "execution_count": 96,
   "metadata": {},
   "outputs": [
    {
     "data": {
      "text/plain": [
       "0.6976729528014743"
      ]
     },
     "execution_count": 96,
     "metadata": {},
     "output_type": "execute_result"
    }
   ],
   "source": [
    "matthews_corrcoef(y_test, lr_pred)"
   ]
  },
  {
   "cell_type": "markdown",
   "metadata": {},
   "source": [
    "#### QWK (Quadratic Weighted Kappa)\n",
    "- 다중 클래스 분류에서 클래스 간 순서가 있을 때 사용\n",
    "- 각 행 데이터의 예측이 어느 클래스인지 확인\n",
    "- 0은 랜덤 예측, 1이면 완벽한 예측"
   ]
  },
  {
   "cell_type": "code",
   "execution_count": 97,
   "metadata": {},
   "outputs": [
    {
     "data": {
      "text/plain": [
       "0.696781479390175"
      ]
     },
     "execution_count": 97,
     "metadata": {},
     "output_type": "execute_result"
    }
   ],
   "source": [
    "cohen_kappa_score(y_test, lr_pred, weights='quadratic')"
   ]
  },
  {
   "cell_type": "markdown",
   "metadata": {},
   "source": [
    "### (2) Regression"
   ]
  },
  {
   "cell_type": "code",
   "execution_count": 98,
   "metadata": {},
   "outputs": [],
   "source": [
    "x_train, x_test, y_train, y_test = train_test_split(boston_x, boston_y, test_size=0.2, random_state=42)\n",
    "\n",
    "scaler = MinMaxScaler()\n",
    "x_train_scaled = scaler.fit_transform(x_train)\n",
    "x_test_scaled = scaler.transform(x_test)\n",
    "\n",
    "pred = linear.predict(x_test_scaled)"
   ]
  },
  {
   "cell_type": "markdown",
   "metadata": {},
   "source": [
    "#### MAE\n",
    "- Mean Absolute Error\n",
    "- 에러 크기 그대로 반영하나 예측 에러의 방향은 알 수 없음 (과소 예측/과대 예측 판단 불가)\n",
    "- MAE를 최소화하는 예측값은 중앙값\n",
    "- 에러에 따른 손실이 선형적으로 올라가야 하는 경우나 이상치가 많을 때 사용 (MSE보다 이상치 영향 적음)\n",
    "- 변수 scale에 의존적"
   ]
  },
  {
   "cell_type": "code",
   "execution_count": 99,
   "metadata": {},
   "outputs": [
    {
     "data": {
      "text/plain": [
       "3.2372423618144968"
      ]
     },
     "execution_count": 99,
     "metadata": {},
     "output_type": "execute_result"
    }
   ],
   "source": [
    "mean_absolute_error(y_test, pred)"
   ]
  },
  {
   "cell_type": "markdown",
   "metadata": {},
   "source": [
    "#### MAPE\n",
    "- Mean Absolute Percentage Error\n",
    "- 오차가 예측값에서 차지하는 정도 (MAE를 비율로 변환한 것)\n",
    "- 비율 변수이므로, 모델 간 성능 비교가 용이하나 비율 해석이 의미가 있는 경우에만 사용 가능\n",
    "- 데이터에 0이 있을 경우 사용 불가하고, 실제 정답이 0에 가까운 매우 작은 값일 경우 값이 매우 커질 수 있음\n",
    "- 주로 시계열 모형에서 사용됨"
   ]
  },
  {
   "cell_type": "code",
   "execution_count": 100,
   "metadata": {},
   "outputs": [
    {
     "data": {
      "text/plain": [
       "17.339836676879013"
      ]
     },
     "execution_count": 100,
     "metadata": {},
     "output_type": "execute_result"
    }
   ],
   "source": [
    "def MAPE(y_test, y_pred):\n",
    "    return np.mean(np.abs((y_test - y_pred)/y_test)) * 100\n",
    "    \n",
    "MAPE(y_test, pred)"
   ]
  },
  {
   "cell_type": "markdown",
   "metadata": {},
   "source": [
    "#### MSE & RMSE\n",
    "- Mean Squared Error\n",
    "- 에러의 면적합\n",
    "- 직관적인 지표이지만  scale에 의존적\n",
    "- (MSE의 경우) 예측 변수와 단위가 다름\n",
    "- (RMSE의 경우) MLE method 결과와 RMSE 최소화 결과가 같아지는 등 통계학적인 의미가 있음\n",
    "- 1 미만 에러는 더 작아지고, 그 이상의 에러는 더 커짐\n",
    "- 에러의 방향을 알 수 없으며 이상치 영향 받음"
   ]
  },
  {
   "cell_type": "code",
   "execution_count": 101,
   "metadata": {},
   "outputs": [
    {
     "data": {
      "text/plain": [
       "4.96340549989364"
      ]
     },
     "execution_count": 101,
     "metadata": {},
     "output_type": "execute_result"
    }
   ],
   "source": [
    "### squared option으로 조정\n",
    "mean_squared_error(y_test, pred, squared=False) # RMSE"
   ]
  },
  {
   "cell_type": "markdown",
   "metadata": {},
   "source": [
    "#### R-square\n",
    "- 데이터에 대한 모델의 설명 정도. 0~1로 나타내며 높을 수록 좋음"
   ]
  },
  {
   "cell_type": "code",
   "execution_count": 102,
   "metadata": {},
   "outputs": [
    {
     "data": {
      "text/plain": [
       "0.664064867586112"
      ]
     },
     "execution_count": 102,
     "metadata": {},
     "output_type": "execute_result"
    }
   ],
   "source": [
    "r2_score(y_test, pred)"
   ]
  },
  {
   "cell_type": "code",
   "execution_count": 103,
   "metadata": {},
   "outputs": [
    {
     "data": {
      "text/plain": [
       "0.6648689379343411"
      ]
     },
     "execution_count": 103,
     "metadata": {},
     "output_type": "execute_result"
    }
   ],
   "source": [
    "explained_variance_score(y_test, pred)"
   ]
  },
  {
   "cell_type": "markdown",
   "metadata": {},
   "source": [
    "#### MSLE\n",
    "- Mean Squared Log Error\n",
    "- MSE에 log 적용"
   ]
  },
  {
   "cell_type": "code",
   "execution_count": 104,
   "metadata": {},
   "outputs": [],
   "source": [
    "# mean_squared_log_error(y_test, pred)\n",
    "# msle는 positive 변수일때만 사용 가능"
   ]
  },
  {
   "cell_type": "markdown",
   "metadata": {},
   "source": [
    "#### RMSLE\n",
    "- 실제값과 예측값에 각각 log 취한 후 그 차이의 제곱평균제곱근으로 계산\n",
    "- RMSE를 최소화하면 RMSLE도 최소화됨"
   ]
  },
  {
   "cell_type": "code",
   "execution_count": 105,
   "metadata": {},
   "outputs": [
    {
     "data": {
      "text/plain": [
       "nan"
      ]
     },
     "execution_count": 105,
     "metadata": {},
     "output_type": "execute_result"
    }
   ],
   "source": [
    "def RMSLE(y, pred):\n",
    "    return np.sqrt(np.mean((np.log1p(y) - np.log1p(pred))**2))\n",
    "\n",
    "RMSLE(y_test, pred)"
   ]
  },
  {
   "cell_type": "markdown",
   "metadata": {},
   "source": [
    "## Cross Validation\n",
    "- 데이터 분할의 무작위성 제거\n",
    "- 데이터의 효율적 사용\n",
    "- 연산 비용이 늘어나는 단점이 있음"
   ]
  },
  {
   "cell_type": "markdown",
   "metadata": {
    "tags": []
   },
   "source": [
    "### (1) K-fold data\n",
    "- K-fold의 결과를 활용한 CV\n",
    "- Regression, Classification 모두 사용가능"
   ]
  },
  {
   "cell_type": "code",
   "execution_count": 106,
   "metadata": {},
   "outputs": [],
   "source": [
    "from sklearn.model_selection import KFold, StratifiedKFold, GroupKFold\n",
    "from sklearn.model_selection import ShuffleSplit"
   ]
  },
  {
   "cell_type": "code",
   "execution_count": 107,
   "metadata": {},
   "outputs": [
    {
     "name": "stdout",
     "output_type": "stream",
     "text": [
      "교차 검증 0 RMSE: 3.5598\n",
      "교차 검증 1 RMSE: 4.9279\n",
      "교차 검증 2 RMSE: 5.2762\n",
      "교차 검증 3 RMSE: 9.0601\n",
      "교차 검증 4 RMSE: 6.0420\n",
      "평균 RMSE: 5.7732\n"
     ]
    }
   ],
   "source": [
    "### Regression\n",
    "kfold = KFold(n_splits=5)\n",
    "\n",
    "# KFold 교차 검증 수행\n",
    "scores = list()\n",
    "for iter_count, (train_index, test_index) in enumerate(kfold.split(boston_x)):\n",
    "    # x_titanic_df 데이터에서 교차 검증별로 학습과 검증 데이터를 가리키는 index 생성\n",
    "    x_train, x_test = boston_x[train_index], boston_x[test_index]\n",
    "    y_train, y_test = boston_y[train_index], boston_y[test_index]\n",
    "        \n",
    "    # Classifier 학습, 예측, 정확도 계산 \n",
    "    linear.fit(x_train, y_train) \n",
    "    rmse = mean_squared_error(y_test, linear.predict(x_test), squared=False)\n",
    "    scores.append(rmse)\n",
    "    print(\"교차 검증 {0} RMSE: {1:.4f}\".format(iter_count, rmse))     \n",
    "    \n",
    "# 5개 fold에서의 평균 정확도 계산. \n",
    "mean_score = np.mean(scores)\n",
    "print(\"평균 RMSE: {0:.4f}\".format(mean_score)) "
   ]
  },
  {
   "cell_type": "code",
   "execution_count": 108,
   "metadata": {},
   "outputs": [
    {
     "name": "stdout",
     "output_type": "stream",
     "text": [
      "교차 검증 0 정확도: 0.7542\n",
      "교차 검증 1 정확도: 0.7809\n",
      "교차 검증 2 정확도: 0.7865\n",
      "교차 검증 3 정확도: 0.7697\n",
      "교차 검증 4 정확도: 0.8202\n",
      "평균 정확도: 0.7823\n"
     ]
    }
   ],
   "source": [
    "### Classification\n",
    "scores = list()\n",
    "for iter_count, (train_index, test_index) in enumerate(kfold.split(x_titanic_df)):\n",
    "    # x_titanic_df 데이터에서 교차 검증별로 학습과 검증 데이터를 가리키는 index 생성\n",
    "    x_train, x_test = x_titanic_df.values[train_index], x_titanic_df.values[test_index]\n",
    "    y_train, y_test = y_titanic_df.values[train_index], y_titanic_df.values[test_index]\n",
    "        \n",
    "    # Classifier 학습, 예측, 정확도 계산 \n",
    "    dt_clf.fit(x_train, y_train) \n",
    "    accuracy = accuracy_score(y_test, dt_clf.predict(x_test))\n",
    "    scores.append(accuracy)\n",
    "    print(\"교차 검증 {0} 정확도: {1:.4f}\".format(iter_count, accuracy))     \n",
    "    \n",
    "# 5개 fold에서의 평균 정확도 계산. \n",
    "mean_score = np.mean(scores)\n",
    "print(\"평균 정확도: {0:.4f}\".format(mean_score)) "
   ]
  },
  {
   "cell_type": "code",
   "execution_count": 109,
   "metadata": {},
   "outputs": [
    {
     "name": "stdout",
     "output_type": "stream",
     "text": [
      "교차 검증 0 정확도: 0.7430\n",
      "교차 검증 1 정확도: 0.7753\n",
      "교차 검증 2 정확도: 0.7921\n",
      "교차 검증 3 정확도: 0.7865\n",
      "교차 검증 4 정확도: 0.8427\n",
      "평균 정확도: 0.7879\n"
     ]
    }
   ],
   "source": [
    "### Stratified K-Fold\n",
    "# Classification 문제에만 사용가능\n",
    "s_kf = StratifiedKFold(n_splits=5)\n",
    "\n",
    "# KFold 교차 검증 수행\n",
    "scores = list()\n",
    "for iter_count, (train_index, test_index) in enumerate(s_kf.split(x_titanic_df, y_titanic_df)):\n",
    "    # x_titanic_df 데이터에서 교차 검증별로 학습과 검증 데이터를 가리키는 index 생성\n",
    "    x_train, x_test = x_titanic_df.values[train_index], x_titanic_df.values[test_index]\n",
    "    y_train, y_test = y_titanic_df.values[train_index], y_titanic_df.values[test_index]\n",
    "        \n",
    "    # Classifier 학습, 예측, 정확도 계산 \n",
    "    dt_clf.fit(x_train, y_train) \n",
    "    accuracy = accuracy_score(y_test, dt_clf.predict(x_test))\n",
    "    scores.append(accuracy)\n",
    "    print(\"교차 검증 {0} 정확도: {1:.4f}\".format(iter_count, accuracy))     \n",
    "    \n",
    "# 5개 fold에서의 평균 정확도 계산. \n",
    "mean_score = np.mean(scores)\n",
    "print(\"평균 정확도: {0:.4f}\".format(mean_score)) "
   ]
  },
  {
   "cell_type": "code",
   "execution_count": 110,
   "metadata": {},
   "outputs": [
    {
     "name": "stdout",
     "output_type": "stream",
     "text": [
      "교차 검증 0 정확도: 0.5022\n",
      "교차 검증 1 정확도: 0.7627\n",
      "교차 검증 2 정확도: 0.8750\n",
      "교차 검증 3 정확도: 0.6600\n",
      "교차 검증 4 정확도: 0.7234\n",
      "평균 정확도: 0.7047\n"
     ]
    }
   ],
   "source": [
    "### Group K-Fold\n",
    "g_kf = GroupKFold(n_splits=5)\n",
    "\n",
    "# KFold 교차 검증 수행\n",
    "scores = list()\n",
    "for iter_count, (train_index, test_index) in enumerate(g_kf.split(x_titanic_df, y_titanic_df, groups=x_titanic_df['Cabin'])):\n",
    "    # x_titanic_df 데이터에서 교차 검증별로 학습과 검증 데이터를 가리키는 index 생성\n",
    "    x_train, x_test = x_titanic_df.values[train_index], x_titanic_df.values[test_index]\n",
    "    y_train, y_test = y_titanic_df.values[train_index], y_titanic_df.values[test_index]\n",
    "        \n",
    "    # Classifier 학습, 예측, 정확도 계산 \n",
    "    dt_clf.fit(x_train, y_train) \n",
    "    accuracy = accuracy_score(y_test, dt_clf.predict(x_test))\n",
    "    scores.append(accuracy)\n",
    "    print(\"교차 검증 {0} 정확도: {1:.4f}\".format(iter_count, accuracy))     \n",
    "    \n",
    "# 5개 fold에서의 평균 정확도 계산. \n",
    "mean_score = np.mean(scores)\n",
    "print(\"평균 정확도: {0:.4f}\".format(mean_score)) "
   ]
  },
  {
   "cell_type": "code",
   "execution_count": 111,
   "metadata": {},
   "outputs": [
    {
     "name": "stdout",
     "output_type": "stream",
     "text": [
      "교차 검증 0 정확도: 0.8212\n",
      "교차 검증 1 정확도: 0.7933\n",
      "교차 검증 2 정확도: 0.7933\n",
      "교차 검증 3 정확도: 0.7430\n",
      "교차 검증 4 정확도: 0.8045\n",
      "교차 검증 5 정확도: 0.8101\n",
      "평균 정확도: 0.7942\n"
     ]
    }
   ],
   "source": [
    "### Shuffle split\n",
    "sfl = ShuffleSplit(test_size=0.2, n_splits=6)\n",
    "\n",
    "scores = list()\n",
    "for iter_count, (train_index, test_index) in enumerate(sfl.split(x_titanic_df, y_titanic_df)):\n",
    "    # x_titanic_df 데이터에서 교차 검증별로 학습과 검증 데이터를 가리키는 index 생성\n",
    "    x_train, x_test = x_titanic_df.values[train_index], x_titanic_df.values[test_index]\n",
    "    y_train, y_test = y_titanic_df.values[train_index], y_titanic_df.values[test_index]\n",
    "        \n",
    "    # Classifier 학습, 예측, 정확도 계산 \n",
    "    dt_clf.fit(x_train, y_train) \n",
    "    accuracy = accuracy_score(y_test, dt_clf.predict(x_test))\n",
    "    scores.append(accuracy)\n",
    "    print(\"교차 검증 {0} 정확도: {1:.4f}\".format(iter_count, accuracy))     \n",
    "    \n",
    "# 5개 fold에서의 평균 정확도 계산. \n",
    "mean_score = np.mean(scores)\n",
    "print(\"평균 정확도: {0:.4f}\".format(mean_score)) "
   ]
  },
  {
   "cell_type": "markdown",
   "metadata": {},
   "source": [
    "### (2) CV Function\n",
    "- cv 변수에 숫자 말고도 분할 클래스를 입력할 수 있음\n",
    "- scoring 변수로 평가 지표 변경 가능\n",
    "    - Classification: accuracy, roc_auc, recall_macro, average_precision, f1, f1_macro(micro/weighted) 등\n",
    "    - Regressiom: r2, neg_mean_squared_error, neg_mean_absolute_error 등\n",
    "- Functions\n",
    "    - cross_val_score: CV로 score 계산\n",
    "    - cross_val_predict: CV로 전체 데이터 예측결과 반환"
   ]
  },
  {
   "cell_type": "code",
   "execution_count": 112,
   "metadata": {},
   "outputs": [],
   "source": [
    "from sklearn.model_selection import cross_val_score, cross_val_predict\n",
    "from sklearn.model_selection import LeaveOneOut"
   ]
  },
  {
   "cell_type": "code",
   "execution_count": 113,
   "metadata": {},
   "outputs": [
    {
     "name": "stdout",
     "output_type": "stream",
     "text": [
      "교차검증 정확도:  [1.    0.933 1.    0.933 0.933 0.867 0.933 0.933 1.    1.   ]\n",
      "평균 검증 정확도:  0.9533\n",
      "교차검증 정확도:  [1.    0.933 1.    0.933 0.933 0.933 0.933 0.933 1.    1.   ]\n",
      "평균 검증 정확도:  0.96\n",
      "교차검증 정확도:  [0.667 0.667 0.667 0.667 0.667 0.667 0.667 0.667 0.667 0.667]\n",
      "평균 검증 정확도:  0.6667\n"
     ]
    }
   ],
   "source": [
    "### iris dataset\n",
    "# CV로 모델 선정하기\n",
    "dtree_clf_5 = DecisionTreeClassifier(max_depth=5, random_state=100, criterion=\"entropy\") # entropy를 분류기준으로 함\n",
    "dtree_clf_3 = DecisionTreeClassifier(max_depth=3, random_state=100, criterion=\"entropy\")\n",
    "dtree_clf_1 = DecisionTreeClassifier(max_depth=1, random_state=100, criterion=\"entropy\")\n",
    "\n",
    "scores = cross_val_score(dtree_clf_5, iris_data, iris_label, scoring='accuracy', cv=10) # dataset 10개로 분할\n",
    "print('교차검증 정확도: ', np.round(scores, 3))\n",
    "print('평균 검증 정확도: ', np.round(np.mean(scores), 4))\n",
    "\n",
    "scores = cross_val_score(dtree_clf_3, iris_data, iris_label, scoring='accuracy', cv=10)\n",
    "print('교차검증 정확도: ', np.round(scores, 3))\n",
    "print('평균 검증 정확도: ', np.round(np.mean(scores), 4))\n",
    "\n",
    "scores = cross_val_score(dtree_clf_1, iris_data, iris_label, scoring='accuracy', cv=10)\n",
    "print('교차검증 정확도: ', np.round(scores, 3))\n",
    "print('평균 검증 정확도: ', np.round(np.mean(scores), 4))"
   ]
  },
  {
   "cell_type": "code",
   "execution_count": 114,
   "metadata": {},
   "outputs": [
    {
     "name": "stdout",
     "output_type": "stream",
     "text": [
      "교차검증 정확도:  [0.667 0.667 0.667 0.667 0.667]\n",
      "평균 검증 정확도:  0.6667\n"
     ]
    }
   ],
   "source": [
    "scores = cross_val_score(dtree_clf_1, iris_data, iris_label, scoring='accuracy', cv=s_kf) # stratified kfold 결과를 input으로 함\n",
    "print('교차검증 정확도: ', np.round(scores, 3))\n",
    "print('평균 검증 정확도: ', np.round(np.mean(scores), 4))"
   ]
  },
  {
   "cell_type": "code",
   "execution_count": 115,
   "metadata": {},
   "outputs": [
    {
     "name": "stdout",
     "output_type": "stream",
     "text": [
      "교차검증 정확도:  [0.2   0.567 0.6   0.467 0.533]\n",
      "평균 검증 정확도:  0.4733\n"
     ]
    }
   ],
   "source": [
    "scores = cross_val_score(dtree_clf_1, iris_data, iris_label, scoring='accuracy', cv=g_kf, groups=iris_data[:, 0]) # group kfold 결과를 input으로 함\n",
    "print('교차검증 정확도: ', np.round(scores, 3))\n",
    "print('평균 검증 정확도: ', np.round(np.mean(scores), 4))"
   ]
  },
  {
   "cell_type": "code",
   "execution_count": 116,
   "metadata": {},
   "outputs": [
    {
     "name": "stdout",
     "output_type": "stream",
     "text": [
      "교차검증 정확도:  [0.633 0.7   0.7   0.6   0.667 0.633]\n",
      "평균 검증 정확도:  0.6556\n"
     ]
    }
   ],
   "source": [
    "scores = cross_val_score(dtree_clf_1, iris_data, iris_label, scoring='accuracy', cv=sfl) # shuffle split 결과를 input으로 함\n",
    "print('교차검증 정확도: ', np.round(scores, 3))\n",
    "print('평균 검증 정확도: ', np.round(np.mean(scores), 4))"
   ]
  },
  {
   "cell_type": "code",
   "execution_count": 117,
   "metadata": {},
   "outputs": [
    {
     "name": "stdout",
     "output_type": "stream",
     "text": [
      "교차검증 정확도:  [1. 1. 1. 1. 1. 1. 1. 1. 1. 1. 1. 1. 1. 1. 1. 1. 1. 1. 1. 1. 1. 1. 1. 1.\n",
      " 1. 1. 1. 1. 1. 1. 1. 1. 1. 1. 1. 1. 1. 1. 1. 1. 1. 1. 1. 1. 1. 1. 1. 1.\n",
      " 1. 1. 0. 0. 0. 0. 0. 0. 0. 0. 0. 0. 0. 0. 0. 0. 0. 0. 0. 0. 0. 0. 0. 0.\n",
      " 0. 0. 0. 0. 0. 0. 0. 0. 0. 0. 0. 0. 0. 0. 0. 0. 0. 0. 0. 0. 0. 0. 0. 0.\n",
      " 0. 0. 0. 0. 0. 0. 0. 0. 0. 0. 0. 0. 0. 0. 0. 0. 0. 0. 0. 0. 0. 0. 0. 0.\n",
      " 0. 0. 0. 0. 0. 0. 0. 0. 0. 0. 0. 0. 0. 0. 0. 0. 0. 0. 0. 0. 0. 0. 0. 0.\n",
      " 0. 0. 0. 0. 0. 0.]\n",
      "평균 검증 정확도:  0.3333\n"
     ]
    }
   ],
   "source": [
    "### LOOCV\n",
    "# Leave-One-Out Cross Validation\n",
    "# Fold 하나에 sample 하나인 K-Fold를 입력한 것과 동일\n",
    "scores = cross_val_score(dtree_clf_1, iris_data, iris_label, scoring='accuracy', cv=LeaveOneOut())\n",
    "print('교차검증 정확도: ', np.round(scores, 3))\n",
    "print('평균 검증 정확도: ', np.round(np.mean(scores), 4))"
   ]
  },
  {
   "cell_type": "code",
   "execution_count": 118,
   "metadata": {},
   "outputs": [
    {
     "name": "stdout",
     "output_type": "stream",
     "text": [
      "교차 검증 0 정확도: 0.7430\n",
      "교차 검증 1 정확도: 0.7753\n",
      "교차 검증 2 정확도: 0.7921\n",
      "교차 검증 3 정확도: 0.7865\n",
      "교차 검증 4 정확도: 0.8427\n",
      "평균 정확도: 0.7879\n"
     ]
    }
   ],
   "source": [
    "### titanic dataset\n",
    "scores = cross_val_score(dt_clf, x_titanic_df, y_titanic_df, cv=5)\n",
    "for iter_count, accuracy in enumerate(scores):\n",
    "    print(\"교차 검증 {0} 정확도: {1:.4f}\".format(iter_count, accuracy))\n",
    "    \n",
    "print(\"평균 정확도: {0:.4f}\".format(np.mean(scores))) "
   ]
  },
  {
   "cell_type": "code",
   "execution_count": 119,
   "metadata": {},
   "outputs": [
    {
     "data": {
      "text/plain": [
       "array([0, 1, 0, 1, 0])"
      ]
     },
     "execution_count": 119,
     "metadata": {},
     "output_type": "execute_result"
    }
   ],
   "source": [
    "cross_predict = cross_val_predict(dt_clf, x_titanic_df, y_titanic_df, cv=3)\n",
    "cross_predict[:5]"
   ]
  },
  {
   "cell_type": "code",
   "execution_count": 120,
   "metadata": {},
   "outputs": [
    {
     "name": "stdout",
     "output_type": "stream",
     "text": [
      "5 folds 의 개별 Negative MSE scores: [-12.67 -24.28 -27.84 -82.08 -36.51]\n",
      "5 folds 의 개별 RMSE scores: [3.56 4.93 5.28 9.06 6.04]\n",
      "5 folds 의 평균 RMSE: 5.773\n"
     ]
    }
   ],
   "source": [
    "### boston dataset\n",
    "neg_mse_scores = cross_val_score(linear, boston_x, boston_y, scoring=\"neg_mean_squared_error\", cv=5)\n",
    "rmse_scores  = np.sqrt(-1 * neg_mse_scores)\n",
    "avg_rmse = np.mean(rmse_scores)\n",
    "\n",
    "# cross_val_score(scoring=\"neg_mean_squared_error\")로 반환된 값은 모두 음수 \n",
    "print('5 folds 의 개별 Negative MSE scores:', np.round(neg_mse_scores, 2))\n",
    "print('5 folds 의 개별 RMSE scores:', np.round(rmse_scores, 2))\n",
    "print('5 folds 의 평균 RMSE: {0:.3f}'.format(avg_rmse))"
   ]
  },
  {
   "cell_type": "code",
   "execution_count": 121,
   "metadata": {},
   "outputs": [
    {
     "data": {
      "text/plain": [
       "array([30.59616695, 25.03475625, 30.25721908, 28.87001663, 27.82688016])"
      ]
     },
     "execution_count": 121,
     "metadata": {},
     "output_type": "execute_result"
    }
   ],
   "source": [
    "cross_predict = cross_val_predict(linear, boston_x, boston_y, cv=3)\n",
    "cross_predict[:5]"
   ]
  },
  {
   "cell_type": "markdown",
   "metadata": {},
   "source": [
    "## Hyperparameter Optimization"
   ]
  },
  {
   "cell_type": "markdown",
   "metadata": {},
   "source": [
    "### (1) Grid Search\n",
    "- 모든 가능한 조합을 수행\n",
    "- Cross validation 사용\n",
    "- 적절한 파라미터 선택과, 적절한 grid 범위를 설정하는 것이 중요"
   ]
  },
  {
   "cell_type": "code",
   "execution_count": 122,
   "metadata": {},
   "outputs": [],
   "source": [
    "x_train, x_test, y_train, y_test = train_test_split(iris_data, iris_label, test_size=0.2, random_state=11)"
   ]
  },
  {
   "cell_type": "code",
   "execution_count": 123,
   "metadata": {},
   "outputs": [],
   "source": [
    "from sklearn.model_selection import GridSearchCV"
   ]
  },
  {
   "cell_type": "code",
   "execution_count": 124,
   "metadata": {},
   "outputs": [
    {
     "name": "stdout",
     "output_type": "stream",
     "text": [
      "GridSearchCV 최적 하이퍼 파라미터: {'max_depth': 3, 'min_samples_leaf': 1, 'min_samples_split': 2}\n",
      "GridSearchCV 최고 정확도: 0.9667\n",
      "테스트 세트에서의 DecisionTreeClassifier 정확도 : 0.9333\n"
     ]
    }
   ],
   "source": [
    "parameters = {'max_depth': [2, 3, 5, 10], 'min_samples_split': [2, 3, 5], 'min_samples_leaf': [1, 5, 8]} # parameter grid를 list로 여러 개 입력할 수 있음 -> parameter에 따라 특정 paremeter를 사용하지 않는 경우\n",
    "\n",
    "grid_dclf = GridSearchCV(DecisionTreeClassifier(), param_grid=parameters, scoring='accuracy', cv=3)\n",
    "grid_dclf.fit(x_train, y_train)\n",
    "\n",
    "print('GridSearchCV 최적 하이퍼 파라미터:', grid_dclf.best_params_)\n",
    "print('GridSearchCV 최고 정확도: {0:.4f}'.format(grid_dclf.best_score_))\n",
    "best_dclf = grid_dclf.best_estimator_\n",
    "\n",
    "# GridSearchCV의 최적 하이퍼 파라미터로 학습된 Estimator로 예측 및 평가 수행. \n",
    "dpredictions = best_dclf.predict(x_test)\n",
    "accuracy = accuracy_score(iris_y_test, dpredictions)\n",
    "print('테스트 세트에서의 DecisionTreeClassifier 정확도 : {0:.4f}'.format(accuracy))"
   ]
  },
  {
   "cell_type": "code",
   "execution_count": 125,
   "metadata": {},
   "outputs": [
    {
     "data": {
      "text/html": [
       "<div>\n",
       "<style scoped>\n",
       "    .dataframe tbody tr th:only-of-type {\n",
       "        vertical-align: middle;\n",
       "    }\n",
       "\n",
       "    .dataframe tbody tr th {\n",
       "        vertical-align: top;\n",
       "    }\n",
       "\n",
       "    .dataframe thead th {\n",
       "        text-align: right;\n",
       "    }\n",
       "</style>\n",
       "<table border=\"1\" class=\"dataframe\">\n",
       "  <thead>\n",
       "    <tr style=\"text-align: right;\">\n",
       "      <th></th>\n",
       "      <th>params</th>\n",
       "      <th>mean_test_score</th>\n",
       "      <th>rank_test_score</th>\n",
       "      <th>split0_test_score</th>\n",
       "      <th>split1_test_score</th>\n",
       "      <th>split2_test_score</th>\n",
       "    </tr>\n",
       "  </thead>\n",
       "  <tbody>\n",
       "    <tr>\n",
       "      <th>0</th>\n",
       "      <td>{'max_depth': 2, 'min_samples_leaf': 1, 'min_s...</td>\n",
       "      <td>0.958333</td>\n",
       "      <td>5</td>\n",
       "      <td>0.925</td>\n",
       "      <td>1.0</td>\n",
       "      <td>0.95</td>\n",
       "    </tr>\n",
       "    <tr>\n",
       "      <th>1</th>\n",
       "      <td>{'max_depth': 2, 'min_samples_leaf': 1, 'min_s...</td>\n",
       "      <td>0.958333</td>\n",
       "      <td>5</td>\n",
       "      <td>0.925</td>\n",
       "      <td>1.0</td>\n",
       "      <td>0.95</td>\n",
       "    </tr>\n",
       "    <tr>\n",
       "      <th>2</th>\n",
       "      <td>{'max_depth': 2, 'min_samples_leaf': 1, 'min_s...</td>\n",
       "      <td>0.958333</td>\n",
       "      <td>5</td>\n",
       "      <td>0.925</td>\n",
       "      <td>1.0</td>\n",
       "      <td>0.95</td>\n",
       "    </tr>\n",
       "    <tr>\n",
       "      <th>3</th>\n",
       "      <td>{'max_depth': 2, 'min_samples_leaf': 5, 'min_s...</td>\n",
       "      <td>0.958333</td>\n",
       "      <td>5</td>\n",
       "      <td>0.925</td>\n",
       "      <td>1.0</td>\n",
       "      <td>0.95</td>\n",
       "    </tr>\n",
       "    <tr>\n",
       "      <th>4</th>\n",
       "      <td>{'max_depth': 2, 'min_samples_leaf': 5, 'min_s...</td>\n",
       "      <td>0.958333</td>\n",
       "      <td>5</td>\n",
       "      <td>0.925</td>\n",
       "      <td>1.0</td>\n",
       "      <td>0.95</td>\n",
       "    </tr>\n",
       "  </tbody>\n",
       "</table>\n",
       "</div>"
      ],
      "text/plain": [
       "                                              params  mean_test_score  \\\n",
       "0  {'max_depth': 2, 'min_samples_leaf': 1, 'min_s...         0.958333   \n",
       "1  {'max_depth': 2, 'min_samples_leaf': 1, 'min_s...         0.958333   \n",
       "2  {'max_depth': 2, 'min_samples_leaf': 1, 'min_s...         0.958333   \n",
       "3  {'max_depth': 2, 'min_samples_leaf': 5, 'min_s...         0.958333   \n",
       "4  {'max_depth': 2, 'min_samples_leaf': 5, 'min_s...         0.958333   \n",
       "\n",
       "   rank_test_score  split0_test_score  split1_test_score  split2_test_score  \n",
       "0                5              0.925                1.0               0.95  \n",
       "1                5              0.925                1.0               0.95  \n",
       "2                5              0.925                1.0               0.95  \n",
       "3                5              0.925                1.0               0.95  \n",
       "4                5              0.925                1.0               0.95  "
      ]
     },
     "execution_count": 125,
     "metadata": {},
     "output_type": "execute_result"
    }
   ],
   "source": [
    "# GridSearchCV 결과 추출하여 DataFrame으로 변환\n",
    "scores_df = pd.DataFrame(grid_dclf.cv_results_)\n",
    "scores_df[['params', 'mean_test_score', 'rank_test_score', 'split0_test_score', 'split1_test_score', 'split2_test_score']].head()"
   ]
  },
  {
   "cell_type": "code",
   "execution_count": 126,
   "metadata": {},
   "outputs": [
    {
     "name": "stdout",
     "output_type": "stream",
     "text": [
      "[0.96666667 0.96666667 0.93333333 0.96666667 1.        ]\n",
      "평균 정확도: 0.9667\n"
     ]
    }
   ],
   "source": [
    "### Nested Cross-Validation\n",
    "# Grid Search로 모델을 만들고, CV로 테스트\n",
    "scores = cross_val_score(GridSearchCV(DecisionTreeClassifier(), param_grid=parameters, cv=5), iris_data, iris_label, cv=s_kf)\n",
    "print(scores)\n",
    "print(\"평균 정확도: {0:.4f}\".format(np.mean(scores))) "
   ]
  },
  {
   "cell_type": "markdown",
   "metadata": {},
   "source": [
    "### (2) Randomized Search\n",
    "- 특정 범위에서 파라미터를 랜덤으로 선택\n",
    "- 조합이 매우 많거나, 연속형 값을 조정할 때 사용"
   ]
  },
  {
   "cell_type": "code",
   "execution_count": 127,
   "metadata": {},
   "outputs": [],
   "source": [
    "from sklearn.model_selection import RandomizedSearchCV\n",
    "from sklearn.utils.fixes import loguniform"
   ]
  },
  {
   "cell_type": "code",
   "execution_count": 128,
   "metadata": {},
   "outputs": [
    {
     "name": "stdout",
     "output_type": "stream",
     "text": [
      "RandomizedSearch 최적 하이퍼 파라미터: {'min_samples_split': 3, 'min_samples_leaf': 1, 'max_depth': 3}\n",
      "RandomizedSearch 최고 정확도: 0.9667\n",
      "테스트 세트에서의 DecisionTreeClassifier 정확도 : 0.9333\n"
     ]
    }
   ],
   "source": [
    "param_distribs = {'max_depth': [2, 3, 5, 10], 'min_samples_split': [1, 2, 3, 5], 'min_samples_leaf': [1, 5, 8]}\n",
    "rand_dclf = RandomizedSearchCV(DecisionTreeClassifier(), param_distributions=param_distribs, n_iter=5, cv=5, scoring='accuracy')\n",
    "rand_dclf.fit(x_train, y_train)\n",
    "\n",
    "print('RandomizedSearch 최적 하이퍼 파라미터:', rand_dclf.best_params_)\n",
    "print('RandomizedSearch 최고 정확도: {0:.4f}'.format(rand_dclf.best_score_))\n",
    "best_dclf = rand_dclf.best_estimator_\n",
    "\n",
    "# RandomizedSearchCV의 최적 하이퍼 파라미터로 학습된 Estimator로 예측 및 평가 수행. \n",
    "dpredictions = best_dclf.predict(x_test)\n",
    "accuracy = accuracy_score(y_test, dpredictions)\n",
    "print('테스트 세트에서의 DecisionTreeClassifier 정확도 : {0:.4f}'.format(accuracy))"
   ]
  },
  {
   "cell_type": "code",
   "execution_count": 129,
   "metadata": {},
   "outputs": [
    {
     "name": "stdout",
     "output_type": "stream",
     "text": [
      "RandomizedSearch 최적 하이퍼 파라미터: {'C': 8.022835821829592, 'kernel': 'rbf'}\n",
      "RandomizedSearch 최고 정확도: 0.9833\n",
      "테스트 세트에서의 SVC 정확도 : 1.0000\n"
     ]
    }
   ],
   "source": [
    "param_distribs = {'kernel': ['rbf'], 'C': loguniform(0.001, 100)}\n",
    "rand_dclf = RandomizedSearchCV(SVC(), param_distributions=param_distribs, n_iter=5, cv=5, scoring='accuracy')\n",
    "rand_dclf.fit(x_train, y_train)\n",
    "\n",
    "print('RandomizedSearch 최적 하이퍼 파라미터:', rand_dclf.best_params_)\n",
    "print('RandomizedSearch 최고 정확도: {0:.4f}'.format(rand_dclf.best_score_))\n",
    "best_dclf = rand_dclf.best_estimator_\n",
    "\n",
    "# RandomizedSearchCV의 최적 하이퍼 파라미터로 학습된 Estimator로 예측 및 평가 수행. \n",
    "dpredictions = best_dclf.predict(x_test)\n",
    "accuracy = accuracy_score(y_test, dpredictions)\n",
    "print('테스트 세트에서의 SVC 정확도 : {0:.4f}'.format(accuracy))"
   ]
  },
  {
   "cell_type": "markdown",
   "metadata": {},
   "source": [
    "### (3) Bayesian Optimization"
   ]
  },
  {
   "cell_type": "code",
   "execution_count": 130,
   "metadata": {},
   "outputs": [],
   "source": [
    "# !pip install hyperopt\n",
    "from hyperopt import hp\n",
    "from hyperopt import fmin, tpe, Trials"
   ]
  },
  {
   "cell_type": "code",
   "execution_count": 131,
   "metadata": {},
   "outputs": [],
   "source": [
    "# -10 ~ 10까지 1간격을 가지는 입력 변수 x와 -15 ~ 15까지 1간격으로 입력 변수 y 설정.\n",
    "search_space = {'x': hp.quniform('x', -10, 10, 1), 'y': hp.quniform('y', -15, 15, 1)}"
   ]
  },
  {
   "cell_type": "code",
   "execution_count": 132,
   "metadata": {},
   "outputs": [],
   "source": [
    "# 목적 함수 생성. 변숫값과 변수 검색 공간을 가지는 딕셔너리를 인자로 받고, 특정 값을 반환\n",
    "def objective_func(search_space):\n",
    "    x = search_space['x']\n",
    "    y = search_space['y']\n",
    "    retval = x**2 - 20*y\n",
    "    \n",
    "    return retval"
   ]
  },
  {
   "cell_type": "code",
   "execution_count": 133,
   "metadata": {},
   "outputs": [
    {
     "name": "stdout",
     "output_type": "stream",
     "text": [
      "100%|██████████| 5/5 [00:00<00:00, 949.41it/s, best loss: -4.0]\n",
      "best: {'x': 4.0, 'y': 1.0}\n"
     ]
    }
   ],
   "source": [
    "# 입력 결과값을 저장한 Trials 객체값 생성.\n",
    "trial_val = Trials()\n",
    "\n",
    "# 목적 함수의 최솟값을 반환하는 최적 입력 변숫값을 5번의 입력값 시도(max_evals=5)로 찾아냄.\n",
    "best_01 = fmin(fn=objective_func, space=search_space, algo=tpe.suggest, max_evals=5, trials=trial_val, rstate=np.random.RandomState(0))\n",
    "print('best:', best_01)"
   ]
  },
  {
   "cell_type": "code",
   "execution_count": 134,
   "metadata": {},
   "outputs": [
    {
     "name": "stdout",
     "output_type": "stream",
     "text": [
      "100%|██████████| 20/20 [00:00<00:00, 1420.62it/s, best loss: -264.0]\n"
     ]
    }
   ],
   "source": [
    "trial_val = Trials()\n",
    "\n",
    "# max_evals를 20회로 늘려서 재테스트\n",
    "best_02 = fmin(fn=objective_func, space=search_space, algo=tpe.suggest, max_evals=20, trials=trial_val, rstate=np.random.RandomState(0))"
   ]
  },
  {
   "cell_type": "code",
   "execution_count": 135,
   "metadata": {},
   "outputs": [
    {
     "name": "stdout",
     "output_type": "stream",
     "text": [
      "[{'loss': 16.0, 'status': 'ok'}, {'loss': -4.0, 'status': 'ok'}, {'loss': 240.0, 'status': 'ok'}, {'loss': 61.0, 'status': 'ok'}, {'loss': 256.0, 'status': 'ok'}, {'loss': 185.0, 'status': 'ok'}, {'loss': -100.0, 'status': 'ok'}, {'loss': -255.0, 'status': 'ok'}, {'loss': 1.0, 'status': 'ok'}, {'loss': 304.0, 'status': 'ok'}, {'loss': 81.0, 'status': 'ok'}, {'loss': -19.0, 'status': 'ok'}, {'loss': 60.0, 'status': 'ok'}, {'loss': 109.0, 'status': 'ok'}, {'loss': 1.0, 'status': 'ok'}, {'loss': 240.0, 'status': 'ok'}, {'loss': -264.0, 'status': 'ok'}, {'loss': -124.0, 'status': 'ok'}, {'loss': 169.0, 'status': 'ok'}, {'loss': 4.0, 'status': 'ok'}]\n"
     ]
    }
   ],
   "source": [
    "# fmin()에 인자로 들어가는 Trials 객체의 result 속성에 파이썬 리스트로 목적 함수 반환값들이 저장됨\n",
    "# 리스트 내부의 개별 원소는 {'loss':함수 반환값, 'status':반환 상태값} 와 같은 딕셔너리임. \n",
    "print(trial_val.results)"
   ]
  },
  {
   "cell_type": "code",
   "execution_count": 136,
   "metadata": {},
   "outputs": [
    {
     "name": "stdout",
     "output_type": "stream",
     "text": [
      "{'x': [4.0, 4.0, 10.0, -9.0, 6.0, -5.0, 10.0, 5.0, 1.0, 8.0, -1.0, 1.0, -10.0, -7.0, -9.0, 0.0, 6.0, 4.0, -7.0, 2.0], 'y': [-0.0, 1.0, -7.0, 1.0, -11.0, -8.0, 10.0, 14.0, 0.0, -12.0, -4.0, 1.0, 2.0, -3.0, 4.0, -12.0, 15.0, 7.0, -6.0, -0.0]}\n"
     ]
    }
   ],
   "source": [
    "# Trials 객체의 vals 속성에 {'입력변수명':개별 수행 시마다 입력된 값 리스트} 형태로 저장됨.\n",
    "print(trial_val.vals)"
   ]
  },
  {
   "cell_type": "code",
   "execution_count": 137,
   "metadata": {},
   "outputs": [
    {
     "data": {
      "text/html": [
       "<div>\n",
       "<style scoped>\n",
       "    .dataframe tbody tr th:only-of-type {\n",
       "        vertical-align: middle;\n",
       "    }\n",
       "\n",
       "    .dataframe tbody tr th {\n",
       "        vertical-align: top;\n",
       "    }\n",
       "\n",
       "    .dataframe thead th {\n",
       "        text-align: right;\n",
       "    }\n",
       "</style>\n",
       "<table border=\"1\" class=\"dataframe\">\n",
       "  <thead>\n",
       "    <tr style=\"text-align: right;\">\n",
       "      <th></th>\n",
       "      <th>x</th>\n",
       "      <th>y</th>\n",
       "      <th>losses</th>\n",
       "    </tr>\n",
       "  </thead>\n",
       "  <tbody>\n",
       "    <tr>\n",
       "      <th>0</th>\n",
       "      <td>4.0</td>\n",
       "      <td>-0.0</td>\n",
       "      <td>16.0</td>\n",
       "    </tr>\n",
       "    <tr>\n",
       "      <th>1</th>\n",
       "      <td>4.0</td>\n",
       "      <td>1.0</td>\n",
       "      <td>-4.0</td>\n",
       "    </tr>\n",
       "    <tr>\n",
       "      <th>2</th>\n",
       "      <td>10.0</td>\n",
       "      <td>-7.0</td>\n",
       "      <td>240.0</td>\n",
       "    </tr>\n",
       "    <tr>\n",
       "      <th>3</th>\n",
       "      <td>-9.0</td>\n",
       "      <td>1.0</td>\n",
       "      <td>61.0</td>\n",
       "    </tr>\n",
       "    <tr>\n",
       "      <th>4</th>\n",
       "      <td>6.0</td>\n",
       "      <td>-11.0</td>\n",
       "      <td>256.0</td>\n",
       "    </tr>\n",
       "  </tbody>\n",
       "</table>\n",
       "</div>"
      ],
      "text/plain": [
       "      x     y  losses\n",
       "0   4.0  -0.0    16.0\n",
       "1   4.0   1.0    -4.0\n",
       "2  10.0  -7.0   240.0\n",
       "3  -9.0   1.0    61.0\n",
       "4   6.0 -11.0   256.0"
      ]
     },
     "execution_count": 137,
     "metadata": {},
     "output_type": "execute_result"
    }
   ],
   "source": [
    "# results에서 loss 키값에 해당하는 밸류들을 추출하여 list로 생성. \n",
    "losses = [loss_dict['loss'] for loss_dict in trial_val.results]\n",
    "\n",
    "# DataFrame으로 생성.\n",
    "result_df = pd.DataFrame({'x': trial_val.vals['x'], 'y': trial_val.vals['y'], 'losses': losses})\n",
    "result_df.head()"
   ]
  }
 ],
 "metadata": {
  "kernelspec": {
   "display_name": "Python 3",
   "language": "python",
   "name": "python3"
  },
  "language_info": {
   "codemirror_mode": {
    "name": "ipython",
    "version": 3
   },
   "file_extension": ".py",
   "mimetype": "text/x-python",
   "name": "python",
   "nbconvert_exporter": "python",
   "pygments_lexer": "ipython3",
   "version": "3.7.4"
  }
 },
 "nbformat": 4,
 "nbformat_minor": 5
}
