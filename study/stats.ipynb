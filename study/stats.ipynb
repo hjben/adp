{
 "cells": [
  {
   "cell_type": "markdown",
   "id": "3wndeivi",
   "metadata": {},
   "source": [
    "# @@@@@@@@@@@@@@@@@@@@@@@@@@@@@@"
   ]
  },
  {
   "cell_type": "markdown",
   "id": "dc574124",
   "metadata": {},
   "source": [
    "예제5.9    \n",
    "한 기업에서 임원들을 대상으로 몸무게와 혈압에 따라 분류한 후 각 경우의 비율을 계산하여     \n",
    "아래와 같이 정리하였다. 다음 물음에 답하라.  \n",
    "(1) 한 명의 임원을 임의추출하였을 때 그가 고혈압의 증세를 갖고 있을 확률은 얼마인가?    \n",
    "(2) 임의로 추출된 한 명의 임원이 비만이라고 할 때 그가 고혈압의 증세를 갖고 있을 확률은 얼마인가?     \n",
    "<img src=\"https://github.com/Datamanim/datarepo/blob/main/stats/stats_images.png?raw=true\" align=\"left\">     \n",
    "         \n",
    "         \n"
   ]
  },
  {
   "cell_type": "markdown",
   "id": "xytbomfc",
   "metadata": {},
   "source": [
    "#### 경주"
   ]
  },
  {
   "cell_type": "code",
   "execution_count": 7,
   "id": "9d54eb43",
   "metadata": {},
   "outputs": [
    {
     "data": {
      "text/html": [
       "<div>\n",
       "<style scoped>\n",
       "    .dataframe tbody tr th:only-of-type {\n",
       "        vertical-align: middle;\n",
       "    }\n",
       "\n",
       "    .dataframe tbody tr th {\n",
       "        vertical-align: top;\n",
       "    }\n",
       "\n",
       "    .dataframe thead th {\n",
       "        text-align: right;\n",
       "    }\n",
       "</style>\n",
       "<table border=\"1\" class=\"dataframe\">\n",
       "  <thead>\n",
       "    <tr style=\"text-align: right;\">\n",
       "      <th></th>\n",
       "      <th>비만</th>\n",
       "      <th>정상</th>\n",
       "      <th>정상이하</th>\n",
       "    </tr>\n",
       "  </thead>\n",
       "  <tbody>\n",
       "    <tr>\n",
       "      <th>고혈압</th>\n",
       "      <td>0.10</td>\n",
       "      <td>0.08</td>\n",
       "      <td>0.02</td>\n",
       "    </tr>\n",
       "    <tr>\n",
       "      <th>정상혈압</th>\n",
       "      <td>0.15</td>\n",
       "      <td>0.45</td>\n",
       "      <td>0.20</td>\n",
       "    </tr>\n",
       "  </tbody>\n",
       "</table>\n",
       "</div>"
      ],
      "text/plain": [
       "        비만    정상  정상이하\n",
       "고혈압   0.10  0.08  0.02\n",
       "정상혈압  0.15  0.45  0.20"
      ]
     },
     "metadata": {},
     "output_type": "display_data"
    },
    {
     "name": "stdout",
     "output_type": "stream",
     "text": [
      "(1) 한 명의 임원을 임의추출하였을 때 그가 고혈압의 증세를 갖고 있을 확률은 얼마인가?\n",
      "0.19999999999999998\n",
      "(2) 임의로 추출된 한 명의 임원이 비만이라고 할 때 그가 고혈압의 증세를 갖고 있을 확률은 얼마인가?\n",
      "0.4\n"
     ]
    }
   ],
   "source": [
    "import pandas as pd\n",
    "df = pd.DataFrame({'비만':[0.10,0.15],'정상':[0.08,0.45],'정상이하':[0.02,0.20]}, index=['고혈압','정상혈압'])\n",
    "display(df)\n",
    "\n",
    "print('(1) 한 명의 임원을 임의추출하였을 때 그가 고혈압의 증세를 갖고 있을 확률은 얼마인가?')\n",
    "print(0.1+0.08+0.02)\n",
    "print('(2) 임의로 추출된 한 명의 임원이 비만이라고 할 때 그가 고혈압의 증세를 갖고 있을 확률은 얼마인가?')\n",
    "print(0.10/0.25)"
   ]
  },
  {
   "cell_type": "markdown",
   "id": "u85b90go",
   "metadata": {},
   "source": [
    "#### 수원"
   ]
  },
  {
   "cell_type": "code",
   "execution_count": 18,
   "id": "c08afbc9",
   "metadata": {},
   "outputs": [
    {
     "name": "stdout",
     "output_type": "stream",
     "text": [
      "고혈압인 임원은 전체의 20% 를 차지한다\n",
      "비만이면서 고혈압의 증세를 가지고 있을 확률 0.4 이다\n"
     ]
    }
   ],
   "source": [
    "print(\"고혈압인 임원은 전체의 20% 를 차지한다\")\n",
    "\n",
    "#비만이면서 고혈압의 증세를 가지고 있을 확률\n",
    "a = 0.1/0.25\n",
    "print('비만이면서 고혈압의 증세를 가지고 있을 확률',a,'이다')\n",
    "\n"
   ]
  },
  {
   "cell_type": "markdown",
   "id": "yoylqs2k",
   "metadata": {},
   "source": [
    "#### 성남"
   ]
  },
  {
   "cell_type": "code",
   "execution_count": 1,
   "id": "14978607",
   "metadata": {},
   "outputs": [
    {
     "name": "stdout",
     "output_type": "stream",
     "text": [
      "0.24999999999999997\n"
     ]
    }
   ],
   "source": [
    "#한 명의 임원을 추출하였을 때 고혈압일 확률\n",
    "ans=(0.1+0.08+0.02)/(0.15+0.45+0.2)\n",
    "print(ans)"
   ]
  },
  {
   "cell_type": "code",
   "execution_count": 2,
   "id": "5c47d101-f7f4-4d46-b9da-8ca192faeda7",
   "metadata": {},
   "outputs": [
    {
     "name": "stdout",
     "output_type": "stream",
     "text": [
      "0.4\n"
     ]
    }
   ],
   "source": [
    "#한 명의 임원이 비만일 때 고혈압일 확률\n",
    "ans=(0.1)/(0.1+0.15)\n",
    "print(ans)"
   ]
  },
  {
   "cell_type": "markdown",
   "id": "va5fyzdf",
   "metadata": {},
   "source": [
    "#### 평창"
   ]
  },
  {
   "cell_type": "code",
   "execution_count": 71,
   "id": "d76fb626",
   "metadata": {},
   "outputs": [
    {
     "name": "stdout",
     "output_type": "stream",
     "text": [
      "(1)정답: \n",
      " 0.19999999999999998\n",
      "\n",
      "(2) 풀이: \n",
      "비만일 확률: 0.1 + 0.15 = 0.25\n",
      "비만이면서 고혈압 확률: 0.1\n",
      "추출된 임원이 비만이라고 할 때 그가 고혈압의 증세를 갖고 있을 확률: 0.1/0.25 = 0.4\n",
      "정답: 0.4\n"
     ]
    }
   ],
   "source": [
    "\n",
    "ans = 0.1 + 0.08 + 0.02\n",
    "print(f'(1)정답: \\n {ans}')\n",
    "\n",
    "print(f'''\n",
    "(2) 풀이: \n",
    "비만일 확률: 0.1 + 0.15 = 0.25\n",
    "비만이면서 고혈압 확률: 0.1\n",
    "추출된 임원이 비만이라고 할 때 그가 고혈압의 증세를 갖고 있을 확률: 0.1/0.25 = 0.4\n",
    "정답: 0.4''')"
   ]
  },
  {
   "cell_type": "markdown",
   "id": "m7ido93o",
   "metadata": {},
   "source": [
    "# @@@@@@@@@@@@@@@@@@@@@@@@@@@@@@"
   ]
  },
  {
   "cell_type": "markdown",
   "id": "99878b59",
   "metadata": {},
   "source": [
    "예제 5.10     \n",
    "한 신용카드 회사에서 주요 고객 25명에 대해 그들의 대금결제현황을 조사하였더니,      \n",
    "그 중 20명은 매달 착실하게 결제하고 있었고 나머지 5명은 항상 기일을 넘기는 것으로 드러났다.    \n",
    "이런 25명의 고 객 중에 2명을 임의추출한다고 하였을 때 다음의 확률을 계산하라.    \n",
    "(1) 두 사람 모두 대금결제 기일을 어긴다.\n",
    "(2) 한 사람은 기일을 어기는 사람이고, 또 한 사람은 착실하게 대금결제를 하는 사람이다.\n"
   ]
  },
  {
   "cell_type": "markdown",
   "id": "mtwo6glz",
   "metadata": {},
   "source": [
    "#### 양구"
   ]
  },
  {
   "cell_type": "markdown",
   "id": "17dfe5d1",
   "metadata": {},
   "source": [
    "(1) 비복원 추출, 곱사건 $P_1\\bigcap P_2$ 의 확률이므로 $P(P_1\\bigcap P_2) = P(P_1)P(P_2|P_1)$ ,    $P(P_1)$ = $\\frac{5}{25}$ 이고 $P(P_2|P_1)$ = $\\frac{4}{24}$ 이다. 곱해서 결과를 구한다.\n"
   ]
  },
  {
   "cell_type": "code",
   "execution_count": 18,
   "id": "d59cdd36",
   "metadata": {},
   "outputs": [
    {
     "name": "stdout",
     "output_type": "stream",
     "text": [
      "(1) 0.033\n"
     ]
    }
   ],
   "source": [
    "p_1 = 5/25\n",
    "p_2 = 4/24\n",
    "print('(1)', round(p_1 * p_2,3))"
   ]
  },
  {
   "cell_type": "markdown",
   "id": "df172bc7",
   "metadata": {},
   "source": [
    "(2) 임의 추출된 고객중 한명은 비성실 납부자, 다른한명은 성실 납부자. P(성실$\\bigcap$비성실), P(비성실$\\bigcap$성실) 두사건의 합사건으로 표현된다. 두 사건은 배반사건이므로 구하고자하는 확률은 각 확률의 합으로 계산됨.\n",
    "\n",
    "P(성실1$\\bigcap$비성실2) = P(성실1)P(비성실2|성실1) = $\\frac{20}{25}\\times\\frac{5}{24}=\\frac{1}{6}$\n",
    "\n",
    "P(비성실1$\\bigcap$성실2) = P(비성실1)P(성실2|비성실1) = $\\frac{5}{25}\\times\\frac{20}{24}=\\frac{1}{6}$"
   ]
  },
  {
   "cell_type": "code",
   "execution_count": 17,
   "id": "baf15f48",
   "metadata": {},
   "outputs": [
    {
     "name": "stdout",
     "output_type": "stream",
     "text": [
      "(2) 0.333\n"
     ]
    }
   ],
   "source": [
    "#(2) 합사건\n",
    "p_1 = (5/25)*(20/24)\n",
    "p_2 = (20/25)*(5/24)\n",
    "print('(2)',round(p_1 + p_2,3))"
   ]
  },
  {
   "cell_type": "markdown",
   "id": "hdvwzzx2",
   "metadata": {},
   "source": [
    "#### 철원"
   ]
  },
  {
   "cell_type": "markdown",
   "id": "a2787e0c",
   "metadata": {},
   "source": [
    "(1) 두 사람 모두 대금결제 기일을 어긴다."
   ]
  },
  {
   "cell_type": "code",
   "execution_count": 53,
   "id": "430d0294",
   "metadata": {},
   "outputs": [
    {
     "name": "stdout",
     "output_type": "stream",
     "text": [
      "0.03333333333333333\n"
     ]
    }
   ],
   "source": [
    "p1 = 5/25\n",
    "p2 = 4/24\n",
    "p12 = p1 * p2\n",
    "print(p12)"
   ]
  },
  {
   "cell_type": "markdown",
   "id": "44e92268",
   "metadata": {},
   "source": [
    "(2) 한 사람은 기일을 어기는 사람이고, 또 한 사람은 착실하게 대금결제를 하는 사람이다."
   ]
  },
  {
   "cell_type": "code",
   "execution_count": 54,
   "id": "bf6ea9c3",
   "metadata": {},
   "outputs": [
    {
     "name": "stdout",
     "output_type": "stream",
     "text": [
      "0.3333333333333333\n"
     ]
    }
   ],
   "source": [
    "p12 = 20/25 * 5/24\n",
    "p21 = 5/25 * 20/24\n",
    "\n",
    "p = p12 + p21\n",
    "print(p)"
   ]
  },
  {
   "cell_type": "markdown",
   "id": "rl503ok7",
   "metadata": {},
   "source": [
    "#### 경주"
   ]
  },
  {
   "cell_type": "code",
   "execution_count": 9,
   "id": "6df385df",
   "metadata": {},
   "outputs": [
    {
     "name": "stdout",
     "output_type": "stream",
     "text": [
      "(1) 두 사람 모두 대금결제 기일을 어긴다.\n",
      "0.03333333333333333\n",
      "한 사람은 기일을 어기는 사람이고, 또 한 사람은 착실하게 대금결제를 하는 사람이다.\n",
      "0.16666666666666666\n"
     ]
    }
   ],
   "source": [
    "import numpy as np\n",
    "\n",
    "# 두 사람 모두 대금결제 기일을 어긴 경우의 수\n",
    "n = 5\n",
    "k = 2\n",
    "\n",
    "p = np.math.comb(5, 2) / np.math.comb(25, 2)\n",
    "p1 = (np.math.comb(20,1)+np.math.comb(5,1))/np.math.comb(25,2)+(np.math.comb(20,1)+np.math.comb(5,1))/np.math.comb(25,2)\n",
    "print('(1) 두 사람 모두 대금결제 기일을 어긴다.')\n",
    "print(p)\n",
    "print('한 사람은 기일을 어기는 사람이고, 또 한 사람은 착실하게 대금결제를 하는 사람이다.')\n",
    "print(p1)"
   ]
  },
  {
   "cell_type": "markdown",
   "id": "h6h3whum",
   "metadata": {},
   "source": [
    "#### 성남"
   ]
  },
  {
   "cell_type": "code",
   "execution_count": 3,
   "id": "90415538",
   "metadata": {},
   "outputs": [],
   "source": [
    "import numpy as np"
   ]
  },
  {
   "cell_type": "code",
   "execution_count": 6,
   "id": "a4821b6a-28bb-4abc-aa47-4ec8541334aa",
   "metadata": {},
   "outputs": [
    {
     "name": "stdout",
     "output_type": "stream",
     "text": [
      "0.03333333333333333\n"
     ]
    }
   ],
   "source": [
    "#두 사람 모두 대금 결제 기일을 어길 확률\n",
    "total=(25*24)/(2*1)\n",
    "bad=(5*4)/(2*1)\n",
    "print(bad/total)"
   ]
  },
  {
   "cell_type": "code",
   "execution_count": 7,
   "id": "75738832-cddd-4ae2-b7ea-87b38aff4bb5",
   "metadata": {},
   "outputs": [
    {
     "name": "stdout",
     "output_type": "stream",
     "text": [
      "0.3333333333333333\n"
     ]
    }
   ],
   "source": [
    "#한 명만 기일을 어기는 사람일 확률\n",
    "print(((20/1)*(5/1))/total)"
   ]
  },
  {
   "cell_type": "markdown",
   "id": "u3k785ee",
   "metadata": {},
   "source": [
    "# @@@@@@@@@@@@@@@@@@@@@@@@@@@@@@"
   ]
  },
  {
   "cell_type": "markdown",
   "id": "c0a26a8d",
   "metadata": {},
   "source": [
    "예제 5.14    \n",
    "어느 컴퓨터 회사의 주기판(motherboard) 중 30%는 A1 공장에서 만들어지고 50%는 A2공장에서 만들어지고 나머지 20%는 A3공장에서 만들어진다고 하자.     \n",
    "각 공장에서 만들어지는 주기판의 불량 률을 각각 2%, 1 %, 5%라고 하면, 이 회사제품 중 임의로 하나를 추출하였을 때 이 제품의 주기판이 불량일 확률은 얼마인가?     "
   ]
  },
  {
   "cell_type": "markdown",
   "id": "gcrupsry",
   "metadata": {},
   "source": [
    "#### 정읍"
   ]
  },
  {
   "cell_type": "code",
   "execution_count": 2,
   "id": "492f027a",
   "metadata": {},
   "outputs": [
    {
     "name": "stdout",
     "output_type": "stream",
     "text": [
      "정답 0.021\n"
     ]
    }
   ],
   "source": [
    "p=0.3*0.02+0.5*0.01+0.2*0.05\n",
    "print('정답',p)"
   ]
  },
  {
   "cell_type": "markdown",
   "id": "3dxw1jod",
   "metadata": {},
   "source": [
    "#### 포항"
   ]
  },
  {
   "cell_type": "code",
   "execution_count": 22,
   "id": "adb77419",
   "metadata": {},
   "outputs": [
    {
     "name": "stdout",
     "output_type": "stream",
     "text": [
      "임의로 하나를 추출했을때 불량일 확률 :  0.021\n"
     ]
    }
   ],
   "source": [
    "A1_p = 0.3 #A1 생산비율\n",
    "A2_p = 0.5 #A2 생산비율\n",
    "A3_p = 0.2 #A3 생산비율\n",
    "\n",
    "A1_d = 0.02 #A1 불량률\n",
    "A2_d = 0.01 #A2 불량률\n",
    "A3_d = 0.05 #A3 불량률\n",
    "\n",
    "total_d_rate = (A1_p * A1_d) + (A2_p * A2_d) + (A3_p * A3_d) #공장별 생산된 제품중 불량일 확률 SUM\n",
    "\n",
    "print('임의로 하나를 추출했을때 불량일 확률 : ', total_d_rate)"
   ]
  },
  {
   "cell_type": "markdown",
   "id": "aizdkkww",
   "metadata": {},
   "source": [
    "#### 경주"
   ]
  },
  {
   "cell_type": "code",
   "execution_count": 10,
   "id": "ecd7a573",
   "metadata": {},
   "outputs": [
    {
     "name": "stdout",
     "output_type": "stream",
     "text": [
      "0.021\n"
     ]
    }
   ],
   "source": [
    "a1=0.3; a1_a = 0.02\n",
    "a2 = 0.5;a2_a= 0.01\n",
    "a3=0.2;a3_a=0.05\n",
    "\n",
    "b = a1*a1_a + a2*a2_a + a3*a3_a\n",
    "print(b)"
   ]
  },
  {
   "cell_type": "markdown",
   "id": "qnlz63dn",
   "metadata": {},
   "source": [
    "#### 성남"
   ]
  },
  {
   "cell_type": "code",
   "execution_count": 8,
   "id": "23f0d0b9",
   "metadata": {},
   "outputs": [],
   "source": [
    "A1=0.3*0.02\n",
    "A2=0.5*0.01\n",
    "A3=0.2*0.05"
   ]
  },
  {
   "cell_type": "code",
   "execution_count": 9,
   "id": "e92bd90e-c2e2-4794-9fbd-0dc3a29a71c2",
   "metadata": {},
   "outputs": [
    {
     "name": "stdout",
     "output_type": "stream",
     "text": [
      "0.021\n"
     ]
    }
   ],
   "source": [
    "ans=A1+A2+A3\n",
    "print(ans)"
   ]
  },
  {
   "cell_type": "markdown",
   "id": "55hnshbx",
   "metadata": {},
   "source": [
    "# @@@@@@@@@@@@@@@@@@@@@@@@@@@@@@"
   ]
  },
  {
   "cell_type": "markdown",
   "id": "c0393974",
   "metadata": {},
   "source": [
    "5.4.14    \n",
    "한 강의에 4학년과 대학원생을 합하여 64명이 수강신청을 하였다. 이 중 38명은 남자이고, 15명이 대학원생인데 대학원생 중 8명이 여자이다. 만약 이 학급에서 임의로 한 명을 선택하였을 때, 4학 년이 뽑힐 확률과 남자 대학원생이 뽑힐 확률은 각각 얼마인가?"
   ]
  },
  {
   "cell_type": "markdown",
   "id": "vbtv9xty",
   "metadata": {},
   "source": [
    "#### 인천"
   ]
  },
  {
   "cell_type": "code",
   "execution_count": 27,
   "id": "38c6d991",
   "metadata": {
    "colab": {
     "base_uri": "https://localhost:8080/"
    },
    "id": "38c6d991",
    "outputId": "bd0b8b4a-7705-4d17-ac20-1740782c993e"
   },
   "outputs": [
    {
     "name": "stdout",
     "output_type": "stream",
     "text": [
      "4학년 학생이 뽑힐 확률: 0.77\n",
      "남자 대학원생이 뽑힐 확률: 0.11\n"
     ]
    }
   ],
   "source": [
    "# 전체 학생 수\n",
    "total_students = 64\n",
    "\n",
    "# 남자 학생 수\n",
    "male_students = 38\n",
    "\n",
    "# 대학원생 수\n",
    "graduate_students = 15\n",
    "\n",
    "# 여자 대학원생 수\n",
    "female_graduate_students = 8\n",
    "\n",
    "# 남자 대학원생 수\n",
    "male_graduate_students = graduate_students - female_graduate_students\n",
    "\n",
    "# 4학년 학생 수\n",
    "senior_students = total_students - graduate_students\n",
    "\n",
    "# 4학년 학생이 뽑힐 확률\n",
    "p_senior = senior_students / total_students\n",
    "\n",
    "# 남자 대학원생이 뽑힐 확률\n",
    "p_male_graduate = male_graduate_students / total_students\n",
    "\n",
    "print(f\"4학년 학생이 뽑힐 확률: {p_senior:.2f}\")\n",
    "print(f\"남자 대학원생이 뽑힐 확률: {p_male_graduate:.2f}\")"
   ]
  },
  {
   "cell_type": "markdown",
   "id": "a76uq7in",
   "metadata": {},
   "source": [
    "#### 경주"
   ]
  },
  {
   "cell_type": "code",
   "execution_count": 212,
   "id": "43536b5a",
   "metadata": {},
   "outputs": [
    {
     "name": "stdout",
     "output_type": "stream",
     "text": [
      "0.765625\n",
      "0.109375\n"
     ]
    }
   ],
   "source": [
    "'''(1) 4학년 학생이 선택될 확률:\n",
    "4학년 학생 수 = 전체 학생 수 - 대학원생 수 = 64 - 15 = 49명\n",
    "4학년 학생 중 남자 학생 수 = 38명 (주어진 정보에서 남자 학생 수)\n",
    "4학년 학생 중 여자 학생 수 = 49 - 38 = 11명'''\n",
    "p1 = (38 / 64) + (11 / 64)\n",
    "print(p1)\n",
    "'''\n",
    "(2) 남자 대학원생이 선택될 확률:\n",
    "남자 대학원생 수 = 남자 학생 수 - 대학원생 중 여자 학생 수 = 38 - 8 = 30명\n",
    "\n",
    "남자 대학원생이 선택될 확률 = 남자 대학원생 수 / 전체 학생 수\n",
    "'''\n",
    "p2 =  7 / 64\n",
    "print(p2)"
   ]
  },
  {
   "cell_type": "markdown",
   "id": "nzerjx7w",
   "metadata": {},
   "source": [
    "#### 성남"
   ]
  },
  {
   "cell_type": "code",
   "execution_count": 10,
   "id": "8c92944b",
   "metadata": {},
   "outputs": [
    {
     "name": "stdout",
     "output_type": "stream",
     "text": [
      "0.765625\n"
     ]
    }
   ],
   "source": [
    "#4학년이 뽑힐 확률\n",
    "grade_4=64-15\n",
    "ans=grade_4/64\n",
    "print(ans)"
   ]
  },
  {
   "cell_type": "code",
   "execution_count": 11,
   "id": "b37b2de5-c460-48a5-a04b-ed7a8b434ff3",
   "metadata": {},
   "outputs": [
    {
     "name": "stdout",
     "output_type": "stream",
     "text": [
      "0.109375\n"
     ]
    }
   ],
   "source": [
    "#남자 대학원생이 뽑힐 확률\n",
    "man=15-8\n",
    "ans=man/64\n",
    "print(ans)"
   ]
  },
  {
   "cell_type": "markdown",
   "id": "iv9uwh6r",
   "metadata": {},
   "source": [
    "#### 울산"
   ]
  },
  {
   "cell_type": "code",
   "execution_count": 1,
   "id": "d4f53981",
   "metadata": {},
   "outputs": [
    {
     "name": "stdout",
     "output_type": "stream",
     "text": [
      "4학년이 뽑힐 확률 :  0.765625\n",
      "남자 대학원생이 뽑힐 확률: 0.109375\n",
      "Probability of selecting a 4th grade student: 0.765625\n",
      "Probability of selecting a male graduate student: 0.109375\n"
     ]
    }
   ],
   "source": [
    "n=64\n",
    "grade4 = 64 - 15\n",
    "man_not = 15-8\n",
    "\n",
    "print('4학년이 뽑힐 확률 : ', grade4/n)\n",
    "print('남자 대학원생이 뽑힐 확률:', man_not / n)"
   ]
  },
  {
   "cell_type": "markdown",
   "id": "8myh70y0",
   "metadata": {},
   "source": [
    "# @@@@@@@@@@@@@@@@@@@@@@@@@@@@@@"
   ]
  },
  {
   "cell_type": "markdown",
   "id": "a47155e8",
   "metadata": {},
   "source": [
    "5.5.12     \n",
    "어느 도시의 성인 중 15%가 담배를 피우고, 전체 중에서 폐질환을 가지고 있는 흡연자는 0.86% 이고. 폐질환을 가지고 있는 비흡연자는 0.14%라고 한다.     \n",
    "(1) 이 도시에서 성인 중 한 사람을 임의로 선택하였을 때, 폐질환을 가지고 있을 확률은 얼마인가? (2) 임의로 선택된 사람이 흡연자라면 이 사람이 폐질환을 가지고 있을 확률은 얼마인가?      \n",
    "(3) 임의로 선택된 사람이 비흡연자라면 이 사람이 폐질환을 가지고 있을 확률은 얼마인가?"
   ]
  },
  {
   "cell_type": "markdown",
   "id": "966dvqoo",
   "metadata": {},
   "source": [
    "#### 부산"
   ]
  },
  {
   "cell_type": "code",
   "execution_count": 14,
   "id": "d918a20a",
   "metadata": {},
   "outputs": [
    {
     "data": {
      "text/plain": [
       "0.0024799999999999996"
      ]
     },
     "execution_count": 14,
     "metadata": {},
     "output_type": "execute_result"
    }
   ],
   "source": [
    "# 답 : 5.5.12    :  (1) 0.01 (2) 0.0573 (3) 0.0016\n",
    "\n",
    "# 전체 중 흡연 : 0.15\n",
    "# 전체 중 비흡연 : 0.85\n",
    "# 폐질환 and 흡연 : 0.86\n",
    "# 폐질환 and 비흡연 : 0.14\n",
    "\n",
    "\n"
   ]
  },
  {
   "cell_type": "markdown",
   "id": "6kcbskmu",
   "metadata": {},
   "source": [
    "#### 포항"
   ]
  },
  {
   "cell_type": "code",
   "execution_count": 16,
   "id": "df61e095",
   "metadata": {},
   "outputs": [
    {
     "name": "stdout",
     "output_type": "stream",
     "text": [
      "(1) :  0.01\n",
      "(2) :  0.057\n",
      "(3) :  0.002\n"
     ]
    }
   ],
   "source": [
    "ciga_people = 0.15\n",
    "nonciga_people = 1 - ciga_people\n",
    "lung_ciga_people = 0.0086\n",
    "lung_nonciga_people = 0.0014\n",
    "\n",
    "#폐질환 있을 확률 = 페질환 흡연자 + 폐질환 비흡연자\n",
    "answer1 = lung_ciga_people + lung_nonciga_people\n",
    "\n",
    "#흡연자인 사람이 폐질환일 확률 = 폐질환 흡연자 / 흡연자\n",
    "answer2 = lung_ciga_people / ciga_people\n",
    "\n",
    "#비흡연자인 사람이 폐질환일 확률 = 폐질환 비흡연자 / 비흡연자\n",
    "answer3 = lung_nonciga_people / nonciga_people\n",
    "\n",
    "print('(1) : ', round(answer1,3))\n",
    "print('(2) : ', round(answer2,3))\n",
    "print('(3) : ', round(answer3,3))\n"
   ]
  },
  {
   "cell_type": "markdown",
   "id": "6vnltrwy",
   "metadata": {},
   "source": [
    "#### 경주"
   ]
  },
  {
   "cell_type": "code",
   "execution_count": 19,
   "id": "f94be8d7",
   "metadata": {},
   "outputs": [
    {
     "name": "stdout",
     "output_type": "stream",
     "text": [
      " 이 도시에서 성인 중 한 사람을 임의로 선택하였을 때, 폐질환을 가지고 있을 확률은 얼마인가? \n",
      "0.0024799999999999996\n",
      "(2) 임의로 선택된 사람이 흡연자라면 이 사람이 폐질환을 가지고 있을 확률은 얼마인가?\n",
      "P(폐질환|흡연자) = P(흡연자와 폐질환) / P(흡연자)= 0.0086 / 0.15= 0.05733333333333333\n",
      "임의로 선택된 사람이 비흡연자라면 이 사람이 폐질환을 가지고 있을 확률은 얼마인가?\n",
      "P(폐질환 | 비흡연자) = P(흡연자와 폐질환)/P(비흡연자) = 0.0014/0.85= 0.0016470588235294118\n"
     ]
    }
   ],
   "source": [
    "b = (0.15* 0.0086) + (0.85 * 0.0014)\n",
    "\n",
    "print(' 이 도시에서 성인 중 한 사람을 임의로 선택하였을 때, 폐질환을 가지고 있을 확률은 얼마인가? ')\n",
    "print(b)\n",
    "print('(2) 임의로 선택된 사람이 흡연자라면 이 사람이 폐질환을 가지고 있을 확률은 얼마인가?')\n",
    "print('P(폐질환|흡연자) = P(흡연자와 폐질환) / P(흡연자)= 0.0086 / 0.15=',0.0086 / 0.15)\n",
    "print('임의로 선택된 사람이 비흡연자라면 이 사람이 폐질환을 가지고 있을 확률은 얼마인가?')\n",
    "print('P(폐질환 | 비흡연자) = P(흡연자와 폐질환)/P(비흡연자) = 0.0014/0.85=',0.0014/0.85)"
   ]
  },
  {
   "cell_type": "markdown",
   "id": "w0cfa19o",
   "metadata": {},
   "source": [
    "#### 성남"
   ]
  },
  {
   "cell_type": "code",
   "execution_count": 12,
   "id": "88d29172",
   "metadata": {},
   "outputs": [
    {
     "name": "stdout",
     "output_type": "stream",
     "text": [
      "0.0024799999999999996\n"
     ]
    }
   ],
   "source": [
    "smoke_yes=0.15*0.0086\n",
    "smoke_no=0.85*0.0014\n",
    "\n",
    "#도시 전체에서 폐질환을 가지고 있을 확률\n",
    "ans=smoke_yes+smoke_no\n",
    "print(ans)"
   ]
  },
  {
   "cell_type": "code",
   "execution_count": 14,
   "id": "e84608dc-51c3-4f6e-a684-e17f761a4f16",
   "metadata": {},
   "outputs": [
    {
     "name": "stdout",
     "output_type": "stream",
     "text": [
      "0.05733333333333333\n"
     ]
    }
   ],
   "source": [
    "#임의로 선택한 흡연자 중 폐질환을 가지고 있을 확률\n",
    "ans=0.0086/0.15\n",
    "print(ans)"
   ]
  },
  {
   "cell_type": "code",
   "execution_count": 15,
   "id": "8ec5e53c-4aca-4073-8710-8158680baed1",
   "metadata": {},
   "outputs": [
    {
     "name": "stdout",
     "output_type": "stream",
     "text": [
      "0.0016470588235294118\n"
     ]
    }
   ],
   "source": [
    "#임의로 선택한 비흡연자 중 폐질환을 가지고 있을 확률\n",
    "ans=0.0014/0.85\n",
    "print(ans)"
   ]
  },
  {
   "cell_type": "markdown",
   "id": "l9ompsh1",
   "metadata": {},
   "source": [
    "# @@@@@@@@@@@@@@@@@@@@@@@@@@@@@@"
   ]
  },
  {
   "cell_type": "markdown",
   "id": "0782ce6d",
   "metadata": {},
   "source": [
    "5.5.30     \n",
    "A건설회사가 신도시의 새로운 쇼핑센터 건설에 제안서를 낼 것인가를 결정하려고 한다. 과거의 경 험에 의하면 A사의 경쟁사인 B회사는 이러한 경우에 70% 정도는 제안서를 내었다고 하자. 만일 B회사가 제안서를 내지 않으면 A회사가 그 공사를 수주할 확률이 0.5이고 제안서를 내게 되면 수 주 확률은 0.25로 떨어진다고 하자. 이때 다음의 확률을 구하라    \n",
    "(1) A회사가 공사를 하게 될 확률이 얼마인가?    \n",
    "(2) 만일 A회사가 공사를 하게 되었다면 B회사가 제안서를 내지 않았을 확률이 얼마인가?     "
   ]
  },
  {
   "cell_type": "markdown",
   "id": "qmgtzyhz",
   "metadata": {},
   "source": [
    "#### 양구"
   ]
  },
  {
   "cell_type": "code",
   "execution_count": 14,
   "id": "87d35570",
   "metadata": {},
   "outputs": [
    {
     "name": "stdout",
     "output_type": "stream",
     "text": [
      "0.325\n"
     ]
    }
   ],
   "source": [
    "#(1) A회사가 공사를 하게 될 확률 P(A)는 P(A수주 | B미제출) + P(A수주 | B제출) 의 합 확률이다.\n",
    "\n",
    "P_A_NB = 0.5*0.3\n",
    "P_A_SB = 0.25*0.7\n",
    "print(round(P_A_NB + P_A_SB,3))"
   ]
  },
  {
   "cell_type": "code",
   "execution_count": 16,
   "id": "ba5b8366",
   "metadata": {},
   "outputs": [
    {
     "name": "stdout",
     "output_type": "stream",
     "text": [
      "0.4615\n"
     ]
    }
   ],
   "source": [
    "#(2) A가 수주 했을 때 B미제출 확률 P(B미제출|A) = p(A|B미제출) * P(B미제출) / P(A)\n",
    "\n",
    "P_A_NB = 0.5 * 0.3\n",
    "P_A = 0.325\n",
    "\n",
    "print(round(P_A_NB/P_A,4))"
   ]
  },
  {
   "cell_type": "markdown",
   "id": "qqz1wx50",
   "metadata": {},
   "source": [
    "#### 경주"
   ]
  },
  {
   "cell_type": "code",
   "execution_count": 215,
   "id": "d8f02792-3e59-4b7c-a8f4-736e4d8c98fd",
   "metadata": {},
   "outputs": [
    {
     "name": "stdout",
     "output_type": "stream",
     "text": [
      "(1) 0.32499999999999996\n",
      "(2) 0.4615384615384615\n"
     ]
    }
   ],
   "source": [
    "'''P(A 내) = 0.7 (B회사가 제안서를 내는 확률)\n",
    "P(A 미내) = 1 - P(A 내) = 0.3 (B회사가 제안서를 내지 않는 확률)\n",
    "P(A 수주 | B 미제출) = 0.5 (B회사가 제안서를 내지 않을 때 A회사가 공사를 수주할 확률)\n",
    "P(A 수주 | B 제출) = 0.25 (B회사가 제안서를 내었을 때 A회사가 공사를 수주할 확률)'''\n",
    "print('(1)', 0.7 * 0.25 + 0.3 * 0.5 )\n",
    "\n",
    "'''(2) 만일 A회사가 공사를 하게 되었다면 B회사가 제안서를 내지 않았을 확률:\n",
    "A회사가 공사를 수주했을 때 B회사가 제안서를 내지 않은 확률(P(B 미제출 | A 수주))을 계산합니다.\n",
    "\n",
    "P(B 미제출 | A 수주) = (P(A 수주 | B 미제출) * P(B 미제출)) / P(A 공사)\n",
    "P(B 미제출 | A 수주) = (0.5 * 0.3) / 0.325 ≈ 0.4615'''\n",
    "\n",
    "print('(2)', (0.5*0.3)/0.325)"
   ]
  },
  {
   "cell_type": "markdown",
   "id": "3hlfscxf",
   "metadata": {},
   "source": [
    "#### 성남"
   ]
  },
  {
   "cell_type": "code",
   "execution_count": 17,
   "id": "4ee4f64b-de7e-43fd-9aca-869194201909",
   "metadata": {},
   "outputs": [
    {
     "name": "stdout",
     "output_type": "stream",
     "text": [
      "0.32499999999999996\n"
     ]
    }
   ],
   "source": [
    "#A회사가 공사하게 될 확률\n",
    "B_yes=0.7*0.25\n",
    "B_no=0.3*0.5\n",
    "ans=B_yes+B_no\n",
    "print(ans)"
   ]
  },
  {
   "cell_type": "code",
   "execution_count": 18,
   "id": "1c7c55ee-db24-47c4-8f5e-ba575de414d5",
   "metadata": {},
   "outputs": [
    {
     "name": "stdout",
     "output_type": "stream",
     "text": [
      "0.46153846153846156\n"
     ]
    }
   ],
   "source": [
    "#A회사가 공사를 하게 되었을 때 B회사가 제안서를 내지 않았을 확률\n",
    "ans=B_no/(B_yes+B_no)\n",
    "print(ans)"
   ]
  },
  {
   "cell_type": "markdown",
   "id": "8s28rfaj",
   "metadata": {},
   "source": [
    "# @@@@@@@@@@@@@@@@@@@@@@@@@@@@@@"
   ]
  },
  {
   "cell_type": "markdown",
   "id": "5bc8529e",
   "metadata": {},
   "source": [
    "예제 7.3     \n",
    "멘델의 법칙에 의하면 빨간색과 흰색이 섞여 있는 꽃나무를 자가수정시켜 얻은 꽃나무의 25%는 빨간 꽃을 피우게 된다고 한다.      \n",
    "만약 5그루의 혼합 색의 꽃나무를 자가수정시켜 5그루의 꽃나무를 얻었 을 때 다음의 확률을 구하라.    \n",
    "(1) 빨간색 꽃나무가 하나도 없다. (2) 빨간색 꽃나무가 4개 이상이다."
   ]
  },
  {
   "cell_type": "markdown",
   "id": "ivvkhj3j",
   "metadata": {},
   "source": [
    "#### 창원"
   ]
  },
  {
   "cell_type": "code",
   "execution_count": 20,
   "id": "93dbedfd",
   "metadata": {},
   "outputs": [
    {
     "name": "stdout",
     "output_type": "stream",
     "text": [
      "0.2373046875\n",
      "0.015624999999999998\n"
     ]
    }
   ],
   "source": [
    "# 빨간 꽃나무가 하나도 없을 확률\n",
    "n = 5\n",
    "red = 0.25\n",
    "white = 0.75\n",
    "# 모든 꽃나무가 빨간 꽃을 피우지 않을 학률\n",
    "white_flower = stats.binom.pmf(5, 5, white)\n",
    "\n",
    "# 빨간색 꽃나무가 4개 이상일 확률(4개일 확률 + 5개일 확률)\n",
    "up4 = (stats.binom.pmf(4, n, 0.25) + stats.binom.pmf(5, n, 0.25))\n",
    "print(white_flower)\n",
    "print(up4)"
   ]
  },
  {
   "cell_type": "markdown",
   "id": "fwrrj37q",
   "metadata": {},
   "source": [
    "#### 경주"
   ]
  },
  {
   "cell_type": "code",
   "execution_count": 23,
   "id": "d0279fe5",
   "metadata": {},
   "outputs": [
    {
     "name": "stdout",
     "output_type": "stream",
     "text": [
      "(1) 빨간색 꽃나무가 하나도 없는 확률: 0.2373046875\n",
      "(2) 빨간색 꽃나무가 4개 이상일 확률: 0.015625\n"
     ]
    }
   ],
   "source": [
    "from scipy.stats import binom\n",
    "\n",
    "# 주어진 확률\n",
    "p = 0.25\n",
    "\n",
    "# (1) 빨간색 꽃나무가 하나도 없는 확률 계산\n",
    "n_trials = 5\n",
    "no_red_prob = binom.pmf(0, n_trials, p)  # 0번 성공할 확률\n",
    "\n",
    "# (2) 빨간색 꽃나무가 4개 이상일 확률 계산\n",
    "\n",
    "p = (1-binom.cdf(3,5,0.25))\n",
    "# 결과 출력\n",
    "print(\"(1) 빨간색 꽃나무가 하나도 없는 확률:\", no_red_prob)\n",
    "print(\"(2) 빨간색 꽃나무가 4개 이상일 확률:\", p)\n"
   ]
  },
  {
   "cell_type": "markdown",
   "id": "6l9e5r4j",
   "metadata": {},
   "source": [
    "#### 성남"
   ]
  },
  {
   "cell_type": "code",
   "execution_count": 21,
   "id": "5a97d499",
   "metadata": {},
   "outputs": [
    {
     "name": "stdout",
     "output_type": "stream",
     "text": [
      "0.2373046875\n"
     ]
    }
   ],
   "source": [
    "#빨간색 꽃나무가 하나도 없을 확률\n",
    "ans=(0.25)**0*(0.75)**5\n",
    "print(ans)"
   ]
  },
  {
   "cell_type": "code",
   "execution_count": 24,
   "id": "13c66892-15bf-45fd-818c-de75efe561a6",
   "metadata": {},
   "outputs": [
    {
     "name": "stdout",
     "output_type": "stream",
     "text": [
      "0.015625\n"
     ]
    }
   ],
   "source": [
    "#빨간색 꽃나무가 4개일 확률\n",
    "ans1=(5/1)*(0.75)**1*(1/1)*(0.25)**4\n",
    "#빨간색 꽃나무가 5개일 확률\n",
    "ans2=(1/1)*(0.25)**5\n",
    "\n",
    "#빨간색 꽃나무가 4개 이상일 확률\n",
    "print(ans1+ans2)"
   ]
  },
  {
   "cell_type": "markdown",
   "id": "lbhz2itj",
   "metadata": {},
   "source": [
    "# @@@@@@@@@@@@@@@@@@@@@@@@@@@@@@"
   ]
  },
  {
   "cell_type": "markdown",
   "id": "61aaf89b",
   "metadata": {},
   "source": [
    "7.3.10     \n",
    "미국의 백인 중 85%가 Rh十의 혈액형을 가지고 있다고 한다. 이 중에서 7명을 임의로 선택하였을 때 다음의 확률을 구하라.     \n",
    "(1) 적어도 5명이 Rh +의 혈액형을 가지고 있다.    \n",
    "(2) 많아야 3명이 Rh—(Rh+가 없는 것)의 혈액형을 가지고 있다.     "
   ]
  },
  {
   "cell_type": "markdown",
   "id": "m11lgz42",
   "metadata": {},
   "source": [
    "#### 경주"
   ]
  },
  {
   "cell_type": "code",
   "execution_count": 24,
   "id": "e27c5a4e",
   "metadata": {},
   "outputs": [
    {
     "name": "stdout",
     "output_type": "stream",
     "text": [
      "(1) 적어도 5명이 Rh+의 혈액형을 가지고 있는 확률을 구해봅시다.\n",
      "이는 5, 6, 7명이 Rh+ 혈액형을 가지고 있을 확률을 모두 더한 값과 같습니다\n",
      "P(적어도 5명이 Rh+) = P(5명) + P(6명) + P(7명)\n",
      "(1) 적어도 5명이 Rh+의 혈액형을 가지고 있는 확률: 0.9262348398437503\n",
      "(2) 많아야 3명이 Rh- 혈액형을 가지고 있는 확률을 구해봅시다.\n",
      "이는 0, 1, 2, 3명이 Rh- 혈액형을 가지고 있을 확률을 모두 더한 값과 같습니다:\n",
      "\n",
      "P(많아야 3명이 Rh-) = P(0명) + P(1명) + P(2명) + P(3명)\n",
      "\n",
      "(2) 많아야 3명이 Rh- 혈액형을 가지고 있는 확률: 0.9878968281249998\n"
     ]
    }
   ],
   "source": [
    "from scipy.stats import binom\n",
    "\n",
    "n = 7  # 시행 횟수\n",
    "p_plus = 0.85  # Rh+ 혈액형 비율\n",
    "p_minus = 0.15  # Rh- 혈액형 비율\n",
    "\n",
    "# (1) 적어도 5명이 Rh+의 혈액형을 가지고 있는 확률 계산\n",
    "p5 = sum(binom.pmf(i, n, p_plus) for i in range(5, 8))\n",
    "\n",
    "# (2) 많아야 3명이 Rh- 혈액형을 가지고 있는 확률 계산\n",
    "p3 = sum(binom.pmf(i, n, p_minus) for i in range(4))\n",
    "\n",
    "\n",
    "print('''(1) 적어도 5명이 Rh+의 혈액형을 가지고 있는 확률을 구해봅시다.\n",
    "이는 5, 6, 7명이 Rh+ 혈액형을 가지고 있을 확률을 모두 더한 값과 같습니다\n",
    "P(적어도 5명이 Rh+) = P(5명) + P(6명) + P(7명)''')\n",
    "print(\"(1) 적어도 5명이 Rh+의 혈액형을 가지고 있는 확률:\", p5)\n",
    "print('''(2) 많아야 3명이 Rh- 혈액형을 가지고 있는 확률을 구해봅시다.\n",
    "이는 0, 1, 2, 3명이 Rh- 혈액형을 가지고 있을 확률을 모두 더한 값과 같습니다:\n",
    "\n",
    "P(많아야 3명이 Rh-) = P(0명) + P(1명) + P(2명) + P(3명)\n",
    "''')\n",
    "print(\"(2) 많아야 3명이 Rh- 혈액형을 가지고 있는 확률:\", p3)"
   ]
  },
  {
   "cell_type": "markdown",
   "id": "hlnqxnrb",
   "metadata": {},
   "source": [
    "#### 수원"
   ]
  },
  {
   "cell_type": "code",
   "execution_count": 14,
   "id": "af1a723a",
   "metadata": {},
   "outputs": [
    {
     "name": "stdout",
     "output_type": "stream",
     "text": [
      "(1) 적어도 5명이 Rh+의 혈액형을 가지고 있는 확률: 0.92623483984375\n",
      "(2) 많아야 3명이 Rh-의 혈액형을 가지고 있는 확률: 0.012103171874999985\n"
     ]
    }
   ],
   "source": [
    "import scipy.stats as stats\n",
    "\n",
    "total_selected = 7  # 선택된 사람 수\n",
    "p_rh_plus = 0.85  # Rh+ 혈액형 비율\n",
    "p_rh_minus = 1 - p_rh_plus  # Rh- 혈액형 비율\n",
    "\n",
    "# (1) 적어도 5명이 Rh+의 혈액형을 가지고 있는 확률 계산\n",
    "at_least_5_rh_plus = 1 - stats.binom.cdf(4, total_selected, p_rh_plus)\n",
    "\n",
    "# (2) 많아야 3명이 Rh-의 혈액형을 가지고 있는 확률 계산\n",
    "at_most_3_rh_minus = stats.binom.cdf(3, total_selected, p_rh_minus)\n",
    "\n",
    "print(\"(1) 적어도 5명이 Rh+의 혈액형을 가지고 있는 확률:\", at_least_5_rh_plus)\n",
    "print(\"(2) 많아야 3명이 Rh-의 혈액형을 가지고 있는 확률:\", 1 - at_most_3_rh_minus)"
   ]
  },
  {
   "cell_type": "markdown",
   "id": "kubxf6dq",
   "metadata": {},
   "source": [
    "#### 성남"
   ]
  },
  {
   "cell_type": "code",
   "execution_count": 37,
   "id": "04117d5f",
   "metadata": {},
   "outputs": [
    {
     "name": "stdout",
     "output_type": "stream",
     "text": [
      "0.9262348398437499\n"
     ]
    }
   ],
   "source": [
    "#Rh+가 5명일 확률\n",
    "from scipy.special import comb\n",
    "ans5=(0.85)**5*comb(7,5)*(0.15)**2\n",
    "\n",
    "#Rh+가 6명일 확률\n",
    "ans6=(0.85)**6*comb(7,6)*(0.15)**1\n",
    "\n",
    "#Rh+가 7명일 확률\n",
    "ans7=(0.85)**7*comb(7,7)*(0.15)**0\n",
    "\n",
    "print(ans5+ans6+ans7)"
   ]
  },
  {
   "cell_type": "code",
   "execution_count": 39,
   "id": "859fc987-9c7e-4948-aa02-db1e76645409",
   "metadata": {},
   "outputs": [
    {
     "name": "stdout",
     "output_type": "stream",
     "text": [
      "0.012103171874999999\n"
     ]
    }
   ],
   "source": [
    "#3명 이하가 Rh-일 확률\n",
    "\n",
    "ans0=(0.85)**0*comb(7,0)*(0.15)**7\n",
    "ans1=(0.85)**1*comb(7,1)*(0.15)**6\n",
    "ans2=(0.85)**2*comb(7,2)*(0.15)**5\n",
    "ans3=(0.85)**3*comb(7,3)*(0.15)**4\n",
    "\n",
    "print(ans0+ans1+ans2+ans3)"
   ]
  },
  {
   "cell_type": "markdown",
   "id": "dqzeqg5b",
   "metadata": {},
   "source": [
    "#### 평창"
   ]
  },
  {
   "cell_type": "markdown",
   "id": "bf4738c0",
   "metadata": {},
   "source": [
    "이항 분포는 각 시도에서 성공 확률이 p인 베르누이 시도를 n번 반복할 때의 성공 횟수에 대한 확률 분포다.  \n",
    "이항분포의 확률 계산식:  \n",
    "$P(X=k) = \\binom{n}{k} p^{k} (1-p)^{n-k}$  \n",
    "\n",
    "(1) 적어도 5명인 확률 = 5명일 확률 + 6명인 확률 + 7명일 확률   \n",
    "7C5x0.85^5x0.15^2 + 7C6x0.85^6x0.15^1 + 7C7x0.85^7  \n",
    "\n",
    "(2) 많아야 Rh—이 3명일 확률 = rh-이 0명, 1명, 2명, 3명일 확률 = rh+가 4명~7명일 확률  \n",
    "7C4x0.85^4x0.15^3 + 7C5x0.85^5x0.15^2 + 7C6x0.85^6x0.15^1 + 7C7x0.85^7  \n",
    "\n",
    "코드: \n",
    "\n",
    "from scipy.stats import binom  \n",
    "\n",
    "(1)  \n",
    "n = 7  \n",
    "p = 0.85  \n",
    "\n",
    "prob_1 = sum([binom.pmf(k, n, p) for k in range(5,8)])  \n",
    "print('적어도 5명이 Rh+인 확률:', prob_1)  \n",
    "\n",
    "(2)  \n",
    "n = 7  \n",
    "p = 0.15  \n",
    " \n",
    "prob_2 = sum([binom.pmf(k, n, p) for k in range(0,4)])  \n",
    "print('많아야 3명이 Rh-인 확률:', prob_2)\n",
    "\n",
    "출력:   \n",
    "적어도 5명이 Rh+인 확률: 0.9262348398437503  \n",
    "많아야 3명이 Rh-인 확률: 0.9878968281249998"
   ]
  },
  {
   "cell_type": "code",
   "execution_count": 37,
   "id": "9f33f5f0",
   "metadata": {},
   "outputs": [
    {
     "name": "stdout",
     "output_type": "stream",
     "text": [
      "적어도 5명이 Rh+인 확률: 0.9262348398437503\n",
      "많아야 3명이 Rh-인 확률: 0.9878968281249998\n"
     ]
    }
   ],
   "source": [
    "from scipy.stats import binom\n",
    "\n",
    "# (1)\n",
    "n = 7\n",
    "p = 0.85\n",
    "\n",
    "prob_1 = sum([binom.pmf(k, n, p) for k in range(5,8)])\n",
    "print('적어도 5명이 Rh+인 확률:', prob_1)\n",
    "\n",
    "# (2)\n",
    "n = 7\n",
    "p = 0.15\n",
    "\n",
    "prob_2 = sum([binom.pmf(k, n, p) for k in range(0,4)])\n",
    "print('많아야 3명이 Rh-인 확률:', prob_2)"
   ]
  },
  {
   "cell_type": "markdown",
   "id": "w089kyn0",
   "metadata": {},
   "source": [
    "# @@@@@@@@@@@@@@@@@@@@@@@@@@@@@@"
   ]
  },
  {
   "cell_type": "markdown",
   "id": "aae56b0a",
   "metadata": {},
   "source": [
    "7.3.14    \n",
    "조사결과 70%의 성인 여성이 2년 동안에 적어도 1번 내과를 찾는다고 할 때, 19명의 성인 여성이 임의로 추출되었다고 하자. 다음의 확률을 구하라     \n",
    "(1) 14명 미만이 내과를 찾았을 확률     \n",
    "(2) 적어도 17명이 내과를 찾았을 확률    "
   ]
  },
  {
   "cell_type": "markdown",
   "id": "8ox18nt9",
   "metadata": {},
   "source": [
    "#### 포항"
   ]
  },
  {
   "cell_type": "code",
   "execution_count": 5,
   "id": "cdfe1f9c",
   "metadata": {},
   "outputs": [
    {
     "name": "stdout",
     "output_type": "stream",
     "text": [
      "(1) 답 :  0.526\n",
      "(2) 답 :  0.046\n"
     ]
    }
   ],
   "source": [
    "# 이항분포 사용\n",
    "\n",
    "from scipy.stats import binom\n",
    "\n",
    "k = 13 # 14명 미만\n",
    "n = 19 # 총인원\n",
    "p = 0.7 # 방문확률\n",
    "\n",
    "prob1 = binom.cdf(k, n, p)\n",
    "\n",
    "print('(1) 답 : ', prob1.round(3))\n",
    "\n",
    "k = 16 # 적어도 17명이 찾는다는 것은 17, 18, 19를 말하고 우리는 1에서 뺴기를 해줄 것이기 떄문에 16으로 입력\n",
    "n = 19 # 총인원\n",
    "p = 0.7 # 방문확률\n",
    "\n",
    "prob2 = 1 - binom.cdf(k, n, p)\n",
    "\n",
    "print('(2) 답 : ', prob2.round(3))\n"
   ]
  },
  {
   "cell_type": "markdown",
   "id": "bnzjpp4o",
   "metadata": {},
   "source": [
    "#### 경주"
   ]
  },
  {
   "cell_type": "code",
   "execution_count": 29,
   "id": "791f497a",
   "metadata": {},
   "outputs": [
    {
     "name": "stdout",
     "output_type": "stream",
     "text": [
      "(1) 0.526137475726486\n",
      "(2) 0.04622368312925798\n",
      "(1) 0.5261374757264863\n"
     ]
    }
   ],
   "source": [
    "n = 19\n",
    "p =0.7\n",
    "\n",
    "p14 = sum(binom.pmf(x,n,p) for x in range(14))\n",
    "p17 = sum(binom.pmf(x, n, p) for x in range(17, 20))\n",
    "p141 = binom.cdf(13,n,p)\n",
    "print('(1)', p141)\n",
    "print('(2)', p17)\n",
    "print('(1)', p14)"
   ]
  },
  {
   "cell_type": "markdown",
   "id": "50d948y2",
   "metadata": {},
   "source": [
    "#### 성남"
   ]
  },
  {
   "cell_type": "code",
   "execution_count": 43,
   "id": "9d380c5b",
   "metadata": {},
   "outputs": [
    {
     "name": "stdout",
     "output_type": "stream",
     "text": [
      "0.7189163479984662\n"
     ]
    }
   ],
   "source": [
    "#15명 이상이 내과를 찾았을 확률\n",
    "\n",
    "woman_15=0.7**15*comb(19,15)*0.3**4\n",
    "woman_16=0.7**16*comb(19,16)*0.3**3\n",
    "woman_17=0.7**17*comb(19,17)*0.3**2\n",
    "woman_18=0.7**18*comb(19,18)*0.3**1\n",
    "woman_19=0.7**19*comb(19,19)*0.3**40\n",
    "\n",
    "woman_over=woman_15+woman_16+woman_17+woman_18+woman_19\n",
    "\n",
    "#여집합 구하기\n",
    "ans=1-woman_over\n",
    "print(ans)"
   ]
  },
  {
   "cell_type": "code",
   "execution_count": 44,
   "id": "fdc1c5f2-d3a0-4bbd-a3a8-bde629f32bf5",
   "metadata": {},
   "outputs": [
    {
     "name": "stdout",
     "output_type": "stream",
     "text": [
      "0.045083793610720665\n"
     ]
    }
   ],
   "source": [
    "#17명 이상이 내과를 찾았을 확률\n",
    "\n",
    "ans=woman_17+woman_18+woman_19\n",
    "\n",
    "print(ans)"
   ]
  },
  {
   "cell_type": "markdown",
   "id": "l6ax0fju",
   "metadata": {},
   "source": [
    "# @@@@@@@@@@@@@@@@@@@@@@@@@@@@@@"
   ]
  },
  {
   "cell_type": "markdown",
   "id": "265c9c0c",
   "metadata": {},
   "source": [
    "7.3.26    \n",
    "어떤 축구 선수의 페널티킥 성공률은 70%라고 하자. 이 선수가 어느 날 10번 성공할 때까지 페널\n",
    "티킥 연습을 한다고 할 때 12번 이상 시도해야 할 확률을 구하라.     "
   ]
  },
  {
   "cell_type": "markdown",
   "id": "tfx4amru",
   "metadata": {},
   "source": [
    "#### 경주"
   ]
  },
  {
   "cell_type": "code",
   "execution_count": 338,
   "id": "3f85c101-8497-4314-8ab5-d204b32c6e74",
   "metadata": {},
   "outputs": [
    {
     "name": "stdout",
     "output_type": "stream",
     "text": [
      "12번 이상 시도해야 할 확률: 0.8870099004\n"
     ]
    }
   ],
   "source": [
    "from scipy.stats import binom\n",
    "\n",
    "p = 0.70  # 성공 확률\n",
    "n = 11    # 시도할 횟수\n",
    "\n",
    "prob = 0\n",
    "for k in range(10, n+1):\n",
    "    prob += binom.pmf(k, n, p)\n",
    "\n",
    "print(\"12번 이상 시도해야 할 확률:\", 1-prob)\n"
   ]
  },
  {
   "cell_type": "markdown",
   "id": "0bfp7joc",
   "metadata": {},
   "source": [
    "#### 성남"
   ]
  },
  {
   "cell_type": "code",
   "execution_count": 48,
   "id": "5816f04f",
   "metadata": {},
   "outputs": [
    {
     "name": "stdout",
     "output_type": "stream",
     "text": [
      "1 회차 때 패널티킥이 성공할 확률 : 0.7\n",
      "2 회차 때 패널티킥이 성공할 확률 : 0.21\n",
      "3 회차 때 패널티킥이 성공할 확률 : 0.063\n",
      "4 회차 때 패널티킥이 성공할 확률 : 0.018899999999999997\n",
      "5 회차 때 패널티킥이 성공할 확률 : 0.00567\n",
      "6 회차 때 패널티킥이 성공할 확률 : 0.0017009999999999996\n",
      "7 회차 때 패널티킥이 성공할 확률 : 0.0005102999999999999\n",
      "8 회차 때 패널티킥이 성공할 확률 : 0.00015308999999999996\n",
      "9 회차 때 패널티킥이 성공할 확률 : 4.592699999999998e-05\n",
      "10 회차 때 패널티킥이 성공할 확률 : 1.3778099999999994e-05\n",
      "11 회차 때 패널티킥이 성공할 확률 : 4.133429999999998e-06\n"
     ]
    }
   ],
   "source": [
    "#11번까지 패널티킥을 성공하기 못할 확률\n",
    "\n",
    "success=[]\n",
    "number=1\n",
    "for i in range(1, 12):\n",
    "    kick=0.3**(number-1)*0.7**1\n",
    "    print(f'{number} 회차 때 패널티킥이 성공할 확률 : {kick}')\n",
    "    number += 1\n",
    "    success.append(kick)"
   ]
  },
  {
   "cell_type": "code",
   "execution_count": 51,
   "id": "ed5edaca-421a-4f11-8f07-8a242bf2fa1a",
   "metadata": {},
   "outputs": [
    {
     "name": "stdout",
     "output_type": "stream",
     "text": [
      "1.771470000133668e-06\n"
     ]
    }
   ],
   "source": [
    "#11회차 때까지 패널티킥이 성공하지 못할 확률(12번 이상 시도해야 할 확률)\n",
    "\n",
    "import numpy as np\n",
    "print(1-np.sum(success))"
   ]
  },
  {
   "cell_type": "markdown",
   "id": "troknlyj",
   "metadata": {},
   "source": [
    "# @@@@@@@@@@@@@@@@@@@@@@@@@@@@@@"
   ]
  },
  {
   "cell_type": "markdown",
   "id": "44c2e882",
   "metadata": {},
   "source": [
    "예제 7.5     \n",
    "어느 자동차 회사의 본사에서 여러 지방 영업소에 내려보낸 48대의 새 차 중 12대에 불량 오디오가 설치되었다고 한다.     \n",
    "어느 영업소가 8대를 인수하였는데 이 중에서 오디오가 불량인 차가 적어도 1 대 이상이 될 혹류을 구하라.    "
   ]
  },
  {
   "cell_type": "markdown",
   "id": "est2plyq",
   "metadata": {},
   "source": [
    "#### 안동"
   ]
  },
  {
   "cell_type": "code",
   "execution_count": 5,
   "id": "6d530532",
   "metadata": {
    "colab": {
     "base_uri": "https://localhost:8080/"
    },
    "id": "6d530532",
    "outputId": "9398ba5c-bb8f-4f98-e021-e818aa93d9e1"
   },
   "outputs": [
    {
     "data": {
      "text/plain": [
       "0.9198080808981831"
      ]
     },
     "execution_count": 5,
     "metadata": {},
     "output_type": "execute_result"
    }
   ],
   "source": [
    "N=48\n",
    "k=12\n",
    "n=8\n",
    "x=0\n",
    "\n",
    "from scipy.stats import hypergeom\n",
    "car=hypergeom.cdf(x, N, k, n) #8대 중 불량이 없을 확률\n",
    "1-car"
   ]
  },
  {
   "cell_type": "markdown",
   "id": "t9cafuw3",
   "metadata": {},
   "source": [
    "#### 경주"
   ]
  },
  {
   "cell_type": "code",
   "execution_count": 207,
   "id": "b05b544c",
   "metadata": {},
   "outputs": [
    {
     "name": "stdout",
     "output_type": "stream",
     "text": [
      "0.8999\n",
      "0.8999\n"
     ]
    }
   ],
   "source": [
    "from scipy.stats import binom,geom\n",
    "\n",
    "p =1/4\n",
    "n = 8\n",
    "x = 0\n",
    "\n",
    "print(round(1-binom.cdf(x,n,p),4))\n",
    "print(round(geom.cdf(n,p),4))"
   ]
  },
  {
   "cell_type": "markdown",
   "id": "nxh7kc8x",
   "metadata": {},
   "source": [
    "#### 성남"
   ]
  },
  {
   "cell_type": "code",
   "execution_count": 52,
   "id": "1cc9d714",
   "metadata": {},
   "outputs": [
    {
     "name": "stdout",
     "output_type": "stream",
     "text": [
      "0.25\n"
     ]
    }
   ],
   "source": [
    "#불량인 차가 하나도 없을 확률\n",
    "\n",
    "prob=12/48\n",
    "no_problem=comb(8,0)*prob**0*(1-prob)\n",
    "\n",
    "#적어도 1대 이상이 불량일 확률\n",
    "\n",
    "ans=1-no_problem\n",
    "print(ans)"
   ]
  },
  {
   "cell_type": "markdown",
   "id": "vs82px1a",
   "metadata": {},
   "source": [
    "# @@@@@@@@@@@@@@@@@@@@@@@@@@@@@@"
   ]
  },
  {
   "cell_type": "markdown",
   "id": "3c2d3765",
   "metadata": {},
   "source": [
    "7.4.2    \n",
    "어느 회사에서 사원을 8명 모집하기 위해 신문에 광고를 내었더니 15명의 남자와 8명의 여자가 지원하였다.      \n",
    "임의로 8명을 선택한다고 한다면 8명 중 여자가 3명 이상일 확률을 구하라. 예상되는 여자 신입사원은 몇 명이 되겠는가?"
   ]
  },
  {
   "cell_type": "markdown",
   "id": "w8hfkok5",
   "metadata": {},
   "source": [
    "#### 안동"
   ]
  },
  {
   "cell_type": "code",
   "execution_count": 7,
   "id": "b782f625",
   "metadata": {
    "colab": {
     "base_uri": "https://localhost:8080/"
    },
    "id": "b782f625",
    "outputId": "87abf417-b61a-46cf-e2c2-03f47e0be048"
   },
   "outputs": [
    {
     "name": "stdout",
     "output_type": "stream",
     "text": [
      "8명 중 여자가 3명 이상일 확률: 0.59606497061067\n",
      "예상되는 여자 신입사원 수: 2.782608695652174\n"
     ]
    }
   ],
   "source": [
    "N=15+8\n",
    "k=8\n",
    "n=8\n",
    "x=2\n",
    "\n",
    "from scipy.stats import hypergeom\n",
    "E, v =hypergeom.stats(N,k,n)\n",
    "f=hypergeom.cdf(x, N, k, n) #8대 중 불량이 없을 확률\n",
    "\n",
    "print(\"8명 중 여자가 3명 이상일 확률:\", 1-f)\n",
    "print(\"예상되는 여자 신입사원 수:\", E)"
   ]
  },
  {
   "cell_type": "markdown",
   "id": "vh23mzze",
   "metadata": {},
   "source": [
    "#### 경주"
   ]
  },
  {
   "cell_type": "code",
   "execution_count": 49,
   "id": "e405d221",
   "metadata": {},
   "outputs": [
    {
     "name": "stdout",
     "output_type": "stream",
     "text": [
      "0.5961\n"
     ]
    }
   ],
   "source": [
    "from scipy.stats import hypergeom\n",
    "\n",
    "N =23 #총 갯수\n",
    "k = 8 #성공횟수(총 여성의 수)\n",
    "n= 8 # 시행횟수(총 선택횟수)\n",
    "x = 2 #확인 하고자 하는 사건\n",
    "p = k/n #모비율\n",
    "\n",
    "print(round(1-hypergeom.cdf(x,N,k,n),4))"
   ]
  },
  {
   "cell_type": "markdown",
   "id": "nrepuz41",
   "metadata": {},
   "source": [
    "#### 여주"
   ]
  },
  {
   "cell_type": "code",
   "execution_count": 96,
   "id": "935019a3",
   "metadata": {},
   "outputs": [
    {
     "name": "stdout",
     "output_type": "stream",
     "text": [
      "신입사원 중, 여자의 수는 이항분포를 따르며, ~B(23, 0.348) 이다.\n",
      "8명 중 여자가 3명 이상일 확률은 0.56698이며, 여자 신입사원의 수의 기댓값은 2.78261이다.\n"
     ]
    }
   ],
   "source": [
    "n = 8\n",
    "p = 8 / (15 + 8)\n",
    "\n",
    "print(f'신입사원 중, 여자의 수는 이항분포를 따르며, ~B(23, {round(p, 3)}) 이다.')\n",
    "print(f'8명 중 여자가 3명 이상일 확률은 {round(1 - (stats.binom.cdf(2, n, p)), 5)}이며, 여자 신입사원의 수의 기댓값은 {round(n*p, 5)}이다.')"
   ]
  },
  {
   "cell_type": "markdown",
   "id": "y3bszjgm",
   "metadata": {},
   "source": [
    "#### 성남"
   ]
  },
  {
   "cell_type": "code",
   "execution_count": 93,
   "id": "c8fc6702",
   "metadata": {},
   "outputs": [
    {
     "name": "stdout",
     "output_type": "stream",
     "text": [
      "여자가 3명 이상일 확률 : 0.5669842423342961\n"
     ]
    }
   ],
   "source": [
    "#여자가 2명 이하로 선택될 확률\n",
    "\n",
    "total=15+8\n",
    "woman=8\n",
    "man=15\n",
    "\n",
    "woman_0=(woman/total)**0*comb(8,0)*(man/total)**8\n",
    "woman_1=(woman/total)**1*comb(8,1)*(man/total)**7\n",
    "woman_2=(woman/total)**2*comb(8,2)*(man/total)**6\n",
    "\n",
    "print('여자가 3명 이상일 확률 :',1-(woman_0+woman_1+woman_2))"
   ]
  },
  {
   "cell_type": "code",
   "execution_count": 94,
   "id": "2362a392-ffe4-45b6-9d87-1c090c7a78bf",
   "metadata": {},
   "outputs": [
    {
     "name": "stdout",
     "output_type": "stream",
     "text": [
      "여자 신입사원의 기댓값 :  2.782608695652174\n"
     ]
    }
   ],
   "source": [
    "print('여자 신입사원의 기댓값 : ',8*(woman/total))"
   ]
  },
  {
   "cell_type": "markdown",
   "id": "92o5120o",
   "metadata": {},
   "source": [
    "# @@@@@@@@@@@@@@@@@@@@@@@@@@@@@@"
   ]
  },
  {
   "cell_type": "markdown",
   "id": "3e6d92bc",
   "metadata": {},
   "source": [
    "7.5.6     \n",
    "경부고속도로상의 어느 휴게소의 주유소는 평균적으로 5분에 6대 꼴로 차들이 기름을 넣으러 온다 고 하자 이때 어느 특정한 1분 동안 다음의 확률을 구하라.     \n",
    "(1) 2대 이하가 기름을 넣으러 온다.    \n",
    "(2) 2대 혹은 3대가 기름을 넣으러 온다     \n",
    "(3) 3대 이상이 기름을 넣으러 온다.     "
   ]
  },
  {
   "cell_type": "markdown",
   "id": "24d8uksw",
   "metadata": {},
   "source": [
    "#### 경주"
   ]
  },
  {
   "cell_type": "code",
   "execution_count": 56,
   "id": "230eb01f",
   "metadata": {},
   "outputs": [
    {
     "name": "stdout",
     "output_type": "stream",
     "text": [
      "(1) 2대 이하가 기름을 넣으러 온다.\n",
      "0.8795\n",
      "(2) 2대 혹은 3대가 기름을 넣으러 온다\n",
      "0.3036\n",
      "(3) 3대 이상이 기름을 넣으러 온다.\n",
      "0.1205\n"
     ]
    }
   ],
   "source": [
    "print('(1) 2대 이하가 기름을 넣으러 온다.') # p(x==1) and p(x==2)\n",
    "from scipy.stats import poisson\n",
    "\n",
    "x = 2\n",
    "lam = 1.2 #1분 6/5대\n",
    "\n",
    "print(round(poisson.cdf(x,lam),4))\n",
    "\n",
    "print('(2) 2대 혹은 3대가 기름을 넣으러 온다') #(2<=p<=3) = p(x=2)+p(x=3)\n",
    "x1 = 2\n",
    "lam = 1.2 #1분 6/5대\n",
    "p1 = poisson.pmf(x1,lam)\n",
    "x2 = 3\n",
    "lam = 1.2 #1분 6/5대\n",
    "p2 = poisson.pmf(x2,lam)\n",
    "print(round(p1+p2,4))\n",
    "print('(3) 3대 이상이 기름을 넣으러 온다.') #(p>=3) = 1-p(x==2)\n",
    "\n",
    "x = 2\n",
    "lam = 1.2 #1분 6/5대\n",
    "p = poisson.cdf(x,lam)\n",
    "print(round(1-p,4))"
   ]
  },
  {
   "cell_type": "markdown",
   "id": "5bwlyfoy",
   "metadata": {},
   "source": [
    "#### 여주"
   ]
  },
  {
   "cell_type": "code",
   "execution_count": 94,
   "id": "32d65a36",
   "metadata": {},
   "outputs": [
    {
     "name": "stdout",
     "output_type": "stream",
     "text": [
      "해당 주유소의 5분 당 기름을 넣는 차량의 수는 평균이 6인 포아송분포를 따르며, 1분 당 기름을 넣는 차량의 수는 평균이 1.2인 포아송분포를 따른다.\n",
      "(1): P(X<=2) = P(X=0) + P(X=1) + P(X=2) = 0.87949\n",
      "(2): P(X=2) + P(X=3) = 0.3036\n",
      "(3): P(X>=3) = 1 - P(X<=2) = 0.12051\n"
     ]
    }
   ],
   "source": [
    "print(f'해당 주유소의 5분 당 기름을 넣는 차량의 수는 평균이 6인 포아송분포를 따르며, 1분 당 기름을 넣는 차량의 수는 평균이 {6/5}인 포아송분포를 따른다.')\n",
    "print(f'(1): P(X<=2) = P(X=0) + P(X=1) + P(X=2) = {round(stats.poisson.cdf(2, mu=1.2), 5)}')\n",
    "print(f'(2): P(X=2) + P(X=3) = {round(stats.poisson.cdf(3, mu=1.2) - stats.poisson.cdf(1, mu=1.2), 5)}')\n",
    "print(f'(3): P(X>=3) = 1 - P(X<=2) = {round(1 - stats.poisson.cdf(2, mu=1.2), 5)}')"
   ]
  },
  {
   "cell_type": "markdown",
   "id": "jyypw093",
   "metadata": {},
   "source": [
    "#### 성남"
   ]
  },
  {
   "cell_type": "code",
   "execution_count": 177,
   "id": "470ac5e3",
   "metadata": {},
   "outputs": [
    {
     "name": "stdout",
     "output_type": "stream",
     "text": [
      "2대 이하가 기름을 넣으러 올 확률은  0.9476655379946011\n"
     ]
    }
   ],
   "source": [
    "#2대 이하가 기름을 넣으러 올 확률\n",
    "\n",
    "from scipy.stats import poisson\n",
    "prob=5/6\n",
    "\n",
    "print('2대 이하가 기름을 넣으러 올 확률은 ',poisson.cdf(2, prob))"
   ]
  },
  {
   "cell_type": "code",
   "execution_count": 181,
   "id": "0942ea4a-c691-4da9-9818-7cdaa3b115d8",
   "metadata": {},
   "outputs": [
    {
     "name": "stdout",
     "output_type": "stream",
     "text": [
      "2대 혹은 3대가 기름을 넣으러 올 확률은  0.19281942121263118\n"
     ]
    }
   ],
   "source": [
    "#2대 혹은 3대가 기름을 넣으러 올 확률\n",
    "\n",
    "prob_2=poisson.pmf(2, prob)\n",
    "prob_3=poisson.pmf(3, prob)\n",
    "print('2대 혹은 3대가 기름을 넣으러 올 확률은 ',prob_2+prob_3)"
   ]
  },
  {
   "cell_type": "code",
   "execution_count": 182,
   "id": "8f720909-7007-4d01-9bc5-322cc960d4f0",
   "metadata": {},
   "outputs": [
    {
     "name": "stdout",
     "output_type": "stream",
     "text": [
      "3대 이상이 기름을 넣으러 올 확률은  0.010417196524392103\n"
     ]
    }
   ],
   "source": [
    "#3대 이상이 기름을 넣으러 올 확률\n",
    "\n",
    "prob_3_cdf=poisson.cdf(3, prob)\n",
    "print('3대 이상이 기름을 넣으러 올 확률은 ',1-prob_3_cdf)"
   ]
  },
  {
   "cell_type": "markdown",
   "id": "t68329n1",
   "metadata": {},
   "source": [
    "#### 울산"
   ]
  },
  {
   "cell_type": "code",
   "execution_count": 13,
   "id": "2e3a0fcc",
   "metadata": {},
   "outputs": [
    {
     "name": "stdout",
     "output_type": "stream",
     "text": [
      "정해진 시간 안에 어떤 사건이 일어날 확률을 구하는 것에는 포아송 분포를 사용한다.\n",
      "여기서 사건이 일어날 확률, 즉 람다는 5/6이라고 할 수 있다.\n",
      "(1) 2대 이하 :  0.9476655379946011\n",
      "(2) 2대 혹은 3대 : 0.19281942121263115\n",
      "(3) 3대 이상 : 0.05233446200539893\n"
     ]
    }
   ],
   "source": [
    "print('정해진 시간 안에 어떤 사건이 일어날 확률을 구하는 것에는 포아송 분포를 사용한다.')\n",
    "print('여기서 사건이 일어날 확률, 즉 람다는 5/6이라고 할 수 있다.')\n",
    "\n",
    "import math\n",
    "\n",
    "probability = 5 / 6\n",
    "\n",
    "def poisson_probability(lambd, k):\n",
    "    return (math.exp(-lambd) * (lambd ** k)) / math.factorial(k)\n",
    "\n",
    "# (1) 2대 이하가 기름을 넣으러 온다.\n",
    "less2 = sum(poisson_probability(probability, k) for k in range(3))\n",
    "\n",
    "# (2) 2대 혹은 3대가 기름을 넣으러 온다.\n",
    "twothree = poisson_probability(probability, 2) + poisson_probability(probability, 3)\n",
    "\n",
    "# (3) 3대 이상이 기름을 넣으러 온다.\n",
    "more3 = 1 - sum(poisson_probability(probability, k) for k in range(3))\n",
    "\n",
    "print(\"(1) 2대 이하 : \", less2)\n",
    "print(\"(2) 2대 혹은 3대 :\", twothree)\n",
    "print(\"(3) 3대 이상 :\", more3)\n"
   ]
  },
  {
   "cell_type": "markdown",
   "id": "es0lwxjo",
   "metadata": {},
   "source": [
    "# @@@@@@@@@@@@@@@@@@@@@@@@@@@@@@"
   ]
  },
  {
   "cell_type": "markdown",
   "id": "8e7115da",
   "metadata": {},
   "source": [
    "7.5.8     \n",
    "대학생의 94%가 휴대폰을 소유하고 있다고 한다. 대학생 100명에게 휴대폰이 있는지 없는지 알아 본다고 할 때 그 중 휴대폰이 있는 사람이 90명 이하일 확률을 근사적으로 구하라"
   ]
  },
  {
   "cell_type": "markdown",
   "id": "7k7ps2k3",
   "metadata": {},
   "source": [
    "#### 정읍"
   ]
  },
  {
   "cell_type": "code",
   "execution_count": 8,
   "id": "8a34b30c",
   "metadata": {},
   "outputs": [
    {
     "name": "stdout",
     "output_type": "stream",
     "text": [
      "정답: 0.078\n"
     ]
    }
   ],
   "source": [
    "print('정답:',np.round(stats.binom(100,0.94).cdf(90),3))"
   ]
  },
  {
   "cell_type": "markdown",
   "id": "wccpr9ab",
   "metadata": {},
   "source": [
    "#### 안동"
   ]
  },
  {
   "cell_type": "code",
   "execution_count": 8,
   "id": "efc62f02",
   "metadata": {
    "colab": {
     "base_uri": "https://localhost:8080/"
    },
    "id": "efc62f02",
    "outputId": "19019615-e046-4a17-9b3a-5d32b975339b"
   },
   "outputs": [
    {
     "data": {
      "text/plain": [
       "0.07753905734561194"
      ]
     },
     "execution_count": 8,
     "metadata": {},
     "output_type": "execute_result"
    }
   ],
   "source": [
    "n=100\n",
    "x=90\n",
    "p=0.94\n",
    "\n",
    "from scipy.stats import binom\n",
    "cdf=0\n",
    "binom.cdf(x,n,p)"
   ]
  },
  {
   "cell_type": "markdown",
   "id": "rk0ibbz4",
   "metadata": {},
   "source": [
    "#### 경주"
   ]
  },
  {
   "cell_type": "code",
   "execution_count": 58,
   "id": "7e27aaff",
   "metadata": {},
   "outputs": [
    {
     "name": "stdout",
     "output_type": "stream",
     "text": [
      "휴대폰을 소유하는 사람이 90명 이하일 확률: 0.07753905734561209\n",
      "휴대폰을 소유하는 사람이 90명 이하일 확률 (포아송 근사): 0.3646895251937682\n"
     ]
    }
   ],
   "source": [
    "from scipy.stats import binom\n",
    "from scipy.stats import poisson\n",
    "n = 100  # 총 학생 수\n",
    "p = 0.94  # 휴대폰 소유 확률\n",
    "\n",
    "p1 = binom.cdf(90, n, p)\n",
    "\n",
    "print(\"휴대폰을 소유하는 사람이 90명 이하일 확률:\", p1)\n",
    "\n",
    "lam = 100 * 0.94  # 포아송 분포의 모수\n",
    "\n",
    "p2 = poisson.cdf(90, lam)\n",
    "\n",
    "print(\"휴대폰을 소유하는 사람이 90명 이하일 확률 (포아송 근사):\", p2)\n"
   ]
  },
  {
   "cell_type": "markdown",
   "id": "kjhqfkr0",
   "metadata": {},
   "source": [
    "#### 성남"
   ]
  },
  {
   "cell_type": "code",
   "execution_count": 189,
   "id": "4a72892e",
   "metadata": {},
   "outputs": [
    {
     "name": "stdout",
     "output_type": "stream",
     "text": [
      "90명 이하가 휴대폰을 가지고 있을 확률은  0.046061481628826104\n"
     ]
    }
   ],
   "source": [
    "prob=0.94\n",
    "mean=100*prob\n",
    "std=np.sqrt(mean*(1-prob))\n",
    "\n",
    "probability=norm.cdf((90-mean)/(std))\n",
    "\n",
    "print('90명 이하가 휴대폰을 가지고 있을 확률은 ', probability)"
   ]
  },
  {
   "cell_type": "markdown",
   "id": "kmu10o5x",
   "metadata": {},
   "source": [
    "# @@@@@@@@@@@@@@@@@@@@@@@@@@@@@@"
   ]
  },
  {
   "cell_type": "markdown",
   "id": "e91f814a",
   "metadata": {},
   "source": [
    "7.6.12    \n",
    "공정한 주사위를 4번 던질 때, 6의 눈이 2번 이하 나올 확률은 얼마인가?"
   ]
  },
  {
   "cell_type": "markdown",
   "id": "1k5m7xfp",
   "metadata": {},
   "source": [
    "#### 조치원"
   ]
  },
  {
   "cell_type": "code",
   "execution_count": 1,
   "id": "2ffae580",
   "metadata": {
    "colab": {
     "base_uri": "https://localhost:8080/"
    },
    "executionInfo": {
     "elapsed": 1230,
     "status": "ok",
     "timestamp": 1693443842791,
     "user": {
      "displayName": "김지현",
      "userId": "13398789046800870585"
     },
     "user_tz": -540
    },
    "id": "2ffae580",
    "outputId": "7aee3de8-3e0a-4b59-8f89-59cbbffd808f"
   },
   "outputs": [
    {
     "name": "stdout",
     "output_type": "stream",
     "text": [
      "6의 눈이 2번 이하 나올 확률:  0.9838\n",
      "----------\n",
      "6의 눈이 2번 이하 나올 확률: 0.9838\n"
     ]
    }
   ],
   "source": [
    "import numpy as np\n",
    "import math\n",
    "import scipy.stats as stats\n",
    "from scipy.stats import binom\n",
    "\n",
    "a = binom.pmf(k=0, n=4, p=1/6) #동전던지기할 때 4번 중 0번 앞면이 나올 확률 결과\n",
    "b = binom.pmf(k=1, n=4, p=1/6)\n",
    "c = binom.pmf(k=2, n=4, p=1/6)\n",
    "answer = a+b+c\n",
    "print('6의 눈이 2번 이하 나올 확률: ',round(answer,4))\n",
    "\n",
    "print('-'*10)\n",
    "#chatgpt 풀이\n",
    "num_trials = 4  # 주사위를 던지는 횟수\n",
    "max_success = 2  # 6의 눈이 2번 이하 나올 경우의 수\n",
    "\n",
    "# 주사위의 눈이 6이 나올 확률\n",
    "prob_success = 1 / 6\n",
    "\n",
    "# 6의 눈이 0번, 1번, 2번일 때의 확률을 합산\n",
    "probability = sum(stats.binom.pmf(num_success, num_trials, prob_success) for num_success in range(max_success + 1))\n",
    "\n",
    "print('6의 눈이 2번 이하 나올 확률:', round(probability,4))"
   ]
  },
  {
   "cell_type": "markdown",
   "id": "s59eoavp",
   "metadata": {},
   "source": [
    "#### 동해"
   ]
  },
  {
   "cell_type": "markdown",
   "id": "ce90bd0a",
   "metadata": {},
   "source": [
    "- $p = 1/6$\n",
    "- $ q = 5/6$\n",
    "- $answer = 4C0*p^0*q^4 + 4C1*p^1*q^3 + 4C2*p^2*q^2$"
   ]
  },
  {
   "cell_type": "code",
   "execution_count": 14,
   "id": "2b3b532e",
   "metadata": {
    "ExecuteTime": {
     "end_time": "2023-08-30T09:43:29.665033Z",
     "start_time": "2023-08-30T09:43:29.655805Z"
    }
   },
   "outputs": [
    {
     "name": "stdout",
     "output_type": "stream",
     "text": [
      "공정한 주사위를 4번 덜질 때, 6의 눈이 2번 이하 나올 확률은 0.9837962962962965이다\n"
     ]
    }
   ],
   "source": [
    "import math\n",
    "p = 1/6\n",
    "q = 1-p\n",
    "answer = 0\n",
    "\n",
    "for i in range(3):\n",
    "    answer +=math.comb(4,i)*(p**i)*(q**(4-i))\n",
    "    \n",
    "print(f\"공정한 주사위를 4번 덜질 때, 6의 눈이 2번 이하 나올 확률은 {answer}이다\")"
   ]
  },
  {
   "cell_type": "markdown",
   "id": "3qck3a2d",
   "metadata": {},
   "source": [
    "#### 경주"
   ]
  },
  {
   "cell_type": "code",
   "execution_count": 51,
   "id": "3b08ea5b",
   "metadata": {},
   "outputs": [
    {
     "name": "stdout",
     "output_type": "stream",
     "text": [
      "6의 눈이 2번 이하 나올 확률: 0.9837962962962965\n"
     ]
    }
   ],
   "source": [
    "from math import comb\n",
    "\n",
    "p0 = (5/6)**4\n",
    "p1 = comb(4,1) * (1/6) * (5/6)**3\n",
    "p2 = comb(4, 2) * (1/6)**2 * (5/6)**2\n",
    "\n",
    "total = p0 + p1 + p2\n",
    "\n",
    "print(\"6의 눈이 2번 이하 나올 확률:\", total)"
   ]
  },
  {
   "cell_type": "markdown",
   "id": "j7cpb1b9",
   "metadata": {},
   "source": [
    "# @@@@@@@@@@@@@@@@@@@@@@@@@@@@@@"
   ]
  },
  {
   "cell_type": "markdown",
   "id": "7195d57a",
   "metadata": {},
   "source": [
    "7.6.20     \n",
    "사회과학자가 주장하기를 대학교에 입학할 능력이 있는 실업계 고등학생 중 50%만이 대학에 진학 한다고 한다. 만약 사회과학자의 주장이 맞다면 17명의 대학교에 입학할 능력이 있는 실업계 학생 중 10명이 대학교에 진학할 확률은 얼마인가? 또한 17명 중 대학교에 진학할 학생수의 기댓값은 얼마인가?"
   ]
  },
  {
   "cell_type": "markdown",
   "id": "y7flhbky",
   "metadata": {},
   "source": [
    "#### 인천"
   ]
  },
  {
   "cell_type": "markdown",
   "id": "zS6aCWClTgRv",
   "metadata": {
    "id": "zS6aCWClTgRv"
   },
   "source": [
    "진학할 확률이기 때문에 이항분포로 구한다.\n"
   ]
  },
  {
   "cell_type": "code",
   "execution_count": 29,
   "id": "lc0xlCxzQT2T",
   "metadata": {
    "colab": {
     "base_uri": "https://localhost:8080/"
    },
    "id": "lc0xlCxzQT2T",
    "outputId": "0235b9b8-b93a-4603-e59c-de761fd6060c"
   },
   "outputs": [
    {
     "name": "stdout",
     "output_type": "stream",
     "text": [
      "17명의 대학교에 입학할 능력이 있는 실업계 학생 중 10명이 대학교에 진학할 확률: 0.1484\n",
      "17명 중 대학교에 진학할 학생수의 기댓값: 8.5000\n"
     ]
    }
   ],
   "source": [
    "from scipy.stats import binom\n",
    "\n",
    "n = 17\n",
    "p = 0.5\n",
    "x = 10\n",
    "\n",
    "prob = binom.pmf(x, n, p)\n",
    "print(f\"17명의 대학교에 입학할 능력이 있는 실업계 학생 중 10명이 대학교에 진학할 확률: {prob:.4f}\")\n",
    "print(f\"17명 중 대학교에 진학할 학생수의 기댓값: {n*p:.4f}\")"
   ]
  },
  {
   "cell_type": "markdown",
   "id": "e3b0exvx",
   "metadata": {},
   "source": [
    "#### 경주"
   ]
  },
  {
   "cell_type": "code",
   "execution_count": 201,
   "id": "c9fbad12-3c0a-4236-908b-77628d80b97c",
   "metadata": {},
   "outputs": [
    {
     "name": "stdout",
     "output_type": "stream",
     "text": [
      "10명이 대학에 진학할 확률: 0.14837646484375\n",
      "기대값 8.5\n"
     ]
    }
   ],
   "source": [
    "from scipy.stats import binom\n",
    "\n",
    "n = 17  # 표본 크기\n",
    "p = 0.5  # 성공 확률\n",
    "x = 10  # 원하는 성공 횟수\n",
    "\n",
    "# 10명이 대학에 진학할 확률 계산\n",
    "p = binom.pmf(x, n, p)\n",
    "\n",
    "print(\"10명이 대학에 진학할 확률:\", p)\n",
    "print('기대값', 17*0.5)"
   ]
  },
  {
   "cell_type": "markdown",
   "id": "joio61hj",
   "metadata": {},
   "source": [
    "#### 여주"
   ]
  },
  {
   "cell_type": "code",
   "execution_count": 100,
   "id": "92b9263b-5493-4403-a7a1-499074067116",
   "metadata": {},
   "outputs": [
    {
     "name": "stdout",
     "output_type": "stream",
     "text": [
      "실업계 고등학생이 대학에 진학하는 학생 수는 이항분포를 따르며, 이 중 10명이 대학교에 진학할 확률은 0.14838, 대학교 진학의 기댓값은 8.5 이다.\n"
     ]
    }
   ],
   "source": [
    "p = 0.5\n",
    "n = 17\n",
    "\n",
    "print(f'실업계 고등학생이 대학에 진학하는 학생 수는 이항분포를 따르며, 이 중 10명이 대학교에 진학할 확률은 {round(stats.binom.pmf(10, n, p), 5)}, 대학교 진학의 기댓값은 {round(n*p, 5)} 이다.')"
   ]
  },
  {
   "cell_type": "markdown",
   "id": "bbt36oes",
   "metadata": {},
   "source": [
    "# @@@@@@@@@@@@@@@@@@@@@@@@@@@@@@"
   ]
  },
  {
   "cell_type": "markdown",
   "id": "0c254137",
   "metadata": {},
   "source": [
    "8.3.12    \n",
    "어느 회사에 입사를 희망한 지원자의 영어점수는 평균이 700이고 표준편차가 100인 정규분포를 따른다고 한다. 한 지원자의 점수가 다음과 같을 확률을 구하라\n",
    "(1)850점 이상의 점수를 받는다.    \n",
    "(2) 450점 이하의 점수를 받는다.    \n",
    "(3) 525점에서 875점 사이의 점수를 받는다.     "
   ]
  },
  {
   "cell_type": "markdown",
   "id": "v1zq8yyt",
   "metadata": {},
   "source": [
    "#### 인천"
   ]
  },
  {
   "cell_type": "markdown",
   "id": "gAFkiMcrTwjl",
   "metadata": {
    "id": "gAFkiMcrTwjl"
   },
   "source": [
    "정규분포의 누적분포함수를 이용해 구할 수 있다"
   ]
  },
  {
   "cell_type": "code",
   "execution_count": 23,
   "id": "c251eb48",
   "metadata": {
    "colab": {
     "base_uri": "https://localhost:8080/"
    },
    "id": "c251eb48",
    "outputId": "7ba8c0c1-a55b-44a0-f241-76db1a8a00d6"
   },
   "outputs": [
    {
     "name": "stdout",
     "output_type": "stream",
     "text": [
      "(1) 850점 이상의 점수를 받는 확률: 0.0668\n",
      "(2) 450점 이하의 점수를 받는 확률: 0.0062\n",
      "(3) 525점에서 875점 사이의 점수를 받는 확률: 0.9199\n"
     ]
    }
   ],
   "source": [
    "from scipy.stats import norm\n",
    "\n",
    "mu = 700\n",
    "sigma = 100\n",
    "\n",
    "# (1) 850점 이상의 점수를 받는 확률\n",
    "p1 = 1 - norm.cdf(850, loc=mu, scale=sigma)\n",
    "print(f\"(1) 850점 이상의 점수를 받는 확률: {p1:.4f}\")\n",
    "\n",
    "# (2) 450점 이하의 점수를 받는 확률\n",
    "p2 = norm.cdf(450, loc=mu, scale=sigma)\n",
    "print(f\"(2) 450점 이하의 점수를 받는 확률: {p2:.4f}\")\n",
    "\n",
    "# (3) 525점에서 875점 사이의 점수를 받는 확률\n",
    "p3 = norm.cdf(875, loc=mu, scale=sigma) - norm.cdf(525, loc=mu, scale=sigma)\n",
    "print(f\"(3) 525점에서 875점 사이의 점수를 받는 확률: {p3:.4f}\")"
   ]
  },
  {
   "cell_type": "markdown",
   "id": "x9z8frqi",
   "metadata": {},
   "source": [
    "#### 가평"
   ]
  },
  {
   "cell_type": "code",
   "execution_count": 1,
   "id": "80e08e1e",
   "metadata": {
    "ExecuteTime": {
     "end_time": "2023-08-30T01:12:22.628861Z",
     "start_time": "2023-08-30T01:12:22.192762Z"
    }
   },
   "outputs": [
    {
     "name": "stdout",
     "output_type": "stream",
     "text": [
      "(1) 850점 이상일 확률: 0.06680720126885809\n",
      "(2) 450점 이하일 확률: 0.006209665325776132\n",
      "(3) 525점에서 875점 사이일 확률: 0.9198816862723658\n"
     ]
    }
   ],
   "source": [
    "from scipy.stats import norm\n",
    "\n",
    "mean = 700\n",
    "std_dev = 100\n",
    "\n",
    "score1 = 850\n",
    "score2 = 450\n",
    "\n",
    "lower_bound = 525\n",
    "upper_bound = 875\n",
    "\n",
    "probability1 = 1 - norm.cdf(score1, mean, std_dev) # 1에서 850이하의 확률을 뺀 것\n",
    "probability2 = norm.cdf(score2, mean, std_dev)\n",
    "probability3 = norm.cdf(upper_bound, mean, std_dev) - norm.cdf(lower_bound, mean, std_dev)\n",
    "\n",
    "print(\"(1) 850점 이상일 확률:\", probability1) \n",
    "print(\"(2) 450점 이하일 확률:\", probability2)\n",
    "print(\"(3) 525점에서 875점 사이일 확률:\", probability3)"
   ]
  },
  {
   "cell_type": "markdown",
   "id": "oqo3c8t4",
   "metadata": {},
   "source": [
    "#### 경주"
   ]
  },
  {
   "cell_type": "code",
   "execution_count": 62,
   "id": "327117f9",
   "metadata": {},
   "outputs": [
    {
     "name": "stdout",
     "output_type": "stream",
     "text": [
      "(1) 850점 이상의 점수를 받는 확률: 0.06680720126885809\n",
      "(2) 450점 이하의 점수를 받는 확률: 0.006209665325776132\n",
      "(3) 525점에서 875점 사이의 점수를 받는 확률: 0.9198816862723658\n"
     ]
    }
   ],
   "source": [
    "from scipy.stats import norm\n",
    "\n",
    "mean = 700\n",
    "std = 100\n",
    "\n",
    "# (1) 850점 이상의 점수를 받는 확률\n",
    "p_850 = 1 - norm.cdf(850, mean, std)\n",
    "\n",
    "# (2) 450점 이하의 점수를 받는 확률\n",
    "p_450 = norm.cdf(450, mean, std)\n",
    "\n",
    "# (3) 525점에서 875점 사이의 점수를 받는 확률\n",
    "p_525_875 = norm.cdf(875, mean, std) - norm.cdf(525, mean, std)\n",
    "\n",
    "print(\"(1) 850점 이상의 점수를 받는 확률:\", p_850)\n",
    "print(\"(2) 450점 이하의 점수를 받는 확률:\", p_450)\n",
    "print(\"(3) 525점에서 875점 사이의 점수를 받는 확률:\", p_525_875)\n"
   ]
  },
  {
   "cell_type": "markdown",
   "id": "4kwliz5u",
   "metadata": {},
   "source": [
    "# @@@@@@@@@@@@@@@@@@@@@@@@@@@@@@"
   ]
  },
  {
   "cell_type": "markdown",
   "id": "85b91a80",
   "metadata": {},
   "source": [
    "8.3.14     \n",
    "의사들이 참고로 사용하는 어린이 성장표에 따르면 생후 2년 된 남아의 키는 평균이 88 cm이고 표준편차가 3.3 cm인 정규분포를 따른다고 한다. 만약 임의로 생후 2년 된 한 남아를 선택하였을 때, 키가 85.3 cm에서 93.2 cm 사이일 확률은 얼마인가?     "
   ]
  },
  {
   "cell_type": "markdown",
   "id": "49dqtrep",
   "metadata": {},
   "source": [
    "#### 세종"
   ]
  },
  {
   "cell_type": "code",
   "execution_count": 2,
   "id": "6ebf4fd6",
   "metadata": {},
   "outputs": [
    {
     "name": "stdout",
     "output_type": "stream",
     "text": [
      "0.7358324708035097\n"
     ]
    }
   ],
   "source": [
    "#정규분포를 따르는 남아의 키 N(88, 3.3^2)\n",
    "#임의로 선택하였을 때 키가 85.3 ~ 93.2 사이일 확률\n",
    "#구하고자 하는 (85.3, 93.2) 확률 값을 Z = (X - Mu) / S 를 활용하여 표준화하여 확률 계산\n",
    "\n",
    "from scipy.stats import norm\n",
    "\n",
    "mu = 88\n",
    "s = 3.3\n",
    "x1 = 85.3\n",
    "x2 = 93.2\n",
    "z_stat1 = (x1-mu)/s\n",
    "z_stat2 = (x2-mu)/s\n",
    "p = norm.cdf(z_stat2) - norm.cdf(z_stat1)\n",
    "print(p)"
   ]
  },
  {
   "cell_type": "markdown",
   "id": "iuzu0uux",
   "metadata": {},
   "source": [
    "#### 가평"
   ]
  },
  {
   "cell_type": "code",
   "execution_count": 2,
   "id": "04a75506",
   "metadata": {
    "ExecuteTime": {
     "end_time": "2023-08-30T01:15:11.240934Z",
     "start_time": "2023-08-30T01:15:11.235932Z"
    }
   },
   "outputs": [
    {
     "name": "stdout",
     "output_type": "stream",
     "text": [
      "85.3 cm에서 93.2 cm 사이일 확률: 0.7358324708035097\n"
     ]
    }
   ],
   "source": [
    "from scipy.stats import norm\n",
    "\n",
    "mean = 88\n",
    "std_dev = 3.3\n",
    "lower_bound = 85.3\n",
    "upper_bound = 93.2\n",
    "\n",
    "# 85.3 cm에서 93.2 cm 사이일 확률 계산 (상위 구간 - 하위 구간)\n",
    "probability = norm.cdf(upper_bound, mean, std_dev) - norm.cdf(lower_bound, mean, std_dev)\n",
    "\n",
    "print(\"85.3 cm에서 93.2 cm 사이일 확률:\", probability)"
   ]
  },
  {
   "cell_type": "markdown",
   "id": "0kew5e7a",
   "metadata": {},
   "source": [
    "#### 경주"
   ]
  },
  {
   "cell_type": "code",
   "execution_count": 63,
   "id": "ea91fe6e",
   "metadata": {},
   "outputs": [
    {
     "name": "stdout",
     "output_type": "stream",
     "text": [
      "키가 85.3 cm에서 93.2 cm 사이일 확률: 0.7358324708035097\n"
     ]
    }
   ],
   "source": [
    "from scipy.stats import norm\n",
    "\n",
    "mean = 88\n",
    "std = 3.3\n",
    "\n",
    "p = norm.cdf(93.2, mean, std) - norm.cdf(85.3, mean, std)\n",
    "\n",
    "print(\"키가 85.3 cm에서 93.2 cm 사이일 확률:\", p)\n"
   ]
  },
  {
   "cell_type": "markdown",
   "id": "zhs9lzbv",
   "metadata": {},
   "source": [
    "# @@@@@@@@@@@@@@@@@@@@@@@@@@@@@@"
   ]
  },
  {
   "cell_type": "markdown",
   "id": "d76ffe67",
   "metadata": {},
   "source": [
    "8.3.16     \n",
    "어느 과수원에서 수확한 사과의 무게는 평균이 341.7 g이고 표준편차가 31.2 g인 정규분포를 따른다고 한다.    \n",
    "이 과수원에서 수확한 사과의 무게가 313.4 g보다 작을 확률은 얼마인가?      "
   ]
  },
  {
   "cell_type": "markdown",
   "id": "he2wivkp",
   "metadata": {},
   "source": [
    "#### 경주"
   ]
  },
  {
   "cell_type": "code",
   "execution_count": 64,
   "id": "e144143d",
   "metadata": {},
   "outputs": [
    {
     "name": "stdout",
     "output_type": "stream",
     "text": [
      "과수원에서 수확한 사과의 무게가 313.4 g보다 작을 확률 0.1821898395608355\n"
     ]
    }
   ],
   "source": [
    "m = 341.7\n",
    "std = 31.2\n",
    "\n",
    "print('과수원에서 수확한 사과의 무게가 313.4 g보다 작을 확률', norm.cdf(313.4, 341.7, 31.2))"
   ]
  },
  {
   "cell_type": "markdown",
   "id": "80hse1nc",
   "metadata": {},
   "source": [
    "#### 여주"
   ]
  },
  {
   "cell_type": "code",
   "execution_count": 76,
   "id": "c219f29c",
   "metadata": {},
   "outputs": [
    {
     "name": "stdout",
     "output_type": "stream",
     "text": [
      "사과의 무게 X ~ N(341.7, 31.2)\n",
      "P(X < 313.4)=0.18219\n"
     ]
    }
   ],
   "source": [
    "print('사과의 무게 X ~ N(341.7, 31.2)')\n",
    "print(f'P(X < 313.4)={round(stats.norm.cdf(x=313.4, loc=341.7, scale=31.2), 5)}')"
   ]
  },
  {
   "cell_type": "markdown",
   "id": "zdi54iam",
   "metadata": {},
   "source": [
    "#### 울산"
   ]
  },
  {
   "cell_type": "code",
   "execution_count": 3,
   "id": "2f40efe1",
   "metadata": {},
   "outputs": [
    {
     "name": "stdout",
     "output_type": "stream",
     "text": [
      "문제를 계산하기 위해서는 누적분포함수(cdf)를 사용해아한다.\n",
      "가설은 다음과 같이 세울 수 있다.\n",
      "H0 : 수확한 사과의 무게가 차이가 없다\n",
      "H1 : 수확한 사과의 무게가 작다\n",
      "313.4g보다 작을 확률:, 0.1821898395608355\n"
     ]
    }
   ],
   "source": [
    "print(\"문제를 계산하기 위해서는 누적분포함수(cdf)를 사용해아한다.\\n가설은 다음과 같이 세울 수 있다.\")\n",
    "print(\"H0 : 수확한 사과의 무게가 차이가 없다\\nH1 : 수확한 사과의 무게가 작다\")\n",
    "\n",
    "from scipy.stats import norm\n",
    "\n",
    "mean = 341.7\n",
    "sd = 31.2\n",
    "mu = 313.4\n",
    "\n",
    "answer = norm.cdf(mu, mean, sd)\n",
    "\n",
    "print('\\n313.4g보다 작을 확률:,', answer)"
   ]
  },
  {
   "cell_type": "markdown",
   "id": "l6mviud1",
   "metadata": {},
   "source": [
    "# @@@@@@@@@@@@@@@@@@@@@@@@@@@@@@"
   ]
  },
  {
   "cell_type": "markdown",
   "id": "e1d12417",
   "metadata": {},
   "source": [
    "8.3.18     \n",
    "정부의 보고서에 따르면 성인 남자의 키는 평균이 175.3 cm이고 표준편차가 7.1 cm인 정규분포 를 따른다고 한다. 한 의류회사에서는 남자들의 키 가운데 80%를 목표로 하여 제품을 생산하려고 한다. 이들이 목표로 세우려는 키의 범위를 구하라.      "
   ]
  },
  {
   "cell_type": "markdown",
   "id": "4km2lrot",
   "metadata": {},
   "source": [
    "#### 양구"
   ]
  },
  {
   "cell_type": "code",
   "execution_count": 25,
   "id": "d8de2ebd",
   "metadata": {},
   "outputs": [
    {
     "name": "stdout",
     "output_type": "stream",
     "text": [
      "166.2  ~  184.4\n"
     ]
    }
   ],
   "source": [
    "import scipy.stats as stats\n",
    "\n",
    "alpha = 0.2\n",
    "\n",
    "Z_score = stats.norm.ppf(1 - (alpha) / 2)\n",
    "\n",
    "mu = 175.3\n",
    "std = 7.1\n",
    "limit = Z_score*std\n",
    "\n",
    "print (round(mu - limit,2),' ~ ',round(mu + limit,2))"
   ]
  },
  {
   "cell_type": "markdown",
   "id": "qqnsgdfu",
   "metadata": {},
   "source": [
    "#### 경주"
   ]
  },
  {
   "cell_type": "code",
   "execution_count": 216,
   "id": "48a5f8c2",
   "metadata": {},
   "outputs": [
    {
     "name": "stdout",
     "output_type": "stream",
     "text": [
      "목표로 하는 키의 범위: 166.20098388463336 cm부터 184.39901611536666 cm까지\n"
     ]
    }
   ],
   "source": [
    "from scipy.stats import norm\n",
    "\n",
    "mean = 175.3  # 평균\n",
    "std_dev = 7.1  # 표준편차\n",
    "\n",
    "z_lower = norm.ppf(0.10)\n",
    "\n",
    "z_upper = norm.ppf(0.90)\n",
    "\n",
    "lower_limit = mean + z_lower * std_dev\n",
    "upper_limit = mean + z_upper * std_dev\n",
    "\n",
    "print(\"목표로 하는 키의 범위:\", lower_limit, \"cm부터\", upper_limit, \"cm까지\")"
   ]
  },
  {
   "cell_type": "markdown",
   "id": "eugs2qt0",
   "metadata": {},
   "source": [
    "#### 수원"
   ]
  },
  {
   "cell_type": "code",
   "execution_count": 8,
   "id": "962cca60",
   "metadata": {},
   "outputs": [
    {
     "name": "stdout",
     "output_type": "stream",
     "text": [
      "키는 181.2755 보다 작거나 같아야 한다\n"
     ]
    }
   ],
   "source": [
    "#남자들의 키가운데 80%이상을 충족시키는 것을 목표로해서 제품생산을 목표로하는거 같다\n",
    "#그렇다면 80% 되는 점의 정규분포값을 구해야 한다\n",
    "\n",
    "from scipy.stats import norm\n",
    "\n",
    "mu= 175.3 # 평균\n",
    "std=7.1 #표준편차\n",
    "\n",
    "z_score = norm.ppf(0.8)\n",
    "result = z_score*std+mu\n",
    "print('키는', round(result,4), '보다 작거나 같아야 한다')\n"
   ]
  },
  {
   "cell_type": "markdown",
   "id": "4qlxb47i",
   "metadata": {},
   "source": [
    "# @@@@@@@@@@@@@@@@@@@@@@@@@@@@@@"
   ]
  },
  {
   "cell_type": "markdown",
   "id": "2c989362",
   "metadata": {},
   "source": [
    "8.4.8     \n",
    "미국인 나이의 중앙값이 32.3세라고 한다. 만약 200명을 임의로 선택하여 조사하였을 때, 선택된\n",
    "사람 중에 적어도 110명의 나이가 32.3세 이하일 근사확률은 얼마인가?"
   ]
  },
  {
   "cell_type": "markdown",
   "id": "601w83g5",
   "metadata": {},
   "source": [
    "#### 강릉"
   ]
  },
  {
   "cell_type": "code",
   "execution_count": 159,
   "id": "ac016ed2",
   "metadata": {},
   "outputs": [
    {
     "name": "stdout",
     "output_type": "stream",
     "text": [
      "적어도 110명의 나이가 32.3세 이하일 근사확률: 0.0895\n"
     ]
    }
   ],
   "source": [
    "#보라색 241쪽\n",
    "\n",
    "# #이항분포의 근사확률\n",
    "# #X~Bin(200,0.5)\n",
    "\n",
    "import scipy.stats as stats\n",
    "\n",
    "n = 200  # 시행 횟수 (선택된 사람 수)\n",
    "p = 0.5  # 각 시행에서 32.3세 이하일 확률\n",
    "k = 110  # 성공 횟수 (적어도 110명이 32.3세 이하일 경우)\n",
    "\n",
    "# 이항 분포의 누적 분포 함수를 사용하여 근사확률 계산\n",
    "approx_probability = 1 - stats.binom.cdf(k - 1, n, p)\n",
    "\n",
    "print(f\"적어도 {k}명의 나이가 32.3세 이하일 근사확률: {approx_probability:.4f}\")\n",
    "\n"
   ]
  },
  {
   "cell_type": "markdown",
   "id": "s98m928m",
   "metadata": {},
   "source": [
    "#### 경주"
   ]
  },
  {
   "cell_type": "code",
   "execution_count": 76,
   "id": "8be4e01e-6240-4558-b847-131079922057",
   "metadata": {},
   "outputs": [
    {
     "name": "stdout",
     "output_type": "stream",
     "text": [
      "선택된 사람 중에 적어도 110명의 나이가 32.3세 이하일 근사확률: 0.08948201976662562\n"
     ]
    }
   ],
   "source": [
    "from scipy.stats import binom\n",
    "\n",
    "n = 200  # 전체 선택된 사람 수\n",
    "p = 0.5  # 32.3세 이하의 나이를 가지는 확률 (0.5로 근사)\n",
    "k = 110  # 적어도 110명의 나이가 32.3세 이하일 경우\n",
    "\n",
    "prob_at_least_110 = 1 - binom.cdf(k - 1, n, p)\n",
    "print(\"선택된 사람 중에 적어도 110명의 나이가 32.3세 이하일 근사확률:\", prob_at_least_110)\n"
   ]
  },
  {
   "cell_type": "markdown",
   "id": "q2w7d3i7",
   "metadata": {},
   "source": [
    "#### 울산"
   ]
  },
  {
   "cell_type": "code",
   "execution_count": 5,
   "id": "9aeecbfe",
   "metadata": {},
   "outputs": [
    {
     "name": "stdout",
     "output_type": "stream",
     "text": [
      "중앙값보다 나이가 32.3세 이하인 사람을 \"성공\", 초과인 사람을 \"실패\"로 설정한 이항분포를 사용하여 풀 수 있다.\n",
      "성공인 확률을 p라고 할 때, 200명 중에서 110명의 나이가 32.3세 이하일 확률은 다음과 같이 구할 수 있다.\n",
      "\n",
      "32.3이하일 확률 0.9999999487558143\n"
     ]
    }
   ],
   "source": [
    "print('중앙값보다 나이가 32.3세 이하인 사람을 \"성공\", 초과인 사람을 \"실패\"로 설정한 이항분포를 사용하여 풀 수 있다.')\n",
    "print('성공인 확률을 p라고 할 때, 200명 중에서 110명의 나이가 32.3세 이하일 확률은 다음과 같이 구할 수 있다.')\n",
    "\n",
    "from scipy.stats import binom\n",
    "\n",
    "medain = 32.3\n",
    "n0 = 200\n",
    "n1 = 110\n",
    "mu = 32.3\n",
    "\n",
    "probability = mu / 100  # 확률로 변환\n",
    "\n",
    "# 이항 분포의 누적 분포 함수를 이용하여 확률 계산\n",
    "answer = 1 - binom.cdf(mu - 1, n0, probability)\n",
    "\n",
    "print(\"\\n32.3이하일 확률\", answer)\n"
   ]
  },
  {
   "cell_type": "markdown",
   "id": "bqxqjlrg",
   "metadata": {},
   "source": [
    "# @@@@@@@@@@@@@@@@@@@@@@@@@@@@@@"
   ]
  },
  {
   "cell_type": "markdown",
   "id": "366dcb4f",
   "metadata": {},
   "source": [
    "8.4.10     \n",
    "조사결과 96%의 사람이 지난 5년 동안 폭력이 증가하였다고 생각한다. 즉 50명을 임의로 선택하 여 조사한 결과 48명의 사람이 지난 5년간 폭력이 증가하였다고 대답하였다. 이때 X를 폭력이 증 가하였다고 대답하는 사람의 수라고 할 때, X를 정규분포로 근사시키는 것이 적당한지에 대해 논 하라"
   ]
  },
  {
   "cell_type": "markdown",
   "id": "vzze0msv",
   "metadata": {},
   "source": [
    "# @@@@@@@@@@@@@@@@@@@@@@@@@@@@@@"
   ]
  },
  {
   "cell_type": "markdown",
   "id": "942bc4b1",
   "metadata": {},
   "source": [
    "8.4.12    \n",
    "어떤 사무실에서는 1주일에 교통비로 쓰는 돈의 평균이 25만 원이고 표준편차가 4만 원이라고 한 다. 한 해에 교통비로 27만 원 이상 쓰게 되는 주가 20주 이상이 될 확률을 구하라."
   ]
  },
  {
   "cell_type": "markdown",
   "id": "fpi7i12v",
   "metadata": {},
   "source": [
    "#### 정읍"
   ]
  },
  {
   "cell_type": "code",
   "execution_count": 10,
   "id": "9ea2f927",
   "metadata": {},
   "outputs": [
    {
     "name": "stdout",
     "output_type": "stream",
     "text": [
      "정답: 0.14988935895530742\n"
     ]
    }
   ],
   "source": [
    "z=(27-25)/4\n",
    "#p값이 한해 교통비로 27만원 이상 소비될 확률\n",
    "p=1-stats.norm.cdf(z)\n",
    "result=1-stats.binom(52,p).cdf(19)\n",
    "print('정답:', result)"
   ]
  },
  {
   "cell_type": "markdown",
   "id": "9im0qt4q",
   "metadata": {},
   "source": [
    "#### 포항"
   ]
  },
  {
   "cell_type": "code",
   "execution_count": 62,
   "id": "5f4ec455",
   "metadata": {},
   "outputs": [
    {
     "name": "stdout",
     "output_type": "stream",
     "text": [
      "답 :  0.1499\n",
      "교통비로 27만원 이상 쓸 확률 :  0.309\n"
     ]
    }
   ],
   "source": [
    "#답은 0.1496??? 오타이길 기도합니다.\n",
    "\n",
    "# 교통비는 연속적인 확률류변수로 정규분포로 풀어야함(평균과 표준편차)\n",
    "# 20주 이상 될 확률은 이항분포임. 쓴다/안쓴다\n",
    "# 또한 여기서는 누적분포(cdf)를 사용하였는데 교통비로 27만원 이상쓴다, 사용하는 주가 20주 이상이 된다 등 어떤 범위를 볼때는 누적분포를 사용함\n",
    "\n",
    "from scipy.stats import *\n",
    "\n",
    "k = 27 # 27만원 이상 사용\n",
    "mean = 25 # 평균\n",
    "std = 4 # 표준편차\n",
    "n = 52 # 1년 52주 365/7 = 52.14\n",
    "w = 20 # 20주 이상\n",
    "\n",
    "single_week = 1 - norm.cdf(k, mean, std) #1주일에 교통비로 27만원 이상 쓰는 확률\n",
    "\n",
    "result = 1 - binom.cdf(w-1, n, single_week) # 20주 이상 교통비를 쓸 확률 (19주까지를 누적으로 뽑고 1을 뺴주면 됨)\n",
    "\n",
    "print('답 : ', result.round(4))\n",
    "print('교통비로 27만원 이상 쓸 확률 : ', single_week.round(3))"
   ]
  },
  {
   "cell_type": "markdown",
   "id": "jspzpqy6",
   "metadata": {},
   "source": [
    "#### 경주"
   ]
  },
  {
   "cell_type": "code",
   "execution_count": 79,
   "id": "a27d0eab",
   "metadata": {},
   "outputs": [
    {
     "name": "stdout",
     "output_type": "stream",
     "text": [
      "주가 20주 이상이 될 확률: 2.2847193044977175e-154\n"
     ]
    }
   ],
   "source": [
    "from scipy.stats import norm\n",
    "\n",
    "mean_per_week = 25  # 평균 교통비 (만 원)\n",
    "std_dev_per_week = 4  # 표준편차 (만 원)\n",
    "weeks_required = 20  # 주가 20주 이상이어야 하는 경우\n",
    "threshold_total = 27  # 총 교통비 임계값 (만 원)\n",
    "\n",
    "# 주당 교통비의 평균과 표준편차 계산\n",
    "mean_total = mean_per_week * weeks_required\n",
    "std_dev_total = std_dev_per_week * (weeks_required ** 0.5)\n",
    "\n",
    "# 주가 20주 이상이 될 확률 계산\n",
    "prob_above_270 = norm.cdf(threshold_total, mean_total, std_dev_total)\n",
    "\n",
    "print(\"주가 20주 이상이 될 확률:\", prob_above_270)\n",
    "\n",
    "1 -"
   ]
  },
  {
   "cell_type": "markdown",
   "id": "8ae41klb",
   "metadata": {},
   "source": [
    "# @@@@@@@@@@@@@@@@@@@@@@@@@@@@@@"
   ]
  },
  {
   "cell_type": "markdown",
   "id": "0785af97",
   "metadata": {},
   "source": [
    "8.4.16     \n",
    "어떤 사람의 전화 통화시간은 평균이 80초이고 표준편차가 15초인 정규분포를 따른다고 한다. 이 사람이 100번 통화했을 때, 100번 통화 중 통화시간이 92초 이상인 횟수가 25번 이상일 확률을 구하라."
   ]
  },
  {
   "cell_type": "markdown",
   "id": "ysdwj825",
   "metadata": {},
   "source": [
    "#### 인천"
   ]
  },
  {
   "cell_type": "markdown",
   "id": "WzcTnmFpOMUf",
   "metadata": {
    "id": "WzcTnmFpOMUf"
   },
   "source": [
    "답이 0.1762가 안나오는데 이유를 모르겠네요\n",
    "\n",
    "z = 평균-모평균/표준편차\n",
    "\n",
    "이를 이항분포로 25번 이상일 확률을 구한다."
   ]
  },
  {
   "cell_type": "code",
   "execution_count": 22,
   "id": "-OeDbTIQGjxw",
   "metadata": {
    "colab": {
     "base_uri": "https://localhost:8080/"
    },
    "id": "-OeDbTIQGjxw",
    "outputId": "5c90c9be-dba8-4e9f-9644-83f6d79bf7d0"
   },
   "outputs": [
    {
     "name": "stdout",
     "output_type": "stream",
     "text": [
      "전화 통화시간이 92초 이상인 횟수가 25번 이상일 확률은 약 20.63%입니다.\n"
     ]
    }
   ],
   "source": [
    "from scipy.stats import norm, binom\n",
    "\n",
    "mu = 80\n",
    "sigma = 15\n",
    "p = 1 - norm.cdf((92 - mu) / sigma)\n",
    "n = 100\n",
    "k = 25\n",
    "prob = 1 - binom.cdf(k - 1, n, p)\n",
    "print(f\"전화 통화시간이 92초 이상인 횟수가 {k}번 이상일 확률은 약 {prob * 100:.2f}%입니다.\")"
   ]
  },
  {
   "cell_type": "markdown",
   "id": "wc1hsdpw",
   "metadata": {},
   "source": [
    "#### 경주"
   ]
  },
  {
   "cell_type": "code",
   "execution_count": 222,
   "id": "466a803d",
   "metadata": {},
   "outputs": [
    {
     "name": "stdout",
     "output_type": "stream",
     "text": [
      "100번 통화 중 통화시간이 92초 이상인 횟수가 25번 이상일 확률: 0.9998771336100348\n"
     ]
    }
   ],
   "source": [
    "from scipy.stats import norm\n",
    "\n",
    "mean = 80  # 평균\n",
    "std_dev = 15  # 표준편차\n",
    "n = 100  # 통화 횟수\n",
    "k = 25  # 통화시간이 92초 이상인 횟수\n",
    "\n",
    "# 정규 분포의 누적 분포 함수를 이용하여 확률 계산\n",
    "prob = 1 - norm.cdf(92, mean, std_dev / (n ** 0.5))\n",
    "\n",
    "print(\"100번 통화 중 통화시간이 92초 이상인 횟수가 25번 이상일 확률:\", prob)\n"
   ]
  },
  {
   "cell_type": "markdown",
   "id": "voc4beel",
   "metadata": {},
   "source": [
    "# @@@@@@@@@@@@@@@@@@@@@@@@@@@@@@"
   ]
  },
  {
   "cell_type": "markdown",
   "id": "1ad60f7f",
   "metadata": {},
   "source": [
    "8.6.12     \n",
    "어떤 순간접착제의 접착력은 평균이 50 kg이고 표준편차가 4 kg인 정규분포를 따른다고 한다. 이 순간접착제를 49 kg의 힘으로 실험할 때, 떨어질 확률은 얼마인가?"
   ]
  },
  {
   "cell_type": "markdown",
   "id": "szuxzzhw",
   "metadata": {},
   "source": [
    "#### 강릉"
   ]
  },
  {
   "cell_type": "code",
   "execution_count": 46,
   "id": "905655de",
   "metadata": {},
   "outputs": [
    {
     "name": "stdout",
     "output_type": "stream",
     "text": [
      "49kg의 힘으로 실험할때 떨어질 확률은 0.4013이다.\n"
     ]
    }
   ],
   "source": [
    "from scipy import stats\n",
    "Pr=stats.norm.cdf(loc=50,scale=4,x=49)\n",
    "print(f\"49kg의 힘으로 실험할때 떨어질 확률은 {Pr:.4f}이다.\")"
   ]
  },
  {
   "cell_type": "markdown",
   "id": "c941xn27",
   "metadata": {},
   "source": [
    "#### 경주"
   ]
  },
  {
   "cell_type": "code",
   "execution_count": 223,
   "id": "21422aa0",
   "metadata": {},
   "outputs": [
    {
     "name": "stdout",
     "output_type": "stream",
     "text": [
      "떨어질 확률: 0.4012936743170763\n"
     ]
    }
   ],
   "source": [
    "from scipy.stats import norm\n",
    "\n",
    "mean = 50  # 평균\n",
    "std_dev = 4  # 표준편차\n",
    "x = 49  # 특정 값\n",
    "\n",
    "# 정규 분포의 누적 분포 함수를 이용하여 확률 계산\n",
    "prob = norm.cdf(x, mean, std_dev)\n",
    "\n",
    "print(\"떨어질 확률:\", prob)\n"
   ]
  },
  {
   "cell_type": "markdown",
   "id": "918x6ym1",
   "metadata": {},
   "source": [
    "#### 평창"
   ]
  },
  {
   "cell_type": "code",
   "execution_count": 13,
   "id": "b08f7864",
   "metadata": {},
   "outputs": [
    {
     "name": "stdout",
     "output_type": "stream",
     "text": [
      "정답: 0.4012936743170763\n"
     ]
    }
   ],
   "source": [
    "from scipy.stats import norm\n",
    "z = (49-50)/4\n",
    "\n",
    "print('정답:',norm.cdf(z))"
   ]
  },
  {
   "cell_type": "markdown",
   "id": "csibossq",
   "metadata": {},
   "source": [
    "# @@@@@@@@@@@@@@@@@@@@@@@@@@@@@@"
   ]
  },
  {
   "cell_type": "markdown",
   "id": "80f7d84f",
   "metadata": {},
   "source": [
    "8.6.18     \n",
    "세금 청구서에 대해 9%가 연체된다고 한다. 2만 개의 청구서가 발행되었을 때, 다음의 확률을 구하라     \n",
    "(1) 1750개 미만의 청구서가 연체된다. (2) 2000개 이상의 청구서가 연체된다."
   ]
  },
  {
   "cell_type": "markdown",
   "id": "jfn3hym0",
   "metadata": {},
   "source": [
    "#### 인천"
   ]
  },
  {
   "cell_type": "markdown",
   "id": "WMhcWlphUYVu",
   "metadata": {
    "id": "WMhcWlphUYVu"
   },
   "source": [
    "이항분포로 구할 수 있다"
   ]
  },
  {
   "cell_type": "code",
   "execution_count": 26,
   "id": "b2225bc7",
   "metadata": {
    "colab": {
     "base_uri": "https://localhost:8080/"
    },
    "id": "b2225bc7",
    "outputId": "3e6845a6-e2b1-4766-b353-2656eaa44ebd"
   },
   "outputs": [
    {
     "name": "stdout",
     "output_type": "stream",
     "text": [
      "(1) 1750개 미만의 청구서가 연체된다: 0.1057\n",
      "(2) 2000개 이상의 청구서가 연체된다: 0.0000\n"
     ]
    }
   ],
   "source": [
    "from scipy.stats import binom\n",
    "\n",
    "n = 20000\n",
    "p = 0.09\n",
    "\n",
    "# (1) 1750개 미만의 청구서가 연체된다.\n",
    "p1 = binom.cdf(1749, n, p)\n",
    "print(f\"(1) 1750개 미만의 청구서가 연체된다: {p1:.4f}\")\n",
    "\n",
    "# (2) 2000개 이상의 청구서가 연체된다.\n",
    "p2 = 1 - binom.cdf(1999, n, p)\n",
    "print(f\"(2) 2000개 이상의 청구서가 연체된다: {p2:.4f}\")"
   ]
  },
  {
   "cell_type": "markdown",
   "id": "fkcbyp7g",
   "metadata": {},
   "source": [
    "#### 세종"
   ]
  },
  {
   "cell_type": "code",
   "execution_count": 25,
   "id": "a0bda545",
   "metadata": {},
   "outputs": [
    {
     "name": "stdout",
     "output_type": "stream",
     "text": [
      "0.5348629572837154\n",
      "0.539827837277029\n"
     ]
    }
   ],
   "source": [
    "*못푼문제\n",
    "\n",
    "\n",
    "# 연체율 9% : 모비율 / 연체하지 않을 확률 : 91%\n",
    "# 모집단의 크기 : 20000개\n",
    "# (1) 표본의 크기 : 1750 개 미만 (2) 2000개 이상\n",
    "# 표본비율\n",
    "\n",
    "d = 0.09\n",
    "p1 = 1750 / 20000\n",
    "p2 = 2000 / 20000\n",
    "\n",
    "pp1 = norm.cdf(p1)\n",
    "pp2 = norm.cdf(p2)\n",
    "print(pp1)\n",
    "print(pp2)"
   ]
  },
  {
   "cell_type": "markdown",
   "id": "16w25w4i",
   "metadata": {},
   "source": [
    "#### 경주"
   ]
  },
  {
   "cell_type": "code",
   "execution_count": 224,
   "id": "aad81bcd",
   "metadata": {},
   "outputs": [
    {
     "name": "stdout",
     "output_type": "stream",
     "text": [
      "(1) 1750개 미만의 청구서가 연체된다 확률: 0.10570551170819793\n",
      "(2) 2000개 이상의 청구서가 연체된다 확률: 6.042136681073888e-07\n"
     ]
    },
    {
     "name": "stderr",
     "output_type": "stream",
     "text": [
      "C:\\Users\\seahe\\anaconda\\lib\\site-packages\\scipy\\stats\\_discrete_distns.py:67: RuntimeWarning: divide by zero encountered in _binom_pdf\n",
      "  return _boost._binom_pdf(x, n, p)\n"
     ]
    }
   ],
   "source": [
    "from scipy.stats import binom #***\n",
    "\n",
    "n = 20000  # 청구서 개수\n",
    "p = 0.09   # 연체 확률\n",
    "\n",
    "# (1) 1750개 미만의 청구서가 연체된다\n",
    "prob_less_than_1750 = sum(binom.pmf(k, n, p) for k in range(1750))\n",
    "\n",
    "# (2) 2000개 이상의 청구서가 연체된다\n",
    "prob_2000_or_more = sum(binom.pmf(k, n, p) for k in range(2000, n+1))\n",
    "\n",
    "print(\"(1) 1750개 미만의 청구서가 연체된다 확률:\", prob_less_than_1750)\n",
    "print(\"(2) 2000개 이상의 청구서가 연체된다 확률:\", prob_2000_or_more)\n"
   ]
  },
  {
   "cell_type": "markdown",
   "id": "ajlb3ri3",
   "metadata": {},
   "source": [
    "# @@@@@@@@@@@@@@@@@@@@@@@@@@@@@@"
   ]
  },
  {
   "cell_type": "markdown",
   "id": "a572a28c",
   "metadata": {},
   "source": [
    "9.3.8     \n",
    "어느 포장기계를 이용하여 생산한 제품의 무게는 평균은 기계를 세팅한 값이며, 표준편차는 4 g인 정규분포를 따른다고 한다. 다음 물음에 답하라.     \n",
    "(1) 기계를 120 g으로 세팅했을 때, 25개 표본의 평균 무게가 119 g 이상일 확률을 구하라.     \n",
    "(2) 25개 표본의 평균 무게가 118 g 이상일 확률이 0.95가 되기 위해서는 이 기계를 몇 g으로 세팅하여야 하는가?"
   ]
  },
  {
   "cell_type": "markdown",
   "id": "h6g6wxlp",
   "metadata": {},
   "source": [
    "#### 세종"
   ]
  },
  {
   "cell_type": "code",
   "execution_count": 27,
   "id": "9c21ff5d",
   "metadata": {},
   "outputs": [
    {
     "data": {
      "text/plain": [
       "2.6952500812001938e-211"
      ]
     },
     "execution_count": 27,
     "metadata": {},
     "output_type": "execute_result"
    }
   ],
   "source": [
    "*못푼문제\n",
    "\n",
    "\n",
    "# (1) N(120, 4^2)\n",
    "z = 119-120/(4/5)\n",
    "\n",
    "# (2) \n"
   ]
  },
  {
   "cell_type": "markdown",
   "id": "gk2epjkh",
   "metadata": {},
   "source": [
    "#### 창원"
   ]
  },
  {
   "cell_type": "code",
   "execution_count": 12,
   "id": "fa31a4f0",
   "metadata": {},
   "outputs": [
    {
     "name": "stdout",
     "output_type": "stream",
     "text": [
      "0.8943502263331446\n"
     ]
    }
   ],
   "source": [
    "# 정규분포\n",
    "# N(120, 4), 25개 표본의 평균 모게가 119g이상\n",
    "import numpy as np\n",
    "std = 4\n",
    "n = 25\n",
    "mean = 120\n",
    "H0 = 119\n",
    "\n",
    "# 표준오차 계산 Z값 계산\n",
    "standard_error = std / np.sqrt(n)\n",
    "Z_score = (H0 - mean) / standard_error\n",
    "prob = 1 - stats.norm.cdf(Z_score)\n",
    "print(prob)"
   ]
  },
  {
   "cell_type": "code",
   "execution_count": 13,
   "id": "9859945c-c927-45cc-a44c-54dc3ad8cadc",
   "metadata": {},
   "outputs": [
    {
     "name": "stdout",
     "output_type": "stream",
     "text": [
      "1.315882901561178\n"
     ]
    }
   ],
   "source": [
    "# 표본 평균 구하기.\n",
    "n = 25\n",
    "H0 = 118\n",
    "cl = 0.95\n",
    "std = 4\n",
    "\n",
    "# 요구 확률 구하기.\n",
    "Z_score = stats.norm.ppf(0.95)\n",
    "# 표본평균 구하기.\n",
    "sample_mean = Z_score * (std/np.sqrt(n))\n",
    "\n",
    "print(sample_mean)"
   ]
  },
  {
   "cell_type": "code",
   "execution_count": 14,
   "id": "c7ece941-0dcf-4a6d-8dbe-ab3ffc1da39b",
   "metadata": {},
   "outputs": [
    {
     "name": "stdout",
     "output_type": "stream",
     "text": [
      "Z-score: 1.6448536269514722\n",
      "Machine Setting: 1.315882901561178\n"
     ]
    }
   ],
   "source": [
    "import scipy.stats as stats\n",
    "\n",
    "desired_probability = 0.95\n",
    "population_std_dev = 4\n",
    "z_score = stats.norm.ppf(desired_probability)\n",
    "machine_setting = z_score * (population_std_dev / (25 ** 0.5))\n",
    "\n",
    "print(\"Z-score:\", z_score)\n",
    "print(\"Machine Setting:\", machine_setting)"
   ]
  },
  {
   "cell_type": "markdown",
   "id": "uaxr4a3f",
   "metadata": {},
   "source": [
    "#### 경주"
   ]
  },
  {
   "cell_type": "code",
   "execution_count": 227,
   "id": "38398259",
   "metadata": {},
   "outputs": [
    {
     "name": "stdout",
     "output_type": "stream",
     "text": [
      "(1) 25개 표본의 평균 무게가 119 g 이상일 확률: 0.8943502263331446\n",
      "(2) 기계를 세팅하기 위해 필요한 평균 무게: 120.31588290156118\n"
     ]
    }
   ],
   "source": [
    "from scipy.stats import norm\n",
    "\n",
    "mean = 120  # 원래 분포의 평균\n",
    "std = 0.8  # 표본 평균의 분포의 표준편차\n",
    "sample = 119  # 표본 평균 임계값\n",
    "\n",
    "# 25개 표본의 평균 무게가 119 g 이상일 확률 계산\n",
    "p = 1 - norm.cdf(sample, mean, std)\n",
    "z_score = norm.ppf(0.95)\n",
    "\n",
    "# 기계를 세팅할 값인 평균 계산\n",
    "required_mean = sample + z_score * std\n",
    "\n",
    "print(\"(1) 25개 표본의 평균 무게가 119 g 이상일 확률:\", p)\n",
    "print(\"(2) 기계를 세팅하기 위해 필요한 평균 무게:\", required_mean)"
   ]
  },
  {
   "cell_type": "markdown",
   "id": "d2w57uec",
   "metadata": {},
   "source": [
    "# @@@@@@@@@@@@@@@@@@@@@@@@@@@@@@"
   ]
  },
  {
   "cell_type": "markdown",
   "id": "05bbf7bc",
   "metadata": {},
   "source": [
    "9.3.14    \n",
    "만 2세가 된 유아의 키는 평균이 87.6 cm이고 표준편차가 3.3 cm인 정규분포를 따른다고 한다. 만약 6명의 2세 된 유아의 키를 조사하였을 경우 표본평균이 86.6 cm에서 89.4 cm 사이일 확률은 얼마인가?"
   ]
  },
  {
   "cell_type": "markdown",
   "id": "rvtgaxv6",
   "metadata": {},
   "source": [
    "#### 경주"
   ]
  },
  {
   "cell_type": "code",
   "execution_count": 229,
   "id": "58b0578b",
   "metadata": {},
   "outputs": [
    {
     "name": "stdout",
     "output_type": "stream",
     "text": [
      "표본평균이 86.6 cm에서 89.4 cm 사이일 확률: 0.6802773076561102\n"
     ]
    }
   ],
   "source": [
    "from scipy.stats import norm\n",
    "\n",
    "mean = 87.6  # 원래 분포의 평균\n",
    "std = 3.3 / (6 ** 0.5)  # 표본평균의 분포의 표준편차\n",
    "lower_limit = 86.6  # 표본평균 범위의 하한\n",
    "upper_limit = 89.4  # 표본평균 범위의 상한\n",
    "\n",
    "# 표본평균이 86.6 cm에서 89.4 cm 사이일 확률 계산\n",
    "p = norm.cdf(upper_limit, mean, std) - norm.cdf(lower_limit, mean, std)\n",
    "\n",
    "print(\"표본평균이 86.6 cm에서 89.4 cm 사이일 확률:\", p)\n"
   ]
  },
  {
   "cell_type": "markdown",
   "id": "erksc3nm",
   "metadata": {},
   "source": [
    "#### 울산"
   ]
  },
  {
   "cell_type": "code",
   "execution_count": 7,
   "id": "bf72fc9f",
   "metadata": {},
   "outputs": [
    {
     "name": "stdout",
     "output_type": "stream",
     "text": [
      "정규분포를 따르므로 norm패키지를 사용하여 다음과 같이 계산할 수 있다.\n",
      "86.6에서 89.4 사이에 있을 확률 -0.4092393052369536\n"
     ]
    }
   ],
   "source": [
    "print('정규분포를 따르므로 norm패키지를 사용하여 다음과 같이 계산할 수 있다.')\n",
    "\n",
    "from scipy.stats import norm\n",
    "import numpy as np\n",
    "\n",
    "mean = 87.6\n",
    "sd = 3.3\n",
    "ll = 89.4\n",
    "ul = 87.6\n",
    "\n",
    "s_sd = sd / (np.sqrt(6))\n",
    "\n",
    "# 구간 내 확률 계산\n",
    "lp = norm.cdf(ll, loc=mean, scale=s_sd)\n",
    "up = norm.cdf(ul, loc=mean, scale=s_sd)\n",
    "answer = up-lp\n",
    "\n",
    "print(\"86.6에서 89.4 사이에 있을 확률\", answer)\n"
   ]
  },
  {
   "cell_type": "markdown",
   "id": "fjun7nab",
   "metadata": {},
   "source": [
    "# @@@@@@@@@@@@@@@@@@@@@@@@@@@@@@"
   ]
  },
  {
   "cell_type": "markdown",
   "id": "b8899f91",
   "metadata": {},
   "source": [
    "예제 10.4     \n",
    "평균이 μ이고 표준편차가  σ=8인 정규분포를 따르는 모집단에서 크기가 25인 표본을 추출하여 평균을 계산하였더니\n",
    "표본평균은 42.7이었다. 이때 μ에 대한95% 신뢰구간을 구하라.\n"
   ]
  },
  {
   "cell_type": "markdown",
   "id": "to11s9s2",
   "metadata": {},
   "source": [
    "#### 철원"
   ]
  },
  {
   "cell_type": "code",
   "execution_count": 5,
   "id": "48005b81",
   "metadata": {},
   "outputs": [],
   "source": [
    "from scipy import stats\n",
    "import numpy as np"
   ]
  },
  {
   "cell_type": "code",
   "execution_count": 8,
   "id": "4e1a04c8",
   "metadata": {},
   "outputs": [
    {
     "data": {
      "text/plain": [
       "(39.564057624735916, 45.83594237526409)"
      ]
     },
     "execution_count": 8,
     "metadata": {},
     "output_type": "execute_result"
    }
   ],
   "source": [
    "se = 8/np.sqrt(25)\n",
    "stats.norm.interval(alpha = 0.95, loc = 42.7, scale = se)"
   ]
  },
  {
   "cell_type": "code",
   "execution_count": 9,
   "id": "80b703b6",
   "metadata": {},
   "outputs": [
    {
     "name": "stdout",
     "output_type": "stream",
     "text": [
      "[39.56, 45.84]\n"
     ]
    }
   ],
   "source": [
    "alpha = 1- 0.95\n",
    "z_alpha = stats.norm.ppf(1-alpha/2)\n",
    "interval = z_alpha *  se\n",
    "\n",
    "CI = [round(42.7 - interval,2), round(42.7 + interval,2)]\n",
    "\n",
    "print(CI)"
   ]
  },
  {
   "cell_type": "markdown",
   "id": "m3pg3qm7",
   "metadata": {},
   "source": [
    "#### 경주"
   ]
  },
  {
   "cell_type": "code",
   "execution_count": 44,
   "id": "ddad63a8",
   "metadata": {},
   "outputs": [
    {
     "name": "stdout",
     "output_type": "stream",
     "text": [
      "95% 신뢰구간 (39.564057624735916, 45.83594237526409)\n"
     ]
    }
   ],
   "source": [
    "from scipy.stats import norm\n",
    "import numpy as np\n",
    "\n",
    "print('95% 신뢰구간',norm.interval(alpha=0.95, loc =42.7, scale=8/np.sqrt(25)))"
   ]
  },
  {
   "cell_type": "markdown",
   "id": "46mk5n2j",
   "metadata": {},
   "source": [
    "#### 성남"
   ]
  },
  {
   "cell_type": "code",
   "execution_count": 65,
   "id": "2532b776",
   "metadata": {},
   "outputs": [
    {
     "name": "stdout",
     "output_type": "stream",
     "text": [
      "모평균의 신뢰 구간은  [39.564057624735916, 45.83594237526409]\n"
     ]
    }
   ],
   "source": [
    "mean=42.7\n",
    "std=8\n",
    "num=25\n",
    "\n",
    "z_alpha=norm.ppf(1-0.05/2)\n",
    "\n",
    "confidence_lower=42.7-std/np.sqrt(25)*z_alpha\n",
    "confidence_upper=42.7+std/np.sqrt(25)*z_alpha\n",
    "\n",
    "print('모평균의 신뢰 구간은 ', [confidence_lower, confidence_upper])"
   ]
  },
  {
   "cell_type": "markdown",
   "id": "43qlcb1z",
   "metadata": {},
   "source": [
    "# @@@@@@@@@@@@@@@@@@@@@@@@@@@@@@"
   ]
  },
  {
   "cell_type": "markdown",
   "id": "5bec70fe",
   "metadata": {},
   "source": [
    "예제 10.5    \n",
    "어느 사과농장에서 올해 수확한 사과의 평균무게(μ)에 대해 알아보기 위하여 36개의 사과를 추출하여 무게를 측정하였더니     \n",
    "표본평균=342g, s=20g 이 나왔다고한다. 이때 μ의 95% 와 99% 신뢰구간을 구하고 이를 비교하라.     "
   ]
  },
  {
   "cell_type": "markdown",
   "id": "2185tg10",
   "metadata": {},
   "source": [
    "#### 양구"
   ]
  },
  {
   "cell_type": "code",
   "execution_count": 30,
   "id": "8a5dc83e",
   "metadata": {},
   "outputs": [
    {
     "name": "stdout",
     "output_type": "stream",
     "text": [
      "95% 신뢰구간 :  335.47  ~  348.53\n",
      "99% 신뢰구간 :  333.42  ~  350.58\n"
     ]
    }
   ],
   "source": [
    "mu = 342\n",
    "std = 20\n",
    "n =36 # n>30 표준정규분포\n",
    "z_95 = 1.96 # stats.norm.ppf(1 - (0.05) / 2)\n",
    "z_99 = 2.575 # stats.norm.ppf(1 - (0.01) / 2)\n",
    "limit_95 = round(z_95*std/(n**(1/2)),2)\n",
    "limit_99 = round(z_99*std/(n**(1/2)),2)\n",
    "\n",
    "print('95% 신뢰구간 : ',mu - limit_95,' ~ ',mu + limit_95)\n",
    "print('99% 신뢰구간 : ',mu - limit_99,' ~ ',mu + limit_99)"
   ]
  },
  {
   "cell_type": "markdown",
   "id": "ph89sn0s",
   "metadata": {},
   "source": [
    "#### 가평"
   ]
  },
  {
   "cell_type": "code",
   "execution_count": 3,
   "id": "9bdfa988",
   "metadata": {
    "ExecuteTime": {
     "end_time": "2023-08-30T01:18:22.272169Z",
     "start_time": "2023-08-30T01:18:22.260182Z"
    }
   },
   "outputs": [
    {
     "name": "stdout",
     "output_type": "stream",
     "text": [
      "95% 신뢰구간: (348.76702642750115, 335.23297357249885)\n",
      "99% 신뢰구간: (351.07935196402684, 332.92064803597316)\n"
     ]
    }
   ],
   "source": [
    "from scipy.stats import t\n",
    "from math import sqrt\n",
    "\n",
    "sample_mean = 342\n",
    "sample_std_dev = 20\n",
    "n = 36\n",
    "alpha_1 = 0.05 # 95% 신뢰구간\n",
    "alpha_2 = 0.01 # 99% 신뢰구간\n",
    "\n",
    "# 자유도 계산\n",
    "df = n - 1\n",
    "\n",
    "# 표준오차 계산\n",
    "std_error = sample_std_dev / sqrt(n)\n",
    "\n",
    "# t-분포에서의 임계값 계산\n",
    "t_crit_1 = t.ppf(alpha_1 / 2, df)\n",
    "t_crit_2 = t.ppf(alpha_2 / 2, df)\n",
    "\n",
    "# 신뢰구간 계산\n",
    "ci_1_lower = sample_mean - t_crit_1 * std_error\n",
    "ci_1_upper = sample_mean + t_crit_1 * std_error\n",
    "ci_2_lower = sample_mean - t_crit_2 * std_error\n",
    "ci_2_upper = sample_mean + t_crit_2 * std_error\n",
    "\n",
    "print(\"95% 신뢰구간:\", (ci_1_lower, ci_1_upper))\n",
    "print(\"99% 신뢰구간:\", (ci_2_lower, ci_2_upper))\n"
   ]
  },
  {
   "cell_type": "markdown",
   "id": "i8awuryy",
   "metadata": {},
   "source": [
    "#### 경주"
   ]
  },
  {
   "cell_type": "code",
   "execution_count": 43,
   "id": "285795c5",
   "metadata": {},
   "outputs": [
    {
     "name": "stdout",
     "output_type": "stream",
     "text": [
      "95% 신뢰구간 (335.46678671819984, 348.53321328180016)\n",
      "99% 신뢰구간 (333.41390232150366, 350.58609767849634)\n"
     ]
    }
   ],
   "source": [
    "from scipy.stats import norm\n",
    "import numpy as np\n",
    "\n",
    "print('95% 신뢰구간',norm.interval(alpha=0.95, loc =342, scale=20/np.sqrt(36)))\n",
    "print('99% 신뢰구간',norm.interval(alpha=0.99, loc =342, scale=20/np.sqrt(36)))"
   ]
  },
  {
   "cell_type": "markdown",
   "id": "o1jexfdu",
   "metadata": {},
   "source": [
    "#### 성남"
   ]
  },
  {
   "cell_type": "code",
   "execution_count": 95,
   "id": "7d6f105e",
   "metadata": {},
   "outputs": [
    {
     "name": "stdout",
     "output_type": "stream",
     "text": [
      "95% 신뢰구간 : [341.790977406856, 342.209022593144]\n",
      "99% 신뢰구간 : [341.95822176830643, 342.04177823169357]\n"
     ]
    }
   ],
   "source": [
    "z_alpha_95=norm.ppf(1-0.95/2)\n",
    "z_alpha_99=norm.ppf(1-0.99/2)\n",
    "\n",
    "mean=342\n",
    "std=20\n",
    "num=36\n",
    "\n",
    "z_value_95=z_alpha_95*std/np.sqrt(num)\n",
    "z_value_99=z_alpha_99*std/np.sqrt(num)\n",
    "\n",
    "print('95% 신뢰구간 :',[mean-z_value_95, mean+z_value_95])\n",
    "print('99% 신뢰구간 :',[mean-z_value_99, mean+z_value_99])"
   ]
  },
  {
   "cell_type": "markdown",
   "id": "bx60lqe2",
   "metadata": {},
   "source": [
    "# @@@@@@@@@@@@@@@@@@@@@@@@@@@@@@"
   ]
  },
  {
   "cell_type": "markdown",
   "id": "349653d6",
   "metadata": {},
   "source": [
    "예제 10.6    \n",
    "호수의 성분을 연구하는 한 학자가 호수 성분의 하나인 인산염의 무게 분포에 관심이 있다고 한다.      \n",
    "그 학자가 단위부피당 평균무게(μ)를 추정하고자 하는데, 이제까지의 자료에 의하면 단위부피당 인산염의 무게의 σ=4를 갖는다고 한다. 평균무게 μ에 대한오차가 0.75 이하가 될 확률이 최소한 90%가 되기 위해서는 어느 정도 크기의 표본을 조사하여야 하겠는가?"
   ]
  },
  {
   "cell_type": "markdown",
   "id": "95v49tu8",
   "metadata": {},
   "source": [
    "#### 인천"
   ]
  },
  {
   "cell_type": "code",
   "execution_count": 19,
   "id": "4545622e",
   "metadata": {
    "colab": {
     "base_uri": "https://localhost:8080/"
    },
    "id": "4545622e",
    "outputId": "cf10dba2-f7ad-4811-f583-64ef4fb2408d"
   },
   "outputs": [
    {
     "name": "stdout",
     "output_type": "stream",
     "text": [
      "적어도 77개의 샘플을 조사해야 합니다.\n"
     ]
    }
   ],
   "source": [
    "from math import sqrt, ceil\n",
    "\n",
    "sigma = 4\n",
    "e = 0.75\n",
    "z = 1.645\n",
    "n = (z * sigma / e) ** 2\n",
    "n = ceil(n)\n",
    "print(f\"적어도 {n}개의 샘플을 조사해야 합니다.\")"
   ]
  },
  {
   "cell_type": "markdown",
   "id": "4yudq4lg",
   "metadata": {},
   "source": [
    "#### 경주"
   ]
  },
  {
   "cell_type": "code",
   "execution_count": 200,
   "id": "7837e4e6",
   "metadata": {},
   "outputs": [
    {
     "name": "stdout",
     "output_type": "stream",
     "text": [
      "필요한 표본 크기 n: 77\n"
     ]
    }
   ],
   "source": [
    "#n = (Z * σ / 0.75)^2  Z * (σ / √n) = 0.75\n",
    "\n",
    "from scipy.stats import norm\n",
    "\n",
    "sigma = 4  # 모표준편차\n",
    "E = 0.75  # 오차 한계\n",
    "confidence_level = 0.90  # 신뢰수준\n",
    "\n",
    "z = norm.ppf((1 + confidence_level) / 2)\n",
    "\n",
    "n = ((z * sigma) / E) ** 2\n",
    "\n",
    "n = round(n) \n",
    "print(\"필요한 표본 크기 n:\", n)\n"
   ]
  },
  {
   "cell_type": "markdown",
   "id": "f7sob56j",
   "metadata": {},
   "source": [
    "#### 성남"
   ]
  },
  {
   "cell_type": "code",
   "execution_count": 148,
   "id": "4e6677ad",
   "metadata": {},
   "outputs": [
    {
     "name": "stdout",
     "output_type": "stream",
     "text": [
      "최소 표본의 크기는  77.0\n"
     ]
    }
   ],
   "source": [
    "z_alpha=norm.ppf(1-0.1/2)\n",
    "std=4\n",
    "target=((z_alpha*std)/0.75)**2\n",
    "\n",
    "print('최소 표본의 크기는 ',np.ceil(target))"
   ]
  },
  {
   "cell_type": "markdown",
   "id": "lf1vhtwl",
   "metadata": {},
   "source": [
    "#### 평창"
   ]
  },
  {
   "cell_type": "markdown",
   "id": "d0f5fd7f",
   "metadata": {},
   "source": [
    "모집단의 표준편차를 알고, 신뢰구간의 폭이 주어졌을 때, 표본의 크기는 다음의 수식으로 구할 수 있다.  \n",
    "$n = \\left(\\frac{Z \\cdot \\sigma}{E}\\right)^2$\n",
    "\n",
    "코드: \n",
    "import math\n",
    "from scipy.stats import norm\n",
    "\n",
    "z_score = norm.ppf(0.95)\n",
    "n = math.ceil((z_score * 4 / 0.75)**2)\n",
    "\n",
    "print(f'정답:\\n최소 {n}개의 표본을 조사해야 한다')  \n",
    "\n",
    "출력: \n",
    "정답:  \n",
    "최소 77개의 표본을 조사해야 한다"
   ]
  },
  {
   "cell_type": "markdown",
   "id": "bvy2ndmz",
   "metadata": {},
   "source": [
    "# @@@@@@@@@@@@@@@@@@@@@@@@@@@@@@"
   ]
  },
  {
   "cell_type": "markdown",
   "id": "e502173c",
   "metadata": {},
   "source": [
    "10.2.4    \n",
    "한 연구자가 모평균의 90% 신뢰구간을 구한다고 하자.        \n",
    "그러한 작업을 200번 하였다고 하면 몇 개 의 신뢰구간이 실제의 평균을 포함하고 있겠는가? 그 이유를 설명하라"
   ]
  },
  {
   "cell_type": "markdown",
   "id": "9ihanuhx",
   "metadata": {},
   "source": [
    "#### 조치원"
   ]
  },
  {
   "cell_type": "code",
   "execution_count": 2,
   "id": "d39d649e",
   "metadata": {
    "colab": {
     "base_uri": "https://localhost:8080/"
    },
    "executionInfo": {
     "elapsed": 334,
     "status": "ok",
     "timestamp": 1693443986561,
     "user": {
      "displayName": "김지현",
      "userId": "13398789046800870585"
     },
     "user_tz": -540
    },
    "id": "d39d649e",
    "outputId": "19bb76a3-b978-43fc-bd72-5cf1811ecf37"
   },
   "outputs": [
    {
     "name": "stdout",
     "output_type": "stream",
     "text": [
      "180.0 개의 신뢰구간이 실제의 평균을 포함하고 있다\n"
     ]
    }
   ],
   "source": [
    "#90% 신뢰구간의 뜻\n",
    "#동일한 방법으로 수차례 표본추출하여 구간추정을 하면\n",
    "#그 중에 90%의 구간추정에는 모평균이 포함되어 있다\n",
    "n = 200\n",
    "p = 0.9\n",
    "answer = n * p\n",
    "print(answer,'개의 신뢰구간이 실제의 평균을 포함하고 있다')"
   ]
  },
  {
   "cell_type": "markdown",
   "id": "fpazj1vu",
   "metadata": {},
   "source": [
    "#### 동해"
   ]
  },
  {
   "cell_type": "markdown",
   "id": "d367d6c8",
   "metadata": {},
   "source": [
    "- 확률적으로 180개의 신뢰구간이 실제의 모평균을 포함한다.\n",
    "- 만약 100개의 표본을 추출해 100개의 신뢰구간을 만든다면, 신뢰수준 90%라는 의미는 만들어진 100개의 신뢰구간 중 90%의 확률로 모평균을 포함한다는 의미이다. 즉, 확률적으로 90개의 신뢰구간이 모평균을 포함한다. 따라서 200번의 표본을 추출해 200개의 신뢰구간을 구했다면 180개의 신뢰구간이 모평균을 포함한다."
   ]
  },
  {
   "cell_type": "markdown",
   "id": "4m6pm5ls",
   "metadata": {},
   "source": [
    "#### 성남"
   ]
  },
  {
   "cell_type": "markdown",
   "id": "c9653ea9-c938-4370-8f6f-5419e84e696b",
   "metadata": {},
   "source": [
    "신뢰수준이란 신뢰구간이 실제 평균을 포함하고 있을 확률을 의미한다.\n",
    "<br>90% 신뢰구간을 구하였으므로 200*0.9=180개가 실제 평균을 포함하고 있을 것이다.\n",
    "<br>그러나 이는 통계적으로 추정한 값이므로 정확히 180개가 실제 평균을 포함하고 있다는 의미는 아니다."
   ]
  },
  {
   "cell_type": "markdown",
   "id": "uj4r2582",
   "metadata": {},
   "source": [
    "# @@@@@@@@@@@@@@@@@@@@@@@@@@@@@@"
   ]
  },
  {
   "cell_type": "markdown",
   "id": "49c28928",
   "metadata": {},
   "source": [
    "10.2.6     \n",
    "한 자동차 공장에서 38명의 새로운 직원들이 2주동안의 연수를 마친 후,특정한 작업을 얼마나 빠른 시간안에 해내는지를 측정하였다.       \n",
    "그 작업을 끝내는데 걸리는 시간의 평균과 표준편차가 각각 68초와 12초였다.      \n",
    "모든 직원들이 2주의 교육을 마쳤을 때 그 작업을 마치는 데 걸리는 시간의 평균값의 95% 신뢰구간을 구하라     "
   ]
  },
  {
   "cell_type": "markdown",
   "id": "8mdox1b8",
   "metadata": {},
   "source": [
    "#### 양구"
   ]
  },
  {
   "cell_type": "code",
   "execution_count": 31,
   "id": "28c3b751",
   "metadata": {},
   "outputs": [
    {
     "name": "stdout",
     "output_type": "stream",
     "text": [
      "95% 신뢰구간 :  64.18  ~  71.82\n"
     ]
    }
   ],
   "source": [
    "mu = 68\n",
    "std = 12\n",
    "n =38 # n>30 표준정규분포\n",
    "z_95 = 1.96 # stats.norm.ppf(1 - (0.05) / 2)\n",
    "limit_95 = round(z_95*std/(n**(1/2)),2)\n",
    "limit_99 = round(z_99*std/(n**(1/2)),2)\n",
    "\n",
    "print('95% 신뢰구간 : ',mu - limit_95,' ~ ',mu + limit_95)"
   ]
  },
  {
   "cell_type": "markdown",
   "id": "jbykf7g3",
   "metadata": {},
   "source": [
    "#### 철원"
   ]
  },
  {
   "cell_type": "code",
   "execution_count": 51,
   "id": "1734d338",
   "metadata": {},
   "outputs": [],
   "source": [
    "from scipy import stats\n",
    "import numpy as np"
   ]
  },
  {
   "cell_type": "code",
   "execution_count": 52,
   "id": "dcb90795",
   "metadata": {},
   "outputs": [
    {
     "data": {
      "text/plain": [
       "(64.1846222847536, 71.8153777152464)"
      ]
     },
     "execution_count": 52,
     "metadata": {},
     "output_type": "execute_result"
    }
   ],
   "source": [
    "stats.norm.interval(alpha= 0.95, loc = 68, scale = 12/np.sqrt(38))"
   ]
  },
  {
   "cell_type": "markdown",
   "id": "5frlcl0k",
   "metadata": {},
   "source": [
    "#### 경주"
   ]
  },
  {
   "cell_type": "code",
   "execution_count": 82,
   "id": "bc0a9515-532f-4eea-a44d-dede9cfafede",
   "metadata": {},
   "outputs": [
    {
     "data": {
      "text/plain": [
       "(64.1846222847536, 71.8153777152464)"
      ]
     },
     "execution_count": 82,
     "metadata": {},
     "output_type": "execute_result"
    }
   ],
   "source": [
    "norm.interval(alpha=0.95, loc = 68, scale =12/np.sqrt(38))"
   ]
  },
  {
   "cell_type": "markdown",
   "id": "7aari3zc",
   "metadata": {},
   "source": [
    "#### 성남"
   ]
  },
  {
   "cell_type": "code",
   "execution_count": 104,
   "id": "c8612cb2",
   "metadata": {},
   "outputs": [
    {
     "name": "stdout",
     "output_type": "stream",
     "text": [
      "평균값의 95% 신뢰구간은  [64.1846222847536, 71.8153777152464]\n"
     ]
    }
   ],
   "source": [
    "mean=68\n",
    "std=12\n",
    "num=38\n",
    "\n",
    "z_alpha=norm.ppf(1-0.05/2)\n",
    "\n",
    "confidence_lower=mean-z_alpha*std/np.sqrt(num)\n",
    "confidence_upper=mean+z_alpha*std/np.sqrt(num)\n",
    "\n",
    "print('평균값의 95% 신뢰구간은 ', [confidence_lower, confidence_upper])"
   ]
  },
  {
   "cell_type": "markdown",
   "id": "nra3m3sq",
   "metadata": {},
   "source": [
    "# @@@@@@@@@@@@@@@@@@@@@@@@@@@@@@"
   ]
  },
  {
   "cell_type": "markdown",
   "id": "666835b5",
   "metadata": {},
   "source": [
    "10.2.8     \n",
    "비정규직 근로자 50명의 월급을 조사하였더니 평균이 88만 원이고, 표준편차가 10만 원이었다. 평 균 월급에 대한 90% 신뢰구간을 구하라."
   ]
  },
  {
   "cell_type": "markdown",
   "id": "q9zr5cee",
   "metadata": {},
   "source": [
    "#### 포항"
   ]
  },
  {
   "cell_type": "code",
   "execution_count": 42,
   "id": "47c15bb7",
   "metadata": {},
   "outputs": [
    {
     "name": "stdout",
     "output_type": "stream",
     "text": [
      "답 :  (85.67382569264666, 90.32617430735334)\n"
     ]
    }
   ],
   "source": [
    "# 평균, 표준편차 제공 => 정규분포\n",
    "from scipy.stats import *\n",
    "\n",
    "n = 50 # 근로자수\n",
    "mean = 88 # 평균\n",
    "std = 10 # 표준편차\n",
    "std_error = std / n**0.5 # 표준오차 = 표준편차 / 샘플갯수^0.5, 데이터가 제공되는 경우 sem으로 표준오차 구할 수 있음. ex) sem(data)\n",
    "conf_level = 0.9 # 신뢰구간\n",
    "\n",
    "conf_interval = norm.interval(conf_level, loc = mean, scale = std_error) # 파라미터 (신뢰구간, dof, 평균, 표준오차)\n",
    "\n",
    "print('답 : ', conf_interval)"
   ]
  },
  {
   "cell_type": "markdown",
   "id": "x0inuu75",
   "metadata": {},
   "source": [
    "#### 경주"
   ]
  },
  {
   "cell_type": "code",
   "execution_count": 83,
   "id": "e855e82d",
   "metadata": {},
   "outputs": [
    {
     "data": {
      "text/plain": [
       "(85.67382569264666, 90.32617430735334)"
      ]
     },
     "execution_count": 83,
     "metadata": {},
     "output_type": "execute_result"
    }
   ],
   "source": [
    "norm.interval(alpha=0.9, loc = 88, scale =10/np.sqrt(50))"
   ]
  },
  {
   "cell_type": "markdown",
   "id": "myjil24p",
   "metadata": {},
   "source": [
    "#### 수원"
   ]
  },
  {
   "cell_type": "code",
   "execution_count": 3,
   "id": "72394916",
   "metadata": {},
   "outputs": [],
   "source": [
    "%config Completer.use_jedi = False"
   ]
  },
  {
   "cell_type": "code",
   "execution_count": 1,
   "id": "aee88c1d",
   "metadata": {},
   "outputs": [
    {
     "name": "stdout",
     "output_type": "stream",
     "text": [
      "856738.2569 903261.7431\n"
     ]
    }
   ],
   "source": [
    "from scipy.stats import norm\n",
    "\n",
    "n=50 #인원수\n",
    "mu=880000 # 평균\n",
    "std=100000 #표준편차\n",
    "confidence = 0.9 #신뢰수준\n",
    "stderr = std/n**0.5\n",
    "a, b = norm.interval(confidence, loc=mu, scale=stderr)\n",
    "print( round(a,4), round(b,4))"
   ]
  },
  {
   "cell_type": "markdown",
   "id": "gwvu5n68",
   "metadata": {},
   "source": [
    "#### 성남"
   ]
  },
  {
   "cell_type": "code",
   "execution_count": 105,
   "id": "c5df6469",
   "metadata": {},
   "outputs": [
    {
     "name": "stdout",
     "output_type": "stream",
     "text": [
      "평균 월급의 90% 신뢰구간은  [85.67382569264666, 90.32617430735334]\n"
     ]
    }
   ],
   "source": [
    "mean=88\n",
    "std=10\n",
    "num=50\n",
    "z_alpha=norm.ppf(1-0.1/2)\n",
    "\n",
    "confidence_lower=mean-z_alpha*std/np.sqrt(num)\n",
    "confidence_upper=mean+z_alpha*std/np.sqrt(num)\n",
    "\n",
    "print('평균 월급의 90% 신뢰구간은 ', [confidence_lower, confidence_upper])"
   ]
  },
  {
   "cell_type": "markdown",
   "id": "dxqqyuis",
   "metadata": {},
   "source": [
    "# @@@@@@@@@@@@@@@@@@@@@@@@@@@@@@"
   ]
  },
  {
   "cell_type": "markdown",
   "id": "c452c1cb",
   "metadata": {},
   "source": [
    "10.2.10     \n",
    "한 엔지니어는 고속도로의 파손된 부분을 수리하는 데 쓰이는 새로운 혼합 시멘트가 굳기까지 걸 리는 시간을 측정하려고 한다. 100군데의 파손된 부분을 수리하여 굳기까지의 시간을 조사해 보니, 표본의 평균과 표준편차가 각각 32분과 4분으로 조사되었다 시멘트가 굳기까지의 평균시간에 대한 99% 신뢰구간을 구하라"
   ]
  },
  {
   "cell_type": "markdown",
   "id": "o44aik4s",
   "metadata": {},
   "source": [
    "#### 양구"
   ]
  },
  {
   "cell_type": "code",
   "execution_count": 32,
   "id": "70912257",
   "metadata": {},
   "outputs": [
    {
     "name": "stdout",
     "output_type": "stream",
     "text": [
      "99% 신뢰구간 :  30.97  ~  33.03\n"
     ]
    }
   ],
   "source": [
    "mu = 32\n",
    "std = 4\n",
    "n = 100 # n>30 표준정규분포\n",
    "z_99 = 2.575 # stats.norm.ppf(1 - (0.01) / 2)\n",
    "limit_99 = round(z_99*std/(n**(1/2)),2)\n",
    "\n",
    "print('99% 신뢰구간 : ',mu - limit_99,' ~ ',mu + limit_99)"
   ]
  },
  {
   "cell_type": "markdown",
   "id": "2zlvn2kj",
   "metadata": {},
   "source": [
    "#### 안동"
   ]
  },
  {
   "cell_type": "code",
   "execution_count": 6,
   "id": "e4337f81",
   "metadata": {
    "colab": {
     "base_uri": "https://localhost:8080/"
    },
    "id": "70912257",
    "outputId": "db4d52a7-f0f8-4bc2-bee4-b72a55e2d049"
   },
   "outputs": [
    {
     "name": "stdout",
     "output_type": "stream",
     "text": [
      "신뢰구간 : 30.970~33.030\n"
     ]
    }
   ],
   "source": [
    "x=32\n",
    "n=100\n",
    "sigma=4\n",
    "conf_a=0.01\n",
    "\n",
    "from scipy.stats import norm\n",
    "SE=sigma /np.sqrt(n)\n",
    "conf_z=norm.ppf(1-conf_a/2)\n",
    "ME=conf_z*SE\n",
    "\n",
    "print(\"신뢰구간 : {:.3f}~{:.3f}\".format(x-ME, x+ME))"
   ]
  },
  {
   "cell_type": "markdown",
   "id": "0247qhnv",
   "metadata": {},
   "source": [
    "#### 경주"
   ]
  },
  {
   "cell_type": "code",
   "execution_count": 84,
   "id": "0a034d2c",
   "metadata": {},
   "outputs": [
    {
     "data": {
      "text/plain": [
       "(30.96966827858044, 33.03033172141956)"
      ]
     },
     "execution_count": 84,
     "metadata": {},
     "output_type": "execute_result"
    }
   ],
   "source": [
    "norm.interval(alpha=0.99, loc = 32, scale =4/np.sqrt(100))"
   ]
  },
  {
   "cell_type": "markdown",
   "id": "hva2c7sn",
   "metadata": {},
   "source": [
    "#### 성남"
   ]
  },
  {
   "cell_type": "code",
   "execution_count": 106,
   "id": "165c5fd1",
   "metadata": {},
   "outputs": [
    {
     "name": "stdout",
     "output_type": "stream",
     "text": [
      "평균 시간의 99% 신뢰구간은  [30.96966827858044, 33.03033172141956]\n"
     ]
    }
   ],
   "source": [
    "mean=32\n",
    "std=4\n",
    "num=100\n",
    "z_alpha=norm.ppf(1-0.01/2)\n",
    "\n",
    "confidence_lower=mean-z_alpha*std/np.sqrt(num)\n",
    "confidence_upper=mean+z_alpha*std/np.sqrt(num)\n",
    "\n",
    "print('평균 시간의 99% 신뢰구간은 ', [confidence_lower, confidence_upper])"
   ]
  },
  {
   "cell_type": "markdown",
   "id": "2a5q65dm",
   "metadata": {},
   "source": [
    "# @@@@@@@@@@@@@@@@@@@@@@@@@@@@@@"
   ]
  },
  {
   "cell_type": "markdown",
   "id": "8f1a5397",
   "metadata": {},
   "source": [
    "10.2.16    \n",
    "어떤 화학실험에서 구리 침전물량의 표준편차가 4.5g이라고 하자.       \n",
    "이때 모평균에 대한 표본평균의 오차가 1.86g 이하가 될 확률이 최소한 99%가 되도록 한다면 몇 번의 실험을 반복해야 하는가?     "
   ]
  },
  {
   "cell_type": "markdown",
   "id": "w6rg3ni2",
   "metadata": {},
   "source": [
    "#### 정읍"
   ]
  },
  {
   "cell_type": "code",
   "execution_count": 12,
   "id": "dfcd756b",
   "metadata": {},
   "outputs": [
    {
     "name": "stdout",
     "output_type": "stream",
     "text": [
      "최소한 실험수:  39.0 번\n"
     ]
    }
   ],
   "source": [
    "#양측검정시 z분포의 x값\n",
    "za=stats.norm.ppf(0.995)\n",
    "#표본표준편차\n",
    "s=4.5\n",
    "#표본평균의 오차한계\n",
    "d=1.86\n",
    "n=np.ceil((za*s/d)**2)\n",
    "print('최소한 실험수: ',n,'번')"
   ]
  },
  {
   "cell_type": "markdown",
   "id": "29h8pk87",
   "metadata": {},
   "source": [
    "#### 경주"
   ]
  },
  {
   "cell_type": "code",
   "execution_count": 315,
   "id": "644d3e99",
   "metadata": {},
   "outputs": [
    {
     "name": "stdout",
     "output_type": "stream",
     "text": [
      "38.84104058272633\n",
      "최소 39번\n"
     ]
    }
   ],
   "source": [
    "#99%->2.576 n=( z*sigma/e)**2\n",
    "\n",
    "print((2.576*4.5/1.86)**2)\n",
    "print('최소 39번')"
   ]
  },
  {
   "cell_type": "markdown",
   "id": "jog1haas",
   "metadata": {},
   "source": [
    "#### 성남"
   ]
  },
  {
   "cell_type": "code",
   "execution_count": 149,
   "id": "c40a381a",
   "metadata": {},
   "outputs": [
    {
     "name": "stdout",
     "output_type": "stream",
     "text": [
      "적어도  39.0 번 실험을 반복해야 한다\n"
     ]
    }
   ],
   "source": [
    "std=4.5\n",
    "z_alpha=norm.ppf(1-0.01/2)\n",
    "d=1.86\n",
    "\n",
    "target=(z_alpha*std/d)**2\n",
    "\n",
    "print('적어도 ',np.ceil(target),'번 실험을 반복해야 한다')\n"
   ]
  },
  {
   "cell_type": "markdown",
   "id": "3r66mlt9",
   "metadata": {},
   "source": [
    "# @@@@@@@@@@@@@@@@@@@@@@@@@@@@@@"
   ]
  },
  {
   "cell_type": "markdown",
   "id": "6b6c97d8",
   "metadata": {},
   "source": [
    "예제 10.7        \n",
    "어느 다이어트 방법을 소개하는 책자에서 주장하기를 그 다이어트 방법을 이용하면 5주 동안 10 kg 넘게 체중을 줄일 수 있다고 한다. 56명을 대상으로 해당 다이어트 방법을 이용하여 5주 동안의 체중 감소량을 조사하였더니 평균이 10.5 kg, 표준편차가 4.5 kg이었다고 한다. 이 자료에 근거해서 그 책자의 주장이 옳다고 할 수 있는지 유의수준 5%로 검정하라."
   ]
  },
  {
   "cell_type": "markdown",
   "id": "xpc9881f",
   "metadata": {},
   "source": [
    "#### 정읍"
   ]
  },
  {
   "cell_type": "markdown",
   "id": "d0d3e253",
   "metadata": {},
   "source": [
    "- 귀무가설 :mu=10\n",
    "- 대립가설 : mu>10"
   ]
  },
  {
   "cell_type": "markdown",
   "id": "d8bbc229",
   "metadata": {},
   "source": [
    "n의 30보다 크기 때문에 z분포 사용"
   ]
  },
  {
   "cell_type": "code",
   "execution_count": 14,
   "id": "36ba4749",
   "metadata": {},
   "outputs": [
    {
     "name": "stdout",
     "output_type": "stream",
     "text": [
      "검정통계량 0.8314794192830981\n",
      "신뢰구간: (-1.959963984540054, 1.959963984540054)\n",
      "검정통계량의 신뢰구간의 속하기 때문에 귀무가설을 기각할 수 없다. 즉 10kg이상 줄일수 있다는 주장을 받아들일 수 없다\n"
     ]
    }
   ],
   "source": [
    "n=56\n",
    "x_bar=10.5\n",
    "s=4.5\n",
    "mu=10\n",
    "z=(x_bar-mu)/(s/np.sqrt(n))\n",
    "print('검정통계량',z)\n",
    "print('신뢰구간:',stats.norm.interval(0.95))\n",
    "print('검정통계량의 신뢰구간의 속하기 때문에 귀무가설을 기각할 수 없다. 즉 10kg이상 줄일수 있다는 주장을 받아들일 수 없다')"
   ]
  },
  {
   "cell_type": "markdown",
   "id": "ziwakuhu",
   "metadata": {},
   "source": [
    "#### 경주"
   ]
  },
  {
   "cell_type": "code",
   "execution_count": 199,
   "id": "2a6a6fc4",
   "metadata": {},
   "outputs": [
    {
     "name": "stdout",
     "output_type": "stream",
     "text": [
      "주장이 옳지 않다 (귀무가설 채택)\n",
      "p-value 0.405702849959261\n",
      "0.8314794192830981\n"
     ]
    }
   ],
   "source": [
    "from scipy.stats import norm\n",
    "\n",
    "mean = 10.5  # 표본 평균\n",
    "std = 4.5  # 표본 표준편차\n",
    "n = 56 \n",
    "mu = 10  \n",
    "\n",
    "se = std / (n ** 0.5)\n",
    "stat = (mean - mu) / se\n",
    "\n",
    "# 유의수준 0.05에서의 z-값 계산\n",
    "critical_value = norm.ppf(0.95)\n",
    "\n",
    "if stat> critical_value:\n",
    "    print(\"주장이 옳다 (귀무가설 기각)\")\n",
    "else:\n",
    "    print(\"주장이 옳지 않다 (귀무가설 채택)\")\n",
    "p = (1-norm.cdf(np.abs(stat)))*2\n",
    "print('p-value',p)\n",
    "print(stat)"
   ]
  },
  {
   "cell_type": "markdown",
   "id": "o91ait1o",
   "metadata": {},
   "source": [
    "#### 성남"
   ]
  },
  {
   "cell_type": "code",
   "execution_count": 111,
   "id": "1d8d30d5",
   "metadata": {},
   "outputs": [],
   "source": [
    "mean=10.5\n",
    "std=4.5\n",
    "num=56\n",
    "\n",
    "z_alpha=norm.ppf(1-0.05)\n",
    "\n",
    "z_value=(mean-10)/(std/np.sqrt(num))"
   ]
  },
  {
   "cell_type": "code",
   "execution_count": 112,
   "id": "23b8e8ca-9cf9-479b-8bf9-e108dd5a3882",
   "metadata": {},
   "outputs": [
    {
     "name": "stdout",
     "output_type": "stream",
     "text": [
      "귀무가설 : 체중 감소량의 평균은 10kg 이상이 아니다\n",
      "대립가설 : 체중 감소량의 평균은 10kg 이상이다\n",
      "귀무가설을 채택한다. 따라서 체중 감소량의 평균은 10kg 이하이다\n"
     ]
    }
   ],
   "source": [
    "print('귀무가설 : 체중 감소량의 평균은 10kg 이상이 아니다')\n",
    "print('대립가설 : 체중 감소량의 평균은 10kg 이상이다')\n",
    "\n",
    "if z_value>z_alpha:\n",
    "    print('귀무가설을 기각하고 대립가설을 채택한다. 따라서 체중 감소량의 평균은 10kg 이상이다')\n",
    "else: \n",
    "    print('귀무가설을 채택한다. 따라서 체중 감소량의 평균은 10kg 이하이다')"
   ]
  },
  {
   "cell_type": "markdown",
   "id": "6h1vnw2y",
   "metadata": {},
   "source": [
    "#### 평창"
   ]
  },
  {
   "cell_type": "markdown",
   "id": "76448999",
   "metadata": {},
   "source": [
    "일표본 t-검정(one-sample t-test)을 사용하여 풀 수 있다.  일표본 t-검정은 모집단의 평균이 특정 값과 다른지를 검정한다.  \n",
    "\n",
    "귀무가설: μ = 10   \n",
    "대립가설: μ > 10  \n",
    "검정 통계량 수식:  \n",
    "$z = \\frac{{\\bar{X} - \\mu}}{\\sigma}$\n",
    "\n",
    "import numpy as np  \n",
    "from scipy.stats import norm  \n",
    "\n",
    "n = 56  \n",
    "통계량 = (10.5 - 10) / 4.5 = 0.1111111111111111  \n",
    "기각역 = norm.ppf(0.975) = 1.959963984540054    \n",
    "\n",
    "통계량이 기각역보다 작다. 따라서 귀무가설을 기각하지 못하고 채택한다. 따라서 다이어트가 효과적이라고 말할 수 없다."
   ]
  },
  {
   "cell_type": "markdown",
   "id": "948g42k5",
   "metadata": {},
   "source": [
    "# @@@@@@@@@@@@@@@@@@@@@@@@@@@@@@"
   ]
  },
  {
   "cell_type": "markdown",
   "id": "aa78a84f",
   "metadata": {},
   "source": [
    "10.3.8    \n",
    "한 대학서점으로부터 임의로 추출한 40개의 영수증을 조사한 결과 표본평균 $\\overline {x}$= 5만 원 표본 표준편차 s=9천원이라고 한다.     \n",
    "이 값들을 이용해서 한 번에 판매한 평균액수가 4.6만원 인지에 대해 유의수준 0.05에서 검정하라."
   ]
  },
  {
   "cell_type": "markdown",
   "id": "j54tx38e",
   "metadata": {},
   "source": [
    "#### 정읍"
   ]
  },
  {
   "cell_type": "markdown",
   "id": "553c9782",
   "metadata": {},
   "source": [
    "n>30이기 때문에 z검정 실시"
   ]
  },
  {
   "cell_type": "code",
   "execution_count": 17,
   "id": "abc64496",
   "metadata": {},
   "outputs": [
    {
     "name": "stdout",
     "output_type": "stream",
     "text": [
      "검정통계량: 2.8109134757052265\n",
      "신뢰구간: (-1.959963984540054, 1.959963984540054)\n",
      "정답: t값이 2.8로 신뢰구간의 우측에 존재하여 귀무가설 기각역에 속함. 즉 귀무가설을 기각하고 대립가설 채택\n"
     ]
    }
   ],
   "source": [
    "x_bar=50000\n",
    "mu=46000\n",
    "s=9000\n",
    "n=40\n",
    "t=(x_bar-mu)/(s/np.sqrt(40))\n",
    "print('검정통계량:',t)\n",
    "print('신뢰구간:', stats.norm.interval(0.95))\n",
    "print('정답: t값이 2.8로 신뢰구간의 우측에 존재하여 귀무가설 기각역에 속함. 즉 귀무가설을 기각하고 대립가설 채택')"
   ]
  },
  {
   "cell_type": "markdown",
   "id": "uau7i58w",
   "metadata": {},
   "source": [
    "#### 경주"
   ]
  },
  {
   "cell_type": "code",
   "execution_count": 198,
   "id": "678e4c0e",
   "metadata": {},
   "outputs": [
    {
     "name": "stdout",
     "output_type": "stream",
     "text": [
      "0.7786403373808595\n"
     ]
    }
   ],
   "source": [
    "diff = 5-4.6\n",
    "se = 9/np.sqrt(40)\n",
    "\n",
    "stat = diff/se\n",
    "p = (1-norm.cdf(np.abs(stat)))*2\n",
    "print(p)"
   ]
  },
  {
   "cell_type": "markdown",
   "id": "1p4exe7x",
   "metadata": {},
   "source": [
    "#### 성남"
   ]
  },
  {
   "cell_type": "code",
   "execution_count": 61,
   "id": "8ad51033",
   "metadata": {},
   "outputs": [],
   "source": [
    "lib_mean=5\n",
    "lib_std=0.9\n",
    "\n",
    "#양측검정 수행\n",
    "z_alpha=norm.ppf(1-0.05/2)\n",
    "zval=(lib_mean-4.6)/(lib_std/np.sqrt(40))"
   ]
  },
  {
   "cell_type": "code",
   "execution_count": 63,
   "id": "252ea490-5757-4634-8d30-fe6e35e36edb",
   "metadata": {},
   "outputs": [
    {
     "name": "stdout",
     "output_type": "stream",
     "text": [
      "귀무가설 : 대학서점의 판매액수는 4.6만원이다\n",
      "대립가설 : 대학서점의 판매액수는 4.6만원이 아니다\n",
      "유의수준 0.05에서 귀무가설을 기각하고 대립가설을 채택한다. 따라서 대학서점의 판매액수는 4.6만원이 아니다.\n"
     ]
    }
   ],
   "source": [
    "print('귀무가설 : 대학서점의 판매액수는 4.6만원이다')\n",
    "print('대립가설 : 대학서점의 판매액수는 4.6만원이 아니다')\n",
    "\n",
    "if zval>z_alpha:\n",
    "    print('유의수준 0.05에서 귀무가설을 기각하고 대립가설을 채택한다. 따라서 대학서점의 판매액수는 4.6만원이 아니다.')\n",
    "else:\n",
    "    print('유의수준 0.05에서 귀무가설을 채택한다. 따라서 대학서점의 판매액수는 4.6만원이다.')"
   ]
  },
  {
   "cell_type": "markdown",
   "id": "ovqdw20y",
   "metadata": {},
   "source": [
    "# @@@@@@@@@@@@@@@@@@@@@@@@@@@@@@"
   ]
  },
  {
   "cell_type": "markdown",
   "id": "34d2b709",
   "metadata": {},
   "source": [
    "10.3.12     \n",
    "새로운 치료법이 말기 암환자의 생명 연장에 기존의 치료보다 더 효과적이라는 주장이 있다. 기존 의 치료는 오랫동안 사용되어 왔으며 의학잡지의 기록에 의하여 평균 생존기간이 4.2년으로 알려 지고 있다. 새로운 치료법을 80명의 환자들에게 시행하여 그들의 생존기간을 기록한 결과 표본평 균과 표본표준편차는 각각 4.5년과 1.1년으로 밝혀졌다. 위의 주장은 이들 결과에 의해 뒷받침될 수 있는가? 유의수준 =0.05에서 검정하라 또한 p—value값도 계산하라."
   ]
  },
  {
   "cell_type": "markdown",
   "id": "4jnvpxyt",
   "metadata": {},
   "source": [
    "#### 가평"
   ]
  },
  {
   "cell_type": "code",
   "execution_count": 4,
   "id": "35ecb9f8",
   "metadata": {
    "ExecuteTime": {
     "end_time": "2023-08-30T01:29:08.844935Z",
     "start_time": "2023-08-30T01:29:08.795924Z"
    }
   },
   "outputs": [
    {
     "name": "stdout",
     "output_type": "stream",
     "text": [
      "새로운 치료법은 기존 치료법보다 효과적입니다.\n",
      "p-value: 0.008477652431101212\n"
     ]
    }
   ],
   "source": [
    "# 기존 치료로 전, 후 비교가 아니라 새로운 치료법임으로 독립표본으로 검정\n",
    "\n",
    "import numpy as np\n",
    "from scipy.stats import t\n",
    "\n",
    "# 기존 치료법의 평균 생존기간\n",
    "mu_old = 4.2\n",
    "\n",
    "# 새로운 치료법의 표본 평균과 표본 표준편차\n",
    "sample_mean = 4.5\n",
    "sample_std = 1.1\n",
    "\n",
    "# 표본 크기\n",
    "n = 80\n",
    "\n",
    "# 검정 통계량 계산\n",
    "t_stat = (sample_mean - mu_old) / (sample_std / np.sqrt(n))\n",
    "\n",
    "# 자유도 계산\n",
    "df = n - 1\n",
    "\n",
    "# p-value 계산\n",
    "p_value = 1 - t.cdf(t_stat, df)\n",
    "\n",
    "# 유의수준과 p-value 비교\n",
    "alpha = 0.05\n",
    "if p_value < alpha:\n",
    "    print(\"새로운 치료법은 기존 치료법보다 효과적입니다.\")\n",
    "else:\n",
    "    print(\"새로운 치료법은 기존 치료법과 유의미한 차이가 없습니다.\")\n",
    "\n",
    "print(\"p-value:\", p_value)\n"
   ]
  },
  {
   "cell_type": "markdown",
   "id": "wyofh7re",
   "metadata": {},
   "source": [
    "#### 철원"
   ]
  },
  {
   "cell_type": "code",
   "execution_count": 2,
   "id": "243547b4",
   "metadata": {},
   "outputs": [],
   "source": [
    "from scipy import stats\n",
    "import numpy as np"
   ]
  },
  {
   "cell_type": "code",
   "execution_count": 3,
   "id": "d69b3ea1",
   "metadata": {},
   "outputs": [],
   "source": [
    "mean = 4.2\n",
    "\n",
    "n= 80\n",
    "mean_new = 4.5\n",
    "std_new = 1.1\n",
    "\n",
    "z= (mean_new - mean) / (std_new / np.sqrt(80))"
   ]
  },
  {
   "cell_type": "code",
   "execution_count": 4,
   "id": "b8edaba6",
   "metadata": {},
   "outputs": [
    {
     "name": "stdout",
     "output_type": "stream",
     "text": [
      "0.007356918302264259\n"
     ]
    }
   ],
   "source": [
    "pvalue = 1- stats.norm.cdf(z) # 단측 검정\n",
    "print(pvalue)"
   ]
  },
  {
   "cell_type": "markdown",
   "id": "f52d09e6",
   "metadata": {},
   "source": [
    "#### 답안\n",
    "- 귀무가설 : 새로운 치료법 전 / 후 생존기간이 동일하다.\n",
    "- 대립가설 : 새로운 치료법 이후 생존길이가 길어졌다.\n",
    "- p-value가 0.05보다 작으므로 귀무가설을 기각한다.\n",
    "- p-value : 0.0075"
   ]
  },
  {
   "cell_type": "markdown",
   "id": "0x870ig9",
   "metadata": {},
   "source": [
    "#### 경주"
   ]
  },
  {
   "cell_type": "code",
   "execution_count": 335,
   "id": "b9e86f15",
   "metadata": {},
   "outputs": [
    {
     "name": "stdout",
     "output_type": "stream",
     "text": [
      "검정통계량: 2.4393\n",
      "p-value: 0.0074\n",
      "귀무가설을 기각하지 않습니다. 새로운 치료법의 평균 생존기간은 기존 치료법과 같거나 작을 수 있습니다.\n"
     ]
    }
   ],
   "source": [
    "#H0 (귀무가설): 새로운 치료법의 평균 생존기간은 기존 치료법의 평균 생존기간과 같다. (μ1 = μ2)\n",
    "#H1 (대립가설): 새로운 치료법의 평균 생존기간은 기존 치료법의 평균 생존기간보다 크다. (μ1 > μ2)\n",
    "\n",
    "mu2 = 4.2  \n",
    "sigma2 = 0 \n",
    "n = 80  \n",
    "x_bar = 4.5  \n",
    "s = 1.1  \n",
    "\n",
    "# 검정 수행\n",
    "stat = (x_bar - mu2) / (s / (n ** 0.5))\n",
    "df = n - 1  # 자유도\n",
    "p = 1 - norm.cdf(stat)\n",
    "\n",
    "alpha = 0.05  # 유의수준\n",
    "\n",
    "print(f\"검정통계량: {stat:.4f}\")\n",
    "print(f\"p-value: {p:.4f}\")\n",
    "\n",
    "if p_value < alpha:\n",
    "    print(\"귀무가설을 기각합니다. 새로운 치료법의 평균 생존기간은 기존 치료법보다 큽니다.\")\n",
    "else:\n",
    "    print(\"귀무가설을 기각하지 않습니다. 새로운 치료법의 평균 생존기간은 기존 치료법과 같거나 작을 수 있습니다.\")\n"
   ]
  },
  {
   "cell_type": "markdown",
   "id": "x6qjvbv5",
   "metadata": {},
   "source": [
    "#### 성남"
   ]
  },
  {
   "cell_type": "code",
   "execution_count": 115,
   "id": "dcb96ed4",
   "metadata": {},
   "outputs": [
    {
     "name": "stdout",
     "output_type": "stream",
     "text": [
      "귀무가설 : 새로운 치료법을 받은 환자의 생존기간은 4.2년 이상이 아니다\n",
      "대립가설 : 새로운 치료법을 받은 환자의 생존기간은 4.2년 이상이다\n",
      "귀무가설을 기각하고 대립가설을 채택한다. 따라서 새로운 치료법을 받은 환자의 생존기간은 4.2년 이상이다\n"
     ]
    }
   ],
   "source": [
    "mean=4.5\n",
    "std=1.1\n",
    "num=80\n",
    "\n",
    "z_alpha=norm.ppf(1-0.05)\n",
    "z_value=(mean-4.2)/(std/np.sqrt(num))\n",
    "\n",
    "print('귀무가설 : 새로운 치료법을 받은 환자의 생존기간은 4.2년 이상이 아니다')\n",
    "print('대립가설 : 새로운 치료법을 받은 환자의 생존기간은 4.2년 이상이다')\n",
    "\n",
    "if z_value>z_alpha:\n",
    "    print('귀무가설을 기각하고 대립가설을 채택한다. 따라서 새로운 치료법을 받은 환자의 생존기간은 4.2년 이상이다')\n",
    "else:\n",
    "    print('귀무가설을 채택한다. 따라서 새로운 치료법을 받은 환자의 생존기간은 4.2년 이상이 아니다')\n"
   ]
  },
  {
   "cell_type": "code",
   "execution_count": 117,
   "id": "2132babe-ea96-4d0b-8280-ef1ce157ce61",
   "metadata": {},
   "outputs": [
    {
     "name": "stdout",
     "output_type": "stream",
     "text": [
      "본 검정의 p-value는 0.007356918302264259이다\n"
     ]
    }
   ],
   "source": [
    "pvalue=1-norm.cdf(z_value)\n",
    "print(f'본 검정의 p-value는 {pvalue}이다')"
   ]
  },
  {
   "cell_type": "markdown",
   "id": "8s2nugvc",
   "metadata": {},
   "source": [
    "# @@@@@@@@@@@@@@@@@@@@@@@@@@@@@@"
   ]
  },
  {
   "cell_type": "markdown",
   "id": "7e1d3be0",
   "metadata": {},
   "source": [
    "10.3.16     \n",
    "한 회사에서는 땅콩, 호두, 마카다미아 등을 혼합하여 캔으로 판매하고 있는데 내용물의 25%가 값 비싼 마카다미아라는 표지를 붙이고 있다고 한다. 이 표지가 과대선전일지도 모른다고 생각한 검사\n",
    "자가 35개의 캔을 임의로 추출하여 마카다미아의 혼합비율을 측정하였다. 이들 측정치들의 평균과 표준편차는 각각 23.5과 3.1로 밝혀졌다. 이들 결과들은 검사자의 신념을 지지할 수 있는 강한 증 거를 제시하는가?"
   ]
  },
  {
   "cell_type": "markdown",
   "id": "039lwcga",
   "metadata": {},
   "source": [
    "#### 조치원"
   ]
  },
  {
   "cell_type": "code",
   "execution_count": 4,
   "id": "0a0985e4",
   "metadata": {
    "colab": {
     "base_uri": "https://localhost:8080/"
    },
    "executionInfo": {
     "elapsed": 315,
     "status": "ok",
     "timestamp": 1693444084552,
     "user": {
      "displayName": "김지현",
      "userId": "13398789046800870585"
     },
     "user_tz": -540
    },
    "id": "0a0985e4",
    "outputId": "50d5e13a-a645-497e-fa05-807c123a9ef3"
   },
   "outputs": [
    {
     "name": "stdout",
     "output_type": "stream",
     "text": [
      "검정통계량:  -2.8626\n",
      "임계값:  -1.6449\n",
      "검정통계량<임계값\n",
      "네. 내용물의 25%가 비싼 마카다미아라는 귀무가설을 기각한다\n",
      "p값도 0.0021로 유의수준 0.05보다 작은 값이므로 귀무가설 기각\n"
     ]
    }
   ],
   "source": [
    "#유의수준 5%의 단측검정 실시\n",
    "#검정통계량\n",
    "s_mean = 23.5\n",
    "s_var = 3.1**2\n",
    "n=35\n",
    "z = (s_mean - 25)/np.sqrt(s_var/35)\n",
    "print('검정통계량: ',round(z,4))\n",
    "\n",
    "#임계값\n",
    "rv = stats.norm()\n",
    "print('임계값: ',round(rv.isf(0.95),4))\n",
    "\n",
    "print('검정통계량<임계값')\n",
    "print('네. 내용물의 25%가 비싼 마카다미아라는 귀무가설을 기각한다')\n",
    "\n",
    "#p값을 사용한 가설검정\n",
    "p = rv.cdf(z)\n",
    "print(f'p값도 {round(p,4)}로 유의수준 0.05보다 작은 값이므로 귀무가설 기각')"
   ]
  },
  {
   "cell_type": "markdown",
   "id": "i50j0hkf",
   "metadata": {},
   "source": [
    "#### 동해"
   ]
  },
  {
   "cell_type": "code",
   "execution_count": 32,
   "id": "9203a802",
   "metadata": {
    "ExecuteTime": {
     "end_time": "2023-08-30T10:22:20.040831Z",
     "start_time": "2023-08-30T10:22:20.014174Z"
    }
   },
   "outputs": [
    {
     "name": "stdout",
     "output_type": "stream",
     "text": [
      "귀무가설(H0) : 캔 내용물의 25%가 값비싼 마카다미아로 이루어져 있다.\n",
      "대립가설(H1) : 캔 내용물의 25%가 값비싼 마카다미아로 이루어져 있지 않다.\n",
      "\n",
      "통계량 : -2.862619249886911, pvalue : 0.00714380947850948\n",
      "0.00714380947850948값이 0.05보다 작으므로 귀무가설을 기각한다. 따라서 캔 내용물의 25%가 값비싼 마카다미아로 이루어져 있지 않다고 결론내린다.\n"
     ]
    }
   ],
   "source": [
    "print(\"귀무가설(H0) : 캔 내용물의 25%가 값비싼 마카다미아로 이루어져 있다.\")\n",
    "print(\"대립가설(H1) : 캔 내용물의 25%가 값비싼 마카다미아로 이루어져 있지 않다.\")\n",
    "\n",
    "# 표본 평균\n",
    "s_mean = 23.5\n",
    "# 모평균 \n",
    "m_mean = 25\n",
    "# 표준 편차\n",
    "u_std = 3.1\n",
    "# 표본 개수\n",
    "n = 35\n",
    "# 분포 정의\n",
    "rv = stats.t(df = n-1)\n",
    "\n",
    "# 통계량 계산\n",
    "t_stat = (s_mean-m_mean)/(u_std/np.sqrt(n))\n",
    "p = rv.cdf(t_stat)*2\n",
    "print()\n",
    "print(\"통계량 : {}, pvalue : {}\".format(t_stat, p))\n",
    "print(f\"{p}값이 0.05보다 작으므로 귀무가설을 기각한다. 따라서 캔 내용물의 25%가 값비싼 마카다미아로 이루어져 있지 않다고 결론내린다.\")"
   ]
  },
  {
   "cell_type": "markdown",
   "id": "m5cdo8n4",
   "metadata": {},
   "source": [
    "#### 경주"
   ]
  },
  {
   "cell_type": "code",
   "execution_count": 192,
   "id": "67c840de",
   "metadata": {},
   "outputs": [
    {
     "name": "stdout",
     "output_type": "stream",
     "text": [
      "검정 통계량: 44.37059837324712\n",
      "1.959963984540054\n",
      "0.0\n",
      "검정 결과 통계량이 z값보다 크므로 귀무가설 기각\n"
     ]
    }
   ],
   "source": [
    "from scipy.stats import t,norm\n",
    "\n",
    "sample_mean = 23.5 \n",
    "mean = 0.25    \n",
    "std = 3.1   \n",
    "n = 35           \n",
    "\n",
    "stat = (sample_mean -mean) / (std / (n ** 0.5))\n",
    "\n",
    "df = n - 1\n",
    "z = norm.ppf(1 - alpha/2)\n",
    "p = (1-norm.cdf(np.abs(stat)))*2\n",
    "\n",
    "print(\"검정 통계량:\", stat)\n",
    "print(z)\n",
    "print(p)\n",
    "print(\"검정 결과 통계량이 z값보다 크므로 귀무가설 기각\")\n"
   ]
  },
  {
   "cell_type": "markdown",
   "id": "dc3tc0ek",
   "metadata": {},
   "source": [
    "#### 성남"
   ]
  },
  {
   "cell_type": "code",
   "execution_count": 119,
   "id": "a622dea7",
   "metadata": {},
   "outputs": [
    {
     "name": "stdout",
     "output_type": "stream",
     "text": [
      "Z-value의 값은  -2.862619249886911\n",
      "이 때의 P value 값은  0.0021007756063497426\n"
     ]
    }
   ],
   "source": [
    "#유의수준 0.05에서 검정\n",
    "mean=23.5\n",
    "std=3.1\n",
    "num=35\n",
    "\n",
    "z_alpha=norm.ppf(1-0.05)\n",
    "z_value=(mean-25)/(std/np.sqrt(num))\n",
    "\n",
    "print('Z-value의 값은 ', z_value)\n",
    "print('이 때의 P value 값은 ',norm.cdf(z_value))"
   ]
  },
  {
   "cell_type": "markdown",
   "id": "0ca5b624-8533-4e65-b94d-15cac0737a62",
   "metadata": {},
   "source": [
    "유의수준 0.05에서 p-value의 값이 0.05 이하이므로 측정치의 모평균은 25 이하임을 강력하게 지지한다.\n",
    "<br>따라서 검사자의 신념을 지지하는 강한 증거를 제시한다."
   ]
  },
  {
   "cell_type": "markdown",
   "id": "p9sozny9",
   "metadata": {},
   "source": [
    "# @@@@@@@@@@@@@@@@@@@@@@@@@@@@@@"
   ]
  },
  {
   "cell_type": "markdown",
   "id": "063b8891",
   "metadata": {},
   "source": [
    "예제 10.9    \n",
    "어느 통신판매회사에서는 하나의 새로운 상품을 그 달의 특별상품으로 판매하고자 한다.       \n",
    "그 회사에서 관리하는 만 명의 고객명단에서 임의로 250명을 추출하여 안내책자를 발송한 결과 그 중 70명이 구입을 희망 하였다고 한다.      \n",
    "이 표본자료에 근거해서 전체 고객 중 그 상품에 대한 구입을 원하는 모비율(p)을 추정하고, 그 추정량의 표준오차를 구하라."
   ]
  },
  {
   "cell_type": "markdown",
   "id": "j3y8d0w0",
   "metadata": {},
   "source": [
    "#### 세종"
   ]
  },
  {
   "cell_type": "code",
   "execution_count": 24,
   "id": "13a3bdbb",
   "metadata": {},
   "outputs": [
    {
     "name": "stdout",
     "output_type": "stream",
     "text": [
      "0.28\n",
      "0.028397182958878157\n"
     ]
    }
   ],
   "source": [
    "#표본비율로 모비율을 추정\n",
    "#크기가 N인 표본에서 성공횟수는 이항분포를 따른다는 사실을 구간추정 및 검정에 이용\n",
    "\n",
    "#표본비율\n",
    "p = 70/250\n",
    "#n = 70/p, n(1-p)=180\n",
    "n = 250\n",
    "q = 1-p\n",
    "se = math.sqrt((p*q/n))\n",
    "\n",
    "print(p) # 모비율\n",
    "print(se) # 표준오차"
   ]
  },
  {
   "cell_type": "markdown",
   "id": "j41dq5it",
   "metadata": {},
   "source": [
    "#### 부산"
   ]
  },
  {
   "cell_type": "code",
   "execution_count": 25,
   "id": "b573f037",
   "metadata": {},
   "outputs": [
    {
     "name": "stdout",
     "output_type": "stream",
     "text": [
      "모비율 추정 :  0.28\n",
      "추정량의 표준오차 :  0.028397182958878157\n"
     ]
    }
   ],
   "source": [
    "# 예제 10.9 : 모비율 추정 : 0.28 / 표준오차 : 0.028\n",
    "\n",
    "p_hat = 70/250\n",
    "n = 250\n",
    "print(\"모비율 추정 : \", p_hat)\n",
    "\n",
    "# 표본비율의 표준오차 (SE)\n",
    "SE = np.sqrt(p_hat * (1 - p_hat)/n)\n",
    "print(\"추정량의 표준오차 : \", SE)"
   ]
  },
  {
   "cell_type": "markdown",
   "id": "dmuq9j2h",
   "metadata": {},
   "source": [
    "#### 경주"
   ]
  },
  {
   "cell_type": "code",
   "execution_count": 246,
   "id": "1ab3379e",
   "metadata": {},
   "outputs": [
    {
     "name": "stdout",
     "output_type": "stream",
     "text": [
      "0.28\n",
      "0.03174901573277509\n"
     ]
    }
   ],
   "source": [
    "n=200\n",
    "p=70/250\n",
    "se = (p*(1-p)/n)**0.5\n",
    "print(p)\n",
    "print(se)"
   ]
  },
  {
   "cell_type": "markdown",
   "id": "nmii7l7j",
   "metadata": {},
   "source": [
    "#### 성남"
   ]
  },
  {
   "cell_type": "code",
   "execution_count": 124,
   "id": "d5c7ee17",
   "metadata": {},
   "outputs": [
    {
     "name": "stdout",
     "output_type": "stream",
     "text": [
      "신뢰수준 95%의 신뢰구간은  [0.22434254413820426, 0.3356574558617958]\n",
      "추정량의 표준 오차는  0.028397182958878157\n"
     ]
    }
   ],
   "source": [
    "#유의수준 0.05로 설정\n",
    "prob=70/250\n",
    "num=250\n",
    "z_alpha=norm.ppf(1-0.05/2)\n",
    "std_error=np.sqrt(prob*(1-prob)/num)\n",
    "z_value=z_alpha*std_error\n",
    "\n",
    "confidence_upper=prob+z_value\n",
    "confidence_lower=prob-z_value\n",
    "print('신뢰수준 95%의 신뢰구간은 ',[confidence_lower, confidence_upper])\n",
    "print('추정량의 표준 오차는 ',std_error)"
   ]
  },
  {
   "cell_type": "markdown",
   "id": "t76h20tf",
   "metadata": {},
   "source": [
    "# @@@@@@@@@@@@@@@@@@@@@@@@@@@@@@"
   ]
  },
  {
   "cell_type": "markdown",
   "id": "1b71d220",
   "metadata": {},
   "source": [
    "예제 10.10    \n",
    "한 도시의 노동인구 500명 중 41 명이 실업자로 나타났다고 하였다. 이 자료로부터 그 도시의 실업률 p에 대한 95% 신뢰구간을 구하라."
   ]
  },
  {
   "cell_type": "markdown",
   "id": "fxbvesbs",
   "metadata": {},
   "source": [
    "#### 조치원"
   ]
  },
  {
   "cell_type": "code",
   "execution_count": 5,
   "id": "8f41449a",
   "metadata": {
    "colab": {
     "base_uri": "https://localhost:8080/"
    },
    "executionInfo": {
     "elapsed": 338,
     "status": "ok",
     "timestamp": 1693444139402,
     "user": {
      "displayName": "김지현",
      "userId": "13398789046800870585"
     },
     "user_tz": -540
    },
    "id": "8f41449a",
    "outputId": "5aa3e991-3772-4510-d48c-df7de86d0c9b"
   },
   "outputs": [
    {
     "name": "stdout",
     "output_type": "stream",
     "text": [
      "95% 신뢰구간 : 0.05795131379112069 0.10604868620887932\n",
      "----------\n",
      "95% 신뢰구간: (0.05795131379112069, 0.10604868620887932)\n"
     ]
    }
   ],
   "source": [
    "#베르누이 분포의 모평균 구간추정\n",
    "p = 41/500\n",
    "n = 500\n",
    "rv = stats.norm()\n",
    "lcl = p - rv.isf(0.025) * np.sqrt(p*(1-p)/n)\n",
    "ucl = p - rv.isf(0.975) * np.sqrt(p*(1-p)/n)\n",
    "print('95% 신뢰구간 :',lcl,ucl)\n",
    "\n",
    "print('-'*10)\n",
    "\n",
    "#chapgpt풀이\n",
    "\n",
    "n = 500  # 노동인구 수\n",
    "x = 41   # 실업자 수\n",
    "confidence_level = 0.95  # 신뢰수준\n",
    "\n",
    "p_hat = x / n  # 표본에서의 실업률 추정치\n",
    "std_error = math.sqrt(p_hat * (1 - p_hat) / n)  # 표본에서의 표준 오차\n",
    "\n",
    "# 신뢰구간 계산\n",
    "margin_of_error = stats.norm.ppf((1 + confidence_level) / 2) * std_error\n",
    "confidence_interval = (p_hat - margin_of_error, p_hat + margin_of_error)\n",
    "\n",
    "print(\"95% 신뢰구간:\", confidence_interval)"
   ]
  },
  {
   "cell_type": "markdown",
   "id": "n4tu5n29",
   "metadata": {},
   "source": [
    "#### 동해"
   ]
  },
  {
   "cell_type": "code",
   "execution_count": 17,
   "id": "1a19ef7d",
   "metadata": {
    "ExecuteTime": {
     "end_time": "2023-08-30T09:50:45.886783Z",
     "start_time": "2023-08-30T09:50:45.870903Z"
    }
   },
   "outputs": [
    {
     "name": "stdout",
     "output_type": "stream",
     "text": [
      "p에 대한 95% 신뢰구간은 [0.05795131379112069, 0.10604868620887932]이다.\n"
     ]
    }
   ],
   "source": [
    "import numpy as np\n",
    "from scipy import stats\n",
    "\n",
    "# 표본비율 :p/ 샘플 수 : n/ 표준 오차 : se\n",
    "# 해당 분포는 정규분포를 따르며 rv.isf(0.025), rv.isf(0.975)를 통해 분위수를 구할 수 있다.\n",
    "p = 41/500\n",
    "n = 500\n",
    "se = np.sqrt(p*(1-p)/n)\n",
    "rv = stats.norm()\n",
    "\n",
    "lower = p-rv.isf(0.025)*se\n",
    "upper = p-rv.isf(0.975)*se\n",
    "\n",
    "print(f\"p에 대한 95% 신뢰구간은 {[lower, upper]}이다.\")"
   ]
  },
  {
   "cell_type": "markdown",
   "id": "cjzls8qa",
   "metadata": {},
   "source": [
    "#### 경주"
   ]
  },
  {
   "cell_type": "code",
   "execution_count": 247,
   "id": "ac8eee17",
   "metadata": {},
   "outputs": [
    {
     "data": {
      "text/plain": [
       "(0.05795131379112069, 0.10604868620887932)"
      ]
     },
     "execution_count": 247,
     "metadata": {},
     "output_type": "execute_result"
    }
   ],
   "source": [
    "p = 41/500\n",
    "n=500\n",
    "\n",
    "norm.interval(alpha=0.95, loc=p, scale=np.sqrt(p*(1-p)/n))"
   ]
  },
  {
   "cell_type": "markdown",
   "id": "gps4o2ik",
   "metadata": {},
   "source": [
    "#### 성남"
   ]
  },
  {
   "cell_type": "code",
   "execution_count": 125,
   "id": "5e79f95f",
   "metadata": {},
   "outputs": [
    {
     "name": "stdout",
     "output_type": "stream",
     "text": [
      "실업률 p의 95%의 신뢰구간은  [0.05795131379112069, 0.10604868620887932]\n"
     ]
    }
   ],
   "source": [
    "prob=41/500\n",
    "num=500\n",
    "z_alpha=norm.ppf(1-0.05/2)\n",
    "std_error=np.sqrt(prob*(1-prob)/num)\n",
    "\n",
    "confidence_upper=prob+z_alpha*std_error\n",
    "confidence_lower=prob-z_alpha*std_error\n",
    "print('실업률 p의 95%의 신뢰구간은 ',[confidence_lower, confidence_upper])"
   ]
  },
  {
   "cell_type": "markdown",
   "id": "yxshtr9v",
   "metadata": {},
   "source": [
    "# @@@@@@@@@@@@@@@@@@@@@@@@@@@@@@"
   ]
  },
  {
   "cell_type": "markdown",
   "id": "62a992c9",
   "metadata": {},
   "source": [
    "예제 10.12     \n",
    "어떤 특정한 암의 경우에 수술을 시행한 후 완치되는 비율(5년 이상 생존비율)이 30%라고 한다. 이 암에 걸린 60명의 환자를 대상으로 수술뿐 아니라 수술 전후에 일정기간 방사선치료를 병행하였더니 60명 중 27명이 완치되었다고 한다. 이 자료로부터 수술만 하는 것보다 방사선치료를 병행하는 것이 암의 완치율(p)을 높이는 데 효과가 있다고 할 수 있는지 검정하라."
   ]
  },
  {
   "cell_type": "markdown",
   "id": "bz2q9lzv",
   "metadata": {},
   "source": [
    "#### 양구"
   ]
  },
  {
   "cell_type": "markdown",
   "id": "8fa1ddd4",
   "metadata": {},
   "source": [
    "Z = $\\frac{\\widehat{P}-P_0}{\\sqrt{\\frac{P_0(1-P_0)}{n}}}$ , H1 p < p0 p>p0 (단측검정) p!=p0 (양측검정)"
   ]
  },
  {
   "cell_type": "code",
   "execution_count": 35,
   "id": "6499ec1a",
   "metadata": {},
   "outputs": [
    {
     "name": "stdout",
     "output_type": "stream",
     "text": [
      "검정통계량 2.54 의 확률값은 0.9945 로 유의수준 0.05나 0.01에서도 유의하다고 할 수 있다. \n",
      "따라서 H0를 기각-수술후 완치율 30%에서 방사선 치료 병행시 유의미한 생존율 향상이 있다고 할 수 있다. \n"
     ]
    }
   ],
   "source": [
    "#모비율 p 검정\n",
    "#H0 = P0, H1 > P0 검정하면 된다\n",
    "import numpy as np\n",
    "p0 = 0.3\n",
    "p = 27/60\n",
    "n = 60\n",
    "Z = (p - p0)/np.sqrt(p0*(1-p0)/60)\n",
    "print('검정통계량',round(Z,2),'의 확률값은 0.9945 로 유의수준 0.05나 0.01에서도 유의하다고 할 수 있다. ')\n",
    "print('따라서 H0를 기각-수술후 완치율 30%에서 방사선 치료 병행시 유의미한 생존율 향상이 있다고 할 수 있다. ')"
   ]
  },
  {
   "cell_type": "markdown",
   "id": "ru2lvw2f",
   "metadata": {},
   "source": [
    "#### 경주"
   ]
  },
  {
   "cell_type": "code",
   "execution_count": 260,
   "id": "c9d298e7",
   "metadata": {},
   "outputs": [
    {
     "name": "stdout",
     "output_type": "stream",
     "text": [
      "1.6970562748477143\n",
      "0.08968602177036455\n",
      "귀무가설:수술만 하는 것보다 방사선치료를 병행하는 것이 암의 완치율(p)을 높이는 데 효과가 없다 \n",
      "대립가설:수술만 하는 것보다 방사선치료를 병행하는 것이 암의 완치율(p)을 높이는 데 효과가 있다\n",
      "귀무가설 기각 X\n"
     ]
    }
   ],
   "source": [
    "n1 = 60; x1 = 18;\n",
    "n2 = 60; x2 = 27;\n",
    "p2 = x1/n1; p1 = x2/n2\n",
    "d = p1-p2\n",
    "pe = (x1+x2)/(n1+n2)\n",
    "se = np.sqrt(pe*(1-pe)*(1/n1+1/n2))\n",
    "\n",
    "stat = d/se\n",
    "p = (1-norm.cdf(np.abs(stat)))*2\n",
    "print(stat)\n",
    "print(p)\n",
    "print('귀무가설:수술만 하는 것보다 방사선치료를 병행하는 것이 암의 완치율(p)을 높이는 데 효과가 없다 ')\n",
    "print('대립가설:수술만 하는 것보다 방사선치료를 병행하는 것이 암의 완치율(p)을 높이는 데 효과가 있다')\n",
    "print('귀무가설 기각 X')"
   ]
  },
  {
   "cell_type": "markdown",
   "id": "jhink1hc",
   "metadata": {},
   "source": [
    "#### 성남"
   ]
  },
  {
   "cell_type": "code",
   "execution_count": 136,
   "id": "9e6d8833",
   "metadata": {},
   "outputs": [
    {
     "name": "stdout",
     "output_type": "stream",
     "text": [
      "방사선 치료를 병행하는 것은 완치율을 높이지 않는다\n"
     ]
    }
   ],
   "source": [
    "from statsmodels.stats.proportion import proportions_ztest\n",
    "\n",
    "count_new=27\n",
    "count_old=0.3*60\n",
    "z_alpha=norm.ppf(1-0.05)\n",
    "\n",
    "num=60\n",
    "\n",
    "z_value, p_value=proportions_ztest([count_new, count_old], [num,num])\n",
    "\n",
    "if z_value>z_alpha:\n",
    "    print('방사선 치료를 병행하는 것은 완치율을 높이지 않는다')\n",
    "else:\n",
    "    print('방사선 치료를 병행하는 것은 완치율은 높인다')"
   ]
  },
  {
   "cell_type": "markdown",
   "id": "1qwchnxa",
   "metadata": {},
   "source": [
    "# @@@@@@@@@@@@@@@@@@@@@@@@@@@@@@"
   ]
  },
  {
   "cell_type": "markdown",
   "id": "5a295123",
   "metadata": {},
   "source": [
    "10.4.6     \n",
    "3년동안 한 산업단지 내의 잣나무 중 90%가 죽은것으로 밝혀졌다.공해에 저항력이 강한 새로운 종이 현재 연구 중에 있는데,      \n",
    "첫 실험의 반응을 관찰한 결과, 같은 지역에서 3년 동안 새로운 종 45개체의 묘목 중에 28개체가 죽었다고 한다.       \n",
    "새로운 종의 3년간의 고사율을 추정하고 90% 신뢰구간을 구하라."
   ]
  },
  {
   "cell_type": "markdown",
   "id": "kgalom8s",
   "metadata": {},
   "source": [
    "#### 양구"
   ]
  },
  {
   "cell_type": "code",
   "execution_count": 38,
   "id": "d5d51690",
   "metadata": {},
   "outputs": [
    {
     "name": "stdout",
     "output_type": "stream",
     "text": [
      "고사율 :  0.62\n",
      "90% 신뢰구간 고사율 범위: 0.5  ~  0.74\n"
     ]
    }
   ],
   "source": [
    "p = 28/45 #새로운 종 고사율\n",
    "n = 45 #개체수\n",
    "std = np.sqrt(p*(1-p)/n) #표준오차\n",
    "alpha = 0.1 #유의수준\n",
    "z_9 = stats.norm.ppf(1 - (alpha) / 2) #표본통계량값\n",
    "\n",
    "print('고사율 : ',round(p,2))\n",
    "print('90% 신뢰구간 고사율 범위:',round(p - z_9*std,2),' ~ ',round(p + z_9*std,2))"
   ]
  },
  {
   "cell_type": "markdown",
   "id": "0hnrlhid",
   "metadata": {},
   "source": [
    "#### 강릉"
   ]
  },
  {
   "cell_type": "code",
   "execution_count": 153,
   "id": "c917aa09",
   "metadata": {},
   "outputs": [
    {
     "name": "stdout",
     "output_type": "stream",
     "text": [
      "답안\n",
      "고사율은0.6222\n",
      "90% 신뢰도구간은 (0.5033, 0.7411)이다.\n"
     ]
    }
   ],
   "source": [
    "import scipy.stats as stats\n",
    "import math\n",
    "\n",
    "# 주어진 데이터\n",
    "observed_dead = 28\n",
    "total_samples = 45\n",
    "confidence_level = 0.90\n",
    "\n",
    "# 새로운 종의 3년간 고사율 추정\n",
    "estimated_death_rate = observed_dead / total_samples\n",
    "\n",
    "# 신뢰구간 계산\n",
    "z_value = stats.norm.ppf(1 - (1 - confidence_level) / 2)\n",
    "confidence_interval = z_value * math.sqrt((estimated_death_rate * (1 - estimated_death_rate)) / total_samples)\n",
    "\n",
    "lower_bound = estimated_death_rate - confidence_interval\n",
    "upper_bound = estimated_death_rate + confidence_interval\n",
    "\n",
    "\n",
    "print('답안\\n고사율은' f\"{estimated_death_rate:.4f}\")\n",
    "print('90% 신뢰도구간은' f\" ({lower_bound:.4f}, {upper_bound:.4f})\"  '이다.')\n"
   ]
  },
  {
   "cell_type": "markdown",
   "id": "taqejl30",
   "metadata": {},
   "source": [
    "#### 경주"
   ]
  },
  {
   "cell_type": "code",
   "execution_count": 269,
   "id": "74d6e07b",
   "metadata": {},
   "outputs": [
    {
     "name": "stdout",
     "output_type": "stream",
     "text": [
      "(0.5033413555654802, 0.7411030888789643)\n"
     ]
    }
   ],
   "source": [
    "p=28/45\n",
    "n=45\n",
    "se = np.sqrt(p*(1-p)/n)\n",
    "print(norm.interval(alpha=0.9, loc=p,scale=se))"
   ]
  },
  {
   "cell_type": "markdown",
   "id": "n25sxw1s",
   "metadata": {},
   "source": [
    "#### 수원"
   ]
  },
  {
   "cell_type": "code",
   "execution_count": 22,
   "id": "a478e953",
   "metadata": {},
   "outputs": [
    {
     "name": "stdout",
     "output_type": "stream",
     "text": [
      "고사율 추정: 0.6222222222222222\n",
      "90.0% 신뢰구간: (0.5033413555654802, 0.7411030888789643)\n"
     ]
    }
   ],
   "source": [
    "import math\n",
    "\n",
    "# 주어진 정보\n",
    "x = 28  # 고사한 개체 수\n",
    "n = 45  # 전체 개체 수\n",
    "confidence_level = 0.90  # 90% 신뢰수준\n",
    "\n",
    "# 고사율 추정\n",
    "p_hat = x / n\n",
    "\n",
    "# 표준 정규 분포의 분위수 계산\n",
    "z_value = abs(stats.norm.ppf((1 - confidence_level) / 2))\n",
    "\n",
    "# 신뢰구간 계산\n",
    "confidence_interval_lower = p_hat - z_value * math.sqrt((p_hat * (1 - p_hat)) / n)\n",
    "confidence_interval_upper = p_hat + z_value * math.sqrt((p_hat * (1 - p_hat)) / n)\n",
    "\n",
    "print(\"고사율 추정:\", p_hat)\n",
    "print(f\"{confidence_level * 100}% 신뢰구간: ({confidence_interval_lower}, {confidence_interval_upper})\")\n"
   ]
  },
  {
   "cell_type": "markdown",
   "id": "cdh38wre",
   "metadata": {},
   "source": [
    "#### 성남"
   ]
  },
  {
   "cell_type": "code",
   "execution_count": null,
   "id": "5a51f062",
   "metadata": {},
   "outputs": [],
   "source": [
    "prob=28/45"
   ]
  },
  {
   "cell_type": "markdown",
   "id": "mvhpq43w",
   "metadata": {},
   "source": [
    "# @@@@@@@@@@@@@@@@@@@@@@@@@@@@@@"
   ]
  },
  {
   "cell_type": "markdown",
   "id": "ca7dd47f",
   "metadata": {},
   "source": [
    "10.4.8     \n",
    "1988년에 졸업한 고등학생 중 전국에서 임의로 750명을 대상으로 실시한 설문조사에서 59.8%가 대학에 진학하였고, 4.2%가 직업훈련소에 입소한 반면 36%는 더 이상의 교육을 받지 못하였다는 결과가 나왔다.\n",
    "(1) 1988년에 졸업한 고등학생 중 졸업한 고등학생 중 대학에 진학한 학생의 모비율에 대한 95% 신뢰구간을 구하라.\n",
    "(2) 1988년에 졸업한 고등학생 중 직업훈련소에 입소한 고등학생의 모비율에 대한 90% 신뢰구간 을 구하라"
   ]
  },
  {
   "cell_type": "markdown",
   "id": "y2fuuie9",
   "metadata": {},
   "source": [
    "#### 철원"
   ]
  },
  {
   "cell_type": "code",
   "execution_count": 30,
   "id": "4337128c",
   "metadata": {},
   "outputs": [],
   "source": [
    "import numpy as np\n",
    "from scipy import stats"
   ]
  },
  {
   "cell_type": "markdown",
   "id": "039d8f58",
   "metadata": {},
   "source": [
    "(1) 1988년에 졸업한 고등학생 중 졸업한 고등학생 중 대학에 진학한 학생의 모비율에 대한 95% 신뢰구간을 구하라."
   ]
  },
  {
   "cell_type": "code",
   "execution_count": 32,
   "id": "3fed5560",
   "metadata": {},
   "outputs": [
    {
     "name": "stdout",
     "output_type": "stream",
     "text": [
      "[0.5629101850549273, 0.6330898149450727]\n"
     ]
    }
   ],
   "source": [
    "z_alpha = stats.norm.ppf(1- 0.05/2)\n",
    "p = 0.598\n",
    "se = np.sqrt(p*(1-p)/750)\n",
    "interval = z_alpha * se\n",
    "CI = [p - interval, p + interval]\n",
    "print(CI)"
   ]
  },
  {
   "cell_type": "markdown",
   "id": "0626433e",
   "metadata": {},
   "source": [
    "(2) 1988년에 졸업한 고등학생 중 직업훈련소에 입소한 고등학생의 모비율에 대한 90% 신뢰구간 을 구하라"
   ]
  },
  {
   "cell_type": "code",
   "execution_count": 34,
   "id": "8387b463",
   "metadata": {},
   "outputs": [
    {
     "name": "stdout",
     "output_type": "stream",
     "text": [
      "[0.02995230332282097, 0.054047696677179034]\n"
     ]
    }
   ],
   "source": [
    "z_alpha = stats.norm.ppf(1- 0.1/2)\n",
    "p = 0.042\n",
    "se = np.sqrt(p*(1-p)/750)\n",
    "interval = z_alpha * se\n",
    "CI = [p - interval, p + interval]\n",
    "print(CI)"
   ]
  },
  {
   "cell_type": "markdown",
   "id": "t7z4p14s",
   "metadata": {},
   "source": [
    "#### 경주"
   ]
  },
  {
   "cell_type": "code",
   "execution_count": 273,
   "id": "6a43be7c",
   "metadata": {},
   "outputs": [
    {
     "name": "stdout",
     "output_type": "stream",
     "text": [
      "(1) (0.5629101850549273, 0.6330898149450727)\n",
      "(2) (0.029952303322820964, 0.054047696677179034)\n"
     ]
    }
   ],
   "source": [
    "p1 = 59.8/100 #대학\n",
    "p2 = 4.2/100 #직업훈련소\n",
    "\n",
    "se1 = np.sqrt(p1*(1-p1)/750)\n",
    "se2 = np.sqrt(p2*(1-p2)/750)\n",
    "\n",
    "print('(1)', norm.interval(alpha=0.95,loc=p1,scale=se1))\n",
    "print('(2)', norm.interval(alpha=0.9,loc=p2,scale=se2))"
   ]
  },
  {
   "cell_type": "markdown",
   "id": "exfy31dt",
   "metadata": {},
   "source": [
    "#### 성남"
   ]
  },
  {
   "cell_type": "code",
   "execution_count": 71,
   "id": "1ce1a007",
   "metadata": {},
   "outputs": [
    {
     "name": "stdout",
     "output_type": "stream",
     "text": [
      "대학에 진학한 학생의 모비율에 대한 신뢰구간 : [0.5629101850549273, 0.6330898149450727]\n"
     ]
    }
   ],
   "source": [
    "#대학에 진학한 학생의 모비율\n",
    "\n",
    "z_alpha_univ=norm.ppf(1-0.05/2)\n",
    "prob_univ=0.598\n",
    "num=750\n",
    "std_univ=np.sqrt(prob_univ*(1-prob_univ)/num)\n",
    "\n",
    "confidence_lower_univ=prob_univ-z_alpha_univ*std_univ\n",
    "confidence_upper_univ=prob_univ+z_alpha_univ*std_univ\n",
    "\n",
    "print('대학에 진학한 학생의 모비율에 대한 신뢰구간 :', [confidence_lower_univ, confidence_upper_univ])"
   ]
  },
  {
   "cell_type": "code",
   "execution_count": 72,
   "id": "4cd80eff-adf0-4a65-9f55-b989387b9363",
   "metadata": {},
   "outputs": [
    {
     "name": "stdout",
     "output_type": "stream",
     "text": [
      "직업훈련소에 입소한 학생의 모비율에 대한 신뢰구간 : [0.02995230332282097, 0.054047696677179034]\n"
     ]
    }
   ],
   "source": [
    "#직업훈련소에 입소한 학생의 모비율\n",
    "\n",
    "z_alpha_work=norm.ppf(1-0.1/2)\n",
    "prob_work=0.042\n",
    "num=750\n",
    "std_work=np.sqrt(prob_work*(1-prob_work)/num)\n",
    "\n",
    "confidence_lower_work=prob_work-z_alpha_work*std_work\n",
    "confidence_upper_work=prob_work+z_alpha_work*std_work\n",
    "\n",
    "print('직업훈련소에 입소한 학생의 모비율에 대한 신뢰구간 :', [confidence_lower_work, confidence_upper_work])"
   ]
  },
  {
   "cell_type": "markdown",
   "id": "4rq7shvh",
   "metadata": {},
   "source": [
    "# @@@@@@@@@@@@@@@@@@@@@@@@@@@@@@"
   ]
  },
  {
   "cell_type": "markdown",
   "id": "a0174eca",
   "metadata": {},
   "source": [
    "10.5.6    \n",
    "어떤 연구자가 모평균을 추정하고자 하는데, 오차가 2.5 이하일 확률이 최소한 95%가 되도록 표본의 크기를 정하려고 한다.      \n",
    "만약 σ= 18로 주어져 있다면 표본의 크기는 얼마로 해야 하겠는가?\n"
   ]
  },
  {
   "cell_type": "markdown",
   "id": "yf4towoo",
   "metadata": {},
   "source": [
    "#### 조치원"
   ]
  },
  {
   "cell_type": "code",
   "execution_count": null,
   "id": "485cbd74",
   "metadata": {
    "id": "485cbd74"
   },
   "outputs": [],
   "source": [
    "#chatgpt풀이\n",
    "confidence_level = 0.95  # 신뢰수준\n",
    "sigma = 18  # 표준편차\n",
    "max_error = 2.5  # 최대 오차\n",
    "\n",
    "# 신뢰수준에 해당하는 Z값 계산\n",
    "z_value = stats.norm.ppf(1 - (1 - confidence_level) / 2)\n",
    "\n",
    "# 표본의 크기 계산\n",
    "sample_size = ((z_value * sigma) / max_error) ** 2\n",
    "sample_size = int(round(sample_size))  # 표본의 크기를 정수로 반올림\n",
    "\n",
    "print(\"표본의 크기:\", sample_size)"
   ]
  },
  {
   "cell_type": "markdown",
   "id": "yc8nkx74",
   "metadata": {},
   "source": [
    "#### 동해"
   ]
  },
  {
   "cell_type": "markdown",
   "id": "73bd0bad",
   "metadata": {},
   "source": [
    "- 모표준편차가 주어졌으므로 z분포를 이용한다. 아래 식을 이용해 n값을 구한다.\n",
    "- $error(2.5) = Z_{0.025}*\\sigma/\\sqrt n$"
   ]
  },
  {
   "cell_type": "code",
   "execution_count": 37,
   "id": "17937e98",
   "metadata": {
    "ExecuteTime": {
     "end_time": "2023-08-30T10:36:06.895890Z",
     "start_time": "2023-08-30T10:36:06.864663Z"
    }
   },
   "outputs": [
    {
     "name": "stdout",
     "output_type": "stream",
     "text": [
      "표본의 크기: 199\n"
     ]
    }
   ],
   "source": [
    "import scipy.stats as stats\n",
    "\n",
    "confidence_level = 0.95  # 95% 신뢰수준\n",
    "z_score = stats.norm.ppf(1 - (1 - confidence_level) / 2)  # 양측 검정을 위한 Z-점수\n",
    "max_error = 2.5  # 최대 오차\n",
    "\n",
    "standard_deviation = 18  # 표준편차\n",
    "\n",
    "# 표본의 크기(n) 계산\n",
    "sample_size = ((z_score * standard_deviation) / max_error)**2\n",
    "sample_size = round(sample_size)  # 표본의 크기는 정수여야 함\n",
    "\n",
    "print(f\"표본의 크기: {sample_size}\")\n"
   ]
  },
  {
   "cell_type": "markdown",
   "id": "miwqcu3t",
   "metadata": {},
   "source": [
    "#### 경주"
   ]
  },
  {
   "cell_type": "code",
   "execution_count": 276,
   "id": "a7c71cb7",
   "metadata": {},
   "outputs": [
    {
     "name": "stdout",
     "output_type": "stream",
     "text": [
      "199.14854400000002\n",
      "199보다 큰 200\n"
     ]
    }
   ],
   "source": [
    "#(z*sigma/e)=n\n",
    "\n",
    "n = (1.96*18/2.5)**2\n",
    "print(n)\n",
    "print('199보다 큰 200')"
   ]
  },
  {
   "cell_type": "markdown",
   "id": "w9lggwgo",
   "metadata": {},
   "source": [
    "#### 성남"
   ]
  },
  {
   "cell_type": "code",
   "execution_count": 155,
   "id": "2926a43a",
   "metadata": {},
   "outputs": [
    {
     "name": "stdout",
     "output_type": "stream",
     "text": [
      "최소 표본의 크기는  200.0\n"
     ]
    }
   ],
   "source": [
    "d=2.5\n",
    "z_alpha=norm.ppf(1-0.05/2)\n",
    "std=18\n",
    "\n",
    "target=((z_alpha*std)/d)**2\n",
    "\n",
    "print('최소 표본의 크기는 ',np.ceil(target))"
   ]
  },
  {
   "cell_type": "markdown",
   "id": "va6pqrbk",
   "metadata": {},
   "source": [
    "# @@@@@@@@@@@@@@@@@@@@@@@@@@@@@@"
   ]
  },
  {
   "cell_type": "markdown",
   "id": "e43148d4",
   "metadata": {},
   "source": [
    "10.5.26     \n",
    "어느 도시의 교육청에서는 올해부터 실시한 수돗물의 불소화 시행이 그 지역 초등학생 중 충치가 있는 비율에 어떤 변화를 주었는지 관심이 있다고 한다 올해 초등학생의 충치비율을 라고 하자 초등학생의 충치비율이 60%는 넘지 않는다고 알려져 있을 때, 에 대한 추정량의 95% 오차범위 가 0.03을 넘지 않으려면 몇 명의 학생을 검사해야 하겠는가?\n"
   ]
  },
  {
   "cell_type": "markdown",
   "id": "siat1pjj",
   "metadata": {},
   "source": [
    "#### 창원"
   ]
  },
  {
   "cell_type": "code",
   "execution_count": 39,
   "id": "f14e406c-03cf-47f5-95a0-37d08b66af07",
   "metadata": {},
   "outputs": [
    {
     "name": "stdout",
     "output_type": "stream",
     "text": [
      "1024.3890188517667\n"
     ]
    }
   ],
   "source": [
    "import scipy.stats as stats\n",
    "cl = 0.95 # 신뢰구간\n",
    "p = 0.6 # 충치비율\n",
    "q = 0.4 # 충치x 비율\n",
    "E = 0.03 # c추정오차 범위\n",
    "\n",
    "# 신뢰수준이 주여졌으니 Z 값 구하기.\n",
    "# 양측 검정을 위해 나누어 계산\n",
    "Z_value = stats.norm.ppf(1 - (1 - cl) / 2)\n",
    "\n",
    "sample_size = (Z_value**2 * p * q) / (E ** 2)\n",
    "print(sample_size)"
   ]
  },
  {
   "cell_type": "markdown",
   "id": "vbwjcknw",
   "metadata": {},
   "source": [
    "#### 경주"
   ]
  },
  {
   "cell_type": "code",
   "execution_count": 320,
   "id": "414e21ab",
   "metadata": {},
   "outputs": [
    {
     "data": {
      "text/plain": [
       "400.0"
      ]
     },
     "execution_count": 278,
     "metadata": {},
     "output_type": "execute_result"
    }
   ],
   "source": [
    "#e=z*np.sqrt(p*(1-p)/n)\n",
    "#n = p*(1-p)*z**2/e**2\n",
    "\n",
    "p=0.6\n",
    "z =norm.ppf(1-0.05/2)\n",
    "e=0.03\n",
    "n = p*(1-p)*z**2/e**2\n",
    "n"
   ]
  },
  {
   "cell_type": "markdown",
   "id": "0b66fyrg",
   "metadata": {},
   "source": [
    "#### 수원"
   ]
  },
  {
   "cell_type": "code",
   "execution_count": 21,
   "id": "105465b5",
   "metadata": {},
   "outputs": [
    {
     "name": "stdout",
     "output_type": "stream",
     "text": [
      "필요한 표본 크기: 1025 명\n"
     ]
    }
   ],
   "source": [
    "import math\n",
    "\n",
    "# 주어진 정보\n",
    "p = 0.6  # 초등학생의 충치 비율\n",
    "max_error = 0.03  # 허용되는 최대 오차범위\n",
    "z_value = 1.96  # 95% 신뢰수준에서의 표준 정규 분포의 분위수\n",
    "\n",
    "# 표본 크기 계산\n",
    "required_sample_size = math.ceil((p * (1 - p)) / ((max_error / z_value) ** 2))\n",
    "\n",
    "print(\"필요한 표본 크기:\", required_sample_size, \"명\")\n"
   ]
  },
  {
   "cell_type": "markdown",
   "id": "uc71np1m",
   "metadata": {},
   "source": [
    "#### 성남"
   ]
  },
  {
   "cell_type": "code",
   "execution_count": 156,
   "id": "e56a1bdd-e85b-4c13-80a2-897169accfff",
   "metadata": {},
   "outputs": [
    {
     "name": "stdout",
     "output_type": "stream",
     "text": [
      "최소 표본의 크기는  1067.0\n"
     ]
    }
   ],
   "source": [
    "d=0.03\n",
    "z_alpha=norm.ppf(1-0.05/2)\n",
    "prob=0.6\n",
    "std=np.sqrt(prob*(1-prob))\n",
    "\n",
    "target=((z_alpha*std)/d**2)\n",
    "\n",
    "print('최소 표본의 크기는 ',np.ceil(target))"
   ]
  },
  {
   "cell_type": "markdown",
   "id": "voj25acx",
   "metadata": {},
   "source": [
    "# @@@@@@@@@@@@@@@@@@@@@@@@@@@@@@"
   ]
  },
  {
   "cell_type": "markdown",
   "id": "76cc4794",
   "metadata": {},
   "source": [
    "예제 11.3    \n",
    "우주선 제작에 쓰기 위해서 새롭게 개발된 합금의 평균 장력 μ를 추정하고자 한다. \n",
    "15개의 새 합금 조각으로부터 장력을 측정한 결과 평균이 39.3, 표준편차가 2.6으로 나타났다.    \n",
    "(1) 새롭게 개발된 합금의 평균장력 μ에 대한 90% 신뢰구간을 구하라.    \n",
    "(2) 모평균 μ가 (1)에서 구한 신뢰구간에 포함되겠는가?         "
   ]
  },
  {
   "cell_type": "markdown",
   "id": "yy5hhhzp",
   "metadata": {},
   "source": [
    "#### 부산"
   ]
  },
  {
   "cell_type": "code",
   "execution_count": 36,
   "id": "876a08eb",
   "metadata": {},
   "outputs": [
    {
     "name": "stdout",
     "output_type": "stream",
     "text": [
      "모평균의 90% 신뢰구간: (38.118, 40.482)\n"
     ]
    }
   ],
   "source": [
    "# 답 \n",
    "# 예제 11.3   : (1) (38.12,40.48) \n",
    "# (2) 모평균 µ 가 (38.12,40.48)에 포함되는가의 여부는 µ가 미지수이기 때문에 전혀 알 수 없다. \n",
    "# 다만 크기가 15인 표본을 여러번 추출하여 이와 같은 신뢰구간을 계속 계산하면 \n",
    "# 그 중 90%정도의 신뢰구간이 µ를 포함 할 것이라는 예상을 할 수 있다.\n",
    "\n",
    "import scipy.stats as stats\n",
    "\n",
    "sample_mean = 39.3  # 표본평균\n",
    "sample_std = 2.6  # 표본표준편차\n",
    "sample_size = 15  # 표본 크기\n",
    "confidence_level = 0.90  # 신뢰수준\n",
    "\n",
    "# 신뢰구간 계산\n",
    "alpha = 1 - confidence_level\n",
    "t_critical = stats.t.ppf(1 - alpha / 2, df=sample_size - 1)\n",
    "margin_of_error = t_critical * (sample_std / (sample_size ** 0.5))\n",
    "\n",
    "lower_bound = sample_mean - margin_of_error\n",
    "upper_bound = sample_mean + margin_of_error\n",
    "\n",
    "# 결과 출력\n",
    "print(f\"모평균의 90% 신뢰구간: ({lower_bound:.3f}, {upper_bound:.3f})\")"
   ]
  },
  {
   "cell_type": "markdown",
   "id": "rb4znc44",
   "metadata": {},
   "source": [
    "#### 경주"
   ]
  },
  {
   "cell_type": "code",
   "execution_count": 355,
   "id": "cb32670a",
   "metadata": {},
   "outputs": [
    {
     "name": "stdout",
     "output_type": "stream",
     "text": [
      "(38.117602363950525, 40.48239763604947)\n",
      "신뢰구간에 포함 된다\n"
     ]
    }
   ],
   "source": [
    "from scipy.stats import t\n",
    "print(t.interval(alpha=0.9, loc=39.3, scale=2.6/15**0.5,df=14))\n",
    "print('신뢰구간에 포함 된다')"
   ]
  },
  {
   "cell_type": "markdown",
   "id": "wskm9haf",
   "metadata": {},
   "source": [
    "# @@@@@@@@@@@@@@@@@@@@@@@@@@@@@@"
   ]
  },
  {
   "cell_type": "markdown",
   "id": "b4a8376c",
   "metadata": {},
   "source": [
    "예제 11.4    \n",
    "어느 도시의 보건복지과에서는 그 도시의 상수원인 어느 호수의 수질에 관심이 있다고 한다. 수질을 나타내는 하나의 수치로 단위부피당 평균 세균수가 있는데, 그 수가 200 이상이면 상수원으로 적합 하지 않다고 한다. 호수의 열 군데에서 물을 떠서 조사한 결과 단위부피당 세균수가 다음과 같이 나타 났다.\n",
    "175 190 215 198 184 207 210 193 196 180\n",
    "이 자료로부터 호수의 단위부피당 평균 세균수(μ)가 200보다 적다고 주장할 수 있겠는가?"
   ]
  },
  {
   "cell_type": "markdown",
   "id": "wjo1csgk",
   "metadata": {},
   "source": [
    "#### 강릉"
   ]
  },
  {
   "cell_type": "code",
   "execution_count": 51,
   "id": "d1ac8999",
   "metadata": {},
   "outputs": [
    {
     "name": "stdout",
     "output_type": "stream",
     "text": [
      "Ttest_1sampResult(statistic=-1.2515695604210733, pvalue=0.24227769374765526)\n",
      "답안\n",
      " 귀무가설: 호수의 평균 세균수는 200이다.\n",
      " 대립가설: 호수의 평균세균수는 200이 아니다.\n",
      " 열군데 호수의 평균 세균수의 일표본 t검정결과 p value는 0.24로 귀무가설을 기각할 수 없다. \n",
      " 따라서 조사한 호수의 수질은 상수원으로 사용할수 없다.\n"
     ]
    }
   ],
   "source": [
    "#보라색 책 330쪽\n",
    "import scipy.stats as stats\n",
    "import math\n",
    "import numpy as np\n",
    "import pandas as pd\n",
    "from scipy.stats import ttest_1samp\n",
    "\n",
    "A=(175,190,215,198,184,207,210,193,196,180)\n",
    "result=stats.ttest_1samp(A,popmean=200)\n",
    "print(result)\n",
    "\n",
    "print('답안\\n 귀무가설: 호수의 평균 세균수는 200이다.\\n 대립가설: 호수의 평균세균수는 200이 아니다.\\\n",
    "\\n 열군데 호수의 평균 세균수의 일표본 t검정결과 p value는 0.24로 귀무가설을 기각할 수 없다. \\n 따라서 조사한 호수의 수질은 상수원으로 사용할수 없다.')"
   ]
  },
  {
   "cell_type": "markdown",
   "id": "p0nti59y",
   "metadata": {},
   "source": [
    "#### 경주"
   ]
  },
  {
   "cell_type": "code",
   "execution_count": 361,
   "id": "ada0bdb0",
   "metadata": {},
   "outputs": [
    {
     "name": "stdout",
     "output_type": "stream",
     "text": [
      "T-statistic: -1.2515695604210733\n",
      "P-value: 0.8788611531261723\n",
      "귀무가설을 채택합니다. 호수의 단위부피당 평균 세균수가 200보다 적다고 할 수 없습니다.\n",
      "194.8\n"
     ]
    }
   ],
   "source": [
    "import numpy as np\n",
    "from scipy.stats import ttest_1samp\n",
    "\n",
    "data = np.array([175, 190, 215, 198, 184, 207, 210, 193, 196, 180])\n",
    "mu = 200  \n",
    "#mu<200 mu>mu0-.one-right\n",
    "t_statistic, p_value = ttest_1samp(data, mu, alternative='greater')\n",
    "\n",
    "alpha = 0.05 \n",
    "print('T-statistic:', t_statistic)\n",
    "print('P-value:', p_value)\n",
    "\n",
    "if p_value < alpha:\n",
    "    print(\"귀무가설을 기각합니다. 호수의 단위부피당 평균 세균수가 200보다 적다고 할 수 있습니다.\")\n",
    "else:\n",
    "    print(\"귀무가설을 채택합니다. 호수의 단위부피당 평균 세균수가 200보다 적다고 할 수 없습니다.\")\n",
    "print(data.mean())"
   ]
  },
  {
   "cell_type": "markdown",
   "id": "xei64i0i",
   "metadata": {},
   "source": [
    "# @@@@@@@@@@@@@@@@@@@@@@@@@@@@@@"
   ]
  },
  {
   "cell_type": "markdown",
   "id": "ae7e03e1",
   "metadata": {},
   "source": [
    "11.3.6    \n",
    "호수오염을 조사하기 위해서 호수 바닥의 침전물층의 상단 25곳에서 각각 1000 cm3의 표본을 채 취하여 납의 농도를 측정하였다. 이들 측정치들의 표본평균과 표준편차는 각각 0.38과 0.06으로\n",
    "나타났다. 호수바닥에서 침전물 1000 cm3 당 납의 평균 농도에 대한 99% 신뢰구간을 구하라.\n"
   ]
  },
  {
   "cell_type": "markdown",
   "id": "8vcoztr5",
   "metadata": {},
   "source": [
    "#### 안동"
   ]
  },
  {
   "cell_type": "code",
   "execution_count": 9,
   "id": "5ed1edb8",
   "metadata": {
    "colab": {
     "base_uri": "https://localhost:8080/"
    },
    "id": "5ed1edb8",
    "outputId": "27ba9fdc-0d98-4929-9a25-937874fb2d89"
   },
   "outputs": [
    {
     "name": "stdout",
     "output_type": "stream",
     "text": [
      "신뢰구간 : 0.346 ~ 0.414\n"
     ]
    }
   ],
   "source": [
    "n=25\n",
    "x=0.38\n",
    "s=0.06\n",
    "conf_a=0.01\n",
    "df=n-1\n",
    "\n",
    "from scipy.stats import t\n",
    "SE=s/np.sqrt(n)\n",
    "conf_t=t.ppf(1-conf_a/2, df)\n",
    "ME=conf_t*SE\n",
    "\n",
    "print(\"신뢰구간 : {:.3f} ~ {:.3f}\".format(x - ME, x + ME))"
   ]
  },
  {
   "cell_type": "markdown",
   "id": "tk39zwyx",
   "metadata": {},
   "source": [
    "#### 경주"
   ]
  },
  {
   "cell_type": "code",
   "execution_count": 358,
   "id": "e3c92336",
   "metadata": {},
   "outputs": [
    {
     "name": "stdout",
     "output_type": "stream",
     "text": [
      "(0.34643672594272634, 0.41356327405727367)\n"
     ]
    }
   ],
   "source": [
    "print(t.interval(alpha=0.99, loc=0.38, scale=0.06/np.sqrt(25), df=24))"
   ]
  },
  {
   "cell_type": "markdown",
   "id": "rb4kjdva",
   "metadata": {},
   "source": [
    "#### 여주"
   ]
  },
  {
   "cell_type": "code",
   "execution_count": 82,
   "id": "56a2231e",
   "metadata": {},
   "outputs": [
    {
     "name": "stdout",
     "output_type": "stream",
     "text": [
      "호수바닥에서 침전물 1000 cm3 당 납의 평균 농도에 대한 99% 신뢰구간은 (0.34643672594272634, 0.41356327405727367) 이다.\n"
     ]
    }
   ],
   "source": [
    "n = 25\n",
    "x_bar = 0.38\n",
    "x_std = 0.06\n",
    "\n",
    "print(f'호수바닥에서 침전물 1000 cm3 당 납의 평균 농도에 대한 99% 신뢰구간은 {stats.t.interval(alpha=0.99, df=n-1, loc=x_bar, scale=x_std/np.sqrt(n))} 이다.')"
   ]
  },
  {
   "cell_type": "markdown",
   "id": "7sxenfs2",
   "metadata": {},
   "source": [
    "# @@@@@@@@@@@@@@@@@@@@@@@@@@@@@@"
   ]
  },
  {
   "cell_type": "markdown",
   "id": "ac054323",
   "metadata": {},
   "source": [
    "11.3.8    \n",
    "정규모집단으로부터 크기가 18인 표본을 이용하여 모평균 乃에 대한 90% 신뢰구간을 계산하여 (122, 146)의 결과를 얻었다.      \n",
    "이 결과를 사용하여 아래의 문제에 대하여 답하라.     \n",
    "(1) 모평균 μ의 추정값과 추정량의 90% 오차범위를 구하라.    \n",
    "(2) 모평균 μ에 대한 95% 신뢰구간을 구하라.    "
   ]
  },
  {
   "cell_type": "markdown",
   "id": "bby61bec",
   "metadata": {},
   "source": [
    "#### 세종"
   ]
  },
  {
   "cell_type": "code",
   "execution_count": 34,
   "id": "c07c83a2",
   "metadata": {},
   "outputs": [
    {
     "name": "stdout",
     "output_type": "stream",
     "text": [
      "134.0\n",
      "132.23784812987233 135.76215187012767\n"
     ]
    }
   ],
   "source": [
    "n = 18\n",
    "#rv = stats.norm()\n",
    "\n",
    "#(1) 모평균의 추정값, 추정량의 오차범위\n",
    "mu = 122 + (146-122) / 2\n",
    "print(mu)\n",
    "se = 14.55\n",
    "\n",
    "# (2) 모평균에 대한 신뢰구간\n",
    "lcl = mu - norm.isf(0.025)*np.sqrt(se/n)\n",
    "ucl = mu - norm.isf(0.975)*np.sqrt(se/n)\n",
    "print(lcl,ucl)\n",
    "#(1) 134.12 (2) 134 --14.55"
   ]
  },
  {
   "cell_type": "markdown",
   "id": "7wpramjm",
   "metadata": {},
   "source": [
    "#### 가평"
   ]
  },
  {
   "cell_type": "code",
   "execution_count": 13,
   "id": "8faef532",
   "metadata": {
    "ExecuteTime": {
     "end_time": "2023-08-30T02:40:00.571692Z",
     "start_time": "2023-08-30T02:40:00.565703Z"
    }
   },
   "outputs": [
    {
     "name": "stdout",
     "output_type": "stream",
     "text": [
      "(1) 모평균 μ의 추정값: 134\n",
      "    추정량의 90% 오차범위: 12.0\n",
      "(2) 모평균 μ에 대한 95% 신뢰구간: (130.37204216182118, 137.62795783817882)\n"
     ]
    }
   ],
   "source": [
    "import numpy as np\n",
    "from scipy.stats import t\n",
    "import scipy.stats as stats\n",
    "# 표본 평균과 신뢰구간\n",
    "sample_mean = 134  # (122+146)/2 , 신뢰구간의 중심값\n",
    "confidence_interval = (122, 146)\n",
    "\n",
    "# 표본 크기\n",
    "n = 18\n",
    "\n",
    "# 자유도 계산\n",
    "df = n - 1\n",
    "\n",
    "# 추정값\n",
    "estimation = sample_mean\n",
    "\n",
    "# 추정량의 오차범위\n",
    "error_range = (confidence_interval[1] - confidence_interval[0]) / 2\n",
    "\n",
    "# 90% 신뢰구간의 표준오차 계산\n",
    "margin_of_error_90 = (confidence_interval[1] - confidence_interval[0]) / (2 * stats.norm.ppf(0.95))\n",
    "standard_error_90 = margin_of_error_90 / np.sqrt(n)\n",
    "\n",
    "# 95% 신뢰구간 계산\n",
    "margin_of_error_95 = stats.t.ppf(0.975, df=n-1) * standard_error_90 #  95% 신뢰구간의 임계값\n",
    "confidence_interval_95 = (sample_mean - margin_of_error_95, sample_mean + margin_of_error_95)\n",
    "\n",
    "\n",
    "print(\"(1) 모평균 μ의 추정값:\", estimation)\n",
    "print(\"    추정량의 90% 오차범위:\", error_range)\n",
    "print(\"(2) 모평균 μ에 대한 95% 신뢰구간:\", confidence_interval_95)\n"
   ]
  },
  {
   "cell_type": "markdown",
   "id": "l9inbpdh",
   "metadata": {},
   "source": [
    "#### 경주"
   ]
  },
  {
   "cell_type": "code",
   "execution_count": 365,
   "id": "012ae8c2",
   "metadata": {},
   "outputs": [
    {
     "name": "stdout",
     "output_type": "stream",
     "text": [
      "134.0 12.0\n",
      "95% 신뢰구간: (131.15614954072805, 136.84385045927195)\n"
     ]
    }
   ],
   "source": [
    "import scipy.stats as stats\n",
    "\n",
    "est = (122 + 146) / 2\n",
    "me = (146 - 122) / 2\n",
    "\n",
    "confidence_level = 0.95\n",
    "df = 18 - 1\n",
    "se = me / (2 * stats.t.ppf(1 - (1 - confidence_level) / 2, df))\n",
    "\n",
    "lower_bound = est - se\n",
    "upper_bound = est + se\n",
    "print(estimate,me)\n",
    "print(\"95% 신뢰구간:\", (lower_bound, upper_bound))\n"
   ]
  },
  {
   "cell_type": "markdown",
   "id": "d1urigl3",
   "metadata": {},
   "source": [
    "#### 평창"
   ]
  },
  {
   "cell_type": "code",
   "execution_count": 77,
   "id": "03f080ae",
   "metadata": {},
   "outputs": [
    {
     "name": "stdout",
     "output_type": "stream",
     "text": [
      "(1)   \n",
      "모평균의 추정값은 신뢰구간의 중앙값. (122+146)/2 = 134  \n",
      "오차범위는 중앙값과 상한 또는 하한값의 차이: 134 - 122 = 12  \n",
      "(2)   \n",
      "신뢰구간 구하는 공식:  \n",
      "μ(추정된 모평균) ± Z-Score * 표준오차   \n",
      "90% 신뢰구간과 위 식으로 표준오차를 계산할 수 있다.  \n",
      "신뢰구간 90%의 z-score = 약 1.64   \n",
      "146 = 134 +  1.64 * 표준오차  \n",
      "표준오차 = 약 7.3\n",
      " \n",
      "따라서 모평균 μ에 대한 95% 신뢰구간은 다음과 같다.  \n",
      "z_critical =norm.ppf((1-0.95)/2) (95% 신뢰구간에서의 z score)\n",
      "134 ± z_critical*7.3\n",
      "정답:  (119.6922629128576, 148.30773708714239)\n"
     ]
    }
   ],
   "source": [
    "print('''(1)   \n",
    "모평균의 추정값은 신뢰구간의 중앙값. (122+146)/2 = 134  \n",
    "오차범위는 중앙값과 상한 또는 하한값의 차이: 134 - 122 = 12  \n",
    "(2)   \n",
    "신뢰구간 구하는 공식:  \n",
    "μ(추정된 모평균) ± Z-Score * 표준오차   \n",
    "90% 신뢰구간과 위 식으로 표준오차를 계산할 수 있다.  \n",
    "신뢰구간 90%의 z-score = 약 1.64   \n",
    "146 = 134 +  1.64 * 표준오차  \n",
    "표준오차 = 약 7.3\n",
    " \n",
    "따라서 모평균 μ에 대한 95% 신뢰구간은 다음과 같다.  \n",
    "z_critical =norm.ppf((1-0.95)/2) (95% 신뢰구간에서의 z score)\n",
    "134 ± z_critical*7.3''')\n",
    " \n",
    "from scipy.stats import norm\n",
    "\n",
    "z_critical =norm.ppf(0.975)\n",
    "confidence_interval = (134-z_critical*7.3, 134+z_critical*7.3)\n",
    "print('정답: ', confidence_interval)"
   ]
  },
  {
   "cell_type": "markdown",
   "id": "ayqnylfr",
   "metadata": {},
   "source": [
    "# @@@@@@@@@@@@@@@@@@@@@@@@@@@@@@"
   ]
  },
  {
   "cell_type": "markdown",
   "id": "264c2d2b",
   "metadata": {},
   "source": [
    "11.4.4     \n",
    "8명의 환자에 대하여 3주 동안 체지방이 감소하는 양을 기록하였다.    \n",
    "1.8 10.6 -1.2 12.9 15.1 -2.0 6.25 10.8     \n",
    "(1) 3주 동안의 체지방 감소량의 모평균 M에 대한 95% 신뢰구간을 구하라.    \n",
    "(2) \"평균이 6.5이다\"에 대하여 유의수준 =0.05로 검정하고 (1)의 결과와 비교하라.    "
   ]
  },
  {
   "cell_type": "markdown",
   "id": "4ayeghom",
   "metadata": {},
   "source": [
    "#### 세종"
   ]
  },
  {
   "cell_type": "code",
   "execution_count": 44,
   "id": "c96df097",
   "metadata": {},
   "outputs": [
    {
     "name": "stdout",
     "output_type": "stream",
     "text": [
      "6.78125\n",
      "2.5146712500598154 11.047828749940184\n"
     ]
    },
    {
     "data": {
      "text/plain": [
       "Ttest_1sampResult(statistic=0.1208550723420887, pvalue=0.9072017435233727)"
      ]
     },
     "execution_count": 44,
     "metadata": {},
     "output_type": "execute_result"
    }
   ],
   "source": [
    "#(1) 3주 동안 체지방 감소량에 대한 신뢰구간\n",
    "\n",
    "df = [1.8, 10.6, -1.2, 12.9, 15.1, -2.0, 6.25, 10.8]\n",
    "p_mean = np.mean(df)\n",
    "p_var = np.var(df)\n",
    "lcl = p_mean - norm.isf(0.025)*np.sqrt(p_var/8)\n",
    "ucl = p_mean - norm.isf(0.975)*np.sqrt(p_var/8)\n",
    "print(p_mean)\n",
    "print(lcl,ucl)\n",
    "\n",
    "# (2) 가설검정 : 평균이 6.5이다에 대한 가설검정\n",
    "from scipy.stats import ttest_1samp\n",
    "ttest_1samp(df, 6.5)\n",
    " \n",
    "# p-value가 0.05보다 크므로 귀무가설을 기각한다"
   ]
  },
  {
   "cell_type": "markdown",
   "id": "2c2kld2d",
   "metadata": {},
   "source": [
    "#### 가평"
   ]
  },
  {
   "cell_type": "code",
   "execution_count": 8,
   "id": "1e085236",
   "metadata": {
    "ExecuteTime": {
     "end_time": "2023-08-30T01:49:23.199415Z",
     "start_time": "2023-08-30T01:49:23.193413Z"
    }
   },
   "outputs": [
    {
     "name": "stdout",
     "output_type": "stream",
     "text": [
      "(1) 95% 신뢰구간: (1.28, 12.28)\n",
      "(2) 귀무가설을 기각할 수 없습니다.\n",
      "=> 평균 6.5는 95% 신뢰구간 사이에 포함되어 있음을 알 수 있다.\n"
     ]
    }
   ],
   "source": [
    "import numpy as np\n",
    "from scipy.stats import t\n",
    "\n",
    "# 데이터 입력\n",
    "data = [1.8 ,10.6, -1.2, 12.9, 15.1, -2.0, 6.25, 10.8]\n",
    "\n",
    "# 표본 평균과 표본 표준편차 계산\n",
    "sample_mean = np.mean(data)\n",
    "sample_std = np.std(data, ddof=1)\n",
    "\n",
    "# 표본 크기\n",
    "n = len(data)\n",
    "\n",
    "# 자유도 계산\n",
    "df = n - 1\n",
    "\n",
    "# t-분포의 양측 꼬리 확률값 계산\n",
    "alpha = 0.05\n",
    "alpha_over_2 = alpha / 2\n",
    "t_alpha_over_2 = t.ppf(1 - alpha_over_2, df)\n",
    "\n",
    "# 신뢰구간 계산\n",
    "lower_bound = sample_mean - t_alpha_over_2 * sample_std / np.sqrt(n)\n",
    "upper_bound = sample_mean + t_alpha_over_2 * sample_std / np.sqrt(n)\n",
    "\n",
    "# 가설 설정\n",
    "null_mean = 6.5\n",
    "\n",
    "print(\"(1) 95% 신뢰구간: ({:.2f}, {:.2f})\".format(lower_bound, upper_bound))\n",
    "\n",
    "if null_mean >= lower_bound and null_mean <= upper_bound:\n",
    "    print(\"(2) 귀무가설을 기각할 수 없습니다.\")\n",
    "else:\n",
    "    print(\"(2) 귀무가설을 기각할 수 있습니다.\")\n",
    "\n",
    "print(\"=> 평균 6.5는 95% 신뢰구간 사이에 포함되어 있음을 알 수 있다.\")    "
   ]
  },
  {
   "cell_type": "markdown",
   "id": "txw329m5",
   "metadata": {},
   "source": [
    "#### 경주"
   ]
  },
  {
   "cell_type": "code",
   "execution_count": 374,
   "id": "9d252000-0d55-4425-b675-37bcf6b19402",
   "metadata": {},
   "outputs": [
    {
     "name": "stdout",
     "output_type": "stream",
     "text": [
      "3주 동안 체지방 감소량의 모평균 95% 신뢰구간: (1.2783732261218237, 12.284126773878176)\n",
      "H0를 기각하지 않아, 평균이 6.5이다.\n"
     ]
    }
   ],
   "source": [
    "data = np.array([1.8, 10.6, -1.2, 12.9, 15.1, -2.0, 6.25, 10.8])\n",
    "n = len(data)\n",
    "confidence_level = 0.95\n",
    "alpha = 1 - confidence_level\n",
    "\n",
    "mean = np.mean(data)\n",
    "std_dev = np.std(data, ddof=1)\n",
    "t_critical = stats.t.ppf(1 - alpha / 2, df=n - 1)\n",
    "\n",
    "confidence_interval_lower = mean - t_critical * (std_dev / np.sqrt(n))\n",
    "confidence_interval_upper = mean + t_critical * (std_dev / np.sqrt(n))\n",
    "\n",
    "print(\"3주 동안 체지방 감소량의 모평균 95% 신뢰구간:\", (confidence_interval_lower, confidence_interval_upper))\n",
    "m0 = 6.5\n",
    "test_statistic = (mean - m0) / (std_dev / np.sqrt(n))\n",
    "critical_value = t.ppf(1 - alpha / 2, df=n - 1)\n",
    "\n",
    "if np.abs(test_statistic) > critical_value:\n",
    "    print(\"H0를 기각하여, 평균이 6.5이 아니다.\")\n",
    "else:\n",
    "    print(\"H0를 기각하지 않아, 평균이 6.5이다.\")"
   ]
  },
  {
   "cell_type": "markdown",
   "id": "r9409as5",
   "metadata": {},
   "source": [
    "# @@@@@@@@@@@@@@@@@@@@@@@@@@@@@@"
   ]
  },
  {
   "cell_type": "markdown",
   "id": "23dc635d",
   "metadata": {},
   "source": [
    "예제 11.7\n",
    "볼트와 너트를 생산하는 한 공장에서는 제품의 품질이 얼마나 균일하게 유지되는지를 검사하려고 10 개의 볼트를 추출하여 지름을 측정하고 그 표준편차를 구하였더니 0.4였다. 그 공장에서 생산되는 볼트의 지름이 정규분포를 따른다는 가정하에      \n",
    "(1) σ의 90% 신뢰구간을 구하라.     \n",
    "(2) σ가 0.2보다 크다고 할 수 있는지 유의수준 0.05로 검정하라."
   ]
  },
  {
   "cell_type": "markdown",
   "id": "65i2acit",
   "metadata": {},
   "source": [
    "#### 부산"
   ]
  },
  {
   "cell_type": "code",
   "execution_count": 42,
   "id": "a97bd16f",
   "metadata": {},
   "outputs": [
    {
     "name": "stdout",
     "output_type": "stream",
     "text": [
      "90% 신뢰구간: (0.19194064484977708, 0.6080593551502229)\n",
      "chi2 통계량: 36.0\n",
      "chi2 임계값: 16.918977604620448\n",
      "귀무가설 기각: 모분산이 0.2^2보다 크다.\n"
     ]
    }
   ],
   "source": [
    "# 예제 11.7   : (0.29 , 0.66)\n",
    "\n",
    "# 잘 모르겠음\n",
    "\n",
    "import numpy as np\n",
    "from scipy import stats\n",
    "\n",
    "sample_std = 0.4\n",
    "sample_size = 10\n",
    "confidence_level = 0.90\n",
    "significance_level = 0.05\n",
    "null_variance = 0.2**2\n",
    "\n",
    "# (1) 모분산의 90% 신뢰구간 계산\n",
    "standard_error = sample_std / np.sqrt(sample_size)\n",
    "z_critical = stats.norm.ppf(1 - (1 - confidence_level) / 2)\n",
    "confidence_interval = (\n",
    "    sample_std - z_critical * standard_error,\n",
    "    sample_std + z_critical * standard_error\n",
    ")\n",
    "\n",
    "print(\"90% 신뢰구간:\", confidence_interval)\n",
    "\n",
    "# (2) 모분산에 관한 가설 검정\n",
    "chi2_statistic = (sample_size - 1) * (sample_std**2) / null_variance\n",
    "chi2_critical = stats.chi2.ppf(1 - significance_level, df=sample_size - 1)\n",
    "\n",
    "print(\"chi2 통계량:\", chi2_statistic)\n",
    "print(\"chi2 임계값:\", chi2_critical)\n",
    "\n",
    "if chi2_statistic > chi2_critical:\n",
    "    print(\"귀무가설 기각: 모분산이 0.2^2보다 크다.\")\n",
    "else:\n",
    "    print(\"귀무가설 채택: 모분산이 0.2^2보다 작거나 같다.\")\n"
   ]
  },
  {
   "cell_type": "markdown",
   "id": "m29bevnu",
   "metadata": {},
   "source": [
    "#### 창원"
   ]
  },
  {
   "cell_type": "code",
   "execution_count": 6,
   "id": "dd45bc6b-6a8c-4f34-b7f2-ae4d2d30b47e",
   "metadata": {},
   "outputs": [
    {
     "data": {
      "text/plain": [
       "(0.19194064484977708, 0.6080593551502229)"
      ]
     },
     "execution_count": 6,
     "metadata": {},
     "output_type": "execute_result"
    }
   ],
   "source": [
    "import scipy.stats as stats\n",
    "\n",
    "# 신뢰구간 계산을 위한 변수 설정.\n",
    "confidence_level = 0.90\n",
    "alpha = 1 - confidence_level\n",
    "\n",
    "# Z값 계산 - 신뢰구간 구성 시 중요\n",
    "z_critical = stats.norm.ppf(1 - alpha / 2)\n",
    "\n",
    "# 표본 표준편차 및 크기 설정\n",
    "sample_std_dev = 0.4\n",
    "sample_size = 10\n",
    "\n",
    "# 표준오차 및 신뢰구간 계산\n",
    "margin_of_error = z_critical * (sample_std_dev / np.sqrt(sample_size))\n",
    "\n",
    "confidence_interval_lower = sample_std_dev - margin_of_error\n",
    "confidence_interval_upper = sample_std_dev + margin_of_error\n",
    "confidence_interval_lower, confidence_interval_upper"
   ]
  },
  {
   "cell_type": "code",
   "execution_count": 9,
   "id": "b84fdcc4-5e1e-442b-a3e1-efa27994667b",
   "metadata": {},
   "outputs": [
    {
     "name": "stdout",
     "output_type": "stream",
     "text": [
      "대립가설 채택, 0.2보다 작다.\n"
     ]
    }
   ],
   "source": [
    "### import scipy.stats as stats\n",
    "n = 10\n",
    "dof = n-1\n",
    "std = 0.4\n",
    "H0 = 0.2\n",
    "alpha = 0.05\n",
    "\n",
    "# 검정 통계량 계산\n",
    "t_statstic = (std/H0) * (n ** 0.5)\n",
    "\n",
    "# 임계값 계산, p값 계산\n",
    "critical_value = stats.t.ppf(1 - alpha, df = dof)\n",
    "p = 1 - stats.t.cdf(t_statstic, df = dof)\n",
    "print('귀무가설 채택, 0.2보다 크지않다.' if p > alpha else '대립가설 채택, 0.2보다 작다.')"
   ]
  },
  {
   "cell_type": "markdown",
   "id": "v0z6eizn",
   "metadata": {},
   "source": [
    "#### 경주"
   ]
  },
  {
   "cell_type": "code",
   "execution_count": 369,
   "id": "75eec19e",
   "metadata": {},
   "outputs": [
    {
     "name": "stdout",
     "output_type": "stream",
     "text": [
      "σ의 90% 신뢰구간: (0.29173879732511404, 0.6580790297576886)\n",
      "H0를 기각하여, σ가 0.2보다 크다고 할 수 있습니다.\n"
     ]
    }
   ],
   "source": [
    "import scipy.stats as stats\n",
    "import math\n",
    "\n",
    "s = 0.4\n",
    "n = 10\n",
    "confidence_level = 0.90\n",
    "alpha = 1 - confidence_level\n",
    "\n",
    "chi_squared_lower = stats.chi2.ppf(alpha / 2, df=n-1)\n",
    "chi_squared_upper = stats.chi2.ppf(1 - alpha / 2, df=n-1)\n",
    "\n",
    "sigma_lower = math.sqrt((n - 1) * (s**2) / chi_squared_upper)\n",
    "sigma_upper = math.sqrt((n - 1) * (s**2) / chi_squared_lower)\n",
    "\n",
    "print(\"σ의 90% 신뢰구간:\", (sigma_lower, sigma_upper))\n",
    "null_sigma_sq = (0.2)**2\n",
    "test_statistic = (n - 1) * (s**2) / null_sigma_sq\n",
    "critical_value = stats.chi2.ppf(1 - 0.05, df=n-1)\n",
    "\n",
    "if test_statistic > critical_value:\n",
    "    print(\"H0를 기각하여, σ가 0.2보다 크다고 할 수 있습니다.\")\n",
    "else:\n",
    "    print(\"H0를 기각하지 않아, σ가 0.2보다 크다고 할 수 없습니다.\")"
   ]
  },
  {
   "cell_type": "code",
   "execution_count": 368,
   "id": "f72070df-5bcc-4a2c-844f-be73b7a1c941",
   "metadata": {},
   "outputs": [
    {
     "name": "stdout",
     "output_type": "stream",
     "text": [
      "0.8636906588650489\n"
     ]
    }
   ],
   "source": [
    "n=10\n",
    "s=0.4\n",
    "rv = chi2(df=n-1)\n",
    "lp = (n-1) * s /rv.isf(0.9)\n",
    "print(lp)"
   ]
  },
  {
   "cell_type": "markdown",
   "id": "24tlqupm",
   "metadata": {},
   "source": [
    "# @@@@@@@@@@@@@@@@@@@@@@@@@@@@@@"
   ]
  },
  {
   "cell_type": "markdown",
   "id": "9f86b78d",
   "metadata": {},
   "source": [
    "11.5.14    \n",
    "오수침전물이 비료로 쓰였던 6개의 대표적인 정원에서 양상추잎을 대상으로 중금속인 카드뮴 (Cd)과 아연(Zn)의 농도를 측정하여 아래와 같은 값을 얻었다.     \n",
    "\n",
    "카드뮴 21 38 12 15 14 8    \n",
    "아연 140 190 130 150 160 140\n",
    "\n",
    "\n",
    "(1) 카드뮴 농도의 모표준편차에 대하여 90% 신뢰구간을 구하라     \n",
    "(2) 아연 농도의 모표준편차가 30 미만이라는 강력한 증거가 있는가? (유의수준 0.10로 검정하라.)"
   ]
  },
  {
   "cell_type": "markdown",
   "id": "0yd0e17a",
   "metadata": {},
   "source": [
    "#### 안동"
   ]
  },
  {
   "cell_type": "code",
   "execution_count": 1,
   "id": "ebe5dbcf",
   "metadata": {
    "colab": {
     "base_uri": "https://localhost:8080/"
    },
    "id": "ebe5dbcf",
    "outputId": "a99278ed-9c43-4533-e913-0dd1debd14c2"
   },
   "outputs": [
    {
     "name": "stdout",
     "output_type": "stream",
     "text": [
      "(1)신뢰구간 : 11.455 ~ 24.545\n"
     ]
    }
   ],
   "source": [
    "import numpy as np\n",
    "from scipy.stats import norm\n",
    "\n",
    "a=[21, 38, 12, 15, 14, 8]\n",
    "\n",
    "x=np.mean(a)\n",
    "n=len(a)\n",
    "s=np.std(a)\n",
    "conf_a=0.1\n",
    "\n",
    "SE=s/np.sqrt(n)\n",
    "z_score = norm.ppf(1-conf_a/2)\n",
    "ME=z_score*SE\n",
    "print(\"(1)신뢰구간 : {:.3f} ~ {:.3f}\".format(x - ME, x + ME))"
   ]
  },
  {
   "cell_type": "code",
   "execution_count": 12,
   "id": "qWP-TEHXHLl3",
   "metadata": {
    "colab": {
     "base_uri": "https://localhost:8080/"
    },
    "id": "qWP-TEHXHLl3",
    "outputId": "123f7ce8-b6d6-4af6-8e18-318adea968c0"
   },
   "outputs": [
    {
     "name": "stdout",
     "output_type": "stream",
     "text": [
      "(2)귀무가설을 기각합니다. 모표준편차는 30 미만이 아닙니다.\n"
     ]
    }
   ],
   "source": [
    "b=[140, 190, 130, 150, 160, 140]\n",
    "\n",
    "x=np.mean(b)\n",
    "n=len(b)\n",
    "s=np.std(b)\n",
    "conf_a=0.1\n",
    "df=n-1\n",
    "\n",
    "from scipy.stats import t\n",
    "\n",
    "SE=s/np.sqrt(n)\n",
    "test_statistic=df*s**2/30**2\n",
    "critical_value =t.ppf(conf_a,df)\n",
    "test_statistic, critical_value\n",
    "\n",
    "if test_statistic <= critical_value:\n",
    "    print(\"(2)귀무가설을 기각할 수 없습니다. 모표준편차는 30 미만입니다.\")\n",
    "else:\n",
    "    print(\"(2)귀무가설을 기각합니다. 모표준편차는 30 미만이 아닙니다.\")"
   ]
  },
  {
   "cell_type": "markdown",
   "id": "bmllg03l",
   "metadata": {},
   "source": [
    "#### 경주"
   ]
  },
  {
   "cell_type": "code",
   "execution_count": 267,
   "id": "27536582",
   "metadata": {},
   "outputs": [
    {
     "name": "stdout",
     "output_type": "stream",
     "text": [
      "90% 신뢰구간: 7.175527859281089 22.307165420682775\n",
      "강력한 증거가 없습니다. 대립가설을 기각할 수 없습니다.\n"
     ]
    }
   ],
   "source": [
    "import numpy as np\n",
    "from scipy.stats import chi2\n",
    "\n",
    "data = np.array([21, 38, 12, 15, 14, 8])\n",
    "n = len(data)\n",
    "sample_variance = np.var(data, ddof=1)\n",
    "alpha = 0.10\n",
    "df = n - 1\n",
    "\n",
    "chi2_lower = chi2.ppf(alpha / 2, df)\n",
    "chi2_upper = chi2.ppf(1 - alpha / 2, df)\n",
    "\n",
    "lower = np.sqrt((n - 1) * sample_variance / chi2_upper)\n",
    "upper = np.sqrt((n - 1) * sample_variance / chi2_lower)\n",
    "\n",
    "print(\"90% 신뢰구간:\", lower, upper)\n",
    "\n",
    "data2 = np.array([140, 190, 130, 150, 160, 140])\n",
    "n = len(data2)\n",
    "sample_variance2 = np.var(data2, ddof=1)  # Unbiased sample variance\n",
    "alpha = 0.10\n",
    "population_std = 30\n",
    "\n",
    "chi2_statistic = (n - 1) * sample_variance2 / population_std**2\n",
    "critical_value = chi2.ppf(1 - alpha, df=n - 1)\n",
    "\n",
    "if chi2_statistic < critical_value:\n",
    "    print(\"강력한 증거가 없습니다. 대립가설을 기각할 수 없습니다.\")\n",
    "else:\n",
    "    print(\"강력한 증거가 있습니다. 대립가설을 기각합니다.\")\n"
   ]
  },
  {
   "cell_type": "markdown",
   "id": "ocd0j2yu",
   "metadata": {},
   "source": [
    "# @@@@@@@@@@@@@@@@@@@@@@@@@@@@@@"
   ]
  },
  {
   "cell_type": "markdown",
   "id": "0f1b3e74",
   "metadata": {},
   "source": [
    "11.6.6    \n",
    "21그루의 식물이 꽃을 피우는 데 걸리는 기간의 평균이 39일이고 표준편차가 5.1일이었다 꽃이\n",
    "피는 데 걸리는 평균 기간에 대한 95% 신뢰구간을 구하라"
   ]
  },
  {
   "cell_type": "markdown",
   "id": "jenwhd9v",
   "metadata": {},
   "source": [
    "#### 조치원"
   ]
  },
  {
   "cell_type": "code",
   "execution_count": 9,
   "id": "2e10cb17",
   "metadata": {
    "colab": {
     "base_uri": "https://localhost:8080/"
    },
    "executionInfo": {
     "elapsed": 332,
     "status": "ok",
     "timestamp": 1693446183300,
     "user": {
      "displayName": "김지현",
      "userId": "13398789046800870585"
     },
     "user_tz": -540
    },
    "id": "2e10cb17",
    "outputId": "bcdbcb4b-2ba8-45e0-b60d-30ba2d3abba7"
   },
   "outputs": [
    {
     "name": "stdout",
     "output_type": "stream",
     "text": [
      "length of one interval:  2.32\n",
      "95% 신뢰구간:  36.67850783288408 41.32149216711592\n"
     ]
    }
   ],
   "source": [
    "df = 21-1 #자유도\n",
    "mean = 39 #표본평균\n",
    "se= 5.1/(21**0.5) #표준오차\n",
    "\n",
    "#length of one interval\n",
    "interval = se * stats.t.ppf((1+0.95)/2,df)\n",
    "\n",
    "print('length of one interval: ',round(interval,2))\n",
    "print('95% 신뢰구간: ',mean-interval, mean+interval)"
   ]
  },
  {
   "cell_type": "markdown",
   "id": "6v1fgo8y",
   "metadata": {},
   "source": [
    "#### 동해"
   ]
  },
  {
   "cell_type": "code",
   "execution_count": 47,
   "id": "8944dfb3",
   "metadata": {
    "ExecuteTime": {
     "end_time": "2023-08-30T10:49:10.122764Z",
     "start_time": "2023-08-30T10:49:10.104275Z"
    }
   },
   "outputs": [
    {
     "name": "stdout",
     "output_type": "stream",
     "text": [
      "평균기간에 대한 신뢰구간은 [36.67850783288408, 41.32149216711592]이다.\n"
     ]
    }
   ],
   "source": [
    "# 모평균이 주어지지 않으므로 t분포를 이용해 신뢰구간을 구한다.\n",
    "\n",
    "n = 21 # 표본 크기\n",
    "s_mean = 39 # 표본 평균\n",
    "u_std = 5.1 # 표본 표준편차\n",
    "t = stats.t(df = n-1)  # t분포\n",
    "\n",
    "\n",
    "lower = s_mean - t.isf(0.025)*u_std/np.sqrt(n)\n",
    "upper = s_mean - t.isf(0.975)*u_std/np.sqrt(n)\n",
    "\n",
    "print(f\"평균기간에 대한 신뢰구간은 {[lower, upper]}이다.\")"
   ]
  },
  {
   "cell_type": "markdown",
   "id": "oo7i0zaj",
   "metadata": {},
   "source": [
    "#### 경주"
   ]
  },
  {
   "cell_type": "code",
   "execution_count": 177,
   "id": "5a4d066d",
   "metadata": {},
   "outputs": [
    {
     "name": "stdout",
     "output_type": "stream",
     "text": [
      "신뢰구간 (36.67850783288408, 41.32149216711592)\n"
     ]
    }
   ],
   "source": [
    "print('신뢰구간',t.interval(alpha=0.95, loc=39, scale=5.1/np.sqrt(21), df=21-1))"
   ]
  },
  {
   "cell_type": "markdown",
   "id": "r5tsr12a",
   "metadata": {},
   "source": [
    "# @@@@@@@@@@@@@@@@@@@@@@@@@@@@@@"
   ]
  },
  {
   "cell_type": "markdown",
   "id": "e62e17b9",
   "metadata": {},
   "source": [
    "11.6.14   \n",
    "한 체중감량프로그램은 ‘4개월에 12 kg 감량’이라는 광고를 하였다.    \n",
    "25명의 고객을 대상으로 체중 감량을 조사한 결과 σ=15 kg, s = 5 kg을 얻었다.     \n",
    "가설 H0 : σ= 12 대 H1 : σ> 12에 대하여 유의수준 α= 0.05에서 검정하라"
   ]
  },
  {
   "cell_type": "markdown",
   "id": "uu9n9y69",
   "metadata": {},
   "source": [
    "#### 부산"
   ]
  },
  {
   "cell_type": "code",
   "execution_count": 9,
   "id": "0a2b95d8",
   "metadata": {},
   "outputs": [
    {
     "name": "stdout",
     "output_type": "stream",
     "text": [
      "검정 통계량: 4.166666666666667\n",
      "임계값: 36.41502850180731\n",
      "판정 및 결론: 귀무가설 유지, 모분산이 144와 크거나 같다.\n"
     ]
    }
   ],
   "source": [
    "# 기각이 답이라는데 잘 모르겠네요 ㅠㅠ\n",
    "\n",
    "import scipy.stats as stats\n",
    "\n",
    "alpha = 0.05  # 유의수준\n",
    "sample_size = 25  # 표본 크기\n",
    "sample_variance = 5**2  # 표본분산\n",
    "null_variance = 12**2  # 귀무가설의 모분산\n",
    "\n",
    "# 검정 통계량 계산 (카이제곱 분포 사용)\n",
    "test_statistic = ((sample_size - 1) * sample_variance) / null_variance\n",
    "\n",
    "# 카이제곱 분포의 상위 유의수준에서의 임계값 계산\n",
    "critical_value = stats.chi2.ppf(1 - alpha, sample_size - 1)\n",
    "\n",
    "# 결과 출력\n",
    "if test_statistic > critical_value:\n",
    "    conclusion = \"귀무가설 기각, 모분산이 144보다 크다.\"\n",
    "else:\n",
    "    conclusion = \"귀무가설 유지, 모분산이 144와 크거나 같다.\"\n",
    "\n",
    "print(\"검정 통계량:\", test_statistic)\n",
    "print(\"임계값:\", critical_value)\n",
    "print(\"판정 및 결론:\", conclusion)"
   ]
  },
  {
   "cell_type": "markdown",
   "id": "a6rc49q6",
   "metadata": {},
   "source": [
    "#### 경주"
   ]
  },
  {
   "cell_type": "code",
   "execution_count": 243,
   "id": "464374c1-c8a0-423a-a9af-cb5b40a8556c",
   "metadata": {},
   "outputs": [
    {
     "name": "stdout",
     "output_type": "stream",
     "text": [
      "카이제곱 검정 통계량: 4.166666666666667\n",
      "유의확률 (p-value): 0.9999979357107406\n",
      "대립가설을 기각하지 않습니다. 모집단의 표준편차는 12보다 크다고 할 수 없습니다.\n"
     ]
    }
   ],
   "source": [
    "from scipy.stats import chi2\n",
    "\n",
    "n = 25  # 표본 크기\n",
    "s = 5   # 표본 표준편차\n",
    "sigma_0 = 12  # 귀무가설에서 주장하는 표준편차\n",
    "alpha = 0.05  # 유의수준\n",
    "\n",
    "chi2_statistic = ((n - 1) * s ** 2) / (sigma_0 ** 2)\n",
    "\n",
    "# 카이제곱 분포의 우측 꼬리 영역 계산\n",
    "p_value = 1 - chi2.cdf(chi2_statistic, df=n-1)\n",
    "\n",
    "print(\"카이제곱 검정 통계량:\", chi2_statistic)\n",
    "print(\"유의확률 (p-value):\", p_value)\n",
    "\n",
    "if p_value < alpha:\n",
    "    print(\"대립가설을 기각합니다. 모집단의 표준편차는 12보다 크다고 할 수 있습니다.\")\n",
    "else:\n",
    "    print(\"대립가설을 기각하지 않습니다. 모집단의 표준편차는 12보다 크다고 할 수 없습니다.\")\n"
   ]
  },
  {
   "cell_type": "markdown",
   "id": "nmmf9tu1",
   "metadata": {},
   "source": [
    "#### 수원"
   ]
  },
  {
   "cell_type": "code",
   "execution_count": 20,
   "id": "f3fa3093",
   "metadata": {},
   "outputs": [
    {
     "name": "stdout",
     "output_type": "stream",
     "text": [
      "t 값: 3.0\n",
      "p-value: 0.003102868308262452\n",
      "p-value가 유의 수준보다 작으므로 귀무 가설을 기각합니다.\n",
      "따라서, 평균이 광고된 목표 평균 12 kg보다 크다는 결론을 내립니다.\n"
     ]
    }
   ],
   "source": [
    "import numpy as np\n",
    "from scipy import stats\n",
    "\n",
    "# 주어진 정보\n",
    "sample_mean = 15  # 표본 평균\n",
    "sample_std = 5    # 표본 표준 편차\n",
    "sample_size = 25  # 표본 크기\n",
    "target_mean = 12  # 광고된 목표 평균\n",
    "\n",
    "# t-검정 통계량 계산\n",
    "t = (sample_mean - target_mean) / (sample_std / np.sqrt(sample_size))\n",
    "\n",
    "# 자유도 (표본 크기 - 1)\n",
    "degrees_of_freedom = sample_size - 1\n",
    "\n",
    "# 유의 확률 (p-value) 계산\n",
    "p_value = 1 - stats.t.cdf(t, df=degrees_of_freedom)\n",
    "\n",
    "# 결과 출력\n",
    "alpha = 0.05\n",
    "print(\"t 값:\", t)\n",
    "print(\"p-value:\", p_value)\n",
    "\n",
    "if p_value < alpha:\n",
    "    print(\"p-value가 유의 수준보다 작으므로 귀무 가설을 기각합니다.\")\n",
    "    print(\"따라서, 평균이 광고된 목표 평균 12 kg보다 크다는 결론을 내립니다.\")\n",
    "else:\n",
    "    print(\"p-value가 유의 수준보다 크거나 같으므로 귀무 가설을 기각하지 않습니다.\")\n",
    "    print(\"즉, 평균이 광고된 목표 평균 12 kg보다 크다는 결론을 내리지 않습니다.\")\n"
   ]
  },
  {
   "cell_type": "markdown",
   "id": "rq5px3u7",
   "metadata": {},
   "source": [
    "# @@@@@@@@@@@@@@@@@@@@@@@@@@@@@@"
   ]
  },
  {
   "cell_type": "markdown",
   "id": "d98f0b72",
   "metadata": {},
   "source": [
    "예제 12.8    \n",
    "지방의 한 도시에서 작은 개천을 사이에 두고 남북으로 나뉘어 있는 두 지역의 집값을 비교하고자 최근에 매매가 이루어진 집을 대상으로      \n",
    "남쪽에서 13가구, 북쪽에서 11 가구의 집값을 조사하였더니 다음과 같았다.    \n",
    "남쪽: 표본수=13, 표본평균=2.4억원, 표본표준편차=0.72억원 북쪽: 표본수=11, 표본평균=2.15억원. 표본표준편차=0.35억원    \n",
    "유의수준 5%로 두 지역의 집값에 차가 있다고 할 수 있는지 검정하라.    "
   ]
  },
  {
   "cell_type": "markdown",
   "id": "g99g2rwa",
   "metadata": {},
   "source": [
    "#### 가평"
   ]
  },
  {
   "cell_type": "code",
   "execution_count": 9,
   "id": "e7e6414d",
   "metadata": {
    "ExecuteTime": {
     "end_time": "2023-08-30T01:55:47.301313Z",
     "start_time": "2023-08-30T01:55:47.295312Z"
    }
   },
   "outputs": [
    {
     "name": "stdout",
     "output_type": "stream",
     "text": [
      "두 지역의 집값에 차가 있다고 할 수 없습니다.\n"
     ]
    }
   ],
   "source": [
    "import numpy as np\n",
    "from scipy.stats import t\n",
    "\n",
    "# 데이터 입력\n",
    "n_south = 13\n",
    "mean_south = 2.4\n",
    "std_south = 0.72\n",
    "\n",
    "n_north = 11\n",
    "mean_north = 2.15\n",
    "std_north = 0.35\n",
    "\n",
    "# 가설 설정\n",
    "null_hypothesis = 0\n",
    "\n",
    "# 검정 통계량 계산\n",
    "std_pooled = np.sqrt(((n_south - 1) * std_south**2 + (n_north - 1) * std_north**2) / (n_south + n_north - 2))\n",
    "t_value = (mean_south - mean_north - null_hypothesis) / (std_pooled * np.sqrt((1 / n_south) + (1 / n_north)))\n",
    "\n",
    "# 자유도 계산\n",
    "df = n_south + n_north - 2\n",
    "\n",
    "# 유의수준\n",
    "alpha = 0.05\n",
    "\n",
    "# t-분포의 양측 꼬리 확률값 계산\n",
    "t_critical = t.ppf(1 - alpha/2, df)\n",
    "\n",
    "# 검정 결과 출력\n",
    "if np.abs(t_value) > t_critical:\n",
    "    print(\"두 지역의 집값에 차가 있다고 할 수 있습니다.\")\n",
    "else:\n",
    "    print(\"두 지역의 집값에 차가 있다고 할 수 없습니다.\")\n"
   ]
  },
  {
   "cell_type": "markdown",
   "id": "g82gyepg",
   "metadata": {},
   "source": [
    "#### 경주"
   ]
  },
  {
   "cell_type": "code",
   "execution_count": 118,
   "id": "2f9f31ec",
   "metadata": {},
   "outputs": [
    {
     "name": "stdout",
     "output_type": "stream",
     "text": [
      "두 지역의 집값에 차이가 없다 (유의수준 5%)\n",
      "0.2829555760689406\n",
      "귀무가설:두 지역의 집값에 차이가 없다 대립가설: 두 지역의 집값에 차이가 있다\n"
     ]
    }
   ],
   "source": [
    "import numpy as np\n",
    "from scipy.stats import t\n",
    "\n",
    "\n",
    "n1 = 13\n",
    "mean1 = 2.4\n",
    "std1 = 0.72\n",
    "\n",
    "n2 = 11\n",
    "mean2 = 2.15\n",
    "std2 = 0.35\n",
    "\n",
    "# Welch's t-test 계산\n",
    "diff = mean1 - mean2\n",
    "se = np.sqrt((std1 ** 2 / n1) + (std2 ** 2 / n2))\n",
    "stat = diff / se\n",
    "\n",
    "# Welch-Satterthwaite 자유도 계산\n",
    "df = (\n",
    "    (std1 ** 2 / n1 + std2 ** 2 / n2) ** 2 /\n",
    "    ((std1 ** 2 / n1) ** 2 / (n1 - 1) + (std2 ** 2 / n2) ** 2 / (n2 - 1))\n",
    ")\n",
    "\n",
    "# 양측 검정을 위한 임계값 (유의수준 5%)\n",
    "alpha = 0.05\n",
    "t_critical = t.ppf(1 - alpha/2, df)\n",
    "\n",
    "# t-값과 임계값 비교\n",
    "if np.abs(stat) > t_critical:\n",
    "    print(\"두 지역의 집값에 차이가 있다 (유의수준 5%)\")\n",
    "else:\n",
    "    print(\"두 지역의 집값에 차이가 없다 (유의수준 5%)\")\n",
    "p = (1-t.cdf(np.abs(stat),df))*2\n",
    "print(p)\n",
    "print('귀무가설:두 지역의 집값에 차이가 없다 대립가설: 두 지역의 집값에 차이가 있다')\n"
   ]
  },
  {
   "cell_type": "markdown",
   "id": "clxemm1x",
   "metadata": {},
   "source": [
    "#### 여주"
   ]
  },
  {
   "cell_type": "code",
   "execution_count": 23,
   "id": "587097c9",
   "metadata": {},
   "outputs": [
    {
     "name": "stdout",
     "output_type": "stream",
     "text": [
      "F 분포를 이용한 등분산 검정 결과, 검정통계량 4.23184, p-value 0.02208으로 유의수준 0.05 하에서 두 집단의 분산이 동일하다는 귀무가설을 기각한다. 따라서, 두 지역 집값의 분산은 다르다고 볼 통계적 근거가 충분하다.\n",
      "따라서, 등분산 가정을 하지 않은 상태로 독립적인 두 집단의 차이를 확인하는 T-test를 진행한다. 가설은 다음과 같다.\n",
      "H0: 지역 남쪽과 북쪽의 집값 평균에는 차이가 없다.\n",
      "H1: 지역 남쪽과 북쪽의 집값 평균에는 차이가 있다.\n",
      "\n",
      "검정통계량은 1.10687, p-value 0.29426로 유의수준 0.05 하에서 귀무가설을 기각할 수 없다. 그러므로, 두 지역 집값의 평균에는 차이가 있다고 볼 통계적 근거가 부족하다.\n"
     ]
    }
   ],
   "source": [
    "### 데이터가 주어져 있지 않고 요약 정보만 제공되고 있어 정규성 검정 불가, F 검정 외 등분산 검정 불가, 비모수적 검정 불가. 본 문제는 각 집단이 정규분포를 따른다는 가정이 반드시 필요함.\n",
    "n_1 = 13\n",
    "n_2 = 11\n",
    "x_bar_1 = 2.4\n",
    "std_1 = 0.72\n",
    "\n",
    "x_bar_2 = 2.15\n",
    "std_2 = 0.35\n",
    "\n",
    "alpha = 0.05\n",
    "\n",
    "### Equal variance test\n",
    "df_1 = n_1\n",
    "df_2 = n_2\n",
    "f_stat = (std_1**2) / (std_2**2)\n",
    "\n",
    "tmp_p = stats.f.cdf(f_stat, df_1, df_2)\n",
    "p = 2*(1-tmp_p) if tmp_p > 0.5 else 2*tmp_p\n",
    "\n",
    "print(f'F 분포를 이용한 등분산 검정 결과, 검정통계량 {round(f_stat, 5)}, p-value {round(p, 5)}으로 유의수준 0.05 하에서 두 집단의 분산이 동일하다는 귀무가설을 기각한다. 따라서, 두 지역 집값의 분산은 다르다고 볼 통계적 근거가 충분하다.')\n",
    "\n",
    "t_stat = (2.4 - 2.15) / (np.sqrt(((std_1**2)/n_1) + ((std_2**2)/n_2)))\n",
    "tmp_p = stats.t.cdf(t_stat, 10)\n",
    "p = 2*(1-tmp_p) if tmp_p > 0.5 else 2*tmp_p\n",
    "\n",
    "print('따라서, 등분산 가정을 하지 않은 상태로 독립적인 두 집단의 차이를 확인하는 T-test를 진행한다. 가설은 다음과 같다.')\n",
    "print('H0: 지역 남쪽과 북쪽의 집값 평균에는 차이가 없다.')\n",
    "print('H1: 지역 남쪽과 북쪽의 집값 평균에는 차이가 있다.')\n",
    "print()\n",
    "print(f'검정통계량은 {round(t_stat, 5)}, p-value {round(p, 5)}로 유의수준 0.05 하에서 귀무가설을 기각할 수 없다. 그러므로, 두 지역 집값의 평균에는 차이가 있다고 볼 통계적 근거가 부족하다.')"
   ]
  },
  {
   "cell_type": "markdown",
   "id": "6ou85aqq",
   "metadata": {},
   "source": [
    "# @@@@@@@@@@@@@@@@@@@@@@@@@@@@@@"
   ]
  },
  {
   "cell_type": "markdown",
   "id": "32a5bab8",
   "metadata": {},
   "source": [
    "12.2.6     \n",
    "집단 A과 집단 B로부터 각각 66명, 38명의 어린이를 임의로 뽑아서 그들의 언어능력를 점수로 계산 한 통계량이 다음과 같다.     \n",
    "dataurl : https://raw.githubusercontent.com/Datamanim/datarepo/main/stats/stats1.csv      \n",
    "(1) 두 집단 간 언어능력의 차이가 있는가? (유의수준 a = 0.01로 검정하라.)     \n",
    "(2) 두 어린이 집단의 모평균 점수차에 대한 98% 신뢰구간을 계산하라.     "
   ]
  },
  {
   "cell_type": "markdown",
   "id": "a6vxhkxd",
   "metadata": {},
   "source": [
    "#### 부산"
   ]
  },
  {
   "cell_type": "code",
   "execution_count": 21,
   "id": "97ea8ea0",
   "metadata": {},
   "outputs": [
    {
     "name": "stdout",
     "output_type": "stream",
     "text": [
      "TtestResult(statistic=-0.5947364059570055, pvalue=0.5533367115710116, df=102.0)\n",
      "신뢰구간:  (-20.3340461346528, 12.157859531782158)\n"
     ]
    }
   ],
   "source": [
    "# 답   (1) 기각 못함 (2) (-6 ± 17.26)\n",
    "\n",
    "import pandas as pd\n",
    "df = pd.read_csv(\"https://raw.githubusercontent.com/Datamanim/datarepo/main/stats/stats1.csv\")\n",
    "# df\n",
    "\n",
    "# 데이터 집단별 할당\n",
    "A = df[df[\"ID\"].str.contains(\"A\")][\"data\"]\n",
    "B = df[df[\"ID\"].str.contains(\"B\")][\"data\"]\n",
    "\n",
    "import pandas as pd\n",
    "from scipy.stats import norm\n",
    "\n",
    "\n",
    "# 두 집단 간 평균 차이 검정\n",
    "alpha = 0.01\n",
    "\n",
    "import scipy.stats as stats\n",
    "\n",
    "# 성별에 따른 혈압이 등분산성을 만족한다는 조건\n",
    "# 독립 t검정 수행 (default is 'two-sided')\n",
    "test_result = stats.ttest_ind(A,\n",
    "                              B,\n",
    "                              equal_var=True)\n",
    "print(test_result)\n",
    "\n",
    "# 남녀 평균 차이\n",
    "A.mean() - B.mean()\n",
    "\n",
    "# 평균과 신뢰구간\n",
    "from numpy import array, mean\n",
    "from scipy.stats import sem, t\n",
    "import numpy as np\n",
    "\n",
    "t_stat, p_val = stats.ttest_ind(A, B, equal_var=True)\n",
    "\n",
    "# 자유도 계산\n",
    "df = len(A) + len(B) - 2\n",
    "\n",
    "# 풀도분산 계산\n",
    "s1, s2 = A.var(), B.var()\n",
    "n1, n2 = len(A), len(B)\n",
    "pooled_var = ((n1 - 1) * s1 + (n2 - 1) * s2) / (n1 + n2 - 2)\n",
    "\n",
    "# 신뢰구간 계산\n",
    "# loc은 신뢰구간 계산 시 평균의 차이를 나타내는 값\n",
    "conf_int = stats.t.interval(0.98,\n",
    "                            df,\n",
    "                            loc = A.mean()-B.mean(), \n",
    "                            scale = (pooled_var*(1/n1 + 1/n2))**0.5)\n",
    "\n",
    "print(\"신뢰구간: \", conf_int)"
   ]
  },
  {
   "cell_type": "markdown",
   "id": "119sux7m",
   "metadata": {},
   "source": [
    "#### 철원"
   ]
  },
  {
   "cell_type": "code",
   "execution_count": 35,
   "id": "3b07f3ec",
   "metadata": {},
   "outputs": [],
   "source": [
    "import pandas as pd\n",
    "import numpy as np\n",
    "from scipy import stats"
   ]
  },
  {
   "cell_type": "code",
   "execution_count": 37,
   "id": "9beb058e",
   "metadata": {},
   "outputs": [
    {
     "data": {
      "text/html": [
       "<div>\n",
       "<style scoped>\n",
       "    .dataframe tbody tr th:only-of-type {\n",
       "        vertical-align: middle;\n",
       "    }\n",
       "\n",
       "    .dataframe tbody tr th {\n",
       "        vertical-align: top;\n",
       "    }\n",
       "\n",
       "    .dataframe thead th {\n",
       "        text-align: right;\n",
       "    }\n",
       "</style>\n",
       "<table border=\"1\" class=\"dataframe\">\n",
       "  <thead>\n",
       "    <tr style=\"text-align: right;\">\n",
       "      <th></th>\n",
       "      <th>data</th>\n",
       "      <th>ID</th>\n",
       "    </tr>\n",
       "  </thead>\n",
       "  <tbody>\n",
       "    <tr>\n",
       "      <th>0</th>\n",
       "      <td>329.231</td>\n",
       "      <td>A_1</td>\n",
       "    </tr>\n",
       "    <tr>\n",
       "      <th>1</th>\n",
       "      <td>333.468</td>\n",
       "      <td>A_2</td>\n",
       "    </tr>\n",
       "    <tr>\n",
       "      <th>2</th>\n",
       "      <td>264.615</td>\n",
       "      <td>A_3</td>\n",
       "    </tr>\n",
       "    <tr>\n",
       "      <th>3</th>\n",
       "      <td>330.089</td>\n",
       "      <td>A_4</td>\n",
       "    </tr>\n",
       "    <tr>\n",
       "      <th>4</th>\n",
       "      <td>255.057</td>\n",
       "      <td>A_5</td>\n",
       "    </tr>\n",
       "  </tbody>\n",
       "</table>\n",
       "</div>"
      ],
      "text/plain": [
       "      data   ID\n",
       "0  329.231  A_1\n",
       "1  333.468  A_2\n",
       "2  264.615  A_3\n",
       "3  330.089  A_4\n",
       "4  255.057  A_5"
      ]
     },
     "execution_count": 37,
     "metadata": {},
     "output_type": "execute_result"
    }
   ],
   "source": [
    "df = pd.read_csv('https://raw.githubusercontent.com/Datamanim/datarepo/main/stats/stats1.csv')\n",
    "df.head()"
   ]
  },
  {
   "cell_type": "markdown",
   "id": "c6297ff5",
   "metadata": {},
   "source": [
    "(1) 두 집단 간 언어능력의 차이가 있는가? (유의수준 a = 0.01로 검정하라.)"
   ]
  },
  {
   "cell_type": "code",
   "execution_count": 38,
   "id": "f989b61b",
   "metadata": {},
   "outputs": [],
   "source": [
    "a = df[df.ID.str.contains('A')].data\n",
    "b = df[df.ID.str.contains('B')].data"
   ]
  },
  {
   "cell_type": "markdown",
   "id": "f10fb6bb",
   "metadata": {},
   "source": [
    "#### 방법1"
   ]
  },
  {
   "cell_type": "code",
   "execution_count": 39,
   "id": "919ee297",
   "metadata": {},
   "outputs": [
    {
     "data": {
      "text/plain": [
       "ShapiroResult(statistic=0.9692309498786926, pvalue=0.10011835396289825)"
      ]
     },
     "execution_count": 39,
     "metadata": {},
     "output_type": "execute_result"
    }
   ],
   "source": [
    "stats.shapiro(a)"
   ]
  },
  {
   "cell_type": "code",
   "execution_count": 40,
   "id": "002de501",
   "metadata": {},
   "outputs": [
    {
     "data": {
      "text/plain": [
       "ShapiroResult(statistic=0.9584290385246277, pvalue=0.16870085895061493)"
      ]
     },
     "execution_count": 40,
     "metadata": {},
     "output_type": "execute_result"
    }
   ],
   "source": [
    "stats.shapiro(b)"
   ]
  },
  {
   "cell_type": "code",
   "execution_count": 41,
   "id": "cb92df3d",
   "metadata": {},
   "outputs": [
    {
     "data": {
      "text/plain": [
       "LeveneResult(statistic=12.18820648173538, pvalue=0.0007120590094733835)"
      ]
     },
     "execution_count": 41,
     "metadata": {},
     "output_type": "execute_result"
    }
   ],
   "source": [
    "stats.levene(a,b)"
   ]
  },
  {
   "cell_type": "code",
   "execution_count": 42,
   "id": "5d19e193",
   "metadata": {},
   "outputs": [
    {
     "data": {
      "text/plain": [
       "Ttest_indResult(statistic=-0.5271245480815361, pvalue=0.6002726885798456)"
      ]
     },
     "execution_count": 42,
     "metadata": {},
     "output_type": "execute_result"
    }
   ],
   "source": [
    "stats.ttest_ind(a,b, equal_var= False)"
   ]
  },
  {
   "cell_type": "markdown",
   "id": "b7b03c3f",
   "metadata": {},
   "source": [
    "#### 방법2"
   ]
  },
  {
   "cell_type": "code",
   "execution_count": 43,
   "id": "220e9d5c",
   "metadata": {},
   "outputs": [
    {
     "name": "stdout",
     "output_type": "stream",
     "text": [
      "0.5271245480815288\n"
     ]
    }
   ],
   "source": [
    "n1 = a.shape[0]\n",
    "n2 = b.shape[0]\n",
    "\n",
    "mean1 = np.mean(a)\n",
    "mean2 = np.mean(b)\n",
    "difmean = mean1-mean2\n",
    "\n",
    "var1 = np.var(a, ddof=1)\n",
    "var2 = np.var(b, ddof=1)\n",
    "\n",
    "se = np.sqrt(var1/ n1 + var2 /n2)\n",
    "t= abs(difmean / se)\n",
    "print(t)"
   ]
  },
  {
   "cell_type": "code",
   "execution_count": 44,
   "id": "90547cbd",
   "metadata": {},
   "outputs": [
    {
     "data": {
      "text/plain": [
       "2.3634635726103568"
      ]
     },
     "execution_count": 44,
     "metadata": {},
     "output_type": "execute_result"
    }
   ],
   "source": [
    "stats.t.ppf(1-0.01, n1 +  n2 -2)"
   ]
  },
  {
   "cell_type": "markdown",
   "id": "de2319b3",
   "metadata": {},
   "source": [
    "#### 답안\n",
    "t값이 유의 확률 안에 있으므로 귀무가설인 두 집단의 차이가 없다는 기각하지 않는다."
   ]
  },
  {
   "cell_type": "markdown",
   "id": "78dee6a1",
   "metadata": {},
   "source": [
    "(2) 두 어린이 집단의 모평균 점수차에 대한 98% 신뢰구간을 계산하라.     "
   ]
  },
  {
   "cell_type": "code",
   "execution_count": 48,
   "id": "36c9ea76",
   "metadata": {},
   "outputs": [
    {
     "data": {
      "text/plain": [
       "(-22.41784029299495, 14.24165369012442)"
      ]
     },
     "execution_count": 48,
     "metadata": {},
     "output_type": "execute_result"
    }
   ],
   "source": [
    "#방법 1\n",
    "stats.t.interval(alpha = 0.98, loc = difmean, scale = se, df = n1 +  n2 -2)"
   ]
  },
  {
   "cell_type": "code",
   "execution_count": 49,
   "id": "003e1dcb",
   "metadata": {},
   "outputs": [
    {
     "data": {
      "text/plain": [
       "[-22.41784029299495, 14.24165369012442]"
      ]
     },
     "execution_count": 49,
     "metadata": {},
     "output_type": "execute_result"
    }
   ],
   "source": [
    "#방법 2\n",
    "t_alpha = stats.t.ppf(1- 0.02/2, df = n1 +  n2 -2)\n",
    "interval = se * t_alpha\n",
    "\n",
    "[difmean - interval,  difmean + interval]"
   ]
  },
  {
   "cell_type": "markdown",
   "id": "ccz80t6w",
   "metadata": {},
   "source": [
    "#### 경주"
   ]
  },
  {
   "cell_type": "code",
   "execution_count": 240,
   "id": "47803db4",
   "metadata": {},
   "outputs": [
    {
     "data": {
      "text/html": [
       "<div>\n",
       "<style scoped>\n",
       "    .dataframe tbody tr th:only-of-type {\n",
       "        vertical-align: middle;\n",
       "    }\n",
       "\n",
       "    .dataframe tbody tr th {\n",
       "        vertical-align: top;\n",
       "    }\n",
       "\n",
       "    .dataframe thead th {\n",
       "        text-align: right;\n",
       "    }\n",
       "</style>\n",
       "<table border=\"1\" class=\"dataframe\">\n",
       "  <thead>\n",
       "    <tr style=\"text-align: right;\">\n",
       "      <th></th>\n",
       "      <th>data</th>\n",
       "      <th>ID</th>\n",
       "    </tr>\n",
       "  </thead>\n",
       "  <tbody>\n",
       "    <tr>\n",
       "      <th>0</th>\n",
       "      <td>329.231</td>\n",
       "      <td>A_1</td>\n",
       "    </tr>\n",
       "    <tr>\n",
       "      <th>1</th>\n",
       "      <td>333.468</td>\n",
       "      <td>A_2</td>\n",
       "    </tr>\n",
       "    <tr>\n",
       "      <th>2</th>\n",
       "      <td>264.615</td>\n",
       "      <td>A_3</td>\n",
       "    </tr>\n",
       "    <tr>\n",
       "      <th>3</th>\n",
       "      <td>330.089</td>\n",
       "      <td>A_4</td>\n",
       "    </tr>\n",
       "    <tr>\n",
       "      <th>4</th>\n",
       "      <td>255.057</td>\n",
       "      <td>A_5</td>\n",
       "    </tr>\n",
       "  </tbody>\n",
       "</table>\n",
       "</div>"
      ],
      "text/plain": [
       "      data   ID\n",
       "0  329.231  A_1\n",
       "1  333.468  A_2\n",
       "2  264.615  A_3\n",
       "3  330.089  A_4\n",
       "4  255.057  A_5"
      ]
     },
     "metadata": {},
     "output_type": "display_data"
    },
    {
     "name": "stdout",
     "output_type": "stream",
     "text": [
      "검정통계량 -0.5336423626458081\n",
      "p-value 0.5935889932422778\n",
      "신뢰구간 -23.820841783527012 15.644655180656482\n"
     ]
    }
   ],
   "source": [
    "df =pd.read_csv('https://raw.githubusercontent.com/Datamanim/datarepo/main/stats/stats1.csv')\n",
    "display(df.head())\n",
    "a = df[df['ID'].str.contains('A')]['data']\n",
    "b = df[df['ID'].str.contains('B')]['data']\n",
    "\n",
    "x1=np.mean(a)\n",
    "s1 = np.std(a)\n",
    "n1 = len(a)\n",
    "x2 = np.mean(b)\n",
    "s2=np.std(b)\n",
    "n2=len(b)\n",
    "d=x1-x2\n",
    "se=(np.sqrt((s1**2/n1+s2**2/n2)))\n",
    "z = norm.ppf(1-0.01/2)\n",
    "stat=d / (np.sqrt((s1**2/n1+s2**2/n2)))\n",
    "p = (1-norm.cdf(np.abs(stat)))*2\n",
    "z = norm.ppf(1-0.01/2)\n",
    "print('검정통계량',stat)\n",
    "print('p-value',p)\n",
    "print('신뢰구간', d-z*se, d+z*se)"
   ]
  },
  {
   "cell_type": "markdown",
   "id": "8tmiskgl",
   "metadata": {},
   "source": [
    "# @@@@@@@@@@@@@@@@@@@@@@@@@@@@@@"
   ]
  },
  {
   "cell_type": "markdown",
   "id": "463868c8",
   "metadata": {},
   "source": [
    "12.2.10.    \n",
    "아래 데이터에서 여성보다 남성이 작업하는데 시간이 오래 걸린다고 할 수 있는지 검정하라.     \n",
    "dataurl : https://raw.githubusercontent.com/Datamanim/datarepo/main/stats/stats2.csv"
   ]
  },
  {
   "cell_type": "markdown",
   "id": "1di3zrcf",
   "metadata": {},
   "source": [
    "#### 창원"
   ]
  },
  {
   "cell_type": "code",
   "execution_count": 35,
   "id": "24efbac0",
   "metadata": {},
   "outputs": [
    {
     "data": {
      "text/html": [
       "<div>\n",
       "<style scoped>\n",
       "    .dataframe tbody tr th:only-of-type {\n",
       "        vertical-align: middle;\n",
       "    }\n",
       "\n",
       "    .dataframe tbody tr th {\n",
       "        vertical-align: top;\n",
       "    }\n",
       "\n",
       "    .dataframe thead th {\n",
       "        text-align: right;\n",
       "    }\n",
       "</style>\n",
       "<table border=\"1\" class=\"dataframe\">\n",
       "  <thead>\n",
       "    <tr style=\"text-align: right;\">\n",
       "      <th></th>\n",
       "      <th>data</th>\n",
       "      <th>ID</th>\n",
       "    </tr>\n",
       "  </thead>\n",
       "  <tbody>\n",
       "    <tr>\n",
       "      <th>0</th>\n",
       "      <td>6.48</td>\n",
       "      <td>MALE_1</td>\n",
       "    </tr>\n",
       "    <tr>\n",
       "      <th>1</th>\n",
       "      <td>7.73</td>\n",
       "      <td>MALE_2</td>\n",
       "    </tr>\n",
       "  </tbody>\n",
       "</table>\n",
       "</div>"
      ],
      "text/plain": [
       "   data      ID\n",
       "0  6.48  MALE_1\n",
       "1  7.73  MALE_2"
      ]
     },
     "metadata": {},
     "output_type": "display_data"
    },
    {
     "name": "stdout",
     "output_type": "stream",
     "text": [
      "t_statstic: -3.091730282823316\n",
      "p : 0.9986498904647024\n",
      "귀무가설 채택, 남자와 같거나 남성이 더 오래 걸린다\n"
     ]
    }
   ],
   "source": [
    "# 귀무가설 : 여성그룹 작업시간 <= 남성그룹 작업시간\n",
    "# 대립가설 : 여성그룹 작업시간 > 남성그룹 작업시간\n",
    "import pandas as pd\n",
    "df = pd.read_csv('https://raw.githubusercontent.com/Datamanim/datarepo/main/stats/stats2.csv')\n",
    "display(df.head(2))\n",
    "df['ID'] = df.ID.str.split('_').str[0]\n",
    "male = df[df['ID'] == 'MALE']['data']\n",
    "female = df[df['ID'] == 'FEMALE']['data']\n",
    "\n",
    "from scipy.stats import ttest_ind\n",
    "statistic, p = ttest_ind(female, male, alternative = 'greater')\n",
    "print('t_statstic:', statistic)\n",
    "print('p :', p)\n",
    "print('귀무가설 채택, 남자와 같거나 남성이 더 오래 걸린다' if p > 0.05 else '대립가설 채택, 여성 그룹 작업시간이 더 오래 걸린다.' )"
   ]
  },
  {
   "cell_type": "markdown",
   "id": "4qoismbs",
   "metadata": {},
   "source": [
    "#### 경주"
   ]
  },
  {
   "cell_type": "code",
   "execution_count": 105,
   "id": "f75fa0df",
   "metadata": {},
   "outputs": [
    {
     "data": {
      "text/html": [
       "<div>\n",
       "<style scoped>\n",
       "    .dataframe tbody tr th:only-of-type {\n",
       "        vertical-align: middle;\n",
       "    }\n",
       "\n",
       "    .dataframe tbody tr th {\n",
       "        vertical-align: top;\n",
       "    }\n",
       "\n",
       "    .dataframe thead th {\n",
       "        text-align: right;\n",
       "    }\n",
       "</style>\n",
       "<table border=\"1\" class=\"dataframe\">\n",
       "  <thead>\n",
       "    <tr style=\"text-align: right;\">\n",
       "      <th></th>\n",
       "      <th>data</th>\n",
       "      <th>ID</th>\n",
       "    </tr>\n",
       "  </thead>\n",
       "  <tbody>\n",
       "    <tr>\n",
       "      <th>0</th>\n",
       "      <td>6.48</td>\n",
       "      <td>MALE_1</td>\n",
       "    </tr>\n",
       "    <tr>\n",
       "      <th>1</th>\n",
       "      <td>7.73</td>\n",
       "      <td>MALE_2</td>\n",
       "    </tr>\n",
       "    <tr>\n",
       "      <th>2</th>\n",
       "      <td>0.55</td>\n",
       "      <td>MALE_3</td>\n",
       "    </tr>\n",
       "    <tr>\n",
       "      <th>3</th>\n",
       "      <td>13.58</td>\n",
       "      <td>MALE_4</td>\n",
       "    </tr>\n",
       "    <tr>\n",
       "      <th>4</th>\n",
       "      <td>1.73</td>\n",
       "      <td>MALE_5</td>\n",
       "    </tr>\n",
       "  </tbody>\n",
       "</table>\n",
       "</div>"
      ],
      "text/plain": [
       "    data      ID\n",
       "0   6.48  MALE_1\n",
       "1   7.73  MALE_2\n",
       "2   0.55  MALE_3\n",
       "3  13.58  MALE_4\n",
       "4   1.73  MALE_5"
      ]
     },
     "metadata": {},
     "output_type": "display_data"
    },
    {
     "name": "stdout",
     "output_type": "stream",
     "text": [
      "귀무가설: 여성보다 남성이 작업하는데 시간이 오래걸린다.\n",
      "대립가설: 여성보다 남성이 작업하는데 시간이 오래걸리지 않는다.\n",
      "p값이 0.05 이상이므로 귀무가설을 기각하지 못한다.\n"
     ]
    }
   ],
   "source": [
    "from scipy.stats import ttest_ind\n",
    "\n",
    "df =pd.read_csv('https://raw.githubusercontent.com/Datamanim/datarepo/main/stats/stats2.csv')\n",
    "display(df.head())\n",
    "\n",
    "m = df[df['ID'].str.contains('MALE')]['data']\n",
    "f = df[df['ID'].str.contains('FEMALE')]['data']\n",
    "\n",
    "ttest_ind(m,f)\n",
    "print('귀무가설: 여성보다 남성이 작업하는데 시간이 오래걸린다.')\n",
    "print('대립가설: 여성보다 남성이 작업하는데 시간이 오래걸리지 않는다.')\n",
    "print('p값이 0.05 이상이므로 귀무가설을 기각하지 못한다.')"
   ]
  },
  {
   "cell_type": "markdown",
   "id": "0jlgu0gq",
   "metadata": {},
   "source": [
    "# @@@@@@@@@@@@@@@@@@@@@@@@@@@@@@"
   ]
  },
  {
   "cell_type": "markdown",
   "id": "0e1ca8bf",
   "metadata": {},
   "source": [
    "예제 12.9     \n",
    "어떤 약의 부작용으로 혈압강하의 효과가 있는지 알아보기 위해서 15명의 환자를 대상으로 약의 복용 전후의 이완기 혈압을 측정하였더니 그 결과가 다음과 같았다.           \n",
    "dataurl : https://raw.githubusercontent.com/Datamanim/datarepo/main/stats/stats3.csv     \n",
    "(1) 평균혈압 전 후 차이값에 대한95% 신뢰구간을 구하라.    \n",
    "(2) 이 자료로부터 약이 혈압을 내린다는 주장을 할 수 있겠는가? 유의수준 1 % 로 검정하라."
   ]
  },
  {
   "cell_type": "markdown",
   "id": "dllyzjik",
   "metadata": {},
   "source": [
    "#### 정읍"
   ]
  },
  {
   "cell_type": "code",
   "execution_count": 18,
   "id": "8ad4d691",
   "metadata": {},
   "outputs": [
    {
     "name": "stdout",
     "output_type": "stream",
     "text": [
      "1) 95%신뢰구간: (2.7220831430525037, 14.877916856947497)\n",
      "2) 정답 : 유의수준 1%에서는 투약전과 후는 차이가 있다\n",
      "통계량:   3, p: 0.008\n"
     ]
    }
   ],
   "source": [
    "import pandas as pd\n",
    "import numpy as np\n",
    "import scipy.stats as stats\n",
    "\n",
    "df=pd.read_csv('https://raw.githubusercontent.com/Datamanim/datarepo/main/stats/stats3.csv')\n",
    "output=df.pivot_table(index=['유저ID'],columns=['상태'],values=['혈압'])\n",
    "output.columns=['투약전','투약후']\n",
    "output['diff']=output['투약전']-output['투약후']\n",
    "x_bar=output['diff'].mean()\n",
    "s=output['diff'].std(ddof=1)\n",
    "#표준오차\n",
    "se=s/np.sqrt(15)\n",
    "ta=stats.t(14).ppf(0.975)\n",
    "low=x_bar-ta*se\n",
    "high=x_bar+ta*se\n",
    "print('1) 95%신뢰구간:',(low,high))\n",
    "s,p=stats.ttest_rel(output['투약전'],output['투약후'])\n",
    "if p < 0.01 :\n",
    "    print('2) 정답 : 유의수준 1%에서는 투약전과 후는 차이가 있다')\n",
    "else:\n",
    "    print('2) 정답 : 유의수준 1%에서는 투약전과 후는 차이가 없다')\n",
    "print('통계량: %3.f, p: %.3f'%(s,p))"
   ]
  },
  {
   "cell_type": "markdown",
   "id": "ppdvfy5d",
   "metadata": {},
   "source": [
    "#### 철원"
   ]
  },
  {
   "cell_type": "code",
   "execution_count": 10,
   "id": "d7d975df",
   "metadata": {},
   "outputs": [],
   "source": [
    "import pandas as pd\n",
    "import numpy as np\n",
    "from scipy import stats"
   ]
  },
  {
   "cell_type": "code",
   "execution_count": 11,
   "id": "f4a5aa42",
   "metadata": {},
   "outputs": [
    {
     "data": {
      "text/html": [
       "<div>\n",
       "<style scoped>\n",
       "    .dataframe tbody tr th:only-of-type {\n",
       "        vertical-align: middle;\n",
       "    }\n",
       "\n",
       "    .dataframe tbody tr th {\n",
       "        vertical-align: top;\n",
       "    }\n",
       "\n",
       "    .dataframe thead th {\n",
       "        text-align: right;\n",
       "    }\n",
       "</style>\n",
       "<table border=\"1\" class=\"dataframe\">\n",
       "  <thead>\n",
       "    <tr style=\"text-align: right;\">\n",
       "      <th></th>\n",
       "      <th>상태</th>\n",
       "      <th>혈압</th>\n",
       "      <th>유저ID</th>\n",
       "    </tr>\n",
       "  </thead>\n",
       "  <tbody>\n",
       "    <tr>\n",
       "      <th>0</th>\n",
       "      <td>투약 전</td>\n",
       "      <td>70</td>\n",
       "      <td>ID_1</td>\n",
       "    </tr>\n",
       "    <tr>\n",
       "      <th>1</th>\n",
       "      <td>투약 전</td>\n",
       "      <td>80</td>\n",
       "      <td>ID_2</td>\n",
       "    </tr>\n",
       "    <tr>\n",
       "      <th>2</th>\n",
       "      <td>투약 전</td>\n",
       "      <td>72</td>\n",
       "      <td>ID_3</td>\n",
       "    </tr>\n",
       "    <tr>\n",
       "      <th>3</th>\n",
       "      <td>투약 전</td>\n",
       "      <td>76</td>\n",
       "      <td>ID_4</td>\n",
       "    </tr>\n",
       "    <tr>\n",
       "      <th>4</th>\n",
       "      <td>투약 전</td>\n",
       "      <td>76</td>\n",
       "      <td>ID_5</td>\n",
       "    </tr>\n",
       "  </tbody>\n",
       "</table>\n",
       "</div>"
      ],
      "text/plain": [
       "     상태  혈압  유저ID\n",
       "0  투약 전  70  ID_1\n",
       "1  투약 전  80  ID_2\n",
       "2  투약 전  72  ID_3\n",
       "3  투약 전  76  ID_4\n",
       "4  투약 전  76  ID_5"
      ]
     },
     "execution_count": 11,
     "metadata": {},
     "output_type": "execute_result"
    }
   ],
   "source": [
    "df = pd.read_csv('https://raw.githubusercontent.com/Datamanim/datarepo/main/stats/stats3.csv')\n",
    "df.head()"
   ]
  },
  {
   "cell_type": "markdown",
   "id": "f50f5a03",
   "metadata": {},
   "source": [
    "(1) 평균혈압 전 후 차이값에 대한95% 신뢰구간을 구하라.  "
   ]
  },
  {
   "cell_type": "code",
   "execution_count": 19,
   "id": "4e49b7b7",
   "metadata": {},
   "outputs": [],
   "source": [
    "newdf = pd.pivot_table(data = df, index = '유저ID', columns = '상태')"
   ]
  },
  {
   "cell_type": "code",
   "execution_count": 20,
   "id": "903e7bf0",
   "metadata": {},
   "outputs": [],
   "source": [
    "newdf.columns = ['before', 'after']"
   ]
  },
  {
   "cell_type": "code",
   "execution_count": 21,
   "id": "89ba18d1",
   "metadata": {},
   "outputs": [],
   "source": [
    "newdf['diffbd'] =  newdf.before - newdf.after"
   ]
  },
  {
   "cell_type": "code",
   "execution_count": 22,
   "id": "04442650",
   "metadata": {},
   "outputs": [],
   "source": [
    "n = newdf.diffbd.shape[0]\n",
    "\n",
    "difmean = np.mean(newdf.diffbd)\n",
    "\n",
    "difstd = np.std(newdf.diffbd, ddof =1)\n",
    "\n",
    "se = difstd / np.sqrt(n)"
   ]
  },
  {
   "cell_type": "code",
   "execution_count": 23,
   "id": "cf8ea113",
   "metadata": {},
   "outputs": [],
   "source": [
    "t_alpha = stats.t.ppf(1-0.05/2, n-1)"
   ]
  },
  {
   "cell_type": "code",
   "execution_count": 25,
   "id": "dbacf44e",
   "metadata": {},
   "outputs": [
    {
     "name": "stdout",
     "output_type": "stream",
     "text": [
      "[2.72, 14.88]\n"
     ]
    }
   ],
   "source": [
    "interval = t_alpha * se\n",
    "\n",
    "CI = [round(difmean -interval, 2),  round(difmean +interval,2 )]\n",
    "print(CI)"
   ]
  },
  {
   "cell_type": "markdown",
   "id": "22c5f313",
   "metadata": {},
   "source": [
    "(2) 이 자료로부터 약이 혈압을 내린다는 주장을 할 수 있겠는가? 유의수준 1 % 로 검정하라."
   ]
  },
  {
   "cell_type": "code",
   "execution_count": 26,
   "id": "9257742c",
   "metadata": {},
   "outputs": [
    {
     "data": {
      "text/plain": [
       "Ttest_relResult(statistic=3.105360487466109, pvalue=0.007749436106654119)"
      ]
     },
     "execution_count": 26,
     "metadata": {},
     "output_type": "execute_result"
    }
   ],
   "source": [
    "# 방법1\n",
    "stats.ttest_rel(newdf.before, newdf.after)"
   ]
  },
  {
   "cell_type": "code",
   "execution_count": 29,
   "id": "bf9b84c0",
   "metadata": {},
   "outputs": [
    {
     "name": "stdout",
     "output_type": "stream",
     "text": [
      "유의하다\n"
     ]
    }
   ],
   "source": [
    "# 방법2\n",
    "t_stat = difmean / se\n",
    "t_p = stats.t.ppf(1-0.01, df = n-1)\n",
    "\n",
    "if (t_stat > t_p):\n",
    "    print('유의하다')\n",
    "else:\n",
    "    print('유의하지 않다.')"
   ]
  },
  {
   "cell_type": "markdown",
   "id": "b422a48d",
   "metadata": {},
   "source": [
    "#### 답안\n",
    "p-value가 유의 수준 0.01보다 작으므로 약이 혈압이 내린다고 할 수 있다."
   ]
  },
  {
   "cell_type": "markdown",
   "id": "yv9c4vng",
   "metadata": {},
   "source": [
    "#### 경주"
   ]
  },
  {
   "cell_type": "code",
   "execution_count": 171,
   "id": "d7113493",
   "metadata": {},
   "outputs": [
    {
     "name": "stdout",
     "output_type": "stream",
     "text": [
      "신뢰구간 -14.877916856947497 -2.7220831430525037\n",
      "Ttest_relResult(statistic=-3.105360487466109, pvalue=0.007749436106654119)\n"
     ]
    }
   ],
   "source": [
    "from scipy.stats import ttest_rel #투약 후뒤에 띄어쓰기 안하면 출력 X\n",
    "df = pd.read_csv('https://raw.githubusercontent.com/Datamanim/datarepo/main/stats/stats3.csv')\n",
    "\n",
    "before = df[df['상태']=='투약 전']['혈압']\n",
    "after = df[df['상태']=='투약 후 ']['혈압']\n",
    "\n",
    "diff = np.array([after]) - np.array([before])\n",
    "mdiff = np.mean(diff)\n",
    "std= np.std(diff, ddof=1)\n",
    "n = len(after)\n",
    "\n",
    "alpha = 0.05\n",
    "t_critical = t.ppf(1 - alpha/2, df=n-1)\n",
    "\n",
    "me = t_critical * (std / np.sqrt(n))\n",
    "\n",
    "print('신뢰구간',mdiff - me, mdiff + me)\n",
    "print(ttest_rel(after,before))"
   ]
  },
  {
   "cell_type": "markdown",
   "id": "f4v0j87r",
   "metadata": {},
   "source": [
    "# @@@@@@@@@@@@@@@@@@@@@@@@@@@@@@"
   ]
  },
  {
   "cell_type": "markdown",
   "id": "c77e8ffd",
   "metadata": {},
   "source": [
    "예제 12.10      \n",
    "어떤 화학적인 처리가 씨의 발아비율을 높이는 데 효과가 있는가를 알아보기 위해서 100개의 화학적 으로 처리된 씨와 150개의 처리되지 않은 보통의 씨를 파종하여 발아되는 것을 관찰하였다. 그 결과 화학적으로 처리된 씨 중에서는 88개, 보통의 씨 중에서는 126개가 발아되었다. 화학적으로 처리된 씨와 처리되지 않은 보통의 씨의 발아비율의 차에 대한 95% 신뢰구간을 구하라."
   ]
  },
  {
   "cell_type": "markdown",
   "id": "icsihdj5",
   "metadata": {},
   "source": [
    "#### 창원"
   ]
  },
  {
   "cell_type": "code",
   "execution_count": 46,
   "id": "233c42b5",
   "metadata": {},
   "outputs": [
    {
     "name": "stdout",
     "output_type": "stream",
     "text": [
      "-0.04659403915971888 0.12659403915971895\n"
     ]
    }
   ],
   "source": [
    "import statsmodels.api as sm\n",
    "import numpy as np\n",
    "\n",
    "n1 = 100\n",
    "n2 = 150\n",
    "\n",
    "x1 = 88\n",
    "x2 = 126\n",
    "\n",
    "# 신뢰수준\n",
    "cl = 0.95\n",
    "alpha = 1 - cl\n",
    "# 화학처리 씨  발아 비율\n",
    "p1 = x1/n1\n",
    "q1 = 1 - p1\n",
    "# 보통 씨 발아 비율\n",
    "p2 = x2/n2\n",
    "q2 = 1 - p2\n",
    "\n",
    "# 표준오차 및 Z 값 계산\n",
    "standard_error =  np.sqrt((p1 * q1)/n1 + (p2 * q2)/n2)\n",
    "Z_value = stats.norm.ppf(1 - alpha / 2)\n",
    "\n",
    "\n",
    "lower = (p1 - p2) - Z_value * standard_error\n",
    "upper = (p1 - p2) + Z_value * standard_error\n",
    "\n",
    "print(lower, upper)\n"
   ]
  },
  {
   "cell_type": "markdown",
   "id": "qtk3jbxx",
   "metadata": {},
   "source": [
    "#### 경주"
   ]
  },
  {
   "cell_type": "code",
   "execution_count": 213,
   "id": "3a5b9392",
   "metadata": {},
   "outputs": [
    {
     "name": "stdout",
     "output_type": "stream",
     "text": [
      "(-0.04883632703592605, 0.12883632703592612)\n"
     ]
    }
   ],
   "source": [
    "import numpy as np\n",
    "\n",
    "# 씨의 발아 비율\n",
    "n1 = 100\n",
    "n2 = 150\n",
    "s1 = 88\n",
    "s2 = 126\n",
    "\n",
    "# 각각의 발아 비율 계산\n",
    "p1 = s1 / n1\n",
    "p2 = s2 / n2\n",
    "d=p1-p2\n",
    "pe = (s1+s2)/(n1+n2)\n",
    "se= np.sqrt(pe*(1-pe) * (1/n1+1/n2))\n",
    "\n",
    "print(norm.interval(alpha=0.95, loc=d,scale=se))"
   ]
  },
  {
   "cell_type": "markdown",
   "id": "dzzqgz8g",
   "metadata": {},
   "source": [
    "# @@@@@@@@@@@@@@@@@@@@@@@@@@@@@@"
   ]
  },
  {
   "cell_type": "markdown",
   "id": "41195e1b",
   "metadata": {},
   "source": [
    "12.4.2    \n",
    "두 집단 A와 B에서 각각 100명을 뽑아 약을 투약한 후 효과가 있었는지 설문했다.       \n",
    "dataurl : https://raw.githubusercontent.com/Datamanim/datarepo/main/stats/stats4.csv        \n",
    "(1) 두 집단간 효과 정도가 같은지 검정하라 (유의수준 0.05)       \n",
    "(2) 효과율 (yes응답 비율)의 집단간 차이에 대한 95% 신뢰구간을 구하여라.    "
   ]
  },
  {
   "cell_type": "markdown",
   "id": "67fv9ndz",
   "metadata": {},
   "source": [
    "#### 강릉"
   ]
  },
  {
   "cell_type": "code",
   "execution_count": 147,
   "id": "e6b231f8",
   "metadata": {},
   "outputs": [
    {
     "name": "stdout",
     "output_type": "stream",
     "text": [
      "group   A   B\n",
      "응답           \n",
      "아니오    38  71\n",
      "예      62  29\n",
      "(20.647242665591293, 5.521664931688565e-06, 1, array([[54.5, 54.5],\n",
      "       [45.5, 45.5]]))\n",
      "답안1)\n",
      " 두 그룹간의 효과정도가 같은지를 검정하기 위해 카이검정의 독립성 검정을 실시하였다. \n",
      " 귀무가설:두 집단은 독립이다. \n",
      " 대립가설: 두 집단은 독립적이지 않다.\n",
      "p value가 5.521664931688565e-06 이므로 귀무가설을 기각한다. 두 그룹은 독립적이지 않다.\n",
      "-------------------------------------\n",
      "답안2)\n",
      " 두 집단의 Yes 응답율 차이는 33% 이고 신뢰구간은 0.975 z value에 두집단의 표준오차를 계산해서 구한다.\n",
      "95% 신뢰구간: (0.1998, 0.4602)이다.\n"
     ]
    }
   ],
   "source": [
    "import numpy as np\n",
    "import pandas as pd\n",
    "df12=pd.read_csv('https://raw.githubusercontent.com/Datamanim/datarepo/main/stats/stats4.csv')\n",
    "df12['group']=df12.집단.str.split('_',expand=True)[0]\n",
    "df12.head()\n",
    "df121=df12.drop(columns='집단')\n",
    "df121\n",
    "table=pd.crosstab(df121['응답'],df121['group'])\n",
    "print(table)\n",
    "\n",
    "from scipy.stats import chi2_contingency \n",
    "result=chi2_contingency(table)\n",
    "\n",
    "print(result)\n",
    "print('답안1)\\n 두 그룹간의 효과정도가 같은지를 검정하기 위해 카이검정의 독립성 검정을 실시하였다. \\n 귀무가설:\\\n",
    "두 집단은 독립이다. \\n 대립가설: 두 집단은 독립적이지 않다.')\n",
    "print(f\"p value가 {result[1]} 이므로 귀무가설을 기각한다. 두 그룹은 독립적이지 않다.\")\n",
    "print('-------------------------------------')\n",
    "\n",
    "# #A의 yes응답비율\n",
    "# RA==62%\n",
    "# #B의 yes응답비율\n",
    "# RB==29%\n",
    "\n",
    "import numpy as np\n",
    "import scipy.stats as stats\n",
    "\n",
    "# 두 집단의 데이터 (yes 응답 수와 총 응답 수)\n",
    "groupA_yes_responses = 62\n",
    "groupA_total_responses = 100\n",
    "\n",
    "groupB_yes_responses = 29\n",
    "groupB_total_responses = 100\n",
    "\n",
    "# 효과율 계산\n",
    "groupA_efficiency = groupA_yes_responses / groupA_total_responses\n",
    "groupB_efficiency = groupB_yes_responses / groupB_total_responses\n",
    "\n",
    "# 두 집단의 표준 오차 계산\n",
    "se_groupA = np.sqrt(groupA_efficiency * (1 - groupA_efficiency) / groupA_total_responses)\n",
    "se_groupB = np.sqrt(groupB_efficiency * (1 - groupB_efficiency) / groupB_total_responses)\n",
    "\n",
    "# 평균 차이 계산\n",
    "mean_difference = groupA_efficiency - groupB_efficiency\n",
    "\n",
    "# 신뢰구간 계산\n",
    "z_value = stats.norm.ppf(0.975)  # 95% 신뢰수준에서의 Z-점수\n",
    "margin_of_error = z_value * np.sqrt(se_groupA**2 + se_groupB**2)\n",
    "confidence_interval_lower = mean_difference - margin_of_error\n",
    "confidence_interval_upper = mean_difference + margin_of_error\n",
    "\n",
    "print('답안2)\\n 두 집단의 Yes 응답율 차이는 33% 이고 신뢰구간은 0.975 z value에 두집단의 표준오차를 계산해서 구한다.')\n",
    "print(f\"95% 신뢰구간: ({confidence_interval_lower:.4f}, {confidence_interval_upper:.4f})\" '이다.')\n"
   ]
  },
  {
   "cell_type": "markdown",
   "id": "4uyigy49",
   "metadata": {},
   "source": [
    "#### 경주"
   ]
  },
  {
   "cell_type": "code",
   "execution_count": 352,
   "id": "bb9cf434",
   "metadata": {},
   "outputs": [
    {
     "data": {
      "text/html": [
       "<div>\n",
       "<style scoped>\n",
       "    .dataframe tbody tr th:only-of-type {\n",
       "        vertical-align: middle;\n",
       "    }\n",
       "\n",
       "    .dataframe tbody tr th {\n",
       "        vertical-align: top;\n",
       "    }\n",
       "\n",
       "    .dataframe thead th {\n",
       "        text-align: right;\n",
       "    }\n",
       "</style>\n",
       "<table border=\"1\" class=\"dataframe\">\n",
       "  <thead>\n",
       "    <tr style=\"text-align: right;\">\n",
       "      <th></th>\n",
       "      <th>집단</th>\n",
       "      <th>응답</th>\n",
       "    </tr>\n",
       "  </thead>\n",
       "  <tbody>\n",
       "    <tr>\n",
       "      <th>0</th>\n",
       "      <td>A_ID_78</td>\n",
       "      <td>아니오</td>\n",
       "    </tr>\n",
       "    <tr>\n",
       "      <th>1</th>\n",
       "      <td>B_ID_72</td>\n",
       "      <td>아니오</td>\n",
       "    </tr>\n",
       "    <tr>\n",
       "      <th>2</th>\n",
       "      <td>B_ID_7</td>\n",
       "      <td>예</td>\n",
       "    </tr>\n",
       "    <tr>\n",
       "      <th>3</th>\n",
       "      <td>B_ID_82</td>\n",
       "      <td>아니오</td>\n",
       "    </tr>\n",
       "    <tr>\n",
       "      <th>4</th>\n",
       "      <td>B_ID_83</td>\n",
       "      <td>아니오</td>\n",
       "    </tr>\n",
       "  </tbody>\n",
       "</table>\n",
       "</div>"
      ],
      "text/plain": [
       "        집단   응답\n",
       "0  A_ID_78  아니오\n",
       "1  B_ID_72  아니오\n",
       "2   B_ID_7    예\n",
       "3  B_ID_82  아니오\n",
       "4  B_ID_83  아니오"
      ]
     },
     "metadata": {},
     "output_type": "display_data"
    },
    {
     "name": "stdout",
     "output_type": "stream",
     "text": [
      "9.167019310307722e-07\n",
      "(0.1982370570299559, 0.46176294297004417)\n",
      "귀무가설을 기각한다\n"
     ]
    }
   ],
   "source": [
    "import pandas as pd\n",
    "df = pd.read_csv('https://raw.githubusercontent.com/Datamanim/datarepo/main/stats/stats4.csv')\n",
    "display(df.head())\n",
    "'''\n",
    "a =df[(df['집단'].str.contains('A'))]\n",
    "#a['응답'].value_counts() #62\n",
    "b =df[(df['집단'].str.contains('B'))]\n",
    "#b['응답'].value_counts() #29\n",
    "'''\n",
    "p1=62/100\n",
    "p2=29/100\n",
    "pe = (62+69)/(100+100)\n",
    "d=p1-p2\n",
    "se = np.sqrt(pe*(1-pe)*(1/100+1/100))\n",
    "stat = d/se\n",
    "p = (1-norm.cdf(np.abs(stat)))*2\n",
    "print(p)\n",
    "print(norm.interval(alpha=0.95,loc=d, scale=se))\n",
    "print('귀무가설을 기각한다')"
   ]
  },
  {
   "cell_type": "markdown",
   "id": "c7hfcjcp",
   "metadata": {},
   "source": [
    "# @@@@@@@@@@@@@@@@@@@@@@@@@@@@@@"
   ]
  },
  {
   "cell_type": "markdown",
   "id": "c19c6b09",
   "metadata": {},
   "source": [
    "15.4.2     \n",
    "스트레스를 받는 직종에 근무하는 185명에 대한 조사를 통하여 다음과 같은 표를 얻었다.     \n",
    "우울증의 유무와 알콜 중독과 관계가 있는가? 유의수준 \tα = 0.1로 검정하라.\n",
    "<br></br><img src=\"https://github.com/Datamanim/datarepo/blob/main/stats/stats_image2.png?raw=true\" align=\"left\"><br></br>       "
   ]
  },
  {
   "cell_type": "markdown",
   "id": "92t4vd3q",
   "metadata": {},
   "source": [
    "#### 경주"
   ]
  },
  {
   "cell_type": "code",
   "execution_count": 138,
   "id": "4b578d55",
   "metadata": {},
   "outputs": [
    {
     "name": "stdout",
     "output_type": "stream",
     "text": [
      "카이제곱 값: 37.11118133094356\n",
      "p-값: 1.1158205789576514e-09\n",
      "유의수준 0.1에서 두 변수 간의 관계가 유의미하게 있습니다.\n",
      "귀무가설 기각\n"
     ]
    }
   ],
   "source": [
    "from scipy.stats import chi2_contingency\n",
    "\n",
    "data = {'알코올 중독': [54, 22], '정상': [27, 82]}\n",
    "df = pd.DataFrame(data, index=['우울증 증세를 보임', '우울증 증세를 보이지 않음'])\n",
    "\n",
    "chi2, p, dof, expected = chi2_contingency(df)\n",
    "alpha = 0.1\n",
    "\n",
    "print(\"카이제곱 값:\", chi2)\n",
    "print(\"p-값:\", p)\n",
    "\n",
    "if p < alpha:\n",
    "    print(\"유의수준 {}에서 두 변수 간의 관계가 유의미하게 있습니다.\".format(alpha))\n",
    "else:\n",
    "    print(\"유의수준 {}에서 두 변수 간의 관계가 유의미하지 않습니다.\".format(alpha))\n",
    "print('귀무가설 기각')"
   ]
  },
  {
   "cell_type": "markdown",
   "id": "t8rt79va",
   "metadata": {},
   "source": [
    "#### 성남"
   ]
  },
  {
   "cell_type": "code",
   "execution_count": 158,
   "id": "d229ac6f",
   "metadata": {},
   "outputs": [
    {
     "data": {
      "text/html": [
       "<div>\n",
       "<style scoped>\n",
       "    .dataframe tbody tr th:only-of-type {\n",
       "        vertical-align: middle;\n",
       "    }\n",
       "\n",
       "    .dataframe tbody tr th {\n",
       "        vertical-align: top;\n",
       "    }\n",
       "\n",
       "    .dataframe thead th {\n",
       "        text-align: right;\n",
       "    }\n",
       "</style>\n",
       "<table border=\"1\" class=\"dataframe\">\n",
       "  <thead>\n",
       "    <tr style=\"text-align: right;\">\n",
       "      <th></th>\n",
       "      <th>alcho_ab</th>\n",
       "      <th>alcho_normal</th>\n",
       "    </tr>\n",
       "  </thead>\n",
       "  <tbody>\n",
       "    <tr>\n",
       "      <th>dep_ab</th>\n",
       "      <td>54</td>\n",
       "      <td>27</td>\n",
       "    </tr>\n",
       "    <tr>\n",
       "      <th>dep_normal</th>\n",
       "      <td>22</td>\n",
       "      <td>82</td>\n",
       "    </tr>\n",
       "  </tbody>\n",
       "</table>\n",
       "</div>"
      ],
      "text/plain": [
       "            alcho_ab  alcho_normal\n",
       "dep_ab            54            27\n",
       "dep_normal        22            82"
      ]
     },
     "execution_count": 158,
     "metadata": {},
     "output_type": "execute_result"
    }
   ],
   "source": [
    "depression=pd.DataFrame({'alcho_ab' : [54,22],\n",
    "                        'alcho_normal' : [27, 82]})\n",
    "depression.index=['dep_ab', 'dep_normal']\n",
    "\n",
    "depression"
   ]
  },
  {
   "cell_type": "code",
   "execution_count": 162,
   "id": "786f9bfa-4068-4bdc-91b9-a4e033c08f99",
   "metadata": {},
   "outputs": [
    {
     "name": "stdout",
     "output_type": "stream",
     "text": [
      "우울증과 알콜 중독은 관계가 있다\n"
     ]
    }
   ],
   "source": [
    "from scipy.stats import chi2_contingency\n",
    "\n",
    "pvalue=chi2_contingency(depression)[1]\n",
    "\n",
    "if pvalue<0.01:\n",
    "    print('우울증과 알콜 중독은 관계가 있다')\n",
    "else: \n",
    "    print('우울증과 알콜 중독은 관계가 없다')"
   ]
  },
  {
   "cell_type": "markdown",
   "id": "dvym1li2",
   "metadata": {},
   "source": [
    "# @@@@@@@@@@@@@@@@@@@@@@@@@@@@@@"
   ]
  },
  {
   "cell_type": "markdown",
   "id": "b9fcf56d",
   "metadata": {},
   "source": [
    "15.5.2     \n",
    "사형제도 폐지에 대한 대규모 여론조사 결과와 같은 조사를 임의로 선택한 200명의 법집행관들에게 질문한 결과가 다음과 같다.        \n",
    "이 두 자료로부터 법집행관의 사형제도 폐지에 대한 견해가 일반인과 차이가 있다고 할 수 있는 가? (유의수준 α=0.05)\n",
    "<br></br><img src=\"https://github.com/Datamanim/datarepo/blob/main/stats/stats_image3.png?raw=true\" align=\"left\"><br></br>       "
   ]
  },
  {
   "cell_type": "markdown",
   "id": "hdt3qpi4",
   "metadata": {},
   "source": [
    "#### 세종"
   ]
  },
  {
   "cell_type": "code",
   "execution_count": 11,
   "id": "edea1acd",
   "metadata": {},
   "outputs": [
    {
     "name": "stdout",
     "output_type": "stream",
     "text": [
      "Test Statistic: 0.10711401265311615\n",
      "p-value: 0.28\n",
      "Degree of Freedom: 4\n",
      "[[0.17 0.24 0.19 0.23 0.17]\n",
      " [0.17 0.24 0.19 0.23 0.17]]\n"
     ]
    }
   ],
   "source": [
    "# 귀무가설 : 법집행관의 사형제도에 대한 견해가 여론조사와 치아가 없다\n",
    "# 대립가설 : 법집행관의 사형제도에 대한 견해가 여론조사와 치아가 있다\n",
    "\n",
    "# 카이제곱의 동질성검정\n",
    "\n",
    "data = pd.DataFrame([[0.2,0.3,0.2,0.2,0.1],[28/200,36/200,36/200,52/200,48/200]],\\\n",
    "                   columns=['절대지지','지지','관심없음','반대','절대반대'], index=['poll','officer'])\n",
    "\n",
    "from scipy.stats import chi2_contingency\n",
    "chi2, pvalue, dof, expected = chi2_contingency(data)\n",
    "\n",
    "msg = 'Test Statistic: {}\\np-value: {}\\nDegree of Freedom: {}'\n",
    "print(msg.format(chi2, p, dof))\n",
    "print(expected)\n",
    "\n",
    "\n",
    "# * 귀무가설을 기각한다"
   ]
  },
  {
   "cell_type": "markdown",
   "id": "9hnxdykg",
   "metadata": {},
   "source": [
    "#### 부산"
   ]
  },
  {
   "cell_type": "code",
   "execution_count": 35,
   "id": "de04d13d",
   "metadata": {},
   "outputs": [
    {
     "name": "stdout",
     "output_type": "stream",
     "text": [
      "[40.0, 60.0, 40.0, 40.0, 20.0]\n",
      "검정통계량 :  56.4\n",
      "p-value: 0.000\n",
      "귀무가설을 기각한다.\n"
     ]
    }
   ],
   "source": [
    "# 답 : 기각\n",
    "\n",
    "# 적합성 검정\n",
    "# 귀무가설 : 법집행관의 사형제도 폐지에 대한 견해가 일반인과 차이가 없다.\n",
    "# 대립가설 : 법집행관의 사형제도 폐지에 대한 견해가 일반인과 차이가 있다.\n",
    "\n",
    "observed = [28, 36, 36, 52, 48]\n",
    "total = np.sum(observed)\n",
    "\n",
    "# 20, 30, 20, 20, 10의 비율\n",
    "expected = [total*0.2, total*0.3, total*0.2, total*0.2, total*0.1 ]\n",
    "print(expected)\n",
    "\n",
    "from scipy.stats import chisquare\n",
    "s, p = chisquare(observed, expected)\n",
    "result_2 = round(s, 3)\n",
    "print(\"검정통계량 : \", result_2)\n",
    "\n",
    "# 3) p-value\n",
    "print(f\"p-value: {p:.3f}\")\n",
    "\n",
    "print(\"귀무가설을 기각한다.\")"
   ]
  },
  {
   "cell_type": "markdown",
   "id": "e1twpl03",
   "metadata": {},
   "source": [
    "#### 안동"
   ]
  },
  {
   "cell_type": "code",
   "execution_count": 11,
   "id": "f58ae227",
   "metadata": {
    "id": "edea1acd"
   },
   "outputs": [],
   "source": [
    "#풀이에 실패하였습니다. 죄송합니다."
   ]
  },
  {
   "cell_type": "markdown",
   "id": "o0f08lc8",
   "metadata": {},
   "source": [
    "#### 경주"
   ]
  },
  {
   "cell_type": "code",
   "execution_count": 349,
   "id": "db5ed45f",
   "metadata": {},
   "outputs": [
    {
     "name": "stdout",
     "output_type": "stream",
     "text": [
      "귀무 가설을 기각한다.\n"
     ]
    }
   ],
   "source": [
    "import pandas as pd\n",
    "from scipy.stats import chi2\n",
    "\n",
    "# 데이터를 불러온다.\n",
    "df = pd.DataFrame({\n",
    "    '여론조사%': ['20%', '30%', '20%', '20%', '10%'],\n",
    "    '법집행관(명)': [28, 36, 36, 52, 40]\n",
    "})\n",
    "\n",
    "# 기대 빈도를 계산한다.\n",
    "기대_빈도 = df['법집행관(명)'].sum() / 5\n",
    "\n",
    "# 카이제곱 검정 통계량을 계산한다.\n",
    "카이제곱_통계량 = ((df['법집행관(명)'] - 기대_빈도)**2 / 기대_빈도).sum()\n",
    "\n",
    "# 유의수준 a=0.05에서 귀무 가설을 기각하기 위한 임계값을 계산한다.\n",
    "임계값 = chi2.ppf(1 - 0.05, df.shape[1] - 1)\n",
    "\n",
    "# 귀무 가설을 기각할지 여부를 확인한다.\n",
    "if 카이제곱_통계량 >= 임계값:\n",
    "    print('귀무 가설을 기각한다.')\n",
    "else:\n",
    "    print('귀무 가설을 기각하지 않는다.')"
   ]
  },
  {
   "cell_type": "markdown",
   "id": "9gnbuevx",
   "metadata": {},
   "source": [
    "#### 성남"
   ]
  },
  {
   "cell_type": "code",
   "execution_count": 166,
   "id": "433382fe",
   "metadata": {},
   "outputs": [
    {
     "name": "stdout",
     "output_type": "stream",
     "text": [
      "일반인과 법집행관의 사형제도 폐지 견해는 같다\n"
     ]
    }
   ],
   "source": [
    "poll_nation=[0.2, 0.3, 0.2, 0.2, 0.1]\n",
    "poll_law=[28, 36, 36, 52, 48]\n",
    "\n",
    "poll_law_total=np.sum(poll_law)\n",
    "\n",
    "poll_law_ratio=poll_law/poll_law_total\n",
    "\n",
    "#카이제곱 적합도 검정\n",
    "from scipy.stats import chisquare\n",
    "chi, pvalue=chisquare(poll_law_ratio, poll_nation)\n",
    "\n",
    "if pvalue<0.05:\n",
    "    print('일반인과 법집행관의 사형제도 폐지 견해는 다르다')\n",
    "else:\n",
    "    print('일반인과 법집행관의 사형제도 폐지 견해는 같다')"
   ]
  },
  {
   "cell_type": "markdown",
   "id": "d9jeld3g",
   "metadata": {},
   "source": [
    "# @@@@@@@@@@@@@@@@@@@@@@@@@@@@@@"
   ]
  },
  {
   "cell_type": "markdown",
   "id": "a16a300d",
   "metadata": {},
   "source": [
    "15.5.4    \n",
    "다음은 어떤 해에 태어난 신생아의 생일을 달별로 정리한 자료이다. 각 달에 태어나는 아이들의 비율이 같다는 가정을 유의수준 a=0.01로 검정하라.     \n",
    "dataurl : https://raw.githubusercontent.com/Datamanim/datarepo/main/stats/stats5.csv"
   ]
  },
  {
   "cell_type": "markdown",
   "id": "0vna9j9b",
   "metadata": {},
   "source": [
    "#### 강릉"
   ]
  },
  {
   "cell_type": "code",
   "execution_count": 9,
   "id": "1b2dcc68",
   "metadata": {},
   "outputs": [
    {
     "name": "stdout",
     "output_type": "stream",
     "text": [
      "답안\n",
      " 귀무가설: 각 달에 태어나는 아이들의 비율이 같다. \n",
      " 대립가설: 각 달에 태어나는 아이들의 비율이 같지않다. \n",
      " chisquare 적합성 검정을 적용했을때, statics값은 2.8437859673670194, pvalue는 0.9926333291570021을 도출하게 된다.\n",
      " 따라서 귀무가설을 기각할 없으므로, 각 달에 태어나는 아이들의 비율이 같다라고 볼 수 있다.\n"
     ]
    }
   ],
   "source": [
    "import pandas as pd\n",
    "import numpy as np\n",
    "df15=pd.read_csv('https://raw.githubusercontent.com/Datamanim/datarepo/main/stats/stats5.csv')\n",
    "df15.출생숫자=df15.출생숫자.str.replace(',','').astype(int)\n",
    "O=df15.출생숫자.values\n",
    "import scipy.stats as stats\n",
    "from scipy.stats import chisquare\n",
    "Expected=(O.mean(),O.mean(),O.mean(),O.mean(),O.mean(),O.mean(),O.mean(),O.mean(),O.mean(),O.mean(),O.mean(),O.mean())\n",
    "chi=stats.chisquare(O,Expected)\n",
    "\n",
    "print(f'답안\\n 귀무가설: 각 달에 태어나는 아이들의 비율이 같다. \\\n",
    "\\n 대립가설: 각 달에 태어나는 아이들의 비율이 같지않다. \\n chisquare 적합성 검정을 적용했을때, statics값은 {chi[0]}, pvalue는 {chi[1]}을 \\\n",
    "도출하게 된다.\\n 따라서 귀무가설을 기각할 없으므로, 각 달에 태어나는 아이들의 비율이 같다라고 볼 수 있다.')"
   ]
  },
  {
   "cell_type": "markdown",
   "id": "5ypyycf4",
   "metadata": {},
   "source": [
    "#### 경주"
   ]
  },
  {
   "cell_type": "code",
   "execution_count": 129,
   "id": "550fdee8",
   "metadata": {},
   "outputs": [
    {
     "data": {
      "text/html": [
       "<div>\n",
       "<style scoped>\n",
       "    .dataframe tbody tr th:only-of-type {\n",
       "        vertical-align: middle;\n",
       "    }\n",
       "\n",
       "    .dataframe tbody tr th {\n",
       "        vertical-align: top;\n",
       "    }\n",
       "\n",
       "    .dataframe thead th {\n",
       "        text-align: right;\n",
       "    }\n",
       "</style>\n",
       "<table border=\"1\" class=\"dataframe\">\n",
       "  <thead>\n",
       "    <tr style=\"text-align: right;\">\n",
       "      <th></th>\n",
       "      <th>출생월</th>\n",
       "      <th>출생숫자</th>\n",
       "    </tr>\n",
       "  </thead>\n",
       "  <tbody>\n",
       "    <tr>\n",
       "      <th>0</th>\n",
       "      <td>1월</td>\n",
       "      <td>3,702</td>\n",
       "    </tr>\n",
       "    <tr>\n",
       "      <th>1</th>\n",
       "      <td>2월</td>\n",
       "      <td>3,719</td>\n",
       "    </tr>\n",
       "    <tr>\n",
       "      <th>2</th>\n",
       "      <td>3월</td>\n",
       "      <td>3,660</td>\n",
       "    </tr>\n",
       "    <tr>\n",
       "      <th>3</th>\n",
       "      <td>4월</td>\n",
       "      <td>3,727</td>\n",
       "    </tr>\n",
       "    <tr>\n",
       "      <th>4</th>\n",
       "      <td>5월</td>\n",
       "      <td>3,683</td>\n",
       "    </tr>\n",
       "  </tbody>\n",
       "</table>\n",
       "</div>"
      ],
      "text/plain": [
       "  출생월   출생숫자\n",
       "0  1월  3,702\n",
       "1  2월  3,719\n",
       "2  3월  3,660\n",
       "3  4월  3,727\n",
       "4  5월  3,683"
      ]
     },
     "metadata": {},
     "output_type": "display_data"
    },
    {
     "name": "stdout",
     "output_type": "stream",
     "text": [
      "귀무가설:아이들의 비율이 차이가 없다.\n",
      "대립가설: 아이들의 비율이 차이가 있다.\n",
      "귀무 가설을 기각하지 않는다.\n"
     ]
    }
   ],
   "source": [
    "from scipy.stats import chi2, chisquare #작합성 검정\n",
    "df = pd.read_csv('https://raw.githubusercontent.com/Datamanim/datarepo/main/stats/stats5.csv')\n",
    "display(df.head())\n",
    "df['출생숫자'] = df['출생숫자'].str.replace(',', '').astype(int)\n",
    "m = df['출생숫자'].sum() / 12\n",
    "x = ((df['출생숫자'] - m)**2 / m).sum()\n",
    "\n",
    "s = chi2.ppf(1 - 0.01, df.shape[1] - 1)\n",
    "\n",
    "print('귀무가설:아이들의 비율이 차이가 없다.')\n",
    "print('대립가설: 아이들의 비율이 차이가 있다.')\n",
    "if x >= s:\n",
    "    print('귀무 가설을 기각한다.')\n",
    "else:\n",
    "    print('귀무 가설을 기각하지 않는다.')\n"
   ]
  },
  {
   "cell_type": "markdown",
   "id": "i1ctetex",
   "metadata": {},
   "source": [
    "#### 성남"
   ]
  },
  {
   "cell_type": "code",
   "execution_count": 81,
   "id": "dc71c7cd",
   "metadata": {},
   "outputs": [
    {
     "data": {
      "text/html": [
       "<div>\n",
       "<style scoped>\n",
       "    .dataframe tbody tr th:only-of-type {\n",
       "        vertical-align: middle;\n",
       "    }\n",
       "\n",
       "    .dataframe tbody tr th {\n",
       "        vertical-align: top;\n",
       "    }\n",
       "\n",
       "    .dataframe thead th {\n",
       "        text-align: right;\n",
       "    }\n",
       "</style>\n",
       "<table border=\"1\" class=\"dataframe\">\n",
       "  <thead>\n",
       "    <tr style=\"text-align: right;\">\n",
       "      <th></th>\n",
       "      <th>출생월</th>\n",
       "      <th>출생숫자</th>\n",
       "    </tr>\n",
       "  </thead>\n",
       "  <tbody>\n",
       "    <tr>\n",
       "      <th>0</th>\n",
       "      <td>1월</td>\n",
       "      <td>3,702</td>\n",
       "    </tr>\n",
       "    <tr>\n",
       "      <th>1</th>\n",
       "      <td>2월</td>\n",
       "      <td>3,719</td>\n",
       "    </tr>\n",
       "    <tr>\n",
       "      <th>2</th>\n",
       "      <td>3월</td>\n",
       "      <td>3,660</td>\n",
       "    </tr>\n",
       "    <tr>\n",
       "      <th>3</th>\n",
       "      <td>4월</td>\n",
       "      <td>3,727</td>\n",
       "    </tr>\n",
       "    <tr>\n",
       "      <th>4</th>\n",
       "      <td>5월</td>\n",
       "      <td>3,683</td>\n",
       "    </tr>\n",
       "    <tr>\n",
       "      <th>5</th>\n",
       "      <td>6월</td>\n",
       "      <td>3,636</td>\n",
       "    </tr>\n",
       "    <tr>\n",
       "      <th>6</th>\n",
       "      <td>7월</td>\n",
       "      <td>3,674</td>\n",
       "    </tr>\n",
       "    <tr>\n",
       "      <th>7</th>\n",
       "      <td>8월</td>\n",
       "      <td>3,723</td>\n",
       "    </tr>\n",
       "    <tr>\n",
       "      <th>8</th>\n",
       "      <td>9월</td>\n",
       "      <td>3,713</td>\n",
       "    </tr>\n",
       "    <tr>\n",
       "      <th>9</th>\n",
       "      <td>10월</td>\n",
       "      <td>3,654</td>\n",
       "    </tr>\n",
       "    <tr>\n",
       "      <th>10</th>\n",
       "      <td>11월</td>\n",
       "      <td>3,724</td>\n",
       "    </tr>\n",
       "    <tr>\n",
       "      <th>11</th>\n",
       "      <td>12월</td>\n",
       "      <td>3,696</td>\n",
       "    </tr>\n",
       "  </tbody>\n",
       "</table>\n",
       "</div>"
      ],
      "text/plain": [
       "    출생월   출생숫자\n",
       "0    1월  3,702\n",
       "1    2월  3,719\n",
       "2    3월  3,660\n",
       "3    4월  3,727\n",
       "4    5월  3,683\n",
       "5    6월  3,636\n",
       "6    7월  3,674\n",
       "7    8월  3,723\n",
       "8    9월  3,713\n",
       "9   10월  3,654\n",
       "10  11월  3,724\n",
       "11  12월  3,696"
      ]
     },
     "execution_count": 81,
     "metadata": {},
     "output_type": "execute_result"
    }
   ],
   "source": [
    "import pandas as pd\n",
    "newborn=pd.read_csv('https://raw.githubusercontent.com/Datamanim/datarepo/main/stats/stats5.csv')\n",
    "newborn"
   ]
  },
  {
   "cell_type": "code",
   "execution_count": 82,
   "id": "e32dc2fa-fe29-411f-914d-4152f1bdcf4d",
   "metadata": {},
   "outputs": [],
   "source": [
    "#출생숫자 정수형으로 변환\n",
    "\n",
    "newborn['출생숫자']=newborn['출생숫자'].str.replace(',','').astype('int')\n",
    "newborn_sum=np.sum(newborn['출생숫자'])\n",
    "\n",
    "#출생숫자의 비율\n",
    "newborn['비율']=newborn['출생숫자']/newborn_sum"
   ]
  },
  {
   "cell_type": "code",
   "execution_count": 90,
   "id": "66e29424-4f9a-4d63-8f5f-d686b8fae008",
   "metadata": {},
   "outputs": [
    {
     "name": "stdout",
     "output_type": "stream",
     "text": [
      "귀무가설 : 각 달에 태어나는 아이들의 비율은 같다\n",
      "대립가설 : 각 달에 태어나는 아이들의 비율은 다르다\n",
      "유의수준 0.01에서 귀무가설을 채택한다. 따라서 각 달에 태어나는 아이들의 비율은 같다\n"
     ]
    }
   ],
   "source": [
    "#귀무가설, 대립가설 설정\n",
    "\n",
    "print('귀무가설 : 각 달에 태어나는 아이들의 비율은 같다')\n",
    "print('대립가설 : 각 달에 태어나는 아이들의 비율은 다르다')\n",
    "\n",
    "#카이제곱 적합도 검정 수행\n",
    "\n",
    "from scipy.stats import chisquare\n",
    "statistics, pvalue=chisquare(newborn['비율'], 1/12)\n",
    "alpha=0.01\n",
    "\n",
    "if pvalue>alpha:\n",
    "    print('유의수준 0.01에서 귀무가설을 채택한다. 따라서 각 달에 태어나는 아이들의 비율은 같다')\n",
    "else: \n",
    "    print('유의수준 0.01에서 귀무가설을 기각한다. 따라서 각 달에 태어나는 아이들의 비율은 다르다')"
   ]
  },
  {
   "cell_type": "markdown",
   "id": "3o3ef37s",
   "metadata": {},
   "source": [
    "# @@@@@@@@@@@@@@@@@@@@@@@@@@@@@@"
   ]
  },
  {
   "cell_type": "markdown",
   "id": "f39377c2",
   "metadata": {},
   "source": [
    "15.5.8    \n",
    "수술 후 통증을 감소시키는 4종류의 진통제의 성능을 조사하기 위하여 195명의 수술환자를 임의 로 선택하여 각 진통제에 대해 진통제를 투여한 환자수와 5시간 이상 통증을 느끼지 않은 환자수 를 아래의 표와 같이 정리하였다.\n",
    "\n",
    "(1) 진통제 별로 진통 경감에 차이가 없다는 귀무가설을 검정하라. (유의수준 a=0.05)    \n",
    "(2) 4종류의 진통제가 5시간 이상 효과가 있는 비율을 각각 p1,p2,p3,p4 라고 할 때 각각의 신뢰구간을 구하라        "
   ]
  },
  {
   "cell_type": "markdown",
   "id": "5hc966o9",
   "metadata": {},
   "source": [
    "#### 경주"
   ]
  },
  {
   "cell_type": "code",
   "execution_count": 313,
   "id": "403ec030",
   "metadata": {},
   "outputs": [
    {
     "data": {
      "text/html": [
       "<div>\n",
       "<style scoped>\n",
       "    .dataframe tbody tr th:only-of-type {\n",
       "        vertical-align: middle;\n",
       "    }\n",
       "\n",
       "    .dataframe tbody tr th {\n",
       "        vertical-align: top;\n",
       "    }\n",
       "\n",
       "    .dataframe thead th {\n",
       "        text-align: right;\n",
       "    }\n",
       "</style>\n",
       "<table border=\"1\" class=\"dataframe\">\n",
       "  <thead>\n",
       "    <tr style=\"text-align: right;\">\n",
       "      <th></th>\n",
       "      <th>진통을 느끼지 않은 환자수</th>\n",
       "      <th>진통제를 투여한 환자수</th>\n",
       "    </tr>\n",
       "  </thead>\n",
       "  <tbody>\n",
       "    <tr>\n",
       "      <th>진통제1</th>\n",
       "      <td>23</td>\n",
       "      <td>52</td>\n",
       "    </tr>\n",
       "    <tr>\n",
       "      <th>진통제2</th>\n",
       "      <td>30</td>\n",
       "      <td>48</td>\n",
       "    </tr>\n",
       "    <tr>\n",
       "      <th>진통제3</th>\n",
       "      <td>19</td>\n",
       "      <td>50</td>\n",
       "    </tr>\n",
       "    <tr>\n",
       "      <th>진통제4</th>\n",
       "      <td>29</td>\n",
       "      <td>45</td>\n",
       "    </tr>\n",
       "  </tbody>\n",
       "</table>\n",
       "</div>"
      ],
      "text/plain": [
       "      진통을 느끼지 않은 환자수  진통제를 투여한 환자수\n",
       "진통제1              23            52\n",
       "진통제2              30            48\n",
       "진통제3              19            50\n",
       "진통제4              29            45"
      ]
     },
     "metadata": {},
     "output_type": "display_data"
    },
    {
     "name": "stdout",
     "output_type": "stream",
     "text": [
      "p-value: 0.35773216124792123\n",
      "귀무가설을 기각하지 않습니다. 진통제 별로 진통 경감에 차이가 없습니다.\n",
      "p1 (0.30065240257229925, 0.5839629820430854)\n",
      "p2 (0.48334471026460696, 0.7666552897353931)\n",
      "p3 (0.23834471026460696, 0.521655289735393)\n",
      "p2 (0.5027891547090515, 0.7860997341798375)\n"
     ]
    }
   ],
   "source": [
    "from scipy.stats import chi2_contingency\n",
    "\n",
    "df = pd.DataFrame({'진통을 느끼지 않은 환자수':[23,30,19,29],'진통제를 투여한 환자수':[52,48,50,45]})\n",
    "df.index = ['진통제1','진통제2','진통제3','진통제4']\n",
    "display(df)\n",
    "\n",
    "chi2_stat, p_val, dof, expected = chi2_contingency(df)\n",
    "\n",
    "alpha = 0.05\n",
    "print(\"p-value:\", p_val)\n",
    "if p_val < alpha:\n",
    "    print(\"귀무가설을 기각합니다. 적어도 한 진통제 별로 진통 경감에 차이가 있습니다.\")\n",
    "else:\n",
    "    print(\"귀무가설을 기각하지 않습니다. 진통제 별로 진통 경감에 차이가 없습니다.\")\n",
    "\n",
    "p1 = 23/52\n",
    "n1=52\n",
    "se1 = (p1*(1-p1)/n1)\n",
    "print('p1',norm.interval(alpha=0.95,loc=p1,scale=se))\n",
    "p2 = 30/48\n",
    "print('p2',norm.interval(alpha=0.95,loc=p2,scale=se))\n",
    "p3 = 19/50\n",
    "print('p3',norm.interval(alpha=0.95,loc=p3,scale=se))\n",
    "p4 = 29/45\n",
    "print('p2',norm.interval(alpha=0.95,loc=p4,scale=se))"
   ]
  },
  {
   "cell_type": "markdown",
   "id": "2r59kvei",
   "metadata": {},
   "source": [
    "#### 여주"
   ]
  },
  {
   "cell_type": "code",
   "execution_count": 68,
   "id": "a4649d85-84ee-464c-aebb-6a25a27e3469",
   "metadata": {},
   "outputs": [
    {
     "name": "stdout",
     "output_type": "stream",
     "text": [
      "(1) 각 관측치의 기대 도수가 동일한 지에 대한 동질성 검정을 수행한다.\n",
      "H0: 각 진통제의 진통 경감 효과 (진통 경감 환자의 비율)은 동일하다.\n",
      "H1: 각 진통제의 진통 경감 효과 (진통 경감 환자의 비율)은 동일하지 않다.\n",
      "검정통계량:10.08958, p-value: 0.01782로 유의수준 0.05 하에서 귀무가설을 기각한다. 그러므로, 진통제 종류에 따라 진통 경감에 차이가 있다고 볼 충분한 통계적 근거가 존재한다.\n",
      "\n",
      "4 종류 진통제에 대한 5시간 이상 진통 경감 효과 비율은 표본비율이며, 각각 신뢰수준을 계산하면 아래와 같다.\n",
      "p1의 신뢰수준: (0.30731632616337157, 0.577299058452013)\n",
      "p2의 신뢰수준: (0.4880433530349091, 0.7619566469650909)\n",
      "p3의 신뢰수준: (0.24546021419999686, 0.5145397858000031)\n",
      "p4의 신뢰수준: (0.5045861233133887, 0.7843027655755003)\n"
     ]
    }
   ],
   "source": [
    "df = pd.DataFrame({'M_1': [23, 52-23], 'M_2': [30, 48-30], 'M_3': [19, 50-19], 'M_4': [29, 45-29]}).T\n",
    "df.columns = ['진통 경감 수', '진통 미경감 수']\n",
    "\n",
    "print('(1) 각 관측치의 기대 도수가 동일한 지에 대한 동질성 검정을 수행한다.')\n",
    "print('H0: 각 진통제의 진통 경감 효과 (진통 경감 환자의 비율)은 동일하다.')\n",
    "print('H1: 각 진통제의 진통 경감 효과 (진통 경감 환자의 비율)은 동일하지 않다.')\n",
    "\n",
    "from scipy.stats import chi2_contingency\n",
    "\n",
    "chi, p, dof, expect = chi2_contingency(df)\n",
    "print(f'검정통계량:{round(chi, 5)}, p-value: {round(p, 5)}로 유의수준 0.05 하에서 귀무가설을 기각한다. 그러므로, 진통제 종류에 따라 진통 경감에 차이가 있다고 볼 충분한 통계적 근거가 존재한다.')\n",
    "print()\n",
    "print('4 종류 진통제에 대한 5시간 이상 진통 경감 효과 비율은 표본비율이며, 각각 신뢰수준을 계산하면 아래와 같다.')\n",
    "\n",
    "from statsmodels.stats.proportion import proportion_confint\n",
    "\n",
    "print(f\"p1의 신뢰수준: {proportion_confint(23, 52, alpha=0.05, method='normal')}\")\n",
    "print(f\"p2의 신뢰수준: {proportion_confint(30, 48, alpha=0.05, method='normal')}\")\n",
    "print(f\"p3의 신뢰수준: {proportion_confint(19, 50, alpha=0.05, method='normal')}\")\n",
    "print(f\"p4의 신뢰수준: {proportion_confint(29, 45, alpha=0.05, method='normal')}\")"
   ]
  },
  {
   "cell_type": "markdown",
   "id": "lsbb01jb",
   "metadata": {},
   "source": [
    "#### 성남"
   ]
  },
  {
   "cell_type": "code",
   "execution_count": 171,
   "id": "54d76054",
   "metadata": {},
   "outputs": [
    {
     "data": {
      "text/html": [
       "<div>\n",
       "<style scoped>\n",
       "    .dataframe tbody tr th:only-of-type {\n",
       "        vertical-align: middle;\n",
       "    }\n",
       "\n",
       "    .dataframe tbody tr th {\n",
       "        vertical-align: top;\n",
       "    }\n",
       "\n",
       "    .dataframe thead th {\n",
       "        text-align: right;\n",
       "    }\n",
       "</style>\n",
       "<table border=\"1\" class=\"dataframe\">\n",
       "  <thead>\n",
       "    <tr style=\"text-align: right;\">\n",
       "      <th></th>\n",
       "      <th>pain_yes</th>\n",
       "      <th>pain_no</th>\n",
       "    </tr>\n",
       "  </thead>\n",
       "  <tbody>\n",
       "    <tr>\n",
       "      <th>num_1</th>\n",
       "      <td>23</td>\n",
       "      <td>52</td>\n",
       "    </tr>\n",
       "    <tr>\n",
       "      <th>num_2</th>\n",
       "      <td>30</td>\n",
       "      <td>48</td>\n",
       "    </tr>\n",
       "    <tr>\n",
       "      <th>num_3</th>\n",
       "      <td>19</td>\n",
       "      <td>50</td>\n",
       "    </tr>\n",
       "    <tr>\n",
       "      <th>num_4</th>\n",
       "      <td>29</td>\n",
       "      <td>45</td>\n",
       "    </tr>\n",
       "  </tbody>\n",
       "</table>\n",
       "</div>"
      ],
      "text/plain": [
       "       pain_yes  pain_no\n",
       "num_1        23       52\n",
       "num_2        30       48\n",
       "num_3        19       50\n",
       "num_4        29       45"
      ]
     },
     "execution_count": 171,
     "metadata": {},
     "output_type": "execute_result"
    }
   ],
   "source": [
    "painkiller=pd.DataFrame({'pain_yes' : [23, 30, 19, 29],\n",
    "             'pain_no' : [52, 48, 50, 45]})\n",
    "\n",
    "painkiller.index=['num_1', 'num_2', 'num_3', 'num_4']\n",
    "\n",
    "painkiller"
   ]
  },
  {
   "cell_type": "markdown",
   "id": "jmfmsjme",
   "metadata": {},
   "source": [
    "#### 평창"
   ]
  },
  {
   "cell_type": "code",
   "execution_count": 2,
   "id": "b7a9f0f7",
   "metadata": {},
   "outputs": [
    {
     "name": "stdout",
     "output_type": "stream",
     "text": [
      "(1)  \n",
      "카이제곱 검정을 실시한다.   \n",
      "귀무가설: 진통제 별로 진통 경감에 차이가 없다.  \n",
      "대립가설: 진통제 별 진통 경감에 차이가 한 쌍이라도 있다.  \n",
      "통계량:  3.2284058446492976\n",
      "p-value:  0.3577321612479211\n",
      "p-value가 유의수준 0.05보다 크기 때문에 귀무가설을 기각시키지 못하고 채택한다. 따라서 진통제 별로 진통 경감에 차이가 없다.\n",
      "____________________________\n",
      "(2)\n",
      "정답\n",
      "진통제1 비율의 신뢰구간 = (0.307,0.577)\n",
      "진통제2 비율의 신뢰구간 = (0.488,0.762)\n",
      "진통제3 비율의 신뢰구간 = (0.245,0.515)\n",
      "진통제4 비율의 신뢰구간 = (0.505,0.784)\n"
     ]
    }
   ],
   "source": [
    "import pandas as pd\n",
    "print('''(1)  \n",
    "카이제곱 검정을 실시한다.   \n",
    "귀무가설: 진통제 별로 진통 경감에 차이가 없다.  \n",
    "대립가설: 진통제 별 진통 경감에 차이가 한 쌍이라도 있다.  ''')\n",
    "\n",
    "from scipy.stats import chi2_contingency\n",
    "\n",
    "# 데이터 생성\n",
    "df = pd.DataFrame({'진통을 느끼지 않는 환자수': [23, 30, 19, 29],\n",
    "     '진통제를 투여한 환자수': [52, 48, 50, 45]}, index=['진통제1','진통제2','진통제3','진통제4'])\n",
    "s, p, dfree, _ = chi2_contingency(df)\n",
    "print('통계량: ', s)\n",
    "print('p-value: ', p)\n",
    "print('p-value가 유의수준 0.05보다 크기 때문에 귀무가설을 기각시키지 못하고 채택한다. 따라서 진통제 별로 진통 경감에 차이가 없다.')\n",
    "print('____________________________')\n",
    "print('(2)')\n",
    "df['비율'] = df['진통을 느끼지 않는 환자수'] / df['진통제를 투여한 환자수']\n",
    "\n",
    "import numpy as np\n",
    "from scipy.stats import norm\n",
    "z_score = norm.ppf(0.975)\n",
    "df['상한'] = df['비율'] + z_score*np.sqrt(df['비율'] *(1-df['비율'])/df['진통제를 투여한 환자수'])\n",
    "df['하한'] = df['비율'] - z_score*np.sqrt(df['비율'] *(1-df['비율'])/df['진통제를 투여한 환자수'])\n",
    "print('정답')\n",
    "for idx, row in df.iterrows():\n",
    "    상한 = np.round(row['상한'],3)\n",
    "    하한 = np.round(row['하한'],3)\n",
    "    print(f'{idx} 비율의 신뢰구간 = ({하한},{상한})')"
   ]
  },
  {
   "cell_type": "markdown",
   "id": "wxr0f0ca",
   "metadata": {},
   "source": [
    "# @@@@@@@@@@@@@@@@@@@@@@@@@@@@@@"
   ]
  },
  {
   "cell_type": "markdown",
   "id": "cc8a03be",
   "metadata": {},
   "source": [
    "p.1    \n",
    "A,B두가지 치료법에 대해 치료의 성공 유무를 나타내는 데이터이다.    \n",
    "치료법이 특정 질병의 치료여부에 영향을 미치는지 검정하려한다.   \n",
    "귀무가설과 대립가설 설정, 오즈비 및 검정결과를 유의수준 0.05하에서 해석하라     \n",
    "dataurl : https://raw.githubusercontent.com/Datamanim/datarepo/main/stats/stats6.csv"
   ]
  },
  {
   "cell_type": "markdown",
   "id": "c726af5j",
   "metadata": {},
   "source": [
    "#### 인천"
   ]
  },
  {
   "cell_type": "code",
   "execution_count": 36,
   "id": "904a4dc9",
   "metadata": {
    "colab": {
     "base_uri": "https://localhost:8080/"
    },
    "id": "904a4dc9",
    "outputId": "aa3b36b5-7f63-4c19-cb5d-594f7c39d7b2"
   },
   "outputs": [
    {
     "name": "stdout",
     "output_type": "stream",
     "text": [
      "   치료법 치료결과  userID\n",
      "0    A   성공       1\n",
      "1    A   성공       2\n",
      "2    A   성공       3\n",
      "3    A   실패       4\n",
      "4    A   실패       5\n",
      "5    A   실패       6\n",
      "6    A   실패       7\n",
      "7    A   실패       8\n",
      "8    A   실패       9\n",
      "9    A   실패      10\n",
      "10   A   실패      11\n",
      "11   B   성공      12\n",
      "12   B   성공      13\n",
      "13   B   실패      14\n",
      "14   B   실패      15\n",
      "15   B   실패      16\n",
      "16   B   실패      17\n",
      "17   B   실패      18\n",
      "귀무가설(H0): 치료법 A와 B는 특정 질병의 치료 여부에 영향을 미치지 않는다. \n",
      "대립가설(H1): 치료법 A와 B는 특정 질병의 치료 여부에 영향을 미친다.\n",
      "오즈비는 두 집단 간의 결과 비율의 비율로, 두 집단 간의 상대적인 위험을 나타냅니다. 오즈비가 1보다 크면 첫 번째 집단이 더 위험이 크다는 것을 의미하고, 오즈비가 1보다 작으면 두 번째 집단이 더 위험이 크다는 것을 의미\n",
      "오즈비: 0.9375\n",
      "p-value: 1.0000\n",
      "유의수준 0.05 하에서 p-value가 0.05보다 크므로 귀무가설을 기각하지 못합니다. 따라서 우리는 귀무가설을 채택하고, 치료법 A와 B는 특정 질병의 치료 여부에 영향을 미치지 않는다고 결론 내릴 수 있습니다.\n"
     ]
    }
   ],
   "source": [
    "import pandas as pd\n",
    "from scipy.stats import chi2_contingency\n",
    "\n",
    "# 주어진 데이터를 데이터프레임으로 생성\n",
    "data = pd.read_csv('https://raw.githubusercontent.com/Datamanim/datarepo/main/stats/stats6.csv')\n",
    "\n",
    "print(data)\n",
    "\n",
    "\n",
    "print('귀무가설(H0): 치료법 A와 B는 특정 질병의 치료 여부에 영향을 미치지 않는다. ')\n",
    "print('대립가설(H1): 치료법 A와 B는 특정 질병의 치료 여부에 영향을 미친다.')\n",
    "\n",
    "import numpy as np\n",
    "from scipy.stats import fisher_exact\n",
    "\n",
    "# 데이터 입력\n",
    "data = np.array([[3, 8], [2, 5]])\n",
    "\n",
    "# 오즈비 계산\n",
    "oddsratio, pvalue = fisher_exact(data)\n",
    "\n",
    "# 오즈비는 두 집단 간의 결과 비율의 비율로, 두 집단 간의 상대적인 위험을 나타냅니다.\n",
    "# 오즈비가 1보다 크면 첫 번째 집단이 더 위험이 크다는 것을 의미하고,\n",
    "# 오즈비가 1보다 작으면 두 번째 집단이 더 위험이 크다는 것을 의미\n",
    "print(f\"오즈비: {oddsratio:.4f}\")\n",
    "print(f\"p-value: {pvalue:.4f}\")\n",
    "print('유의수준 0.05 하에서 p-value가 0.05보다 크므로 귀무가설을 기각하지 못합니다. 따라서 우리는 귀무가설을 채택하고, 치료법 A와 B는 특정 질병의 치료 여부에 영향을 미치지 않는다고 결론 내릴 수 있습니다.')"
   ]
  },
  {
   "cell_type": "markdown",
   "id": "l23yixlp",
   "metadata": {},
   "source": [
    "#### 경주"
   ]
  },
  {
   "cell_type": "code",
   "execution_count": 121,
   "id": "784d7ca6",
   "metadata": {},
   "outputs": [
    {
     "data": {
      "text/html": [
       "<div>\n",
       "<style scoped>\n",
       "    .dataframe tbody tr th:only-of-type {\n",
       "        vertical-align: middle;\n",
       "    }\n",
       "\n",
       "    .dataframe tbody tr th {\n",
       "        vertical-align: top;\n",
       "    }\n",
       "\n",
       "    .dataframe thead th {\n",
       "        text-align: right;\n",
       "    }\n",
       "</style>\n",
       "<table border=\"1\" class=\"dataframe\">\n",
       "  <thead>\n",
       "    <tr style=\"text-align: right;\">\n",
       "      <th></th>\n",
       "      <th>치료법</th>\n",
       "      <th>치료결과</th>\n",
       "      <th>userID</th>\n",
       "    </tr>\n",
       "  </thead>\n",
       "  <tbody>\n",
       "    <tr>\n",
       "      <th>0</th>\n",
       "      <td>A</td>\n",
       "      <td>성공</td>\n",
       "      <td>1</td>\n",
       "    </tr>\n",
       "    <tr>\n",
       "      <th>1</th>\n",
       "      <td>A</td>\n",
       "      <td>성공</td>\n",
       "      <td>2</td>\n",
       "    </tr>\n",
       "    <tr>\n",
       "      <th>2</th>\n",
       "      <td>A</td>\n",
       "      <td>성공</td>\n",
       "      <td>3</td>\n",
       "    </tr>\n",
       "    <tr>\n",
       "      <th>3</th>\n",
       "      <td>A</td>\n",
       "      <td>실패</td>\n",
       "      <td>4</td>\n",
       "    </tr>\n",
       "    <tr>\n",
       "      <th>4</th>\n",
       "      <td>A</td>\n",
       "      <td>실패</td>\n",
       "      <td>5</td>\n",
       "    </tr>\n",
       "    <tr>\n",
       "      <th>5</th>\n",
       "      <td>A</td>\n",
       "      <td>실패</td>\n",
       "      <td>6</td>\n",
       "    </tr>\n",
       "    <tr>\n",
       "      <th>6</th>\n",
       "      <td>A</td>\n",
       "      <td>실패</td>\n",
       "      <td>7</td>\n",
       "    </tr>\n",
       "    <tr>\n",
       "      <th>7</th>\n",
       "      <td>A</td>\n",
       "      <td>실패</td>\n",
       "      <td>8</td>\n",
       "    </tr>\n",
       "    <tr>\n",
       "      <th>8</th>\n",
       "      <td>A</td>\n",
       "      <td>실패</td>\n",
       "      <td>9</td>\n",
       "    </tr>\n",
       "    <tr>\n",
       "      <th>9</th>\n",
       "      <td>A</td>\n",
       "      <td>실패</td>\n",
       "      <td>10</td>\n",
       "    </tr>\n",
       "    <tr>\n",
       "      <th>10</th>\n",
       "      <td>A</td>\n",
       "      <td>실패</td>\n",
       "      <td>11</td>\n",
       "    </tr>\n",
       "    <tr>\n",
       "      <th>11</th>\n",
       "      <td>B</td>\n",
       "      <td>성공</td>\n",
       "      <td>12</td>\n",
       "    </tr>\n",
       "    <tr>\n",
       "      <th>12</th>\n",
       "      <td>B</td>\n",
       "      <td>성공</td>\n",
       "      <td>13</td>\n",
       "    </tr>\n",
       "    <tr>\n",
       "      <th>13</th>\n",
       "      <td>B</td>\n",
       "      <td>실패</td>\n",
       "      <td>14</td>\n",
       "    </tr>\n",
       "    <tr>\n",
       "      <th>14</th>\n",
       "      <td>B</td>\n",
       "      <td>실패</td>\n",
       "      <td>15</td>\n",
       "    </tr>\n",
       "    <tr>\n",
       "      <th>15</th>\n",
       "      <td>B</td>\n",
       "      <td>실패</td>\n",
       "      <td>16</td>\n",
       "    </tr>\n",
       "    <tr>\n",
       "      <th>16</th>\n",
       "      <td>B</td>\n",
       "      <td>실패</td>\n",
       "      <td>17</td>\n",
       "    </tr>\n",
       "    <tr>\n",
       "      <th>17</th>\n",
       "      <td>B</td>\n",
       "      <td>실패</td>\n",
       "      <td>18</td>\n",
       "    </tr>\n",
       "  </tbody>\n",
       "</table>\n",
       "</div>"
      ],
      "text/plain": [
       "   치료법 치료결과  userID\n",
       "0    A   성공       1\n",
       "1    A   성공       2\n",
       "2    A   성공       3\n",
       "3    A   실패       4\n",
       "4    A   실패       5\n",
       "5    A   실패       6\n",
       "6    A   실패       7\n",
       "7    A   실패       8\n",
       "8    A   실패       9\n",
       "9    A   실패      10\n",
       "10   A   실패      11\n",
       "11   B   성공      12\n",
       "12   B   성공      13\n",
       "13   B   실패      14\n",
       "14   B   실패      15\n",
       "15   B   실패      16\n",
       "16   B   실패      17\n",
       "17   B   실패      18"
      ]
     },
     "metadata": {},
     "output_type": "display_data"
    }
   ],
   "source": [
    "df = pd.read_csv('https://raw.githubusercontent.com/Datamanim/datarepo/main/stats/stats6.csv')\n",
    "display(df)"
   ]
  },
  {
   "cell_type": "markdown",
   "id": "fk2apl8t",
   "metadata": {},
   "source": [
    "#### 성남"
   ]
  },
  {
   "cell_type": "code",
   "execution_count": 172,
   "id": "15f00500",
   "metadata": {},
   "outputs": [
    {
     "data": {
      "text/html": [
       "<div>\n",
       "<style scoped>\n",
       "    .dataframe tbody tr th:only-of-type {\n",
       "        vertical-align: middle;\n",
       "    }\n",
       "\n",
       "    .dataframe tbody tr th {\n",
       "        vertical-align: top;\n",
       "    }\n",
       "\n",
       "    .dataframe thead th {\n",
       "        text-align: right;\n",
       "    }\n",
       "</style>\n",
       "<table border=\"1\" class=\"dataframe\">\n",
       "  <thead>\n",
       "    <tr style=\"text-align: right;\">\n",
       "      <th></th>\n",
       "      <th>치료법</th>\n",
       "      <th>치료결과</th>\n",
       "      <th>userID</th>\n",
       "    </tr>\n",
       "  </thead>\n",
       "  <tbody>\n",
       "    <tr>\n",
       "      <th>0</th>\n",
       "      <td>A</td>\n",
       "      <td>성공</td>\n",
       "      <td>1</td>\n",
       "    </tr>\n",
       "    <tr>\n",
       "      <th>1</th>\n",
       "      <td>A</td>\n",
       "      <td>성공</td>\n",
       "      <td>2</td>\n",
       "    </tr>\n",
       "    <tr>\n",
       "      <th>2</th>\n",
       "      <td>A</td>\n",
       "      <td>성공</td>\n",
       "      <td>3</td>\n",
       "    </tr>\n",
       "    <tr>\n",
       "      <th>3</th>\n",
       "      <td>A</td>\n",
       "      <td>실패</td>\n",
       "      <td>4</td>\n",
       "    </tr>\n",
       "    <tr>\n",
       "      <th>4</th>\n",
       "      <td>A</td>\n",
       "      <td>실패</td>\n",
       "      <td>5</td>\n",
       "    </tr>\n",
       "    <tr>\n",
       "      <th>5</th>\n",
       "      <td>A</td>\n",
       "      <td>실패</td>\n",
       "      <td>6</td>\n",
       "    </tr>\n",
       "    <tr>\n",
       "      <th>6</th>\n",
       "      <td>A</td>\n",
       "      <td>실패</td>\n",
       "      <td>7</td>\n",
       "    </tr>\n",
       "    <tr>\n",
       "      <th>7</th>\n",
       "      <td>A</td>\n",
       "      <td>실패</td>\n",
       "      <td>8</td>\n",
       "    </tr>\n",
       "    <tr>\n",
       "      <th>8</th>\n",
       "      <td>A</td>\n",
       "      <td>실패</td>\n",
       "      <td>9</td>\n",
       "    </tr>\n",
       "    <tr>\n",
       "      <th>9</th>\n",
       "      <td>A</td>\n",
       "      <td>실패</td>\n",
       "      <td>10</td>\n",
       "    </tr>\n",
       "    <tr>\n",
       "      <th>10</th>\n",
       "      <td>A</td>\n",
       "      <td>실패</td>\n",
       "      <td>11</td>\n",
       "    </tr>\n",
       "    <tr>\n",
       "      <th>11</th>\n",
       "      <td>B</td>\n",
       "      <td>성공</td>\n",
       "      <td>12</td>\n",
       "    </tr>\n",
       "    <tr>\n",
       "      <th>12</th>\n",
       "      <td>B</td>\n",
       "      <td>성공</td>\n",
       "      <td>13</td>\n",
       "    </tr>\n",
       "    <tr>\n",
       "      <th>13</th>\n",
       "      <td>B</td>\n",
       "      <td>실패</td>\n",
       "      <td>14</td>\n",
       "    </tr>\n",
       "    <tr>\n",
       "      <th>14</th>\n",
       "      <td>B</td>\n",
       "      <td>실패</td>\n",
       "      <td>15</td>\n",
       "    </tr>\n",
       "    <tr>\n",
       "      <th>15</th>\n",
       "      <td>B</td>\n",
       "      <td>실패</td>\n",
       "      <td>16</td>\n",
       "    </tr>\n",
       "    <tr>\n",
       "      <th>16</th>\n",
       "      <td>B</td>\n",
       "      <td>실패</td>\n",
       "      <td>17</td>\n",
       "    </tr>\n",
       "    <tr>\n",
       "      <th>17</th>\n",
       "      <td>B</td>\n",
       "      <td>실패</td>\n",
       "      <td>18</td>\n",
       "    </tr>\n",
       "  </tbody>\n",
       "</table>\n",
       "</div>"
      ],
      "text/plain": [
       "   치료법 치료결과  userID\n",
       "0    A   성공       1\n",
       "1    A   성공       2\n",
       "2    A   성공       3\n",
       "3    A   실패       4\n",
       "4    A   실패       5\n",
       "5    A   실패       6\n",
       "6    A   실패       7\n",
       "7    A   실패       8\n",
       "8    A   실패       9\n",
       "9    A   실패      10\n",
       "10   A   실패      11\n",
       "11   B   성공      12\n",
       "12   B   성공      13\n",
       "13   B   실패      14\n",
       "14   B   실패      15\n",
       "15   B   실패      16\n",
       "16   B   실패      17\n",
       "17   B   실패      18"
      ]
     },
     "execution_count": 172,
     "metadata": {},
     "output_type": "execute_result"
    }
   ],
   "source": [
    "success=pd.read_csv('https://raw.githubusercontent.com/Datamanim/datarepo/main/stats/stats6.csv')\n",
    "success"
   ]
  },
  {
   "cell_type": "markdown",
   "id": "4y2xjxz3",
   "metadata": {},
   "source": [
    "# @@@@@@@@@@@@@@@@@@@@@@@@@@@@@@"
   ]
  },
  {
   "cell_type": "markdown",
   "id": "7cafba57",
   "metadata": {},
   "source": [
    "p.2     \n",
    "어떤 광고 방법(A와 B)의 전환율을 확인하기 위해 200명 유저그룹에 두 번의 광고를 노출한 후 전환 여부를 조사하였습니다.     \n",
    "(1) 광고 노출이 유저의 전환에 영향을 주었는지 검정하시오. 귀무가설과 대립가설을 설정하고 유의수준 0.01하에서\n",
    "<br></br><img src=\"https://github.com/Datamanim/datarepo/blob/main/stats/stats_image4.png?raw=true\" align=\"left\"><br></br>  "
   ]
  },
  {
   "cell_type": "markdown",
   "id": "mhcwtxu6",
   "metadata": {},
   "source": [
    "#### 포항"
   ]
  },
  {
   "cell_type": "code",
   "execution_count": 65,
   "id": "192b6edd",
   "metadata": {},
   "outputs": [
    {
     "name": "stdout",
     "output_type": "stream",
     "text": [
      "귀무가설 : 광고 노출이 전환에 영향을 주지 않는다\n",
      "대립가설 : 광고 노출이 전환에 영향을 준다\n",
      "p_value :  0.056\n",
      "귀무가설을 기각하지 않음. 광고 노출이 전환에 영향을 주지 않음.\n"
     ]
    }
   ],
   "source": [
    "# 두 광고 방법의 전환여부를 비교 하는 것이기 때문에 2x2 카이제곱검정 시행.\n",
    "import pandas as pd\n",
    "from scipy.stats import chi2_contingency\n",
    "\n",
    "#귀무가설 설정\n",
    "print('귀무가설 : 광고 노출이 전환에 영향을 주지 않는다', '대립가설 : 광고 노출이 전환에 영향을 준다', sep='\\n')\n",
    "\n",
    "#데이터프레임 생성\n",
    "df = pd.DataFrame([[80, 120], [100, 100]], index=['광고A노출', '광고B노출'], columns=['비전환', '전환'])\n",
    "\n",
    "chi2, p, dof, expected = chi2_contingency(df)\n",
    "print('p_value : ', p.round(3))\n",
    "\n",
    "alpha = 0.01 #유의수준\n",
    "\n",
    "if p < alpha :\n",
    "    print('귀무가설을 기각. 광고 노출이 전환에 영향을 줌')\n",
    "else : \n",
    "    print('귀무가설을 기각하지 않음. 광고 노출이 전환에 영향을 주지 않음.')"
   ]
  },
  {
   "cell_type": "markdown",
   "id": "w1wgdw1j",
   "metadata": {},
   "source": [
    "#### 강릉"
   ]
  },
  {
   "cell_type": "code",
   "execution_count": 168,
   "id": "04aaeb79",
   "metadata": {},
   "outputs": [
    {
     "name": "stdout",
     "output_type": "stream",
     "text": [
      "       비전환   전환\n",
      "광고A노출   80  120\n",
      "광고B노출  100  100\n",
      "답안\n",
      "귀무가설:광고노출과 전환율은 관계가 없다. 독립이다. \n",
      "대립가설: 광고노출과 전환율은 서로 독립적이지 않다.\n",
      "광고노출과 전환율에 대한 독립성을 확인하기 위해 Chi2 검정을 실시한다.\n",
      "p-value는0.0562로 귀무가설을 기각할 수 없다. 따라서 광고출과 전환율은 독립적이다.\n"
     ]
    }
   ],
   "source": [
    "dfp=pd.DataFrame(data=[[80,120],[100,100]],columns=['비전환','전환'],index=['광고A노출','광고B노출'])\n",
    "print(dfp)\n",
    "import pandas as pd\n",
    "import numpy as np\n",
    "from scipy.stats import chi2_contingency\n",
    "\n",
    "result=chi2_contingency(dfp)\n",
    "\n",
    "print('답안\\n귀무가설:광고노출과 전환율은 관계가 없다. 독립이다. \\n대립가설: 광고노출과 전환율은 서로 독립적이지 않다.\\\n",
    "\\n광고노출과 전환율에 대한 독립성을 확인하기 위해 Chi2 검정을 실시한다.')\n",
    "print('p-value는' f\"{result[1]:.4f}로 귀무가설을 기각할 수 없다. 따라서 광고노출과 전환율은 유의수준 0.01하에서 독립적이다.\" )"
   ]
  },
  {
   "cell_type": "markdown",
   "id": "neyjlymh",
   "metadata": {},
   "source": [
    "#### 경주"
   ]
  },
  {
   "cell_type": "code",
   "execution_count": 90,
   "id": "19a91930",
   "metadata": {},
   "outputs": [
    {
     "data": {
      "text/html": [
       "<div>\n",
       "<style scoped>\n",
       "    .dataframe tbody tr th:only-of-type {\n",
       "        vertical-align: middle;\n",
       "    }\n",
       "\n",
       "    .dataframe tbody tr th {\n",
       "        vertical-align: top;\n",
       "    }\n",
       "\n",
       "    .dataframe thead th {\n",
       "        text-align: right;\n",
       "    }\n",
       "</style>\n",
       "<table border=\"1\" class=\"dataframe\">\n",
       "  <thead>\n",
       "    <tr style=\"text-align: right;\">\n",
       "      <th></th>\n",
       "      <th>비전환</th>\n",
       "      <th>전환</th>\n",
       "    </tr>\n",
       "  </thead>\n",
       "  <tbody>\n",
       "    <tr>\n",
       "      <th>광고A 노출</th>\n",
       "      <td>80</td>\n",
       "      <td>120</td>\n",
       "    </tr>\n",
       "    <tr>\n",
       "      <th>광고B 노출</th>\n",
       "      <td>100</td>\n",
       "      <td>100</td>\n",
       "    </tr>\n",
       "  </tbody>\n",
       "</table>\n",
       "</div>"
      ],
      "text/plain": [
       "        비전환   전환\n",
       "광고A 노출   80  120\n",
       "광고B 노출  100  100"
      ]
     },
     "metadata": {},
     "output_type": "display_data"
    },
    {
     "name": "stdout",
     "output_type": "stream",
     "text": [
      "귀무가설: 광고의 노출이 전환에 영향을 주지 않는다.\n",
      "         대립가설: 광고의 노출이 전환에 영향을 준다.\n",
      "0.056\n",
      "귀무가설을 기각하지 못한다. 따라서 광고의 노출이 전환에 영향을 주지 않는다.\n"
     ]
    }
   ],
   "source": [
    "from scipy.stats import chi2_contingency\n",
    "\n",
    "df = pd.DataFrame({'비전환':[80,100], '전환':[120,100]}, index=['광고A 노출','광고B 노출'])\n",
    "display(df)\n",
    "\n",
    "s,p,df,ex = chi2_contingency(df)\n",
    "\n",
    "print('''귀무가설: 광고의 노출이 전환에 영향을 주지 않는다.\n",
    "         대립가설: 광고의 노출이 전환에 영향을 준다.''')\n",
    "print(round(p,3))\n",
    "print('귀무가설을 기각하지 못한다. 따라서 광고의 노출이 전환에 영향을 주지 않는다.')"
   ]
  },
  {
   "cell_type": "markdown",
   "id": "jrk3hmyf",
   "metadata": {},
   "source": [
    "# @@@@@@@@@@@@@@@@@@@@@@@@@@@@@@"
   ]
  },
  {
   "cell_type": "markdown",
   "id": "848e12c1",
   "metadata": {},
   "source": [
    "p.3     \n",
    "두 상점의 5개월간 판매량이 아래와 같다.     \n",
    "상점간의 판매량 차이가 존재하는지 검정하라(귀무가설 및 대립가설 설정 검정통계량 확인 및 유의확률에 대한 해석)             \n",
    "상점 A: [15, 20, 18, 10, 22]     \n",
    "상점 B: [12, 17, 14, 16, 11]"
   ]
  },
  {
   "cell_type": "markdown",
   "id": "cbcackse",
   "metadata": {},
   "source": [
    "#### 포항"
   ]
  },
  {
   "cell_type": "code",
   "execution_count": 66,
   "id": "34f6ad82",
   "metadata": {},
   "outputs": [
    {
     "name": "stdout",
     "output_type": "stream",
     "text": [
      "귀무가설 : 상점간의 판매량 차이가 존재하지 않는다.\n",
      "대립가설 : 상점간의 판매량 차이가 존재한다\n",
      "0.31\n",
      "귀무가설 기각하지 않음, 상점간의 판매량 차이가 존재한다\n"
     ]
    }
   ],
   "source": [
    "from scipy.stats import *\n",
    "\n",
    "# 두상점의 동일기간 평균이 같은지를 판단하는 것이나 데이터수가 적으므로 비모수검정 이용. 집단 2개에 독립관계이므로 mannwhitneyu 활용\n",
    "# alternative = 'two-sided' 사용. (두 집단 비교이므로),\n",
    "# 한집단으로 할때는 one-sided(같은집단), greater(더 좋아졌는지), less(더 안좋아졌는지) 사용\n",
    "\n",
    "A = [15, 20, 18, 10, 22]\n",
    "B = [12, 17, 14, 16, 11]\n",
    "\n",
    "# 귀무가설 설정\n",
    "print('귀무가설 : 상점간의 판매량 차이가 존재하지 않는다.', '대립가설 : 상점간의 판매량 차이가 존재한다', sep='\\n')\n",
    "\n",
    "stat, p = mannwhitneyu(A, B, alternative='two-sided')\n",
    "\n",
    "print(p.round(3))\n",
    "alpha = 0.05\n",
    "\n",
    "if p < alpha:\n",
    "    print('귀무가설 기각, 상점간의 판매량 차이가 존재하지 않는다.')\n",
    "else:\n",
    "    print('귀무가설 기각하지 않음, 상점간의 판매량 차이가 존재한다')"
   ]
  },
  {
   "cell_type": "markdown",
   "id": "qvuw06yw",
   "metadata": {},
   "source": [
    "#### 경주"
   ]
  },
  {
   "cell_type": "code",
   "execution_count": 268,
   "id": "63768932",
   "metadata": {},
   "outputs": [
    {
     "name": "stdout",
     "output_type": "stream",
     "text": [
      "Mann-Whitney U 통계량: 18.0\n",
      "유의확률 (p-value): 0.30952380952380953\n",
      "귀무가설을 채택합니다. 상점 간 판매량 차이가 없습니다.\n"
     ]
    }
   ],
   "source": [
    "from scipy.stats import mannwhitneyu\n",
    "\n",
    "store_a = [15, 20, 18, 10, 22]\n",
    "store_b = [12, 17, 14, 16, 11]\n",
    "\n",
    "# Mann-Whitney U Test 수행\n",
    "statistic, p_value = mannwhitneyu(store_a, store_b, alternative='two-sided')\n",
    "\n",
    "print(\"Mann-Whitney U 통계량:\", statistic)\n",
    "print(\"유의확률 (p-value):\", p_value)\n",
    "\n",
    "alpha = 0.05  # 유의수준\n",
    "\n",
    "if p_value < alpha:\n",
    "    print(\"귀무가설을 기각하고 대립가설을 채택합니다. 상점 간 판매량 차이가 존재합니다.\")\n",
    "else:\n",
    "    print(\"귀무가설을 채택합니다. 상점 간 판매량 차이가 없습니다.\")\n"
   ]
  },
  {
   "cell_type": "markdown",
   "id": "47n9xiwz",
   "metadata": {},
   "source": [
    "#### 울산"
   ]
  },
  {
   "cell_type": "code",
   "execution_count": 12,
   "id": "8904ed98",
   "metadata": {},
   "outputs": [
    {
     "name": "stdout",
     "output_type": "stream",
     "text": [
      "독립 표본 t검정으로 두 상점간의 판매량 차이가 존재하는지 검정할 수 있다.\n",
      "t검정을 위해 다음과 같이 가설을 설정했다.\n",
      "\n",
      "H0 : 두 상점간의 판매량의 차이가 존재하지 않다.\n",
      "H1 : 두 상점간의 판매량의 차이가 존재한다.\n",
      "\n",
      "t통계량은  1.2565617248750864 이고 p-value는  0.2443608267150898 로 유의수준 0.05보다 크다.\n",
      "따라서 귀무가설을 채택하므로 두 상점간의 판매량이 존재하지 않는다\n"
     ]
    }
   ],
   "source": [
    "print('독립 표본 t검정으로 두 상점간의 판매량 차이가 존재하는지 검정할 수 있다.\\nt검정을 위해 다음과 같이 가설을 설정했다.')\n",
    "print('\\nH0 : 두 상점간의 판매량의 차이가 존재하지 않다.\\nH1 : 두 상점간의 판매량의 차이가 존재한다.')\n",
    "\n",
    "from scipy.stats import ttest_ind\n",
    "\n",
    "a = [15, 20, 18, 10, 22]  \n",
    "b = [12, 17, 14, 16, 11]\n",
    "\n",
    "# 독립 표본 t-검정 수행\n",
    "t_statistic, p_value = ttest_ind(a, b)\n",
    "\n",
    "print('\\nt통계량은 ', t_statistic,'이고 p-value는 ', p_value,'로 유의수준 0.05보다 크다.')\n",
    "print('따라서 귀무가설을 채택하므로 두 상점간의 판매량이 존재하지 않는다')"
   ]
  },
  {
   "cell_type": "markdown",
   "id": "uxxepqb7",
   "metadata": {},
   "source": [
    "# @@@@@@@@@@@@@@@@@@@@@@@@@@@@@@"
   ]
  },
  {
   "cell_type": "markdown",
   "id": "8cddb52e",
   "metadata": {},
   "source": [
    "p.4     \n",
    "한 연구자가 새로운 의약품의 효과를 평가하기 위해 15명의 환자들을 대상으로 전후로 측정한 데이터가 있습니다. 연구자는 의약품 투여 전의 측정값과 의약품 투여 후의 측정값을 비교하여 의약품의 효과 여부를 확인하고자 합니다. 윌콕슨 부호순위 검정을 사용하여 의약품 투여 전후의 차이가 유의미한지를 평가하세요. (유의수준 α = 0.05)     \n",
    "dataurl : https://raw.githubusercontent.com/Datamanim/datarepo/main/stats/stats7.csv"
   ]
  },
  {
   "cell_type": "markdown",
   "id": "ayglff80",
   "metadata": {},
   "source": [
    "#### 경주"
   ]
  },
  {
   "cell_type": "code",
   "execution_count": 334,
   "id": "f8e64557",
   "metadata": {},
   "outputs": [
    {
     "data": {
      "text/html": [
       "<div>\n",
       "<style scoped>\n",
       "    .dataframe tbody tr th:only-of-type {\n",
       "        vertical-align: middle;\n",
       "    }\n",
       "\n",
       "    .dataframe tbody tr th {\n",
       "        vertical-align: top;\n",
       "    }\n",
       "\n",
       "    .dataframe thead th {\n",
       "        text-align: right;\n",
       "    }\n",
       "</style>\n",
       "<table border=\"1\" class=\"dataframe\">\n",
       "  <thead>\n",
       "    <tr style=\"text-align: right;\">\n",
       "      <th></th>\n",
       "      <th>투약전 혈류량</th>\n",
       "      <th>투약후 혈류량</th>\n",
       "    </tr>\n",
       "  </thead>\n",
       "  <tbody>\n",
       "    <tr>\n",
       "      <th>0</th>\n",
       "      <td>23</td>\n",
       "      <td>20</td>\n",
       "    </tr>\n",
       "    <tr>\n",
       "      <th>1</th>\n",
       "      <td>18</td>\n",
       "      <td>15</td>\n",
       "    </tr>\n",
       "    <tr>\n",
       "      <th>2</th>\n",
       "      <td>20</td>\n",
       "      <td>18</td>\n",
       "    </tr>\n",
       "    <tr>\n",
       "      <th>3</th>\n",
       "      <td>17</td>\n",
       "      <td>15</td>\n",
       "    </tr>\n",
       "    <tr>\n",
       "      <th>4</th>\n",
       "      <td>21</td>\n",
       "      <td>19</td>\n",
       "    </tr>\n",
       "  </tbody>\n",
       "</table>\n",
       "</div>"
      ],
      "text/plain": [
       "   투약전 혈류량  투약후 혈류량\n",
       "0       23       20\n",
       "1       18       15\n",
       "2       20       18\n",
       "3       17       15\n",
       "4       21       19"
      ]
     },
     "metadata": {},
     "output_type": "display_data"
    },
    {
     "name": "stdout",
     "output_type": "stream",
     "text": [
      "[3 3 2 2 2 1 1 2 2 2 3 2 1 2 2]\n",
      "p-value: 6.103515625e-05\n",
      "귀무가설: 의약품 투여 전후의 차이가 없다\n",
      "대립가설: 의약품 투여 전후의 차이가 있다\n",
      "귀무가설 기각\n"
     ]
    }
   ],
   "source": [
    "from scipy.stats import wilcoxon\n",
    "\n",
    "df = pd.read_csv('https://raw.githubusercontent.com/Datamanim/datarepo/main/stats/stats7.csv')\n",
    "display(df.head())\n",
    "a = df['투약전 혈류량'].values  # 1차원 배열로 변환\n",
    "b = df['투약후 혈류량'].values  # 1차원 배열로 변환\n",
    "diff= a-b\n",
    "print(diff)\n",
    "stat, p = wilcoxon(a - b)\n",
    "print('p-value:', p)\n",
    "print('귀무가설: 의약품 투여 전후의 차이가 없다')\n",
    "print('대립가설: 의약품 투여 전후의 차이가 있다')\n",
    "print('귀무가설 기각')"
   ]
  },
  {
   "cell_type": "markdown",
   "id": "8idtnv9t",
   "metadata": {},
   "source": [
    "#### 울산"
   ]
  },
  {
   "cell_type": "code",
   "execution_count": 9,
   "id": "dfa84638",
   "metadata": {},
   "outputs": [
    {
     "name": "stdout",
     "output_type": "stream",
     "text": [
      "윌콕슨 부호순위합 검정은 모집단의 정규성을 만족하지 못 하거나 표본의 크기가 10이하일 때 사용하는 방법으로\n",
      "짝지어진 두 표본으로 검정하며, 두 그룹의 평균이 동일한지를 검정하는 방법이다.\n",
      "\n",
      "H0 : 두 의약품의 효과의 중앙값은 차이가 없다.\n",
      "H1 : 두 의약품의 효과의 중앙값은 차이가 있다.\n",
      "\n",
      "검정통계량은  0.0 이고 p-value는  6.103515625e-05 으로 95% 유의수준 하에 귀무가설이 기각된다. 따라서 의약품의 효과는 있다.\n",
      "Wilcoxon Signed-Rank Test:\n",
      "Test Statistic: 0.0\n",
      "P-Value: 6.103515625e-05\n",
      "Reject the null hypothesis. There is a significant difference in before-and-after measurements.\n"
     ]
    },
    {
     "data": {
      "text/plain": [
       "'\\n이 코드를 실행하면 윌콕슨 부호순위 검정의 검정 통계량과 유의확률(p-value)이 출력됩니다. \\n유의확률이 유의 수준보다 작을 경우 (일반적으로 0.05), 귀무가설을 기각하며, \\n의약품 투여 전후의 차이가 유의미하다고 결론지을 수 있습니다. 반대로 유의확률이 유의 수준보다 크거나 같을 경우, 귀무가설을 기각하지 않으며, 의약품 투여 전후의 차이가 유의미하지 않다고 결론짓습니다.\\n'"
      ]
     },
     "execution_count": 9,
     "metadata": {},
     "output_type": "execute_result"
    }
   ],
   "source": [
    "print('윌콕슨 부호순위합 검정은 모집단의 정규성을 만족하지 못 하거나 표본의 크기가 10이하일 때 사용하는 방법으로')\n",
    "print('짝지어진 두 표본으로 검정하며, 두 그룹의 평균이 동일한지를 검정하는 방법이다.\\n')\n",
    "print('H0 : 두 의약품의 효과의 중앙값은 차이가 없다.\\nH1 : 두 의약품의 효과의 중앙값은 차이가 있다.\\n')\n",
    "\n",
    "import pandas as pd\n",
    "from scipy.stats import wilcoxon\n",
    "\n",
    "data = pd.read_csv('https://raw.githubusercontent.com/Datamanim/datarepo/main/stats/stats7.csv')\n",
    "data['diff'] = data['투약후 혈류량'] - data['투약전 혈류량']\n",
    "data['sign'] = data['diff'].map(lambda x : \"+\" if x >0 else \"-\")\n",
    "\n",
    "w_statistic, p_value = wilcoxon(data['투약전 혈류량'], data['투약후 혈류량'])\n",
    "print('검정통계량은 ',w_statistic, '이고 p-value는 ', p_value,'으로 95% 유의수준 하에 귀무가설이 기각된다. 따라서 의약품의 효과는 있다.')"
   ]
  }
 ],
 "metadata": {
  "kernelspec": {
   "display_name": "Python 3 (ipykernel)",
   "language": "python",
   "name": "python3"
  },
  "language_info": {
   "codemirror_mode": {
    "name": "ipython",
    "version": 3
   },
   "file_extension": ".py",
   "mimetype": "text/x-python",
   "name": "python",
   "nbconvert_exporter": "python",
   "pygments_lexer": "ipython3",
   "version": "3.9.6"
  }
 },
 "nbformat": 4,
 "nbformat_minor": 5
}
