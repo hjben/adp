{
 "cells": [
  {
   "cell_type": "markdown",
   "id": "7deebeec",
   "metadata": {},
   "source": [
    "### packages"
   ]
  },
  {
   "cell_type": "code",
   "execution_count": 2,
   "id": "a7d66a6e",
   "metadata": {},
   "outputs": [
    {
     "data": {
      "text/html": [
       "<style>.container {width :95% !important;}</style>"
      ],
      "text/plain": [
       "<IPython.core.display.HTML object>"
      ]
     },
     "metadata": {},
     "output_type": "display_data"
    }
   ],
   "source": [
    "from IPython.display import display ,HTML\n",
    "display(HTML(\"<style>.container {width :95% !important;}</style>\"))\n",
    "\n",
    "# 한글 그래프\n",
    "import matplotlib.pyplot as plt\n",
    "import platform\n",
    "if platform.system() == 'Darwin': #맥\n",
    "        plt.rc('font', family='AppleGothic') \n",
    "elif platform.system() == 'Windows': #윈도우\n",
    "        plt.rc('font', family='Malgun Gothic') \n",
    "elif platform.system() == 'Linux': #리눅스 (구글 콜랩)\n",
    "        #!wget \"https://www.wfonts.com/download/data/2016/06/13/malgun-gothic/malgun.ttf\"\n",
    "        #!mv malgun.ttf /usr/share/fonts/truetype/\n",
    "        #import matplotlib.font_manager as fm \n",
    "        #fm._rebuild() \n",
    "        plt.rc('font', family='Malgun Gothic') \n",
    "plt.rcParams['axes.unicode_minus'] = False #한글 폰트 사용시 마이너스 폰트 깨짐 해결\n",
    "import seaborn as sns\n",
    "\n",
    "import pandas as pd\n",
    "pd.set_option('display.max_columns',200)\n",
    "\n",
    "#sample etc.\n",
    "import numpy as np\n",
    "\n",
    "#pca\n",
    "from sklearn.preprocessing import LabelEncoder\n",
    "from sklearn.decomposition import PCA\n",
    "from sklearn.preprocessing import MinMaxScaler\n",
    "\n",
    "#t-test\n",
    "from scipy.stats import ttest_ind\n",
    "\n",
    "\n",
    "#modeling\n",
    "from sklearn.ensemble import RandomForestClassifier,RandomForestRegressor \n",
    "from sklearn.tree import DecisionTreeClassifier , DecisionTreeRegressor\n",
    "from sklearn.model_selection import train_test_split\n",
    "from sklearn.metrics import accuracy_score, mean_squared_error\n",
    "\n",
    "\n",
    "import warnings \n",
    "warnings.filterwarnings('ignore')\n",
    "\n",
    "\n",
    "from imblearn.over_sampling import SMOTE\n",
    "import xgboost as xgb\n",
    "import scipy.stats as stats\n",
    "import math\n",
    "from scipy.stats import chi2_contingency\n",
    "from statsmodels.stats.multicomp import pairwise_tukeyhsd\n",
    "\n",
    "## by datamanim"
   ]
  },
  {
   "cell_type": "markdown",
   "id": "1e530f30",
   "metadata": {},
   "source": [
    "# 30회 ADP 복원 "
   ]
  },
  {
   "cell_type": "markdown",
   "id": "d0c9251b",
   "metadata": {},
   "source": [
    "# 기계학습 (60점)"
   ]
  },
  {
   "cell_type": "code",
   "execution_count": 8,
   "id": "387bb42c",
   "metadata": {},
   "outputs": [],
   "source": [
    "import pandas as pd"
   ]
  },
  {
   "cell_type": "markdown",
   "id": "435ce658",
   "metadata": {},
   "source": [
    "## 데이터 설명\n",
    "- 데이터 출처 : https://taas.koroad.or.kr/api/selectOpenApi.do 후처리\n",
    "- 데이터 링크 : https://raw.githubusercontent.com/Datamanim/datarepo/main/adp/30/p1.csv\n",
    "- 데이터 설명 : 대구도시공사_빅데이터_영구임대아파트 입주자 퇴거여부 데이터, 고유번호를 가진 계약자와 특정 아파트에 대해 매년 퇴거여부를 기록한 데이터"
   ]
  },
  {
   "cell_type": "code",
   "execution_count": 26,
   "id": "3ad5d3bb",
   "metadata": {
    "scrolled": true
   },
   "outputs": [
    {
     "data": {
      "text/html": [
       "<div>\n",
       "<style scoped>\n",
       "    .dataframe tbody tr th:only-of-type {\n",
       "        vertical-align: middle;\n",
       "    }\n",
       "\n",
       "    .dataframe tbody tr th {\n",
       "        vertical-align: top;\n",
       "    }\n",
       "\n",
       "    .dataframe thead th {\n",
       "        text-align: right;\n",
       "    }\n",
       "</style>\n",
       "<table border=\"1\" class=\"dataframe\">\n",
       "  <thead>\n",
       "    <tr style=\"text-align: right;\">\n",
       "      <th></th>\n",
       "      <th>Age</th>\n",
       "      <th>Gender</th>\n",
       "      <th>BMI</th>\n",
       "      <th>DBP</th>\n",
       "      <th>FPG</th>\n",
       "      <th>Chol</th>\n",
       "      <th>Tri</th>\n",
       "      <th>HDL</th>\n",
       "      <th>LDL</th>\n",
       "      <th>ALT</th>\n",
       "      <th>CCR</th>\n",
       "      <th>FFPG</th>\n",
       "    </tr>\n",
       "  </thead>\n",
       "  <tbody>\n",
       "    <tr>\n",
       "      <th>0</th>\n",
       "      <td>26</td>\n",
       "      <td>1</td>\n",
       "      <td>20.1</td>\n",
       "      <td>81</td>\n",
       "      <td>5.80</td>\n",
       "      <td>4.36</td>\n",
       "      <td>0.86</td>\n",
       "      <td>0.90</td>\n",
       "      <td>2.43</td>\n",
       "      <td>12.0</td>\n",
       "      <td>63.8</td>\n",
       "      <td>5.40</td>\n",
       "    </tr>\n",
       "    <tr>\n",
       "      <th>1</th>\n",
       "      <td>40</td>\n",
       "      <td>1</td>\n",
       "      <td>17.7</td>\n",
       "      <td>54</td>\n",
       "      <td>4.60</td>\n",
       "      <td>3.70</td>\n",
       "      <td>1.02</td>\n",
       "      <td>1.50</td>\n",
       "      <td>2.04</td>\n",
       "      <td>9.2</td>\n",
       "      <td>70.3</td>\n",
       "      <td>4.10</td>\n",
       "    </tr>\n",
       "    <tr>\n",
       "      <th>2</th>\n",
       "      <td>40</td>\n",
       "      <td>2</td>\n",
       "      <td>19.7</td>\n",
       "      <td>53</td>\n",
       "      <td>5.30</td>\n",
       "      <td>5.87</td>\n",
       "      <td>1.29</td>\n",
       "      <td>1.75</td>\n",
       "      <td>3.37</td>\n",
       "      <td>10.1</td>\n",
       "      <td>61.1</td>\n",
       "      <td>4.85</td>\n",
       "    </tr>\n",
       "    <tr>\n",
       "      <th>3</th>\n",
       "      <td>43</td>\n",
       "      <td>1</td>\n",
       "      <td>23.1</td>\n",
       "      <td>71</td>\n",
       "      <td>4.50</td>\n",
       "      <td>4.05</td>\n",
       "      <td>0.74</td>\n",
       "      <td>1.27</td>\n",
       "      <td>2.60</td>\n",
       "      <td>36.5</td>\n",
       "      <td>73.4</td>\n",
       "      <td>5.30</td>\n",
       "    </tr>\n",
       "    <tr>\n",
       "      <th>4</th>\n",
       "      <td>36</td>\n",
       "      <td>1</td>\n",
       "      <td>26.5</td>\n",
       "      <td>82</td>\n",
       "      <td>5.54</td>\n",
       "      <td>6.69</td>\n",
       "      <td>3.49</td>\n",
       "      <td>0.91</td>\n",
       "      <td>3.64</td>\n",
       "      <td>69.3</td>\n",
       "      <td>67.5</td>\n",
       "      <td>5.53</td>\n",
       "    </tr>\n",
       "  </tbody>\n",
       "</table>\n",
       "</div>"
      ],
      "text/plain": [
       "   Age  Gender   BMI  DBP   FPG  Chol   Tri   HDL   LDL   ALT   CCR  FFPG\n",
       "0   26       1  20.1   81  5.80  4.36  0.86  0.90  2.43  12.0  63.8  5.40\n",
       "1   40       1  17.7   54  4.60  3.70  1.02  1.50  2.04   9.2  70.3  4.10\n",
       "2   40       2  19.7   53  5.30  5.87  1.29  1.75  3.37  10.1  61.1  4.85\n",
       "3   43       1  23.1   71  4.50  4.05  0.74  1.27  2.60  36.5  73.4  5.30\n",
       "4   36       1  26.5   82  5.54  6.69  3.49  0.91  3.64  69.3  67.5  5.53"
      ]
     },
     "execution_count": 26,
     "metadata": {},
     "output_type": "execute_result"
    }
   ],
   "source": [
    "#encoding = ['utf-8','cp949','utf-8-sig','euc-kr','latin']\n",
    "df =pd.read_csv('https://raw.githubusercontent.com/Datamanim/datarepo/main/adp/30/p1.csv',encoding= 'cp949')\n",
    "df.head()"
   ]
  },
  {
   "cell_type": "markdown",
   "id": "c9373a22",
   "metadata": {},
   "source": [
    "## 1-1  EDA를 시행하라 "
   ]
  },
  {
   "cell_type": "code",
   "execution_count": null,
   "id": "e7df5beb",
   "metadata": {},
   "outputs": [],
   "source": []
  },
  {
   "cell_type": "markdown",
   "id": "4bd74ff9",
   "metadata": {},
   "source": [
    "## 1-2 데이터 전처리가 필요하다면 수행하고 이유를 작성하라"
   ]
  },
  {
   "cell_type": "code",
   "execution_count": null,
   "id": "3d0deaa4",
   "metadata": {},
   "outputs": [],
   "source": []
  },
  {
   "cell_type": "markdown",
   "id": "0265da78",
   "metadata": {},
   "source": [
    "## 1-3 train test set을 DBP컬럼 기준으로 7:3 비율로 나누고 잘 나뉘었는지 통계적으로 나타내라"
   ]
  },
  {
   "cell_type": "code",
   "execution_count": null,
   "id": "0ed346dc",
   "metadata": {},
   "outputs": [],
   "source": []
  },
  {
   "cell_type": "markdown",
   "id": "36befdb1",
   "metadata": {},
   "source": [
    "## 2-1 독립변수의 차원축소의 필요성을 논하고, 필요에 따라 차원을 축소하고 불필요하다면 그 근거를 논하시오."
   ]
  },
  {
   "cell_type": "code",
   "execution_count": null,
   "id": "ffe98774",
   "metadata": {},
   "outputs": [],
   "source": []
  },
  {
   "cell_type": "markdown",
   "id": "0b465a8e",
   "metadata": {},
   "source": [
    "## 2-2 2-1 작업 후 데이터가 회귀분석의 기본가정 따르는지 설명"
   ]
  },
  {
   "cell_type": "code",
   "execution_count": null,
   "id": "d34e4123",
   "metadata": {},
   "outputs": [],
   "source": []
  },
  {
   "cell_type": "markdown",
   "id": "a50e03d7",
   "metadata": {},
   "source": [
    "## 3-1 회귀분석 알고리즘 3개를 선택하고 선정이유와 장단점 비교"
   ]
  },
  {
   "cell_type": "code",
   "execution_count": null,
   "id": "f9b2e8fc",
   "metadata": {},
   "outputs": [],
   "source": []
  },
  {
   "cell_type": "markdown",
   "id": "7c145d8f",
   "metadata": {},
   "source": [
    "## 3-2. 1-3에서 구분한 데이터를 기준으로 3개의 회귀 분석 모델링을 진행하고 평가지표 rmse로 가장 최적화된 알고리즘 선정"
   ]
  },
  {
   "cell_type": "code",
   "execution_count": null,
   "id": "d2a951e2",
   "metadata": {},
   "outputs": [],
   "source": []
  },
  {
   "cell_type": "markdown",
   "id": "c684b36a",
   "metadata": {},
   "source": [
    "## 데이터 설명\n",
    "- 데이터 출처 : https://taas.koroad.or.kr/api/selectOpenApi.do 후처리\n",
    "- 데이터 링크 : https://raw.githubusercontent.com/Datamanim/datarepo/main/adp/30/p2.csv\n",
    "- 데이터 설명 : 자전거사고 다발지역 개별사고 정보\n",
    "1) 대상사고 : 해당 1년간 발생한 가해 또는 피해차종이 자전거인 교통사고\n",
    "2) 다발지역 선정조건 : 반경 300m 내 대상사고 4건이상 발생지역"
   ]
  },
  {
   "cell_type": "code",
   "execution_count": 27,
   "id": "798f65dd",
   "metadata": {},
   "outputs": [
    {
     "data": {
      "text/html": [
       "<div>\n",
       "<style scoped>\n",
       "    .dataframe tbody tr th:only-of-type {\n",
       "        vertical-align: middle;\n",
       "    }\n",
       "\n",
       "    .dataframe tbody tr th {\n",
       "        vertical-align: top;\n",
       "    }\n",
       "\n",
       "    .dataframe thead th {\n",
       "        text-align: right;\n",
       "    }\n",
       "</style>\n",
       "<table border=\"1\" class=\"dataframe\">\n",
       "  <thead>\n",
       "    <tr style=\"text-align: right;\">\n",
       "      <th></th>\n",
       "      <th>사고내용</th>\n",
       "      <th>가해자성별</th>\n",
       "      <th>가해자연령</th>\n",
       "      <th>가해자차종</th>\n",
       "      <th>피해자신체상해정도</th>\n",
       "      <th>사고유형</th>\n",
       "      <th>기상상태</th>\n",
       "      <th>사망자수</th>\n",
       "      <th>발생시각</th>\n",
       "    </tr>\n",
       "  </thead>\n",
       "  <tbody>\n",
       "    <tr>\n",
       "      <th>0</th>\n",
       "      <td>경상</td>\n",
       "      <td>여</td>\n",
       "      <td>75세</td>\n",
       "      <td>자전거</td>\n",
       "      <td>경상</td>\n",
       "      <td>차대차 - 기타</td>\n",
       "      <td>맑음</td>\n",
       "      <td>0</td>\n",
       "      <td>2018-04-03 15시</td>\n",
       "    </tr>\n",
       "    <tr>\n",
       "      <th>1</th>\n",
       "      <td>중상</td>\n",
       "      <td>여</td>\n",
       "      <td>26세</td>\n",
       "      <td>자전거</td>\n",
       "      <td>중상</td>\n",
       "      <td>차대차 - 측면충돌</td>\n",
       "      <td>맑음</td>\n",
       "      <td>0</td>\n",
       "      <td>2018-04-21 13시</td>\n",
       "    </tr>\n",
       "    <tr>\n",
       "      <th>2</th>\n",
       "      <td>중상</td>\n",
       "      <td>남</td>\n",
       "      <td>34세</td>\n",
       "      <td>자전거</td>\n",
       "      <td>중상</td>\n",
       "      <td>차대차 - 기타</td>\n",
       "      <td>맑음</td>\n",
       "      <td>0</td>\n",
       "      <td>2018-05-01 08시</td>\n",
       "    </tr>\n",
       "    <tr>\n",
       "      <th>3</th>\n",
       "      <td>경상</td>\n",
       "      <td>남</td>\n",
       "      <td>45세</td>\n",
       "      <td>자전거</td>\n",
       "      <td>경상</td>\n",
       "      <td>차대차 - 기타</td>\n",
       "      <td>맑음</td>\n",
       "      <td>0</td>\n",
       "      <td>2018-06-03 18시</td>\n",
       "    </tr>\n",
       "    <tr>\n",
       "      <th>4</th>\n",
       "      <td>중상</td>\n",
       "      <td>남</td>\n",
       "      <td>20세</td>\n",
       "      <td>자전거</td>\n",
       "      <td>중상</td>\n",
       "      <td>차대차 - 측면충돌</td>\n",
       "      <td>맑음</td>\n",
       "      <td>0</td>\n",
       "      <td>2018-06-28 16시</td>\n",
       "    </tr>\n",
       "  </tbody>\n",
       "</table>\n",
       "</div>"
      ],
      "text/plain": [
       "  사고내용 가해자성별 가해자연령 가해자차종 피해자신체상해정도        사고유형 기상상태  사망자수            발생시각\n",
       "0   경상     여   75세   자전거        경상    차대차 - 기타   맑음     0  2018-04-03 15시\n",
       "1   중상     여   26세   자전거        중상  차대차 - 측면충돌   맑음     0  2018-04-21 13시\n",
       "2   중상     남   34세   자전거        중상    차대차 - 기타   맑음     0  2018-05-01 08시\n",
       "3   경상     남   45세   자전거        경상    차대차 - 기타   맑음     0  2018-06-03 18시\n",
       "4   중상     남   20세   자전거        중상  차대차 - 측면충돌   맑음     0  2018-06-28 16시"
      ]
     },
     "execution_count": 27,
     "metadata": {},
     "output_type": "execute_result"
    }
   ],
   "source": [
    "df = pd.read_csv('https://raw.githubusercontent.com/Datamanim/datarepo/main/adp/30/p2.csv',encoding='cp949')\n",
    "df.head()"
   ]
  },
  {
   "cell_type": "markdown",
   "id": "1bc6f69c",
   "metadata": {},
   "source": [
    "## 4-1 발생시각을 통해 평일인지 주말인지를 구분하는  '주말여부'  범주형 변수 추가하고 데이터 분포를 확인하라. (월 ~ 금은 평일, 토요일과 일요일을 주말)"
   ]
  },
  {
   "cell_type": "code",
   "execution_count": null,
   "id": "5bcbe31a",
   "metadata": {},
   "outputs": [],
   "source": []
  },
  {
   "cell_type": "markdown",
   "id": "d95f4e52",
   "metadata": {},
   "source": [
    "## 4-2 주말여부에 따라 각 변수들(사고내용,가해자성별,가해자연령,기상상태,사고유형)이 유의한지 통계적 검정하라."
   ]
  },
  {
   "cell_type": "code",
   "execution_count": null,
   "id": "8f00704e",
   "metadata": {},
   "outputs": [],
   "source": []
  },
  {
   "cell_type": "markdown",
   "id": "ced79c7b",
   "metadata": {},
   "source": [
    "## 4-3 SMOTE 오버샘플링하고 변수별 빈도를 나타내고 연속형이면 평균을 내라"
   ]
  },
  {
   "cell_type": "code",
   "execution_count": null,
   "id": "f1f736af",
   "metadata": {},
   "outputs": [],
   "source": []
  },
  {
   "cell_type": "markdown",
   "id": "0b20a303",
   "metadata": {},
   "source": [
    "## 4-4 로지스틱회귀분석, xgb 분류분석 시행하라. ( 종속변수가 뭔지 정확하게 모르겠네요 ㅠㅠ )"
   ]
  },
  {
   "cell_type": "code",
   "execution_count": null,
   "id": "a3149032",
   "metadata": {},
   "outputs": [],
   "source": []
  },
  {
   "cell_type": "markdown",
   "id": "526e7015",
   "metadata": {},
   "source": [
    "# 통계 (40점)"
   ]
  },
  {
   "cell_type": "markdown",
   "id": "862751b7",
   "metadata": {},
   "source": [
    "## 5. \n",
    "3개의 공장에서 생산한 제품을 3지역으로 가능한 조건에 맞게 최대로 배송한다.    \n",
    "각 공장과 각 지역 사이의 1개 제품 배송 비용이 아래와 같을 때, 최소 배송 비용은 얼마인가?    \n",
    "![img](https://raw.githubusercontent.com/Datamanim/datarepo/main/adp/30/p5.png)"
   ]
  },
  {
   "cell_type": "code",
   "execution_count": null,
   "id": "7dac3e8a",
   "metadata": {},
   "outputs": [],
   "source": []
  },
  {
   "cell_type": "markdown",
   "id": "d6ad5e43",
   "metadata": {},
   "source": [
    "## 데이터 설명\n",
    "- 데이터 링크 : https://raw.githubusercontent.com/Datamanim/datarepo/main/adp/30/p6.csv\n",
    "- 데이터 설명 : 3개 연령층 (청년 장년 노년)의 A 헤드셋의 선호도 (1,2,3) 설문조사"
   ]
  },
  {
   "cell_type": "code",
   "execution_count": 24,
   "id": "9496f004",
   "metadata": {},
   "outputs": [
    {
     "data": {
      "text/html": [
       "<div>\n",
       "<style scoped>\n",
       "    .dataframe tbody tr th:only-of-type {\n",
       "        vertical-align: middle;\n",
       "    }\n",
       "\n",
       "    .dataframe tbody tr th {\n",
       "        vertical-align: top;\n",
       "    }\n",
       "\n",
       "    .dataframe thead th {\n",
       "        text-align: right;\n",
       "    }\n",
       "</style>\n",
       "<table border=\"1\" class=\"dataframe\">\n",
       "  <thead>\n",
       "    <tr style=\"text-align: right;\">\n",
       "      <th></th>\n",
       "      <th>나이</th>\n",
       "      <th>선호도</th>\n",
       "    </tr>\n",
       "  </thead>\n",
       "  <tbody>\n",
       "    <tr>\n",
       "      <th>0</th>\n",
       "      <td>청년</td>\n",
       "      <td>2</td>\n",
       "    </tr>\n",
       "    <tr>\n",
       "      <th>1</th>\n",
       "      <td>장년</td>\n",
       "      <td>2</td>\n",
       "    </tr>\n",
       "    <tr>\n",
       "      <th>2</th>\n",
       "      <td>청년</td>\n",
       "      <td>2</td>\n",
       "    </tr>\n",
       "    <tr>\n",
       "      <th>3</th>\n",
       "      <td>청년</td>\n",
       "      <td>1</td>\n",
       "    </tr>\n",
       "    <tr>\n",
       "      <th>4</th>\n",
       "      <td>장년</td>\n",
       "      <td>1</td>\n",
       "    </tr>\n",
       "  </tbody>\n",
       "</table>\n",
       "</div>"
      ],
      "text/plain": [
       "   나이  선호도\n",
       "0  청년    2\n",
       "1  장년    2\n",
       "2  청년    2\n",
       "3  청년    1\n",
       "4  장년    1"
      ]
     },
     "execution_count": 24,
     "metadata": {},
     "output_type": "execute_result"
    }
   ],
   "source": [
    "df = pd.read_csv('https://raw.githubusercontent.com/Datamanim/datarepo/main/adp/30/p6.csv')\n",
    "df.head()"
   ]
  },
  {
   "cell_type": "markdown",
   "id": "884a2cee",
   "metadata": {},
   "source": [
    "## 6.1 연령대별로 헤드셋 선호도에 차이가 있는지를 검정하기 위한 귀무가설과 연구가설을 설정해라."
   ]
  },
  {
   "cell_type": "code",
   "execution_count": null,
   "id": "55d445aa",
   "metadata": {},
   "outputs": [],
   "source": []
  },
  {
   "cell_type": "markdown",
   "id": "e0c2c676",
   "metadata": {},
   "source": [
    "## 6.2 유의수준 하에서 통계 검정해라"
   ]
  },
  {
   "cell_type": "code",
   "execution_count": null,
   "id": "368fbe05",
   "metadata": {},
   "outputs": [],
   "source": []
  },
  {
   "cell_type": "markdown",
   "id": "9d388095",
   "metadata": {},
   "source": [
    "## 데이터 설명\n",
    "아이를 6명 가진 가정이 5 가족이고, 아들/딸을 출생할 확률은 0.5이다."
   ]
  },
  {
   "cell_type": "markdown",
   "id": "0afcc3ae",
   "metadata": {},
   "source": [
    "## 7.1 딸이 4명 이상인 가구가 3 가족 이상일 확률을 구하라."
   ]
  },
  {
   "cell_type": "code",
   "execution_count": null,
   "id": "bdd21cb2",
   "metadata": {},
   "outputs": [],
   "source": []
  },
  {
   "cell_type": "markdown",
   "id": "f9a3736a",
   "metadata": {},
   "source": [
    "## 7.2 5가족 중 몇 가족이 4명 이상 딸을 가질 것으로 기대할 수 있는가? "
   ]
  },
  {
   "cell_type": "code",
   "execution_count": null,
   "id": "6520e997",
   "metadata": {},
   "outputs": [],
   "source": []
  },
  {
   "cell_type": "markdown",
   "id": "3d6834a0",
   "metadata": {},
   "source": [
    "created by datamanim [web-link](https://www.datamanim.com)"
   ]
  }
 ],
 "metadata": {
  "kernelspec": {
   "display_name": "Python 3 (ipykernel)",
   "language": "python",
   "name": "python3"
  },
  "language_info": {
   "codemirror_mode": {
    "name": "ipython",
    "version": 3
   },
   "file_extension": ".py",
   "mimetype": "text/x-python",
   "name": "python",
   "nbconvert_exporter": "python",
   "pygments_lexer": "ipython3",
   "version": "3.9.6"
  }
 },
 "nbformat": 4,
 "nbformat_minor": 5
}
