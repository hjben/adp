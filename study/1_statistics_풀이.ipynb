{
 "cells": [
  {
   "cell_type": "markdown",
   "metadata": {},
   "source": [
    "# 1. 통계 (확률분포, 추정과 가설 검정, 분산분석, 비모수 검정)"
   ]
  },
  {
   "cell_type": "markdown",
   "metadata": {},
   "source": [
    "## [연습문제]"
   ]
  },
  {
   "cell_type": "markdown",
   "metadata": {},
   "source": [
    "### >>> 통계 기초"
   ]
  },
  {
   "attachments": {
    "a51be7d9-1b02-4ef7-ac24-f364fe411b57.png": {
     "image/png": "[encoded data removed]"
    }
   },
   "cell_type": "markdown",
   "metadata": {},
   "source": [
    "### 1. 어느 회사의 연도별 임금상승률을 조사하였더니, 아래 표와 같이 나타났다. 이 회사의 평균 임 금상승률을 구하기 위해 어떤 대푯값을 구해야 하는지 설명하고, 그 값을 계산하시오.\n",
    "![image.png](attachment:a51be7d9-1b02-4ef7-ac24-f364fe411b57.png)"
   ]
  },
  {
   "cell_type": "code",
   "execution_count": 118,
   "metadata": {
    "tags": []
   },
   "outputs": [
    {
     "name": "stdout",
     "output_type": "stream",
     "text": [
      "[라이브러리 계산] 0.0597\n",
      "[수기 계산] 0.0597\n"
     ]
    }
   ],
   "source": [
    "from scipy.stats import gmean\n",
    "import numpy as np\n",
    "data = [0.04, 0.03, 0.05, 0.1, 0.08] \n",
    "data = np.array(data)+1\n",
    "a1 = gmean(data)-1\n",
    "print(\"[라이브러리 계산] {:.4f}\".format(a1))\n",
    "\n",
    "a2 = (1.04*1.03*1.05*1.1*1.08)**(1/5)-1\n",
    "print(\"[수기 계산] {:.4f}\".format(a2))\n",
    "\n",
    "# 정답: 기하평균, 5.97%"
   ]
  },
  {
   "cell_type": "markdown",
   "metadata": {},
   "source": [
    "### 2. 한 회사원이 집에서 회사를 갈 때 시속 5km/h로 출근하고, 퇴근할 때 시속 7km/h로 돌아왔 다면, 이 회사원의 평균 속도를 구하기 위해 어떤 대푯값을 구해야 하는지 설명하고, 그 값을 계 산하시오."
   ]
  },
  {
   "cell_type": "code",
   "execution_count": 81,
   "metadata": {
    "tags": []
   },
   "outputs": [
    {
     "name": "stdout",
     "output_type": "stream",
     "text": [
      "[라이브러리 계산] 5.8333\n",
      "[수기 계산] 5.8333\n"
     ]
    }
   ],
   "source": [
    "from scipy.stats import hmean\n",
    "data = [5, 7]\n",
    "a1 = hmean(data)\n",
    "print(\"[라이브러리 계산] {:.4f}\".format(a1))\n",
    "\n",
    "a2 = 2*(5*7)/(5+7)\n",
    "print(\"[수기 계산] {:.4f}\".format(a2))\n",
    "\n",
    "#정답: 조화평균, 5.83km/h"
   ]
  },
  {
   "cell_type": "markdown",
   "metadata": {},
   "source": [
    "### 3. A 브랜드의 햄버거는 평균 무게 200g, 분산 49g인 정규 분포를 따르고, 샌드위치는 평균 무게 190g, 분산 36g인 정규 분포를 따른다고 한다. 방금 구매한 A 브랜드 햄버거와 샌드위치의 무게가 모두 210g이라면, 상대적으로 어느 것이 더 무거운가. "
   ]
  },
  {
   "cell_type": "code",
   "execution_count": 127,
   "metadata": {
    "tags": []
   },
   "outputs": [
    {
     "name": "stdout",
     "output_type": "stream",
     "text": [
      "햄버거 1.43, 샌드위치 3.33\n"
     ]
    }
   ],
   "source": [
    "import numpy as np\n",
    "hamburger = (210 - 200) / np.sqrt(49)\n",
    "sandwich = (210 - 190) / np.sqrt(36)\n",
    "print(\"햄버거 {:.2f}, 샌드위치 {:.2f}\".format(hamburger, sandwich))\n",
    "\n",
    "# 표준화한 점수로 두 개체의 무게를 비교해야 한다. 표준화 점수가 더 높은 샌드위치의 무게가 상대적으로 무겁다. 정답: 샌드위치"
   ]
  },
  {
   "cell_type": "markdown",
   "metadata": {},
   "source": [
    "### 4. A학교와 B학교 학생들을 대상으로 100명을 추출하여 용돈을 조사하였더니, A학교는 평균 10만원, 표준편차 2만원, B학교는 평균 8만원, 표준편차 1만원으로 나타났다. 어느 학교에서 용돈의 격차가 더 심하다고 볼 수 있는가."
   ]
  },
  {
   "cell_type": "code",
   "execution_count": 128,
   "metadata": {
    "tags": []
   },
   "outputs": [
    {
     "name": "stdout",
     "output_type": "stream",
     "text": [
      "A 0.20, B 0.12\n"
     ]
    }
   ],
   "source": [
    "A = 2 / 10\n",
    "B = 1 / 8\n",
    "print(\"A {:.2f}, B {:.2f}\".format(A, B))\n",
    "# 해당 문제는 두 학교의 상대적 산포도인 변동계수를 구하여 비교해야 한다. A학교의 변동계수가 더 크기 때문에 격차가 더 심하다고 볼 수 있다. 정답: A학교"
   ]
  },
  {
   "cell_type": "markdown",
   "metadata": {},
   "source": [
    "### >>> 확률분포"
   ]
  },
  {
   "cell_type": "markdown",
   "metadata": {},
   "source": [
    "### 1. 어느 권총 사격 선수가 과녁의 정중앙을 맞힐 확률이 80%라고 한다. 이 선수가 총 5번 사격을 할 때 평균적으로 몇번 정중앙을 맞히는지 구하시오."
   ]
  },
  {
   "cell_type": "code",
   "execution_count": 82,
   "metadata": {},
   "outputs": [
    {
     "name": "stdout",
     "output_type": "stream",
     "text": [
      "[라이브러리 계산] 4.00\n",
      "[수기 계산] 4.00\n"
     ]
    }
   ],
   "source": [
    "p = 0.8\n",
    "q = 1-p\n",
    "n = 5\n",
    "\n",
    "from scipy.stats import binom\n",
    "E, V = binom.stats(n, p)\n",
    "print(\"[라이브러리 계산] {:.2f}\".format(E))\n",
    "\n",
    "a = n*p\n",
    "print(\"[수기 계산] {:.2f}\".format(a))\n",
    "\n",
    "# 이항분포 X ~ B(n, p), E(X)=np, V(X)=npq 에서 기댓값을 구하는 문제이다. 정답은 4번"
   ]
  },
  {
   "cell_type": "markdown",
   "metadata": {},
   "source": [
    "### 2. 전체 청소년의 40%가 11시 이전에 잠을 잔다고 한다면, 임의로 선택한 10명의 청소년 중에서 3명이 11시 이전에 잠을 잘 확률을 계산하시오. (소수점 첫째자리까지 반올림)"
   ]
  },
  {
   "cell_type": "code",
   "execution_count": 87,
   "metadata": {},
   "outputs": [
    {
     "name": "stdout",
     "output_type": "stream",
     "text": [
      "[라이브러리 계산] 0.2150\n",
      "[수기 계산] 0.2150\n"
     ]
    }
   ],
   "source": [
    "p = 0.4\n",
    "q = 1-p\n",
    "n = 10\n",
    "x = 3\n",
    "\n",
    "from scipy.stats import binom\n",
    "print(\"[라이브러리 계산] {:.4f}\".format(binom.pmf(x, n, p)))\n",
    "\n",
    "from numpy import math\n",
    "fac = math.factorial\n",
    "def combi(a, b): #aCb\n",
    "    return fac(a)/fac(b)/fac(a-b)\n",
    "print(\"[수기 계산] {:.4f}\".format(combi(n, x) * p**(x) * (1-p)**(n-x)))\n",
    "\n",
    "# 이항분포의 특정 확률변수 x에 대한 확률질량함수를 구하는 문제이다. 정답은 21.5%"
   ]
  },
  {
   "cell_type": "markdown",
   "metadata": {},
   "source": [
    "### 3. 어느 아파트 단지에서 밤 11시부터 새벽2시 사이에 배달되는 음식 배달 건수는 시간 당 평균 5건이다. 음식 배달 건수의 분포가 포아송분포를 따른다면 오늘 새벽 12시와 1시 사이에 배달이 1건만 발생할 확률을 구하시오. (소수점 둘째자리까지 반올림)"
   ]
  },
  {
   "cell_type": "code",
   "execution_count": 89,
   "metadata": {},
   "outputs": [
    {
     "name": "stdout",
     "output_type": "stream",
     "text": [
      "0.0337\n",
      "0.0337\n"
     ]
    }
   ],
   "source": [
    "lam = 5\n",
    "x = 1\n",
    "import numpy as np\n",
    "pmf = lam**x * np.exp(-lam)/np.math.factorial(x)\n",
    "print(\"{:.4f}\".format(pmf))\n",
    "\n",
    "from scipy.stats import poisson\n",
    "print(\"{:.4f}\".format(poisson.pmf(x, lam)))\n",
    "# 포아송 분포의 특정 확률변수 x에 대한 확률질량함수를 구하는 문제이다. 정답은 3.37%"
   ]
  },
  {
   "cell_type": "markdown",
   "metadata": {},
   "source": [
    "### 4. A대학교 B전공 시험의 성적 분포는 평균이 65, 표준편차 12인 정규분포를 따른다고 한다. 최고 점수부터 10%까지를 A+로 분류한다면, A+를 받기 위해 최소 몇점을 받아야 하는가?"
   ]
  },
  {
   "cell_type": "code",
   "execution_count": 108,
   "metadata": {},
   "outputs": [
    {
     "data": {
      "text/plain": [
       "80.38"
      ]
     },
     "execution_count": 108,
     "metadata": {},
     "output_type": "execute_result"
    }
   ],
   "source": [
    "mu = 65\n",
    "sigma = 12\n",
    "\n",
    "from scipy.stats import norm\n",
    "z = norm.ppf(1-0.1)\n",
    "x = z * sigma + mu\n",
    "round(x, 2)\n",
    "# 정규분포 X ~ N(mu, sigma^2)를 표준정규분포 Z ~ N(0, 1)로 표준화하여 x를 구하는 문제이다. 표준화 공식은 z = (x - mu) / sigma이다. 정답: 81점"
   ]
  },
  {
   "cell_type": "markdown",
   "metadata": {},
   "source": [
    "### >>> 추정과 가설 검정, 분산분석"
   ]
  },
  {
   "cell_type": "markdown",
   "metadata": {},
   "source": [
    "### 1. 다음 데이터의 모분산 정보가 없을 때, 다음 데이터의 모평균에 대한 95% 신뢰수준의 신뢰구간을 구하시오. 또한, 다음 데이터의 모표준편차가 3이라는 것을 알고 있을 때, 다음 데이터의 모평균에 대한 95% 신뢰수준의 신뢰구간을 구하시오."
   ]
  },
  {
   "cell_type": "code",
   "execution_count": 520,
   "metadata": {},
   "outputs": [
    {
     "data": {
      "text/plain": [
       "(11.185, 17.386)"
      ]
     },
     "execution_count": 520,
     "metadata": {},
     "output_type": "execute_result"
    }
   ],
   "source": [
    "data = [10, 19, 15, 11, 13, 14, 18]\n",
    "x = np.mean(data)\n",
    "s = np.std(data, ddof=1)\n",
    "n = len(data)\n",
    "df = n-1\n",
    "conf_a = 1-0.95\n",
    "\n",
    "## 모분산을 모르는 경우 T통계량\n",
    "from scipy.stats import t\n",
    "SE = s/np.sqrt(n) # standard error\n",
    "conf_t = t.ppf(1-conf_a/2, df)\n",
    "ME = conf_t * SE # margin of error\n",
    "round(x-ME, 3), round(x+ME, 3)"
   ]
  },
  {
   "cell_type": "code",
   "execution_count": 521,
   "metadata": {},
   "outputs": [
    {
     "data": {
      "text/plain": [
       "(12.063, 16.508)"
      ]
     },
     "execution_count": 521,
     "metadata": {},
     "output_type": "execute_result"
    }
   ],
   "source": [
    "## 모분산을 아는 경우 Z통계량\n",
    "from scipy.stats import norm\n",
    "sigma = 3\n",
    "\n",
    "SE = sigma/np.sqrt(n) # standard error\n",
    "conf_z = 1.96 #conf_z = norm.ppf(1-conf_a/2)\n",
    "ME = conf_z * SE # margin of error\n",
    "round(x-ME, 3), round(x+ME, 3)"
   ]
  },
  {
   "cell_type": "markdown",
   "metadata": {},
   "source": [
    "### 2. 어느 제조회사의 불량률이 5%로 알려져 있다면, 95% 신뢰수준에서 오차의 한계가 3%가 되도록하는 최소 표본 사이즈를 구하시오."
   ]
  },
  {
   "cell_type": "code",
   "execution_count": 522,
   "metadata": {},
   "outputs": [
    {
     "data": {
      "text/plain": [
       "202.74"
      ]
     },
     "execution_count": 522,
     "metadata": {},
     "output_type": "execute_result"
    }
   ],
   "source": [
    "P = 0.05\n",
    "ME = 0.03\n",
    "conf_a = 1-0.95\n",
    "\n",
    "from scipy.stats import norm\n",
    "conf_z = norm.ppf(1-conf_a/2)\n",
    "size = conf_z**2 * P*(1-P) / ME**2\n",
    "round(size, 2)\n",
    "# 표본비율에 대한 최소표본규모 문제이다. 표본규모 계산 시 모비율 P를 사용하거나 표본비율 p로 계산하거나 두 정보 모두 없다면 p=0.5로 계산한다. 여기서는 모비율 P를 사용하였다. 정답은 203개이다."
   ]
  },
  {
   "cell_type": "markdown",
   "metadata": {},
   "source": [
    "### 3. 임의로 추출한 표본 30개의 분산을 계산했더니 50일 때, 신뢰도 95%로 모분산의 신뢰구간을 추정하시오. (소수점 둘째자리까지 반올림)"
   ]
  },
  {
   "cell_type": "code",
   "execution_count": 523,
   "metadata": {},
   "outputs": [
    {
     "data": {
      "text/plain": [
       "(31.71, 90.36)"
      ]
     },
     "execution_count": 523,
     "metadata": {},
     "output_type": "execute_result"
    }
   ],
   "source": [
    "n = 30\n",
    "df = n-1\n",
    "v = 50\n",
    "conf_a = 1-0.95\n",
    "\n",
    "from scipy.stats import chi2\n",
    "conf_c1 = chi2.ppf(1-conf_a/2, df)\n",
    "conf_c2 = chi2.ppf(conf_a/2, df)\n",
    "CR1 = df * v / conf_c1\n",
    "CR2 = df * v / conf_c2\n",
    "round(CR1, 2), round(CR2, 2)\n",
    "# 모평균을 모르는 경우 표본 정보로 모분산의 신뢰구간을 구하는 문제이다."
   ]
  },
  {
   "cell_type": "markdown",
   "metadata": {},
   "source": [
    "### 4. 어느 뽑기 기계에서 20번 뽑기를 했더니 그 중 5개는 미니카였다. 해당 뽑기 기계에 있는 장난감들 중 미니카의 비율을 P라고 한다면, 모비율 P에 대한 95% 신뢰구간을 구하시오."
   ]
  },
  {
   "cell_type": "code",
   "execution_count": 524,
   "metadata": {},
   "outputs": [
    {
     "data": {
      "text/plain": [
       "(0.06, 0.44)"
      ]
     },
     "execution_count": 524,
     "metadata": {},
     "output_type": "execute_result"
    }
   ],
   "source": [
    "# 표본비율로 모비율의 신뢰구간을 구하는 문제이다.\n",
    "p = 5/20\n",
    "n = 20\n",
    "\n",
    "from scipy.stats import norm\n",
    "SE = np.sqrt(p*(1-p)/n)\n",
    "conf_a = 1-0.95\n",
    "conf_z = norm.ppf(1-conf_a/2)\n",
    "ME = conf_z * SE\n",
    "round(p-ME, 3), round(p+ME, 3)"
   ]
  },
  {
   "cell_type": "markdown",
   "metadata": {},
   "source": [
    "### 5. A 국가의 성인 남성의 흡연율이 35%라고 발표하였으나 B는 그것보다 더 높은 수치를 예상했다. 이에 성인 남성 중 450명을 임의 추출하여 조사한 결과 180명이 흡연자인 것을 확인하였다. 이에 대하여 귀무가설과 연구가설을 세우고, 검정통계량을 계산하여 검정 결과를 서술하시오. (유의수준 0.05)"
   ]
  },
  {
   "cell_type": "code",
   "execution_count": 526,
   "metadata": {},
   "outputs": [
    {
     "name": "stdout",
     "output_type": "stream",
     "text": [
      "1. 유의수준 0.050와 유의확률 0.013를 비교\n",
      "2. 임곗값 1.645와 검정통계량 2.224를 비교\n"
     ]
    }
   ],
   "source": [
    "# 모비율의 가설검정 문제\n",
    "p0 = 0.35\n",
    "n = 450\n",
    "x = 180\n",
    "p = x / n\n",
    "test_a = 0.05\n",
    "# 귀무가설: 성인 남성의 흡연율은 35%와 차이가 없다.\n",
    "# 대립가설: 성인 남성의 흡연율은 35%보다 높다.\n",
    "from scipy.stats import norm\n",
    "SE = np.sqrt(p0*(1-p0) / n) #귀무가설의 모비율로 SE 계산\n",
    "zstat = (p-p0)/SE\n",
    "sp = 1-norm.cdf(zstat) #one-right\n",
    "cv = norm.ppf(1-test_a) #one-right\n",
    "print(\"1. 유의수준 {:.3f}와 유의확률 {:.3f}를 비교\".format(test_a, sp))\n",
    "print(\"2. 임곗값 {:.3f}와 검정통계량 {:.3f}를 비교\".format(cv, zstat))\n",
    "# 검정통계량의 유의확률이 유의수준인 0.05보다 작기 때문에 귀무가설을 기각할 수 있다.\n",
    "# 즉, 성인 남성의 흡연율은 35%보다 높다."
   ]
  },
  {
   "cell_type": "markdown",
   "metadata": {},
   "source": [
    "### 6. 모평균을 모르는 상황에서 표본의 정보를 통해 모분산이 10인지 아닌지 여부를 검정하고자 한다. 50개의 표본을 임의로 추출하여 계산한 결과 표본의 분산은 8.8로 나타났다. 이에 대해 귀무가설과 대립가설을 세우고, 검정통계량을 계산하여 검정 결과를 서술하시오. (유의수준 0.05)"
   ]
  },
  {
   "cell_type": "code",
   "execution_count": 527,
   "metadata": {},
   "outputs": [
    {
     "name": "stdout",
     "output_type": "stream",
     "text": [
      "1. 유의수준 0.050와 유의확률 0.581를 비교\n",
      "2. 임곗값 31.555, 70.222와 검정통계량 43.120를 비교\n"
     ]
    }
   ],
   "source": [
    "# 모분산의 가설검정 문제\n",
    "n = 50\n",
    "df = n-1\n",
    "v = 8.8\n",
    "v0 = 10\n",
    "test_a = 0.05\n",
    "# 귀무가설: 모분산은 10과 차이가 없다.\n",
    "# 대립가설: 모분산은 10과 차이가 있다.\n",
    "cstat = df *v / v0\n",
    "if chi2.cdf(cstat, df) < 0.5:\n",
    "    sp = (chi2.cdf(cstat, df))*2\n",
    "else:\n",
    "    sp = (1-chi2.cdf(cstat, df))*2\n",
    "cv1 = chi2.ppf(test_a/2, df)\n",
    "cv2 = chi2.ppf(1-test_a/2, df)\n",
    "print(\"1. 유의수준 {:.3f}와 유의확률 {:.3f}를 비교\".format(test_a, sp))\n",
    "print(\"2. 임곗값 {:.3f}, {:.3f}와 검정통계량 {:.3f}를 비교\".format(cv1,cv2, cstat))\n",
    "# 검정통계량의 유의확률이 유의수준인 0.05보다 크기 때문에 귀무가설을 기각할 수 없다.\n",
    "# 즉, 모분산은 10과 차이가 없다."
   ]
  },
  {
   "cell_type": "markdown",
   "metadata": {},
   "source": [
    "### 7. 50명의 당뇨 환자에 대해 신약 투약 이전과 이후의 평균 혈당 차이가 15, 표준편차 4일 때 투약 전후 평균 혈당의 차이가 존재하는지 확인하고자 한다. 이에 대해 귀무가설과 연구가설을 제시하고, 검정통계량과 유의확률을 구하여 검정 결과를 서술하시오. (유의수준 0.05)"
   ]
  },
  {
   "cell_type": "code",
   "execution_count": 531,
   "metadata": {},
   "outputs": [
    {
     "name": "stdout",
     "output_type": "stream",
     "text": [
      "1. 유의수준 0.050와 유의확률 0.000를 비교\n",
      "2. 임곗값 +/- 2.010와 검정통계량 26.517를 비교\n"
     ]
    }
   ],
   "source": [
    "# 대응표본 t검정 문제\n",
    "n = 50\n",
    "df = n-1\n",
    "d_mean = 15\n",
    "s = 4\n",
    "test_a = 0.05\n",
    "# 귀무가설: 혈압약 투약 전후의 평균 혈압 차이가 없다.\n",
    "# 대립가설: 혈압약 투약 전후의 평균 혈압 차이가 있다.\n",
    "from scipy.stats import t\n",
    "import numpy as np\n",
    "d0 = 0\n",
    "SE = s / np.sqrt(n)\n",
    "tstat = (d_mean - d0) / SE\n",
    "sp = (1-t.cdf(np.abs(tstat), df))*2 # two-way\n",
    "cv = t.ppf(1-test_a/2, df)\n",
    "cv = \"+/- {:.3f}\".format(cv)\n",
    "print(\"1. 유의수준 {:.3f}와 유의확률 {:.3f}를 비교\".format(test_a, sp))\n",
    "print(\"2. 임곗값 {}와 검정통계량 {:.3f}를 비교\".format(cv, tstat))\n",
    "# 검정통계량의 유의확률이 유의수준인 0.05보다 작기 때문에 귀무가설을 기각할 수 있다.\n",
    "# 즉, 혈압약 투약 전후의 평균 혈압 차이가 있다."
   ]
  },
  {
   "cell_type": "markdown",
   "metadata": {},
   "source": [
    "### 8. 가수 A에 대한 호감도가 남녀별로 다른지 알아보고자 다음과 같은 데이터를 얻었다. 남녀 별로 지지율에 차이가 있는지 검정하시오. (유의수준 0.05)\n",
    "[남성 (총 100명) 30% 호감    |    여성 (총 180명) 35% 호감]"
   ]
  },
  {
   "cell_type": "code",
   "execution_count": 532,
   "metadata": {},
   "outputs": [
    {
     "name": "stdout",
     "output_type": "stream",
     "text": [
      "검정통계량 -0.851, 유의확률 0.395\n"
     ]
    }
   ],
   "source": [
    "# 모비율 차이의 가설검정 문제\n",
    "## 카이제곱분포를 활용한 동질성 검정으로 진행해도 무방\n",
    "n1 = 100\n",
    "p1 = 0.3\n",
    "n2 = 180\n",
    "p2 = 0.35\n",
    "d = p1 - p2\n",
    "test_a = 0.05\n",
    "# 귀무가설: 남녀 지지율은 차이가 없다, 대립가설: 남녀 지지율은 차이가 있다\n",
    "from scipy.stats import norm\n",
    "d0 = 0\n",
    "pe = (n1*p1 + n2*p2) / (n1+n2) #pooled estimate (합동비율)\n",
    "SE = np.sqrt(pe*(1-pe)*(1/n1 + 1/n2))\n",
    "zstat = d / SE\n",
    "sp = (1-norm.cdf(np.abs(zstat)))*2\n",
    "print(\"검정통계량 {:.3f}, 유의확률 {:.3f}\".format(zstat, sp))\n",
    "# 검정통계량의 유의확률이 유의수준인 0.05보다 크기 때문에 귀무가설을 기각할 수 없다.\n",
    "# 즉, 남녀 지지율은 차이가 없다."
   ]
  },
  {
   "cell_type": "markdown",
   "metadata": {},
   "source": [
    "### 9. A 브랜드의 제품 14개를 추출하여 구한 평균과 표준편차는 각각 100g, 5g이고, B 브랜드의 제품 12개를 추출하여 구한 평균과 표준편차는 각각 110g, 6g이라면, 두 제품의 평균이 차이가 있는지 여부를 검정하시오. (유의수준 0.05)"
   ]
  },
  {
   "cell_type": "code",
   "execution_count": 533,
   "metadata": {},
   "outputs": [
    {
     "name": "stdout",
     "output_type": "stream",
     "text": [
      "검정통계량 -4.571, 유의확률 0.000\n"
     ]
    }
   ],
   "source": [
    "# 모분산이 다른 독립표본 t검정 문제\n",
    "x1 = 100\n",
    "s1 = 5\n",
    "x2 = 110\n",
    "s2 = 6\n",
    "n1 = 14\n",
    "n2 = 12\n",
    "test_a = 0.05\n",
    "\n",
    "# 귀무가설: 두 제품의 평균은 차이가 없다, 대립가설: 두 제품의 평균은 차이가 있다.\n",
    "from scipy.stats import t\n",
    "d0 = 0\n",
    "d = x1 - x2\n",
    "df = ((s1**2)/n1 + (s2**2)/n2)**2 / (1/(n1-1)*((s1**2)/n1)**2 + 1/(n2-1)*((s2**2/n2)**2))\n",
    "SE = np.sqrt(s1**2/n1 + s2**2/n2)\n",
    "tstat = (x1-x2-d0)/SE\n",
    "sp = (1-t.cdf(np.abs(tstat), df))*2 # two-way\n",
    "print(\"검정통계량 {:.3f}, 유의확률 {:.3f}\".format(tstat, sp))\n",
    "# 검정통계량의 유의확률이 유의수준인 0.05보다 작기 때문에 귀무가설을 기각할 수 있다.\n",
    "# 즉, 두 제품의 평균은 차이가 있다."
   ]
  },
  {
   "cell_type": "markdown",
   "metadata": {},
   "source": [
    "### 10. iris target별로 sepal length의 평균에 차이가 있는지 가설검정하시오. 차이가 있다면 어느 target들 사이에 평균 차이가 있는지 사후 검정하시오."
   ]
  },
  {
   "cell_type": "code",
   "execution_count": 22,
   "metadata": {
    "tags": []
   },
   "outputs": [
    {
     "name": "stdout",
     "output_type": "stream",
     "text": [
      "   sepallength  sepalwidth  petallength  petalwidth  target\n",
      "0          5.1         3.5          1.4         0.2  setosa\n",
      "1          4.9         3.0          1.4         0.2  setosa\n",
      "2          4.7         3.2          1.3         0.2  setosa\n"
     ]
    }
   ],
   "source": [
    "from sklearn.datasets import load_iris\n",
    "from pandas import DataFrame\n",
    "import numpy as np\n",
    "load = load_iris()\n",
    "feature_names = list(map(lambda x: x.replace(\"(cm)\", \"\").replace(' ', ''), load['feature_names']))\n",
    "data = DataFrame(np.c_[load['data'], load['target']], columns = feature_names+['target'])\n",
    "data['target'] = data['target'].map({0:load['target_names'][0], 1:load['target_names'][1], 2:load['target_names'][2]})\n",
    "print(data.head(3))"
   ]
  },
  {
   "cell_type": "code",
   "execution_count": 24,
   "metadata": {},
   "outputs": [
    {
     "name": "stdout",
     "output_type": "stream",
     "text": [
      "검정통계량 138.908, 유의확률 0.000\n",
      "ANOVA table:\n",
      "              df  sum_sq  mean_sq        F  PR(>F)\n",
      "C(target)    2.0  63.212   31.606  119.265     0.0\n",
      "Residual   147.0  38.956    0.265      NaN     NaN\n"
     ]
    }
   ],
   "source": [
    "# 귀무가설: target 수준들 간 데이터의 sepal length는 차이가 없다\n",
    "# 대립가설: 적어도 한쌍의 수준들 간 데이터의 sepal length 평균은 차이가 있다. \n",
    "## 정규성 만족하지만, 등분산성 만족하지 않아서 use_var='unequal'로 분석\n",
    "from statsmodels.stats.oneway import anova_oneway\n",
    "oa = anova_oneway(data=data['sepallength'], groups = data['target'], use_var='unequal')\n",
    "print(\"검정통계량 {:.3f}, 유의확률 {:.3f}\".format(oa.statistic, oa.pvalue))\n",
    "\n",
    "from statsmodels.formula.api import ols\n",
    "from statsmodels.stats.anova import anova_lm\n",
    "model = ols('sepallength ~ C(target)', data=data).fit()\n",
    "print(\"ANOVA table:\")\n",
    "print(anova_lm(model).round(3))\n",
    "# 검정통계량의 유의확률이 유의수준인 0.05보다 크작기 때문에 귀무가설을 기각할 수 있다.\n",
    "# 즉, 적어도 한쌍의 수준들 간 데이터의 sepal length 평균은 차이가 있다."
   ]
  },
  {
   "cell_type": "code",
   "execution_count": 30,
   "metadata": {},
   "outputs": [
    {
     "name": "stdout",
     "output_type": "stream",
     "text": [
      "            A           B  mean(A)  mean(B)   diff        se          T  \\\n",
      "0      setosa  versicolor    5.006    5.936 -0.930  0.088395 -10.520986   \n",
      "1      setosa   virginica    5.006    6.588 -1.582  0.102819 -15.386196   \n",
      "2  versicolor   virginica    5.936    6.588 -0.652  0.115825  -5.629165   \n",
      "\n",
      "          df   pval    hedges  \n",
      "0  86.538002  0.001 -2.088053  \n",
      "1  76.515867  0.001 -3.053629  \n",
      "2  94.025486  0.001 -1.117195  \n"
     ]
    }
   ],
   "source": [
    "# 사후검정- GamesHowell로 진행\n",
    "from pingouin import pairwise_gameshowell\n",
    "gw = pairwise_gameshowell(dv='sepallength', between='target', data=data)\n",
    "print(gw)\n",
    "## 모든 수준 쌍들의 평균 간에 차이가 있는 것으로 확인하였다. (pval < 0.05)"
   ]
  },
  {
   "cell_type": "markdown",
   "metadata": {},
   "source": [
    "### >>> 비모수 검정"
   ]
  },
  {
   "cell_type": "markdown",
   "metadata": {},
   "source": [
    "### 1. 아래 그래프는 A,B,C 동별 입주민의 주민대표 찬반 투표 결과를 나타낸다. 동별 찬반 비율이 동일한지 귀무가설과 대립가설을 설정하고, 검정통계량을 계산하여 검정하시오. (유의수준 0.05)\n",
    "|구분|A|B|C|\n",
    "|:-:|:-:|:-:|:-:|\n",
    "|찬성|50|60|65|\n",
    "|반대|45|32|55|"
   ]
  },
  {
   "cell_type": "code",
   "execution_count": 61,
   "metadata": {},
   "outputs": [
    {
     "name": "stdout",
     "output_type": "stream",
     "text": [
      "     A   B   C\n",
      "구분            \n",
      "찬성  50  60  65\n",
      "반대  45  32  55\n",
      "검정통계량 3.667, p-value 0.160\n"
     ]
    }
   ],
   "source": [
    "## 동질성 검정\n",
    "# 귀무가설: 동별 찬반 비율은 차이가 없다\n",
    "# 대립가설: 적어도 한쌍의 동의 찬반 비율은 차이가 있다\n",
    "from pandas import DataFrame\n",
    "table = DataFrame({\"구분\":['찬성', '반대'], 'A':[50, 45], 'B':[60, 32], 'C':[65, 55]}).set_index('구분')\n",
    "print(table)\n",
    "\n",
    "from scipy.stats import chi2_contingency\n",
    "chistat, p, df, expec = chi2_contingency(table, correction=False)\n",
    "print(\"검정통계량 {:.3f}, p-value {:.3f}\".format(chistat, p))\n",
    "# 유의확률이 유의수준 0.05보다 크기 때문에 귀무가설을 기각할 수 없다.\n",
    "# 즉, 동별 찬반 비율은 차이가 없다"
   ]
  },
  {
   "cell_type": "markdown",
   "metadata": {},
   "source": [
    "### 2. 특정 캠페인에 노출되기 전과 후의 캠페인 주제에 대한 지지 여부를 기록한 데이터이다. 캠페인 전후의 지지 비율이 차이가 있는지 귀무가설과 대립가설을 설정하고, 검정통계량을 계산하여 검정하시오. (유의수준 0.05)"
   ]
  },
  {
   "cell_type": "code",
   "execution_count": 70,
   "metadata": {
    "tags": []
   },
   "outputs": [
    {
     "name": "stdout",
     "output_type": "stream",
     "text": [
      "        0  1  2  3  4\n",
      "before  1  1  1  0  1\n",
      "after   0  1  1  1  0\n"
     ]
    }
   ],
   "source": [
    "from pandas import read_csv\n",
    "data = read_csv('https://raw.githubusercontent.com/algoboni/pythoncodebook1-1/main/practice6_ba.csv', index_col=0)\n",
    "print(data.head(5).T)"
   ]
  },
  {
   "cell_type": "code",
   "execution_count": 71,
   "metadata": {},
   "outputs": [
    {
     "name": "stdout",
     "output_type": "stream",
     "text": [
      "after   0   1\n",
      "before       \n",
      "0       4  12\n",
      "1       9   6\n",
      "검정통계량 0.429, p-value 0.513\n"
     ]
    }
   ],
   "source": [
    "## 맥니마르 검정\n",
    "# 귀무가설: 캠페인 전후 지지 비율은 차이가 없다.\n",
    "# 대립가설: 캠페인 전후 지지지 비율은 차이가 있다.\n",
    "from pandas import read_csv, crosstab\n",
    "table = crosstab(data['before'], data['after'])\n",
    "print(table)\n",
    "from statsmodels.stats.contingency_tables import mcnemar\n",
    "mc = mcnemar(table, exact=False, correction=False) #correction=False: 카이제곱분포 사용\n",
    "print(\"검정통계량 {:.3f}, p-value {:.3f}\".format(mc.statistic, mc.pvalue))\n",
    "## 유의확률이 유의수준 0.05보다 크기 때문에 귀무가설을 기각할 수 없다.\n",
    "# 즉, 캠페인 전후 지지 비율은 차이가 없다."
   ]
  },
  {
   "cell_type": "markdown",
   "metadata": {},
   "source": [
    "### 3. 다음의 T와 F가 무작위로 나열되어 있다고 볼 수 있는지 귀무가설과 대립가설을 설정하고, 검정통계량을 계산하여 검정하시오. (유의수준 0.05)"
   ]
  },
  {
   "cell_type": "code",
   "execution_count": 72,
   "metadata": {},
   "outputs": [
    {
     "name": "stdout",
     "output_type": "stream",
     "text": [
      "검정통계량 2.187, p-value 0.029\n"
     ]
    }
   ],
   "source": [
    "## 런검정\n",
    "# 귀무가설: T와 F는 무작위로 나열되었다.\n",
    "# 연구가설: T와 F는 무작위로 나열되지 않았다.\n",
    "TFlist = ['T','F','F','T','F','T','F','T','T','F','F','T','F','T','F','T','F','T']\n",
    "from statsmodels.sandbox.stats.runs import runstest_1samp\n",
    "data = list(map(lambda x: 0 if x =='F' else 1, TFlist))\n",
    "zstat, p = runstest_1samp(data)\n",
    "print(\"검정통계량 {:.3f}, p-value {:.3f}\".format(zstat, p))\n",
    "## 유의확률이 유의수준 0.05보다 작기 때문에 귀무가설을 기각할 수 있다.\n",
    "# 즉, T와 F는 무작위로 나열되지 않았다."
   ]
  },
  {
   "cell_type": "markdown",
   "metadata": {},
   "source": [
    "### 4. 20대보다 30대가 기대하는 연봉상승률이 더 높다는 주장이 있다. 이 주장이 타당한지를 확인해보기 위해서 20대 10명과 30대 8명을 임의로 추출하여 기대하는 연봉상승률을 다음과 같이 정리하였다. 이 주장을 검정하기 위한 귀무가설과 대립가설을 설정하고, 검정통계량을 계산하여 검정하시오. (유의수준 0.05)"
   ]
  },
  {
   "cell_type": "code",
   "execution_count": 28,
   "metadata": {},
   "outputs": [
    {
     "name": "stdout",
     "output_type": "stream",
     "text": [
      "순위합 검정통계량 69.5 or 101.5\n",
      "만위트니 검정통계량 14.5 or 65.5\n",
      "검정통계량 14.5, p-value 0.013\n"
     ]
    }
   ],
   "source": [
    "## 윌콕슨 순위합 검정 (만위트니 검정)\n",
    "# 귀무가설: 20대와 30대가 기대하는 연봉상승률은 차이가 없다.\n",
    "# 대립가설: 20대가 기대하는 연봉상승률은 30대가 기대하는 연봉상승률보다 더 낮다.\n",
    "A = [3.0, 3.5, 2.0, 2.8, 5.0, 0, 2.3, 2.8, 3.3, 3.5] #20대\n",
    "B = [3.5, 5.5, 5.0, 5.0, 10.0, 8.0, 2.5, 3.0 ] #30대\n",
    "import numpy as np\n",
    "n1, n2 = len(A), len(B)\n",
    "M1, M2 = np.median(A), np.median(B)\n",
    "from pandas import DataFrame, concat\n",
    "table1 = DataFrame(A, columns = ['data'])\n",
    "table1['M'] = M1\n",
    "table2 = DataFrame(B, columns = ['data'])\n",
    "table2['M'] = M2\n",
    "table = concat([table1, table2])\n",
    "table['rank'] = table['data'].rank(method='average') # 순위합 계산표\n",
    "W1 = table.query(\"M==@M1\")['rank'].sum()\n",
    "W2 = table.query(\"M==@M2\")['rank'].sum()\n",
    "U1 = W1 - n1*(n1+1)/2\n",
    "U2 = W2 - n2*(n2+1)/2\n",
    "print(\"순위합 검정통계량 {} or {}\".format(W1, W2))\n",
    "print(\"만위트니 검정통계량 {} or {}\".format(U1, U2))\n",
    "\n",
    "from scipy.stats import ranksums, mannwhitneyu\n",
    "zstat, p1 = ranksums(A, B)\n",
    "mstat, p = mannwhitneyu(A, B, alternative='less')\n",
    "print(\"검정통계량 {:.1f}, p-value {:.3f}\".format(mstat, p))\n",
    "## 유의확률이 유의수준보다 작으므로 귀무가설을 기각할 수 있다.\n",
    "# 20대가 기대하는 연봉상승률은 30대가 기대하는 연봉상승률보다 더 낮다."
   ]
  },
  {
   "cell_type": "markdown",
   "metadata": {},
   "source": [
    "### 5. 양식, 한식, 중식에 대해 5명의 선호도를 나타내는 표이다. 선호하지 않는다를 1, 보통이다를 2, 선호한다를 3으로 응답하였다. 음식 종류에 따라 선호도 차이가 있는지 귀무가설과 대립가설을 설정하고, 검정통계량을 계산하여 검정하시오. (유의수준 0.05)"
   ]
  },
  {
   "cell_type": "code",
   "execution_count": 30,
   "metadata": {},
   "outputs": [
    {
     "name": "stdout",
     "output_type": "stream",
     "text": [
      "검정통계량 2.667, p-value 0.264\n"
     ]
    }
   ],
   "source": [
    "## 프리드먼 검정\n",
    "# 귀무가설: 음식 종류에 대한 선호도는 차이가 없다.\n",
    "# 연구가설: 적어도 한쌍의 음식 종류에 대한 선호도는 차이가 있다.\n",
    "\n",
    "W = [1,3,1,3,1]\n",
    "K = [1,3,3,1,1]\n",
    "C = [2,3,3,3,1]\n",
    "\n",
    "from scipy.stats import friedmanchisquare\n",
    "fstat, p = friedmanchisquare(W, K, C)\n",
    "print(\"검정통계량 {:.3f}, p-value {:.3f}\".format(fstat, p))\n",
    "## 유의확률이 유의수준 0.05보다 크기 때문에 귀무가설을 기각할 수 없다.\n",
    "# 즉, 음식 종류에 대한 선호도는 차이가 없다."
   ]
  },
  {
   "cell_type": "markdown",
   "metadata": {},
   "source": [
    "### 6. A, B, C 지역 학생들의 키가 차이가 있는지 검정하기 위한 귀무가설과 대립가설을 설정하고, 검정통계량을 계산하여 검정하시오. (유의수준 0.05)"
   ]
  },
  {
   "cell_type": "code",
   "execution_count": 47,
   "metadata": {},
   "outputs": [
    {
     "name": "stdout",
     "output_type": "stream",
     "text": [
      "검정통계량 1.331, p-value 0.514\n"
     ]
    }
   ],
   "source": [
    "## 크루스컬 월리스 검정\n",
    "# 귀무가설: 세 지역 학생들의 키는 차이가 없다.\n",
    "# 대립가설: 적어도 한쌍의 지역 학생들의 키는 차이가 있다.\n",
    "\n",
    "A = [177, 167, 188, 189, 152, 159, 184, 175]\n",
    "B = [151, 177, 150, 187, 167, 166, 179, 161, 174]\n",
    "C = [173, 151, 156, 182, 188, 175, 150, 165, 176, 183]\n",
    "\n",
    "from scipy.stats import kruskal\n",
    "kstat, p = kruskal(A, B, C)\n",
    "print(\"검정통계량 {:.3f}, p-value {:.3f}\".format(kstat, p))\n",
    "# 유의확률이 유의수준보다 높으므로 귀무가설을 기각할 수 없다.\n",
    "# 즉, 세 지역 학생들의 키는 차이가 없다."
   ]
  },
  {
   "cell_type": "markdown",
   "metadata": {},
   "source": [
    "## [기출문제]\n",
    "- ADP 29회 기출 (https://www.datamanim.com/dataset/ADPpb/00/29.html)"
   ]
  },
  {
   "cell_type": "markdown",
   "metadata": {},
   "source": [
    "### 1. 제품 A의 불량률은 0.03이다. 25개의 제품을 뽑았을 때 3개가 불량일 확률을 구하시오. (소수점 다섯 째 자리에서 반올림)"
   ]
  },
  {
   "cell_type": "code",
   "execution_count": 1,
   "metadata": {},
   "outputs": [
    {
     "name": "stdout",
     "output_type": "stream",
     "text": [
      "[라이브러리 계산] 0.0318\n"
     ]
    }
   ],
   "source": [
    "# 이항분포, 확률질량함수 문제\n",
    "p = 0.03\n",
    "n = 25\n",
    "x = 3\n",
    "\n",
    "from scipy.stats import binom\n",
    "print(\"{:.4f}\".format(binom.pmf(x, n, p)))"
   ]
  },
  {
   "cell_type": "markdown",
   "metadata": {},
   "source": [
    "### 2. C사 생산 제품 1000개 중 양품이 600개, D사 생산 제품 500개 중 양품이 200개 이다. 두 회사의 양품률에 차이가 있는지 검정하여라."
   ]
  },
  {
   "cell_type": "code",
   "execution_count": 4,
   "metadata": {},
   "outputs": [
    {
     "name": "stdout",
     "output_type": "stream",
     "text": [
      "검정통계량 7.319, 유의확률 0.000\n"
     ]
    }
   ],
   "source": [
    "# 두 모비율 차이의 검정\n",
    "x1 = 600\n",
    "n1 = 1000\n",
    "p1 = x1/n1\n",
    "x2 = 200\n",
    "n2 = 500\n",
    "p2 = x2/n2\n",
    "\n",
    "d = p1 - p2\n",
    "test_a = 0.05\n",
    "# 귀무가설: 두 양품률은 차이가 없다, 대립가설: 두 양품률은 차이가 있다\n",
    "from scipy.stats import norm\n",
    "import numpy as np\n",
    "d0 = 0\n",
    "pe = (n1*p1 + n2*p2) / (n1+n2) #pooled estimate (합동비율)\n",
    "SE = np.sqrt(pe*(1-pe)*(1/n1 + 1/n2))\n",
    "zstat = d / SE\n",
    "sp = (1-norm.cdf(np.abs(zstat)))*2\n",
    "print(\"검정통계량 {:.3f}, 유의확률 {:.3f}\".format(zstat, sp))\n",
    "# 검정통계량의 유의확률이 유의수준인 0.05보다 작기 때문에 귀무가설을 기각할 수 있다.\n",
    "# 즉, 두 양품률은 차이가 있다"
   ]
  },
  {
   "cell_type": "markdown",
   "metadata": {},
   "source": [
    "### 3-1. 각 차종 별 범퍼 파손의 정도에 차이가 유의한지 검정하라.\n",
    "- 데이터 설명 : 아래 데이터는 a,b,c,d 네 차종 각각 5회 실험 시 범퍼 파손 정도 이다. (단, 각 모집단은 정규분포를 따르며 모집단 간 등분산성을 가정한다.)"
   ]
  },
  {
   "cell_type": "code",
   "execution_count": 15,
   "metadata": {},
   "outputs": [
    {
     "data": {
      "text/html": [
       "<div>\n",
       "<style scoped>\n",
       "    .dataframe tbody tr th:only-of-type {\n",
       "        vertical-align: middle;\n",
       "    }\n",
       "\n",
       "    .dataframe tbody tr th {\n",
       "        vertical-align: top;\n",
       "    }\n",
       "\n",
       "    .dataframe thead th {\n",
       "        text-align: right;\n",
       "    }\n",
       "</style>\n",
       "<table border=\"1\" class=\"dataframe\">\n",
       "  <thead>\n",
       "    <tr style=\"text-align: right;\">\n",
       "      <th></th>\n",
       "      <th>name</th>\n",
       "      <th>ratio</th>\n",
       "    </tr>\n",
       "  </thead>\n",
       "  <tbody>\n",
       "    <tr>\n",
       "      <th>0</th>\n",
       "      <td>A</td>\n",
       "      <td>10.993428</td>\n",
       "    </tr>\n",
       "    <tr>\n",
       "      <th>1</th>\n",
       "      <td>A</td>\n",
       "      <td>9.723471</td>\n",
       "    </tr>\n",
       "    <tr>\n",
       "      <th>2</th>\n",
       "      <td>A</td>\n",
       "      <td>11.295377</td>\n",
       "    </tr>\n",
       "    <tr>\n",
       "      <th>3</th>\n",
       "      <td>A</td>\n",
       "      <td>13.046060</td>\n",
       "    </tr>\n",
       "    <tr>\n",
       "      <th>4</th>\n",
       "      <td>A</td>\n",
       "      <td>9.531693</td>\n",
       "    </tr>\n",
       "  </tbody>\n",
       "</table>\n",
       "</div>"
      ],
      "text/plain": [
       "  name      ratio\n",
       "0    A  10.993428\n",
       "1    A   9.723471\n",
       "2    A  11.295377\n",
       "3    A  13.046060\n",
       "4    A   9.531693"
      ]
     },
     "execution_count": 15,
     "metadata": {},
     "output_type": "execute_result"
    }
   ],
   "source": [
    "# 일원배치 분산분석 문제\n",
    "import pandas as pd\n",
    "df = pd.read_csv('https://raw.githubusercontent.com/Datamanim/datarepo/main/adp/29/p7.csv')\n",
    "df.head()"
   ]
  },
  {
   "cell_type": "code",
   "execution_count": 16,
   "metadata": {},
   "outputs": [
    {
     "name": "stdout",
     "output_type": "stream",
     "text": [
      "검정통계량 24.977, 유의확률 0.000\n"
     ]
    }
   ],
   "source": [
    "# 귀무가설: 차종 별 범퍼 파손 정도의 차이가 유의하지 않다\n",
    "# 대립가설: 차종 별 범퍼 파손 정도의 차이가 유의하다\n",
    "from statsmodels.stats.oneway import anova_oneway\n",
    "oa = anova_oneway(data=df['ratio'], groups = df['name'], use_var='equal')\n",
    "print(\"검정통계량 {:.3f}, 유의확률 {:.3f}\".format(oa.statistic, oa.pvalue))\n",
    "# 유의확률이 0.05보다 낮기 때문에 귀무가설을 기각할 수 있다.\n",
    "# 즉, 차종 별 범퍼 파손 정도의 차이가 유의하다"
   ]
  },
  {
   "cell_type": "markdown",
   "metadata": {},
   "source": [
    "### 3-2. 귀무가설을 채택한다면 그 의미를 해석하고, 귀무가설을 기각하였다면 사후분석을 시행하라."
   ]
  },
  {
   "cell_type": "code",
   "execution_count": 17,
   "metadata": {},
   "outputs": [
    {
     "name": "stdout",
     "output_type": "stream",
     "text": [
      " Multiple Comparison of Means - Tukey HSD, FWER=0.05 \n",
      "=====================================================\n",
      "group1 group2 meandiff p-adj   lower    upper  reject\n",
      "-----------------------------------------------------\n",
      "     A      B   5.3934  0.001   2.1782  8.6085   True\n",
      "     A      C  -4.2156 0.0085  -7.4308 -1.0005   True\n",
      "     A      D  -0.7086    0.9  -3.9238  2.5065  False\n",
      "     B      C   -9.609  0.001 -12.8241 -6.3938   True\n",
      "     B      D   -6.102  0.001  -9.3171 -2.8868   True\n",
      "     C      D    3.507 0.0302   0.2919  6.7222   True\n",
      "-----------------------------------------------------\n"
     ]
    },
    {
     "name": "stderr",
     "output_type": "stream",
     "text": [
      "/Library/Frameworks/Python.framework/Versions/3.8/lib/python3.8/site-packages/statsmodels/sandbox/stats/multicomp.py:775: UserWarning: FixedFormatter should only be used together with FixedLocator\n",
      "  ax1.set_yticklabels(np.insert(self.groupsunique.astype(str), 0, ''))\n"
     ]
    },
    {
     "data": {
      "image/png": "[encoded data removed]",
      "text/plain": [
       "<Figure size 720x432 with 1 Axes>"
      ]
     },
     "metadata": {
      "needs_background": "light"
     },
     "output_type": "display_data"
    }
   ],
   "source": [
    "# Tukey HSD 방법으로 사후분석을 시행하여, 어느 차종 간에 범퍼 파손의 차이가 유의한지 확인하고자 한다.\n",
    "from statsmodels.sandbox.stats.multicomp import MultiComparison\n",
    "mc = MultiComparison(data = df['ratio'], groups = df['name']).tukeyhsd(alpha=0.05)\n",
    "print(mc)\n",
    "\n",
    "from matplotlib import pyplot as plt\n",
    "mc.plot_simultaneous()\n",
    "plt.show()\n",
    "## A와 D 차종을 제외한 나머지 모든 수준 쌍들의 평균 간에 차이가 있는 것으로 확인하였다."
   ]
  },
  {
   "cell_type": "markdown",
   "metadata": {},
   "source": [
    "### 4. L1,L2,L3 세 개의 생산라인에서 각각 13%, 37%, 50%를 생산하며 각각 1.1% , 2.1%, 3.3% 불량률을 갖는다. 불량 제품이 나왔을 때 L1 라인에서 생산되었을 확률을 구하시오. (소수점 둘째자리에서 반올림)"
   ]
  },
  {
   "cell_type": "code",
   "execution_count": 19,
   "metadata": {},
   "outputs": [
    {
     "data": {
      "text/plain": [
       "0.06"
      ]
     },
     "execution_count": 19,
     "metadata": {},
     "output_type": "execute_result"
    }
   ],
   "source": [
    "# 조건부 확률 문제\n",
    "l1 = 0.13 #P(L1)\n",
    "l2 = 0.37 #P(L2)\n",
    "l3 = 0.5 #P(L3)\n",
    "\n",
    "ng_l1 = 0.011 # P(NG|L1)\n",
    "ng_l2 = 0.021 # P(NG|L2)\n",
    "ng_l3 = 0.033 # P(NG|L3)\n",
    "\n",
    "# P(L1|NG)을 구하는 문제: P(L1 \\cap NG)/P(NG)\n",
    "l1_cap_ng = l1 * ng_l1 # P(L1 \\cap NG)\n",
    "ng = l1 * ng_l1 + l2 * ng_l2 + l3 * ng_l3 # 전확률의 정리: P(NG)\n",
    "l1_ng = l1_cap_ng/ng\n",
    "round(l1_ng, 2)"
   ]
  }
 ],
 "metadata": {
  "kernelspec": {
   "display_name": "Python 3",
   "language": "python",
   "name": "python3"
  },
  "language_info": {
   "codemirror_mode": {
    "name": "ipython",
    "version": 3
   },
   "file_extension": ".py",
   "mimetype": "text/x-python",
   "name": "python",
   "nbconvert_exporter": "python",
   "pygments_lexer": "ipython3",
   "version": "3.7.6"
  }
 },
 "nbformat": 4,
 "nbformat_minor": 5
}
