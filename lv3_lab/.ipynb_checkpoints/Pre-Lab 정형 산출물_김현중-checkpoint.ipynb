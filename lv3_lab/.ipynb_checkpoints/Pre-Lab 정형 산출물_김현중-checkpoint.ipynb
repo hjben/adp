{
 "cells": [
  {
   "cell_type": "markdown",
   "id": "a856d621-d309-4a0d-9348-fd6e627b0aa5",
   "metadata": {},
   "source": [
    "## Import package and data"
   ]
  },
  {
   "cell_type": "code",
   "execution_count": 1,
   "id": "804d26a7-e86a-4900-a192-59db7909fcfc",
   "metadata": {},
   "outputs": [
    {
     "name": "stderr",
     "output_type": "stream",
     "text": [
      "2023-06-26 12:43:18.470893: I tensorflow/core/platform/cpu_feature_guard.cc:193] This TensorFlow binary is optimized with oneAPI Deep Neural Network Library (oneDNN) to use the following CPU instructions in performance-critical operations:  AVX2 FMA\n",
      "To enable them in other operations, rebuild TensorFlow with the appropriate compiler flags.\n"
     ]
    }
   ],
   "source": [
    "import datetime\n",
    "import pandas as pd\n",
    "import numpy as np\n",
    "import matplotlib.pyplot as plt\n",
    "import matplotlib.dates as mdates\n",
    "import seaborn as sns\n",
    "\n",
    "from tqdm import tqdm\n",
    "from itertools import product\n",
    "\n",
    "import warnings\n",
    "warnings.simplefilter(action='ignore')\n",
    "\n",
    "from sklearn.metrics import *\n",
    "from sklearn.ensemble import IsolationForest\n",
    "from sklearn.svm import OneClassSVM\n",
    "from sklearn.preprocessing import RobustScaler\n",
    "\n",
    "from keras.models import Model, load_model, Sequential\n",
    "from keras.layers import Input, Dense, LSTM, Dropout, RepeatVector, TimeDistributed, Conv1D, Conv1DTranspose\n",
    "from keras.backend import clear_session\n",
    "from keras.optimizers import Adam"
   ]
  },
  {
   "cell_type": "markdown",
   "id": "45127fdc-d970-44bc-955f-199f666ca702",
   "metadata": {},
   "source": [
    "## Functions"
   ]
  },
  {
   "cell_type": "code",
   "execution_count": 2,
   "id": "82be0279-d5f6-4f17-b306-6a58c5689638",
   "metadata": {},
   "outputs": [],
   "source": [
    "def convert_string_to_timedelta(string):\n",
    "    # type: (str) -> datetime.timedelta\n",
    "    \"\"\"Convert string to time delta. strptime() does not support time deltas\n",
    "    greater than 24 hours.\n",
    "    :param str string: string representation of time delta\n",
    "    :rtype: datetime.timedelta\n",
    "    :return: time delta\n",
    "    \"\"\"\n",
    "    if not string:\n",
    "        raise ValueError('{} is not a valid timedelta string'.format(string))\n",
    "    \n",
    "    # get days\n",
    "    tmp = string.split('.')\n",
    "    if len(tmp) == 2:\n",
    "        days = int(tmp[0])\n",
    "        tmp = tmp[1]\n",
    "    elif len(tmp) == 1:\n",
    "        days = 0\n",
    "        tmp = tmp[0]\n",
    "    else:\n",
    "        raise ValueError('{} is not a valid timedelta string'.format(string))\n",
    "    # get total seconds\n",
    "    tmp = tmp.split(':')\n",
    "    if len(tmp) != 3:\n",
    "        raise ValueError('{} is not a valid timedelta string'.format(string))\n",
    "    totsec = int(tmp[2]) + int(tmp[1]) * 60 + int(tmp[0]) * 3600\n",
    "        \n",
    "    return datetime.timedelta(days, totsec)\n",
    "\n",
    "### Split by timestamp\n",
    "def get_sub_df(data):\n",
    "    sub_df_list = list()\n",
    "\n",
    "    # time diff 계산\n",
    "    diff_time = data['time'] - data['time'].shift(1)\n",
    "\n",
    "    # time diff가 1시간 이상인 index 추출\n",
    "    big_diff_list = [i for i in diff_time.index if diff_time[i] > convert_string_to_timedelta('00:02:00')]\n",
    "\n",
    "    # time diff index를 바탕으로 sub-dataframe 추출\n",
    "    if len(big_diff_list)==0:\n",
    "        sub_df_list.append(data)\n",
    "    else:\n",
    "        for i, diff_index in enumerate(big_diff_list):                \n",
    "            if i==0:\n",
    "                sub_df_list.append(data.loc[:diff_index-1])\n",
    "            else:\n",
    "                sub_df_list.append(data.loc[big_diff_list[i-1]:diff_index-1])\n",
    "                if i==len(big_diff_list)-1:\n",
    "                    sub_df_list.append(data.loc[diff_index:])\n",
    "                        \n",
    "    return sub_df_list"
   ]
  },
  {
   "cell_type": "code",
   "execution_count": 3,
   "id": "878b59af-0e83-4129-b546-d7124de3bbb3",
   "metadata": {},
   "outputs": [],
   "source": [
    "def biz_score(cm, bv):\n",
    "    return np.sum(cm * bv)"
   ]
  },
  {
   "cell_type": "code",
   "execution_count": 4,
   "id": "4da30203-b32a-4f00-b5e7-0b7dbdff2c15",
   "metadata": {},
   "outputs": [],
   "source": [
    "def get_recon_err(x, x_pred, y):\n",
    "    di = x.shape\n",
    "    if len(di) < 3 :\n",
    "        mse = np.mean(np.power(x - x_pred, 2), axis=1) # 2차원 데이터\n",
    "    else :\n",
    "        mse = np.mean(np.power(x.reshape(x.shape[0], -1) - x_pred.reshape(x_pred.shape[0], -1), 2), axis=1) # 3차원 데이터\n",
    "\n",
    "    error_df = pd.DataFrame({'Recon_error': mse, 'True_class': y})\n",
    "    error_df = error_df.reset_index(drop=True)\n",
    "    \n",
    "    return error_df\n",
    "\n",
    "def recon_err_plot(error_df, threshold=0):\n",
    "    groups = error_df.groupby('True_class')\n",
    "    fig, ax = plt.subplots()\n",
    "    for name, group in groups:\n",
    "        ax.plot(group.index, group.Recon_error, marker='o', ms=3.5, linestyle='',\n",
    "                label= \"Abnormal\" if name == 1 else \"Normal\")\n",
    "    ax.hlines(threshold, ax.get_xlim()[0], ax.get_xlim()[1], colors=\"r\", zorder=100, label='Threshold')\n",
    "    ax.legend()\n",
    "    plt.title(\"Reconstruction error for different classes\")\n",
    "    plt.ylabel(\"Reconstruction error\")\n",
    "    plt.xlabel(\"Data point index\")\n",
    "    plt.show()"
   ]
  },
  {
   "cell_type": "code",
   "execution_count": 5,
   "id": "7238db77-b752-4f24-b59b-65e86a9f2008",
   "metadata": {},
   "outputs": [],
   "source": [
    "def prec_rec_f1_curve(y, score, pos_label=1) :\n",
    "    # precision, recall, f1 계산\n",
    "    precision, recall, thresholds = precision_recall_curve(y, score, pos_label=pos_label)\n",
    "    f1 = 2 / (1/precision + 1/recall)\n",
    "\n",
    "    # 그래프 그리기\n",
    "    plt.figure(figsize = (10,6))\n",
    "    plt.plot(thresholds, np.delete(precision, -1), label = 'precision')\n",
    "    plt.plot(thresholds, np.delete(recall, -1), label = 'recall')\n",
    "    plt.plot(thresholds, np.delete(f1, -1), label = 'f1')\n",
    "\n",
    "    #-------------------------------------------------------------------------\n",
    "    # 아래 코드는 차트 꾸미기 입니다. \n",
    "    # f1를 최대화 해주는 threshold\n",
    "    thre = round(thresholds[np.argmax(f1)],4)\n",
    "    f1s = round(max(f1),4)\n",
    "    plt.axvline(thre , color = 'darkred', linewidth = .7)\n",
    "    plt.axhline( f1s, color = 'darkred', linewidth = .7)\n",
    "    plt.text(thre, .5, thre, color = 'darkred')\n",
    "    plt.text(min(thresholds), f1s, f1s, color = 'darkred')\n",
    "\n",
    "    plt.xlabel('Anomaly Score')\n",
    "    plt.ylabel('Performance')\n",
    "    plt.legend()\n",
    "    plt.grid()\n",
    "    plt.show()\n",
    "\n",
    "    return precision, recall, f1, thresholds"
   ]
  },
  {
   "cell_type": "code",
   "execution_count": 6,
   "id": "4643c757-c73d-40e3-84a8-d9fc5a79ee60",
   "metadata": {},
   "outputs": [],
   "source": [
    "def get_confusion_matrix(y, pred, thresholds):\n",
    "    return confusion_matrix(y, np.where(pred > thresholds, 1, 0))\n",
    "\n",
    "def classification_report_with_cm(y, pred, thresholds):\n",
    "    pred_temp = np.where(pred > thresholds , 1, 0)\n",
    "\n",
    "    print('< confusion matrix >\\n')\n",
    "    print(confusion_matrix(y, pred_temp))\n",
    "    print('\\n' + '='*60 + '\\n')\n",
    "    print('< classification_report >\\n')\n",
    "    print(classification_report(y, pred_temp))"
   ]
  },
  {
   "cell_type": "code",
   "execution_count": 7,
   "id": "b0e44eba-2256-42b1-9f68-4eb546b01de0",
   "metadata": {},
   "outputs": [],
   "source": [
    "## generate data sequence\n",
    "def temporalize(x, y, timestep):\n",
    "    output_X = []\n",
    "    output_y = []\n",
    "    for i in range(len(x) - timestep + 1 ):\n",
    "        t = []\n",
    "        for j in range(timestep):\n",
    "            t.append(x[[(i + j)], :])\n",
    "        output_X.append(t)\n",
    "        output_y.append(y[i + timestep - 1])\n",
    "    return np.squeeze(np.array(output_X)), np.array(output_y)"
   ]
  },
  {
   "cell_type": "markdown",
   "id": "a7b19c9f-436b-43e8-ade3-324a53d07a3c",
   "metadata": {},
   "source": [
    "## Data preprocessing"
   ]
  },
  {
   "cell_type": "code",
   "execution_count": 8,
   "id": "1c5c2a1c-4f08-4d6e-a957-548946bfc417",
   "metadata": {},
   "outputs": [],
   "source": [
    "data = pd.read_csv('./data.csv')"
   ]
  },
  {
   "cell_type": "code",
   "execution_count": 9,
   "id": "b2d3989f-5f6f-4e61-9872-0038e440f447",
   "metadata": {},
   "outputs": [
    {
     "data": {
      "text/html": [
       "<div>\n",
       "<style scoped>\n",
       "    .dataframe tbody tr th:only-of-type {\n",
       "        vertical-align: middle;\n",
       "    }\n",
       "\n",
       "    .dataframe tbody tr th {\n",
       "        vertical-align: top;\n",
       "    }\n",
       "\n",
       "    .dataframe thead th {\n",
       "        text-align: right;\n",
       "    }\n",
       "</style>\n",
       "<table border=\"1\" class=\"dataframe\">\n",
       "  <thead>\n",
       "    <tr style=\"text-align: right;\">\n",
       "      <th></th>\n",
       "      <th>time</th>\n",
       "      <th>y</th>\n",
       "      <th>x1</th>\n",
       "      <th>x2</th>\n",
       "      <th>x3</th>\n",
       "      <th>x4</th>\n",
       "      <th>x5</th>\n",
       "      <th>x6</th>\n",
       "      <th>x7</th>\n",
       "      <th>x8</th>\n",
       "      <th>...</th>\n",
       "      <th>x51</th>\n",
       "      <th>x52</th>\n",
       "      <th>x53</th>\n",
       "      <th>x54</th>\n",
       "      <th>x55</th>\n",
       "      <th>x56</th>\n",
       "      <th>x57</th>\n",
       "      <th>x58</th>\n",
       "      <th>x59</th>\n",
       "      <th>x60</th>\n",
       "    </tr>\n",
       "  </thead>\n",
       "  <tbody>\n",
       "    <tr>\n",
       "      <th>0</th>\n",
       "      <td>1999-05-01 0:00</td>\n",
       "      <td>0</td>\n",
       "      <td>0.376665</td>\n",
       "      <td>-4.596435</td>\n",
       "      <td>-4.095756</td>\n",
       "      <td>13.497687</td>\n",
       "      <td>-0.118830</td>\n",
       "      <td>-20.669883</td>\n",
       "      <td>0.000732</td>\n",
       "      <td>-0.061114</td>\n",
       "      <td>...</td>\n",
       "      <td>29.984624</td>\n",
       "      <td>10.091721</td>\n",
       "      <td>0.053279</td>\n",
       "      <td>-4.936434</td>\n",
       "      <td>-24.590146</td>\n",
       "      <td>18.515436</td>\n",
       "      <td>3.473400</td>\n",
       "      <td>0.033444</td>\n",
       "      <td>0.953219</td>\n",
       "      <td>0.006076</td>\n",
       "    </tr>\n",
       "    <tr>\n",
       "      <th>1</th>\n",
       "      <td>1999-05-01 0:02</td>\n",
       "      <td>0</td>\n",
       "      <td>0.475720</td>\n",
       "      <td>-4.542502</td>\n",
       "      <td>-4.018359</td>\n",
       "      <td>16.230659</td>\n",
       "      <td>-0.128733</td>\n",
       "      <td>-18.758079</td>\n",
       "      <td>0.000732</td>\n",
       "      <td>-0.061114</td>\n",
       "      <td>...</td>\n",
       "      <td>29.984624</td>\n",
       "      <td>10.095871</td>\n",
       "      <td>0.062801</td>\n",
       "      <td>-4.937179</td>\n",
       "      <td>-32.413266</td>\n",
       "      <td>22.760065</td>\n",
       "      <td>2.682933</td>\n",
       "      <td>0.033536</td>\n",
       "      <td>1.090502</td>\n",
       "      <td>0.006083</td>\n",
       "    </tr>\n",
       "    <tr>\n",
       "      <th>2</th>\n",
       "      <td>1999-05-01 0:04</td>\n",
       "      <td>0</td>\n",
       "      <td>0.363848</td>\n",
       "      <td>-4.681394</td>\n",
       "      <td>-4.353147</td>\n",
       "      <td>14.127997</td>\n",
       "      <td>-0.138636</td>\n",
       "      <td>-17.836632</td>\n",
       "      <td>0.010803</td>\n",
       "      <td>-0.061114</td>\n",
       "      <td>...</td>\n",
       "      <td>29.984624</td>\n",
       "      <td>10.100265</td>\n",
       "      <td>0.072322</td>\n",
       "      <td>-4.937924</td>\n",
       "      <td>-34.183774</td>\n",
       "      <td>27.004663</td>\n",
       "      <td>3.537487</td>\n",
       "      <td>0.033629</td>\n",
       "      <td>1.840540</td>\n",
       "      <td>0.006090</td>\n",
       "    </tr>\n",
       "    <tr>\n",
       "      <th>3</th>\n",
       "      <td>1999-05-01 0:06</td>\n",
       "      <td>0</td>\n",
       "      <td>0.301590</td>\n",
       "      <td>-4.758934</td>\n",
       "      <td>-4.023612</td>\n",
       "      <td>13.161566</td>\n",
       "      <td>-0.148142</td>\n",
       "      <td>-18.517601</td>\n",
       "      <td>0.002075</td>\n",
       "      <td>-0.061114</td>\n",
       "      <td>...</td>\n",
       "      <td>29.984624</td>\n",
       "      <td>10.104660</td>\n",
       "      <td>0.081600</td>\n",
       "      <td>-4.938669</td>\n",
       "      <td>-35.954281</td>\n",
       "      <td>21.672449</td>\n",
       "      <td>3.986095</td>\n",
       "      <td>0.033721</td>\n",
       "      <td>2.554880</td>\n",
       "      <td>0.006097</td>\n",
       "    </tr>\n",
       "    <tr>\n",
       "      <th>4</th>\n",
       "      <td>1999-05-01 0:08</td>\n",
       "      <td>0</td>\n",
       "      <td>0.265578</td>\n",
       "      <td>-4.749928</td>\n",
       "      <td>-4.333150</td>\n",
       "      <td>15.267340</td>\n",
       "      <td>-0.155314</td>\n",
       "      <td>-17.505913</td>\n",
       "      <td>0.000732</td>\n",
       "      <td>-0.061114</td>\n",
       "      <td>...</td>\n",
       "      <td>29.984624</td>\n",
       "      <td>10.109054</td>\n",
       "      <td>0.091121</td>\n",
       "      <td>-4.939414</td>\n",
       "      <td>-37.724789</td>\n",
       "      <td>21.907251</td>\n",
       "      <td>3.601573</td>\n",
       "      <td>0.033777</td>\n",
       "      <td>1.410494</td>\n",
       "      <td>0.006105</td>\n",
       "    </tr>\n",
       "    <tr>\n",
       "      <th>...</th>\n",
       "      <td>...</td>\n",
       "      <td>...</td>\n",
       "      <td>...</td>\n",
       "      <td>...</td>\n",
       "      <td>...</td>\n",
       "      <td>...</td>\n",
       "      <td>...</td>\n",
       "      <td>...</td>\n",
       "      <td>...</td>\n",
       "      <td>...</td>\n",
       "      <td>...</td>\n",
       "      <td>...</td>\n",
       "      <td>...</td>\n",
       "      <td>...</td>\n",
       "      <td>...</td>\n",
       "      <td>...</td>\n",
       "      <td>...</td>\n",
       "      <td>...</td>\n",
       "      <td>...</td>\n",
       "      <td>...</td>\n",
       "      <td>...</td>\n",
       "    </tr>\n",
       "    <tr>\n",
       "      <th>12221</th>\n",
       "      <td>1999-05-19 23:50</td>\n",
       "      <td>0</td>\n",
       "      <td>0.016852</td>\n",
       "      <td>-0.641536</td>\n",
       "      <td>-1.912882</td>\n",
       "      <td>18.247992</td>\n",
       "      <td>1.117544</td>\n",
       "      <td>45.026436</td>\n",
       "      <td>-0.069155</td>\n",
       "      <td>0.068894</td>\n",
       "      <td>...</td>\n",
       "      <td>29.984624</td>\n",
       "      <td>-6.724442</td>\n",
       "      <td>6.027645</td>\n",
       "      <td>3.025343</td>\n",
       "      <td>61.960025</td>\n",
       "      <td>23.597223</td>\n",
       "      <td>-2.294605</td>\n",
       "      <td>0.000575</td>\n",
       "      <td>0.156939</td>\n",
       "      <td>-0.002917</td>\n",
       "    </tr>\n",
       "    <tr>\n",
       "      <th>12222</th>\n",
       "      <td>1999-05-19 23:52</td>\n",
       "      <td>0</td>\n",
       "      <td>0.025499</td>\n",
       "      <td>-0.688365</td>\n",
       "      <td>-1.934046</td>\n",
       "      <td>18.341345</td>\n",
       "      <td>1.129537</td>\n",
       "      <td>46.283242</td>\n",
       "      <td>-0.069155</td>\n",
       "      <td>0.068894</td>\n",
       "      <td>...</td>\n",
       "      <td>29.984624</td>\n",
       "      <td>-6.724442</td>\n",
       "      <td>6.022518</td>\n",
       "      <td>3.023128</td>\n",
       "      <td>63.630435</td>\n",
       "      <td>24.057397</td>\n",
       "      <td>-2.895802</td>\n",
       "      <td>0.000652</td>\n",
       "      <td>0.491015</td>\n",
       "      <td>-0.002912</td>\n",
       "    </tr>\n",
       "    <tr>\n",
       "      <th>12223</th>\n",
       "      <td>1999-05-19 23:54</td>\n",
       "      <td>0</td>\n",
       "      <td>0.050728</td>\n",
       "      <td>-0.729739</td>\n",
       "      <td>-1.574569</td>\n",
       "      <td>18.434669</td>\n",
       "      <td>1.141515</td>\n",
       "      <td>46.012886</td>\n",
       "      <td>-0.069155</td>\n",
       "      <td>0.068894</td>\n",
       "      <td>...</td>\n",
       "      <td>29.984624</td>\n",
       "      <td>-6.724442</td>\n",
       "      <td>6.017635</td>\n",
       "      <td>3.020913</td>\n",
       "      <td>67.174869</td>\n",
       "      <td>24.517572</td>\n",
       "      <td>-2.953784</td>\n",
       "      <td>0.000729</td>\n",
       "      <td>1.227152</td>\n",
       "      <td>-0.002906</td>\n",
       "    </tr>\n",
       "    <tr>\n",
       "      <th>12224</th>\n",
       "      <td>1999-05-19 23:56</td>\n",
       "      <td>0</td>\n",
       "      <td>0.082060</td>\n",
       "      <td>-0.934115</td>\n",
       "      <td>-1.398069</td>\n",
       "      <td>18.527991</td>\n",
       "      <td>1.153509</td>\n",
       "      <td>45.557015</td>\n",
       "      <td>-0.069155</td>\n",
       "      <td>0.068894</td>\n",
       "      <td>...</td>\n",
       "      <td>29.984624</td>\n",
       "      <td>-6.724442</td>\n",
       "      <td>6.012508</td>\n",
       "      <td>3.018699</td>\n",
       "      <td>68.820133</td>\n",
       "      <td>24.977716</td>\n",
       "      <td>-2.721852</td>\n",
       "      <td>0.000805</td>\n",
       "      <td>0.720782</td>\n",
       "      <td>-0.002901</td>\n",
       "    </tr>\n",
       "    <tr>\n",
       "      <th>12225</th>\n",
       "      <td>1999-05-19 23:58</td>\n",
       "      <td>0</td>\n",
       "      <td>-0.020559</td>\n",
       "      <td>-0.869824</td>\n",
       "      <td>-1.320373</td>\n",
       "      <td>18.621344</td>\n",
       "      <td>1.165502</td>\n",
       "      <td>45.013008</td>\n",
       "      <td>-0.059389</td>\n",
       "      <td>0.068894</td>\n",
       "      <td>...</td>\n",
       "      <td>29.984624</td>\n",
       "      <td>-6.724442</td>\n",
       "      <td>6.007381</td>\n",
       "      <td>3.016484</td>\n",
       "      <td>67.620182</td>\n",
       "      <td>25.260766</td>\n",
       "      <td>-2.416676</td>\n",
       "      <td>0.000882</td>\n",
       "      <td>0.166743</td>\n",
       "      <td>-0.002895</td>\n",
       "    </tr>\n",
       "  </tbody>\n",
       "</table>\n",
       "<p>12226 rows × 61 columns</p>\n",
       "</div>"
      ],
      "text/plain": [
       "                   time  y        x1        x2        x3         x4        x5  \\\n",
       "0       1999-05-01 0:00  0  0.376665 -4.596435 -4.095756  13.497687 -0.118830   \n",
       "1       1999-05-01 0:02  0  0.475720 -4.542502 -4.018359  16.230659 -0.128733   \n",
       "2       1999-05-01 0:04  0  0.363848 -4.681394 -4.353147  14.127997 -0.138636   \n",
       "3       1999-05-01 0:06  0  0.301590 -4.758934 -4.023612  13.161566 -0.148142   \n",
       "4       1999-05-01 0:08  0  0.265578 -4.749928 -4.333150  15.267340 -0.155314   \n",
       "...                 ... ..       ...       ...       ...        ...       ...   \n",
       "12221  1999-05-19 23:50  0  0.016852 -0.641536 -1.912882  18.247992  1.117544   \n",
       "12222  1999-05-19 23:52  0  0.025499 -0.688365 -1.934046  18.341345  1.129537   \n",
       "12223  1999-05-19 23:54  0  0.050728 -0.729739 -1.574569  18.434669  1.141515   \n",
       "12224  1999-05-19 23:56  0  0.082060 -0.934115 -1.398069  18.527991  1.153509   \n",
       "12225  1999-05-19 23:58  0 -0.020559 -0.869824 -1.320373  18.621344  1.165502   \n",
       "\n",
       "              x6        x7        x8  ...        x51        x52       x53  \\\n",
       "0     -20.669883  0.000732 -0.061114  ...  29.984624  10.091721  0.053279   \n",
       "1     -18.758079  0.000732 -0.061114  ...  29.984624  10.095871  0.062801   \n",
       "2     -17.836632  0.010803 -0.061114  ...  29.984624  10.100265  0.072322   \n",
       "3     -18.517601  0.002075 -0.061114  ...  29.984624  10.104660  0.081600   \n",
       "4     -17.505913  0.000732 -0.061114  ...  29.984624  10.109054  0.091121   \n",
       "...          ...       ...       ...  ...        ...        ...       ...   \n",
       "12221  45.026436 -0.069155  0.068894  ...  29.984624  -6.724442  6.027645   \n",
       "12222  46.283242 -0.069155  0.068894  ...  29.984624  -6.724442  6.022518   \n",
       "12223  46.012886 -0.069155  0.068894  ...  29.984624  -6.724442  6.017635   \n",
       "12224  45.557015 -0.069155  0.068894  ...  29.984624  -6.724442  6.012508   \n",
       "12225  45.013008 -0.059389  0.068894  ...  29.984624  -6.724442  6.007381   \n",
       "\n",
       "            x54        x55        x56       x57       x58       x59       x60  \n",
       "0     -4.936434 -24.590146  18.515436  3.473400  0.033444  0.953219  0.006076  \n",
       "1     -4.937179 -32.413266  22.760065  2.682933  0.033536  1.090502  0.006083  \n",
       "2     -4.937924 -34.183774  27.004663  3.537487  0.033629  1.840540  0.006090  \n",
       "3     -4.938669 -35.954281  21.672449  3.986095  0.033721  2.554880  0.006097  \n",
       "4     -4.939414 -37.724789  21.907251  3.601573  0.033777  1.410494  0.006105  \n",
       "...         ...        ...        ...       ...       ...       ...       ...  \n",
       "12221  3.025343  61.960025  23.597223 -2.294605  0.000575  0.156939 -0.002917  \n",
       "12222  3.023128  63.630435  24.057397 -2.895802  0.000652  0.491015 -0.002912  \n",
       "12223  3.020913  67.174869  24.517572 -2.953784  0.000729  1.227152 -0.002906  \n",
       "12224  3.018699  68.820133  24.977716 -2.721852  0.000805  0.720782 -0.002901  \n",
       "12225  3.016484  67.620182  25.260766 -2.416676  0.000882  0.166743 -0.002895  \n",
       "\n",
       "[12226 rows x 61 columns]"
      ]
     },
     "execution_count": 9,
     "metadata": {},
     "output_type": "execute_result"
    }
   ],
   "source": [
    "data"
   ]
  },
  {
   "cell_type": "code",
   "execution_count": 10,
   "id": "41c87885-c69e-47b8-b9dc-9b2d6f4bc90e",
   "metadata": {},
   "outputs": [
    {
     "data": {
      "text/plain": [
       "Index(['time', 'y', 'x1', 'x2', 'x3', 'x4', 'x5', 'x6', 'x7', 'x8', 'x9',\n",
       "       'x10', 'x11', 'x12', 'x13', 'x14', 'x15', 'x16', 'x17', 'x18', 'x19',\n",
       "       'x20', 'x21', 'x22', 'x23', 'x24', 'x25', 'x26', 'x27', 'x29', 'x30',\n",
       "       'x31', 'x32', 'x33', 'x34', 'x35', 'x36', 'x37', 'x38', 'x39', 'x40',\n",
       "       'x41', 'x42', 'x43', 'x44', 'x45', 'x46', 'x47', 'x48', 'x49', 'x50',\n",
       "       'x51', 'x52', 'x53', 'x54', 'x55', 'x56', 'x57', 'x58', 'x59', 'x60'],\n",
       "      dtype='object')"
      ]
     },
     "execution_count": 10,
     "metadata": {},
     "output_type": "execute_result"
    }
   ],
   "source": [
    "# x28이 없음\n",
    "data.columns"
   ]
  },
  {
   "cell_type": "code",
   "execution_count": 11,
   "id": "d1d9272b-0ade-4575-bbbd-5854c6dc0a25",
   "metadata": {},
   "outputs": [
    {
     "data": {
      "text/plain": [
       "False"
      ]
     },
     "execution_count": 11,
     "metadata": {},
     "output_type": "execute_result"
    }
   ],
   "source": [
    "# no NaNs\n",
    "data.isnull().values.any()"
   ]
  },
  {
   "cell_type": "code",
   "execution_count": 12,
   "id": "647601f8-fb28-4a91-a5db-2331bff044b4",
   "metadata": {},
   "outputs": [
    {
     "data": {
      "text/plain": [
       "time     object\n",
       "y         int64\n",
       "x1      float64\n",
       "x2      float64\n",
       "x3      float64\n",
       "         ...   \n",
       "x56     float64\n",
       "x57     float64\n",
       "x58     float64\n",
       "x59     float64\n",
       "x60     float64\n",
       "Length: 61, dtype: object"
      ]
     },
     "execution_count": 12,
     "metadata": {},
     "output_type": "execute_result"
    }
   ],
   "source": [
    "data.dtypes"
   ]
  },
  {
   "cell_type": "code",
   "execution_count": 13,
   "id": "34da592f-a1ea-4ef4-96d5-f12fa7731805",
   "metadata": {},
   "outputs": [
    {
     "name": "stdout",
     "output_type": "stream",
     "text": [
      "object\n",
      "int64\n"
     ]
    }
   ],
   "source": [
    "# all float type\n",
    "for dtype in data.dtypes:\n",
    "    if dtype!='float64':\n",
    "        print(dtype)"
   ]
  },
  {
   "cell_type": "code",
   "execution_count": 14,
   "id": "401e285a-027d-4bb2-a6f6-80e0cdc7d22a",
   "metadata": {},
   "outputs": [
    {
     "data": {
      "text/plain": [
       "0    0.993211\n",
       "1    0.006789\n",
       "Name: y, dtype: float64"
      ]
     },
     "execution_count": 14,
     "metadata": {},
     "output_type": "execute_result"
    }
   ],
   "source": [
    "# label ratio\n",
    "data.y.value_counts(1)"
   ]
  },
  {
   "cell_type": "code",
   "execution_count": 15,
   "id": "3388a021-2b05-413a-b4f9-98b512125424",
   "metadata": {},
   "outputs": [],
   "source": [
    "# convert type of time variable\n",
    "data.loc[:,'time'] = pd.to_datetime(data['time'], format=\"%Y-%m-%d %H:%M\")"
   ]
  },
  {
   "cell_type": "code",
   "execution_count": 16,
   "id": "f17f09da-bfc5-4445-9001-d52a6bb534f8",
   "metadata": {},
   "outputs": [],
   "source": [
    "sub_df_list = get_sub_df(data)"
   ]
  },
  {
   "cell_type": "code",
   "execution_count": 17,
   "id": "7b2ad8b7-9085-4895-9663-4be9f7bf6aff",
   "metadata": {},
   "outputs": [],
   "source": [
    "# split from time and shift y\n",
    "for i, sub_df in enumerate(get_sub_df(data)):\n",
    "    sub_df['y_shift'] = sub_df['y'].shift(-1)\n",
    "    sub_df = sub_df[sub_df['y_shift'].notna()]\n",
    "    sub_df['y'] = sub_df['y_shift'].astype(int)\n",
    "    sub_df = sub_df.drop('y_shift', axis=1)\n",
    "    \n",
    "    if i==0:\n",
    "        processed_data = sub_df\n",
    "    else:\n",
    "        processed_data = pd.concat([processed_data, sub_df], axis=0)"
   ]
  },
  {
   "cell_type": "code",
   "execution_count": 18,
   "id": "e5388d79-b774-486c-9c93-009f7ac83bcb",
   "metadata": {},
   "outputs": [],
   "source": [
    "processed_data = processed_data.reset_index(drop=True)"
   ]
  },
  {
   "cell_type": "code",
   "execution_count": 19,
   "id": "8092bc69-33c6-4346-94df-d6e94b6c0803",
   "metadata": {},
   "outputs": [
    {
     "data": {
      "text/html": [
       "<div>\n",
       "<style scoped>\n",
       "    .dataframe tbody tr th:only-of-type {\n",
       "        vertical-align: middle;\n",
       "    }\n",
       "\n",
       "    .dataframe tbody tr th {\n",
       "        vertical-align: top;\n",
       "    }\n",
       "\n",
       "    .dataframe thead th {\n",
       "        text-align: right;\n",
       "    }\n",
       "</style>\n",
       "<table border=\"1\" class=\"dataframe\">\n",
       "  <thead>\n",
       "    <tr style=\"text-align: right;\">\n",
       "      <th></th>\n",
       "      <th>x1</th>\n",
       "      <th>x2</th>\n",
       "      <th>x3</th>\n",
       "      <th>x4</th>\n",
       "      <th>x5</th>\n",
       "      <th>x6</th>\n",
       "      <th>x7</th>\n",
       "      <th>x8</th>\n",
       "      <th>x9</th>\n",
       "      <th>x10</th>\n",
       "      <th>...</th>\n",
       "      <th>x51</th>\n",
       "      <th>x52</th>\n",
       "      <th>x53</th>\n",
       "      <th>x54</th>\n",
       "      <th>x55</th>\n",
       "      <th>x56</th>\n",
       "      <th>x57</th>\n",
       "      <th>x58</th>\n",
       "      <th>x59</th>\n",
       "      <th>x60</th>\n",
       "    </tr>\n",
       "  </thead>\n",
       "  <tbody>\n",
       "    <tr>\n",
       "      <th>count</th>\n",
       "      <td>12155.000000</td>\n",
       "      <td>12155.000000</td>\n",
       "      <td>12155.000000</td>\n",
       "      <td>12155.000000</td>\n",
       "      <td>12155.000000</td>\n",
       "      <td>12155.000000</td>\n",
       "      <td>12155.000000</td>\n",
       "      <td>12155.000000</td>\n",
       "      <td>12155.000000</td>\n",
       "      <td>12155.000000</td>\n",
       "      <td>...</td>\n",
       "      <td>12155.000000</td>\n",
       "      <td>12155.000000</td>\n",
       "      <td>12155.000000</td>\n",
       "      <td>12155.000000</td>\n",
       "      <td>12155.000000</td>\n",
       "      <td>12155.000000</td>\n",
       "      <td>12155.000000</td>\n",
       "      <td>12155.000000</td>\n",
       "      <td>12155.000000</td>\n",
       "      <td>12155.000000</td>\n",
       "    </tr>\n",
       "    <tr>\n",
       "      <th>mean</th>\n",
       "      <td>0.003166</td>\n",
       "      <td>-0.478362</td>\n",
       "      <td>1.670514</td>\n",
       "      <td>-39.802270</td>\n",
       "      <td>-0.227915</td>\n",
       "      <td>-0.358203</td>\n",
       "      <td>0.018696</td>\n",
       "      <td>-0.021503</td>\n",
       "      <td>-0.003917</td>\n",
       "      <td>-0.004820</td>\n",
       "      <td>...</td>\n",
       "      <td>19.575279</td>\n",
       "      <td>1.746659</td>\n",
       "      <td>-0.012046</td>\n",
       "      <td>-0.139984</td>\n",
       "      <td>-8.004670</td>\n",
       "      <td>31.000516</td>\n",
       "      <td>0.958619</td>\n",
       "      <td>-0.004944</td>\n",
       "      <td>0.688491</td>\n",
       "      <td>0.002679</td>\n",
       "    </tr>\n",
       "    <tr>\n",
       "      <th>std</th>\n",
       "      <td>0.696668</td>\n",
       "      <td>5.049494</td>\n",
       "      <td>6.085122</td>\n",
       "      <td>140.511656</td>\n",
       "      <td>0.490702</td>\n",
       "      <td>36.102104</td>\n",
       "      <td>0.111437</td>\n",
       "      <td>0.060333</td>\n",
       "      <td>0.162234</td>\n",
       "      <td>0.106905</td>\n",
       "      <td>...</td>\n",
       "      <td>194.520584</td>\n",
       "      <td>6.703032</td>\n",
       "      <td>4.866890</td>\n",
       "      <td>3.276133</td>\n",
       "      <td>74.684538</td>\n",
       "      <td>83.866925</td>\n",
       "      <td>2.407475</td>\n",
       "      <td>0.059052</td>\n",
       "      <td>6.809775</td>\n",
       "      <td>0.004421</td>\n",
       "    </tr>\n",
       "    <tr>\n",
       "      <th>min</th>\n",
       "      <td>-3.787279</td>\n",
       "      <td>-17.316550</td>\n",
       "      <td>-18.198509</td>\n",
       "      <td>-322.781610</td>\n",
       "      <td>-1.623988</td>\n",
       "      <td>-279.408440</td>\n",
       "      <td>-0.429273</td>\n",
       "      <td>-0.451141</td>\n",
       "      <td>-0.120087</td>\n",
       "      <td>-0.098310</td>\n",
       "      <td>...</td>\n",
       "      <td>-3652.989000</td>\n",
       "      <td>-16.555008</td>\n",
       "      <td>-14.211369</td>\n",
       "      <td>-5.370937</td>\n",
       "      <td>-230.574030</td>\n",
       "      <td>-269.039500</td>\n",
       "      <td>-4.125720</td>\n",
       "      <td>-0.149790</td>\n",
       "      <td>-100.810500</td>\n",
       "      <td>-0.006588</td>\n",
       "    </tr>\n",
       "    <tr>\n",
       "      <th>25%</th>\n",
       "      <td>-0.540320</td>\n",
       "      <td>-3.587548</td>\n",
       "      <td>-2.849031</td>\n",
       "      <td>-149.524790</td>\n",
       "      <td>-0.547594</td>\n",
       "      <td>-31.534210</td>\n",
       "      <td>-0.049319</td>\n",
       "      <td>-0.061114</td>\n",
       "      <td>-0.059966</td>\n",
       "      <td>-0.048260</td>\n",
       "      <td>...</td>\n",
       "      <td>29.984624</td>\n",
       "      <td>-3.623734</td>\n",
       "      <td>-3.804143</td>\n",
       "      <td>-4.925609</td>\n",
       "      <td>-51.174252</td>\n",
       "      <td>-29.827956</td>\n",
       "      <td>-1.165393</td>\n",
       "      <td>0.006792</td>\n",
       "      <td>0.289721</td>\n",
       "      <td>-0.000906</td>\n",
       "    </tr>\n",
       "    <tr>\n",
       "      <th>50%</th>\n",
       "      <td>0.116953</td>\n",
       "      <td>-0.902995</td>\n",
       "      <td>0.749483</td>\n",
       "      <td>-73.639123</td>\n",
       "      <td>-0.276698</td>\n",
       "      <td>8.094002</td>\n",
       "      <td>0.010803</td>\n",
       "      <td>-0.031206</td>\n",
       "      <td>-0.030057</td>\n",
       "      <td>-0.018352</td>\n",
       "      <td>...</td>\n",
       "      <td>29.984624</td>\n",
       "      <td>1.210373</td>\n",
       "      <td>0.163143</td>\n",
       "      <td>1.385729</td>\n",
       "      <td>-6.538510</td>\n",
       "      <td>33.115106</td>\n",
       "      <td>1.581249</td>\n",
       "      <td>0.018010</td>\n",
       "      <td>0.815340</td>\n",
       "      <td>0.002616</td>\n",
       "    </tr>\n",
       "    <tr>\n",
       "      <th>75%</th>\n",
       "      <td>0.450642</td>\n",
       "      <td>1.450265</td>\n",
       "      <td>4.851359</td>\n",
       "      <td>56.527870</td>\n",
       "      <td>0.008833</td>\n",
       "      <td>28.091118</td>\n",
       "      <td>0.080690</td>\n",
       "      <td>0.008773</td>\n",
       "      <td>-0.000149</td>\n",
       "      <td>0.005697</td>\n",
       "      <td>...</td>\n",
       "      <td>29.984624</td>\n",
       "      <td>8.155320</td>\n",
       "      <td>3.041195</td>\n",
       "      <td>2.661332</td>\n",
       "      <td>38.615177</td>\n",
       "      <td>82.855219</td>\n",
       "      <td>2.863048</td>\n",
       "      <td>0.023698</td>\n",
       "      <td>1.394979</td>\n",
       "      <td>0.005928</td>\n",
       "    </tr>\n",
       "    <tr>\n",
       "      <th>max</th>\n",
       "      <td>2.517970</td>\n",
       "      <td>16.734899</td>\n",
       "      <td>15.900116</td>\n",
       "      <td>296.772589</td>\n",
       "      <td>1.650610</td>\n",
       "      <td>68.886910</td>\n",
       "      <td>1.705590</td>\n",
       "      <td>0.553834</td>\n",
       "      <td>3.206675</td>\n",
       "      <td>2.921802</td>\n",
       "      <td>...</td>\n",
       "      <td>37.680180</td>\n",
       "      <td>14.180588</td>\n",
       "      <td>11.148006</td>\n",
       "      <td>6.054363</td>\n",
       "      <td>287.252017</td>\n",
       "      <td>252.147455</td>\n",
       "      <td>6.922008</td>\n",
       "      <td>0.060264</td>\n",
       "      <td>5.756678</td>\n",
       "      <td>0.020510</td>\n",
       "    </tr>\n",
       "  </tbody>\n",
       "</table>\n",
       "<p>8 rows × 59 columns</p>\n",
       "</div>"
      ],
      "text/plain": [
       "                 x1            x2            x3            x4            x5  \\\n",
       "count  12155.000000  12155.000000  12155.000000  12155.000000  12155.000000   \n",
       "mean       0.003166     -0.478362      1.670514    -39.802270     -0.227915   \n",
       "std        0.696668      5.049494      6.085122    140.511656      0.490702   \n",
       "min       -3.787279    -17.316550    -18.198509   -322.781610     -1.623988   \n",
       "25%       -0.540320     -3.587548     -2.849031   -149.524790     -0.547594   \n",
       "50%        0.116953     -0.902995      0.749483    -73.639123     -0.276698   \n",
       "75%        0.450642      1.450265      4.851359     56.527870      0.008833   \n",
       "max        2.517970     16.734899     15.900116    296.772589      1.650610   \n",
       "\n",
       "                 x6            x7            x8            x9           x10  \\\n",
       "count  12155.000000  12155.000000  12155.000000  12155.000000  12155.000000   \n",
       "mean      -0.358203      0.018696     -0.021503     -0.003917     -0.004820   \n",
       "std       36.102104      0.111437      0.060333      0.162234      0.106905   \n",
       "min     -279.408440     -0.429273     -0.451141     -0.120087     -0.098310   \n",
       "25%      -31.534210     -0.049319     -0.061114     -0.059966     -0.048260   \n",
       "50%        8.094002      0.010803     -0.031206     -0.030057     -0.018352   \n",
       "75%       28.091118      0.080690      0.008773     -0.000149      0.005697   \n",
       "max       68.886910      1.705590      0.553834      3.206675      2.921802   \n",
       "\n",
       "       ...           x51           x52           x53           x54  \\\n",
       "count  ...  12155.000000  12155.000000  12155.000000  12155.000000   \n",
       "mean   ...     19.575279      1.746659     -0.012046     -0.139984   \n",
       "std    ...    194.520584      6.703032      4.866890      3.276133   \n",
       "min    ...  -3652.989000    -16.555008    -14.211369     -5.370937   \n",
       "25%    ...     29.984624     -3.623734     -3.804143     -4.925609   \n",
       "50%    ...     29.984624      1.210373      0.163143      1.385729   \n",
       "75%    ...     29.984624      8.155320      3.041195      2.661332   \n",
       "max    ...     37.680180     14.180588     11.148006      6.054363   \n",
       "\n",
       "                x55           x56           x57           x58           x59  \\\n",
       "count  12155.000000  12155.000000  12155.000000  12155.000000  12155.000000   \n",
       "mean      -8.004670     31.000516      0.958619     -0.004944      0.688491   \n",
       "std       74.684538     83.866925      2.407475      0.059052      6.809775   \n",
       "min     -230.574030   -269.039500     -4.125720     -0.149790   -100.810500   \n",
       "25%      -51.174252    -29.827956     -1.165393      0.006792      0.289721   \n",
       "50%       -6.538510     33.115106      1.581249      0.018010      0.815340   \n",
       "75%       38.615177     82.855219      2.863048      0.023698      1.394979   \n",
       "max      287.252017    252.147455      6.922008      0.060264      5.756678   \n",
       "\n",
       "                x60  \n",
       "count  12155.000000  \n",
       "mean       0.002679  \n",
       "std        0.004421  \n",
       "min       -0.006588  \n",
       "25%       -0.000906  \n",
       "50%        0.002616  \n",
       "75%        0.005928  \n",
       "max        0.020510  \n",
       "\n",
       "[8 rows x 59 columns]"
      ]
     },
     "execution_count": 19,
     "metadata": {},
     "output_type": "execute_result"
    }
   ],
   "source": [
    "# outlier가 문제될 수 있을 것 같음.\n",
    "processed_data.drop('time', axis=1).drop('y', axis=1).describe()"
   ]
  },
  {
   "cell_type": "code",
   "execution_count": 20,
   "id": "7fd244de-666a-4a40-ad42-e2c58d098fd7",
   "metadata": {},
   "outputs": [
    {
     "data": {
      "text/plain": [
       "0    12075\n",
       "1       80\n",
       "Name: y, dtype: int64"
      ]
     },
     "execution_count": 20,
     "metadata": {},
     "output_type": "execute_result"
    }
   ],
   "source": [
    "processed_data.y.value_counts()"
   ]
  },
  {
   "cell_type": "code",
   "execution_count": 21,
   "id": "5e65b7b6-9976-41ef-84da-0124957bf287",
   "metadata": {},
   "outputs": [],
   "source": [
    "# split data\n",
    "train_data = processed_data[processed_data.time <= '1999-05-14']\n",
    "valid_data = processed_data[processed_data.time >= '1999-05-14']"
   ]
  },
  {
   "cell_type": "code",
   "execution_count": 22,
   "id": "b64c6539-38fd-4c93-b291-e8913665d619",
   "metadata": {},
   "outputs": [],
   "source": [
    "# set target\n",
    "target = 'y'"
   ]
  },
  {
   "cell_type": "code",
   "execution_count": 23,
   "id": "ae6012ec-46f1-45cd-91be-38b74babce4c",
   "metadata": {},
   "outputs": [],
   "source": [
    "column_list = list(train_data.columns)\n",
    "column_list.remove('time')\n",
    "column_list.remove('y')"
   ]
  },
  {
   "cell_type": "code",
   "execution_count": 24,
   "id": "e87af454-4b21-41b3-92ce-abd169661346",
   "metadata": {},
   "outputs": [],
   "source": [
    "# Range가 0인 변수 확인 -> 의미 없는 변수\n",
    "column_range_zero_list = list()\n",
    "for column in column_list:\n",
    "    column_range = train_data.describe().loc['max'][column] - train_data.describe().loc['min'][column]\n",
    "    if column_range==0:\n",
    "        column_range_zero_list.append(column)"
   ]
  },
  {
   "cell_type": "code",
   "execution_count": 25,
   "id": "df3ee7f7-c8d6-49b3-88df-860bafcae354",
   "metadata": {},
   "outputs": [
    {
     "data": {
      "text/plain": [
       "['x43']"
      ]
     },
     "execution_count": 25,
     "metadata": {},
     "output_type": "execute_result"
    }
   ],
   "source": [
    "column_range_zero_list"
   ]
  },
  {
   "cell_type": "code",
   "execution_count": 26,
   "id": "e58c2c18-e14a-4f6d-8cc7-638beea1d095",
   "metadata": {},
   "outputs": [],
   "source": [
    "for column in column_range_zero_list:\n",
    "    column_list.remove(column)"
   ]
  },
  {
   "cell_type": "code",
   "execution_count": 27,
   "id": "5c782e9f-dee0-463f-b58b-f67789cac5ad",
   "metadata": {},
   "outputs": [],
   "source": [
    "# outlier count\n",
    "outlier_dict = dict()\n",
    "for column in column_list:\n",
    "    IQR = train_data.describe().loc['75%'][column] - train_data.describe().loc['25%'][column]\n",
    "    upper_limit = train_data.describe().loc['75%'][column] + 1.5 * IQR\n",
    "    lower_limit = train_data.describe().loc['25%'][column] - 1.5 * IQR\n",
    "\n",
    "    outlier_count = len(train_data[column][train_data[column] > upper_limit]) + len(train_data[column][train_data[column] < lower_limit])\n",
    "    if outlier_count>0:\n",
    "        outlier_dict[column] = outlier_count"
   ]
  },
  {
   "cell_type": "code",
   "execution_count": 28,
   "id": "fe16dc8e-a2fa-4a62-9b0c-b4a7c0e207bd",
   "metadata": {},
   "outputs": [
    {
     "data": {
      "text/plain": [
       "{'x1': 60,\n",
       " 'x2': 560,\n",
       " 'x3': 529,\n",
       " 'x5': 41,\n",
       " 'x7': 172,\n",
       " 'x8': 222,\n",
       " 'x9': 753,\n",
       " 'x10': 648,\n",
       " 'x11': 62,\n",
       " 'x12': 103,\n",
       " 'x13': 3,\n",
       " 'x14': 208,\n",
       " 'x15': 161,\n",
       " 'x16': 83,\n",
       " 'x17': 497,\n",
       " 'x18': 365,\n",
       " 'x19': 1484,\n",
       " 'x20': 323,\n",
       " 'x21': 3580,\n",
       " 'x23': 11,\n",
       " 'x25': 53,\n",
       " 'x30': 675,\n",
       " 'x31': 123,\n",
       " 'x32': 53,\n",
       " 'x35': 122,\n",
       " 'x36': 53,\n",
       " 'x37': 274,\n",
       " 'x38': 1004,\n",
       " 'x39': 733,\n",
       " 'x40': 121,\n",
       " 'x41': 119,\n",
       " 'x42': 71,\n",
       " 'x45': 509,\n",
       " 'x46': 439,\n",
       " 'x48': 1778,\n",
       " 'x49': 182,\n",
       " 'x50': 11,\n",
       " 'x51': 1350,\n",
       " 'x55': 172,\n",
       " 'x58': 419,\n",
       " 'x59': 60}"
      ]
     },
     "execution_count": 28,
     "metadata": {},
     "output_type": "execute_result"
    }
   ],
   "source": [
    "# outlier가 많네..\n",
    "outlier_dict"
   ]
  },
  {
   "cell_type": "code",
   "execution_count": 29,
   "id": "7e980630-e802-4c31-8c4c-025870a16f5d",
   "metadata": {},
   "outputs": [
    {
     "name": "stdout",
     "output_type": "stream",
     "text": [
      "<Outlier ratios>\n",
      "x1: 0.006975933031042902\n",
      "x2: 0.06510870828973375\n",
      "x3: 0.06150447622369492\n",
      "x5: 0.004766887571212649\n",
      "x7: 0.019997674688989654\n",
      "x8: 0.025810952214858737\n",
      "x9: 0.08754795953958842\n",
      "x10: 0.07534007673526334\n",
      "x11: 0.007208464132077665\n",
      "x12: 0.011975351703290315\n",
      "x13: 0.0003487966515521451\n",
      "x14: 0.024183234507615392\n",
      "x15: 0.018718753633298453\n",
      "x16: 0.009650040692942681\n",
      "x17: 0.05778397860713871\n",
      "x18: 0.04243692593884432\n",
      "x19: 0.17253807696779444\n",
      "x20: 0.03755377281711429\n",
      "x21: 0.4162306708522265\n",
      "x23: 0.0012789210556911988\n",
      "x25: 0.0061620741774212305\n",
      "x30: 0.07847924659923265\n",
      "x31: 0.01430066271363795\n",
      "x32: 0.0061620741774212305\n",
      "x35: 0.014184397163120567\n",
      "x36: 0.0061620741774212305\n",
      "x37: 0.03185676084176259\n",
      "x38: 0.11673061271945123\n",
      "x39: 0.08522264852924079\n",
      "x40: 0.014068131612603186\n",
      "x41: 0.013835600511568423\n",
      "x42: 0.008254854086734102\n",
      "x45: 0.05917916521334728\n",
      "x46: 0.051040576677130564\n",
      "x48: 0.20672014881990466\n",
      "x49: 0.021160330194163468\n",
      "x50: 0.0012789210556911988\n",
      "x51: 0.1569584931984653\n",
      "x55: 0.019997674688989654\n",
      "x58: 0.048715265666782935\n",
      "x59: 0.006975933031042902\n"
     ]
    }
   ],
   "source": [
    "print('<Outlier ratios>')\n",
    "for key in outlier_dict.keys():\n",
    "    print(key + ': ' + str(outlier_dict[key]/len(train_data)))"
   ]
  },
  {
   "cell_type": "code",
   "execution_count": 30,
   "id": "c1ea3e36-0dc4-4b4d-a883-2e9c9dcf60ca",
   "metadata": {},
   "outputs": [
    {
     "name": "stdout",
     "output_type": "stream",
     "text": [
      "<Outlier ratios>\n",
      "x19: 0.17253807696779444\n",
      "x21: 0.4162306708522265\n",
      "x38: 0.11673061271945123\n",
      "x48: 0.20672014881990466\n",
      "x51: 0.1569584931984653\n"
     ]
    }
   ],
   "source": [
    "# 10% 이상이면 범주화 변수로 처리해보자\n",
    "print('<Outlier ratios>')\n",
    "many_outlier_list = list()\n",
    "for key in outlier_dict.keys():\n",
    "    outlier_ratio = outlier_dict[key]/len(train_data)\n",
    "    if outlier_ratio >= 0.1:\n",
    "        many_outlier_list.append(key)\n",
    "        print(key + ': ' + str(outlier_ratio))"
   ]
  },
  {
   "cell_type": "code",
   "execution_count": 31,
   "id": "8df8b843-ecbe-49ec-9602-042967d2d302",
   "metadata": {},
   "outputs": [
    {
     "data": {
      "text/plain": [
       "['x19', 'x21', 'x38', 'x48', 'x51']"
      ]
     },
     "execution_count": 31,
     "metadata": {},
     "output_type": "execute_result"
    }
   ],
   "source": [
    "many_outlier_list"
   ]
  },
  {
   "cell_type": "code",
   "execution_count": 32,
   "id": "f12892c2-f35a-4fbe-86b9-f7b670ae61f9",
   "metadata": {},
   "outputs": [],
   "source": [
    "for column in many_outlier_list:\n",
    "    IQR = train_data.describe().loc['75%'][column] - train_data.describe().loc['25%'][column]\n",
    "    upper_limit = train_data.describe().loc['75%'][column] + 1.5 * IQR\n",
    "    lower_limit = train_data.describe().loc['25%'][column] - 1.5 * IQR\n",
    "\n",
    "    train_data[column + '_outlier'] = np.where(train_data[column] > upper_limit, 1, np.where(train_data[column] < lower_limit, 1, 0))\n",
    "    train_data[column + '_outlier'] = train_data[column + '_outlier'].astype(\"category\")\n",
    "    \n",
    "    valid_data[column + '_outlier'] = np.where(valid_data[column] > upper_limit, 1, np.where(valid_data[column] < lower_limit, 1, 0))\n",
    "    valid_data[column + '_outlier'] = valid_data[column + '_outlier'].astype(\"category\")\n",
    "    \n",
    "    column_list.append(column + '_outlier')\n",
    "    column_list.remove(column)"
   ]
  },
  {
   "cell_type": "code",
   "execution_count": 33,
   "id": "d3e84a86-3612-41e4-87ae-bf09db05baef",
   "metadata": {},
   "outputs": [],
   "source": [
    "train_data = train_data.drop(many_outlier_list, axis=1)\n",
    "valid_data = valid_data.drop(many_outlier_list, axis=1)"
   ]
  },
  {
   "cell_type": "code",
   "execution_count": 34,
   "id": "685b0ce5-d1ba-41fc-906a-2f4b91a6eff6",
   "metadata": {},
   "outputs": [],
   "source": [
    "# IQR이 0인 변수도 확인 -> 범주화 처리\n",
    "IQR_zero_list = list()\n",
    "for column in column_list:\n",
    "    if '_outlier' in column:\n",
    "        continue\n",
    "    \n",
    "    IQR = train_data.describe().loc['75%'][column] - train_data.describe().loc['25%'][column]\n",
    "    if IQR==0:\n",
    "        IQR_zero_list.append(column)"
   ]
  },
  {
   "cell_type": "code",
   "execution_count": 35,
   "id": "3e0ff60d-c5d2-44aa-8e4c-831ba2ce2702",
   "metadata": {},
   "outputs": [
    {
     "name": "stdout",
     "output_type": "stream",
     "text": [
      "count    8601.000000\n",
      "mean        0.094970\n",
      "std         0.155345\n",
      "min        -0.872971\n",
      "25%         0.123154\n",
      "50%         0.123154\n",
      "75%         0.123154\n",
      "max         0.123154\n",
      "Name: x20, dtype: float64\n"
     ]
    },
    {
     "data": {
      "image/png": "[encoded data removed]",
      "text/plain": [
       "<Figure size 432x288 with 1 Axes>"
      ]
     },
     "metadata": {
      "needs_background": "light"
     },
     "output_type": "display_data"
    }
   ],
   "source": [
    "for column in IQR_zero_list:\n",
    "    print(train_data[column].describe())\n",
    "    sns.boxplot(x=train_data['y'], y=train_data[column])\n",
    "    plt.show()"
   ]
  },
  {
   "cell_type": "code",
   "execution_count": 36,
   "id": "58473ba1-ad97-4e16-920b-e5d1d17f9a21",
   "metadata": {},
   "outputs": [],
   "source": [
    "for column in IQR_zero_list:\n",
    "    train_data[column + '_IQR'] = np.where(train_data[column] > train_data.describe().loc['75%'][column], 1, np.where(train_data[column] < train_data.describe().loc['25%'][column], 1, 0))\n",
    "    train_data[column + '_IQR'] = train_data[column + '_IQR'].astype(\"category\")\n",
    "    \n",
    "    valid_data[column + '_IQR'] = np.where(valid_data[column] > valid_data.describe().loc['75%'][column], 1, np.where(valid_data[column] < valid_data.describe().loc['25%'][column], 1, 0))\n",
    "    valid_data[column + '_IQR'] = valid_data[column + '_IQR'].astype(\"category\")\n",
    "    \n",
    "    column_list.append(column + '_IQR')\n",
    "    column_list.remove(column)"
   ]
  },
  {
   "cell_type": "code",
   "execution_count": 37,
   "id": "bc1badc3-2e1b-402c-84a6-5b95726a9e34",
   "metadata": {},
   "outputs": [],
   "source": [
    "train_data = train_data.drop(IQR_zero_list, axis=1)\n",
    "valid_data = valid_data.drop(IQR_zero_list, axis=1)"
   ]
  },
  {
   "cell_type": "code",
   "execution_count": 38,
   "id": "bca721c5-556a-48ac-be69-99beab50d1aa",
   "metadata": {},
   "outputs": [],
   "source": [
    "# numerical data\n",
    "numeric_column = list(train_data.columns)[2:-(len(many_outlier_list) + len(IQR_zero_list))]"
   ]
  },
  {
   "cell_type": "code",
   "execution_count": 39,
   "id": "83191048-9159-4828-9410-78e206a4b512",
   "metadata": {},
   "outputs": [],
   "source": [
    "# outlier removal\n",
    "for column in numeric_column:\n",
    "    sigma = (train_data.describe().loc['75%'][column] - train_data.describe().loc['25%'][column]) * 100\n",
    "    upper_limit = train_data.describe().loc['50%'][column] + sigma\n",
    "    lower_limit = train_data.describe().loc['50%'][column] - sigma\n",
    "\n",
    "    # train_data = train_data[train_data[column] <= upper_limit][train_data[column] >= lower_limit]"
   ]
  },
  {
   "cell_type": "code",
   "execution_count": 40,
   "id": "4ac61af3-c997-4bc4-9136-278cbbe5828a",
   "metadata": {},
   "outputs": [],
   "source": [
    "train_data_x = train_data.loc[:, numeric_column]\n",
    "valid_data_x = valid_data.loc[:, numeric_column]"
   ]
  },
  {
   "cell_type": "code",
   "execution_count": 41,
   "id": "9d296a80-fd32-4935-9860-2b9d85f8b198",
   "metadata": {},
   "outputs": [],
   "source": [
    "# skewness 2 이상, kurtosis 3이상인 경우 log 변환 대상으로 처리\n",
    "skewed_columns = list(train_data_x.loc[:, (abs(train_data_x.skew()) > 2)].columns)\n",
    "high_kurtosis_columns = list(train_data_x.loc[:, (train_data_x.kurtosis()) > 3].columns)"
   ]
  },
  {
   "cell_type": "code",
   "execution_count": 42,
   "id": "ac970395-c346-4eaf-8a86-bdfaeea5643d",
   "metadata": {},
   "outputs": [
    {
     "data": {
      "text/plain": [
       "['x11',\n",
       " 'x30',\n",
       " 'x9',\n",
       " 'x49',\n",
       " 'x39',\n",
       " 'x41',\n",
       " 'x10',\n",
       " 'x25',\n",
       " 'x32',\n",
       " 'x7',\n",
       " 'x40',\n",
       " 'x58',\n",
       " 'x46',\n",
       " 'x18',\n",
       " 'x8',\n",
       " 'x15',\n",
       " 'x45',\n",
       " 'x12',\n",
       " 'x14',\n",
       " 'x37',\n",
       " 'x16',\n",
       " 'x59']"
      ]
     },
     "execution_count": 42,
     "metadata": {},
     "output_type": "execute_result"
    }
   ],
   "source": [
    "log_transformation_columns = list(set(skewed_columns + high_kurtosis_columns))\n",
    "log_transformation_columns"
   ]
  },
  {
   "cell_type": "code",
   "execution_count": null,
   "id": "4008964d-f5c0-46ce-926f-0f26e55b1b95",
   "metadata": {},
   "outputs": [],
   "source": []
  },
  {
   "cell_type": "code",
   "execution_count": 43,
   "id": "be8c0489-794c-488b-8bde-1dd7e2128cdc",
   "metadata": {},
   "outputs": [],
   "source": [
    "## log transformation\n",
    "for column in log_transformation_columns:\n",
    "    train_data[column + '_log'] = np.log1p(train_data_x[column] + abs(train_data_x[column].min()))\n",
    "    valid_data[column + '_log'] = np.log1p(valid_data_x[column] + abs(train_data_x[column].min()))\n",
    "    \n",
    "    column_list.append(column + '_log')\n",
    "    column_list.remove(column)\n",
    "    \n",
    "    train_data = train_data.drop(column, axis=1)\n",
    "    valid_data = valid_data.drop(column, axis=1)"
   ]
  },
  {
   "cell_type": "code",
   "execution_count": 44,
   "id": "4e2c6620-e6f8-4b51-ac0d-01ee6c117047",
   "metadata": {},
   "outputs": [
    {
     "data": {
      "text/plain": [
       "8"
      ]
     },
     "execution_count": 44,
     "metadata": {},
     "output_type": "execute_result"
    }
   ],
   "source": [
    "# valid에서 na 발생 (새로운 outlier)\n",
    "valid_data.isna().sum().sum()"
   ]
  },
  {
   "cell_type": "code",
   "execution_count": 45,
   "id": "9bb02cee-e3b7-49d0-9ccf-471acda36d2e",
   "metadata": {},
   "outputs": [],
   "source": [
    "# log 범위를 벗어나는 경우 0으로 처리\n",
    "valid_data = valid_data.fillna(0)"
   ]
  },
  {
   "cell_type": "code",
   "execution_count": 46,
   "id": "bc4a4a25-fbcb-4c24-a2f3-865f7c98154e",
   "metadata": {},
   "outputs": [],
   "source": [
    "for column in many_outlier_list:\n",
    "    del outlier_dict[column]\n",
    "\n",
    "for column in IQR_zero_list:\n",
    "    del outlier_dict[column]\n",
    "\n",
    "for column in log_transformation_columns:\n",
    "    del outlier_dict[column]"
   ]
  },
  {
   "cell_type": "code",
   "execution_count": 47,
   "id": "1f19b359-f2be-4507-bd89-d7548ff0e6a6",
   "metadata": {},
   "outputs": [],
   "source": [
    "train_data = train_data.loc[:, ['time', 'y'] + column_list]\n",
    "valid_data = valid_data.loc[:, ['time', 'y'] + column_list]"
   ]
  },
  {
   "cell_type": "code",
   "execution_count": 48,
   "id": "0d9ab900-eb2a-479e-b207-f9503726392c",
   "metadata": {},
   "outputs": [
    {
     "data": {
      "text/plain": [
       "Index(['x1', 'x2', 'x3', 'x4', 'x5', 'x6', 'x13', 'x17', 'x22', 'x23', 'x24',\n",
       "       'x26', 'x27', 'x29', 'x31', 'x33', 'x34', 'x35', 'x36', 'x42', 'x44',\n",
       "       'x47', 'x50', 'x52', 'x53', 'x54', 'x55', 'x56', 'x57', 'x60',\n",
       "       'x19_outlier', 'x21_outlier', 'x38_outlier', 'x48_outlier',\n",
       "       'x51_outlier', 'x20_IQR', 'x11_log', 'x30_log', 'x9_log', 'x49_log',\n",
       "       'x39_log', 'x41_log', 'x10_log', 'x25_log', 'x32_log', 'x7_log',\n",
       "       'x40_log', 'x58_log', 'x46_log', 'x18_log', 'x8_log', 'x15_log',\n",
       "       'x45_log', 'x12_log', 'x14_log', 'x37_log', 'x16_log', 'x59_log'],\n",
       "      dtype='object')"
      ]
     },
     "execution_count": 48,
     "metadata": {},
     "output_type": "execute_result"
    }
   ],
   "source": [
    "train_data.iloc[:, 2:].columns"
   ]
  },
  {
   "cell_type": "code",
   "execution_count": 49,
   "id": "bf245794-43eb-4715-9d5b-439c53599399",
   "metadata": {},
   "outputs": [
    {
     "data": {
      "text/html": [
       "<div>\n",
       "<style scoped>\n",
       "    .dataframe tbody tr th:only-of-type {\n",
       "        vertical-align: middle;\n",
       "    }\n",
       "\n",
       "    .dataframe tbody tr th {\n",
       "        vertical-align: top;\n",
       "    }\n",
       "\n",
       "    .dataframe thead th {\n",
       "        text-align: right;\n",
       "    }\n",
       "</style>\n",
       "<table border=\"1\" class=\"dataframe\">\n",
       "  <thead>\n",
       "    <tr style=\"text-align: right;\">\n",
       "      <th></th>\n",
       "      <th>y</th>\n",
       "      <th>x1</th>\n",
       "      <th>x2</th>\n",
       "      <th>x3</th>\n",
       "      <th>x4</th>\n",
       "      <th>x5</th>\n",
       "      <th>x6</th>\n",
       "      <th>x13</th>\n",
       "      <th>x17</th>\n",
       "      <th>x22</th>\n",
       "      <th>...</th>\n",
       "      <th>x46_log</th>\n",
       "      <th>x18_log</th>\n",
       "      <th>x8_log</th>\n",
       "      <th>x15_log</th>\n",
       "      <th>x45_log</th>\n",
       "      <th>x12_log</th>\n",
       "      <th>x14_log</th>\n",
       "      <th>x37_log</th>\n",
       "      <th>x16_log</th>\n",
       "      <th>x59_log</th>\n",
       "    </tr>\n",
       "  </thead>\n",
       "  <tbody>\n",
       "    <tr>\n",
       "      <th>count</th>\n",
       "      <td>8601.000000</td>\n",
       "      <td>8601.000000</td>\n",
       "      <td>8601.000000</td>\n",
       "      <td>8601.000000</td>\n",
       "      <td>8601.000000</td>\n",
       "      <td>8601.000000</td>\n",
       "      <td>8601.000000</td>\n",
       "      <td>8601.000000</td>\n",
       "      <td>8601.000000</td>\n",
       "      <td>8601.000000</td>\n",
       "      <td>...</td>\n",
       "      <td>8601.000000</td>\n",
       "      <td>8601.000000</td>\n",
       "      <td>8601.000000</td>\n",
       "      <td>8601.000000</td>\n",
       "      <td>8601.000000</td>\n",
       "      <td>8601.000000</td>\n",
       "      <td>8601.000000</td>\n",
       "      <td>8601.000000</td>\n",
       "      <td>8601.000000</td>\n",
       "      <td>8601.000000</td>\n",
       "    </tr>\n",
       "    <tr>\n",
       "      <th>mean</th>\n",
       "      <td>0.006395</td>\n",
       "      <td>-0.053051</td>\n",
       "      <td>0.431125</td>\n",
       "      <td>0.557477</td>\n",
       "      <td>-73.595266</td>\n",
       "      <td>-0.338314</td>\n",
       "      <td>-4.558568</td>\n",
       "      <td>1.780001</td>\n",
       "      <td>-0.982229</td>\n",
       "      <td>-0.582834</td>\n",
       "      <td>...</td>\n",
       "      <td>1.221177</td>\n",
       "      <td>1.808231</td>\n",
       "      <td>0.351215</td>\n",
       "      <td>0.487167</td>\n",
       "      <td>1.224082</td>\n",
       "      <td>3.131238</td>\n",
       "      <td>0.050201</td>\n",
       "      <td>0.942365</td>\n",
       "      <td>3.014111</td>\n",
       "      <td>4.607695</td>\n",
       "    </tr>\n",
       "    <tr>\n",
       "      <th>std</th>\n",
       "      <td>0.079715</td>\n",
       "      <td>0.736014</td>\n",
       "      <td>5.094969</td>\n",
       "      <td>5.223486</td>\n",
       "      <td>134.772478</td>\n",
       "      <td>0.383127</td>\n",
       "      <td>35.829418</td>\n",
       "      <td>44.042451</td>\n",
       "      <td>1.012108</td>\n",
       "      <td>0.389419</td>\n",
       "      <td>...</td>\n",
       "      <td>0.186123</td>\n",
       "      <td>0.137173</td>\n",
       "      <td>0.044267</td>\n",
       "      <td>0.023043</td>\n",
       "      <td>0.275316</td>\n",
       "      <td>0.246419</td>\n",
       "      <td>0.139174</td>\n",
       "      <td>0.096392</td>\n",
       "      <td>0.298156</td>\n",
       "      <td>0.363031</td>\n",
       "    </tr>\n",
       "    <tr>\n",
       "      <th>min</th>\n",
       "      <td>0.000000</td>\n",
       "      <td>-3.787279</td>\n",
       "      <td>-17.316550</td>\n",
       "      <td>-18.198509</td>\n",
       "      <td>-322.781610</td>\n",
       "      <td>-1.623988</td>\n",
       "      <td>-86.578254</td>\n",
       "      <td>-117.561630</td>\n",
       "      <td>-6.512555</td>\n",
       "      <td>-1.226466</td>\n",
       "      <td>...</td>\n",
       "      <td>0.000000</td>\n",
       "      <td>0.000000</td>\n",
       "      <td>0.000000</td>\n",
       "      <td>0.000000</td>\n",
       "      <td>0.000000</td>\n",
       "      <td>0.000000</td>\n",
       "      <td>0.000000</td>\n",
       "      <td>0.000000</td>\n",
       "      <td>0.000000</td>\n",
       "      <td>0.000000</td>\n",
       "    </tr>\n",
       "    <tr>\n",
       "      <th>25%</th>\n",
       "      <td>0.000000</td>\n",
       "      <td>-0.636085</td>\n",
       "      <td>-2.538988</td>\n",
       "      <td>-2.881269</td>\n",
       "      <td>-175.987130</td>\n",
       "      <td>-0.600642</td>\n",
       "      <td>-41.821312</td>\n",
       "      <td>-28.499463</td>\n",
       "      <td>-1.528791</td>\n",
       "      <td>-0.954711</td>\n",
       "      <td>...</td>\n",
       "      <td>1.105162</td>\n",
       "      <td>1.786458</td>\n",
       "      <td>0.329323</td>\n",
       "      <td>0.474530</td>\n",
       "      <td>1.090341</td>\n",
       "      <td>3.135953</td>\n",
       "      <td>0.000000</td>\n",
       "      <td>0.908318</td>\n",
       "      <td>3.017309</td>\n",
       "      <td>4.626641</td>\n",
       "    </tr>\n",
       "    <tr>\n",
       "      <th>50%</th>\n",
       "      <td>0.000000</td>\n",
       "      <td>0.054369</td>\n",
       "      <td>-0.220881</td>\n",
       "      <td>0.146366</td>\n",
       "      <td>-111.287000</td>\n",
       "      <td>-0.336283</td>\n",
       "      <td>6.134957</td>\n",
       "      <td>-7.926404</td>\n",
       "      <td>-0.858808</td>\n",
       "      <td>-0.407284</td>\n",
       "      <td>...</td>\n",
       "      <td>1.207880</td>\n",
       "      <td>1.786458</td>\n",
       "      <td>0.350611</td>\n",
       "      <td>0.487140</td>\n",
       "      <td>1.201234</td>\n",
       "      <td>3.144108</td>\n",
       "      <td>0.000000</td>\n",
       "      <td>0.943856</td>\n",
       "      <td>3.040435</td>\n",
       "      <td>4.632770</td>\n",
       "    </tr>\n",
       "    <tr>\n",
       "      <th>75%</th>\n",
       "      <td>0.000000</td>\n",
       "      <td>0.461914</td>\n",
       "      <td>2.444185</td>\n",
       "      <td>2.894360</td>\n",
       "      <td>21.025550</td>\n",
       "      <td>-0.078288</td>\n",
       "      <td>21.693611</td>\n",
       "      <td>38.449191</td>\n",
       "      <td>-0.527784</td>\n",
       "      <td>-0.230342</td>\n",
       "      <td>...</td>\n",
       "      <td>1.318910</td>\n",
       "      <td>1.870327</td>\n",
       "      <td>0.371666</td>\n",
       "      <td>0.500558</td>\n",
       "      <td>1.314651</td>\n",
       "      <td>3.175636</td>\n",
       "      <td>0.105530</td>\n",
       "      <td>0.978289</td>\n",
       "      <td>3.075136</td>\n",
       "      <td>4.645446</td>\n",
       "    </tr>\n",
       "    <tr>\n",
       "      <th>max</th>\n",
       "      <td>1.000000</td>\n",
       "      <td>1.705746</td>\n",
       "      <td>16.734899</td>\n",
       "      <td>15.881512</td>\n",
       "      <td>276.493842</td>\n",
       "      <td>1.008428</td>\n",
       "      <td>68.886910</td>\n",
       "      <td>143.876437</td>\n",
       "      <td>3.240767</td>\n",
       "      <td>0.381213</td>\n",
       "      <td>...</td>\n",
       "      <td>2.568408</td>\n",
       "      <td>2.237954</td>\n",
       "      <td>0.695632</td>\n",
       "      <td>0.580762</td>\n",
       "      <td>3.745343</td>\n",
       "      <td>3.297213</td>\n",
       "      <td>1.107961</td>\n",
       "      <td>1.160023</td>\n",
       "      <td>3.122037</td>\n",
       "      <td>4.678116</td>\n",
       "    </tr>\n",
       "  </tbody>\n",
       "</table>\n",
       "<p>8 rows × 53 columns</p>\n",
       "</div>"
      ],
      "text/plain": [
       "                 y           x1           x2           x3           x4  \\\n",
       "count  8601.000000  8601.000000  8601.000000  8601.000000  8601.000000   \n",
       "mean      0.006395    -0.053051     0.431125     0.557477   -73.595266   \n",
       "std       0.079715     0.736014     5.094969     5.223486   134.772478   \n",
       "min       0.000000    -3.787279   -17.316550   -18.198509  -322.781610   \n",
       "25%       0.000000    -0.636085    -2.538988    -2.881269  -175.987130   \n",
       "50%       0.000000     0.054369    -0.220881     0.146366  -111.287000   \n",
       "75%       0.000000     0.461914     2.444185     2.894360    21.025550   \n",
       "max       1.000000     1.705746    16.734899    15.881512   276.493842   \n",
       "\n",
       "                x5           x6          x13          x17          x22  ...  \\\n",
       "count  8601.000000  8601.000000  8601.000000  8601.000000  8601.000000  ...   \n",
       "mean     -0.338314    -4.558568     1.780001    -0.982229    -0.582834  ...   \n",
       "std       0.383127    35.829418    44.042451     1.012108     0.389419  ...   \n",
       "min      -1.623988   -86.578254  -117.561630    -6.512555    -1.226466  ...   \n",
       "25%      -0.600642   -41.821312   -28.499463    -1.528791    -0.954711  ...   \n",
       "50%      -0.336283     6.134957    -7.926404    -0.858808    -0.407284  ...   \n",
       "75%      -0.078288    21.693611    38.449191    -0.527784    -0.230342  ...   \n",
       "max       1.008428    68.886910   143.876437     3.240767     0.381213  ...   \n",
       "\n",
       "           x46_log      x18_log       x8_log      x15_log      x45_log  \\\n",
       "count  8601.000000  8601.000000  8601.000000  8601.000000  8601.000000   \n",
       "mean      1.221177     1.808231     0.351215     0.487167     1.224082   \n",
       "std       0.186123     0.137173     0.044267     0.023043     0.275316   \n",
       "min       0.000000     0.000000     0.000000     0.000000     0.000000   \n",
       "25%       1.105162     1.786458     0.329323     0.474530     1.090341   \n",
       "50%       1.207880     1.786458     0.350611     0.487140     1.201234   \n",
       "75%       1.318910     1.870327     0.371666     0.500558     1.314651   \n",
       "max       2.568408     2.237954     0.695632     0.580762     3.745343   \n",
       "\n",
       "           x12_log      x14_log      x37_log      x16_log      x59_log  \n",
       "count  8601.000000  8601.000000  8601.000000  8601.000000  8601.000000  \n",
       "mean      3.131238     0.050201     0.942365     3.014111     4.607695  \n",
       "std       0.246419     0.139174     0.096392     0.298156     0.363031  \n",
       "min       0.000000     0.000000     0.000000     0.000000     0.000000  \n",
       "25%       3.135953     0.000000     0.908318     3.017309     4.626641  \n",
       "50%       3.144108     0.000000     0.943856     3.040435     4.632770  \n",
       "75%       3.175636     0.105530     0.978289     3.075136     4.645446  \n",
       "max       3.297213     1.107961     1.160023     3.122037     4.678116  \n",
       "\n",
       "[8 rows x 53 columns]"
      ]
     },
     "execution_count": 49,
     "metadata": {},
     "output_type": "execute_result"
    }
   ],
   "source": [
    "# scale 필요\n",
    "train_data.describe()"
   ]
  },
  {
   "cell_type": "code",
   "execution_count": 50,
   "id": "6cb44008-76cf-4256-b317-3c25b061309c",
   "metadata": {},
   "outputs": [],
   "source": [
    "### for ML models"
   ]
  },
  {
   "cell_type": "code",
   "execution_count": 51,
   "id": "8d1d6a6d-5ae4-4b28-94a0-8e80c99e6698",
   "metadata": {},
   "outputs": [],
   "source": [
    "# remove time data\n",
    "\n",
    "notime_train_data = train_data.drop(['time'], axis=1)\n",
    "notime_valid_data = valid_data.drop(['time'], axis=1)"
   ]
  },
  {
   "cell_type": "code",
   "execution_count": 52,
   "id": "b325c2ce-4e7f-445d-b87f-d8448b53f2bf",
   "metadata": {},
   "outputs": [],
   "source": [
    "# extract y from data\n",
    "x_train = notime_train_data.drop(target, axis=1)\n",
    "x_val = notime_valid_data.drop(target, axis=1)\n",
    "\n",
    "y_train = notime_train_data.loc[:,target]\n",
    "y_val = notime_valid_data.loc[:,target]"
   ]
  },
  {
   "cell_type": "code",
   "execution_count": 53,
   "id": "396bca1c-1ab8-4704-9484-711cb38433d4",
   "metadata": {},
   "outputs": [
    {
     "data": {
      "text/plain": [
       "((8601, 58), (8601,), (3555, 58), (3555,))"
      ]
     },
     "execution_count": 53,
     "metadata": {},
     "output_type": "execute_result"
    }
   ],
   "source": [
    "x_train.shape, y_train.shape, x_val.shape, y_val.shape"
   ]
  },
  {
   "cell_type": "code",
   "execution_count": 54,
   "id": "0cc25153-23ab-4997-9688-687f84daeaf6",
   "metadata": {},
   "outputs": [],
   "source": [
    "scaler = RobustScaler()\n",
    "x_train_s = scaler.fit_transform(x_train)\n",
    "x_val_s = scaler.transform(x_val)"
   ]
  },
  {
   "cell_type": "code",
   "execution_count": 55,
   "id": "0831bbb1-b05d-412b-9623-c71b29295ddb",
   "metadata": {},
   "outputs": [],
   "source": [
    "x_train_s_df = pd.DataFrame(x_train_s, columns = list(x_train.columns))\n",
    "x_val_s_df = pd.DataFrame(x_val_s, columns = list(x_val.columns))"
   ]
  },
  {
   "cell_type": "code",
   "execution_count": 56,
   "id": "ef6b8940-d905-4346-9ff8-f1a46641b4a4",
   "metadata": {},
   "outputs": [],
   "source": [
    "for column in x_train_s_df.columns:\n",
    "    if ('_IQR' in column) or ('_outlier' in column):\n",
    "        x_train_s_df[column] = x_train_s_df[column].astype(int).astype(\"category\")\n",
    "        x_val_s_df[column] = x_val_s_df[column].astype(int).astype(\"category\")"
   ]
  },
  {
   "cell_type": "markdown",
   "id": "2d6a948e-4914-4886-b981-7617f3eabea3",
   "metadata": {
    "tags": []
   },
   "source": [
    "## Business tables"
   ]
  },
  {
   "cell_type": "code",
   "execution_count": 57,
   "id": "5c0e3003-ce10-40f7-a41d-26a38372ba2b",
   "metadata": {},
   "outputs": [
    {
     "data": {
      "text/plain": [
       "array([[  0,   3],\n",
       "       [100,   3]])"
      ]
     },
     "execution_count": 57,
     "metadata": {},
     "output_type": "execute_result"
    }
   ],
   "source": [
    "co = 100\n",
    "m = 3\n",
    "bv = np.array([[0, m],[co, m]])\n",
    "bv"
   ]
  },
  {
   "cell_type": "code",
   "execution_count": 58,
   "id": "d74b8d9c-2550-415a-bba7-fe4029138f6a",
   "metadata": {},
   "outputs": [
    {
     "data": {
      "text/plain": [
       "2500"
      ]
     },
     "execution_count": 58,
     "metadata": {},
     "output_type": "execute_result"
    }
   ],
   "source": [
    "base_cost = co * valid_data['time'][valid_data.y==1].count()\n",
    "base_cost"
   ]
  },
  {
   "cell_type": "code",
   "execution_count": 59,
   "id": "790368ff-fb83-4ca6-8284-1d047bf3f980",
   "metadata": {},
   "outputs": [],
   "source": [
    "def calculate_cost(y, pred, thresholds):\n",
    "    pred_temp = np.where(pred > thresholds, 1, 0)\n",
    "    \n",
    "    return (confusion_matrix(y, pred_temp) * bv).sum()"
   ]
  },
  {
   "cell_type": "code",
   "execution_count": 60,
   "id": "9927d962-24fd-4899-bb61-175c02376a95",
   "metadata": {},
   "outputs": [],
   "source": [
    "def cost_curve(y_val, val_score, thresholds):\n",
    "    cost_list = list()\n",
    "    for thre in thresholds:\n",
    "        cost_list.append(calculate_cost(y_val, val_score, thre))\n",
    "\n",
    "    cost_list = np.array(cost_list)\n",
    "\n",
    "    # 그래프 그리기\n",
    "    plt.figure(figsize = (10,6))\n",
    "    plt.plot(thresholds, cost_list, label = 'cost')\n",
    "\n",
    "    #-------------------------------------------------------------------------\n",
    "    # 아래 코드는 차트 꾸미기 입니다. \n",
    "    thre = round(thresholds[np.argmin(cost_list)], 4)\n",
    "    cost = round(min(cost_list), 4)\n",
    "    plt.axvline(thre , color = 'darkred', linewidth = .7)\n",
    "    plt.axhline(cost, color = 'darkred', linewidth = .7)\n",
    "\n",
    "    plt.xlabel('Anomaly Score')\n",
    "    plt.ylabel('Cost')\n",
    "    plt.legend()\n",
    "    plt.grid()\n",
    "    plt.show()\n",
    "    \n",
    "    return thre, cost"
   ]
  },
  {
   "cell_type": "markdown",
   "id": "d0ee4398-cf18-43bf-85b9-539a4d70a8cb",
   "metadata": {},
   "source": [
    "## Isolation Forest"
   ]
  },
  {
   "cell_type": "code",
   "execution_count": 61,
   "id": "4cc0dee1-9331-4fd5-b236-965ec22bd1fe",
   "metadata": {},
   "outputs": [
    {
     "name": "stdout",
     "output_type": "stream",
     "text": [
      "[[1770 1760]\n",
      " [  13   12]]\n",
      "              precision    recall  f1-score   support\n",
      "\n",
      "           0       0.99      0.50      0.67      3530\n",
      "           1       0.01      0.48      0.01        25\n",
      "\n",
      "    accuracy                           0.50      3555\n",
      "   macro avg       0.50      0.49      0.34      3555\n",
      "weighted avg       0.99      0.50      0.66      3555\n",
      "\n"
     ]
    }
   ],
   "source": [
    "model1 = IsolationForest()\n",
    "model1.fit(x_train_s_df)\n",
    "pred1 = model1.predict(x_val_s_df)\n",
    "pred1 = np.where(pred1 == 1, 0, 1)\n",
    "print(confusion_matrix(y_val, pred1))\n",
    "print(classification_report(y_val, pred1))"
   ]
  },
  {
   "cell_type": "code",
   "execution_count": 62,
   "id": "512080a5-1e61-46a9-877d-547ec0f57cce",
   "metadata": {},
   "outputs": [
    {
     "data": {
      "image/png": "[encoded data removed]",
      "text/plain": [
       "<Figure size 432x288 with 1 Axes>"
      ]
     },
     "metadata": {
      "needs_background": "light"
     },
     "output_type": "display_data"
    }
   ],
   "source": [
    "train_score = model1.score_samples(x_train_s_df)\n",
    "train_score = -1 * train_score \n",
    "\n",
    "sns.histplot(train_score, kde=True, binwidth=0.01)\n",
    "plt.show()"
   ]
  },
  {
   "cell_type": "code",
   "execution_count": 63,
   "id": "a2aed1e8-a509-4a9f-8f1c-25359f51c352",
   "metadata": {},
   "outputs": [
    {
     "data": {
      "image/png": "[encoded data removed]",
      "text/plain": [
       "<Figure size 432x288 with 1 Axes>"
      ]
     },
     "metadata": {
      "needs_background": "light"
     },
     "output_type": "display_data"
    }
   ],
   "source": [
    "val_score = model1.score_samples(x_val_s_df)\n",
    "val_score = -1 * val_score\n",
    "\n",
    "sns.histplot(val_score, kde=True, binwidth=0.01)\n",
    "plt.show()"
   ]
  },
  {
   "cell_type": "code",
   "execution_count": 64,
   "id": "b28f52fb-00d8-4319-8751-75cab7b59834",
   "metadata": {},
   "outputs": [
    {
     "data": {
      "image/png": "[encoded data removed]",
      "text/plain": [
       "<Figure size 720x432 with 1 Axes>"
      ]
     },
     "metadata": {
      "needs_background": "light"
     },
     "output_type": "display_data"
    }
   ],
   "source": [
    "_, _, f1, thresholds = prec_rec_f1_curve(y_val, val_score)"
   ]
  },
  {
   "cell_type": "code",
   "execution_count": 65,
   "id": "1347378f-78d0-40ba-b62b-092c919cf5c3",
   "metadata": {},
   "outputs": [
    {
     "data": {
      "text/plain": [
       "0.6363639466024675"
      ]
     },
     "execution_count": 65,
     "metadata": {},
     "output_type": "execute_result"
    }
   ],
   "source": [
    "cutoff_f1max = thresholds[np.argmax(f1)]\n",
    "cutoff_f1max"
   ]
  },
  {
   "cell_type": "code",
   "execution_count": 66,
   "id": "b4645fb1-d9c7-479f-aa30-6c8eb4b24b91",
   "metadata": {},
   "outputs": [
    {
     "data": {
      "text/plain": [
       "0.06666666666666667"
      ]
     },
     "execution_count": 66,
     "metadata": {},
     "output_type": "execute_result"
    }
   ],
   "source": [
    "f1.max()"
   ]
  },
  {
   "cell_type": "code",
   "execution_count": 67,
   "id": "287089aa-d62f-4434-a651-1d850f86aacd",
   "metadata": {},
   "outputs": [
    {
     "data": {
      "text/plain": [
       "0.004534356470177886"
      ]
     },
     "execution_count": 67,
     "metadata": {},
     "output_type": "execute_result"
    }
   ],
   "source": [
    "new_cont = sum(train_score >= cutoff_f1max) / len(train_score)\n",
    "new_cont"
   ]
  },
  {
   "cell_type": "code",
   "execution_count": 68,
   "id": "3e6a4361-9168-464a-be95-0ba58eb686cd",
   "metadata": {},
   "outputs": [],
   "source": [
    "n_est = list(range(20,201,20))\n",
    "max_s = list(range(100,1001,100))\n",
    "items = [n_est, max_s]\n",
    "params = list(product(*items))"
   ]
  },
  {
   "cell_type": "code",
   "execution_count": 69,
   "id": "cbb46e9c-f1a8-4517-9969-2bf5bb5bfb02",
   "metadata": {},
   "outputs": [
    {
     "name": "stderr",
     "output_type": "stream",
     "text": [
      "100%|█████████████████████████████████████████████████████████████████████████████████████████████████████████████████████████████| 100/100 [01:47<00:00,  1.07s/it]\n"
     ]
    }
   ],
   "source": [
    "f1_list = []\n",
    "\n",
    "for p in tqdm(params) :\n",
    "    model = IsolationForest(contamination=new_cont, n_estimators=p[0], max_samples=p[1], random_state=0)\n",
    "    model.fit(x_train_s_df)\n",
    "    pred = model.predict(x_val_s_df)\n",
    "    pred = np.where(pred==1, 0, 1)\n",
    "    f1_list.append(f1_score(y_val, pred, pos_label=1))"
   ]
  },
  {
   "cell_type": "code",
   "execution_count": 70,
   "id": "25c564e3-81c3-47c8-a5f8-1e39b43b9e43",
   "metadata": {},
   "outputs": [
    {
     "name": "stdout",
     "output_type": "stream",
     "text": [
      "(40, 800)\n",
      "0.06896551724137932\n"
     ]
    }
   ],
   "source": [
    "max_id = np.argmax(f1_list)\n",
    "\n",
    "print(params[max_id])\n",
    "print(f1_list[max_id])"
   ]
  },
  {
   "cell_type": "code",
   "execution_count": 71,
   "id": "be4644fd-6fd5-4396-8b4b-6ed175501874",
   "metadata": {},
   "outputs": [
    {
     "name": "stdout",
     "output_type": "stream",
     "text": [
      "[[3527    3]\n",
      " [  24    1]]\n",
      "              precision    recall  f1-score   support\n",
      "\n",
      "           0       0.99      1.00      1.00      3530\n",
      "           1       0.25      0.04      0.07        25\n",
      "\n",
      "    accuracy                           0.99      3555\n",
      "   macro avg       0.62      0.52      0.53      3555\n",
      "weighted avg       0.99      0.99      0.99      3555\n",
      "\n"
     ]
    }
   ],
   "source": [
    "model1 = IsolationForest(contamination=new_cont, n_estimators=params[max_id][0], max_samples=params[max_id][1], random_state=0)\n",
    "model1.fit(x_train_s_df)\n",
    "\n",
    "pred1 = model1.predict(x_val_s_df)\n",
    "pred1 = np.where(pred1==1, 0, 1)\n",
    "print(confusion_matrix(y_val, pred1))\n",
    "print(classification_report(y_val, pred1))"
   ]
  },
  {
   "cell_type": "code",
   "execution_count": 72,
   "id": "c15e94ac-fbb9-49b7-bbe1-bd2ed1b16802",
   "metadata": {},
   "outputs": [],
   "source": [
    "train_score = model1.score_samples(x_train_s_df)\n",
    "train_score = -1 * train_score\n",
    "\n",
    "val_score = model1.score_samples(x_val_s_df)\n",
    "val_score = -1 * val_score"
   ]
  },
  {
   "cell_type": "code",
   "execution_count": 73,
   "id": "f1a0dbac-271a-4845-8983-727440a10b0b",
   "metadata": {},
   "outputs": [
    {
     "data": {
      "image/png": "[encoded data removed]",
      "text/plain": [
       "<Figure size 720x432 with 1 Axes>"
      ]
     },
     "metadata": {
      "needs_background": "light"
     },
     "output_type": "display_data"
    }
   ],
   "source": [
    "_, _, f1, thresholds = prec_rec_f1_curve(y_val, val_score)"
   ]
  },
  {
   "cell_type": "code",
   "execution_count": 74,
   "id": "d9c1f5dc-0992-4717-a032-ca76bf4989cf",
   "metadata": {},
   "outputs": [
    {
     "data": {
      "text/plain": [
       "0.6299236745803396"
      ]
     },
     "execution_count": 74,
     "metadata": {},
     "output_type": "execute_result"
    }
   ],
   "source": [
    "cutoff_f1max = thresholds[np.argmax(f1)]\n",
    "cutoff_f1max"
   ]
  },
  {
   "cell_type": "code",
   "execution_count": 75,
   "id": "05a87c28-c8a3-47d2-aff5-9d5400d18e91",
   "metadata": {},
   "outputs": [
    {
     "data": {
      "text/plain": [
       "0.12121212121212122"
      ]
     },
     "execution_count": 75,
     "metadata": {},
     "output_type": "execute_result"
    }
   ],
   "source": [
    "f1.max()"
   ]
  },
  {
   "cell_type": "code",
   "execution_count": 76,
   "id": "49bce24b-51a3-4937-a8aa-6dfb1a40b24c",
   "metadata": {},
   "outputs": [
    {
     "data": {
      "text/plain": [
       "<AxesSubplot:xlabel='time'>"
      ]
     },
     "execution_count": 76,
     "metadata": {},
     "output_type": "execute_result"
    },
    {
     "data": {
      "image/png": "[encoded data removed]",
      "text/plain": [
       "<Figure size 720x432 with 1 Axes>"
      ]
     },
     "metadata": {
      "needs_background": "light"
     },
     "output_type": "display_data"
    }
   ],
   "source": [
    "plt.figure(figsize=(10,6))\n",
    "\n",
    "ax = plt.axes()            \n",
    "plt.xticks(rotation=15)\n",
    "    \n",
    "ax.xaxis.set_major_locator(mdates.DayLocator(interval=1))\n",
    "ax.xaxis.set_major_formatter(mdates.DateFormatter('%Y-%m-%d'))\n",
    "\n",
    "ax.axhline(cutoff_f1max, color='grey', linestyle='--', linewidth=0.8)\n",
    "\n",
    "sns.scatterplot(train_data['time'], train_score, hue=y_train, ax=ax)"
   ]
  },
  {
   "cell_type": "code",
   "execution_count": 77,
   "id": "5f352f17-aedc-41f3-bcec-2bd4194509e7",
   "metadata": {},
   "outputs": [
    {
     "data": {
      "text/plain": [
       "<AxesSubplot:xlabel='time'>"
      ]
     },
     "execution_count": 77,
     "metadata": {},
     "output_type": "execute_result"
    },
    {
     "data": {
      "image/png": "[encoded data removed]",
      "text/plain": [
       "<Figure size 720x432 with 1 Axes>"
      ]
     },
     "metadata": {
      "needs_background": "light"
     },
     "output_type": "display_data"
    }
   ],
   "source": [
    "plt.figure(figsize=(10,6))\n",
    "\n",
    "ax = plt.axes()            \n",
    "plt.xticks(rotation=15)\n",
    "    \n",
    "ax.xaxis.set_major_locator(mdates.DayLocator(interval=1))\n",
    "ax.xaxis.set_major_formatter(mdates.DateFormatter('%Y-%m-%d'))\n",
    "\n",
    "ax.axhline(cutoff_f1max, color='grey', linestyle='--', linewidth=0.8)\n",
    "\n",
    "sns.scatterplot(valid_data['time'], val_score, hue=y_val, ax=ax)"
   ]
  },
  {
   "cell_type": "code",
   "execution_count": 78,
   "id": "a297de51-fe93-48d6-bca2-c69318d1ad60",
   "metadata": {},
   "outputs": [
    {
     "name": "stdout",
     "output_type": "stream",
     "text": [
      "[[3524    6]\n",
      " [  23    2]]\n"
     ]
    }
   ],
   "source": [
    "pred_y = np.where(val_score >= cutoff_f1max, 1, 0)\n",
    "print(confusion_matrix(y_val, pred_y))"
   ]
  },
  {
   "cell_type": "code",
   "execution_count": 79,
   "id": "cf88bfe5-2ce1-4e33-9fad-68d63151979d",
   "metadata": {},
   "outputs": [],
   "source": [
    "cm = confusion_matrix(y_val, pred_y)"
   ]
  },
  {
   "cell_type": "code",
   "execution_count": 80,
   "id": "938ec675-2dab-48ef-9d6e-651adeca5e3a",
   "metadata": {},
   "outputs": [
    {
     "data": {
      "text/plain": [
       "176"
      ]
     },
     "execution_count": 80,
     "metadata": {},
     "output_type": "execute_result"
    }
   ],
   "source": [
    "base_cost - (cm * bv).sum()"
   ]
  },
  {
   "cell_type": "code",
   "execution_count": 81,
   "id": "62988d27-a475-4bf3-898f-6efe8beb3b14",
   "metadata": {},
   "outputs": [
    {
     "data": {
      "image/png": "[encoded data removed]",
      "text/plain": [
       "<Figure size 720x432 with 1 Axes>"
      ]
     },
     "metadata": {
      "needs_background": "light"
     },
     "output_type": "display_data"
    }
   ],
   "source": [
    "thre1, cost1 = cost_curve(y_val, val_score, thresholds)"
   ]
  },
  {
   "cell_type": "code",
   "execution_count": 82,
   "id": "1d23a152-d2dc-4d6f-bd32-d5014cdc1ea3",
   "metadata": {},
   "outputs": [
    {
     "name": "stdout",
     "output_type": "stream",
     "text": [
      "[[3523    7]\n",
      " [  23    2]]\n"
     ]
    }
   ],
   "source": [
    "pred_y = np.where(val_score >= thre1, 1, 0)\n",
    "print(confusion_matrix(y_val, pred_y))"
   ]
  },
  {
   "cell_type": "code",
   "execution_count": 83,
   "id": "dd8e843d-3fd8-4526-ae75-fbfac398e80a",
   "metadata": {},
   "outputs": [
    {
     "data": {
      "text/plain": [
       "(0.6289, 2324)"
      ]
     },
     "execution_count": 83,
     "metadata": {},
     "output_type": "execute_result"
    }
   ],
   "source": [
    "# best f1의 threshold와 유사\n",
    "thre1, cost1"
   ]
  },
  {
   "cell_type": "code",
   "execution_count": 84,
   "id": "44b6380e-fd83-4238-ac70-21e4e1f8004d",
   "metadata": {},
   "outputs": [
    {
     "data": {
      "text/plain": [
       "176"
      ]
     },
     "execution_count": 84,
     "metadata": {},
     "output_type": "execute_result"
    }
   ],
   "source": [
    "base_cost - cost1"
   ]
  },
  {
   "cell_type": "markdown",
   "id": "1805c6a2-dc0e-4ea2-ab66-63eeffec74b1",
   "metadata": {},
   "source": [
    "## OneClass SVM"
   ]
  },
  {
   "cell_type": "code",
   "execution_count": 85,
   "id": "72c58d20-c012-41d2-82eb-b91daeb00357",
   "metadata": {},
   "outputs": [],
   "source": [
    "y_train = y_train.reset_index(drop=True)"
   ]
  },
  {
   "cell_type": "code",
   "execution_count": 86,
   "id": "605edacd-ac0d-43fe-b0fb-393b98dd3b34",
   "metadata": {},
   "outputs": [],
   "source": [
    "x_train0 = x_train_s_df[y_train == 0]"
   ]
  },
  {
   "cell_type": "code",
   "execution_count": 87,
   "id": "cff3c8c2-c9a4-4cde-be8e-10edb77846ac",
   "metadata": {},
   "outputs": [],
   "source": [
    "model2 = OneClassSVM()\n",
    "model2.fit(x_train0)\n",
    "pred2 = model2.predict(x_val_s)\n",
    "pred2 = np.where(pred2==1, 0, 1) # -1, 1 ==> 1, 0"
   ]
  },
  {
   "cell_type": "code",
   "execution_count": 88,
   "id": "484d97dd-e418-410e-aaf9-3be57c46fcfa",
   "metadata": {},
   "outputs": [
    {
     "name": "stdout",
     "output_type": "stream",
     "text": [
      "[[ 222 3308]\n",
      " [   5   20]]\n",
      "--------------------------------------------------\n",
      "              precision    recall  f1-score   support\n",
      "\n",
      "           0       0.98      0.06      0.12      3530\n",
      "           1       0.01      0.80      0.01        25\n",
      "\n",
      "    accuracy                           0.07      3555\n",
      "   macro avg       0.49      0.43      0.07      3555\n",
      "weighted avg       0.97      0.07      0.12      3555\n",
      "\n"
     ]
    }
   ],
   "source": [
    "print(confusion_matrix(y_val, pred2))\n",
    "print('-'*50)\n",
    "print(classification_report(y_val, pred2))"
   ]
  },
  {
   "cell_type": "code",
   "execution_count": 89,
   "id": "ae8dd900-a6c7-4f9c-b987-b917be272bd9",
   "metadata": {},
   "outputs": [
    {
     "data": {
      "text/plain": [
       "0.011929615269907545"
      ]
     },
     "execution_count": 89,
     "metadata": {},
     "output_type": "execute_result"
    }
   ],
   "source": [
    "f1_score(y_val, pred2)"
   ]
  },
  {
   "cell_type": "code",
   "execution_count": 90,
   "id": "31f9e066-e870-47c9-a844-055a14114b25",
   "metadata": {},
   "outputs": [],
   "source": [
    "nu = [0.001, 0.01, 0.05, 0.1]\n",
    "gamma = [0.01, 0.1, 0.5, 1]\n",
    "items = [nu, gamma] \n",
    "params = list(product(*items))"
   ]
  },
  {
   "cell_type": "code",
   "execution_count": 91,
   "id": "e89fc5f0-bf04-4a93-bc6c-caa2bd92b36f",
   "metadata": {},
   "outputs": [
    {
     "name": "stderr",
     "output_type": "stream",
     "text": [
      "100%|███████████████████████████████████████████████████████████████████████████████████████████████████████████████████████████████| 16/16 [02:10<00:00,  8.14s/it]\n"
     ]
    }
   ],
   "source": [
    "f1_list = []\n",
    "for p in tqdm(params) :\n",
    "    model=OneClassSVM(nu=p[0], gamma=p[1])\n",
    "    model.fit(x_train0)\n",
    "    \n",
    "    pred = model.predict(x_val_s)\n",
    "    pred = np.where(pred==1, 0, 1)\n",
    "    f1_list.append(f1_score(y_val, pred, pos_label=1))"
   ]
  },
  {
   "cell_type": "code",
   "execution_count": 92,
   "id": "09ab6d9f-5fa9-454c-a734-ec7bbb2020bc",
   "metadata": {},
   "outputs": [
    {
     "name": "stdout",
     "output_type": "stream",
     "text": [
      "(0.1, 0.1)\n",
      "0.014018691588785048\n"
     ]
    }
   ],
   "source": [
    "max_id = np.argmax(f1_list)\n",
    "\n",
    "print(params[max_id])\n",
    "print(f1_list[max_id])"
   ]
  },
  {
   "cell_type": "code",
   "execution_count": 93,
   "id": "bfc8d1ab-1ebf-423c-867d-6abf85852ff2",
   "metadata": {},
   "outputs": [
    {
     "name": "stdout",
     "output_type": "stream",
     "text": [
      "[[ 155 3375]\n",
      " [   1   24]]\n",
      "              precision    recall  f1-score   support\n",
      "\n",
      "           0       0.99      0.04      0.08      3530\n",
      "           1       0.01      0.96      0.01        25\n",
      "\n",
      "    accuracy                           0.05      3555\n",
      "   macro avg       0.50      0.50      0.05      3555\n",
      "weighted avg       0.99      0.05      0.08      3555\n",
      "\n"
     ]
    }
   ],
   "source": [
    "model2 = OneClassSVM(nu=params[max_id][0], gamma=params[max_id][1])\n",
    "model2.fit(x_train0)\n",
    "\n",
    "pred2 = model2.predict(x_val_s)\n",
    "pred2 = np.where(pred2 == 1, 0, 1)\n",
    "\n",
    "cm = confusion_matrix(y_val, pred2)\n",
    "print(cm)\n",
    "print(classification_report(y_val, pred2))"
   ]
  },
  {
   "cell_type": "code",
   "execution_count": 94,
   "id": "0b621df4-7b7f-4ced-8c79-9f6f4a958eda",
   "metadata": {},
   "outputs": [
    {
     "name": "stderr",
     "output_type": "stream",
     "text": [
      "100%|███████████████████████████████████████████████████████████████████████████████████████████████████████████████████████████████| 16/16 [02:09<00:00,  8.08s/it]\n"
     ]
    }
   ],
   "source": [
    "cost_list = []\n",
    "for p in tqdm(params) :\n",
    "    model=OneClassSVM(nu=p[0], gamma=p[1])\n",
    "    model.fit(x_train0)\n",
    "    \n",
    "    pred = model.predict(x_val_s)\n",
    "    pred = np.where(pred==1, 0, 1)\n",
    "    cm = confusion_matrix(y_val, pred)\n",
    "    cost_list.append((cm * bv).sum())"
   ]
  },
  {
   "cell_type": "code",
   "execution_count": 95,
   "id": "55786559-7519-4a04-806b-0d2263ab0233",
   "metadata": {},
   "outputs": [
    {
     "name": "stdout",
     "output_type": "stream",
     "text": [
      "(0.001, 0.01)\n",
      "8732\n"
     ]
    }
   ],
   "source": [
    "min_id = np.argmin(cost_list)\n",
    "\n",
    "print(params[min_id])\n",
    "print(cost_list[min_id])"
   ]
  },
  {
   "cell_type": "code",
   "execution_count": 96,
   "id": "7117a8d8-06a7-41c7-b0ab-8bac90138d4b",
   "metadata": {},
   "outputs": [
    {
     "name": "stdout",
     "output_type": "stream",
     "text": [
      "[[ 903 2627]\n",
      " [   8   17]]\n",
      "              precision    recall  f1-score   support\n",
      "\n",
      "           0       0.99      0.26      0.41      3530\n",
      "           1       0.01      0.68      0.01        25\n",
      "\n",
      "    accuracy                           0.26      3555\n",
      "   macro avg       0.50      0.47      0.21      3555\n",
      "weighted avg       0.98      0.26      0.40      3555\n",
      "\n"
     ]
    }
   ],
   "source": [
    "model2 = OneClassSVM(nu=params[min_id][0], gamma=params[min_id][1])\n",
    "model2.fit(x_train0)\n",
    "\n",
    "pred2 = model2.predict(x_val_s)\n",
    "pred2 = np.where(pred2==1, 0, 1)\n",
    "\n",
    "cm = confusion_matrix(y_val, pred2)\n",
    "print(cm)\n",
    "print(classification_report(y_val, pred2))"
   ]
  },
  {
   "cell_type": "code",
   "execution_count": 97,
   "id": "4e39502a-377a-4412-ad3b-f1e6601c448f",
   "metadata": {},
   "outputs": [
    {
     "data": {
      "text/plain": [
       "-6232"
      ]
     },
     "execution_count": 97,
     "metadata": {},
     "output_type": "execute_result"
    }
   ],
   "source": [
    "# 오히려 손해 남..\n",
    "base_cost - cost_list[min_id]"
   ]
  },
  {
   "cell_type": "markdown",
   "id": "91407928-363d-49bc-b40d-9e36f2be567e",
   "metadata": {
    "tags": []
   },
   "source": [
    "## LSTM-AE"
   ]
  },
  {
   "cell_type": "code",
   "execution_count": 98,
   "id": "a41755c0-1db1-4b35-9715-903b232f494a",
   "metadata": {},
   "outputs": [],
   "source": [
    "# extract y from data\n",
    "x_train = train_data.drop(target, axis=1)\n",
    "x_val = valid_data.drop(target, axis=1)\n",
    "\n",
    "y_train = train_data.loc[:,target]\n",
    "y_val = valid_data.loc[:,target]"
   ]
  },
  {
   "cell_type": "code",
   "execution_count": 99,
   "id": "3754baae-e706-40b2-9ca7-6e6b76a405e0",
   "metadata": {},
   "outputs": [],
   "source": [
    "seq_size = 3\n",
    "drop_list = ['time']\n",
    "\n",
    "scaler = RobustScaler()\n",
    "scaler.fit_transform(x_train.drop('time', axis=1)[y_train==0])\n",
    "\n",
    "def drop_columns(data):\n",
    "    for column in drop_list:\n",
    "        if column in data.columns:\n",
    "            data = data.drop(column, axis=1)\n",
    "            \n",
    "    return data\n",
    "\n",
    "def to_sequences(data, target, train=False): # Number of time steps to look back\n",
    "    sub_df_list = get_sub_df(data)\n",
    "            \n",
    "    # sub-dataframe seq 전환\n",
    "    for i, sub_df in enumerate(sub_df_list):\n",
    "        if len(sub_df) < seq_size:\n",
    "            continue\n",
    "            \n",
    "        # 컬럼 제거\n",
    "        sub_df = drop_columns(sub_df)\n",
    "        \n",
    "        if train:\n",
    "            sub_df = sub_df[sub_df[target]==0]\n",
    "            \n",
    "        x = sub_df.drop(target, axis=1)\n",
    "        x_scale = scaler.transform(x)\n",
    "\n",
    "        y = sub_df[target]\n",
    "\n",
    "        seq_x, seq_y = temporalize(x_scale, list(y), seq_size)\n",
    "            \n",
    "        if i==0:\n",
    "            total_seq_x = seq_x\n",
    "            total_seq_y = seq_y\n",
    "        else:\n",
    "            try:\n",
    "                total_seq_x = np.append(total_seq_x, seq_x, axis=0)\n",
    "                total_seq_y = np.append(total_seq_y, seq_y, axis=0)\n",
    "\n",
    "            except ValueError as e:\n",
    "                print(e)\n",
    "\n",
    "    return total_seq_x, total_seq_y"
   ]
  },
  {
   "cell_type": "code",
   "execution_count": 100,
   "id": "d6fdbb2d-2687-48f5-89a8-5d039456a252",
   "metadata": {},
   "outputs": [
    {
     "name": "stdout",
     "output_type": "stream",
     "text": [
      "all the input arrays must have same number of dimensions, but the array at index 0 has 3 dimension(s) and the array at index 1 has 2 dimension(s)\n",
      "all the input arrays must have same number of dimensions, but the array at index 0 has 3 dimension(s) and the array at index 1 has 2 dimension(s)\n",
      "all the input arrays must have same number of dimensions, but the array at index 0 has 3 dimension(s) and the array at index 1 has 2 dimension(s)\n",
      "all the input arrays must have same number of dimensions, but the array at index 0 has 3 dimension(s) and the array at index 1 has 1 dimension(s)\n",
      "all the input arrays must have same number of dimensions, but the array at index 0 has 3 dimension(s) and the array at index 1 has 2 dimension(s)\n",
      "all the input arrays must have same number of dimensions, but the array at index 0 has 3 dimension(s) and the array at index 1 has 1 dimension(s)\n"
     ]
    }
   ],
   "source": [
    "x_seq, y_seq = to_sequences(train_data, 'y', train=True)"
   ]
  },
  {
   "cell_type": "code",
   "execution_count": 101,
   "id": "b43e5718-dbb7-499a-8110-436255d897d9",
   "metadata": {},
   "outputs": [],
   "source": [
    "x_seq_val, y_seq_val = to_sequences(valid_data, 'y')"
   ]
  },
  {
   "cell_type": "code",
   "execution_count": 102,
   "id": "bdd1fed5-4238-4243-abf8-86ea6f44e00b",
   "metadata": {},
   "outputs": [],
   "source": [
    "n_features =  x_seq.shape[2]"
   ]
  },
  {
   "cell_type": "code",
   "execution_count": 103,
   "id": "adc5fcca-6f54-4e67-baec-2cb612b852d2",
   "metadata": {},
   "outputs": [
    {
     "name": "stderr",
     "output_type": "stream",
     "text": [
      "2023-06-26 12:55:57.407853: I tensorflow/core/platform/cpu_feature_guard.cc:193] This TensorFlow binary is optimized with oneAPI Deep Neural Network Library (oneDNN) to use the following CPU instructions in performance-critical operations:  AVX2 FMA\n",
      "To enable them in other operations, rebuild TensorFlow with the appropriate compiler flags.\n"
     ]
    },
    {
     "name": "stdout",
     "output_type": "stream",
     "text": [
      "Model: \"sequential\"\n",
      "_________________________________________________________________\n",
      " Layer (type)                Output Shape              Param #   \n",
      "=================================================================\n",
      " lstm (LSTM)                 (None, 3, 128)            95744     \n",
      "                                                                 \n",
      " lstm_1 (LSTM)               (None, 64)                49408     \n",
      "                                                                 \n",
      " repeat_vector (RepeatVector  (None, 3, 64)            0         \n",
      " )                                                               \n",
      "                                                                 \n",
      " lstm_2 (LSTM)               (None, 3, 64)             33024     \n",
      "                                                                 \n",
      " lstm_3 (LSTM)               (None, 3, 128)            98816     \n",
      "                                                                 \n",
      " time_distributed (TimeDistr  (None, 3, 58)            7482      \n",
      " ibuted)                                                         \n",
      "                                                                 \n",
      "=================================================================\n",
      "Total params: 284,474\n",
      "Trainable params: 284,474\n",
      "Non-trainable params: 0\n",
      "_________________________________________________________________\n"
     ]
    }
   ],
   "source": [
    "clear_session()\n",
    "\n",
    "# Encoder - Decoder\n",
    "model3 = Sequential([LSTM(128, input_shape = (seq_size, n_features), return_sequences=True),\n",
    "                     LSTM(64, return_sequences=False),\n",
    "                     RepeatVector(seq_size),\n",
    "                     LSTM(64, return_sequences=True),\n",
    "                     LSTM(128, return_sequences=True),\n",
    "                     TimeDistributed(Dense(n_features))])\n",
    "\n",
    "# input_layer = Input(shape=(timesteps, n_features))\n",
    "# encoder = LSTM(128, return_sequences=True)(input_layer)\n",
    "# encoder = LSTM(64, return_sequences=False)(encoder)\n",
    "# encoder = RepeatVector(timesteps)(encoder)\n",
    "\n",
    "# # Decoder\n",
    "# decoder = LSTM(64, return_sequences=True)(encoder)\n",
    "# decoder = LSTM(128, return_sequences=True)(decoder)\n",
    "# decoder = TimeDistributed(Dense(n_features))(decoder)\n",
    "# lstm_ae = Model(inputs=input_layer, outputs=decoder)\n",
    "\n",
    "model3.summary()"
   ]
  },
  {
   "cell_type": "code",
   "execution_count": 104,
   "id": "ebf7b038-4075-4d70-ba03-f0d13988ffa3",
   "metadata": {},
   "outputs": [
    {
     "name": "stdout",
     "output_type": "stream",
     "text": [
      "Epoch 1/10\n",
      "1690/1690 [==============================] - 42s 20ms/step - loss: 203.1196\n",
      "Epoch 2/10\n",
      "1690/1690 [==============================] - 28s 17ms/step - loss: 185.2843\n",
      "Epoch 3/10\n",
      "1690/1690 [==============================] - 28s 17ms/step - loss: 170.5947\n",
      "Epoch 4/10\n",
      "1690/1690 [==============================] - 29s 17ms/step - loss: 158.4158\n",
      "Epoch 5/10\n",
      "1690/1690 [==============================] - 24s 14ms/step - loss: 145.4281\n",
      "Epoch 6/10\n",
      "1690/1690 [==============================] - 24s 14ms/step - loss: 133.8281\n",
      "Epoch 7/10\n",
      "1690/1690 [==============================] - 24s 14ms/step - loss: 123.5082\n",
      "Epoch 8/10\n",
      "1690/1690 [==============================] - 28s 17ms/step - loss: 115.3216\n",
      "Epoch 9/10\n",
      "1690/1690 [==============================] - 25s 15ms/step - loss: 106.3193\n",
      "Epoch 10/10\n",
      "1690/1690 [==============================] - 24s 14ms/step - loss: 101.5769\n"
     ]
    },
    {
     "data": {
      "text/plain": [
       "<keras.callbacks.History at 0x7faf58ae97f0>"
      ]
     },
     "execution_count": 104,
     "metadata": {},
     "output_type": "execute_result"
    }
   ],
   "source": [
    "model3.compile(optimizer='adam', loss = 'mse')\n",
    "model3.fit(x_seq, x_seq, epochs=10, batch_size=5, verbose=1)"
   ]
  },
  {
   "cell_type": "code",
   "execution_count": 105,
   "id": "f06104c8-184f-4741-9ba0-73859211092d",
   "metadata": {},
   "outputs": [
    {
     "name": "stdout",
     "output_type": "stream",
     "text": [
      "110/110 [==============================] - 3s 11ms/step\n"
     ]
    }
   ],
   "source": [
    "pred3 = model3.predict(x_seq_val)"
   ]
  },
  {
   "cell_type": "code",
   "execution_count": 106,
   "id": "6810832b-4de8-4adf-a883-6ca701ef876e",
   "metadata": {},
   "outputs": [],
   "source": [
    "result1 = get_recon_err(x_seq_val, pred3, y_seq_val)"
   ]
  },
  {
   "cell_type": "code",
   "execution_count": 107,
   "id": "dfc1c897-d9ce-460c-b5b3-f47db812f891",
   "metadata": {},
   "outputs": [
    {
     "data": {
      "image/png": "[encoded data removed]",
      "text/plain": [
       "<Figure size 720x432 with 1 Axes>"
      ]
     },
     "metadata": {
      "needs_background": "light"
     },
     "output_type": "display_data"
    }
   ],
   "source": [
    "_, _, f1, thresholds = prec_rec_f1_curve(result1['True_class'], result1['Recon_error'])"
   ]
  },
  {
   "cell_type": "code",
   "execution_count": 108,
   "id": "0b3212d1-8de4-4f89-91ff-52328271465f",
   "metadata": {},
   "outputs": [
    {
     "data": {
      "text/plain": [
       "(6.869335937723204, 0.05333333333333334)"
      ]
     },
     "execution_count": 108,
     "metadata": {},
     "output_type": "execute_result"
    }
   ],
   "source": [
    "thresholds[np.argmax(f1)], max(f1)"
   ]
  },
  {
   "cell_type": "code",
   "execution_count": 109,
   "id": "58676619-192a-42df-9916-bf2e07c99acf",
   "metadata": {},
   "outputs": [
    {
     "name": "stdout",
     "output_type": "stream",
     "text": [
      "< confusion matrix >\n",
      "\n",
      "[[3292  194]\n",
      " [  20    5]]\n",
      "\n",
      "============================================================\n",
      "\n",
      "< classification_report >\n",
      "\n",
      "              precision    recall  f1-score   support\n",
      "\n",
      "           0       0.99      0.94      0.97      3486\n",
      "           1       0.03      0.20      0.04        25\n",
      "\n",
      "    accuracy                           0.94      3511\n",
      "   macro avg       0.51      0.57      0.51      3511\n",
      "weighted avg       0.99      0.94      0.96      3511\n",
      "\n"
     ]
    }
   ],
   "source": [
    "thre = thresholds[np.argmax(f1)]\n",
    "cm = get_confusion_matrix(result1['True_class'], result1['Recon_error'], thre)\n",
    "classification_report_with_cm(result1['True_class'], result1['Recon_error'], thre)"
   ]
  },
  {
   "cell_type": "code",
   "execution_count": 110,
   "id": "ec96ed38-024c-47e0-8e53-d4317a2b55c0",
   "metadata": {},
   "outputs": [
    {
     "data": {
      "image/png": "[encoded data removed]",
      "text/plain": [
       "<Figure size 432x288 with 1 Axes>"
      ]
     },
     "metadata": {
      "needs_background": "light"
     },
     "output_type": "display_data"
    }
   ],
   "source": [
    "recon_err_plot(result1, thre)"
   ]
  },
  {
   "cell_type": "code",
   "execution_count": 111,
   "id": "5d3287e9-f94a-4982-87d4-ac57d30de578",
   "metadata": {},
   "outputs": [
    {
     "data": {
      "text/plain": [
       "0.05333333333333334"
      ]
     },
     "execution_count": 111,
     "metadata": {},
     "output_type": "execute_result"
    }
   ],
   "source": [
    "max(f1)"
   ]
  },
  {
   "cell_type": "code",
   "execution_count": 112,
   "id": "d5d4a486-1655-415f-8ca5-38af44fb80c9",
   "metadata": {},
   "outputs": [
    {
     "data": {
      "text/plain": [
       "6.869335937723204"
      ]
     },
     "execution_count": 112,
     "metadata": {},
     "output_type": "execute_result"
    }
   ],
   "source": [
    "thre"
   ]
  },
  {
   "cell_type": "code",
   "execution_count": 113,
   "id": "5698c6e7-f779-4f59-9cf7-58fca7bcccb2",
   "metadata": {},
   "outputs": [
    {
     "data": {
      "image/png": "[encoded data removed]",
      "text/plain": [
       "<Figure size 720x432 with 1 Axes>"
      ]
     },
     "metadata": {
      "needs_background": "light"
     },
     "output_type": "display_data"
    }
   ],
   "source": [
    "thre3, cost3 = cost_curve(result1['True_class'], result1['Recon_error'], thresholds)"
   ]
  },
  {
   "cell_type": "code",
   "execution_count": 114,
   "id": "e49ede38-e897-4f43-8fea-3f17f93344ff",
   "metadata": {},
   "outputs": [
    {
     "data": {
      "text/plain": [
       "2597"
      ]
     },
     "execution_count": 114,
     "metadata": {},
     "output_type": "execute_result"
    }
   ],
   "source": [
    "calculate_cost(result1['True_class'], result1['Recon_error'], thresholds[np.argmax(f1)])"
   ]
  },
  {
   "cell_type": "code",
   "execution_count": 115,
   "id": "79821cf3-032a-4e22-8cf6-8c4ffdfa04c2",
   "metadata": {},
   "outputs": [
    {
     "data": {
      "text/plain": [
       "(6.8647, 2500)"
      ]
     },
     "execution_count": 115,
     "metadata": {},
     "output_type": "execute_result"
    }
   ],
   "source": [
    "thre3, cost3"
   ]
  },
  {
   "cell_type": "code",
   "execution_count": 116,
   "id": "50f56e96-6936-4660-92cb-ac55b35ab71f",
   "metadata": {},
   "outputs": [
    {
     "name": "stdout",
     "output_type": "stream",
     "text": [
      "< confusion matrix >\n",
      "\n",
      "[[3292  194]\n",
      " [  19    6]]\n",
      "\n",
      "============================================================\n",
      "\n",
      "< classification_report >\n",
      "\n",
      "              precision    recall  f1-score   support\n",
      "\n",
      "           0       0.99      0.94      0.97      3486\n",
      "           1       0.03      0.24      0.05        25\n",
      "\n",
      "    accuracy                           0.94      3511\n",
      "   macro avg       0.51      0.59      0.51      3511\n",
      "weighted avg       0.99      0.94      0.96      3511\n",
      "\n"
     ]
    }
   ],
   "source": [
    "classification_report_with_cm(result1['True_class'], result1['Recon_error'], thre3)"
   ]
  },
  {
   "cell_type": "code",
   "execution_count": 117,
   "id": "363ec37b-f205-4c53-84e1-e9c09474b91a",
   "metadata": {},
   "outputs": [
    {
     "data": {
      "image/png": "[encoded data removed]",
      "text/plain": [
       "<Figure size 432x288 with 1 Axes>"
      ]
     },
     "metadata": {
      "needs_background": "light"
     },
     "output_type": "display_data"
    }
   ],
   "source": [
    "recon_err_plot(result1, thre3)"
   ]
  },
  {
   "cell_type": "code",
   "execution_count": 118,
   "id": "a43e89d4-f66e-487e-8e6c-1692ad694ebd",
   "metadata": {},
   "outputs": [
    {
     "data": {
      "text/plain": [
       "0"
      ]
     },
     "execution_count": 118,
     "metadata": {},
     "output_type": "execute_result"
    }
   ],
   "source": [
    "base_cost - cost3"
   ]
  },
  {
   "cell_type": "markdown",
   "id": "54292c8f-8743-4276-b524-defb20e077e4",
   "metadata": {},
   "source": [
    "## CNN-AE"
   ]
  },
  {
   "cell_type": "code",
   "execution_count": 119,
   "id": "5f566555-b85d-4802-be5f-4b04d347a3d9",
   "metadata": {},
   "outputs": [
    {
     "data": {
      "text/plain": [
       "58"
      ]
     },
     "execution_count": 119,
     "metadata": {},
     "output_type": "execute_result"
    }
   ],
   "source": [
    "timesteps =  x_seq.shape[1] # equal to the lookback\n",
    "n_features =  x_seq.shape[2] # 52\n",
    "n_features"
   ]
  },
  {
   "cell_type": "code",
   "execution_count": 120,
   "id": "4bdaaa4e-c491-4ace-8ac4-022cdff99cda",
   "metadata": {},
   "outputs": [
    {
     "name": "stdout",
     "output_type": "stream",
     "text": [
      "Model: \"sequential\"\n",
      "_________________________________________________________________\n",
      " Layer (type)                Output Shape              Param #   \n",
      "=================================================================\n",
      " conv1d (Conv1D)             (None, 3, 32)             5600      \n",
      "                                                                 \n",
      " conv1d_1 (Conv1D)           (None, 3, 16)             1552      \n",
      "                                                                 \n",
      " conv1d_transpose (Conv1DTra  (None, 3, 16)            784       \n",
      " nspose)                                                         \n",
      "                                                                 \n",
      " conv1d_transpose_1 (Conv1DT  (None, 3, 32)            1568      \n",
      " ranspose)                                                       \n",
      "                                                                 \n",
      " conv1d_transpose_2 (Conv1DT  (None, 3, 58)            5626      \n",
      " ranspose)                                                       \n",
      "                                                                 \n",
      "=================================================================\n",
      "Total params: 15,130\n",
      "Trainable params: 15,130\n",
      "Non-trainable params: 0\n",
      "_________________________________________________________________\n"
     ]
    }
   ],
   "source": [
    "clear_session()\n",
    "\n",
    "model4 = Sequential([Conv1D(32, 3, input_shape=(timesteps, n_features), \n",
    "                                activation='relu', padding = 'same'), \n",
    "                        Conv1D(16, 3, activation=\"relu\", padding = 'same'),\n",
    "                        Conv1DTranspose(16, 3, activation=\"relu\", padding = 'same'),\n",
    "                        Conv1DTranspose(32, 3, activation=\"relu\", padding = 'same'),\n",
    "                        Conv1DTranspose(n_features, 3, padding = 'same') ])\n",
    "\n",
    "model4.summary()"
   ]
  },
  {
   "cell_type": "code",
   "execution_count": 121,
   "id": "e8beb941-19d1-4bfb-955d-f0f2415223dd",
   "metadata": {},
   "outputs": [
    {
     "name": "stdout",
     "output_type": "stream",
     "text": [
      "Epoch 1/10\n",
      "264/264 [==============================] - 2s 7ms/step - loss: 97.1679\n",
      "Epoch 2/10\n",
      "264/264 [==============================] - 3s 12ms/step - loss: 15.0291\n",
      "Epoch 3/10\n",
      "264/264 [==============================] - 2s 6ms/step - loss: 2.2928\n",
      "Epoch 4/10\n",
      "264/264 [==============================] - 2s 7ms/step - loss: 1.5977\n",
      "Epoch 5/10\n",
      "264/264 [==============================] - 2s 6ms/step - loss: 1.6902\n",
      "Epoch 6/10\n",
      "264/264 [==============================] - 2s 6ms/step - loss: 1.9372\n",
      "Epoch 7/10\n",
      "264/264 [==============================] - 2s 6ms/step - loss: 2.6924\n",
      "Epoch 8/10\n",
      "264/264 [==============================] - 2s 6ms/step - loss: 1.0208\n",
      "Epoch 9/10\n",
      "264/264 [==============================] - 2s 6ms/step - loss: 3.2635\n",
      "Epoch 10/10\n",
      "264/264 [==============================] - 2s 6ms/step - loss: 9.3263\n"
     ]
    },
    {
     "data": {
      "text/plain": [
       "<keras.callbacks.History at 0x7faee045b850>"
      ]
     },
     "execution_count": 121,
     "metadata": {},
     "output_type": "execute_result"
    }
   ],
   "source": [
    "model4.compile(optimizer = Adam(learning_rate = 0.001), loss = 'mse')\n",
    "model4.fit(x=x_seq, y=x_seq, epochs=10)"
   ]
  },
  {
   "cell_type": "code",
   "execution_count": 122,
   "id": "6a2753e8-174f-497d-b089-f817c13c4445",
   "metadata": {},
   "outputs": [
    {
     "name": "stdout",
     "output_type": "stream",
     "text": [
      "110/110 [==============================] - 1s 3ms/step\n"
     ]
    }
   ],
   "source": [
    "pred4 = model4.predict(x_seq_val)"
   ]
  },
  {
   "cell_type": "code",
   "execution_count": 123,
   "id": "3c24aaf6-1186-4966-8c4c-7b06734ae3a7",
   "metadata": {},
   "outputs": [],
   "source": [
    "result2 = get_recon_err(x_seq_val, pred4, y_seq_val)"
   ]
  },
  {
   "cell_type": "code",
   "execution_count": 124,
   "id": "d3fd787d-2db5-4538-81c9-5286b32369e6",
   "metadata": {},
   "outputs": [
    {
     "data": {
      "image/png": "[encoded data removed]",
      "text/plain": [
       "<Figure size 720x432 with 1 Axes>"
      ]
     },
     "metadata": {
      "needs_background": "light"
     },
     "output_type": "display_data"
    }
   ],
   "source": [
    "_, _, f1, thresholds = prec_rec_f1_curve(result2['True_class'], result2['Recon_error'])"
   ]
  },
  {
   "cell_type": "code",
   "execution_count": 125,
   "id": "618bb4ca-d99c-4882-95cf-9e364b15f3bb",
   "metadata": {},
   "outputs": [
    {
     "data": {
      "text/plain": [
       "7.0277594646600665"
      ]
     },
     "execution_count": 125,
     "metadata": {},
     "output_type": "execute_result"
    }
   ],
   "source": [
    "thres_f1_max = thresholds[np.argmax(f1)]\n",
    "thres_f1_max"
   ]
  },
  {
   "cell_type": "code",
   "execution_count": 126,
   "id": "51759a02-3338-425b-ae30-3a5c6c1e2d79",
   "metadata": {},
   "outputs": [
    {
     "name": "stdout",
     "output_type": "stream",
     "text": [
      "< confusion matrix >\n",
      "\n",
      "[[3227  259]\n",
      " [  20    5]]\n",
      "\n",
      "============================================================\n",
      "\n",
      "< classification_report >\n",
      "\n",
      "              precision    recall  f1-score   support\n",
      "\n",
      "           0       0.99      0.93      0.96      3486\n",
      "           1       0.02      0.20      0.03        25\n",
      "\n",
      "    accuracy                           0.92      3511\n",
      "   macro avg       0.51      0.56      0.50      3511\n",
      "weighted avg       0.99      0.92      0.95      3511\n",
      "\n"
     ]
    }
   ],
   "source": [
    "thre = thresholds[np.argmax(f1)]\n",
    "classification_report_with_cm(result2['True_class'], result2['Recon_error'], thre)"
   ]
  },
  {
   "cell_type": "code",
   "execution_count": 127,
   "id": "4a49ab29-e167-4d44-a2ef-92ff48240f39",
   "metadata": {},
   "outputs": [
    {
     "data": {
      "text/plain": [
       "0.041379310344827586"
      ]
     },
     "execution_count": 127,
     "metadata": {},
     "output_type": "execute_result"
    }
   ],
   "source": [
    "max(f1)"
   ]
  },
  {
   "cell_type": "code",
   "execution_count": 128,
   "id": "313d9e93-bcdf-4528-8570-f5768b3d4de0",
   "metadata": {},
   "outputs": [
    {
     "data": {
      "image/png": "[encoded data removed]",
      "text/plain": [
       "<Figure size 432x288 with 1 Axes>"
      ]
     },
     "metadata": {
      "needs_background": "light"
     },
     "output_type": "display_data"
    }
   ],
   "source": [
    "recon_err_plot(result2, thre)"
   ]
  },
  {
   "cell_type": "code",
   "execution_count": 129,
   "id": "6a4bbd5b-0e56-44c8-a247-f39cd6870fd2",
   "metadata": {},
   "outputs": [
    {
     "data": {
      "image/png": "[encoded data removed]",
      "text/plain": [
       "<Figure size 720x432 with 1 Axes>"
      ]
     },
     "metadata": {
      "needs_background": "light"
     },
     "output_type": "display_data"
    }
   ],
   "source": [
    "thre4, cost4 = cost_curve(result2['True_class'], result2['Recon_error'], thresholds)"
   ]
  },
  {
   "cell_type": "code",
   "execution_count": 130,
   "id": "d57928b1-c2fa-4898-9639-fe7975b11879",
   "metadata": {},
   "outputs": [
    {
     "data": {
      "text/plain": [
       "(80.4869, 2500)"
      ]
     },
     "execution_count": 130,
     "metadata": {},
     "output_type": "execute_result"
    }
   ],
   "source": [
    "thre4, cost4"
   ]
  },
  {
   "cell_type": "code",
   "execution_count": 131,
   "id": "7876ee3e-6f78-493d-bc6d-3bca9d79e65b",
   "metadata": {},
   "outputs": [
    {
     "name": "stdout",
     "output_type": "stream",
     "text": [
      "< confusion matrix >\n",
      "\n",
      "[[3485    1]\n",
      " [  25    0]]\n",
      "\n",
      "============================================================\n",
      "\n",
      "< classification_report >\n",
      "\n",
      "              precision    recall  f1-score   support\n",
      "\n",
      "           0       0.99      1.00      1.00      3486\n",
      "           1       0.00      0.00      0.00        25\n",
      "\n",
      "    accuracy                           0.99      3511\n",
      "   macro avg       0.50      0.50      0.50      3511\n",
      "weighted avg       0.99      0.99      0.99      3511\n",
      "\n"
     ]
    }
   ],
   "source": [
    "classification_report_with_cm(result2['True_class'], result2['Recon_error'], thre4)"
   ]
  },
  {
   "cell_type": "code",
   "execution_count": 132,
   "id": "afe98bc5-c8f6-4246-9570-072d82d036ba",
   "metadata": {},
   "outputs": [
    {
     "data": {
      "image/png": "[encoded data removed]",
      "text/plain": [
       "<Figure size 432x288 with 1 Axes>"
      ]
     },
     "metadata": {
      "needs_background": "light"
     },
     "output_type": "display_data"
    }
   ],
   "source": [
    "recon_err_plot(result2, thre4)"
   ]
  },
  {
   "cell_type": "code",
   "execution_count": 133,
   "id": "bf4d570a-7194-4996-91e0-2c54a6280179",
   "metadata": {},
   "outputs": [
    {
     "data": {
      "text/plain": [
       "0"
      ]
     },
     "execution_count": 133,
     "metadata": {},
     "output_type": "execute_result"
    }
   ],
   "source": [
    "base_cost - cost4"
   ]
  },
  {
   "cell_type": "code",
   "execution_count": null,
   "id": "1e27a047-a1e8-432e-8c12-1f59a1915335",
   "metadata": {},
   "outputs": [],
   "source": []
  }
 ],
 "metadata": {
  "kernelspec": {
   "display_name": "Python 3 (ipykernel)",
   "language": "python",
   "name": "python3"
  },
  "language_info": {
   "codemirror_mode": {
    "name": "ipython",
    "version": 3
   },
   "file_extension": ".py",
   "mimetype": "text/x-python",
   "name": "python",
   "nbconvert_exporter": "python",
   "pygments_lexer": "ipython3",
   "version": "3.8.10"
  }
 },
 "nbformat": 4,
 "nbformat_minor": 5
}
